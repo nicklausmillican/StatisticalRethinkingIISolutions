{
  "nbformat": 4,
  "nbformat_minor": 0,
  "metadata": {
    "colab": {
      "provenance": [],
      "toc_visible": true,
      "authorship_tag": "ABX9TyMwoaBCJd9KHb/lWDQCpStB",
      "include_colab_link": true
    },
    "kernelspec": {
      "name": "ir",
      "display_name": "R"
    },
    "language_info": {
      "name": "R"
    }
  },
  "cells": [
    {
      "cell_type": "markdown",
      "metadata": {
        "id": "view-in-github",
        "colab_type": "text"
      },
      "source": [
        "<a href=\"https://colab.research.google.com/github/nicklausmillican/StatisticalRethinkingIISolutions/blob/main/StatisticalRethinkingSolutions2_Ch11.ipynb\" target=\"_parent\"><img src=\"https://colab.research.google.com/assets/colab-badge.svg\" alt=\"Open In Colab\"/></a>"
      ]
    },
    {
      "cell_type": "code",
      "source": [
        "# Checking versions of g++ and make\n",
        "system(\"g++ --version\", intern = TRUE)\n",
        "system(\"make --version\", intern = TRUE)\n",
        "\n",
        "# Install g++ and make if needed\n",
        "system(\"sudo apt install g++\", intern = TRUE)\n",
        "system(\"sudo apt install make\", intern = TRUE)\n"
      ],
      "metadata": {
        "colab": {
          "base_uri": "https://localhost:8080/",
          "height": 191
        },
        "id": "6nmEQndWT8cK",
        "outputId": "023e1729-00f0-47c9-b3d7-5386e5008b43"
      },
      "execution_count": 1,
      "outputs": [
        {
          "output_type": "display_data",
          "data": {
            "text/html": [
              "<style>\n",
              ".list-inline {list-style: none; margin:0; padding: 0}\n",
              ".list-inline>li {display: inline-block}\n",
              ".list-inline>li:not(:last-child)::after {content: \"\\00b7\"; padding: 0 .5ex}\n",
              "</style>\n",
              "<ol class=list-inline><li>'g++ (Ubuntu 11.4.0-1ubuntu1~22.04) 11.4.0'</li><li>'Copyright (C) 2021 Free Software Foundation, Inc.'</li><li><span style=white-space:pre-wrap>'This is free software; see the source for copying conditions.  There is NO'</span></li><li>'warranty; not even for MERCHANTABILITY or FITNESS FOR A PARTICULAR PURPOSE.'</li><li>''</li></ol>\n"
            ],
            "text/markdown": "1. 'g++ (Ubuntu 11.4.0-1ubuntu1~22.04) 11.4.0'\n2. 'Copyright (C) 2021 Free Software Foundation, Inc.'\n3. <span style=white-space:pre-wrap>'This is free software; see the source for copying conditions.  There is NO'</span>\n4. 'warranty; not even for MERCHANTABILITY or FITNESS FOR A PARTICULAR PURPOSE.'\n5. ''\n\n\n",
            "text/latex": "\\begin{enumerate*}\n\\item 'g++ (Ubuntu 11.4.0-1ubuntu1\\textasciitilde{}22.04) 11.4.0'\n\\item 'Copyright (C) 2021 Free Software Foundation, Inc.'\n\\item 'This is free software; see the source for copying conditions.  There is NO'\n\\item 'warranty; not even for MERCHANTABILITY or FITNESS FOR A PARTICULAR PURPOSE.'\n\\item ''\n\\end{enumerate*}\n",
            "text/plain": [
              "[1] \"g++ (Ubuntu 11.4.0-1ubuntu1~22.04) 11.4.0\"                                  \n",
              "[2] \"Copyright (C) 2021 Free Software Foundation, Inc.\"                          \n",
              "[3] \"This is free software; see the source for copying conditions.  There is NO\" \n",
              "[4] \"warranty; not even for MERCHANTABILITY or FITNESS FOR A PARTICULAR PURPOSE.\"\n",
              "[5] \"\"                                                                           "
            ]
          },
          "metadata": {}
        },
        {
          "output_type": "display_data",
          "data": {
            "text/html": [
              "<style>\n",
              ".list-inline {list-style: none; margin:0; padding: 0}\n",
              ".list-inline>li {display: inline-block}\n",
              ".list-inline>li:not(:last-child)::after {content: \"\\00b7\"; padding: 0 .5ex}\n",
              "</style>\n",
              "<ol class=list-inline><li>'GNU Make 4.3'</li><li>'Built for x86_64-pc-linux-gnu'</li><li>'Copyright (C) 1988-2020 Free Software Foundation, Inc.'</li><li>'License GPLv3+: GNU GPL version 3 or later &lt;http://gnu.org/licenses/gpl.html&gt;'</li><li>'This is free software: you are free to change and redistribute it.'</li><li>'There is NO WARRANTY, to the extent permitted by law.'</li></ol>\n"
            ],
            "text/markdown": "1. 'GNU Make 4.3'\n2. 'Built for x86_64-pc-linux-gnu'\n3. 'Copyright (C) 1988-2020 Free Software Foundation, Inc.'\n4. 'License GPLv3+: GNU GPL version 3 or later &lt;http://gnu.org/licenses/gpl.html&gt;'\n5. 'This is free software: you are free to change and redistribute it.'\n6. 'There is NO WARRANTY, to the extent permitted by law.'\n\n\n",
            "text/latex": "\\begin{enumerate*}\n\\item 'GNU Make 4.3'\n\\item 'Built for x86\\_64-pc-linux-gnu'\n\\item 'Copyright (C) 1988-2020 Free Software Foundation, Inc.'\n\\item 'License GPLv3+: GNU GPL version 3 or later <http://gnu.org/licenses/gpl.html>'\n\\item 'This is free software: you are free to change and redistribute it.'\n\\item 'There is NO WARRANTY, to the extent permitted by law.'\n\\end{enumerate*}\n",
            "text/plain": [
              "[1] \"GNU Make 4.3\"                                                                 \n",
              "[2] \"Built for x86_64-pc-linux-gnu\"                                                \n",
              "[3] \"Copyright (C) 1988-2020 Free Software Foundation, Inc.\"                       \n",
              "[4] \"License GPLv3+: GNU GPL version 3 or later <http://gnu.org/licenses/gpl.html>\"\n",
              "[5] \"This is free software: you are free to change and redistribute it.\"           \n",
              "[6] \"There is NO WARRANTY, to the extent permitted by law.\"                        "
            ]
          },
          "metadata": {}
        },
        {
          "output_type": "display_data",
          "data": {
            "text/html": [
              "<style>\n",
              ".list-inline {list-style: none; margin:0; padding: 0}\n",
              ".list-inline>li {display: inline-block}\n",
              ".list-inline>li:not(:last-child)::after {content: \"\\00b7\"; padding: 0 .5ex}\n",
              "</style>\n",
              "<ol class=list-inline><li>'Reading package lists...'</li><li>'Building dependency tree...'</li><li>'Reading state information...'</li><li>'g++ is already the newest version (4:11.2.0-1ubuntu1).'</li><li>'g++ set to manually installed.'</li><li>'0 upgraded, 0 newly installed, 0 to remove and 45 not upgraded.'</li></ol>\n"
            ],
            "text/markdown": "1. 'Reading package lists...'\n2. 'Building dependency tree...'\n3. 'Reading state information...'\n4. 'g++ is already the newest version (4:11.2.0-1ubuntu1).'\n5. 'g++ set to manually installed.'\n6. '0 upgraded, 0 newly installed, 0 to remove and 45 not upgraded.'\n\n\n",
            "text/latex": "\\begin{enumerate*}\n\\item 'Reading package lists...'\n\\item 'Building dependency tree...'\n\\item 'Reading state information...'\n\\item 'g++ is already the newest version (4:11.2.0-1ubuntu1).'\n\\item 'g++ set to manually installed.'\n\\item '0 upgraded, 0 newly installed, 0 to remove and 45 not upgraded.'\n\\end{enumerate*}\n",
            "text/plain": [
              "[1] \"Reading package lists...\"                                       \n",
              "[2] \"Building dependency tree...\"                                    \n",
              "[3] \"Reading state information...\"                                   \n",
              "[4] \"g++ is already the newest version (4:11.2.0-1ubuntu1).\"         \n",
              "[5] \"g++ set to manually installed.\"                                 \n",
              "[6] \"0 upgraded, 0 newly installed, 0 to remove and 45 not upgraded.\""
            ]
          },
          "metadata": {}
        },
        {
          "output_type": "display_data",
          "data": {
            "text/html": [
              "<style>\n",
              ".list-inline {list-style: none; margin:0; padding: 0}\n",
              ".list-inline>li {display: inline-block}\n",
              ".list-inline>li:not(:last-child)::after {content: \"\\00b7\"; padding: 0 .5ex}\n",
              "</style>\n",
              "<ol class=list-inline><li>'Reading package lists...'</li><li>'Building dependency tree...'</li><li>'Reading state information...'</li><li>'make is already the newest version (4.3-4.1build1).'</li><li>'make set to manually installed.'</li><li>'0 upgraded, 0 newly installed, 0 to remove and 45 not upgraded.'</li></ol>\n"
            ],
            "text/markdown": "1. 'Reading package lists...'\n2. 'Building dependency tree...'\n3. 'Reading state information...'\n4. 'make is already the newest version (4.3-4.1build1).'\n5. 'make set to manually installed.'\n6. '0 upgraded, 0 newly installed, 0 to remove and 45 not upgraded.'\n\n\n",
            "text/latex": "\\begin{enumerate*}\n\\item 'Reading package lists...'\n\\item 'Building dependency tree...'\n\\item 'Reading state information...'\n\\item 'make is already the newest version (4.3-4.1build1).'\n\\item 'make set to manually installed.'\n\\item '0 upgraded, 0 newly installed, 0 to remove and 45 not upgraded.'\n\\end{enumerate*}\n",
            "text/plain": [
              "[1] \"Reading package lists...\"                                       \n",
              "[2] \"Building dependency tree...\"                                    \n",
              "[3] \"Reading state information...\"                                   \n",
              "[4] \"make is already the newest version (4.3-4.1build1).\"            \n",
              "[5] \"make set to manually installed.\"                                \n",
              "[6] \"0 upgraded, 0 newly installed, 0 to remove and 45 not upgraded.\""
            ]
          },
          "metadata": {}
        }
      ]
    },
    {
      "cell_type": "code",
      "source": [
        "# Install cmdstanr from GitHub\n",
        "if (!require(cmdstanr)) {\n",
        "  devtools::install_github(\"stan-dev/cmdstanr\")\n",
        "}\n",
        "\n",
        "# Set up CmdStan if it's not already set up\n",
        "library(cmdstanr)\n",
        "if (!cmdstanr::cmdstan_version()) {\n",
        "  cmdstanr::install_cmdstan()\n",
        "}\n",
        "\n",
        "# Verify installation\n",
        "cmdstanr::check_cmdstan_toolchain()\n"
      ],
      "metadata": {
        "colab": {
          "base_uri": "https://localhost:8080/",
          "height": 818
        },
        "id": "xy8UnK1uUOmt",
        "outputId": "f4b6d353-dc67-4971-f5cd-abc91d7cfd9f"
      },
      "execution_count": 2,
      "outputs": [
        {
          "output_type": "stream",
          "name": "stderr",
          "text": [
            "Loading required package: cmdstanr\n",
            "\n",
            "Warning message in library(package, lib.loc = lib.loc, character.only = TRUE, logical.return = TRUE, :\n",
            "“there is no package called ‘cmdstanr’”\n",
            "Downloading GitHub repo stan-dev/cmdstanr@HEAD\n",
            "\n"
          ]
        },
        {
          "output_type": "stream",
          "name": "stdout",
          "text": [
            "numDeriv     (NA -> 2016.8-1.1) [CRAN]\n",
            "matrixStats  (NA -> 1.3.0     ) [CRAN]\n",
            "distribut... (NA -> 0.4.0     ) [CRAN]\n",
            "tensorA      (NA -> 0.36.2.1  ) [CRAN]\n",
            "checkmate    (NA -> 2.3.2     ) [CRAN]\n",
            "abind        (NA -> 1.4-5     ) [CRAN]\n",
            "posterior    (NA -> 1.6.0     ) [CRAN]\n"
          ]
        },
        {
          "output_type": "stream",
          "name": "stderr",
          "text": [
            "Installing 7 packages: numDeriv, matrixStats, distributional, tensorA, checkmate, abind, posterior\n",
            "\n",
            "Installing packages into ‘/usr/local/lib/R/site-library’\n",
            "(as ‘lib’ is unspecified)\n",
            "\n"
          ]
        },
        {
          "output_type": "stream",
          "name": "stdout",
          "text": [
            "\u001b[36m──\u001b[39m \u001b[36mR CMD build\u001b[39m \u001b[36m─────────────────────────────────────────────────────────────────\u001b[39m\n",
            "* checking for file ‘/tmp/Rtmpsw8qSo/remotes9e4335e418/stan-dev-cmdstanr-f2e152b/DESCRIPTION’ ... OK\n",
            "* preparing ‘cmdstanr’:\n",
            "* checking DESCRIPTION meta-information ... OK\n",
            "* checking for LF line-endings in source and make files and shell scripts\n",
            "* checking for empty or unneeded directories\n",
            "Omitted ‘LazyData’ from DESCRIPTION\n",
            "* building ‘cmdstanr_0.8.1.9000.tar.gz’\n",
            "\n"
          ]
        },
        {
          "output_type": "stream",
          "name": "stderr",
          "text": [
            "Installing package into ‘/usr/local/lib/R/site-library’\n",
            "(as ‘lib’ is unspecified)\n",
            "\n",
            "This is cmdstanr version 0.8.1.9000\n",
            "\n",
            "- CmdStanR documentation and vignettes: mc-stan.org/cmdstanr\n",
            "\n",
            "- Use set_cmdstan_path() to set the path to CmdStan\n",
            "\n",
            "- Use install_cmdstan() to install CmdStan\n",
            "\n"
          ]
        },
        {
          "output_type": "error",
          "ename": "ERROR",
          "evalue": "Error: CmdStan path has not been set yet. See ?set_cmdstan_path.\n",
          "traceback": [
            "Error: CmdStan path has not been set yet. See ?set_cmdstan_path.\nTraceback:\n",
            "1. cmdstanr::cmdstan_version()",
            "2. stop_no_path()",
            "3. stop(\"CmdStan path has not been set yet. See ?set_cmdstan_path.\", \n .     call. = FALSE)"
          ]
        }
      ]
    },
    {
      "cell_type": "markdown",
      "source": [
        "IF YOU ENCOUNTER AN ERROR, JUST KEEP RUNNING CODE BELOW."
      ],
      "metadata": {
        "id": "5PjVh-uhxvy3"
      }
    },
    {
      "cell_type": "code",
      "source": [
        "# Install CmdStan using cmdstanr\n",
        "library(cmdstanr)\n",
        "cmdstanr::install_cmdstan()\n",
        "\n",
        "# After installation, set the CmdStan path\n",
        "cmdstan_path <- cmdstanr::cmdstan_path()\n",
        "cmdstanr::set_cmdstan_path(cmdstan_path)\n",
        "\n",
        "# Verify the installation\n",
        "cmdstanr::cmdstan_version()\n"
      ],
      "metadata": {
        "colab": {
          "base_uri": "https://localhost:8080/",
          "height": 1000
        },
        "id": "QWIdvClbVP9g",
        "outputId": "4fb58b8c-6db0-49e7-f366-5c5b0ccb4e36"
      },
      "execution_count": 3,
      "outputs": [
        {
          "output_type": "stream",
          "name": "stderr",
          "text": [
            "The C++ toolchain required for CmdStan is setup properly!\n",
            "\n",
            "* Latest CmdStan release is v2.35.0\n",
            "\n",
            "* Installing CmdStan v2.35.0 in /root/.cmdstan/cmdstan-2.35.0\n",
            "\n",
            "* Downloading cmdstan-2.35.0.tar.gz from GitHub...\n",
            "\n",
            "* Download complete\n",
            "\n",
            "* Unpacking archive...\n",
            "\n",
            "* Building CmdStan binaries...\n",
            "\n"
          ]
        },
        {
          "output_type": "stream",
          "name": "stdout",
          "text": [
            "cp bin/linux-stanc bin/stanc\n",
            "g++ -pipe   -pthread -D_REENTRANT  -O3 -I stan/lib/stan_math/lib/sundials_6.1.1/include -I stan/lib/stan_math/lib/sundials_6.1.1/src/sundials -DNO_FPRINTF_OUTPUT     -O3  -c -x c -include stan/lib/stan_math/lib/sundials_6.1.1/include/stan_sundials_printf_override.hpp stan/lib/stan_math/lib/sundials_6.1.1/src/nvector/serial/nvector_serial.c -o stan/lib/stan_math/lib/sundials_6.1.1/src/nvector/serial/nvector_serial.o\n",
            "chmod +x bin/stanc\n",
            "g++ -pipe   -pthread -D_REENTRANT  -O3 -I stan/lib/stan_math/lib/sundials_6.1.1/include -I stan/lib/stan_math/lib/sundials_6.1.1/src/sundials -DNO_FPRINTF_OUTPUT     -O3  -c -x c -include stan/lib/stan_math/lib/sundials_6.1.1/include/stan_sundials_printf_override.hpp stan/lib/stan_math/lib/sundials_6.1.1/src/sundials/sundials_math.c -o stan/lib/stan_math/lib/sundials_6.1.1/src/sundials/sundials_math.o\n",
            "g++ -pipe   -pthread -D_REENTRANT  -O3 -I stan/lib/stan_math/lib/sundials_6.1.1/include -I stan/lib/stan_math/lib/sundials_6.1.1/src/sundials -DNO_FPRINTF_OUTPUT     -O3  -c -x c -include stan/lib/stan_math/lib/sundials_6.1.1/include/stan_sundials_printf_override.hpp stan/lib/stan_math/lib/sundials_6.1.1/src/cvodes/cvodea.c -o stan/lib/stan_math/lib/sundials_6.1.1/src/cvodes/cvodea.o\n",
            "g++ -pipe   -pthread -D_REENTRANT  -O3 -I stan/lib/stan_math/lib/sundials_6.1.1/include -I stan/lib/stan_math/lib/sundials_6.1.1/src/sundials -DNO_FPRINTF_OUTPUT     -O3  -c -x c -include stan/lib/stan_math/lib/sundials_6.1.1/include/stan_sundials_printf_override.hpp stan/lib/stan_math/lib/sundials_6.1.1/src/cvodes/cvodea_io.c -o stan/lib/stan_math/lib/sundials_6.1.1/src/cvodes/cvodea_io.o\n",
            "g++ -pipe   -pthread -D_REENTRANT  -O3 -I stan/lib/stan_math/lib/sundials_6.1.1/include -I stan/lib/stan_math/lib/sundials_6.1.1/src/sundials -DNO_FPRINTF_OUTPUT     -O3  -c -x c -include stan/lib/stan_math/lib/sundials_6.1.1/include/stan_sundials_printf_override.hpp stan/lib/stan_math/lib/sundials_6.1.1/src/cvodes/cvodes_bandpre.c -o stan/lib/stan_math/lib/sundials_6.1.1/src/cvodes/cvodes_bandpre.o\n",
            "g++ -pipe   -pthread -D_REENTRANT  -O3 -I stan/lib/stan_math/lib/sundials_6.1.1/include -I stan/lib/stan_math/lib/sundials_6.1.1/src/sundials -DNO_FPRINTF_OUTPUT     -O3  -c -x c -include stan/lib/stan_math/lib/sundials_6.1.1/include/stan_sundials_printf_override.hpp stan/lib/stan_math/lib/sundials_6.1.1/src/cvodes/cvodes_bbdpre.c -o stan/lib/stan_math/lib/sundials_6.1.1/src/cvodes/cvodes_bbdpre.o\n",
            "g++ -pipe   -pthread -D_REENTRANT  -O3 -I stan/lib/stan_math/lib/sundials_6.1.1/include -I stan/lib/stan_math/lib/sundials_6.1.1/src/sundials -DNO_FPRINTF_OUTPUT     -O3  -c -x c -include stan/lib/stan_math/lib/sundials_6.1.1/include/stan_sundials_printf_override.hpp stan/lib/stan_math/lib/sundials_6.1.1/src/cvodes/cvodes.c -o stan/lib/stan_math/lib/sundials_6.1.1/src/cvodes/cvodes.o\n",
            "g++ -pipe   -pthread -D_REENTRANT  -O3 -I stan/lib/stan_math/lib/sundials_6.1.1/include -I stan/lib/stan_math/lib/sundials_6.1.1/src/sundials -DNO_FPRINTF_OUTPUT     -O3  -c -x c -include stan/lib/stan_math/lib/sundials_6.1.1/include/stan_sundials_printf_override.hpp stan/lib/stan_math/lib/sundials_6.1.1/src/cvodes/cvodes_diag.c -o stan/lib/stan_math/lib/sundials_6.1.1/src/cvodes/cvodes_diag.o\n",
            "g++ -pipe   -pthread -D_REENTRANT  -O3 -I stan/lib/stan_math/lib/sundials_6.1.1/include -I stan/lib/stan_math/lib/sundials_6.1.1/src/sundials -DNO_FPRINTF_OUTPUT     -O3  -c -x c -include stan/lib/stan_math/lib/sundials_6.1.1/include/stan_sundials_printf_override.hpp stan/lib/stan_math/lib/sundials_6.1.1/src/cvodes/cvodes_direct.c -o stan/lib/stan_math/lib/sundials_6.1.1/src/cvodes/cvodes_direct.o\n",
            "g++ -pipe   -pthread -D_REENTRANT  -O3 -I stan/lib/stan_math/lib/sundials_6.1.1/include -I stan/lib/stan_math/lib/sundials_6.1.1/src/sundials -DNO_FPRINTF_OUTPUT     -O3  -c -x c -include stan/lib/stan_math/lib/sundials_6.1.1/include/stan_sundials_printf_override.hpp stan/lib/stan_math/lib/sundials_6.1.1/src/cvodes/cvodes_io.c -o stan/lib/stan_math/lib/sundials_6.1.1/src/cvodes/cvodes_io.o\n",
            "g++ -pipe   -pthread -D_REENTRANT  -O3 -I stan/lib/stan_math/lib/sundials_6.1.1/include -I stan/lib/stan_math/lib/sundials_6.1.1/src/sundials -DNO_FPRINTF_OUTPUT     -O3  -c -x c -include stan/lib/stan_math/lib/sundials_6.1.1/include/stan_sundials_printf_override.hpp stan/lib/stan_math/lib/sundials_6.1.1/src/cvodes/cvodes_ls.c -o stan/lib/stan_math/lib/sundials_6.1.1/src/cvodes/cvodes_ls.o\n",
            "g++ -pipe   -pthread -D_REENTRANT  -O3 -I stan/lib/stan_math/lib/sundials_6.1.1/include -I stan/lib/stan_math/lib/sundials_6.1.1/src/sundials -DNO_FPRINTF_OUTPUT     -O3  -c -x c -include stan/lib/stan_math/lib/sundials_6.1.1/include/stan_sundials_printf_override.hpp stan/lib/stan_math/lib/sundials_6.1.1/src/cvodes/cvodes_nls.c -o stan/lib/stan_math/lib/sundials_6.1.1/src/cvodes/cvodes_nls.o\n",
            "g++ -pipe   -pthread -D_REENTRANT  -O3 -I stan/lib/stan_math/lib/sundials_6.1.1/include -I stan/lib/stan_math/lib/sundials_6.1.1/src/sundials -DNO_FPRINTF_OUTPUT     -O3  -c -x c -include stan/lib/stan_math/lib/sundials_6.1.1/include/stan_sundials_printf_override.hpp stan/lib/stan_math/lib/sundials_6.1.1/src/cvodes/cvodes_nls_sim.c -o stan/lib/stan_math/lib/sundials_6.1.1/src/cvodes/cvodes_nls_sim.o\n",
            "g++ -pipe   -pthread -D_REENTRANT  -O3 -I stan/lib/stan_math/lib/sundials_6.1.1/include -I stan/lib/stan_math/lib/sundials_6.1.1/src/sundials -DNO_FPRINTF_OUTPUT     -O3  -c -x c -include stan/lib/stan_math/lib/sundials_6.1.1/include/stan_sundials_printf_override.hpp stan/lib/stan_math/lib/sundials_6.1.1/src/cvodes/cvodes_nls_stg1.c -o stan/lib/stan_math/lib/sundials_6.1.1/src/cvodes/cvodes_nls_stg1.o\n",
            "g++ -pipe   -pthread -D_REENTRANT  -O3 -I stan/lib/stan_math/lib/sundials_6.1.1/include -I stan/lib/stan_math/lib/sundials_6.1.1/src/sundials -DNO_FPRINTF_OUTPUT     -O3  -c -x c -include stan/lib/stan_math/lib/sundials_6.1.1/include/stan_sundials_printf_override.hpp stan/lib/stan_math/lib/sundials_6.1.1/src/cvodes/cvodes_nls_stg.c -o stan/lib/stan_math/lib/sundials_6.1.1/src/cvodes/cvodes_nls_stg.o\n",
            "g++ -pipe   -pthread -D_REENTRANT  -O3 -I stan/lib/stan_math/lib/sundials_6.1.1/include -I stan/lib/stan_math/lib/sundials_6.1.1/src/sundials -DNO_FPRINTF_OUTPUT     -O3  -c -x c -include stan/lib/stan_math/lib/sundials_6.1.1/include/stan_sundials_printf_override.hpp stan/lib/stan_math/lib/sundials_6.1.1/src/cvodes/cvodes_spils.c -o stan/lib/stan_math/lib/sundials_6.1.1/src/cvodes/cvodes_spils.o\n",
            "g++ -pipe   -pthread -D_REENTRANT  -O3 -I stan/lib/stan_math/lib/sundials_6.1.1/include -I stan/lib/stan_math/lib/sundials_6.1.1/src/sundials -DNO_FPRINTF_OUTPUT     -O3  -c -x c -include stan/lib/stan_math/lib/sundials_6.1.1/include/stan_sundials_printf_override.hpp stan/lib/stan_math/lib/sundials_6.1.1/src/sundials/sundials_band.c -o stan/lib/stan_math/lib/sundials_6.1.1/src/sundials/sundials_band.o\n",
            "g++ -pipe   -pthread -D_REENTRANT  -O3 -I stan/lib/stan_math/lib/sundials_6.1.1/include -I stan/lib/stan_math/lib/sundials_6.1.1/src/sundials -DNO_FPRINTF_OUTPUT     -O3  -c -x c -include stan/lib/stan_math/lib/sundials_6.1.1/include/stan_sundials_printf_override.hpp stan/lib/stan_math/lib/sundials_6.1.1/src/sundials/sundials_context.c -o stan/lib/stan_math/lib/sundials_6.1.1/src/sundials/sundials_context.o\n",
            "g++ -pipe   -pthread -D_REENTRANT  -O3 -I stan/lib/stan_math/lib/sundials_6.1.1/include -I stan/lib/stan_math/lib/sundials_6.1.1/src/sundials -DNO_FPRINTF_OUTPUT     -O3  -c -x c -include stan/lib/stan_math/lib/sundials_6.1.1/include/stan_sundials_printf_override.hpp stan/lib/stan_math/lib/sundials_6.1.1/src/sundials/sundials_dense.c -o stan/lib/stan_math/lib/sundials_6.1.1/src/sundials/sundials_dense.o\n",
            "g++ -pipe   -pthread -D_REENTRANT  -O3 -I stan/lib/stan_math/lib/sundials_6.1.1/include -I stan/lib/stan_math/lib/sundials_6.1.1/src/sundials -DNO_FPRINTF_OUTPUT     -O3  -c -x c -include stan/lib/stan_math/lib/sundials_6.1.1/include/stan_sundials_printf_override.hpp stan/lib/stan_math/lib/sundials_6.1.1/src/sundials/sundials_direct.c -o stan/lib/stan_math/lib/sundials_6.1.1/src/sundials/sundials_direct.o\n",
            "g++ -pipe   -pthread -D_REENTRANT  -O3 -I stan/lib/stan_math/lib/sundials_6.1.1/include -I stan/lib/stan_math/lib/sundials_6.1.1/src/sundials -DNO_FPRINTF_OUTPUT     -O3  -c -x c -include stan/lib/stan_math/lib/sundials_6.1.1/include/stan_sundials_printf_override.hpp stan/lib/stan_math/lib/sundials_6.1.1/src/sundials/sundials_futils.c -o stan/lib/stan_math/lib/sundials_6.1.1/src/sundials/sundials_futils.o\n",
            "g++ -pipe   -pthread -D_REENTRANT  -O3 -I stan/lib/stan_math/lib/sundials_6.1.1/include -I stan/lib/stan_math/lib/sundials_6.1.1/src/sundials -DNO_FPRINTF_OUTPUT     -O3  -c -x c -include stan/lib/stan_math/lib/sundials_6.1.1/include/stan_sundials_printf_override.hpp stan/lib/stan_math/lib/sundials_6.1.1/src/sundials/sundials_iterative.c -o stan/lib/stan_math/lib/sundials_6.1.1/src/sundials/sundials_iterative.o\n",
            "g++ -pipe   -pthread -D_REENTRANT  -O3 -I stan/lib/stan_math/lib/sundials_6.1.1/include -I stan/lib/stan_math/lib/sundials_6.1.1/src/sundials -DNO_FPRINTF_OUTPUT     -O3  -c -x c -include stan/lib/stan_math/lib/sundials_6.1.1/include/stan_sundials_printf_override.hpp stan/lib/stan_math/lib/sundials_6.1.1/src/sundials/sundials_linearsolver.c -o stan/lib/stan_math/lib/sundials_6.1.1/src/sundials/sundials_linearsolver.o\n",
            "g++ -pipe   -pthread -D_REENTRANT  -O3 -I stan/lib/stan_math/lib/sundials_6.1.1/include -I stan/lib/stan_math/lib/sundials_6.1.1/src/sundials -DNO_FPRINTF_OUTPUT     -O3  -c -x c -include stan/lib/stan_math/lib/sundials_6.1.1/include/stan_sundials_printf_override.hpp stan/lib/stan_math/lib/sundials_6.1.1/src/sundials/sundials_matrix.c -o stan/lib/stan_math/lib/sundials_6.1.1/src/sundials/sundials_matrix.o\n",
            "g++ -pipe   -pthread -D_REENTRANT  -O3 -I stan/lib/stan_math/lib/sundials_6.1.1/include -I stan/lib/stan_math/lib/sundials_6.1.1/src/sundials -DNO_FPRINTF_OUTPUT     -O3  -c -x c -include stan/lib/stan_math/lib/sundials_6.1.1/include/stan_sundials_printf_override.hpp stan/lib/stan_math/lib/sundials_6.1.1/src/sundials/sundials_memory.c -o stan/lib/stan_math/lib/sundials_6.1.1/src/sundials/sundials_memory.o\n",
            "g++ -pipe   -pthread -D_REENTRANT  -O3 -I stan/lib/stan_math/lib/sundials_6.1.1/include -I stan/lib/stan_math/lib/sundials_6.1.1/src/sundials -DNO_FPRINTF_OUTPUT     -O3  -c -x c -include stan/lib/stan_math/lib/sundials_6.1.1/include/stan_sundials_printf_override.hpp stan/lib/stan_math/lib/sundials_6.1.1/src/sundials/sundials_nonlinearsolver.c -o stan/lib/stan_math/lib/sundials_6.1.1/src/sundials/sundials_nonlinearsolver.o\n",
            "g++ -pipe   -pthread -D_REENTRANT  -O3 -I stan/lib/stan_math/lib/sundials_6.1.1/include -I stan/lib/stan_math/lib/sundials_6.1.1/src/sundials -DNO_FPRINTF_OUTPUT     -O3  -c -x c -include stan/lib/stan_math/lib/sundials_6.1.1/include/stan_sundials_printf_override.hpp stan/lib/stan_math/lib/sundials_6.1.1/src/sundials/sundials_nvector.c -o stan/lib/stan_math/lib/sundials_6.1.1/src/sundials/sundials_nvector.o\n",
            "g++ -pipe   -pthread -D_REENTRANT  -O3 -I stan/lib/stan_math/lib/sundials_6.1.1/include -I stan/lib/stan_math/lib/sundials_6.1.1/src/sundials -DNO_FPRINTF_OUTPUT     -O3  -c -x c -include stan/lib/stan_math/lib/sundials_6.1.1/include/stan_sundials_printf_override.hpp stan/lib/stan_math/lib/sundials_6.1.1/src/sundials/sundials_nvector_senswrapper.c -o stan/lib/stan_math/lib/sundials_6.1.1/src/sundials/sundials_nvector_senswrapper.o\n",
            "g++ -pipe   -pthread -D_REENTRANT  -O3 -I stan/lib/stan_math/lib/sundials_6.1.1/include -I stan/lib/stan_math/lib/sundials_6.1.1/src/sundials -DNO_FPRINTF_OUTPUT     -O3  -c -x c -include stan/lib/stan_math/lib/sundials_6.1.1/include/stan_sundials_printf_override.hpp stan/lib/stan_math/lib/sundials_6.1.1/src/sundials/sundials_version.c -o stan/lib/stan_math/lib/sundials_6.1.1/src/sundials/sundials_version.o\n",
            "g++ -pipe   -pthread -D_REENTRANT  -O3 -I stan/lib/stan_math/lib/sundials_6.1.1/include -I stan/lib/stan_math/lib/sundials_6.1.1/src/sundials -DNO_FPRINTF_OUTPUT     -O3  -c -x c -include stan/lib/stan_math/lib/sundials_6.1.1/include/stan_sundials_printf_override.hpp stan/lib/stan_math/lib/sundials_6.1.1/src/sunmatrix/band/sunmatrix_band.c -o stan/lib/stan_math/lib/sundials_6.1.1/src/sunmatrix/band/sunmatrix_band.o\n",
            "g++ -pipe   -pthread -D_REENTRANT  -O3 -I stan/lib/stan_math/lib/sundials_6.1.1/include -I stan/lib/stan_math/lib/sundials_6.1.1/src/sundials -DNO_FPRINTF_OUTPUT     -O3  -c -x c -include stan/lib/stan_math/lib/sundials_6.1.1/include/stan_sundials_printf_override.hpp stan/lib/stan_math/lib/sundials_6.1.1/src/sunmatrix/dense/sunmatrix_dense.c -o stan/lib/stan_math/lib/sundials_6.1.1/src/sunmatrix/dense/sunmatrix_dense.o\n",
            "g++ -pipe   -pthread -D_REENTRANT  -O3 -I stan/lib/stan_math/lib/sundials_6.1.1/include -I stan/lib/stan_math/lib/sundials_6.1.1/src/sundials -DNO_FPRINTF_OUTPUT     -O3  -c -x c -include stan/lib/stan_math/lib/sundials_6.1.1/include/stan_sundials_printf_override.hpp stan/lib/stan_math/lib/sundials_6.1.1/src/sunlinsol/band/sunlinsol_band.c -o stan/lib/stan_math/lib/sundials_6.1.1/src/sunlinsol/band/sunlinsol_band.o\n",
            "g++ -pipe   -pthread -D_REENTRANT  -O3 -I stan/lib/stan_math/lib/sundials_6.1.1/include -I stan/lib/stan_math/lib/sundials_6.1.1/src/sundials -DNO_FPRINTF_OUTPUT     -O3  -c -x c -include stan/lib/stan_math/lib/sundials_6.1.1/include/stan_sundials_printf_override.hpp stan/lib/stan_math/lib/sundials_6.1.1/src/sunlinsol/dense/sunlinsol_dense.c -o stan/lib/stan_math/lib/sundials_6.1.1/src/sunlinsol/dense/sunlinsol_dense.o\n",
            "g++ -pipe   -pthread -D_REENTRANT  -O3 -I stan/lib/stan_math/lib/sundials_6.1.1/include -I stan/lib/stan_math/lib/sundials_6.1.1/src/sundials -DNO_FPRINTF_OUTPUT     -O3  -c -x c -include stan/lib/stan_math/lib/sundials_6.1.1/include/stan_sundials_printf_override.hpp stan/lib/stan_math/lib/sundials_6.1.1/src/sunnonlinsol/newton/sunnonlinsol_newton.c -o stan/lib/stan_math/lib/sundials_6.1.1/src/sunnonlinsol/newton/sunnonlinsol_newton.o\n",
            "g++ -pipe   -pthread -D_REENTRANT  -O3 -I stan/lib/stan_math/lib/sundials_6.1.1/include -I stan/lib/stan_math/lib/sundials_6.1.1/src/sundials -DNO_FPRINTF_OUTPUT     -O3  -c -x c -include stan/lib/stan_math/lib/sundials_6.1.1/include/stan_sundials_printf_override.hpp stan/lib/stan_math/lib/sundials_6.1.1/src/sunnonlinsol/fixedpoint/sunnonlinsol_fixedpoint.c -o stan/lib/stan_math/lib/sundials_6.1.1/src/sunnonlinsol/fixedpoint/sunnonlinsol_fixedpoint.o\n",
            "g++ -pipe   -pthread -D_REENTRANT  -O3 -I stan/lib/stan_math/lib/sundials_6.1.1/include -I stan/lib/stan_math/lib/sundials_6.1.1/src/sundials -DNO_FPRINTF_OUTPUT     -O3  -c -x c -include stan/lib/stan_math/lib/sundials_6.1.1/include/stan_sundials_printf_override.hpp stan/lib/stan_math/lib/sundials_6.1.1/src/idas/idaa.c -o stan/lib/stan_math/lib/sundials_6.1.1/src/idas/idaa.o\n",
            "g++ -pipe   -pthread -D_REENTRANT  -O3 -I stan/lib/stan_math/lib/sundials_6.1.1/include -I stan/lib/stan_math/lib/sundials_6.1.1/src/sundials -DNO_FPRINTF_OUTPUT     -O3  -c -x c -include stan/lib/stan_math/lib/sundials_6.1.1/include/stan_sundials_printf_override.hpp stan/lib/stan_math/lib/sundials_6.1.1/src/idas/idaa_io.c -o stan/lib/stan_math/lib/sundials_6.1.1/src/idas/idaa_io.o\n",
            "g++ -pipe   -pthread -D_REENTRANT  -O3 -I stan/lib/stan_math/lib/sundials_6.1.1/include -I stan/lib/stan_math/lib/sundials_6.1.1/src/sundials -DNO_FPRINTF_OUTPUT     -O3  -c -x c -include stan/lib/stan_math/lib/sundials_6.1.1/include/stan_sundials_printf_override.hpp stan/lib/stan_math/lib/sundials_6.1.1/src/idas/idas_bbdpre.c -o stan/lib/stan_math/lib/sundials_6.1.1/src/idas/idas_bbdpre.o\n",
            "g++ -pipe   -pthread -D_REENTRANT  -O3 -I stan/lib/stan_math/lib/sundials_6.1.1/include -I stan/lib/stan_math/lib/sundials_6.1.1/src/sundials -DNO_FPRINTF_OUTPUT     -O3  -c -x c -include stan/lib/stan_math/lib/sundials_6.1.1/include/stan_sundials_printf_override.hpp stan/lib/stan_math/lib/sundials_6.1.1/src/idas/idas.c -o stan/lib/stan_math/lib/sundials_6.1.1/src/idas/idas.o\n",
            "g++ -pipe   -pthread -D_REENTRANT  -O3 -I stan/lib/stan_math/lib/sundials_6.1.1/include -I stan/lib/stan_math/lib/sundials_6.1.1/src/sundials -DNO_FPRINTF_OUTPUT     -O3  -c -x c -include stan/lib/stan_math/lib/sundials_6.1.1/include/stan_sundials_printf_override.hpp stan/lib/stan_math/lib/sundials_6.1.1/src/idas/idas_direct.c -o stan/lib/stan_math/lib/sundials_6.1.1/src/idas/idas_direct.o\n",
            "g++ -pipe   -pthread -D_REENTRANT  -O3 -I stan/lib/stan_math/lib/sundials_6.1.1/include -I stan/lib/stan_math/lib/sundials_6.1.1/src/sundials -DNO_FPRINTF_OUTPUT     -O3  -c -x c -include stan/lib/stan_math/lib/sundials_6.1.1/include/stan_sundials_printf_override.hpp stan/lib/stan_math/lib/sundials_6.1.1/src/idas/idas_ic.c -o stan/lib/stan_math/lib/sundials_6.1.1/src/idas/idas_ic.o\n",
            "g++ -pipe   -pthread -D_REENTRANT  -O3 -I stan/lib/stan_math/lib/sundials_6.1.1/include -I stan/lib/stan_math/lib/sundials_6.1.1/src/sundials -DNO_FPRINTF_OUTPUT     -O3  -c -x c -include stan/lib/stan_math/lib/sundials_6.1.1/include/stan_sundials_printf_override.hpp stan/lib/stan_math/lib/sundials_6.1.1/src/idas/idas_io.c -o stan/lib/stan_math/lib/sundials_6.1.1/src/idas/idas_io.o\n",
            "g++ -pipe   -pthread -D_REENTRANT  -O3 -I stan/lib/stan_math/lib/sundials_6.1.1/include -I stan/lib/stan_math/lib/sundials_6.1.1/src/sundials -DNO_FPRINTF_OUTPUT     -O3  -c -x c -include stan/lib/stan_math/lib/sundials_6.1.1/include/stan_sundials_printf_override.hpp stan/lib/stan_math/lib/sundials_6.1.1/src/idas/idas_ls.c -o stan/lib/stan_math/lib/sundials_6.1.1/src/idas/idas_ls.o\n",
            "g++ -pipe   -pthread -D_REENTRANT  -O3 -I stan/lib/stan_math/lib/sundials_6.1.1/include -I stan/lib/stan_math/lib/sundials_6.1.1/src/sundials -DNO_FPRINTF_OUTPUT     -O3  -c -x c -include stan/lib/stan_math/lib/sundials_6.1.1/include/stan_sundials_printf_override.hpp stan/lib/stan_math/lib/sundials_6.1.1/src/idas/idas_nls.c -o stan/lib/stan_math/lib/sundials_6.1.1/src/idas/idas_nls.o\n",
            "g++ -pipe   -pthread -D_REENTRANT  -O3 -I stan/lib/stan_math/lib/sundials_6.1.1/include -I stan/lib/stan_math/lib/sundials_6.1.1/src/sundials -DNO_FPRINTF_OUTPUT     -O3  -c -x c -include stan/lib/stan_math/lib/sundials_6.1.1/include/stan_sundials_printf_override.hpp stan/lib/stan_math/lib/sundials_6.1.1/src/idas/idas_nls_sim.c -o stan/lib/stan_math/lib/sundials_6.1.1/src/idas/idas_nls_sim.o\n",
            "g++ -pipe   -pthread -D_REENTRANT  -O3 -I stan/lib/stan_math/lib/sundials_6.1.1/include -I stan/lib/stan_math/lib/sundials_6.1.1/src/sundials -DNO_FPRINTF_OUTPUT     -O3  -c -x c -include stan/lib/stan_math/lib/sundials_6.1.1/include/stan_sundials_printf_override.hpp stan/lib/stan_math/lib/sundials_6.1.1/src/idas/idas_nls_stg.c -o stan/lib/stan_math/lib/sundials_6.1.1/src/idas/idas_nls_stg.o\n",
            "g++ -pipe   -pthread -D_REENTRANT  -O3 -I stan/lib/stan_math/lib/sundials_6.1.1/include -I stan/lib/stan_math/lib/sundials_6.1.1/src/sundials -DNO_FPRINTF_OUTPUT     -O3  -c -x c -include stan/lib/stan_math/lib/sundials_6.1.1/include/stan_sundials_printf_override.hpp stan/lib/stan_math/lib/sundials_6.1.1/src/idas/idas_spils.c -o stan/lib/stan_math/lib/sundials_6.1.1/src/idas/idas_spils.o\n",
            "g++ -pipe   -pthread -D_REENTRANT  -O3 -I stan/lib/stan_math/lib/sundials_6.1.1/include -I stan/lib/stan_math/lib/sundials_6.1.1/src/sundials -DNO_FPRINTF_OUTPUT     -O3  -c -x c -include stan/lib/stan_math/lib/sundials_6.1.1/include/stan_sundials_printf_override.hpp stan/lib/stan_math/lib/sundials_6.1.1/src/kinsol/kinsol_bbdpre.c -o stan/lib/stan_math/lib/sundials_6.1.1/src/kinsol/kinsol_bbdpre.o\n",
            "g++ -pipe   -pthread -D_REENTRANT  -O3 -I stan/lib/stan_math/lib/sundials_6.1.1/include -I stan/lib/stan_math/lib/sundials_6.1.1/src/sundials -DNO_FPRINTF_OUTPUT     -O3  -c -x c -include stan/lib/stan_math/lib/sundials_6.1.1/include/stan_sundials_printf_override.hpp stan/lib/stan_math/lib/sundials_6.1.1/src/kinsol/kinsol.c -o stan/lib/stan_math/lib/sundials_6.1.1/src/kinsol/kinsol.o\n",
            "g++ -pipe   -pthread -D_REENTRANT  -O3 -I stan/lib/stan_math/lib/sundials_6.1.1/include -I stan/lib/stan_math/lib/sundials_6.1.1/src/sundials -DNO_FPRINTF_OUTPUT     -O3  -c -x c -include stan/lib/stan_math/lib/sundials_6.1.1/include/stan_sundials_printf_override.hpp stan/lib/stan_math/lib/sundials_6.1.1/src/kinsol/kinsol_direct.c -o stan/lib/stan_math/lib/sundials_6.1.1/src/kinsol/kinsol_direct.o\n",
            "g++ -pipe   -pthread -D_REENTRANT  -O3 -I stan/lib/stan_math/lib/sundials_6.1.1/include -I stan/lib/stan_math/lib/sundials_6.1.1/src/sundials -DNO_FPRINTF_OUTPUT     -O3  -c -x c -include stan/lib/stan_math/lib/sundials_6.1.1/include/stan_sundials_printf_override.hpp stan/lib/stan_math/lib/sundials_6.1.1/src/kinsol/kinsol_io.c -o stan/lib/stan_math/lib/sundials_6.1.1/src/kinsol/kinsol_io.o\n",
            "g++ -pipe   -pthread -D_REENTRANT  -O3 -I stan/lib/stan_math/lib/sundials_6.1.1/include -I stan/lib/stan_math/lib/sundials_6.1.1/src/sundials -DNO_FPRINTF_OUTPUT     -O3  -c -x c -include stan/lib/stan_math/lib/sundials_6.1.1/include/stan_sundials_printf_override.hpp stan/lib/stan_math/lib/sundials_6.1.1/src/kinsol/kinsol_ls.c -o stan/lib/stan_math/lib/sundials_6.1.1/src/kinsol/kinsol_ls.o\n",
            "g++ -pipe   -pthread -D_REENTRANT  -O3 -I stan/lib/stan_math/lib/sundials_6.1.1/include -I stan/lib/stan_math/lib/sundials_6.1.1/src/sundials -DNO_FPRINTF_OUTPUT     -O3  -c -x c -include stan/lib/stan_math/lib/sundials_6.1.1/include/stan_sundials_printf_override.hpp stan/lib/stan_math/lib/sundials_6.1.1/src/kinsol/kinsol_spils.c -o stan/lib/stan_math/lib/sundials_6.1.1/src/kinsol/kinsol_spils.o\n",
            "touch stan/lib/stan_math/lib/tbb/tbb-make-check\n",
            "\n",
            "--- Compiling the main object file. This might take up to a minute. ---\n",
            "g++ -Wno-deprecated-declarations -std=c++17 -pthread -D_REENTRANT -Wno-sign-compare -Wno-ignored-attributes -Wno-class-memaccess      -I stan/lib/stan_math/lib/tbb_2020.3/include    -O3 -I src -I stan/src -I stan/lib/rapidjson_1.1.0/ -I lib/CLI11-1.9.1/ -I stan/lib/stan_math/ -I stan/lib/stan_math/lib/eigen_3.4.0 -I stan/lib/stan_math/lib/boost_1.84.0 -I stan/lib/stan_math/lib/sundials_6.1.1/include -I stan/lib/stan_math/lib/sundials_6.1.1/src/sundials    -DBOOST_DISABLE_ASSERTS          -c -o src/cmdstan/main.o src/cmdstan/main.cpp\n",
            "\n",
            "--- Compiling pre-compiled header. This might take a few seconds. ---\n",
            "g++ -Wno-deprecated-declarations -std=c++17 -pthread -D_REENTRANT -Wno-sign-compare -Wno-ignored-attributes -Wno-class-memaccess      -I stan/lib/stan_math/lib/tbb_2020.3/include    -O3 -I src -I stan/src -I stan/lib/rapidjson_1.1.0/ -I lib/CLI11-1.9.1/ -I stan/lib/stan_math/ -I stan/lib/stan_math/lib/eigen_3.4.0 -I stan/lib/stan_math/lib/boost_1.84.0 -I stan/lib/stan_math/lib/sundials_6.1.1/include -I stan/lib/stan_math/lib/sundials_6.1.1/src/sundials    -DBOOST_DISABLE_ASSERTS          -c stan/src/stan/model/model_header.hpp -o stan/src/stan/model/model_header.hpp.gch/model_header_11_4.hpp.gch\n",
            "g++ -Wno-deprecated-declarations -std=c++17 -pthread -D_REENTRANT -Wno-sign-compare -Wno-ignored-attributes -Wno-class-memaccess      -I stan/lib/stan_math/lib/tbb_2020.3/include    -O3 -I src -I stan/src -I stan/lib/rapidjson_1.1.0/ -I lib/CLI11-1.9.1/ -I stan/lib/stan_math/ -I stan/lib/stan_math/lib/eigen_3.4.0 -I stan/lib/stan_math/lib/boost_1.84.0 -I stan/lib/stan_math/lib/sundials_6.1.1/include -I stan/lib/stan_math/lib/sundials_6.1.1/src/sundials    -DBOOST_DISABLE_ASSERTS          -c -fvisibility=hidden src/cmdstan/stansummary.cpp -o bin/cmdstan/stansummary.o\n",
            "g++ -Wno-deprecated-declarations -std=c++17 -pthread -D_REENTRANT -Wno-sign-compare -Wno-ignored-attributes -Wno-class-memaccess      -I stan/lib/stan_math/lib/tbb_2020.3/include    -O3 -I src -I stan/src -I stan/lib/rapidjson_1.1.0/ -I lib/CLI11-1.9.1/ -I stan/lib/stan_math/ -I stan/lib/stan_math/lib/eigen_3.4.0 -I stan/lib/stan_math/lib/boost_1.84.0 -I stan/lib/stan_math/lib/sundials_6.1.1/include -I stan/lib/stan_math/lib/sundials_6.1.1/src/sundials    -DBOOST_DISABLE_ASSERTS          -c -fvisibility=hidden src/cmdstan/print.cpp -o bin/cmdstan/print.o\n",
            "g++ -Wno-deprecated-declarations -std=c++17 -pthread -D_REENTRANT -Wno-sign-compare -Wno-ignored-attributes -Wno-class-memaccess      -I stan/lib/stan_math/lib/tbb_2020.3/include    -O3 -I src -I stan/src -I stan/lib/rapidjson_1.1.0/ -I lib/CLI11-1.9.1/ -I stan/lib/stan_math/ -I stan/lib/stan_math/lib/eigen_3.4.0 -I stan/lib/stan_math/lib/boost_1.84.0 -I stan/lib/stan_math/lib/sundials_6.1.1/include -I stan/lib/stan_math/lib/sundials_6.1.1/src/sundials    -DBOOST_DISABLE_ASSERTS          -c -fvisibility=hidden src/cmdstan/diagnose.cpp -o bin/cmdstan/diagnose.o\n",
            "ar -rs stan/lib/stan_math/lib/sundials_6.1.1/lib/libsundials_nvecserial.a stan/lib/stan_math/lib/sundials_6.1.1/src/nvector/serial/nvector_serial.o stan/lib/stan_math/lib/sundials_6.1.1/src/sundials/sundials_math.o\n",
            "\u001b[31mar: \u001b[39m\u001b[31mcreating stan/lib/stan_math/lib/sundials_6.1.1/lib/libsundials_nvecserial.a\u001b[39m\u001b[31m\n",
            "\u001b[39mar -rs stan/lib/stan_math/lib/sundials_6.1.1/lib/libsundials_cvodes.a stan/lib/stan_math/lib/sundials_6.1.1/src/cvodes/cvodea.o stan/lib/stan_math/lib/sundials_6.1.1/src/cvodes/cvodea_io.o stan/lib/stan_math/lib/sundials_6.1.1/src/cvodes/cvodes_bandpre.o stan/lib/stan_math/lib/sundials_6.1.1/src/cvodes/cvodes_bbdpre.o stan/lib/stan_math/lib/sundials_6.1.1/src/cvodes/cvodes.o stan/lib/stan_math/lib/sundials_6.1.1/src/cvodes/cvodes_diag.o stan/lib/stan_math/lib/sundials_6.1.1/src/cvodes/cvodes_direct.o stan/lib/stan_math/lib/sundials_6.1.1/src/cvodes/cvodes_io.o stan/lib/stan_math/lib/sundials_6.1.1/src/cvodes/cvodes_ls.o stan/lib/stan_math/lib/sundials_6.1.1/src/cvodes/cvodes_nls.o stan/lib/stan_math/lib/sundials_6.1.1/src/cvodes/cvodes_nls_sim.o stan/lib/stan_math/lib/sundials_6.1.1/src/cvodes/cvodes_nls_stg1.o stan/lib/stan_math/lib/sundials_6.1.1/src/cvodes/cvodes_nls_stg.o stan/lib/stan_math/lib/sundials_6.1.1/src/cvodes/cvodes_spils.o stan/lib/stan_math/lib/sundials_6.1.1/src/sundials/sundials_band.o stan/lib/stan_math/lib/sundials_6.1.1/src/sundials/sundials_context.o stan/lib/stan_math/lib/sundials_6.1.1/src/sundials/sundials_dense.o stan/lib/stan_math/lib/sundials_6.1.1/src/sundials/sundials_direct.o stan/lib/stan_math/lib/sundials_6.1.1/src/sundials/sundials_futils.o stan/lib/stan_math/lib/sundials_6.1.1/src/sundials/sundials_iterative.o stan/lib/stan_math/lib/sundials_6.1.1/src/sundials/sundials_linearsolver.o stan/lib/stan_math/lib/sundials_6.1.1/src/sundials/sundials_math.o stan/lib/stan_math/lib/sundials_6.1.1/src/sundials/sundials_matrix.o stan/lib/stan_math/lib/sundials_6.1.1/src/sundials/sundials_memory.o stan/lib/stan_math/lib/sundials_6.1.1/src/sundials/sundials_nonlinearsolver.o stan/lib/stan_math/lib/sundials_6.1.1/src/sundials/sundials_nvector.o stan/lib/stan_math/lib/sundials_6.1.1/src/sundials/sundials_nvector_senswrapper.o stan/lib/stan_math/lib/sundials_6.1.1/src/sundials/sundials_version.o stan/lib/stan_math/lib/sundials_6.1.1/src/sunmatrix/band/sunmatrix_band.o stan/lib/stan_math/lib/sundials_6.1.1/src/sunmatrix/dense/sunmatrix_dense.o stan/lib/stan_math/lib/sundials_6.1.1/src/sunlinsol/band/sunlinsol_band.o stan/lib/stan_math/lib/sundials_6.1.1/src/sunlinsol/dense/sunlinsol_dense.o stan/lib/stan_math/lib/sundials_6.1.1/src/sunnonlinsol/newton/sunnonlinsol_newton.o stan/lib/stan_math/lib/sundials_6.1.1/src/sunnonlinsol/fixedpoint/sunnonlinsol_fixedpoint.o\n",
            "\u001b[31mar: creating stan/lib/stan_math/lib/sundials_6.1.1/lib/libsundials_cvodes.a\n",
            "\u001b[39mar -rs stan/lib/stan_math/lib/sundials_6.1.1/lib/libsundials_idas.a stan/lib/stan_math/lib/sundials_6.1.1/src/idas/idaa.o stan/lib/stan_math/lib/sundials_6.1.1/src/idas/idaa_io.o stan/lib/stan_math/lib/sundials_6.1.1/src/idas/idas_bbdpre.o stan/lib/stan_math/lib/sundials_6.1.1/src/idas/idas.o stan/lib/stan_math/lib/sundials_6.1.1/src/idas/idas_direct.o stan/lib/stan_math/lib/sundials_6.1.1/src/idas/idas_ic.o stan/lib/stan_math/lib/sundials_6.1.1/src/idas/idas_io.o stan/lib/stan_math/lib/sundials_6.1.1/src/idas/idas_ls.o stan/lib/stan_math/lib/sundials_6.1.1/src/idas/idas_nls.o stan/lib/stan_math/lib/sundials_6.1.1/src/idas/idas_nls_sim.o stan/lib/stan_math/lib/sundials_6.1.1/src/idas/idas_nls_stg.o stan/lib/stan_math/lib/sundials_6.1.1/src/idas/idas_spils.o stan/lib/stan_math/lib/sundials_6.1.1/src/sundials/sundials_band.o stan/lib/stan_math/lib/sundials_6.1.1/src/sundials/sundials_context.o stan/lib/stan_math/lib/sundials_6.1.1/src/sundials/sundials_dense.o stan/lib/stan_math/lib/sundials_6.1.1/src/sundials/sundials_direct.o stan/lib/stan_math/lib/sundials_6.1.1/src/sundials/sundials_futils.o stan/lib/stan_math/lib/sundials_6.1.1/src/sundials/sundials_iterative.o stan/lib/stan_math/lib/sundials_6.1.1/src/sundials/sundials_linearsolver.o stan/lib/stan_math/lib/sundials_6.1.1/src/sundials/sundials_math.o stan/lib/stan_math/lib/sundials_6.1.1/src/sundials/sundials_matrix.o stan/lib/stan_math/lib/sundials_6.1.1/src/sundials/sundials_memory.o stan/lib/stan_math/lib/sundials_6.1.1/src/sundials/sundials_nonlinearsolver.o stan/lib/stan_math/lib/sundials_6.1.1/src/sundials/sundials_nvector.o stan/lib/stan_math/lib/sundials_6.1.1/src/sundials/sundials_nvector_senswrapper.o stan/lib/stan_math/lib/sundials_6.1.1/src/sundials/sundials_version.o stan/lib/stan_math/lib/sundials_6.1.1/src/sunmatrix/band/sunmatrix_band.o stan/lib/stan_math/lib/sundials_6.1.1/src/sunmatrix/dense/sunmatrix_dense.o stan/lib/stan_math/lib/sundials_6.1.1/src/sunlinsol/band/sunlinsol_band.o stan/lib/stan\u001b[31mar: creating stan/lib/stan_math/lib/sundials_6.1.1/lib/libsundials_idas.a\n",
            "\u001b[39m_math/lib/sundials_6.1.1/src/sunlinsol/dense/sunlinsol_dense.o stan/lib/stan_math/lib/sundials_6.1.1/src/sunnonlinsol/newton/sunnonlinsol_newton.o stan/lib/stan_math/lib/sundials_6.1.1/src/sunnonlinsol/fixedpoint/sunnonlinsol_fixedpoint.o\n",
            "ar -rs stan/lib/stan_math/lib/sundials_6.1.1/lib/libsundials_kinsol.a stan/lib/stan_math/lib/sundials_6.1.1/src/kinsol/kinsol_bbdpre.o stan/lib/stan_math/lib/sundials_6.1.1/src/kinsol/kinsol.o stan/lib/stan_math/lib/sundials_6.1.1/src/kinsol/kinsol_direct.o stan/lib/stan_math/lib/sundials_6.1.1/src/kinsol/kinsol_io.o stan/lib/stan_math/lib/sundials_6.1.1/src/kinsol/kinsol_ls.o stan/lib/stan_math/lib/sundials_6.1.1/src/kinsol/kinsol_spils.o stan/lib/stan_math/lib/sundials_6.1.1/src/sundials/sundials_band.o stan/lib/stan_math/lib/sundials_6.1.1/src/sundials/sundials_context.o stan/lib/stan_math/lib/sundials_6.1.1/src/sundials/sundials_dense.o stan/lib/stan_math/lib/sundials_6.1.1/src/sundials/sundials_direct.o stan/lib/stan_math/lib/sundials_6.1.1/src/sundials/sundials_futils.o stan/lib/stan_math/lib/sundials_6.1.1/src/sundials/sundials_iterative.o stan/lib/stan_math/lib/sundials_6.1.1/src/sundials/sundials_linearsolver.o stan/lib/stan_math/lib/sundials_6.1.1/src/sundials/sundials_math.o stan/lib/stan_math/lib/sundials_6.1.1/src/sundials/sundials_matrix.o stan/lib/stan_math/lib/sundials_6.1.1/src/sundials/sundials_memory.o stan/lib/stan_math/lib/sundials_6.1.1/src/sundials/sundials_nonlinearsolver.o stan/lib/stan_math/lib/sundials_6.1.1/src/sundials/sundials_nvector.o stan/lib/stan_math/lib/sundials_6.1.1/src/sundials/sundials_nvector_senswrapper.o stan/lib/stan_math/lib/sundials_6.1.1/src/sundials/sundials_version.o stan/lib/stan_math/lib/sundials_6.1.1/src/sunmatrix/band/sunmatrix_band.o stan/lib/stan_math/lib/sundials_6.1.1/src/sunmatrix/dense/sunmatrix_dense.o stan/lib/stan_math/lib/sundials_6.1.1/src/sunlinsol/band/sunlinsol_band.o stan/lib/stan_math/lib/sundials_6.1.1/src/sunlinsol/dense/sunlinsol_dense.o stan/lib/stan_math/lib/sundials_6.1.1/src/sunnonlinsol/newton/sunnonlinsol_newton.o stan/lib/stan_math/lib/sundials_6.1.1/src/sunnonlinsol/fixedpoint/sunnonlinsol_fixedpoint.o\n",
            "\u001b[31mar: creating stan/lib/stan_math/lib/sundials_6.1.1/lib/libsundials_kinsol.a\n",
            "\u001b[39mtouch stan/lib/stan_math/lib/tbb/version_tbb_2020.3\n",
            "tbb_root=\"../tbb_2020.3\" WINARM64=\"\" CXX=\"g++\" CC=\"gcc\" LDFLAGS='-Wl,-L,\"/root/.cmdstan/cmdstan-2.35.0/stan/lib/stan_math/lib/tbb\"   -Wl,-rpath,\"/root/.cmdstan/cmdstan-2.35.0/stan/lib/stan_math/lib/tbb\"' 'make' -C \"stan/lib/stan_math/lib/tbb\" -r -f \"/root/.cmdstan/cmdstan-2.35.0/stan/lib/stan_math/lib/tbb_2020.3/build/Makefile.tbb\" compiler=gcc cfg=release stdver=c++17  CXXFLAGS=\"-Wno-unknown-warning-option -Wno-deprecated-copy -Wno-missing-attributes -Wno-class-memaccess -Wno-sized-deallocation  \"\n",
            "make[1]: Entering directory '/root/.cmdstan/cmdstan-2.35.0/stan/lib/stan_math/lib/tbb'\n",
            "\u001b[31m/root/.cmdstan/cmdstan-2.35.0/stan/lib/stan_math/lib/tbb_2020.3/build/Makefile.tbb:28: CONFIG: cfg=release arch=intel64 compiler=gcc target=linux runtime=cc11.4.0_libc2.35_kernel6.1.85+\n",
            "\u001b[39mg++ -o concurrent_hash_map.o -c -MMD -O2 -g -DDO_ITT_NOTIFY -DUSE_PTHREAD -pthread -m64 -mrtm  -fPIC -flifetime-dse=1 -D__TBB_BUILD=1 -Wall -Wextra -Wno-parentheses -Wno-sized-deallocation -Wno-unknown-warning-option -Wno-deprecated-copy -Wno-missing-attributes -Wno-class-memaccess -Wno-sized-deallocation   -DTBB_SUPPRESS_DEPRECATED_MESSAGES=1 -std=c++17  -I../tbb_2020.3/src -I../tbb_2020.3/src/rml/include -I../tbb_2020.3/include ../tbb_2020.3/src/tbb/concurrent_hash_map.cpp\n",
            "g++ -o concurrent_queue.o -c -MMD -O2 -g -DDO_ITT_NOTIFY -DUSE_PTHREAD -pthread -m64 -mrtm  -fPIC -flifetime-dse=1 -D__TBB_BUILD=1 -Wall -Wextra -Wno-parentheses -Wno-sized-deallocation -Wno-unknown-warning-option -Wno-deprecated-copy -Wno-missing-attributes -Wno-class-memaccess -Wno-sized-deallocation   -DTBB_SUPPRESS_DEPRECATED_MESSAGES=1 -std=c++17  -I../tbb_2020.3/src -I../tbb_2020.3/src/rml/include -I../tbb_2020.3/include ../tbb_2020.3/src/tbb/concurrent_queue.cpp\n",
            "g++ -o concurrent_vector.o -c -MMD -O2 -g -DDO_ITT_NOTIFY -DUSE_PTHREAD -pthread -m64 -mrtm  -fPIC -flifetime-dse=1 -D__TBB_BUILD=1 -Wall -Wextra -Wno-parentheses -Wno-sized-deallocation -Wno-unknown-warning-option -Wno-deprecated-copy -Wno-missing-attributes -Wno-class-memaccess -Wno-sized-deallocation   -DTBB_SUPPRESS_DEPRECATED_MESSAGES=1 -std=c++17  -I../tbb_2020.3/src -I../tbb_2020.3/src/rml/include -I../tbb_2020.3/include ../tbb_2020.3/src/tbb/concurrent_vector.cpp\n",
            "g++ -o dynamic_link.o -c -MMD -O2 -g -DDO_ITT_NOTIFY -DUSE_PTHREAD -pthread -m64 -mrtm  -fPIC -flifetime-dse=1 -D__TBB_BUILD=1 -Wall -Wextra -Wno-parentheses -Wno-sized-deallocation -Wno-unknown-warning-option -Wno-deprecated-copy -Wno-missing-attributes -Wno-class-memaccess -Wno-sized-deallocation   -DTBB_SUPPRESS_DEPRECATED_MESSAGES=1 -std=c++17  -I../tbb_2020.3/src -I../tbb_2020.3/src/rml/include -I../tbb_2020.3/include ../tbb_2020.3/src/tbb/dynamic_link.cpp\n",
            "g++ -o itt_notify.o -c -MMD -O2 -g -DDO_ITT_NOTIFY -DUSE_PTHREAD -pthread -m64 -mrtm  -fPIC -flifetime-dse=1 -D__TBB_BUILD=1 -Wall -Wextra -Wno-parentheses -Wno-sized-deallocation -Wno-unknown-warning-option -Wno-deprecated-copy -Wno-missing-attributes -Wno-class-memaccess -Wno-sized-deallocation   -DTBB_SUPPRESS_DEPRECATED_MESSAGES=1 -std=c++17  -I../tbb_2020.3/src -I../tbb_2020.3/src/rml/include -I../tbb_2020.3/include ../tbb_2020.3/src/tbb/itt_notify.cpp\n",
            "g++ -o cache_aligned_allocator.o -c -MMD -O2 -g -DDO_ITT_NOTIFY -DUSE_PTHREAD -pthread -m64 -mrtm  -fPIC -flifetime-dse=1 -D__TBB_BUILD=1 -Wall -Wextra -Wno-parentheses -Wno-sized-deallocation -Wno-unknown-warning-option -Wno-deprecated-copy -Wno-missing-attributes -Wno-class-memaccess -Wno-sized-deallocation   -DTBB_SUPPRESS_DEPRECATED_MESSAGES=1 -std=c++17  -I../tbb_2020.3/src -I../tbb_2020.3/src/rml/include -I../tbb_2020.3/include ../tbb_2020.3/src/tbb/cache_aligned_allocator.cpp\n",
            "g++ -o pipeline.o -c -MMD -O2 -g -DDO_ITT_NOTIFY -DUSE_PTHREAD -pthread -m64 -mrtm  -fPIC -flifetime-dse=1 -D__TBB_BUILD=1 -Wall -Wextra -Wno-parentheses -Wno-sized-deallocation -Wno-unknown-warning-option -Wno-deprecated-copy -Wno-missing-attributes -Wno-class-memaccess -Wno-sized-deallocation   -DTBB_SUPPRESS_DEPRECATED_MESSAGES=1 -std=c++17  -I../tbb_2020.3/src -I../tbb_2020.3/src/rml/include -I../tbb_2020.3/include ../tbb_2020.3/src/tbb/pipeline.cpp\n",
            "g++ -o queuing_mutex.o -c -MMD -O2 -g -DDO_ITT_NOTIFY -DUSE_PTHREAD -pthread -m64 -mrtm  -fPIC -flifetime-dse=1 -D__TBB_BUILD=1 -Wall -Wextra -Wno-parentheses -Wno-sized-deallocation -Wno-unknown-warning-option -Wno-deprecated-copy -Wno-missing-attributes -Wno-class-memaccess -Wno-sized-deallocation   -DTBB_SUPPRESS_DEPRECATED_MESSAGES=1 -std=c++17  -I../tbb_2020.3/src -I../tbb_2020.3/src/rml/include -I../tbb_2020.3/include ../tbb_2020.3/src/tbb/queuing_mutex.cpp\n",
            "g++ -o queuing_rw_mutex.o -c -MMD -O2 -g -DDO_ITT_NOTIFY -DUSE_PTHREAD -pthread -m64 -mrtm  -fPIC -flifetime-dse=1 -D__TBB_BUILD=1 -Wall -Wextra -Wno-parentheses -Wno-sized-deallocation -Wno-unknown-warning-option -Wno-deprecated-copy -Wno-missing-attributes -Wno-class-memaccess -Wno-sized-deallocation   -DTBB_SUPPRESS_DEPRECATED_MESSAGES=1 -std=c++17  -I../tbb_2020.3/src -I../tbb_2020.3/src/rml/include -I../tbb_2020.3/include ../tbb_2020.3/src/tbb/queuing_rw_mutex.cpp\n",
            "g++ -o reader_writer_lock.o -c -MMD -O2 -g -DDO_ITT_NOTIFY -DUSE_PTHREAD -pthread -m64 -mrtm  -fPIC -flifetime-dse=1 -D__TBB_BUILD=1 -Wall -Wextra -Wno-parentheses -Wno-sized-deallocation -Wno-unknown-warning-option -Wno-deprecated-copy -Wno-missing-attributes -Wno-class-memaccess -Wno-sized-deallocation   -DTBB_SUPPRESS_DEPRECATED_MESSAGES=1 -std=c++17  -I../tbb_2020.3/src -I../tbb_2020.3/src/rml/include -I../tbb_2020.3/include ../tbb_2020.3/src/tbb/reader_writer_lock.cpp\n",
            "g++ -o spin_rw_mutex.o -c -MMD -O2 -g -DDO_ITT_NOTIFY -DUSE_PTHREAD -pthread -m64 -mrtm  -fPIC -flifetime-dse=1 -D__TBB_BUILD=1 -Wall -Wextra -Wno-parentheses -Wno-sized-deallocation -Wno-unknown-warning-option -Wno-deprecated-copy -Wno-missing-attributes -Wno-class-memaccess -Wno-sized-deallocation   -DTBB_SUPPRESS_DEPRECATED_MESSAGES=1 -std=c++17  -I../tbb_2020.3/src -I../tbb_2020.3/src/rml/include -I../tbb_2020.3/include ../tbb_2020.3/src/tbb/spin_rw_mutex.cpp\n",
            "g++ -o x86_rtm_rw_mutex.o -c -MMD -O2 -g -DDO_ITT_NOTIFY -DUSE_PTHREAD -pthread -m64 -mrtm  -fPIC -flifetime-dse=1 -D__TBB_BUILD=1 -Wall -Wextra -Wno-parentheses -Wno-sized-deallocation -Wno-unknown-warning-option -Wno-deprecated-copy -Wno-missing-attributes -Wno-class-memaccess -Wno-sized-deallocation   -DTBB_SUPPRESS_DEPRECATED_MESSAGES=1 -std=c++17  -I../tbb_2020.3/src -I../tbb_2020.3/src/rml/include -I../tbb_2020.3/include ../tbb_2020.3/src/tbb/x86_rtm_rw_mutex.cpp\n",
            "g++ -o spin_mutex.o -c -MMD -O2 -g -DDO_ITT_NOTIFY -DUSE_PTHREAD -pthread -m64 -mrtm  -fPIC -flifetime-dse=1 -D__TBB_BUILD=1 -Wall -Wextra -Wno-parentheses -Wno-sized-deallocation -Wno-unknown-warning-option -Wno-deprecated-copy -Wno-missing-attributes -Wno-class-memaccess -Wno-sized-deallocation   -DTBB_SUPPRESS_DEPRECATED_MESSAGES=1 -std=c++17  -I../tbb_2020.3/src -I../tbb_2020.3/src/rml/include -I../tbb_2020.3/include ../tbb_2020.3/src/tbb/spin_mutex.cpp\n",
            "g++ -o critical_section.o -c -MMD -O2 -g -DDO_ITT_NOTIFY -DUSE_PTHREAD -pthread -m64 -mrtm  -fPIC -flifetime-dse=1 -D__TBB_BUILD=1 -Wall -Wextra -Wno-parentheses -Wno-sized-deallocation -Wno-unknown-warning-option -Wno-deprecated-copy -Wno-missing-attributes -Wno-class-memaccess -Wno-sized-deallocation   -DTBB_SUPPRESS_DEPRECATED_MESSAGES=1 -std=c++17  -I../tbb_2020.3/src -I../tbb_2020.3/src/rml/include -I../tbb_2020.3/include ../tbb_2020.3/src/tbb/critical_section.cpp\n",
            "g++ -o mutex.o -c -MMD -O2 -g -DDO_ITT_NOTIFY -DUSE_PTHREAD -pthread -m64 -mrtm  -fPIC -flifetime-dse=1 -D__TBB_BUILD=1 -Wall -Wextra -Wno-parentheses -Wno-sized-deallocation -Wno-unknown-warning-option -Wno-deprecated-copy -Wno-missing-attributes -Wno-class-memaccess -Wno-sized-deallocation   -DTBB_SUPPRESS_DEPRECATED_MESSAGES=1 -std=c++17  -I../tbb_2020.3/src -I../tbb_2020.3/src/rml/include -I../tbb_2020.3/include ../tbb_2020.3/src/tbb/mutex.cpp\n",
            "g++ -o recursive_mutex.o -c -MMD -O2 -g -DDO_ITT_NOTIFY -DUSE_PTHREAD -pthread -m64 -mrtm  -fPIC -flifetime-dse=1 -D__TBB_BUILD=1 -Wall -Wextra -Wno-parentheses -Wno-sized-deallocation -Wno-unknown-warning-option -Wno-deprecated-copy -Wno-missing-attributes -Wno-class-memaccess -Wno-sized-deallocation   -DTBB_SUPPRESS_DEPRECATED_MESSAGES=1 -std=c++17  -I../tbb_2020.3/src -I../tbb_2020.3/src/rml/include -I../tbb_2020.3/include ../tbb_2020.3/src/tbb/recursive_mutex.cpp\n",
            "g++ -o condition_variable.o -c -MMD -O2 -g -DDO_ITT_NOTIFY -DUSE_PTHREAD -pthread -m64 -mrtm  -fPIC -flifetime-dse=1 -D__TBB_BUILD=1 -Wall -Wextra -Wno-parentheses -Wno-sized-deallocation -Wno-unknown-warning-option -Wno-deprecated-copy -Wno-missing-attributes -Wno-class-memaccess -Wno-sized-deallocation   -DTBB_SUPPRESS_DEPRECATED_MESSAGES=1 -std=c++17  -I../tbb_2020.3/src -I../tbb_2020.3/src/rml/include -I../tbb_2020.3/include ../tbb_2020.3/src/tbb/condition_variable.cpp\n",
            "g++ -o tbb_thread.o -c -MMD -O2 -g -DDO_ITT_NOTIFY -DUSE_PTHREAD -pthread -m64 -mrtm  -fPIC -flifetime-dse=1 -D__TBB_BUILD=1 -Wall -Wextra -Wno-parentheses -Wno-sized-deallocation -Wno-unknown-warning-option -Wno-deprecated-copy -Wno-missing-attributes -Wno-class-memaccess -Wno-sized-deallocation   -DTBB_SUPPRESS_DEPRECATED_MESSAGES=1 -std=c++17  -I../tbb_2020.3/src -I../tbb_2020.3/src/rml/include -I../tbb_2020.3/include ../tbb_2020.3/src/tbb/tbb_thread.cpp\n",
            "g++ -o concurrent_monitor.o -c -MMD -O2 -g -DDO_ITT_NOTIFY -DUSE_PTHREAD -pthread -m64 -mrtm  -fPIC -flifetime-dse=1 -D__TBB_BUILD=1 -Wall -Wextra -Wno-parentheses -Wno-sized-deallocation -Wno-unknown-warning-option -Wno-deprecated-copy -Wno-missing-attributes -Wno-class-memaccess -Wno-sized-deallocation   -DTBB_SUPPRESS_DEPRECATED_MESSAGES=1 -std=c++17  -I../tbb_2020.3/src -I../tbb_2020.3/src/rml/include -I../tbb_2020.3/include ../tbb_2020.3/src/tbb/concurrent_monitor.cpp\n",
            "g++ -o semaphore.o -c -MMD -O2 -g -DDO_ITT_NOTIFY -DUSE_PTHREAD -pthread -m64 -mrtm  -fPIC -flifetime-dse=1 -D__TBB_BUILD=1 -Wall -Wextra -Wno-parentheses -Wno-sized-deallocation -Wno-unknown-warning-option -Wno-deprecated-copy -Wno-missing-attributes -Wno-class-memaccess -Wno-sized-deallocation   -DTBB_SUPPRESS_DEPRECATED_MESSAGES=1 -std=c++17  -I../tbb_2020.3/src -I../tbb_2020.3/src/rml/include -I../tbb_2020.3/include ../tbb_2020.3/src/tbb/semaphore.cpp\n",
            "g++ -o private_server.o -c -MMD -O2 -g -DDO_ITT_NOTIFY -DUSE_PTHREAD -pthread -m64 -mrtm  -fPIC -flifetime-dse=1 -D__TBB_BUILD=1 -Wall -Wextra -Wno-parentheses -Wno-sized-deallocation -Wno-unknown-warning-option -Wno-deprecated-copy -Wno-missing-attributes -Wno-class-memaccess -Wno-sized-deallocation   -DTBB_SUPPRESS_DEPRECATED_MESSAGES=1 -std=c++17  -I../tbb_2020.3/src -I../tbb_2020.3/src/rml/include -I../tbb_2020.3/include ../tbb_2020.3/src/tbb/private_server.cpp\n",
            "g++ -o rml_tbb.o -c -MMD -O2 -g -DDO_ITT_NOTIFY -DUSE_PTHREAD -pthread -m64 -mrtm  -fPIC -flifetime-dse=1 -D__TBB_BUILD=1 -Wall -Wextra -Wno-parentheses -Wno-sized-deallocation -Wno-unknown-warning-option -Wno-deprecated-copy -Wno-missing-attributes -Wno-class-memaccess -Wno-sized-deallocation   -DTBB_SUPPRESS_DEPRECATED_MESSAGES=1 -std=c++17  -I../tbb_2020.3/src -I../tbb_2020.3/src/rml/include -I../tbb_2020.3/include ../tbb_2020.3/src/rml/client/rml_tbb.cpp\n",
            "sh ../tbb_2020.3/build/version_info_linux.sh g++ -O2 -g -DDO_ITT_NOTIFY -DUSE_PTHREAD -pthread -m64 -mrtm  -fPIC -flifetime-dse=1 -D__TBB_BUILD=1 -Wall -Wextra -Wno-parentheses -Wno-sized-deallocation -Wno-unknown-warning-option -Wno-deprecated-copy -Wno-missing-attributes -Wno-class-memaccess -Wno-sized-deallocation   -DTBB_SUPPRESS_DEPRECATED_MESSAGES=1 -std=c++17 -I../tbb_2020.3/src -I../tbb_2020.3/src/rml/include -I../tbb_2020.3/include -I. >version_string.ver\n",
            "g++ -o tbb_misc_ex.o -c -MMD -O2 -g -DDO_ITT_NOTIFY -DUSE_PTHREAD -pthread -m64 -mrtm  -fPIC -flifetime-dse=1 -D__TBB_BUILD=1 -Wall -Wextra -Wno-parentheses -Wno-sized-deallocation -Wno-unknown-warning-option -Wno-deprecated-copy -Wno-missing-attributes -Wno-class-memaccess -Wno-sized-deallocation   -DTBB_SUPPRESS_DEPRECATED_MESSAGES=1 -std=c++17  -I../tbb_2020.3/src -I../tbb_2020.3/src/rml/include -I../tbb_2020.3/include ../tbb_2020.3/src/tbb/tbb_misc_ex.cpp\n",
            "g++ -o task.o -c -MMD -O2 -g -DDO_ITT_NOTIFY -DUSE_PTHREAD -pthread -m64 -mrtm  -fPIC -flifetime-dse=1 -D__TBB_BUILD=1 -Wall -Wextra -Wno-parentheses -Wno-sized-deallocation -Wno-unknown-warning-option -Wno-deprecated-copy -Wno-missing-attributes -Wno-class-memaccess -Wno-sized-deallocation   -DTBB_SUPPRESS_DEPRECATED_MESSAGES=1 -std=c++17  -I../tbb_2020.3/src -I../tbb_2020.3/src/rml/include -I../tbb_2020.3/include ../tbb_2020.3/src/tbb/task.cpp\n",
            "g++ -o task_group_context.o -c -MMD -O2 -g -DDO_ITT_NOTIFY -DUSE_PTHREAD -pthread -m64 -mrtm  -fPIC -flifetime-dse=1 -D__TBB_BUILD=1 -Wall -Wextra -Wno-parentheses -Wno-sized-deallocation -Wno-unknown-warning-option -Wno-deprecated-copy -Wno-missing-attributes -Wno-class-memaccess -Wno-sized-deallocation   -DTBB_SUPPRESS_DEPRECATED_MESSAGES=1 -std=c++17  -I../tbb_2020.3/src -I../tbb_2020.3/src/rml/include -I../tbb_2020.3/include ../tbb_2020.3/src/tbb/task_group_context.cpp\n",
            "g++ -o governor.o -c -MMD -O2 -g -DDO_ITT_NOTIFY -DUSE_PTHREAD -pthread -m64 -mrtm  -fPIC -flifetime-dse=1 -D__TBB_BUILD=1 -Wall -Wextra -Wno-parentheses -Wno-sized-deallocation -Wno-unknown-warning-option -Wno-deprecated-copy -Wno-missing-attributes -Wno-class-memaccess -Wno-sized-deallocation   -DTBB_SUPPRESS_DEPRECATED_MESSAGES=1 -std=c++17  -I../tbb_2020.3/src -I../tbb_2020.3/src/rml/include -I../tbb_2020.3/include ../tbb_2020.3/src/tbb/governor.cpp\n",
            "g++ -o market.o -c -MMD -O2 -g -DDO_ITT_NOTIFY -DUSE_PTHREAD -pthread -m64 -mrtm  -fPIC -flifetime-dse=1 -D__TBB_BUILD=1 -Wall -Wextra -Wno-parentheses -Wno-sized-deallocation -Wno-unknown-warning-option -Wno-deprecated-copy -Wno-missing-attributes -Wno-class-memaccess -Wno-sized-deallocation   -DTBB_SUPPRESS_DEPRECATED_MESSAGES=1 -std=c++17  -I../tbb_2020.3/src -I../tbb_2020.3/src/rml/include -I../tbb_2020.3/include ../tbb_2020.3/src/tbb/market.cpp\n",
            "g++ -o arena.o -c -MMD -O2 -g -DDO_ITT_NOTIFY -DUSE_PTHREAD -pthread -m64 -mrtm  -fPIC -flifetime-dse=1 -D__TBB_BUILD=1 -Wall -Wextra -Wno-parentheses -Wno-sized-deallocation -Wno-unknown-warning-option -Wno-deprecated-copy -Wno-missing-attributes -Wno-class-memaccess -Wno-sized-deallocation   -DTBB_SUPPRESS_DEPRECATED_MESSAGES=1 -std=c++17  -I../tbb_2020.3/src -I../tbb_2020.3/src/rml/include -I../tbb_2020.3/include ../tbb_2020.3/src/tbb/arena.cpp\n",
            "g++ -o scheduler.o -c -MMD -O2 -g -DDO_ITT_NOTIFY -DUSE_PTHREAD -pthread -m64 -mrtm  -fPIC -flifetime-dse=1 -D__TBB_BUILD=1 -Wall -Wextra -Wno-parentheses -Wno-sized-deallocation -Wno-unknown-warning-option -Wno-deprecated-copy -Wno-missing-attributes -Wno-class-memaccess -Wno-sized-deallocation   -DTBB_SUPPRESS_DEPRECATED_MESSAGES=1 -std=c++17  -I../tbb_2020.3/src -I../tbb_2020.3/src/rml/include -I../tbb_2020.3/include ../tbb_2020.3/src/tbb/scheduler.cpp\n",
            "g++ -o observer_proxy.o -c -MMD -O2 -g -DDO_ITT_NOTIFY -DUSE_PTHREAD -pthread -m64 -mrtm  -fPIC -flifetime-dse=1 -D__TBB_BUILD=1 -Wall -Wextra -Wno-parentheses -Wno-sized-deallocation -Wno-unknown-warning-option -Wno-deprecated-copy -Wno-missing-attributes -Wno-class-memaccess -Wno-sized-deallocation   -DTBB_SUPPRESS_DEPRECATED_MESSAGES=1 -std=c++17  -I../tbb_2020.3/src -I../tbb_2020.3/src/rml/include -I../tbb_2020.3/include ../tbb_2020.3/src/tbb/observer_proxy.cpp\n",
            "g++ -o tbb_statistics.o -c -MMD -O2 -g -DDO_ITT_NOTIFY -DUSE_PTHREAD -pthread -m64 -mrtm  -fPIC -flifetime-dse=1 -D__TBB_BUILD=1 -Wall -Wextra -Wno-parentheses -Wno-sized-deallocation -Wno-unknown-warning-option -Wno-deprecated-copy -Wno-missing-attributes -Wno-class-memaccess -Wno-sized-deallocation   -DTBB_SUPPRESS_DEPRECATED_MESSAGES=1 -std=c++17  -I../tbb_2020.3/src -I../tbb_2020.3/src/rml/include -I../tbb_2020.3/include ../tbb_2020.3/src/tbb/tbb_statistics.cpp\n",
            "g++ -o tbb_main.o -c -MMD -O2 -g -DDO_ITT_NOTIFY -DUSE_PTHREAD -pthread -m64 -mrtm  -fPIC -flifetime-dse=1 -D__TBB_BUILD=1 -Wall -Wextra -Wno-parentheses -Wno-sized-deallocation -Wno-unknown-warning-option -Wno-deprecated-copy -Wno-missing-attributes -Wno-class-memaccess -Wno-sized-deallocation   -DTBB_SUPPRESS_DEPRECATED_MESSAGES=1 -std=c++17  -I../tbb_2020.3/src -I../tbb_2020.3/src/rml/include -I../tbb_2020.3/include ../tbb_2020.3/src/tbb/tbb_main.cpp\n",
            "g++ -o concurrent_vector_v2.o -c -MMD -O2 -g -DDO_ITT_NOTIFY -DUSE_PTHREAD -pthread -m64 -mrtm  -fPIC -flifetime-dse=1 -D__TBB_BUILD=1 -Wall -Wextra -Wno-parentheses -Wno-sized-deallocation -Wno-unknown-warning-option -Wno-deprecated-copy -Wno-missing-attributes -Wno-class-memaccess -Wno-sized-deallocation   -DTBB_SUPPRESS_DEPRECATED_MESSAGES=1 -std=c++17  -I../tbb_2020.3/src -I../tbb_2020.3/src/rml/include -I../tbb_2020.3/include ../tbb_2020.3/src/old/concurrent_vector_v2.cpp\n",
            "g++ -o concurrent_queue_v2.o -c -MMD -O2 -g -DDO_ITT_NOTIFY -DUSE_PTHREAD -pthread -m64 -mrtm  -fPIC -flifetime-dse=1 -D__TBB_BUILD=1 -Wall -Wextra -Wno-parentheses -Wno-sized-deallocation -Wno-unknown-warning-option -Wno-deprecated-copy -Wno-missing-attributes -Wno-class-memaccess -Wno-sized-deallocation   -DTBB_SUPPRESS_DEPRECATED_MESSAGES=1 -std=c++17  -I../tbb_2020.3/src -I../tbb_2020.3/src/rml/include -I../tbb_2020.3/include ../tbb_2020.3/src/old/concurrent_queue_v2.cpp\n",
            "g++ -o spin_rw_mutex_v2.o -c -MMD -O2 -g -DDO_ITT_NOTIFY -DUSE_PTHREAD -pthread -m64 -mrtm  -fPIC -flifetime-dse=1 -D__TBB_BUILD=1 -Wall -Wextra -Wno-parentheses -Wno-sized-deallocation -Wno-unknown-warning-option -Wno-deprecated-copy -Wno-missing-attributes -Wno-class-memaccess -Wno-sized-deallocation   -DTBB_SUPPRESS_DEPRECATED_MESSAGES=1 -std=c++17  -I../tbb_2020.3/src -I../tbb_2020.3/src/rml/include -I../tbb_2020.3/include ../tbb_2020.3/src/old/spin_rw_mutex_v2.cpp\n",
            "g++ -o task_v2.o -c -MMD -O2 -g -DDO_ITT_NOTIFY -DUSE_PTHREAD -pthread -m64 -mrtm  -fPIC -flifetime-dse=1 -D__TBB_BUILD=1 -Wall -Wextra -Wno-parentheses -Wno-sized-deallocation -Wno-unknown-warning-option -Wno-deprecated-copy -Wno-missing-attributes -Wno-class-memaccess -Wno-sized-deallocation   -DTBB_SUPPRESS_DEPRECATED_MESSAGES=1 -std=c++17  -I../tbb_2020.3/src -I../tbb_2020.3/src/rml/include -I../tbb_2020.3/include ../tbb_2020.3/src/old/task_v2.cpp\n",
            "sh ../tbb_2020.3/build/generate_tbbvars.sh\n",
            "echo \"INPUT (libtbb.so.2)\" > libtbb.so\n",
            "g++ -E -x c++ ../tbb_2020.3/src/tbb/lin64-tbb-export.def -O2 -g -DDO_ITT_NOTIFY -DUSE_PTHREAD -pthread -m64 -mrtm  -fPIC -flifetime-dse=1 -D__TBB_BUILD=1 -Wall -Wextra -Wno-parentheses -Wno-sized-deallocation -Wno-unknown-warning-option -Wno-deprecated-copy -Wno-missing-attributes -Wno-class-memaccess -Wno-sized-deallocation   -DTBB_SUPPRESS_DEPRECATED_MESSAGES=1 -I../tbb_2020.3/src -I../tbb_2020.3/src/rml/include -I../tbb_2020.3/include > tbb.def\n",
            "g++ -o tbb_misc.o -c -MMD -O2 -g -DDO_ITT_NOTIFY -DUSE_PTHREAD -pthread -m64 -mrtm  -fPIC -flifetime-dse=1 -D__TBB_BUILD=1 -Wall -Wextra -Wno-parentheses -Wno-sized-deallocation -Wno-unknown-warning-option -Wno-deprecated-copy -Wno-missing-attributes -Wno-class-memaccess -Wno-sized-deallocation   -DTBB_SUPPRESS_DEPRECATED_MESSAGES=1 -std=c++17  -I../tbb_2020.3/src -I../tbb_2020.3/src/rml/include -I../tbb_2020.3/include -I. ../tbb_2020.3/src/tbb/tbb_misc.cpp\n",
            "g++ -fPIC -o libtbb.so.2 concurrent_hash_map.o concurrent_queue.o concurrent_vector.o dynamic_link.o itt_notify.o cache_aligned_allocator.o pipeline.o queuing_mutex.o queuing_rw_mutex.o reader_writer_lock.o spin_rw_mutex.o x86_rtm_rw_mutex.o spin_mutex.o critical_section.o mutex.o recursive_mutex.o condition_variable.o tbb_thread.o concurrent_monitor.o semaphore.o private_server.o rml_tbb.o tbb_misc.o tbb_misc_ex.o task.o task_group_context.o governor.o market.o arena.o scheduler.o observer_proxy.o tbb_statistics.o tbb_main.o concurrent_vector_v2.o concurrent_queue_v2.o spin_rw_mutex_v2.o task_v2.o   -ldl -lrt -shared -Wl,-soname=libtbb.so.2 -pthread -m64 -Wl,-L,\"/root/.cmdstan/cmdstan-2.35.0/stan/lib/stan_math/lib/tbb\"   -Wl,-rpath,\"/root/.cmdstan/cmdstan-2.35.0/stan/lib/stan_math/lib/tbb\" -Wl,--version-script,tbb.def\n",
            "make[1]: Leaving directory '/root/.cmdstan/cmdstan-2.35.0/stan/lib/stan_math/lib/tbb'\n",
            "g++ -Wno-deprecated-declarations -std=c++17 -pthread -D_REENTRANT -Wno-sign-compare -Wno-ignored-attributes -Wno-class-memaccess      -I stan/lib/stan_math/lib/tbb_2020.3/include    -O3 -I src -I stan/src -I stan/lib/rapidjson_1.1.0/ -I lib/CLI11-1.9.1/ -I stan/lib/stan_math/ -I stan/lib/stan_math/lib/eigen_3.4.0 -I stan/lib/stan_math/lib/boost_1.84.0 -I stan/lib/stan_math/lib/sundials_6.1.1/include -I stan/lib/stan_math/lib/sundials_6.1.1/src/sundials    -DBOOST_DISABLE_ASSERTS               -Wl,-L,\"/root/.cmdstan/cmdstan-2.35.0/stan/lib/stan_math/lib/tbb\"   -Wl,-rpath,\"/root/.cmdstan/cmdstan-2.35.0/stan/lib/stan_math/lib/tbb\"      bin/cmdstan/stansummary.o stan/lib/stan_math/lib/tbb/libtbb.so.2       -ltbb   -o bin/stansummary\n",
            "g++ -Wno-deprecated-declarations -std=c++17 -pthread -D_REENTRANT -Wno-sign-compare -Wno-ignored-attributes -Wno-class-memaccess      -I stan/lib/stan_math/lib/tbb_2020.3/include    -O3 -I src -I stan/src -I stan/lib/rapidjson_1.1.0/ -I lib/CLI11-1.9.1/ -I stan/lib/stan_math/ -I stan/lib/stan_math/lib/eigen_3.4.0 -I stan/lib/stan_math/lib/boost_1.84.0 -I stan/lib/stan_math/lib/sundials_6.1.1/include -I stan/lib/stan_math/lib/sundials_6.1.1/src/sundials    -DBOOST_DISABLE_ASSERTS               -Wl,-L,\"/root/.cmdstan/cmdstan-2.35.0/stan/lib/stan_math/lib/tbb\"   -Wl,-rpath,\"/root/.cmdstan/cmdstan-2.35.0/stan/lib/stan_math/lib/tbb\"      bin/cmdstan/print.o stan/lib/stan_math/lib/tbb/libtbb.so.2       -ltbb   -o bin/print\n",
            "g++ -Wno-deprecated-declarations -std=c++17 -pthread -D_REENTRANT -Wno-sign-compare -Wno-ignored-attributes -Wno-class-memaccess      -I stan/lib/stan_math/lib/tbb_2020.3/include    -O3 -I src -I stan/src -I stan/lib/rapidjson_1.1.0/ -I lib/CLI11-1.9.1/ -I stan/lib/stan_math/ -I stan/lib/stan_math/lib/eigen_3.4.0 -I stan/lib/stan_math/lib/boost_1.84.0 -I stan/lib/stan_math/lib/sundials_6.1.1/include -I stan/lib/stan_math/lib/sundials_6.1.1/src/sundials    -DBOOST_DISABLE_ASSERTS               -Wl,-L,\"/root/.cmdstan/cmdstan-2.35.0/stan/lib/stan_math/lib/tbb\"   -Wl,-rpath,\"/root/.cmdstan/cmdstan-2.35.0/stan/lib/stan_math/lib/tbb\"      bin/cmdstan/diagnose.o stan/lib/stan_math/lib/tbb/libtbb.so.2       -ltbb   -o bin/diagnose\n",
            "\n",
            "--- CmdStan v2.35.0 built ---\n",
            "g++ -Wno-deprecated-declarations -std=c++17 -pthread -D_REENTRANT -Wno-sign-compare -Wno-ignored-attributes -Wno-class-memaccess      -I stan/lib/stan_math/lib/tbb_2020.3/include    -O3 -I src -I stan/src -I stan/lib/rapidjson_1.1.0/ -I lib/CLI11-1.9.1/ -I stan/lib/stan_math/ -I stan/lib/stan_math/lib/eigen_3.4.0 -I stan/lib/stan_math/lib/boost_1.84.0 -I stan/lib/stan_math/lib/sundials_6.1.1/include -I stan/lib/stan_math/lib/sundials_6.1.1/src/sundials    -DBOOST_DISABLE_ASSERTS          -c -MT src/cmdstan/main.o -MM -E -MG -MP -MF src/cmdstan/main.d src/cmdstan/main.cpp\n",
            "\n",
            "--- Translating Stan model to C++ code ---\n",
            "bin/stanc  --o=examples/bernoulli/bernoulli.hpp examples/bernoulli/bernoulli.stan\n",
            "\n",
            "--- Compiling C++ code ---\n",
            "g++ -Wno-deprecated-declarations -std=c++17 -pthread -D_REENTRANT -Wno-sign-compare -Wno-ignored-attributes -Wno-class-memaccess      -I stan/lib/stan_math/lib/tbb_2020.3/include    -O3 -I src -I stan/src -I stan/lib/rapidjson_1.1.0/ -I lib/CLI11-1.9.1/ -I stan/lib/stan_math/ -I stan/lib/stan_math/lib/eigen_3.4.0 -I stan/lib/stan_math/lib/boost_1.84.0 -I stan/lib/stan_math/lib/sundials_6.1.1/include -I stan/lib/stan_math/lib/sundials_6.1.1/src/sundials    -DBOOST_DISABLE_ASSERTS          -c -Wno-ignored-attributes   -x c++ -o examples/bernoulli/bernoulli.o examples/bernoulli/bernoulli.hpp\n",
            "\n",
            "--- Linking model ---\n",
            "g++ -Wno-deprecated-declarations -std=c++17 -pthread -D_REENTRANT -Wno-sign-compare -Wno-ignored-attributes -Wno-class-memaccess      -I stan/lib/stan_math/lib/tbb_2020.3/include    -O3 -I src -I stan/src -I stan/lib/rapidjson_1.1.0/ -I lib/CLI11-1.9.1/ -I stan/lib/stan_math/ -I stan/lib/stan_math/lib/eigen_3.4.0 -I stan/lib/stan_math/lib/boost_1.84.0 -I stan/lib/stan_math/lib/sundials_6.1.1/include -I stan/lib/stan_math/lib/sundials_6.1.1/src/sundials    -DBOOST_DISABLE_ASSERTS               -Wl,-L,\"/root/.cmdstan/cmdstan-2.35.0/stan/lib/stan_math/lib/tbb\"   -Wl,-rpath,\"/root/.cmdstan/cmdstan-2.35.0/stan/lib/stan_math/lib/tbb\"      examples/bernoulli/bernoulli.o src/cmdstan/main.o       -ltbb   stan/lib/stan_math/lib/sundials_6.1.1/lib/libsundials_nvecserial.a stan/lib/stan_math/lib/sundials_6.1.1/lib/libsundials_cvodes.a stan/lib/stan_math/lib/sundials_6.1.1/lib/libsundials_idas.a stan/lib/stan_math/lib/sundials_6.1.1/lib/libsundials_kinsol.a  stan/lib/stan_math/lib/tbb/libtbb.so.2 -o examples/bernoulli/bernoulli\n",
            "rm examples/bernoulli/bernoulli.o examples/bernoulli/bernoulli.hpp\n"
          ]
        },
        {
          "output_type": "stream",
          "name": "stderr",
          "text": [
            "* Finished installing CmdStan to /root/.cmdstan/cmdstan-2.35.0\n",
            "\n",
            "\n",
            "CmdStan path set to: /root/.cmdstan/cmdstan-2.35.0\n",
            "\n",
            "CmdStan path set to: /root/.cmdstan/cmdstan-2.35.0\n",
            "\n"
          ]
        },
        {
          "output_type": "display_data",
          "data": {
            "text/html": [
              "'2.35.0'"
            ],
            "text/markdown": "'2.35.0'",
            "text/latex": "'2.35.0'",
            "text/plain": [
              "[1] \"2.35.0\""
            ]
          },
          "metadata": {}
        }
      ]
    },
    {
      "cell_type": "code",
      "source": [
        "# Install necessary packages\n",
        "install.packages(c(\"coda\", \"mvtnorm\", \"devtools\", \"loo\", \"dagitty\", \"shape\"))\n",
        "\n",
        "# Load devtools for GitHub installation\n",
        "library(devtools)\n",
        "\n",
        "# Install rethinking from GitHub\n",
        "devtools::install_github(\"rmcelreath/rethinking\")\n"
      ],
      "metadata": {
        "colab": {
          "base_uri": "https://localhost:8080/"
        },
        "id": "rd9jkYG4WyyR",
        "outputId": "d3d54334-9857-46af-8930-c0a4a5733570"
      },
      "execution_count": 4,
      "outputs": [
        {
          "output_type": "stream",
          "name": "stderr",
          "text": [
            "Installing packages into ‘/usr/local/lib/R/site-library’\n",
            "(as ‘lib’ is unspecified)\n",
            "\n",
            "also installing the dependency ‘V8’\n",
            "\n",
            "\n",
            "Loading required package: usethis\n",
            "\n",
            "Downloading GitHub repo rmcelreath/rethinking@HEAD\n",
            "\n"
          ]
        },
        {
          "output_type": "stream",
          "name": "stdout",
          "text": [
            "\n",
            "\u001b[36m──\u001b[39m \u001b[36mR CMD build\u001b[39m \u001b[36m─────────────────────────────────────────────────────────────────\u001b[39m\n",
            "* checking for file ‘/tmp/Rtmpsw8qSo/remotes9e7a70126e/rmcelreath-rethinking-f3ac8de/DESCRIPTION’ ... OK\n",
            "* preparing ‘rethinking’:\n",
            "* checking DESCRIPTION meta-information ... OK\n",
            "* checking for LF line-endings in source and make files and shell scripts\n",
            "* checking for empty or unneeded directories\n",
            "* looking to see if a ‘data/datalist’ file should be added\n",
            "* building ‘rethinking_2.40.tar.gz’\n",
            "\n"
          ]
        },
        {
          "output_type": "stream",
          "name": "stderr",
          "text": [
            "Installing package into ‘/usr/local/lib/R/site-library’\n",
            "(as ‘lib’ is unspecified)\n",
            "\n"
          ]
        }
      ]
    },
    {
      "cell_type": "code",
      "source": [
        "library(rethinking)"
      ],
      "metadata": {
        "colab": {
          "base_uri": "https://localhost:8080/"
        },
        "id": "76h8LgPcYq2E",
        "outputId": "f98a91eb-76f5-4b82-ab17-35bc178b8c75"
      },
      "execution_count": 5,
      "outputs": [
        {
          "output_type": "stream",
          "name": "stderr",
          "text": [
            "Loading required package: posterior\n",
            "\n",
            "This is posterior version 1.6.0\n",
            "\n",
            "\n",
            "Attaching package: ‘posterior’\n",
            "\n",
            "\n",
            "The following objects are masked from ‘package:stats’:\n",
            "\n",
            "    mad, sd, var\n",
            "\n",
            "\n",
            "The following objects are masked from ‘package:base’:\n",
            "\n",
            "    %in%, match\n",
            "\n",
            "\n",
            "Loading required package: parallel\n",
            "\n",
            "rethinking (Version 2.40)\n",
            "\n",
            "\n",
            "Attaching package: ‘rethinking’\n",
            "\n",
            "\n",
            "The following object is masked from ‘package:stats’:\n",
            "\n",
            "    rstudent\n",
            "\n",
            "\n"
          ]
        }
      ]
    },
    {
      "cell_type": "code",
      "source": [
        "# Test Installation\n",
        "\n",
        "## Simulate some data for a binary outcome based on a single predictor\n",
        "n <- 100\n",
        "x <- rnorm(n)\n",
        "prob <- 1 / (1 + exp(-x))\n",
        "y <- rbinom(n, 1, prob)\n",
        "\n",
        "## Fit a logistic regression using ulam\n",
        "fit <- ulam(\n",
        "  alist(\n",
        "    y ~ bernoulli( p ),\n",
        "    logit(p) <- a + b*x,\n",
        "    a ~ normal(0, 1),\n",
        "    b ~ normal(0, 1)\n",
        "  ), data = list(x = x, y = y)\n",
        ")\n",
        "\n",
        "precis(fit)"
      ],
      "metadata": {
        "colab": {
          "base_uri": "https://localhost:8080/",
          "height": 421
        },
        "id": "AK1-F_d0ZIFf",
        "outputId": "db0e4c8e-bec2-47be-d307-38406089c06a"
      },
      "execution_count": 6,
      "outputs": [
        {
          "output_type": "stream",
          "name": "stdout",
          "text": [
            "Running MCMC with 1 chain, with 1 thread(s) per chain...\n",
            "\n",
            "Chain 1 Iteration:   1 / 1000 [  0%]  (Warmup) \n",
            "Chain 1 Iteration: 100 / 1000 [ 10%]  (Warmup) \n",
            "Chain 1 Iteration: 200 / 1000 [ 20%]  (Warmup) \n",
            "Chain 1 Iteration: 300 / 1000 [ 30%]  (Warmup) \n",
            "Chain 1 Iteration: 400 / 1000 [ 40%]  (Warmup) \n",
            "Chain 1 Iteration: 500 / 1000 [ 50%]  (Warmup) \n",
            "Chain 1 Iteration: 501 / 1000 [ 50%]  (Sampling) \n",
            "Chain 1 Iteration: 600 / 1000 [ 60%]  (Sampling) \n",
            "Chain 1 Iteration: 700 / 1000 [ 70%]  (Sampling) \n",
            "Chain 1 Iteration: 800 / 1000 [ 80%]  (Sampling) \n",
            "Chain 1 Iteration: 900 / 1000 [ 90%]  (Sampling) \n",
            "Chain 1 Iteration: 1000 / 1000 [100%]  (Sampling) \n",
            "Chain 1 finished in 0.1 seconds.\n"
          ]
        },
        {
          "output_type": "display_data",
          "data": {
            "text/html": [
              "<table class=\"dataframe\">\n",
              "<caption>A precis: 2 × 6</caption>\n",
              "<thead>\n",
              "\t<tr><th></th><th scope=col>mean</th><th scope=col>sd</th><th scope=col>5.5%</th><th scope=col>94.5%</th><th scope=col>rhat</th><th scope=col>ess_bulk</th></tr>\n",
              "\t<tr><th></th><th scope=col>&lt;dbl&gt;</th><th scope=col>&lt;dbl&gt;</th><th scope=col>&lt;dbl&gt;</th><th scope=col>&lt;dbl&gt;</th><th scope=col>&lt;dbl&gt;</th><th scope=col>&lt;dbl&gt;</th></tr>\n",
              "</thead>\n",
              "<tbody>\n",
              "\t<tr><th scope=row>a</th><td>-0.3948023</td><td>0.2085041</td><td>-0.7519411</td><td>-0.06333678</td><td>1.0074960</td><td>281.3861</td></tr>\n",
              "\t<tr><th scope=row>b</th><td> 0.9620947</td><td>0.2528070</td><td> 0.5739673</td><td> 1.35542090</td><td>0.9986722</td><td>408.8691</td></tr>\n",
              "</tbody>\n",
              "</table>\n"
            ],
            "text/markdown": "\nA precis: 2 × 6\n\n| <!--/--> | mean &lt;dbl&gt; | sd &lt;dbl&gt; | 5.5% &lt;dbl&gt; | 94.5% &lt;dbl&gt; | rhat &lt;dbl&gt; | ess_bulk &lt;dbl&gt; |\n|---|---|---|---|---|---|---|\n| a | -0.3948023 | 0.2085041 | -0.7519411 | -0.06333678 | 1.0074960 | 281.3861 |\n| b |  0.9620947 | 0.2528070 |  0.5739673 |  1.35542090 | 0.9986722 | 408.8691 |\n\n",
            "text/latex": "A precis: 2 × 6\n\\begin{tabular}{r|llllll}\n  & mean & sd & 5.5\\% & 94.5\\% & rhat & ess\\_bulk\\\\\n  & <dbl> & <dbl> & <dbl> & <dbl> & <dbl> & <dbl>\\\\\n\\hline\n\ta & -0.3948023 & 0.2085041 & -0.7519411 & -0.06333678 & 1.0074960 & 281.3861\\\\\n\tb &  0.9620947 & 0.2528070 &  0.5739673 &  1.35542090 & 0.9986722 & 408.8691\\\\\n\\end{tabular}\n",
            "text/plain": [
              "  mean       sd        5.5%       94.5%       rhat      ess_bulk\n",
              "a -0.3948023 0.2085041 -0.7519411 -0.06333678 1.0074960 281.3861\n",
              "b  0.9620947 0.2528070  0.5739673  1.35542090 0.9986722 408.8691"
            ]
          },
          "metadata": {}
        }
      ]
    },
    {
      "cell_type": "markdown",
      "source": [
        "# Chapter 11"
      ],
      "metadata": {
        "id": "1ZlXL1B2XGQm"
      }
    },
    {
      "cell_type": "markdown",
      "source": [
        "## Easy"
      ],
      "metadata": {
        "id": "hLV6g37DADVa"
      }
    },
    {
      "cell_type": "markdown",
      "source": [
        "### 11E1\n",
        "If an event has probability 0.35, what are the log-odds of this event?\n",
        "\n",
        "#### Answer\n",
        "We just need to definition of log odds.\n",
        "> $\\text{Odds} = \\frac{p}{1-p}$\n",
        "\n",
        "> $\\text{log-Odds} = \\text{ln}\\left(\\frac{p}{1-p}\\right)$\n",
        "\n",
        "So for our problem\n",
        "> $\\text{log-Odds}(0.35) = \\text{ln}\\left(\\frac{0.35}{1-0.35}\\right)\n",
        "= \\text{ln}\\left(\\frac{0.35}{0.65}\\right) \\approx -0.62$"
      ],
      "metadata": {
        "id": "d0CU5ffVAFPn"
      }
    },
    {
      "cell_type": "code",
      "source": [
        "log(0.35 / (1-0.35))"
      ],
      "metadata": {
        "colab": {
          "base_uri": "https://localhost:8080/",
          "height": 34
        },
        "id": "H2i1Ya0CBhjC",
        "outputId": "6ab3f6a7-d533-42cd-a48e-b53785a1bb5e"
      },
      "execution_count": null,
      "outputs": [
        {
          "output_type": "display_data",
          "data": {
            "text/html": [
              "-0.619039208406224"
            ],
            "text/markdown": "-0.619039208406224",
            "text/latex": "-0.619039208406224",
            "text/plain": [
              "[1] -0.6190392"
            ]
          },
          "metadata": {}
        }
      ]
    },
    {
      "cell_type": "markdown",
      "source": [
        "### 11E2\n",
        "If an event has log-odds 3.2, what is the probability of this event?\n",
        "\n",
        "#### Answer\n",
        "We can find this in R pretty easily:"
      ],
      "metadata": {
        "id": "EMalIB1PB3bq"
      }
    },
    {
      "cell_type": "code",
      "source": [
        "logistic(3.2)"
      ],
      "metadata": {
        "colab": {
          "base_uri": "https://localhost:8080/",
          "height": 34
        },
        "id": "0gN_jQbGHRvo",
        "outputId": "71b2bcb3-2fb6-4f91-d0ec-84cb22791c86"
      },
      "execution_count": null,
      "outputs": [
        {
          "output_type": "display_data",
          "data": {
            "text/html": [
              "0.960834277203236"
            ],
            "text/markdown": "0.960834277203236",
            "text/latex": "0.960834277203236",
            "text/plain": [
              "[1] 0.9608343"
            ]
          },
          "metadata": {}
        }
      ]
    },
    {
      "cell_type": "markdown",
      "source": [
        "But I think it's worth knowing to calculate this by hand.\n",
        "\n",
        "> $\\text{log-odds} = 3.2 = \\text{ln}\\left(\\frac{p}{1-p}\\right)\n",
        "\\rightarrow e^{3.2} = \\frac{p}{1-p}\n",
        "\\rightarrow (1-p)e^{3.2} = e^{3.2} - pe^{3.2} = p\n",
        "\\rightarrow e^{3.2} = p + pe^{3.2} = p(1 + e^{3.2})\n",
        "\\rightarrow p = \\frac{e^{3.2}}{1 + e^{3.2}} \\approx 0.961 $"
      ],
      "metadata": {
        "id": "YB6ZKwuwHVcX"
      }
    },
    {
      "cell_type": "markdown",
      "source": [
        "### 11E3\n",
        "Suppose that a coefficient in a logistic regression has value 1.7. What does this imply about  the proportional change in odds of the outcome?\n",
        "\n",
        "#### Answer\n",
        "First on the *log-odds* scale, a coefficient of 1.7 means that the log-odds increases *additively* by 1.7 for a one-unit increase in the corresponding predictor variable: $\\text{ln}\\left(\\frac{p}{1-p}\\right) = ... + 1.7x$.  To get this to the *odds* scale, we exponentiate both sides: $\\frac{p}{1-p} = ... \\times e^{1.7x}$ such that the odds increase *multiplicatively* by $e^{1.7}$ for a one-unit increase in $x$."
      ],
      "metadata": {
        "id": "dJDlC3oJJH8m"
      }
    },
    {
      "cell_type": "markdown",
      "source": [
        "### 11E4\n",
        "Why do Poisson regressions sometimes require the use of an *offset*?  Provide an example.\n",
        "\n",
        "#### Answer\n",
        "In short, an offset is required when the outcome is something like a rate--a fraction where the numerator is the number of events and the denominator is something like attempts, space, time, or exposure--where the value of the denominator may vary among observations.  In this case, our model might look like\n",
        "\n",
        "$$g\\left(\\frac{y}{m}\\right) = \\alpha + \\beta_1 x_1 + ... + \\beta_p x_p$$\n",
        "\n",
        "The problem is that we don't have a GLM that can accomodate fractional outcomes.  But say we take $g(.)$ to be $\\text{ln}(.)$; then we have\n",
        "\n",
        "$$\\text{ln}\\left(\\frac{y}{m}\\right) = \\text{ln}(y) - \\text{ln}(m) = \\alpha + \\beta_1 x_1 + ... + \\beta_p x_p$$.\n",
        "\n",
        "Now we can take $\\text{ln}(m)$ over to the other side to get\n",
        "\n",
        "$$\\text{ln}(y) = \\text{ln}(m) + \\alpha + \\beta_1 x_1 + ... + \\beta_p x_p$$\n",
        "\n",
        "where $\\text{ln}(m)$ is the offset.  So what we're left with is a Poisson regression with an offset."
      ],
      "metadata": {
        "id": "sRAosZQ8tv3t"
      }
    },
    {
      "cell_type": "markdown",
      "source": [
        "## Medium"
      ],
      "metadata": {
        "id": "1RcIhy3Gu60t"
      }
    },
    {
      "cell_type": "markdown",
      "source": [
        "### 11M1\n",
        "As explained in the chapter, binomial data can be organized in aggregated and disaggregated  forms, without any impact on inference. But the likelihood of the data does change when the data are  converted between the two formats. Can you explain why?\n",
        "\n",
        "#### Answer\n",
        "From the chimpanzee example in the chapter, aggregated data may look like\n",
        "\n",
        "![image.png](data:image/png;base64,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)\n",
        "\n",
        "where the outcome `left_pulls` is a sum of \"successes\" across trials.  Conversely, disaggregated data may look like\n",
        "\n",
        "|treatment|actor|side|cond|left_pull|\n",
        "|---------|-----|----|----|---------|\n",
        "|1|1|1|1|0|\n",
        "|1|1|1|1|0|\n",
        "|1|1|1|1|1|\n",
        "|...|...|...|...|...|\n",
        "|2|7|2|4|1|\n",
        "\n",
        "where each trial is described on a single line.\n",
        "\n",
        "These data formats require different likelihoods.  Both can use binomial likelihoods, but the aggregated data must account for the fact that multiple trials are represented in a single row like `left_pulls ~ dbinom(18, p)`, while the disaggregated data does not (`left_pull ~ dbinom(1, p)`).  In math notation, the disaggregated likelihood looks like $p^y(1-p)^{1-y}$ while the aggregated likelihood looks like $\\frac{y!}{y!(n-y)!}p^y(1-p)^{n-y}$ $y$ is the outcome and $n=18$ is the number of trials."
      ],
      "metadata": {
        "id": "AymDppHKu9YL"
      }
    },
    {
      "cell_type": "markdown",
      "source": [
        "### 11M2\n",
        "If a coefficient in a Poisson regression has value 1.7, what does this imply about the change in the outcome?\n",
        "\n",
        "#### Answer\n",
        "Let's get aquainted with the Poisson regression; for illustration, we'll assume a single intercept and a single explanatory variable $X$:\n",
        "$$ y \\sim Poisson(\\lambda)$$\n",
        "$$ \\text{ln}(\\lambda) = \\alpha + \\beta x$$\n",
        "\n",
        "So we can rewrite the linear model as\n",
        "$$ \\lambda = \\text{exp}(\\alpha + \\beta x) = e^\\alpha e^{\\beta x}$$\n",
        "\n",
        "So what happens to $\\lambda$ when $x$ increases by 1 unit?  How does $\\lambda_{x+1}$ compare with $\\lambda_x$?\n",
        "$$\\frac{\\lambda_{x+1}}{\\lambda_x} = \\text{exp}[(\\alpha + \\beta (x+1)) - (\\alpha + \\beta x)] = \\frac{\\text{exp}(\\alpha + \\beta (x+1))}{\\text{exp}(\\alpha + \\beta x)} = \\frac{e^\\alpha e^{\\beta (x+1)}}{e^\\alpha e^{\\beta x}} = \\frac{e^{\\beta x+ \\beta}}{e^{\\beta x}} = \\frac{e^{\\beta x} e^{\\beta}}{e^{\\beta x}} = e^\\beta$$\n",
        "\n",
        "Thus, a 1-unit change in $X$ results in an $e^\\beta$ change in $\\lambda_{x+1}$ compared to $\\lambda_x$.  Here, if $\\beta = 1.7$, there is proportional change to $\\lambda_{x+1}$ of $e^{1.7} \\approx 5.47$"
      ],
      "metadata": {
        "id": "imsEHux69u35"
      }
    },
    {
      "cell_type": "markdown",
      "source": [
        "### 11M3 and 11M4\n",
        "Explain why the logit link is appropriate for a binomial generalized linear model.\n",
        "\n",
        "Explain why the log link is appropriate for a Poisson generalized linear model.\n",
        "\n",
        "#### Answers\n",
        "Logistic regression is generally used to model parameters, $p$, that is constrained between [0,1].  The logit link, $\\text{ln}\\frac{p}{1-p}$, achieves this by mapping values of our linear function $X \\beta$ to values of [0,1].\n",
        "\n",
        "![image.png](data:image/png;base64,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)\n",
        "\n",
        "Similarly, Poisson regression is used to model parameters, $\\lambda$, that are non-negative.  The log link function, $\\text{ln}(\\lambda)$ achieves this by mapping values of our linear function $X\\beta$ to values $\\ge 0$.\n",
        "\n",
        "![image.png](data:image/png;base64,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)"
      ],
      "metadata": {
        "id": "1oCna1R6Eokm"
      }
    },
    {
      "cell_type": "markdown",
      "source": [
        "### 11M5\n",
        "What would it imply to use a logit link for the mean of a Poisson generalized linear model?  Can you think of a real research problem for which this would make sense?\n",
        "\n",
        "#### Answer\n",
        "Let's first see what such a model would look like:\n",
        "\n",
        "$$y \\sim Poisson(\\lambda)$$\n",
        "$$\\text{logit}(\\lambda) = \\text{ln}\\frac{\\lambda}{1 - \\lambda} = X\\beta$$\n",
        "\n",
        "This would imply that the expected value of $y$, $\\lambda$, would be bound between [0,1].\n",
        "\n",
        "To be honest, I cannot think of a reason that this would be used in practice..."
      ],
      "metadata": {
        "id": "ySFYA_pIHu2K"
      }
    },
    {
      "cell_type": "markdown",
      "source": [
        "### 11M6\n",
        "State the constraints for which the binomial and Poisson distributions have maximum entropy. Are the constraints different at all for binomial and Poisson? Why or why not?\n",
        "\n",
        "#### Answer\n",
        "I'm working on a writeup about MaxEnt.  The basic idea of MaxEnt is to maximize entropy\n",
        "\n",
        "$$H = -\\sum_{i=1}^n p(x_i) \\times \\text{ln}(p(x_i))$$\n",
        "\n",
        "subject to some set of constraints, where each constraint $c$ is expressed like\n",
        "\n",
        "$$c_m: E[g_m(X)] = \\sum_a^b p(x_i) g_m(x_i) \\ \\text{or} \\ \\int_a^b p(x) g_m(x) dx$$\n",
        "\n",
        "One of these constraints is always\n",
        "\n",
        "$$c_1: \\sum_{x=-\\infty}^{\\infty} p(x) = 1 \\ \\text{or} \\ \\int_{x=-\\infty}^{\\infty} p(x) \\ dx = 1$$\n",
        "\n",
        "which is just a fact about probability: *total probability always sums to 1*.  Here, $g_m(X) = 1$.\n",
        "\n",
        "If we assume that $X$ is a discrete variable that is $\\ge 0$, which is the case for both binomial and Poisson distributions, we can rewrite\n",
        "\n",
        "$$c_1: \\sum_{x=0}^{\\infty} p(x) = 1$$\n",
        "\n",
        "Since the binomial distribution only includes values of 0 or 1, we can rewrite\n",
        "\n",
        "$$c_1^{\\text{binomial}}: \\sum_{x=0}^{1} p(x) = 1 , \\ c_1^{\\text{Poisson}}: \\sum_{x=0}^{\\infty} p(x) = 1$$\n",
        "\n",
        "If we can assume that the distribution has a mean, we can impose a second constraint\n",
        "\n",
        "$$c_2: \\sum_{i=1}^n p(x_i) \\times x_i = \\bar{X}$$\n",
        "\n",
        "which is just the definition of the arithmetic mean.  The binomial distibution has $\\bar{X}_{\\text{binomial}} = np$ while the Poisson distribution has $\\bar{X}_{\\text{Poisson}} = \\lambda$.  Actually, as $n$ gets large, $\\lambda \\approx np$.  So the two distributions are closely related.\n",
        "\n",
        "Without getting too far into the math, these terms get wrapped up into an expression called the [Lagrangian](https://www.khanacademy.org/math/multivariable-calculus/applications-of-multivariable-derivatives/lagrange-multipliers-and-constrained-optimization/v/constrained-optimization-introduction) like\n",
        "\n",
        "$$𝓛 = H - \\phi \\left(\\sum_{x=0}^{\\infty} p(x) - 1 \\right) - \\psi \\left(\\sum_{i=1}^n p(x_i) \\times x_i - \\bar{X} \\right)$$\n",
        "\n",
        "where $\\phi$ and $\\psi$ are \"Lagrange multipliers\".  For each $n$ Lagrangians, we solve for $p(x_i)$ by taking all partial derivatives of $𝓛$ with respect to $p(x_i)$ and setting equal to 0; $\\phi$ and $\\psi$ can be found along the way. The outcome of this, given our constraints, are the binomial and Poisson distributions.\n",
        "\n",
        "Importantly, notice that all of this implies that each observation $x_i$ is independent, and $p(X=x)$ is constant across trials."
      ],
      "metadata": {
        "id": "hxdmO5380_JS"
      }
    },
    {
      "cell_type": "markdown",
      "source": [
        "### 11M7\n",
        "\n",
        "Use `quap` to construct a quadratic approximate posterior distribution for the chimpanzee model that includes a unique intercept for each actor, `m11.4` (page 330). Compare the quadratic approximation to the posterior distribution produced instead from MCMC. Can you explain both the differences and the similarities between the approximate and the MCMC distributions? Relax the  prior on the actor intercepts to Normal(0,10). Re-estimate the posterior using both `ulam` and `quap`. Do the differences increase or decrease? Why?\n",
        "\n",
        "#### Answer\n",
        "Let's prepare the data first."
      ],
      "metadata": {
        "id": "DESDfYY3nXpO"
      }
    },
    {
      "cell_type": "code",
      "source": [
        "data(chimpanzees)\n",
        "d <- chimpanzees\n",
        "d$treatment <- 1 + d$prosoc_left + 2*d$condition\n",
        "dat_list <- list(pulled_left = d$pulled_left,\n",
        "                 actor = d$actor,\n",
        "                 treatment = as.integer(d$treatment))"
      ],
      "metadata": {
        "id": "E74wI35Q_7bq"
      },
      "execution_count": null,
      "outputs": []
    },
    {
      "cell_type": "markdown",
      "source": [
        "Now we'll run the `ulam` and `quap` versions of the model from the chapter."
      ],
      "metadata": {
        "id": "5fvzjQrvANKI"
      }
    },
    {
      "cell_type": "code",
      "source": [
        "m11.4_ulam <- ulam(\n",
        "  alist(\n",
        "  pulled_left ~ dbinom(1 , p),\n",
        "    logit(p) <- a[actor] + b[treatment],\n",
        "      a[actor] ~ dnorm(0, 1.5),\n",
        "      b[treatment] ~ dnorm(0, 0.5)\n",
        "  ), data=dat_list,\n",
        "     chains=4,\n",
        "     cores=4)\n",
        "\n",
        "m11.4_quap <- quap(\n",
        "  alist(\n",
        "  pulled_left ~ dbinom(1 , p),\n",
        "    logit(p) <- a[actor] + b[treatment],\n",
        "      a[actor] ~ dnorm(0, 1.5),\n",
        "      b[treatment] ~ dnorm(0, 0.5)\n",
        "  ), data=dat_list)\n",
        "\n",
        "  cbind(round(precis(m11.4_ulam, depth=2),2)[,1:2],\n",
        "      round(precis(m11.4_quap, depth=2),2)[1:2])"
      ],
      "metadata": {
        "colab": {
          "base_uri": "https://localhost:8080/",
          "height": 1000
        },
        "id": "HeC7uFTQAS0t",
        "outputId": "c0fc675e-86ae-4364-8cd5-7b61f8186dd4"
      },
      "execution_count": null,
      "outputs": [
        {
          "output_type": "stream",
          "name": "stdout",
          "text": [
            "Running MCMC with 4 parallel chains, with 1 thread(s) per chain...\n",
            "\n",
            "Chain 1 Iteration:   1 / 1000 [  0%]  (Warmup) \n",
            "Chain 1 Iteration: 100 / 1000 [ 10%]  (Warmup) \n",
            "Chain 2 Iteration:   1 / 1000 [  0%]  (Warmup) \n",
            "Chain 3 Iteration:   1 / 1000 [  0%]  (Warmup) \n",
            "Chain 4 Iteration:   1 / 1000 [  0%]  (Warmup) \n",
            "Chain 2 Iteration: 100 / 1000 [ 10%]  (Warmup) \n",
            "Chain 3 Iteration: 100 / 1000 [ 10%]  (Warmup) \n",
            "Chain 4 Iteration: 100 / 1000 [ 10%]  (Warmup) \n",
            "Chain 1 Iteration: 200 / 1000 [ 20%]  (Warmup) \n",
            "Chain 2 Iteration: 200 / 1000 [ 20%]  (Warmup) \n",
            "Chain 3 Iteration: 200 / 1000 [ 20%]  (Warmup) \n",
            "Chain 4 Iteration: 200 / 1000 [ 20%]  (Warmup) \n",
            "Chain 1 Iteration: 300 / 1000 [ 30%]  (Warmup) \n",
            "Chain 2 Iteration: 300 / 1000 [ 30%]  (Warmup) \n",
            "Chain 3 Iteration: 300 / 1000 [ 30%]  (Warmup) \n",
            "Chain 4 Iteration: 300 / 1000 [ 30%]  (Warmup) \n",
            "Chain 1 Iteration: 400 / 1000 [ 40%]  (Warmup) \n",
            "Chain 2 Iteration: 400 / 1000 [ 40%]  (Warmup) \n",
            "Chain 3 Iteration: 400 / 1000 [ 40%]  (Warmup) \n",
            "Chain 4 Iteration: 400 / 1000 [ 40%]  (Warmup) \n",
            "Chain 1 Iteration: 500 / 1000 [ 50%]  (Warmup) \n",
            "Chain 1 Iteration: 501 / 1000 [ 50%]  (Sampling) \n",
            "Chain 2 Iteration: 500 / 1000 [ 50%]  (Warmup) \n",
            "Chain 2 Iteration: 501 / 1000 [ 50%]  (Sampling) \n",
            "Chain 3 Iteration: 500 / 1000 [ 50%]  (Warmup) \n",
            "Chain 3 Iteration: 501 / 1000 [ 50%]  (Sampling) \n",
            "Chain 4 Iteration: 500 / 1000 [ 50%]  (Warmup) \n",
            "Chain 4 Iteration: 501 / 1000 [ 50%]  (Sampling) \n",
            "Chain 1 Iteration: 600 / 1000 [ 60%]  (Sampling) \n",
            "Chain 2 Iteration: 600 / 1000 [ 60%]  (Sampling) \n",
            "Chain 4 Iteration: 600 / 1000 [ 60%]  (Sampling) \n",
            "Chain 3 Iteration: 600 / 1000 [ 60%]  (Sampling) \n",
            "Chain 1 Iteration: 700 / 1000 [ 70%]  (Sampling) \n",
            "Chain 3 Iteration: 700 / 1000 [ 70%]  (Sampling) \n",
            "Chain 4 Iteration: 700 / 1000 [ 70%]  (Sampling) \n",
            "Chain 2 Iteration: 700 / 1000 [ 70%]  (Sampling) \n",
            "Chain 3 Iteration: 800 / 1000 [ 80%]  (Sampling) \n",
            "Chain 4 Iteration: 800 / 1000 [ 80%]  (Sampling) \n",
            "Chain 1 Iteration: 800 / 1000 [ 80%]  (Sampling) \n",
            "Chain 2 Iteration: 800 / 1000 [ 80%]  (Sampling) \n",
            "Chain 3 Iteration: 900 / 1000 [ 90%]  (Sampling) \n",
            "Chain 4 Iteration: 900 / 1000 [ 90%]  (Sampling) \n",
            "Chain 1 Iteration: 900 / 1000 [ 90%]  (Sampling) \n",
            "Chain 2 Iteration: 900 / 1000 [ 90%]  (Sampling) \n",
            "Chain 3 Iteration: 1000 / 1000 [100%]  (Sampling) \n",
            "Chain 4 Iteration: 1000 / 1000 [100%]  (Sampling) \n",
            "Chain 3 finished in 3.0 seconds.\n",
            "Chain 4 finished in 2.9 seconds.\n",
            "Chain 1 Iteration: 1000 / 1000 [100%]  (Sampling) \n",
            "Chain 2 Iteration: 1000 / 1000 [100%]  (Sampling) \n",
            "Chain 1 finished in 3.1 seconds.\n",
            "Chain 2 finished in 3.1 seconds.\n",
            "\n",
            "All 4 chains finished successfully.\n",
            "Mean chain execution time: 3.0 seconds.\n",
            "Total execution time: 3.3 seconds.\n",
            "\n"
          ]
        },
        {
          "output_type": "display_data",
          "data": {
            "text/html": [
              "<table class=\"dataframe\">\n",
              "<caption>A data.frame: 11 × 4</caption>\n",
              "<thead>\n",
              "\t<tr><th></th><th scope=col>mean</th><th scope=col>sd</th><th scope=col>mean</th><th scope=col>sd</th></tr>\n",
              "\t<tr><th></th><th scope=col>&lt;dbl&gt;</th><th scope=col>&lt;dbl&gt;</th><th scope=col>&lt;dbl&gt;</th><th scope=col>&lt;dbl&gt;</th></tr>\n",
              "</thead>\n",
              "<tbody>\n",
              "\t<tr><th scope=row>a[1]</th><td>-0.41</td><td>0.32</td><td>-0.44</td><td>0.33</td></tr>\n",
              "\t<tr><th scope=row>a[2]</th><td> 3.92</td><td>0.74</td><td> 3.71</td><td>0.72</td></tr>\n",
              "\t<tr><th scope=row>a[3]</th><td>-0.73</td><td>0.33</td><td>-0.73</td><td>0.33</td></tr>\n",
              "\t<tr><th scope=row>a[4]</th><td>-0.73</td><td>0.33</td><td>-0.73</td><td>0.33</td></tr>\n",
              "\t<tr><th scope=row>a[5]</th><td>-0.42</td><td>0.33</td><td>-0.44</td><td>0.33</td></tr>\n",
              "\t<tr><th scope=row>a[6]</th><td> 0.51</td><td>0.33</td><td> 0.47</td><td>0.33</td></tr>\n",
              "\t<tr><th scope=row>a[7]</th><td> 1.98</td><td>0.41</td><td> 1.91</td><td>0.41</td></tr>\n",
              "\t<tr><th scope=row>b[1]</th><td>-0.07</td><td>0.28</td><td>-0.04</td><td>0.28</td></tr>\n",
              "\t<tr><th scope=row>b[2]</th><td> 0.46</td><td>0.28</td><td> 0.47</td><td>0.28</td></tr>\n",
              "\t<tr><th scope=row>b[3]</th><td>-0.41</td><td>0.28</td><td>-0.38</td><td>0.29</td></tr>\n",
              "\t<tr><th scope=row>b[4]</th><td> 0.34</td><td>0.28</td><td> 0.36</td><td>0.28</td></tr>\n",
              "</tbody>\n",
              "</table>\n"
            ],
            "text/markdown": "\nA data.frame: 11 × 4\n\n| <!--/--> | mean &lt;dbl&gt; | sd &lt;dbl&gt; | mean &lt;dbl&gt; | sd &lt;dbl&gt; |\n|---|---|---|---|---|\n| a[1] | -0.41 | 0.32 | -0.44 | 0.33 |\n| a[2] |  3.92 | 0.74 |  3.71 | 0.72 |\n| a[3] | -0.73 | 0.33 | -0.73 | 0.33 |\n| a[4] | -0.73 | 0.33 | -0.73 | 0.33 |\n| a[5] | -0.42 | 0.33 | -0.44 | 0.33 |\n| a[6] |  0.51 | 0.33 |  0.47 | 0.33 |\n| a[7] |  1.98 | 0.41 |  1.91 | 0.41 |\n| b[1] | -0.07 | 0.28 | -0.04 | 0.28 |\n| b[2] |  0.46 | 0.28 |  0.47 | 0.28 |\n| b[3] | -0.41 | 0.28 | -0.38 | 0.29 |\n| b[4] |  0.34 | 0.28 |  0.36 | 0.28 |\n\n",
            "text/latex": "A data.frame: 11 × 4\n\\begin{tabular}{r|llll}\n  & mean & sd & mean & sd\\\\\n  & <dbl> & <dbl> & <dbl> & <dbl>\\\\\n\\hline\n\ta{[}1{]} & -0.41 & 0.32 & -0.44 & 0.33\\\\\n\ta{[}2{]} &  3.92 & 0.74 &  3.71 & 0.72\\\\\n\ta{[}3{]} & -0.73 & 0.33 & -0.73 & 0.33\\\\\n\ta{[}4{]} & -0.73 & 0.33 & -0.73 & 0.33\\\\\n\ta{[}5{]} & -0.42 & 0.33 & -0.44 & 0.33\\\\\n\ta{[}6{]} &  0.51 & 0.33 &  0.47 & 0.33\\\\\n\ta{[}7{]} &  1.98 & 0.41 &  1.91 & 0.41\\\\\n\tb{[}1{]} & -0.07 & 0.28 & -0.04 & 0.28\\\\\n\tb{[}2{]} &  0.46 & 0.28 &  0.47 & 0.28\\\\\n\tb{[}3{]} & -0.41 & 0.28 & -0.38 & 0.29\\\\\n\tb{[}4{]} &  0.34 & 0.28 &  0.36 & 0.28\\\\\n\\end{tabular}\n",
            "text/plain": [
              "     mean  sd   mean  sd  \n",
              "a[1] -0.41 0.32 -0.44 0.33\n",
              "a[2]  3.92 0.74  3.71 0.72\n",
              "a[3] -0.73 0.33 -0.73 0.33\n",
              "a[4] -0.73 0.33 -0.73 0.33\n",
              "a[5] -0.42 0.33 -0.44 0.33\n",
              "a[6]  0.51 0.33  0.47 0.33\n",
              "a[7]  1.98 0.41  1.91 0.41\n",
              "b[1] -0.07 0.28 -0.04 0.28\n",
              "b[2]  0.46 0.28  0.47 0.28\n",
              "b[3] -0.41 0.28 -0.38 0.29\n",
              "b[4]  0.34 0.28  0.36 0.28"
            ]
          },
          "metadata": {}
        }
      ]
    },
    {
      "cell_type": "markdown",
      "source": [
        "The differences are negligible, but there *are* differences.  Some of this will have to do with the randomness in the run of the models.  But some almost has to do with the fact that quadratic approximation, `quap`, is confined to using a normal distribution to model `logit(p)`."
      ],
      "metadata": {
        "id": "gbuQOianCOwm"
      }
    },
    {
      "cell_type": "markdown",
      "source": [
        "These differences are made more obvious when we set `a[actor] ~ dnorm(0,10)`."
      ],
      "metadata": {
        "id": "zr8jWX39DBY5"
      }
    },
    {
      "cell_type": "code",
      "source": [
        "m11.4_ulamb <- ulam(\n",
        "  alist(\n",
        "  pulled_left ~ dbinom(1 , p),\n",
        "    logit(p) <- a[actor] + b[treatment],\n",
        "      a[actor] ~ dnorm(0, 10),\n",
        "      b[treatment] ~ dnorm(0, 0.5)\n",
        "  ), data=dat_list,\n",
        "     chains=4,\n",
        "     cores=4)\n",
        "\n",
        "m11.4_quapb <- quap(\n",
        "  alist(\n",
        "  pulled_left ~ dbinom(1 , p),\n",
        "    logit(p) <- a[actor] + b[treatment],\n",
        "      a[actor] ~ dnorm(0, 10),\n",
        "      b[treatment] ~ dnorm(0, 0.5)\n",
        "  ), data=dat_list)\n",
        "\n",
        "  cbind(round(precis(m11.4_ulamb, depth=2),2)[,1:2],\n",
        "      round(precis(m11.4_quapb, depth=2),2)[1:2])"
      ],
      "metadata": {
        "colab": {
          "base_uri": "https://localhost:8080/",
          "height": 1000
        },
        "id": "TdzoX9CRDQ-T",
        "outputId": "faf34a93-1a0a-480c-e2f5-7c022bae258a"
      },
      "execution_count": null,
      "outputs": [
        {
          "output_type": "stream",
          "name": "stdout",
          "text": [
            "Running MCMC with 4 parallel chains, with 1 thread(s) per chain...\n",
            "\n",
            "Chain 1 Iteration:   1 / 1000 [  0%]  (Warmup) \n",
            "Chain 1 Iteration: 100 / 1000 [ 10%]  (Warmup) \n",
            "Chain 2 Iteration:   1 / 1000 [  0%]  (Warmup) \n",
            "Chain 3 Iteration:   1 / 1000 [  0%]  (Warmup) \n",
            "Chain 4 Iteration:   1 / 1000 [  0%]  (Warmup) \n",
            "Chain 2 Iteration: 100 / 1000 [ 10%]  (Warmup) \n",
            "Chain 3 Iteration: 100 / 1000 [ 10%]  (Warmup) \n",
            "Chain 4 Iteration: 100 / 1000 [ 10%]  (Warmup) \n",
            "Chain 1 Iteration: 200 / 1000 [ 20%]  (Warmup) \n",
            "Chain 2 Iteration: 200 / 1000 [ 20%]  (Warmup) \n",
            "Chain 3 Iteration: 200 / 1000 [ 20%]  (Warmup) \n",
            "Chain 1 Iteration: 300 / 1000 [ 30%]  (Warmup) \n",
            "Chain 4 Iteration: 200 / 1000 [ 20%]  (Warmup) \n",
            "Chain 3 Iteration: 300 / 1000 [ 30%]  (Warmup) \n",
            "Chain 1 Iteration: 400 / 1000 [ 40%]  (Warmup) \n",
            "Chain 2 Iteration: 300 / 1000 [ 30%]  (Warmup) \n",
            "Chain 4 Iteration: 300 / 1000 [ 30%]  (Warmup) \n",
            "Chain 3 Iteration: 400 / 1000 [ 40%]  (Warmup) \n",
            "Chain 1 Iteration: 500 / 1000 [ 50%]  (Warmup) \n",
            "Chain 1 Iteration: 501 / 1000 [ 50%]  (Sampling) \n",
            "Chain 2 Iteration: 400 / 1000 [ 40%]  (Warmup) \n",
            "Chain 3 Iteration: 500 / 1000 [ 50%]  (Warmup) \n",
            "Chain 3 Iteration: 501 / 1000 [ 50%]  (Sampling) \n",
            "Chain 4 Iteration: 400 / 1000 [ 40%]  (Warmup) \n",
            "Chain 1 Iteration: 600 / 1000 [ 60%]  (Sampling) \n",
            "Chain 2 Iteration: 500 / 1000 [ 50%]  (Warmup) \n",
            "Chain 2 Iteration: 501 / 1000 [ 50%]  (Sampling) \n",
            "Chain 3 Iteration: 600 / 1000 [ 60%]  (Sampling) \n",
            "Chain 4 Iteration: 500 / 1000 [ 50%]  (Warmup) \n",
            "Chain 4 Iteration: 501 / 1000 [ 50%]  (Sampling) \n",
            "Chain 1 Iteration: 700 / 1000 [ 70%]  (Sampling) \n",
            "Chain 2 Iteration: 600 / 1000 [ 60%]  (Sampling) \n",
            "Chain 3 Iteration: 700 / 1000 [ 70%]  (Sampling) \n",
            "Chain 4 Iteration: 600 / 1000 [ 60%]  (Sampling) \n",
            "Chain 1 Iteration: 800 / 1000 [ 80%]  (Sampling) \n",
            "Chain 2 Iteration: 700 / 1000 [ 70%]  (Sampling) \n",
            "Chain 3 Iteration: 800 / 1000 [ 80%]  (Sampling) \n",
            "Chain 1 Iteration: 900 / 1000 [ 90%]  (Sampling) \n",
            "Chain 2 Iteration: 800 / 1000 [ 80%]  (Sampling) \n",
            "Chain 4 Iteration: 700 / 1000 [ 70%]  (Sampling) \n",
            "Chain 3 Iteration: 900 / 1000 [ 90%]  (Sampling) \n",
            "Chain 2 Iteration: 900 / 1000 [ 90%]  (Sampling) \n",
            "Chain 1 Iteration: 1000 / 1000 [100%]  (Sampling) \n",
            "Chain 4 Iteration: 800 / 1000 [ 80%]  (Sampling) \n",
            "Chain 1 finished in 2.4 seconds.\n",
            "Chain 2 Iteration: 1000 / 1000 [100%]  (Sampling) \n",
            "Chain 3 Iteration: 1000 / 1000 [100%]  (Sampling) \n",
            "Chain 4 Iteration: 900 / 1000 [ 90%]  (Sampling) \n",
            "Chain 2 finished in 2.5 seconds.\n",
            "Chain 3 finished in 2.4 seconds.\n",
            "Chain 4 Iteration: 1000 / 1000 [100%]  (Sampling) \n",
            "Chain 4 finished in 2.5 seconds.\n",
            "\n",
            "All 4 chains finished successfully.\n",
            "Mean chain execution time: 2.5 seconds.\n",
            "Total execution time: 2.7 seconds.\n",
            "\n"
          ]
        },
        {
          "output_type": "display_data",
          "data": {
            "text/html": [
              "<table class=\"dataframe\">\n",
              "<caption>A data.frame: 11 × 4</caption>\n",
              "<thead>\n",
              "\t<tr><th></th><th scope=col>mean</th><th scope=col>sd</th><th scope=col>mean</th><th scope=col>sd</th></tr>\n",
              "\t<tr><th></th><th scope=col>&lt;dbl&gt;</th><th scope=col>&lt;dbl&gt;</th><th scope=col>&lt;dbl&gt;</th><th scope=col>&lt;dbl&gt;</th></tr>\n",
              "</thead>\n",
              "<tbody>\n",
              "\t<tr><th scope=row>a[1]</th><td>-0.36</td><td>0.35</td><td>-0.35</td><td>0.35</td></tr>\n",
              "\t<tr><th scope=row>a[2]</th><td>11.22</td><td>5.29</td><td> 6.99</td><td>3.55</td></tr>\n",
              "\t<tr><th scope=row>a[3]</th><td>-0.68</td><td>0.35</td><td>-0.65</td><td>0.35</td></tr>\n",
              "\t<tr><th scope=row>a[4]</th><td>-0.67</td><td>0.35</td><td>-0.65</td><td>0.35</td></tr>\n",
              "\t<tr><th scope=row>a[5]</th><td>-0.35</td><td>0.35</td><td>-0.35</td><td>0.35</td></tr>\n",
              "\t<tr><th scope=row>a[6]</th><td> 0.59</td><td>0.36</td><td> 0.58</td><td>0.35</td></tr>\n",
              "\t<tr><th scope=row>a[7]</th><td> 2.20</td><td>0.47</td><td> 2.12</td><td>0.45</td></tr>\n",
              "\t<tr><th scope=row>b[1]</th><td>-0.15</td><td>0.30</td><td>-0.14</td><td>0.30</td></tr>\n",
              "\t<tr><th scope=row>b[2]</th><td> 0.39</td><td>0.30</td><td> 0.38</td><td>0.30</td></tr>\n",
              "\t<tr><th scope=row>b[3]</th><td>-0.50</td><td>0.31</td><td>-0.49</td><td>0.30</td></tr>\n",
              "\t<tr><th scope=row>b[4]</th><td> 0.27</td><td>0.31</td><td> 0.27</td><td>0.30</td></tr>\n",
              "</tbody>\n",
              "</table>\n"
            ],
            "text/markdown": "\nA data.frame: 11 × 4\n\n| <!--/--> | mean &lt;dbl&gt; | sd &lt;dbl&gt; | mean &lt;dbl&gt; | sd &lt;dbl&gt; |\n|---|---|---|---|---|\n| a[1] | -0.36 | 0.35 | -0.35 | 0.35 |\n| a[2] | 11.22 | 5.29 |  6.99 | 3.55 |\n| a[3] | -0.68 | 0.35 | -0.65 | 0.35 |\n| a[4] | -0.67 | 0.35 | -0.65 | 0.35 |\n| a[5] | -0.35 | 0.35 | -0.35 | 0.35 |\n| a[6] |  0.59 | 0.36 |  0.58 | 0.35 |\n| a[7] |  2.20 | 0.47 |  2.12 | 0.45 |\n| b[1] | -0.15 | 0.30 | -0.14 | 0.30 |\n| b[2] |  0.39 | 0.30 |  0.38 | 0.30 |\n| b[3] | -0.50 | 0.31 | -0.49 | 0.30 |\n| b[4] |  0.27 | 0.31 |  0.27 | 0.30 |\n\n",
            "text/latex": "A data.frame: 11 × 4\n\\begin{tabular}{r|llll}\n  & mean & sd & mean & sd\\\\\n  & <dbl> & <dbl> & <dbl> & <dbl>\\\\\n\\hline\n\ta{[}1{]} & -0.36 & 0.35 & -0.35 & 0.35\\\\\n\ta{[}2{]} & 11.22 & 5.29 &  6.99 & 3.55\\\\\n\ta{[}3{]} & -0.68 & 0.35 & -0.65 & 0.35\\\\\n\ta{[}4{]} & -0.67 & 0.35 & -0.65 & 0.35\\\\\n\ta{[}5{]} & -0.35 & 0.35 & -0.35 & 0.35\\\\\n\ta{[}6{]} &  0.59 & 0.36 &  0.58 & 0.35\\\\\n\ta{[}7{]} &  2.20 & 0.47 &  2.12 & 0.45\\\\\n\tb{[}1{]} & -0.15 & 0.30 & -0.14 & 0.30\\\\\n\tb{[}2{]} &  0.39 & 0.30 &  0.38 & 0.30\\\\\n\tb{[}3{]} & -0.50 & 0.31 & -0.49 & 0.30\\\\\n\tb{[}4{]} &  0.27 & 0.31 &  0.27 & 0.30\\\\\n\\end{tabular}\n",
            "text/plain": [
              "     mean  sd   mean  sd  \n",
              "a[1] -0.36 0.35 -0.35 0.35\n",
              "a[2] 11.22 5.29  6.99 3.55\n",
              "a[3] -0.68 0.35 -0.65 0.35\n",
              "a[4] -0.67 0.35 -0.65 0.35\n",
              "a[5] -0.35 0.35 -0.35 0.35\n",
              "a[6]  0.59 0.36  0.58 0.35\n",
              "a[7]  2.20 0.47  2.12 0.45\n",
              "b[1] -0.15 0.30 -0.14 0.30\n",
              "b[2]  0.39 0.30  0.38 0.30\n",
              "b[3] -0.50 0.31 -0.49 0.30\n",
              "b[4]  0.27 0.31  0.27 0.30"
            ]
          },
          "metadata": {}
        }
      ]
    },
    {
      "cell_type": "markdown",
      "source": [
        "There is only 1 term that is very different, `a[2]`.  Why does the looser prior lead to this?  Because the more-permissve prior now entertains extreme values.  On the logit scale, extreme values skew to larger values; but for the normal distribution, the increased variance is spread evenly around the mean."
      ],
      "metadata": {
        "id": "XUFQdWUxDWDk"
      }
    },
    {
      "cell_type": "code",
      "source": [
        "post_ulam <- extract.samples(m11.4_ulamb)\n",
        "post_quap <- extract.samples(m11.4_quapb)\n",
        "\n",
        "dens(post_quap$a[,2], xlim=c(-10, 50))\n",
        "dens(post_ulam$a[,2], col=\"red\", lty=2, add=TRUE)"
      ],
      "metadata": {
        "colab": {
          "base_uri": "https://localhost:8080/",
          "height": 437
        },
        "id": "FiKQc2snFCBO",
        "outputId": "f3f04629-4d78-4f48-c0cf-cc5488649415"
      },
      "execution_count": null,
      "outputs": [
        {
          "output_type": "display_data",
          "data": {
            "text/plain": [
              "Plot with title “”"
            ],
            "image/png": "[encoded data removed]"
          },
          "metadata": {
            "image/png": {
              "width": 420,
              "height": 420
            }
          }
        }
      ]
    },
    {
      "cell_type": "markdown",
      "source": [
        "### 11M8\n",
        "Revisit the `data(Kline)` islands example. This time drop Hawaii from the sample and refit the models. What changes do you observe?\n",
        "\n",
        "#### Answer\n",
        "Let's start by getting the original output on the full dataset."
      ],
      "metadata": {
        "id": "QV-7KkqpweN9"
      }
    },
    {
      "cell_type": "code",
      "source": [
        "data(Kline)\n",
        "d <- Kline\n",
        "d$P <- standardize(log(d$population))\n",
        "d$contact_id <- ifelse(d$contact==\"high\", 2, 1)\n",
        "\n",
        "d_list <- list(T = d$total_tools,\n",
        "               P = d$P,\n",
        "               cid = d$contact_id)\n",
        "\n",
        "m11.10 <- ulam(\n",
        "  alist(\n",
        "    T ~ dpois(lambda),\n",
        "      log(lambda) <- a[cid] + b[cid]*P,\n",
        "        a[cid] ~ dnorm(3, 0.5),\n",
        "        b[cid] ~ dnorm(0, 0.2)\n",
        "  ), data=d_list,\n",
        "     chains=4,\n",
        "     cores=4,\n",
        "     iter=1000,\n",
        "     log_lik=TRUE\n",
        ")"
      ],
      "metadata": {
        "colab": {
          "base_uri": "https://localhost:8080/"
        },
        "id": "Lz1rvooMzUo0",
        "outputId": "b130ff44-9f26-47eb-b61b-bed2ff71f5b3"
      },
      "execution_count": null,
      "outputs": [
        {
          "output_type": "stream",
          "name": "stdout",
          "text": [
            "Running MCMC with 4 parallel chains, with 1 thread(s) per chain...\n",
            "\n",
            "Chain 1 Iteration:   1 / 1000 [  0%]  (Warmup) \n",
            "Chain 1 Iteration: 100 / 1000 [ 10%]  (Warmup) \n",
            "Chain 1 Iteration: 200 / 1000 [ 20%]  (Warmup) \n",
            "Chain 1 Iteration: 300 / 1000 [ 30%]  (Warmup) \n",
            "Chain 1 Iteration: 400 / 1000 [ 40%]  (Warmup) \n",
            "Chain 1 Iteration: 500 / 1000 [ 50%]  (Warmup) \n",
            "Chain 1 Iteration: 501 / 1000 [ 50%]  (Sampling) \n",
            "Chain 1 Iteration: 600 / 1000 [ 60%]  (Sampling) \n",
            "Chain 1 Iteration: 700 / 1000 [ 70%]  (Sampling) \n",
            "Chain 1 Iteration: 800 / 1000 [ 80%]  (Sampling) \n",
            "Chain 1 Iteration: 900 / 1000 [ 90%]  (Sampling) \n",
            "Chain 1 Iteration: 1000 / 1000 [100%]  (Sampling) \n",
            "Chain 2 Iteration:   1 / 1000 [  0%]  (Warmup) \n",
            "Chain 2 Iteration: 100 / 1000 [ 10%]  (Warmup) \n",
            "Chain 2 Iteration: 200 / 1000 [ 20%]  (Warmup) \n",
            "Chain 2 Iteration: 300 / 1000 [ 30%]  (Warmup) \n",
            "Chain 2 Iteration: 400 / 1000 [ 40%]  (Warmup) \n",
            "Chain 2 Iteration: 500 / 1000 [ 50%]  (Warmup) \n",
            "Chain 2 Iteration: 501 / 1000 [ 50%]  (Sampling) \n",
            "Chain 2 Iteration: 600 / 1000 [ 60%]  (Sampling) \n",
            "Chain 2 Iteration: 700 / 1000 [ 70%]  (Sampling) \n",
            "Chain 2 Iteration: 800 / 1000 [ 80%]  (Sampling) \n",
            "Chain 2 Iteration: 900 / 1000 [ 90%]  (Sampling) \n",
            "Chain 2 Iteration: 1000 / 1000 [100%]  (Sampling) \n",
            "Chain 3 Iteration:   1 / 1000 [  0%]  (Warmup) \n",
            "Chain 3 Iteration: 100 / 1000 [ 10%]  (Warmup) \n",
            "Chain 3 Iteration: 200 / 1000 [ 20%]  (Warmup) \n",
            "Chain 3 Iteration: 300 / 1000 [ 30%]  (Warmup) \n",
            "Chain 3 Iteration: 400 / 1000 [ 40%]  (Warmup) \n",
            "Chain 3 Iteration: 500 / 1000 [ 50%]  (Warmup) \n",
            "Chain 3 Iteration: 501 / 1000 [ 50%]  (Sampling) \n",
            "Chain 3 Iteration: 600 / 1000 [ 60%]  (Sampling) \n",
            "Chain 3 Iteration: 700 / 1000 [ 70%]  (Sampling) \n",
            "Chain 3 Iteration: 800 / 1000 [ 80%]  (Sampling) \n",
            "Chain 3 Iteration: 900 / 1000 [ 90%]  (Sampling) \n",
            "Chain 3 Iteration: 1000 / 1000 [100%]  (Sampling) \n",
            "Chain 4 Iteration:   1 / 1000 [  0%]  (Warmup) \n",
            "Chain 4 Iteration: 100 / 1000 [ 10%]  (Warmup) \n",
            "Chain 4 Iteration: 200 / 1000 [ 20%]  (Warmup) \n",
            "Chain 4 Iteration: 300 / 1000 [ 30%]  (Warmup) \n",
            "Chain 4 Iteration: 400 / 1000 [ 40%]  (Warmup) \n",
            "Chain 4 Iteration: 500 / 1000 [ 50%]  (Warmup) \n",
            "Chain 4 Iteration: 501 / 1000 [ 50%]  (Sampling) \n",
            "Chain 4 Iteration: 600 / 1000 [ 60%]  (Sampling) \n",
            "Chain 4 Iteration: 700 / 1000 [ 70%]  (Sampling) \n",
            "Chain 4 Iteration: 800 / 1000 [ 80%]  (Sampling) \n",
            "Chain 4 Iteration: 900 / 1000 [ 90%]  (Sampling) \n",
            "Chain 4 Iteration: 1000 / 1000 [100%]  (Sampling) \n",
            "Chain 1 finished in 0.1 seconds.\n",
            "Chain 2 finished in 0.1 seconds.\n",
            "Chain 3 finished in 0.1 seconds.\n",
            "Chain 4 finished in 0.1 seconds.\n",
            "\n",
            "All 4 chains finished successfully.\n",
            "Mean chain execution time: 0.1 seconds.\n",
            "Total execution time: 0.3 seconds.\n",
            "\n"
          ]
        }
      ]
    },
    {
      "cell_type": "markdown",
      "source": [
        "Now we'll get the truncated dataset and run the model on that."
      ],
      "metadata": {
        "id": "oQLeRumHzn8W"
      }
    },
    {
      "cell_type": "code",
      "source": [
        "data(Kline)\n",
        "d <- Kline\n",
        "d2 <- d[d$culture != \"Hawaii\", ]\n",
        "d2$P <- standardize(log(d2$population))\n",
        "d2$contact_id <- ifelse(d2$contact==\"high\", 2, 1)\n",
        "\n",
        "d2_list <- list(T = d2$total_tools,\n",
        "                P = d2$P,\n",
        "                cid = d2$contact_id)\n",
        "\n",
        "m11.10b <- ulam(\n",
        "  alist(\n",
        "    T ~ dpois(lambda),\n",
        "      log(lambda) <- a[cid] + b[cid]*P,\n",
        "        a[cid] ~ dnorm(3, 0.5),\n",
        "        b[cid] ~ dnorm(0, 0.2)\n",
        "  ), data=d2_list,\n",
        "     chains=4,\n",
        "     cores=4,\n",
        "     iter=1000,\n",
        "     log_lik=TRUE\n",
        ")"
      ],
      "metadata": {
        "colab": {
          "base_uri": "https://localhost:8080/"
        },
        "id": "RQdmRYoNwpq_",
        "outputId": "d320f6b4-dea3-4c90-a8d4-57ed6673c968"
      },
      "execution_count": null,
      "outputs": [
        {
          "output_type": "stream",
          "name": "stdout",
          "text": [
            "Running MCMC with 4 parallel chains, with 1 thread(s) per chain...\n",
            "\n",
            "Chain 1 Iteration:   1 / 1000 [  0%]  (Warmup) \n",
            "Chain 1 Iteration: 100 / 1000 [ 10%]  (Warmup) \n",
            "Chain 1 Iteration: 200 / 1000 [ 20%]  (Warmup) \n",
            "Chain 1 Iteration: 300 / 1000 [ 30%]  (Warmup) \n",
            "Chain 1 Iteration: 400 / 1000 [ 40%]  (Warmup) \n",
            "Chain 1 Iteration: 500 / 1000 [ 50%]  (Warmup) \n",
            "Chain 1 Iteration: 501 / 1000 [ 50%]  (Sampling) \n",
            "Chain 1 Iteration: 600 / 1000 [ 60%]  (Sampling) \n",
            "Chain 1 Iteration: 700 / 1000 [ 70%]  (Sampling) \n",
            "Chain 1 Iteration: 800 / 1000 [ 80%]  (Sampling) \n",
            "Chain 1 Iteration: 900 / 1000 [ 90%]  (Sampling) \n",
            "Chain 1 Iteration: 1000 / 1000 [100%]  (Sampling) \n",
            "Chain 2 Iteration:   1 / 1000 [  0%]  (Warmup) \n",
            "Chain 2 Iteration: 100 / 1000 [ 10%]  (Warmup) \n",
            "Chain 2 Iteration: 200 / 1000 [ 20%]  (Warmup) \n",
            "Chain 2 Iteration: 300 / 1000 [ 30%]  (Warmup) \n",
            "Chain 2 Iteration: 400 / 1000 [ 40%]  (Warmup) \n",
            "Chain 2 Iteration: 500 / 1000 [ 50%]  (Warmup) \n",
            "Chain 2 Iteration: 501 / 1000 [ 50%]  (Sampling) \n",
            "Chain 2 Iteration: 600 / 1000 [ 60%]  (Sampling) \n",
            "Chain 2 Iteration: 700 / 1000 [ 70%]  (Sampling) \n",
            "Chain 2 Iteration: 800 / 1000 [ 80%]  (Sampling) \n",
            "Chain 2 Iteration: 900 / 1000 [ 90%]  (Sampling) \n",
            "Chain 2 Iteration: 1000 / 1000 [100%]  (Sampling) \n",
            "Chain 3 Iteration:   1 / 1000 [  0%]  (Warmup) \n",
            "Chain 3 Iteration: 100 / 1000 [ 10%]  (Warmup) \n",
            "Chain 3 Iteration: 200 / 1000 [ 20%]  (Warmup) \n",
            "Chain 3 Iteration: 300 / 1000 [ 30%]  (Warmup) \n",
            "Chain 3 Iteration: 400 / 1000 [ 40%]  (Warmup) \n",
            "Chain 3 Iteration: 500 / 1000 [ 50%]  (Warmup) \n",
            "Chain 3 Iteration: 501 / 1000 [ 50%]  (Sampling) \n",
            "Chain 3 Iteration: 600 / 1000 [ 60%]  (Sampling) \n",
            "Chain 3 Iteration: 700 / 1000 [ 70%]  (Sampling) \n",
            "Chain 3 Iteration: 800 / 1000 [ 80%]  (Sampling) \n",
            "Chain 3 Iteration: 900 / 1000 [ 90%]  (Sampling) \n",
            "Chain 3 Iteration: 1000 / 1000 [100%]  (Sampling) \n",
            "Chain 4 Iteration:   1 / 1000 [  0%]  (Warmup) \n",
            "Chain 4 Iteration: 100 / 1000 [ 10%]  (Warmup) \n",
            "Chain 4 Iteration: 200 / 1000 [ 20%]  (Warmup) \n",
            "Chain 4 Iteration: 300 / 1000 [ 30%]  (Warmup) \n",
            "Chain 4 Iteration: 400 / 1000 [ 40%]  (Warmup) \n",
            "Chain 4 Iteration: 500 / 1000 [ 50%]  (Warmup) \n",
            "Chain 4 Iteration: 501 / 1000 [ 50%]  (Sampling) \n",
            "Chain 4 Iteration: 600 / 1000 [ 60%]  (Sampling) \n",
            "Chain 4 Iteration: 700 / 1000 [ 70%]  (Sampling) \n",
            "Chain 4 Iteration: 800 / 1000 [ 80%]  (Sampling) \n",
            "Chain 4 Iteration: 900 / 1000 [ 90%]  (Sampling) \n",
            "Chain 4 Iteration: 1000 / 1000 [100%]  (Sampling) \n",
            "Chain 1 finished in 0.2 seconds.\n",
            "Chain 2 finished in 0.2 seconds.\n",
            "Chain 3 finished in 0.2 seconds.\n",
            "Chain 4 finished in 0.1 seconds.\n",
            "\n",
            "All 4 chains finished successfully.\n",
            "Mean chain execution time: 0.2 seconds.\n",
            "Total execution time: 0.4 seconds.\n",
            "\n"
          ]
        }
      ]
    },
    {
      "cell_type": "markdown",
      "source": [
        "Now let's plot these with the same code used in the book."
      ],
      "metadata": {
        "id": "NyL10oENz31S"
      }
    },
    {
      "cell_type": "code",
      "source": [
        "par(mfrow=c(1,2))\n",
        "\n",
        "k1 <- PSIS( m11.10, pointwise=TRUE )$k\n",
        "plot(d_list$P, d_list$T,\n",
        "     xlab=\"log population (std)\", ylab=\"total tools\",\n",
        "     col=rangi2, pch=ifelse(d_list$cid==1, 1, 16), lwd=2, cex=1+normalize(k1),\n",
        "     ylim=c(0,75), bty=\"n\")\n",
        "\n",
        "#set up the horizontal axis values to compute predictions at\n",
        "ns <- 100\n",
        "P_seq <- seq(from=-1.4, to=3, length.out=ns)\n",
        "\n",
        "#predictions for cid=1 (low contact)\n",
        "lambda <- link(m11.10, data=data.frame(P=P_seq, cid=1))\n",
        "lmu <- apply(lambda, 2, mean)\n",
        "lci <- apply(lambda, 2, PI)\n",
        "lines(P_seq, lmu, lty=2, lwd=1.5)\n",
        "shade(lci, P_seq, xpd=TRUE)\n",
        "\n",
        "#predictions for cid=2 (high contact)\n",
        "lambda <- link(m11.10, data=data.frame( P=P_seq, cid=2))\n",
        "lmu <- apply( lambda, 2, mean)\n",
        "lci <- apply( lambda, 2, PI)\n",
        "lines( P_seq, lmu, lty=1, lwd=1.5)\n",
        "shade( lci, P_seq, xpd=TRUE)\n",
        "\n",
        "################################################################################\n",
        "k2 <- PSIS(m11.10b, pointwise=TRUE )$k\n",
        "plot(d2_list$P, d2_list$T,\n",
        "     xlab=\"log population (std)\", ylab=\"total tools\",\n",
        "     col=rangi2, pch=ifelse(d2_list$cid==1, 1, 16), lwd=2, cex=1+normalize(k2),\n",
        "     ylim=c(0,75), bty=\"n\")\n",
        "\n",
        "#set up the horizontal axis values to compute predictions at\n",
        "ns <- 100\n",
        "P_seq <- seq(from=-1.4, to=3, length.out=ns)\n",
        "\n",
        "#predictions for cid=1 (low contact)\n",
        "lambda <- link(m11.10b, data=data.frame(P=P_seq, cid=1))\n",
        "lmu <- apply(lambda, 2, mean)\n",
        "lci <- apply(lambda, 2, PI)\n",
        "lines(P_seq, lmu, lty=2, lwd=1.5)\n",
        "shade(lci, P_seq, xpd=TRUE)\n",
        "\n",
        "#predictions for cid=2 (high contact)\n",
        "lambda <- link(m11.10, data=data.frame( P=P_seq, cid=2))\n",
        "lmu <- apply( lambda, 2, mean)\n",
        "lci <- apply( lambda, 2, PI)\n",
        "lines( P_seq, lmu, lty=1, lwd=1.5)\n",
        "shade( lci, P_seq, xpd=TRUE)"
      ],
      "metadata": {
        "colab": {
          "base_uri": "https://localhost:8080/",
          "height": 506
        },
        "id": "m9fnTE3zz3aK",
        "outputId": "c8a46c08-d868-438b-834a-945b9116e231"
      },
      "execution_count": null,
      "outputs": [
        {
          "output_type": "stream",
          "name": "stderr",
          "text": [
            "Some Pareto k values are high (>0.5). Set pointwise=TRUE to inspect individual points.\n",
            "\n",
            "Some Pareto k values are very high (>1). Set pointwise=TRUE to inspect individual points.\n",
            "\n"
          ]
        },
        {
          "output_type": "display_data",
          "data": {
            "text/plain": [
              "plot without title"
            ],
            "image/png": "[encoded data removed]"
          },
          "metadata": {
            "image/png": {
              "width": 420,
              "height": 420
            }
          }
        }
      ]
    },
    {
      "cell_type": "markdown",
      "source": [
        "The major difference seems to be that the slope `b[cid]` is not as different between the low- vs high-contact islands, and maybe of opposite ranks.  Let's confirm this with `precis`"
      ],
      "metadata": {
        "id": "YuAI6aF52d0q"
      }
    },
    {
      "cell_type": "code",
      "source": [
        "round(precis(m11.10, depth=2),2)\n",
        "round(precis(m11.10b, depth=2),2)"
      ],
      "metadata": {
        "colab": {
          "base_uri": "https://localhost:8080/",
          "height": 430
        },
        "id": "x-Os5cNB2px5",
        "outputId": "f49a3d8e-0a83-4d4c-c221-a3855bcb7f6e"
      },
      "execution_count": null,
      "outputs": [
        {
          "output_type": "display_data",
          "data": {
            "text/html": [
              "<table class=\"dataframe\">\n",
              "<caption>A data.frame: 4 × 6</caption>\n",
              "<thead>\n",
              "\t<tr><th></th><th scope=col>mean</th><th scope=col>sd</th><th scope=col>5.5%</th><th scope=col>94.5%</th><th scope=col>rhat</th><th scope=col>ess_bulk</th></tr>\n",
              "\t<tr><th></th><th scope=col>&lt;dbl&gt;</th><th scope=col>&lt;dbl&gt;</th><th scope=col>&lt;dbl&gt;</th><th scope=col>&lt;dbl&gt;</th><th scope=col>&lt;dbl&gt;</th><th scope=col>&lt;dbl&gt;</th></tr>\n",
              "</thead>\n",
              "<tbody>\n",
              "\t<tr><th scope=row>a[1]</th><td>3.32</td><td>0.09</td><td> 3.18</td><td>3.46</td><td>1</td><td>2104.69</td></tr>\n",
              "\t<tr><th scope=row>a[2]</th><td>3.61</td><td>0.07</td><td> 3.50</td><td>3.72</td><td>1</td><td>2190.99</td></tr>\n",
              "\t<tr><th scope=row>b[1]</th><td>0.38</td><td>0.05</td><td> 0.29</td><td>0.46</td><td>1</td><td>1933.68</td></tr>\n",
              "\t<tr><th scope=row>b[2]</th><td>0.19</td><td>0.16</td><td>-0.07</td><td>0.44</td><td>1</td><td>2240.00</td></tr>\n",
              "</tbody>\n",
              "</table>\n"
            ],
            "text/markdown": "\nA data.frame: 4 × 6\n\n| <!--/--> | mean &lt;dbl&gt; | sd &lt;dbl&gt; | 5.5% &lt;dbl&gt; | 94.5% &lt;dbl&gt; | rhat &lt;dbl&gt; | ess_bulk &lt;dbl&gt; |\n|---|---|---|---|---|---|---|\n| a[1] | 3.32 | 0.09 |  3.18 | 3.46 | 1 | 2104.69 |\n| a[2] | 3.61 | 0.07 |  3.50 | 3.72 | 1 | 2190.99 |\n| b[1] | 0.38 | 0.05 |  0.29 | 0.46 | 1 | 1933.68 |\n| b[2] | 0.19 | 0.16 | -0.07 | 0.44 | 1 | 2240.00 |\n\n",
            "text/latex": "A data.frame: 4 × 6\n\\begin{tabular}{r|llllll}\n  & mean & sd & 5.5\\% & 94.5\\% & rhat & ess\\_bulk\\\\\n  & <dbl> & <dbl> & <dbl> & <dbl> & <dbl> & <dbl>\\\\\n\\hline\n\ta{[}1{]} & 3.32 & 0.09 &  3.18 & 3.46 & 1 & 2104.69\\\\\n\ta{[}2{]} & 3.61 & 0.07 &  3.50 & 3.72 & 1 & 2190.99\\\\\n\tb{[}1{]} & 0.38 & 0.05 &  0.29 & 0.46 & 1 & 1933.68\\\\\n\tb{[}2{]} & 0.19 & 0.16 & -0.07 & 0.44 & 1 & 2240.00\\\\\n\\end{tabular}\n",
            "text/plain": [
              "     mean sd   5.5%  94.5% rhat ess_bulk\n",
              "a[1] 3.32 0.09  3.18 3.46  1    2104.69 \n",
              "a[2] 3.61 0.07  3.50 3.72  1    2190.99 \n",
              "b[1] 0.38 0.05  0.29 0.46  1    1933.68 \n",
              "b[2] 0.19 0.16 -0.07 0.44  1    2240.00 "
            ]
          },
          "metadata": {}
        },
        {
          "output_type": "display_data",
          "data": {
            "text/html": [
              "<table class=\"dataframe\">\n",
              "<caption>A data.frame: 4 × 6</caption>\n",
              "<thead>\n",
              "\t<tr><th></th><th scope=col>mean</th><th scope=col>sd</th><th scope=col>5.5%</th><th scope=col>94.5%</th><th scope=col>rhat</th><th scope=col>ess_bulk</th></tr>\n",
              "\t<tr><th></th><th scope=col>&lt;dbl&gt;</th><th scope=col>&lt;dbl&gt;</th><th scope=col>&lt;dbl&gt;</th><th scope=col>&lt;dbl&gt;</th><th scope=col>&lt;dbl&gt;</th><th scope=col>&lt;dbl&gt;</th></tr>\n",
              "</thead>\n",
              "<tbody>\n",
              "\t<tr><th scope=row>a[1]</th><td>3.14</td><td>0.11</td><td>2.96</td><td>3.32</td><td>1.01</td><td>1373.02</td></tr>\n",
              "\t<tr><th scope=row>a[2]</th><td>3.51</td><td>0.10</td><td>3.35</td><td>3.67</td><td>1.00</td><td>1166.76</td></tr>\n",
              "\t<tr><th scope=row>b[1]</th><td>0.16</td><td>0.09</td><td>0.00</td><td>0.31</td><td>1.00</td><td>1301.04</td></tr>\n",
              "\t<tr><th scope=row>b[2]</th><td>0.21</td><td>0.12</td><td>0.02</td><td>0.41</td><td>1.00</td><td>1119.94</td></tr>\n",
              "</tbody>\n",
              "</table>\n"
            ],
            "text/markdown": "\nA data.frame: 4 × 6\n\n| <!--/--> | mean &lt;dbl&gt; | sd &lt;dbl&gt; | 5.5% &lt;dbl&gt; | 94.5% &lt;dbl&gt; | rhat &lt;dbl&gt; | ess_bulk &lt;dbl&gt; |\n|---|---|---|---|---|---|---|\n| a[1] | 3.14 | 0.11 | 2.96 | 3.32 | 1.01 | 1373.02 |\n| a[2] | 3.51 | 0.10 | 3.35 | 3.67 | 1.00 | 1166.76 |\n| b[1] | 0.16 | 0.09 | 0.00 | 0.31 | 1.00 | 1301.04 |\n| b[2] | 0.21 | 0.12 | 0.02 | 0.41 | 1.00 | 1119.94 |\n\n",
            "text/latex": "A data.frame: 4 × 6\n\\begin{tabular}{r|llllll}\n  & mean & sd & 5.5\\% & 94.5\\% & rhat & ess\\_bulk\\\\\n  & <dbl> & <dbl> & <dbl> & <dbl> & <dbl> & <dbl>\\\\\n\\hline\n\ta{[}1{]} & 3.14 & 0.11 & 2.96 & 3.32 & 1.01 & 1373.02\\\\\n\ta{[}2{]} & 3.51 & 0.10 & 3.35 & 3.67 & 1.00 & 1166.76\\\\\n\tb{[}1{]} & 0.16 & 0.09 & 0.00 & 0.31 & 1.00 & 1301.04\\\\\n\tb{[}2{]} & 0.21 & 0.12 & 0.02 & 0.41 & 1.00 & 1119.94\\\\\n\\end{tabular}\n",
            "text/plain": [
              "     mean sd   5.5% 94.5% rhat ess_bulk\n",
              "a[1] 3.14 0.11 2.96 3.32  1.01 1373.02 \n",
              "a[2] 3.51 0.10 3.35 3.67  1.00 1166.76 \n",
              "b[1] 0.16 0.09 0.00 0.31  1.00 1301.04 \n",
              "b[2] 0.21 0.12 0.02 0.41  1.00 1119.94 "
            ]
          },
          "metadata": {}
        }
      ]
    },
    {
      "cell_type": "markdown",
      "source": [
        "## Hard"
      ],
      "metadata": {
        "id": "2_ADOCEURjL7"
      }
    },
    {
      "cell_type": "markdown",
      "source": [
        "### 11H1\n",
        "Use WAIC or PSIS to compare the chimpanzee model that includes a unique intercept for each actor, `m11.4` (page 330), to the simpler models fit in the same section. Interpret the results.\n",
        "\n",
        "#### Answer\n",
        "Let's copy and paste the data-prep and all models from the chapter."
      ],
      "metadata": {
        "id": "ihFtwonSRkoo"
      }
    },
    {
      "cell_type": "code",
      "source": [
        "data(chimpanzees)\n",
        "d <- chimpanzees\n",
        "d$treatment <- 1 + d$prosoc_left + 2*d$condition\n",
        "dat_list <- list(pulled_left = d$pulled_left,\n",
        "                 actor = d$actor,\n",
        "                 treatment = as.integer(d$treatment))\n",
        "\n",
        "m11.1 <- ulam(\n",
        "  alist(\n",
        "    pulled_left ~ dbinom(1, p),\n",
        "      logit(p) <- a,\n",
        "        a ~ dnorm(0, 10)\n",
        "), data=dat_list,\n",
        "   chains=4,\n",
        "   cores=4,\n",
        "   iter=1000,\n",
        "   log_lik=TRUE)\n",
        "\n",
        "m11.2 <- ulam(\n",
        "  alist(\n",
        "    pulled_left ~ dbinom(1, p),\n",
        "      logit(p) <- a + b[treatment],\n",
        "        a ~ dnorm(0, 1.5),\n",
        "        b[treatment] ~ dnorm(0, 10)\n",
        "), data=dat_list,\n",
        "   chains=4,\n",
        "   cores=4,\n",
        "   iter=1000,\n",
        "   log_lik=TRUE)\n",
        "\n",
        "m11.3 <- ulam(\n",
        "alist(\n",
        "  pulled_left ~ dbinom(1, p),\n",
        "    logit(p) <- a + b[treatment],\n",
        "      a ~ dnorm(0, 1.5),\n",
        "      b[treatment] ~ dnorm(0, 0.5)\n",
        "), data=dat_list,\n",
        "   chains=4,\n",
        "   cores=4,\n",
        "   iter=1000,\n",
        "   log_lik=TRUE)\n",
        "\n",
        "m11.4 <- ulam(\n",
        "  alist(\n",
        "    pulled_left ~ dbinom(1, p),\n",
        "      logit(p) <- a[actor] + b[treatment],\n",
        "      a[actor] ~ dnorm(0, 1.5),\n",
        "      b[treatment] ~ dnorm(0, 0.5)\n",
        "), data=dat_list,\n",
        "   chains=4,\n",
        "   cores=4,\n",
        "   iter=1000,\n",
        "   log_lik=TRUE)"
      ],
      "metadata": {
        "colab": {
          "base_uri": "https://localhost:8080/"
        },
        "id": "g6yMbrh5R_VX",
        "outputId": "6e9b96e2-bd15-4989-bec8-2b895dfb8fb0"
      },
      "execution_count": null,
      "outputs": [
        {
          "output_type": "stream",
          "name": "stdout",
          "text": [
            "Running MCMC with 4 parallel chains, with 1 thread(s) per chain...\n",
            "\n",
            "Chain 1 Iteration:   1 / 1000 [  0%]  (Warmup) \n",
            "Chain 1 Iteration: 100 / 1000 [ 10%]  (Warmup) \n",
            "Chain 1 Iteration: 200 / 1000 [ 20%]  (Warmup) \n",
            "Chain 1 Iteration: 300 / 1000 [ 30%]  (Warmup) \n",
            "Chain 2 Iteration:   1 / 1000 [  0%]  (Warmup) \n",
            "Chain 2 Iteration: 100 / 1000 [ 10%]  (Warmup) \n",
            "Chain 3 Iteration:   1 / 1000 [  0%]  (Warmup) \n",
            "Chain 3 Iteration: 100 / 1000 [ 10%]  (Warmup) \n",
            "Chain 4 Iteration:   1 / 1000 [  0%]  (Warmup) \n",
            "Chain 4 Iteration: 100 / 1000 [ 10%]  (Warmup) \n",
            "Chain 1 Iteration: 400 / 1000 [ 40%]  (Warmup) \n",
            "Chain 1 Iteration: 500 / 1000 [ 50%]  (Warmup) \n",
            "Chain 1 Iteration: 501 / 1000 [ 50%]  (Sampling) \n",
            "Chain 2 Iteration: 200 / 1000 [ 20%]  (Warmup) \n",
            "Chain 2 Iteration: 300 / 1000 [ 30%]  (Warmup) \n",
            "Chain 3 Iteration: 200 / 1000 [ 20%]  (Warmup) \n",
            "Chain 3 Iteration: 300 / 1000 [ 30%]  (Warmup) \n",
            "Chain 4 Iteration: 200 / 1000 [ 20%]  (Warmup) \n",
            "Chain 1 Iteration: 600 / 1000 [ 60%]  (Sampling) \n",
            "Chain 2 Iteration: 400 / 1000 [ 40%]  (Warmup) \n",
            "Chain 4 Iteration: 300 / 1000 [ 30%]  (Warmup) \n",
            "Chain 1 Iteration: 700 / 1000 [ 70%]  (Sampling) \n",
            "Chain 2 Iteration: 500 / 1000 [ 50%]  (Warmup) \n",
            "Chain 2 Iteration: 501 / 1000 [ 50%]  (Sampling) \n",
            "Chain 3 Iteration: 400 / 1000 [ 40%]  (Warmup) \n",
            "Chain 4 Iteration: 400 / 1000 [ 40%]  (Warmup) \n",
            "Chain 1 Iteration: 800 / 1000 [ 80%]  (Sampling) \n",
            "Chain 2 Iteration: 600 / 1000 [ 60%]  (Sampling) \n",
            "Chain 3 Iteration: 500 / 1000 [ 50%]  (Warmup) \n",
            "Chain 3 Iteration: 501 / 1000 [ 50%]  (Sampling) \n",
            "Chain 4 Iteration: 500 / 1000 [ 50%]  (Warmup) \n",
            "Chain 4 Iteration: 501 / 1000 [ 50%]  (Sampling) \n",
            "Chain 1 Iteration: 900 / 1000 [ 90%]  (Sampling) \n",
            "Chain 2 Iteration: 700 / 1000 [ 70%]  (Sampling) \n",
            "Chain 3 Iteration: 600 / 1000 [ 60%]  (Sampling) \n",
            "Chain 4 Iteration: 600 / 1000 [ 60%]  (Sampling) \n",
            "Chain 1 Iteration: 1000 / 1000 [100%]  (Sampling) \n",
            "Chain 2 Iteration: 800 / 1000 [ 80%]  (Sampling) \n",
            "Chain 2 Iteration: 900 / 1000 [ 90%]  (Sampling) \n",
            "Chain 3 Iteration: 700 / 1000 [ 70%]  (Sampling) \n",
            "Chain 1 finished in 0.9 seconds.\n",
            "Chain 2 Iteration: 1000 / 1000 [100%]  (Sampling) \n",
            "Chain 3 Iteration: 800 / 1000 [ 80%]  (Sampling) \n",
            "Chain 4 Iteration: 700 / 1000 [ 70%]  (Sampling) \n",
            "Chain 4 Iteration: 800 / 1000 [ 80%]  (Sampling) \n",
            "Chain 2 finished in 1.0 seconds.\n",
            "Chain 3 Iteration: 900 / 1000 [ 90%]  (Sampling) \n",
            "Chain 3 Iteration: 1000 / 1000 [100%]  (Sampling) \n",
            "Chain 4 Iteration: 900 / 1000 [ 90%]  (Sampling) \n",
            "Chain 4 Iteration: 1000 / 1000 [100%]  (Sampling) \n",
            "Chain 3 finished in 1.1 seconds.\n",
            "Chain 4 finished in 1.0 seconds.\n",
            "\n",
            "All 4 chains finished successfully.\n",
            "Mean chain execution time: 1.0 seconds.\n",
            "Total execution time: 1.3 seconds.\n",
            "\n",
            "Running MCMC with 4 parallel chains, with 1 thread(s) per chain...\n",
            "\n",
            "Chain 1 Iteration:   1 / 1000 [  0%]  (Warmup) \n",
            "Chain 2 Iteration:   1 / 1000 [  0%]  (Warmup) \n",
            "Chain 3 Iteration:   1 / 1000 [  0%]  (Warmup) \n",
            "Chain 4 Iteration:   1 / 1000 [  0%]  (Warmup) \n",
            "Chain 1 Iteration: 100 / 1000 [ 10%]  (Warmup) \n",
            "Chain 2 Iteration: 100 / 1000 [ 10%]  (Warmup) \n",
            "Chain 3 Iteration: 100 / 1000 [ 10%]  (Warmup) \n",
            "Chain 4 Iteration: 100 / 1000 [ 10%]  (Warmup) \n",
            "Chain 2 Iteration: 200 / 1000 [ 20%]  (Warmup) \n",
            "Chain 1 Iteration: 200 / 1000 [ 20%]  (Warmup) \n",
            "Chain 3 Iteration: 200 / 1000 [ 20%]  (Warmup) \n",
            "Chain 4 Iteration: 200 / 1000 [ 20%]  (Warmup) \n",
            "Chain 2 Iteration: 300 / 1000 [ 30%]  (Warmup) \n",
            "Chain 1 Iteration: 300 / 1000 [ 30%]  (Warmup) \n",
            "Chain 3 Iteration: 300 / 1000 [ 30%]  (Warmup) \n",
            "Chain 4 Iteration: 300 / 1000 [ 30%]  (Warmup) \n",
            "Chain 2 Iteration: 400 / 1000 [ 40%]  (Warmup) \n",
            "Chain 1 Iteration: 400 / 1000 [ 40%]  (Warmup) \n",
            "Chain 3 Iteration: 400 / 1000 [ 40%]  (Warmup) \n",
            "Chain 4 Iteration: 400 / 1000 [ 40%]  (Warmup) \n",
            "Chain 2 Iteration: 500 / 1000 [ 50%]  (Warmup) \n",
            "Chain 2 Iteration: 501 / 1000 [ 50%]  (Sampling) \n",
            "Chain 3 Iteration: 500 / 1000 [ 50%]  (Warmup) \n",
            "Chain 3 Iteration: 501 / 1000 [ 50%]  (Sampling) \n",
            "Chain 4 Iteration: 500 / 1000 [ 50%]  (Warmup) \n",
            "Chain 4 Iteration: 501 / 1000 [ 50%]  (Sampling) \n",
            "Chain 1 Iteration: 500 / 1000 [ 50%]  (Warmup) \n",
            "Chain 1 Iteration: 501 / 1000 [ 50%]  (Sampling) \n",
            "Chain 2 Iteration: 600 / 1000 [ 60%]  (Sampling) \n",
            "Chain 1 Iteration: 600 / 1000 [ 60%]  (Sampling) \n",
            "Chain 3 Iteration: 600 / 1000 [ 60%]  (Sampling) \n",
            "Chain 4 Iteration: 600 / 1000 [ 60%]  (Sampling) \n",
            "Chain 2 Iteration: 700 / 1000 [ 70%]  (Sampling) \n",
            "Chain 1 Iteration: 700 / 1000 [ 70%]  (Sampling) \n",
            "Chain 4 Iteration: 700 / 1000 [ 70%]  (Sampling) \n",
            "Chain 3 Iteration: 700 / 1000 [ 70%]  (Sampling) \n",
            "Chain 2 Iteration: 800 / 1000 [ 80%]  (Sampling) \n",
            "Chain 1 Iteration: 800 / 1000 [ 80%]  (Sampling) \n",
            "Chain 4 Iteration: 800 / 1000 [ 80%]  (Sampling) \n",
            "Chain 3 Iteration: 800 / 1000 [ 80%]  (Sampling) \n",
            "Chain 2 Iteration: 900 / 1000 [ 90%]  (Sampling) \n",
            "Chain 1 Iteration: 900 / 1000 [ 90%]  (Sampling) \n",
            "Chain 4 Iteration: 900 / 1000 [ 90%]  (Sampling) \n",
            "Chain 3 Iteration: 900 / 1000 [ 90%]  (Sampling) \n",
            "Chain 2 Iteration: 1000 / 1000 [100%]  (Sampling) \n",
            "Chain 2 finished in 7.5 seconds.\n",
            "Chain 1 Iteration: 1000 / 1000 [100%]  (Sampling) \n",
            "Chain 3 Iteration: 1000 / 1000 [100%]  (Sampling) \n",
            "Chain 4 Iteration: 1000 / 1000 [100%]  (Sampling) \n",
            "Chain 1 finished in 7.6 seconds.\n",
            "Chain 3 finished in 7.6 seconds.\n",
            "Chain 4 finished in 7.5 seconds.\n",
            "\n",
            "All 4 chains finished successfully.\n",
            "Mean chain execution time: 7.6 seconds.\n",
            "Total execution time: 7.7 seconds.\n",
            "\n",
            "Running MCMC with 4 parallel chains, with 1 thread(s) per chain...\n",
            "\n",
            "Chain 1 Iteration:   1 / 1000 [  0%]  (Warmup) \n",
            "Chain 2 Iteration:   1 / 1000 [  0%]  (Warmup) \n",
            "Chain 3 Iteration:   1 / 1000 [  0%]  (Warmup) \n",
            "Chain 4 Iteration:   1 / 1000 [  0%]  (Warmup) \n",
            "Chain 1 Iteration: 100 / 1000 [ 10%]  (Warmup) \n",
            "Chain 2 Iteration: 100 / 1000 [ 10%]  (Warmup) \n",
            "Chain 3 Iteration: 100 / 1000 [ 10%]  (Warmup) \n",
            "Chain 4 Iteration: 100 / 1000 [ 10%]  (Warmup) \n",
            "Chain 1 Iteration: 200 / 1000 [ 20%]  (Warmup) \n",
            "Chain 2 Iteration: 200 / 1000 [ 20%]  (Warmup) \n",
            "Chain 3 Iteration: 200 / 1000 [ 20%]  (Warmup) \n",
            "Chain 4 Iteration: 200 / 1000 [ 20%]  (Warmup) \n",
            "Chain 2 Iteration: 300 / 1000 [ 30%]  (Warmup) \n",
            "Chain 1 Iteration: 300 / 1000 [ 30%]  (Warmup) \n",
            "Chain 4 Iteration: 300 / 1000 [ 30%]  (Warmup) \n",
            "Chain 2 Iteration: 400 / 1000 [ 40%]  (Warmup) \n",
            "Chain 3 Iteration: 300 / 1000 [ 30%]  (Warmup) \n",
            "Chain 1 Iteration: 400 / 1000 [ 40%]  (Warmup) \n",
            "Chain 4 Iteration: 400 / 1000 [ 40%]  (Warmup) \n",
            "Chain 2 Iteration: 500 / 1000 [ 50%]  (Warmup) \n",
            "Chain 2 Iteration: 501 / 1000 [ 50%]  (Sampling) \n",
            "Chain 3 Iteration: 400 / 1000 [ 40%]  (Warmup) \n",
            "Chain 1 Iteration: 500 / 1000 [ 50%]  (Warmup) \n",
            "Chain 1 Iteration: 501 / 1000 [ 50%]  (Sampling) \n",
            "Chain 4 Iteration: 500 / 1000 [ 50%]  (Warmup) \n",
            "Chain 4 Iteration: 501 / 1000 [ 50%]  (Sampling) \n",
            "Chain 3 Iteration: 500 / 1000 [ 50%]  (Warmup) \n",
            "Chain 3 Iteration: 501 / 1000 [ 50%]  (Sampling) \n",
            "Chain 2 Iteration: 600 / 1000 [ 60%]  (Sampling) \n",
            "Chain 1 Iteration: 600 / 1000 [ 60%]  (Sampling) \n",
            "Chain 4 Iteration: 600 / 1000 [ 60%]  (Sampling) \n",
            "Chain 2 Iteration: 700 / 1000 [ 70%]  (Sampling) \n",
            "Chain 3 Iteration: 600 / 1000 [ 60%]  (Sampling) \n",
            "Chain 1 Iteration: 700 / 1000 [ 70%]  (Sampling) \n",
            "Chain 4 Iteration: 700 / 1000 [ 70%]  (Sampling) \n",
            "Chain 1 Iteration: 800 / 1000 [ 80%]  (Sampling) \n",
            "Chain 3 Iteration: 700 / 1000 [ 70%]  (Sampling) \n",
            "Chain 2 Iteration: 800 / 1000 [ 80%]  (Sampling) \n",
            "Chain 4 Iteration: 800 / 1000 [ 80%]  (Sampling) \n",
            "Chain 1 Iteration: 900 / 1000 [ 90%]  (Sampling) \n",
            "Chain 2 Iteration: 900 / 1000 [ 90%]  (Sampling) \n",
            "Chain 3 Iteration: 800 / 1000 [ 80%]  (Sampling) \n",
            "Chain 4 Iteration: 900 / 1000 [ 90%]  (Sampling) \n",
            "Chain 1 Iteration: 1000 / 1000 [100%]  (Sampling) \n",
            "Chain 2 Iteration: 1000 / 1000 [100%]  (Sampling) \n",
            "Chain 3 Iteration: 900 / 1000 [ 90%]  (Sampling) \n",
            "Chain 1 finished in 3.6 seconds.\n",
            "Chain 2 finished in 3.7 seconds.\n",
            "Chain 4 Iteration: 1000 / 1000 [100%]  (Sampling) \n",
            "Chain 4 finished in 3.7 seconds.\n",
            "Chain 3 Iteration: 1000 / 1000 [100%]  (Sampling) \n",
            "Chain 3 finished in 3.8 seconds.\n",
            "\n",
            "All 4 chains finished successfully.\n",
            "Mean chain execution time: 3.7 seconds.\n",
            "Total execution time: 4.0 seconds.\n",
            "\n",
            "Running MCMC with 4 parallel chains, with 1 thread(s) per chain...\n",
            "\n",
            "Chain 1 Iteration:   1 / 1000 [  0%]  (Warmup) \n",
            "Chain 2 Iteration:   1 / 1000 [  0%]  (Warmup) \n",
            "Chain 3 Iteration:   1 / 1000 [  0%]  (Warmup) \n",
            "Chain 4 Iteration:   1 / 1000 [  0%]  (Warmup) \n",
            "Chain 1 Iteration: 100 / 1000 [ 10%]  (Warmup) \n",
            "Chain 2 Iteration: 100 / 1000 [ 10%]  (Warmup) \n",
            "Chain 3 Iteration: 100 / 1000 [ 10%]  (Warmup) \n",
            "Chain 4 Iteration: 100 / 1000 [ 10%]  (Warmup) \n",
            "Chain 1 Iteration: 200 / 1000 [ 20%]  (Warmup) \n",
            "Chain 2 Iteration: 200 / 1000 [ 20%]  (Warmup) \n",
            "Chain 3 Iteration: 200 / 1000 [ 20%]  (Warmup) \n",
            "Chain 4 Iteration: 200 / 1000 [ 20%]  (Warmup) \n",
            "Chain 1 Iteration: 300 / 1000 [ 30%]  (Warmup) \n",
            "Chain 2 Iteration: 300 / 1000 [ 30%]  (Warmup) \n",
            "Chain 3 Iteration: 300 / 1000 [ 30%]  (Warmup) \n",
            "Chain 1 Iteration: 400 / 1000 [ 40%]  (Warmup) \n",
            "Chain 4 Iteration: 300 / 1000 [ 30%]  (Warmup) \n",
            "Chain 2 Iteration: 400 / 1000 [ 40%]  (Warmup) \n",
            "Chain 3 Iteration: 400 / 1000 [ 40%]  (Warmup) \n",
            "Chain 4 Iteration: 400 / 1000 [ 40%]  (Warmup) \n",
            "Chain 1 Iteration: 500 / 1000 [ 50%]  (Warmup) \n",
            "Chain 1 Iteration: 501 / 1000 [ 50%]  (Sampling) \n",
            "Chain 2 Iteration: 500 / 1000 [ 50%]  (Warmup) \n",
            "Chain 2 Iteration: 501 / 1000 [ 50%]  (Sampling) \n",
            "Chain 1 Iteration: 600 / 1000 [ 60%]  (Sampling) \n",
            "Chain 3 Iteration: 500 / 1000 [ 50%]  (Warmup) \n",
            "Chain 3 Iteration: 501 / 1000 [ 50%]  (Sampling) \n",
            "Chain 4 Iteration: 500 / 1000 [ 50%]  (Warmup) \n",
            "Chain 4 Iteration: 501 / 1000 [ 50%]  (Sampling) \n",
            "Chain 2 Iteration: 600 / 1000 [ 60%]  (Sampling) \n",
            "Chain 1 Iteration: 700 / 1000 [ 70%]  (Sampling) \n",
            "Chain 3 Iteration: 600 / 1000 [ 60%]  (Sampling) \n",
            "Chain 4 Iteration: 600 / 1000 [ 60%]  (Sampling) \n",
            "Chain 2 Iteration: 700 / 1000 [ 70%]  (Sampling) \n",
            "Chain 1 Iteration: 800 / 1000 [ 80%]  (Sampling) \n",
            "Chain 3 Iteration: 700 / 1000 [ 70%]  (Sampling) \n",
            "Chain 4 Iteration: 700 / 1000 [ 70%]  (Sampling) \n",
            "Chain 2 Iteration: 800 / 1000 [ 80%]  (Sampling) \n",
            "Chain 1 Iteration: 900 / 1000 [ 90%]  (Sampling) \n",
            "Chain 3 Iteration: 800 / 1000 [ 80%]  (Sampling) \n",
            "Chain 4 Iteration: 800 / 1000 [ 80%]  (Sampling) \n",
            "Chain 1 Iteration: 1000 / 1000 [100%]  (Sampling) \n",
            "Chain 2 Iteration: 900 / 1000 [ 90%]  (Sampling) \n",
            "Chain 1 finished in 3.3 seconds.\n",
            "Chain 4 Iteration: 900 / 1000 [ 90%]  (Sampling) \n",
            "Chain 3 Iteration: 900 / 1000 [ 90%]  (Sampling) \n",
            "Chain 2 Iteration: 1000 / 1000 [100%]  (Sampling) \n",
            "Chain 3 Iteration: 1000 / 1000 [100%]  (Sampling) \n",
            "Chain 4 Iteration: 1000 / 1000 [100%]  (Sampling) \n",
            "Chain 2 finished in 3.6 seconds.\n",
            "Chain 3 finished in 3.6 seconds.\n",
            "Chain 4 finished in 3.6 seconds.\n",
            "\n",
            "All 4 chains finished successfully.\n",
            "Mean chain execution time: 3.5 seconds.\n",
            "Total execution time: 3.7 seconds.\n",
            "\n"
          ]
        }
      ]
    },
    {
      "cell_type": "code",
      "source": [
        "compare(m11.1, m11.2, m11.3, m11.4, func=PSIS)\n",
        "compare(m11.1, m11.2, m11.3, m11.4, func=WAIC)"
      ],
      "metadata": {
        "colab": {
          "base_uri": "https://localhost:8080/",
          "height": 430
        },
        "id": "ZGgzLDd2TDxm",
        "outputId": "603731cc-c8f0-4a14-c796-4d400625654b"
      },
      "execution_count": null,
      "outputs": [
        {
          "output_type": "display_data",
          "data": {
            "text/html": [
              "<table class=\"dataframe\">\n",
              "<caption>A compareIC: 4 × 6</caption>\n",
              "<thead>\n",
              "\t<tr><th></th><th scope=col>PSIS</th><th scope=col>SE</th><th scope=col>dPSIS</th><th scope=col>dSE</th><th scope=col>pPSIS</th><th scope=col>weight</th></tr>\n",
              "\t<tr><th></th><th scope=col>&lt;dbl&gt;</th><th scope=col>&lt;dbl&gt;</th><th scope=col>&lt;dbl&gt;</th><th scope=col>&lt;dbl&gt;</th><th scope=col>&lt;dbl&gt;</th><th scope=col>&lt;dbl&gt;</th></tr>\n",
              "</thead>\n",
              "<tbody>\n",
              "\t<tr><th scope=row>m11.4</th><td>531.9557</td><td>18.948758</td><td>  0.0000</td><td>      NA</td><td>8.2953795</td><td>1.000000e+00</td></tr>\n",
              "\t<tr><th scope=row>m11.3</th><td>682.4291</td><td> 9.231043</td><td>150.4735</td><td>18.42901</td><td>3.6121932</td><td>2.113984e-33</td></tr>\n",
              "\t<tr><th scope=row>m11.2</th><td>683.0913</td><td> 9.635207</td><td>151.1356</td><td>18.47345</td><td>4.0185199</td><td>1.518168e-33</td></tr>\n",
              "\t<tr><th scope=row>m11.1</th><td>687.8960</td><td> 7.125581</td><td>155.9404</td><td>18.95736</td><td>0.9779628</td><td>1.373985e-34</td></tr>\n",
              "</tbody>\n",
              "</table>\n"
            ],
            "text/markdown": "\nA compareIC: 4 × 6\n\n| <!--/--> | PSIS &lt;dbl&gt; | SE &lt;dbl&gt; | dPSIS &lt;dbl&gt; | dSE &lt;dbl&gt; | pPSIS &lt;dbl&gt; | weight &lt;dbl&gt; |\n|---|---|---|---|---|---|---|\n| m11.4 | 531.9557 | 18.948758 |   0.0000 |       NA | 8.2953795 | 1.000000e+00 |\n| m11.3 | 682.4291 |  9.231043 | 150.4735 | 18.42901 | 3.6121932 | 2.113984e-33 |\n| m11.2 | 683.0913 |  9.635207 | 151.1356 | 18.47345 | 4.0185199 | 1.518168e-33 |\n| m11.1 | 687.8960 |  7.125581 | 155.9404 | 18.95736 | 0.9779628 | 1.373985e-34 |\n\n",
            "text/latex": "A compareIC: 4 × 6\n\\begin{tabular}{r|llllll}\n  & PSIS & SE & dPSIS & dSE & pPSIS & weight\\\\\n  & <dbl> & <dbl> & <dbl> & <dbl> & <dbl> & <dbl>\\\\\n\\hline\n\tm11.4 & 531.9557 & 18.948758 &   0.0000 &       NA & 8.2953795 & 1.000000e+00\\\\\n\tm11.3 & 682.4291 &  9.231043 & 150.4735 & 18.42901 & 3.6121932 & 2.113984e-33\\\\\n\tm11.2 & 683.0913 &  9.635207 & 151.1356 & 18.47345 & 4.0185199 & 1.518168e-33\\\\\n\tm11.1 & 687.8960 &  7.125581 & 155.9404 & 18.95736 & 0.9779628 & 1.373985e-34\\\\\n\\end{tabular}\n",
            "text/plain": [
              "      PSIS     SE        dPSIS    dSE      pPSIS     weight      \n",
              "m11.4 531.9557 18.948758   0.0000       NA 8.2953795 1.000000e+00\n",
              "m11.3 682.4291  9.231043 150.4735 18.42901 3.6121932 2.113984e-33\n",
              "m11.2 683.0913  9.635207 151.1356 18.47345 4.0185199 1.518168e-33\n",
              "m11.1 687.8960  7.125581 155.9404 18.95736 0.9779628 1.373985e-34"
            ]
          },
          "metadata": {}
        },
        {
          "output_type": "display_data",
          "data": {
            "text/html": [
              "<table class=\"dataframe\">\n",
              "<caption>A compareIC: 4 × 6</caption>\n",
              "<thead>\n",
              "\t<tr><th></th><th scope=col>WAIC</th><th scope=col>SE</th><th scope=col>dWAIC</th><th scope=col>dSE</th><th scope=col>pWAIC</th><th scope=col>weight</th></tr>\n",
              "\t<tr><th></th><th scope=col>&lt;dbl&gt;</th><th scope=col>&lt;dbl&gt;</th><th scope=col>&lt;dbl&gt;</th><th scope=col>&lt;dbl&gt;</th><th scope=col>&lt;dbl&gt;</th><th scope=col>&lt;dbl&gt;</th></tr>\n",
              "</thead>\n",
              "<tbody>\n",
              "\t<tr><th scope=row>m11.4</th><td>531.9045</td><td>18.927284</td><td>  0.0000</td><td>      NA</td><td>8.2698158</td><td>1.000000e+00</td></tr>\n",
              "\t<tr><th scope=row>m11.3</th><td>682.4072</td><td> 9.221572</td><td>150.5027</td><td>18.42643</td><td>3.6012224</td><td>2.083359e-33</td></tr>\n",
              "\t<tr><th scope=row>m11.2</th><td>683.0652</td><td> 9.625205</td><td>151.1607</td><td>18.47086</td><td>4.0054812</td><td>1.499271e-33</td></tr>\n",
              "\t<tr><th scope=row>m11.1</th><td>687.8898</td><td> 7.118391</td><td>155.9853</td><td>18.95470</td><td>0.9748543</td><td>1.343476e-34</td></tr>\n",
              "</tbody>\n",
              "</table>\n"
            ],
            "text/markdown": "\nA compareIC: 4 × 6\n\n| <!--/--> | WAIC &lt;dbl&gt; | SE &lt;dbl&gt; | dWAIC &lt;dbl&gt; | dSE &lt;dbl&gt; | pWAIC &lt;dbl&gt; | weight &lt;dbl&gt; |\n|---|---|---|---|---|---|---|\n| m11.4 | 531.9045 | 18.927284 |   0.0000 |       NA | 8.2698158 | 1.000000e+00 |\n| m11.3 | 682.4072 |  9.221572 | 150.5027 | 18.42643 | 3.6012224 | 2.083359e-33 |\n| m11.2 | 683.0652 |  9.625205 | 151.1607 | 18.47086 | 4.0054812 | 1.499271e-33 |\n| m11.1 | 687.8898 |  7.118391 | 155.9853 | 18.95470 | 0.9748543 | 1.343476e-34 |\n\n",
            "text/latex": "A compareIC: 4 × 6\n\\begin{tabular}{r|llllll}\n  & WAIC & SE & dWAIC & dSE & pWAIC & weight\\\\\n  & <dbl> & <dbl> & <dbl> & <dbl> & <dbl> & <dbl>\\\\\n\\hline\n\tm11.4 & 531.9045 & 18.927284 &   0.0000 &       NA & 8.2698158 & 1.000000e+00\\\\\n\tm11.3 & 682.4072 &  9.221572 & 150.5027 & 18.42643 & 3.6012224 & 2.083359e-33\\\\\n\tm11.2 & 683.0652 &  9.625205 & 151.1607 & 18.47086 & 4.0054812 & 1.499271e-33\\\\\n\tm11.1 & 687.8898 &  7.118391 & 155.9853 & 18.95470 & 0.9748543 & 1.343476e-34\\\\\n\\end{tabular}\n",
            "text/plain": [
              "      WAIC     SE        dWAIC    dSE      pWAIC     weight      \n",
              "m11.4 531.9045 18.927284   0.0000       NA 8.2698158 1.000000e+00\n",
              "m11.3 682.4072  9.221572 150.5027 18.42643 3.6012224 2.083359e-33\n",
              "m11.2 683.0652  9.625205 151.1607 18.47086 4.0054812 1.499271e-33\n",
              "m11.1 687.8898  7.118391 155.9853 18.95470 0.9748543 1.343476e-34"
            ]
          },
          "metadata": {}
        }
      ]
    },
    {
      "cell_type": "markdown",
      "source": [
        "The model that includes both `actor`-specific and `treatment`-specific terms has superior scores.  This is interesting because this is also the most-penalized model for being the complex; apparently, the complexity is well compensated by predictive ability of the model."
      ],
      "metadata": {
        "id": "6Orl4m6aTQ-O"
      }
    },
    {
      "cell_type": "markdown",
      "source": [
        "### 11H2\n",
        "The data contained in `library(MASS)`; `data(eagles)` are records of salmon pirating attempts by Bald Eagles in Washington State. See `?eagles` for details. While one eagle feeds, sometimes another will swoop in and try to steal the salmon from it. Call the feeding eagle the “victim” and  the thief the “pirate.” Use the available data to build a binomial GLM of successful pirating attempts.  \n",
        "\n",
        "> (a) Consider the following model:  \n",
        "\n",
        "$$y_i ∼ Binomial(n_i, p_i)$$\n",
        "$$logit(p_i) = α + β_P P_i + β_V V_i + β_A A_i$$\n",
        "$$α ∼ Normal(0, 1.5)$$\n",
        "$$β_P, β_V, β_A ∼ Normal(0, 0.5)$$\n",
        "\n",
        "> where $y$ is the number of successful attempts, $n$ is the total number of attempts, $P$ is a dummy variable  indicating whether or not the pirate had large body size, $V$ is a dummy variable indicating whether or not the victim had large body size, and finally $A$ is a dummy variable indicating whether or not the pirate was an adult. Fit the model above to the eagles data, using both `quap` and `ulam`. Is the quadratic approximation okay?  \n",
        "\n",
        "> (b) Now interpret the estimates. If the quadratic approximation turned out okay, then it’s okay to use the quap estimates. Otherwise stick to `ulam` estimates. Then plot the posterior predictions.  Compute and display both (1) the predicted probability of success and its 89% interval for each row ($i$) in the data, as well as (2) the predicted success count and its 89% interval. What different information does each type of posterior prediction provide?  \n",
        "\n",
        "> (c) Now try to improve the model. Consider an interaction between the pirate’s size and age  (immature or adult). Compare this model to the previous one, using WAIC. Interpret.\n",
        "\n",
        "#### Answers\n",
        "Start by getting the `eagles` data up."
      ],
      "metadata": {
        "id": "RztVSIcQnuEl"
      }
    },
    {
      "cell_type": "code",
      "source": [
        "library(MASS)\n",
        "data(eagles)\n",
        "d <- eagles\n",
        "\n",
        "d"
      ],
      "metadata": {
        "colab": {
          "base_uri": "https://localhost:8080/",
          "height": 349
        },
        "id": "q45A9bwKpOLO",
        "outputId": "278fddf8-e7a4-4bbe-c138-4dec775dd8ee"
      },
      "execution_count": null,
      "outputs": [
        {
          "output_type": "display_data",
          "data": {
            "text/html": [
              "<table class=\"dataframe\">\n",
              "<caption>A data.frame: 8 × 5</caption>\n",
              "<thead>\n",
              "\t<tr><th></th><th scope=col>y</th><th scope=col>n</th><th scope=col>P</th><th scope=col>A</th><th scope=col>V</th></tr>\n",
              "\t<tr><th></th><th scope=col>&lt;int&gt;</th><th scope=col>&lt;int&gt;</th><th scope=col>&lt;fct&gt;</th><th scope=col>&lt;fct&gt;</th><th scope=col>&lt;fct&gt;</th></tr>\n",
              "</thead>\n",
              "<tbody>\n",
              "\t<tr><th scope=row>1</th><td>17</td><td>24</td><td>L</td><td>A</td><td>L</td></tr>\n",
              "\t<tr><th scope=row>2</th><td>29</td><td>29</td><td>L</td><td>A</td><td>S</td></tr>\n",
              "\t<tr><th scope=row>3</th><td>17</td><td>27</td><td>L</td><td>I</td><td>L</td></tr>\n",
              "\t<tr><th scope=row>4</th><td>20</td><td>20</td><td>L</td><td>I</td><td>S</td></tr>\n",
              "\t<tr><th scope=row>5</th><td> 1</td><td>12</td><td>S</td><td>A</td><td>L</td></tr>\n",
              "\t<tr><th scope=row>6</th><td>15</td><td>16</td><td>S</td><td>A</td><td>S</td></tr>\n",
              "\t<tr><th scope=row>7</th><td> 0</td><td>28</td><td>S</td><td>I</td><td>L</td></tr>\n",
              "\t<tr><th scope=row>8</th><td> 1</td><td> 4</td><td>S</td><td>I</td><td>S</td></tr>\n",
              "</tbody>\n",
              "</table>\n"
            ],
            "text/markdown": "\nA data.frame: 8 × 5\n\n| <!--/--> | y &lt;int&gt; | n &lt;int&gt; | P &lt;fct&gt; | A &lt;fct&gt; | V &lt;fct&gt; |\n|---|---|---|---|---|---|\n| 1 | 17 | 24 | L | A | L |\n| 2 | 29 | 29 | L | A | S |\n| 3 | 17 | 27 | L | I | L |\n| 4 | 20 | 20 | L | I | S |\n| 5 |  1 | 12 | S | A | L |\n| 6 | 15 | 16 | S | A | S |\n| 7 |  0 | 28 | S | I | L |\n| 8 |  1 |  4 | S | I | S |\n\n",
            "text/latex": "A data.frame: 8 × 5\n\\begin{tabular}{r|lllll}\n  & y & n & P & A & V\\\\\n  & <int> & <int> & <fct> & <fct> & <fct>\\\\\n\\hline\n\t1 & 17 & 24 & L & A & L\\\\\n\t2 & 29 & 29 & L & A & S\\\\\n\t3 & 17 & 27 & L & I & L\\\\\n\t4 & 20 & 20 & L & I & S\\\\\n\t5 &  1 & 12 & S & A & L\\\\\n\t6 & 15 & 16 & S & A & S\\\\\n\t7 &  0 & 28 & S & I & L\\\\\n\t8 &  1 &  4 & S & I & S\\\\\n\\end{tabular}\n",
            "text/plain": [
              "  y  n  P A V\n",
              "1 17 24 L A L\n",
              "2 29 29 L A S\n",
              "3 17 27 L I L\n",
              "4 20 20 L I S\n",
              "5  1 12 S A L\n",
              "6 15 16 S A S\n",
              "7  0 28 S I L\n",
              "8  1  4 S I S"
            ]
          },
          "metadata": {}
        }
      ]
    },
    {
      "cell_type": "markdown",
      "source": [
        "In order to use the provided model, we should binarize `P`, `A`, and `V`."
      ],
      "metadata": {
        "id": "O-9p1VgExi6e"
      }
    },
    {
      "cell_type": "code",
      "source": [
        "d$P2 <- ifelse(d$P==\"L\", 1, 0)\n",
        "d$A2 <- ifelse(d$A==\"A\", 1, 0)\n",
        "d$V2 <- ifelse(d$V==\"L\", 1, 0)"
      ],
      "metadata": {
        "id": "RKAGwtQlxq3T"
      },
      "execution_count": null,
      "outputs": []
    },
    {
      "cell_type": "markdown",
      "source": [
        "##### Answer to 11H2, a\n",
        "\n",
        "***Consider the following model:***\n",
        "\n",
        "***$$y_i ∼ Binomial(n_i, p_i)$$***\n",
        "***$$logit(p_i) = α + β_P P_i + β_V V_i + β_A A_i$$***\n",
        "***$$α ∼ Normal(0, 1.5)$$***\n",
        "***$$β_P, β_V, β_A ∼ Normal(0, 0.5)$$***\n",
        "\n",
        "***where $y$ is the number of successful attempts, $n$ is the total number of attempts, $P$ is a dummy variable  indicating whether or not the pirate had large body size, $V$ is a dummy variable indicating whether or not the victim had large body size, and finally $A$ is a dummy variable indicating whether or not the pirate was an adult. Fit the model above to the eagles data, using both `quap` and `ulam`. Is the quadratic approximation okay?***\n",
        "\n",
        "Let's now fit the provided model in `quap` and `ulam`."
      ],
      "metadata": {
        "id": "B6awJcNmpm6i"
      }
    },
    {
      "cell_type": "code",
      "source": [
        "model <- alist(\n",
        "  y ~ dbinom(n, p),\n",
        "    logit(p) <- a + bP*P2 + bV*V2 + bA*A2,\n",
        "      a ~ dnorm(0, 1.5),\n",
        "      c(bP, bV, bA) ~ dnorm(0,1)\n",
        ")\n",
        "\n",
        "m_quap  <- quap(model, data=d)\n",
        "m_ulam <- ulam(model, data=d, chains=4, cores=4, log_lik=TRUE)"
      ],
      "metadata": {
        "colab": {
          "base_uri": "https://localhost:8080/"
        },
        "id": "1XVL1PJTpvni",
        "outputId": "dcdd1f0e-bdb9-40ec-aa04-9e935835d934"
      },
      "execution_count": null,
      "outputs": [
        {
          "output_type": "stream",
          "name": "stdout",
          "text": [
            "Running MCMC with 4 parallel chains, with 1 thread(s) per chain...\n",
            "\n",
            "Chain 1 Iteration:   1 / 1000 [  0%]  (Warmup) \n",
            "Chain 1 Iteration: 100 / 1000 [ 10%]  (Warmup) \n",
            "Chain 1 Iteration: 200 / 1000 [ 20%]  (Warmup) \n",
            "Chain 1 Iteration: 300 / 1000 [ 30%]  (Warmup) \n",
            "Chain 1 Iteration: 400 / 1000 [ 40%]  (Warmup) \n",
            "Chain 1 Iteration: 500 / 1000 [ 50%]  (Warmup) \n",
            "Chain 1 Iteration: 501 / 1000 [ 50%]  (Sampling) \n",
            "Chain 1 Iteration: 600 / 1000 [ 60%]  (Sampling) \n",
            "Chain 1 Iteration: 700 / 1000 [ 70%]  (Sampling) \n",
            "Chain 1 Iteration: 800 / 1000 [ 80%]  (Sampling) \n",
            "Chain 1 Iteration: 900 / 1000 [ 90%]  (Sampling) \n",
            "Chain 1 Iteration: 1000 / 1000 [100%]  (Sampling) \n",
            "Chain 2 Iteration:   1 / 1000 [  0%]  (Warmup) \n",
            "Chain 2 Iteration: 100 / 1000 [ 10%]  (Warmup) \n",
            "Chain 2 Iteration: 200 / 1000 [ 20%]  (Warmup) \n",
            "Chain 2 Iteration: 300 / 1000 [ 30%]  (Warmup) \n",
            "Chain 2 Iteration: 400 / 1000 [ 40%]  (Warmup) \n",
            "Chain 2 Iteration: 500 / 1000 [ 50%]  (Warmup) \n",
            "Chain 2 Iteration: 501 / 1000 [ 50%]  (Sampling) \n",
            "Chain 2 Iteration: 600 / 1000 [ 60%]  (Sampling) \n",
            "Chain 2 Iteration: 700 / 1000 [ 70%]  (Sampling) \n",
            "Chain 2 Iteration: 800 / 1000 [ 80%]  (Sampling) \n",
            "Chain 2 Iteration: 900 / 1000 [ 90%]  (Sampling) \n",
            "Chain 2 Iteration: 1000 / 1000 [100%]  (Sampling) \n",
            "Chain 3 Iteration:   1 / 1000 [  0%]  (Warmup) \n",
            "Chain 3 Iteration: 100 / 1000 [ 10%]  (Warmup) \n",
            "Chain 3 Iteration: 200 / 1000 [ 20%]  (Warmup) \n",
            "Chain 3 Iteration: 300 / 1000 [ 30%]  (Warmup) \n",
            "Chain 3 Iteration: 400 / 1000 [ 40%]  (Warmup) \n",
            "Chain 3 Iteration: 500 / 1000 [ 50%]  (Warmup) \n",
            "Chain 3 Iteration: 501 / 1000 [ 50%]  (Sampling) \n",
            "Chain 3 Iteration: 600 / 1000 [ 60%]  (Sampling) \n",
            "Chain 3 Iteration: 700 / 1000 [ 70%]  (Sampling) \n",
            "Chain 3 Iteration: 800 / 1000 [ 80%]  (Sampling) \n",
            "Chain 3 Iteration: 900 / 1000 [ 90%]  (Sampling) \n",
            "Chain 3 Iteration: 1000 / 1000 [100%]  (Sampling) \n",
            "Chain 4 Iteration:   1 / 1000 [  0%]  (Warmup) \n",
            "Chain 4 Iteration: 100 / 1000 [ 10%]  (Warmup) \n",
            "Chain 4 Iteration: 200 / 1000 [ 20%]  (Warmup) \n",
            "Chain 4 Iteration: 300 / 1000 [ 30%]  (Warmup) \n",
            "Chain 4 Iteration: 400 / 1000 [ 40%]  (Warmup) \n",
            "Chain 4 Iteration: 500 / 1000 [ 50%]  (Warmup) \n",
            "Chain 4 Iteration: 501 / 1000 [ 50%]  (Sampling) \n",
            "Chain 4 Iteration: 600 / 1000 [ 60%]  (Sampling) \n",
            "Chain 4 Iteration: 700 / 1000 [ 70%]  (Sampling) \n",
            "Chain 4 Iteration: 800 / 1000 [ 80%]  (Sampling) \n",
            "Chain 4 Iteration: 900 / 1000 [ 90%]  (Sampling) \n",
            "Chain 4 Iteration: 1000 / 1000 [100%]  (Sampling) \n",
            "Chain 1 finished in 0.1 seconds.\n",
            "Chain 2 finished in 0.2 seconds.\n",
            "Chain 3 finished in 0.1 seconds.\n",
            "Chain 4 finished in 0.1 seconds.\n",
            "\n",
            "All 4 chains finished successfully.\n",
            "Mean chain execution time: 0.1 seconds.\n",
            "Total execution time: 0.3 seconds.\n",
            "\n"
          ]
        }
      ]
    },
    {
      "cell_type": "code",
      "source": [
        "round(precis(m_quap),2)\n",
        "round(precis(m_ulam),2)"
      ],
      "metadata": {
        "colab": {
          "base_uri": "https://localhost:8080/",
          "height": 430
        },
        "id": "iP85g8pRvzYY",
        "outputId": "333bbe9e-86a2-4c91-8c5c-214dc4a0f2c8"
      },
      "execution_count": null,
      "outputs": [
        {
          "output_type": "display_data",
          "data": {
            "text/html": [
              "<table class=\"dataframe\">\n",
              "<caption>A data.frame: 4 × 4</caption>\n",
              "<thead>\n",
              "\t<tr><th></th><th scope=col>mean</th><th scope=col>sd</th><th scope=col>5.5%</th><th scope=col>94.5%</th></tr>\n",
              "\t<tr><th></th><th scope=col>&lt;dbl&gt;</th><th scope=col>&lt;dbl&gt;</th><th scope=col>&lt;dbl&gt;</th><th scope=col>&lt;dbl&gt;</th></tr>\n",
              "</thead>\n",
              "<tbody>\n",
              "\t<tr><th scope=row>a</th><td> 0.35</td><td>0.48</td><td>-0.42</td><td> 1.12</td></tr>\n",
              "\t<tr><th scope=row>bP</th><td> 2.58</td><td>0.44</td><td> 1.88</td><td> 3.28</td></tr>\n",
              "\t<tr><th scope=row>bV</th><td>-2.71</td><td>0.47</td><td>-3.46</td><td>-1.96</td></tr>\n",
              "\t<tr><th scope=row>bA</th><td> 0.89</td><td>0.41</td><td> 0.24</td><td> 1.54</td></tr>\n",
              "</tbody>\n",
              "</table>\n"
            ],
            "text/markdown": "\nA data.frame: 4 × 4\n\n| <!--/--> | mean &lt;dbl&gt; | sd &lt;dbl&gt; | 5.5% &lt;dbl&gt; | 94.5% &lt;dbl&gt; |\n|---|---|---|---|---|\n| a |  0.35 | 0.48 | -0.42 |  1.12 |\n| bP |  2.58 | 0.44 |  1.88 |  3.28 |\n| bV | -2.71 | 0.47 | -3.46 | -1.96 |\n| bA |  0.89 | 0.41 |  0.24 |  1.54 |\n\n",
            "text/latex": "A data.frame: 4 × 4\n\\begin{tabular}{r|llll}\n  & mean & sd & 5.5\\% & 94.5\\%\\\\\n  & <dbl> & <dbl> & <dbl> & <dbl>\\\\\n\\hline\n\ta &  0.35 & 0.48 & -0.42 &  1.12\\\\\n\tbP &  2.58 & 0.44 &  1.88 &  3.28\\\\\n\tbV & -2.71 & 0.47 & -3.46 & -1.96\\\\\n\tbA &  0.89 & 0.41 &  0.24 &  1.54\\\\\n\\end{tabular}\n",
            "text/plain": [
              "   mean  sd   5.5%  94.5%\n",
              "a   0.35 0.48 -0.42  1.12\n",
              "bP  2.58 0.44  1.88  3.28\n",
              "bV -2.71 0.47 -3.46 -1.96\n",
              "bA  0.89 0.41  0.24  1.54"
            ]
          },
          "metadata": {}
        },
        {
          "output_type": "display_data",
          "data": {
            "text/html": [
              "<table class=\"dataframe\">\n",
              "<caption>A data.frame: 4 × 6</caption>\n",
              "<thead>\n",
              "\t<tr><th></th><th scope=col>mean</th><th scope=col>sd</th><th scope=col>5.5%</th><th scope=col>94.5%</th><th scope=col>rhat</th><th scope=col>ess_bulk</th></tr>\n",
              "\t<tr><th></th><th scope=col>&lt;dbl&gt;</th><th scope=col>&lt;dbl&gt;</th><th scope=col>&lt;dbl&gt;</th><th scope=col>&lt;dbl&gt;</th><th scope=col>&lt;dbl&gt;</th><th scope=col>&lt;dbl&gt;</th></tr>\n",
              "</thead>\n",
              "<tbody>\n",
              "\t<tr><th scope=row>a</th><td> 0.35</td><td>0.51</td><td>-0.43</td><td> 1.16</td><td>1</td><td>1110.38</td></tr>\n",
              "\t<tr><th scope=row>bA</th><td> 0.93</td><td>0.42</td><td> 0.26</td><td> 1.59</td><td>1</td><td>1195.32</td></tr>\n",
              "\t<tr><th scope=row>bV</th><td>-2.78</td><td>0.49</td><td>-3.58</td><td>-1.99</td><td>1</td><td>1208.56</td></tr>\n",
              "\t<tr><th scope=row>bP</th><td> 2.65</td><td>0.45</td><td> 1.95</td><td> 3.35</td><td>1</td><td>1133.57</td></tr>\n",
              "</tbody>\n",
              "</table>\n"
            ],
            "text/markdown": "\nA data.frame: 4 × 6\n\n| <!--/--> | mean &lt;dbl&gt; | sd &lt;dbl&gt; | 5.5% &lt;dbl&gt; | 94.5% &lt;dbl&gt; | rhat &lt;dbl&gt; | ess_bulk &lt;dbl&gt; |\n|---|---|---|---|---|---|---|\n| a |  0.35 | 0.51 | -0.43 |  1.16 | 1 | 1110.38 |\n| bA |  0.93 | 0.42 |  0.26 |  1.59 | 1 | 1195.32 |\n| bV | -2.78 | 0.49 | -3.58 | -1.99 | 1 | 1208.56 |\n| bP |  2.65 | 0.45 |  1.95 |  3.35 | 1 | 1133.57 |\n\n",
            "text/latex": "A data.frame: 4 × 6\n\\begin{tabular}{r|llllll}\n  & mean & sd & 5.5\\% & 94.5\\% & rhat & ess\\_bulk\\\\\n  & <dbl> & <dbl> & <dbl> & <dbl> & <dbl> & <dbl>\\\\\n\\hline\n\ta &  0.35 & 0.51 & -0.43 &  1.16 & 1 & 1110.38\\\\\n\tbA &  0.93 & 0.42 &  0.26 &  1.59 & 1 & 1195.32\\\\\n\tbV & -2.78 & 0.49 & -3.58 & -1.99 & 1 & 1208.56\\\\\n\tbP &  2.65 & 0.45 &  1.95 &  3.35 & 1 & 1133.57\\\\\n\\end{tabular}\n",
            "text/plain": [
              "   mean  sd   5.5%  94.5% rhat ess_bulk\n",
              "a   0.35 0.51 -0.43  1.16 1    1110.38 \n",
              "bA  0.93 0.42  0.26  1.59 1    1195.32 \n",
              "bV -2.78 0.49 -3.58 -1.99 1    1208.56 \n",
              "bP  2.65 0.45  1.95  3.35 1    1133.57 "
            ]
          },
          "metadata": {}
        }
      ]
    },
    {
      "cell_type": "markdown",
      "source": [
        "The quadratic approximation, `m_quap`, seems reasonably close to the MCMC approximation, `m_ulam`.  As per the question, then, we should `m_quap` going forward.  But since we have `m_ulam`, I'm going to use that instead."
      ],
      "metadata": {
        "id": "I4MqL1WCyZdR"
      }
    },
    {
      "cell_type": "markdown",
      "source": [
        "##### Answer to 11H2, b\n",
        "\n",
        "***Now interpret the estimates. If the quadratic approximation turned out okay, then it’s okay to use the quap estimates. Otherwise stick to `ulam` estimates. Then plot the posterior predictions.  Compute and display both (1) the predicted probability of success and its 89% interval for each row ($i$) in the data, as well as (2) the predicted success count and its 89% interval. What different information does each type of posterior prediction provide?***\n",
        "\n",
        "Let's interpret the coefficients from `m_ulam`.  Let's extract samples from the posterior and make inferences from there."
      ],
      "metadata": {
        "id": "HAhbj75XzD8b"
      }
    },
    {
      "cell_type": "code",
      "source": [
        "post <- extract.samples(m_ulam)"
      ],
      "metadata": {
        "id": "RAf7AKu7zbyV"
      },
      "execution_count": null,
      "outputs": []
    },
    {
      "cell_type": "markdown",
      "source": [
        "We'll start with `a`; this represents the *baseline* chances of success.  Remember that the coefficients are given as log-odds, so let's convert them to probabilities for ease of interpretation."
      ],
      "metadata": {
        "id": "BStG7p4D12Bi"
      }
    },
    {
      "cell_type": "code",
      "source": [
        "quantile(inv_logit(post$a), probs=c(0.055, 0.500, 0.945))"
      ],
      "metadata": {
        "colab": {
          "base_uri": "https://localhost:8080/",
          "height": 34
        },
        "id": "sI73ENsp1jR_",
        "outputId": "d6ec574b-e2c5-4037-d578-1b0d9f9bd691"
      },
      "execution_count": null,
      "outputs": [
        {
          "output_type": "display_data",
          "data": {
            "text/html": [
              "<style>\n",
              ".dl-inline {width: auto; margin:0; padding: 0}\n",
              ".dl-inline>dt, .dl-inline>dd {float: none; width: auto; display: inline-block}\n",
              ".dl-inline>dt::after {content: \":\\0020\"; padding-right: .5ex}\n",
              ".dl-inline>dt:not(:first-of-type) {padding-left: .5ex}\n",
              "</style><dl class=dl-inline><dt>5.5%</dt><dd>0.393492647837801</dd><dt>50%</dt><dd>0.58625693863492</dd><dt>94.5%</dt><dd>0.760592953887668</dd></dl>\n"
            ],
            "text/markdown": "5.5%\n:   0.39349264783780150%\n:   0.5862569386349294.5%\n:   0.760592953887668\n\n",
            "text/latex": "\\begin{description*}\n\\item[5.5\\textbackslash{}\\%] 0.393492647837801\n\\item[50\\textbackslash{}\\%] 0.58625693863492\n\\item[94.5\\textbackslash{}\\%] 0.760592953887668\n\\end{description*}\n",
            "text/plain": [
              "     5.5%       50%     94.5% \n",
              "0.3934926 0.5862569 0.7605930 "
            ]
          },
          "metadata": {}
        }
      ]
    },
    {
      "cell_type": "markdown",
      "source": [
        "Hence, there is a ~58% (89% CrI = ~39%, ~75%) chance of success when all other explanatory variables are set to 0 (small immature pirate, small victim).\n",
        "\n",
        "To see how different values of the explanatory changes this, we use code like"
      ],
      "metadata": {
        "id": "QbMiawxW2N1V"
      }
    },
    {
      "cell_type": "code",
      "source": [
        "quantile(inv_logit(post$a + post$bP), probs=c(0.055, 0.500, 0.945))"
      ],
      "metadata": {
        "colab": {
          "base_uri": "https://localhost:8080/",
          "height": 34
        },
        "id": "Cww1avw51vxh",
        "outputId": "f0e3cae6-3498-49fa-a16e-1add9d7a8a24"
      },
      "execution_count": null,
      "outputs": [
        {
          "output_type": "display_data",
          "data": {
            "text/html": [
              "<style>\n",
              ".dl-inline {width: auto; margin:0; padding: 0}\n",
              ".dl-inline>dt, .dl-inline>dd {float: none; width: auto; display: inline-block}\n",
              ".dl-inline>dt::after {content: \":\\0020\"; padding-right: .5ex}\n",
              ".dl-inline>dt:not(:first-of-type) {padding-left: .5ex}\n",
              "</style><dl class=dl-inline><dt>5.5%</dt><dd>0.896773946615221</dd><dt>50%</dt><dd>0.952283539281549</dd><dt>94.5%</dt><dd>0.980171181188046</dd></dl>\n"
            ],
            "text/markdown": "5.5%\n:   0.89677394661522150%\n:   0.95228353928154994.5%\n:   0.980171181188046\n\n",
            "text/latex": "\\begin{description*}\n\\item[5.5\\textbackslash{}\\%] 0.896773946615221\n\\item[50\\textbackslash{}\\%] 0.952283539281549\n\\item[94.5\\textbackslash{}\\%] 0.980171181188046\n\\end{description*}\n",
            "text/plain": [
              "     5.5%       50%     94.5% \n",
              "0.8967739 0.9522835 0.9801712 "
            ]
          },
          "metadata": {}
        }
      ]
    },
    {
      "cell_type": "markdown",
      "source": [
        "This gives us the probability that a large immature pirate is successful against a small victim.  We can make estimates for any combination of predictive variables we wish."
      ],
      "metadata": {
        "id": "awJWO1HH3RC_"
      }
    },
    {
      "cell_type": "markdown",
      "source": [
        "Now we're supposed to show the prediction for each scenario presented in the data.  We're meant to do this in 2 ways: *percent success* and *count success*."
      ],
      "metadata": {
        "id": "VnoH7IX53x_k"
      }
    },
    {
      "cell_type": "code",
      "source": [
        "p_suc <- d$y / d$n\n",
        "p_pred <- link(m_ulam)\n",
        "p.mean <- apply(p_pred, 2, mean)\n",
        "p.PI <- apply(p_pred, 2, PI)\n",
        "\n",
        "y_sim <- sim(m_ulam)\n",
        "y.mean <- apply(y_sim, 2, mean)\n",
        "y.PI <- apply(y_sim, 2, PI)\n",
        "\n",
        "par(mfrow=c(1,2))\n",
        "plot(p_suc, ylab=\"% Success\", col=\"black\", pch=19)\n",
        "points(1:ncol(p_pred), p.mean, col=\"black\")\n",
        "for(i in 1:nrow(d)){\n",
        "  lines(c(i,i), p.PI[,i])\n",
        "}\n",
        "\n",
        "plot(d$y, ylab=\"# Success\", col=\"black\", pch=19)\n",
        "points(1:nrow(d), y.mean, col=\"black\")\n",
        "for(i in 1:nrow(d)){\n",
        "  lines(c(i,i), y.PI[,i])\n",
        "}"
      ],
      "metadata": {
        "colab": {
          "base_uri": "https://localhost:8080/",
          "height": 437
        },
        "id": "e6xvepA_4JHd",
        "outputId": "0490e40b-ae6a-48f1-d28a-1a5325340b4c"
      },
      "execution_count": null,
      "outputs": [
        {
          "output_type": "display_data",
          "data": {
            "text/plain": [
              "plot without title"
            ],
            "image/png": "[encoded data removed]"
          },
          "metadata": {
            "image/png": {
              "width": 420,
              "height": 420
            }
          }
        }
      ]
    },
    {
      "cell_type": "markdown",
      "source": [
        "The two posteriors provide similar information.  However, the *% Success* scale probably provides a better comparison among the conditions because the difference in number of trials is regularized by making using percentages instead of counts."
      ],
      "metadata": {
        "id": "tywOs4idT5t8"
      }
    },
    {
      "cell_type": "markdown",
      "source": [
        "#### Answer to 11H2, c\n",
        "\n",
        "***Now try to improve the model. Consider an interaction between the pirate’s size and age  (immature or adult). Compare this model to the previous one, using WAIC. Interpret.***"
      ],
      "metadata": {
        "id": "JjmwkhBvVDUq"
      }
    },
    {
      "cell_type": "code",
      "source": [
        "m_ulam2 <- ulam(\n",
        "  alist(\n",
        "    y ~ dbinom(n, p),\n",
        "      logit(p) <- a + bP*P2 + bV*V2 + bA*A2 + bPV*P2*V2,\n",
        "        a ~ dnorm(0, 1.5),\n",
        "        c(bP, bV, bA, bPV) ~ dnorm(0,1)\n",
        "  ), data=d,\n",
        "     chains=4,\n",
        "     cores=4,\n",
        "     log_lik=TRUE\n",
        ")\n",
        "\n",
        "round(precis(m_ulam2),2)"
      ],
      "metadata": {
        "colab": {
          "base_uri": "https://localhost:8080/",
          "height": 1000
        },
        "id": "y5RWRv0rVJct",
        "outputId": "24ea7062-ee01-48d9-9dd2-6d888f234dac"
      },
      "execution_count": null,
      "outputs": [
        {
          "output_type": "stream",
          "name": "stdout",
          "text": [
            "Running MCMC with 4 parallel chains, with 1 thread(s) per chain...\n",
            "\n",
            "Chain 1 Iteration:   1 / 1000 [  0%]  (Warmup) \n",
            "Chain 1 Iteration: 100 / 1000 [ 10%]  (Warmup) \n",
            "Chain 1 Iteration: 200 / 1000 [ 20%]  (Warmup) \n",
            "Chain 1 Iteration: 300 / 1000 [ 30%]  (Warmup) \n",
            "Chain 1 Iteration: 400 / 1000 [ 40%]  (Warmup) \n",
            "Chain 1 Iteration: 500 / 1000 [ 50%]  (Warmup) \n",
            "Chain 1 Iteration: 501 / 1000 [ 50%]  (Sampling) \n",
            "Chain 1 Iteration: 600 / 1000 [ 60%]  (Sampling) \n",
            "Chain 1 Iteration: 700 / 1000 [ 70%]  (Sampling) \n",
            "Chain 1 Iteration: 800 / 1000 [ 80%]  (Sampling) \n",
            "Chain 1 Iteration: 900 / 1000 [ 90%]  (Sampling) \n",
            "Chain 1 Iteration: 1000 / 1000 [100%]  (Sampling) \n",
            "Chain 2 Iteration:   1 / 1000 [  0%]  (Warmup) \n",
            "Chain 2 Iteration: 100 / 1000 [ 10%]  (Warmup) \n",
            "Chain 2 Iteration: 200 / 1000 [ 20%]  (Warmup) \n",
            "Chain 2 Iteration: 300 / 1000 [ 30%]  (Warmup) \n",
            "Chain 2 Iteration: 400 / 1000 [ 40%]  (Warmup) \n",
            "Chain 2 Iteration: 500 / 1000 [ 50%]  (Warmup) \n",
            "Chain 2 Iteration: 501 / 1000 [ 50%]  (Sampling) \n",
            "Chain 2 Iteration: 600 / 1000 [ 60%]  (Sampling) \n",
            "Chain 2 Iteration: 700 / 1000 [ 70%]  (Sampling) \n",
            "Chain 2 Iteration: 800 / 1000 [ 80%]  (Sampling) \n",
            "Chain 2 Iteration: 900 / 1000 [ 90%]  (Sampling) \n",
            "Chain 2 Iteration: 1000 / 1000 [100%]  (Sampling) \n",
            "Chain 3 Iteration:   1 / 1000 [  0%]  (Warmup) \n",
            "Chain 3 Iteration: 100 / 1000 [ 10%]  (Warmup) \n",
            "Chain 3 Iteration: 200 / 1000 [ 20%]  (Warmup) \n",
            "Chain 3 Iteration: 300 / 1000 [ 30%]  (Warmup) \n",
            "Chain 3 Iteration: 400 / 1000 [ 40%]  (Warmup) \n",
            "Chain 3 Iteration: 500 / 1000 [ 50%]  (Warmup) \n",
            "Chain 3 Iteration: 501 / 1000 [ 50%]  (Sampling) \n",
            "Chain 3 Iteration: 600 / 1000 [ 60%]  (Sampling) \n",
            "Chain 3 Iteration: 700 / 1000 [ 70%]  (Sampling) \n",
            "Chain 3 Iteration: 800 / 1000 [ 80%]  (Sampling) \n",
            "Chain 3 Iteration: 900 / 1000 [ 90%]  (Sampling) \n",
            "Chain 4 Iteration:   1 / 1000 [  0%]  (Warmup) \n",
            "Chain 4 Iteration: 100 / 1000 [ 10%]  (Warmup) \n",
            "Chain 4 Iteration: 200 / 1000 [ 20%]  (Warmup) \n",
            "Chain 4 Iteration: 300 / 1000 [ 30%]  (Warmup) \n",
            "Chain 4 Iteration: 400 / 1000 [ 40%]  (Warmup) \n",
            "Chain 4 Iteration: 500 / 1000 [ 50%]  (Warmup) \n",
            "Chain 4 Iteration: 501 / 1000 [ 50%]  (Sampling) \n",
            "Chain 4 Iteration: 600 / 1000 [ 60%]  (Sampling) \n",
            "Chain 4 Iteration: 700 / 1000 [ 70%]  (Sampling) \n",
            "Chain 4 Iteration: 800 / 1000 [ 80%]  (Sampling) \n",
            "Chain 4 Iteration: 900 / 1000 [ 90%]  (Sampling) \n",
            "Chain 4 Iteration: 1000 / 1000 [100%]  (Sampling) \n",
            "Chain 1 finished in 0.2 seconds.\n",
            "Chain 2 finished in 0.2 seconds.\n",
            "Chain 3 Iteration: 1000 / 1000 [100%]  (Sampling) \n",
            "Chain 3 finished in 0.2 seconds.\n",
            "Chain 4 finished in 0.2 seconds.\n",
            "\n",
            "All 4 chains finished successfully.\n",
            "Mean chain execution time: 0.2 seconds.\n",
            "Total execution time: 0.4 seconds.\n",
            "\n"
          ]
        },
        {
          "output_type": "display_data",
          "data": {
            "text/html": [
              "<table class=\"dataframe\">\n",
              "<caption>A data.frame: 5 × 6</caption>\n",
              "<thead>\n",
              "\t<tr><th></th><th scope=col>mean</th><th scope=col>sd</th><th scope=col>5.5%</th><th scope=col>94.5%</th><th scope=col>rhat</th><th scope=col>ess_bulk</th></tr>\n",
              "\t<tr><th></th><th scope=col>&lt;dbl&gt;</th><th scope=col>&lt;dbl&gt;</th><th scope=col>&lt;dbl&gt;</th><th scope=col>&lt;dbl&gt;</th><th scope=col>&lt;dbl&gt;</th><th scope=col>&lt;dbl&gt;</th></tr>\n",
              "</thead>\n",
              "<tbody>\n",
              "\t<tr><th scope=row>a</th><td> 0.41</td><td>0.50</td><td>-0.42</td><td> 1.20</td><td>1.00</td><td> 942.65</td></tr>\n",
              "\t<tr><th scope=row>bPV</th><td> 0.35</td><td>0.67</td><td>-0.73</td><td> 1.45</td><td>1.01</td><td> 833.57</td></tr>\n",
              "\t<tr><th scope=row>bA</th><td> 0.91</td><td>0.42</td><td> 0.26</td><td> 1.58</td><td>1.00</td><td>1172.51</td></tr>\n",
              "\t<tr><th scope=row>bV</th><td>-2.96</td><td>0.54</td><td>-3.85</td><td>-2.07</td><td>1.00</td><td>1052.09</td></tr>\n",
              "\t<tr><th scope=row>bP</th><td> 2.48</td><td>0.60</td><td> 1.56</td><td> 3.49</td><td>1.01</td><td> 897.06</td></tr>\n",
              "</tbody>\n",
              "</table>\n"
            ],
            "text/markdown": "\nA data.frame: 5 × 6\n\n| <!--/--> | mean &lt;dbl&gt; | sd &lt;dbl&gt; | 5.5% &lt;dbl&gt; | 94.5% &lt;dbl&gt; | rhat &lt;dbl&gt; | ess_bulk &lt;dbl&gt; |\n|---|---|---|---|---|---|---|\n| a |  0.41 | 0.50 | -0.42 |  1.20 | 1.00 |  942.65 |\n| bPV |  0.35 | 0.67 | -0.73 |  1.45 | 1.01 |  833.57 |\n| bA |  0.91 | 0.42 |  0.26 |  1.58 | 1.00 | 1172.51 |\n| bV | -2.96 | 0.54 | -3.85 | -2.07 | 1.00 | 1052.09 |\n| bP |  2.48 | 0.60 |  1.56 |  3.49 | 1.01 |  897.06 |\n\n",
            "text/latex": "A data.frame: 5 × 6\n\\begin{tabular}{r|llllll}\n  & mean & sd & 5.5\\% & 94.5\\% & rhat & ess\\_bulk\\\\\n  & <dbl> & <dbl> & <dbl> & <dbl> & <dbl> & <dbl>\\\\\n\\hline\n\ta &  0.41 & 0.50 & -0.42 &  1.20 & 1.00 &  942.65\\\\\n\tbPV &  0.35 & 0.67 & -0.73 &  1.45 & 1.01 &  833.57\\\\\n\tbA &  0.91 & 0.42 &  0.26 &  1.58 & 1.00 & 1172.51\\\\\n\tbV & -2.96 & 0.54 & -3.85 & -2.07 & 1.00 & 1052.09\\\\\n\tbP &  2.48 & 0.60 &  1.56 &  3.49 & 1.01 &  897.06\\\\\n\\end{tabular}\n",
            "text/plain": [
              "    mean  sd   5.5%  94.5% rhat ess_bulk\n",
              "a    0.41 0.50 -0.42  1.20 1.00  942.65 \n",
              "bPV  0.35 0.67 -0.73  1.45 1.01  833.57 \n",
              "bA   0.91 0.42  0.26  1.58 1.00 1172.51 \n",
              "bV  -2.96 0.54 -3.85 -2.07 1.00 1052.09 \n",
              "bP   2.48 0.60  1.56  3.49 1.01  897.06 "
            ]
          },
          "metadata": {}
        }
      ]
    },
    {
      "cell_type": "code",
      "source": [
        "round(compare(m_ulam, m_ulam2, func=PSIS),4)\n",
        "round(compare(m_ulam, m_ulam2, func=WAIC),4)"
      ],
      "metadata": {
        "colab": {
          "base_uri": "https://localhost:8080/",
          "height": 374
        },
        "id": "JFFmhvA5V6bb",
        "outputId": "8a84b558-6ff6-47e5-9529-385a61a54cd1"
      },
      "execution_count": null,
      "outputs": [
        {
          "output_type": "stream",
          "name": "stderr",
          "text": [
            "Some Pareto k values are high (>0.5). Set pointwise=TRUE to inspect individual points.\n",
            "\n",
            "Some Pareto k values are high (>0.5). Set pointwise=TRUE to inspect individual points.\n",
            "\n"
          ]
        },
        {
          "output_type": "display_data",
          "data": {
            "text/html": [
              "<table class=\"dataframe\">\n",
              "<caption>A data.frame: 2 × 6</caption>\n",
              "<thead>\n",
              "\t<tr><th></th><th scope=col>PSIS</th><th scope=col>SE</th><th scope=col>dPSIS</th><th scope=col>dSE</th><th scope=col>pPSIS</th><th scope=col>weight</th></tr>\n",
              "\t<tr><th></th><th scope=col>&lt;dbl&gt;</th><th scope=col>&lt;dbl&gt;</th><th scope=col>&lt;dbl&gt;</th><th scope=col>&lt;dbl&gt;</th><th scope=col>&lt;dbl&gt;</th><th scope=col>&lt;dbl&gt;</th></tr>\n",
              "</thead>\n",
              "<tbody>\n",
              "\t<tr><th scope=row>m_ulam</th><td>37.9200</td><td>6.1100</td><td>0.0000</td><td>    NA</td><td>5.4818</td><td>0.696</td></tr>\n",
              "\t<tr><th scope=row>m_ulam2</th><td>39.5768</td><td>5.9908</td><td>1.6568</td><td>1.2412</td><td>6.5205</td><td>0.304</td></tr>\n",
              "</tbody>\n",
              "</table>\n"
            ],
            "text/markdown": "\nA data.frame: 2 × 6\n\n| <!--/--> | PSIS &lt;dbl&gt; | SE &lt;dbl&gt; | dPSIS &lt;dbl&gt; | dSE &lt;dbl&gt; | pPSIS &lt;dbl&gt; | weight &lt;dbl&gt; |\n|---|---|---|---|---|---|---|\n| m_ulam | 37.9200 | 6.1100 | 0.0000 |     NA | 5.4818 | 0.696 |\n| m_ulam2 | 39.5768 | 5.9908 | 1.6568 | 1.2412 | 6.5205 | 0.304 |\n\n",
            "text/latex": "A data.frame: 2 × 6\n\\begin{tabular}{r|llllll}\n  & PSIS & SE & dPSIS & dSE & pPSIS & weight\\\\\n  & <dbl> & <dbl> & <dbl> & <dbl> & <dbl> & <dbl>\\\\\n\\hline\n\tm\\_ulam & 37.9200 & 6.1100 & 0.0000 &     NA & 5.4818 & 0.696\\\\\n\tm\\_ulam2 & 39.5768 & 5.9908 & 1.6568 & 1.2412 & 6.5205 & 0.304\\\\\n\\end{tabular}\n",
            "text/plain": [
              "        PSIS    SE     dPSIS  dSE    pPSIS  weight\n",
              "m_ulam  37.9200 6.1100 0.0000     NA 5.4818 0.696 \n",
              "m_ulam2 39.5768 5.9908 1.6568 1.2412 6.5205 0.304 "
            ]
          },
          "metadata": {}
        },
        {
          "output_type": "display_data",
          "data": {
            "text/html": [
              "<table class=\"dataframe\">\n",
              "<caption>A data.frame: 2 × 6</caption>\n",
              "<thead>\n",
              "\t<tr><th></th><th scope=col>WAIC</th><th scope=col>SE</th><th scope=col>dWAIC</th><th scope=col>dSE</th><th scope=col>pWAIC</th><th scope=col>weight</th></tr>\n",
              "\t<tr><th></th><th scope=col>&lt;dbl&gt;</th><th scope=col>&lt;dbl&gt;</th><th scope=col>&lt;dbl&gt;</th><th scope=col>&lt;dbl&gt;</th><th scope=col>&lt;dbl&gt;</th><th scope=col>&lt;dbl&gt;</th></tr>\n",
              "</thead>\n",
              "<tbody>\n",
              "\t<tr><th scope=row>m_ulam</th><td>36.5331</td><td>5.3107</td><td>0.0000</td><td>    NA</td><td>4.7884</td><td>0.599</td></tr>\n",
              "\t<tr><th scope=row>m_ulam2</th><td>37.3355</td><td>4.8789</td><td>0.8024</td><td>1.0509</td><td>5.3999</td><td>0.401</td></tr>\n",
              "</tbody>\n",
              "</table>\n"
            ],
            "text/markdown": "\nA data.frame: 2 × 6\n\n| <!--/--> | WAIC &lt;dbl&gt; | SE &lt;dbl&gt; | dWAIC &lt;dbl&gt; | dSE &lt;dbl&gt; | pWAIC &lt;dbl&gt; | weight &lt;dbl&gt; |\n|---|---|---|---|---|---|---|\n| m_ulam | 36.5331 | 5.3107 | 0.0000 |     NA | 4.7884 | 0.599 |\n| m_ulam2 | 37.3355 | 4.8789 | 0.8024 | 1.0509 | 5.3999 | 0.401 |\n\n",
            "text/latex": "A data.frame: 2 × 6\n\\begin{tabular}{r|llllll}\n  & WAIC & SE & dWAIC & dSE & pWAIC & weight\\\\\n  & <dbl> & <dbl> & <dbl> & <dbl> & <dbl> & <dbl>\\\\\n\\hline\n\tm\\_ulam & 36.5331 & 5.3107 & 0.0000 &     NA & 4.7884 & 0.599\\\\\n\tm\\_ulam2 & 37.3355 & 4.8789 & 0.8024 & 1.0509 & 5.3999 & 0.401\\\\\n\\end{tabular}\n",
            "text/plain": [
              "        WAIC    SE     dWAIC  dSE    pWAIC  weight\n",
              "m_ulam  36.5331 5.3107 0.0000     NA 4.7884 0.599 \n",
              "m_ulam2 37.3355 4.8789 0.8024 1.0509 5.3999 0.401 "
            ]
          },
          "metadata": {}
        }
      ]
    },
    {
      "cell_type": "markdown",
      "source": [
        "The models are pretty close--within 1 SE of each other."
      ],
      "metadata": {
        "id": "TZbQKCnCWzzD"
      }
    },
    {
      "cell_type": "markdown",
      "source": [
        "### 11H3\n",
        "\n",
        "The data contained in `data(salamanders)` are counts of salamanders (*Plethodon elongatus*) from 47 different 49-m$^2$ plots in northern California. The column `SALAMAN` is the count in each plot, and the columns `PCTCOVER` and `FORESTAGE` are percent of ground cover and age of trees in the plot, respectively. You will model `SALAMAN` as a Poisson variable.  \n",
        "\n",
        "> (a) Model the relationship between density and percent cover, using a log-link (same as the example in the book and lecture). Use weakly informative priors of your choosing. Check the quadratic approximation again, by comparing `quap` to `ulam`. Then plot the expected counts and their 89% interval against percent cover. In which ways does the model do a good job? A bad job?  \n",
        "\n",
        "> (b) Can you improve the model by using the other predictor, `FORESTAGE`? Try any models you think useful. Can you explain why `FORESTAGE` helps or does not help with prediction?\n",
        "\n",
        "#### Answers\n",
        "We need to begin by loading the data."
      ],
      "metadata": {
        "id": "FSnblT8ilgNJ"
      }
    },
    {
      "cell_type": "code",
      "source": [
        "data(salamanders)\n",
        "d <- salamanders\n",
        "head(d)"
      ],
      "metadata": {
        "colab": {
          "base_uri": "https://localhost:8080/",
          "height": 286
        },
        "id": "m9vxCHYRmLXL",
        "outputId": "66bfdb7c-0651-4768-eaa3-b55aafe8d9ea"
      },
      "execution_count": null,
      "outputs": [
        {
          "output_type": "display_data",
          "data": {
            "text/html": [
              "<table class=\"dataframe\">\n",
              "<caption>A data.frame: 6 × 4</caption>\n",
              "<thead>\n",
              "\t<tr><th></th><th scope=col>SITE</th><th scope=col>SALAMAN</th><th scope=col>PCTCOVER</th><th scope=col>FORESTAGE</th></tr>\n",
              "\t<tr><th></th><th scope=col>&lt;int&gt;</th><th scope=col>&lt;int&gt;</th><th scope=col>&lt;int&gt;</th><th scope=col>&lt;int&gt;</th></tr>\n",
              "</thead>\n",
              "<tbody>\n",
              "\t<tr><th scope=row>1</th><td>1</td><td>13</td><td>85</td><td>316</td></tr>\n",
              "\t<tr><th scope=row>2</th><td>2</td><td>11</td><td>86</td><td> 88</td></tr>\n",
              "\t<tr><th scope=row>3</th><td>3</td><td>11</td><td>90</td><td>548</td></tr>\n",
              "\t<tr><th scope=row>4</th><td>4</td><td> 9</td><td>88</td><td> 64</td></tr>\n",
              "\t<tr><th scope=row>5</th><td>5</td><td> 8</td><td>89</td><td> 43</td></tr>\n",
              "\t<tr><th scope=row>6</th><td>6</td><td> 7</td><td>83</td><td>368</td></tr>\n",
              "</tbody>\n",
              "</table>\n"
            ],
            "text/markdown": "\nA data.frame: 6 × 4\n\n| <!--/--> | SITE &lt;int&gt; | SALAMAN &lt;int&gt; | PCTCOVER &lt;int&gt; | FORESTAGE &lt;int&gt; |\n|---|---|---|---|---|\n| 1 | 1 | 13 | 85 | 316 |\n| 2 | 2 | 11 | 86 |  88 |\n| 3 | 3 | 11 | 90 | 548 |\n| 4 | 4 |  9 | 88 |  64 |\n| 5 | 5 |  8 | 89 |  43 |\n| 6 | 6 |  7 | 83 | 368 |\n\n",
            "text/latex": "A data.frame: 6 × 4\n\\begin{tabular}{r|llll}\n  & SITE & SALAMAN & PCTCOVER & FORESTAGE\\\\\n  & <int> & <int> & <int> & <int>\\\\\n\\hline\n\t1 & 1 & 13 & 85 & 316\\\\\n\t2 & 2 & 11 & 86 &  88\\\\\n\t3 & 3 & 11 & 90 & 548\\\\\n\t4 & 4 &  9 & 88 &  64\\\\\n\t5 & 5 &  8 & 89 &  43\\\\\n\t6 & 6 &  7 & 83 & 368\\\\\n\\end{tabular}\n",
            "text/plain": [
              "  SITE SALAMAN PCTCOVER FORESTAGE\n",
              "1 1    13      85       316      \n",
              "2 2    11      86        88      \n",
              "3 3    11      90       548      \n",
              "4 4     9      88        64      \n",
              "5 5     8      89        43      \n",
              "6 6     7      83       368      "
            ]
          },
          "metadata": {}
        }
      ]
    },
    {
      "cell_type": "markdown",
      "source": [
        "I personally do not have any sense of priors here, so I'm going to standardize the predictor variables."
      ],
      "metadata": {
        "id": "kBOwrKCGqC0A"
      }
    },
    {
      "cell_type": "code",
      "source": [
        "d$P <- standardize(d$PCTCOVER)\n",
        "d$F <- standardize(d$FORESTAGE)"
      ],
      "metadata": {
        "id": "gKN_jE59qPKy"
      },
      "execution_count": null,
      "outputs": []
    },
    {
      "cell_type": "markdown",
      "source": [
        "I should probably also do this for the outcome variable, for the same reason, but then a Poisson regression wouldn't really make sense; so I'll do my best.  I'd guess that a single animal needs some amount of personal space--maybe as little as a 1-m radius to a 25-m radius; and of course, they probably intermingle a bit, so I'll regard the upper range as soft.  Within a 49$^2$-m plot, this is roughly between 1 and 30 salamanders per plot."
      ],
      "metadata": {
        "id": "kq-_6CUktl9q"
      }
    },
    {
      "cell_type": "markdown",
      "source": [
        "##### Answer to 11H3, a\n",
        "\n",
        "***Model the relationship between density and percent cover, using a log-link (same as the example in the book and lecture). Use weakly informative priors of your choosing. Check the quadratic approximation again, by comparing `quap` to `ulam`. Then plot the expected counts and their 89% interval against percent cover. In which ways does the model do a good job? A bad job?***\n",
        "\n",
        "I'm not sure how to assign prior here.  It can be hard to intuit since we're working on the log scale.  I alread guessed that 1-30 animals on each plot of land, so that'll help me guess a prior for an intercept.  I also don't know what to expect for the effect of groundcover, but I've standardized the variable so I'll try a $normal (0, 1)$ prior.  Let's simulate these."
      ],
      "metadata": {
        "id": "pIlxUf0sodG8"
      }
    },
    {
      "cell_type": "code",
      "source": [
        "n <- 30\n",
        "a_prSim <- rnorm(n, 1, 0.5)\n",
        "bP_prSim <- rnorm(n, 0, 0.4)\n",
        "\n",
        "P_sim <- seq( from=-3 , to=3 , length.out=25)\n",
        "\n",
        "plot( NULL , xlim=c(-3,3) , ylim=c(0,50))\n",
        "for (i in 1:n){\n",
        "  lines(P_sim, exp(a_prSim[i] + bP_prSim[i]*P_sim) , col=col.alpha(\"black\", 0.5))\n",
        "}"
      ],
      "metadata": {
        "colab": {
          "base_uri": "https://localhost:8080/",
          "height": 437
        },
        "id": "gCjGjhK5xkiK",
        "outputId": "7609458d-f9ae-47d3-829b-13fea2bd85e8"
      },
      "execution_count": null,
      "outputs": [
        {
          "output_type": "display_data",
          "data": {
            "text/plain": [
              "plot without title"
            ],
            "image/png": "[encoded data removed]"
          },
          "metadata": {
            "image/png": {
              "width": 420,
              "height": 420
            }
          }
        }
      ]
    },
    {
      "cell_type": "markdown",
      "source": [
        "After a great many iterations of trials, I arrived at the above priors.  You should play around with this.\n",
        "\n",
        "Now let's get our `quap` and `ulam` models underway."
      ],
      "metadata": {
        "id": "BoklHnUJzn9U"
      }
    },
    {
      "cell_type": "code",
      "source": [
        "model <- alist(\n",
        "  SALAMAN ~ dpois(lambda),\n",
        "    log(lambda) <- a + bP*P,\n",
        "      a ~ dnorm(1, 0.5),\n",
        "      bP ~ dnorm(0, 0.4)\n",
        ")\n",
        "\n",
        "m_quap <- quap(model, data=d)\n",
        "m_ulam <- ulam(model, data=d, chains=4, cores=4)\n",
        "\n",
        "round(precis(m_quap),4)\n",
        "round(precis(m_ulam),4)"
      ],
      "metadata": {
        "colab": {
          "base_uri": "https://localhost:8080/",
          "height": 1000
        },
        "id": "c0CP-wyYolTw",
        "outputId": "8bd62269-f276-4ed3-f593-107c89012717"
      },
      "execution_count": null,
      "outputs": [
        {
          "output_type": "stream",
          "name": "stdout",
          "text": [
            "Running MCMC with 4 parallel chains, with 1 thread(s) per chain...\n",
            "\n",
            "Chain 1 Iteration:   1 / 1000 [  0%]  (Warmup) \n",
            "Chain 1 Iteration: 100 / 1000 [ 10%]  (Warmup) \n",
            "Chain 1 Iteration: 200 / 1000 [ 20%]  (Warmup) \n",
            "Chain 1 Iteration: 300 / 1000 [ 30%]  (Warmup) \n",
            "Chain 1 Iteration: 400 / 1000 [ 40%]  (Warmup) \n",
            "Chain 1 Iteration: 500 / 1000 [ 50%]  (Warmup) \n",
            "Chain 1 Iteration: 501 / 1000 [ 50%]  (Sampling) \n",
            "Chain 1 Iteration: 600 / 1000 [ 60%]  (Sampling) \n",
            "Chain 1 Iteration: 700 / 1000 [ 70%]  (Sampling) \n",
            "Chain 1 Iteration: 800 / 1000 [ 80%]  (Sampling) \n",
            "Chain 1 Iteration: 900 / 1000 [ 90%]  (Sampling) \n",
            "Chain 1 Iteration: 1000 / 1000 [100%]  (Sampling) \n",
            "Chain 2 Iteration:   1 / 1000 [  0%]  (Warmup) \n",
            "Chain 2 Iteration: 100 / 1000 [ 10%]  (Warmup) \n",
            "Chain 2 Iteration: 200 / 1000 [ 20%]  (Warmup) \n",
            "Chain 2 Iteration: 300 / 1000 [ 30%]  (Warmup) \n",
            "Chain 2 Iteration: 400 / 1000 [ 40%]  (Warmup) \n",
            "Chain 2 Iteration: 500 / 1000 [ 50%]  (Warmup) \n",
            "Chain 2 Iteration: 501 / 1000 [ 50%]  (Sampling) \n",
            "Chain 2 Iteration: 600 / 1000 [ 60%]  (Sampling) \n",
            "Chain 2 Iteration: 700 / 1000 [ 70%]  (Sampling) \n",
            "Chain 2 Iteration: 800 / 1000 [ 80%]  (Sampling) \n",
            "Chain 2 Iteration: 900 / 1000 [ 90%]  (Sampling) \n",
            "Chain 2 Iteration: 1000 / 1000 [100%]  (Sampling) \n",
            "Chain 3 Iteration:   1 / 1000 [  0%]  (Warmup) \n",
            "Chain 3 Iteration: 100 / 1000 [ 10%]  (Warmup) \n",
            "Chain 3 Iteration: 200 / 1000 [ 20%]  (Warmup) \n",
            "Chain 3 Iteration: 300 / 1000 [ 30%]  (Warmup) \n",
            "Chain 3 Iteration: 400 / 1000 [ 40%]  (Warmup) \n",
            "Chain 3 Iteration: 500 / 1000 [ 50%]  (Warmup) \n",
            "Chain 3 Iteration: 501 / 1000 [ 50%]  (Sampling) \n",
            "Chain 3 Iteration: 600 / 1000 [ 60%]  (Sampling) \n",
            "Chain 3 Iteration: 700 / 1000 [ 70%]  (Sampling) \n",
            "Chain 3 Iteration: 800 / 1000 [ 80%]  (Sampling) \n",
            "Chain 3 Iteration: 900 / 1000 [ 90%]  (Sampling) \n",
            "Chain 3 Iteration: 1000 / 1000 [100%]  (Sampling) \n",
            "Chain 4 Iteration:   1 / 1000 [  0%]  (Warmup) \n",
            "Chain 4 Iteration: 100 / 1000 [ 10%]  (Warmup) \n",
            "Chain 4 Iteration: 200 / 1000 [ 20%]  (Warmup) \n",
            "Chain 4 Iteration: 300 / 1000 [ 30%]  (Warmup) \n",
            "Chain 4 Iteration: 400 / 1000 [ 40%]  (Warmup) \n",
            "Chain 4 Iteration: 500 / 1000 [ 50%]  (Warmup) \n",
            "Chain 4 Iteration: 501 / 1000 [ 50%]  (Sampling) \n",
            "Chain 4 Iteration: 600 / 1000 [ 60%]  (Sampling) \n",
            "Chain 4 Iteration: 700 / 1000 [ 70%]  (Sampling) \n",
            "Chain 4 Iteration: 800 / 1000 [ 80%]  (Sampling) \n",
            "Chain 4 Iteration: 900 / 1000 [ 90%]  (Sampling) \n",
            "Chain 4 Iteration: 1000 / 1000 [100%]  (Sampling) \n",
            "Chain 1 finished in 0.1 seconds.\n",
            "Chain 2 finished in 0.1 seconds.\n",
            "Chain 3 finished in 0.1 seconds.\n",
            "Chain 4 finished in 0.0 seconds.\n",
            "\n",
            "All 4 chains finished successfully.\n",
            "Mean chain execution time: 0.1 seconds.\n",
            "Total execution time: 0.3 seconds.\n",
            "\n"
          ]
        },
        {
          "output_type": "display_data",
          "data": {
            "text/html": [
              "<table class=\"dataframe\">\n",
              "<caption>A data.frame: 2 × 4</caption>\n",
              "<thead>\n",
              "\t<tr><th></th><th scope=col>mean</th><th scope=col>sd</th><th scope=col>5.5%</th><th scope=col>94.5%</th></tr>\n",
              "\t<tr><th></th><th scope=col>&lt;dbl&gt;</th><th scope=col>&lt;dbl&gt;</th><th scope=col>&lt;dbl&gt;</th><th scope=col>&lt;dbl&gt;</th></tr>\n",
              "</thead>\n",
              "<tbody>\n",
              "\t<tr><th scope=row>a</th><td>0.5813</td><td>0.1252</td><td>0.3812</td><td>0.7815</td></tr>\n",
              "\t<tr><th scope=row>bP</th><td>0.9435</td><td>0.1475</td><td>0.7077</td><td>1.1793</td></tr>\n",
              "</tbody>\n",
              "</table>\n"
            ],
            "text/markdown": "\nA data.frame: 2 × 4\n\n| <!--/--> | mean &lt;dbl&gt; | sd &lt;dbl&gt; | 5.5% &lt;dbl&gt; | 94.5% &lt;dbl&gt; |\n|---|---|---|---|---|\n| a | 0.5813 | 0.1252 | 0.3812 | 0.7815 |\n| bP | 0.9435 | 0.1475 | 0.7077 | 1.1793 |\n\n",
            "text/latex": "A data.frame: 2 × 4\n\\begin{tabular}{r|llll}\n  & mean & sd & 5.5\\% & 94.5\\%\\\\\n  & <dbl> & <dbl> & <dbl> & <dbl>\\\\\n\\hline\n\ta & 0.5813 & 0.1252 & 0.3812 & 0.7815\\\\\n\tbP & 0.9435 & 0.1475 & 0.7077 & 1.1793\\\\\n\\end{tabular}\n",
            "text/plain": [
              "   mean   sd     5.5%   94.5% \n",
              "a  0.5813 0.1252 0.3812 0.7815\n",
              "bP 0.9435 0.1475 0.7077 1.1793"
            ]
          },
          "metadata": {}
        },
        {
          "output_type": "display_data",
          "data": {
            "text/html": [
              "<table class=\"dataframe\">\n",
              "<caption>A data.frame: 2 × 6</caption>\n",
              "<thead>\n",
              "\t<tr><th></th><th scope=col>mean</th><th scope=col>sd</th><th scope=col>5.5%</th><th scope=col>94.5%</th><th scope=col>rhat</th><th scope=col>ess_bulk</th></tr>\n",
              "\t<tr><th></th><th scope=col>&lt;dbl&gt;</th><th scope=col>&lt;dbl&gt;</th><th scope=col>&lt;dbl&gt;</th><th scope=col>&lt;dbl&gt;</th><th scope=col>&lt;dbl&gt;</th><th scope=col>&lt;dbl&gt;</th></tr>\n",
              "</thead>\n",
              "<tbody>\n",
              "\t<tr><th scope=row>a</th><td>0.5637</td><td>0.1312</td><td>0.3444</td><td>0.7646</td><td>1.0049</td><td>519.5720</td></tr>\n",
              "\t<tr><th scope=row>bP</th><td>0.9619</td><td>0.1510</td><td>0.7285</td><td>1.2066</td><td>1.0007</td><td>714.6142</td></tr>\n",
              "</tbody>\n",
              "</table>\n"
            ],
            "text/markdown": "\nA data.frame: 2 × 6\n\n| <!--/--> | mean &lt;dbl&gt; | sd &lt;dbl&gt; | 5.5% &lt;dbl&gt; | 94.5% &lt;dbl&gt; | rhat &lt;dbl&gt; | ess_bulk &lt;dbl&gt; |\n|---|---|---|---|---|---|---|\n| a | 0.5637 | 0.1312 | 0.3444 | 0.7646 | 1.0049 | 519.5720 |\n| bP | 0.9619 | 0.1510 | 0.7285 | 1.2066 | 1.0007 | 714.6142 |\n\n",
            "text/latex": "A data.frame: 2 × 6\n\\begin{tabular}{r|llllll}\n  & mean & sd & 5.5\\% & 94.5\\% & rhat & ess\\_bulk\\\\\n  & <dbl> & <dbl> & <dbl> & <dbl> & <dbl> & <dbl>\\\\\n\\hline\n\ta & 0.5637 & 0.1312 & 0.3444 & 0.7646 & 1.0049 & 519.5720\\\\\n\tbP & 0.9619 & 0.1510 & 0.7285 & 1.2066 & 1.0007 & 714.6142\\\\\n\\end{tabular}\n",
            "text/plain": [
              "   mean   sd     5.5%   94.5%  rhat   ess_bulk\n",
              "a  0.5637 0.1312 0.3444 0.7646 1.0049 519.5720\n",
              "bP 0.9619 0.1510 0.7285 1.2066 1.0007 714.6142"
            ]
          },
          "metadata": {}
        }
      ]
    },
    {
      "cell_type": "markdown",
      "source": [
        "The `quap` model seems to be doing okay comparing to the `ulam` model.\n",
        "\n",
        "Let's move forward with just the `ulam` model.  Now we're supposed to plot the predictions against the actual data."
      ],
      "metadata": {
        "id": "oiZyUo8A05rf"
      }
    },
    {
      "cell_type": "code",
      "source": [
        "P_seq <- seq(from=-3, to=3, length=25)\n",
        "sim_means <- link(m_ulam, data=list(P=P_seq))\n",
        "sim_PI <- apply(sim_means, 2, PI)\n",
        "\n",
        "plot(d$SALAMAN ~ d$P)\n",
        "lines(colMeans(sim_means) ~ P_seq)\n",
        "shade(sim_PI, P_seq)"
      ],
      "metadata": {
        "colab": {
          "base_uri": "https://localhost:8080/",
          "height": 437
        },
        "id": "4_Yrpy012Lz7",
        "outputId": "d02df680-5433-425e-d120-e92d3de9e16d"
      },
      "execution_count": null,
      "outputs": [
        {
          "output_type": "display_data",
          "data": {
            "text/plain": [
              "plot without title"
            ],
            "image/png": "[encoded data removed]"
          },
          "metadata": {
            "image/png": {
              "width": 420,
              "height": 420
            }
          }
        }
      ]
    },
    {
      "cell_type": "markdown",
      "source": [
        "Our model seems to be doing a decent job of fitting the mean.  However, the data is much more variable than is captured by our Poisson model.  We could try to play with the priors, but later we'll learn about a different model that is more capable of capturing this variability."
      ],
      "metadata": {
        "id": "kd3-ySbA3myl"
      }
    },
    {
      "cell_type": "markdown",
      "source": [
        "##### Answer to 11H3, b\n",
        "***Can you improve the model by using the other predictor, `FORESTAGE`? Try any models you think useful. Can you explain why `FORESTAGE` helps or does not help with prediction?***\n",
        "\n",
        "Since the Poisson model is log-linear, the terms are effectively multiplied together.  Because of this, we should expect the addition of another term to make the prior permissive of more extreme value.  So we need to tighten this up."
      ],
      "metadata": {
        "id": "s4KTE5AE4tEg"
      }
    },
    {
      "cell_type": "code",
      "source": [
        "n <- 30\n",
        "a_prSim <- rnorm(n, 1, 0.5)\n",
        "bP_prSim <- rnorm(n, 0, 0.3)\n",
        "bF_prSim <- rnorm(n, 0, 0.3)\n",
        "\n",
        "P_sim <- seq(from=-3 , to=3 , length.out=25)\n",
        "F_sim <- seq(from=-3, to=3, length.out=25)\n",
        "\n",
        "\n",
        "plot( NULL , xlim=c(-3,3) , ylim=c(0,50))\n",
        "for (i in 1:n){\n",
        "  lines(P_sim, exp(a_prSim[i] + bP_prSim[i]*P_sim + bF_prSim[i]*F_sim) , col=col.alpha(\"black\", 0.5))\n",
        "}\n",
        "plot( NULL , xlim=c(-3,3) , ylim=c(0,50))\n",
        "for (i in 1:n){\n",
        "  lines(F_sim, exp(a_prSim[i] + bP_prSim[i]*P_sim + bF_prSim[i]*F_sim) , col=col.alpha(\"black\", 0.5))\n",
        "}"
      ],
      "metadata": {
        "colab": {
          "base_uri": "https://localhost:8080/",
          "height": 857
        },
        "id": "5TaxxOhl5Qjk",
        "outputId": "fa585b67-d56d-41fe-830a-2ec31db6cfc6"
      },
      "execution_count": null,
      "outputs": [
        {
          "output_type": "display_data",
          "data": {
            "text/plain": [
              "plot without title"
            ],
            "image/png": "[encoded data removed]"
          },
          "metadata": {
            "image/png": {
              "width": 420,
              "height": 420
            }
          }
        },
        {
          "output_type": "display_data",
          "data": {
            "text/plain": [
              "plot without title"
            ],
            "image/png": "[encoded data removed]"
          },
          "metadata": {
            "image/png": {
              "width": 420,
              "height": 420
            }
          }
        }
      ]
    },
    {
      "cell_type": "code",
      "source": [
        "model2 <- alist(\n",
        "  SALAMAN ~ dpois(lambda),\n",
        "    log(lambda) <- a + bP*P + bF*F,\n",
        "      a ~ dnorm(1, 0.5),\n",
        "      bP ~ dnorm(0, 0.3),\n",
        "      bF ~ dnorm(0, 0.3)\n",
        ")\n",
        "\n",
        "m_ulam2 <- ulam(model2, data=d, chains=4, cores=4)\n",
        "\n",
        "round(precis(m_ulam2),4)"
      ],
      "metadata": {
        "colab": {
          "base_uri": "https://localhost:8080/",
          "height": 1000
        },
        "id": "8FQk-0FH43Jw",
        "outputId": "f9ca0361-edb8-45cd-af04-d460913be844"
      },
      "execution_count": null,
      "outputs": [
        {
          "output_type": "stream",
          "name": "stdout",
          "text": [
            "Running MCMC with 4 parallel chains, with 1 thread(s) per chain...\n",
            "\n",
            "Chain 1 Iteration:   1 / 1000 [  0%]  (Warmup) \n",
            "Chain 1 Iteration: 100 / 1000 [ 10%]  (Warmup) \n",
            "Chain 1 Iteration: 200 / 1000 [ 20%]  (Warmup) \n",
            "Chain 1 Iteration: 300 / 1000 [ 30%]  (Warmup) \n",
            "Chain 1 Iteration: 400 / 1000 [ 40%]  (Warmup) \n",
            "Chain 1 Iteration: 500 / 1000 [ 50%]  (Warmup) \n",
            "Chain 1 Iteration: 501 / 1000 [ 50%]  (Sampling) \n",
            "Chain 1 Iteration: 600 / 1000 [ 60%]  (Sampling) \n",
            "Chain 1 Iteration: 700 / 1000 [ 70%]  (Sampling) \n",
            "Chain 1 Iteration: 800 / 1000 [ 80%]  (Sampling) \n",
            "Chain 1 Iteration: 900 / 1000 [ 90%]  (Sampling) \n",
            "Chain 1 Iteration: 1000 / 1000 [100%]  (Sampling) \n",
            "Chain 2 Iteration:   1 / 1000 [  0%]  (Warmup) \n",
            "Chain 2 Iteration: 100 / 1000 [ 10%]  (Warmup) \n",
            "Chain 2 Iteration: 200 / 1000 [ 20%]  (Warmup) \n",
            "Chain 2 Iteration: 300 / 1000 [ 30%]  (Warmup) \n",
            "Chain 2 Iteration: 400 / 1000 [ 40%]  (Warmup) \n",
            "Chain 2 Iteration: 500 / 1000 [ 50%]  (Warmup) \n",
            "Chain 2 Iteration: 501 / 1000 [ 50%]  (Sampling) \n",
            "Chain 2 Iteration: 600 / 1000 [ 60%]  (Sampling) \n",
            "Chain 2 Iteration: 700 / 1000 [ 70%]  (Sampling) \n",
            "Chain 2 Iteration: 800 / 1000 [ 80%]  (Sampling) \n",
            "Chain 2 Iteration: 900 / 1000 [ 90%]  (Sampling) \n",
            "Chain 2 Iteration: 1000 / 1000 [100%]  (Sampling) \n",
            "Chain 3 Iteration:   1 / 1000 [  0%]  (Warmup) \n",
            "Chain 3 Iteration: 100 / 1000 [ 10%]  (Warmup) \n",
            "Chain 3 Iteration: 200 / 1000 [ 20%]  (Warmup) \n",
            "Chain 3 Iteration: 300 / 1000 [ 30%]  (Warmup) \n",
            "Chain 3 Iteration: 400 / 1000 [ 40%]  (Warmup) \n",
            "Chain 3 Iteration: 500 / 1000 [ 50%]  (Warmup) \n",
            "Chain 3 Iteration: 501 / 1000 [ 50%]  (Sampling) \n",
            "Chain 3 Iteration: 600 / 1000 [ 60%]  (Sampling) \n",
            "Chain 3 Iteration: 700 / 1000 [ 70%]  (Sampling) \n",
            "Chain 3 Iteration: 800 / 1000 [ 80%]  (Sampling) \n",
            "Chain 3 Iteration: 900 / 1000 [ 90%]  (Sampling) \n",
            "Chain 3 Iteration: 1000 / 1000 [100%]  (Sampling) \n",
            "Chain 4 Iteration:   1 / 1000 [  0%]  (Warmup) \n",
            "Chain 4 Iteration: 100 / 1000 [ 10%]  (Warmup) \n",
            "Chain 4 Iteration: 200 / 1000 [ 20%]  (Warmup) \n",
            "Chain 4 Iteration: 300 / 1000 [ 30%]  (Warmup) \n",
            "Chain 4 Iteration: 400 / 1000 [ 40%]  (Warmup) \n",
            "Chain 4 Iteration: 500 / 1000 [ 50%]  (Warmup) \n",
            "Chain 4 Iteration: 501 / 1000 [ 50%]  (Sampling) \n",
            "Chain 4 Iteration: 600 / 1000 [ 60%]  (Sampling) \n",
            "Chain 4 Iteration: 700 / 1000 [ 70%]  (Sampling) \n",
            "Chain 4 Iteration: 800 / 1000 [ 80%]  (Sampling) \n",
            "Chain 4 Iteration: 900 / 1000 [ 90%]  (Sampling) \n",
            "Chain 4 Iteration: 1000 / 1000 [100%]  (Sampling) \n",
            "Chain 1 finished in 0.1 seconds.\n",
            "Chain 2 finished in 0.1 seconds.\n",
            "Chain 3 finished in 0.1 seconds.\n",
            "Chain 4 finished in 0.1 seconds.\n",
            "\n",
            "All 4 chains finished successfully.\n",
            "Mean chain execution time: 0.1 seconds.\n",
            "Total execution time: 0.3 seconds.\n",
            "\n"
          ]
        },
        {
          "output_type": "display_data",
          "data": {
            "text/html": [
              "<table class=\"dataframe\">\n",
              "<caption>A data.frame: 3 × 6</caption>\n",
              "<thead>\n",
              "\t<tr><th></th><th scope=col>mean</th><th scope=col>sd</th><th scope=col>5.5%</th><th scope=col>94.5%</th><th scope=col>rhat</th><th scope=col>ess_bulk</th></tr>\n",
              "\t<tr><th></th><th scope=col>&lt;dbl&gt;</th><th scope=col>&lt;dbl&gt;</th><th scope=col>&lt;dbl&gt;</th><th scope=col>&lt;dbl&gt;</th><th scope=col>&lt;dbl&gt;</th><th scope=col>&lt;dbl&gt;</th></tr>\n",
              "</thead>\n",
              "<tbody>\n",
              "\t<tr><th scope=row>a</th><td>0.6102</td><td>0.1162</td><td> 0.4168</td><td>0.7866</td><td>1.0103</td><td> 767.3105</td></tr>\n",
              "\t<tr><th scope=row>bP</th><td>0.8373</td><td>0.1428</td><td> 0.6149</td><td>1.0749</td><td>1.0083</td><td> 888.0435</td></tr>\n",
              "\t<tr><th scope=row>bF</th><td>0.0505</td><td>0.0902</td><td>-0.0967</td><td>0.1942</td><td>1.0017</td><td>1175.4990</td></tr>\n",
              "</tbody>\n",
              "</table>\n"
            ],
            "text/markdown": "\nA data.frame: 3 × 6\n\n| <!--/--> | mean &lt;dbl&gt; | sd &lt;dbl&gt; | 5.5% &lt;dbl&gt; | 94.5% &lt;dbl&gt; | rhat &lt;dbl&gt; | ess_bulk &lt;dbl&gt; |\n|---|---|---|---|---|---|---|\n| a | 0.6102 | 0.1162 |  0.4168 | 0.7866 | 1.0103 |  767.3105 |\n| bP | 0.8373 | 0.1428 |  0.6149 | 1.0749 | 1.0083 |  888.0435 |\n| bF | 0.0505 | 0.0902 | -0.0967 | 0.1942 | 1.0017 | 1175.4990 |\n\n",
            "text/latex": "A data.frame: 3 × 6\n\\begin{tabular}{r|llllll}\n  & mean & sd & 5.5\\% & 94.5\\% & rhat & ess\\_bulk\\\\\n  & <dbl> & <dbl> & <dbl> & <dbl> & <dbl> & <dbl>\\\\\n\\hline\n\ta & 0.6102 & 0.1162 &  0.4168 & 0.7866 & 1.0103 &  767.3105\\\\\n\tbP & 0.8373 & 0.1428 &  0.6149 & 1.0749 & 1.0083 &  888.0435\\\\\n\tbF & 0.0505 & 0.0902 & -0.0967 & 0.1942 & 1.0017 & 1175.4990\\\\\n\\end{tabular}\n",
            "text/plain": [
              "   mean   sd     5.5%    94.5%  rhat   ess_bulk \n",
              "a  0.6102 0.1162  0.4168 0.7866 1.0103  767.3105\n",
              "bP 0.8373 0.1428  0.6149 1.0749 1.0083  888.0435\n",
              "bF 0.0505 0.0902 -0.0967 0.1942 1.0017 1175.4990"
            ]
          },
          "metadata": {}
        }
      ]
    },
    {
      "cell_type": "markdown",
      "source": [
        "Doesn't seem to make much of a difference.  Why?  Probably because `FORESTAGE` is confounded by `PCTCOVER`...older areas may tend to have more ground cover.\n",
        "\n",
        "Let's plot the two model overtop of one another."
      ],
      "metadata": {
        "id": "-7XQXJpV7j7U"
      }
    },
    {
      "cell_type": "code",
      "source": [
        "P_seq <- seq(from=-3, to=3, length.out=25)\n",
        "F_seq <- seq(from=-3, to=3, length.out=25)\n",
        "sim_means2 <- link(m_ulam2, data=list(P=P_seq, F=F_seq))\n",
        "sim_PI2 <- apply(sim_means2, 2, PI)\n",
        "\n",
        "plot(d$SALAMAN ~ d$P)\n",
        "lines(colMeans(sim_means2) ~ P_seq, lty=2, col=\"red\")\n",
        "lines(colMeans(sim_means) ~ P_seq, col=\"blue\")\n",
        "shade(sim_PI2, P_seq, col=col.alpha(\"red\", 0.1))\n",
        "shade(sim_PI2, P_seq, col=col.alpha(\"blue\", 0.1))\n",
        "\n",
        "plot(d$SALAMAN ~ d$F)\n",
        "lines(colMeans(sim_means2) ~ F_seq)\n",
        "shade(sim_PI2, F_seq)"
      ],
      "metadata": {
        "colab": {
          "base_uri": "https://localhost:8080/",
          "height": 857
        },
        "id": "P2yIKg6n6rHT",
        "outputId": "ed25ed22-a4f4-4abe-c617-fd74833f6dd2"
      },
      "execution_count": null,
      "outputs": [
        {
          "output_type": "display_data",
          "data": {
            "text/plain": [
              "plot without title"
            ],
            "image/png": "[encoded data removed]"
          },
          "metadata": {
            "image/png": {
              "width": 420,
              "height": 420
            }
          }
        },
        {
          "output_type": "display_data",
          "data": {
            "text/plain": [
              "plot without title"
            ],
            "image/png": "[encoded data removed]"
          },
          "metadata": {
            "image/png": {
              "width": 420,
              "height": 420
            }
          }
        }
      ]
    },
    {
      "cell_type": "markdown",
      "source": [
        "### 11H4\n",
        "\n",
        "The data in `data(NWOGrants)` are outcomes for scientific funding applications for the Netherlands Organization for Scientific Research (NWO) from 2010–2012 (see van der Lee and Ellemers (2015) for data and context). These data have a very similar structure to the `UCBAdmit` data discussed in the chapter. I want you to consider a similar question: *What are the total and indirect causal effects of gender on grant awards?* Consider a mediation path (a pipe) through discipline. Draw the  corresponding DAG and then use one or more binomial GLMs to answer the question. What is your  causal interpretation? If NWO’s goal is to equalize rates of funding between men and women, what type of intervention would be most effective?\n",
        "\n",
        "#### Answer\n",
        "\n",
        "Let's load the data."
      ],
      "metadata": {
        "id": "IUGd0V2LdyJG"
      }
    },
    {
      "cell_type": "code",
      "source": [
        "data(NWOGrants)\n",
        "d <- NWOGrants\n",
        "head(d)"
      ],
      "metadata": {
        "colab": {
          "base_uri": "https://localhost:8080/",
          "height": 286
        },
        "id": "ssB-qE22eNqF",
        "outputId": "a800a20b-fa78-4aaa-acc5-7c371724e205"
      },
      "execution_count": null,
      "outputs": [
        {
          "output_type": "display_data",
          "data": {
            "text/html": [
              "<table class=\"dataframe\">\n",
              "<caption>A data.frame: 6 × 4</caption>\n",
              "<thead>\n",
              "\t<tr><th></th><th scope=col>discipline</th><th scope=col>gender</th><th scope=col>applications</th><th scope=col>awards</th></tr>\n",
              "\t<tr><th></th><th scope=col>&lt;fct&gt;</th><th scope=col>&lt;fct&gt;</th><th scope=col>&lt;int&gt;</th><th scope=col>&lt;int&gt;</th></tr>\n",
              "</thead>\n",
              "<tbody>\n",
              "\t<tr><th scope=row>1</th><td>Chemical sciences</td><td>m</td><td> 83</td><td>22</td></tr>\n",
              "\t<tr><th scope=row>2</th><td>Chemical sciences</td><td>f</td><td> 39</td><td>10</td></tr>\n",
              "\t<tr><th scope=row>3</th><td>Physical sciences</td><td>m</td><td>135</td><td>26</td></tr>\n",
              "\t<tr><th scope=row>4</th><td>Physical sciences</td><td>f</td><td> 39</td><td> 9</td></tr>\n",
              "\t<tr><th scope=row>5</th><td>Physics          </td><td>m</td><td> 67</td><td>18</td></tr>\n",
              "\t<tr><th scope=row>6</th><td>Physics          </td><td>f</td><td>  9</td><td> 2</td></tr>\n",
              "</tbody>\n",
              "</table>\n"
            ],
            "text/markdown": "\nA data.frame: 6 × 4\n\n| <!--/--> | discipline &lt;fct&gt; | gender &lt;fct&gt; | applications &lt;int&gt; | awards &lt;int&gt; |\n|---|---|---|---|---|\n| 1 | Chemical sciences | m |  83 | 22 |\n| 2 | Chemical sciences | f |  39 | 10 |\n| 3 | Physical sciences | m | 135 | 26 |\n| 4 | Physical sciences | f |  39 |  9 |\n| 5 | Physics           | m |  67 | 18 |\n| 6 | Physics           | f |   9 |  2 |\n\n",
            "text/latex": "A data.frame: 6 × 4\n\\begin{tabular}{r|llll}\n  & discipline & gender & applications & awards\\\\\n  & <fct> & <fct> & <int> & <int>\\\\\n\\hline\n\t1 & Chemical sciences & m &  83 & 22\\\\\n\t2 & Chemical sciences & f &  39 & 10\\\\\n\t3 & Physical sciences & m & 135 & 26\\\\\n\t4 & Physical sciences & f &  39 &  9\\\\\n\t5 & Physics           & m &  67 & 18\\\\\n\t6 & Physics           & f &   9 &  2\\\\\n\\end{tabular}\n",
            "text/plain": [
              "  discipline        gender applications awards\n",
              "1 Chemical sciences m       83          22    \n",
              "2 Chemical sciences f       39          10    \n",
              "3 Physical sciences m      135          26    \n",
              "4 Physical sciences f       39           9    \n",
              "5 Physics           m       67          18    \n",
              "6 Physics           f        9           2    "
            ]
          },
          "metadata": {}
        }
      ]
    },
    {
      "cell_type": "markdown",
      "source": [
        "Now for the DAG.  We're meant to consider `discipline` as a causal element of `award`/`applications`.  We're further meant to consider that `gender` may affect `award`/`applications` both directly and indirectly via `discipline`.  This implies the following DAG."
      ],
      "metadata": {
        "id": "fq1j26iygegj"
      }
    },
    {
      "cell_type": "code",
      "source": [
        "library(dagitty)\n",
        "\n",
        "NWO_DAG <- dagitty(\"dag{\n",
        "  G -> D -> A\n",
        "  G -> A\n",
        "}\")\n",
        "\n",
        "drawdag(NWO_DAG)"
      ],
      "metadata": {
        "colab": {
          "base_uri": "https://localhost:8080/",
          "height": 437
        },
        "id": "Po7SyUa5g-jJ",
        "outputId": "cb5361bc-82ed-4779-8fa9-0c5b7c93d426"
      },
      "execution_count": null,
      "outputs": [
        {
          "output_type": "display_data",
          "data": {
            "text/plain": [
              "plot without title"
            ],
            "image/png": "[encoded data removed]"
          },
          "metadata": {
            "image/png": {
              "width": 420,
              "height": 420
            }
          }
        }
      ]
    },
    {
      "cell_type": "markdown",
      "source": [
        "Now we'll try to model the effects of `gender`.  We're asked to use binomial models, so we'll definitely do that, but we can also apply a Poisson model with offset--so we'll also do that.\n",
        "\n",
        "To drill down on `gender` effects, we'll run a model that does NOT condition on `discipline` to get the total effect of `gender`, and a second model that DOES condition on `discipline` to get the direct effect on gender."
      ],
      "metadata": {
        "id": "fgQpPWnhhce0"
      }
    },
    {
      "cell_type": "code",
      "source": [
        "d_list <- list(awards=d$awards,\n",
        "               applications=d$applications,\n",
        "               discipline=as.integer(d$discipline),\n",
        "               gender=ifelse(d$gender==\"m\", 1L, 2L))"
      ],
      "metadata": {
        "id": "7P-ro-0biRAo"
      },
      "execution_count": null,
      "outputs": []
    },
    {
      "cell_type": "code",
      "source": [
        "m_binom_TE <- ulam(\n",
        "  alist(\n",
        "    awards ~ dbinom(applications, p),\n",
        "      logit(p) <- aG[gender],\n",
        "        aG[gender] ~ normal(0,1)\n",
        "  ), data=d_list,\n",
        "     chains=4,\n",
        "     cores=4,\n",
        "     iter=1000\n",
        ")\n",
        "\n",
        "m_binom_DE <- ulam(\n",
        "  alist(\n",
        "    awards ~ dbinom(applications, p),\n",
        "      logit(p) <- aG[gender] + aD[discipline],\n",
        "        aG[gender] ~ normal(0,1),\n",
        "        aD[discipline] ~ normal(0,1)\n",
        "  ), data=d_list,\n",
        "     chains=4,\n",
        "     cores=4,\n",
        "     iter=2000\n",
        ")\n",
        "\n",
        "round(precis(m_binom_TE, depth=2), 4)\n",
        "round(precis(m_binom_DE, depth=2), 4)"
      ],
      "metadata": {
        "colab": {
          "base_uri": "https://localhost:8080/",
          "height": 1000
        },
        "id": "qj6ZuggIleGz",
        "outputId": "19bce11f-d4c7-4b11-d3d8-8bbe099e9d03"
      },
      "execution_count": null,
      "outputs": [
        {
          "output_type": "stream",
          "name": "stdout",
          "text": [
            "Running MCMC with 4 parallel chains, with 1 thread(s) per chain...\n",
            "\n",
            "Chain 1 Iteration:   1 / 1000 [  0%]  (Warmup) \n",
            "Chain 1 Iteration: 100 / 1000 [ 10%]  (Warmup) \n",
            "Chain 1 Iteration: 200 / 1000 [ 20%]  (Warmup) \n",
            "Chain 1 Iteration: 300 / 1000 [ 30%]  (Warmup) \n",
            "Chain 1 Iteration: 400 / 1000 [ 40%]  (Warmup) \n",
            "Chain 1 Iteration: 500 / 1000 [ 50%]  (Warmup) \n",
            "Chain 1 Iteration: 501 / 1000 [ 50%]  (Sampling) \n",
            "Chain 1 Iteration: 600 / 1000 [ 60%]  (Sampling) \n",
            "Chain 1 Iteration: 700 / 1000 [ 70%]  (Sampling) \n",
            "Chain 1 Iteration: 800 / 1000 [ 80%]  (Sampling) \n",
            "Chain 1 Iteration: 900 / 1000 [ 90%]  (Sampling) \n",
            "Chain 1 Iteration: 1000 / 1000 [100%]  (Sampling) \n",
            "Chain 2 Iteration:   1 / 1000 [  0%]  (Warmup) \n",
            "Chain 2 Iteration: 100 / 1000 [ 10%]  (Warmup) \n",
            "Chain 2 Iteration: 200 / 1000 [ 20%]  (Warmup) \n",
            "Chain 2 Iteration: 300 / 1000 [ 30%]  (Warmup) \n",
            "Chain 2 Iteration: 400 / 1000 [ 40%]  (Warmup) \n",
            "Chain 2 Iteration: 500 / 1000 [ 50%]  (Warmup) \n",
            "Chain 2 Iteration: 501 / 1000 [ 50%]  (Sampling) \n",
            "Chain 2 Iteration: 600 / 1000 [ 60%]  (Sampling) \n",
            "Chain 2 Iteration: 700 / 1000 [ 70%]  (Sampling) \n",
            "Chain 2 Iteration: 800 / 1000 [ 80%]  (Sampling) \n",
            "Chain 2 Iteration: 900 / 1000 [ 90%]  (Sampling) \n",
            "Chain 2 Iteration: 1000 / 1000 [100%]  (Sampling) \n",
            "Chain 3 Iteration:   1 / 1000 [  0%]  (Warmup) \n",
            "Chain 3 Iteration: 100 / 1000 [ 10%]  (Warmup) \n",
            "Chain 3 Iteration: 200 / 1000 [ 20%]  (Warmup) \n",
            "Chain 3 Iteration: 300 / 1000 [ 30%]  (Warmup) \n",
            "Chain 3 Iteration: 400 / 1000 [ 40%]  (Warmup) \n",
            "Chain 3 Iteration: 500 / 1000 [ 50%]  (Warmup) \n",
            "Chain 3 Iteration: 501 / 1000 [ 50%]  (Sampling) \n",
            "Chain 3 Iteration: 600 / 1000 [ 60%]  (Sampling) \n",
            "Chain 3 Iteration: 700 / 1000 [ 70%]  (Sampling) \n",
            "Chain 3 Iteration: 800 / 1000 [ 80%]  (Sampling) \n",
            "Chain 3 Iteration: 900 / 1000 [ 90%]  (Sampling) \n",
            "Chain 3 Iteration: 1000 / 1000 [100%]  (Sampling) \n",
            "Chain 4 Iteration:   1 / 1000 [  0%]  (Warmup) \n",
            "Chain 4 Iteration: 100 / 1000 [ 10%]  (Warmup) \n",
            "Chain 4 Iteration: 200 / 1000 [ 20%]  (Warmup) \n",
            "Chain 4 Iteration: 300 / 1000 [ 30%]  (Warmup) \n",
            "Chain 4 Iteration: 400 / 1000 [ 40%]  (Warmup) \n",
            "Chain 4 Iteration: 500 / 1000 [ 50%]  (Warmup) \n",
            "Chain 4 Iteration: 501 / 1000 [ 50%]  (Sampling) \n",
            "Chain 4 Iteration: 600 / 1000 [ 60%]  (Sampling) \n",
            "Chain 4 Iteration: 700 / 1000 [ 70%]  (Sampling) \n",
            "Chain 4 Iteration: 800 / 1000 [ 80%]  (Sampling) \n",
            "Chain 4 Iteration: 900 / 1000 [ 90%]  (Sampling) \n",
            "Chain 4 Iteration: 1000 / 1000 [100%]  (Sampling) \n",
            "Chain 1 finished in 0.0 seconds.\n",
            "Chain 2 finished in 0.0 seconds.\n",
            "Chain 3 finished in 0.0 seconds.\n",
            "Chain 4 finished in 0.0 seconds.\n",
            "\n",
            "All 4 chains finished successfully.\n",
            "Mean chain execution time: 0.0 seconds.\n",
            "Total execution time: 0.4 seconds.\n",
            "\n",
            "Running MCMC with 4 parallel chains, with 1 thread(s) per chain...\n",
            "\n",
            "Chain 1 Iteration:    1 / 2000 [  0%]  (Warmup) \n",
            "Chain 1 Iteration:  100 / 2000 [  5%]  (Warmup) \n",
            "Chain 1 Iteration:  200 / 2000 [ 10%]  (Warmup) \n",
            "Chain 1 Iteration:  300 / 2000 [ 15%]  (Warmup) \n",
            "Chain 1 Iteration:  400 / 2000 [ 20%]  (Warmup) \n",
            "Chain 1 Iteration:  500 / 2000 [ 25%]  (Warmup) \n",
            "Chain 1 Iteration:  600 / 2000 [ 30%]  (Warmup) \n",
            "Chain 1 Iteration:  700 / 2000 [ 35%]  (Warmup) \n",
            "Chain 1 Iteration:  800 / 2000 [ 40%]  (Warmup) \n",
            "Chain 1 Iteration:  900 / 2000 [ 45%]  (Warmup) \n",
            "Chain 2 Iteration:    1 / 2000 [  0%]  (Warmup) \n",
            "Chain 2 Iteration:  100 / 2000 [  5%]  (Warmup) \n",
            "Chain 2 Iteration:  200 / 2000 [ 10%]  (Warmup) \n",
            "Chain 2 Iteration:  300 / 2000 [ 15%]  (Warmup) \n",
            "Chain 2 Iteration:  400 / 2000 [ 20%]  (Warmup) \n",
            "Chain 2 Iteration:  500 / 2000 [ 25%]  (Warmup) \n",
            "Chain 2 Iteration:  600 / 2000 [ 30%]  (Warmup) \n",
            "Chain 2 Iteration:  700 / 2000 [ 35%]  (Warmup) \n",
            "Chain 3 Iteration:    1 / 2000 [  0%]  (Warmup) \n",
            "Chain 3 Iteration:  100 / 2000 [  5%]  (Warmup) \n",
            "Chain 3 Iteration:  200 / 2000 [ 10%]  (Warmup) \n",
            "Chain 3 Iteration:  300 / 2000 [ 15%]  (Warmup) \n",
            "Chain 3 Iteration:  400 / 2000 [ 20%]  (Warmup) \n",
            "Chain 3 Iteration:  500 / 2000 [ 25%]  (Warmup) \n",
            "Chain 3 Iteration:  600 / 2000 [ 30%]  (Warmup) \n",
            "Chain 3 Iteration:  700 / 2000 [ 35%]  (Warmup) \n",
            "Chain 3 Iteration:  800 / 2000 [ 40%]  (Warmup) \n",
            "Chain 3 Iteration:  900 / 2000 [ 45%]  (Warmup) \n",
            "Chain 3 Iteration: 1000 / 2000 [ 50%]  (Warmup) \n",
            "Chain 3 Iteration: 1001 / 2000 [ 50%]  (Sampling) \n",
            "Chain 4 Iteration:    1 / 2000 [  0%]  (Warmup) \n",
            "Chain 4 Iteration:  100 / 2000 [  5%]  (Warmup) \n",
            "Chain 4 Iteration:  200 / 2000 [ 10%]  (Warmup) \n",
            "Chain 4 Iteration:  300 / 2000 [ 15%]  (Warmup) \n",
            "Chain 4 Iteration:  400 / 2000 [ 20%]  (Warmup) \n",
            "Chain 4 Iteration:  500 / 2000 [ 25%]  (Warmup) \n",
            "Chain 1 Iteration: 1000 / 2000 [ 50%]  (Warmup) \n",
            "Chain 1 Iteration: 1001 / 2000 [ 50%]  (Sampling) \n",
            "Chain 1 Iteration: 1100 / 2000 [ 55%]  (Sampling) \n",
            "Chain 1 Iteration: 1200 / 2000 [ 60%]  (Sampling) \n",
            "Chain 1 Iteration: 1300 / 2000 [ 65%]  (Sampling) \n",
            "Chain 1 Iteration: 1400 / 2000 [ 70%]  (Sampling) \n",
            "Chain 1 Iteration: 1500 / 2000 [ 75%]  (Sampling) \n",
            "Chain 1 Iteration: 1600 / 2000 [ 80%]  (Sampling) \n",
            "Chain 1 Iteration: 1700 / 2000 [ 85%]  (Sampling) \n",
            "Chain 2 Iteration:  800 / 2000 [ 40%]  (Warmup) \n",
            "Chain 2 Iteration:  900 / 2000 [ 45%]  (Warmup) \n",
            "Chain 2 Iteration: 1000 / 2000 [ 50%]  (Warmup) \n",
            "Chain 2 Iteration: 1001 / 2000 [ 50%]  (Sampling) \n",
            "Chain 2 Iteration: 1100 / 2000 [ 55%]  (Sampling) \n",
            "Chain 2 Iteration: 1200 / 2000 [ 60%]  (Sampling) \n",
            "Chain 2 Iteration: 1300 / 2000 [ 65%]  (Sampling) \n",
            "Chain 3 Iteration: 1100 / 2000 [ 55%]  (Sampling) \n",
            "Chain 3 Iteration: 1200 / 2000 [ 60%]  (Sampling) \n",
            "Chain 3 Iteration: 1300 / 2000 [ 65%]  (Sampling) \n",
            "Chain 3 Iteration: 1400 / 2000 [ 70%]  (Sampling) \n",
            "Chain 3 Iteration: 1500 / 2000 [ 75%]  (Sampling) \n",
            "Chain 3 Iteration: 1600 / 2000 [ 80%]  (Sampling) \n",
            "Chain 3 Iteration: 1700 / 2000 [ 85%]  (Sampling) \n",
            "Chain 4 Iteration:  600 / 2000 [ 30%]  (Warmup) \n",
            "Chain 4 Iteration:  700 / 2000 [ 35%]  (Warmup) \n",
            "Chain 4 Iteration:  800 / 2000 [ 40%]  (Warmup) \n",
            "Chain 4 Iteration:  900 / 2000 [ 45%]  (Warmup) \n",
            "Chain 1 Iteration: 1800 / 2000 [ 90%]  (Sampling) \n",
            "Chain 1 Iteration: 1900 / 2000 [ 95%]  (Sampling) \n",
            "Chain 1 Iteration: 2000 / 2000 [100%]  (Sampling) \n",
            "Chain 2 Iteration: 1400 / 2000 [ 70%]  (Sampling) \n",
            "Chain 2 Iteration: 1500 / 2000 [ 75%]  (Sampling) \n",
            "Chain 2 Iteration: 1600 / 2000 [ 80%]  (Sampling) \n",
            "Chain 2 Iteration: 1700 / 2000 [ 85%]  (Sampling) \n",
            "Chain 2 Iteration: 1800 / 2000 [ 90%]  (Sampling) \n",
            "Chain 2 Iteration: 1900 / 2000 [ 95%]  (Sampling) \n",
            "Chain 3 Iteration: 1800 / 2000 [ 90%]  (Sampling) \n",
            "Chain 3 Iteration: 1900 / 2000 [ 95%]  (Sampling) \n",
            "Chain 3 Iteration: 2000 / 2000 [100%]  (Sampling) \n",
            "Chain 4 Iteration: 1000 / 2000 [ 50%]  (Warmup) \n",
            "Chain 4 Iteration: 1001 / 2000 [ 50%]  (Sampling) \n",
            "Chain 4 Iteration: 1100 / 2000 [ 55%]  (Sampling) \n",
            "Chain 4 Iteration: 1200 / 2000 [ 60%]  (Sampling) \n",
            "Chain 4 Iteration: 1300 / 2000 [ 65%]  (Sampling) \n",
            "Chain 4 Iteration: 1400 / 2000 [ 70%]  (Sampling) \n",
            "Chain 1 finished in 0.6 seconds.\n",
            "Chain 3 finished in 0.5 seconds.\n",
            "Chain 2 Iteration: 2000 / 2000 [100%]  (Sampling) \n",
            "Chain 4 Iteration: 1500 / 2000 [ 75%]  (Sampling) \n",
            "Chain 4 Iteration: 1600 / 2000 [ 80%]  (Sampling) \n",
            "Chain 4 Iteration: 1700 / 2000 [ 85%]  (Sampling) \n",
            "Chain 4 Iteration: 1800 / 2000 [ 90%]  (Sampling) \n",
            "Chain 4 Iteration: 1900 / 2000 [ 95%]  (Sampling) \n",
            "Chain 4 Iteration: 2000 / 2000 [100%]  (Sampling) \n",
            "Chain 2 finished in 0.6 seconds.\n",
            "Chain 4 finished in 0.6 seconds.\n",
            "\n",
            "All 4 chains finished successfully.\n",
            "Mean chain execution time: 0.6 seconds.\n",
            "Total execution time: 0.8 seconds.\n",
            "\n"
          ]
        },
        {
          "output_type": "display_data",
          "data": {
            "text/html": [
              "<table class=\"dataframe\">\n",
              "<caption>A data.frame: 2 × 6</caption>\n",
              "<thead>\n",
              "\t<tr><th></th><th scope=col>mean</th><th scope=col>sd</th><th scope=col>5.5%</th><th scope=col>94.5%</th><th scope=col>rhat</th><th scope=col>ess_bulk</th></tr>\n",
              "\t<tr><th></th><th scope=col>&lt;dbl&gt;</th><th scope=col>&lt;dbl&gt;</th><th scope=col>&lt;dbl&gt;</th><th scope=col>&lt;dbl&gt;</th><th scope=col>&lt;dbl&gt;</th><th scope=col>&lt;dbl&gt;</th></tr>\n",
              "</thead>\n",
              "<tbody>\n",
              "\t<tr><th scope=row>aG[1]</th><td>-1.5293</td><td>0.0626</td><td>-1.6270</td><td>-1.4288</td><td>1.0025</td><td>1404.706</td></tr>\n",
              "\t<tr><th scope=row>aG[2]</th><td>-1.7335</td><td>0.0839</td><td>-1.8764</td><td>-1.5979</td><td>1.0044</td><td>1376.136</td></tr>\n",
              "</tbody>\n",
              "</table>\n"
            ],
            "text/markdown": "\nA data.frame: 2 × 6\n\n| <!--/--> | mean &lt;dbl&gt; | sd &lt;dbl&gt; | 5.5% &lt;dbl&gt; | 94.5% &lt;dbl&gt; | rhat &lt;dbl&gt; | ess_bulk &lt;dbl&gt; |\n|---|---|---|---|---|---|---|\n| aG[1] | -1.5293 | 0.0626 | -1.6270 | -1.4288 | 1.0025 | 1404.706 |\n| aG[2] | -1.7335 | 0.0839 | -1.8764 | -1.5979 | 1.0044 | 1376.136 |\n\n",
            "text/latex": "A data.frame: 2 × 6\n\\begin{tabular}{r|llllll}\n  & mean & sd & 5.5\\% & 94.5\\% & rhat & ess\\_bulk\\\\\n  & <dbl> & <dbl> & <dbl> & <dbl> & <dbl> & <dbl>\\\\\n\\hline\n\taG{[}1{]} & -1.5293 & 0.0626 & -1.6270 & -1.4288 & 1.0025 & 1404.706\\\\\n\taG{[}2{]} & -1.7335 & 0.0839 & -1.8764 & -1.5979 & 1.0044 & 1376.136\\\\\n\\end{tabular}\n",
            "text/plain": [
              "      mean    sd     5.5%    94.5%   rhat   ess_bulk\n",
              "aG[1] -1.5293 0.0626 -1.6270 -1.4288 1.0025 1404.706\n",
              "aG[2] -1.7335 0.0839 -1.8764 -1.5979 1.0044 1376.136"
            ]
          },
          "metadata": {}
        },
        {
          "output_type": "display_data",
          "data": {
            "text/html": [
              "<table class=\"dataframe\">\n",
              "<caption>A data.frame: 11 × 6</caption>\n",
              "<thead>\n",
              "\t<tr><th></th><th scope=col>mean</th><th scope=col>sd</th><th scope=col>5.5%</th><th scope=col>94.5%</th><th scope=col>rhat</th><th scope=col>ess_bulk</th></tr>\n",
              "\t<tr><th></th><th scope=col>&lt;dbl&gt;</th><th scope=col>&lt;dbl&gt;</th><th scope=col>&lt;dbl&gt;</th><th scope=col>&lt;dbl&gt;</th><th scope=col>&lt;dbl&gt;</th><th scope=col>&lt;dbl&gt;</th></tr>\n",
              "</thead>\n",
              "<tbody>\n",
              "\t<tr><th scope=row>aG[1]</th><td>-1.1410</td><td>0.3042</td><td>-1.6340</td><td>-0.6716</td><td>1.0044</td><td>429.3949</td></tr>\n",
              "\t<tr><th scope=row>aG[2]</th><td>-1.2804</td><td>0.3072</td><td>-1.7709</td><td>-0.8029</td><td>1.0044</td><td>448.1528</td></tr>\n",
              "\t<tr><th scope=row>aD[1]</th><td> 0.1302</td><td>0.3501</td><td>-0.4200</td><td> 0.6974</td><td>1.0040</td><td>566.2043</td></tr>\n",
              "\t<tr><th scope=row>aD[2]</th><td>-0.1939</td><td>0.3275</td><td>-0.7023</td><td> 0.3415</td><td>1.0056</td><td>495.4323</td></tr>\n",
              "\t<tr><th scope=row>aD[3]</th><td>-0.4273</td><td>0.3232</td><td>-0.9161</td><td> 0.0979</td><td>1.0044</td><td>487.7392</td></tr>\n",
              "\t<tr><th scope=row>aD[4]</th><td>-0.4635</td><td>0.3497</td><td>-1.0202</td><td> 0.0891</td><td>1.0039</td><td>559.6083</td></tr>\n",
              "\t<tr><th scope=row>aD[5]</th><td>-0.5351</td><td>0.3198</td><td>-1.0298</td><td>-0.0193</td><td>1.0043</td><td>476.6093</td></tr>\n",
              "\t<tr><th scope=row>aD[6]</th><td>-0.2095</td><td>0.3470</td><td>-0.7427</td><td> 0.3670</td><td>1.0030</td><td>565.7176</td></tr>\n",
              "\t<tr><th scope=row>aD[7]</th><td> 0.1004</td><td>0.3856</td><td>-0.5115</td><td> 0.7220</td><td>1.0009</td><td>630.8892</td></tr>\n",
              "\t<tr><th scope=row>aD[8]</th><td>-0.6532</td><td>0.3134</td><td>-1.1332</td><td>-0.1407</td><td>1.0040</td><td>458.3709</td></tr>\n",
              "\t<tr><th scope=row>aD[9]</th><td>-0.4025</td><td>0.3322</td><td>-0.9287</td><td> 0.1341</td><td>1.0028</td><td>529.8247</td></tr>\n",
              "</tbody>\n",
              "</table>\n"
            ],
            "text/markdown": "\nA data.frame: 11 × 6\n\n| <!--/--> | mean &lt;dbl&gt; | sd &lt;dbl&gt; | 5.5% &lt;dbl&gt; | 94.5% &lt;dbl&gt; | rhat &lt;dbl&gt; | ess_bulk &lt;dbl&gt; |\n|---|---|---|---|---|---|---|\n| aG[1] | -1.1410 | 0.3042 | -1.6340 | -0.6716 | 1.0044 | 429.3949 |\n| aG[2] | -1.2804 | 0.3072 | -1.7709 | -0.8029 | 1.0044 | 448.1528 |\n| aD[1] |  0.1302 | 0.3501 | -0.4200 |  0.6974 | 1.0040 | 566.2043 |\n| aD[2] | -0.1939 | 0.3275 | -0.7023 |  0.3415 | 1.0056 | 495.4323 |\n| aD[3] | -0.4273 | 0.3232 | -0.9161 |  0.0979 | 1.0044 | 487.7392 |\n| aD[4] | -0.4635 | 0.3497 | -1.0202 |  0.0891 | 1.0039 | 559.6083 |\n| aD[5] | -0.5351 | 0.3198 | -1.0298 | -0.0193 | 1.0043 | 476.6093 |\n| aD[6] | -0.2095 | 0.3470 | -0.7427 |  0.3670 | 1.0030 | 565.7176 |\n| aD[7] |  0.1004 | 0.3856 | -0.5115 |  0.7220 | 1.0009 | 630.8892 |\n| aD[8] | -0.6532 | 0.3134 | -1.1332 | -0.1407 | 1.0040 | 458.3709 |\n| aD[9] | -0.4025 | 0.3322 | -0.9287 |  0.1341 | 1.0028 | 529.8247 |\n\n",
            "text/latex": "A data.frame: 11 × 6\n\\begin{tabular}{r|llllll}\n  & mean & sd & 5.5\\% & 94.5\\% & rhat & ess\\_bulk\\\\\n  & <dbl> & <dbl> & <dbl> & <dbl> & <dbl> & <dbl>\\\\\n\\hline\n\taG{[}1{]} & -1.1410 & 0.3042 & -1.6340 & -0.6716 & 1.0044 & 429.3949\\\\\n\taG{[}2{]} & -1.2804 & 0.3072 & -1.7709 & -0.8029 & 1.0044 & 448.1528\\\\\n\taD{[}1{]} &  0.1302 & 0.3501 & -0.4200 &  0.6974 & 1.0040 & 566.2043\\\\\n\taD{[}2{]} & -0.1939 & 0.3275 & -0.7023 &  0.3415 & 1.0056 & 495.4323\\\\\n\taD{[}3{]} & -0.4273 & 0.3232 & -0.9161 &  0.0979 & 1.0044 & 487.7392\\\\\n\taD{[}4{]} & -0.4635 & 0.3497 & -1.0202 &  0.0891 & 1.0039 & 559.6083\\\\\n\taD{[}5{]} & -0.5351 & 0.3198 & -1.0298 & -0.0193 & 1.0043 & 476.6093\\\\\n\taD{[}6{]} & -0.2095 & 0.3470 & -0.7427 &  0.3670 & 1.0030 & 565.7176\\\\\n\taD{[}7{]} &  0.1004 & 0.3856 & -0.5115 &  0.7220 & 1.0009 & 630.8892\\\\\n\taD{[}8{]} & -0.6532 & 0.3134 & -1.1332 & -0.1407 & 1.0040 & 458.3709\\\\\n\taD{[}9{]} & -0.4025 & 0.3322 & -0.9287 &  0.1341 & 1.0028 & 529.8247\\\\\n\\end{tabular}\n",
            "text/plain": [
              "      mean    sd     5.5%    94.5%   rhat   ess_bulk\n",
              "aG[1] -1.1410 0.3042 -1.6340 -0.6716 1.0044 429.3949\n",
              "aG[2] -1.2804 0.3072 -1.7709 -0.8029 1.0044 448.1528\n",
              "aD[1]  0.1302 0.3501 -0.4200  0.6974 1.0040 566.2043\n",
              "aD[2] -0.1939 0.3275 -0.7023  0.3415 1.0056 495.4323\n",
              "aD[3] -0.4273 0.3232 -0.9161  0.0979 1.0044 487.7392\n",
              "aD[4] -0.4635 0.3497 -1.0202  0.0891 1.0039 559.6083\n",
              "aD[5] -0.5351 0.3198 -1.0298 -0.0193 1.0043 476.6093\n",
              "aD[6] -0.2095 0.3470 -0.7427  0.3670 1.0030 565.7176\n",
              "aD[7]  0.1004 0.3856 -0.5115  0.7220 1.0009 630.8892\n",
              "aD[8] -0.6532 0.3134 -1.1332 -0.1407 1.0040 458.3709\n",
              "aD[9] -0.4025 0.3322 -0.9287  0.1341 1.0028 529.8247"
            ]
          },
          "metadata": {}
        }
      ]
    },
    {
      "cell_type": "markdown",
      "source": [
        "So there's our coefficient estimates.  To compare males vs females, we need to extract samples from the posteriors and set up contrasts."
      ],
      "metadata": {
        "id": "sMNEqzwdmBYg"
      }
    },
    {
      "cell_type": "code",
      "source": [
        "post_binom_TE <- extract.samples(m_binom_TE)\n",
        "post_binom_DE <- extract.samples(m_binom_DE)\n",
        "\n",
        "TE_diff_binom <- inv_logit(post_binom_TE$aG[,1]) - inv_logit(post_binom_TE$aG[,2])\n",
        "DE_diff_binom <- inv_logit(post_binom_DE$aG[,1]) - inv_logit(post_binom_DE$aG[,2])\n",
        "\n",
        "round(precis(list(TE_diff=TE_diff_binom, DE_diff=DE_diff_binom), hist=FALSE), 4)"
      ],
      "metadata": {
        "colab": {
          "base_uri": "https://localhost:8080/",
          "height": 161
        },
        "id": "3R_t5FpSmOrf",
        "outputId": "84f09d1a-31b1-4d3b-93ed-607285e0e0af"
      },
      "execution_count": null,
      "outputs": [
        {
          "output_type": "display_data",
          "data": {
            "text/html": [
              "<table class=\"dataframe\">\n",
              "<caption>A data.frame: 2 × 4</caption>\n",
              "<thead>\n",
              "\t<tr><th></th><th scope=col>mean</th><th scope=col>sd</th><th scope=col>5.5%</th><th scope=col>94.5%</th></tr>\n",
              "\t<tr><th></th><th scope=col>&lt;dbl&gt;</th><th scope=col>&lt;dbl&gt;</th><th scope=col>&lt;dbl&gt;</th><th scope=col>&lt;dbl&gt;</th></tr>\n",
              "</thead>\n",
              "<tbody>\n",
              "\t<tr><th scope=row>TE_diff</th><td>0.0278</td><td>0.0140</td><td> 0.005</td><td>0.0513</td></tr>\n",
              "\t<tr><th scope=row>DE_diff</th><td>0.0245</td><td>0.0194</td><td>-0.005</td><td>0.0571</td></tr>\n",
              "</tbody>\n",
              "</table>\n"
            ],
            "text/markdown": "\nA data.frame: 2 × 4\n\n| <!--/--> | mean &lt;dbl&gt; | sd &lt;dbl&gt; | 5.5% &lt;dbl&gt; | 94.5% &lt;dbl&gt; |\n|---|---|---|---|---|\n| TE_diff | 0.0278 | 0.0140 |  0.005 | 0.0513 |\n| DE_diff | 0.0245 | 0.0194 | -0.005 | 0.0571 |\n\n",
            "text/latex": "A data.frame: 2 × 4\n\\begin{tabular}{r|llll}\n  & mean & sd & 5.5\\% & 94.5\\%\\\\\n  & <dbl> & <dbl> & <dbl> & <dbl>\\\\\n\\hline\n\tTE\\_diff & 0.0278 & 0.0140 &  0.005 & 0.0513\\\\\n\tDE\\_diff & 0.0245 & 0.0194 & -0.005 & 0.0571\\\\\n\\end{tabular}\n",
            "text/plain": [
              "        mean   sd     5.5%   94.5% \n",
              "TE_diff 0.0278 0.0140  0.005 0.0513\n",
              "DE_diff 0.0245 0.0194 -0.005 0.0571"
            ]
          },
          "metadata": {}
        }
      ]
    },
    {
      "cell_type": "markdown",
      "source": [
        "The total effect is estimated to favor males by ~ 2.8% pts.\n",
        "\n",
        "Once we account for `discipline`, the direct effect is roughly similar (~2.4%), but the the 89% CrI straddles 0 (albeit, somewhat unevenly)."
      ],
      "metadata": {
        "id": "PkyWVJo3nVDv"
      }
    },
    {
      "cell_type": "markdown",
      "source": [
        "Let's analyze this again, but with a Poisson model with offset."
      ],
      "metadata": {
        "id": "chVmGBz-ocAj"
      }
    },
    {
      "cell_type": "code",
      "source": [
        "m_Pois_TE <- ulam(\n",
        "  alist(\n",
        "    awards ~ dpois(lambda),\n",
        "      log(lambda) <- log(applications) + aG[gender],\n",
        "        aG[gender] ~ normal(0,1)\n",
        "  ), data=d_list,\n",
        "     chains=4,\n",
        "     cores=4,\n",
        "     iter=1000\n",
        ")\n",
        "\n",
        "m_Pois_DE <- ulam(\n",
        "  alist(\n",
        "    awards ~ dpois(lambda),\n",
        "      log(lambda) <- log(applications) + aG[gender] + aD[discipline],\n",
        "        aG[gender] ~ normal(0,1),\n",
        "        aD[discipline] ~ normal(0,1)\n",
        "  ), data=d_list,\n",
        "     chains=4,\n",
        "     cores=4,\n",
        "     iter=2000\n",
        ")\n",
        "\n",
        "round(precis(m_Pois_TE, depth=2), 4)\n",
        "round(precis(m_Pois_DE, depth=2), 4)"
      ],
      "metadata": {
        "colab": {
          "base_uri": "https://localhost:8080/",
          "height": 1000
        },
        "id": "70hsNTFPokab",
        "outputId": "e790c017-612b-465f-e6b7-db21a6b3cd04"
      },
      "execution_count": null,
      "outputs": [
        {
          "output_type": "stream",
          "name": "stdout",
          "text": [
            "Running MCMC with 4 parallel chains, with 1 thread(s) per chain...\n",
            "\n",
            "Chain 1 Iteration:   1 / 1000 [  0%]  (Warmup) \n",
            "Chain 1 Iteration: 100 / 1000 [ 10%]  (Warmup) \n",
            "Chain 1 Iteration: 200 / 1000 [ 20%]  (Warmup) \n",
            "Chain 1 Iteration: 300 / 1000 [ 30%]  (Warmup) \n",
            "Chain 1 Iteration: 400 / 1000 [ 40%]  (Warmup) \n",
            "Chain 1 Iteration: 500 / 1000 [ 50%]  (Warmup) \n",
            "Chain 1 Iteration: 501 / 1000 [ 50%]  (Sampling) \n",
            "Chain 1 Iteration: 600 / 1000 [ 60%]  (Sampling) \n",
            "Chain 1 Iteration: 700 / 1000 [ 70%]  (Sampling) \n",
            "Chain 1 Iteration: 800 / 1000 [ 80%]  (Sampling) \n",
            "Chain 1 Iteration: 900 / 1000 [ 90%]  (Sampling) \n",
            "Chain 1 Iteration: 1000 / 1000 [100%]  (Sampling) \n",
            "Chain 2 Iteration:   1 / 1000 [  0%]  (Warmup) \n",
            "Chain 2 Iteration: 100 / 1000 [ 10%]  (Warmup) \n",
            "Chain 2 Iteration: 200 / 1000 [ 20%]  (Warmup) \n",
            "Chain 2 Iteration: 300 / 1000 [ 30%]  (Warmup) \n",
            "Chain 2 Iteration: 400 / 1000 [ 40%]  (Warmup) \n",
            "Chain 2 Iteration: 500 / 1000 [ 50%]  (Warmup) \n",
            "Chain 2 Iteration: 501 / 1000 [ 50%]  (Sampling) \n",
            "Chain 2 Iteration: 600 / 1000 [ 60%]  (Sampling) \n",
            "Chain 2 Iteration: 700 / 1000 [ 70%]  (Sampling) \n",
            "Chain 2 Iteration: 800 / 1000 [ 80%]  (Sampling) \n",
            "Chain 2 Iteration: 900 / 1000 [ 90%]  (Sampling) \n",
            "Chain 2 Iteration: 1000 / 1000 [100%]  (Sampling) \n",
            "Chain 3 Iteration:   1 / 1000 [  0%]  (Warmup) \n",
            "Chain 3 Iteration: 100 / 1000 [ 10%]  (Warmup) \n",
            "Chain 3 Iteration: 200 / 1000 [ 20%]  (Warmup) \n",
            "Chain 3 Iteration: 300 / 1000 [ 30%]  (Warmup) \n",
            "Chain 3 Iteration: 400 / 1000 [ 40%]  (Warmup) \n",
            "Chain 3 Iteration: 500 / 1000 [ 50%]  (Warmup) \n",
            "Chain 3 Iteration: 501 / 1000 [ 50%]  (Sampling) \n",
            "Chain 3 Iteration: 600 / 1000 [ 60%]  (Sampling) \n",
            "Chain 3 Iteration: 700 / 1000 [ 70%]  (Sampling) \n",
            "Chain 3 Iteration: 800 / 1000 [ 80%]  (Sampling) \n",
            "Chain 3 Iteration: 900 / 1000 [ 90%]  (Sampling) \n",
            "Chain 3 Iteration: 1000 / 1000 [100%]  (Sampling) \n",
            "Chain 4 Iteration:   1 / 1000 [  0%]  (Warmup) \n",
            "Chain 4 Iteration: 100 / 1000 [ 10%]  (Warmup) \n",
            "Chain 4 Iteration: 200 / 1000 [ 20%]  (Warmup) \n",
            "Chain 4 Iteration: 300 / 1000 [ 30%]  (Warmup) \n",
            "Chain 4 Iteration: 400 / 1000 [ 40%]  (Warmup) \n",
            "Chain 4 Iteration: 500 / 1000 [ 50%]  (Warmup) \n",
            "Chain 4 Iteration: 501 / 1000 [ 50%]  (Sampling) \n",
            "Chain 4 Iteration: 600 / 1000 [ 60%]  (Sampling) \n",
            "Chain 4 Iteration: 700 / 1000 [ 70%]  (Sampling) \n",
            "Chain 4 Iteration: 800 / 1000 [ 80%]  (Sampling) \n",
            "Chain 4 Iteration: 900 / 1000 [ 90%]  (Sampling) \n",
            "Chain 4 Iteration: 1000 / 1000 [100%]  (Sampling) \n",
            "Chain 1 finished in 0.0 seconds.\n",
            "Chain 2 finished in 0.0 seconds.\n",
            "Chain 3 finished in 0.0 seconds.\n",
            "Chain 4 finished in 0.0 seconds.\n",
            "\n",
            "All 4 chains finished successfully.\n",
            "Mean chain execution time: 0.0 seconds.\n",
            "Total execution time: 0.2 seconds.\n",
            "\n",
            "Running MCMC with 4 parallel chains, with 1 thread(s) per chain...\n",
            "\n",
            "Chain 1 Iteration:    1 / 2000 [  0%]  (Warmup) \n",
            "Chain 1 Iteration:  100 / 2000 [  5%]  (Warmup) \n",
            "Chain 1 Iteration:  200 / 2000 [ 10%]  (Warmup) \n",
            "Chain 1 Iteration:  300 / 2000 [ 15%]  (Warmup) \n",
            "Chain 1 Iteration:  400 / 2000 [ 20%]  (Warmup) \n",
            "Chain 1 Iteration:  500 / 2000 [ 25%]  (Warmup) \n",
            "Chain 1 Iteration:  600 / 2000 [ 30%]  (Warmup) \n",
            "Chain 1 Iteration:  700 / 2000 [ 35%]  (Warmup) \n",
            "Chain 2 Iteration:    1 / 2000 [  0%]  (Warmup) \n",
            "Chain 2 Iteration:  100 / 2000 [  5%]  (Warmup) \n",
            "Chain 2 Iteration:  200 / 2000 [ 10%]  (Warmup) \n",
            "Chain 2 Iteration:  300 / 2000 [ 15%]  (Warmup) \n",
            "Chain 2 Iteration:  400 / 2000 [ 20%]  (Warmup) \n",
            "Chain 2 Iteration:  500 / 2000 [ 25%]  (Warmup) \n",
            "Chain 2 Iteration:  600 / 2000 [ 30%]  (Warmup) \n",
            "Chain 2 Iteration:  700 / 2000 [ 35%]  (Warmup) \n",
            "Chain 2 Iteration:  800 / 2000 [ 40%]  (Warmup) \n",
            "Chain 3 Iteration:    1 / 2000 [  0%]  (Warmup) \n",
            "Chain 3 Iteration:  100 / 2000 [  5%]  (Warmup) \n",
            "Chain 3 Iteration:  200 / 2000 [ 10%]  (Warmup) \n",
            "Chain 3 Iteration:  300 / 2000 [ 15%]  (Warmup) \n",
            "Chain 3 Iteration:  400 / 2000 [ 20%]  (Warmup) \n",
            "Chain 3 Iteration:  500 / 2000 [ 25%]  (Warmup) \n",
            "Chain 3 Iteration:  600 / 2000 [ 30%]  (Warmup) \n",
            "Chain 3 Iteration:  700 / 2000 [ 35%]  (Warmup) \n",
            "Chain 4 Iteration:    1 / 2000 [  0%]  (Warmup) \n",
            "Chain 4 Iteration:  100 / 2000 [  5%]  (Warmup) \n",
            "Chain 4 Iteration:  200 / 2000 [ 10%]  (Warmup) \n",
            "Chain 4 Iteration:  300 / 2000 [ 15%]  (Warmup) \n",
            "Chain 4 Iteration:  400 / 2000 [ 20%]  (Warmup) \n",
            "Chain 1 Iteration:  800 / 2000 [ 40%]  (Warmup) \n",
            "Chain 1 Iteration:  900 / 2000 [ 45%]  (Warmup) \n",
            "Chain 1 Iteration: 1000 / 2000 [ 50%]  (Warmup) \n",
            "Chain 1 Iteration: 1001 / 2000 [ 50%]  (Sampling) \n",
            "Chain 1 Iteration: 1100 / 2000 [ 55%]  (Sampling) \n",
            "Chain 1 Iteration: 1200 / 2000 [ 60%]  (Sampling) \n",
            "Chain 1 Iteration: 1300 / 2000 [ 65%]  (Sampling) \n",
            "Chain 1 Iteration: 1400 / 2000 [ 70%]  (Sampling) \n",
            "Chain 1 Iteration: 1500 / 2000 [ 75%]  (Sampling) \n",
            "Chain 1 Iteration: 1600 / 2000 [ 80%]  (Sampling) \n",
            "Chain 2 Iteration:  900 / 2000 [ 45%]  (Warmup) \n",
            "Chain 2 Iteration: 1000 / 2000 [ 50%]  (Warmup) \n",
            "Chain 2 Iteration: 1001 / 2000 [ 50%]  (Sampling) \n",
            "Chain 2 Iteration: 1100 / 2000 [ 55%]  (Sampling) \n",
            "Chain 2 Iteration: 1200 / 2000 [ 60%]  (Sampling) \n",
            "Chain 2 Iteration: 1300 / 2000 [ 65%]  (Sampling) \n",
            "Chain 3 Iteration:  800 / 2000 [ 40%]  (Warmup) \n",
            "Chain 3 Iteration:  900 / 2000 [ 45%]  (Warmup) \n",
            "Chain 3 Iteration: 1000 / 2000 [ 50%]  (Warmup) \n",
            "Chain 3 Iteration: 1001 / 2000 [ 50%]  (Sampling) \n",
            "Chain 3 Iteration: 1100 / 2000 [ 55%]  (Sampling) \n",
            "Chain 4 Iteration:  500 / 2000 [ 25%]  (Warmup) \n",
            "Chain 4 Iteration:  600 / 2000 [ 30%]  (Warmup) \n",
            "Chain 4 Iteration:  700 / 2000 [ 35%]  (Warmup) \n",
            "Chain 4 Iteration:  800 / 2000 [ 40%]  (Warmup) \n",
            "Chain 1 Iteration: 1700 / 2000 [ 85%]  (Sampling) \n",
            "Chain 1 Iteration: 1800 / 2000 [ 90%]  (Sampling) \n",
            "Chain 1 Iteration: 1900 / 2000 [ 95%]  (Sampling) \n",
            "Chain 1 Iteration: 2000 / 2000 [100%]  (Sampling) \n",
            "Chain 2 Iteration: 1400 / 2000 [ 70%]  (Sampling) \n",
            "Chain 2 Iteration: 1500 / 2000 [ 75%]  (Sampling) \n",
            "Chain 2 Iteration: 1600 / 2000 [ 80%]  (Sampling) \n",
            "Chain 2 Iteration: 1700 / 2000 [ 85%]  (Sampling) \n",
            "Chain 2 Iteration: 1800 / 2000 [ 90%]  (Sampling) \n",
            "Chain 3 Iteration: 1200 / 2000 [ 60%]  (Sampling) \n",
            "Chain 3 Iteration: 1300 / 2000 [ 65%]  (Sampling) \n",
            "Chain 3 Iteration: 1400 / 2000 [ 70%]  (Sampling) \n",
            "Chain 3 Iteration: 1500 / 2000 [ 75%]  (Sampling) \n",
            "Chain 4 Iteration:  900 / 2000 [ 45%]  (Warmup) \n",
            "Chain 4 Iteration: 1000 / 2000 [ 50%]  (Warmup) \n",
            "Chain 4 Iteration: 1001 / 2000 [ 50%]  (Sampling) \n",
            "Chain 4 Iteration: 1100 / 2000 [ 55%]  (Sampling) \n",
            "Chain 4 Iteration: 1200 / 2000 [ 60%]  (Sampling) \n",
            "Chain 1 finished in 0.7 seconds.\n",
            "Chain 2 Iteration: 1900 / 2000 [ 95%]  (Sampling) \n",
            "Chain 2 Iteration: 2000 / 2000 [100%]  (Sampling) \n",
            "Chain 3 Iteration: 1600 / 2000 [ 80%]  (Sampling) \n",
            "Chain 3 Iteration: 1700 / 2000 [ 85%]  (Sampling) \n",
            "Chain 3 Iteration: 1800 / 2000 [ 90%]  (Sampling) \n",
            "Chain 3 Iteration: 1900 / 2000 [ 95%]  (Sampling) \n",
            "Chain 3 Iteration: 2000 / 2000 [100%]  (Sampling) \n",
            "Chain 4 Iteration: 1300 / 2000 [ 65%]  (Sampling) \n",
            "Chain 4 Iteration: 1400 / 2000 [ 70%]  (Sampling) \n",
            "Chain 4 Iteration: 1500 / 2000 [ 75%]  (Sampling) \n",
            "Chain 4 Iteration: 1600 / 2000 [ 80%]  (Sampling) \n",
            "Chain 4 Iteration: 1700 / 2000 [ 85%]  (Sampling) \n",
            "Chain 4 Iteration: 1800 / 2000 [ 90%]  (Sampling) \n",
            "Chain 4 Iteration: 1900 / 2000 [ 95%]  (Sampling) \n",
            "Chain 4 Iteration: 2000 / 2000 [100%]  (Sampling) \n",
            "Chain 2 finished in 0.7 seconds.\n",
            "Chain 3 finished in 0.7 seconds.\n",
            "Chain 4 finished in 0.6 seconds.\n",
            "\n",
            "All 4 chains finished successfully.\n",
            "Mean chain execution time: 0.7 seconds.\n",
            "Total execution time: 0.9 seconds.\n",
            "\n"
          ]
        },
        {
          "output_type": "display_data",
          "data": {
            "text/html": [
              "<table class=\"dataframe\">\n",
              "<caption>A data.frame: 2 × 6</caption>\n",
              "<thead>\n",
              "\t<tr><th></th><th scope=col>mean</th><th scope=col>sd</th><th scope=col>5.5%</th><th scope=col>94.5%</th><th scope=col>rhat</th><th scope=col>ess_bulk</th></tr>\n",
              "\t<tr><th></th><th scope=col>&lt;dbl&gt;</th><th scope=col>&lt;dbl&gt;</th><th scope=col>&lt;dbl&gt;</th><th scope=col>&lt;dbl&gt;</th><th scope=col>&lt;dbl&gt;</th><th scope=col>&lt;dbl&gt;</th></tr>\n",
              "</thead>\n",
              "<tbody>\n",
              "\t<tr><th scope=row>aG[1]</th><td>-1.7243</td><td>0.0581</td><td>-1.8170</td><td>-1.6352</td><td>1.0032</td><td>1100.859</td></tr>\n",
              "\t<tr><th scope=row>aG[2]</th><td>-1.8939</td><td>0.0786</td><td>-2.0183</td><td>-1.7681</td><td>1.0031</td><td>1146.502</td></tr>\n",
              "</tbody>\n",
              "</table>\n"
            ],
            "text/markdown": "\nA data.frame: 2 × 6\n\n| <!--/--> | mean &lt;dbl&gt; | sd &lt;dbl&gt; | 5.5% &lt;dbl&gt; | 94.5% &lt;dbl&gt; | rhat &lt;dbl&gt; | ess_bulk &lt;dbl&gt; |\n|---|---|---|---|---|---|---|\n| aG[1] | -1.7243 | 0.0581 | -1.8170 | -1.6352 | 1.0032 | 1100.859 |\n| aG[2] | -1.8939 | 0.0786 | -2.0183 | -1.7681 | 1.0031 | 1146.502 |\n\n",
            "text/latex": "A data.frame: 2 × 6\n\\begin{tabular}{r|llllll}\n  & mean & sd & 5.5\\% & 94.5\\% & rhat & ess\\_bulk\\\\\n  & <dbl> & <dbl> & <dbl> & <dbl> & <dbl> & <dbl>\\\\\n\\hline\n\taG{[}1{]} & -1.7243 & 0.0581 & -1.8170 & -1.6352 & 1.0032 & 1100.859\\\\\n\taG{[}2{]} & -1.8939 & 0.0786 & -2.0183 & -1.7681 & 1.0031 & 1146.502\\\\\n\\end{tabular}\n",
            "text/plain": [
              "      mean    sd     5.5%    94.5%   rhat   ess_bulk\n",
              "aG[1] -1.7243 0.0581 -1.8170 -1.6352 1.0032 1100.859\n",
              "aG[2] -1.8939 0.0786 -2.0183 -1.7681 1.0031 1146.502"
            ]
          },
          "metadata": {}
        },
        {
          "output_type": "display_data",
          "data": {
            "text/html": [
              "<table class=\"dataframe\">\n",
              "<caption>A data.frame: 11 × 6</caption>\n",
              "<thead>\n",
              "\t<tr><th></th><th scope=col>mean</th><th scope=col>sd</th><th scope=col>5.5%</th><th scope=col>94.5%</th><th scope=col>rhat</th><th scope=col>ess_bulk</th></tr>\n",
              "\t<tr><th></th><th scope=col>&lt;dbl&gt;</th><th scope=col>&lt;dbl&gt;</th><th scope=col>&lt;dbl&gt;</th><th scope=col>&lt;dbl&gt;</th><th scope=col>&lt;dbl&gt;</th><th scope=col>&lt;dbl&gt;</th></tr>\n",
              "</thead>\n",
              "<tbody>\n",
              "\t<tr><th scope=row>aG[1]</th><td>-1.3355</td><td>0.2997</td><td>-1.8163</td><td>-0.8392</td><td>1.0109</td><td>387.7263</td></tr>\n",
              "\t<tr><th scope=row>aG[2]</th><td>-1.4506</td><td>0.3044</td><td>-1.9392</td><td>-0.9521</td><td>1.0099</td><td>400.5022</td></tr>\n",
              "\t<tr><th scope=row>aD[1]</th><td> 0.0143</td><td>0.3394</td><td>-0.5365</td><td> 0.5553</td><td>1.0077</td><td>494.5110</td></tr>\n",
              "\t<tr><th scope=row>aD[2]</th><td>-0.2375</td><td>0.3229</td><td>-0.7700</td><td> 0.2800</td><td>1.0103</td><td>413.8024</td></tr>\n",
              "\t<tr><th scope=row>aD[3]</th><td>-0.4282</td><td>0.3141</td><td>-0.9437</td><td> 0.0822</td><td>1.0108</td><td>422.8992</td></tr>\n",
              "\t<tr><th scope=row>aD[4]</th><td>-0.4585</td><td>0.3366</td><td>-1.0078</td><td> 0.0808</td><td>1.0068</td><td>500.5349</td></tr>\n",
              "\t<tr><th scope=row>aD[5]</th><td>-0.5148</td><td>0.3139</td><td>-1.0285</td><td>-0.0073</td><td>1.0094</td><td>426.2749</td></tr>\n",
              "\t<tr><th scope=row>aD[6]</th><td>-0.2510</td><td>0.3348</td><td>-0.7907</td><td> 0.2905</td><td>1.0088</td><td>482.2491</td></tr>\n",
              "\t<tr><th scope=row>aD[7]</th><td>-0.0127</td><td>0.3604</td><td>-0.5926</td><td> 0.5529</td><td>1.0064</td><td>583.9418</td></tr>\n",
              "\t<tr><th scope=row>aD[8]</th><td>-0.6187</td><td>0.3098</td><td>-1.1287</td><td>-0.1175</td><td>1.0109</td><td>409.6707</td></tr>\n",
              "\t<tr><th scope=row>aD[9]</th><td>-0.4034</td><td>0.3232</td><td>-0.9360</td><td> 0.1084</td><td>1.0079</td><td>460.3337</td></tr>\n",
              "</tbody>\n",
              "</table>\n"
            ],
            "text/markdown": "\nA data.frame: 11 × 6\n\n| <!--/--> | mean &lt;dbl&gt; | sd &lt;dbl&gt; | 5.5% &lt;dbl&gt; | 94.5% &lt;dbl&gt; | rhat &lt;dbl&gt; | ess_bulk &lt;dbl&gt; |\n|---|---|---|---|---|---|---|\n| aG[1] | -1.3355 | 0.2997 | -1.8163 | -0.8392 | 1.0109 | 387.7263 |\n| aG[2] | -1.4506 | 0.3044 | -1.9392 | -0.9521 | 1.0099 | 400.5022 |\n| aD[1] |  0.0143 | 0.3394 | -0.5365 |  0.5553 | 1.0077 | 494.5110 |\n| aD[2] | -0.2375 | 0.3229 | -0.7700 |  0.2800 | 1.0103 | 413.8024 |\n| aD[3] | -0.4282 | 0.3141 | -0.9437 |  0.0822 | 1.0108 | 422.8992 |\n| aD[4] | -0.4585 | 0.3366 | -1.0078 |  0.0808 | 1.0068 | 500.5349 |\n| aD[5] | -0.5148 | 0.3139 | -1.0285 | -0.0073 | 1.0094 | 426.2749 |\n| aD[6] | -0.2510 | 0.3348 | -0.7907 |  0.2905 | 1.0088 | 482.2491 |\n| aD[7] | -0.0127 | 0.3604 | -0.5926 |  0.5529 | 1.0064 | 583.9418 |\n| aD[8] | -0.6187 | 0.3098 | -1.1287 | -0.1175 | 1.0109 | 409.6707 |\n| aD[9] | -0.4034 | 0.3232 | -0.9360 |  0.1084 | 1.0079 | 460.3337 |\n\n",
            "text/latex": "A data.frame: 11 × 6\n\\begin{tabular}{r|llllll}\n  & mean & sd & 5.5\\% & 94.5\\% & rhat & ess\\_bulk\\\\\n  & <dbl> & <dbl> & <dbl> & <dbl> & <dbl> & <dbl>\\\\\n\\hline\n\taG{[}1{]} & -1.3355 & 0.2997 & -1.8163 & -0.8392 & 1.0109 & 387.7263\\\\\n\taG{[}2{]} & -1.4506 & 0.3044 & -1.9392 & -0.9521 & 1.0099 & 400.5022\\\\\n\taD{[}1{]} &  0.0143 & 0.3394 & -0.5365 &  0.5553 & 1.0077 & 494.5110\\\\\n\taD{[}2{]} & -0.2375 & 0.3229 & -0.7700 &  0.2800 & 1.0103 & 413.8024\\\\\n\taD{[}3{]} & -0.4282 & 0.3141 & -0.9437 &  0.0822 & 1.0108 & 422.8992\\\\\n\taD{[}4{]} & -0.4585 & 0.3366 & -1.0078 &  0.0808 & 1.0068 & 500.5349\\\\\n\taD{[}5{]} & -0.5148 & 0.3139 & -1.0285 & -0.0073 & 1.0094 & 426.2749\\\\\n\taD{[}6{]} & -0.2510 & 0.3348 & -0.7907 &  0.2905 & 1.0088 & 482.2491\\\\\n\taD{[}7{]} & -0.0127 & 0.3604 & -0.5926 &  0.5529 & 1.0064 & 583.9418\\\\\n\taD{[}8{]} & -0.6187 & 0.3098 & -1.1287 & -0.1175 & 1.0109 & 409.6707\\\\\n\taD{[}9{]} & -0.4034 & 0.3232 & -0.9360 &  0.1084 & 1.0079 & 460.3337\\\\\n\\end{tabular}\n",
            "text/plain": [
              "      mean    sd     5.5%    94.5%   rhat   ess_bulk\n",
              "aG[1] -1.3355 0.2997 -1.8163 -0.8392 1.0109 387.7263\n",
              "aG[2] -1.4506 0.3044 -1.9392 -0.9521 1.0099 400.5022\n",
              "aD[1]  0.0143 0.3394 -0.5365  0.5553 1.0077 494.5110\n",
              "aD[2] -0.2375 0.3229 -0.7700  0.2800 1.0103 413.8024\n",
              "aD[3] -0.4282 0.3141 -0.9437  0.0822 1.0108 422.8992\n",
              "aD[4] -0.4585 0.3366 -1.0078  0.0808 1.0068 500.5349\n",
              "aD[5] -0.5148 0.3139 -1.0285 -0.0073 1.0094 426.2749\n",
              "aD[6] -0.2510 0.3348 -0.7907  0.2905 1.0088 482.2491\n",
              "aD[7] -0.0127 0.3604 -0.5926  0.5529 1.0064 583.9418\n",
              "aD[8] -0.6187 0.3098 -1.1287 -0.1175 1.0109 409.6707\n",
              "aD[9] -0.4034 0.3232 -0.9360  0.1084 1.0079 460.3337"
            ]
          },
          "metadata": {}
        }
      ]
    },
    {
      "cell_type": "code",
      "source": [
        "post_Pois_TE <- extract.samples(m_Pois_TE)\n",
        "post_Pois_DE <- extract.samples(m_Pois_DE)\n",
        "\n",
        "TE_diff_Pois <- exp(post_Pois_TE$aG[,1]) - exp(post_Pois_TE$aG[,2])\n",
        "DE_diff_Pois <- exp(post_Pois_DE$aG[,1]) - exp(post_Pois_DE$aG[,2])\n",
        "\n",
        "round(precis(list(TE_diff=TE_diff_Pois, DE_diff=DE_diff_Pois), hist=FALSE), 4)"
      ],
      "metadata": {
        "colab": {
          "base_uri": "https://localhost:8080/",
          "height": 161
        },
        "id": "hl0Qa3ALpH6h",
        "outputId": "efb06ced-3b1c-4f64-b158-887353b34e4a"
      },
      "execution_count": null,
      "outputs": [
        {
          "output_type": "display_data",
          "data": {
            "text/html": [
              "<table class=\"dataframe\">\n",
              "<caption>A data.frame: 2 × 4</caption>\n",
              "<thead>\n",
              "\t<tr><th></th><th scope=col>mean</th><th scope=col>sd</th><th scope=col>5.5%</th><th scope=col>94.5%</th></tr>\n",
              "\t<tr><th></th><th scope=col>&lt;dbl&gt;</th><th scope=col>&lt;dbl&gt;</th><th scope=col>&lt;dbl&gt;</th><th scope=col>&lt;dbl&gt;</th></tr>\n",
              "</thead>\n",
              "<tbody>\n",
              "\t<tr><th scope=row>TE_diff</th><td>0.0276</td><td>0.0158</td><td> 0.0020</td><td>0.0523</td></tr>\n",
              "\t<tr><th scope=row>DE_diff</th><td>0.0296</td><td>0.0285</td><td>-0.0109</td><td>0.0770</td></tr>\n",
              "</tbody>\n",
              "</table>\n"
            ],
            "text/markdown": "\nA data.frame: 2 × 4\n\n| <!--/--> | mean &lt;dbl&gt; | sd &lt;dbl&gt; | 5.5% &lt;dbl&gt; | 94.5% &lt;dbl&gt; |\n|---|---|---|---|---|\n| TE_diff | 0.0276 | 0.0158 |  0.0020 | 0.0523 |\n| DE_diff | 0.0296 | 0.0285 | -0.0109 | 0.0770 |\n\n",
            "text/latex": "A data.frame: 2 × 4\n\\begin{tabular}{r|llll}\n  & mean & sd & 5.5\\% & 94.5\\%\\\\\n  & <dbl> & <dbl> & <dbl> & <dbl>\\\\\n\\hline\n\tTE\\_diff & 0.0276 & 0.0158 &  0.0020 & 0.0523\\\\\n\tDE\\_diff & 0.0296 & 0.0285 & -0.0109 & 0.0770\\\\\n\\end{tabular}\n",
            "text/plain": [
              "        mean   sd     5.5%    94.5% \n",
              "TE_diff 0.0276 0.0158  0.0020 0.0523\n",
              "DE_diff 0.0296 0.0285 -0.0109 0.0770"
            ]
          },
          "metadata": {}
        }
      ]
    },
    {
      "cell_type": "markdown",
      "source": [
        "Comparing this to the binomial models, we get similar results."
      ],
      "metadata": {
        "id": "k30zC1u4pjUr"
      }
    },
    {
      "cell_type": "markdown",
      "source": [
        "### 11H5\n",
        "\n",
        "Suppose that the NWO Grants sample has an unobserved confound that influences both  choice of discipline and the probability of an award. One example of such a confound could be the  career stage of each applicant. Suppose that in some disciplines, junior scholars apply for most of the  grants. In other disciplines, scholars from all career stages compete. As a result, career stage influences  discipline as well as the probability of being awarded a grant.\n",
        "\n",
        "* Add these influences to your DAG from  the previous problem.\n",
        "* What happens now when you condition on discipline?\n",
        "* Does it provide an unconfounded estimate of the direct path from gender to an award? Why or why not? Justify your answer with the backdoor criterion.\n",
        "\n",
        "If you have trouble thinking this though, try simulating fake data, assuming your DAG is true. Then analyze it using the model from the previous problem.\n",
        "\n",
        "* What do you conclude?\n",
        "* Is it possible for gender to have a real direct causal influence but for a regression conditioning on both gender and discipline to suggest zero influence?"
      ],
      "metadata": {
        "id": "fpt2BDEfapnc"
      }
    },
    {
      "cell_type": "markdown",
      "source": [
        "#### Answers\n",
        "\n",
        "We'll piggyback off of the previous question, so make sure you've ran that code.\n",
        "\n",
        "First, we'll amend our previous DAG according to the question.  The question suggests that career stage (S) affects both application/award (A) and discipline (D).  But that S → D seems wrong to me; I imagine these are either independent of that the direction of causality goes the other way, S ← D.  So I'm going to assume this instead.  It also seems plausible that G → S."
      ],
      "metadata": {
        "id": "YGd0oSpabUJY"
      }
    },
    {
      "cell_type": "code",
      "source": [
        "library(dagitty)\n",
        "\n",
        "NWO_DAG <- dagitty(\"dag{\n",
        "  S <- G -> D -> A\n",
        "  G -> A <- S <- D\n",
        "}\")\n",
        "\n",
        "drawdag(NWO_DAG)"
      ],
      "metadata": {
        "colab": {
          "base_uri": "https://localhost:8080/",
          "height": 437
        },
        "id": "NtfiurCWbU7C",
        "outputId": "45fc72cc-8c65-4e0d-e2c3-a26e9b4bae2e"
      },
      "execution_count": null,
      "outputs": [
        {
          "output_type": "display_data",
          "data": {
            "text/plain": [
              "plot without title"
            ],
            "image/png": "[encoded data removed]"
          },
          "metadata": {
            "image/png": {
              "width": 420,
              "height": 420
            }
          }
        }
      ]
    },
    {
      "cell_type": "markdown",
      "source": [
        "I think, given these assumptions, that we'll always get an unbiased estimated of the effect of G on A; total effect if we don't condition on anything else and direct effect if we condition on D and S.  But interpretting DAGs can become difficult.  Already, I'm having trouble keeping all of the pieces in my head.  For instance, will conditioning on the collider at S cause a biased estimate?  This is where simulation is important."
      ],
      "metadata": {
        "id": "JaHAh1PreexP"
      }
    },
    {
      "cell_type": "code",
      "source": [
        "n <- 1000\n",
        "G <- rbern(n=n, p=0.6) # male=1, female=0\n",
        "D <- rbern(n=n, p=inv_logit(G)) +\n",
        "     rbern(n=n, p=inv_logit(G)) # make 3 different disciplines\n",
        "S <- runif(n=n, min=0, max=inv_logit(G + D))\n",
        "A <- rbern(n=n, p=inv_logit(1*G + 1*D + 1.1*S))\n",
        "\n",
        "sim_dat <- list(G=as.integer(G), D=as.integer(D+1), S=S, A=A)\n",
        "str(sim_dat)"
      ],
      "metadata": {
        "colab": {
          "base_uri": "https://localhost:8080/"
        },
        "id": "fDP27D8_mEk2",
        "outputId": "be731699-9447-4023-8dd6-2c70f57a20a2"
      },
      "execution_count": null,
      "outputs": [
        {
          "output_type": "stream",
          "name": "stdout",
          "text": [
            "List of 4\n",
            " $ G: int [1:1000] 0 1 0 1 1 0 1 1 0 1 ...\n",
            " $ D: int [1:1000] 2 2 2 2 2 2 3 3 2 3 ...\n",
            " $ S: num [1:1000] 0.208 0.804 0.179 0.642 0.311 ...\n",
            " $ A: int [1:1000] 1 1 0 1 0 0 1 1 1 1 ...\n"
          ]
        }
      ]
    },
    {
      "cell_type": "code",
      "source": [
        "sim_mod1 <- ulam(\n",
        "  alist(\n",
        "    A ~ dbinom(1, p),\n",
        "      logit(p) <- a_G*G,\n",
        "        a_G ~ dnorm(0,1)\n",
        "  ), data=sim_dat,\n",
        "     chains=4,\n",
        "     cores=4\n",
        ")\n",
        "\n",
        "sim_mod2 <- ulam(\n",
        "  alist(\n",
        "    A ~ dbinom(1, p),\n",
        "      logit(p) <- a_G*G + a_D[D],\n",
        "        a_G ~ dnorm(0,1),\n",
        "        a_D[D] ~ dnorm(0,1)\n",
        "  ), data=sim_dat,\n",
        "     chains=4,\n",
        "     cores=4\n",
        ")\n",
        "\n",
        "sim_mod3 <- ulam(\n",
        "  alist(\n",
        "    A ~ dbinom(1, p),\n",
        "      logit(p) <- a_G*G + a_D[D] + b_S*S,\n",
        "        a_G ~ dnorm(0,1),\n",
        "        a_D[D] ~ dnorm(0,1),\n",
        "        b_S ~ dnorm(0,1)\n",
        "  ), data=sim_dat,\n",
        "     chains=4,\n",
        "     cores=4\n",
        ")"
      ],
      "metadata": {
        "id": "KW3Kcj5apGAK",
        "colab": {
          "base_uri": "https://localhost:8080/"
        },
        "outputId": "3b13c966-d3ff-4d8f-c892-a5d0d3fe51b7"
      },
      "execution_count": null,
      "outputs": [
        {
          "output_type": "stream",
          "name": "stdout",
          "text": [
            "Running MCMC with 4 parallel chains, with 1 thread(s) per chain...\n",
            "\n",
            "Chain 1 Iteration:   1 / 1000 [  0%]  (Warmup) \n",
            "Chain 1 Iteration: 100 / 1000 [ 10%]  (Warmup) \n",
            "Chain 2 Iteration:   1 / 1000 [  0%]  (Warmup) \n",
            "Chain 2 Iteration: 100 / 1000 [ 10%]  (Warmup) \n",
            "Chain 3 Iteration:   1 / 1000 [  0%]  (Warmup) \n",
            "Chain 3 Iteration: 100 / 1000 [ 10%]  (Warmup) \n",
            "Chain 4 Iteration:   1 / 1000 [  0%]  (Warmup) \n",
            "Chain 4 Iteration: 100 / 1000 [ 10%]  (Warmup) \n",
            "Chain 1 Iteration: 200 / 1000 [ 20%]  (Warmup) \n",
            "Chain 2 Iteration: 200 / 1000 [ 20%]  (Warmup) \n",
            "Chain 2 Iteration: 300 / 1000 [ 30%]  (Warmup) \n",
            "Chain 4 Iteration: 200 / 1000 [ 20%]  (Warmup) \n",
            "Chain 1 Iteration: 300 / 1000 [ 30%]  (Warmup) \n",
            "Chain 3 Iteration: 200 / 1000 [ 20%]  (Warmup) \n",
            "Chain 2 Iteration: 400 / 1000 [ 40%]  (Warmup) \n",
            "Chain 4 Iteration: 300 / 1000 [ 30%]  (Warmup) \n",
            "Chain 1 Iteration: 400 / 1000 [ 40%]  (Warmup) \n",
            "Chain 3 Iteration: 300 / 1000 [ 30%]  (Warmup) \n",
            "Chain 2 Iteration: 500 / 1000 [ 50%]  (Warmup) \n",
            "Chain 2 Iteration: 501 / 1000 [ 50%]  (Sampling) \n",
            "Chain 3 Iteration: 400 / 1000 [ 40%]  (Warmup) \n",
            "Chain 4 Iteration: 400 / 1000 [ 40%]  (Warmup) \n",
            "Chain 1 Iteration: 500 / 1000 [ 50%]  (Warmup) \n",
            "Chain 1 Iteration: 501 / 1000 [ 50%]  (Sampling) \n",
            "Chain 2 Iteration: 600 / 1000 [ 60%]  (Sampling) \n",
            "Chain 3 Iteration: 500 / 1000 [ 50%]  (Warmup) \n",
            "Chain 3 Iteration: 501 / 1000 [ 50%]  (Sampling) \n",
            "Chain 4 Iteration: 500 / 1000 [ 50%]  (Warmup) \n",
            "Chain 4 Iteration: 501 / 1000 [ 50%]  (Sampling) \n",
            "Chain 1 Iteration: 600 / 1000 [ 60%]  (Sampling) \n",
            "Chain 1 Iteration: 700 / 1000 [ 70%]  (Sampling) \n",
            "Chain 2 Iteration: 700 / 1000 [ 70%]  (Sampling) \n",
            "Chain 3 Iteration: 600 / 1000 [ 60%]  (Sampling) \n",
            "Chain 4 Iteration: 600 / 1000 [ 60%]  (Sampling) \n",
            "Chain 3 Iteration: 700 / 1000 [ 70%]  (Sampling) \n",
            "Chain 4 Iteration: 700 / 1000 [ 70%]  (Sampling) \n",
            "Chain 1 Iteration: 800 / 1000 [ 80%]  (Sampling) \n",
            "Chain 2 Iteration: 800 / 1000 [ 80%]  (Sampling) \n",
            "Chain 4 Iteration: 800 / 1000 [ 80%]  (Sampling) \n",
            "Chain 2 Iteration: 900 / 1000 [ 90%]  (Sampling) \n",
            "Chain 3 Iteration: 800 / 1000 [ 80%]  (Sampling) \n",
            "Chain 1 Iteration: 900 / 1000 [ 90%]  (Sampling) \n",
            "Chain 3 Iteration: 900 / 1000 [ 90%]  (Sampling) \n",
            "Chain 4 Iteration: 900 / 1000 [ 90%]  (Sampling) \n",
            "Chain 1 Iteration: 1000 / 1000 [100%]  (Sampling) \n",
            "Chain 2 Iteration: 1000 / 1000 [100%]  (Sampling) \n",
            "Chain 3 Iteration: 1000 / 1000 [100%]  (Sampling) \n",
            "Chain 4 Iteration: 1000 / 1000 [100%]  (Sampling) \n",
            "Chain 1 finished in 2.0 seconds.\n",
            "Chain 2 finished in 1.9 seconds.\n",
            "Chain 3 finished in 1.9 seconds.\n",
            "Chain 4 finished in 1.8 seconds.\n",
            "\n",
            "All 4 chains finished successfully.\n",
            "Mean chain execution time: 1.9 seconds.\n",
            "Total execution time: 2.1 seconds.\n",
            "\n",
            "Running MCMC with 4 parallel chains, with 1 thread(s) per chain...\n",
            "\n",
            "Chain 1 Iteration:   1 / 1000 [  0%]  (Warmup) \n",
            "Chain 1 Iteration: 100 / 1000 [ 10%]  (Warmup) \n",
            "Chain 2 Iteration:   1 / 1000 [  0%]  (Warmup) \n",
            "Chain 3 Iteration:   1 / 1000 [  0%]  (Warmup) \n",
            "Chain 4 Iteration:   1 / 1000 [  0%]  (Warmup) \n",
            "Chain 2 Iteration: 100 / 1000 [ 10%]  (Warmup) \n",
            "Chain 3 Iteration: 100 / 1000 [ 10%]  (Warmup) \n",
            "Chain 4 Iteration: 100 / 1000 [ 10%]  (Warmup) \n",
            "Chain 1 Iteration: 200 / 1000 [ 20%]  (Warmup) \n",
            "Chain 2 Iteration: 200 / 1000 [ 20%]  (Warmup) \n",
            "Chain 3 Iteration: 200 / 1000 [ 20%]  (Warmup) \n",
            "Chain 4 Iteration: 200 / 1000 [ 20%]  (Warmup) \n",
            "Chain 1 Iteration: 300 / 1000 [ 30%]  (Warmup) \n",
            "Chain 2 Iteration: 300 / 1000 [ 30%]  (Warmup) \n",
            "Chain 4 Iteration: 300 / 1000 [ 30%]  (Warmup) \n",
            "Chain 1 Iteration: 400 / 1000 [ 40%]  (Warmup) \n",
            "Chain 3 Iteration: 300 / 1000 [ 30%]  (Warmup) \n",
            "Chain 2 Iteration: 400 / 1000 [ 40%]  (Warmup) \n",
            "Chain 4 Iteration: 400 / 1000 [ 40%]  (Warmup) \n",
            "Chain 3 Iteration: 400 / 1000 [ 40%]  (Warmup) \n",
            "Chain 1 Iteration: 500 / 1000 [ 50%]  (Warmup) \n",
            "Chain 1 Iteration: 501 / 1000 [ 50%]  (Sampling) \n",
            "Chain 2 Iteration: 500 / 1000 [ 50%]  (Warmup) \n",
            "Chain 2 Iteration: 501 / 1000 [ 50%]  (Sampling) \n",
            "Chain 4 Iteration: 500 / 1000 [ 50%]  (Warmup) \n",
            "Chain 4 Iteration: 501 / 1000 [ 50%]  (Sampling) \n",
            "Chain 2 Iteration: 600 / 1000 [ 60%]  (Sampling) \n",
            "Chain 3 Iteration: 500 / 1000 [ 50%]  (Warmup) \n",
            "Chain 3 Iteration: 501 / 1000 [ 50%]  (Sampling) \n",
            "Chain 1 Iteration: 600 / 1000 [ 60%]  (Sampling) \n",
            "Chain 4 Iteration: 600 / 1000 [ 60%]  (Sampling) \n",
            "Chain 1 Iteration: 700 / 1000 [ 70%]  (Sampling) \n",
            "Chain 2 Iteration: 700 / 1000 [ 70%]  (Sampling) \n",
            "Chain 3 Iteration: 600 / 1000 [ 60%]  (Sampling) \n",
            "Chain 4 Iteration: 700 / 1000 [ 70%]  (Sampling) \n",
            "Chain 2 Iteration: 800 / 1000 [ 80%]  (Sampling) \n",
            "Chain 3 Iteration: 700 / 1000 [ 70%]  (Sampling) \n",
            "Chain 1 Iteration: 800 / 1000 [ 80%]  (Sampling) \n",
            "Chain 4 Iteration: 800 / 1000 [ 80%]  (Sampling) \n",
            "Chain 2 Iteration: 900 / 1000 [ 90%]  (Sampling) \n",
            "Chain 1 Iteration: 900 / 1000 [ 90%]  (Sampling) \n",
            "Chain 3 Iteration: 800 / 1000 [ 80%]  (Sampling) \n",
            "Chain 4 Iteration: 900 / 1000 [ 90%]  (Sampling) \n",
            "Chain 1 Iteration: 1000 / 1000 [100%]  (Sampling) \n",
            "Chain 2 Iteration: 1000 / 1000 [100%]  (Sampling) \n",
            "Chain 3 Iteration: 900 / 1000 [ 90%]  (Sampling) \n",
            "Chain 4 Iteration: 1000 / 1000 [100%]  (Sampling) \n",
            "Chain 1 finished in 2.6 seconds.\n",
            "Chain 2 finished in 2.5 seconds.\n",
            "Chain 4 finished in 2.5 seconds.\n",
            "Chain 3 Iteration: 1000 / 1000 [100%]  (Sampling) \n",
            "Chain 3 finished in 2.6 seconds.\n",
            "\n",
            "All 4 chains finished successfully.\n",
            "Mean chain execution time: 2.5 seconds.\n",
            "Total execution time: 2.7 seconds.\n",
            "\n",
            "Running MCMC with 4 parallel chains, with 1 thread(s) per chain...\n",
            "\n",
            "Chain 1 Iteration:   1 / 1000 [  0%]  (Warmup) \n",
            "Chain 2 Iteration:   1 / 1000 [  0%]  (Warmup) \n",
            "Chain 3 Iteration:   1 / 1000 [  0%]  (Warmup) \n",
            "Chain 4 Iteration:   1 / 1000 [  0%]  (Warmup) \n",
            "Chain 1 Iteration: 100 / 1000 [ 10%]  (Warmup) \n",
            "Chain 2 Iteration: 100 / 1000 [ 10%]  (Warmup) \n",
            "Chain 3 Iteration: 100 / 1000 [ 10%]  (Warmup) \n",
            "Chain 4 Iteration: 100 / 1000 [ 10%]  (Warmup) \n",
            "Chain 1 Iteration: 200 / 1000 [ 20%]  (Warmup) \n",
            "Chain 2 Iteration: 200 / 1000 [ 20%]  (Warmup) \n",
            "Chain 3 Iteration: 200 / 1000 [ 20%]  (Warmup) \n",
            "Chain 4 Iteration: 200 / 1000 [ 20%]  (Warmup) \n",
            "Chain 1 Iteration: 300 / 1000 [ 30%]  (Warmup) \n",
            "Chain 3 Iteration: 300 / 1000 [ 30%]  (Warmup) \n",
            "Chain 2 Iteration: 300 / 1000 [ 30%]  (Warmup) \n",
            "Chain 1 Iteration: 400 / 1000 [ 40%]  (Warmup) \n",
            "Chain 4 Iteration: 300 / 1000 [ 30%]  (Warmup) \n",
            "Chain 3 Iteration: 400 / 1000 [ 40%]  (Warmup) \n",
            "Chain 2 Iteration: 400 / 1000 [ 40%]  (Warmup) \n",
            "Chain 4 Iteration: 400 / 1000 [ 40%]  (Warmup) \n",
            "Chain 1 Iteration: 500 / 1000 [ 50%]  (Warmup) \n",
            "Chain 1 Iteration: 501 / 1000 [ 50%]  (Sampling) \n",
            "Chain 2 Iteration: 500 / 1000 [ 50%]  (Warmup) \n",
            "Chain 2 Iteration: 501 / 1000 [ 50%]  (Sampling) \n",
            "Chain 3 Iteration: 500 / 1000 [ 50%]  (Warmup) \n",
            "Chain 3 Iteration: 501 / 1000 [ 50%]  (Sampling) \n",
            "Chain 1 Iteration: 600 / 1000 [ 60%]  (Sampling) \n",
            "Chain 4 Iteration: 500 / 1000 [ 50%]  (Warmup) \n",
            "Chain 4 Iteration: 501 / 1000 [ 50%]  (Sampling) \n",
            "Chain 2 Iteration: 600 / 1000 [ 60%]  (Sampling) \n",
            "Chain 3 Iteration: 600 / 1000 [ 60%]  (Sampling) \n",
            "Chain 1 Iteration: 700 / 1000 [ 70%]  (Sampling) \n",
            "Chain 4 Iteration: 600 / 1000 [ 60%]  (Sampling) \n",
            "Chain 2 Iteration: 700 / 1000 [ 70%]  (Sampling) \n",
            "Chain 3 Iteration: 700 / 1000 [ 70%]  (Sampling) \n",
            "Chain 1 Iteration: 800 / 1000 [ 80%]  (Sampling) \n",
            "Chain 2 Iteration: 800 / 1000 [ 80%]  (Sampling) \n",
            "Chain 4 Iteration: 700 / 1000 [ 70%]  (Sampling) \n",
            "Chain 3 Iteration: 800 / 1000 [ 80%]  (Sampling) \n",
            "Chain 1 Iteration: 900 / 1000 [ 90%]  (Sampling) \n",
            "Chain 4 Iteration: 800 / 1000 [ 80%]  (Sampling) \n",
            "Chain 2 Iteration: 900 / 1000 [ 90%]  (Sampling) \n",
            "Chain 1 Iteration: 1000 / 1000 [100%]  (Sampling) \n",
            "Chain 3 Iteration: 900 / 1000 [ 90%]  (Sampling) \n",
            "Chain 1 finished in 5.2 seconds.\n",
            "Chain 4 Iteration: 900 / 1000 [ 90%]  (Sampling) \n",
            "Chain 2 Iteration: 1000 / 1000 [100%]  (Sampling) \n",
            "Chain 3 Iteration: 1000 / 1000 [100%]  (Sampling) \n",
            "Chain 2 finished in 5.3 seconds.\n",
            "Chain 3 finished in 5.3 seconds.\n",
            "Chain 4 Iteration: 1000 / 1000 [100%]  (Sampling) \n",
            "Chain 4 finished in 5.3 seconds.\n",
            "\n",
            "All 4 chains finished successfully.\n",
            "Mean chain execution time: 5.3 seconds.\n",
            "Total execution time: 5.5 seconds.\n",
            "\n"
          ]
        }
      ]
    },
    {
      "cell_type": "code",
      "source": [
        "round(precis(sim_mod1, depth=2), 2)\n",
        "round(precis(sim_mod2, depth=2), 2)\n",
        "round(precis(sim_mod3, depth=2), 2)"
      ],
      "metadata": {
        "colab": {
          "base_uri": "https://localhost:8080/",
          "height": 573
        },
        "id": "lmvf4rQjyfhO",
        "outputId": "7e96f577-6cb8-4b18-ff98-e7030acf8c9f"
      },
      "execution_count": null,
      "outputs": [
        {
          "output_type": "display_data",
          "data": {
            "text/html": [
              "<table class=\"dataframe\">\n",
              "<caption>A data.frame: 1 × 6</caption>\n",
              "<thead>\n",
              "\t<tr><th></th><th scope=col>mean</th><th scope=col>sd</th><th scope=col>5.5%</th><th scope=col>94.5%</th><th scope=col>rhat</th><th scope=col>ess_bulk</th></tr>\n",
              "\t<tr><th></th><th scope=col>&lt;dbl&gt;</th><th scope=col>&lt;dbl&gt;</th><th scope=col>&lt;dbl&gt;</th><th scope=col>&lt;dbl&gt;</th><th scope=col>&lt;dbl&gt;</th><th scope=col>&lt;dbl&gt;</th></tr>\n",
              "</thead>\n",
              "<tbody>\n",
              "\t<tr><th scope=row>a_G</th><td>2.71</td><td>0.17</td><td>2.45</td><td>2.98</td><td>1.01</td><td>610.53</td></tr>\n",
              "</tbody>\n",
              "</table>\n"
            ],
            "text/markdown": "\nA data.frame: 1 × 6\n\n| <!--/--> | mean &lt;dbl&gt; | sd &lt;dbl&gt; | 5.5% &lt;dbl&gt; | 94.5% &lt;dbl&gt; | rhat &lt;dbl&gt; | ess_bulk &lt;dbl&gt; |\n|---|---|---|---|---|---|---|\n| a_G | 2.71 | 0.17 | 2.45 | 2.98 | 1.01 | 610.53 |\n\n",
            "text/latex": "A data.frame: 1 × 6\n\\begin{tabular}{r|llllll}\n  & mean & sd & 5.5\\% & 94.5\\% & rhat & ess\\_bulk\\\\\n  & <dbl> & <dbl> & <dbl> & <dbl> & <dbl> & <dbl>\\\\\n\\hline\n\ta\\_G & 2.71 & 0.17 & 2.45 & 2.98 & 1.01 & 610.53\\\\\n\\end{tabular}\n",
            "text/plain": [
              "    mean sd   5.5% 94.5% rhat ess_bulk\n",
              "a_G 2.71 0.17 2.45 2.98  1.01 610.53  "
            ]
          },
          "metadata": {}
        },
        {
          "output_type": "display_data",
          "data": {
            "text/html": [
              "<table class=\"dataframe\">\n",
              "<caption>A data.frame: 4 × 6</caption>\n",
              "<thead>\n",
              "\t<tr><th></th><th scope=col>mean</th><th scope=col>sd</th><th scope=col>5.5%</th><th scope=col>94.5%</th><th scope=col>rhat</th><th scope=col>ess_bulk</th></tr>\n",
              "\t<tr><th></th><th scope=col>&lt;dbl&gt;</th><th scope=col>&lt;dbl&gt;</th><th scope=col>&lt;dbl&gt;</th><th scope=col>&lt;dbl&gt;</th><th scope=col>&lt;dbl&gt;</th><th scope=col>&lt;dbl&gt;</th></tr>\n",
              "</thead>\n",
              "<tbody>\n",
              "\t<tr><th scope=row>a_G</th><td>1.33</td><td>0.21</td><td> 1.01</td><td>1.67</td><td>1</td><td>1407.64</td></tr>\n",
              "\t<tr><th scope=row>a_D[1]</th><td>0.21</td><td>0.19</td><td>-0.09</td><td>0.51</td><td>1</td><td>1757.89</td></tr>\n",
              "\t<tr><th scope=row>a_D[2]</th><td>0.98</td><td>0.14</td><td> 0.76</td><td>1.20</td><td>1</td><td>1388.03</td></tr>\n",
              "\t<tr><th scope=row>a_D[3]</th><td>2.27</td><td>0.26</td><td> 1.86</td><td>2.70</td><td>1</td><td>1484.96</td></tr>\n",
              "</tbody>\n",
              "</table>\n"
            ],
            "text/markdown": "\nA data.frame: 4 × 6\n\n| <!--/--> | mean &lt;dbl&gt; | sd &lt;dbl&gt; | 5.5% &lt;dbl&gt; | 94.5% &lt;dbl&gt; | rhat &lt;dbl&gt; | ess_bulk &lt;dbl&gt; |\n|---|---|---|---|---|---|---|\n| a_G | 1.33 | 0.21 |  1.01 | 1.67 | 1 | 1407.64 |\n| a_D[1] | 0.21 | 0.19 | -0.09 | 0.51 | 1 | 1757.89 |\n| a_D[2] | 0.98 | 0.14 |  0.76 | 1.20 | 1 | 1388.03 |\n| a_D[3] | 2.27 | 0.26 |  1.86 | 2.70 | 1 | 1484.96 |\n\n",
            "text/latex": "A data.frame: 4 × 6\n\\begin{tabular}{r|llllll}\n  & mean & sd & 5.5\\% & 94.5\\% & rhat & ess\\_bulk\\\\\n  & <dbl> & <dbl> & <dbl> & <dbl> & <dbl> & <dbl>\\\\\n\\hline\n\ta\\_G & 1.33 & 0.21 &  1.01 & 1.67 & 1 & 1407.64\\\\\n\ta\\_D{[}1{]} & 0.21 & 0.19 & -0.09 & 0.51 & 1 & 1757.89\\\\\n\ta\\_D{[}2{]} & 0.98 & 0.14 &  0.76 & 1.20 & 1 & 1388.03\\\\\n\ta\\_D{[}3{]} & 2.27 & 0.26 &  1.86 & 2.70 & 1 & 1484.96\\\\\n\\end{tabular}\n",
            "text/plain": [
              "       mean sd   5.5%  94.5% rhat ess_bulk\n",
              "a_G    1.33 0.21  1.01 1.67  1    1407.64 \n",
              "a_D[1] 0.21 0.19 -0.09 0.51  1    1757.89 \n",
              "a_D[2] 0.98 0.14  0.76 1.20  1    1388.03 \n",
              "a_D[3] 2.27 0.26  1.86 2.70  1    1484.96 "
            ]
          },
          "metadata": {}
        },
        {
          "output_type": "display_data",
          "data": {
            "text/html": [
              "<table class=\"dataframe\">\n",
              "<caption>A data.frame: 5 × 6</caption>\n",
              "<thead>\n",
              "\t<tr><th></th><th scope=col>mean</th><th scope=col>sd</th><th scope=col>5.5%</th><th scope=col>94.5%</th><th scope=col>rhat</th><th scope=col>ess_bulk</th></tr>\n",
              "\t<tr><th></th><th scope=col>&lt;dbl&gt;</th><th scope=col>&lt;dbl&gt;</th><th scope=col>&lt;dbl&gt;</th><th scope=col>&lt;dbl&gt;</th><th scope=col>&lt;dbl&gt;</th><th scope=col>&lt;dbl&gt;</th></tr>\n",
              "</thead>\n",
              "<tbody>\n",
              "\t<tr><th scope=row>a_G</th><td> 1.20</td><td>0.22</td><td> 0.86</td><td>1.55</td><td>1</td><td>1118.41</td></tr>\n",
              "\t<tr><th scope=row>a_D[1]</th><td>-0.19</td><td>0.20</td><td>-0.52</td><td>0.13</td><td>1</td><td>1066.85</td></tr>\n",
              "\t<tr><th scope=row>a_D[2]</th><td> 0.46</td><td>0.20</td><td> 0.13</td><td>0.77</td><td>1</td><td>1058.29</td></tr>\n",
              "\t<tr><th scope=row>a_D[3]</th><td> 1.73</td><td>0.30</td><td> 1.25</td><td>2.21</td><td>1</td><td>1069.37</td></tr>\n",
              "\t<tr><th scope=row>b_S</th><td> 1.59</td><td>0.41</td><td> 0.94</td><td>2.27</td><td>1</td><td> 967.47</td></tr>\n",
              "</tbody>\n",
              "</table>\n"
            ],
            "text/markdown": "\nA data.frame: 5 × 6\n\n| <!--/--> | mean &lt;dbl&gt; | sd &lt;dbl&gt; | 5.5% &lt;dbl&gt; | 94.5% &lt;dbl&gt; | rhat &lt;dbl&gt; | ess_bulk &lt;dbl&gt; |\n|---|---|---|---|---|---|---|\n| a_G |  1.20 | 0.22 |  0.86 | 1.55 | 1 | 1118.41 |\n| a_D[1] | -0.19 | 0.20 | -0.52 | 0.13 | 1 | 1066.85 |\n| a_D[2] |  0.46 | 0.20 |  0.13 | 0.77 | 1 | 1058.29 |\n| a_D[3] |  1.73 | 0.30 |  1.25 | 2.21 | 1 | 1069.37 |\n| b_S |  1.59 | 0.41 |  0.94 | 2.27 | 1 |  967.47 |\n\n",
            "text/latex": "A data.frame: 5 × 6\n\\begin{tabular}{r|llllll}\n  & mean & sd & 5.5\\% & 94.5\\% & rhat & ess\\_bulk\\\\\n  & <dbl> & <dbl> & <dbl> & <dbl> & <dbl> & <dbl>\\\\\n\\hline\n\ta\\_G &  1.20 & 0.22 &  0.86 & 1.55 & 1 & 1118.41\\\\\n\ta\\_D{[}1{]} & -0.19 & 0.20 & -0.52 & 0.13 & 1 & 1066.85\\\\\n\ta\\_D{[}2{]} &  0.46 & 0.20 &  0.13 & 0.77 & 1 & 1058.29\\\\\n\ta\\_D{[}3{]} &  1.73 & 0.30 &  1.25 & 2.21 & 1 & 1069.37\\\\\n\tb\\_S &  1.59 & 0.41 &  0.94 & 2.27 & 1 &  967.47\\\\\n\\end{tabular}\n",
            "text/plain": [
              "       mean  sd   5.5%  94.5% rhat ess_bulk\n",
              "a_G     1.20 0.22  0.86 1.55  1    1118.41 \n",
              "a_D[1] -0.19 0.20 -0.52 0.13  1    1066.85 \n",
              "a_D[2]  0.46 0.20  0.13 0.77  1    1058.29 \n",
              "a_D[3]  1.73 0.30  1.25 2.21  1    1069.37 \n",
              "b_S     1.59 0.41  0.94 2.27  1     967.47 "
            ]
          },
          "metadata": {}
        }
      ]
    },
    {
      "cell_type": "markdown",
      "source": [
        "Across each model, `a_G` is the advantage of gender.  \n",
        "\n",
        "Do we get an unbiased estimate?  Remember, we engineered `G` to have a coefficient of `1` for `A`.  However, our estimates (`a_G`) are slightly biased upward."
      ],
      "metadata": {
        "id": "-in6fS2Rxlls"
      }
    },
    {
      "cell_type": "markdown",
      "source": [
        "### 11H6\n",
        "\n",
        "The data in `data(Primates301)` are 301 primate species and associated measures. In this problem, you will consider how brain size is associated with social learning. There are three parts.  \n",
        "\n",
        "> (a) Model the number of observations of `social_learning` for each species as a function of the  log `brain` size. Use a Poisson distribution for the `social_learning` outcome variable. Interpret the resulting posterior.\n",
        "\n",
        "> (b) Some species are studied much more than others. So the number of reported instances of social_learning could be a product of research effort. Use the `research_effort` variable, specifically its logarithm, as an additional predictor variable. Interpret the coefficient for log `research_effort`. How does this model differ from the previous one?\n",
        "\n",
        "> (c) Draw a DAG to represent how you think the variables `social_learning`, brain, and research_effort interact. Justify the  DAG with the measured associations in the two models above (and any other models you used)."
      ],
      "metadata": {
        "id": "7popyEKEreQx"
      }
    },
    {
      "cell_type": "markdown",
      "source": [
        "#### Answers\n",
        "Let's start by looking at the data."
      ],
      "metadata": {
        "id": "nt2wmNA5uTOt"
      }
    },
    {
      "cell_type": "code",
      "source": [
        "data(Primates301)\n",
        "d <- Primates301\n",
        "head(d)"
      ],
      "metadata": {
        "colab": {
          "base_uri": "https://localhost:8080/",
          "height": 306
        },
        "id": "BWZ1z4FBuYJX",
        "outputId": "a7560e14-b781-48c8-da09-5cc90360f7b8"
      },
      "execution_count": 7,
      "outputs": [
        {
          "output_type": "display_data",
          "data": {
            "text/html": [
              "<table class=\"dataframe\">\n",
              "<caption>A data.frame: 6 × 16</caption>\n",
              "<thead>\n",
              "\t<tr><th></th><th scope=col>name</th><th scope=col>genus</th><th scope=col>species</th><th scope=col>subspecies</th><th scope=col>spp_id</th><th scope=col>genus_id</th><th scope=col>social_learning</th><th scope=col>research_effort</th><th scope=col>brain</th><th scope=col>body</th><th scope=col>group_size</th><th scope=col>gestation</th><th scope=col>weaning</th><th scope=col>longevity</th><th scope=col>sex_maturity</th><th scope=col>maternal_investment</th></tr>\n",
              "\t<tr><th></th><th scope=col>&lt;fct&gt;</th><th scope=col>&lt;fct&gt;</th><th scope=col>&lt;fct&gt;</th><th scope=col>&lt;fct&gt;</th><th scope=col>&lt;int&gt;</th><th scope=col>&lt;int&gt;</th><th scope=col>&lt;int&gt;</th><th scope=col>&lt;int&gt;</th><th scope=col>&lt;dbl&gt;</th><th scope=col>&lt;dbl&gt;</th><th scope=col>&lt;dbl&gt;</th><th scope=col>&lt;dbl&gt;</th><th scope=col>&lt;dbl&gt;</th><th scope=col>&lt;dbl&gt;</th><th scope=col>&lt;dbl&gt;</th><th scope=col>&lt;dbl&gt;</th></tr>\n",
              "</thead>\n",
              "<tbody>\n",
              "\t<tr><th scope=row>1</th><td>Allenopithecus_nigroviridis</td><td>Allenopithecus</td><td>nigroviridis</td><td>NA</td><td>1</td><td>1</td><td>0</td><td> 6</td><td>58.02</td><td>4655.00</td><td>40.0</td><td>    NA</td><td>106.15</td><td>276.0</td><td>     NA</td><td>    NA</td></tr>\n",
              "\t<tr><th scope=row>2</th><td>Allocebus_trichotis        </td><td>Allocebus     </td><td>trichotis   </td><td>NA</td><td>2</td><td>2</td><td>0</td><td> 6</td><td>   NA</td><td>  78.09</td><td> 1.0</td><td>    NA</td><td>    NA</td><td>   NA</td><td>     NA</td><td>    NA</td></tr>\n",
              "\t<tr><th scope=row>3</th><td>Alouatta_belzebul          </td><td>Alouatta      </td><td>belzebul    </td><td>NA</td><td>3</td><td>3</td><td>0</td><td>15</td><td>52.84</td><td>6395.00</td><td> 7.4</td><td>    NA</td><td>    NA</td><td>   NA</td><td>     NA</td><td>    NA</td></tr>\n",
              "\t<tr><th scope=row>4</th><td>Alouatta_caraya            </td><td>Alouatta      </td><td>caraya      </td><td>NA</td><td>4</td><td>3</td><td>0</td><td>45</td><td>52.63</td><td>5383.00</td><td> 8.9</td><td>185.92</td><td>323.16</td><td>243.6</td><td>1276.72</td><td>509.08</td></tr>\n",
              "\t<tr><th scope=row>5</th><td>Alouatta_guariba           </td><td>Alouatta      </td><td>guariba     </td><td>NA</td><td>5</td><td>3</td><td>0</td><td>37</td><td>51.70</td><td>5175.00</td><td> 7.4</td><td>    NA</td><td>    NA</td><td>   NA</td><td>     NA</td><td>    NA</td></tr>\n",
              "\t<tr><th scope=row>6</th><td>Alouatta_palliata          </td><td>Alouatta      </td><td>palliata    </td><td>NA</td><td>6</td><td>3</td><td>3</td><td>79</td><td>49.88</td><td>6250.00</td><td>13.1</td><td>185.42</td><td>495.60</td><td>300.0</td><td>1578.42</td><td>681.02</td></tr>\n",
              "</tbody>\n",
              "</table>\n"
            ],
            "text/markdown": "\nA data.frame: 6 × 16\n\n| <!--/--> | name &lt;fct&gt; | genus &lt;fct&gt; | species &lt;fct&gt; | subspecies &lt;fct&gt; | spp_id &lt;int&gt; | genus_id &lt;int&gt; | social_learning &lt;int&gt; | research_effort &lt;int&gt; | brain &lt;dbl&gt; | body &lt;dbl&gt; | group_size &lt;dbl&gt; | gestation &lt;dbl&gt; | weaning &lt;dbl&gt; | longevity &lt;dbl&gt; | sex_maturity &lt;dbl&gt; | maternal_investment &lt;dbl&gt; |\n|---|---|---|---|---|---|---|---|---|---|---|---|---|---|---|---|---|\n| 1 | Allenopithecus_nigroviridis | Allenopithecus | nigroviridis | NA | 1 | 1 | 0 |  6 | 58.02 | 4655.00 | 40.0 |     NA | 106.15 | 276.0 |      NA |     NA |\n| 2 | Allocebus_trichotis         | Allocebus      | trichotis    | NA | 2 | 2 | 0 |  6 |    NA |   78.09 |  1.0 |     NA |     NA |    NA |      NA |     NA |\n| 3 | Alouatta_belzebul           | Alouatta       | belzebul     | NA | 3 | 3 | 0 | 15 | 52.84 | 6395.00 |  7.4 |     NA |     NA |    NA |      NA |     NA |\n| 4 | Alouatta_caraya             | Alouatta       | caraya       | NA | 4 | 3 | 0 | 45 | 52.63 | 5383.00 |  8.9 | 185.92 | 323.16 | 243.6 | 1276.72 | 509.08 |\n| 5 | Alouatta_guariba            | Alouatta       | guariba      | NA | 5 | 3 | 0 | 37 | 51.70 | 5175.00 |  7.4 |     NA |     NA |    NA |      NA |     NA |\n| 6 | Alouatta_palliata           | Alouatta       | palliata     | NA | 6 | 3 | 3 | 79 | 49.88 | 6250.00 | 13.1 | 185.42 | 495.60 | 300.0 | 1578.42 | 681.02 |\n\n",
            "text/latex": "A data.frame: 6 × 16\n\\begin{tabular}{r|llllllllllllllll}\n  & name & genus & species & subspecies & spp\\_id & genus\\_id & social\\_learning & research\\_effort & brain & body & group\\_size & gestation & weaning & longevity & sex\\_maturity & maternal\\_investment\\\\\n  & <fct> & <fct> & <fct> & <fct> & <int> & <int> & <int> & <int> & <dbl> & <dbl> & <dbl> & <dbl> & <dbl> & <dbl> & <dbl> & <dbl>\\\\\n\\hline\n\t1 & Allenopithecus\\_nigroviridis & Allenopithecus & nigroviridis & NA & 1 & 1 & 0 &  6 & 58.02 & 4655.00 & 40.0 &     NA & 106.15 & 276.0 &      NA &     NA\\\\\n\t2 & Allocebus\\_trichotis         & Allocebus      & trichotis    & NA & 2 & 2 & 0 &  6 &    NA &   78.09 &  1.0 &     NA &     NA &    NA &      NA &     NA\\\\\n\t3 & Alouatta\\_belzebul           & Alouatta       & belzebul     & NA & 3 & 3 & 0 & 15 & 52.84 & 6395.00 &  7.4 &     NA &     NA &    NA &      NA &     NA\\\\\n\t4 & Alouatta\\_caraya             & Alouatta       & caraya       & NA & 4 & 3 & 0 & 45 & 52.63 & 5383.00 &  8.9 & 185.92 & 323.16 & 243.6 & 1276.72 & 509.08\\\\\n\t5 & Alouatta\\_guariba            & Alouatta       & guariba      & NA & 5 & 3 & 0 & 37 & 51.70 & 5175.00 &  7.4 &     NA &     NA &    NA &      NA &     NA\\\\\n\t6 & Alouatta\\_palliata           & Alouatta       & palliata     & NA & 6 & 3 & 3 & 79 & 49.88 & 6250.00 & 13.1 & 185.42 & 495.60 & 300.0 & 1578.42 & 681.02\\\\\n\\end{tabular}\n",
            "text/plain": [
              "  name                        genus          species      subspecies spp_id\n",
              "1 Allenopithecus_nigroviridis Allenopithecus nigroviridis NA         1     \n",
              "2 Allocebus_trichotis         Allocebus      trichotis    NA         2     \n",
              "3 Alouatta_belzebul           Alouatta       belzebul     NA         3     \n",
              "4 Alouatta_caraya             Alouatta       caraya       NA         4     \n",
              "5 Alouatta_guariba            Alouatta       guariba      NA         5     \n",
              "6 Alouatta_palliata           Alouatta       palliata     NA         6     \n",
              "  genus_id social_learning research_effort brain body    group_size gestation\n",
              "1 1        0                6              58.02 4655.00 40.0           NA   \n",
              "2 2        0                6                 NA   78.09  1.0           NA   \n",
              "3 3        0               15              52.84 6395.00  7.4           NA   \n",
              "4 3        0               45              52.63 5383.00  8.9       185.92   \n",
              "5 3        0               37              51.70 5175.00  7.4           NA   \n",
              "6 3        3               79              49.88 6250.00 13.1       185.42   \n",
              "  weaning longevity sex_maturity maternal_investment\n",
              "1 106.15  276.0          NA          NA             \n",
              "2     NA     NA          NA          NA             \n",
              "3     NA     NA          NA          NA             \n",
              "4 323.16  243.6     1276.72      509.08             \n",
              "5     NA     NA          NA          NA             \n",
              "6 495.60  300.0     1578.42      681.02             "
            ]
          },
          "metadata": {}
        }
      ]
    },
    {
      "cell_type": "markdown",
      "source": [
        "Right away, we see some `NA` values for `brain`.  This will cause a problem.  We'll eventually learn how to deal with missing values, but for now we'll restrict our analysis to `complete.cases`.  Since we're trying to compare species, I'm going to `standardize` `log(brain_size)`."
      ],
      "metadata": {
        "id": "jx5T3Rz5vaTz"
      }
    },
    {
      "cell_type": "code",
      "source": [
        "d2 <- d[complete.cases(d$social_learning, d$research_effort, d$brain),]\n",
        "dlist <- list(\"social_learning\" = d2$social_learning,\n",
        "              \"research_effort\" = log(d2$research_effort),\n",
        "              \"brain_size\" = standardize(log(d2$brain)))"
      ],
      "metadata": {
        "id": "UeYSX2KGvpI3"
      },
      "execution_count": 10,
      "outputs": []
    },
    {
      "cell_type": "markdown",
      "source": [
        "##### (a)\n",
        "\n",
        "***Model the number of observations of `social_learning` for each species as a function of the  log `brain` size. Use a Poisson distribution for the `social_learning` outcome variable. Interpret the resulting posterior.***"
      ],
      "metadata": {
        "id": "_GbeZYdyui_d"
      }
    },
    {
      "cell_type": "code",
      "source": [
        "ma <- ulam(\n",
        "  alist(\n",
        "    social_learning ~ dpois(lambda),\n",
        "      log(lambda) <- a + b_brainSize*brain_size,\n",
        "        a ~ dnorm(0,1),\n",
        "        b_brainSize ~ dnorm(0,1)\n",
        "  ), data=dlist,\n",
        "     chains=4,\n",
        "     cores=4,\n",
        "     iter=1000\n",
        ")\n",
        "precis(ma)"
      ],
      "metadata": {
        "colab": {
          "base_uri": "https://localhost:8080/",
          "height": 1000
        },
        "id": "rGVcq7LXwFyf",
        "outputId": "7e7dac7b-731e-46ec-b0d3-8509fdbb2f2a"
      },
      "execution_count": 11,
      "outputs": [
        {
          "output_type": "stream",
          "name": "stdout",
          "text": [
            "Running MCMC with 4 parallel chains, with 1 thread(s) per chain...\n",
            "\n",
            "Chain 1 Iteration:   1 / 1000 [  0%]  (Warmup) \n",
            "Chain 1 Iteration: 100 / 1000 [ 10%]  (Warmup) \n",
            "Chain 1 Iteration: 200 / 1000 [ 20%]  (Warmup) \n",
            "Chain 1 Iteration: 300 / 1000 [ 30%]  (Warmup) \n",
            "Chain 1 Iteration: 400 / 1000 [ 40%]  (Warmup) \n",
            "Chain 1 Iteration: 500 / 1000 [ 50%]  (Warmup) \n",
            "Chain 1 Iteration: 501 / 1000 [ 50%]  (Sampling) \n",
            "Chain 2 Iteration:   1 / 1000 [  0%]  (Warmup) \n",
            "Chain 2 Iteration: 100 / 1000 [ 10%]  (Warmup) \n",
            "Chain 2 Iteration: 200 / 1000 [ 20%]  (Warmup) \n",
            "Chain 2 Iteration: 300 / 1000 [ 30%]  (Warmup) \n",
            "Chain 2 Iteration: 400 / 1000 [ 40%]  (Warmup) \n",
            "Chain 3 Iteration:   1 / 1000 [  0%]  (Warmup) \n",
            "Chain 3 Iteration: 100 / 1000 [ 10%]  (Warmup) \n",
            "Chain 3 Iteration: 200 / 1000 [ 20%]  (Warmup) \n",
            "Chain 3 Iteration: 300 / 1000 [ 30%]  (Warmup) \n",
            "Chain 3 Iteration: 400 / 1000 [ 40%]  (Warmup) \n",
            "Chain 3 Iteration: 500 / 1000 [ 50%]  (Warmup) \n",
            "Chain 3 Iteration: 501 / 1000 [ 50%]  (Sampling) \n",
            "Chain 3 Iteration: 600 / 1000 [ 60%]  (Sampling) \n",
            "Chain 3 Iteration: 700 / 1000 [ 70%]  (Sampling) \n",
            "Chain 3 Iteration: 800 / 1000 [ 80%]  (Sampling) \n",
            "Chain 4 Iteration:   1 / 1000 [  0%]  (Warmup) \n",
            "Chain 4 Iteration: 100 / 1000 [ 10%]  (Warmup) \n",
            "Chain 4 Iteration: 200 / 1000 [ 20%]  (Warmup) \n",
            "Chain 3 Iteration: 900 / 1000 [ 90%]  (Sampling) \n",
            "Chain 3 Iteration: 1000 / 1000 [100%]  (Sampling) \n",
            "Chain 3 finished in 0.3 seconds.\n",
            "Chain 1 Iteration: 600 / 1000 [ 60%]  (Sampling) \n",
            "Chain 1 Iteration: 700 / 1000 [ 70%]  (Sampling) \n",
            "Chain 1 Iteration: 800 / 1000 [ 80%]  (Sampling) \n",
            "Chain 1 Iteration: 900 / 1000 [ 90%]  (Sampling) \n",
            "Chain 1 Iteration: 1000 / 1000 [100%]  (Sampling) \n",
            "Chain 2 Iteration: 500 / 1000 [ 50%]  (Warmup) \n",
            "Chain 2 Iteration: 501 / 1000 [ 50%]  (Sampling) \n",
            "Chain 2 Iteration: 600 / 1000 [ 60%]  (Sampling) \n",
            "Chain 2 Iteration: 700 / 1000 [ 70%]  (Sampling) \n",
            "Chain 2 Iteration: 800 / 1000 [ 80%]  (Sampling) \n",
            "Chain 2 Iteration: 900 / 1000 [ 90%]  (Sampling) \n",
            "Chain 2 Iteration: 1000 / 1000 [100%]  (Sampling) \n",
            "Chain 4 Iteration: 300 / 1000 [ 30%]  (Warmup) \n",
            "Chain 4 Iteration: 400 / 1000 [ 40%]  (Warmup) \n",
            "Chain 4 Iteration: 500 / 1000 [ 50%]  (Warmup) \n",
            "Chain 4 Iteration: 501 / 1000 [ 50%]  (Sampling) \n",
            "Chain 4 Iteration: 600 / 1000 [ 60%]  (Sampling) \n",
            "Chain 4 Iteration: 700 / 1000 [ 70%]  (Sampling) \n",
            "Chain 4 Iteration: 800 / 1000 [ 80%]  (Sampling) \n",
            "Chain 4 Iteration: 900 / 1000 [ 90%]  (Sampling) \n",
            "Chain 4 Iteration: 1000 / 1000 [100%]  (Sampling) \n",
            "Chain 1 finished in 0.4 seconds.\n",
            "Chain 2 finished in 0.4 seconds.\n",
            "Chain 4 finished in 0.4 seconds.\n",
            "\n",
            "All 4 chains finished successfully.\n",
            "Mean chain execution time: 0.4 seconds.\n",
            "Total execution time: 0.5 seconds.\n",
            "\n"
          ]
        },
        {
          "output_type": "display_data",
          "data": {
            "text/html": [
              "<table class=\"dataframe\">\n",
              "<caption>A precis: 2 × 6</caption>\n",
              "<thead>\n",
              "\t<tr><th></th><th scope=col>mean</th><th scope=col>sd</th><th scope=col>5.5%</th><th scope=col>94.5%</th><th scope=col>rhat</th><th scope=col>ess_bulk</th></tr>\n",
              "\t<tr><th></th><th scope=col>&lt;dbl&gt;</th><th scope=col>&lt;dbl&gt;</th><th scope=col>&lt;dbl&gt;</th><th scope=col>&lt;dbl&gt;</th><th scope=col>&lt;dbl&gt;</th><th scope=col>&lt;dbl&gt;</th></tr>\n",
              "</thead>\n",
              "<tbody>\n",
              "\t<tr><th scope=row>a</th><td>-1.235901</td><td>0.11361935</td><td>-1.421797</td><td>-1.057471</td><td>1.003088</td><td>546.0639</td></tr>\n",
              "\t<tr><th scope=row>b_brainSize</th><td> 2.804461</td><td>0.07077044</td><td> 2.692547</td><td> 2.918387</td><td>1.006228</td><td>555.8156</td></tr>\n",
              "</tbody>\n",
              "</table>\n"
            ],
            "text/markdown": "\nA precis: 2 × 6\n\n| <!--/--> | mean &lt;dbl&gt; | sd &lt;dbl&gt; | 5.5% &lt;dbl&gt; | 94.5% &lt;dbl&gt; | rhat &lt;dbl&gt; | ess_bulk &lt;dbl&gt; |\n|---|---|---|---|---|---|---|\n| a | -1.235901 | 0.11361935 | -1.421797 | -1.057471 | 1.003088 | 546.0639 |\n| b_brainSize |  2.804461 | 0.07077044 |  2.692547 |  2.918387 | 1.006228 | 555.8156 |\n\n",
            "text/latex": "A precis: 2 × 6\n\\begin{tabular}{r|llllll}\n  & mean & sd & 5.5\\% & 94.5\\% & rhat & ess\\_bulk\\\\\n  & <dbl> & <dbl> & <dbl> & <dbl> & <dbl> & <dbl>\\\\\n\\hline\n\ta & -1.235901 & 0.11361935 & -1.421797 & -1.057471 & 1.003088 & 546.0639\\\\\n\tb\\_brainSize &  2.804461 & 0.07077044 &  2.692547 &  2.918387 & 1.006228 & 555.8156\\\\\n\\end{tabular}\n",
            "text/plain": [
              "            mean      sd         5.5%      94.5%     rhat     ess_bulk\n",
              "a           -1.235901 0.11361935 -1.421797 -1.057471 1.003088 546.0639\n",
              "b_brainSize  2.804461 0.07077044  2.692547  2.918387 1.006228 555.8156"
            ]
          },
          "metadata": {}
        }
      ]
    },
    {
      "cell_type": "markdown",
      "source": [
        "According to this posterior, a 1-sd increase in standardized log brain size increases the the expected value of `social_learning` by an average of `exp(2.8) = 16.4`.\n",
        "\n",
        "This seems high, especially because `mean(dlist$social_learning) = 3.1`.  In this chapter, we learned about a new tool to help assess the posterior's fit to the data."
      ],
      "metadata": {
        "id": "G0Qnb2izxesC"
      }
    },
    {
      "cell_type": "code",
      "source": [
        "postcheck(ma, window=150)"
      ],
      "metadata": {
        "colab": {
          "base_uri": "https://localhost:8080/",
          "height": 437
        },
        "id": "eXlGX4hCzAOP",
        "outputId": "8e7e63f0-9dad-4dbf-ffbe-674cc6d3e9bc"
      },
      "execution_count": 16,
      "outputs": [
        {
          "output_type": "display_data",
          "data": {
            "text/plain": [
              "plot without title"
            ],
            "image/png": "[encoded data removed]"
          },
          "metadata": {
            "image/png": {
              "width": 420,
              "height": 420
            }
          }
        }
      ]
    },
    {
      "cell_type": "markdown",
      "source": [
        "There are quite a few points that seem to be horribly predicted by this model."
      ],
      "metadata": {
        "id": "dWWgmOavzLOb"
      }
    }
  ]
}
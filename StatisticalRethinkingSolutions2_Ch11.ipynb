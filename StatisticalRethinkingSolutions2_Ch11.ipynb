{
  "nbformat": 4,
  "nbformat_minor": 0,
  "metadata": {
    "colab": {
      "provenance": [],
      "authorship_tag": "ABX9TyMImZhYhqfTUGjGUeXs36W2",
      "include_colab_link": true
    },
    "kernelspec": {
      "name": "ir",
      "display_name": "R"
    },
    "language_info": {
      "name": "R"
    }
  },
  "cells": [
    {
      "cell_type": "markdown",
      "metadata": {
        "id": "view-in-github",
        "colab_type": "text"
      },
      "source": [
        "<a href=\"https://colab.research.google.com/github/nicklausmillican/StatisticalRethinkingIISolutions/blob/main/StatisticalRethinkingSolutions2_Ch11.ipynb\" target=\"_parent\"><img src=\"https://colab.research.google.com/assets/colab-badge.svg\" alt=\"Open In Colab\"/></a>"
      ]
    },
    {
      "cell_type": "code",
      "source": [
        "# Checking versions of g++ and make\n",
        "system(\"g++ --version\", intern = TRUE)\n",
        "system(\"make --version\", intern = TRUE)\n",
        "\n",
        "# Install g++ and make if needed\n",
        "system(\"sudo apt install g++\", intern = TRUE)\n",
        "system(\"sudo apt install make\", intern = TRUE)\n"
      ],
      "metadata": {
        "colab": {
          "base_uri": "https://localhost:8080/",
          "height": 156
        },
        "id": "6nmEQndWT8cK",
        "outputId": "f7f4c6e3-e958-42ac-f445-5bb81db493fa"
      },
      "execution_count": null,
      "outputs": [
        {
          "output_type": "display_data",
          "data": {
            "text/html": [
              "<style>\n",
              ".list-inline {list-style: none; margin:0; padding: 0}\n",
              ".list-inline>li {display: inline-block}\n",
              ".list-inline>li:not(:last-child)::after {content: \"\\00b7\"; padding: 0 .5ex}\n",
              "</style>\n",
              "<ol class=list-inline><li>'g++ (Ubuntu 11.4.0-1ubuntu1~22.04) 11.4.0'</li><li>'Copyright (C) 2021 Free Software Foundation, Inc.'</li><li><span style=white-space:pre-wrap>'This is free software; see the source for copying conditions.  There is NO'</span></li><li>'warranty; not even for MERCHANTABILITY or FITNESS FOR A PARTICULAR PURPOSE.'</li><li>''</li></ol>\n"
            ],
            "text/markdown": "1. 'g++ (Ubuntu 11.4.0-1ubuntu1~22.04) 11.4.0'\n2. 'Copyright (C) 2021 Free Software Foundation, Inc.'\n3. <span style=white-space:pre-wrap>'This is free software; see the source for copying conditions.  There is NO'</span>\n4. 'warranty; not even for MERCHANTABILITY or FITNESS FOR A PARTICULAR PURPOSE.'\n5. ''\n\n\n",
            "text/latex": "\\begin{enumerate*}\n\\item 'g++ (Ubuntu 11.4.0-1ubuntu1\\textasciitilde{}22.04) 11.4.0'\n\\item 'Copyright (C) 2021 Free Software Foundation, Inc.'\n\\item 'This is free software; see the source for copying conditions.  There is NO'\n\\item 'warranty; not even for MERCHANTABILITY or FITNESS FOR A PARTICULAR PURPOSE.'\n\\item ''\n\\end{enumerate*}\n",
            "text/plain": [
              "[1] \"g++ (Ubuntu 11.4.0-1ubuntu1~22.04) 11.4.0\"                                  \n",
              "[2] \"Copyright (C) 2021 Free Software Foundation, Inc.\"                          \n",
              "[3] \"This is free software; see the source for copying conditions.  There is NO\" \n",
              "[4] \"warranty; not even for MERCHANTABILITY or FITNESS FOR A PARTICULAR PURPOSE.\"\n",
              "[5] \"\"                                                                           "
            ]
          },
          "metadata": {}
        },
        {
          "output_type": "display_data",
          "data": {
            "text/html": [
              "<style>\n",
              ".list-inline {list-style: none; margin:0; padding: 0}\n",
              ".list-inline>li {display: inline-block}\n",
              ".list-inline>li:not(:last-child)::after {content: \"\\00b7\"; padding: 0 .5ex}\n",
              "</style>\n",
              "<ol class=list-inline><li>'GNU Make 4.3'</li><li>'Built for x86_64-pc-linux-gnu'</li><li>'Copyright (C) 1988-2020 Free Software Foundation, Inc.'</li><li>'License GPLv3+: GNU GPL version 3 or later &lt;http://gnu.org/licenses/gpl.html&gt;'</li><li>'This is free software: you are free to change and redistribute it.'</li><li>'There is NO WARRANTY, to the extent permitted by law.'</li></ol>\n"
            ],
            "text/markdown": "1. 'GNU Make 4.3'\n2. 'Built for x86_64-pc-linux-gnu'\n3. 'Copyright (C) 1988-2020 Free Software Foundation, Inc.'\n4. 'License GPLv3+: GNU GPL version 3 or later &lt;http://gnu.org/licenses/gpl.html&gt;'\n5. 'This is free software: you are free to change and redistribute it.'\n6. 'There is NO WARRANTY, to the extent permitted by law.'\n\n\n",
            "text/latex": "\\begin{enumerate*}\n\\item 'GNU Make 4.3'\n\\item 'Built for x86\\_64-pc-linux-gnu'\n\\item 'Copyright (C) 1988-2020 Free Software Foundation, Inc.'\n\\item 'License GPLv3+: GNU GPL version 3 or later <http://gnu.org/licenses/gpl.html>'\n\\item 'This is free software: you are free to change and redistribute it.'\n\\item 'There is NO WARRANTY, to the extent permitted by law.'\n\\end{enumerate*}\n",
            "text/plain": [
              "[1] \"GNU Make 4.3\"                                                                 \n",
              "[2] \"Built for x86_64-pc-linux-gnu\"                                                \n",
              "[3] \"Copyright (C) 1988-2020 Free Software Foundation, Inc.\"                       \n",
              "[4] \"License GPLv3+: GNU GPL version 3 or later <http://gnu.org/licenses/gpl.html>\"\n",
              "[5] \"This is free software: you are free to change and redistribute it.\"           \n",
              "[6] \"There is NO WARRANTY, to the extent permitted by law.\"                        "
            ]
          },
          "metadata": {}
        },
        {
          "output_type": "display_data",
          "data": {
            "text/html": [
              "<style>\n",
              ".list-inline {list-style: none; margin:0; padding: 0}\n",
              ".list-inline>li {display: inline-block}\n",
              ".list-inline>li:not(:last-child)::after {content: \"\\00b7\"; padding: 0 .5ex}\n",
              "</style>\n",
              "<ol class=list-inline><li>'Reading package lists...'</li><li>'Building dependency tree...'</li><li>'Reading state information...'</li><li>'g++ is already the newest version (4:11.2.0-1ubuntu1).'</li><li>'g++ set to manually installed.'</li><li>'0 upgraded, 0 newly installed, 0 to remove and 45 not upgraded.'</li></ol>\n"
            ],
            "text/markdown": "1. 'Reading package lists...'\n2. 'Building dependency tree...'\n3. 'Reading state information...'\n4. 'g++ is already the newest version (4:11.2.0-1ubuntu1).'\n5. 'g++ set to manually installed.'\n6. '0 upgraded, 0 newly installed, 0 to remove and 45 not upgraded.'\n\n\n",
            "text/latex": "\\begin{enumerate*}\n\\item 'Reading package lists...'\n\\item 'Building dependency tree...'\n\\item 'Reading state information...'\n\\item 'g++ is already the newest version (4:11.2.0-1ubuntu1).'\n\\item 'g++ set to manually installed.'\n\\item '0 upgraded, 0 newly installed, 0 to remove and 45 not upgraded.'\n\\end{enumerate*}\n",
            "text/plain": [
              "[1] \"Reading package lists...\"                                       \n",
              "[2] \"Building dependency tree...\"                                    \n",
              "[3] \"Reading state information...\"                                   \n",
              "[4] \"g++ is already the newest version (4:11.2.0-1ubuntu1).\"         \n",
              "[5] \"g++ set to manually installed.\"                                 \n",
              "[6] \"0 upgraded, 0 newly installed, 0 to remove and 45 not upgraded.\""
            ]
          },
          "metadata": {}
        },
        {
          "output_type": "display_data",
          "data": {
            "text/html": [
              "<style>\n",
              ".list-inline {list-style: none; margin:0; padding: 0}\n",
              ".list-inline>li {display: inline-block}\n",
              ".list-inline>li:not(:last-child)::after {content: \"\\00b7\"; padding: 0 .5ex}\n",
              "</style>\n",
              "<ol class=list-inline><li>'Reading package lists...'</li><li>'Building dependency tree...'</li><li>'Reading state information...'</li><li>'make is already the newest version (4.3-4.1build1).'</li><li>'make set to manually installed.'</li><li>'0 upgraded, 0 newly installed, 0 to remove and 45 not upgraded.'</li></ol>\n"
            ],
            "text/markdown": "1. 'Reading package lists...'\n2. 'Building dependency tree...'\n3. 'Reading state information...'\n4. 'make is already the newest version (4.3-4.1build1).'\n5. 'make set to manually installed.'\n6. '0 upgraded, 0 newly installed, 0 to remove and 45 not upgraded.'\n\n\n",
            "text/latex": "\\begin{enumerate*}\n\\item 'Reading package lists...'\n\\item 'Building dependency tree...'\n\\item 'Reading state information...'\n\\item 'make is already the newest version (4.3-4.1build1).'\n\\item 'make set to manually installed.'\n\\item '0 upgraded, 0 newly installed, 0 to remove and 45 not upgraded.'\n\\end{enumerate*}\n",
            "text/plain": [
              "[1] \"Reading package lists...\"                                       \n",
              "[2] \"Building dependency tree...\"                                    \n",
              "[3] \"Reading state information...\"                                   \n",
              "[4] \"make is already the newest version (4.3-4.1build1).\"            \n",
              "[5] \"make set to manually installed.\"                                \n",
              "[6] \"0 upgraded, 0 newly installed, 0 to remove and 45 not upgraded.\""
            ]
          },
          "metadata": {}
        }
      ]
    },
    {
      "cell_type": "code",
      "source": [
        "# Install cmdstanr from GitHub\n",
        "if (!require(cmdstanr)) {\n",
        "  devtools::install_github(\"stan-dev/cmdstanr\")\n",
        "}\n",
        "\n",
        "# Set up CmdStan if it's not already set up\n",
        "library(cmdstanr)\n",
        "if (!cmdstanr::cmdstan_version()) {\n",
        "  cmdstanr::install_cmdstan()\n",
        "}\n",
        "\n",
        "# Verify installation\n",
        "cmdstanr::check_cmdstan_toolchain()\n"
      ],
      "metadata": {
        "colab": {
          "base_uri": "https://localhost:8080/",
          "height": 969
        },
        "id": "xy8UnK1uUOmt",
        "outputId": "e52d4290-02f6-488f-c3dd-42ce358b2a4d"
      },
      "execution_count": null,
      "outputs": [
        {
          "output_type": "stream",
          "name": "stderr",
          "text": [
            "Loading required package: cmdstanr\n",
            "\n",
            "Warning message in library(package, lib.loc = lib.loc, character.only = TRUE, logical.return = TRUE, :\n",
            "“there is no package called ‘cmdstanr’”\n",
            "Downloading GitHub repo stan-dev/cmdstanr@HEAD\n",
            "\n"
          ]
        },
        {
          "output_type": "stream",
          "name": "stdout",
          "text": [
            "cli          (3.6.2  -> 3.6.3     ) [CRAN]\n",
            "numDeriv     (NA     -> 2016.8-1.1) [CRAN]\n",
            "rlang        (1.1.3  -> 1.1.4     ) [CRAN]\n",
            "backports    (1.4.1  -> 1.5.0     ) [CRAN]\n",
            "ps           (1.7.6  -> 1.7.7     ) [CRAN]\n",
            "matrixStats  (NA     -> 1.3.0     ) [CRAN]\n",
            "distribut... (NA     -> 0.4.0     ) [CRAN]\n",
            "tensorA      (NA     -> 0.36.2.1  ) [CRAN]\n",
            "checkmate    (NA     -> 2.3.1     ) [CRAN]\n",
            "abind        (NA     -> 1.4-5     ) [CRAN]\n",
            "processx     (3.8.3  -> 3.8.4     ) [CRAN]\n",
            "posterior    (NA     -> 1.5.0     ) [CRAN]\n",
            "data.table   (1.15.0 -> 1.15.4    ) [CRAN]\n"
          ]
        },
        {
          "output_type": "stream",
          "name": "stderr",
          "text": [
            "Installing 13 packages: cli, numDeriv, rlang, backports, ps, matrixStats, distributional, tensorA, checkmate, abind, processx, posterior, data.table\n",
            "\n",
            "Installing packages into ‘/usr/local/lib/R/site-library’\n",
            "(as ‘lib’ is unspecified)\n",
            "\n"
          ]
        },
        {
          "output_type": "stream",
          "name": "stdout",
          "text": [
            "\u001b[36m──\u001b[39m \u001b[36mR CMD build\u001b[39m \u001b[36m─────────────────────────────────────────────────────────────────\u001b[39m\n",
            "* checking for file ‘/tmp/RtmpsXh7t2/remotes15b13f0658c/stan-dev-cmdstanr-2550b8e/DESCRIPTION’ ... OK\n",
            "* preparing ‘cmdstanr’:\n",
            "* checking DESCRIPTION meta-information ... OK\n",
            "* checking for LF line-endings in source and make files and shell scripts\n",
            "* checking for empty or unneeded directories\n",
            "Omitted ‘LazyData’ from DESCRIPTION\n",
            "* building ‘cmdstanr_0.8.1.9000.tar.gz’\n",
            "\n"
          ]
        },
        {
          "output_type": "stream",
          "name": "stderr",
          "text": [
            "Installing package into ‘/usr/local/lib/R/site-library’\n",
            "(as ‘lib’ is unspecified)\n",
            "\n",
            "This is cmdstanr version 0.8.1.9000\n",
            "\n",
            "- CmdStanR documentation and vignettes: mc-stan.org/cmdstanr\n",
            "\n",
            "- Use set_cmdstan_path() to set the path to CmdStan\n",
            "\n",
            "- Use install_cmdstan() to install CmdStan\n",
            "\n"
          ]
        },
        {
          "output_type": "error",
          "ename": "ERROR",
          "evalue": "Error: CmdStan path has not been set yet. See ?set_cmdstan_path.\n",
          "traceback": [
            "Error: CmdStan path has not been set yet. See ?set_cmdstan_path.\nTraceback:\n",
            "1. cmdstanr::cmdstan_version()",
            "2. stop_no_path()",
            "3. stop(\"CmdStan path has not been set yet. See ?set_cmdstan_path.\", \n .     call. = FALSE)"
          ]
        }
      ]
    },
    {
      "cell_type": "markdown",
      "source": [
        "IF YOU ENCOUNTER AN ERROR, JUST KEEP RUNNING CODE BELOW."
      ],
      "metadata": {
        "id": "5PjVh-uhxvy3"
      }
    },
    {
      "cell_type": "code",
      "source": [
        "# Install CmdStan using cmdstanr\n",
        "library(cmdstanr)\n",
        "cmdstanr::install_cmdstan()\n",
        "\n",
        "# After installation, set the CmdStan path\n",
        "cmdstan_path <- cmdstanr::cmdstan_path()\n",
        "cmdstanr::set_cmdstan_path(cmdstan_path)\n",
        "\n",
        "# Verify the installation\n",
        "cmdstanr::cmdstan_version()\n"
      ],
      "metadata": {
        "colab": {
          "base_uri": "https://localhost:8080/",
          "height": 1000
        },
        "id": "QWIdvClbVP9g",
        "outputId": "53d96233-33c6-4360-a2c4-a7a26a7e0067"
      },
      "execution_count": null,
      "outputs": [
        {
          "output_type": "stream",
          "name": "stderr",
          "text": [
            "The C++ toolchain required for CmdStan is setup properly!\n",
            "\n",
            "* Latest CmdStan release is v2.35.0\n",
            "\n",
            "* Installing CmdStan v2.35.0 in /root/.cmdstan/cmdstan-2.35.0\n",
            "\n",
            "* Downloading cmdstan-2.35.0.tar.gz from GitHub...\n",
            "\n",
            "* Download complete\n",
            "\n",
            "* Unpacking archive...\n",
            "\n",
            "* Building CmdStan binaries...\n",
            "\n"
          ]
        },
        {
          "output_type": "stream",
          "name": "stdout",
          "text": [
            "cp bin/linux-stanc bin/stanc\n",
            "g++ -pipe   -pthread -D_REENTRANT  -O3 -I stan/lib/stan_math/lib/sundials_6.1.1/include -I stan/lib/stan_math/lib/sundials_6.1.1/src/sundials -DNO_FPRINTF_OUTPUT     -O3  -c -x c -include stan/lib/stan_math/lib/sundials_6.1.1/include/stan_sundials_printf_override.hpp stan/lib/stan_math/lib/sundials_6.1.1/src/nvector/serial/nvector_serial.c -o stan/lib/stan_math/lib/sundials_6.1.1/src/nvector/serial/nvector_serial.o\n",
            "chmod +x bin/stanc\n",
            "g++ -pipe   -pthread -D_REENTRANT  -O3 -I stan/lib/stan_math/lib/sundials_6.1.1/include -I stan/lib/stan_math/lib/sundials_6.1.1/src/sundials -DNO_FPRINTF_OUTPUT     -O3  -c -x c -include stan/lib/stan_math/lib/sundials_6.1.1/include/stan_sundials_printf_override.hpp stan/lib/stan_math/lib/sundials_6.1.1/src/sundials/sundials_math.c -o stan/lib/stan_math/lib/sundials_6.1.1/src/sundials/sundials_math.o\n",
            "g++ -pipe   -pthread -D_REENTRANT  -O3 -I stan/lib/stan_math/lib/sundials_6.1.1/include -I stan/lib/stan_math/lib/sundials_6.1.1/src/sundials -DNO_FPRINTF_OUTPUT     -O3  -c -x c -include stan/lib/stan_math/lib/sundials_6.1.1/include/stan_sundials_printf_override.hpp stan/lib/stan_math/lib/sundials_6.1.1/src/cvodes/cvodea.c -o stan/lib/stan_math/lib/sundials_6.1.1/src/cvodes/cvodea.o\n",
            "g++ -pipe   -pthread -D_REENTRANT  -O3 -I stan/lib/stan_math/lib/sundials_6.1.1/include -I stan/lib/stan_math/lib/sundials_6.1.1/src/sundials -DNO_FPRINTF_OUTPUT     -O3  -c -x c -include stan/lib/stan_math/lib/sundials_6.1.1/include/stan_sundials_printf_override.hpp stan/lib/stan_math/lib/sundials_6.1.1/src/cvodes/cvodea_io.c -o stan/lib/stan_math/lib/sundials_6.1.1/src/cvodes/cvodea_io.o\n",
            "g++ -pipe   -pthread -D_REENTRANT  -O3 -I stan/lib/stan_math/lib/sundials_6.1.1/include -I stan/lib/stan_math/lib/sundials_6.1.1/src/sundials -DNO_FPRINTF_OUTPUT     -O3  -c -x c -include stan/lib/stan_math/lib/sundials_6.1.1/include/stan_sundials_printf_override.hpp stan/lib/stan_math/lib/sundials_6.1.1/src/cvodes/cvodes_bandpre.c -o stan/lib/stan_math/lib/sundials_6.1.1/src/cvodes/cvodes_bandpre.o\n",
            "g++ -pipe   -pthread -D_REENTRANT  -O3 -I stan/lib/stan_math/lib/sundials_6.1.1/include -I stan/lib/stan_math/lib/sundials_6.1.1/src/sundials -DNO_FPRINTF_OUTPUT     -O3  -c -x c -include stan/lib/stan_math/lib/sundials_6.1.1/include/stan_sundials_printf_override.hpp stan/lib/stan_math/lib/sundials_6.1.1/src/cvodes/cvodes_bbdpre.c -o stan/lib/stan_math/lib/sundials_6.1.1/src/cvodes/cvodes_bbdpre.o\n",
            "g++ -pipe   -pthread -D_REENTRANT  -O3 -I stan/lib/stan_math/lib/sundials_6.1.1/include -I stan/lib/stan_math/lib/sundials_6.1.1/src/sundials -DNO_FPRINTF_OUTPUT     -O3  -c -x c -include stan/lib/stan_math/lib/sundials_6.1.1/include/stan_sundials_printf_override.hpp stan/lib/stan_math/lib/sundials_6.1.1/src/cvodes/cvodes.c -o stan/lib/stan_math/lib/sundials_6.1.1/src/cvodes/cvodes.o\n",
            "g++ -pipe   -pthread -D_REENTRANT  -O3 -I stan/lib/stan_math/lib/sundials_6.1.1/include -I stan/lib/stan_math/lib/sundials_6.1.1/src/sundials -DNO_FPRINTF_OUTPUT     -O3  -c -x c -include stan/lib/stan_math/lib/sundials_6.1.1/include/stan_sundials_printf_override.hpp stan/lib/stan_math/lib/sundials_6.1.1/src/cvodes/cvodes_diag.c -o stan/lib/stan_math/lib/sundials_6.1.1/src/cvodes/cvodes_diag.o\n",
            "g++ -pipe   -pthread -D_REENTRANT  -O3 -I stan/lib/stan_math/lib/sundials_6.1.1/include -I stan/lib/stan_math/lib/sundials_6.1.1/src/sundials -DNO_FPRINTF_OUTPUT     -O3  -c -x c -include stan/lib/stan_math/lib/sundials_6.1.1/include/stan_sundials_printf_override.hpp stan/lib/stan_math/lib/sundials_6.1.1/src/cvodes/cvodes_direct.c -o stan/lib/stan_math/lib/sundials_6.1.1/src/cvodes/cvodes_direct.o\n",
            "g++ -pipe   -pthread -D_REENTRANT  -O3 -I stan/lib/stan_math/lib/sundials_6.1.1/include -I stan/lib/stan_math/lib/sundials_6.1.1/src/sundials -DNO_FPRINTF_OUTPUT     -O3  -c -x c -include stan/lib/stan_math/lib/sundials_6.1.1/include/stan_sundials_printf_override.hpp stan/lib/stan_math/lib/sundials_6.1.1/src/cvodes/cvodes_io.c -o stan/lib/stan_math/lib/sundials_6.1.1/src/cvodes/cvodes_io.o\n",
            "g++ -pipe   -pthread -D_REENTRANT  -O3 -I stan/lib/stan_math/lib/sundials_6.1.1/include -I stan/lib/stan_math/lib/sundials_6.1.1/src/sundials -DNO_FPRINTF_OUTPUT     -O3  -c -x c -include stan/lib/stan_math/lib/sundials_6.1.1/include/stan_sundials_printf_override.hpp stan/lib/stan_math/lib/sundials_6.1.1/src/cvodes/cvodes_ls.c -o stan/lib/stan_math/lib/sundials_6.1.1/src/cvodes/cvodes_ls.o\n",
            "g++ -pipe   -pthread -D_REENTRANT  -O3 -I stan/lib/stan_math/lib/sundials_6.1.1/include -I stan/lib/stan_math/lib/sundials_6.1.1/src/sundials -DNO_FPRINTF_OUTPUT     -O3  -c -x c -include stan/lib/stan_math/lib/sundials_6.1.1/include/stan_sundials_printf_override.hpp stan/lib/stan_math/lib/sundials_6.1.1/src/cvodes/cvodes_nls.c -o stan/lib/stan_math/lib/sundials_6.1.1/src/cvodes/cvodes_nls.o\n",
            "g++ -pipe   -pthread -D_REENTRANT  -O3 -I stan/lib/stan_math/lib/sundials_6.1.1/include -I stan/lib/stan_math/lib/sundials_6.1.1/src/sundials -DNO_FPRINTF_OUTPUT     -O3  -c -x c -include stan/lib/stan_math/lib/sundials_6.1.1/include/stan_sundials_printf_override.hpp stan/lib/stan_math/lib/sundials_6.1.1/src/cvodes/cvodes_nls_sim.c -o stan/lib/stan_math/lib/sundials_6.1.1/src/cvodes/cvodes_nls_sim.o\n",
            "g++ -pipe   -pthread -D_REENTRANT  -O3 -I stan/lib/stan_math/lib/sundials_6.1.1/include -I stan/lib/stan_math/lib/sundials_6.1.1/src/sundials -DNO_FPRINTF_OUTPUT     -O3  -c -x c -include stan/lib/stan_math/lib/sundials_6.1.1/include/stan_sundials_printf_override.hpp stan/lib/stan_math/lib/sundials_6.1.1/src/cvodes/cvodes_nls_stg1.c -o stan/lib/stan_math/lib/sundials_6.1.1/src/cvodes/cvodes_nls_stg1.o\n",
            "g++ -pipe   -pthread -D_REENTRANT  -O3 -I stan/lib/stan_math/lib/sundials_6.1.1/include -I stan/lib/stan_math/lib/sundials_6.1.1/src/sundials -DNO_FPRINTF_OUTPUT     -O3  -c -x c -include stan/lib/stan_math/lib/sundials_6.1.1/include/stan_sundials_printf_override.hpp stan/lib/stan_math/lib/sundials_6.1.1/src/cvodes/cvodes_nls_stg.c -o stan/lib/stan_math/lib/sundials_6.1.1/src/cvodes/cvodes_nls_stg.o\n",
            "g++ -pipe   -pthread -D_REENTRANT  -O3 -I stan/lib/stan_math/lib/sundials_6.1.1/include -I stan/lib/stan_math/lib/sundials_6.1.1/src/sundials -DNO_FPRINTF_OUTPUT     -O3  -c -x c -include stan/lib/stan_math/lib/sundials_6.1.1/include/stan_sundials_printf_override.hpp stan/lib/stan_math/lib/sundials_6.1.1/src/cvodes/cvodes_spils.c -o stan/lib/stan_math/lib/sundials_6.1.1/src/cvodes/cvodes_spils.o\n",
            "g++ -pipe   -pthread -D_REENTRANT  -O3 -I stan/lib/stan_math/lib/sundials_6.1.1/include -I stan/lib/stan_math/lib/sundials_6.1.1/src/sundials -DNO_FPRINTF_OUTPUT     -O3  -c -x c -include stan/lib/stan_math/lib/sundials_6.1.1/include/stan_sundials_printf_override.hpp stan/lib/stan_math/lib/sundials_6.1.1/src/sundials/sundials_band.c -o stan/lib/stan_math/lib/sundials_6.1.1/src/sundials/sundials_band.o\n",
            "g++ -pipe   -pthread -D_REENTRANT  -O3 -I stan/lib/stan_math/lib/sundials_6.1.1/include -I stan/lib/stan_math/lib/sundials_6.1.1/src/sundials -DNO_FPRINTF_OUTPUT     -O3  -c -x c -include stan/lib/stan_math/lib/sundials_6.1.1/include/stan_sundials_printf_override.hpp stan/lib/stan_math/lib/sundials_6.1.1/src/sundials/sundials_context.c -o stan/lib/stan_math/lib/sundials_6.1.1/src/sundials/sundials_context.o\n",
            "g++ -pipe   -pthread -D_REENTRANT  -O3 -I stan/lib/stan_math/lib/sundials_6.1.1/include -I stan/lib/stan_math/lib/sundials_6.1.1/src/sundials -DNO_FPRINTF_OUTPUT     -O3  -c -x c -include stan/lib/stan_math/lib/sundials_6.1.1/include/stan_sundials_printf_override.hpp stan/lib/stan_math/lib/sundials_6.1.1/src/sundials/sundials_dense.c -o stan/lib/stan_math/lib/sundials_6.1.1/src/sundials/sundials_dense.o\n",
            "g++ -pipe   -pthread -D_REENTRANT  -O3 -I stan/lib/stan_math/lib/sundials_6.1.1/include -I stan/lib/stan_math/lib/sundials_6.1.1/src/sundials -DNO_FPRINTF_OUTPUT     -O3  -c -x c -include stan/lib/stan_math/lib/sundials_6.1.1/include/stan_sundials_printf_override.hpp stan/lib/stan_math/lib/sundials_6.1.1/src/sundials/sundials_direct.c -o stan/lib/stan_math/lib/sundials_6.1.1/src/sundials/sundials_direct.o\n",
            "g++ -pipe   -pthread -D_REENTRANT  -O3 -I stan/lib/stan_math/lib/sundials_6.1.1/include -I stan/lib/stan_math/lib/sundials_6.1.1/src/sundials -DNO_FPRINTF_OUTPUT     -O3  -c -x c -include stan/lib/stan_math/lib/sundials_6.1.1/include/stan_sundials_printf_override.hpp stan/lib/stan_math/lib/sundials_6.1.1/src/sundials/sundials_futils.c -o stan/lib/stan_math/lib/sundials_6.1.1/src/sundials/sundials_futils.o\n",
            "g++ -pipe   -pthread -D_REENTRANT  -O3 -I stan/lib/stan_math/lib/sundials_6.1.1/include -I stan/lib/stan_math/lib/sundials_6.1.1/src/sundials -DNO_FPRINTF_OUTPUT     -O3  -c -x c -include stan/lib/stan_math/lib/sundials_6.1.1/include/stan_sundials_printf_override.hpp stan/lib/stan_math/lib/sundials_6.1.1/src/sundials/sundials_iterative.c -o stan/lib/stan_math/lib/sundials_6.1.1/src/sundials/sundials_iterative.o\n",
            "g++ -pipe   -pthread -D_REENTRANT  -O3 -I stan/lib/stan_math/lib/sundials_6.1.1/include -I stan/lib/stan_math/lib/sundials_6.1.1/src/sundials -DNO_FPRINTF_OUTPUT     -O3  -c -x c -include stan/lib/stan_math/lib/sundials_6.1.1/include/stan_sundials_printf_override.hpp stan/lib/stan_math/lib/sundials_6.1.1/src/sundials/sundials_linearsolver.c -o stan/lib/stan_math/lib/sundials_6.1.1/src/sundials/sundials_linearsolver.o\n",
            "g++ -pipe   -pthread -D_REENTRANT  -O3 -I stan/lib/stan_math/lib/sundials_6.1.1/include -I stan/lib/stan_math/lib/sundials_6.1.1/src/sundials -DNO_FPRINTF_OUTPUT     -O3  -c -x c -include stan/lib/stan_math/lib/sundials_6.1.1/include/stan_sundials_printf_override.hpp stan/lib/stan_math/lib/sundials_6.1.1/src/sundials/sundials_matrix.c -o stan/lib/stan_math/lib/sundials_6.1.1/src/sundials/sundials_matrix.o\n",
            "g++ -pipe   -pthread -D_REENTRANT  -O3 -I stan/lib/stan_math/lib/sundials_6.1.1/include -I stan/lib/stan_math/lib/sundials_6.1.1/src/sundials -DNO_FPRINTF_OUTPUT     -O3  -c -x c -include stan/lib/stan_math/lib/sundials_6.1.1/include/stan_sundials_printf_override.hpp stan/lib/stan_math/lib/sundials_6.1.1/src/sundials/sundials_memory.c -o stan/lib/stan_math/lib/sundials_6.1.1/src/sundials/sundials_memory.o\n",
            "g++ -pipe   -pthread -D_REENTRANT  -O3 -I stan/lib/stan_math/lib/sundials_6.1.1/include -I stan/lib/stan_math/lib/sundials_6.1.1/src/sundials -DNO_FPRINTF_OUTPUT     -O3  -c -x c -include stan/lib/stan_math/lib/sundials_6.1.1/include/stan_sundials_printf_override.hpp stan/lib/stan_math/lib/sundials_6.1.1/src/sundials/sundials_nonlinearsolver.c -o stan/lib/stan_math/lib/sundials_6.1.1/src/sundials/sundials_nonlinearsolver.o\n",
            "g++ -pipe   -pthread -D_REENTRANT  -O3 -I stan/lib/stan_math/lib/sundials_6.1.1/include -I stan/lib/stan_math/lib/sundials_6.1.1/src/sundials -DNO_FPRINTF_OUTPUT     -O3  -c -x c -include stan/lib/stan_math/lib/sundials_6.1.1/include/stan_sundials_printf_override.hpp stan/lib/stan_math/lib/sundials_6.1.1/src/sundials/sundials_nvector.c -o stan/lib/stan_math/lib/sundials_6.1.1/src/sundials/sundials_nvector.o\n",
            "g++ -pipe   -pthread -D_REENTRANT  -O3 -I stan/lib/stan_math/lib/sundials_6.1.1/include -I stan/lib/stan_math/lib/sundials_6.1.1/src/sundials -DNO_FPRINTF_OUTPUT     -O3  -c -x c -include stan/lib/stan_math/lib/sundials_6.1.1/include/stan_sundials_printf_override.hpp stan/lib/stan_math/lib/sundials_6.1.1/src/sundials/sundials_nvector_senswrapper.c -o stan/lib/stan_math/lib/sundials_6.1.1/src/sundials/sundials_nvector_senswrapper.o\n",
            "g++ -pipe   -pthread -D_REENTRANT  -O3 -I stan/lib/stan_math/lib/sundials_6.1.1/include -I stan/lib/stan_math/lib/sundials_6.1.1/src/sundials -DNO_FPRINTF_OUTPUT     -O3  -c -x c -include stan/lib/stan_math/lib/sundials_6.1.1/include/stan_sundials_printf_override.hpp stan/lib/stan_math/lib/sundials_6.1.1/src/sundials/sundials_version.c -o stan/lib/stan_math/lib/sundials_6.1.1/src/sundials/sundials_version.o\n",
            "g++ -pipe   -pthread -D_REENTRANT  -O3 -I stan/lib/stan_math/lib/sundials_6.1.1/include -I stan/lib/stan_math/lib/sundials_6.1.1/src/sundials -DNO_FPRINTF_OUTPUT     -O3  -c -x c -include stan/lib/stan_math/lib/sundials_6.1.1/include/stan_sundials_printf_override.hpp stan/lib/stan_math/lib/sundials_6.1.1/src/sunmatrix/band/sunmatrix_band.c -o stan/lib/stan_math/lib/sundials_6.1.1/src/sunmatrix/band/sunmatrix_band.o\n",
            "g++ -pipe   -pthread -D_REENTRANT  -O3 -I stan/lib/stan_math/lib/sundials_6.1.1/include -I stan/lib/stan_math/lib/sundials_6.1.1/src/sundials -DNO_FPRINTF_OUTPUT     -O3  -c -x c -include stan/lib/stan_math/lib/sundials_6.1.1/include/stan_sundials_printf_override.hpp stan/lib/stan_math/lib/sundials_6.1.1/src/sunmatrix/dense/sunmatrix_dense.c -o stan/lib/stan_math/lib/sundials_6.1.1/src/sunmatrix/dense/sunmatrix_dense.o\n",
            "g++ -pipe   -pthread -D_REENTRANT  -O3 -I stan/lib/stan_math/lib/sundials_6.1.1/include -I stan/lib/stan_math/lib/sundials_6.1.1/src/sundials -DNO_FPRINTF_OUTPUT     -O3  -c -x c -include stan/lib/stan_math/lib/sundials_6.1.1/include/stan_sundials_printf_override.hpp stan/lib/stan_math/lib/sundials_6.1.1/src/sunlinsol/band/sunlinsol_band.c -o stan/lib/stan_math/lib/sundials_6.1.1/src/sunlinsol/band/sunlinsol_band.o\n",
            "g++ -pipe   -pthread -D_REENTRANT  -O3 -I stan/lib/stan_math/lib/sundials_6.1.1/include -I stan/lib/stan_math/lib/sundials_6.1.1/src/sundials -DNO_FPRINTF_OUTPUT     -O3  -c -x c -include stan/lib/stan_math/lib/sundials_6.1.1/include/stan_sundials_printf_override.hpp stan/lib/stan_math/lib/sundials_6.1.1/src/sunlinsol/dense/sunlinsol_dense.c -o stan/lib/stan_math/lib/sundials_6.1.1/src/sunlinsol/dense/sunlinsol_dense.o\n",
            "g++ -pipe   -pthread -D_REENTRANT  -O3 -I stan/lib/stan_math/lib/sundials_6.1.1/include -I stan/lib/stan_math/lib/sundials_6.1.1/src/sundials -DNO_FPRINTF_OUTPUT     -O3  -c -x c -include stan/lib/stan_math/lib/sundials_6.1.1/include/stan_sundials_printf_override.hpp stan/lib/stan_math/lib/sundials_6.1.1/src/sunnonlinsol/newton/sunnonlinsol_newton.c -o stan/lib/stan_math/lib/sundials_6.1.1/src/sunnonlinsol/newton/sunnonlinsol_newton.o\n",
            "g++ -pipe   -pthread -D_REENTRANT  -O3 -I stan/lib/stan_math/lib/sundials_6.1.1/include -I stan/lib/stan_math/lib/sundials_6.1.1/src/sundials -DNO_FPRINTF_OUTPUT     -O3  -c -x c -include stan/lib/stan_math/lib/sundials_6.1.1/include/stan_sundials_printf_override.hpp stan/lib/stan_math/lib/sundials_6.1.1/src/sunnonlinsol/fixedpoint/sunnonlinsol_fixedpoint.c -o stan/lib/stan_math/lib/sundials_6.1.1/src/sunnonlinsol/fixedpoint/sunnonlinsol_fixedpoint.o\n",
            "g++ -pipe   -pthread -D_REENTRANT  -O3 -I stan/lib/stan_math/lib/sundials_6.1.1/include -I stan/lib/stan_math/lib/sundials_6.1.1/src/sundials -DNO_FPRINTF_OUTPUT     -O3  -c -x c -include stan/lib/stan_math/lib/sundials_6.1.1/include/stan_sundials_printf_override.hpp stan/lib/stan_math/lib/sundials_6.1.1/src/idas/idaa.c -o stan/lib/stan_math/lib/sundials_6.1.1/src/idas/idaa.o\n",
            "g++ -pipe   -pthread -D_REENTRANT  -O3 -I stan/lib/stan_math/lib/sundials_6.1.1/include -I stan/lib/stan_math/lib/sundials_6.1.1/src/sundials -DNO_FPRINTF_OUTPUT     -O3  -c -x c -include stan/lib/stan_math/lib/sundials_6.1.1/include/stan_sundials_printf_override.hpp stan/lib/stan_math/lib/sundials_6.1.1/src/idas/idaa_io.c -o stan/lib/stan_math/lib/sundials_6.1.1/src/idas/idaa_io.o\n",
            "g++ -pipe   -pthread -D_REENTRANT  -O3 -I stan/lib/stan_math/lib/sundials_6.1.1/include -I stan/lib/stan_math/lib/sundials_6.1.1/src/sundials -DNO_FPRINTF_OUTPUT     -O3  -c -x c -include stan/lib/stan_math/lib/sundials_6.1.1/include/stan_sundials_printf_override.hpp stan/lib/stan_math/lib/sundials_6.1.1/src/idas/idas_bbdpre.c -o stan/lib/stan_math/lib/sundials_6.1.1/src/idas/idas_bbdpre.o\n",
            "g++ -pipe   -pthread -D_REENTRANT  -O3 -I stan/lib/stan_math/lib/sundials_6.1.1/include -I stan/lib/stan_math/lib/sundials_6.1.1/src/sundials -DNO_FPRINTF_OUTPUT     -O3  -c -x c -include stan/lib/stan_math/lib/sundials_6.1.1/include/stan_sundials_printf_override.hpp stan/lib/stan_math/lib/sundials_6.1.1/src/idas/idas.c -o stan/lib/stan_math/lib/sundials_6.1.1/src/idas/idas.o\n",
            "g++ -pipe   -pthread -D_REENTRANT  -O3 -I stan/lib/stan_math/lib/sundials_6.1.1/include -I stan/lib/stan_math/lib/sundials_6.1.1/src/sundials -DNO_FPRINTF_OUTPUT     -O3  -c -x c -include stan/lib/stan_math/lib/sundials_6.1.1/include/stan_sundials_printf_override.hpp stan/lib/stan_math/lib/sundials_6.1.1/src/idas/idas_direct.c -o stan/lib/stan_math/lib/sundials_6.1.1/src/idas/idas_direct.o\n",
            "g++ -pipe   -pthread -D_REENTRANT  -O3 -I stan/lib/stan_math/lib/sundials_6.1.1/include -I stan/lib/stan_math/lib/sundials_6.1.1/src/sundials -DNO_FPRINTF_OUTPUT     -O3  -c -x c -include stan/lib/stan_math/lib/sundials_6.1.1/include/stan_sundials_printf_override.hpp stan/lib/stan_math/lib/sundials_6.1.1/src/idas/idas_ic.c -o stan/lib/stan_math/lib/sundials_6.1.1/src/idas/idas_ic.o\n",
            "g++ -pipe   -pthread -D_REENTRANT  -O3 -I stan/lib/stan_math/lib/sundials_6.1.1/include -I stan/lib/stan_math/lib/sundials_6.1.1/src/sundials -DNO_FPRINTF_OUTPUT     -O3  -c -x c -include stan/lib/stan_math/lib/sundials_6.1.1/include/stan_sundials_printf_override.hpp stan/lib/stan_math/lib/sundials_6.1.1/src/idas/idas_io.c -o stan/lib/stan_math/lib/sundials_6.1.1/src/idas/idas_io.o\n",
            "g++ -pipe   -pthread -D_REENTRANT  -O3 -I stan/lib/stan_math/lib/sundials_6.1.1/include -I stan/lib/stan_math/lib/sundials_6.1.1/src/sundials -DNO_FPRINTF_OUTPUT     -O3  -c -x c -include stan/lib/stan_math/lib/sundials_6.1.1/include/stan_sundials_printf_override.hpp stan/lib/stan_math/lib/sundials_6.1.1/src/idas/idas_ls.c -o stan/lib/stan_math/lib/sundials_6.1.1/src/idas/idas_ls.o\n",
            "g++ -pipe   -pthread -D_REENTRANT  -O3 -I stan/lib/stan_math/lib/sundials_6.1.1/include -I stan/lib/stan_math/lib/sundials_6.1.1/src/sundials -DNO_FPRINTF_OUTPUT     -O3  -c -x c -include stan/lib/stan_math/lib/sundials_6.1.1/include/stan_sundials_printf_override.hpp stan/lib/stan_math/lib/sundials_6.1.1/src/idas/idas_nls.c -o stan/lib/stan_math/lib/sundials_6.1.1/src/idas/idas_nls.o\n",
            "g++ -pipe   -pthread -D_REENTRANT  -O3 -I stan/lib/stan_math/lib/sundials_6.1.1/include -I stan/lib/stan_math/lib/sundials_6.1.1/src/sundials -DNO_FPRINTF_OUTPUT     -O3  -c -x c -include stan/lib/stan_math/lib/sundials_6.1.1/include/stan_sundials_printf_override.hpp stan/lib/stan_math/lib/sundials_6.1.1/src/idas/idas_nls_sim.c -o stan/lib/stan_math/lib/sundials_6.1.1/src/idas/idas_nls_sim.o\n",
            "g++ -pipe   -pthread -D_REENTRANT  -O3 -I stan/lib/stan_math/lib/sundials_6.1.1/include -I stan/lib/stan_math/lib/sundials_6.1.1/src/sundials -DNO_FPRINTF_OUTPUT     -O3  -c -x c -include stan/lib/stan_math/lib/sundials_6.1.1/include/stan_sundials_printf_override.hpp stan/lib/stan_math/lib/sundials_6.1.1/src/idas/idas_nls_stg.c -o stan/lib/stan_math/lib/sundials_6.1.1/src/idas/idas_nls_stg.o\n",
            "g++ -pipe   -pthread -D_REENTRANT  -O3 -I stan/lib/stan_math/lib/sundials_6.1.1/include -I stan/lib/stan_math/lib/sundials_6.1.1/src/sundials -DNO_FPRINTF_OUTPUT     -O3  -c -x c -include stan/lib/stan_math/lib/sundials_6.1.1/include/stan_sundials_printf_override.hpp stan/lib/stan_math/lib/sundials_6.1.1/src/idas/idas_spils.c -o stan/lib/stan_math/lib/sundials_6.1.1/src/idas/idas_spils.o\n",
            "g++ -pipe   -pthread -D_REENTRANT  -O3 -I stan/lib/stan_math/lib/sundials_6.1.1/include -I stan/lib/stan_math/lib/sundials_6.1.1/src/sundials -DNO_FPRINTF_OUTPUT     -O3  -c -x c -include stan/lib/stan_math/lib/sundials_6.1.1/include/stan_sundials_printf_override.hpp stan/lib/stan_math/lib/sundials_6.1.1/src/kinsol/kinsol_bbdpre.c -o stan/lib/stan_math/lib/sundials_6.1.1/src/kinsol/kinsol_bbdpre.o\n",
            "g++ -pipe   -pthread -D_REENTRANT  -O3 -I stan/lib/stan_math/lib/sundials_6.1.1/include -I stan/lib/stan_math/lib/sundials_6.1.1/src/sundials -DNO_FPRINTF_OUTPUT     -O3  -c -x c -include stan/lib/stan_math/lib/sundials_6.1.1/include/stan_sundials_printf_override.hpp stan/lib/stan_math/lib/sundials_6.1.1/src/kinsol/kinsol.c -o stan/lib/stan_math/lib/sundials_6.1.1/src/kinsol/kinsol.o\n",
            "g++ -pipe   -pthread -D_REENTRANT  -O3 -I stan/lib/stan_math/lib/sundials_6.1.1/include -I stan/lib/stan_math/lib/sundials_6.1.1/src/sundials -DNO_FPRINTF_OUTPUT     -O3  -c -x c -include stan/lib/stan_math/lib/sundials_6.1.1/include/stan_sundials_printf_override.hpp stan/lib/stan_math/lib/sundials_6.1.1/src/kinsol/kinsol_direct.c -o stan/lib/stan_math/lib/sundials_6.1.1/src/kinsol/kinsol_direct.o\n",
            "g++ -pipe   -pthread -D_REENTRANT  -O3 -I stan/lib/stan_math/lib/sundials_6.1.1/include -I stan/lib/stan_math/lib/sundials_6.1.1/src/sundials -DNO_FPRINTF_OUTPUT     -O3  -c -x c -include stan/lib/stan_math/lib/sundials_6.1.1/include/stan_sundials_printf_override.hpp stan/lib/stan_math/lib/sundials_6.1.1/src/kinsol/kinsol_io.c -o stan/lib/stan_math/lib/sundials_6.1.1/src/kinsol/kinsol_io.o\n",
            "g++ -pipe   -pthread -D_REENTRANT  -O3 -I stan/lib/stan_math/lib/sundials_6.1.1/include -I stan/lib/stan_math/lib/sundials_6.1.1/src/sundials -DNO_FPRINTF_OUTPUT     -O3  -c -x c -include stan/lib/stan_math/lib/sundials_6.1.1/include/stan_sundials_printf_override.hpp stan/lib/stan_math/lib/sundials_6.1.1/src/kinsol/kinsol_ls.c -o stan/lib/stan_math/lib/sundials_6.1.1/src/kinsol/kinsol_ls.o\n",
            "g++ -pipe   -pthread -D_REENTRANT  -O3 -I stan/lib/stan_math/lib/sundials_6.1.1/include -I stan/lib/stan_math/lib/sundials_6.1.1/src/sundials -DNO_FPRINTF_OUTPUT     -O3  -c -x c -include stan/lib/stan_math/lib/sundials_6.1.1/include/stan_sundials_printf_override.hpp stan/lib/stan_math/lib/sundials_6.1.1/src/kinsol/kinsol_spils.c -o stan/lib/stan_math/lib/sundials_6.1.1/src/kinsol/kinsol_spils.o\n",
            "touch stan/lib/stan_math/lib/tbb/tbb-make-check\n",
            "\n",
            "--- Compiling the main object file. This might take up to a minute. ---\n",
            "g++ -Wno-deprecated-declarations -std=c++17 -pthread -D_REENTRANT -Wno-sign-compare -Wno-ignored-attributes -Wno-class-memaccess      -I stan/lib/stan_math/lib/tbb_2020.3/include    -O3 -I src -I stan/src -I stan/lib/rapidjson_1.1.0/ -I lib/CLI11-1.9.1/ -I stan/lib/stan_math/ -I stan/lib/stan_math/lib/eigen_3.4.0 -I stan/lib/stan_math/lib/boost_1.84.0 -I stan/lib/stan_math/lib/sundials_6.1.1/include -I stan/lib/stan_math/lib/sundials_6.1.1/src/sundials    -DBOOST_DISABLE_ASSERTS          -c -o src/cmdstan/main.o src/cmdstan/main.cpp\n",
            "\n",
            "--- Compiling pre-compiled header. This might take a few seconds. ---\n",
            "g++ -Wno-deprecated-declarations -std=c++17 -pthread -D_REENTRANT -Wno-sign-compare -Wno-ignored-attributes -Wno-class-memaccess      -I stan/lib/stan_math/lib/tbb_2020.3/include    -O3 -I src -I stan/src -I stan/lib/rapidjson_1.1.0/ -I lib/CLI11-1.9.1/ -I stan/lib/stan_math/ -I stan/lib/stan_math/lib/eigen_3.4.0 -I stan/lib/stan_math/lib/boost_1.84.0 -I stan/lib/stan_math/lib/sundials_6.1.1/include -I stan/lib/stan_math/lib/sundials_6.1.1/src/sundials    -DBOOST_DISABLE_ASSERTS          -c stan/src/stan/model/model_header.hpp -o stan/src/stan/model/model_header.hpp.gch/model_header_11_4.hpp.gch\n",
            "g++ -Wno-deprecated-declarations -std=c++17 -pthread -D_REENTRANT -Wno-sign-compare -Wno-ignored-attributes -Wno-class-memaccess      -I stan/lib/stan_math/lib/tbb_2020.3/include    -O3 -I src -I stan/src -I stan/lib/rapidjson_1.1.0/ -I lib/CLI11-1.9.1/ -I stan/lib/stan_math/ -I stan/lib/stan_math/lib/eigen_3.4.0 -I stan/lib/stan_math/lib/boost_1.84.0 -I stan/lib/stan_math/lib/sundials_6.1.1/include -I stan/lib/stan_math/lib/sundials_6.1.1/src/sundials    -DBOOST_DISABLE_ASSERTS          -c -fvisibility=hidden src/cmdstan/stansummary.cpp -o bin/cmdstan/stansummary.o\n",
            "g++ -Wno-deprecated-declarations -std=c++17 -pthread -D_REENTRANT -Wno-sign-compare -Wno-ignored-attributes -Wno-class-memaccess      -I stan/lib/stan_math/lib/tbb_2020.3/include    -O3 -I src -I stan/src -I stan/lib/rapidjson_1.1.0/ -I lib/CLI11-1.9.1/ -I stan/lib/stan_math/ -I stan/lib/stan_math/lib/eigen_3.4.0 -I stan/lib/stan_math/lib/boost_1.84.0 -I stan/lib/stan_math/lib/sundials_6.1.1/include -I stan/lib/stan_math/lib/sundials_6.1.1/src/sundials    -DBOOST_DISABLE_ASSERTS          -c -fvisibility=hidden src/cmdstan/print.cpp -o bin/cmdstan/print.o\n",
            "g++ -Wno-deprecated-declarations -std=c++17 -pthread -D_REENTRANT -Wno-sign-compare -Wno-ignored-attributes -Wno-class-memaccess      -I stan/lib/stan_math/lib/tbb_2020.3/include    -O3 -I src -I stan/src -I stan/lib/rapidjson_1.1.0/ -I lib/CLI11-1.9.1/ -I stan/lib/stan_math/ -I stan/lib/stan_math/lib/eigen_3.4.0 -I stan/lib/stan_math/lib/boost_1.84.0 -I stan/lib/stan_math/lib/sundials_6.1.1/include -I stan/lib/stan_math/lib/sundials_6.1.1/src/sundials    -DBOOST_DISABLE_ASSERTS          -c -fvisibility=hidden src/cmdstan/diagnose.cpp -o bin/cmdstan/diagnose.o\n",
            "ar -rs stan/lib/stan_math/lib/sundials_6.1.1/lib/libsundials_nvecserial.a stan/lib/stan_math/lib/sundials_6.1.1/src/nvector/serial/nvector_serial.o stan/lib/stan_math/lib/sundials_6.1.1/src/sundials/sundials_math.o\n",
            "\u001b[31mar: \u001b[39m\u001b[31mcreating stan/lib/stan_math/lib/sundials_6.1.1/lib/libsundials_nvecserial.a\n",
            "\u001b[39mar -rs stan/lib/stan_math/lib/sundials_6.1.1/lib/libsundials_cvodes.a stan/lib/stan_math/lib/sundials_6.1.1/src/cvodes/cvodea.o stan/lib/stan_math/lib/sundials_6.1.1/src/cvodes/cvodea_io.o stan/lib/stan_math/lib/sundials_6.1.1/src/cvodes/cvodes_bandpre.o stan/lib/stan_math/lib/sundials_6.1.1/src/cvodes/cvodes_bbdpre.o stan/lib/stan_math/lib/sundials_6.1.1/src/cvodes/cvodes.o stan/lib/stan_math/lib/sundials_6.1.1/src/cvodes/cvodes_diag.o stan/lib/stan_math/lib/sundials_6.1.1/src/cvodes/cvodes_direct.o stan/lib/stan_math/lib/sundials_6.1.1/src/cvodes/cvodes_io.o stan/lib/stan_math/lib/sundials_6.1.1/src/cvodes/cvodes_ls.o stan/lib/stan_math/lib/sundials_6.1.1/src/cvodes/cvodes_nls.o stan/lib/stan_math/lib/sundials_6.1.1/src/cvodes/cvodes_nls_sim.o stan/lib/stan_math/lib/sundials_6.1.1/src/cvodes/cvodes_nls_stg1.o stan/lib/stan_math/lib/sundials_6.1.1/src/cvodes/cvodes_nls_stg.o stan/lib/stan_math/lib/sundials_6.1.1/src/cvodes/cvodes_spils.o stan/lib/stan_math/lib/sundials_6.1.1/src/sundials/sundials_band.o stan/lib/stan_math/lib/sundials_6.1.1/src/sundials/sundials_context.o stan/lib/stan_math/lib/sundials_6.1.1/src/sundials/sundials_dense.o stan/lib/stan_math/lib/sundials_6.1.1/src/sundials/sundials_direct.o stan/lib/stan_math/lib/sundials_6.1.1/src/sundials/sundials_futils.o stan/lib/stan_math/lib/sundials_6.1.1/src/sundials/sundials_iterative.o stan/lib/stan_math/lib/sundials_6.1.1/src/sundials/sundials_linearsolver.o stan/lib/stan_math/lib/sundials_6.1.1/src/sundials/sundials_math.o stan/lib/stan_math/lib/sundials_6.1.1/src/sundials/sundials_matrix.o stan/lib/stan_math/lib/sundials_6.1.1/src/sundials/sundials_memory.o stan/lib/stan_math/lib/sundials_6.1.1/src/sundials/sundials_nonlinearsolver.o stan/lib/stan_math/lib/sundials_6.1.1/src/sundials/sundials_nvector.o stan/lib/stan_math/lib/sundials_6.1.1/src/sundials/sundials_nvector_senswrapper.o stan/lib/stan_math/lib/sundials_6.1.1/src/sundials/sundials_version.o stan/lib/stan_math/lib/sundials_6.1.1/src/sunmatrix/band/sunmatrix_band.o stan/lib/stan_math/lib/sundials_6.1.1/src/sunmatrix/dense/sunmatrix_dense.o stan/lib/stan_math/lib/sundials_6.1.1/src/sunlinsol/band/sunlinsol_band.o stan/lib/stan_math/lib/sundials_6.1.1/src/sunlinsol/dense/sunlinsol_dense.o stan/lib/stan_math/lib/sundials_6.1.1/src/sunnonlinsol/newton/sunnonlinsol_newton.o stan/lib/stan_math/lib/sundials_6.1.1/src/sunnonlinsol/fixedpoint/sunnonlinsol_fixedpoint.o\n",
            "\u001b[31mar: \u001b[39m\u001b[31mcreating stan/lib/stan_math/lib/sundials_6.1.1/lib/libsundials_cvodes.a\u001b[39m\u001b[31m\n",
            "\u001b[39mar -rs stan/lib/stan_math/lib/sundials_6.1.1/lib/libsundials_idas.a stan/lib/stan_math/lib/sundials_6.1.1/src/idas/idaa.o stan/lib/stan_math/lib/sundials_6.1.1/src/idas/idaa_io.o stan/lib/stan_math/lib/sundials_6.1.1/src/idas/idas_bbdpre.o stan/lib/stan_math/lib/sundials_6.1.1/src/idas/idas.o stan/lib/stan_math/lib/sundials_6.1.1/src/idas/idas_direct.o stan/lib/stan_math/lib/sundials_6.1.1/src/idas/idas_ic.o stan/lib/stan_math/lib/sundials_6.1.1/src/idas/idas_io.o stan/lib/stan_math/lib/sundials_6.1.1/src/idas/idas_ls.o stan/lib/stan_math/lib/sundials_6.1.1/src/idas/idas_nls.o stan/lib/stan_math/lib/sundials_6.1.1/src/idas/idas_nls_sim.o stan/lib/stan_math/lib/sundials_6.1.1/src/idas/idas_nls_stg.o stan/lib/stan_math/lib/sundials_6.1.1/src/idas/idas_spils.o stan/lib/stan_math/lib/sundials_6.1.1/src/sundials/sundials_band.o stan/lib/stan_math/lib/sundials_6.1.1/src/sundials/sundials_context.o stan/lib/stan_math/lib/sundials_6.1.1/src/sundials/sundials_dense.o stan/lib/stan_math/lib/sundials_6.1.1/src/sundials/sundials_direct.o stan/lib/stan_math/lib/sundials_6.1.1/src/sundials/sundials_futils.o stan/lib/stan_math/lib/sundials_6.1.1/src/sundials/sundials_iterative.o stan/lib/stan_math/lib/sundials_6.1.1/src/sundials/sundials_linearsolver.o stan/lib/stan_math/lib/sundials_6.1.1/src/sundials/sundials_math.o stan/lib/stan_math/lib/sundials_6.1.1/src/sundials/sundials_matrix.o stan/lib/stan_math/lib/sundials_6.1.1/src/sundials/sundials_memory.o stan/lib/stan_math/lib/sundials_6.1.1/src/sundials/sundials_nonlinearsolver.o stan/lib/stan_math/lib/sundials_6.1.1/src/sundials/sundials_nvector.o stan/lib/stan_math/lib/sundials_6.1.1/src/sundials/sundials_nvector_senswrapper.o stan/lib/stan_math/lib/sundials_6.1.1/src/sundials/sundials_version.o stan/lib/stan_math/lib/sundials_6.1.1/src/sunmatrix/band/sunmatrix_band.o stan/lib/stan_math/lib/sundials_6.1.1/src/sunmatrix/dense/sunmatrix_dense.o stan/lib/stan_math/lib/sundials_6.1.1/src/sunlinsol/band/sunlinsol_band.o stan/lib/stan_math/lib/sundials_6.1.1/src/sunlinsol/dense/sunlinsol_dense.o stan/lib/stan_math/lib/sundials_6.1.1/src/sunnonlinsol/newton/sunnonlinsol_newton.o stan/lib/stan_math/lib/sundials_6.1.1/src/sunnonlinsol/fixedpoint/sunnonlinsol_fixedpoint.o\n",
            "\u001b[31mar: \u001b[39m\u001b[31mcreating stan/lib/stan_math/lib/sundials_6.1.1/lib/libsundials_idas.a\u001b[39m\u001b[31m\n",
            "\u001b[39mar -rs stan/lib/stan_math/lib/sundials_6.1.1/lib/libsundials_kinsol.a stan/lib/stan_math/lib/sundials_6.1.1/src/kinsol/kinsol_bbdpre.o stan/lib/stan_math/lib/sundials_6.1.1/src/kinsol/kinsol.o stan/lib/stan_math/lib/sundials_6.1.1/src/kinsol/kinsol_direct.o stan/lib/stan_math/lib/sundials_6.1.1/src/kinsol/kinsol_io.o stan/lib/stan_math/lib/sundials_6.1.1/src/kinsol/kinsol_ls.o stan/lib/stan_math/lib/sundials_6.1.1/src/kinsol/kinsol_spils.o stan/lib/stan_math/lib/sundials_6.1.1/src/sundials/sundials_band.o stan/lib/stan_math/lib/sundials_6.1.1/src/sundials/sundials_context.o stan/lib/stan_math/lib/sundials_6.1.1/src/sundials/sundials_dense.o stan/lib/stan_math/lib/sundials_6.1.1/src/sundials/sundials_direct.o stan/lib/stan_math/lib/sundials_6.1.1/src/sundials/sundials_futils.o stan/lib/stan_math/lib/sundials_6.1.1/src/sundials/sundials_iterative.o stan/lib/stan_math/lib/sundials_6.1.1/src/sundials/sundials_linearsolver.o stan/lib/stan_math/lib/sundials_6.1.1/src/sundials/sundials_math.o stan/lib/stan_math/lib/sundials_6.1.1/src/sundials/sundials_matrix.o stan/lib/stan_math/lib/sundials_6.1.1/src/sundials/sundials_memory.o stan/lib/stan_math/lib/sundials_6.1.1/src/sundials/sundials_nonlinearsolver.o stan/lib/stan_math/lib/sundials_6.1.1/src/sundials/sundials_nvector.o stan/lib/stan_math/lib/sundials_6.1.1/src/sundials/sundials_nvector_senswrapper.o stan/lib/stan_math/lib/sundials_6.1.1/src/sundials/sundials_version.o stan/lib/stan_math/lib/sundials_6.1.1/src/sunmatrix/band/sunmatrix_band.o stan/lib/stan_math/lib/sundials_6.1.1/src/sunmatrix/dense/sunmatrix_dense.o stan/lib/stan_math/lib/sundials_6.1.1/src/sunlinsol/band/sunlinsol_band.o stan/lib/stan_math/lib/sundials_6.1.1/src/sunlinsol/dense/sunlinsol_dense.o stan/lib/stan_math/lib/sundials_6.1.1/src/sunnonlinsol/newton/sunnonlinsol_newton.o stan/lib/stan_math/lib/sundials_6.1.1/src/sunnonlinsol/fixedpoint/sunnonlinsol_fixedpoint.o\n",
            "\u001b[31mar: \u001b[39m\u001b[31mcreating stan/lib/stan_math/lib/sundials_6.1.1/lib/libsundials_kinsol.a\u001b[39m\u001b[31m\n",
            "\u001b[39mtouch stan/lib/stan_math/lib/tbb/version_tbb_2020.3\n",
            "tbb_root=\"../tbb_2020.3\" WINARM64=\"\" CXX=\"g++\" CC=\"gcc\" LDFLAGS='-Wl,-L,\"/root/.cmdstan/cmdstan-2.35.0/stan/lib/stan_math/lib/tbb\"   -Wl,-rpath,\"/root/.cmdstan/cmdstan-2.35.0/stan/lib/stan_math/lib/tbb\"' 'make' -C \"stan/lib/stan_math/lib/tbb\" -r -f \"/root/.cmdstan/cmdstan-2.35.0/stan/lib/stan_math/lib/tbb_2020.3/build/Makefile.tbb\" compiler=gcc cfg=release stdver=c++17  CXXFLAGS=\"-Wno-unknown-warning-option -Wno-deprecated-copy -Wno-missing-attributes -Wno-class-memaccess -Wno-sized-deallocation  \"\n",
            "make[1]: Entering directory '/root/.cmdstan/cmdstan-2.35.0/stan/lib/stan_math/lib/tbb'\n",
            "\u001b[31m/root/.cmdstan/cmdstan-2.35.0/stan/lib/stan_math/lib/tbb_2020.3/build/Makefile.tbb:28: CONFIG: cfg=release arch=intel64 compiler=gcc target=linux runtime=cc11.4.0_libc2.35_kernel6.1.85+\n",
            "\u001b[39mg++ -o concurrent_hash_map.o -c -MMD -O2 -g -DDO_ITT_NOTIFY -DUSE_PTHREAD -pthread -m64 -mrtm  -fPIC -flifetime-dse=1 -D__TBB_BUILD=1 -Wall -Wextra -Wno-parentheses -Wno-sized-deallocation -Wno-unknown-warning-option -Wno-deprecated-copy -Wno-missing-attributes -Wno-class-memaccess -Wno-sized-deallocation   -DTBB_SUPPRESS_DEPRECATED_MESSAGES=1 -std=c++17  -I../tbb_2020.3/src -I../tbb_2020.3/src/rml/include -I../tbb_2020.3/include ../tbb_2020.3/src/tbb/concurrent_hash_map.cpp\n",
            "g++ -o concurrent_queue.o -c -MMD -O2 -g -DDO_ITT_NOTIFY -DUSE_PTHREAD -pthread -m64 -mrtm  -fPIC -flifetime-dse=1 -D__TBB_BUILD=1 -Wall -Wextra -Wno-parentheses -Wno-sized-deallocation -Wno-unknown-warning-option -Wno-deprecated-copy -Wno-missing-attributes -Wno-class-memaccess -Wno-sized-deallocation   -DTBB_SUPPRESS_DEPRECATED_MESSAGES=1 -std=c++17  -I../tbb_2020.3/src -I../tbb_2020.3/src/rml/include -I../tbb_2020.3/include ../tbb_2020.3/src/tbb/concurrent_queue.cpp\n",
            "g++ -o concurrent_vector.o -c -MMD -O2 -g -DDO_ITT_NOTIFY -DUSE_PTHREAD -pthread -m64 -mrtm  -fPIC -flifetime-dse=1 -D__TBB_BUILD=1 -Wall -Wextra -Wno-parentheses -Wno-sized-deallocation -Wno-unknown-warning-option -Wno-deprecated-copy -Wno-missing-attributes -Wno-class-memaccess -Wno-sized-deallocation   -DTBB_SUPPRESS_DEPRECATED_MESSAGES=1 -std=c++17  -I../tbb_2020.3/src -I../tbb_2020.3/src/rml/include -I../tbb_2020.3/include ../tbb_2020.3/src/tbb/concurrent_vector.cpp\n",
            "g++ -o dynamic_link.o -c -MMD -O2 -g -DDO_ITT_NOTIFY -DUSE_PTHREAD -pthread -m64 -mrtm  -fPIC -flifetime-dse=1 -D__TBB_BUILD=1 -Wall -Wextra -Wno-parentheses -Wno-sized-deallocation -Wno-unknown-warning-option -Wno-deprecated-copy -Wno-missing-attributes -Wno-class-memaccess -Wno-sized-deallocation   -DTBB_SUPPRESS_DEPRECATED_MESSAGES=1 -std=c++17  -I../tbb_2020.3/src -I../tbb_2020.3/src/rml/include -I../tbb_2020.3/include ../tbb_2020.3/src/tbb/dynamic_link.cpp\n",
            "g++ -o itt_notify.o -c -MMD -O2 -g -DDO_ITT_NOTIFY -DUSE_PTHREAD -pthread -m64 -mrtm  -fPIC -flifetime-dse=1 -D__TBB_BUILD=1 -Wall -Wextra -Wno-parentheses -Wno-sized-deallocation -Wno-unknown-warning-option -Wno-deprecated-copy -Wno-missing-attributes -Wno-class-memaccess -Wno-sized-deallocation   -DTBB_SUPPRESS_DEPRECATED_MESSAGES=1 -std=c++17  -I../tbb_2020.3/src -I../tbb_2020.3/src/rml/include -I../tbb_2020.3/include ../tbb_2020.3/src/tbb/itt_notify.cpp\n",
            "g++ -o cache_aligned_allocator.o -c -MMD -O2 -g -DDO_ITT_NOTIFY -DUSE_PTHREAD -pthread -m64 -mrtm  -fPIC -flifetime-dse=1 -D__TBB_BUILD=1 -Wall -Wextra -Wno-parentheses -Wno-sized-deallocation -Wno-unknown-warning-option -Wno-deprecated-copy -Wno-missing-attributes -Wno-class-memaccess -Wno-sized-deallocation   -DTBB_SUPPRESS_DEPRECATED_MESSAGES=1 -std=c++17  -I../tbb_2020.3/src -I../tbb_2020.3/src/rml/include -I../tbb_2020.3/include ../tbb_2020.3/src/tbb/cache_aligned_allocator.cpp\n",
            "g++ -o pipeline.o -c -MMD -O2 -g -DDO_ITT_NOTIFY -DUSE_PTHREAD -pthread -m64 -mrtm  -fPIC -flifetime-dse=1 -D__TBB_BUILD=1 -Wall -Wextra -Wno-parentheses -Wno-sized-deallocation -Wno-unknown-warning-option -Wno-deprecated-copy -Wno-missing-attributes -Wno-class-memaccess -Wno-sized-deallocation   -DTBB_SUPPRESS_DEPRECATED_MESSAGES=1 -std=c++17  -I../tbb_2020.3/src -I../tbb_2020.3/src/rml/include -I../tbb_2020.3/include ../tbb_2020.3/src/tbb/pipeline.cpp\n",
            "g++ -o queuing_mutex.o -c -MMD -O2 -g -DDO_ITT_NOTIFY -DUSE_PTHREAD -pthread -m64 -mrtm  -fPIC -flifetime-dse=1 -D__TBB_BUILD=1 -Wall -Wextra -Wno-parentheses -Wno-sized-deallocation -Wno-unknown-warning-option -Wno-deprecated-copy -Wno-missing-attributes -Wno-class-memaccess -Wno-sized-deallocation   -DTBB_SUPPRESS_DEPRECATED_MESSAGES=1 -std=c++17  -I../tbb_2020.3/src -I../tbb_2020.3/src/rml/include -I../tbb_2020.3/include ../tbb_2020.3/src/tbb/queuing_mutex.cpp\n",
            "g++ -o queuing_rw_mutex.o -c -MMD -O2 -g -DDO_ITT_NOTIFY -DUSE_PTHREAD -pthread -m64 -mrtm  -fPIC -flifetime-dse=1 -D__TBB_BUILD=1 -Wall -Wextra -Wno-parentheses -Wno-sized-deallocation -Wno-unknown-warning-option -Wno-deprecated-copy -Wno-missing-attributes -Wno-class-memaccess -Wno-sized-deallocation   -DTBB_SUPPRESS_DEPRECATED_MESSAGES=1 -std=c++17  -I../tbb_2020.3/src -I../tbb_2020.3/src/rml/include -I../tbb_2020.3/include ../tbb_2020.3/src/tbb/queuing_rw_mutex.cpp\n",
            "g++ -o reader_writer_lock.o -c -MMD -O2 -g -DDO_ITT_NOTIFY -DUSE_PTHREAD -pthread -m64 -mrtm  -fPIC -flifetime-dse=1 -D__TBB_BUILD=1 -Wall -Wextra -Wno-parentheses -Wno-sized-deallocation -Wno-unknown-warning-option -Wno-deprecated-copy -Wno-missing-attributes -Wno-class-memaccess -Wno-sized-deallocation   -DTBB_SUPPRESS_DEPRECATED_MESSAGES=1 -std=c++17  -I../tbb_2020.3/src -I../tbb_2020.3/src/rml/include -I../tbb_2020.3/include ../tbb_2020.3/src/tbb/reader_writer_lock.cpp\n",
            "g++ -o spin_rw_mutex.o -c -MMD -O2 -g -DDO_ITT_NOTIFY -DUSE_PTHREAD -pthread -m64 -mrtm  -fPIC -flifetime-dse=1 -D__TBB_BUILD=1 -Wall -Wextra -Wno-parentheses -Wno-sized-deallocation -Wno-unknown-warning-option -Wno-deprecated-copy -Wno-missing-attributes -Wno-class-memaccess -Wno-sized-deallocation   -DTBB_SUPPRESS_DEPRECATED_MESSAGES=1 -std=c++17  -I../tbb_2020.3/src -I../tbb_2020.3/src/rml/include -I../tbb_2020.3/include ../tbb_2020.3/src/tbb/spin_rw_mutex.cpp\n",
            "g++ -o x86_rtm_rw_mutex.o -c -MMD -O2 -g -DDO_ITT_NOTIFY -DUSE_PTHREAD -pthread -m64 -mrtm  -fPIC -flifetime-dse=1 -D__TBB_BUILD=1 -Wall -Wextra -Wno-parentheses -Wno-sized-deallocation -Wno-unknown-warning-option -Wno-deprecated-copy -Wno-missing-attributes -Wno-class-memaccess -Wno-sized-deallocation   -DTBB_SUPPRESS_DEPRECATED_MESSAGES=1 -std=c++17  -I../tbb_2020.3/src -I../tbb_2020.3/src/rml/include -I../tbb_2020.3/include ../tbb_2020.3/src/tbb/x86_rtm_rw_mutex.cpp\n",
            "g++ -o spin_mutex.o -c -MMD -O2 -g -DDO_ITT_NOTIFY -DUSE_PTHREAD -pthread -m64 -mrtm  -fPIC -flifetime-dse=1 -D__TBB_BUILD=1 -Wall -Wextra -Wno-parentheses -Wno-sized-deallocation -Wno-unknown-warning-option -Wno-deprecated-copy -Wno-missing-attributes -Wno-class-memaccess -Wno-sized-deallocation   -DTBB_SUPPRESS_DEPRECATED_MESSAGES=1 -std=c++17  -I../tbb_2020.3/src -I../tbb_2020.3/src/rml/include -I../tbb_2020.3/include ../tbb_2020.3/src/tbb/spin_mutex.cpp\n",
            "g++ -o critical_section.o -c -MMD -O2 -g -DDO_ITT_NOTIFY -DUSE_PTHREAD -pthread -m64 -mrtm  -fPIC -flifetime-dse=1 -D__TBB_BUILD=1 -Wall -Wextra -Wno-parentheses -Wno-sized-deallocation -Wno-unknown-warning-option -Wno-deprecated-copy -Wno-missing-attributes -Wno-class-memaccess -Wno-sized-deallocation   -DTBB_SUPPRESS_DEPRECATED_MESSAGES=1 -std=c++17  -I../tbb_2020.3/src -I../tbb_2020.3/src/rml/include -I../tbb_2020.3/include ../tbb_2020.3/src/tbb/critical_section.cpp\n",
            "g++ -o mutex.o -c -MMD -O2 -g -DDO_ITT_NOTIFY -DUSE_PTHREAD -pthread -m64 -mrtm  -fPIC -flifetime-dse=1 -D__TBB_BUILD=1 -Wall -Wextra -Wno-parentheses -Wno-sized-deallocation -Wno-unknown-warning-option -Wno-deprecated-copy -Wno-missing-attributes -Wno-class-memaccess -Wno-sized-deallocation   -DTBB_SUPPRESS_DEPRECATED_MESSAGES=1 -std=c++17  -I../tbb_2020.3/src -I../tbb_2020.3/src/rml/include -I../tbb_2020.3/include ../tbb_2020.3/src/tbb/mutex.cpp\n",
            "g++ -o recursive_mutex.o -c -MMD -O2 -g -DDO_ITT_NOTIFY -DUSE_PTHREAD -pthread -m64 -mrtm  -fPIC -flifetime-dse=1 -D__TBB_BUILD=1 -Wall -Wextra -Wno-parentheses -Wno-sized-deallocation -Wno-unknown-warning-option -Wno-deprecated-copy -Wno-missing-attributes -Wno-class-memaccess -Wno-sized-deallocation   -DTBB_SUPPRESS_DEPRECATED_MESSAGES=1 -std=c++17  -I../tbb_2020.3/src -I../tbb_2020.3/src/rml/include -I../tbb_2020.3/include ../tbb_2020.3/src/tbb/recursive_mutex.cpp\n",
            "g++ -o condition_variable.o -c -MMD -O2 -g -DDO_ITT_NOTIFY -DUSE_PTHREAD -pthread -m64 -mrtm  -fPIC -flifetime-dse=1 -D__TBB_BUILD=1 -Wall -Wextra -Wno-parentheses -Wno-sized-deallocation -Wno-unknown-warning-option -Wno-deprecated-copy -Wno-missing-attributes -Wno-class-memaccess -Wno-sized-deallocation   -DTBB_SUPPRESS_DEPRECATED_MESSAGES=1 -std=c++17  -I../tbb_2020.3/src -I../tbb_2020.3/src/rml/include -I../tbb_2020.3/include ../tbb_2020.3/src/tbb/condition_variable.cpp\n",
            "g++ -o tbb_thread.o -c -MMD -O2 -g -DDO_ITT_NOTIFY -DUSE_PTHREAD -pthread -m64 -mrtm  -fPIC -flifetime-dse=1 -D__TBB_BUILD=1 -Wall -Wextra -Wno-parentheses -Wno-sized-deallocation -Wno-unknown-warning-option -Wno-deprecated-copy -Wno-missing-attributes -Wno-class-memaccess -Wno-sized-deallocation   -DTBB_SUPPRESS_DEPRECATED_MESSAGES=1 -std=c++17  -I../tbb_2020.3/src -I../tbb_2020.3/src/rml/include -I../tbb_2020.3/include ../tbb_2020.3/src/tbb/tbb_thread.cpp\n",
            "g++ -o concurrent_monitor.o -c -MMD -O2 -g -DDO_ITT_NOTIFY -DUSE_PTHREAD -pthread -m64 -mrtm  -fPIC -flifetime-dse=1 -D__TBB_BUILD=1 -Wall -Wextra -Wno-parentheses -Wno-sized-deallocation -Wno-unknown-warning-option -Wno-deprecated-copy -Wno-missing-attributes -Wno-class-memaccess -Wno-sized-deallocation   -DTBB_SUPPRESS_DEPRECATED_MESSAGES=1 -std=c++17  -I../tbb_2020.3/src -I../tbb_2020.3/src/rml/include -I../tbb_2020.3/include ../tbb_2020.3/src/tbb/concurrent_monitor.cpp\n",
            "g++ -o semaphore.o -c -MMD -O2 -g -DDO_ITT_NOTIFY -DUSE_PTHREAD -pthread -m64 -mrtm  -fPIC -flifetime-dse=1 -D__TBB_BUILD=1 -Wall -Wextra -Wno-parentheses -Wno-sized-deallocation -Wno-unknown-warning-option -Wno-deprecated-copy -Wno-missing-attributes -Wno-class-memaccess -Wno-sized-deallocation   -DTBB_SUPPRESS_DEPRECATED_MESSAGES=1 -std=c++17  -I../tbb_2020.3/src -I../tbb_2020.3/src/rml/include -I../tbb_2020.3/include ../tbb_2020.3/src/tbb/semaphore.cpp\n",
            "g++ -o private_server.o -c -MMD -O2 -g -DDO_ITT_NOTIFY -DUSE_PTHREAD -pthread -m64 -mrtm  -fPIC -flifetime-dse=1 -D__TBB_BUILD=1 -Wall -Wextra -Wno-parentheses -Wno-sized-deallocation -Wno-unknown-warning-option -Wno-deprecated-copy -Wno-missing-attributes -Wno-class-memaccess -Wno-sized-deallocation   -DTBB_SUPPRESS_DEPRECATED_MESSAGES=1 -std=c++17  -I../tbb_2020.3/src -I../tbb_2020.3/src/rml/include -I../tbb_2020.3/include ../tbb_2020.3/src/tbb/private_server.cpp\n",
            "g++ -o rml_tbb.o -c -MMD -O2 -g -DDO_ITT_NOTIFY -DUSE_PTHREAD -pthread -m64 -mrtm  -fPIC -flifetime-dse=1 -D__TBB_BUILD=1 -Wall -Wextra -Wno-parentheses -Wno-sized-deallocation -Wno-unknown-warning-option -Wno-deprecated-copy -Wno-missing-attributes -Wno-class-memaccess -Wno-sized-deallocation   -DTBB_SUPPRESS_DEPRECATED_MESSAGES=1 -std=c++17  -I../tbb_2020.3/src -I../tbb_2020.3/src/rml/include -I../tbb_2020.3/include ../tbb_2020.3/src/rml/client/rml_tbb.cpp\n",
            "sh ../tbb_2020.3/build/version_info_linux.sh g++ -O2 -g -DDO_ITT_NOTIFY -DUSE_PTHREAD -pthread -m64 -mrtm  -fPIC -flifetime-dse=1 -D__TBB_BUILD=1 -Wall -Wextra -Wno-parentheses -Wno-sized-deallocation -Wno-unknown-warning-option -Wno-deprecated-copy -Wno-missing-attributes -Wno-class-memaccess -Wno-sized-deallocation   -DTBB_SUPPRESS_DEPRECATED_MESSAGES=1 -std=c++17 -I../tbb_2020.3/src -I../tbb_2020.3/src/rml/include -I../tbb_2020.3/include -I. >version_string.ver\n",
            "g++ -o tbb_misc_ex.o -c -MMD -O2 -g -DDO_ITT_NOTIFY -DUSE_PTHREAD -pthread -m64 -mrtm  -fPIC -flifetime-dse=1 -D__TBB_BUILD=1 -Wall -Wextra -Wno-parentheses -Wno-sized-deallocation -Wno-unknown-warning-option -Wno-deprecated-copy -Wno-missing-attributes -Wno-class-memaccess -Wno-sized-deallocation   -DTBB_SUPPRESS_DEPRECATED_MESSAGES=1 -std=c++17  -I../tbb_2020.3/src -I../tbb_2020.3/src/rml/include -I../tbb_2020.3/include ../tbb_2020.3/src/tbb/tbb_misc_ex.cpp\n",
            "g++ -o task.o -c -MMD -O2 -g -DDO_ITT_NOTIFY -DUSE_PTHREAD -pthread -m64 -mrtm  -fPIC -flifetime-dse=1 -D__TBB_BUILD=1 -Wall -Wextra -Wno-parentheses -Wno-sized-deallocation -Wno-unknown-warning-option -Wno-deprecated-copy -Wno-missing-attributes -Wno-class-memaccess -Wno-sized-deallocation   -DTBB_SUPPRESS_DEPRECATED_MESSAGES=1 -std=c++17  -I../tbb_2020.3/src -I../tbb_2020.3/src/rml/include -I../tbb_2020.3/include ../tbb_2020.3/src/tbb/task.cpp\n",
            "g++ -o task_group_context.o -c -MMD -O2 -g -DDO_ITT_NOTIFY -DUSE_PTHREAD -pthread -m64 -mrtm  -fPIC -flifetime-dse=1 -D__TBB_BUILD=1 -Wall -Wextra -Wno-parentheses -Wno-sized-deallocation -Wno-unknown-warning-option -Wno-deprecated-copy -Wno-missing-attributes -Wno-class-memaccess -Wno-sized-deallocation   -DTBB_SUPPRESS_DEPRECATED_MESSAGES=1 -std=c++17  -I../tbb_2020.3/src -I../tbb_2020.3/src/rml/include -I../tbb_2020.3/include ../tbb_2020.3/src/tbb/task_group_context.cpp\n",
            "g++ -o governor.o -c -MMD -O2 -g -DDO_ITT_NOTIFY -DUSE_PTHREAD -pthread -m64 -mrtm  -fPIC -flifetime-dse=1 -D__TBB_BUILD=1 -Wall -Wextra -Wno-parentheses -Wno-sized-deallocation -Wno-unknown-warning-option -Wno-deprecated-copy -Wno-missing-attributes -Wno-class-memaccess -Wno-sized-deallocation   -DTBB_SUPPRESS_DEPRECATED_MESSAGES=1 -std=c++17  -I../tbb_2020.3/src -I../tbb_2020.3/src/rml/include -I../tbb_2020.3/include ../tbb_2020.3/src/tbb/governor.cpp\n",
            "g++ -o market.o -c -MMD -O2 -g -DDO_ITT_NOTIFY -DUSE_PTHREAD -pthread -m64 -mrtm  -fPIC -flifetime-dse=1 -D__TBB_BUILD=1 -Wall -Wextra -Wno-parentheses -Wno-sized-deallocation -Wno-unknown-warning-option -Wno-deprecated-copy -Wno-missing-attributes -Wno-class-memaccess -Wno-sized-deallocation   -DTBB_SUPPRESS_DEPRECATED_MESSAGES=1 -std=c++17  -I../tbb_2020.3/src -I../tbb_2020.3/src/rml/include -I../tbb_2020.3/include ../tbb_2020.3/src/tbb/market.cpp\n",
            "g++ -o arena.o -c -MMD -O2 -g -DDO_ITT_NOTIFY -DUSE_PTHREAD -pthread -m64 -mrtm  -fPIC -flifetime-dse=1 -D__TBB_BUILD=1 -Wall -Wextra -Wno-parentheses -Wno-sized-deallocation -Wno-unknown-warning-option -Wno-deprecated-copy -Wno-missing-attributes -Wno-class-memaccess -Wno-sized-deallocation   -DTBB_SUPPRESS_DEPRECATED_MESSAGES=1 -std=c++17  -I../tbb_2020.3/src -I../tbb_2020.3/src/rml/include -I../tbb_2020.3/include ../tbb_2020.3/src/tbb/arena.cpp\n",
            "g++ -o scheduler.o -c -MMD -O2 -g -DDO_ITT_NOTIFY -DUSE_PTHREAD -pthread -m64 -mrtm  -fPIC -flifetime-dse=1 -D__TBB_BUILD=1 -Wall -Wextra -Wno-parentheses -Wno-sized-deallocation -Wno-unknown-warning-option -Wno-deprecated-copy -Wno-missing-attributes -Wno-class-memaccess -Wno-sized-deallocation   -DTBB_SUPPRESS_DEPRECATED_MESSAGES=1 -std=c++17  -I../tbb_2020.3/src -I../tbb_2020.3/src/rml/include -I../tbb_2020.3/include ../tbb_2020.3/src/tbb/scheduler.cpp\n",
            "g++ -o observer_proxy.o -c -MMD -O2 -g -DDO_ITT_NOTIFY -DUSE_PTHREAD -pthread -m64 -mrtm  -fPIC -flifetime-dse=1 -D__TBB_BUILD=1 -Wall -Wextra -Wno-parentheses -Wno-sized-deallocation -Wno-unknown-warning-option -Wno-deprecated-copy -Wno-missing-attributes -Wno-class-memaccess -Wno-sized-deallocation   -DTBB_SUPPRESS_DEPRECATED_MESSAGES=1 -std=c++17  -I../tbb_2020.3/src -I../tbb_2020.3/src/rml/include -I../tbb_2020.3/include ../tbb_2020.3/src/tbb/observer_proxy.cpp\n",
            "g++ -o tbb_statistics.o -c -MMD -O2 -g -DDO_ITT_NOTIFY -DUSE_PTHREAD -pthread -m64 -mrtm  -fPIC -flifetime-dse=1 -D__TBB_BUILD=1 -Wall -Wextra -Wno-parentheses -Wno-sized-deallocation -Wno-unknown-warning-option -Wno-deprecated-copy -Wno-missing-attributes -Wno-class-memaccess -Wno-sized-deallocation   -DTBB_SUPPRESS_DEPRECATED_MESSAGES=1 -std=c++17  -I../tbb_2020.3/src -I../tbb_2020.3/src/rml/include -I../tbb_2020.3/include ../tbb_2020.3/src/tbb/tbb_statistics.cpp\n",
            "g++ -o tbb_main.o -c -MMD -O2 -g -DDO_ITT_NOTIFY -DUSE_PTHREAD -pthread -m64 -mrtm  -fPIC -flifetime-dse=1 -D__TBB_BUILD=1 -Wall -Wextra -Wno-parentheses -Wno-sized-deallocation -Wno-unknown-warning-option -Wno-deprecated-copy -Wno-missing-attributes -Wno-class-memaccess -Wno-sized-deallocation   -DTBB_SUPPRESS_DEPRECATED_MESSAGES=1 -std=c++17  -I../tbb_2020.3/src -I../tbb_2020.3/src/rml/include -I../tbb_2020.3/include ../tbb_2020.3/src/tbb/tbb_main.cpp\n",
            "g++ -o concurrent_vector_v2.o -c -MMD -O2 -g -DDO_ITT_NOTIFY -DUSE_PTHREAD -pthread -m64 -mrtm  -fPIC -flifetime-dse=1 -D__TBB_BUILD=1 -Wall -Wextra -Wno-parentheses -Wno-sized-deallocation -Wno-unknown-warning-option -Wno-deprecated-copy -Wno-missing-attributes -Wno-class-memaccess -Wno-sized-deallocation   -DTBB_SUPPRESS_DEPRECATED_MESSAGES=1 -std=c++17  -I../tbb_2020.3/src -I../tbb_2020.3/src/rml/include -I../tbb_2020.3/include ../tbb_2020.3/src/old/concurrent_vector_v2.cpp\n",
            "g++ -o concurrent_queue_v2.o -c -MMD -O2 -g -DDO_ITT_NOTIFY -DUSE_PTHREAD -pthread -m64 -mrtm  -fPIC -flifetime-dse=1 -D__TBB_BUILD=1 -Wall -Wextra -Wno-parentheses -Wno-sized-deallocation -Wno-unknown-warning-option -Wno-deprecated-copy -Wno-missing-attributes -Wno-class-memaccess -Wno-sized-deallocation   -DTBB_SUPPRESS_DEPRECATED_MESSAGES=1 -std=c++17  -I../tbb_2020.3/src -I../tbb_2020.3/src/rml/include -I../tbb_2020.3/include ../tbb_2020.3/src/old/concurrent_queue_v2.cpp\n",
            "g++ -o spin_rw_mutex_v2.o -c -MMD -O2 -g -DDO_ITT_NOTIFY -DUSE_PTHREAD -pthread -m64 -mrtm  -fPIC -flifetime-dse=1 -D__TBB_BUILD=1 -Wall -Wextra -Wno-parentheses -Wno-sized-deallocation -Wno-unknown-warning-option -Wno-deprecated-copy -Wno-missing-attributes -Wno-class-memaccess -Wno-sized-deallocation   -DTBB_SUPPRESS_DEPRECATED_MESSAGES=1 -std=c++17  -I../tbb_2020.3/src -I../tbb_2020.3/src/rml/include -I../tbb_2020.3/include ../tbb_2020.3/src/old/spin_rw_mutex_v2.cpp\n",
            "g++ -o task_v2.o -c -MMD -O2 -g -DDO_ITT_NOTIFY -DUSE_PTHREAD -pthread -m64 -mrtm  -fPIC -flifetime-dse=1 -D__TBB_BUILD=1 -Wall -Wextra -Wno-parentheses -Wno-sized-deallocation -Wno-unknown-warning-option -Wno-deprecated-copy -Wno-missing-attributes -Wno-class-memaccess -Wno-sized-deallocation   -DTBB_SUPPRESS_DEPRECATED_MESSAGES=1 -std=c++17  -I../tbb_2020.3/src -I../tbb_2020.3/src/rml/include -I../tbb_2020.3/include ../tbb_2020.3/src/old/task_v2.cpp\n",
            "sh ../tbb_2020.3/build/generate_tbbvars.sh\n",
            "echo \"INPUT (libtbb.so.2)\" > libtbb.so\n",
            "g++ -E -x c++ ../tbb_2020.3/src/tbb/lin64-tbb-export.def -O2 -g -DDO_ITT_NOTIFY -DUSE_PTHREAD -pthread -m64 -mrtm  -fPIC -flifetime-dse=1 -D__TBB_BUILD=1 -Wall -Wextra -Wno-parentheses -Wno-sized-deallocation -Wno-unknown-warning-option -Wno-deprecated-copy -Wno-missing-attributes -Wno-class-memaccess -Wno-sized-deallocation   -DTBB_SUPPRESS_DEPRECATED_MESSAGES=1 -I../tbb_2020.3/src -I../tbb_2020.3/src/rml/include -I../tbb_2020.3/include > tbb.def\n",
            "g++ -o tbb_misc.o -c -MMD -O2 -g -DDO_ITT_NOTIFY -DUSE_PTHREAD -pthread -m64 -mrtm  -fPIC -flifetime-dse=1 -D__TBB_BUILD=1 -Wall -Wextra -Wno-parentheses -Wno-sized-deallocation -Wno-unknown-warning-option -Wno-deprecated-copy -Wno-missing-attributes -Wno-class-memaccess -Wno-sized-deallocation   -DTBB_SUPPRESS_DEPRECATED_MESSAGES=1 -std=c++17  -I../tbb_2020.3/src -I../tbb_2020.3/src/rml/include -I../tbb_2020.3/include -I. ../tbb_2020.3/src/tbb/tbb_misc.cpp\n",
            "g++ -fPIC -o libtbb.so.2 concurrent_hash_map.o concurrent_queue.o concurrent_vector.o dynamic_link.o itt_notify.o cache_aligned_allocator.o pipeline.o queuing_mutex.o queuing_rw_mutex.o reader_writer_lock.o spin_rw_mutex.o x86_rtm_rw_mutex.o spin_mutex.o critical_section.o mutex.o recursive_mutex.o condition_variable.o tbb_thread.o concurrent_monitor.o semaphore.o private_server.o rml_tbb.o tbb_misc.o tbb_misc_ex.o task.o task_group_context.o governor.o market.o arena.o scheduler.o observer_proxy.o tbb_statistics.o tbb_main.o concurrent_vector_v2.o concurrent_queue_v2.o spin_rw_mutex_v2.o task_v2.o   -ldl -lrt -shared -Wl,-soname=libtbb.so.2 -pthread -m64 -Wl,-L,\"/root/.cmdstan/cmdstan-2.35.0/stan/lib/stan_math/lib/tbb\"   -Wl,-rpath,\"/root/.cmdstan/cmdstan-2.35.0/stan/lib/stan_math/lib/tbb\" -Wl,--version-script,tbb.def\n",
            "make[1]: Leaving directory '/root/.cmdstan/cmdstan-2.35.0/stan/lib/stan_math/lib/tbb'\n",
            "g++ -Wno-deprecated-declarations -std=c++17 -pthread -D_REENTRANT -Wno-sign-compare -Wno-ignored-attributes -Wno-class-memaccess      -I stan/lib/stan_math/lib/tbb_2020.3/include    -O3 -I src -I stan/src -I stan/lib/rapidjson_1.1.0/ -I lib/CLI11-1.9.1/ -I stan/lib/stan_math/ -I stan/lib/stan_math/lib/eigen_3.4.0 -I stan/lib/stan_math/lib/boost_1.84.0 -I stan/lib/stan_math/lib/sundials_6.1.1/include -I stan/lib/stan_math/lib/sundials_6.1.1/src/sundials    -DBOOST_DISABLE_ASSERTS               -Wl,-L,\"/root/.cmdstan/cmdstan-2.35.0/stan/lib/stan_math/lib/tbb\"   -Wl,-rpath,\"/root/.cmdstan/cmdstan-2.35.0/stan/lib/stan_math/lib/tbb\"      bin/cmdstan/stansummary.o stan/lib/stan_math/lib/tbb/libtbb.so.2       -ltbb   -o bin/stansummary\n",
            "g++ -Wno-deprecated-declarations -std=c++17 -pthread -D_REENTRANT -Wno-sign-compare -Wno-ignored-attributes -Wno-class-memaccess      -I stan/lib/stan_math/lib/tbb_2020.3/include    -O3 -I src -I stan/src -I stan/lib/rapidjson_1.1.0/ -I lib/CLI11-1.9.1/ -I stan/lib/stan_math/ -I stan/lib/stan_math/lib/eigen_3.4.0 -I stan/lib/stan_math/lib/boost_1.84.0 -I stan/lib/stan_math/lib/sundials_6.1.1/include -I stan/lib/stan_math/lib/sundials_6.1.1/src/sundials    -DBOOST_DISABLE_ASSERTS               -Wl,-L,\"/root/.cmdstan/cmdstan-2.35.0/stan/lib/stan_math/lib/tbb\"   -Wl,-rpath,\"/root/.cmdstan/cmdstan-2.35.0/stan/lib/stan_math/lib/tbb\"      bin/cmdstan/print.o stan/lib/stan_math/lib/tbb/libtbb.so.2       -ltbb   -o bin/print\n",
            "g++ -Wno-deprecated-declarations -std=c++17 -pthread -D_REENTRANT -Wno-sign-compare -Wno-ignored-attributes -Wno-class-memaccess      -I stan/lib/stan_math/lib/tbb_2020.3/include    -O3 -I src -I stan/src -I stan/lib/rapidjson_1.1.0/ -I lib/CLI11-1.9.1/ -I stan/lib/stan_math/ -I stan/lib/stan_math/lib/eigen_3.4.0 -I stan/lib/stan_math/lib/boost_1.84.0 -I stan/lib/stan_math/lib/sundials_6.1.1/include -I stan/lib/stan_math/lib/sundials_6.1.1/src/sundials    -DBOOST_DISABLE_ASSERTS               -Wl,-L,\"/root/.cmdstan/cmdstan-2.35.0/stan/lib/stan_math/lib/tbb\"   -Wl,-rpath,\"/root/.cmdstan/cmdstan-2.35.0/stan/lib/stan_math/lib/tbb\"      bin/cmdstan/diagnose.o stan/lib/stan_math/lib/tbb/libtbb.so.2       -ltbb   -o bin/diagnose\n",
            "\n",
            "--- CmdStan v2.35.0 built ---\n",
            "g++ -Wno-deprecated-declarations -std=c++17 -pthread -D_REENTRANT -Wno-sign-compare -Wno-ignored-attributes -Wno-class-memaccess      -I stan/lib/stan_math/lib/tbb_2020.3/include    -O3 -I src -I stan/src -I stan/lib/rapidjson_1.1.0/ -I lib/CLI11-1.9.1/ -I stan/lib/stan_math/ -I stan/lib/stan_math/lib/eigen_3.4.0 -I stan/lib/stan_math/lib/boost_1.84.0 -I stan/lib/stan_math/lib/sundials_6.1.1/include -I stan/lib/stan_math/lib/sundials_6.1.1/src/sundials    -DBOOST_DISABLE_ASSERTS          -c -MT src/cmdstan/main.o -MM -E -MG -MP -MF src/cmdstan/main.d src/cmdstan/main.cpp\n",
            "\n",
            "--- Translating Stan model to C++ code ---\n",
            "bin/stanc  --o=examples/bernoulli/bernoulli.hpp examples/bernoulli/bernoulli.stan\n",
            "\n",
            "--- Compiling C++ code ---\n",
            "g++ -Wno-deprecated-declarations -std=c++17 -pthread -D_REENTRANT -Wno-sign-compare -Wno-ignored-attributes -Wno-class-memaccess      -I stan/lib/stan_math/lib/tbb_2020.3/include    -O3 -I src -I stan/src -I stan/lib/rapidjson_1.1.0/ -I lib/CLI11-1.9.1/ -I stan/lib/stan_math/ -I stan/lib/stan_math/lib/eigen_3.4.0 -I stan/lib/stan_math/lib/boost_1.84.0 -I stan/lib/stan_math/lib/sundials_6.1.1/include -I stan/lib/stan_math/lib/sundials_6.1.1/src/sundials    -DBOOST_DISABLE_ASSERTS          -c -Wno-ignored-attributes   -x c++ -o examples/bernoulli/bernoulli.o examples/bernoulli/bernoulli.hpp\n",
            "\n",
            "--- Linking model ---\n",
            "g++ -Wno-deprecated-declarations -std=c++17 -pthread -D_REENTRANT -Wno-sign-compare -Wno-ignored-attributes -Wno-class-memaccess      -I stan/lib/stan_math/lib/tbb_2020.3/include    -O3 -I src -I stan/src -I stan/lib/rapidjson_1.1.0/ -I lib/CLI11-1.9.1/ -I stan/lib/stan_math/ -I stan/lib/stan_math/lib/eigen_3.4.0 -I stan/lib/stan_math/lib/boost_1.84.0 -I stan/lib/stan_math/lib/sundials_6.1.1/include -I stan/lib/stan_math/lib/sundials_6.1.1/src/sundials    -DBOOST_DISABLE_ASSERTS               -Wl,-L,\"/root/.cmdstan/cmdstan-2.35.0/stan/lib/stan_math/lib/tbb\"   -Wl,-rpath,\"/root/.cmdstan/cmdstan-2.35.0/stan/lib/stan_math/lib/tbb\"      examples/bernoulli/bernoulli.o src/cmdstan/main.o       -ltbb   stan/lib/stan_math/lib/sundials_6.1.1/lib/libsundials_nvecserial.a stan/lib/stan_math/lib/sundials_6.1.1/lib/libsundials_cvodes.a stan/lib/stan_math/lib/sundials_6.1.1/lib/libsundials_idas.a stan/lib/stan_math/lib/sundials_6.1.1/lib/libsundials_kinsol.a  stan/lib/stan_math/lib/tbb/libtbb.so.2 -o examples/bernoulli/bernoulli\n",
            "rm examples/bernoulli/bernoulli.o examples/bernoulli/bernoulli.hpp\n"
          ]
        },
        {
          "output_type": "stream",
          "name": "stderr",
          "text": [
            "* Finished installing CmdStan to /root/.cmdstan/cmdstan-2.35.0\n",
            "\n",
            "\n",
            "CmdStan path set to: /root/.cmdstan/cmdstan-2.35.0\n",
            "\n",
            "CmdStan path set to: /root/.cmdstan/cmdstan-2.35.0\n",
            "\n"
          ]
        },
        {
          "output_type": "display_data",
          "data": {
            "text/html": [
              "'2.35.0'"
            ],
            "text/markdown": "'2.35.0'",
            "text/latex": "'2.35.0'",
            "text/plain": [
              "[1] \"2.35.0\""
            ]
          },
          "metadata": {}
        }
      ]
    },
    {
      "cell_type": "code",
      "source": [
        "# Install necessary packages\n",
        "install.packages(c(\"coda\", \"mvtnorm\", \"devtools\", \"loo\", \"dagitty\", \"shape\"))\n",
        "\n",
        "# Load devtools for GitHub installation\n",
        "library(devtools)\n",
        "\n",
        "# Install rethinking from GitHub\n",
        "devtools::install_github(\"rmcelreath/rethinking\")\n"
      ],
      "metadata": {
        "colab": {
          "base_uri": "https://localhost:8080/"
        },
        "id": "rd9jkYG4WyyR",
        "outputId": "f0c7507a-9570-48bd-a98e-a1bd6966cb14"
      },
      "execution_count": null,
      "outputs": [
        {
          "output_type": "stream",
          "name": "stderr",
          "text": [
            "Installing packages into ‘/usr/local/lib/R/site-library’\n",
            "(as ‘lib’ is unspecified)\n",
            "\n",
            "also installing the dependencies ‘httpuv’, ‘xtable’, ‘sourcetools’, ‘later’, ‘promises’, ‘shiny’, ‘downlit’, ‘htmlwidgets’, ‘Rcpp’, ‘miniUI’, ‘pkgdown’, ‘profvis’, ‘urlchecker’, ‘V8’\n",
            "\n",
            "\n",
            "Loading required package: usethis\n",
            "\n",
            "Downloading GitHub repo rmcelreath/rethinking@HEAD\n",
            "\n"
          ]
        },
        {
          "output_type": "stream",
          "name": "stdout",
          "text": [
            "\n",
            "\u001b[36m──\u001b[39m \u001b[36mR CMD build\u001b[39m \u001b[36m─────────────────────────────────────────────────────────────────\u001b[39m\n",
            "* checking for file ‘/tmp/RtmpsXh7t2/remotes15b9f7d8f0/rmcelreath-rethinking-f3ac8de/DESCRIPTION’ ... OK\n",
            "* preparing ‘rethinking’:\n",
            "* checking DESCRIPTION meta-information ... OK\n",
            "* checking for LF line-endings in source and make files and shell scripts\n",
            "* checking for empty or unneeded directories\n",
            "* looking to see if a ‘data/datalist’ file should be added\n",
            "* building ‘rethinking_2.40.tar.gz’\n",
            "\n"
          ]
        },
        {
          "output_type": "stream",
          "name": "stderr",
          "text": [
            "Installing package into ‘/usr/local/lib/R/site-library’\n",
            "(as ‘lib’ is unspecified)\n",
            "\n"
          ]
        }
      ]
    },
    {
      "cell_type": "code",
      "source": [
        "library(rethinking)"
      ],
      "metadata": {
        "colab": {
          "base_uri": "https://localhost:8080/"
        },
        "id": "76h8LgPcYq2E",
        "outputId": "808f2c5e-a2be-4353-8b57-06151ee85d40"
      },
      "execution_count": null,
      "outputs": [
        {
          "output_type": "stream",
          "name": "stderr",
          "text": [
            "Loading required package: posterior\n",
            "\n",
            "This is posterior version 1.5.0\n",
            "\n",
            "\n",
            "Attaching package: ‘posterior’\n",
            "\n",
            "\n",
            "The following objects are masked from ‘package:stats’:\n",
            "\n",
            "    mad, sd, var\n",
            "\n",
            "\n",
            "The following objects are masked from ‘package:base’:\n",
            "\n",
            "    %in%, match\n",
            "\n",
            "\n",
            "Loading required package: parallel\n",
            "\n",
            "rethinking (Version 2.40)\n",
            "\n",
            "\n",
            "Attaching package: ‘rethinking’\n",
            "\n",
            "\n",
            "The following object is masked from ‘package:stats’:\n",
            "\n",
            "    rstudent\n",
            "\n",
            "\n"
          ]
        }
      ]
    },
    {
      "cell_type": "code",
      "source": [
        "# Test Installation\n",
        "\n",
        "## Simulate some data for a binary outcome based on a single predictor\n",
        "n <- 100\n",
        "x <- rnorm(n)\n",
        "prob <- 1 / (1 + exp(-x))\n",
        "y <- rbinom(n, 1, prob)\n",
        "\n",
        "## Fit a logistic regression using ulam\n",
        "fit <- ulam(\n",
        "  alist(\n",
        "    y ~ bernoulli( p ),\n",
        "    logit(p) <- a + b*x,\n",
        "    a ~ normal(0, 1),\n",
        "    b ~ normal(0, 1)\n",
        "  ), data = list(x = x, y = y)\n",
        ")\n",
        "\n",
        "precis(fit)"
      ],
      "metadata": {
        "colab": {
          "base_uri": "https://localhost:8080/",
          "height": 435
        },
        "id": "AK1-F_d0ZIFf",
        "outputId": "75c04e05-595a-4f8b-f521-2d0ff1b3d22d"
      },
      "execution_count": null,
      "outputs": [
        {
          "output_type": "stream",
          "name": "stdout",
          "text": [
            "Running MCMC with 1 chain, with 1 thread(s) per chain...\n",
            "\n",
            "Chain 1 Iteration:   1 / 1000 [  0%]  (Warmup) \n",
            "Chain 1 Iteration: 100 / 1000 [ 10%]  (Warmup) \n",
            "Chain 1 Iteration: 200 / 1000 [ 20%]  (Warmup) \n",
            "Chain 1 Iteration: 300 / 1000 [ 30%]  (Warmup) \n",
            "Chain 1 Iteration: 400 / 1000 [ 40%]  (Warmup) \n",
            "Chain 1 Iteration: 500 / 1000 [ 50%]  (Warmup) \n",
            "Chain 1 Iteration: 501 / 1000 [ 50%]  (Sampling) \n",
            "Chain 1 Iteration: 600 / 1000 [ 60%]  (Sampling) \n",
            "Chain 1 Iteration: 700 / 1000 [ 70%]  (Sampling) \n",
            "Chain 1 Iteration: 800 / 1000 [ 80%]  (Sampling) \n",
            "Chain 1 Iteration: 900 / 1000 [ 90%]  (Sampling) \n",
            "Chain 1 Iteration: 1000 / 1000 [100%]  (Sampling) \n",
            "Chain 1 finished in 0.1 seconds.\n"
          ]
        },
        {
          "output_type": "display_data",
          "data": {
            "text/html": [
              "<table class=\"dataframe\">\n",
              "<caption>A precis: 2 × 6</caption>\n",
              "<thead>\n",
              "\t<tr><th></th><th scope=col>mean</th><th scope=col>sd</th><th scope=col>5.5%</th><th scope=col>94.5%</th><th scope=col>rhat</th><th scope=col>ess_bulk</th></tr>\n",
              "\t<tr><th></th><th scope=col>&lt;dbl&gt;</th><th scope=col>&lt;dbl&gt;</th><th scope=col>&lt;dbl&gt;</th><th scope=col>&lt;dbl&gt;</th><th scope=col>&lt;dbl&gt;</th><th scope=col>&lt;dbl&gt;</th></tr>\n",
              "</thead>\n",
              "<tbody>\n",
              "\t<tr><th scope=row>a</th><td>-0.1380303</td><td>0.2117715</td><td>-0.4874136</td><td>0.1795349</td><td>0.998766</td><td>300.653</td></tr>\n",
              "\t<tr><th scope=row>b</th><td> 0.8043099</td><td>0.2233048</td><td> 0.4502247</td><td>1.1659421</td><td>1.012772</td><td>226.636</td></tr>\n",
              "</tbody>\n",
              "</table>\n"
            ],
            "text/markdown": "\nA precis: 2 × 6\n\n| <!--/--> | mean &lt;dbl&gt; | sd &lt;dbl&gt; | 5.5% &lt;dbl&gt; | 94.5% &lt;dbl&gt; | rhat &lt;dbl&gt; | ess_bulk &lt;dbl&gt; |\n|---|---|---|---|---|---|---|\n| a | -0.1380303 | 0.2117715 | -0.4874136 | 0.1795349 | 0.998766 | 300.653 |\n| b |  0.8043099 | 0.2233048 |  0.4502247 | 1.1659421 | 1.012772 | 226.636 |\n\n",
            "text/latex": "A precis: 2 × 6\n\\begin{tabular}{r|llllll}\n  & mean & sd & 5.5\\% & 94.5\\% & rhat & ess\\_bulk\\\\\n  & <dbl> & <dbl> & <dbl> & <dbl> & <dbl> & <dbl>\\\\\n\\hline\n\ta & -0.1380303 & 0.2117715 & -0.4874136 & 0.1795349 & 0.998766 & 300.653\\\\\n\tb &  0.8043099 & 0.2233048 &  0.4502247 & 1.1659421 & 1.012772 & 226.636\\\\\n\\end{tabular}\n",
            "text/plain": [
              "  mean       sd        5.5%       94.5%     rhat     ess_bulk\n",
              "a -0.1380303 0.2117715 -0.4874136 0.1795349 0.998766 300.653 \n",
              "b  0.8043099 0.2233048  0.4502247 1.1659421 1.012772 226.636 "
            ]
          },
          "metadata": {}
        }
      ]
    },
    {
      "cell_type": "markdown",
      "source": [
        "# Chapter 11"
      ],
      "metadata": {
        "id": "1ZlXL1B2XGQm"
      }
    },
    {
      "cell_type": "markdown",
      "source": [
        "## Easy"
      ],
      "metadata": {
        "id": "hLV6g37DADVa"
      }
    },
    {
      "cell_type": "markdown",
      "source": [
        "### 11E1\n",
        "If an event has probability 0.35, what are the log-odds of this event?\n",
        "\n",
        "#### Answer\n",
        "We just need to definition of log odds.\n",
        "> $\\text{Odds} = \\frac{p}{1-p}$\n",
        "\n",
        "> $\\text{log-Odds} = \\text{ln}\\left(\\frac{p}{1-p}\\right)$\n",
        "\n",
        "So for our problem\n",
        "> $\\text{log-Odds}(0.35) = \\text{ln}\\left(\\frac{0.35}{1-0.35}\\right)\n",
        "= \\text{ln}\\left(\\frac{0.35}{0.65}\\right) \\approx -0.62$"
      ],
      "metadata": {
        "id": "d0CU5ffVAFPn"
      }
    },
    {
      "cell_type": "code",
      "source": [
        "log(0.35 / (1-0.35))"
      ],
      "metadata": {
        "colab": {
          "base_uri": "https://localhost:8080/",
          "height": 34
        },
        "id": "H2i1Ya0CBhjC",
        "outputId": "6ab3f6a7-d533-42cd-a48e-b53785a1bb5e"
      },
      "execution_count": null,
      "outputs": [
        {
          "output_type": "display_data",
          "data": {
            "text/html": [
              "-0.619039208406224"
            ],
            "text/markdown": "-0.619039208406224",
            "text/latex": "-0.619039208406224",
            "text/plain": [
              "[1] -0.6190392"
            ]
          },
          "metadata": {}
        }
      ]
    },
    {
      "cell_type": "markdown",
      "source": [
        "### 11E2\n",
        "If an event has log-odds 3.2, what is the probability of this event?\n",
        "\n",
        "#### Answer\n",
        "We can find this in R pretty easily:"
      ],
      "metadata": {
        "id": "EMalIB1PB3bq"
      }
    },
    {
      "cell_type": "code",
      "source": [
        "logistic(3.2)"
      ],
      "metadata": {
        "colab": {
          "base_uri": "https://localhost:8080/",
          "height": 34
        },
        "id": "0gN_jQbGHRvo",
        "outputId": "71b2bcb3-2fb6-4f91-d0ec-84cb22791c86"
      },
      "execution_count": null,
      "outputs": [
        {
          "output_type": "display_data",
          "data": {
            "text/html": [
              "0.960834277203236"
            ],
            "text/markdown": "0.960834277203236",
            "text/latex": "0.960834277203236",
            "text/plain": [
              "[1] 0.9608343"
            ]
          },
          "metadata": {}
        }
      ]
    },
    {
      "cell_type": "markdown",
      "source": [
        "But I think it's worth knowing to calculate this by hand.\n",
        "\n",
        "> $\\text{log-odds} = 3.2 = \\text{ln}\\left(\\frac{p}{1-p}\\right)\n",
        "\\rightarrow e^{3.2} = \\frac{p}{1-p}\n",
        "\\rightarrow (1-p)e^{3.2} = e^{3.2} - pe^{3.2} = p\n",
        "\\rightarrow e^{3.2} = p + pe^{3.2} = p(1 + e^{3.2})\n",
        "\\rightarrow p = \\frac{e^{3.2}}{1 + e^{3.2}} \\approx 0.961 $"
      ],
      "metadata": {
        "id": "YB6ZKwuwHVcX"
      }
    },
    {
      "cell_type": "markdown",
      "source": [
        "### 11E3\n",
        "Suppose that a coefficient in a logistic regression has value 1.7. What does this imply about  the proportional change in odds of the outcome?\n",
        "\n",
        "#### Answer\n",
        "First on the *log-odds* scale, a coefficient of 1.7 means that the log-odds increases *additively* by 1.7 for a one-unit increase in the corresponding predictor variable: $\\text{ln}\\left(\\frac{p}{1-p}\\right) = ... + 1.7x$.  To get this to the *odds* scale, we exponentiate both sides: $\\frac{p}{1-p} = ... \\times e^{1.7x}$ such that the odds increase *multiplicatively* by $e^{1.7}$ for a one-unit increase in $x$."
      ],
      "metadata": {
        "id": "dJDlC3oJJH8m"
      }
    },
    {
      "cell_type": "markdown",
      "source": [
        "### 11E4\n",
        "Why do Poisson regressions sometimes require the use of an *offset*?  Provide an example.\n",
        "\n",
        "#### Answer\n",
        "In short, an offset is required when the outcome is something like a rate--a fraction where the numerator is the number of events and the denominator is something like attempts, space, time, or exposure--where the value of the denominator may vary among observations.  In this case, our model might look like\n",
        "\n",
        "$$g\\left(\\frac{y}{m}\\right) = \\alpha + \\beta_1 x_1 + ... + \\beta_p x_p$$\n",
        "\n",
        "The problem is that we don't have a GLM that can accomodate fractional outcomes.  But say we take $g(.)$ to be $\\text{ln}(.)$; then we have\n",
        "\n",
        "$$\\text{ln}\\left(\\frac{y}{m}\\right) = \\text{ln}(y) - \\text{ln}(m) = \\alpha + \\beta_1 x_1 + ... + \\beta_p x_p$$.\n",
        "\n",
        "Now we can take $\\text{ln}(m)$ over to the other side to get\n",
        "\n",
        "$$\\text{ln}(y) = \\text{ln}(m) + \\alpha + \\beta_1 x_1 + ... + \\beta_p x_p$$\n",
        "\n",
        "where $\\text{ln}(m)$ is the offset.  So what we're left with is a Poisson regression with an offset."
      ],
      "metadata": {
        "id": "sRAosZQ8tv3t"
      }
    },
    {
      "cell_type": "markdown",
      "source": [
        "## Medium"
      ],
      "metadata": {
        "id": "1RcIhy3Gu60t"
      }
    },
    {
      "cell_type": "markdown",
      "source": [
        "### 11M1\n",
        "As explained in the chapter, binomial data can be organized in aggregated and disaggregated  forms, without any impact on inference. But the likelihood of the data does change when the data are  converted between the two formats. Can you explain why?\n",
        "\n",
        "#### Answer\n",
        "From the chimpanzee example in the chapter, aggregated data may look like\n",
        "\n",
        "![image.png](data:image/png;base64,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)\n",
        "\n",
        "where the outcome `left_pulls` is a sum of \"successes\" across trials.  Conversely, disaggregated data may look like\n",
        "\n",
        "|treatment|actor|side|cond|left_pull|\n",
        "|---------|-----|----|----|---------|\n",
        "|1|1|1|1|0|\n",
        "|1|1|1|1|0|\n",
        "|1|1|1|1|1|\n",
        "|...|...|...|...|...|\n",
        "|2|7|2|4|1|\n",
        "\n",
        "where each trial is described on a single line.\n",
        "\n",
        "These data formats require different likelihoods.  Both can use binomial likelihoods, but the aggregated data must account for the fact that multiple trials are represented in a single row like `left_pulls ~ dbinom(18, p)`, while the disaggregated data does not (`left_pull ~ dbinom(1, p)`).  In math notation, the disaggregated likelihood looks like $p^y(1-p)^{1-y}$ while the aggregated likelihood looks like $\\frac{y!}{y!(n-y)!}p^y(1-p)^{n-y}$ $y$ is the outcome and $n=18$ is the number of trials."
      ],
      "metadata": {
        "id": "AymDppHKu9YL"
      }
    },
    {
      "cell_type": "markdown",
      "source": [
        "### 11M2\n",
        "If a coefficient in a Poisson regression has value 1.7, what does this imply about the change in the outcome?\n",
        "\n",
        "#### Answer\n",
        "Let's get aquainted with the Poisson regression; for illustration, we'll assume a single intercept and a single explanatory variable $X$:\n",
        "$$ y \\sim Poisson(\\lambda)$$\n",
        "$$ \\text{ln}(\\lambda) = \\alpha + \\beta x$$\n",
        "\n",
        "So we can rewrite the linear model as\n",
        "$$ \\lambda = \\text{exp}(\\alpha + \\beta x) = e^\\alpha e^{\\beta x}$$\n",
        "\n",
        "So what happens to $\\lambda$ when $x$ increases by 1 unit?  How does $\\lambda_{x+1}$ compare with $\\lambda_x$?\n",
        "$$\\frac{\\lambda_{x+1}}{\\lambda_x} = \\text{exp}[(\\alpha + \\beta (x+1)) - (\\alpha + \\beta x)] = \\frac{\\text{exp}(\\alpha + \\beta (x+1))}{\\text{exp}(\\alpha + \\beta x)} = \\frac{e^\\alpha e^{\\beta (x+1)}}{e^\\alpha e^{\\beta x}} = \\frac{e^{\\beta x+ \\beta}}{e^{\\beta x}} = \\frac{e^{\\beta x} e^{\\beta}}{e^{\\beta x}} = e^\\beta$$\n",
        "\n",
        "Thus, a 1-unit change in $X$ results in an $e^\\beta$ change in $\\lambda_{x+1}$ compared to $\\lambda_x$.  Here, if $\\beta = 1.7$, there is proportional change to $\\lambda_{x+1}$ of $e^{1.7} \\approx 5.47$"
      ],
      "metadata": {
        "id": "imsEHux69u35"
      }
    }
  ]
}
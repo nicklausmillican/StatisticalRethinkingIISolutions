{
  "nbformat": 4,
  "nbformat_minor": 0,
  "metadata": {
    "colab": {
      "provenance": [],
      "toc_visible": true,
      "authorship_tag": "ABX9TyO1rCD/9sKfq+pBRnwhNtpv",
      "include_colab_link": true
    },
    "kernelspec": {
      "name": "ir",
      "display_name": "R"
    },
    "language_info": {
      "name": "R"
    }
  },
  "cells": [
    {
      "cell_type": "markdown",
      "metadata": {
        "id": "view-in-github",
        "colab_type": "text"
      },
      "source": [
        "<a href=\"https://colab.research.google.com/github/nicklausmillican/StatisticalRethinkingIISolutions/blob/main/StatisticalRethinkingSolutions2_Ch13.ipynb\" target=\"_parent\"><img src=\"https://colab.research.google.com/assets/colab-badge.svg\" alt=\"Open In Colab\"/></a>"
      ]
    },
    {
      "cell_type": "code",
      "source": [
        "# Checking versions of g++ and make\n",
        "system(\"g++ --version\", intern = TRUE)\n",
        "system(\"make --version\", intern = TRUE)\n",
        "\n",
        "# Install g++ and make if needed\n",
        "system(\"sudo apt install g++\", intern = TRUE)\n",
        "system(\"sudo apt install make\", intern = TRUE)\n"
      ],
      "metadata": {
        "colab": {
          "base_uri": "https://localhost:8080/",
          "height": 191
        },
        "id": "6nmEQndWT8cK",
        "outputId": "619ea952-04a7-4760-e03d-ce23c9ae655e"
      },
      "execution_count": 1,
      "outputs": [
        {
          "output_type": "display_data",
          "data": {
            "text/html": [
              "<style>\n",
              ".list-inline {list-style: none; margin:0; padding: 0}\n",
              ".list-inline>li {display: inline-block}\n",
              ".list-inline>li:not(:last-child)::after {content: \"\\00b7\"; padding: 0 .5ex}\n",
              "</style>\n",
              "<ol class=list-inline><li>'g++ (Ubuntu 11.4.0-1ubuntu1~22.04) 11.4.0'</li><li>'Copyright (C) 2021 Free Software Foundation, Inc.'</li><li><span style=white-space:pre-wrap>'This is free software; see the source for copying conditions.  There is NO'</span></li><li>'warranty; not even for MERCHANTABILITY or FITNESS FOR A PARTICULAR PURPOSE.'</li><li>''</li></ol>\n"
            ],
            "text/markdown": "1. 'g++ (Ubuntu 11.4.0-1ubuntu1~22.04) 11.4.0'\n2. 'Copyright (C) 2021 Free Software Foundation, Inc.'\n3. <span style=white-space:pre-wrap>'This is free software; see the source for copying conditions.  There is NO'</span>\n4. 'warranty; not even for MERCHANTABILITY or FITNESS FOR A PARTICULAR PURPOSE.'\n5. ''\n\n\n",
            "text/latex": "\\begin{enumerate*}\n\\item 'g++ (Ubuntu 11.4.0-1ubuntu1\\textasciitilde{}22.04) 11.4.0'\n\\item 'Copyright (C) 2021 Free Software Foundation, Inc.'\n\\item 'This is free software; see the source for copying conditions.  There is NO'\n\\item 'warranty; not even for MERCHANTABILITY or FITNESS FOR A PARTICULAR PURPOSE.'\n\\item ''\n\\end{enumerate*}\n",
            "text/plain": [
              "[1] \"g++ (Ubuntu 11.4.0-1ubuntu1~22.04) 11.4.0\"                                  \n",
              "[2] \"Copyright (C) 2021 Free Software Foundation, Inc.\"                          \n",
              "[3] \"This is free software; see the source for copying conditions.  There is NO\" \n",
              "[4] \"warranty; not even for MERCHANTABILITY or FITNESS FOR A PARTICULAR PURPOSE.\"\n",
              "[5] \"\"                                                                           "
            ]
          },
          "metadata": {}
        },
        {
          "output_type": "display_data",
          "data": {
            "text/html": [
              "<style>\n",
              ".list-inline {list-style: none; margin:0; padding: 0}\n",
              ".list-inline>li {display: inline-block}\n",
              ".list-inline>li:not(:last-child)::after {content: \"\\00b7\"; padding: 0 .5ex}\n",
              "</style>\n",
              "<ol class=list-inline><li>'GNU Make 4.3'</li><li>'Built for x86_64-pc-linux-gnu'</li><li>'Copyright (C) 1988-2020 Free Software Foundation, Inc.'</li><li>'License GPLv3+: GNU GPL version 3 or later &lt;http://gnu.org/licenses/gpl.html&gt;'</li><li>'This is free software: you are free to change and redistribute it.'</li><li>'There is NO WARRANTY, to the extent permitted by law.'</li></ol>\n"
            ],
            "text/markdown": "1. 'GNU Make 4.3'\n2. 'Built for x86_64-pc-linux-gnu'\n3. 'Copyright (C) 1988-2020 Free Software Foundation, Inc.'\n4. 'License GPLv3+: GNU GPL version 3 or later &lt;http://gnu.org/licenses/gpl.html&gt;'\n5. 'This is free software: you are free to change and redistribute it.'\n6. 'There is NO WARRANTY, to the extent permitted by law.'\n\n\n",
            "text/latex": "\\begin{enumerate*}\n\\item 'GNU Make 4.3'\n\\item 'Built for x86\\_64-pc-linux-gnu'\n\\item 'Copyright (C) 1988-2020 Free Software Foundation, Inc.'\n\\item 'License GPLv3+: GNU GPL version 3 or later <http://gnu.org/licenses/gpl.html>'\n\\item 'This is free software: you are free to change and redistribute it.'\n\\item 'There is NO WARRANTY, to the extent permitted by law.'\n\\end{enumerate*}\n",
            "text/plain": [
              "[1] \"GNU Make 4.3\"                                                                 \n",
              "[2] \"Built for x86_64-pc-linux-gnu\"                                                \n",
              "[3] \"Copyright (C) 1988-2020 Free Software Foundation, Inc.\"                       \n",
              "[4] \"License GPLv3+: GNU GPL version 3 or later <http://gnu.org/licenses/gpl.html>\"\n",
              "[5] \"This is free software: you are free to change and redistribute it.\"           \n",
              "[6] \"There is NO WARRANTY, to the extent permitted by law.\"                        "
            ]
          },
          "metadata": {}
        },
        {
          "output_type": "display_data",
          "data": {
            "text/html": [
              "<style>\n",
              ".list-inline {list-style: none; margin:0; padding: 0}\n",
              ".list-inline>li {display: inline-block}\n",
              ".list-inline>li:not(:last-child)::after {content: \"\\00b7\"; padding: 0 .5ex}\n",
              "</style>\n",
              "<ol class=list-inline><li>'Reading package lists...'</li><li>'Building dependency tree...'</li><li>'Reading state information...'</li><li>'g++ is already the newest version (4:11.2.0-1ubuntu1).'</li><li>'g++ set to manually installed.'</li><li>'0 upgraded, 0 newly installed, 0 to remove and 49 not upgraded.'</li></ol>\n"
            ],
            "text/markdown": "1. 'Reading package lists...'\n2. 'Building dependency tree...'\n3. 'Reading state information...'\n4. 'g++ is already the newest version (4:11.2.0-1ubuntu1).'\n5. 'g++ set to manually installed.'\n6. '0 upgraded, 0 newly installed, 0 to remove and 49 not upgraded.'\n\n\n",
            "text/latex": "\\begin{enumerate*}\n\\item 'Reading package lists...'\n\\item 'Building dependency tree...'\n\\item 'Reading state information...'\n\\item 'g++ is already the newest version (4:11.2.0-1ubuntu1).'\n\\item 'g++ set to manually installed.'\n\\item '0 upgraded, 0 newly installed, 0 to remove and 49 not upgraded.'\n\\end{enumerate*}\n",
            "text/plain": [
              "[1] \"Reading package lists...\"                                       \n",
              "[2] \"Building dependency tree...\"                                    \n",
              "[3] \"Reading state information...\"                                   \n",
              "[4] \"g++ is already the newest version (4:11.2.0-1ubuntu1).\"         \n",
              "[5] \"g++ set to manually installed.\"                                 \n",
              "[6] \"0 upgraded, 0 newly installed, 0 to remove and 49 not upgraded.\""
            ]
          },
          "metadata": {}
        },
        {
          "output_type": "display_data",
          "data": {
            "text/html": [
              "<style>\n",
              ".list-inline {list-style: none; margin:0; padding: 0}\n",
              ".list-inline>li {display: inline-block}\n",
              ".list-inline>li:not(:last-child)::after {content: \"\\00b7\"; padding: 0 .5ex}\n",
              "</style>\n",
              "<ol class=list-inline><li>'Reading package lists...'</li><li>'Building dependency tree...'</li><li>'Reading state information...'</li><li>'make is already the newest version (4.3-4.1build1).'</li><li>'make set to manually installed.'</li><li>'0 upgraded, 0 newly installed, 0 to remove and 49 not upgraded.'</li></ol>\n"
            ],
            "text/markdown": "1. 'Reading package lists...'\n2. 'Building dependency tree...'\n3. 'Reading state information...'\n4. 'make is already the newest version (4.3-4.1build1).'\n5. 'make set to manually installed.'\n6. '0 upgraded, 0 newly installed, 0 to remove and 49 not upgraded.'\n\n\n",
            "text/latex": "\\begin{enumerate*}\n\\item 'Reading package lists...'\n\\item 'Building dependency tree...'\n\\item 'Reading state information...'\n\\item 'make is already the newest version (4.3-4.1build1).'\n\\item 'make set to manually installed.'\n\\item '0 upgraded, 0 newly installed, 0 to remove and 49 not upgraded.'\n\\end{enumerate*}\n",
            "text/plain": [
              "[1] \"Reading package lists...\"                                       \n",
              "[2] \"Building dependency tree...\"                                    \n",
              "[3] \"Reading state information...\"                                   \n",
              "[4] \"make is already the newest version (4.3-4.1build1).\"            \n",
              "[5] \"make set to manually installed.\"                                \n",
              "[6] \"0 upgraded, 0 newly installed, 0 to remove and 49 not upgraded.\""
            ]
          },
          "metadata": {}
        }
      ]
    },
    {
      "cell_type": "code",
      "source": [
        "# Install cmdstanr from GitHub\n",
        "if (!require(cmdstanr)) {\n",
        "  devtools::install_github(\"stan-dev/cmdstanr\")\n",
        "}\n",
        "\n",
        "# Set up CmdStan if it's not already set up\n",
        "library(cmdstanr)\n",
        "if (!cmdstanr::cmdstan_version()) {\n",
        "  cmdstanr::install_cmdstan()\n",
        "}\n",
        "\n",
        "# Verify installation\n",
        "cmdstanr::check_cmdstan_toolchain()\n"
      ],
      "metadata": {
        "colab": {
          "base_uri": "https://localhost:8080/",
          "height": 974
        },
        "id": "xy8UnK1uUOmt",
        "outputId": "343d6372-8f77-40a8-e25c-88788d0e7407"
      },
      "execution_count": 2,
      "outputs": [
        {
          "output_type": "stream",
          "name": "stderr",
          "text": [
            "Loading required package: cmdstanr\n",
            "\n",
            "Warning message in library(package, lib.loc = lib.loc, character.only = TRUE, logical.return = TRUE, :\n",
            "“there is no package called ‘cmdstanr’”\n",
            "Downloading GitHub repo stan-dev/cmdstanr@HEAD\n",
            "\n"
          ]
        },
        {
          "output_type": "stream",
          "name": "stdout",
          "text": [
            "numDeriv     (NA -> 2016.8-1.1) [CRAN]\n",
            "matrixStats  (NA -> 1.4.1     ) [CRAN]\n",
            "distribut... (NA -> 0.5.0     ) [CRAN]\n",
            "tensorA      (NA -> 0.36.2.1  ) [CRAN]\n",
            "checkmate    (NA -> 2.3.2     ) [CRAN]\n",
            "abind        (NA -> 1.4-8     ) [CRAN]\n",
            "posterior    (NA -> 1.6.0     ) [CRAN]\n"
          ]
        },
        {
          "output_type": "stream",
          "name": "stderr",
          "text": [
            "Installing 7 packages: numDeriv, matrixStats, distributional, tensorA, checkmate, abind, posterior\n",
            "\n",
            "Installing packages into ‘/usr/local/lib/R/site-library’\n",
            "(as ‘lib’ is unspecified)\n",
            "\n"
          ]
        },
        {
          "output_type": "stream",
          "name": "stdout",
          "text": [
            "\u001b[36m──\u001b[39m \u001b[36mR CMD build\u001b[39m \u001b[36m─────────────────────────────────────────────────────────────────\u001b[39m\n",
            "* checking for file ‘/tmp/RtmpCPE9iO/remotesb287209d96d/stan-dev-cmdstanr-f2e152b/DESCRIPTION’ ... OK\n",
            "* preparing ‘cmdstanr’:\n",
            "* checking DESCRIPTION meta-information ... OK\n",
            "* checking for LF line-endings in source and make files and shell scripts\n",
            "* checking for empty or unneeded directories\n",
            "Omitted ‘LazyData’ from DESCRIPTION\n",
            "* building ‘cmdstanr_0.8.1.9000.tar.gz’\n",
            "\n"
          ]
        },
        {
          "output_type": "stream",
          "name": "stderr",
          "text": [
            "Installing package into ‘/usr/local/lib/R/site-library’\n",
            "(as ‘lib’ is unspecified)\n",
            "\n",
            "This is cmdstanr version 0.8.1.9000\n",
            "\n",
            "- CmdStanR documentation and vignettes: mc-stan.org/cmdstanr\n",
            "\n",
            "- Use set_cmdstan_path() to set the path to CmdStan\n",
            "\n",
            "- Use install_cmdstan() to install CmdStan\n",
            "\n"
          ]
        },
        {
          "output_type": "error",
          "ename": "ERROR",
          "evalue": "Error: CmdStan path has not been set yet. See ?set_cmdstan_path.\n",
          "traceback": [
            "Error: CmdStan path has not been set yet. See ?set_cmdstan_path.\nTraceback:\n",
            "1. stop_no_path()",
            "2. stop(\"CmdStan path has not been set yet. See ?set_cmdstan_path.\", \n .     call. = FALSE)",
            "3. .handleSimpleError(function (cnd) \n . {\n .     watcher$capture_plot_and_output()\n .     cnd <- sanitize_call(cnd)\n .     watcher$push(cnd)\n .     switch(on_error, continue = invokeRestart(\"eval_continue\"), \n .         stop = invokeRestart(\"eval_stop\"), error = invokeRestart(\"eval_error\", \n .             cnd))\n . }, \"CmdStan path has not been set yet. See ?set_cmdstan_path.\", \n .     base::quote(NULL))"
          ]
        }
      ]
    },
    {
      "cell_type": "markdown",
      "source": [
        "IF YOU ENCOUNTER AN ERROR, JUST KEEP RUNNING CODE BELOW."
      ],
      "metadata": {
        "id": "5PjVh-uhxvy3"
      }
    },
    {
      "cell_type": "code",
      "source": [
        "# Install CmdStan using cmdstanr\n",
        "library(cmdstanr)\n",
        "cmdstanr::install_cmdstan()\n",
        "\n",
        "# After installation, set the CmdStan path\n",
        "cmdstan_path <- cmdstanr::cmdstan_path()\n",
        "cmdstanr::set_cmdstan_path(cmdstan_path)\n",
        "\n",
        "# Verify the installation\n",
        "cmdstanr::cmdstan_version()\n"
      ],
      "metadata": {
        "colab": {
          "base_uri": "https://localhost:8080/",
          "height": 1000
        },
        "id": "QWIdvClbVP9g",
        "outputId": "54f90a90-82c7-4072-fb57-69e5c0131db3"
      },
      "execution_count": 3,
      "outputs": [
        {
          "output_type": "stream",
          "name": "stderr",
          "text": [
            "The C++ toolchain required for CmdStan is setup properly!\n",
            "\n",
            "* Latest CmdStan release is v2.35.0\n",
            "\n",
            "* Installing CmdStan v2.35.0 in /root/.cmdstan/cmdstan-2.35.0\n",
            "\n",
            "* Downloading cmdstan-2.35.0.tar.gz from GitHub...\n",
            "\n",
            "* Download complete\n",
            "\n",
            "* Unpacking archive...\n",
            "\n",
            "* Building CmdStan binaries...\n",
            "\n"
          ]
        },
        {
          "output_type": "stream",
          "name": "stdout",
          "text": [
            "cp bin/linux-stanc bin/stanc\n",
            "g++ -pipe   -pthread -D_REENTRANT  -O3 -I stan/lib/stan_math/lib/sundials_6.1.1/include -I stan/lib/stan_math/lib/sundials_6.1.1/src/sundials -DNO_FPRINTF_OUTPUT     -O3  -c -x c -include stan/lib/stan_math/lib/sundials_6.1.1/include/stan_sundials_printf_override.hpp stan/lib/stan_math/lib/sundials_6.1.1/src/nvector/serial/nvector_serial.c -o stan/lib/stan_math/lib/sundials_6.1.1/src/nvector/serial/nvector_serial.o\n",
            "chmod +x bin/stanc\n",
            "g++ -pipe   -pthread -D_REENTRANT  -O3 -I stan/lib/stan_math/lib/sundials_6.1.1/include -I stan/lib/stan_math/lib/sundials_6.1.1/src/sundials -DNO_FPRINTF_OUTPUT     -O3  -c -x c -include stan/lib/stan_math/lib/sundials_6.1.1/include/stan_sundials_printf_override.hpp stan/lib/stan_math/lib/sundials_6.1.1/src/sundials/sundials_math.c -o stan/lib/stan_math/lib/sundials_6.1.1/src/sundials/sundials_math.o\n",
            "g++ -pipe   -pthread -D_REENTRANT  -O3 -I stan/lib/stan_math/lib/sundials_6.1.1/include -I stan/lib/stan_math/lib/sundials_6.1.1/src/sundials -DNO_FPRINTF_OUTPUT     -O3  -c -x c -include stan/lib/stan_math/lib/sundials_6.1.1/include/stan_sundials_printf_override.hpp stan/lib/stan_math/lib/sundials_6.1.1/src/cvodes/cvodea.c -o stan/lib/stan_math/lib/sundials_6.1.1/src/cvodes/cvodea.o\n",
            "g++ -pipe   -pthread -D_REENTRANT  -O3 -I stan/lib/stan_math/lib/sundials_6.1.1/include -I stan/lib/stan_math/lib/sundials_6.1.1/src/sundials -DNO_FPRINTF_OUTPUT     -O3  -c -x c -include stan/lib/stan_math/lib/sundials_6.1.1/include/stan_sundials_printf_override.hpp stan/lib/stan_math/lib/sundials_6.1.1/src/cvodes/cvodea_io.c -o stan/lib/stan_math/lib/sundials_6.1.1/src/cvodes/cvodea_io.o\n",
            "g++ -pipe   -pthread -D_REENTRANT  -O3 -I stan/lib/stan_math/lib/sundials_6.1.1/include -I stan/lib/stan_math/lib/sundials_6.1.1/src/sundials -DNO_FPRINTF_OUTPUT     -O3  -c -x c -include stan/lib/stan_math/lib/sundials_6.1.1/include/stan_sundials_printf_override.hpp stan/lib/stan_math/lib/sundials_6.1.1/src/cvodes/cvodes_bandpre.c -o stan/lib/stan_math/lib/sundials_6.1.1/src/cvodes/cvodes_bandpre.o\n",
            "g++ -pipe   -pthread -D_REENTRANT  -O3 -I stan/lib/stan_math/lib/sundials_6.1.1/include -I stan/lib/stan_math/lib/sundials_6.1.1/src/sundials -DNO_FPRINTF_OUTPUT     -O3  -c -x c -include stan/lib/stan_math/lib/sundials_6.1.1/include/stan_sundials_printf_override.hpp stan/lib/stan_math/lib/sundials_6.1.1/src/cvodes/cvodes_bbdpre.c -o stan/lib/stan_math/lib/sundials_6.1.1/src/cvodes/cvodes_bbdpre.o\n",
            "g++ -pipe   -pthread -D_REENTRANT  -O3 -I stan/lib/stan_math/lib/sundials_6.1.1/include -I stan/lib/stan_math/lib/sundials_6.1.1/src/sundials -DNO_FPRINTF_OUTPUT     -O3  -c -x c -include stan/lib/stan_math/lib/sundials_6.1.1/include/stan_sundials_printf_override.hpp stan/lib/stan_math/lib/sundials_6.1.1/src/cvodes/cvodes.c -o stan/lib/stan_math/lib/sundials_6.1.1/src/cvodes/cvodes.o\n",
            "g++ -pipe   -pthread -D_REENTRANT  -O3 -I stan/lib/stan_math/lib/sundials_6.1.1/include -I stan/lib/stan_math/lib/sundials_6.1.1/src/sundials -DNO_FPRINTF_OUTPUT     -O3  -c -x c -include stan/lib/stan_math/lib/sundials_6.1.1/include/stan_sundials_printf_override.hpp stan/lib/stan_math/lib/sundials_6.1.1/src/cvodes/cvodes_diag.c -o stan/lib/stan_math/lib/sundials_6.1.1/src/cvodes/cvodes_diag.o\n",
            "g++ -pipe   -pthread -D_REENTRANT  -O3 -I stan/lib/stan_math/lib/sundials_6.1.1/include -I stan/lib/stan_math/lib/sundials_6.1.1/src/sundials -DNO_FPRINTF_OUTPUT     -O3  -c -x c -include stan/lib/stan_math/lib/sundials_6.1.1/include/stan_sundials_printf_override.hpp stan/lib/stan_math/lib/sundials_6.1.1/src/cvodes/cvodes_direct.c -o stan/lib/stan_math/lib/sundials_6.1.1/src/cvodes/cvodes_direct.o\n",
            "g++ -pipe   -pthread -D_REENTRANT  -O3 -I stan/lib/stan_math/lib/sundials_6.1.1/include -I stan/lib/stan_math/lib/sundials_6.1.1/src/sundials -DNO_FPRINTF_OUTPUT     -O3  -c -x c -include stan/lib/stan_math/lib/sundials_6.1.1/include/stan_sundials_printf_override.hpp stan/lib/stan_math/lib/sundials_6.1.1/src/cvodes/cvodes_io.c -o stan/lib/stan_math/lib/sundials_6.1.1/src/cvodes/cvodes_io.o\n",
            "g++ -pipe   -pthread -D_REENTRANT  -O3 -I stan/lib/stan_math/lib/sundials_6.1.1/include -I stan/lib/stan_math/lib/sundials_6.1.1/src/sundials -DNO_FPRINTF_OUTPUT     -O3  -c -x c -include stan/lib/stan_math/lib/sundials_6.1.1/include/stan_sundials_printf_override.hpp stan/lib/stan_math/lib/sundials_6.1.1/src/cvodes/cvodes_ls.c -o stan/lib/stan_math/lib/sundials_6.1.1/src/cvodes/cvodes_ls.o\n",
            "g++ -pipe   -pthread -D_REENTRANT  -O3 -I stan/lib/stan_math/lib/sundials_6.1.1/include -I stan/lib/stan_math/lib/sundials_6.1.1/src/sundials -DNO_FPRINTF_OUTPUT     -O3  -c -x c -include stan/lib/stan_math/lib/sundials_6.1.1/include/stan_sundials_printf_override.hpp stan/lib/stan_math/lib/sundials_6.1.1/src/cvodes/cvodes_nls.c -o stan/lib/stan_math/lib/sundials_6.1.1/src/cvodes/cvodes_nls.o\n",
            "g++ -pipe   -pthread -D_REENTRANT  -O3 -I stan/lib/stan_math/lib/sundials_6.1.1/include -I stan/lib/stan_math/lib/sundials_6.1.1/src/sundials -DNO_FPRINTF_OUTPUT     -O3  -c -x c -include stan/lib/stan_math/lib/sundials_6.1.1/include/stan_sundials_printf_override.hpp stan/lib/stan_math/lib/sundials_6.1.1/src/cvodes/cvodes_nls_sim.c -o stan/lib/stan_math/lib/sundials_6.1.1/src/cvodes/cvodes_nls_sim.o\n",
            "g++ -pipe   -pthread -D_REENTRANT  -O3 -I stan/lib/stan_math/lib/sundials_6.1.1/include -I stan/lib/stan_math/lib/sundials_6.1.1/src/sundials -DNO_FPRINTF_OUTPUT     -O3  -c -x c -include stan/lib/stan_math/lib/sundials_6.1.1/include/stan_sundials_printf_override.hpp stan/lib/stan_math/lib/sundials_6.1.1/src/cvodes/cvodes_nls_stg1.c -o stan/lib/stan_math/lib/sundials_6.1.1/src/cvodes/cvodes_nls_stg1.o\n",
            "g++ -pipe   -pthread -D_REENTRANT  -O3 -I stan/lib/stan_math/lib/sundials_6.1.1/include -I stan/lib/stan_math/lib/sundials_6.1.1/src/sundials -DNO_FPRINTF_OUTPUT     -O3  -c -x c -include stan/lib/stan_math/lib/sundials_6.1.1/include/stan_sundials_printf_override.hpp stan/lib/stan_math/lib/sundials_6.1.1/src/cvodes/cvodes_nls_stg.c -o stan/lib/stan_math/lib/sundials_6.1.1/src/cvodes/cvodes_nls_stg.o\n",
            "g++ -pipe   -pthread -D_REENTRANT  -O3 -I stan/lib/stan_math/lib/sundials_6.1.1/include -I stan/lib/stan_math/lib/sundials_6.1.1/src/sundials -DNO_FPRINTF_OUTPUT     -O3  -c -x c -include stan/lib/stan_math/lib/sundials_6.1.1/include/stan_sundials_printf_override.hpp stan/lib/stan_math/lib/sundials_6.1.1/src/cvodes/cvodes_spils.c -o stan/lib/stan_math/lib/sundials_6.1.1/src/cvodes/cvodes_spils.o\n",
            "g++ -pipe   -pthread -D_REENTRANT  -O3 -I stan/lib/stan_math/lib/sundials_6.1.1/include -I stan/lib/stan_math/lib/sundials_6.1.1/src/sundials -DNO_FPRINTF_OUTPUT     -O3  -c -x c -include stan/lib/stan_math/lib/sundials_6.1.1/include/stan_sundials_printf_override.hpp stan/lib/stan_math/lib/sundials_6.1.1/src/sundials/sundials_band.c -o stan/lib/stan_math/lib/sundials_6.1.1/src/sundials/sundials_band.o\n",
            "g++ -pipe   -pthread -D_REENTRANT  -O3 -I stan/lib/stan_math/lib/sundials_6.1.1/include -I stan/lib/stan_math/lib/sundials_6.1.1/src/sundials -DNO_FPRINTF_OUTPUT     -O3  -c -x c -include stan/lib/stan_math/lib/sundials_6.1.1/include/stan_sundials_printf_override.hpp stan/lib/stan_math/lib/sundials_6.1.1/src/sundials/sundials_context.c -o stan/lib/stan_math/lib/sundials_6.1.1/src/sundials/sundials_context.o\n",
            "g++ -pipe   -pthread -D_REENTRANT  -O3 -I stan/lib/stan_math/lib/sundials_6.1.1/include -I stan/lib/stan_math/lib/sundials_6.1.1/src/sundials -DNO_FPRINTF_OUTPUT     -O3  -c -x c -include stan/lib/stan_math/lib/sundials_6.1.1/include/stan_sundials_printf_override.hpp stan/lib/stan_math/lib/sundials_6.1.1/src/sundials/sundials_dense.c -o stan/lib/stan_math/lib/sundials_6.1.1/src/sundials/sundials_dense.o\n",
            "g++ -pipe   -pthread -D_REENTRANT  -O3 -I stan/lib/stan_math/lib/sundials_6.1.1/include -I stan/lib/stan_math/lib/sundials_6.1.1/src/sundials -DNO_FPRINTF_OUTPUT     -O3  -c -x c -include stan/lib/stan_math/lib/sundials_6.1.1/include/stan_sundials_printf_override.hpp stan/lib/stan_math/lib/sundials_6.1.1/src/sundials/sundials_direct.c -o stan/lib/stan_math/lib/sundials_6.1.1/src/sundials/sundials_direct.o\n",
            "g++ -pipe   -pthread -D_REENTRANT  -O3 -I stan/lib/stan_math/lib/sundials_6.1.1/include -I stan/lib/stan_math/lib/sundials_6.1.1/src/sundials -DNO_FPRINTF_OUTPUT     -O3  -c -x c -include stan/lib/stan_math/lib/sundials_6.1.1/include/stan_sundials_printf_override.hpp stan/lib/stan_math/lib/sundials_6.1.1/src/sundials/sundials_futils.c -o stan/lib/stan_math/lib/sundials_6.1.1/src/sundials/sundials_futils.o\n",
            "g++ -pipe   -pthread -D_REENTRANT  -O3 -I stan/lib/stan_math/lib/sundials_6.1.1/include -I stan/lib/stan_math/lib/sundials_6.1.1/src/sundials -DNO_FPRINTF_OUTPUT     -O3  -c -x c -include stan/lib/stan_math/lib/sundials_6.1.1/include/stan_sundials_printf_override.hpp stan/lib/stan_math/lib/sundials_6.1.1/src/sundials/sundials_iterative.c -o stan/lib/stan_math/lib/sundials_6.1.1/src/sundials/sundials_iterative.o\n",
            "g++ -pipe   -pthread -D_REENTRANT  -O3 -I stan/lib/stan_math/lib/sundials_6.1.1/include -I stan/lib/stan_math/lib/sundials_6.1.1/src/sundials -DNO_FPRINTF_OUTPUT     -O3  -c -x c -include stan/lib/stan_math/lib/sundials_6.1.1/include/stan_sundials_printf_override.hpp stan/lib/stan_math/lib/sundials_6.1.1/src/sundials/sundials_linearsolver.c -o stan/lib/stan_math/lib/sundials_6.1.1/src/sundials/sundials_linearsolver.o\n",
            "g++ -pipe   -pthread -D_REENTRANT  -O3 -I stan/lib/stan_math/lib/sundials_6.1.1/include -I stan/lib/stan_math/lib/sundials_6.1.1/src/sundials -DNO_FPRINTF_OUTPUT     -O3  -c -x c -include stan/lib/stan_math/lib/sundials_6.1.1/include/stan_sundials_printf_override.hpp stan/lib/stan_math/lib/sundials_6.1.1/src/sundials/sundials_matrix.c -o stan/lib/stan_math/lib/sundials_6.1.1/src/sundials/sundials_matrix.o\n",
            "g++ -pipe   -pthread -D_REENTRANT  -O3 -I stan/lib/stan_math/lib/sundials_6.1.1/include -I stan/lib/stan_math/lib/sundials_6.1.1/src/sundials -DNO_FPRINTF_OUTPUT     -O3  -c -x c -include stan/lib/stan_math/lib/sundials_6.1.1/include/stan_sundials_printf_override.hpp stan/lib/stan_math/lib/sundials_6.1.1/src/sundials/sundials_memory.c -o stan/lib/stan_math/lib/sundials_6.1.1/src/sundials/sundials_memory.o\n",
            "g++ -pipe   -pthread -D_REENTRANT  -O3 -I stan/lib/stan_math/lib/sundials_6.1.1/include -I stan/lib/stan_math/lib/sundials_6.1.1/src/sundials -DNO_FPRINTF_OUTPUT     -O3  -c -x c -include stan/lib/stan_math/lib/sundials_6.1.1/include/stan_sundials_printf_override.hpp stan/lib/stan_math/lib/sundials_6.1.1/src/sundials/sundials_nonlinearsolver.c -o stan/lib/stan_math/lib/sundials_6.1.1/src/sundials/sundials_nonlinearsolver.o\n",
            "g++ -pipe   -pthread -D_REENTRANT  -O3 -I stan/lib/stan_math/lib/sundials_6.1.1/include -I stan/lib/stan_math/lib/sundials_6.1.1/src/sundials -DNO_FPRINTF_OUTPUT     -O3  -c -x c -include stan/lib/stan_math/lib/sundials_6.1.1/include/stan_sundials_printf_override.hpp stan/lib/stan_math/lib/sundials_6.1.1/src/sundials/sundials_nvector.c -o stan/lib/stan_math/lib/sundials_6.1.1/src/sundials/sundials_nvector.o\n",
            "g++ -pipe   -pthread -D_REENTRANT  -O3 -I stan/lib/stan_math/lib/sundials_6.1.1/include -I stan/lib/stan_math/lib/sundials_6.1.1/src/sundials -DNO_FPRINTF_OUTPUT     -O3  -c -x c -include stan/lib/stan_math/lib/sundials_6.1.1/include/stan_sundials_printf_override.hpp stan/lib/stan_math/lib/sundials_6.1.1/src/sundials/sundials_nvector_senswrapper.c -o stan/lib/stan_math/lib/sundials_6.1.1/src/sundials/sundials_nvector_senswrapper.o\n",
            "g++ -pipe   -pthread -D_REENTRANT  -O3 -I stan/lib/stan_math/lib/sundials_6.1.1/include -I stan/lib/stan_math/lib/sundials_6.1.1/src/sundials -DNO_FPRINTF_OUTPUT     -O3  -c -x c -include stan/lib/stan_math/lib/sundials_6.1.1/include/stan_sundials_printf_override.hpp stan/lib/stan_math/lib/sundials_6.1.1/src/sundials/sundials_version.c -o stan/lib/stan_math/lib/sundials_6.1.1/src/sundials/sundials_version.o\n",
            "g++ -pipe   -pthread -D_REENTRANT  -O3 -I stan/lib/stan_math/lib/sundials_6.1.1/include -I stan/lib/stan_math/lib/sundials_6.1.1/src/sundials -DNO_FPRINTF_OUTPUT     -O3  -c -x c -include stan/lib/stan_math/lib/sundials_6.1.1/include/stan_sundials_printf_override.hpp stan/lib/stan_math/lib/sundials_6.1.1/src/sunmatrix/band/sunmatrix_band.c -o stan/lib/stan_math/lib/sundials_6.1.1/src/sunmatrix/band/sunmatrix_band.o\n",
            "g++ -pipe   -pthread -D_REENTRANT  -O3 -I stan/lib/stan_math/lib/sundials_6.1.1/include -I stan/lib/stan_math/lib/sundials_6.1.1/src/sundials -DNO_FPRINTF_OUTPUT     -O3  -c -x c -include stan/lib/stan_math/lib/sundials_6.1.1/include/stan_sundials_printf_override.hpp stan/lib/stan_math/lib/sundials_6.1.1/src/sunmatrix/dense/sunmatrix_dense.c -o stan/lib/stan_math/lib/sundials_6.1.1/src/sunmatrix/dense/sunmatrix_dense.o\n",
            "g++ -pipe   -pthread -D_REENTRANT  -O3 -I stan/lib/stan_math/lib/sundials_6.1.1/include -I stan/lib/stan_math/lib/sundials_6.1.1/src/sundials -DNO_FPRINTF_OUTPUT     -O3  -c -x c -include stan/lib/stan_math/lib/sundials_6.1.1/include/stan_sundials_printf_override.hpp stan/lib/stan_math/lib/sundials_6.1.1/src/sunlinsol/band/sunlinsol_band.c -o stan/lib/stan_math/lib/sundials_6.1.1/src/sunlinsol/band/sunlinsol_band.o\n",
            "g++ -pipe   -pthread -D_REENTRANT  -O3 -I stan/lib/stan_math/lib/sundials_6.1.1/include -I stan/lib/stan_math/lib/sundials_6.1.1/src/sundials -DNO_FPRINTF_OUTPUT     -O3  -c -x c -include stan/lib/stan_math/lib/sundials_6.1.1/include/stan_sundials_printf_override.hpp stan/lib/stan_math/lib/sundials_6.1.1/src/sunlinsol/dense/sunlinsol_dense.c -o stan/lib/stan_math/lib/sundials_6.1.1/src/sunlinsol/dense/sunlinsol_dense.o\n",
            "g++ -pipe   -pthread -D_REENTRANT  -O3 -I stan/lib/stan_math/lib/sundials_6.1.1/include -I stan/lib/stan_math/lib/sundials_6.1.1/src/sundials -DNO_FPRINTF_OUTPUT     -O3  -c -x c -include stan/lib/stan_math/lib/sundials_6.1.1/include/stan_sundials_printf_override.hpp stan/lib/stan_math/lib/sundials_6.1.1/src/sunnonlinsol/newton/sunnonlinsol_newton.c -o stan/lib/stan_math/lib/sundials_6.1.1/src/sunnonlinsol/newton/sunnonlinsol_newton.o\n",
            "g++ -pipe   -pthread -D_REENTRANT  -O3 -I stan/lib/stan_math/lib/sundials_6.1.1/include -I stan/lib/stan_math/lib/sundials_6.1.1/src/sundials -DNO_FPRINTF_OUTPUT     -O3  -c -x c -include stan/lib/stan_math/lib/sundials_6.1.1/include/stan_sundials_printf_override.hpp stan/lib/stan_math/lib/sundials_6.1.1/src/sunnonlinsol/fixedpoint/sunnonlinsol_fixedpoint.c -o stan/lib/stan_math/lib/sundials_6.1.1/src/sunnonlinsol/fixedpoint/sunnonlinsol_fixedpoint.o\n",
            "g++ -pipe   -pthread -D_REENTRANT  -O3 -I stan/lib/stan_math/lib/sundials_6.1.1/include -I stan/lib/stan_math/lib/sundials_6.1.1/src/sundials -DNO_FPRINTF_OUTPUT     -O3  -c -x c -include stan/lib/stan_math/lib/sundials_6.1.1/include/stan_sundials_printf_override.hpp stan/lib/stan_math/lib/sundials_6.1.1/src/idas/idaa.c -o stan/lib/stan_math/lib/sundials_6.1.1/src/idas/idaa.o\n",
            "g++ -pipe   -pthread -D_REENTRANT  -O3 -I stan/lib/stan_math/lib/sundials_6.1.1/include -I stan/lib/stan_math/lib/sundials_6.1.1/src/sundials -DNO_FPRINTF_OUTPUT     -O3  -c -x c -include stan/lib/stan_math/lib/sundials_6.1.1/include/stan_sundials_printf_override.hpp stan/lib/stan_math/lib/sundials_6.1.1/src/idas/idaa_io.c -o stan/lib/stan_math/lib/sundials_6.1.1/src/idas/idaa_io.o\n",
            "g++ -pipe   -pthread -D_REENTRANT  -O3 -I stan/lib/stan_math/lib/sundials_6.1.1/include -I stan/lib/stan_math/lib/sundials_6.1.1/src/sundials -DNO_FPRINTF_OUTPUT     -O3  -c -x c -include stan/lib/stan_math/lib/sundials_6.1.1/include/stan_sundials_printf_override.hpp stan/lib/stan_math/lib/sundials_6.1.1/src/idas/idas_bbdpre.c -o stan/lib/stan_math/lib/sundials_6.1.1/src/idas/idas_bbdpre.o\n",
            "g++ -pipe   -pthread -D_REENTRANT  -O3 -I stan/lib/stan_math/lib/sundials_6.1.1/include -I stan/lib/stan_math/lib/sundials_6.1.1/src/sundials -DNO_FPRINTF_OUTPUT     -O3  -c -x c -include stan/lib/stan_math/lib/sundials_6.1.1/include/stan_sundials_printf_override.hpp stan/lib/stan_math/lib/sundials_6.1.1/src/idas/idas.c -o stan/lib/stan_math/lib/sundials_6.1.1/src/idas/idas.o\n",
            "g++ -pipe   -pthread -D_REENTRANT  -O3 -I stan/lib/stan_math/lib/sundials_6.1.1/include -I stan/lib/stan_math/lib/sundials_6.1.1/src/sundials -DNO_FPRINTF_OUTPUT     -O3  -c -x c -include stan/lib/stan_math/lib/sundials_6.1.1/include/stan_sundials_printf_override.hpp stan/lib/stan_math/lib/sundials_6.1.1/src/idas/idas_direct.c -o stan/lib/stan_math/lib/sundials_6.1.1/src/idas/idas_direct.o\n",
            "g++ -pipe   -pthread -D_REENTRANT  -O3 -I stan/lib/stan_math/lib/sundials_6.1.1/include -I stan/lib/stan_math/lib/sundials_6.1.1/src/sundials -DNO_FPRINTF_OUTPUT     -O3  -c -x c -include stan/lib/stan_math/lib/sundials_6.1.1/include/stan_sundials_printf_override.hpp stan/lib/stan_math/lib/sundials_6.1.1/src/idas/idas_ic.c -o stan/lib/stan_math/lib/sundials_6.1.1/src/idas/idas_ic.o\n",
            "g++ -pipe   -pthread -D_REENTRANT  -O3 -I stan/lib/stan_math/lib/sundials_6.1.1/include -I stan/lib/stan_math/lib/sundials_6.1.1/src/sundials -DNO_FPRINTF_OUTPUT     -O3  -c -x c -include stan/lib/stan_math/lib/sundials_6.1.1/include/stan_sundials_printf_override.hpp stan/lib/stan_math/lib/sundials_6.1.1/src/idas/idas_io.c -o stan/lib/stan_math/lib/sundials_6.1.1/src/idas/idas_io.o\n",
            "g++ -pipe   -pthread -D_REENTRANT  -O3 -I stan/lib/stan_math/lib/sundials_6.1.1/include -I stan/lib/stan_math/lib/sundials_6.1.1/src/sundials -DNO_FPRINTF_OUTPUT     -O3  -c -x c -include stan/lib/stan_math/lib/sundials_6.1.1/include/stan_sundials_printf_override.hpp stan/lib/stan_math/lib/sundials_6.1.1/src/idas/idas_ls.c -o stan/lib/stan_math/lib/sundials_6.1.1/src/idas/idas_ls.o\n",
            "g++ -pipe   -pthread -D_REENTRANT  -O3 -I stan/lib/stan_math/lib/sundials_6.1.1/include -I stan/lib/stan_math/lib/sundials_6.1.1/src/sundials -DNO_FPRINTF_OUTPUT     -O3  -c -x c -include stan/lib/stan_math/lib/sundials_6.1.1/include/stan_sundials_printf_override.hpp stan/lib/stan_math/lib/sundials_6.1.1/src/idas/idas_nls.c -o stan/lib/stan_math/lib/sundials_6.1.1/src/idas/idas_nls.o\n",
            "g++ -pipe   -pthread -D_REENTRANT  -O3 -I stan/lib/stan_math/lib/sundials_6.1.1/include -I stan/lib/stan_math/lib/sundials_6.1.1/src/sundials -DNO_FPRINTF_OUTPUT     -O3  -c -x c -include stan/lib/stan_math/lib/sundials_6.1.1/include/stan_sundials_printf_override.hpp stan/lib/stan_math/lib/sundials_6.1.1/src/idas/idas_nls_sim.c -o stan/lib/stan_math/lib/sundials_6.1.1/src/idas/idas_nls_sim.o\n",
            "g++ -pipe   -pthread -D_REENTRANT  -O3 -I stan/lib/stan_math/lib/sundials_6.1.1/include -I stan/lib/stan_math/lib/sundials_6.1.1/src/sundials -DNO_FPRINTF_OUTPUT     -O3  -c -x c -include stan/lib/stan_math/lib/sundials_6.1.1/include/stan_sundials_printf_override.hpp stan/lib/stan_math/lib/sundials_6.1.1/src/idas/idas_nls_stg.c -o stan/lib/stan_math/lib/sundials_6.1.1/src/idas/idas_nls_stg.o\n",
            "g++ -pipe   -pthread -D_REENTRANT  -O3 -I stan/lib/stan_math/lib/sundials_6.1.1/include -I stan/lib/stan_math/lib/sundials_6.1.1/src/sundials -DNO_FPRINTF_OUTPUT     -O3  -c -x c -include stan/lib/stan_math/lib/sundials_6.1.1/include/stan_sundials_printf_override.hpp stan/lib/stan_math/lib/sundials_6.1.1/src/idas/idas_spils.c -o stan/lib/stan_math/lib/sundials_6.1.1/src/idas/idas_spils.o\n",
            "g++ -pipe   -pthread -D_REENTRANT  -O3 -I stan/lib/stan_math/lib/sundials_6.1.1/include -I stan/lib/stan_math/lib/sundials_6.1.1/src/sundials -DNO_FPRINTF_OUTPUT     -O3  -c -x c -include stan/lib/stan_math/lib/sundials_6.1.1/include/stan_sundials_printf_override.hpp stan/lib/stan_math/lib/sundials_6.1.1/src/kinsol/kinsol_bbdpre.c -o stan/lib/stan_math/lib/sundials_6.1.1/src/kinsol/kinsol_bbdpre.o\n",
            "g++ -pipe   -pthread -D_REENTRANT  -O3 -I stan/lib/stan_math/lib/sundials_6.1.1/include -I stan/lib/stan_math/lib/sundials_6.1.1/src/sundials -DNO_FPRINTF_OUTPUT     -O3  -c -x c -include stan/lib/stan_math/lib/sundials_6.1.1/include/stan_sundials_printf_override.hpp stan/lib/stan_math/lib/sundials_6.1.1/src/kinsol/kinsol.c -o stan/lib/stan_math/lib/sundials_6.1.1/src/kinsol/kinsol.o\n",
            "g++ -pipe   -pthread -D_REENTRANT  -O3 -I stan/lib/stan_math/lib/sundials_6.1.1/include -I stan/lib/stan_math/lib/sundials_6.1.1/src/sundials -DNO_FPRINTF_OUTPUT     -O3  -c -x c -include stan/lib/stan_math/lib/sundials_6.1.1/include/stan_sundials_printf_override.hpp stan/lib/stan_math/lib/sundials_6.1.1/src/kinsol/kinsol_direct.c -o stan/lib/stan_math/lib/sundials_6.1.1/src/kinsol/kinsol_direct.o\n",
            "g++ -pipe   -pthread -D_REENTRANT  -O3 -I stan/lib/stan_math/lib/sundials_6.1.1/include -I stan/lib/stan_math/lib/sundials_6.1.1/src/sundials -DNO_FPRINTF_OUTPUT     -O3  -c -x c -include stan/lib/stan_math/lib/sundials_6.1.1/include/stan_sundials_printf_override.hpp stan/lib/stan_math/lib/sundials_6.1.1/src/kinsol/kinsol_io.c -o stan/lib/stan_math/lib/sundials_6.1.1/src/kinsol/kinsol_io.o\n",
            "g++ -pipe   -pthread -D_REENTRANT  -O3 -I stan/lib/stan_math/lib/sundials_6.1.1/include -I stan/lib/stan_math/lib/sundials_6.1.1/src/sundials -DNO_FPRINTF_OUTPUT     -O3  -c -x c -include stan/lib/stan_math/lib/sundials_6.1.1/include/stan_sundials_printf_override.hpp stan/lib/stan_math/lib/sundials_6.1.1/src/kinsol/kinsol_ls.c -o stan/lib/stan_math/lib/sundials_6.1.1/src/kinsol/kinsol_ls.o\n",
            "g++ -pipe   -pthread -D_REENTRANT  -O3 -I stan/lib/stan_math/lib/sundials_6.1.1/include -I stan/lib/stan_math/lib/sundials_6.1.1/src/sundials -DNO_FPRINTF_OUTPUT     -O3  -c -x c -include stan/lib/stan_math/lib/sundials_6.1.1/include/stan_sundials_printf_override.hpp stan/lib/stan_math/lib/sundials_6.1.1/src/kinsol/kinsol_spils.c -o stan/lib/stan_math/lib/sundials_6.1.1/src/kinsol/kinsol_spils.o\n",
            "touch stan/lib/stan_math/lib/tbb/tbb-make-check\n",
            "\n",
            "--- Compiling the main object file. This might take up to a minute. ---\n",
            "\n",
            "--- Compiling pre-compiled header. This might take a few seconds. ---\n",
            "g++ -Wno-deprecated-declarations -std=c++17 -pthread -D_REENTRANT -Wno-sign-compare -Wno-ignored-attributes -Wno-class-memaccess      -I stan/lib/stan_math/lib/tbb_2020.3/include    -O3 -I src -I stan/src -I stan/lib/rapidjson_1.1.0/ -I lib/CLI11-1.9.1/ -I stan/lib/stan_math/ -I stan/lib/stan_math/lib/eigen_3.4.0 -I stan/lib/stan_math/lib/boost_1.84.0 -I stan/lib/stan_math/lib/sundials_6.1.1/include -I stan/lib/stan_math/lib/sundials_6.1.1/src/sundials    -DBOOST_DISABLE_ASSERTS          -c -o src/cmdstan/main.o src/cmdstan/main.cpp\n",
            "g++ -Wno-deprecated-declarations -std=c++17 -pthread -D_REENTRANT -Wno-sign-compare -Wno-ignored-attributes -Wno-class-memaccess      -I stan/lib/stan_math/lib/tbb_2020.3/include    -O3 -I src -I stan/src -I stan/lib/rapidjson_1.1.0/ -I lib/CLI11-1.9.1/ -I stan/lib/stan_math/ -I stan/lib/stan_math/lib/eigen_3.4.0 -I stan/lib/stan_math/lib/boost_1.84.0 -I stan/lib/stan_math/lib/sundials_6.1.1/include -I stan/lib/stan_math/lib/sundials_6.1.1/src/sundials    -DBOOST_DISABLE_ASSERTS          -c stan/src/stan/model/model_header.hpp -o stan/src/stan/model/model_header.hpp.gch/model_header_11_4.hpp.gch\n",
            "g++ -Wno-deprecated-declarations -std=c++17 -pthread -D_REENTRANT -Wno-sign-compare -Wno-ignored-attributes -Wno-class-memaccess      -I stan/lib/stan_math/lib/tbb_2020.3/include    -O3 -I src -I stan/src -I stan/lib/rapidjson_1.1.0/ -I lib/CLI11-1.9.1/ -I stan/lib/stan_math/ -I stan/lib/stan_math/lib/eigen_3.4.0 -I stan/lib/stan_math/lib/boost_1.84.0 -I stan/lib/stan_math/lib/sundials_6.1.1/include -I stan/lib/stan_math/lib/sundials_6.1.1/src/sundials    -DBOOST_DISABLE_ASSERTS          -c -fvisibility=hidden src/cmdstan/stansummary.cpp -o bin/cmdstan/stansummary.o\n",
            "g++ -Wno-deprecated-declarations -std=c++17 -pthread -D_REENTRANT -Wno-sign-compare -Wno-ignored-attributes -Wno-class-memaccess      -I stan/lib/stan_math/lib/tbb_2020.3/include    -O3 -I src -I stan/src -I stan/lib/rapidjson_1.1.0/ -I lib/CLI11-1.9.1/ -I stan/lib/stan_math/ -I stan/lib/stan_math/lib/eigen_3.4.0 -I stan/lib/stan_math/lib/boost_1.84.0 -I stan/lib/stan_math/lib/sundials_6.1.1/include -I stan/lib/stan_math/lib/sundials_6.1.1/src/sundials    -DBOOST_DISABLE_ASSERTS          -c -fvisibility=hidden src/cmdstan/print.cpp -o bin/cmdstan/print.o\n",
            "g++ -Wno-deprecated-declarations -std=c++17 -pthread -D_REENTRANT -Wno-sign-compare -Wno-ignored-attributes -Wno-class-memaccess      -I stan/lib/stan_math/lib/tbb_2020.3/include    -O3 -I src -I stan/src -I stan/lib/rapidjson_1.1.0/ -I lib/CLI11-1.9.1/ -I stan/lib/stan_math/ -I stan/lib/stan_math/lib/eigen_3.4.0 -I stan/lib/stan_math/lib/boost_1.84.0 -I stan/lib/stan_math/lib/sundials_6.1.1/include -I stan/lib/stan_math/lib/sundials_6.1.1/src/sundials    -DBOOST_DISABLE_ASSERTS          -c -fvisibility=hidden src/cmdstan/diagnose.cpp -o bin/cmdstan/diagnose.o\n",
            "ar -rs stan/lib/stan_math/lib/sundials_6.1.1/lib/libsundials_nvecserial.a stan/lib/stan_math/lib/sundials_6.1.1/src/nvector/serial/nvector_serial.o stan/lib/stan_math/lib/sundials_6.1.1/src/sundials/sundials_math.o\n",
            "\u001b[31mar: creating stan/lib/stan_math/lib/sundials_6.1.1/lib/libsundials_nvecserial.a\n",
            "\u001b[39mar -rs stan/lib/stan_math/lib/sundials_6.1.1/lib/libsundials_cvodes.a stan/lib/stan_math/lib/sundials_6.1.1/src/cvodes/cvodea.o stan/lib/stan_math/lib/sundials_6.1.1/src/cvodes/cvodea_io.o stan/lib/stan_math/lib/sundials_6.1.1/src/cvodes/cvodes_bandpre.o stan/lib/stan_math/lib/sundials_6.1.1/src/cvodes/cvodes_bbdpre.o stan/lib/stan_math/lib/sundials_6.1.1/src/cvodes/cvodes.o stan/lib/stan_math/lib/sundials_6.1.1/src/cvodes/cvodes_diag.o stan/lib/stan_math/lib/sundials_6.1.1/src/cvodes/cvodes_direct.o stan/lib/stan_math/lib/sundials_6.1.1/src/cvodes/cvodes_io.o stan/lib/stan_math/lib/sundials_6.1.1/src/cvodes/cvodes_ls.o stan/lib/stan_math/lib/sundials_6.1.1/src/cvodes/cvodes_nls.o stan/lib/stan_math/lib/sundials_6.1.1/src/cvodes/cvodes_nls_sim.o stan/lib/stan_math/lib/sundials_6.1.1/src/cvodes/cvodes_nls_stg1.o stan/lib/stan_math/lib/sundials_6.1.1/src/cvodes/cvodes_nls_stg.o stan/lib/stan_math/lib/sundials_6.1.1/src/cvodes/cvodes_spils.o stan/lib/stan_math/lib/sundials_6.1.1/src/sundials/sundials_band.o stan/lib/stan_math/lib/sundials_6.1.1/src/sundials/sundials_context.o stan/lib/stan_math/lib/sundials_6.1.1/src/sundials/sundials_dense.o stan/lib/stan_math/lib/sundials_6.1.1/src/sundials/sundials_direct.o stan/lib/stan_math/lib/sundials_6.1.1/src/sundials/sundials_futils.o stan/lib/stan_math/lib/sundials_6.1.1/src/sundials/sundials_iterative.o stan/lib/stan_math/lib/sundials_6.1.1/src/sundials/sundials_linearsolver.o stan/lib/stan_math/lib/sundials_6.1.1/src/sundials/sundials_math.o stan/lib/stan_math/lib/sundials_6.1.1/src/sundials/sundials_matrix.o stan/lib/stan_math/lib/sundials_6.1.1/src/sundials/sundials_memory.o stan/lib/stan_math/lib/sundials_6.1.1/src/sundials/sundials_nonlinearsolver.o stan/lib/stan_math/lib/sundials_6.1.1/src/sundials/sundials_nvector.o stan/lib/stan_math/lib/sundials_6.1.1/src/sundials/sundials_nvector_senswrapper.o stan/lib/stan_math/lib/sundials_6.1.1/src/sundials/sundials_version.o stan/lib/stan_math/lib/sundials_6.1.1/src/sunmatrix/band/sunmatrix_band.o stan/lib/stan_math/lib/sundials_6.1.1/src/sunmatrix/dense/sunmatrix_dense.o stan/lib/stan_math/lib/sundials_6.1.1/src/sunlinsol/band/sunlinsol_band.o stan/lib/stan_math/lib/sundials_6.1.1/src/sunlinsol/dense/sunlinsol_dense.o stan/lib/stan_math/lib/sundials_6.1.1/src/sunnonlinsol/newton/sunnonlinsol_newton.o stan/lib/stan_math/lib/sundials_6.1.1/src/sunnonlinsol/fixedpoint/sunnonlinsol_fixedpoint.o\n",
            "\u001b[31mar: \u001b[39m\u001b[31mcreating stan/lib/stan_math/lib/sundials_6.1.1/lib/libsundials_cvodes.a\u001b[39m\u001b[31m\n",
            "\u001b[39mar -rs stan/lib/stan_math/lib/sundials_6.1.1/lib/libsundials_idas.a stan/lib/stan_math/lib/sundials_6.1.1/src/idas/idaa.o stan/lib/stan_math/lib/sundials_6.1.1/src/idas/idaa_io.o stan/lib/stan_math/lib/sundials_6.1.1/src/idas/idas_bbdpre.o stan/lib/stan_math/lib/sundials_6.1.1/src/idas/idas.o stan/lib/stan_math/lib/sundials_6.1.1/src/idas/idas_direct.o stan/lib/stan_math/lib/sundials_6.1.1/src/idas/idas_ic.o stan/lib/stan_math/lib/sundials_6.1.1/src/idas/idas_io.o stan/lib/stan_math/lib/sundials_6.1.1/src/idas/idas_ls.o stan/lib/stan_math/lib/sundials_6.1.1/src/idas/idas_nls.o stan/lib/stan_math/lib/sundials_6.1.1/src/idas/idas_nls_sim.o stan/lib/stan_math/lib/sundials_6.1.1/src/idas/idas_nls_stg.o stan/lib/stan_math/lib/sundials_6.1.1/src/idas/idas_spils.o stan/lib/stan_math/lib/sundials_6.1.1/src/sundials/sundials_band.o stan/lib/stan_math/lib/sundials_6.1.1/src/sundials/sundials_context.o stan/lib/stan_math/lib/sundials_6.1.1/src/sundials/sundials_dense.o stan/lib/stan_math/lib/sundials_6.1.1/src/sundials/sundials_direct.o stan/lib/stan_math/lib/sundials_6.1.1/src/sundials/sundials_futils.o stan/lib/stan_math/lib/sundials_6.1.1/src/sundials/sundials_iterative.o stan/lib/stan_math/lib/sundials_6.1.1/src/sundials/sundials_linearsolver.o stan/lib/stan_math/lib/sundials_6.1.1/src/sundials/sundials_math.o stan/lib/stan_math/lib/sundials_6.1.1/src/sundials/sundials_matrix.o stan/lib/stan_math/lib/sundials_6.1.1/src/sundials/sundials_memory.o stan/lib/stan_math/lib/sundials_6.1.1/src/sundials/sundials_nonlinearsolver.o stan/lib/stan_math/lib/sundials_6.1.1/src/sundials/sundials_nvector.o stan/lib/stan_math/lib/sundials_6.1.1/src/sundials/sundials_nvector_senswrapper.o stan/lib/stan_math/lib/sundials_6.1.1/src/sundials/sundials_version.o stan/lib/stan_math/lib/sundials_6.1.1/src/sunmatrix/band/sunmatrix_band.o stan/lib/stan_math/lib/sundials_6.1.1/src/sunmatrix/dense/sunmatrix_dense.o stan/lib/stan_math/lib/sundials_6.1.1/src/sunlinsol/band/sunlinsol_band.o stan/lib/stan_math/lib/sundials_6.1.1/src/sunlinsol/dense/sunlinsol_dense.o stan/lib/stan_math/lib/sundials_6.1.1/src/sunnonlinsol/newton/sunnonlinsol_newton.o stan/lib/stan_math/lib/sundials_6.1.1/src/sunnonlinsol/fixedpoint/sunnonlinsol_fixedpoint.o\n",
            "\u001b[31mar: \u001b[39m\u001b[31mcreating stan/lib/stan_math/lib/sundials_6.1.1/lib/libsundials_idas.a\u001b[39m\u001b[31m\n",
            "\u001b[39mar -rs stan/lib/stan_math/lib/sundials_6.1.1/lib/libsundials_kinsol.a stan/lib/stan_math/lib/sundials_6.1.1/src/kinsol/kinsol_bbdpre.o stan/lib/stan_math/lib/sundials_6.1.1/src/kinsol/kinsol.o stan/lib/stan_math/lib/sundials_6.1.1/src/kinsol/kinsol_direct.o stan/lib/stan_math/lib/sundials_6.1.1/src/kinsol/kinsol_io.o stan/lib/stan_math/lib/sundials_6.1.1/src/kinsol/kinsol_ls.o stan/lib/stan_math/lib/sundials_6.1.1/src/kinsol/kinsol_spils.o stan/lib/stan_math/lib/sundials_6.1.1/src/sundials/sundials_band.o stan/lib/stan_math/lib/sundials_6.1.1/src/sundials/sundials_context.o stan/lib/stan_math/lib/sundials_6.1.1/src/sundials/sundials_dense.o stan/lib/stan_math/lib/sundials_6.1.1/src/sundials/sundials_direct.o stan/lib/stan_math/lib/sundials_6.1.1/src/sundials/sundials_futils.o stan/lib/stan_math/lib/sundials_6.1.1/src/sundials/sundials_iterative.o stan/lib/stan_math/lib/sundials_6.1.1/src/sundials/sundials_linearsolver.o stan/lib/stan_math/lib/sundials_6.1.1/src/sundials/sundials_math.o stan/lib/stan_math/lib/sundials_6.1.1/src/sundials/sundials_matrix.o stan/lib/stan_math/lib/sundials_6.1.1/src/sundials/sundials_memory.o stan/lib/stan_math/lib/sundials_6.1.1/src/sundials/sundials_nonlinearsolver.o stan/lib/stan_math/lib/sundials_6.1.1/src/sundials/sundials_nvector.o stan/lib/stan_math/lib/sundials_6.1.1/src/sundials/sundials_nvector_senswrapper.o stan/lib/stan_math/lib/sundials_6.1.1/src/sundials/sundials_version.o stan/lib/stan_math/lib/sundials_6.1.1/src/sunmatrix/band/sunmatrix_band.o stan/lib/stan_math/lib/sundials_6.1.1/src/sunmatrix/dense/sunmatrix_dense.o stan/lib/stan_math/lib/sundials_6.1.1/src/sunlinsol/band/sunlinsol_band.o stan/lib/stan_math/lib/sundials_6.1.1/src/sunlinsol/dense/sunlinsol_dense.o stan/lib/stan_math/lib/sundials_6.1.1/src/sunnonlinsol/newton/sunnonlinsol_newton.o stan/lib/stan_math/lib/sundials_6.1.1/src/sunnonlinsol/fixedpoint/sunnonlinsol_fixedpoint.o\n",
            "\u001b[31mar: \u001b[39m\u001b[31mcreating stan/lib/stan_math/lib/sundials_6.1.1/lib/libsundials_kinsol.a\u001b[39m\u001b[31m\n",
            "\u001b[39mtouch stan/lib/stan_math/lib/tbb/version_tbb_2020.3\n",
            "tbb_root=\"../tbb_2020.3\" WINARM64=\"\" CXX=\"g++\" CC=\"gcc\" LDFLAGS='-Wl,-L,\"/root/.cmdstan/cmdstan-2.35.0/stan/lib/stan_math/lib/tbb\"   -Wl,-rpath,\"/root/.cmdstan/cmdstan-2.35.0/stan/lib/stan_math/lib/tbb\"' 'make' -C \"stan/lib/stan_math/lib/tbb\" -r -f \"/root/.cmdstan/cmdstan-2.35.0/stan/lib/stan_math/lib/tbb_2020.3/build/Makefile.tbb\" compiler=gcc cfg=release stdver=c++17  CXXFLAGS=\"-Wno-unknown-warning-option -Wno-deprecated-copy -Wno-missing-attributes -Wno-class-memaccess -Wno-sized-deallocation  \"\n",
            "make[1]: Entering directory '/root/.cmdstan/cmdstan-2.35.0/stan/lib/stan_math/lib/tbb'\n",
            "\u001b[31m/root/.cmdstan/cmdstan-2.35.0/stan/lib/stan_math/lib/tbb_2020.3/build/Makefile.tbb:28: CONFIG: cfg=release arch=intel64 compiler=gcc target=linux runtime=cc11.4.0_libc2.35_kernel6.1.85+\n",
            "\u001b[39mg++ -o concurrent_hash_map.o -c -MMD -O2 -g -DDO_ITT_NOTIFY -DUSE_PTHREAD -pthread -m64 -mrtm  -fPIC -flifetime-dse=1 -D__TBB_BUILD=1 -Wall -Wextra -Wno-parentheses -Wno-sized-deallocation -Wno-unknown-warning-option -Wno-deprecated-copy -Wno-missing-attributes -Wno-class-memaccess -Wno-sized-deallocation   -DTBB_SUPPRESS_DEPRECATED_MESSAGES=1 -std=c++17  -I../tbb_2020.3/src -I../tbb_2020.3/src/rml/include -I../tbb_2020.3/include ../tbb_2020.3/src/tbb/concurrent_hash_map.cpp\n",
            "g++ -o concurrent_queue.o -c -MMD -O2 -g -DDO_ITT_NOTIFY -DUSE_PTHREAD -pthread -m64 -mrtm  -fPIC -flifetime-dse=1 -D__TBB_BUILD=1 -Wall -Wextra -Wno-parentheses -Wno-sized-deallocation -Wno-unknown-warning-option -Wno-deprecated-copy -Wno-missing-attributes -Wno-class-memaccess -Wno-sized-deallocation   -DTBB_SUPPRESS_DEPRECATED_MESSAGES=1 -std=c++17  -I../tbb_2020.3/src -I../tbb_2020.3/src/rml/include -I../tbb_2020.3/include ../tbb_2020.3/src/tbb/concurrent_queue.cpp\n",
            "g++ -o concurrent_vector.o -c -MMD -O2 -g -DDO_ITT_NOTIFY -DUSE_PTHREAD -pthread -m64 -mrtm  -fPIC -flifetime-dse=1 -D__TBB_BUILD=1 -Wall -Wextra -Wno-parentheses -Wno-sized-deallocation -Wno-unknown-warning-option -Wno-deprecated-copy -Wno-missing-attributes -Wno-class-memaccess -Wno-sized-deallocation   -DTBB_SUPPRESS_DEPRECATED_MESSAGES=1 -std=c++17  -I../tbb_2020.3/src -I../tbb_2020.3/src/rml/include -I../tbb_2020.3/include ../tbb_2020.3/src/tbb/concurrent_vector.cpp\n",
            "g++ -o dynamic_link.o -c -MMD -O2 -g -DDO_ITT_NOTIFY -DUSE_PTHREAD -pthread -m64 -mrtm  -fPIC -flifetime-dse=1 -D__TBB_BUILD=1 -Wall -Wextra -Wno-parentheses -Wno-sized-deallocation -Wno-unknown-warning-option -Wno-deprecated-copy -Wno-missing-attributes -Wno-class-memaccess -Wno-sized-deallocation   -DTBB_SUPPRESS_DEPRECATED_MESSAGES=1 -std=c++17  -I../tbb_2020.3/src -I../tbb_2020.3/src/rml/include -I../tbb_2020.3/include ../tbb_2020.3/src/tbb/dynamic_link.cpp\n",
            "g++ -o itt_notify.o -c -MMD -O2 -g -DDO_ITT_NOTIFY -DUSE_PTHREAD -pthread -m64 -mrtm  -fPIC -flifetime-dse=1 -D__TBB_BUILD=1 -Wall -Wextra -Wno-parentheses -Wno-sized-deallocation -Wno-unknown-warning-option -Wno-deprecated-copy -Wno-missing-attributes -Wno-class-memaccess -Wno-sized-deallocation   -DTBB_SUPPRESS_DEPRECATED_MESSAGES=1 -std=c++17  -I../tbb_2020.3/src -I../tbb_2020.3/src/rml/include -I../tbb_2020.3/include ../tbb_2020.3/src/tbb/itt_notify.cpp\n",
            "g++ -o cache_aligned_allocator.o -c -MMD -O2 -g -DDO_ITT_NOTIFY -DUSE_PTHREAD -pthread -m64 -mrtm  -fPIC -flifetime-dse=1 -D__TBB_BUILD=1 -Wall -Wextra -Wno-parentheses -Wno-sized-deallocation -Wno-unknown-warning-option -Wno-deprecated-copy -Wno-missing-attributes -Wno-class-memaccess -Wno-sized-deallocation   -DTBB_SUPPRESS_DEPRECATED_MESSAGES=1 -std=c++17  -I../tbb_2020.3/src -I../tbb_2020.3/src/rml/include -I../tbb_2020.3/include ../tbb_2020.3/src/tbb/cache_aligned_allocator.cpp\n",
            "g++ -o pipeline.o -c -MMD -O2 -g -DDO_ITT_NOTIFY -DUSE_PTHREAD -pthread -m64 -mrtm  -fPIC -flifetime-dse=1 -D__TBB_BUILD=1 -Wall -Wextra -Wno-parentheses -Wno-sized-deallocation -Wno-unknown-warning-option -Wno-deprecated-copy -Wno-missing-attributes -Wno-class-memaccess -Wno-sized-deallocation   -DTBB_SUPPRESS_DEPRECATED_MESSAGES=1 -std=c++17  -I../tbb_2020.3/src -I../tbb_2020.3/src/rml/include -I../tbb_2020.3/include ../tbb_2020.3/src/tbb/pipeline.cpp\n",
            "g++ -o queuing_mutex.o -c -MMD -O2 -g -DDO_ITT_NOTIFY -DUSE_PTHREAD -pthread -m64 -mrtm  -fPIC -flifetime-dse=1 -D__TBB_BUILD=1 -Wall -Wextra -Wno-parentheses -Wno-sized-deallocation -Wno-unknown-warning-option -Wno-deprecated-copy -Wno-missing-attributes -Wno-class-memaccess -Wno-sized-deallocation   -DTBB_SUPPRESS_DEPRECATED_MESSAGES=1 -std=c++17  -I../tbb_2020.3/src -I../tbb_2020.3/src/rml/include -I../tbb_2020.3/include ../tbb_2020.3/src/tbb/queuing_mutex.cpp\n",
            "g++ -o queuing_rw_mutex.o -c -MMD -O2 -g -DDO_ITT_NOTIFY -DUSE_PTHREAD -pthread -m64 -mrtm  -fPIC -flifetime-dse=1 -D__TBB_BUILD=1 -Wall -Wextra -Wno-parentheses -Wno-sized-deallocation -Wno-unknown-warning-option -Wno-deprecated-copy -Wno-missing-attributes -Wno-class-memaccess -Wno-sized-deallocation   -DTBB_SUPPRESS_DEPRECATED_MESSAGES=1 -std=c++17  -I../tbb_2020.3/src -I../tbb_2020.3/src/rml/include -I../tbb_2020.3/include ../tbb_2020.3/src/tbb/queuing_rw_mutex.cpp\n",
            "g++ -o reader_writer_lock.o -c -MMD -O2 -g -DDO_ITT_NOTIFY -DUSE_PTHREAD -pthread -m64 -mrtm  -fPIC -flifetime-dse=1 -D__TBB_BUILD=1 -Wall -Wextra -Wno-parentheses -Wno-sized-deallocation -Wno-unknown-warning-option -Wno-deprecated-copy -Wno-missing-attributes -Wno-class-memaccess -Wno-sized-deallocation   -DTBB_SUPPRESS_DEPRECATED_MESSAGES=1 -std=c++17  -I../tbb_2020.3/src -I../tbb_2020.3/src/rml/include -I../tbb_2020.3/include ../tbb_2020.3/src/tbb/reader_writer_lock.cpp\n",
            "g++ -o spin_rw_mutex.o -c -MMD -O2 -g -DDO_ITT_NOTIFY -DUSE_PTHREAD -pthread -m64 -mrtm  -fPIC -flifetime-dse=1 -D__TBB_BUILD=1 -Wall -Wextra -Wno-parentheses -Wno-sized-deallocation -Wno-unknown-warning-option -Wno-deprecated-copy -Wno-missing-attributes -Wno-class-memaccess -Wno-sized-deallocation   -DTBB_SUPPRESS_DEPRECATED_MESSAGES=1 -std=c++17  -I../tbb_2020.3/src -I../tbb_2020.3/src/rml/include -I../tbb_2020.3/include ../tbb_2020.3/src/tbb/spin_rw_mutex.cpp\n",
            "g++ -o x86_rtm_rw_mutex.o -c -MMD -O2 -g -DDO_ITT_NOTIFY -DUSE_PTHREAD -pthread -m64 -mrtm  -fPIC -flifetime-dse=1 -D__TBB_BUILD=1 -Wall -Wextra -Wno-parentheses -Wno-sized-deallocation -Wno-unknown-warning-option -Wno-deprecated-copy -Wno-missing-attributes -Wno-class-memaccess -Wno-sized-deallocation   -DTBB_SUPPRESS_DEPRECATED_MESSAGES=1 -std=c++17  -I../tbb_2020.3/src -I../tbb_2020.3/src/rml/include -I../tbb_2020.3/include ../tbb_2020.3/src/tbb/x86_rtm_rw_mutex.cpp\n",
            "g++ -o spin_mutex.o -c -MMD -O2 -g -DDO_ITT_NOTIFY -DUSE_PTHREAD -pthread -m64 -mrtm  -fPIC -flifetime-dse=1 -D__TBB_BUILD=1 -Wall -Wextra -Wno-parentheses -Wno-sized-deallocation -Wno-unknown-warning-option -Wno-deprecated-copy -Wno-missing-attributes -Wno-class-memaccess -Wno-sized-deallocation   -DTBB_SUPPRESS_DEPRECATED_MESSAGES=1 -std=c++17  -I../tbb_2020.3/src -I../tbb_2020.3/src/rml/include -I../tbb_2020.3/include ../tbb_2020.3/src/tbb/spin_mutex.cpp\n",
            "g++ -o critical_section.o -c -MMD -O2 -g -DDO_ITT_NOTIFY -DUSE_PTHREAD -pthread -m64 -mrtm  -fPIC -flifetime-dse=1 -D__TBB_BUILD=1 -Wall -Wextra -Wno-parentheses -Wno-sized-deallocation -Wno-unknown-warning-option -Wno-deprecated-copy -Wno-missing-attributes -Wno-class-memaccess -Wno-sized-deallocation   -DTBB_SUPPRESS_DEPRECATED_MESSAGES=1 -std=c++17  -I../tbb_2020.3/src -I../tbb_2020.3/src/rml/include -I../tbb_2020.3/include ../tbb_2020.3/src/tbb/critical_section.cpp\n",
            "g++ -o mutex.o -c -MMD -O2 -g -DDO_ITT_NOTIFY -DUSE_PTHREAD -pthread -m64 -mrtm  -fPIC -flifetime-dse=1 -D__TBB_BUILD=1 -Wall -Wextra -Wno-parentheses -Wno-sized-deallocation -Wno-unknown-warning-option -Wno-deprecated-copy -Wno-missing-attributes -Wno-class-memaccess -Wno-sized-deallocation   -DTBB_SUPPRESS_DEPRECATED_MESSAGES=1 -std=c++17  -I../tbb_2020.3/src -I../tbb_2020.3/src/rml/include -I../tbb_2020.3/include ../tbb_2020.3/src/tbb/mutex.cpp\n",
            "g++ -o recursive_mutex.o -c -MMD -O2 -g -DDO_ITT_NOTIFY -DUSE_PTHREAD -pthread -m64 -mrtm  -fPIC -flifetime-dse=1 -D__TBB_BUILD=1 -Wall -Wextra -Wno-parentheses -Wno-sized-deallocation -Wno-unknown-warning-option -Wno-deprecated-copy -Wno-missing-attributes -Wno-class-memaccess -Wno-sized-deallocation   -DTBB_SUPPRESS_DEPRECATED_MESSAGES=1 -std=c++17  -I../tbb_2020.3/src -I../tbb_2020.3/src/rml/include -I../tbb_2020.3/include ../tbb_2020.3/src/tbb/recursive_mutex.cpp\n",
            "g++ -o condition_variable.o -c -MMD -O2 -g -DDO_ITT_NOTIFY -DUSE_PTHREAD -pthread -m64 -mrtm  -fPIC -flifetime-dse=1 -D__TBB_BUILD=1 -Wall -Wextra -Wno-parentheses -Wno-sized-deallocation -Wno-unknown-warning-option -Wno-deprecated-copy -Wno-missing-attributes -Wno-class-memaccess -Wno-sized-deallocation   -DTBB_SUPPRESS_DEPRECATED_MESSAGES=1 -std=c++17  -I../tbb_2020.3/src -I../tbb_2020.3/src/rml/include -I../tbb_2020.3/include ../tbb_2020.3/src/tbb/condition_variable.cpp\n",
            "g++ -o tbb_thread.o -c -MMD -O2 -g -DDO_ITT_NOTIFY -DUSE_PTHREAD -pthread -m64 -mrtm  -fPIC -flifetime-dse=1 -D__TBB_BUILD=1 -Wall -Wextra -Wno-parentheses -Wno-sized-deallocation -Wno-unknown-warning-option -Wno-deprecated-copy -Wno-missing-attributes -Wno-class-memaccess -Wno-sized-deallocation   -DTBB_SUPPRESS_DEPRECATED_MESSAGES=1 -std=c++17  -I../tbb_2020.3/src -I../tbb_2020.3/src/rml/include -I../tbb_2020.3/include ../tbb_2020.3/src/tbb/tbb_thread.cpp\n",
            "g++ -o concurrent_monitor.o -c -MMD -O2 -g -DDO_ITT_NOTIFY -DUSE_PTHREAD -pthread -m64 -mrtm  -fPIC -flifetime-dse=1 -D__TBB_BUILD=1 -Wall -Wextra -Wno-parentheses -Wno-sized-deallocation -Wno-unknown-warning-option -Wno-deprecated-copy -Wno-missing-attributes -Wno-class-memaccess -Wno-sized-deallocation   -DTBB_SUPPRESS_DEPRECATED_MESSAGES=1 -std=c++17  -I../tbb_2020.3/src -I../tbb_2020.3/src/rml/include -I../tbb_2020.3/include ../tbb_2020.3/src/tbb/concurrent_monitor.cpp\n",
            "g++ -o semaphore.o -c -MMD -O2 -g -DDO_ITT_NOTIFY -DUSE_PTHREAD -pthread -m64 -mrtm  -fPIC -flifetime-dse=1 -D__TBB_BUILD=1 -Wall -Wextra -Wno-parentheses -Wno-sized-deallocation -Wno-unknown-warning-option -Wno-deprecated-copy -Wno-missing-attributes -Wno-class-memaccess -Wno-sized-deallocation   -DTBB_SUPPRESS_DEPRECATED_MESSAGES=1 -std=c++17  -I../tbb_2020.3/src -I../tbb_2020.3/src/rml/include -I../tbb_2020.3/include ../tbb_2020.3/src/tbb/semaphore.cpp\n",
            "g++ -o private_server.o -c -MMD -O2 -g -DDO_ITT_NOTIFY -DUSE_PTHREAD -pthread -m64 -mrtm  -fPIC -flifetime-dse=1 -D__TBB_BUILD=1 -Wall -Wextra -Wno-parentheses -Wno-sized-deallocation -Wno-unknown-warning-option -Wno-deprecated-copy -Wno-missing-attributes -Wno-class-memaccess -Wno-sized-deallocation   -DTBB_SUPPRESS_DEPRECATED_MESSAGES=1 -std=c++17  -I../tbb_2020.3/src -I../tbb_2020.3/src/rml/include -I../tbb_2020.3/include ../tbb_2020.3/src/tbb/private_server.cpp\n",
            "g++ -o rml_tbb.o -c -MMD -O2 -g -DDO_ITT_NOTIFY -DUSE_PTHREAD -pthread -m64 -mrtm  -fPIC -flifetime-dse=1 -D__TBB_BUILD=1 -Wall -Wextra -Wno-parentheses -Wno-sized-deallocation -Wno-unknown-warning-option -Wno-deprecated-copy -Wno-missing-attributes -Wno-class-memaccess -Wno-sized-deallocation   -DTBB_SUPPRESS_DEPRECATED_MESSAGES=1 -std=c++17  -I../tbb_2020.3/src -I../tbb_2020.3/src/rml/include -I../tbb_2020.3/include ../tbb_2020.3/src/rml/client/rml_tbb.cpp\n",
            "sh ../tbb_2020.3/build/version_info_linux.sh g++ -O2 -g -DDO_ITT_NOTIFY -DUSE_PTHREAD -pthread -m64 -mrtm  -fPIC -flifetime-dse=1 -D__TBB_BUILD=1 -Wall -Wextra -Wno-parentheses -Wno-sized-deallocation -Wno-unknown-warning-option -Wno-deprecated-copy -Wno-missing-attributes -Wno-class-memaccess -Wno-sized-deallocation   -DTBB_SUPPRESS_DEPRECATED_MESSAGES=1 -std=c++17 -I../tbb_2020.3/src -I../tbb_2020.3/src/rml/include -I../tbb_2020.3/include -I. >version_string.ver\n",
            "g++ -o tbb_misc_ex.o -c -MMD -O2 -g -DDO_ITT_NOTIFY -DUSE_PTHREAD -pthread -m64 -mrtm  -fPIC -flifetime-dse=1 -D__TBB_BUILD=1 -Wall -Wextra -Wno-parentheses -Wno-sized-deallocation -Wno-unknown-warning-option -Wno-deprecated-copy -Wno-missing-attributes -Wno-class-memaccess -Wno-sized-deallocation   -DTBB_SUPPRESS_DEPRECATED_MESSAGES=1 -std=c++17  -I../tbb_2020.3/src -I../tbb_2020.3/src/rml/include -I../tbb_2020.3/include ../tbb_2020.3/src/tbb/tbb_misc_ex.cpp\n",
            "g++ -o task.o -c -MMD -O2 -g -DDO_ITT_NOTIFY -DUSE_PTHREAD -pthread -m64 -mrtm  -fPIC -flifetime-dse=1 -D__TBB_BUILD=1 -Wall -Wextra -Wno-parentheses -Wno-sized-deallocation -Wno-unknown-warning-option -Wno-deprecated-copy -Wno-missing-attributes -Wno-class-memaccess -Wno-sized-deallocation   -DTBB_SUPPRESS_DEPRECATED_MESSAGES=1 -std=c++17  -I../tbb_2020.3/src -I../tbb_2020.3/src/rml/include -I../tbb_2020.3/include ../tbb_2020.3/src/tbb/task.cpp\n",
            "g++ -o task_group_context.o -c -MMD -O2 -g -DDO_ITT_NOTIFY -DUSE_PTHREAD -pthread -m64 -mrtm  -fPIC -flifetime-dse=1 -D__TBB_BUILD=1 -Wall -Wextra -Wno-parentheses -Wno-sized-deallocation -Wno-unknown-warning-option -Wno-deprecated-copy -Wno-missing-attributes -Wno-class-memaccess -Wno-sized-deallocation   -DTBB_SUPPRESS_DEPRECATED_MESSAGES=1 -std=c++17  -I../tbb_2020.3/src -I../tbb_2020.3/src/rml/include -I../tbb_2020.3/include ../tbb_2020.3/src/tbb/task_group_context.cpp\n",
            "g++ -o governor.o -c -MMD -O2 -g -DDO_ITT_NOTIFY -DUSE_PTHREAD -pthread -m64 -mrtm  -fPIC -flifetime-dse=1 -D__TBB_BUILD=1 -Wall -Wextra -Wno-parentheses -Wno-sized-deallocation -Wno-unknown-warning-option -Wno-deprecated-copy -Wno-missing-attributes -Wno-class-memaccess -Wno-sized-deallocation   -DTBB_SUPPRESS_DEPRECATED_MESSAGES=1 -std=c++17  -I../tbb_2020.3/src -I../tbb_2020.3/src/rml/include -I../tbb_2020.3/include ../tbb_2020.3/src/tbb/governor.cpp\n",
            "g++ -o market.o -c -MMD -O2 -g -DDO_ITT_NOTIFY -DUSE_PTHREAD -pthread -m64 -mrtm  -fPIC -flifetime-dse=1 -D__TBB_BUILD=1 -Wall -Wextra -Wno-parentheses -Wno-sized-deallocation -Wno-unknown-warning-option -Wno-deprecated-copy -Wno-missing-attributes -Wno-class-memaccess -Wno-sized-deallocation   -DTBB_SUPPRESS_DEPRECATED_MESSAGES=1 -std=c++17  -I../tbb_2020.3/src -I../tbb_2020.3/src/rml/include -I../tbb_2020.3/include ../tbb_2020.3/src/tbb/market.cpp\n",
            "g++ -o arena.o -c -MMD -O2 -g -DDO_ITT_NOTIFY -DUSE_PTHREAD -pthread -m64 -mrtm  -fPIC -flifetime-dse=1 -D__TBB_BUILD=1 -Wall -Wextra -Wno-parentheses -Wno-sized-deallocation -Wno-unknown-warning-option -Wno-deprecated-copy -Wno-missing-attributes -Wno-class-memaccess -Wno-sized-deallocation   -DTBB_SUPPRESS_DEPRECATED_MESSAGES=1 -std=c++17  -I../tbb_2020.3/src -I../tbb_2020.3/src/rml/include -I../tbb_2020.3/include ../tbb_2020.3/src/tbb/arena.cpp\n",
            "g++ -o scheduler.o -c -MMD -O2 -g -DDO_ITT_NOTIFY -DUSE_PTHREAD -pthread -m64 -mrtm  -fPIC -flifetime-dse=1 -D__TBB_BUILD=1 -Wall -Wextra -Wno-parentheses -Wno-sized-deallocation -Wno-unknown-warning-option -Wno-deprecated-copy -Wno-missing-attributes -Wno-class-memaccess -Wno-sized-deallocation   -DTBB_SUPPRESS_DEPRECATED_MESSAGES=1 -std=c++17  -I../tbb_2020.3/src -I../tbb_2020.3/src/rml/include -I../tbb_2020.3/include ../tbb_2020.3/src/tbb/scheduler.cpp\n",
            "g++ -o observer_proxy.o -c -MMD -O2 -g -DDO_ITT_NOTIFY -DUSE_PTHREAD -pthread -m64 -mrtm  -fPIC -flifetime-dse=1 -D__TBB_BUILD=1 -Wall -Wextra -Wno-parentheses -Wno-sized-deallocation -Wno-unknown-warning-option -Wno-deprecated-copy -Wno-missing-attributes -Wno-class-memaccess -Wno-sized-deallocation   -DTBB_SUPPRESS_DEPRECATED_MESSAGES=1 -std=c++17  -I../tbb_2020.3/src -I../tbb_2020.3/src/rml/include -I../tbb_2020.3/include ../tbb_2020.3/src/tbb/observer_proxy.cpp\n",
            "g++ -o tbb_statistics.o -c -MMD -O2 -g -DDO_ITT_NOTIFY -DUSE_PTHREAD -pthread -m64 -mrtm  -fPIC -flifetime-dse=1 -D__TBB_BUILD=1 -Wall -Wextra -Wno-parentheses -Wno-sized-deallocation -Wno-unknown-warning-option -Wno-deprecated-copy -Wno-missing-attributes -Wno-class-memaccess -Wno-sized-deallocation   -DTBB_SUPPRESS_DEPRECATED_MESSAGES=1 -std=c++17  -I../tbb_2020.3/src -I../tbb_2020.3/src/rml/include -I../tbb_2020.3/include ../tbb_2020.3/src/tbb/tbb_statistics.cpp\n",
            "g++ -o tbb_main.o -c -MMD -O2 -g -DDO_ITT_NOTIFY -DUSE_PTHREAD -pthread -m64 -mrtm  -fPIC -flifetime-dse=1 -D__TBB_BUILD=1 -Wall -Wextra -Wno-parentheses -Wno-sized-deallocation -Wno-unknown-warning-option -Wno-deprecated-copy -Wno-missing-attributes -Wno-class-memaccess -Wno-sized-deallocation   -DTBB_SUPPRESS_DEPRECATED_MESSAGES=1 -std=c++17  -I../tbb_2020.3/src -I../tbb_2020.3/src/rml/include -I../tbb_2020.3/include ../tbb_2020.3/src/tbb/tbb_main.cpp\n",
            "g++ -o concurrent_vector_v2.o -c -MMD -O2 -g -DDO_ITT_NOTIFY -DUSE_PTHREAD -pthread -m64 -mrtm  -fPIC -flifetime-dse=1 -D__TBB_BUILD=1 -Wall -Wextra -Wno-parentheses -Wno-sized-deallocation -Wno-unknown-warning-option -Wno-deprecated-copy -Wno-missing-attributes -Wno-class-memaccess -Wno-sized-deallocation   -DTBB_SUPPRESS_DEPRECATED_MESSAGES=1 -std=c++17  -I../tbb_2020.3/src -I../tbb_2020.3/src/rml/include -I../tbb_2020.3/include ../tbb_2020.3/src/old/concurrent_vector_v2.cpp\n",
            "g++ -o concurrent_queue_v2.o -c -MMD -O2 -g -DDO_ITT_NOTIFY -DUSE_PTHREAD -pthread -m64 -mrtm  -fPIC -flifetime-dse=1 -D__TBB_BUILD=1 -Wall -Wextra -Wno-parentheses -Wno-sized-deallocation -Wno-unknown-warning-option -Wno-deprecated-copy -Wno-missing-attributes -Wno-class-memaccess -Wno-sized-deallocation   -DTBB_SUPPRESS_DEPRECATED_MESSAGES=1 -std=c++17  -I../tbb_2020.3/src -I../tbb_2020.3/src/rml/include -I../tbb_2020.3/include ../tbb_2020.3/src/old/concurrent_queue_v2.cpp\n",
            "g++ -o spin_rw_mutex_v2.o -c -MMD -O2 -g -DDO_ITT_NOTIFY -DUSE_PTHREAD -pthread -m64 -mrtm  -fPIC -flifetime-dse=1 -D__TBB_BUILD=1 -Wall -Wextra -Wno-parentheses -Wno-sized-deallocation -Wno-unknown-warning-option -Wno-deprecated-copy -Wno-missing-attributes -Wno-class-memaccess -Wno-sized-deallocation   -DTBB_SUPPRESS_DEPRECATED_MESSAGES=1 -std=c++17  -I../tbb_2020.3/src -I../tbb_2020.3/src/rml/include -I../tbb_2020.3/include ../tbb_2020.3/src/old/spin_rw_mutex_v2.cpp\n",
            "g++ -o task_v2.o -c -MMD -O2 -g -DDO_ITT_NOTIFY -DUSE_PTHREAD -pthread -m64 -mrtm  -fPIC -flifetime-dse=1 -D__TBB_BUILD=1 -Wall -Wextra -Wno-parentheses -Wno-sized-deallocation -Wno-unknown-warning-option -Wno-deprecated-copy -Wno-missing-attributes -Wno-class-memaccess -Wno-sized-deallocation   -DTBB_SUPPRESS_DEPRECATED_MESSAGES=1 -std=c++17  -I../tbb_2020.3/src -I../tbb_2020.3/src/rml/include -I../tbb_2020.3/include ../tbb_2020.3/src/old/task_v2.cpp\n",
            "sh ../tbb_2020.3/build/generate_tbbvars.sh\n",
            "echo \"INPUT (libtbb.so.2)\" > libtbb.so\n",
            "g++ -E -x c++ ../tbb_2020.3/src/tbb/lin64-tbb-export.def -O2 -g -DDO_ITT_NOTIFY -DUSE_PTHREAD -pthread -m64 -mrtm  -fPIC -flifetime-dse=1 -D__TBB_BUILD=1 -Wall -Wextra -Wno-parentheses -Wno-sized-deallocation -Wno-unknown-warning-option -Wno-deprecated-copy -Wno-missing-attributes -Wno-class-memaccess -Wno-sized-deallocation   -DTBB_SUPPRESS_DEPRECATED_MESSAGES=1 -I../tbb_2020.3/src -I../tbb_2020.3/src/rml/include -I../tbb_2020.3/include > tbb.def\n",
            "g++ -o tbb_misc.o -c -MMD -O2 -g -DDO_ITT_NOTIFY -DUSE_PTHREAD -pthread -m64 -mrtm  -fPIC -flifetime-dse=1 -D__TBB_BUILD=1 -Wall -Wextra -Wno-parentheses -Wno-sized-deallocation -Wno-unknown-warning-option -Wno-deprecated-copy -Wno-missing-attributes -Wno-class-memaccess -Wno-sized-deallocation   -DTBB_SUPPRESS_DEPRECATED_MESSAGES=1 -std=c++17  -I../tbb_2020.3/src -I../tbb_2020.3/src/rml/include -I../tbb_2020.3/include -I. ../tbb_2020.3/src/tbb/tbb_misc.cpp\n",
            "g++ -fPIC -o libtbb.so.2 concurrent_hash_map.o concurrent_queue.o concurrent_vector.o dynamic_link.o itt_notify.o cache_aligned_allocator.o pipeline.o queuing_mutex.o queuing_rw_mutex.o reader_writer_lock.o spin_rw_mutex.o x86_rtm_rw_mutex.o spin_mutex.o critical_section.o mutex.o recursive_mutex.o condition_variable.o tbb_thread.o concurrent_monitor.o semaphore.o private_server.o rml_tbb.o tbb_misc.o tbb_misc_ex.o task.o task_group_context.o governor.o market.o arena.o scheduler.o observer_proxy.o tbb_statistics.o tbb_main.o concurrent_vector_v2.o concurrent_queue_v2.o spin_rw_mutex_v2.o task_v2.o   -ldl -lrt -shared -Wl,-soname=libtbb.so.2 -pthread -m64 -Wl,-L,\"/root/.cmdstan/cmdstan-2.35.0/stan/lib/stan_math/lib/tbb\"   -Wl,-rpath,\"/root/.cmdstan/cmdstan-2.35.0/stan/lib/stan_math/lib/tbb\" -Wl,--version-script,tbb.def\n",
            "make[1]: Leaving directory '/root/.cmdstan/cmdstan-2.35.0/stan/lib/stan_math/lib/tbb'\n",
            "g++ -Wno-deprecated-declarations -std=c++17 -pthread -D_REENTRANT -Wno-sign-compare -Wno-ignored-attributes -Wno-class-memaccess      -I stan/lib/stan_math/lib/tbb_2020.3/include    -O3 -I src -I stan/src -I stan/lib/rapidjson_1.1.0/ -I lib/CLI11-1.9.1/ -I stan/lib/stan_math/ -I stan/lib/stan_math/lib/eigen_3.4.0 -I stan/lib/stan_math/lib/boost_1.84.0 -I stan/lib/stan_math/lib/sundials_6.1.1/include -I stan/lib/stan_math/lib/sundials_6.1.1/src/sundials    -DBOOST_DISABLE_ASSERTS               -Wl,-L,\"/root/.cmdstan/cmdstan-2.35.0/stan/lib/stan_math/lib/tbb\"   -Wl,-rpath,\"/root/.cmdstan/cmdstan-2.35.0/stan/lib/stan_math/lib/tbb\"      bin/cmdstan/stansummary.o stan/lib/stan_math/lib/tbb/libtbb.so.2       -ltbb   -o bin/stansummary\n",
            "g++ -Wno-deprecated-declarations -std=c++17 -pthread -D_REENTRANT -Wno-sign-compare -Wno-ignored-attributes -Wno-class-memaccess      -I stan/lib/stan_math/lib/tbb_2020.3/include    -O3 -I src -I stan/src -I stan/lib/rapidjson_1.1.0/ -I lib/CLI11-1.9.1/ -I stan/lib/stan_math/ -I stan/lib/stan_math/lib/eigen_3.4.0 -I stan/lib/stan_math/lib/boost_1.84.0 -I stan/lib/stan_math/lib/sundials_6.1.1/include -I stan/lib/stan_math/lib/sundials_6.1.1/src/sundials    -DBOOST_DISABLE_ASSERTS               -Wl,-L,\"/root/.cmdstan/cmdstan-2.35.0/stan/lib/stan_math/lib/tbb\"   -Wl,-rpath,\"/root/.cmdstan/cmdstan-2.35.0/stan/lib/stan_math/lib/tbb\"      bin/cmdstan/print.o stan/lib/stan_math/lib/tbb/libtbb.so.2       -ltbb   -o bin/print\n",
            "g++ -Wno-deprecated-declarations -std=c++17 -pthread -D_REENTRANT -Wno-sign-compare -Wno-ignored-attributes -Wno-class-memaccess      -I stan/lib/stan_math/lib/tbb_2020.3/include    -O3 -I src -I stan/src -I stan/lib/rapidjson_1.1.0/ -I lib/CLI11-1.9.1/ -I stan/lib/stan_math/ -I stan/lib/stan_math/lib/eigen_3.4.0 -I stan/lib/stan_math/lib/boost_1.84.0 -I stan/lib/stan_math/lib/sundials_6.1.1/include -I stan/lib/stan_math/lib/sundials_6.1.1/src/sundials    -DBOOST_DISABLE_ASSERTS               -Wl,-L,\"/root/.cmdstan/cmdstan-2.35.0/stan/lib/stan_math/lib/tbb\"   -Wl,-rpath,\"/root/.cmdstan/cmdstan-2.35.0/stan/lib/stan_math/lib/tbb\"      bin/cmdstan/diagnose.o stan/lib/stan_math/lib/tbb/libtbb.so.2       -ltbb   -o bin/diagnose\n",
            "\n",
            "--- CmdStan v2.35.0 built ---\n",
            "g++ -Wno-deprecated-declarations -std=c++17 -pthread -D_REENTRANT -Wno-sign-compare -Wno-ignored-attributes -Wno-class-memaccess      -I stan/lib/stan_math/lib/tbb_2020.3/include    -O3 -I src -I stan/src -I stan/lib/rapidjson_1.1.0/ -I lib/CLI11-1.9.1/ -I stan/lib/stan_math/ -I stan/lib/stan_math/lib/eigen_3.4.0 -I stan/lib/stan_math/lib/boost_1.84.0 -I stan/lib/stan_math/lib/sundials_6.1.1/include -I stan/lib/stan_math/lib/sundials_6.1.1/src/sundials    -DBOOST_DISABLE_ASSERTS          -c -MT src/cmdstan/main.o -MM -E -MG -MP -MF src/cmdstan/main.d src/cmdstan/main.cpp\n",
            "\n",
            "--- Translating Stan model to C++ code ---\n",
            "bin/stanc  --o=examples/bernoulli/bernoulli.hpp examples/bernoulli/bernoulli.stan\n",
            "\n",
            "--- Compiling C++ code ---\n",
            "g++ -Wno-deprecated-declarations -std=c++17 -pthread -D_REENTRANT -Wno-sign-compare -Wno-ignored-attributes -Wno-class-memaccess      -I stan/lib/stan_math/lib/tbb_2020.3/include    -O3 -I src -I stan/src -I stan/lib/rapidjson_1.1.0/ -I lib/CLI11-1.9.1/ -I stan/lib/stan_math/ -I stan/lib/stan_math/lib/eigen_3.4.0 -I stan/lib/stan_math/lib/boost_1.84.0 -I stan/lib/stan_math/lib/sundials_6.1.1/include -I stan/lib/stan_math/lib/sundials_6.1.1/src/sundials    -DBOOST_DISABLE_ASSERTS          -c -Wno-ignored-attributes   -x c++ -o examples/bernoulli/bernoulli.o examples/bernoulli/bernoulli.hpp\n",
            "\n",
            "--- Linking model ---\n",
            "g++ -Wno-deprecated-declarations -std=c++17 -pthread -D_REENTRANT -Wno-sign-compare -Wno-ignored-attributes -Wno-class-memaccess      -I stan/lib/stan_math/lib/tbb_2020.3/include    -O3 -I src -I stan/src -I stan/lib/rapidjson_1.1.0/ -I lib/CLI11-1.9.1/ -I stan/lib/stan_math/ -I stan/lib/stan_math/lib/eigen_3.4.0 -I stan/lib/stan_math/lib/boost_1.84.0 -I stan/lib/stan_math/lib/sundials_6.1.1/include -I stan/lib/stan_math/lib/sundials_6.1.1/src/sundials    -DBOOST_DISABLE_ASSERTS               -Wl,-L,\"/root/.cmdstan/cmdstan-2.35.0/stan/lib/stan_math/lib/tbb\"   -Wl,-rpath,\"/root/.cmdstan/cmdstan-2.35.0/stan/lib/stan_math/lib/tbb\"      examples/bernoulli/bernoulli.o src/cmdstan/main.o       -ltbb   stan/lib/stan_math/lib/sundials_6.1.1/lib/libsundials_nvecserial.a stan/lib/stan_math/lib/sundials_6.1.1/lib/libsundials_cvodes.a stan/lib/stan_math/lib/sundials_6.1.1/lib/libsundials_idas.a stan/lib/stan_math/lib/sundials_6.1.1/lib/libsundials_kinsol.a  stan/lib/stan_math/lib/tbb/libtbb.so.2 -o examples/bernoulli/bernoulli\n",
            "rm examples/bernoulli/bernoulli.o examples/bernoulli/bernoulli.hpp\n"
          ]
        },
        {
          "output_type": "stream",
          "name": "stderr",
          "text": [
            "* Finished installing CmdStan to /root/.cmdstan/cmdstan-2.35.0\n",
            "\n",
            "\n",
            "CmdStan path set to: /root/.cmdstan/cmdstan-2.35.0\n",
            "\n",
            "CmdStan path set to: /root/.cmdstan/cmdstan-2.35.0\n",
            "\n"
          ]
        },
        {
          "output_type": "display_data",
          "data": {
            "text/html": [
              "'2.35.0'"
            ],
            "text/markdown": "'2.35.0'",
            "text/latex": "'2.35.0'",
            "text/plain": [
              "[1] \"2.35.0\""
            ]
          },
          "metadata": {}
        }
      ]
    },
    {
      "cell_type": "code",
      "source": [
        "# Install necessary packages\n",
        "install.packages(c(\"coda\", \"mvtnorm\", \"devtools\", \"loo\", \"dagitty\", \"shape\"))\n",
        "\n",
        "# Load devtools for GitHub installation\n",
        "library(devtools)\n",
        "\n",
        "# Install rethinking from GitHub\n",
        "devtools::install_github(\"rmcelreath/rethinking\")\n"
      ],
      "metadata": {
        "colab": {
          "base_uri": "https://localhost:8080/"
        },
        "id": "rd9jkYG4WyyR",
        "outputId": "d0734d16-87e7-46b8-9a05-ef23f41eb6b6"
      },
      "execution_count": 4,
      "outputs": [
        {
          "output_type": "stream",
          "name": "stderr",
          "text": [
            "Installing packages into ‘/usr/local/lib/R/site-library’\n",
            "(as ‘lib’ is unspecified)\n",
            "\n",
            "also installing the dependency ‘V8’\n",
            "\n",
            "\n",
            "Loading required package: usethis\n",
            "\n",
            "Downloading GitHub repo rmcelreath/rethinking@HEAD\n",
            "\n"
          ]
        },
        {
          "output_type": "stream",
          "name": "stdout",
          "text": [
            "\n",
            "\u001b[36m──\u001b[39m \u001b[36mR CMD build\u001b[39m \u001b[36m─────────────────────────────────────────────────────────────────\u001b[39m\n",
            "* checking for file ‘/tmp/RtmpCPE9iO/remotesb286763c816/rmcelreath-rethinking-ac1b3b2/DESCRIPTION’ ... OK\n",
            "* preparing ‘rethinking’:\n",
            "* checking DESCRIPTION meta-information ... OK\n",
            "* checking for LF line-endings in source and make files and shell scripts\n",
            "* checking for empty or unneeded directories\n",
            "* looking to see if a ‘data/datalist’ file should be added\n",
            "* building ‘rethinking_2.42.tar.gz’\n",
            "\n"
          ]
        },
        {
          "output_type": "stream",
          "name": "stderr",
          "text": [
            "Installing package into ‘/usr/local/lib/R/site-library’\n",
            "(as ‘lib’ is unspecified)\n",
            "\n"
          ]
        }
      ]
    },
    {
      "cell_type": "code",
      "source": [
        "library(rethinking)"
      ],
      "metadata": {
        "id": "76h8LgPcYq2E",
        "colab": {
          "base_uri": "https://localhost:8080/"
        },
        "outputId": "ac8d4677-d956-45b6-9ec1-0ae2e4e51127"
      },
      "execution_count": 5,
      "outputs": [
        {
          "output_type": "stream",
          "name": "stderr",
          "text": [
            "Loading required package: posterior\n",
            "\n",
            "This is posterior version 1.6.0\n",
            "\n",
            "\n",
            "Attaching package: ‘posterior’\n",
            "\n",
            "\n",
            "The following objects are masked from ‘package:stats’:\n",
            "\n",
            "    mad, sd, var\n",
            "\n",
            "\n",
            "The following objects are masked from ‘package:base’:\n",
            "\n",
            "    %in%, match\n",
            "\n",
            "\n",
            "Loading required package: parallel\n",
            "\n",
            "rethinking (Version 2.42)\n",
            "\n",
            "\n",
            "Attaching package: ‘rethinking’\n",
            "\n",
            "\n",
            "The following object is masked from ‘package:stats’:\n",
            "\n",
            "    rstudent\n",
            "\n",
            "\n"
          ]
        }
      ]
    },
    {
      "cell_type": "code",
      "source": [
        "# Test Installation\n",
        "\n",
        "## Simulate some data for a binary outcome based on a single predictor\n",
        "n <- 100\n",
        "x <- rnorm(n)\n",
        "prob <- 1 / (1 + exp(-x))\n",
        "y <- rbinom(n, 1, prob)\n",
        "\n",
        "## Fit a logistic regression using ulam\n",
        "fit <- ulam(\n",
        "  alist(\n",
        "    y ~ bernoulli( p ),\n",
        "    logit(p) <- a + b*x,\n",
        "    a ~ normal(0, 1),\n",
        "    b ~ normal(0, 1)\n",
        "  ), data = list(x = x, y = y)\n",
        ")\n",
        "\n",
        "precis(fit)"
      ],
      "metadata": {
        "colab": {
          "base_uri": "https://localhost:8080/",
          "height": 421
        },
        "id": "AK1-F_d0ZIFf",
        "outputId": "a4577fff-aa11-4d61-84e1-1cf0ef814705"
      },
      "execution_count": 6,
      "outputs": [
        {
          "output_type": "stream",
          "name": "stdout",
          "text": [
            "Running MCMC with 1 chain, with 1 thread(s) per chain...\n",
            "\n",
            "Chain 1 Iteration:   1 / 1000 [  0%]  (Warmup) \n",
            "Chain 1 Iteration: 100 / 1000 [ 10%]  (Warmup) \n",
            "Chain 1 Iteration: 200 / 1000 [ 20%]  (Warmup) \n",
            "Chain 1 Iteration: 300 / 1000 [ 30%]  (Warmup) \n",
            "Chain 1 Iteration: 400 / 1000 [ 40%]  (Warmup) \n",
            "Chain 1 Iteration: 500 / 1000 [ 50%]  (Warmup) \n",
            "Chain 1 Iteration: 501 / 1000 [ 50%]  (Sampling) \n",
            "Chain 1 Iteration: 600 / 1000 [ 60%]  (Sampling) \n",
            "Chain 1 Iteration: 700 / 1000 [ 70%]  (Sampling) \n",
            "Chain 1 Iteration: 800 / 1000 [ 80%]  (Sampling) \n",
            "Chain 1 Iteration: 900 / 1000 [ 90%]  (Sampling) \n",
            "Chain 1 Iteration: 1000 / 1000 [100%]  (Sampling) \n",
            "Chain 1 finished in 0.0 seconds.\n"
          ]
        },
        {
          "output_type": "display_data",
          "data": {
            "text/html": [
              "<table class=\"dataframe\">\n",
              "<caption>A precis: 2 × 6</caption>\n",
              "<thead>\n",
              "\t<tr><th></th><th scope=col>mean</th><th scope=col>sd</th><th scope=col>5.5%</th><th scope=col>94.5%</th><th scope=col>rhat</th><th scope=col>ess_bulk</th></tr>\n",
              "\t<tr><th></th><th scope=col>&lt;dbl&gt;</th><th scope=col>&lt;dbl&gt;</th><th scope=col>&lt;dbl&gt;</th><th scope=col>&lt;dbl&gt;</th><th scope=col>&lt;dbl&gt;</th><th scope=col>&lt;dbl&gt;</th></tr>\n",
              "</thead>\n",
              "<tbody>\n",
              "\t<tr><th scope=row>a</th><td>-0.3381000</td><td>0.2225313</td><td>-0.6742124</td><td>0.03972239</td><td>1.0137562</td><td>395.2902</td></tr>\n",
              "\t<tr><th scope=row>b</th><td> 0.7667092</td><td>0.2477227</td><td> 0.3784798</td><td>1.18848425</td><td>0.9994306</td><td>234.1444</td></tr>\n",
              "</tbody>\n",
              "</table>\n"
            ],
            "text/markdown": "\nA precis: 2 × 6\n\n| <!--/--> | mean &lt;dbl&gt; | sd &lt;dbl&gt; | 5.5% &lt;dbl&gt; | 94.5% &lt;dbl&gt; | rhat &lt;dbl&gt; | ess_bulk &lt;dbl&gt; |\n|---|---|---|---|---|---|---|\n| a | -0.3381000 | 0.2225313 | -0.6742124 | 0.03972239 | 1.0137562 | 395.2902 |\n| b |  0.7667092 | 0.2477227 |  0.3784798 | 1.18848425 | 0.9994306 | 234.1444 |\n\n",
            "text/latex": "A precis: 2 × 6\n\\begin{tabular}{r|llllll}\n  & mean & sd & 5.5\\% & 94.5\\% & rhat & ess\\_bulk\\\\\n  & <dbl> & <dbl> & <dbl> & <dbl> & <dbl> & <dbl>\\\\\n\\hline\n\ta & -0.3381000 & 0.2225313 & -0.6742124 & 0.03972239 & 1.0137562 & 395.2902\\\\\n\tb &  0.7667092 & 0.2477227 &  0.3784798 & 1.18848425 & 0.9994306 & 234.1444\\\\\n\\end{tabular}\n",
            "text/plain": [
              "  mean       sd        5.5%       94.5%      rhat      ess_bulk\n",
              "a -0.3381000 0.2225313 -0.6742124 0.03972239 1.0137562 395.2902\n",
              "b  0.7667092 0.2477227  0.3784798 1.18848425 0.9994306 234.1444"
            ]
          },
          "metadata": {}
        }
      ]
    },
    {
      "cell_type": "markdown",
      "source": [
        "# Chapter 13"
      ],
      "metadata": {
        "id": "1ZlXL1B2XGQm"
      }
    },
    {
      "cell_type": "markdown",
      "source": [
        "## Easy"
      ],
      "metadata": {
        "id": "hLV6g37DADVa"
      }
    },
    {
      "cell_type": "markdown",
      "source": [
        "### 13E1\n",
        "Which of the following priors will produce more *shrinkage* in the estimates?\n",
        "\n",
        "> (a) $\\alpha_{\\text{TANK}} \\sim \\text{Normal}(0,1)$\n",
        "\n",
        "> (b) $\\alpha_{\\text{TANK}} \\sim \\text{Normal}(0,2)$\n",
        "\n",
        "#### Answer\n",
        "\n",
        "\"Shrinkage\" describes the phenomenon wherein a (non-uniformly distributed) random effect *pulls* estimates closer together--towards the more probable values of the distribution for the random effects.\n",
        "\n",
        "Intuitively, the more restrictive prior ((a) $\\alpha_{\\text{TANK}} \\sim \\text{Normal}(0,1)$) will cause more shrinkage.  Let's look at this by modifying model `m13.2`."
      ],
      "metadata": {
        "id": "d0CU5ffVAFPn"
      }
    },
    {
      "cell_type": "code",
      "source": [
        "curve(dnorm(x,0,1), from=-3,to=3)\n",
        "curve(dnorm(x,0,2), from=-3,to=3, lty=2, add=TRUE)"
      ],
      "metadata": {
        "colab": {
          "base_uri": "https://localhost:8080/",
          "height": 437
        },
        "id": "I6Z5EqiZ4MW7",
        "outputId": "a25478b9-8c73-4fa9-9a81-f77350ab9d4d"
      },
      "execution_count": null,
      "outputs": [
        {
          "output_type": "display_data",
          "data": {
            "text/plain": [
              "plot without title"
            ],
            "image/png": "[encoded data removed]"
          },
          "metadata": {
            "image/png": {
              "width": 420,
              "height": 420
            }
          }
        }
      ]
    },
    {
      "cell_type": "code",
      "source": [
        "data(reedfrogs)\n",
        "d <- reedfrogs\n",
        "\n",
        "d$tank <- 1:nrow(d)\n",
        "dat <- list(S = d$surv,\n",
        "            N = d$density,\n",
        "            tank = d$tank)"
      ],
      "metadata": {
        "id": "jtF90MwkwBEw"
      },
      "execution_count": null,
      "outputs": []
    },
    {
      "cell_type": "code",
      "source": [
        "m13.2_1 <- ulam(\n",
        "  alist(\n",
        "    S ~ dbinom(N, p),\n",
        "      logit(p) <- a[tank],\n",
        "        a[tank] ~ dnorm(0,1)\n",
        "  ), data=dat,\n",
        "     chains=4,\n",
        "     log_lik=TRUE)\n",
        "\n",
        "m13.2_2 <- ulam(\n",
        "  alist(\n",
        "    S ~ dbinom(N, p),\n",
        "      logit(p) <- a[tank],\n",
        "        a[tank] ~ dnorm(0,2)\n",
        "  ), data=dat,\n",
        "     chains=4,\n",
        "     log_lik=TRUE)"
      ],
      "metadata": {
        "colab": {
          "base_uri": "https://localhost:8080/"
        },
        "id": "Nmxbkz2nwQkR",
        "outputId": "531fc9fd-4e5b-4e6e-dd40-54108478b8f3"
      },
      "execution_count": null,
      "outputs": [
        {
          "output_type": "stream",
          "name": "stdout",
          "text": [
            "Running MCMC with 4 sequential chains, with 1 thread(s) per chain...\n",
            "\n",
            "Chain 1 Iteration:   1 / 1000 [  0%]  (Warmup) \n",
            "Chain 1 Iteration: 100 / 1000 [ 10%]  (Warmup) \n",
            "Chain 1 Iteration: 200 / 1000 [ 20%]  (Warmup) \n",
            "Chain 1 Iteration: 300 / 1000 [ 30%]  (Warmup) \n",
            "Chain 1 Iteration: 400 / 1000 [ 40%]  (Warmup) \n",
            "Chain 1 Iteration: 500 / 1000 [ 50%]  (Warmup) \n",
            "Chain 1 Iteration: 501 / 1000 [ 50%]  (Sampling) \n",
            "Chain 1 Iteration: 600 / 1000 [ 60%]  (Sampling) \n",
            "Chain 1 Iteration: 700 / 1000 [ 70%]  (Sampling) \n",
            "Chain 1 Iteration: 800 / 1000 [ 80%]  (Sampling) \n",
            "Chain 1 Iteration: 900 / 1000 [ 90%]  (Sampling) \n",
            "Chain 1 Iteration: 1000 / 1000 [100%]  (Sampling) \n",
            "Chain 1 finished in 0.2 seconds.\n",
            "Chain 2 Iteration:   1 / 1000 [  0%]  (Warmup) \n",
            "Chain 2 Iteration: 100 / 1000 [ 10%]  (Warmup) \n",
            "Chain 2 Iteration: 200 / 1000 [ 20%]  (Warmup) \n",
            "Chain 2 Iteration: 300 / 1000 [ 30%]  (Warmup) \n",
            "Chain 2 Iteration: 400 / 1000 [ 40%]  (Warmup) \n",
            "Chain 2 Iteration: 500 / 1000 [ 50%]  (Warmup) \n",
            "Chain 2 Iteration: 501 / 1000 [ 50%]  (Sampling) \n",
            "Chain 2 Iteration: 600 / 1000 [ 60%]  (Sampling) \n",
            "Chain 2 Iteration: 700 / 1000 [ 70%]  (Sampling) \n",
            "Chain 2 Iteration: 800 / 1000 [ 80%]  (Sampling) \n",
            "Chain 2 Iteration: 900 / 1000 [ 90%]  (Sampling) \n",
            "Chain 2 Iteration: 1000 / 1000 [100%]  (Sampling) \n",
            "Chain 2 finished in 0.2 seconds.\n",
            "Chain 3 Iteration:   1 / 1000 [  0%]  (Warmup) \n",
            "Chain 3 Iteration: 100 / 1000 [ 10%]  (Warmup) \n",
            "Chain 3 Iteration: 200 / 1000 [ 20%]  (Warmup) \n",
            "Chain 3 Iteration: 300 / 1000 [ 30%]  (Warmup) \n",
            "Chain 3 Iteration: 400 / 1000 [ 40%]  (Warmup) \n",
            "Chain 3 Iteration: 500 / 1000 [ 50%]  (Warmup) \n",
            "Chain 3 Iteration: 501 / 1000 [ 50%]  (Sampling) \n",
            "Chain 3 Iteration: 600 / 1000 [ 60%]  (Sampling) \n",
            "Chain 3 Iteration: 700 / 1000 [ 70%]  (Sampling) \n",
            "Chain 3 Iteration: 800 / 1000 [ 80%]  (Sampling) \n",
            "Chain 3 Iteration: 900 / 1000 [ 90%]  (Sampling) \n",
            "Chain 3 Iteration: 1000 / 1000 [100%]  (Sampling) \n",
            "Chain 3 finished in 0.2 seconds.\n",
            "Chain 4 Iteration:   1 / 1000 [  0%]  (Warmup) \n",
            "Chain 4 Iteration: 100 / 1000 [ 10%]  (Warmup) \n",
            "Chain 4 Iteration: 200 / 1000 [ 20%]  (Warmup) \n",
            "Chain 4 Iteration: 300 / 1000 [ 30%]  (Warmup) \n",
            "Chain 4 Iteration: 400 / 1000 [ 40%]  (Warmup) \n",
            "Chain 4 Iteration: 500 / 1000 [ 50%]  (Warmup) \n",
            "Chain 4 Iteration: 501 / 1000 [ 50%]  (Sampling) \n",
            "Chain 4 Iteration: 600 / 1000 [ 60%]  (Sampling) \n",
            "Chain 4 Iteration: 700 / 1000 [ 70%]  (Sampling) \n",
            "Chain 4 Iteration: 800 / 1000 [ 80%]  (Sampling) \n",
            "Chain 4 Iteration: 900 / 1000 [ 90%]  (Sampling) \n",
            "Chain 4 Iteration: 1000 / 1000 [100%]  (Sampling) \n",
            "Chain 4 finished in 0.2 seconds.\n",
            "\n",
            "All 4 chains finished successfully.\n",
            "Mean chain execution time: 0.2 seconds.\n",
            "Total execution time: 1.0 seconds.\n",
            "\n",
            "Running MCMC with 4 sequential chains, with 1 thread(s) per chain...\n",
            "\n",
            "Chain 1 Iteration:   1 / 1000 [  0%]  (Warmup) \n",
            "Chain 1 Iteration: 100 / 1000 [ 10%]  (Warmup) \n",
            "Chain 1 Iteration: 200 / 1000 [ 20%]  (Warmup) \n",
            "Chain 1 Iteration: 300 / 1000 [ 30%]  (Warmup) \n",
            "Chain 1 Iteration: 400 / 1000 [ 40%]  (Warmup) \n",
            "Chain 1 Iteration: 500 / 1000 [ 50%]  (Warmup) \n",
            "Chain 1 Iteration: 501 / 1000 [ 50%]  (Sampling) \n",
            "Chain 1 Iteration: 600 / 1000 [ 60%]  (Sampling) \n",
            "Chain 1 Iteration: 700 / 1000 [ 70%]  (Sampling) \n",
            "Chain 1 Iteration: 800 / 1000 [ 80%]  (Sampling) \n",
            "Chain 1 Iteration: 900 / 1000 [ 90%]  (Sampling) \n",
            "Chain 1 Iteration: 1000 / 1000 [100%]  (Sampling) \n",
            "Chain 1 finished in 0.2 seconds.\n",
            "Chain 2 Iteration:   1 / 1000 [  0%]  (Warmup) \n",
            "Chain 2 Iteration: 100 / 1000 [ 10%]  (Warmup) \n",
            "Chain 2 Iteration: 200 / 1000 [ 20%]  (Warmup) \n",
            "Chain 2 Iteration: 300 / 1000 [ 30%]  (Warmup) \n",
            "Chain 2 Iteration: 400 / 1000 [ 40%]  (Warmup) \n",
            "Chain 2 Iteration: 500 / 1000 [ 50%]  (Warmup) \n",
            "Chain 2 Iteration: 501 / 1000 [ 50%]  (Sampling) \n",
            "Chain 2 Iteration: 600 / 1000 [ 60%]  (Sampling) \n",
            "Chain 2 Iteration: 700 / 1000 [ 70%]  (Sampling) \n",
            "Chain 2 Iteration: 800 / 1000 [ 80%]  (Sampling) \n",
            "Chain 2 Iteration: 900 / 1000 [ 90%]  (Sampling) \n",
            "Chain 2 Iteration: 1000 / 1000 [100%]  (Sampling) \n",
            "Chain 2 finished in 0.2 seconds.\n",
            "Chain 3 Iteration:   1 / 1000 [  0%]  (Warmup) \n",
            "Chain 3 Iteration: 100 / 1000 [ 10%]  (Warmup) \n",
            "Chain 3 Iteration: 200 / 1000 [ 20%]  (Warmup) \n",
            "Chain 3 Iteration: 300 / 1000 [ 30%]  (Warmup) \n",
            "Chain 3 Iteration: 400 / 1000 [ 40%]  (Warmup) \n",
            "Chain 3 Iteration: 500 / 1000 [ 50%]  (Warmup) \n",
            "Chain 3 Iteration: 501 / 1000 [ 50%]  (Sampling) \n",
            "Chain 3 Iteration: 600 / 1000 [ 60%]  (Sampling) \n",
            "Chain 3 Iteration: 700 / 1000 [ 70%]  (Sampling) \n",
            "Chain 3 Iteration: 800 / 1000 [ 80%]  (Sampling) \n",
            "Chain 3 Iteration: 900 / 1000 [ 90%]  (Sampling) \n",
            "Chain 3 Iteration: 1000 / 1000 [100%]  (Sampling) \n",
            "Chain 3 finished in 0.2 seconds.\n",
            "Chain 4 Iteration:   1 / 1000 [  0%]  (Warmup) \n",
            "Chain 4 Iteration: 100 / 1000 [ 10%]  (Warmup) \n",
            "Chain 4 Iteration: 200 / 1000 [ 20%]  (Warmup) \n",
            "Chain 4 Iteration: 300 / 1000 [ 30%]  (Warmup) \n",
            "Chain 4 Iteration: 400 / 1000 [ 40%]  (Warmup) \n",
            "Chain 4 Iteration: 500 / 1000 [ 50%]  (Warmup) \n",
            "Chain 4 Iteration: 501 / 1000 [ 50%]  (Sampling) \n",
            "Chain 4 Iteration: 600 / 1000 [ 60%]  (Sampling) \n",
            "Chain 4 Iteration: 700 / 1000 [ 70%]  (Sampling) \n",
            "Chain 4 Iteration: 800 / 1000 [ 80%]  (Sampling) \n",
            "Chain 4 Iteration: 900 / 1000 [ 90%]  (Sampling) \n",
            "Chain 4 Iteration: 1000 / 1000 [100%]  (Sampling) \n",
            "Chain 4 finished in 0.2 seconds.\n",
            "\n",
            "All 4 chains finished successfully.\n",
            "Mean chain execution time: 0.2 seconds.\n",
            "Total execution time: 1.0 seconds.\n",
            "\n"
          ]
        }
      ]
    },
    {
      "cell_type": "code",
      "source": [
        "post_1 <- extract.samples(m13.2_1)\n",
        "post_2 <- extract.samples(m13.2_2)\n",
        "\n",
        "par(mfrow=c(1,2))\n",
        "\n",
        "d$propsurv.est_1 <- logistic(apply(post_1$a, 2, mean))\n",
        "plot(d$propsurv, ylim=c(0,1), pch=16, xaxt=\"n\",  xlab=\"tank\", ylab=\"proportion survival\", col=rangi2)\n",
        "axis( 1, at=c(1,16,32,48), labels=c(1,16,32,48))\n",
        "points( d$propsurv.est_1)\n",
        "abline(h=inv_logit(mean(colMeans(post_1$a))), lty=2)\n",
        "abline( v=16.5, lwd=0.5)\n",
        "abline( v=32.5, lwd=0.5)\n",
        "text( 8, 0, \"small tanks\")\n",
        "text( 16+8, 0, \"medium tanks\")\n",
        "text( 32+8, 0, \"large tanks\")\n",
        "\n",
        "d$propsurv.est_2 <- logistic(apply(post_2$a, 2, mean))\n",
        "plot(d$propsurv, ylim=c(0,1), pch=16, xaxt=\"n\",  xlab=\"tank\", ylab=\"proportion survival\", col=rangi2)\n",
        "axis( 1, at=c(1,16,32,48), labels=c(1,16,32,48))\n",
        "points( d$propsurv.est_2)\n",
        "abline(h=inv_logit(mean(colMeans(post_2$a))), lty=2)\n",
        "abline( v=16.5, lwd=0.5)\n",
        "abline( v=32.5, lwd=0.5)\n",
        "text( 8, 0, \"small tanks\")\n",
        "text( 16+8, 0, \"medium tanks\")\n",
        "text( 32+8, 0, \"large tanks\")"
      ],
      "metadata": {
        "colab": {
          "base_uri": "https://localhost:8080/",
          "height": 437
        },
        "id": "HD6fKJzZw90t",
        "outputId": "08defccb-eed8-4bbe-92d9-9cea95cc4333"
      },
      "execution_count": null,
      "outputs": [
        {
          "output_type": "display_data",
          "data": {
            "text/plain": [
              "plot without title"
            ],
            "image/png": "[encoded data removed]"
          },
          "metadata": {
            "image/png": {
              "width": 420,
              "height": 420
            }
          }
        }
      ]
    },
    {
      "cell_type": "markdown",
      "source": [
        "Remember from the chapter that the blue dots are the actual data and the black circles are hte estimates of the *shrunken* model.  So the shrinkage can be seen by the distance between vertically corresponding blue dots and black circles.\n",
        "\n",
        "We can also plot the accumulating difference between the empirical data and the shrunk estimates for the two priors, and take this sum."
      ],
      "metadata": {
        "id": "L9IYjnF-0wuV"
      }
    },
    {
      "cell_type": "code",
      "source": [
        "plot(cumsum(abs(d$propsurv.est_1 - (d$surv/d$density))), type=\"l\", ylim=c(0,3))\n",
        "lines(cumsum(abs(d$propsurv.est_2 - (d$surv/d$density))), col=\"red\", lty=2)\n",
        "\n",
        "sum(abs(d$propsurv.est_1 - (d$surv/d$density)))\n",
        "sum(abs(d$propsurv.est_2 - (d$surv/d$density)))"
      ],
      "metadata": {
        "colab": {
          "base_uri": "https://localhost:8080/",
          "height": 472
        },
        "id": "x1_Q_jnj1Gqe",
        "outputId": "4d0ac61a-f93f-4636-cb23-e95607525509"
      },
      "execution_count": null,
      "outputs": [
        {
          "output_type": "display_data",
          "data": {
            "text/html": [
              "2.68536976422323"
            ],
            "text/markdown": "2.68536976422323",
            "text/latex": "2.68536976422323",
            "text/plain": [
              "[1] 2.68537"
            ]
          },
          "metadata": {}
        },
        {
          "output_type": "display_data",
          "data": {
            "text/html": [
              "0.49449000893605"
            ],
            "text/markdown": "0.49449000893605",
            "text/latex": "0.49449000893605",
            "text/plain": [
              "[1] 0.49449"
            ]
          },
          "metadata": {}
        },
        {
          "output_type": "display_data",
          "data": {
            "text/plain": [
              "plot without title"
            ],
            "image/png": "[encoded data removed]"
          },
          "metadata": {
            "image/png": {
              "width": 420,
              "height": 420
            }
          }
        }
      ]
    },
    {
      "cell_type": "markdown",
      "source": [
        "### 13E2\n",
        "\n",
        "Rewrite the following model as a multilevel model.\n",
        "\n",
        "$$y_i \\sim \\text{Binomial}(1, p_i)$$\n",
        "$$\\text{logit}(p_i) = \\alpha_{\\text{Group}_i} + \\beta x_i$$\n",
        "$$\\alpha_{\\text{Group}_i} \\sim \\text{Normal}(0, 1.5)$$\n",
        "$$\\beta \\sim \\text{Normal}(0, 0.5)$$\n",
        "\n",
        "#### Answer\n",
        "$$y_i \\sim \\text{Binomial}(1, p_i)$$\n",
        "$$\\text{logit}(p_i) = \\alpha_{\\text{Group}_i} + \\beta x_i$$\n",
        "$$\\alpha_{\\text{Group}_i} \\sim \\text{Normal}(\\bar{\\alpha}, \\sigma_{\\alpha})$$\n",
        "$$\\beta \\sim \\text{Normal}(0, 0.5)$$\n",
        "$$\\bar{\\alpha} \\sim \\text{Normal}(0,1)$$\n",
        "$$\\sigma_{\\alpha} \\sim \\text{Exponential}(0.66)$$\n",
        "\n",
        "Just for kicks, let's look at the prior distribution of the mean for these models."
      ],
      "metadata": {
        "id": "i1lOJOlHiY79"
      }
    },
    {
      "cell_type": "code",
      "source": [
        "dlist <- list(\"x\" = rnorm(n=10, mean=0, sd=1),\n",
        "              \"y\" = rbinom(n=10, size=1, prob=0.1 ),\n",
        "              \"group\" = c(1,1,1,1,1,2,2,2,2,2))"
      ],
      "metadata": {
        "id": "iYMx65gUk0ZH"
      },
      "execution_count": null,
      "outputs": []
    },
    {
      "cell_type": "code",
      "source": [
        "m <- ulam(\n",
        "  alist(\n",
        "    y ~ dbinom(1, p),\n",
        "      logit(p) <- a[group] + b*x,\n",
        "        a[group] ~ dnorm(0, 1.5),\n",
        "        b ~ dnorm(0, 0.5)\n",
        "  ), data=dlist, chains=4, cores=4, iter=1000\n",
        ")"
      ],
      "metadata": {
        "colab": {
          "base_uri": "https://localhost:8080/"
        },
        "id": "hVIXQkXKlENZ",
        "outputId": "ec793f7c-dbfa-4f0e-e9a3-0dadec75a7a9"
      },
      "execution_count": null,
      "outputs": [
        {
          "output_type": "stream",
          "name": "stdout",
          "text": [
            "Running MCMC with 4 parallel chains, with 1 thread(s) per chain...\n",
            "\n",
            "Chain 1 Iteration:   1 / 1000 [  0%]  (Warmup) \n",
            "Chain 1 Iteration: 100 / 1000 [ 10%]  (Warmup) \n",
            "Chain 1 Iteration: 200 / 1000 [ 20%]  (Warmup) \n",
            "Chain 1 Iteration: 300 / 1000 [ 30%]  (Warmup) \n",
            "Chain 1 Iteration: 400 / 1000 [ 40%]  (Warmup) \n",
            "Chain 1 Iteration: 500 / 1000 [ 50%]  (Warmup) \n",
            "Chain 1 Iteration: 501 / 1000 [ 50%]  (Sampling) \n",
            "Chain 1 Iteration: 600 / 1000 [ 60%]  (Sampling) \n",
            "Chain 1 Iteration: 700 / 1000 [ 70%]  (Sampling) \n",
            "Chain 1 Iteration: 800 / 1000 [ 80%]  (Sampling) \n",
            "Chain 1 Iteration: 900 / 1000 [ 90%]  (Sampling) \n",
            "Chain 1 Iteration: 1000 / 1000 [100%]  (Sampling) \n",
            "Chain 2 Iteration:   1 / 1000 [  0%]  (Warmup) \n",
            "Chain 2 Iteration: 100 / 1000 [ 10%]  (Warmup) \n",
            "Chain 2 Iteration: 200 / 1000 [ 20%]  (Warmup) \n",
            "Chain 2 Iteration: 300 / 1000 [ 30%]  (Warmup) \n",
            "Chain 2 Iteration: 400 / 1000 [ 40%]  (Warmup) \n",
            "Chain 2 Iteration: 500 / 1000 [ 50%]  (Warmup) \n",
            "Chain 2 Iteration: 501 / 1000 [ 50%]  (Sampling) \n",
            "Chain 2 Iteration: 600 / 1000 [ 60%]  (Sampling) \n",
            "Chain 2 Iteration: 700 / 1000 [ 70%]  (Sampling) \n",
            "Chain 2 Iteration: 800 / 1000 [ 80%]  (Sampling) \n",
            "Chain 2 Iteration: 900 / 1000 [ 90%]  (Sampling) \n",
            "Chain 2 Iteration: 1000 / 1000 [100%]  (Sampling) \n",
            "Chain 3 Iteration:   1 / 1000 [  0%]  (Warmup) \n",
            "Chain 3 Iteration: 100 / 1000 [ 10%]  (Warmup) \n",
            "Chain 3 Iteration: 200 / 1000 [ 20%]  (Warmup) \n",
            "Chain 3 Iteration: 300 / 1000 [ 30%]  (Warmup) \n",
            "Chain 3 Iteration: 400 / 1000 [ 40%]  (Warmup) \n",
            "Chain 3 Iteration: 500 / 1000 [ 50%]  (Warmup) \n",
            "Chain 3 Iteration: 501 / 1000 [ 50%]  (Sampling) \n",
            "Chain 3 Iteration: 600 / 1000 [ 60%]  (Sampling) \n",
            "Chain 3 Iteration: 700 / 1000 [ 70%]  (Sampling) \n",
            "Chain 3 Iteration: 800 / 1000 [ 80%]  (Sampling) \n",
            "Chain 3 Iteration: 900 / 1000 [ 90%]  (Sampling) \n",
            "Chain 3 Iteration: 1000 / 1000 [100%]  (Sampling) \n",
            "Chain 4 Iteration:   1 / 1000 [  0%]  (Warmup) \n",
            "Chain 4 Iteration: 100 / 1000 [ 10%]  (Warmup) \n",
            "Chain 4 Iteration: 200 / 1000 [ 20%]  (Warmup) \n",
            "Chain 4 Iteration: 300 / 1000 [ 30%]  (Warmup) \n",
            "Chain 4 Iteration: 400 / 1000 [ 40%]  (Warmup) \n",
            "Chain 4 Iteration: 500 / 1000 [ 50%]  (Warmup) \n",
            "Chain 4 Iteration: 501 / 1000 [ 50%]  (Sampling) \n",
            "Chain 4 Iteration: 600 / 1000 [ 60%]  (Sampling) \n",
            "Chain 4 Iteration: 700 / 1000 [ 70%]  (Sampling) \n",
            "Chain 4 Iteration: 800 / 1000 [ 80%]  (Sampling) \n",
            "Chain 4 Iteration: 900 / 1000 [ 90%]  (Sampling) \n",
            "Chain 4 Iteration: 1000 / 1000 [100%]  (Sampling) \n",
            "Chain 1 finished in 0.0 seconds.\n",
            "Chain 2 finished in 0.0 seconds.\n",
            "Chain 3 finished in 0.0 seconds.\n",
            "Chain 4 finished in 0.0 seconds.\n",
            "\n",
            "All 4 chains finished successfully.\n",
            "Mean chain execution time: 0.0 seconds.\n",
            "Total execution time: 0.2 seconds.\n",
            "\n"
          ]
        }
      ]
    },
    {
      "cell_type": "code",
      "source": [
        "mm <- ulam(\n",
        "  alist(\n",
        "    y ~ dbinom(1, p),\n",
        "      logit(p) <- a[group] + b*x,\n",
        "        a[group] ~ dnorm(abar, sigma_a),\n",
        "          abar ~ dnorm(0,1),\n",
        "          sigma_a ~ dexp(0.66),\n",
        "        b ~ dnorm(0, 0.5)\n",
        "  ), data=dlist, chains=4, cores=4, iter=1000\n",
        ")"
      ],
      "metadata": {
        "colab": {
          "base_uri": "https://localhost:8080/"
        },
        "id": "U_BwJARSoGjY",
        "outputId": "8d02cd1b-cf07-4ba3-a2bd-1f31a7feaddb"
      },
      "execution_count": null,
      "outputs": [
        {
          "output_type": "stream",
          "name": "stdout",
          "text": [
            "Running MCMC with 4 parallel chains, with 1 thread(s) per chain...\n",
            "\n",
            "Chain 1 Iteration:   1 / 1000 [  0%]  (Warmup) \n",
            "Chain 1 Iteration: 100 / 1000 [ 10%]  (Warmup) \n",
            "Chain 1 Iteration: 200 / 1000 [ 20%]  (Warmup) \n",
            "Chain 1 Iteration: 300 / 1000 [ 30%]  (Warmup) \n",
            "Chain 1 Iteration: 400 / 1000 [ 40%]  (Warmup) \n",
            "Chain 1 Iteration: 500 / 1000 [ 50%]  (Warmup) \n",
            "Chain 1 Iteration: 501 / 1000 [ 50%]  (Sampling) \n",
            "Chain 1 Iteration: 600 / 1000 [ 60%]  (Sampling) \n",
            "Chain 1 Iteration: 700 / 1000 [ 70%]  (Sampling) \n",
            "Chain 1 Iteration: 800 / 1000 [ 80%]  (Sampling) \n",
            "Chain 1 Iteration: 900 / 1000 [ 90%]  (Sampling) \n",
            "Chain 2 Iteration:   1 / 1000 [  0%]  (Warmup) \n",
            "Chain 2 Iteration: 100 / 1000 [ 10%]  (Warmup) \n",
            "Chain 2 Iteration: 200 / 1000 [ 20%]  (Warmup) \n",
            "Chain 2 Iteration: 300 / 1000 [ 30%]  (Warmup) \n",
            "Chain 2 Iteration: 400 / 1000 [ 40%]  (Warmup) \n",
            "Chain 2 Iteration: 500 / 1000 [ 50%]  (Warmup) \n",
            "Chain 2 Iteration: 501 / 1000 [ 50%]  (Sampling) \n",
            "Chain 3 Iteration:   1 / 1000 [  0%]  (Warmup) \n",
            "Chain 3 Iteration: 100 / 1000 [ 10%]  (Warmup) \n",
            "Chain 3 Iteration: 200 / 1000 [ 20%]  (Warmup) \n",
            "Chain 3 Iteration: 300 / 1000 [ 30%]  (Warmup) \n",
            "Chain 3 Iteration: 400 / 1000 [ 40%]  (Warmup) \n",
            "Chain 3 Iteration: 500 / 1000 [ 50%]  (Warmup) \n",
            "Chain 3 Iteration: 501 / 1000 [ 50%]  (Sampling) \n",
            "Chain 3 Iteration: 600 / 1000 [ 60%]  (Sampling) \n",
            "Chain 3 Iteration: 700 / 1000 [ 70%]  (Sampling) \n",
            "Chain 3 Iteration: 800 / 1000 [ 80%]  (Sampling) \n",
            "Chain 3 Iteration: 900 / 1000 [ 90%]  (Sampling) \n",
            "Chain 3 Iteration: 1000 / 1000 [100%]  (Sampling) \n",
            "Chain 4 Iteration:   1 / 1000 [  0%]  (Warmup) \n",
            "Chain 4 Iteration: 100 / 1000 [ 10%]  (Warmup) \n",
            "Chain 4 Iteration: 200 / 1000 [ 20%]  (Warmup) \n",
            "Chain 4 Iteration: 300 / 1000 [ 30%]  (Warmup) \n",
            "Chain 4 Iteration: 400 / 1000 [ 40%]  (Warmup) \n",
            "Chain 4 Iteration: 500 / 1000 [ 50%]  (Warmup) \n",
            "Chain 4 Iteration: 501 / 1000 [ 50%]  (Sampling) \n",
            "Chain 4 Iteration: 600 / 1000 [ 60%]  (Sampling) \n",
            "Chain 4 Iteration: 700 / 1000 [ 70%]  (Sampling) \n",
            "Chain 4 Iteration: 800 / 1000 [ 80%]  (Sampling) \n",
            "Chain 1 Iteration: 1000 / 1000 [100%]  (Sampling) \n",
            "Chain 1 finished in 0.2 seconds.\n",
            "Chain 2 Iteration: 600 / 1000 [ 60%]  (Sampling) \n",
            "Chain 2 Iteration: 700 / 1000 [ 70%]  (Sampling) \n",
            "Chain 2 Iteration: 800 / 1000 [ 80%]  (Sampling) \n",
            "Chain 2 Iteration: 900 / 1000 [ 90%]  (Sampling) \n",
            "Chain 2 Iteration: 1000 / 1000 [100%]  (Sampling) \n",
            "Chain 2 finished in 0.3 seconds.\n",
            "Chain 3 finished in 0.2 seconds.\n",
            "Chain 4 Iteration: 900 / 1000 [ 90%]  (Sampling) \n",
            "Chain 4 Iteration: 1000 / 1000 [100%]  (Sampling) \n",
            "Chain 4 finished in 0.2 seconds.\n",
            "\n",
            "All 4 chains finished successfully.\n",
            "Mean chain execution time: 0.2 seconds.\n",
            "Total execution time: 0.4 seconds.\n",
            "\n"
          ]
        },
        {
          "output_type": "stream",
          "name": "stderr",
          "text": [
            "Warning: 20 of 2000 (1.0%) transitions ended with a divergence.\n",
            "See https://mc-stan.org/misc/warnings for details.\n",
            "\n",
            "\n"
          ]
        }
      ]
    },
    {
      "cell_type": "code",
      "source": [
        "m_prior <- extract.prior(m)"
      ],
      "metadata": {
        "colab": {
          "base_uri": "https://localhost:8080/"
        },
        "id": "PBmhWmm5nXLO",
        "outputId": "0f157053-d0b8-4584-eeaa-87aa9bf07c43"
      },
      "execution_count": null,
      "outputs": [
        {
          "output_type": "stream",
          "name": "stdout",
          "text": [
            "Running MCMC with 1 chain, with 1 thread(s) per chain...\n",
            "\n",
            "Chain 1 Iteration:    1 / 2000 [  0%]  (Warmup) \n",
            "Chain 1 Iteration:  100 / 2000 [  5%]  (Warmup) \n",
            "Chain 1 Iteration:  200 / 2000 [ 10%]  (Warmup) \n",
            "Chain 1 Iteration:  300 / 2000 [ 15%]  (Warmup) \n",
            "Chain 1 Iteration:  400 / 2000 [ 20%]  (Warmup) \n",
            "Chain 1 Iteration:  500 / 2000 [ 25%]  (Warmup) \n",
            "Chain 1 Iteration:  600 / 2000 [ 30%]  (Warmup) \n",
            "Chain 1 Iteration:  700 / 2000 [ 35%]  (Warmup) \n",
            "Chain 1 Iteration:  800 / 2000 [ 40%]  (Warmup) \n",
            "Chain 1 Iteration:  900 / 2000 [ 45%]  (Warmup) \n",
            "Chain 1 Iteration: 1000 / 2000 [ 50%]  (Warmup) \n",
            "Chain 1 Iteration: 1001 / 2000 [ 50%]  (Sampling) \n",
            "Chain 1 Iteration: 1100 / 2000 [ 55%]  (Sampling) \n",
            "Chain 1 Iteration: 1200 / 2000 [ 60%]  (Sampling) \n",
            "Chain 1 Iteration: 1300 / 2000 [ 65%]  (Sampling) \n",
            "Chain 1 Iteration: 1400 / 2000 [ 70%]  (Sampling) \n",
            "Chain 1 Iteration: 1500 / 2000 [ 75%]  (Sampling) \n",
            "Chain 1 Iteration: 1600 / 2000 [ 80%]  (Sampling) \n",
            "Chain 1 Iteration: 1700 / 2000 [ 85%]  (Sampling) \n",
            "Chain 1 Iteration: 1800 / 2000 [ 90%]  (Sampling) \n",
            "Chain 1 Iteration: 1900 / 2000 [ 95%]  (Sampling) \n",
            "Chain 1 Iteration: 2000 / 2000 [100%]  (Sampling) \n",
            "Chain 1 finished in 0.0 seconds.\n"
          ]
        }
      ]
    },
    {
      "cell_type": "code",
      "source": [
        "mm_prior <- extract.prior(mm)"
      ],
      "metadata": {
        "colab": {
          "base_uri": "https://localhost:8080/"
        },
        "id": "nUCPO3tDo16S",
        "outputId": "9acaecab-4b80-4a56-efd1-1a9328e54d7a"
      },
      "execution_count": null,
      "outputs": [
        {
          "output_type": "stream",
          "name": "stdout",
          "text": [
            "Running MCMC with 1 chain, with 1 thread(s) per chain...\n",
            "\n",
            "Chain 1 Iteration:    1 / 2000 [  0%]  (Warmup) \n",
            "Chain 1 Iteration:  100 / 2000 [  5%]  (Warmup) \n",
            "Chain 1 Iteration:  200 / 2000 [ 10%]  (Warmup) \n",
            "Chain 1 Iteration:  300 / 2000 [ 15%]  (Warmup) \n",
            "Chain 1 Iteration:  400 / 2000 [ 20%]  (Warmup) \n",
            "Chain 1 Iteration:  500 / 2000 [ 25%]  (Warmup) \n",
            "Chain 1 Iteration:  600 / 2000 [ 30%]  (Warmup) \n",
            "Chain 1 Iteration:  700 / 2000 [ 35%]  (Warmup) \n",
            "Chain 1 Iteration:  800 / 2000 [ 40%]  (Warmup) \n",
            "Chain 1 Iteration:  900 / 2000 [ 45%]  (Warmup) \n",
            "Chain 1 Iteration: 1000 / 2000 [ 50%]  (Warmup) \n",
            "Chain 1 Iteration: 1001 / 2000 [ 50%]  (Sampling) \n",
            "Chain 1 Iteration: 1100 / 2000 [ 55%]  (Sampling) \n",
            "Chain 1 Iteration: 1200 / 2000 [ 60%]  (Sampling) \n",
            "Chain 1 Iteration: 1300 / 2000 [ 65%]  (Sampling) \n",
            "Chain 1 Iteration: 1400 / 2000 [ 70%]  (Sampling) \n",
            "Chain 1 Iteration: 1500 / 2000 [ 75%]  (Sampling) \n",
            "Chain 1 Iteration: 1600 / 2000 [ 80%]  (Sampling) \n",
            "Chain 1 Iteration: 1700 / 2000 [ 85%]  (Sampling) \n",
            "Chain 1 Iteration: 1800 / 2000 [ 90%]  (Sampling) \n",
            "Chain 1 Iteration: 1900 / 2000 [ 95%]  (Sampling) \n",
            "Chain 1 Iteration: 2000 / 2000 [100%]  (Sampling) \n",
            "Chain 1 finished in 0.2 seconds.\n"
          ]
        },
        {
          "output_type": "stream",
          "name": "stderr",
          "text": [
            "Warning: 20 of 1000 (2.0%) transitions ended with a divergence.\n",
            "See https://mc-stan.org/misc/warnings for details.\n",
            "\n",
            "\n"
          ]
        }
      ]
    },
    {
      "cell_type": "code",
      "source": [
        "xseq <- seq(from=-3, to=3, length.out=100)\n",
        "\n",
        "m_y1 <- matrix(data=NA, nrow=1000, ncol=length(xseq))\n",
        "m_y2 <- matrix(data=NA, nrow=1000, ncol=length(xseq))\n",
        "mm_y1 <- matrix(data=NA, nrow=1000, ncol=length(xseq))\n",
        "mm_y2 <- matrix(data=NA, nrow=1000, ncol=length(xseq))\n",
        "for(i in 1:length(xseq)){\n",
        "  m_y1[,i] <- inv_logit(m_prior$a[,1] + m_prior$b*xseq[i])\n",
        "  m_y2[,i] <- inv_logit(m_prior$a[,2] + m_prior$b*xseq[i])\n",
        "\n",
        "  mm_y1[,i] <- inv_logit(mm_prior$a[,1] + mm_prior$b*xseq[i])\n",
        "  mm_y2[,i] <- inv_logit(mm_prior$a[,2] + mm_prior$b*xseq[i])\n",
        "}\n",
        "\n",
        "m_y1_mean <- colMeans(m_y1)\n",
        "m_y1_PI <- apply(m_y1, 2, PI)\n",
        "m_y2_mean <- colMeans(m_y2)\n",
        "m_y2_PI <- apply(m_y2, 2, PI)\n",
        "\n",
        "mm_y1_mean <- colMeans(mm_y1)\n",
        "mm_y1_PI <- apply(mm_y1, 2, PI)\n",
        "mm_y2_mean <- colMeans(mm_y2)\n",
        "mm_y2_PI <- apply(mm_y2, 2, PI)"
      ],
      "metadata": {
        "id": "x8E0nqHdpyYq"
      },
      "execution_count": null,
      "outputs": []
    },
    {
      "cell_type": "code",
      "source": [
        "plot(m_y1_mean ~ xseq, type=\"l\", ylim=c(0, 1), col=\"blue\")\n",
        "lines(m_y2_mean ~ xseq, lty=2, col=\"blue\")\n",
        "shade(m_y1_PI, xseq, col=col.alpha(\"blue\", 0.1))\n",
        "shade(m_y2_PI, xseq, col=col.alpha(\"blue\", 0.1))\n",
        "\n",
        "lines(mm_y1_mean ~ xseq, col=\"red\")\n",
        "lines(mm_y2_mean ~ xseq, lty=2, col=\"red\")\n",
        "shade(mm_y1_PI, xseq, col=col.alpha(\"red\", 0.1))\n",
        "shade(mm_y2_PI, xseq, col=col.alpha(\"red\", 0.1))"
      ],
      "metadata": {
        "colab": {
          "base_uri": "https://localhost:8080/",
          "height": 437
        },
        "id": "1ZIvwSi1qTUE",
        "outputId": "1a89f4bc-82a1-4963-bab0-43ab8ff8677a"
      },
      "execution_count": null,
      "outputs": [
        {
          "output_type": "display_data",
          "data": {
            "text/plain": [
              "plot without title"
            ],
            "image/png": "[encoded data removed]"
          },
          "metadata": {
            "image/png": {
              "width": 420,
              "height": 420
            }
          }
        }
      ]
    },
    {
      "cell_type": "markdown",
      "source": [
        "### 13E3\n",
        "\n",
        "Rewrite the following model as a multilevel model.\n",
        "\n",
        "$$y_i \\sim \\text{Normal}(\\mu_i, \\sigma)$$\n",
        "$$\\mu_i = \\alpha_{\\text{Group}_i} + \\beta x_i$$\n",
        "$$\\alpha_{\\text{Group}_i} \\sim \\text{Normal}(0, 5)$$\n",
        "$$\\beta \\sim \\text{Normal}(0, 1)$$\n",
        "$$\\sigma \\sim \\text{Exponential}(1)$$\n",
        "\n",
        "#### Answer\n",
        "$$y_i \\sim \\text{Normal}(\\mu_i, \\sigma)$$\n",
        "$$\\mu_i = \\alpha_{\\text{Group}_i} + \\beta x_i$$\n",
        "$$\\alpha_{\\text{Group}_i} \\sim \\text{Normal}(\\bar{\\alpha}, \\sigma_{\\alpha})$$\n",
        "$$\\beta \\sim \\text{Normal}(0, 1)$$\n",
        "$$\\bar{\\alpha} \\sim \\text{Normal}(0,1)$$\n",
        "$$\\sigma_{\\alpha} \\sim \\text{Exponential}(0.20)$$\n",
        "$$\\sigma \\sim  \\text{Exponential}(1)$$\n",
        "\n",
        "Let's again look at the prior distribution of the mean."
      ],
      "metadata": {
        "id": "pQza0mUVw4gP"
      }
    },
    {
      "cell_type": "code",
      "source": [
        "dlist <- list(\"x\" = rnorm(n=10, mean=0, sd=1),\n",
        "              \"y\" = rnorm(n=10, mean=1 + 2*x, sd=2),\n",
        "              \"group\" = c(1,1,1,1,1,2,2,2,2,2))"
      ],
      "metadata": {
        "id": "g6sj0aOjyIn0"
      },
      "execution_count": null,
      "outputs": []
    },
    {
      "cell_type": "code",
      "source": [
        "m <- ulam(\n",
        "  alist(\n",
        "    y ~ dnorm(mu, sigma),\n",
        "      mu <- a[group] + b*x,\n",
        "        a[group] ~ dnorm(0, 5),\n",
        "        b ~ dnorm(0, 1),\n",
        "      sigma ~ dexp(1)\n",
        "  ), data=dlist, chains=4, cores=4, iter=1000\n",
        ")"
      ],
      "metadata": {
        "colab": {
          "base_uri": "https://localhost:8080/"
        },
        "outputId": "d9201f7e-c24e-4fff-cad2-eb96dfbdb0e1",
        "id": "HR__HfLDyIn1"
      },
      "execution_count": null,
      "outputs": [
        {
          "output_type": "stream",
          "name": "stdout",
          "text": [
            "Running MCMC with 4 parallel chains, with 1 thread(s) per chain...\n",
            "\n",
            "Chain 1 Iteration:   1 / 1000 [  0%]  (Warmup) \n",
            "Chain 1 Iteration: 100 / 1000 [ 10%]  (Warmup) \n",
            "Chain 1 Iteration: 200 / 1000 [ 20%]  (Warmup) \n",
            "Chain 1 Iteration: 300 / 1000 [ 30%]  (Warmup) \n",
            "Chain 1 Iteration: 400 / 1000 [ 40%]  (Warmup) \n",
            "Chain 1 Iteration: 500 / 1000 [ 50%]  (Warmup) \n",
            "Chain 1 Iteration: 501 / 1000 [ 50%]  (Sampling) \n",
            "Chain 1 Iteration: 600 / 1000 [ 60%]  (Sampling) \n",
            "Chain 1 Iteration: 700 / 1000 [ 70%]  (Sampling) \n",
            "Chain 1 Iteration: 800 / 1000 [ 80%]  (Sampling) \n",
            "Chain 1 Iteration: 900 / 1000 [ 90%]  (Sampling) \n",
            "Chain 1 Iteration: 1000 / 1000 [100%]  (Sampling) \n",
            "Chain 2 Iteration:   1 / 1000 [  0%]  (Warmup) \n",
            "Chain 2 Iteration: 100 / 1000 [ 10%]  (Warmup) \n",
            "Chain 2 Iteration: 200 / 1000 [ 20%]  (Warmup) \n",
            "Chain 2 Iteration: 300 / 1000 [ 30%]  (Warmup) \n",
            "Chain 2 Iteration: 400 / 1000 [ 40%]  (Warmup) \n",
            "Chain 2 Iteration: 500 / 1000 [ 50%]  (Warmup) \n",
            "Chain 2 Iteration: 501 / 1000 [ 50%]  (Sampling) \n",
            "Chain 2 Iteration: 600 / 1000 [ 60%]  (Sampling) \n",
            "Chain 2 Iteration: 700 / 1000 [ 70%]  (Sampling) \n",
            "Chain 2 Iteration: 800 / 1000 [ 80%]  (Sampling) \n",
            "Chain 2 Iteration: 900 / 1000 [ 90%]  (Sampling) \n",
            "Chain 2 Iteration: 1000 / 1000 [100%]  (Sampling) \n",
            "Chain 3 Iteration:   1 / 1000 [  0%]  (Warmup) \n",
            "Chain 3 Iteration: 100 / 1000 [ 10%]  (Warmup) \n",
            "Chain 3 Iteration: 200 / 1000 [ 20%]  (Warmup) \n",
            "Chain 3 Iteration: 300 / 1000 [ 30%]  (Warmup) \n",
            "Chain 3 Iteration: 400 / 1000 [ 40%]  (Warmup) \n",
            "Chain 3 Iteration: 500 / 1000 [ 50%]  (Warmup) \n",
            "Chain 3 Iteration: 501 / 1000 [ 50%]  (Sampling) \n",
            "Chain 3 Iteration: 600 / 1000 [ 60%]  (Sampling) \n",
            "Chain 3 Iteration: 700 / 1000 [ 70%]  (Sampling) \n",
            "Chain 3 Iteration: 800 / 1000 [ 80%]  (Sampling) \n",
            "Chain 3 Iteration: 900 / 1000 [ 90%]  (Sampling) \n",
            "Chain 3 Iteration: 1000 / 1000 [100%]  (Sampling) \n",
            "Chain 4 Iteration:   1 / 1000 [  0%]  (Warmup) \n",
            "Chain 4 Iteration: 100 / 1000 [ 10%]  (Warmup) \n",
            "Chain 4 Iteration: 200 / 1000 [ 20%]  (Warmup) \n",
            "Chain 4 Iteration: 300 / 1000 [ 30%]  (Warmup) \n",
            "Chain 4 Iteration: 400 / 1000 [ 40%]  (Warmup) \n",
            "Chain 4 Iteration: 500 / 1000 [ 50%]  (Warmup) \n",
            "Chain 4 Iteration: 501 / 1000 [ 50%]  (Sampling) \n",
            "Chain 4 Iteration: 600 / 1000 [ 60%]  (Sampling) \n",
            "Chain 4 Iteration: 700 / 1000 [ 70%]  (Sampling) \n",
            "Chain 4 Iteration: 800 / 1000 [ 80%]  (Sampling) \n",
            "Chain 4 Iteration: 900 / 1000 [ 90%]  (Sampling) \n",
            "Chain 4 Iteration: 1000 / 1000 [100%]  (Sampling) \n",
            "Chain 1 finished in 0.0 seconds.\n",
            "Chain 2 finished in 0.1 seconds.\n",
            "Chain 3 finished in 0.1 seconds.\n",
            "Chain 4 finished in 0.0 seconds.\n",
            "\n",
            "All 4 chains finished successfully.\n",
            "Mean chain execution time: 0.0 seconds.\n",
            "Total execution time: 0.6 seconds.\n",
            "\n"
          ]
        }
      ]
    },
    {
      "cell_type": "code",
      "source": [
        "mm <- ulam(\n",
        "  alist(\n",
        "    y ~ dnorm(mu, sigma),\n",
        "      mu <- a[group] + b*x,\n",
        "        a[group] ~ dnorm(abar, sigma_a),\n",
        "          abar ~ dnorm(0,1),\n",
        "          sigma_a ~ dexp(0.2),\n",
        "        b ~ dnorm(0, 1),\n",
        "          sigma_b ~ dexp(1),\n",
        "      sigma ~ dexp(1)\n",
        "  ), data=dlist, chains=4, cores=4, iter=1000\n",
        ")"
      ],
      "metadata": {
        "colab": {
          "base_uri": "https://localhost:8080/"
        },
        "outputId": "bd1a483d-b2d7-4bab-e995-517bd1153db5",
        "id": "a0q7c1GRyIn1"
      },
      "execution_count": null,
      "outputs": [
        {
          "output_type": "stream",
          "name": "stdout",
          "text": [
            "Running MCMC with 4 parallel chains, with 1 thread(s) per chain...\n",
            "\n",
            "Chain 1 Iteration:   1 / 1000 [  0%]  (Warmup) \n",
            "Chain 1 Iteration: 100 / 1000 [ 10%]  (Warmup) \n",
            "Chain 1 Iteration: 200 / 1000 [ 20%]  (Warmup) \n",
            "Chain 1 Iteration: 300 / 1000 [ 30%]  (Warmup) \n",
            "Chain 1 Iteration: 400 / 1000 [ 40%]  (Warmup) \n",
            "Chain 1 Iteration: 500 / 1000 [ 50%]  (Warmup) \n",
            "Chain 1 Iteration: 501 / 1000 [ 50%]  (Sampling) \n",
            "Chain 1 Iteration: 600 / 1000 [ 60%]  (Sampling) \n",
            "Chain 1 Iteration: 700 / 1000 [ 70%]  (Sampling) \n",
            "Chain 2 Iteration:   1 / 1000 [  0%]  (Warmup) \n",
            "Chain 2 Iteration: 100 / 1000 [ 10%]  (Warmup) \n",
            "Chain 2 Iteration: 200 / 1000 [ 20%]  (Warmup) \n",
            "Chain 2 Iteration: 300 / 1000 [ 30%]  (Warmup) \n",
            "Chain 2 Iteration: 400 / 1000 [ 40%]  (Warmup) \n",
            "Chain 2 Iteration: 500 / 1000 [ 50%]  (Warmup) \n",
            "Chain 2 Iteration: 501 / 1000 [ 50%]  (Sampling) \n",
            "Chain 2 Iteration: 600 / 1000 [ 60%]  (Sampling) \n",
            "Chain 2 Iteration: 700 / 1000 [ 70%]  (Sampling) \n",
            "Chain 2 Iteration: 800 / 1000 [ 80%]  (Sampling) \n",
            "Chain 3 Iteration:   1 / 1000 [  0%]  (Warmup) \n",
            "Chain 3 Iteration: 100 / 1000 [ 10%]  (Warmup) \n",
            "Chain 3 Iteration: 200 / 1000 [ 20%]  (Warmup) \n",
            "Chain 3 Iteration: 300 / 1000 [ 30%]  (Warmup) \n",
            "Chain 3 Iteration: 400 / 1000 [ 40%]  (Warmup) \n",
            "Chain 3 Iteration: 500 / 1000 [ 50%]  (Warmup) \n",
            "Chain 3 Iteration: 501 / 1000 [ 50%]  (Sampling) \n",
            "Chain 4 Iteration:   1 / 1000 [  0%]  (Warmup) \n",
            "Chain 4 Iteration: 100 / 1000 [ 10%]  (Warmup) \n",
            "Chain 4 Iteration: 200 / 1000 [ 20%]  (Warmup) \n",
            "Chain 4 Iteration: 300 / 1000 [ 30%]  (Warmup) \n",
            "Chain 4 Iteration: 400 / 1000 [ 40%]  (Warmup) \n",
            "Chain 1 Iteration: 800 / 1000 [ 80%]  (Sampling) \n",
            "Chain 1 Iteration: 900 / 1000 [ 90%]  (Sampling) \n",
            "Chain 1 Iteration: 1000 / 1000 [100%]  (Sampling) \n",
            "Chain 1 finished in 0.4 seconds.\n",
            "Chain 2 Iteration: 900 / 1000 [ 90%]  (Sampling) \n",
            "Chain 2 Iteration: 1000 / 1000 [100%]  (Sampling) \n",
            "Chain 2 finished in 0.3 seconds.\n",
            "Chain 3 Iteration: 600 / 1000 [ 60%]  (Sampling) \n",
            "Chain 3 Iteration: 700 / 1000 [ 70%]  (Sampling) \n",
            "Chain 3 Iteration: 800 / 1000 [ 80%]  (Sampling) \n",
            "Chain 3 Iteration: 900 / 1000 [ 90%]  (Sampling) \n",
            "Chain 3 Iteration: 1000 / 1000 [100%]  (Sampling) \n",
            "Chain 4 Iteration: 500 / 1000 [ 50%]  (Warmup) \n",
            "Chain 4 Iteration: 501 / 1000 [ 50%]  (Sampling) \n",
            "Chain 4 Iteration: 600 / 1000 [ 60%]  (Sampling) \n",
            "Chain 4 Iteration: 700 / 1000 [ 70%]  (Sampling) \n",
            "Chain 4 Iteration: 800 / 1000 [ 80%]  (Sampling) \n",
            "Chain 4 Iteration: 900 / 1000 [ 90%]  (Sampling) \n",
            "Chain 4 Iteration: 1000 / 1000 [100%]  (Sampling) \n",
            "Chain 3 finished in 0.3 seconds.\n",
            "Chain 4 finished in 0.3 seconds.\n",
            "\n",
            "All 4 chains finished successfully.\n",
            "Mean chain execution time: 0.3 seconds.\n",
            "Total execution time: 0.6 seconds.\n",
            "\n"
          ]
        },
        {
          "output_type": "stream",
          "name": "stderr",
          "text": [
            "Warning: 43 of 2000 (2.0%) transitions ended with a divergence.\n",
            "See https://mc-stan.org/misc/warnings for details.\n",
            "\n",
            "\n"
          ]
        }
      ]
    },
    {
      "cell_type": "code",
      "source": [
        "m_prior <- extract.prior(m)"
      ],
      "metadata": {
        "colab": {
          "base_uri": "https://localhost:8080/"
        },
        "outputId": "e79754e3-5270-4d1f-c6c5-e241b6d99e86",
        "id": "4HwrQKM-yIn1"
      },
      "execution_count": null,
      "outputs": [
        {
          "output_type": "stream",
          "name": "stdout",
          "text": [
            "Running MCMC with 1 chain, with 1 thread(s) per chain...\n",
            "\n",
            "Chain 1 Iteration:    1 / 2000 [  0%]  (Warmup) \n",
            "Chain 1 Iteration:  100 / 2000 [  5%]  (Warmup) \n",
            "Chain 1 Iteration:  200 / 2000 [ 10%]  (Warmup) \n",
            "Chain 1 Iteration:  300 / 2000 [ 15%]  (Warmup) \n",
            "Chain 1 Iteration:  400 / 2000 [ 20%]  (Warmup) \n",
            "Chain 1 Iteration:  500 / 2000 [ 25%]  (Warmup) \n",
            "Chain 1 Iteration:  600 / 2000 [ 30%]  (Warmup) \n",
            "Chain 1 Iteration:  700 / 2000 [ 35%]  (Warmup) \n",
            "Chain 1 Iteration:  800 / 2000 [ 40%]  (Warmup) \n",
            "Chain 1 Iteration:  900 / 2000 [ 45%]  (Warmup) \n",
            "Chain 1 Iteration: 1000 / 2000 [ 50%]  (Warmup) \n",
            "Chain 1 Iteration: 1001 / 2000 [ 50%]  (Sampling) \n",
            "Chain 1 Iteration: 1100 / 2000 [ 55%]  (Sampling) \n",
            "Chain 1 Iteration: 1200 / 2000 [ 60%]  (Sampling) \n",
            "Chain 1 Iteration: 1300 / 2000 [ 65%]  (Sampling) \n",
            "Chain 1 Iteration: 1400 / 2000 [ 70%]  (Sampling) \n",
            "Chain 1 Iteration: 1500 / 2000 [ 75%]  (Sampling) \n",
            "Chain 1 Iteration: 1600 / 2000 [ 80%]  (Sampling) \n",
            "Chain 1 Iteration: 1700 / 2000 [ 85%]  (Sampling) \n",
            "Chain 1 Iteration: 1800 / 2000 [ 90%]  (Sampling) \n",
            "Chain 1 Iteration: 1900 / 2000 [ 95%]  (Sampling) \n",
            "Chain 1 Iteration: 2000 / 2000 [100%]  (Sampling) \n",
            "Chain 1 finished in 0.0 seconds.\n"
          ]
        }
      ]
    },
    {
      "cell_type": "code",
      "source": [
        "mm_prior <- extract.prior(mm)"
      ],
      "metadata": {
        "colab": {
          "base_uri": "https://localhost:8080/"
        },
        "outputId": "3909096f-3803-4a1a-d518-399338783f36",
        "id": "mRFNXbB7yIn2"
      },
      "execution_count": null,
      "outputs": [
        {
          "output_type": "stream",
          "name": "stdout",
          "text": [
            "Running MCMC with 1 chain, with 1 thread(s) per chain...\n",
            "\n",
            "Chain 1 Iteration:    1 / 2000 [  0%]  (Warmup) \n",
            "Chain 1 Iteration:  100 / 2000 [  5%]  (Warmup) \n",
            "Chain 1 Iteration:  200 / 2000 [ 10%]  (Warmup) \n",
            "Chain 1 Iteration:  300 / 2000 [ 15%]  (Warmup) \n",
            "Chain 1 Iteration:  400 / 2000 [ 20%]  (Warmup) \n",
            "Chain 1 Iteration:  500 / 2000 [ 25%]  (Warmup) \n",
            "Chain 1 Iteration:  600 / 2000 [ 30%]  (Warmup) \n",
            "Chain 1 Iteration:  700 / 2000 [ 35%]  (Warmup) \n",
            "Chain 1 Iteration:  800 / 2000 [ 40%]  (Warmup) \n",
            "Chain 1 Iteration:  900 / 2000 [ 45%]  (Warmup) \n",
            "Chain 1 Iteration: 1000 / 2000 [ 50%]  (Warmup) \n",
            "Chain 1 Iteration: 1001 / 2000 [ 50%]  (Sampling) \n",
            "Chain 1 Iteration: 1100 / 2000 [ 55%]  (Sampling) \n",
            "Chain 1 Iteration: 1200 / 2000 [ 60%]  (Sampling) \n",
            "Chain 1 Iteration: 1300 / 2000 [ 65%]  (Sampling) \n",
            "Chain 1 Iteration: 1400 / 2000 [ 70%]  (Sampling) \n",
            "Chain 1 Iteration: 1500 / 2000 [ 75%]  (Sampling) \n",
            "Chain 1 Iteration: 1600 / 2000 [ 80%]  (Sampling) \n",
            "Chain 1 Iteration: 1700 / 2000 [ 85%]  (Sampling) \n",
            "Chain 1 Iteration: 1800 / 2000 [ 90%]  (Sampling) \n",
            "Chain 1 Iteration: 1900 / 2000 [ 95%]  (Sampling) \n",
            "Chain 1 Iteration: 2000 / 2000 [100%]  (Sampling) \n",
            "Chain 1 finished in 0.2 seconds.\n"
          ]
        },
        {
          "output_type": "stream",
          "name": "stderr",
          "text": [
            "Warning: 54 of 1000 (5.0%) transitions ended with a divergence.\n",
            "See https://mc-stan.org/misc/warnings for details.\n",
            "\n",
            "\n"
          ]
        }
      ]
    },
    {
      "cell_type": "code",
      "source": [
        "xseq <- seq(from=-3, to=3, length.out=100)\n",
        "\n",
        "m_y1 <- matrix(data=NA, nrow=1000, ncol=length(xseq))\n",
        "m_y2 <- matrix(data=NA, nrow=1000, ncol=length(xseq))\n",
        "mm_y1 <- matrix(data=NA, nrow=1000, ncol=length(xseq))\n",
        "mm_y2 <- matrix(data=NA, nrow=1000, ncol=length(xseq))\n",
        "for(i in 1:length(xseq)){\n",
        "  m_y1[,i] <- m_prior$a[,1] + m_prior$b*xseq[i]\n",
        "  m_y2[,i] <- m_prior$a[,2] + m_prior$b*xseq[i]\n",
        "\n",
        "  mm_y1[,i] <- mm_prior$a[,1] + mm_prior$b*xseq[i]\n",
        "  mm_y2[,i] <- mm_prior$a[,2] + mm_prior$b*xseq[i]\n",
        "}\n",
        "\n",
        "m_y1_mean <- colMeans(m_y1)\n",
        "m_y1_PI <- apply(m_y1, 2, PI)\n",
        "m_y2_mean <- colMeans(m_y2)\n",
        "m_y2_PI <- apply(m_y2, 2, PI)\n",
        "\n",
        "mm_y1_mean <- colMeans(mm_y1)\n",
        "mm_y1_PI <- apply(mm_y1, 2, PI)\n",
        "mm_y2_mean <- colMeans(mm_y2)\n",
        "mm_y2_PI <- apply(mm_y2, 2, PI)"
      ],
      "metadata": {
        "id": "Nxa36qqmyIn2"
      },
      "execution_count": null,
      "outputs": []
    },
    {
      "cell_type": "code",
      "source": [
        "plot(m_y1_mean ~ xseq, type=\"l\", col=\"blue\", ylim=c(-12,12))\n",
        "lines(m_y2_mean ~ xseq, lty=2, col=\"blue\")\n",
        "shade(m_y1_PI, xseq, col=col.alpha(\"blue\", 0.1))\n",
        "shade(m_y2_PI, xseq, col=col.alpha(\"blue\", 0.1))\n",
        "\n",
        "lines(mm_y1_mean ~ xseq, col=\"red\")\n",
        "lines(mm_y2_mean ~ xseq, lty=2, col=\"red\")\n",
        "shade(mm_y1_PI, xseq, col=col.alpha(\"red\", 0.1))\n",
        "shade(mm_y2_PI, xseq, col=col.alpha(\"red\", 0.1))"
      ],
      "metadata": {
        "colab": {
          "base_uri": "https://localhost:8080/",
          "height": 437
        },
        "outputId": "a37748d4-a760-4e1a-9215-be58e1d3e500",
        "id": "QvqWk3WByIn2"
      },
      "execution_count": null,
      "outputs": [
        {
          "output_type": "display_data",
          "data": {
            "text/plain": [
              "plot without title"
            ],
            "image/png": "[encoded data removed]"
          },
          "metadata": {
            "image/png": {
              "width": 420,
              "height": 420
            }
          }
        }
      ]
    },
    {
      "cell_type": "markdown",
      "source": [
        "### 12E4\n",
        "\n",
        "Write a mathematical model formula for Poisson regression with varying intercepts.\n",
        "\n",
        "#### Answer\n",
        "\n",
        "I'm just going to alter the model in the answer to 12E2\n",
        "\n",
        "$$y_i \\sim \\text{Poisson}(\\lambda)$$\n",
        "$$\\log(\\lambda) = \\alpha_{\\text{Group}_i} + \\beta x_i$$\n",
        "$$\\alpha_{\\text{Group}_i} \\sim \\text{Normal}(\\bar{\\alpha}, \\sigma_{\\alpha})$$\n",
        "$$\\beta \\sim \\text{Normal}(0, 0.5)$$\n",
        "$$\\bar{\\alpha} \\sim \\text{Normal}(0,1)$$\n",
        "$$\\sigma_{\\alpha} \\sim \\text{Exponential}(0.66)$$"
      ],
      "metadata": {
        "id": "O7tn1YNsS_UO"
      }
    },
    {
      "cell_type": "markdown",
      "source": [
        "### 12E5\n",
        "\n",
        "Write a mathematical model for a Poisson regression with two different kinds of varying intercepts, a cross-classified model.\n",
        "\n",
        "#### Answer\n",
        "\n",
        "Recall from the **Rethinking** box at the beginning of section 13.3, that *cross-classified* models are like hierarchcal models, except the study subjects (e.g., each individual chimp in the `chimpanzees` dataset) are not exclusively nested within unique blocks, but rather distributed among features of the study (e.g., `treatment`).  In other words, we add more varying intercepts.\n",
        "\n",
        "So let's accomplish this by modifying the model in 12E4.\n",
        "\n",
        "$$y_i \\sim \\text{Poisson}(\\lambda)$$\n",
        "$$\\log(\\lambda) = \\alpha_{\\text{Group}_i} + \\alpha_{\\text{Treatment}_i} + \\beta x_i$$\n",
        "$$\\alpha_{\\text{Group}} \\sim \\text{Normal}(\\bar{\\alpha}_{\\text{Group}}, \\sigma_{\\alpha_{\\text{Group}}})$$\n",
        "$$\\alpha_{\\text{Treatment}} \\sim \\text{Normal}(\\bar{\\alpha}_{\\text{Treatment}}, \\sigma_{\\alpha_{\\text{Treatment}}})$$\n",
        "$$\\beta \\sim \\text{Normal}(0, 0.5)$$\n",
        "$$\\bar{\\alpha}_{\\text{Group}} \\sim \\text{Normal}(0,1)$$\n",
        "$$\\sigma_{\\alpha_{\\text{Group}}} \\sim \\text{Exponential}(0.66)$$\n",
        "$$\\bar{\\alpha}_{\\text{Treatment}} \\sim \\text{Normal}(0,1)$$\n",
        "$$\\sigma_{\\alpha_{\\text{Treatment}}} \\sim \\text{Exponential}(0.66)$$\n",
        "\n",
        "Now, there may be a small problem here: both random intercepts have a prior for the mean parameter.  This idea is not well explored in the book; it is briefly touched on in section 11.1.  Here, I think the problem is that a *baseline* value is a function of multiple inputs (please correct me if I'm wrong).  The author avoids over-parameterization in model `m13.4`: one of the varying-intercept hyperparameter priors is set to 0.  We can avoid overparameterization here by following this example:\n",
        "\n",
        "$$y_i \\sim \\text{Poisson}(\\lambda)$$\n",
        "$$\\log(\\lambda) = \\alpha_{\\text{Group}_i} + \\alpha_{\\text{Treatment}_i} + \\beta x_i$$\n",
        "$$\\alpha_{\\text{Group}} \\sim \\text{Normal}(\\bar{\\alpha}_{\\text{Group}}, \\sigma_{\\alpha_{\\text{Group}}})$$\n",
        "$$\\alpha_{\\text{Treatment}} \\sim \\text{Normal}(0, \\sigma_{\\alpha_{\\text{Treatment}}})$$\n",
        "$$\\beta \\sim \\text{Normal}(0, 0.5)$$\n",
        "$$\\bar{\\alpha}_{\\text{Group}} \\sim \\text{Normal}(0,1)$$\n",
        "$$\\sigma_{\\alpha_{\\text{Group}}} \\sim \\text{Exponential}(0.66)$$\n",
        "$$\\sigma_{\\alpha_{\\text{Treatment}}} \\sim \\text{Exponential}(0.66)$$\n",
        "\n",
        "But I find this a little unintuitive; it seems arbitrary to assign a prior of 0 to one varying intercept but not the other.  I think interpretability is improved if we add an overall interept and set both varying intercepts to 0 like:\n",
        "\n",
        "$$y_i \\sim \\text{Poisson}(\\lambda)$$\n",
        "$$\\log(\\lambda) = \\alpha + \\alpha_{\\text{Group}_i} + \\alpha_{\\text{Treatment}_i} + \\beta x_i$$\n",
        "$$\\alpha \\sim \\text{Normal}(0, 1)$$\n",
        "$$\\alpha_{\\text{Group}} \\sim \\text{Normal}(0, \\sigma_{\\alpha_{\\text{Group}}})$$\n",
        "$$\\alpha_{\\text{Treatment}} \\sim \\text{Normal}(0, \\sigma_{\\alpha_{\\text{Treatment}}})$$\n",
        "$$\\beta \\sim \\text{Normal}(0, 0.5)$$\n",
        "$$\\sigma_{\\alpha_{\\text{Group}}} \\sim \\text{Exponential}(0.66)$$\n",
        "$$\\sigma_{\\alpha_{\\text{Treatment}}} \\sim \\text{Exponential}(0.66)$$\n",
        "\n",
        "Now, at least, we can interpret the varying intercepts as deviations away from a common baseline value.  But what if overparameterization was not a problem here (in fact, model `m11.8` in section 11.1 opts for overparameterization)?  If it doesn't cause a problem, I think I'd like to overparameterize model to aid with interpretation.  For instance, it would be nice to have values for the average affects of both $\\alpha_{\\text{Group}}$ and $\\alpha_{\\text{Treatment}}$\n",
        "\n",
        "Overparameterization IS a problem with many algorithms and in frequentist statistics, but I'm not sure how big of a deal it is with Bayesianism with MCMC.  So let's generate some fake data and test both our over-parameterized and non-over-parameterized models.\n",
        "\n",
        "\n",
        "\n"
      ],
      "metadata": {
        "id": "og61qcG5UcaR"
      }
    }
  ]
}
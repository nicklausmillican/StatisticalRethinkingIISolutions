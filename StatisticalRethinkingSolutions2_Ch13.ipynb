{
  "nbformat": 4,
  "nbformat_minor": 0,
  "metadata": {
    "colab": {
      "provenance": [],
      "toc_visible": true,
      "authorship_tag": "ABX9TyOD4P4W8eM/+RBN1XpzikUs",
      "include_colab_link": true
    },
    "kernelspec": {
      "name": "ir",
      "display_name": "R"
    },
    "language_info": {
      "name": "R"
    }
  },
  "cells": [
    {
      "cell_type": "markdown",
      "metadata": {
        "id": "view-in-github",
        "colab_type": "text"
      },
      "source": [
        "<a href=\"https://colab.research.google.com/github/nicklausmillican/StatisticalRethinkingIISolutions/blob/main/StatisticalRethinkingSolutions2_Ch13.ipynb\" target=\"_parent\"><img src=\"https://colab.research.google.com/assets/colab-badge.svg\" alt=\"Open In Colab\"/></a>"
      ]
    },
    {
      "cell_type": "code",
      "source": [
        "# Checking versions of g++ and make\n",
        "system(\"g++ --version\", intern = TRUE)\n",
        "system(\"make --version\", intern = TRUE)\n",
        "\n",
        "# Install g++ and make if needed\n",
        "system(\"sudo apt install g++\", intern = TRUE)\n",
        "system(\"sudo apt install make\", intern = TRUE)\n"
      ],
      "metadata": {
        "colab": {
          "base_uri": "https://localhost:8080/",
          "height": 191
        },
        "id": "6nmEQndWT8cK",
        "outputId": "7ea655c5-e44e-456f-b04f-6312ffb91ad4"
      },
      "execution_count": 7,
      "outputs": [
        {
          "output_type": "display_data",
          "data": {
            "text/html": [
              "<style>\n",
              ".list-inline {list-style: none; margin:0; padding: 0}\n",
              ".list-inline>li {display: inline-block}\n",
              ".list-inline>li:not(:last-child)::after {content: \"\\00b7\"; padding: 0 .5ex}\n",
              "</style>\n",
              "<ol class=list-inline><li>'g++ (Ubuntu 11.4.0-1ubuntu1~22.04) 11.4.0'</li><li>'Copyright (C) 2021 Free Software Foundation, Inc.'</li><li><span style=white-space:pre-wrap>'This is free software; see the source for copying conditions.  There is NO'</span></li><li>'warranty; not even for MERCHANTABILITY or FITNESS FOR A PARTICULAR PURPOSE.'</li><li>''</li></ol>\n"
            ],
            "text/markdown": "1. 'g++ (Ubuntu 11.4.0-1ubuntu1~22.04) 11.4.0'\n2. 'Copyright (C) 2021 Free Software Foundation, Inc.'\n3. <span style=white-space:pre-wrap>'This is free software; see the source for copying conditions.  There is NO'</span>\n4. 'warranty; not even for MERCHANTABILITY or FITNESS FOR A PARTICULAR PURPOSE.'\n5. ''\n\n\n",
            "text/latex": "\\begin{enumerate*}\n\\item 'g++ (Ubuntu 11.4.0-1ubuntu1\\textasciitilde{}22.04) 11.4.0'\n\\item 'Copyright (C) 2021 Free Software Foundation, Inc.'\n\\item 'This is free software; see the source for copying conditions.  There is NO'\n\\item 'warranty; not even for MERCHANTABILITY or FITNESS FOR A PARTICULAR PURPOSE.'\n\\item ''\n\\end{enumerate*}\n",
            "text/plain": [
              "[1] \"g++ (Ubuntu 11.4.0-1ubuntu1~22.04) 11.4.0\"                                  \n",
              "[2] \"Copyright (C) 2021 Free Software Foundation, Inc.\"                          \n",
              "[3] \"This is free software; see the source for copying conditions.  There is NO\" \n",
              "[4] \"warranty; not even for MERCHANTABILITY or FITNESS FOR A PARTICULAR PURPOSE.\"\n",
              "[5] \"\"                                                                           "
            ]
          },
          "metadata": {}
        },
        {
          "output_type": "display_data",
          "data": {
            "text/html": [
              "<style>\n",
              ".list-inline {list-style: none; margin:0; padding: 0}\n",
              ".list-inline>li {display: inline-block}\n",
              ".list-inline>li:not(:last-child)::after {content: \"\\00b7\"; padding: 0 .5ex}\n",
              "</style>\n",
              "<ol class=list-inline><li>'GNU Make 4.3'</li><li>'Built for x86_64-pc-linux-gnu'</li><li>'Copyright (C) 1988-2020 Free Software Foundation, Inc.'</li><li>'License GPLv3+: GNU GPL version 3 or later &lt;http://gnu.org/licenses/gpl.html&gt;'</li><li>'This is free software: you are free to change and redistribute it.'</li><li>'There is NO WARRANTY, to the extent permitted by law.'</li></ol>\n"
            ],
            "text/markdown": "1. 'GNU Make 4.3'\n2. 'Built for x86_64-pc-linux-gnu'\n3. 'Copyright (C) 1988-2020 Free Software Foundation, Inc.'\n4. 'License GPLv3+: GNU GPL version 3 or later &lt;http://gnu.org/licenses/gpl.html&gt;'\n5. 'This is free software: you are free to change and redistribute it.'\n6. 'There is NO WARRANTY, to the extent permitted by law.'\n\n\n",
            "text/latex": "\\begin{enumerate*}\n\\item 'GNU Make 4.3'\n\\item 'Built for x86\\_64-pc-linux-gnu'\n\\item 'Copyright (C) 1988-2020 Free Software Foundation, Inc.'\n\\item 'License GPLv3+: GNU GPL version 3 or later <http://gnu.org/licenses/gpl.html>'\n\\item 'This is free software: you are free to change and redistribute it.'\n\\item 'There is NO WARRANTY, to the extent permitted by law.'\n\\end{enumerate*}\n",
            "text/plain": [
              "[1] \"GNU Make 4.3\"                                                                 \n",
              "[2] \"Built for x86_64-pc-linux-gnu\"                                                \n",
              "[3] \"Copyright (C) 1988-2020 Free Software Foundation, Inc.\"                       \n",
              "[4] \"License GPLv3+: GNU GPL version 3 or later <http://gnu.org/licenses/gpl.html>\"\n",
              "[5] \"This is free software: you are free to change and redistribute it.\"           \n",
              "[6] \"There is NO WARRANTY, to the extent permitted by law.\"                        "
            ]
          },
          "metadata": {}
        },
        {
          "output_type": "display_data",
          "data": {
            "text/html": [
              "<style>\n",
              ".list-inline {list-style: none; margin:0; padding: 0}\n",
              ".list-inline>li {display: inline-block}\n",
              ".list-inline>li:not(:last-child)::after {content: \"\\00b7\"; padding: 0 .5ex}\n",
              "</style>\n",
              "<ol class=list-inline><li>'Reading package lists...'</li><li>'Building dependency tree...'</li><li>'Reading state information...'</li><li>'g++ is already the newest version (4:11.2.0-1ubuntu1).'</li><li>'0 upgraded, 0 newly installed, 0 to remove and 49 not upgraded.'</li></ol>\n"
            ],
            "text/markdown": "1. 'Reading package lists...'\n2. 'Building dependency tree...'\n3. 'Reading state information...'\n4. 'g++ is already the newest version (4:11.2.0-1ubuntu1).'\n5. '0 upgraded, 0 newly installed, 0 to remove and 49 not upgraded.'\n\n\n",
            "text/latex": "\\begin{enumerate*}\n\\item 'Reading package lists...'\n\\item 'Building dependency tree...'\n\\item 'Reading state information...'\n\\item 'g++ is already the newest version (4:11.2.0-1ubuntu1).'\n\\item '0 upgraded, 0 newly installed, 0 to remove and 49 not upgraded.'\n\\end{enumerate*}\n",
            "text/plain": [
              "[1] \"Reading package lists...\"                                       \n",
              "[2] \"Building dependency tree...\"                                    \n",
              "[3] \"Reading state information...\"                                   \n",
              "[4] \"g++ is already the newest version (4:11.2.0-1ubuntu1).\"         \n",
              "[5] \"0 upgraded, 0 newly installed, 0 to remove and 49 not upgraded.\""
            ]
          },
          "metadata": {}
        },
        {
          "output_type": "display_data",
          "data": {
            "text/html": [
              "<style>\n",
              ".list-inline {list-style: none; margin:0; padding: 0}\n",
              ".list-inline>li {display: inline-block}\n",
              ".list-inline>li:not(:last-child)::after {content: \"\\00b7\"; padding: 0 .5ex}\n",
              "</style>\n",
              "<ol class=list-inline><li>'Reading package lists...'</li><li>'Building dependency tree...'</li><li>'Reading state information...'</li><li>'make is already the newest version (4.3-4.1build1).'</li><li>'0 upgraded, 0 newly installed, 0 to remove and 49 not upgraded.'</li></ol>\n"
            ],
            "text/markdown": "1. 'Reading package lists...'\n2. 'Building dependency tree...'\n3. 'Reading state information...'\n4. 'make is already the newest version (4.3-4.1build1).'\n5. '0 upgraded, 0 newly installed, 0 to remove and 49 not upgraded.'\n\n\n",
            "text/latex": "\\begin{enumerate*}\n\\item 'Reading package lists...'\n\\item 'Building dependency tree...'\n\\item 'Reading state information...'\n\\item 'make is already the newest version (4.3-4.1build1).'\n\\item '0 upgraded, 0 newly installed, 0 to remove and 49 not upgraded.'\n\\end{enumerate*}\n",
            "text/plain": [
              "[1] \"Reading package lists...\"                                       \n",
              "[2] \"Building dependency tree...\"                                    \n",
              "[3] \"Reading state information...\"                                   \n",
              "[4] \"make is already the newest version (4.3-4.1build1).\"            \n",
              "[5] \"0 upgraded, 0 newly installed, 0 to remove and 49 not upgraded.\""
            ]
          },
          "metadata": {}
        }
      ]
    },
    {
      "cell_type": "code",
      "source": [
        "# Install cmdstanr from GitHub\n",
        "if (!require(cmdstanr)) {\n",
        "  devtools::install_github(\"stan-dev/cmdstanr\")\n",
        "}\n",
        "\n",
        "# Set up CmdStan if it's not already set up\n",
        "library(cmdstanr)\n",
        "if (!cmdstanr::cmdstan_version()) {\n",
        "  cmdstanr::install_cmdstan()\n",
        "}\n",
        "\n",
        "# Verify installation\n",
        "cmdstanr::check_cmdstan_toolchain()\n"
      ],
      "metadata": {
        "colab": {
          "base_uri": "https://localhost:8080/",
          "height": 72
        },
        "id": "xy8UnK1uUOmt",
        "outputId": "03c659d3-90a7-4c65-da9c-0979ee265c4a"
      },
      "execution_count": 8,
      "outputs": [
        {
          "output_type": "error",
          "ename": "ERROR",
          "evalue": "Error in !cmdstanr::cmdstan_version(): invalid argument type\n",
          "traceback": [
            "Error in !cmdstanr::cmdstan_version(): invalid argument type\nTraceback:\n"
          ]
        }
      ]
    },
    {
      "cell_type": "markdown",
      "source": [
        "IF YOU ENCOUNTER AN ERROR, JUST KEEP RUNNING CODE BELOW."
      ],
      "metadata": {
        "id": "5PjVh-uhxvy3"
      }
    },
    {
      "cell_type": "code",
      "source": [
        "# Install CmdStan using cmdstanr\n",
        "library(cmdstanr)\n",
        "cmdstanr::install_cmdstan()\n",
        "\n",
        "# After installation, set the CmdStan path\n",
        "cmdstan_path <- cmdstanr::cmdstan_path()\n",
        "cmdstanr::set_cmdstan_path(cmdstan_path)\n",
        "\n",
        "# Verify the installation\n",
        "cmdstanr::cmdstan_version()\n"
      ],
      "metadata": {
        "colab": {
          "base_uri": "https://localhost:8080/",
          "height": 263
        },
        "id": "QWIdvClbVP9g",
        "outputId": "63fa1f29-3d9a-4903-9e6d-e2fe6e83e220"
      },
      "execution_count": 9,
      "outputs": [
        {
          "output_type": "stream",
          "name": "stderr",
          "text": [
            "The C++ toolchain required for CmdStan is setup properly!\n",
            "\n",
            "* Latest CmdStan release is v2.35.0\n",
            "\n",
            "* Installing CmdStan v2.35.0 in /root/.cmdstan/cmdstan-2.35.0\n",
            "\n",
            "* Downloading cmdstan-2.35.0.tar.gz from GitHub...\n",
            "\n",
            "Warning message:\n",
            "“An installation already exists at /root/.cmdstan/cmdstan-2.35.0. Please remove or rename the installation folder or set overwrite=TRUE.”\n",
            "CmdStan path set to: /root/.cmdstan/cmdstan-2.35.0\n",
            "\n"
          ]
        },
        {
          "output_type": "display_data",
          "data": {
            "text/html": [
              "'2.35.0'"
            ],
            "text/markdown": "'2.35.0'",
            "text/latex": "'2.35.0'",
            "text/plain": [
              "[1] \"2.35.0\""
            ]
          },
          "metadata": {}
        }
      ]
    },
    {
      "cell_type": "code",
      "source": [
        "# Install necessary packages\n",
        "install.packages(c(\"coda\", \"mvtnorm\", \"devtools\", \"loo\", \"dagitty\", \"shape\"))\n",
        "\n",
        "# Load devtools for GitHub installation\n",
        "library(devtools)\n",
        "\n",
        "# Install rethinking from GitHub\n",
        "devtools::install_github(\"rmcelreath/rethinking\")\n"
      ],
      "metadata": {
        "colab": {
          "base_uri": "https://localhost:8080/"
        },
        "id": "rd9jkYG4WyyR",
        "outputId": "d0c99e2e-4d34-4082-93f8-1dacf9b0a148"
      },
      "execution_count": 10,
      "outputs": [
        {
          "output_type": "stream",
          "name": "stderr",
          "text": [
            "Installing packages into ‘/usr/local/lib/R/site-library’\n",
            "(as ‘lib’ is unspecified)\n",
            "\n",
            "Skipping install of 'rethinking' from a github remote, the SHA1 (ac1b3b2c) has not changed since last install.\n",
            "  Use `force = TRUE` to force installation\n",
            "\n"
          ]
        }
      ]
    },
    {
      "cell_type": "code",
      "source": [
        "library(rethinking)"
      ],
      "metadata": {
        "id": "76h8LgPcYq2E"
      },
      "execution_count": 11,
      "outputs": []
    },
    {
      "cell_type": "code",
      "source": [
        "# Test Installation\n",
        "\n",
        "## Simulate some data for a binary outcome based on a single predictor\n",
        "n <- 100\n",
        "x <- rnorm(n)\n",
        "prob <- 1 / (1 + exp(-x))\n",
        "y <- rbinom(n, 1, prob)\n",
        "\n",
        "## Fit a logistic regression using ulam\n",
        "fit <- ulam(\n",
        "  alist(\n",
        "    y ~ bernoulli( p ),\n",
        "    logit(p) <- a + b*x,\n",
        "    a ~ normal(0, 1),\n",
        "    b ~ normal(0, 1)\n",
        "  ), data = list(x = x, y = y)\n",
        ")\n",
        "\n",
        "precis(fit)"
      ],
      "metadata": {
        "colab": {
          "base_uri": "https://localhost:8080/",
          "height": 421
        },
        "id": "AK1-F_d0ZIFf",
        "outputId": "39b27a29-6095-4d30-edcb-fed83492cd70"
      },
      "execution_count": 12,
      "outputs": [
        {
          "output_type": "stream",
          "name": "stdout",
          "text": [
            "Running MCMC with 1 chain, with 1 thread(s) per chain...\n",
            "\n",
            "Chain 1 Iteration:   1 / 1000 [  0%]  (Warmup) \n",
            "Chain 1 Iteration: 100 / 1000 [ 10%]  (Warmup) \n",
            "Chain 1 Iteration: 200 / 1000 [ 20%]  (Warmup) \n",
            "Chain 1 Iteration: 300 / 1000 [ 30%]  (Warmup) \n",
            "Chain 1 Iteration: 400 / 1000 [ 40%]  (Warmup) \n",
            "Chain 1 Iteration: 500 / 1000 [ 50%]  (Warmup) \n",
            "Chain 1 Iteration: 501 / 1000 [ 50%]  (Sampling) \n",
            "Chain 1 Iteration: 600 / 1000 [ 60%]  (Sampling) \n",
            "Chain 1 Iteration: 700 / 1000 [ 70%]  (Sampling) \n",
            "Chain 1 Iteration: 800 / 1000 [ 80%]  (Sampling) \n",
            "Chain 1 Iteration: 900 / 1000 [ 90%]  (Sampling) \n",
            "Chain 1 Iteration: 1000 / 1000 [100%]  (Sampling) \n",
            "Chain 1 finished in 0.0 seconds.\n"
          ]
        },
        {
          "output_type": "display_data",
          "data": {
            "text/html": [
              "<table class=\"dataframe\">\n",
              "<caption>A precis: 2 × 6</caption>\n",
              "<thead>\n",
              "\t<tr><th></th><th scope=col>mean</th><th scope=col>sd</th><th scope=col>5.5%</th><th scope=col>94.5%</th><th scope=col>rhat</th><th scope=col>ess_bulk</th></tr>\n",
              "\t<tr><th></th><th scope=col>&lt;dbl&gt;</th><th scope=col>&lt;dbl&gt;</th><th scope=col>&lt;dbl&gt;</th><th scope=col>&lt;dbl&gt;</th><th scope=col>&lt;dbl&gt;</th><th scope=col>&lt;dbl&gt;</th></tr>\n",
              "</thead>\n",
              "<tbody>\n",
              "\t<tr><th scope=row>a</th><td>0.08172736</td><td>0.2236268</td><td>-0.2545433</td><td>0.435779</td><td>1.0057929</td><td>383.9144</td></tr>\n",
              "\t<tr><th scope=row>b</th><td>1.08440570</td><td>0.2613965</td><td> 0.6775849</td><td>1.486225</td><td>0.9992873</td><td>382.0373</td></tr>\n",
              "</tbody>\n",
              "</table>\n"
            ],
            "text/markdown": "\nA precis: 2 × 6\n\n| <!--/--> | mean &lt;dbl&gt; | sd &lt;dbl&gt; | 5.5% &lt;dbl&gt; | 94.5% &lt;dbl&gt; | rhat &lt;dbl&gt; | ess_bulk &lt;dbl&gt; |\n|---|---|---|---|---|---|---|\n| a | 0.08172736 | 0.2236268 | -0.2545433 | 0.435779 | 1.0057929 | 383.9144 |\n| b | 1.08440570 | 0.2613965 |  0.6775849 | 1.486225 | 0.9992873 | 382.0373 |\n\n",
            "text/latex": "A precis: 2 × 6\n\\begin{tabular}{r|llllll}\n  & mean & sd & 5.5\\% & 94.5\\% & rhat & ess\\_bulk\\\\\n  & <dbl> & <dbl> & <dbl> & <dbl> & <dbl> & <dbl>\\\\\n\\hline\n\ta & 0.08172736 & 0.2236268 & -0.2545433 & 0.435779 & 1.0057929 & 383.9144\\\\\n\tb & 1.08440570 & 0.2613965 &  0.6775849 & 1.486225 & 0.9992873 & 382.0373\\\\\n\\end{tabular}\n",
            "text/plain": [
              "  mean       sd        5.5%       94.5%    rhat      ess_bulk\n",
              "a 0.08172736 0.2236268 -0.2545433 0.435779 1.0057929 383.9144\n",
              "b 1.08440570 0.2613965  0.6775849 1.486225 0.9992873 382.0373"
            ]
          },
          "metadata": {}
        }
      ]
    },
    {
      "cell_type": "markdown",
      "source": [
        "# Chapter 13"
      ],
      "metadata": {
        "id": "1ZlXL1B2XGQm"
      }
    },
    {
      "cell_type": "markdown",
      "source": [
        "## Easy"
      ],
      "metadata": {
        "id": "hLV6g37DADVa"
      }
    },
    {
      "cell_type": "markdown",
      "source": [
        "### 13E1\n",
        "Which of the following priors will produce more *shrinkage* in the estimates?\n",
        "\n",
        "> (a) $\\alpha_{\\text{TANK}} \\sim \\text{Normal}(0,1)$\n",
        "\n",
        "> (b) $\\alpha_{\\text{TANK}} \\sim \\text{Normal}(0,2)$\n",
        "\n",
        "#### Answer\n",
        "\n",
        "\"Shrinkage\" describes the phenomenon wherein a (non-uniformly distributed) random effect *pulls* estimates closer together--towards the more probable values of the distribution for the random effects.\n",
        "\n",
        "Intuitively, the more restrictive prior ((a) $\\alpha_{\\text{TANK}} \\sim \\text{Normal}(0,1)$) will cause more shrinkage.  Let's look at this by modifying model `m13.2`."
      ],
      "metadata": {
        "id": "d0CU5ffVAFPn"
      }
    },
    {
      "cell_type": "code",
      "source": [
        "curve(dnorm(x,0,1), from=-3,to=3)\n",
        "curve(dnorm(x,0,2), from=-3,to=3, lty=2, add=TRUE)"
      ],
      "metadata": {
        "colab": {
          "base_uri": "https://localhost:8080/",
          "height": 437
        },
        "id": "I6Z5EqiZ4MW7",
        "outputId": "a25478b9-8c73-4fa9-9a81-f77350ab9d4d"
      },
      "execution_count": null,
      "outputs": [
        {
          "output_type": "display_data",
          "data": {
            "text/plain": [
              "plot without title"
            ],
            "image/png": "[encoded data removed]"
          },
          "metadata": {
            "image/png": {
              "width": 420,
              "height": 420
            }
          }
        }
      ]
    },
    {
      "cell_type": "code",
      "source": [
        "data(reedfrogs)\n",
        "d <- reedfrogs\n",
        "\n",
        "d$tank <- 1:nrow(d)\n",
        "dat <- list(S = d$surv,\n",
        "            N = d$density,\n",
        "            tank = d$tank)"
      ],
      "metadata": {
        "id": "jtF90MwkwBEw"
      },
      "execution_count": null,
      "outputs": []
    },
    {
      "cell_type": "code",
      "source": [
        "m13.2_1 <- ulam(\n",
        "  alist(\n",
        "    S ~ dbinom(N, p),\n",
        "      logit(p) <- a[tank],\n",
        "        a[tank] ~ dnorm(0,1)\n",
        "  ), data=dat,\n",
        "     chains=4,\n",
        "     log_lik=TRUE)\n",
        "\n",
        "m13.2_2 <- ulam(\n",
        "  alist(\n",
        "    S ~ dbinom(N, p),\n",
        "      logit(p) <- a[tank],\n",
        "        a[tank] ~ dnorm(0,2)\n",
        "  ), data=dat,\n",
        "     chains=4,\n",
        "     log_lik=TRUE)"
      ],
      "metadata": {
        "colab": {
          "base_uri": "https://localhost:8080/"
        },
        "id": "Nmxbkz2nwQkR",
        "outputId": "531fc9fd-4e5b-4e6e-dd40-54108478b8f3"
      },
      "execution_count": null,
      "outputs": [
        {
          "output_type": "stream",
          "name": "stdout",
          "text": [
            "Running MCMC with 4 sequential chains, with 1 thread(s) per chain...\n",
            "\n",
            "Chain 1 Iteration:   1 / 1000 [  0%]  (Warmup) \n",
            "Chain 1 Iteration: 100 / 1000 [ 10%]  (Warmup) \n",
            "Chain 1 Iteration: 200 / 1000 [ 20%]  (Warmup) \n",
            "Chain 1 Iteration: 300 / 1000 [ 30%]  (Warmup) \n",
            "Chain 1 Iteration: 400 / 1000 [ 40%]  (Warmup) \n",
            "Chain 1 Iteration: 500 / 1000 [ 50%]  (Warmup) \n",
            "Chain 1 Iteration: 501 / 1000 [ 50%]  (Sampling) \n",
            "Chain 1 Iteration: 600 / 1000 [ 60%]  (Sampling) \n",
            "Chain 1 Iteration: 700 / 1000 [ 70%]  (Sampling) \n",
            "Chain 1 Iteration: 800 / 1000 [ 80%]  (Sampling) \n",
            "Chain 1 Iteration: 900 / 1000 [ 90%]  (Sampling) \n",
            "Chain 1 Iteration: 1000 / 1000 [100%]  (Sampling) \n",
            "Chain 1 finished in 0.2 seconds.\n",
            "Chain 2 Iteration:   1 / 1000 [  0%]  (Warmup) \n",
            "Chain 2 Iteration: 100 / 1000 [ 10%]  (Warmup) \n",
            "Chain 2 Iteration: 200 / 1000 [ 20%]  (Warmup) \n",
            "Chain 2 Iteration: 300 / 1000 [ 30%]  (Warmup) \n",
            "Chain 2 Iteration: 400 / 1000 [ 40%]  (Warmup) \n",
            "Chain 2 Iteration: 500 / 1000 [ 50%]  (Warmup) \n",
            "Chain 2 Iteration: 501 / 1000 [ 50%]  (Sampling) \n",
            "Chain 2 Iteration: 600 / 1000 [ 60%]  (Sampling) \n",
            "Chain 2 Iteration: 700 / 1000 [ 70%]  (Sampling) \n",
            "Chain 2 Iteration: 800 / 1000 [ 80%]  (Sampling) \n",
            "Chain 2 Iteration: 900 / 1000 [ 90%]  (Sampling) \n",
            "Chain 2 Iteration: 1000 / 1000 [100%]  (Sampling) \n",
            "Chain 2 finished in 0.2 seconds.\n",
            "Chain 3 Iteration:   1 / 1000 [  0%]  (Warmup) \n",
            "Chain 3 Iteration: 100 / 1000 [ 10%]  (Warmup) \n",
            "Chain 3 Iteration: 200 / 1000 [ 20%]  (Warmup) \n",
            "Chain 3 Iteration: 300 / 1000 [ 30%]  (Warmup) \n",
            "Chain 3 Iteration: 400 / 1000 [ 40%]  (Warmup) \n",
            "Chain 3 Iteration: 500 / 1000 [ 50%]  (Warmup) \n",
            "Chain 3 Iteration: 501 / 1000 [ 50%]  (Sampling) \n",
            "Chain 3 Iteration: 600 / 1000 [ 60%]  (Sampling) \n",
            "Chain 3 Iteration: 700 / 1000 [ 70%]  (Sampling) \n",
            "Chain 3 Iteration: 800 / 1000 [ 80%]  (Sampling) \n",
            "Chain 3 Iteration: 900 / 1000 [ 90%]  (Sampling) \n",
            "Chain 3 Iteration: 1000 / 1000 [100%]  (Sampling) \n",
            "Chain 3 finished in 0.2 seconds.\n",
            "Chain 4 Iteration:   1 / 1000 [  0%]  (Warmup) \n",
            "Chain 4 Iteration: 100 / 1000 [ 10%]  (Warmup) \n",
            "Chain 4 Iteration: 200 / 1000 [ 20%]  (Warmup) \n",
            "Chain 4 Iteration: 300 / 1000 [ 30%]  (Warmup) \n",
            "Chain 4 Iteration: 400 / 1000 [ 40%]  (Warmup) \n",
            "Chain 4 Iteration: 500 / 1000 [ 50%]  (Warmup) \n",
            "Chain 4 Iteration: 501 / 1000 [ 50%]  (Sampling) \n",
            "Chain 4 Iteration: 600 / 1000 [ 60%]  (Sampling) \n",
            "Chain 4 Iteration: 700 / 1000 [ 70%]  (Sampling) \n",
            "Chain 4 Iteration: 800 / 1000 [ 80%]  (Sampling) \n",
            "Chain 4 Iteration: 900 / 1000 [ 90%]  (Sampling) \n",
            "Chain 4 Iteration: 1000 / 1000 [100%]  (Sampling) \n",
            "Chain 4 finished in 0.2 seconds.\n",
            "\n",
            "All 4 chains finished successfully.\n",
            "Mean chain execution time: 0.2 seconds.\n",
            "Total execution time: 1.0 seconds.\n",
            "\n",
            "Running MCMC with 4 sequential chains, with 1 thread(s) per chain...\n",
            "\n",
            "Chain 1 Iteration:   1 / 1000 [  0%]  (Warmup) \n",
            "Chain 1 Iteration: 100 / 1000 [ 10%]  (Warmup) \n",
            "Chain 1 Iteration: 200 / 1000 [ 20%]  (Warmup) \n",
            "Chain 1 Iteration: 300 / 1000 [ 30%]  (Warmup) \n",
            "Chain 1 Iteration: 400 / 1000 [ 40%]  (Warmup) \n",
            "Chain 1 Iteration: 500 / 1000 [ 50%]  (Warmup) \n",
            "Chain 1 Iteration: 501 / 1000 [ 50%]  (Sampling) \n",
            "Chain 1 Iteration: 600 / 1000 [ 60%]  (Sampling) \n",
            "Chain 1 Iteration: 700 / 1000 [ 70%]  (Sampling) \n",
            "Chain 1 Iteration: 800 / 1000 [ 80%]  (Sampling) \n",
            "Chain 1 Iteration: 900 / 1000 [ 90%]  (Sampling) \n",
            "Chain 1 Iteration: 1000 / 1000 [100%]  (Sampling) \n",
            "Chain 1 finished in 0.2 seconds.\n",
            "Chain 2 Iteration:   1 / 1000 [  0%]  (Warmup) \n",
            "Chain 2 Iteration: 100 / 1000 [ 10%]  (Warmup) \n",
            "Chain 2 Iteration: 200 / 1000 [ 20%]  (Warmup) \n",
            "Chain 2 Iteration: 300 / 1000 [ 30%]  (Warmup) \n",
            "Chain 2 Iteration: 400 / 1000 [ 40%]  (Warmup) \n",
            "Chain 2 Iteration: 500 / 1000 [ 50%]  (Warmup) \n",
            "Chain 2 Iteration: 501 / 1000 [ 50%]  (Sampling) \n",
            "Chain 2 Iteration: 600 / 1000 [ 60%]  (Sampling) \n",
            "Chain 2 Iteration: 700 / 1000 [ 70%]  (Sampling) \n",
            "Chain 2 Iteration: 800 / 1000 [ 80%]  (Sampling) \n",
            "Chain 2 Iteration: 900 / 1000 [ 90%]  (Sampling) \n",
            "Chain 2 Iteration: 1000 / 1000 [100%]  (Sampling) \n",
            "Chain 2 finished in 0.2 seconds.\n",
            "Chain 3 Iteration:   1 / 1000 [  0%]  (Warmup) \n",
            "Chain 3 Iteration: 100 / 1000 [ 10%]  (Warmup) \n",
            "Chain 3 Iteration: 200 / 1000 [ 20%]  (Warmup) \n",
            "Chain 3 Iteration: 300 / 1000 [ 30%]  (Warmup) \n",
            "Chain 3 Iteration: 400 / 1000 [ 40%]  (Warmup) \n",
            "Chain 3 Iteration: 500 / 1000 [ 50%]  (Warmup) \n",
            "Chain 3 Iteration: 501 / 1000 [ 50%]  (Sampling) \n",
            "Chain 3 Iteration: 600 / 1000 [ 60%]  (Sampling) \n",
            "Chain 3 Iteration: 700 / 1000 [ 70%]  (Sampling) \n",
            "Chain 3 Iteration: 800 / 1000 [ 80%]  (Sampling) \n",
            "Chain 3 Iteration: 900 / 1000 [ 90%]  (Sampling) \n",
            "Chain 3 Iteration: 1000 / 1000 [100%]  (Sampling) \n",
            "Chain 3 finished in 0.2 seconds.\n",
            "Chain 4 Iteration:   1 / 1000 [  0%]  (Warmup) \n",
            "Chain 4 Iteration: 100 / 1000 [ 10%]  (Warmup) \n",
            "Chain 4 Iteration: 200 / 1000 [ 20%]  (Warmup) \n",
            "Chain 4 Iteration: 300 / 1000 [ 30%]  (Warmup) \n",
            "Chain 4 Iteration: 400 / 1000 [ 40%]  (Warmup) \n",
            "Chain 4 Iteration: 500 / 1000 [ 50%]  (Warmup) \n",
            "Chain 4 Iteration: 501 / 1000 [ 50%]  (Sampling) \n",
            "Chain 4 Iteration: 600 / 1000 [ 60%]  (Sampling) \n",
            "Chain 4 Iteration: 700 / 1000 [ 70%]  (Sampling) \n",
            "Chain 4 Iteration: 800 / 1000 [ 80%]  (Sampling) \n",
            "Chain 4 Iteration: 900 / 1000 [ 90%]  (Sampling) \n",
            "Chain 4 Iteration: 1000 / 1000 [100%]  (Sampling) \n",
            "Chain 4 finished in 0.2 seconds.\n",
            "\n",
            "All 4 chains finished successfully.\n",
            "Mean chain execution time: 0.2 seconds.\n",
            "Total execution time: 1.0 seconds.\n",
            "\n"
          ]
        }
      ]
    },
    {
      "cell_type": "code",
      "source": [
        "post_1 <- extract.samples(m13.2_1)\n",
        "post_2 <- extract.samples(m13.2_2)\n",
        "\n",
        "par(mfrow=c(1,2))\n",
        "\n",
        "d$propsurv.est_1 <- logistic(apply(post_1$a, 2, mean))\n",
        "plot(d$propsurv, ylim=c(0,1), pch=16, xaxt=\"n\",  xlab=\"tank\", ylab=\"proportion survival\", col=rangi2)\n",
        "axis( 1, at=c(1,16,32,48), labels=c(1,16,32,48))\n",
        "points( d$propsurv.est_1)\n",
        "abline(h=inv_logit(mean(colMeans(post_1$a))), lty=2)\n",
        "abline( v=16.5, lwd=0.5)\n",
        "abline( v=32.5, lwd=0.5)\n",
        "text( 8, 0, \"small tanks\")\n",
        "text( 16+8, 0, \"medium tanks\")\n",
        "text( 32+8, 0, \"large tanks\")\n",
        "\n",
        "d$propsurv.est_2 <- logistic(apply(post_2$a, 2, mean))\n",
        "plot(d$propsurv, ylim=c(0,1), pch=16, xaxt=\"n\",  xlab=\"tank\", ylab=\"proportion survival\", col=rangi2)\n",
        "axis( 1, at=c(1,16,32,48), labels=c(1,16,32,48))\n",
        "points( d$propsurv.est_2)\n",
        "abline(h=inv_logit(mean(colMeans(post_2$a))), lty=2)\n",
        "abline( v=16.5, lwd=0.5)\n",
        "abline( v=32.5, lwd=0.5)\n",
        "text( 8, 0, \"small tanks\")\n",
        "text( 16+8, 0, \"medium tanks\")\n",
        "text( 32+8, 0, \"large tanks\")"
      ],
      "metadata": {
        "colab": {
          "base_uri": "https://localhost:8080/",
          "height": 437
        },
        "id": "HD6fKJzZw90t",
        "outputId": "08defccb-eed8-4bbe-92d9-9cea95cc4333"
      },
      "execution_count": null,
      "outputs": [
        {
          "output_type": "display_data",
          "data": {
            "text/plain": [
              "plot without title"
            ],
            "image/png": "[encoded data removed]"
          },
          "metadata": {
            "image/png": {
              "width": 420,
              "height": 420
            }
          }
        }
      ]
    },
    {
      "cell_type": "markdown",
      "source": [
        "Remember from the chapter that the blue dots are the actual data and the black circles are hte estimates of the *shrunken* model.  So the shrinkage can be seen by the distance between vertically corresponding blue dots and black circles.\n",
        "\n",
        "We can also plot the accumulating difference between the empirical data and the shrunk estimates for the two priors, and take this sum."
      ],
      "metadata": {
        "id": "L9IYjnF-0wuV"
      }
    },
    {
      "cell_type": "code",
      "source": [
        "plot(cumsum(abs(d$propsurv.est_1 - (d$surv/d$density))), type=\"l\", ylim=c(0,3))\n",
        "lines(cumsum(abs(d$propsurv.est_2 - (d$surv/d$density))), col=\"red\", lty=2)\n",
        "\n",
        "sum(abs(d$propsurv.est_1 - (d$surv/d$density)))\n",
        "sum(abs(d$propsurv.est_2 - (d$surv/d$density)))"
      ],
      "metadata": {
        "colab": {
          "base_uri": "https://localhost:8080/",
          "height": 472
        },
        "id": "x1_Q_jnj1Gqe",
        "outputId": "4d0ac61a-f93f-4636-cb23-e95607525509"
      },
      "execution_count": null,
      "outputs": [
        {
          "output_type": "display_data",
          "data": {
            "text/html": [
              "2.68536976422323"
            ],
            "text/markdown": "2.68536976422323",
            "text/latex": "2.68536976422323",
            "text/plain": [
              "[1] 2.68537"
            ]
          },
          "metadata": {}
        },
        {
          "output_type": "display_data",
          "data": {
            "text/html": [
              "0.49449000893605"
            ],
            "text/markdown": "0.49449000893605",
            "text/latex": "0.49449000893605",
            "text/plain": [
              "[1] 0.49449"
            ]
          },
          "metadata": {}
        },
        {
          "output_type": "display_data",
          "data": {
            "text/plain": [
              "plot without title"
            ],
            "image/png": "[encoded data removed]"
          },
          "metadata": {
            "image/png": {
              "width": 420,
              "height": 420
            }
          }
        }
      ]
    },
    {
      "cell_type": "markdown",
      "source": [
        "### 13E2\n",
        "\n",
        "Rewrite the following model as a multilevel model.\n",
        "\n",
        "$$y_i \\sim \\text{Binomial}(1, p_i)$$\n",
        "$$\\text{logit}(p_i) = \\alpha_{\\text{Group}_i} + \\beta x_i$$\n",
        "$$\\alpha_{\\text{Group}_i} \\sim \\text{Normal}(0, 1.5)$$\n",
        "$$\\beta \\sim \\text{Normal}(0, 0.5)$$\n",
        "\n",
        "#### Answer\n",
        "$$y_i \\sim \\text{Binomial}(1, p_i)$$\n",
        "$$\\text{logit}(p_i) = \\alpha_{\\text{Group}_i} + \\beta x_i$$\n",
        "$$\\alpha_{\\text{Group}_i} \\sim \\text{Normal}(\\bar{\\alpha}, \\sigma_{\\alpha})$$\n",
        "$$\\beta \\sim \\text{Normal}(0, 0.5)$$\n",
        "$$\\bar{\\alpha} \\sim \\text{Normal}(0,1)$$\n",
        "$$\\sigma_{\\alpha} \\sim \\text{Exponential}(0.66)$$\n",
        "\n",
        "Just for kicks, let's look at the prior distribution of the mean for these models."
      ],
      "metadata": {
        "id": "i1lOJOlHiY79"
      }
    },
    {
      "cell_type": "code",
      "source": [
        "dlist <- list(\"x\" = rnorm(n=10, mean=0, sd=1),\n",
        "              \"y\" = rbinom(n=10, size=1, prob=0.1 ),\n",
        "              \"group\" = c(1,1,1,1,1,2,2,2,2,2))"
      ],
      "metadata": {
        "id": "iYMx65gUk0ZH"
      },
      "execution_count": null,
      "outputs": []
    },
    {
      "cell_type": "code",
      "source": [
        "m <- ulam(\n",
        "  alist(\n",
        "    y ~ dbinom(1, p),\n",
        "      logit(p) <- a[group] + b*x,\n",
        "        a[group] ~ dnorm(0, 1.5),\n",
        "        b ~ dnorm(0, 0.5)\n",
        "  ), data=dlist, chains=4, cores=4, iter=1000\n",
        ")"
      ],
      "metadata": {
        "colab": {
          "base_uri": "https://localhost:8080/"
        },
        "id": "hVIXQkXKlENZ",
        "outputId": "ec793f7c-dbfa-4f0e-e9a3-0dadec75a7a9"
      },
      "execution_count": null,
      "outputs": [
        {
          "output_type": "stream",
          "name": "stdout",
          "text": [
            "Running MCMC with 4 parallel chains, with 1 thread(s) per chain...\n",
            "\n",
            "Chain 1 Iteration:   1 / 1000 [  0%]  (Warmup) \n",
            "Chain 1 Iteration: 100 / 1000 [ 10%]  (Warmup) \n",
            "Chain 1 Iteration: 200 / 1000 [ 20%]  (Warmup) \n",
            "Chain 1 Iteration: 300 / 1000 [ 30%]  (Warmup) \n",
            "Chain 1 Iteration: 400 / 1000 [ 40%]  (Warmup) \n",
            "Chain 1 Iteration: 500 / 1000 [ 50%]  (Warmup) \n",
            "Chain 1 Iteration: 501 / 1000 [ 50%]  (Sampling) \n",
            "Chain 1 Iteration: 600 / 1000 [ 60%]  (Sampling) \n",
            "Chain 1 Iteration: 700 / 1000 [ 70%]  (Sampling) \n",
            "Chain 1 Iteration: 800 / 1000 [ 80%]  (Sampling) \n",
            "Chain 1 Iteration: 900 / 1000 [ 90%]  (Sampling) \n",
            "Chain 1 Iteration: 1000 / 1000 [100%]  (Sampling) \n",
            "Chain 2 Iteration:   1 / 1000 [  0%]  (Warmup) \n",
            "Chain 2 Iteration: 100 / 1000 [ 10%]  (Warmup) \n",
            "Chain 2 Iteration: 200 / 1000 [ 20%]  (Warmup) \n",
            "Chain 2 Iteration: 300 / 1000 [ 30%]  (Warmup) \n",
            "Chain 2 Iteration: 400 / 1000 [ 40%]  (Warmup) \n",
            "Chain 2 Iteration: 500 / 1000 [ 50%]  (Warmup) \n",
            "Chain 2 Iteration: 501 / 1000 [ 50%]  (Sampling) \n",
            "Chain 2 Iteration: 600 / 1000 [ 60%]  (Sampling) \n",
            "Chain 2 Iteration: 700 / 1000 [ 70%]  (Sampling) \n",
            "Chain 2 Iteration: 800 / 1000 [ 80%]  (Sampling) \n",
            "Chain 2 Iteration: 900 / 1000 [ 90%]  (Sampling) \n",
            "Chain 2 Iteration: 1000 / 1000 [100%]  (Sampling) \n",
            "Chain 3 Iteration:   1 / 1000 [  0%]  (Warmup) \n",
            "Chain 3 Iteration: 100 / 1000 [ 10%]  (Warmup) \n",
            "Chain 3 Iteration: 200 / 1000 [ 20%]  (Warmup) \n",
            "Chain 3 Iteration: 300 / 1000 [ 30%]  (Warmup) \n",
            "Chain 3 Iteration: 400 / 1000 [ 40%]  (Warmup) \n",
            "Chain 3 Iteration: 500 / 1000 [ 50%]  (Warmup) \n",
            "Chain 3 Iteration: 501 / 1000 [ 50%]  (Sampling) \n",
            "Chain 3 Iteration: 600 / 1000 [ 60%]  (Sampling) \n",
            "Chain 3 Iteration: 700 / 1000 [ 70%]  (Sampling) \n",
            "Chain 3 Iteration: 800 / 1000 [ 80%]  (Sampling) \n",
            "Chain 3 Iteration: 900 / 1000 [ 90%]  (Sampling) \n",
            "Chain 3 Iteration: 1000 / 1000 [100%]  (Sampling) \n",
            "Chain 4 Iteration:   1 / 1000 [  0%]  (Warmup) \n",
            "Chain 4 Iteration: 100 / 1000 [ 10%]  (Warmup) \n",
            "Chain 4 Iteration: 200 / 1000 [ 20%]  (Warmup) \n",
            "Chain 4 Iteration: 300 / 1000 [ 30%]  (Warmup) \n",
            "Chain 4 Iteration: 400 / 1000 [ 40%]  (Warmup) \n",
            "Chain 4 Iteration: 500 / 1000 [ 50%]  (Warmup) \n",
            "Chain 4 Iteration: 501 / 1000 [ 50%]  (Sampling) \n",
            "Chain 4 Iteration: 600 / 1000 [ 60%]  (Sampling) \n",
            "Chain 4 Iteration: 700 / 1000 [ 70%]  (Sampling) \n",
            "Chain 4 Iteration: 800 / 1000 [ 80%]  (Sampling) \n",
            "Chain 4 Iteration: 900 / 1000 [ 90%]  (Sampling) \n",
            "Chain 4 Iteration: 1000 / 1000 [100%]  (Sampling) \n",
            "Chain 1 finished in 0.0 seconds.\n",
            "Chain 2 finished in 0.0 seconds.\n",
            "Chain 3 finished in 0.0 seconds.\n",
            "Chain 4 finished in 0.0 seconds.\n",
            "\n",
            "All 4 chains finished successfully.\n",
            "Mean chain execution time: 0.0 seconds.\n",
            "Total execution time: 0.2 seconds.\n",
            "\n"
          ]
        }
      ]
    },
    {
      "cell_type": "code",
      "source": [
        "mm <- ulam(\n",
        "  alist(\n",
        "    y ~ dbinom(1, p),\n",
        "      logit(p) <- a[group] + b*x,\n",
        "        a[group] ~ dnorm(abar, sigma_a),\n",
        "          abar ~ dnorm(0,1),\n",
        "          sigma_a ~ dexp(0.66),\n",
        "        b ~ dnorm(0, 0.5)\n",
        "  ), data=dlist, chains=4, cores=4, iter=1000\n",
        ")"
      ],
      "metadata": {
        "colab": {
          "base_uri": "https://localhost:8080/"
        },
        "id": "U_BwJARSoGjY",
        "outputId": "8d02cd1b-cf07-4ba3-a2bd-1f31a7feaddb"
      },
      "execution_count": null,
      "outputs": [
        {
          "output_type": "stream",
          "name": "stdout",
          "text": [
            "Running MCMC with 4 parallel chains, with 1 thread(s) per chain...\n",
            "\n",
            "Chain 1 Iteration:   1 / 1000 [  0%]  (Warmup) \n",
            "Chain 1 Iteration: 100 / 1000 [ 10%]  (Warmup) \n",
            "Chain 1 Iteration: 200 / 1000 [ 20%]  (Warmup) \n",
            "Chain 1 Iteration: 300 / 1000 [ 30%]  (Warmup) \n",
            "Chain 1 Iteration: 400 / 1000 [ 40%]  (Warmup) \n",
            "Chain 1 Iteration: 500 / 1000 [ 50%]  (Warmup) \n",
            "Chain 1 Iteration: 501 / 1000 [ 50%]  (Sampling) \n",
            "Chain 1 Iteration: 600 / 1000 [ 60%]  (Sampling) \n",
            "Chain 1 Iteration: 700 / 1000 [ 70%]  (Sampling) \n",
            "Chain 1 Iteration: 800 / 1000 [ 80%]  (Sampling) \n",
            "Chain 1 Iteration: 900 / 1000 [ 90%]  (Sampling) \n",
            "Chain 2 Iteration:   1 / 1000 [  0%]  (Warmup) \n",
            "Chain 2 Iteration: 100 / 1000 [ 10%]  (Warmup) \n",
            "Chain 2 Iteration: 200 / 1000 [ 20%]  (Warmup) \n",
            "Chain 2 Iteration: 300 / 1000 [ 30%]  (Warmup) \n",
            "Chain 2 Iteration: 400 / 1000 [ 40%]  (Warmup) \n",
            "Chain 2 Iteration: 500 / 1000 [ 50%]  (Warmup) \n",
            "Chain 2 Iteration: 501 / 1000 [ 50%]  (Sampling) \n",
            "Chain 3 Iteration:   1 / 1000 [  0%]  (Warmup) \n",
            "Chain 3 Iteration: 100 / 1000 [ 10%]  (Warmup) \n",
            "Chain 3 Iteration: 200 / 1000 [ 20%]  (Warmup) \n",
            "Chain 3 Iteration: 300 / 1000 [ 30%]  (Warmup) \n",
            "Chain 3 Iteration: 400 / 1000 [ 40%]  (Warmup) \n",
            "Chain 3 Iteration: 500 / 1000 [ 50%]  (Warmup) \n",
            "Chain 3 Iteration: 501 / 1000 [ 50%]  (Sampling) \n",
            "Chain 3 Iteration: 600 / 1000 [ 60%]  (Sampling) \n",
            "Chain 3 Iteration: 700 / 1000 [ 70%]  (Sampling) \n",
            "Chain 3 Iteration: 800 / 1000 [ 80%]  (Sampling) \n",
            "Chain 3 Iteration: 900 / 1000 [ 90%]  (Sampling) \n",
            "Chain 3 Iteration: 1000 / 1000 [100%]  (Sampling) \n",
            "Chain 4 Iteration:   1 / 1000 [  0%]  (Warmup) \n",
            "Chain 4 Iteration: 100 / 1000 [ 10%]  (Warmup) \n",
            "Chain 4 Iteration: 200 / 1000 [ 20%]  (Warmup) \n",
            "Chain 4 Iteration: 300 / 1000 [ 30%]  (Warmup) \n",
            "Chain 4 Iteration: 400 / 1000 [ 40%]  (Warmup) \n",
            "Chain 4 Iteration: 500 / 1000 [ 50%]  (Warmup) \n",
            "Chain 4 Iteration: 501 / 1000 [ 50%]  (Sampling) \n",
            "Chain 4 Iteration: 600 / 1000 [ 60%]  (Sampling) \n",
            "Chain 4 Iteration: 700 / 1000 [ 70%]  (Sampling) \n",
            "Chain 4 Iteration: 800 / 1000 [ 80%]  (Sampling) \n",
            "Chain 1 Iteration: 1000 / 1000 [100%]  (Sampling) \n",
            "Chain 1 finished in 0.2 seconds.\n",
            "Chain 2 Iteration: 600 / 1000 [ 60%]  (Sampling) \n",
            "Chain 2 Iteration: 700 / 1000 [ 70%]  (Sampling) \n",
            "Chain 2 Iteration: 800 / 1000 [ 80%]  (Sampling) \n",
            "Chain 2 Iteration: 900 / 1000 [ 90%]  (Sampling) \n",
            "Chain 2 Iteration: 1000 / 1000 [100%]  (Sampling) \n",
            "Chain 2 finished in 0.3 seconds.\n",
            "Chain 3 finished in 0.2 seconds.\n",
            "Chain 4 Iteration: 900 / 1000 [ 90%]  (Sampling) \n",
            "Chain 4 Iteration: 1000 / 1000 [100%]  (Sampling) \n",
            "Chain 4 finished in 0.2 seconds.\n",
            "\n",
            "All 4 chains finished successfully.\n",
            "Mean chain execution time: 0.2 seconds.\n",
            "Total execution time: 0.4 seconds.\n",
            "\n"
          ]
        },
        {
          "output_type": "stream",
          "name": "stderr",
          "text": [
            "Warning: 20 of 2000 (1.0%) transitions ended with a divergence.\n",
            "See https://mc-stan.org/misc/warnings for details.\n",
            "\n",
            "\n"
          ]
        }
      ]
    },
    {
      "cell_type": "code",
      "source": [
        "m_prior <- extract.prior(m)"
      ],
      "metadata": {
        "colab": {
          "base_uri": "https://localhost:8080/"
        },
        "id": "PBmhWmm5nXLO",
        "outputId": "0f157053-d0b8-4584-eeaa-87aa9bf07c43"
      },
      "execution_count": null,
      "outputs": [
        {
          "output_type": "stream",
          "name": "stdout",
          "text": [
            "Running MCMC with 1 chain, with 1 thread(s) per chain...\n",
            "\n",
            "Chain 1 Iteration:    1 / 2000 [  0%]  (Warmup) \n",
            "Chain 1 Iteration:  100 / 2000 [  5%]  (Warmup) \n",
            "Chain 1 Iteration:  200 / 2000 [ 10%]  (Warmup) \n",
            "Chain 1 Iteration:  300 / 2000 [ 15%]  (Warmup) \n",
            "Chain 1 Iteration:  400 / 2000 [ 20%]  (Warmup) \n",
            "Chain 1 Iteration:  500 / 2000 [ 25%]  (Warmup) \n",
            "Chain 1 Iteration:  600 / 2000 [ 30%]  (Warmup) \n",
            "Chain 1 Iteration:  700 / 2000 [ 35%]  (Warmup) \n",
            "Chain 1 Iteration:  800 / 2000 [ 40%]  (Warmup) \n",
            "Chain 1 Iteration:  900 / 2000 [ 45%]  (Warmup) \n",
            "Chain 1 Iteration: 1000 / 2000 [ 50%]  (Warmup) \n",
            "Chain 1 Iteration: 1001 / 2000 [ 50%]  (Sampling) \n",
            "Chain 1 Iteration: 1100 / 2000 [ 55%]  (Sampling) \n",
            "Chain 1 Iteration: 1200 / 2000 [ 60%]  (Sampling) \n",
            "Chain 1 Iteration: 1300 / 2000 [ 65%]  (Sampling) \n",
            "Chain 1 Iteration: 1400 / 2000 [ 70%]  (Sampling) \n",
            "Chain 1 Iteration: 1500 / 2000 [ 75%]  (Sampling) \n",
            "Chain 1 Iteration: 1600 / 2000 [ 80%]  (Sampling) \n",
            "Chain 1 Iteration: 1700 / 2000 [ 85%]  (Sampling) \n",
            "Chain 1 Iteration: 1800 / 2000 [ 90%]  (Sampling) \n",
            "Chain 1 Iteration: 1900 / 2000 [ 95%]  (Sampling) \n",
            "Chain 1 Iteration: 2000 / 2000 [100%]  (Sampling) \n",
            "Chain 1 finished in 0.0 seconds.\n"
          ]
        }
      ]
    },
    {
      "cell_type": "code",
      "source": [
        "mm_prior <- extract.prior(mm)"
      ],
      "metadata": {
        "colab": {
          "base_uri": "https://localhost:8080/"
        },
        "id": "nUCPO3tDo16S",
        "outputId": "9acaecab-4b80-4a56-efd1-1a9328e54d7a"
      },
      "execution_count": null,
      "outputs": [
        {
          "output_type": "stream",
          "name": "stdout",
          "text": [
            "Running MCMC with 1 chain, with 1 thread(s) per chain...\n",
            "\n",
            "Chain 1 Iteration:    1 / 2000 [  0%]  (Warmup) \n",
            "Chain 1 Iteration:  100 / 2000 [  5%]  (Warmup) \n",
            "Chain 1 Iteration:  200 / 2000 [ 10%]  (Warmup) \n",
            "Chain 1 Iteration:  300 / 2000 [ 15%]  (Warmup) \n",
            "Chain 1 Iteration:  400 / 2000 [ 20%]  (Warmup) \n",
            "Chain 1 Iteration:  500 / 2000 [ 25%]  (Warmup) \n",
            "Chain 1 Iteration:  600 / 2000 [ 30%]  (Warmup) \n",
            "Chain 1 Iteration:  700 / 2000 [ 35%]  (Warmup) \n",
            "Chain 1 Iteration:  800 / 2000 [ 40%]  (Warmup) \n",
            "Chain 1 Iteration:  900 / 2000 [ 45%]  (Warmup) \n",
            "Chain 1 Iteration: 1000 / 2000 [ 50%]  (Warmup) \n",
            "Chain 1 Iteration: 1001 / 2000 [ 50%]  (Sampling) \n",
            "Chain 1 Iteration: 1100 / 2000 [ 55%]  (Sampling) \n",
            "Chain 1 Iteration: 1200 / 2000 [ 60%]  (Sampling) \n",
            "Chain 1 Iteration: 1300 / 2000 [ 65%]  (Sampling) \n",
            "Chain 1 Iteration: 1400 / 2000 [ 70%]  (Sampling) \n",
            "Chain 1 Iteration: 1500 / 2000 [ 75%]  (Sampling) \n",
            "Chain 1 Iteration: 1600 / 2000 [ 80%]  (Sampling) \n",
            "Chain 1 Iteration: 1700 / 2000 [ 85%]  (Sampling) \n",
            "Chain 1 Iteration: 1800 / 2000 [ 90%]  (Sampling) \n",
            "Chain 1 Iteration: 1900 / 2000 [ 95%]  (Sampling) \n",
            "Chain 1 Iteration: 2000 / 2000 [100%]  (Sampling) \n",
            "Chain 1 finished in 0.2 seconds.\n"
          ]
        },
        {
          "output_type": "stream",
          "name": "stderr",
          "text": [
            "Warning: 20 of 1000 (2.0%) transitions ended with a divergence.\n",
            "See https://mc-stan.org/misc/warnings for details.\n",
            "\n",
            "\n"
          ]
        }
      ]
    },
    {
      "cell_type": "code",
      "source": [
        "xseq <- seq(from=-3, to=3, length.out=100)\n",
        "\n",
        "m_y1 <- matrix(data=NA, nrow=1000, ncol=length(xseq))\n",
        "m_y2 <- matrix(data=NA, nrow=1000, ncol=length(xseq))\n",
        "mm_y1 <- matrix(data=NA, nrow=1000, ncol=length(xseq))\n",
        "mm_y2 <- matrix(data=NA, nrow=1000, ncol=length(xseq))\n",
        "for(i in 1:length(xseq)){\n",
        "  m_y1[,i] <- inv_logit(m_prior$a[,1] + m_prior$b*xseq[i])\n",
        "  m_y2[,i] <- inv_logit(m_prior$a[,2] + m_prior$b*xseq[i])\n",
        "\n",
        "  mm_y1[,i] <- inv_logit(mm_prior$a[,1] + mm_prior$b*xseq[i])\n",
        "  mm_y2[,i] <- inv_logit(mm_prior$a[,2] + mm_prior$b*xseq[i])\n",
        "}\n",
        "\n",
        "m_y1_mean <- colMeans(m_y1)\n",
        "m_y1_PI <- apply(m_y1, 2, PI)\n",
        "m_y2_mean <- colMeans(m_y2)\n",
        "m_y2_PI <- apply(m_y2, 2, PI)\n",
        "\n",
        "mm_y1_mean <- colMeans(mm_y1)\n",
        "mm_y1_PI <- apply(mm_y1, 2, PI)\n",
        "mm_y2_mean <- colMeans(mm_y2)\n",
        "mm_y2_PI <- apply(mm_y2, 2, PI)"
      ],
      "metadata": {
        "id": "x8E0nqHdpyYq"
      },
      "execution_count": null,
      "outputs": []
    },
    {
      "cell_type": "code",
      "source": [
        "plot(m_y1_mean ~ xseq, type=\"l\", ylim=c(0, 1), col=\"blue\")\n",
        "lines(m_y2_mean ~ xseq, lty=2, col=\"blue\")\n",
        "shade(m_y1_PI, xseq, col=col.alpha(\"blue\", 0.1))\n",
        "shade(m_y2_PI, xseq, col=col.alpha(\"blue\", 0.1))\n",
        "\n",
        "lines(mm_y1_mean ~ xseq, col=\"red\")\n",
        "lines(mm_y2_mean ~ xseq, lty=2, col=\"red\")\n",
        "shade(mm_y1_PI, xseq, col=col.alpha(\"red\", 0.1))\n",
        "shade(mm_y2_PI, xseq, col=col.alpha(\"red\", 0.1))"
      ],
      "metadata": {
        "colab": {
          "base_uri": "https://localhost:8080/",
          "height": 437
        },
        "id": "1ZIvwSi1qTUE",
        "outputId": "1a89f4bc-82a1-4963-bab0-43ab8ff8677a"
      },
      "execution_count": null,
      "outputs": [
        {
          "output_type": "display_data",
          "data": {
            "text/plain": [
              "plot without title"
            ],
            "image/png": "[encoded data removed]"
          },
          "metadata": {
            "image/png": {
              "width": 420,
              "height": 420
            }
          }
        }
      ]
    },
    {
      "cell_type": "markdown",
      "source": [
        "### 13E3\n",
        "\n",
        "Rewrite the following model as a multilevel model.\n",
        "\n",
        "$$y_i \\sim \\text{Normal}(\\mu_i, \\sigma)$$\n",
        "$$\\mu_i = \\alpha_{\\text{Group}_i} + \\beta x_i$$\n",
        "$$\\alpha_{\\text{Group}_i} \\sim \\text{Normal}(0, 5)$$\n",
        "$$\\beta \\sim \\text{Normal}(0, 1)$$\n",
        "$$\\sigma \\sim \\text{Exponential}(1)$$\n",
        "\n",
        "#### Answer\n",
        "$$y_i \\sim \\text{Normal}(\\mu_i, \\sigma)$$\n",
        "$$\\mu_i = \\alpha_{\\text{Group}_i} + \\beta x_i$$\n",
        "$$\\alpha_{\\text{Group}_i} \\sim \\text{Normal}(\\bar{\\alpha}, \\sigma_{\\alpha})$$\n",
        "$$\\beta \\sim \\text{Normal}(0, 1)$$\n",
        "$$\\bar{\\alpha} \\sim \\text{Normal}(0,1)$$\n",
        "$$\\sigma_{\\alpha} \\sim \\text{Exponential}(0.20)$$\n",
        "$$\\sigma \\sim  \\text{Exponential}(1)$$\n",
        "\n",
        "Let's again look at the prior distribution of the mean."
      ],
      "metadata": {
        "id": "pQza0mUVw4gP"
      }
    },
    {
      "cell_type": "code",
      "source": [
        "dlist <- list(\"x\" = rnorm(n=10, mean=0, sd=1),\n",
        "              \"y\" = rnorm(n=10, mean=1 + 2*x, sd=2),\n",
        "              \"group\" = c(1,1,1,1,1,2,2,2,2,2))"
      ],
      "metadata": {
        "id": "g6sj0aOjyIn0"
      },
      "execution_count": null,
      "outputs": []
    },
    {
      "cell_type": "code",
      "source": [
        "m <- ulam(\n",
        "  alist(\n",
        "    y ~ dnorm(mu, sigma),\n",
        "      mu <- a[group] + b*x,\n",
        "        a[group] ~ dnorm(0, 5),\n",
        "        b ~ dnorm(0, 1),\n",
        "      sigma ~ dexp(1)\n",
        "  ), data=dlist, chains=4, cores=4, iter=1000\n",
        ")"
      ],
      "metadata": {
        "colab": {
          "base_uri": "https://localhost:8080/"
        },
        "outputId": "d9201f7e-c24e-4fff-cad2-eb96dfbdb0e1",
        "id": "HR__HfLDyIn1"
      },
      "execution_count": null,
      "outputs": [
        {
          "output_type": "stream",
          "name": "stdout",
          "text": [
            "Running MCMC with 4 parallel chains, with 1 thread(s) per chain...\n",
            "\n",
            "Chain 1 Iteration:   1 / 1000 [  0%]  (Warmup) \n",
            "Chain 1 Iteration: 100 / 1000 [ 10%]  (Warmup) \n",
            "Chain 1 Iteration: 200 / 1000 [ 20%]  (Warmup) \n",
            "Chain 1 Iteration: 300 / 1000 [ 30%]  (Warmup) \n",
            "Chain 1 Iteration: 400 / 1000 [ 40%]  (Warmup) \n",
            "Chain 1 Iteration: 500 / 1000 [ 50%]  (Warmup) \n",
            "Chain 1 Iteration: 501 / 1000 [ 50%]  (Sampling) \n",
            "Chain 1 Iteration: 600 / 1000 [ 60%]  (Sampling) \n",
            "Chain 1 Iteration: 700 / 1000 [ 70%]  (Sampling) \n",
            "Chain 1 Iteration: 800 / 1000 [ 80%]  (Sampling) \n",
            "Chain 1 Iteration: 900 / 1000 [ 90%]  (Sampling) \n",
            "Chain 1 Iteration: 1000 / 1000 [100%]  (Sampling) \n",
            "Chain 2 Iteration:   1 / 1000 [  0%]  (Warmup) \n",
            "Chain 2 Iteration: 100 / 1000 [ 10%]  (Warmup) \n",
            "Chain 2 Iteration: 200 / 1000 [ 20%]  (Warmup) \n",
            "Chain 2 Iteration: 300 / 1000 [ 30%]  (Warmup) \n",
            "Chain 2 Iteration: 400 / 1000 [ 40%]  (Warmup) \n",
            "Chain 2 Iteration: 500 / 1000 [ 50%]  (Warmup) \n",
            "Chain 2 Iteration: 501 / 1000 [ 50%]  (Sampling) \n",
            "Chain 2 Iteration: 600 / 1000 [ 60%]  (Sampling) \n",
            "Chain 2 Iteration: 700 / 1000 [ 70%]  (Sampling) \n",
            "Chain 2 Iteration: 800 / 1000 [ 80%]  (Sampling) \n",
            "Chain 2 Iteration: 900 / 1000 [ 90%]  (Sampling) \n",
            "Chain 2 Iteration: 1000 / 1000 [100%]  (Sampling) \n",
            "Chain 3 Iteration:   1 / 1000 [  0%]  (Warmup) \n",
            "Chain 3 Iteration: 100 / 1000 [ 10%]  (Warmup) \n",
            "Chain 3 Iteration: 200 / 1000 [ 20%]  (Warmup) \n",
            "Chain 3 Iteration: 300 / 1000 [ 30%]  (Warmup) \n",
            "Chain 3 Iteration: 400 / 1000 [ 40%]  (Warmup) \n",
            "Chain 3 Iteration: 500 / 1000 [ 50%]  (Warmup) \n",
            "Chain 3 Iteration: 501 / 1000 [ 50%]  (Sampling) \n",
            "Chain 3 Iteration: 600 / 1000 [ 60%]  (Sampling) \n",
            "Chain 3 Iteration: 700 / 1000 [ 70%]  (Sampling) \n",
            "Chain 3 Iteration: 800 / 1000 [ 80%]  (Sampling) \n",
            "Chain 3 Iteration: 900 / 1000 [ 90%]  (Sampling) \n",
            "Chain 3 Iteration: 1000 / 1000 [100%]  (Sampling) \n",
            "Chain 4 Iteration:   1 / 1000 [  0%]  (Warmup) \n",
            "Chain 4 Iteration: 100 / 1000 [ 10%]  (Warmup) \n",
            "Chain 4 Iteration: 200 / 1000 [ 20%]  (Warmup) \n",
            "Chain 4 Iteration: 300 / 1000 [ 30%]  (Warmup) \n",
            "Chain 4 Iteration: 400 / 1000 [ 40%]  (Warmup) \n",
            "Chain 4 Iteration: 500 / 1000 [ 50%]  (Warmup) \n",
            "Chain 4 Iteration: 501 / 1000 [ 50%]  (Sampling) \n",
            "Chain 4 Iteration: 600 / 1000 [ 60%]  (Sampling) \n",
            "Chain 4 Iteration: 700 / 1000 [ 70%]  (Sampling) \n",
            "Chain 4 Iteration: 800 / 1000 [ 80%]  (Sampling) \n",
            "Chain 4 Iteration: 900 / 1000 [ 90%]  (Sampling) \n",
            "Chain 4 Iteration: 1000 / 1000 [100%]  (Sampling) \n",
            "Chain 1 finished in 0.0 seconds.\n",
            "Chain 2 finished in 0.1 seconds.\n",
            "Chain 3 finished in 0.1 seconds.\n",
            "Chain 4 finished in 0.0 seconds.\n",
            "\n",
            "All 4 chains finished successfully.\n",
            "Mean chain execution time: 0.0 seconds.\n",
            "Total execution time: 0.6 seconds.\n",
            "\n"
          ]
        }
      ]
    },
    {
      "cell_type": "code",
      "source": [
        "mm <- ulam(\n",
        "  alist(\n",
        "    y ~ dnorm(mu, sigma),\n",
        "      mu <- a[group] + b*x,\n",
        "        a[group] ~ dnorm(abar, sigma_a),\n",
        "          abar ~ dnorm(0,1),\n",
        "          sigma_a ~ dexp(0.2),\n",
        "        b ~ dnorm(0, 1),\n",
        "          sigma_b ~ dexp(1),\n",
        "      sigma ~ dexp(1)\n",
        "  ), data=dlist, chains=4, cores=4, iter=1000\n",
        ")"
      ],
      "metadata": {
        "colab": {
          "base_uri": "https://localhost:8080/"
        },
        "outputId": "bd1a483d-b2d7-4bab-e995-517bd1153db5",
        "id": "a0q7c1GRyIn1"
      },
      "execution_count": null,
      "outputs": [
        {
          "output_type": "stream",
          "name": "stdout",
          "text": [
            "Running MCMC with 4 parallel chains, with 1 thread(s) per chain...\n",
            "\n",
            "Chain 1 Iteration:   1 / 1000 [  0%]  (Warmup) \n",
            "Chain 1 Iteration: 100 / 1000 [ 10%]  (Warmup) \n",
            "Chain 1 Iteration: 200 / 1000 [ 20%]  (Warmup) \n",
            "Chain 1 Iteration: 300 / 1000 [ 30%]  (Warmup) \n",
            "Chain 1 Iteration: 400 / 1000 [ 40%]  (Warmup) \n",
            "Chain 1 Iteration: 500 / 1000 [ 50%]  (Warmup) \n",
            "Chain 1 Iteration: 501 / 1000 [ 50%]  (Sampling) \n",
            "Chain 1 Iteration: 600 / 1000 [ 60%]  (Sampling) \n",
            "Chain 1 Iteration: 700 / 1000 [ 70%]  (Sampling) \n",
            "Chain 2 Iteration:   1 / 1000 [  0%]  (Warmup) \n",
            "Chain 2 Iteration: 100 / 1000 [ 10%]  (Warmup) \n",
            "Chain 2 Iteration: 200 / 1000 [ 20%]  (Warmup) \n",
            "Chain 2 Iteration: 300 / 1000 [ 30%]  (Warmup) \n",
            "Chain 2 Iteration: 400 / 1000 [ 40%]  (Warmup) \n",
            "Chain 2 Iteration: 500 / 1000 [ 50%]  (Warmup) \n",
            "Chain 2 Iteration: 501 / 1000 [ 50%]  (Sampling) \n",
            "Chain 2 Iteration: 600 / 1000 [ 60%]  (Sampling) \n",
            "Chain 2 Iteration: 700 / 1000 [ 70%]  (Sampling) \n",
            "Chain 2 Iteration: 800 / 1000 [ 80%]  (Sampling) \n",
            "Chain 3 Iteration:   1 / 1000 [  0%]  (Warmup) \n",
            "Chain 3 Iteration: 100 / 1000 [ 10%]  (Warmup) \n",
            "Chain 3 Iteration: 200 / 1000 [ 20%]  (Warmup) \n",
            "Chain 3 Iteration: 300 / 1000 [ 30%]  (Warmup) \n",
            "Chain 3 Iteration: 400 / 1000 [ 40%]  (Warmup) \n",
            "Chain 3 Iteration: 500 / 1000 [ 50%]  (Warmup) \n",
            "Chain 3 Iteration: 501 / 1000 [ 50%]  (Sampling) \n",
            "Chain 4 Iteration:   1 / 1000 [  0%]  (Warmup) \n",
            "Chain 4 Iteration: 100 / 1000 [ 10%]  (Warmup) \n",
            "Chain 4 Iteration: 200 / 1000 [ 20%]  (Warmup) \n",
            "Chain 4 Iteration: 300 / 1000 [ 30%]  (Warmup) \n",
            "Chain 4 Iteration: 400 / 1000 [ 40%]  (Warmup) \n",
            "Chain 1 Iteration: 800 / 1000 [ 80%]  (Sampling) \n",
            "Chain 1 Iteration: 900 / 1000 [ 90%]  (Sampling) \n",
            "Chain 1 Iteration: 1000 / 1000 [100%]  (Sampling) \n",
            "Chain 1 finished in 0.4 seconds.\n",
            "Chain 2 Iteration: 900 / 1000 [ 90%]  (Sampling) \n",
            "Chain 2 Iteration: 1000 / 1000 [100%]  (Sampling) \n",
            "Chain 2 finished in 0.3 seconds.\n",
            "Chain 3 Iteration: 600 / 1000 [ 60%]  (Sampling) \n",
            "Chain 3 Iteration: 700 / 1000 [ 70%]  (Sampling) \n",
            "Chain 3 Iteration: 800 / 1000 [ 80%]  (Sampling) \n",
            "Chain 3 Iteration: 900 / 1000 [ 90%]  (Sampling) \n",
            "Chain 3 Iteration: 1000 / 1000 [100%]  (Sampling) \n",
            "Chain 4 Iteration: 500 / 1000 [ 50%]  (Warmup) \n",
            "Chain 4 Iteration: 501 / 1000 [ 50%]  (Sampling) \n",
            "Chain 4 Iteration: 600 / 1000 [ 60%]  (Sampling) \n",
            "Chain 4 Iteration: 700 / 1000 [ 70%]  (Sampling) \n",
            "Chain 4 Iteration: 800 / 1000 [ 80%]  (Sampling) \n",
            "Chain 4 Iteration: 900 / 1000 [ 90%]  (Sampling) \n",
            "Chain 4 Iteration: 1000 / 1000 [100%]  (Sampling) \n",
            "Chain 3 finished in 0.3 seconds.\n",
            "Chain 4 finished in 0.3 seconds.\n",
            "\n",
            "All 4 chains finished successfully.\n",
            "Mean chain execution time: 0.3 seconds.\n",
            "Total execution time: 0.6 seconds.\n",
            "\n"
          ]
        },
        {
          "output_type": "stream",
          "name": "stderr",
          "text": [
            "Warning: 43 of 2000 (2.0%) transitions ended with a divergence.\n",
            "See https://mc-stan.org/misc/warnings for details.\n",
            "\n",
            "\n"
          ]
        }
      ]
    },
    {
      "cell_type": "code",
      "source": [
        "m_prior <- extract.prior(m)"
      ],
      "metadata": {
        "colab": {
          "base_uri": "https://localhost:8080/"
        },
        "outputId": "e79754e3-5270-4d1f-c6c5-e241b6d99e86",
        "id": "4HwrQKM-yIn1"
      },
      "execution_count": null,
      "outputs": [
        {
          "output_type": "stream",
          "name": "stdout",
          "text": [
            "Running MCMC with 1 chain, with 1 thread(s) per chain...\n",
            "\n",
            "Chain 1 Iteration:    1 / 2000 [  0%]  (Warmup) \n",
            "Chain 1 Iteration:  100 / 2000 [  5%]  (Warmup) \n",
            "Chain 1 Iteration:  200 / 2000 [ 10%]  (Warmup) \n",
            "Chain 1 Iteration:  300 / 2000 [ 15%]  (Warmup) \n",
            "Chain 1 Iteration:  400 / 2000 [ 20%]  (Warmup) \n",
            "Chain 1 Iteration:  500 / 2000 [ 25%]  (Warmup) \n",
            "Chain 1 Iteration:  600 / 2000 [ 30%]  (Warmup) \n",
            "Chain 1 Iteration:  700 / 2000 [ 35%]  (Warmup) \n",
            "Chain 1 Iteration:  800 / 2000 [ 40%]  (Warmup) \n",
            "Chain 1 Iteration:  900 / 2000 [ 45%]  (Warmup) \n",
            "Chain 1 Iteration: 1000 / 2000 [ 50%]  (Warmup) \n",
            "Chain 1 Iteration: 1001 / 2000 [ 50%]  (Sampling) \n",
            "Chain 1 Iteration: 1100 / 2000 [ 55%]  (Sampling) \n",
            "Chain 1 Iteration: 1200 / 2000 [ 60%]  (Sampling) \n",
            "Chain 1 Iteration: 1300 / 2000 [ 65%]  (Sampling) \n",
            "Chain 1 Iteration: 1400 / 2000 [ 70%]  (Sampling) \n",
            "Chain 1 Iteration: 1500 / 2000 [ 75%]  (Sampling) \n",
            "Chain 1 Iteration: 1600 / 2000 [ 80%]  (Sampling) \n",
            "Chain 1 Iteration: 1700 / 2000 [ 85%]  (Sampling) \n",
            "Chain 1 Iteration: 1800 / 2000 [ 90%]  (Sampling) \n",
            "Chain 1 Iteration: 1900 / 2000 [ 95%]  (Sampling) \n",
            "Chain 1 Iteration: 2000 / 2000 [100%]  (Sampling) \n",
            "Chain 1 finished in 0.0 seconds.\n"
          ]
        }
      ]
    },
    {
      "cell_type": "code",
      "source": [
        "mm_prior <- extract.prior(mm)"
      ],
      "metadata": {
        "colab": {
          "base_uri": "https://localhost:8080/"
        },
        "outputId": "3909096f-3803-4a1a-d518-399338783f36",
        "id": "mRFNXbB7yIn2"
      },
      "execution_count": null,
      "outputs": [
        {
          "output_type": "stream",
          "name": "stdout",
          "text": [
            "Running MCMC with 1 chain, with 1 thread(s) per chain...\n",
            "\n",
            "Chain 1 Iteration:    1 / 2000 [  0%]  (Warmup) \n",
            "Chain 1 Iteration:  100 / 2000 [  5%]  (Warmup) \n",
            "Chain 1 Iteration:  200 / 2000 [ 10%]  (Warmup) \n",
            "Chain 1 Iteration:  300 / 2000 [ 15%]  (Warmup) \n",
            "Chain 1 Iteration:  400 / 2000 [ 20%]  (Warmup) \n",
            "Chain 1 Iteration:  500 / 2000 [ 25%]  (Warmup) \n",
            "Chain 1 Iteration:  600 / 2000 [ 30%]  (Warmup) \n",
            "Chain 1 Iteration:  700 / 2000 [ 35%]  (Warmup) \n",
            "Chain 1 Iteration:  800 / 2000 [ 40%]  (Warmup) \n",
            "Chain 1 Iteration:  900 / 2000 [ 45%]  (Warmup) \n",
            "Chain 1 Iteration: 1000 / 2000 [ 50%]  (Warmup) \n",
            "Chain 1 Iteration: 1001 / 2000 [ 50%]  (Sampling) \n",
            "Chain 1 Iteration: 1100 / 2000 [ 55%]  (Sampling) \n",
            "Chain 1 Iteration: 1200 / 2000 [ 60%]  (Sampling) \n",
            "Chain 1 Iteration: 1300 / 2000 [ 65%]  (Sampling) \n",
            "Chain 1 Iteration: 1400 / 2000 [ 70%]  (Sampling) \n",
            "Chain 1 Iteration: 1500 / 2000 [ 75%]  (Sampling) \n",
            "Chain 1 Iteration: 1600 / 2000 [ 80%]  (Sampling) \n",
            "Chain 1 Iteration: 1700 / 2000 [ 85%]  (Sampling) \n",
            "Chain 1 Iteration: 1800 / 2000 [ 90%]  (Sampling) \n",
            "Chain 1 Iteration: 1900 / 2000 [ 95%]  (Sampling) \n",
            "Chain 1 Iteration: 2000 / 2000 [100%]  (Sampling) \n",
            "Chain 1 finished in 0.2 seconds.\n"
          ]
        },
        {
          "output_type": "stream",
          "name": "stderr",
          "text": [
            "Warning: 54 of 1000 (5.0%) transitions ended with a divergence.\n",
            "See https://mc-stan.org/misc/warnings for details.\n",
            "\n",
            "\n"
          ]
        }
      ]
    },
    {
      "cell_type": "code",
      "source": [
        "xseq <- seq(from=-3, to=3, length.out=100)\n",
        "\n",
        "m_y1 <- matrix(data=NA, nrow=1000, ncol=length(xseq))\n",
        "m_y2 <- matrix(data=NA, nrow=1000, ncol=length(xseq))\n",
        "mm_y1 <- matrix(data=NA, nrow=1000, ncol=length(xseq))\n",
        "mm_y2 <- matrix(data=NA, nrow=1000, ncol=length(xseq))\n",
        "for(i in 1:length(xseq)){\n",
        "  m_y1[,i] <- m_prior$a[,1] + m_prior$b*xseq[i]\n",
        "  m_y2[,i] <- m_prior$a[,2] + m_prior$b*xseq[i]\n",
        "\n",
        "  mm_y1[,i] <- mm_prior$a[,1] + mm_prior$b*xseq[i]\n",
        "  mm_y2[,i] <- mm_prior$a[,2] + mm_prior$b*xseq[i]\n",
        "}\n",
        "\n",
        "m_y1_mean <- colMeans(m_y1)\n",
        "m_y1_PI <- apply(m_y1, 2, PI)\n",
        "m_y2_mean <- colMeans(m_y2)\n",
        "m_y2_PI <- apply(m_y2, 2, PI)\n",
        "\n",
        "mm_y1_mean <- colMeans(mm_y1)\n",
        "mm_y1_PI <- apply(mm_y1, 2, PI)\n",
        "mm_y2_mean <- colMeans(mm_y2)\n",
        "mm_y2_PI <- apply(mm_y2, 2, PI)"
      ],
      "metadata": {
        "id": "Nxa36qqmyIn2"
      },
      "execution_count": null,
      "outputs": []
    },
    {
      "cell_type": "code",
      "source": [
        "plot(m_y1_mean ~ xseq, type=\"l\", col=\"blue\", ylim=c(-12,12))\n",
        "lines(m_y2_mean ~ xseq, lty=2, col=\"blue\")\n",
        "shade(m_y1_PI, xseq, col=col.alpha(\"blue\", 0.1))\n",
        "shade(m_y2_PI, xseq, col=col.alpha(\"blue\", 0.1))\n",
        "\n",
        "lines(mm_y1_mean ~ xseq, col=\"red\")\n",
        "lines(mm_y2_mean ~ xseq, lty=2, col=\"red\")\n",
        "shade(mm_y1_PI, xseq, col=col.alpha(\"red\", 0.1))\n",
        "shade(mm_y2_PI, xseq, col=col.alpha(\"red\", 0.1))"
      ],
      "metadata": {
        "colab": {
          "base_uri": "https://localhost:8080/",
          "height": 437
        },
        "outputId": "a37748d4-a760-4e1a-9215-be58e1d3e500",
        "id": "QvqWk3WByIn2"
      },
      "execution_count": null,
      "outputs": [
        {
          "output_type": "display_data",
          "data": {
            "text/plain": [
              "plot without title"
            ],
            "image/png": "[encoded data removed]"
          },
          "metadata": {
            "image/png": {
              "width": 420,
              "height": 420
            }
          }
        }
      ]
    },
    {
      "cell_type": "markdown",
      "source": [
        "### 13E4\n",
        "\n",
        "Write a mathematical model formula for Poisson regression with varying intercepts.\n",
        "\n",
        "#### Answer\n",
        "\n",
        "I'm just going to alter the model in the answer to 13E2\n",
        "\n",
        "$$y_i \\sim \\text{Poisson}(\\lambda)$$\n",
        "$$\\log(\\lambda) = \\alpha_{\\text{Group}_i} + \\beta x_i$$\n",
        "$$\\alpha_{\\text{Group}_i} \\sim \\text{Normal}(\\bar{\\alpha}, \\sigma_{\\alpha})$$\n",
        "$$\\beta \\sim \\text{Normal}(0, 0.5)$$\n",
        "$$\\bar{\\alpha} \\sim \\text{Normal}(0,1)$$\n",
        "$$\\sigma_{\\alpha} \\sim \\text{Exponential}(0.66)$$"
      ],
      "metadata": {
        "id": "O7tn1YNsS_UO"
      }
    },
    {
      "cell_type": "markdown",
      "source": [
        "### 13E5\n",
        "\n",
        "Write a mathematical model for a Poisson regression with two different kinds of varying intercepts, a cross-classified model.\n",
        "\n",
        "#### Answer\n",
        "\n",
        "Recall from the **Rethinking** box at the beginning of section 13.3, that *cross-classified* models are like hierarchcal models, except the study subjects (e.g., each individual chimp in the `chimpanzees` dataset) are not exclusively nested within unique blocks, but rather distributed among features of the study (e.g., `treatment`).  In other words, we add more varying intercepts.\n",
        "\n",
        "So let's accomplish this by modifying the model in 13E4.\n",
        "\n",
        "$$y_i \\sim \\text{Poisson}(\\lambda)$$\n",
        "$$\\log(\\lambda) = \\alpha_{\\text{Group}_i} + \\alpha_{\\text{Treatment}_i} + \\beta x_i$$\n",
        "$$\\alpha_{\\text{Group}} \\sim \\text{Normal}(\\bar{\\alpha}_{\\text{Group}}, \\sigma_{\\alpha_{\\text{Group}}})$$\n",
        "$$\\alpha_{\\text{Treatment}} \\sim \\text{Normal}(\\bar{\\alpha}_{\\text{Treatment}}, \\sigma_{\\alpha_{\\text{Treatment}}})$$\n",
        "$$\\beta \\sim \\text{Normal}(0, 0.5)$$\n",
        "$$\\bar{\\alpha}_{\\text{Group}} \\sim \\text{Normal}(0,1)$$\n",
        "$$\\sigma_{\\alpha_{\\text{Group}}} \\sim \\text{Exponential}(0.66)$$\n",
        "$$\\bar{\\alpha}_{\\text{Treatment}} \\sim \\text{Normal}(0,1)$$\n",
        "$$\\sigma_{\\alpha_{\\text{Treatment}}} \\sim \\text{Exponential}(0.66)$$\n",
        "\n",
        "Now, there may be a small problem here: both random intercepts have a prior for the mean parameter, leading to **overparameterization**.  This idea is not well explored in the book; it is briefly touched on in section 11.1.  Here, I think the problem is that a *baseline* value is a function of multiple inputs (please correct me if I'm wrong).  The author avoids over-parameterization in model `m13.4`: one of the varying-intercept hyperparameter priors is set to 0.  We can avoid overparameterization here by following this example:\n",
        "\n",
        "$$y_i \\sim \\text{Poisson}(\\lambda)$$\n",
        "$$\\log(\\lambda) = \\alpha_{\\text{Group}_i} + \\alpha_{\\text{Treatment}_i} + \\beta x_i$$\n",
        "$$\\alpha_{\\text{Group}} \\sim \\text{Normal}(\\bar{\\alpha}_{\\text{Group}}, \\sigma_{\\alpha_{\\text{Group}}})$$\n",
        "$$\\alpha_{\\text{Treatment}} \\sim \\text{Normal}(0, \\sigma_{\\alpha_{\\text{Treatment}}})$$\n",
        "$$\\beta \\sim \\text{Normal}(0, 0.5)$$\n",
        "$$\\bar{\\alpha}_{\\text{Group}} \\sim \\text{Normal}(0,1)$$\n",
        "$$\\sigma_{\\alpha_{\\text{Group}}} \\sim \\text{Exponential}(0.66)$$\n",
        "$$\\sigma_{\\alpha_{\\text{Treatment}}} \\sim \\text{Exponential}(0.66)$$\n",
        "\n",
        "But I find this a little unintuitive; it seems arbitrary to assign a prior of 0 to one varying intercept but not the other.  I think interpretability is improved if we add an overall interept and set both varying intercepts to 0 like:\n",
        "\n",
        "$$y_i \\sim \\text{Poisson}(\\lambda)$$\n",
        "$$\\log(\\lambda) = \\alpha + \\alpha_{\\text{Group}_i} + \\alpha_{\\text{Treatment}_i} + \\beta x_i$$\n",
        "$$\\alpha \\sim \\text{Normal}(0, 1)$$\n",
        "$$\\alpha_{\\text{Group}} \\sim \\text{Normal}(0, \\sigma_{\\alpha_{\\text{Group}}})$$\n",
        "$$\\alpha_{\\text{Treatment}} \\sim \\text{Normal}(0, \\sigma_{\\alpha_{\\text{Treatment}}})$$\n",
        "$$\\beta \\sim \\text{Normal}(0, 0.5)$$\n",
        "$$\\sigma_{\\alpha_{\\text{Group}}} \\sim \\text{Exponential}(0.66)$$\n",
        "$$\\sigma_{\\alpha_{\\text{Treatment}}} \\sim \\text{Exponential}(0.66)$$\n",
        "\n",
        "Now, at least, we can interpret the varying intercepts as deviations away from a common baseline value.  But what if overparameterization was not a problem here (in fact, model `m11.8` in section 11.1 opts for overparameterization)?  If it doesn't cause a problem, I think I'd like to overparameterize model to aid with interpretation.  For instance, it would be nice to have values for the average affects of both $\\alpha_{\\text{Group}}$ and $\\alpha_{\\text{Treatment}}$\n",
        "\n",
        "Overparameterization IS a problem with many algorithms and in frequentist statistics, but I'm not sure how big of a deal it is with Bayesianism with MCMC.  So let's generate some fake data and test both our over-parameterized and non-over-parameterized models.\n",
        "\n",
        "\n",
        "\n"
      ],
      "metadata": {
        "id": "og61qcG5UcaR"
      }
    },
    {
      "cell_type": "code",
      "source": [
        "# Make fake data\n",
        "\n",
        "N <- 100\n",
        "grp <- rep(c(1,2), each=N/2)\n",
        "a_grp <- ifelse(grp==1, 0.9, 1.1)\n",
        "trt <- rep(c(1,2), times=N/2)\n",
        "a_trt <- ifelse(trt==1, 0.9, 1.1)\n",
        "x <- runif(n=N, min=0, max=1)\n",
        "b_x <- 1\n",
        "y <- rpois(n=N, lambda=exp(a_grp + a_trt + b_x*x))\n",
        "\n",
        "dlist <- list(x=x, grp=grp, trt=trt, y=y)"
      ],
      "metadata": {
        "id": "4ynaItUvveGm"
      },
      "execution_count": null,
      "outputs": []
    },
    {
      "cell_type": "code",
      "source": [
        "# Overparameterized model\n",
        "\n",
        "m0 <- ulam(\n",
        "  alist(\n",
        "    y ~ dpois(lambda),\n",
        "      log(lambda) <- a_G[grp] + a_T[trt] + b_x*x,\n",
        "        a_G[grp] ~ dnorm(a_Gbar, sigma_aG),\n",
        "          a_Gbar ~ dnorm(0,1),\n",
        "          sigma_aG ~ dexp(0.66),\n",
        "        a_T[trt] ~ dnorm(a_Tbar, sigma_aT),\n",
        "          a_Tbar ~ dnorm(0,1),\n",
        "          sigma_aT ~ dexp(0.66),\n",
        "        b_x ~ dnorm(0,0.5)\n",
        "  ), data=dlist,\n",
        "     chains=4,\n",
        "     cores=4,\n",
        "     iter=2500\n",
        ")"
      ],
      "metadata": {
        "colab": {
          "base_uri": "https://localhost:8080/"
        },
        "id": "Z_rfIHicwsSl",
        "outputId": "904ef64d-28ea-467c-a808-9e3ffa8414e3"
      },
      "execution_count": null,
      "outputs": [
        {
          "output_type": "stream",
          "name": "stdout",
          "text": [
            "Running MCMC with 4 parallel chains, with 1 thread(s) per chain...\n",
            "\n",
            "Chain 1 Iteration:    1 / 2500 [  0%]  (Warmup) \n",
            "Chain 2 Iteration:    1 / 2500 [  0%]  (Warmup) \n",
            "Chain 3 Iteration:    1 / 2500 [  0%]  (Warmup) \n",
            "Chain 4 Iteration:    1 / 2500 [  0%]  (Warmup) \n",
            "Chain 1 Iteration:  100 / 2500 [  4%]  (Warmup) \n",
            "Chain 4 Iteration:  100 / 2500 [  4%]  (Warmup) \n",
            "Chain 2 Iteration:  100 / 2500 [  4%]  (Warmup) \n",
            "Chain 3 Iteration:  100 / 2500 [  4%]  (Warmup) \n",
            "Chain 1 Iteration:  200 / 2500 [  8%]  (Warmup) \n",
            "Chain 3 Iteration:  200 / 2500 [  8%]  (Warmup) \n",
            "Chain 4 Iteration:  200 / 2500 [  8%]  (Warmup) \n",
            "Chain 1 Iteration:  300 / 2500 [ 12%]  (Warmup) \n",
            "Chain 2 Iteration:  200 / 2500 [  8%]  (Warmup) \n",
            "Chain 1 Iteration:  400 / 2500 [ 16%]  (Warmup) \n",
            "Chain 2 Iteration:  300 / 2500 [ 12%]  (Warmup) \n",
            "Chain 3 Iteration:  300 / 2500 [ 12%]  (Warmup) \n",
            "Chain 4 Iteration:  300 / 2500 [ 12%]  (Warmup) \n",
            "Chain 2 Iteration:  400 / 2500 [ 16%]  (Warmup) \n",
            "Chain 3 Iteration:  400 / 2500 [ 16%]  (Warmup) \n",
            "Chain 1 Iteration:  500 / 2500 [ 20%]  (Warmup) \n",
            "Chain 4 Iteration:  400 / 2500 [ 16%]  (Warmup) \n",
            "Chain 1 Iteration:  600 / 2500 [ 24%]  (Warmup) \n",
            "Chain 4 Iteration:  500 / 2500 [ 20%]  (Warmup) \n",
            "Chain 2 Iteration:  500 / 2500 [ 20%]  (Warmup) \n",
            "Chain 3 Iteration:  500 / 2500 [ 20%]  (Warmup) \n",
            "Chain 4 Iteration:  600 / 2500 [ 24%]  (Warmup) \n",
            "Chain 1 Iteration:  700 / 2500 [ 28%]  (Warmup) \n",
            "Chain 3 Iteration:  600 / 2500 [ 24%]  (Warmup) \n",
            "Chain 2 Iteration:  600 / 2500 [ 24%]  (Warmup) \n",
            "Chain 1 Iteration:  800 / 2500 [ 32%]  (Warmup) \n",
            "Chain 4 Iteration:  700 / 2500 [ 28%]  (Warmup) \n",
            "Chain 3 Iteration:  700 / 2500 [ 28%]  (Warmup) \n",
            "Chain 2 Iteration:  700 / 2500 [ 28%]  (Warmup) \n",
            "Chain 1 Iteration:  900 / 2500 [ 36%]  (Warmup) \n",
            "Chain 4 Iteration:  800 / 2500 [ 32%]  (Warmup) \n",
            "Chain 3 Iteration:  800 / 2500 [ 32%]  (Warmup) \n",
            "Chain 2 Iteration:  800 / 2500 [ 32%]  (Warmup) \n",
            "Chain 1 Iteration: 1000 / 2500 [ 40%]  (Warmup) \n",
            "Chain 4 Iteration:  900 / 2500 [ 36%]  (Warmup) \n",
            "Chain 3 Iteration:  900 / 2500 [ 36%]  (Warmup) \n",
            "Chain 2 Iteration:  900 / 2500 [ 36%]  (Warmup) \n",
            "Chain 1 Iteration: 1100 / 2500 [ 44%]  (Warmup) \n",
            "Chain 4 Iteration: 1000 / 2500 [ 40%]  (Warmup) \n",
            "Chain 2 Iteration: 1000 / 2500 [ 40%]  (Warmup) \n",
            "Chain 3 Iteration: 1000 / 2500 [ 40%]  (Warmup) \n",
            "Chain 1 Iteration: 1200 / 2500 [ 48%]  (Warmup) \n",
            "Chain 4 Iteration: 1100 / 2500 [ 44%]  (Warmup) \n",
            "Chain 1 Iteration: 1251 / 2500 [ 50%]  (Sampling) \n",
            "Chain 2 Iteration: 1100 / 2500 [ 44%]  (Warmup) \n",
            "Chain 4 Iteration: 1200 / 2500 [ 48%]  (Warmup) \n",
            "Chain 3 Iteration: 1100 / 2500 [ 44%]  (Warmup) \n",
            "Chain 2 Iteration: 1200 / 2500 [ 48%]  (Warmup) \n",
            "Chain 4 Iteration: 1251 / 2500 [ 50%]  (Sampling) \n",
            "Chain 1 Iteration: 1350 / 2500 [ 54%]  (Sampling) \n",
            "Chain 2 Iteration: 1251 / 2500 [ 50%]  (Sampling) \n",
            "Chain 4 Iteration: 1350 / 2500 [ 54%]  (Sampling) \n",
            "Chain 1 Iteration: 1450 / 2500 [ 58%]  (Sampling) \n",
            "Chain 2 Iteration: 1350 / 2500 [ 54%]  (Sampling) \n",
            "Chain 3 Iteration: 1200 / 2500 [ 48%]  (Warmup) \n",
            "Chain 4 Iteration: 1450 / 2500 [ 58%]  (Sampling) \n",
            "Chain 1 Iteration: 1550 / 2500 [ 62%]  (Sampling) \n",
            "Chain 2 Iteration: 1450 / 2500 [ 58%]  (Sampling) \n",
            "Chain 4 Iteration: 1550 / 2500 [ 62%]  (Sampling) \n",
            "Chain 3 Iteration: 1251 / 2500 [ 50%]  (Sampling) \n",
            "Chain 1 Iteration: 1650 / 2500 [ 66%]  (Sampling) \n",
            "Chain 2 Iteration: 1550 / 2500 [ 62%]  (Sampling) \n",
            "Chain 4 Iteration: 1650 / 2500 [ 66%]  (Sampling) \n",
            "Chain 1 Iteration: 1750 / 2500 [ 70%]  (Sampling) \n",
            "Chain 2 Iteration: 1650 / 2500 [ 66%]  (Sampling) \n",
            "Chain 4 Iteration: 1750 / 2500 [ 70%]  (Sampling) \n",
            "Chain 4 Iteration: 1850 / 2500 [ 74%]  (Sampling) \n",
            "Chain 1 Iteration: 1850 / 2500 [ 74%]  (Sampling) \n",
            "Chain 2 Iteration: 1750 / 2500 [ 70%]  (Sampling) \n",
            "Chain 3 Iteration: 1350 / 2500 [ 54%]  (Sampling) \n",
            "Chain 4 Iteration: 1950 / 2500 [ 78%]  (Sampling) \n",
            "Chain 2 Iteration: 1850 / 2500 [ 74%]  (Sampling) \n",
            "Chain 1 Iteration: 1950 / 2500 [ 78%]  (Sampling) \n",
            "Chain 4 Iteration: 2050 / 2500 [ 82%]  (Sampling) \n",
            "Chain 2 Iteration: 1950 / 2500 [ 78%]  (Sampling) \n",
            "Chain 1 Iteration: 2050 / 2500 [ 82%]  (Sampling) \n",
            "Chain 4 Iteration: 2150 / 2500 [ 86%]  (Sampling) \n",
            "Chain 2 Iteration: 2050 / 2500 [ 82%]  (Sampling) \n",
            "Chain 1 Iteration: 2150 / 2500 [ 86%]  (Sampling) \n",
            "Chain 2 Iteration: 2150 / 2500 [ 86%]  (Sampling) \n",
            "Chain 4 Iteration: 2250 / 2500 [ 90%]  (Sampling) \n",
            "Chain 3 Iteration: 1450 / 2500 [ 58%]  (Sampling) \n",
            "Chain 1 Iteration: 2250 / 2500 [ 90%]  (Sampling) \n",
            "Chain 2 Iteration: 2250 / 2500 [ 90%]  (Sampling) \n",
            "Chain 4 Iteration: 2350 / 2500 [ 94%]  (Sampling) \n",
            "Chain 1 Iteration: 2350 / 2500 [ 94%]  (Sampling) \n",
            "Chain 2 Iteration: 2350 / 2500 [ 94%]  (Sampling) \n",
            "Chain 4 Iteration: 2450 / 2500 [ 98%]  (Sampling) \n",
            "Chain 4 Iteration: 2500 / 2500 [100%]  (Sampling) \n",
            "Chain 4 finished in 12.7 seconds.\n",
            "Chain 1 Iteration: 2450 / 2500 [ 98%]  (Sampling) \n",
            "Chain 2 Iteration: 2450 / 2500 [ 98%]  (Sampling) \n",
            "Chain 1 Iteration: 2500 / 2500 [100%]  (Sampling) \n",
            "Chain 1 finished in 13.0 seconds.\n",
            "Chain 2 Iteration: 2500 / 2500 [100%]  (Sampling) \n",
            "Chain 3 Iteration: 1550 / 2500 [ 62%]  (Sampling) \n",
            "Chain 2 finished in 13.0 seconds.\n",
            "Chain 3 Iteration: 1650 / 2500 [ 66%]  (Sampling) \n",
            "Chain 3 Iteration: 1750 / 2500 [ 70%]  (Sampling) \n",
            "Chain 3 Iteration: 1850 / 2500 [ 74%]  (Sampling) \n",
            "Chain 3 Iteration: 1950 / 2500 [ 78%]  (Sampling) \n",
            "Chain 3 Iteration: 2050 / 2500 [ 82%]  (Sampling) \n",
            "Chain 3 Iteration: 2150 / 2500 [ 86%]  (Sampling) \n",
            "Chain 3 Iteration: 2250 / 2500 [ 90%]  (Sampling) \n",
            "Chain 3 Iteration: 2350 / 2500 [ 94%]  (Sampling) \n",
            "Chain 3 Iteration: 2450 / 2500 [ 98%]  (Sampling) \n",
            "Chain 3 Iteration: 2500 / 2500 [100%]  (Sampling) \n",
            "Chain 3 finished in 16.3 seconds.\n",
            "\n",
            "All 4 chains finished successfully.\n",
            "Mean chain execution time: 13.7 seconds.\n",
            "Total execution time: 16.5 seconds.\n",
            "\n"
          ]
        },
        {
          "output_type": "stream",
          "name": "stderr",
          "text": [
            "Warning: 39 of 5000 (1.0%) transitions ended with a divergence.\n",
            "See https://mc-stan.org/misc/warnings for details.\n",
            "\n",
            "\n",
            "Warning: 11 of 5000 (0.0%) transitions hit the maximum treedepth limit of 10.\n",
            "See https://mc-stan.org/misc/warnings for details.\n",
            "\n",
            "\n"
          ]
        }
      ]
    },
    {
      "cell_type": "code",
      "source": [
        "# First non-overparameterized model\n",
        "\n",
        "m1 <- ulam(\n",
        "  alist(\n",
        "    y ~ dpois(lambda),\n",
        "      log(lambda) <- a_G[grp] + a_T[trt] + b_x*x,\n",
        "        a_G[grp] ~ dnorm(a_Gbar, sigma_aG),\n",
        "          a_Gbar ~ dnorm(0,1),\n",
        "          sigma_aG ~ dexp(0.66),\n",
        "        a_T[trt] ~ dnorm(0, sigma_aT),\n",
        "          sigma_aT ~ dexp(0.66),\n",
        "        b_x ~ dnorm(0,0.5)\n",
        "  ), data=dlist,\n",
        "     chains=4,\n",
        "     cores=4,\n",
        "     iter=2500\n",
        ")"
      ],
      "metadata": {
        "colab": {
          "base_uri": "https://localhost:8080/"
        },
        "id": "jCJMNPJlyaSN",
        "outputId": "8c94dc99-3027-4948-ef03-89dd6928ff8f"
      },
      "execution_count": null,
      "outputs": [
        {
          "output_type": "stream",
          "name": "stdout",
          "text": [
            "Running MCMC with 4 parallel chains, with 1 thread(s) per chain...\n",
            "\n",
            "Chain 1 Iteration:    1 / 2500 [  0%]  (Warmup) \n",
            "Chain 2 Iteration:    1 / 2500 [  0%]  (Warmup) \n",
            "Chain 3 Iteration:    1 / 2500 [  0%]  (Warmup) \n",
            "Chain 4 Iteration:    1 / 2500 [  0%]  (Warmup) \n",
            "Chain 1 Iteration:  100 / 2500 [  4%]  (Warmup) \n",
            "Chain 2 Iteration:  100 / 2500 [  4%]  (Warmup) \n",
            "Chain 3 Iteration:  100 / 2500 [  4%]  (Warmup) \n",
            "Chain 4 Iteration:  100 / 2500 [  4%]  (Warmup) \n",
            "Chain 1 Iteration:  200 / 2500 [  8%]  (Warmup) \n",
            "Chain 2 Iteration:  200 / 2500 [  8%]  (Warmup) \n",
            "Chain 4 Iteration:  200 / 2500 [  8%]  (Warmup) \n",
            "Chain 2 Iteration:  300 / 2500 [ 12%]  (Warmup) \n",
            "Chain 3 Iteration:  200 / 2500 [  8%]  (Warmup) \n",
            "Chain 1 Iteration:  300 / 2500 [ 12%]  (Warmup) \n",
            "Chain 4 Iteration:  300 / 2500 [ 12%]  (Warmup) \n",
            "Chain 2 Iteration:  400 / 2500 [ 16%]  (Warmup) \n",
            "Chain 3 Iteration:  300 / 2500 [ 12%]  (Warmup) \n",
            "Chain 3 Iteration:  400 / 2500 [ 16%]  (Warmup) \n",
            "Chain 4 Iteration:  400 / 2500 [ 16%]  (Warmup) \n",
            "Chain 1 Iteration:  400 / 2500 [ 16%]  (Warmup) \n",
            "Chain 2 Iteration:  500 / 2500 [ 20%]  (Warmup) \n",
            "Chain 3 Iteration:  500 / 2500 [ 20%]  (Warmup) \n",
            "Chain 1 Iteration:  500 / 2500 [ 20%]  (Warmup) \n",
            "Chain 3 Iteration:  600 / 2500 [ 24%]  (Warmup) \n",
            "Chain 4 Iteration:  500 / 2500 [ 20%]  (Warmup) \n",
            "Chain 2 Iteration:  600 / 2500 [ 24%]  (Warmup) \n",
            "Chain 3 Iteration:  700 / 2500 [ 28%]  (Warmup) \n",
            "Chain 4 Iteration:  600 / 2500 [ 24%]  (Warmup) \n",
            "Chain 2 Iteration:  700 / 2500 [ 28%]  (Warmup) \n",
            "Chain 1 Iteration:  600 / 2500 [ 24%]  (Warmup) \n",
            "Chain 3 Iteration:  800 / 2500 [ 32%]  (Warmup) \n",
            "Chain 4 Iteration:  700 / 2500 [ 28%]  (Warmup) \n",
            "Chain 1 Iteration:  700 / 2500 [ 28%]  (Warmup) \n",
            "Chain 2 Iteration:  800 / 2500 [ 32%]  (Warmup) \n",
            "Chain 3 Iteration:  900 / 2500 [ 36%]  (Warmup) \n",
            "Chain 3 Iteration: 1000 / 2500 [ 40%]  (Warmup) \n",
            "Chain 4 Iteration:  800 / 2500 [ 32%]  (Warmup) \n",
            "Chain 2 Iteration:  900 / 2500 [ 36%]  (Warmup) \n",
            "Chain 1 Iteration:  800 / 2500 [ 32%]  (Warmup) \n",
            "Chain 3 Iteration: 1100 / 2500 [ 44%]  (Warmup) \n",
            "Chain 4 Iteration:  900 / 2500 [ 36%]  (Warmup) \n",
            "Chain 2 Iteration: 1000 / 2500 [ 40%]  (Warmup) \n",
            "Chain 3 Iteration: 1200 / 2500 [ 48%]  (Warmup) \n",
            "Chain 4 Iteration: 1000 / 2500 [ 40%]  (Warmup) \n",
            "Chain 4 Iteration: 1100 / 2500 [ 44%]  (Warmup) \n",
            "Chain 1 Iteration:  900 / 2500 [ 36%]  (Warmup) \n",
            "Chain 2 Iteration: 1100 / 2500 [ 44%]  (Warmup) \n",
            "Chain 3 Iteration: 1251 / 2500 [ 50%]  (Sampling) \n",
            "Chain 4 Iteration: 1200 / 2500 [ 48%]  (Warmup) \n",
            "Chain 4 Iteration: 1251 / 2500 [ 50%]  (Sampling) \n",
            "Chain 1 Iteration: 1000 / 2500 [ 40%]  (Warmup) \n",
            "Chain 2 Iteration: 1200 / 2500 [ 48%]  (Warmup) \n",
            "Chain 3 Iteration: 1350 / 2500 [ 54%]  (Sampling) \n",
            "Chain 4 Iteration: 1350 / 2500 [ 54%]  (Sampling) \n",
            "Chain 2 Iteration: 1251 / 2500 [ 50%]  (Sampling) \n",
            "Chain 4 Iteration: 1450 / 2500 [ 58%]  (Sampling) \n",
            "Chain 1 Iteration: 1100 / 2500 [ 44%]  (Warmup) \n",
            "Chain 2 Iteration: 1350 / 2500 [ 54%]  (Sampling) \n",
            "Chain 3 Iteration: 1450 / 2500 [ 58%]  (Sampling) \n",
            "Chain 4 Iteration: 1550 / 2500 [ 62%]  (Sampling) \n",
            "Chain 2 Iteration: 1450 / 2500 [ 58%]  (Sampling) \n",
            "Chain 4 Iteration: 1650 / 2500 [ 66%]  (Sampling) \n",
            "Chain 1 Iteration: 1200 / 2500 [ 48%]  (Warmup) \n",
            "Chain 1 Iteration: 1251 / 2500 [ 50%]  (Sampling) \n",
            "Chain 3 Iteration: 1550 / 2500 [ 62%]  (Sampling) \n",
            "Chain 2 Iteration: 1550 / 2500 [ 62%]  (Sampling) \n",
            "Chain 4 Iteration: 1750 / 2500 [ 70%]  (Sampling) \n",
            "Chain 1 Iteration: 1350 / 2500 [ 54%]  (Sampling) \n",
            "Chain 2 Iteration: 1650 / 2500 [ 66%]  (Sampling) \n",
            "Chain 3 Iteration: 1650 / 2500 [ 66%]  (Sampling) \n",
            "Chain 4 Iteration: 1850 / 2500 [ 74%]  (Sampling) \n",
            "Chain 1 Iteration: 1450 / 2500 [ 58%]  (Sampling) \n",
            "Chain 4 Iteration: 1950 / 2500 [ 78%]  (Sampling) \n",
            "Chain 1 Iteration: 1550 / 2500 [ 62%]  (Sampling) \n",
            "Chain 2 Iteration: 1750 / 2500 [ 70%]  (Sampling) \n",
            "Chain 3 Iteration: 1750 / 2500 [ 70%]  (Sampling) \n",
            "Chain 4 Iteration: 2050 / 2500 [ 82%]  (Sampling) \n",
            "Chain 1 Iteration: 1650 / 2500 [ 66%]  (Sampling) \n",
            "Chain 2 Iteration: 1850 / 2500 [ 74%]  (Sampling) \n",
            "Chain 4 Iteration: 2150 / 2500 [ 86%]  (Sampling) \n",
            "Chain 3 Iteration: 1850 / 2500 [ 74%]  (Sampling) \n",
            "Chain 1 Iteration: 1750 / 2500 [ 70%]  (Sampling) \n",
            "Chain 2 Iteration: 1950 / 2500 [ 78%]  (Sampling) \n",
            "Chain 4 Iteration: 2250 / 2500 [ 90%]  (Sampling) \n",
            "Chain 1 Iteration: 1850 / 2500 [ 74%]  (Sampling) \n",
            "Chain 4 Iteration: 2350 / 2500 [ 94%]  (Sampling) \n",
            "Chain 2 Iteration: 2050 / 2500 [ 82%]  (Sampling) \n",
            "Chain 3 Iteration: 1950 / 2500 [ 78%]  (Sampling) \n",
            "Chain 1 Iteration: 1950 / 2500 [ 78%]  (Sampling) \n",
            "Chain 4 Iteration: 2450 / 2500 [ 98%]  (Sampling) \n",
            "Chain 1 Iteration: 2050 / 2500 [ 82%]  (Sampling) \n",
            "Chain 4 Iteration: 2500 / 2500 [100%]  (Sampling) \n",
            "Chain 4 finished in 5.5 seconds.\n",
            "Chain 1 Iteration: 2150 / 2500 [ 86%]  (Sampling) \n",
            "Chain 2 Iteration: 2150 / 2500 [ 86%]  (Sampling) \n",
            "Chain 3 Iteration: 2050 / 2500 [ 82%]  (Sampling) \n",
            "Chain 1 Iteration: 2250 / 2500 [ 90%]  (Sampling) \n",
            "Chain 2 Iteration: 2250 / 2500 [ 90%]  (Sampling) \n",
            "Chain 2 Iteration: 2350 / 2500 [ 94%]  (Sampling) \n",
            "Chain 3 Iteration: 2150 / 2500 [ 86%]  (Sampling) \n",
            "Chain 1 Iteration: 2350 / 2500 [ 94%]  (Sampling) \n",
            "Chain 2 Iteration: 2450 / 2500 [ 98%]  (Sampling) \n",
            "Chain 1 Iteration: 2450 / 2500 [ 98%]  (Sampling) \n",
            "Chain 2 Iteration: 2500 / 2500 [100%]  (Sampling) \n",
            "Chain 3 Iteration: 2250 / 2500 [ 90%]  (Sampling) \n",
            "Chain 2 finished in 6.2 seconds.\n",
            "Chain 1 Iteration: 2500 / 2500 [100%]  (Sampling) \n",
            "Chain 1 finished in 6.4 seconds.\n",
            "Chain 3 Iteration: 2350 / 2500 [ 94%]  (Sampling) \n",
            "Chain 3 Iteration: 2450 / 2500 [ 98%]  (Sampling) \n",
            "Chain 3 Iteration: 2500 / 2500 [100%]  (Sampling) \n",
            "Chain 3 finished in 6.5 seconds.\n",
            "\n",
            "All 4 chains finished successfully.\n",
            "Mean chain execution time: 6.1 seconds.\n",
            "Total execution time: 6.7 seconds.\n",
            "\n"
          ]
        },
        {
          "output_type": "stream",
          "name": "stderr",
          "text": [
            "Warning: 7 of 5000 (0.0%) transitions ended with a divergence.\n",
            "See https://mc-stan.org/misc/warnings for details.\n",
            "\n",
            "\n"
          ]
        }
      ]
    },
    {
      "cell_type": "code",
      "source": [
        "# Second non-overparameterized model\n",
        "\n",
        "m2 <- ulam(\n",
        "  alist(\n",
        "    y ~ dpois(lambda),\n",
        "      log(lambda) <- a + a_G[grp] + a_T[trt] + b_x*x,\n",
        "        a ~ dnorm(0, 1),\n",
        "        a_G[grp] ~ dnorm(0, sigma_aG),\n",
        "          sigma_aG ~ dexp(0.66),\n",
        "        a_T[trt] ~ dnorm(0, sigma_aT),\n",
        "          sigma_aT ~ dexp(0.66),\n",
        "        b_x ~ dnorm(0,0.5)\n",
        "  ), data=dlist,\n",
        "     chains=4,\n",
        "     cores=4,\n",
        "     iter=2500\n",
        ")"
      ],
      "metadata": {
        "colab": {
          "base_uri": "https://localhost:8080/"
        },
        "id": "k-tCgmzGztP6",
        "outputId": "414828e8-9141-49bc-f1f8-59515c3c3828"
      },
      "execution_count": null,
      "outputs": [
        {
          "output_type": "stream",
          "name": "stdout",
          "text": [
            "Running MCMC with 4 parallel chains, with 1 thread(s) per chain...\n",
            "\n",
            "Chain 1 Iteration:    1 / 2500 [  0%]  (Warmup) \n",
            "Chain 2 Iteration:    1 / 2500 [  0%]  (Warmup) \n",
            "Chain 3 Iteration:    1 / 2500 [  0%]  (Warmup) \n",
            "Chain 4 Iteration:    1 / 2500 [  0%]  (Warmup) \n",
            "Chain 2 Iteration:  100 / 2500 [  4%]  (Warmup) \n",
            "Chain 1 Iteration:  100 / 2500 [  4%]  (Warmup) \n",
            "Chain 3 Iteration:  100 / 2500 [  4%]  (Warmup) \n",
            "Chain 4 Iteration:  100 / 2500 [  4%]  (Warmup) \n",
            "Chain 2 Iteration:  200 / 2500 [  8%]  (Warmup) \n",
            "Chain 3 Iteration:  200 / 2500 [  8%]  (Warmup) \n",
            "Chain 4 Iteration:  200 / 2500 [  8%]  (Warmup) \n",
            "Chain 1 Iteration:  200 / 2500 [  8%]  (Warmup) \n",
            "Chain 3 Iteration:  300 / 2500 [ 12%]  (Warmup) \n",
            "Chain 2 Iteration:  300 / 2500 [ 12%]  (Warmup) \n",
            "Chain 4 Iteration:  300 / 2500 [ 12%]  (Warmup) \n",
            "Chain 1 Iteration:  300 / 2500 [ 12%]  (Warmup) \n",
            "Chain 3 Iteration:  400 / 2500 [ 16%]  (Warmup) \n",
            "Chain 2 Iteration:  400 / 2500 [ 16%]  (Warmup) \n",
            "Chain 1 Iteration:  400 / 2500 [ 16%]  (Warmup) \n",
            "Chain 4 Iteration:  400 / 2500 [ 16%]  (Warmup) \n",
            "Chain 1 Iteration:  500 / 2500 [ 20%]  (Warmup) \n",
            "Chain 3 Iteration:  500 / 2500 [ 20%]  (Warmup) \n",
            "Chain 2 Iteration:  500 / 2500 [ 20%]  (Warmup) \n",
            "Chain 1 Iteration:  600 / 2500 [ 24%]  (Warmup) \n",
            "Chain 4 Iteration:  500 / 2500 [ 20%]  (Warmup) \n",
            "Chain 3 Iteration:  600 / 2500 [ 24%]  (Warmup) \n",
            "Chain 2 Iteration:  600 / 2500 [ 24%]  (Warmup) \n",
            "Chain 1 Iteration:  700 / 2500 [ 28%]  (Warmup) \n",
            "Chain 4 Iteration:  600 / 2500 [ 24%]  (Warmup) \n",
            "Chain 3 Iteration:  700 / 2500 [ 28%]  (Warmup) \n",
            "Chain 1 Iteration:  800 / 2500 [ 32%]  (Warmup) \n",
            "Chain 2 Iteration:  700 / 2500 [ 28%]  (Warmup) \n",
            "Chain 3 Iteration:  800 / 2500 [ 32%]  (Warmup) \n",
            "Chain 1 Iteration:  900 / 2500 [ 36%]  (Warmup) \n",
            "Chain 4 Iteration:  700 / 2500 [ 28%]  (Warmup) \n",
            "Chain 2 Iteration:  800 / 2500 [ 32%]  (Warmup) \n",
            "Chain 1 Iteration: 1000 / 2500 [ 40%]  (Warmup) \n",
            "Chain 3 Iteration:  900 / 2500 [ 36%]  (Warmup) \n",
            "Chain 4 Iteration:  800 / 2500 [ 32%]  (Warmup) \n",
            "Chain 2 Iteration:  900 / 2500 [ 36%]  (Warmup) \n",
            "Chain 1 Iteration: 1100 / 2500 [ 44%]  (Warmup) \n",
            "Chain 2 Iteration: 1000 / 2500 [ 40%]  (Warmup) \n",
            "Chain 3 Iteration: 1000 / 2500 [ 40%]  (Warmup) \n",
            "Chain 4 Iteration:  900 / 2500 [ 36%]  (Warmup) \n",
            "Chain 1 Iteration: 1200 / 2500 [ 48%]  (Warmup) \n",
            "Chain 1 Iteration: 1251 / 2500 [ 50%]  (Sampling) \n",
            "Chain 2 Iteration: 1100 / 2500 [ 44%]  (Warmup) \n",
            "Chain 3 Iteration: 1100 / 2500 [ 44%]  (Warmup) \n",
            "Chain 4 Iteration: 1000 / 2500 [ 40%]  (Warmup) \n",
            "Chain 1 Iteration: 1350 / 2500 [ 54%]  (Sampling) \n",
            "Chain 2 Iteration: 1200 / 2500 [ 48%]  (Warmup) \n",
            "Chain 4 Iteration: 1100 / 2500 [ 44%]  (Warmup) \n",
            "Chain 3 Iteration: 1200 / 2500 [ 48%]  (Warmup) \n",
            "Chain 2 Iteration: 1251 / 2500 [ 50%]  (Sampling) \n",
            "Chain 3 Iteration: 1251 / 2500 [ 50%]  (Sampling) \n",
            "Chain 1 Iteration: 1450 / 2500 [ 58%]  (Sampling) \n",
            "Chain 4 Iteration: 1200 / 2500 [ 48%]  (Warmup) \n",
            "Chain 2 Iteration: 1350 / 2500 [ 54%]  (Sampling) \n",
            "Chain 3 Iteration: 1350 / 2500 [ 54%]  (Sampling) \n",
            "Chain 4 Iteration: 1251 / 2500 [ 50%]  (Sampling) \n",
            "Chain 1 Iteration: 1550 / 2500 [ 62%]  (Sampling) \n",
            "Chain 2 Iteration: 1450 / 2500 [ 58%]  (Sampling) \n",
            "Chain 3 Iteration: 1450 / 2500 [ 58%]  (Sampling) \n",
            "Chain 4 Iteration: 1350 / 2500 [ 54%]  (Sampling) \n",
            "Chain 1 Iteration: 1650 / 2500 [ 66%]  (Sampling) \n",
            "Chain 2 Iteration: 1550 / 2500 [ 62%]  (Sampling) \n",
            "Chain 3 Iteration: 1550 / 2500 [ 62%]  (Sampling) \n",
            "Chain 4 Iteration: 1450 / 2500 [ 58%]  (Sampling) \n",
            "Chain 1 Iteration: 1750 / 2500 [ 70%]  (Sampling) \n",
            "Chain 3 Iteration: 1650 / 2500 [ 66%]  (Sampling) \n",
            "Chain 2 Iteration: 1650 / 2500 [ 66%]  (Sampling) \n",
            "Chain 3 Iteration: 1750 / 2500 [ 70%]  (Sampling) \n",
            "Chain 4 Iteration: 1550 / 2500 [ 62%]  (Sampling) \n",
            "Chain 1 Iteration: 1850 / 2500 [ 74%]  (Sampling) \n",
            "Chain 2 Iteration: 1750 / 2500 [ 70%]  (Sampling) \n",
            "Chain 3 Iteration: 1850 / 2500 [ 74%]  (Sampling) \n",
            "Chain 4 Iteration: 1650 / 2500 [ 66%]  (Sampling) \n",
            "Chain 2 Iteration: 1850 / 2500 [ 74%]  (Sampling) \n",
            "Chain 1 Iteration: 1950 / 2500 [ 78%]  (Sampling) \n",
            "Chain 3 Iteration: 1950 / 2500 [ 78%]  (Sampling) \n",
            "Chain 2 Iteration: 1950 / 2500 [ 78%]  (Sampling) \n",
            "Chain 4 Iteration: 1750 / 2500 [ 70%]  (Sampling) \n",
            "Chain 1 Iteration: 2050 / 2500 [ 82%]  (Sampling) \n",
            "Chain 3 Iteration: 2050 / 2500 [ 82%]  (Sampling) \n",
            "Chain 2 Iteration: 2050 / 2500 [ 82%]  (Sampling) \n",
            "Chain 4 Iteration: 1850 / 2500 [ 74%]  (Sampling) \n",
            "Chain 3 Iteration: 2150 / 2500 [ 86%]  (Sampling) \n",
            "Chain 1 Iteration: 2150 / 2500 [ 86%]  (Sampling) \n",
            "Chain 2 Iteration: 2150 / 2500 [ 86%]  (Sampling) \n",
            "Chain 3 Iteration: 2250 / 2500 [ 90%]  (Sampling) \n",
            "Chain 4 Iteration: 1950 / 2500 [ 78%]  (Sampling) \n",
            "Chain 1 Iteration: 2250 / 2500 [ 90%]  (Sampling) \n",
            "Chain 2 Iteration: 2250 / 2500 [ 90%]  (Sampling) \n",
            "Chain 3 Iteration: 2350 / 2500 [ 94%]  (Sampling) \n",
            "Chain 4 Iteration: 2050 / 2500 [ 82%]  (Sampling) \n",
            "Chain 2 Iteration: 2350 / 2500 [ 94%]  (Sampling) \n",
            "Chain 1 Iteration: 2350 / 2500 [ 94%]  (Sampling) \n",
            "Chain 3 Iteration: 2450 / 2500 [ 98%]  (Sampling) \n",
            "Chain 3 Iteration: 2500 / 2500 [100%]  (Sampling) \n",
            "Chain 4 Iteration: 2150 / 2500 [ 86%]  (Sampling) \n",
            "Chain 3 finished in 11.1 seconds.\n",
            "Chain 1 Iteration: 2450 / 2500 [ 98%]  (Sampling) \n",
            "Chain 2 Iteration: 2450 / 2500 [ 98%]  (Sampling) \n",
            "Chain 2 Iteration: 2500 / 2500 [100%]  (Sampling) \n",
            "Chain 2 finished in 11.6 seconds.\n",
            "Chain 1 Iteration: 2500 / 2500 [100%]  (Sampling) \n",
            "Chain 1 finished in 11.7 seconds.\n",
            "Chain 4 Iteration: 2250 / 2500 [ 90%]  (Sampling) \n",
            "Chain 4 Iteration: 2350 / 2500 [ 94%]  (Sampling) \n",
            "Chain 4 Iteration: 2450 / 2500 [ 98%]  (Sampling) \n",
            "Chain 4 Iteration: 2500 / 2500 [100%]  (Sampling) \n",
            "Chain 4 finished in 12.2 seconds.\n",
            "\n",
            "All 4 chains finished successfully.\n",
            "Mean chain execution time: 11.6 seconds.\n",
            "Total execution time: 12.3 seconds.\n",
            "\n"
          ]
        },
        {
          "output_type": "stream",
          "name": "stderr",
          "text": [
            "Warning: 9 of 5000 (0.0%) transitions ended with a divergence.\n",
            "See https://mc-stan.org/misc/warnings for details.\n",
            "\n",
            "\n"
          ]
        }
      ]
    },
    {
      "cell_type": "markdown",
      "source": [
        "Let's compare the estimates of our models to the our hard-coded coeficient values."
      ],
      "metadata": {
        "id": "EZ_FOhcU11RE"
      }
    },
    {
      "cell_type": "code",
      "source": [
        "unique(a_grp)\n",
        "unique(a_trt)\n",
        "b_x\n",
        "\n",
        "round(precis(m0, depth=2),2)\n",
        "round(precis(m1, depth=2),2)\n",
        "round(precis(m2, depth=2),2)"
      ],
      "metadata": {
        "colab": {
          "base_uri": "https://localhost:8080/",
          "height": 1000
        },
        "id": "aXKf9JwP2Bdn",
        "outputId": "28d7b0b6-8de0-473a-f550-d3b647568056"
      },
      "execution_count": null,
      "outputs": [
        {
          "output_type": "display_data",
          "data": {
            "text/html": [
              "<style>\n",
              ".list-inline {list-style: none; margin:0; padding: 0}\n",
              ".list-inline>li {display: inline-block}\n",
              ".list-inline>li:not(:last-child)::after {content: \"\\00b7\"; padding: 0 .5ex}\n",
              "</style>\n",
              "<ol class=list-inline><li>0.9</li><li>1.1</li></ol>\n"
            ],
            "text/markdown": "1. 0.9\n2. 1.1\n\n\n",
            "text/latex": "\\begin{enumerate*}\n\\item 0.9\n\\item 1.1\n\\end{enumerate*}\n",
            "text/plain": [
              "[1] 0.9 1.1"
            ]
          },
          "metadata": {}
        },
        {
          "output_type": "display_data",
          "data": {
            "text/html": [
              "<style>\n",
              ".list-inline {list-style: none; margin:0; padding: 0}\n",
              ".list-inline>li {display: inline-block}\n",
              ".list-inline>li:not(:last-child)::after {content: \"\\00b7\"; padding: 0 .5ex}\n",
              "</style>\n",
              "<ol class=list-inline><li>0.9</li><li>1.1</li></ol>\n"
            ],
            "text/markdown": "1. 0.9\n2. 1.1\n\n\n",
            "text/latex": "\\begin{enumerate*}\n\\item 0.9\n\\item 1.1\n\\end{enumerate*}\n",
            "text/plain": [
              "[1] 0.9 1.1"
            ]
          },
          "metadata": {}
        },
        {
          "output_type": "display_data",
          "data": {
            "text/html": [
              "1"
            ],
            "text/markdown": "1",
            "text/latex": "1",
            "text/plain": [
              "[1] 1"
            ]
          },
          "metadata": {}
        },
        {
          "output_type": "display_data",
          "data": {
            "text/html": [
              "<table class=\"dataframe\">\n",
              "<caption>A data.frame: 9 × 6</caption>\n",
              "<thead>\n",
              "\t<tr><th></th><th scope=col>mean</th><th scope=col>sd</th><th scope=col>5.5%</th><th scope=col>94.5%</th><th scope=col>rhat</th><th scope=col>ess_bulk</th></tr>\n",
              "\t<tr><th></th><th scope=col>&lt;dbl&gt;</th><th scope=col>&lt;dbl&gt;</th><th scope=col>&lt;dbl&gt;</th><th scope=col>&lt;dbl&gt;</th><th scope=col>&lt;dbl&gt;</th><th scope=col>&lt;dbl&gt;</th></tr>\n",
              "</thead>\n",
              "<tbody>\n",
              "\t<tr><th scope=row>a_G[1]</th><td>0.97</td><td>0.82</td><td>-0.34</td><td>2.30</td><td>1.01</td><td> 867.19</td></tr>\n",
              "\t<tr><th scope=row>a_G[2]</th><td>1.21</td><td>0.82</td><td>-0.10</td><td>2.54</td><td>1.01</td><td> 866.03</td></tr>\n",
              "\t<tr><th scope=row>a_Gbar</th><td>0.80</td><td>0.82</td><td>-0.52</td><td>2.09</td><td>1.00</td><td>1246.34</td></tr>\n",
              "\t<tr><th scope=row>sigma_aG</th><td>0.79</td><td>0.85</td><td> 0.11</td><td>2.41</td><td>1.00</td><td>1405.54</td></tr>\n",
              "\t<tr><th scope=row>a_T[1]</th><td>0.86</td><td>0.82</td><td>-0.46</td><td>2.17</td><td>1.01</td><td> 874.04</td></tr>\n",
              "\t<tr><th scope=row>a_T[2]</th><td>0.96</td><td>0.82</td><td>-0.37</td><td>2.27</td><td>1.01</td><td> 877.29</td></tr>\n",
              "\t<tr><th scope=row>a_Tbar</th><td>0.74</td><td>0.80</td><td>-0.58</td><td>1.99</td><td>1.00</td><td>1146.61</td></tr>\n",
              "\t<tr><th scope=row>sigma_aT</th><td>0.55</td><td>0.74</td><td> 0.04</td><td>1.93</td><td>1.00</td><td>1166.58</td></tr>\n",
              "\t<tr><th scope=row>b_x</th><td>1.00</td><td>0.10</td><td> 0.83</td><td>1.17</td><td>1.00</td><td>2559.22</td></tr>\n",
              "</tbody>\n",
              "</table>\n"
            ],
            "text/markdown": "\nA data.frame: 9 × 6\n\n| <!--/--> | mean &lt;dbl&gt; | sd &lt;dbl&gt; | 5.5% &lt;dbl&gt; | 94.5% &lt;dbl&gt; | rhat &lt;dbl&gt; | ess_bulk &lt;dbl&gt; |\n|---|---|---|---|---|---|---|\n| a_G[1] | 0.97 | 0.82 | -0.34 | 2.30 | 1.01 |  867.19 |\n| a_G[2] | 1.21 | 0.82 | -0.10 | 2.54 | 1.01 |  866.03 |\n| a_Gbar | 0.80 | 0.82 | -0.52 | 2.09 | 1.00 | 1246.34 |\n| sigma_aG | 0.79 | 0.85 |  0.11 | 2.41 | 1.00 | 1405.54 |\n| a_T[1] | 0.86 | 0.82 | -0.46 | 2.17 | 1.01 |  874.04 |\n| a_T[2] | 0.96 | 0.82 | -0.37 | 2.27 | 1.01 |  877.29 |\n| a_Tbar | 0.74 | 0.80 | -0.58 | 1.99 | 1.00 | 1146.61 |\n| sigma_aT | 0.55 | 0.74 |  0.04 | 1.93 | 1.00 | 1166.58 |\n| b_x | 1.00 | 0.10 |  0.83 | 1.17 | 1.00 | 2559.22 |\n\n",
            "text/latex": "A data.frame: 9 × 6\n\\begin{tabular}{r|llllll}\n  & mean & sd & 5.5\\% & 94.5\\% & rhat & ess\\_bulk\\\\\n  & <dbl> & <dbl> & <dbl> & <dbl> & <dbl> & <dbl>\\\\\n\\hline\n\ta\\_G{[}1{]} & 0.97 & 0.82 & -0.34 & 2.30 & 1.01 &  867.19\\\\\n\ta\\_G{[}2{]} & 1.21 & 0.82 & -0.10 & 2.54 & 1.01 &  866.03\\\\\n\ta\\_Gbar & 0.80 & 0.82 & -0.52 & 2.09 & 1.00 & 1246.34\\\\\n\tsigma\\_aG & 0.79 & 0.85 &  0.11 & 2.41 & 1.00 & 1405.54\\\\\n\ta\\_T{[}1{]} & 0.86 & 0.82 & -0.46 & 2.17 & 1.01 &  874.04\\\\\n\ta\\_T{[}2{]} & 0.96 & 0.82 & -0.37 & 2.27 & 1.01 &  877.29\\\\\n\ta\\_Tbar & 0.74 & 0.80 & -0.58 & 1.99 & 1.00 & 1146.61\\\\\n\tsigma\\_aT & 0.55 & 0.74 &  0.04 & 1.93 & 1.00 & 1166.58\\\\\n\tb\\_x & 1.00 & 0.10 &  0.83 & 1.17 & 1.00 & 2559.22\\\\\n\\end{tabular}\n",
            "text/plain": [
              "         mean sd   5.5%  94.5% rhat ess_bulk\n",
              "a_G[1]   0.97 0.82 -0.34 2.30  1.01  867.19 \n",
              "a_G[2]   1.21 0.82 -0.10 2.54  1.01  866.03 \n",
              "a_Gbar   0.80 0.82 -0.52 2.09  1.00 1246.34 \n",
              "sigma_aG 0.79 0.85  0.11 2.41  1.00 1405.54 \n",
              "a_T[1]   0.86 0.82 -0.46 2.17  1.01  874.04 \n",
              "a_T[2]   0.96 0.82 -0.37 2.27  1.01  877.29 \n",
              "a_Tbar   0.74 0.80 -0.58 1.99  1.00 1146.61 \n",
              "sigma_aT 0.55 0.74  0.04 1.93  1.00 1166.58 \n",
              "b_x      1.00 0.10  0.83 1.17  1.00 2559.22 "
            ]
          },
          "metadata": {}
        },
        {
          "output_type": "display_data",
          "data": {
            "text/html": [
              "<table class=\"dataframe\">\n",
              "<caption>A data.frame: 8 × 6</caption>\n",
              "<thead>\n",
              "\t<tr><th></th><th scope=col>mean</th><th scope=col>sd</th><th scope=col>5.5%</th><th scope=col>94.5%</th><th scope=col>rhat</th><th scope=col>ess_bulk</th></tr>\n",
              "\t<tr><th></th><th scope=col>&lt;dbl&gt;</th><th scope=col>&lt;dbl&gt;</th><th scope=col>&lt;dbl&gt;</th><th scope=col>&lt;dbl&gt;</th><th scope=col>&lt;dbl&gt;</th><th scope=col>&lt;dbl&gt;</th></tr>\n",
              "</thead>\n",
              "<tbody>\n",
              "\t<tr><th scope=row>a_G[1]</th><td>1.56</td><td>0.67</td><td> 0.13</td><td>2.15</td><td>1.03</td><td> 298.84</td></tr>\n",
              "\t<tr><th scope=row>a_G[2]</th><td>1.80</td><td>0.67</td><td> 0.37</td><td>2.39</td><td>1.03</td><td> 300.74</td></tr>\n",
              "\t<tr><th scope=row>a_Gbar</th><td>1.21</td><td>0.85</td><td>-0.39</td><td>2.23</td><td>1.01</td><td> 642.09</td></tr>\n",
              "\t<tr><th scope=row>sigma_aG</th><td>0.89</td><td>0.92</td><td> 0.11</td><td>2.65</td><td>1.01</td><td> 971.46</td></tr>\n",
              "\t<tr><th scope=row>a_T[1]</th><td>0.27</td><td>0.67</td><td>-0.30</td><td>1.67</td><td>1.02</td><td> 339.62</td></tr>\n",
              "\t<tr><th scope=row>a_T[2]</th><td>0.37</td><td>0.68</td><td>-0.19</td><td>1.79</td><td>1.03</td><td> 312.48</td></tr>\n",
              "\t<tr><th scope=row>sigma_aT</th><td>0.66</td><td>0.85</td><td> 0.04</td><td>2.33</td><td>1.01</td><td> 425.51</td></tr>\n",
              "\t<tr><th scope=row>b_x</th><td>1.00</td><td>0.11</td><td> 0.84</td><td>1.17</td><td>1.00</td><td>2004.43</td></tr>\n",
              "</tbody>\n",
              "</table>\n"
            ],
            "text/markdown": "\nA data.frame: 8 × 6\n\n| <!--/--> | mean &lt;dbl&gt; | sd &lt;dbl&gt; | 5.5% &lt;dbl&gt; | 94.5% &lt;dbl&gt; | rhat &lt;dbl&gt; | ess_bulk &lt;dbl&gt; |\n|---|---|---|---|---|---|---|\n| a_G[1] | 1.56 | 0.67 |  0.13 | 2.15 | 1.03 |  298.84 |\n| a_G[2] | 1.80 | 0.67 |  0.37 | 2.39 | 1.03 |  300.74 |\n| a_Gbar | 1.21 | 0.85 | -0.39 | 2.23 | 1.01 |  642.09 |\n| sigma_aG | 0.89 | 0.92 |  0.11 | 2.65 | 1.01 |  971.46 |\n| a_T[1] | 0.27 | 0.67 | -0.30 | 1.67 | 1.02 |  339.62 |\n| a_T[2] | 0.37 | 0.68 | -0.19 | 1.79 | 1.03 |  312.48 |\n| sigma_aT | 0.66 | 0.85 |  0.04 | 2.33 | 1.01 |  425.51 |\n| b_x | 1.00 | 0.11 |  0.84 | 1.17 | 1.00 | 2004.43 |\n\n",
            "text/latex": "A data.frame: 8 × 6\n\\begin{tabular}{r|llllll}\n  & mean & sd & 5.5\\% & 94.5\\% & rhat & ess\\_bulk\\\\\n  & <dbl> & <dbl> & <dbl> & <dbl> & <dbl> & <dbl>\\\\\n\\hline\n\ta\\_G{[}1{]} & 1.56 & 0.67 &  0.13 & 2.15 & 1.03 &  298.84\\\\\n\ta\\_G{[}2{]} & 1.80 & 0.67 &  0.37 & 2.39 & 1.03 &  300.74\\\\\n\ta\\_Gbar & 1.21 & 0.85 & -0.39 & 2.23 & 1.01 &  642.09\\\\\n\tsigma\\_aG & 0.89 & 0.92 &  0.11 & 2.65 & 1.01 &  971.46\\\\\n\ta\\_T{[}1{]} & 0.27 & 0.67 & -0.30 & 1.67 & 1.02 &  339.62\\\\\n\ta\\_T{[}2{]} & 0.37 & 0.68 & -0.19 & 1.79 & 1.03 &  312.48\\\\\n\tsigma\\_aT & 0.66 & 0.85 &  0.04 & 2.33 & 1.01 &  425.51\\\\\n\tb\\_x & 1.00 & 0.11 &  0.84 & 1.17 & 1.00 & 2004.43\\\\\n\\end{tabular}\n",
            "text/plain": [
              "         mean sd   5.5%  94.5% rhat ess_bulk\n",
              "a_G[1]   1.56 0.67  0.13 2.15  1.03  298.84 \n",
              "a_G[2]   1.80 0.67  0.37 2.39  1.03  300.74 \n",
              "a_Gbar   1.21 0.85 -0.39 2.23  1.01  642.09 \n",
              "sigma_aG 0.89 0.92  0.11 2.65  1.01  971.46 \n",
              "a_T[1]   0.27 0.67 -0.30 1.67  1.02  339.62 \n",
              "a_T[2]   0.37 0.68 -0.19 1.79  1.03  312.48 \n",
              "sigma_aT 0.66 0.85  0.04 2.33  1.01  425.51 \n",
              "b_x      1.00 0.11  0.84 1.17  1.00 2004.43 "
            ]
          },
          "metadata": {}
        },
        {
          "output_type": "display_data",
          "data": {
            "text/html": [
              "<table class=\"dataframe\">\n",
              "<caption>A data.frame: 8 × 6</caption>\n",
              "<thead>\n",
              "\t<tr><th></th><th scope=col>mean</th><th scope=col>sd</th><th scope=col>5.5%</th><th scope=col>94.5%</th><th scope=col>rhat</th><th scope=col>ess_bulk</th></tr>\n",
              "\t<tr><th></th><th scope=col>&lt;dbl&gt;</th><th scope=col>&lt;dbl&gt;</th><th scope=col>&lt;dbl&gt;</th><th scope=col>&lt;dbl&gt;</th><th scope=col>&lt;dbl&gt;</th><th scope=col>&lt;dbl&gt;</th></tr>\n",
              "</thead>\n",
              "<tbody>\n",
              "\t<tr><th scope=row>a</th><td>1.16</td><td>0.89</td><td>-0.49</td><td>2.23</td><td>1.00</td><td> 610.51</td></tr>\n",
              "\t<tr><th scope=row>a_G[1]</th><td>0.38</td><td>0.78</td><td>-0.39</td><td>1.98</td><td>1.01</td><td> 568.43</td></tr>\n",
              "\t<tr><th scope=row>a_G[2]</th><td>0.62</td><td>0.79</td><td>-0.16</td><td>2.22</td><td>1.01</td><td> 567.97</td></tr>\n",
              "\t<tr><th scope=row>sigma_aG</th><td>0.93</td><td>0.94</td><td> 0.12</td><td>2.71</td><td>1.01</td><td> 614.68</td></tr>\n",
              "\t<tr><th scope=row>a_T[1]</th><td>0.30</td><td>0.71</td><td>-0.29</td><td>1.77</td><td>1.01</td><td> 437.57</td></tr>\n",
              "\t<tr><th scope=row>a_T[2]</th><td>0.40</td><td>0.72</td><td>-0.20</td><td>1.87</td><td>1.01</td><td> 457.07</td></tr>\n",
              "\t<tr><th scope=row>sigma_aT</th><td>0.71</td><td>0.89</td><td> 0.04</td><td>2.40</td><td>1.01</td><td> 444.01</td></tr>\n",
              "\t<tr><th scope=row>b_x</th><td>1.00</td><td>0.10</td><td> 0.83</td><td>1.16</td><td>1.00</td><td>1907.64</td></tr>\n",
              "</tbody>\n",
              "</table>\n"
            ],
            "text/markdown": "\nA data.frame: 8 × 6\n\n| <!--/--> | mean &lt;dbl&gt; | sd &lt;dbl&gt; | 5.5% &lt;dbl&gt; | 94.5% &lt;dbl&gt; | rhat &lt;dbl&gt; | ess_bulk &lt;dbl&gt; |\n|---|---|---|---|---|---|---|\n| a | 1.16 | 0.89 | -0.49 | 2.23 | 1.00 |  610.51 |\n| a_G[1] | 0.38 | 0.78 | -0.39 | 1.98 | 1.01 |  568.43 |\n| a_G[2] | 0.62 | 0.79 | -0.16 | 2.22 | 1.01 |  567.97 |\n| sigma_aG | 0.93 | 0.94 |  0.12 | 2.71 | 1.01 |  614.68 |\n| a_T[1] | 0.30 | 0.71 | -0.29 | 1.77 | 1.01 |  437.57 |\n| a_T[2] | 0.40 | 0.72 | -0.20 | 1.87 | 1.01 |  457.07 |\n| sigma_aT | 0.71 | 0.89 |  0.04 | 2.40 | 1.01 |  444.01 |\n| b_x | 1.00 | 0.10 |  0.83 | 1.16 | 1.00 | 1907.64 |\n\n",
            "text/latex": "A data.frame: 8 × 6\n\\begin{tabular}{r|llllll}\n  & mean & sd & 5.5\\% & 94.5\\% & rhat & ess\\_bulk\\\\\n  & <dbl> & <dbl> & <dbl> & <dbl> & <dbl> & <dbl>\\\\\n\\hline\n\ta & 1.16 & 0.89 & -0.49 & 2.23 & 1.00 &  610.51\\\\\n\ta\\_G{[}1{]} & 0.38 & 0.78 & -0.39 & 1.98 & 1.01 &  568.43\\\\\n\ta\\_G{[}2{]} & 0.62 & 0.79 & -0.16 & 2.22 & 1.01 &  567.97\\\\\n\tsigma\\_aG & 0.93 & 0.94 &  0.12 & 2.71 & 1.01 &  614.68\\\\\n\ta\\_T{[}1{]} & 0.30 & 0.71 & -0.29 & 1.77 & 1.01 &  437.57\\\\\n\ta\\_T{[}2{]} & 0.40 & 0.72 & -0.20 & 1.87 & 1.01 &  457.07\\\\\n\tsigma\\_aT & 0.71 & 0.89 &  0.04 & 2.40 & 1.01 &  444.01\\\\\n\tb\\_x & 1.00 & 0.10 &  0.83 & 1.16 & 1.00 & 1907.64\\\\\n\\end{tabular}\n",
            "text/plain": [
              "         mean sd   5.5%  94.5% rhat ess_bulk\n",
              "a        1.16 0.89 -0.49 2.23  1.00  610.51 \n",
              "a_G[1]   0.38 0.78 -0.39 1.98  1.01  568.43 \n",
              "a_G[2]   0.62 0.79 -0.16 2.22  1.01  567.97 \n",
              "sigma_aG 0.93 0.94  0.12 2.71  1.01  614.68 \n",
              "a_T[1]   0.30 0.71 -0.29 1.77  1.01  437.57 \n",
              "a_T[2]   0.40 0.72 -0.20 1.87  1.01  457.07 \n",
              "sigma_aT 0.71 0.89  0.04 2.40  1.01  444.01 \n",
              "b_x      1.00 0.10  0.83 1.16  1.00 1907.64 "
            ]
          },
          "metadata": {}
        }
      ]
    },
    {
      "cell_type": "markdown",
      "source": [
        "In order to evaluate these varying intercepts, I think we need to extract some samples."
      ],
      "metadata": {
        "id": "Z2ZvnAuy64dW"
      }
    },
    {
      "cell_type": "code",
      "source": [
        "post0 <- extract.samples(m0)\n",
        "post1 <- extract.samples(m1)\n",
        "post2 <- extract.samples(m2)"
      ],
      "metadata": {
        "id": "LA7qpkrxIWmP"
      },
      "execution_count": null,
      "outputs": []
    },
    {
      "cell_type": "code",
      "source": [
        "x_seq <- seq(from=0, to=1, by=0.01)\n",
        "\n",
        "actual_g1t1 <- unique(a_grp)[1] + unique(a_trt)[1] + b_x*x_seq\n",
        "actual_g1t2 <- unique(a_grp)[1] + unique(a_trt)[2] + b_x*x_seq\n",
        "actual_g2t1 <- unique(a_grp)[2] + unique(a_trt)[1] + b_x*x_seq\n",
        "actual_g2t2 <- unique(a_grp)[2] + unique(a_trt)[2] + b_x*x_seq"
      ],
      "metadata": {
        "id": "TVNLv0rr8Npc"
      },
      "execution_count": null,
      "outputs": []
    },
    {
      "cell_type": "code",
      "source": [
        "m0_g1t1 <- matrix(data=NA, nrow=nrow(post0$a_G), ncol=length(x_seq))\n",
        "  for(i in 1:length(x_seq)){\n",
        "    m0_g1t1[,i] <- with(post0, a_G[,1] + a_T[,1] + b_x*x_seq[i])\n",
        "  }\n",
        "  m0_g1t1_mean <- colMeans(m0_g1t1)\n",
        "  m0_g1t1_PI <- apply(m0_g1t1, 2, PI)\n",
        "\n",
        "m0_g1t2 <- matrix(data=NA, nrow=nrow(post0$a_G), ncol=length(x_seq))\n",
        "  for(i in 1:length(x_seq)){\n",
        "    m0_g1t2[,i] <- with(post0, a_G[,1] + a_T[,2] + b_x*x_seq[i])\n",
        "  }\n",
        "  m0_g1t2_mean <- colMeans(m0_g1t2)\n",
        "  m0_g1t2_PI <- apply(m0_g1t2, 2, PI)\n",
        "\n",
        "m0_g2t1 <- matrix(data=NA, nrow=nrow(post0$a_G), ncol=length(x_seq))\n",
        "  for(i in 1:length(x_seq)){\n",
        "    m0_g2t1[,i] <- with(post0, a_G[,2] + a_T[,1] + b_x*x_seq[i])\n",
        "  }\n",
        "  m0_g2t1_mean <- colMeans(m0_g2t1)\n",
        "  m0_g2t1_PI <- apply(m0_g2t1, 2, PI)\n",
        "\n",
        "m0_g2t2 <- matrix(data=NA, nrow=nrow(post0$a_G), ncol=length(x_seq))\n",
        "  for(i in 1:length(x_seq)){\n",
        "    m0_g2t2[,i] <- with(post0, a_G[,2] + a_T[,2] + b_x*x_seq[i])\n",
        "  }\n",
        "  m0_g2t2_mean <- colMeans(m0_g2t2)\n",
        "  m0_g2t2_PI <- apply(m0_g2t2, 2, PI)"
      ],
      "metadata": {
        "id": "2ePmYhgpIyMF"
      },
      "execution_count": null,
      "outputs": []
    },
    {
      "cell_type": "code",
      "source": [
        "m1_g1t1 <- matrix(data=NA, nrow=nrow(post1$a_G), ncol=length(x_seq))\n",
        "  for(i in 1:length(x_seq)){\n",
        "    m1_g1t1[,i] <- with(post1, a_G[,1] + a_T[,1] + b_x*x_seq[i])\n",
        "  }\n",
        "  m1_g1t1_mean <- colMeans(m1_g1t1)\n",
        "  m1_g1t1_PI <- apply(m1_g1t1, 2, PI)\n",
        "\n",
        "m1_g1t2 <- matrix(data=NA, nrow=nrow(post1$a_G), ncol=length(x_seq))\n",
        "  for(i in 1:length(x_seq)){\n",
        "    m1_g1t2[,i] <- with(post1, a_G[,1] + a_T[,2] + b_x*x_seq[i])\n",
        "  }\n",
        "  m1_g1t2_mean <- colMeans(m1_g1t2)\n",
        "  m1_g1t2_PI <- apply(m1_g1t2, 2, PI)\n",
        "\n",
        "m1_g2t1 <- matrix(data=NA, nrow=nrow(post1$a_G), ncol=length(x_seq))\n",
        "  for(i in 1:length(x_seq)){\n",
        "    m1_g2t1[,i] <- with(post1, a_G[,2] + a_T[,1] + b_x*x_seq[i])\n",
        "  }\n",
        "  m1_g2t1_mean <- colMeans(m1_g2t1)\n",
        "  m1_g2t1_PI <- apply(m1_g2t1, 2, PI)\n",
        "\n",
        "m1_g2t2 <- matrix(data=NA, nrow=nrow(post1$a_G), ncol=length(x_seq))\n",
        "  for(i in 1:length(x_seq)){\n",
        "    m1_g2t2[,i] <- with(post1, a_G[,2] + a_T[,2] + b_x*x_seq[i])\n",
        "  }\n",
        "  m1_g2t2_mean <- colMeans(m1_g2t2)\n",
        "  m1_g2t2_PI <- apply(m1_g2t2, 2, PI)"
      ],
      "metadata": {
        "id": "Dg-8EaKf4AUy"
      },
      "execution_count": null,
      "outputs": []
    },
    {
      "cell_type": "code",
      "source": [
        "m2_g1t1 <- matrix(data=NA, nrow=nrow(post2$a_G), ncol=length(x_seq))\n",
        "  for(i in 1:length(x_seq)){\n",
        "    m2_g1t1[,i] <- with(post2, a + a_G[,1] + a_T[,1] + b_x*x_seq[i])\n",
        "  }\n",
        "  m2_g1t1_mean <- colMeans(m2_g1t1)\n",
        "  m2_g1t1_PI <- apply(m2_g1t1, 2, PI)\n",
        "\n",
        "m2_g1t2 <- matrix(data=NA, nrow=nrow(post2$a_G), ncol=length(x_seq))\n",
        "  for(i in 1:length(x_seq)){\n",
        "    m2_g1t2[,i] <- with(post2, a + a_G[,1] + a_T[,2] + b_x*x_seq[i])\n",
        "  }\n",
        "  m2_g1t2_mean <- colMeans(m2_g1t2)\n",
        "  m2_g1t2_PI <- apply(m2_g1t2, 2, PI)\n",
        "\n",
        "m2_g2t1 <- matrix(data=NA, nrow=nrow(post2$a_G), ncol=length(x_seq))\n",
        "  for(i in 1:length(x_seq)){\n",
        "    m2_g2t1[,i] <- with(post2, a + a_G[,2] + a_T[,1] + b_x*x_seq[i])\n",
        "  }\n",
        "  m2_g2t1_mean <- colMeans(m2_g2t1)\n",
        "  m2_g2t1_PI <- apply(m2_g2t1, 2, PI)\n",
        "\n",
        "m2_g2t2 <- matrix(data=NA, nrow=nrow(post2$a_G), ncol=length(x_seq))\n",
        "  for(i in 1:length(x_seq)){\n",
        "    m2_g2t2[,i] <- with(post2, a + a_G[,2] + a_T[,2] + b_x*x_seq[i])\n",
        "  }\n",
        "  m2_g2t2_mean <- colMeans(m2_g2t2)\n",
        "  m2_g2t2_PI <- apply(m2_g2t2, 2, PI)"
      ],
      "metadata": {
        "id": "D8qaVQaz4MKb"
      },
      "execution_count": null,
      "outputs": []
    },
    {
      "cell_type": "code",
      "source": [
        "par(mfrow=c(2,2))\n",
        "\n",
        "plot(exp(m0_g1t1_mean) ~ x_seq, type=\"l\", ylim=c(0,30))\n",
        "  shade(exp(m0_g1t1_PI), x_seq, col=col.alpha(\"black\", 0.2))\n",
        "\n",
        "  lines(exp(m1_g1t1_mean) ~ x_seq, col=\"red\", lty=2)\n",
        "  shade(exp(m1_g1t1_PI), x_seq, col=col.alpha(\"red\", 0.2))\n",
        "\n",
        "  lines(exp(m2_g1t1_mean) ~ x_seq, col=\"blue\", lty=3)\n",
        "  shade(exp(m2_g1t1_PI), x_seq, col=col.alpha(\"blue\", 0.2))\n",
        "\n",
        "  lines(exp(actual_g1t1) ~ x_seq, col=\"green\")\n",
        "\n",
        "\n",
        "plot(exp(m0_g1t2_mean) ~ x_seq, type=\"l\", ylim=c(0,30))\n",
        "  shade(exp(m0_g1t2_PI), x_seq, col=col.alpha(\"black\", 0.2))\n",
        "\n",
        "  lines(exp(m1_g1t2_mean) ~ x_seq, col=\"red\", lty=2)\n",
        "  shade(exp(m1_g1t2_PI), x_seq, col=col.alpha(\"red\", 0.2))\n",
        "\n",
        "  lines(exp(m2_g1t2_mean) ~ x_seq, col=\"blue\", lty=3)\n",
        "  shade(exp(m2_g1t2_PI), x_seq, col=col.alpha(\"blue\", 0.2))\n",
        "\n",
        "  lines(exp(actual_g1t2) ~ x_seq, col=\"green\")\n",
        "\n",
        "\n",
        "plot(exp(m0_g2t1_mean) ~ x_seq, type=\"l\", ylim=c(0,30))\n",
        "  shade(exp(m0_g2t1_PI), x_seq, col=col.alpha(\"black\", 0.2))\n",
        "\n",
        "  lines(exp(m1_g2t1_mean) ~ x_seq, col=\"red\", lty=2)\n",
        "  shade(exp(m1_g2t1_PI), x_seq, col=col.alpha(\"red\", 0.2))\n",
        "\n",
        "  lines(exp(m2_g2t1_mean) ~ x_seq, col=\"blue\", lty=3)\n",
        "  shade(exp(m2_g2t1_PI), x_seq, col=col.alpha(\"blue\", 0.2))\n",
        "\n",
        "  lines(exp(actual_g2t1) ~ x_seq, col=\"green\")\n",
        "\n",
        "\n",
        "plot(exp(m0_g2t2_mean) ~ x_seq, type=\"l\", ylim=c(0,30))\n",
        "  shade(exp(m0_g2t2_PI), x_seq, col=col.alpha(\"black\", 0.2))\n",
        "\n",
        "  lines(exp(m1_g2t2_mean) ~ x_seq, col=\"red\", lty=2)\n",
        "  shade(exp(m1_g2t2_PI), x_seq, col=col.alpha(\"red\", 0.2))\n",
        "\n",
        "  lines(exp(m2_g2t2_mean) ~ x_seq, col=\"blue\", lty=3)\n",
        "  shade(exp(m2_g2t2_PI), x_seq, col=col.alpha(\"blue\", 0.2))\n",
        "\n",
        "  lines(exp(actual_g2t2) ~ x_seq, col=\"green\")"
      ],
      "metadata": {
        "colab": {
          "base_uri": "https://localhost:8080/",
          "height": 437
        },
        "id": "zvIOusYsK5FJ",
        "outputId": "b36f8ebd-467d-41e1-caab-6a3703be1774"
      },
      "execution_count": null,
      "outputs": [
        {
          "output_type": "display_data",
          "data": {
            "text/plain": [
              "plot without title"
            ],
            "image/png": "[encoded data removed]"
          },
          "metadata": {
            "image/png": {
              "width": 420,
              "height": 420
            }
          }
        }
      ]
    },
    {
      "cell_type": "markdown",
      "source": [
        "The predictions from our models are basically identical, the only difference was that the overparameterized model had a few divergent transitions, and they're doing a decent job of tracking the actual data.\n",
        "\n",
        "So I don't think that overparameterization was a problem here. Still, we can use the non-overparameterized models to estimate the effects fo group and treatment with contrasts."
      ],
      "metadata": {
        "id": "Xc0kiSlF9nAJ"
      }
    },
    {
      "cell_type": "markdown",
      "source": [
        "## Medium"
      ],
      "metadata": {
        "id": "UWWaHf8IOjrL"
      }
    },
    {
      "cell_type": "markdown",
      "source": [
        "### 13M1\n",
        "\n",
        "Revisit the Reed frog survival data, `data(reedfrogs)`, and add the predation and size treatment variables to the varying intercepts model. Consider models with either main effect alone,  both main effects, as well as a model including both and their interaction. Instead of focusing on inferences about these two predictor variables, focus on the inferred variation across tanks. Explain  why it changes as it does across models."
      ],
      "metadata": {
        "id": "jOMM_ErcOlLx"
      }
    },
    {
      "cell_type": "code",
      "source": [
        "data(reedfrogs)\n",
        "d <- reedfrogs\n",
        "\n",
        "datb <- list(S = d$surv,\n",
        "             N = d$density,\n",
        "             tank = 1:nrow(d),\n",
        "             pred = as.integer(d$pred) - 1,\n",
        "             tsize = ifelse(d$size == \"small\", 1, 2)\n",
        "            )\n",
        "\n",
        "m13.2 <- ulam(\n",
        "  alist(\n",
        "    S ~ dbinom(N, p),\n",
        "      logit(p) <- a_tank[tank],\n",
        "        a_tank[tank] ~ dnorm(a_bar, sigma_tank),\n",
        "          a_bar ~ dnorm(0, 1.5),\n",
        "          sigma_tank ~ dexp(1)\n",
        "  ), data=datb,\n",
        "     chains=4,\n",
        "     cores=4,\n",
        "     iter=1000,\n",
        "     log_lik=TRUE\n",
        ")\n",
        "\n",
        "m13.2_pred <- ulam(\n",
        "  alist(\n",
        "    S ~ dbinom(N, p),\n",
        "      logit(p) <- a_tank[tank] + b_pred*pred,\n",
        "        a_tank[tank] ~ dnorm(a_bar_tank, sigma_tank),\n",
        "          a_bar_tank ~ dnorm( 0, 1.5),\n",
        "          sigma_tank ~ dexp(1),\n",
        "        b_pred ~ dnorm(0, 1)\n",
        "  ), data=datb,\n",
        "     chains=4,\n",
        "     cores=4,\n",
        "     iter=1000,\n",
        "     log_lik=TRUE\n",
        ")\n",
        "\n",
        "\n",
        "m13.2_size <- ulam(\n",
        "  alist(\n",
        "    S ~ dbinom(N, p),\n",
        "      logit(p) <- a_tank[tank] + a_size[tsize],\n",
        "        a_tank[tank] ~ dnorm(a_bar_tank, sigma_tank),\n",
        "          a_bar_tank ~ dnorm( 0, 1.5),\n",
        "          sigma_tank ~ dexp(1),\n",
        "        a_size[tsize] ~ dnorm(0, 1)\n",
        "  ), data=datb,\n",
        "     chains=4,\n",
        "     cores=4,\n",
        "     iter=1000,\n",
        "     log_lik=TRUE\n",
        ")\n",
        "\n",
        "m13.2_predANDsize <- ulam(\n",
        "  alist(\n",
        "    S ~ dbinom(N, p),\n",
        "      logit(p) <- a_tank[tank] + b_pred*pred + a_size[tsize],\n",
        "        a_tank[tank] ~ dnorm(a_bar_tank, sigma_tank),\n",
        "          a_bar_tank ~ dnorm(0, 1.5),\n",
        "          sigma_tank ~ dexp(1),\n",
        "        b_pred ~ dnorm(0,1),\n",
        "        a_size[tsize] ~ dnorm(0,1)\n",
        "  ), data=datb,\n",
        "     chains=4,\n",
        "     cores=4,\n",
        "     iter=1000,\n",
        "     log_lik=TRUE\n",
        ")\n",
        "\n",
        "m13.2_predXsize <- ulam(\n",
        "  alist(\n",
        "    S ~ dbinom(N, p),\n",
        "      logit(p) <- a_tank[tank] + b_pred[tsize]*pred + a_size[tsize],\n",
        "        a_tank[tank] ~ dnorm(a_bar_tank, sigma_tank),\n",
        "          a_bar_tank ~ dnorm(0, 1.5),\n",
        "          sigma_tank ~ dexp(1),\n",
        "        b_pred[tsize] ~ dnorm(0,1),\n",
        "        a_size[tsize] ~ dnorm(0,1)\n",
        "  ), data=datb,\n",
        "     chains=4,\n",
        "     cores=4,\n",
        "     iter=1000,\n",
        "     log_lik=TRUE\n",
        ")\n",
        "\n",
        "plot(coeftab(m13.2, m13.2_pred, m13.2_size, m13.2_predANDsize, m13.2_predXsize), pars=\"sigma_tank\")"
      ],
      "metadata": {
        "id": "CxU6Ctq6S56s",
        "colab": {
          "base_uri": "https://localhost:8080/",
          "height": 437
        },
        "outputId": "d17b0cf6-eae4-4fca-9215-ada7ed50aaa1"
      },
      "execution_count": null,
      "outputs": [
        {
          "output_type": "display_data",
          "data": {
            "text/plain": [
              "plot without title"
            ],
            "image/png": "[encoded data removed]"
          },
          "metadata": {
            "image/png": {
              "width": 420,
              "height": 420
            }
          }
        }
      ]
    },
    {
      "cell_type": "markdown",
      "source": [
        "When `pred` is entered into the model, the variation (i.e., `sigma_tank`) across tanks is reduced.  Apparently, `pred` is explaining something about the variation across tanks."
      ],
      "metadata": {
        "id": "AbRavTJry7W3"
      }
    },
    {
      "cell_type": "markdown",
      "source": [
        "### 13M2\n",
        "\n",
        "Compare the models you fit just above, using WAIC. Can you reconcile the differences in  WAIC with the posterior distributions of the models?"
      ],
      "metadata": {
        "id": "JqWhifTdzPcc"
      }
    },
    {
      "cell_type": "code",
      "source": [
        "round(compare(m13.2, m13.2_pred, m13.2_size, m13.2_predANDsize, m13.2_predXsize),2)"
      ],
      "metadata": {
        "colab": {
          "base_uri": "https://localhost:8080/",
          "height": 255
        },
        "id": "_zHhMvKOzb0T",
        "outputId": "3f15d242-a581-4f6e-ec52-e4fa2a4297d0"
      },
      "execution_count": null,
      "outputs": [
        {
          "output_type": "display_data",
          "data": {
            "text/html": [
              "<table class=\"dataframe\">\n",
              "<caption>A data.frame: 5 × 6</caption>\n",
              "<thead>\n",
              "\t<tr><th></th><th scope=col>WAIC</th><th scope=col>SE</th><th scope=col>dWAIC</th><th scope=col>dSE</th><th scope=col>pWAIC</th><th scope=col>weight</th></tr>\n",
              "\t<tr><th></th><th scope=col>&lt;dbl&gt;</th><th scope=col>&lt;dbl&gt;</th><th scope=col>&lt;dbl&gt;</th><th scope=col>&lt;dbl&gt;</th><th scope=col>&lt;dbl&gt;</th><th scope=col>&lt;dbl&gt;</th></tr>\n",
              "</thead>\n",
              "<tbody>\n",
              "\t<tr><th scope=row>m13.2_pred</th><td>198.80</td><td>8.86</td><td>0.00</td><td>  NA</td><td>19.08</td><td>0.34</td></tr>\n",
              "\t<tr><th scope=row>m13.2_predXsize</th><td>199.39</td><td>8.77</td><td>0.59</td><td>3.10</td><td>19.07</td><td>0.25</td></tr>\n",
              "\t<tr><th scope=row>m13.2_predANDsize</th><td>200.14</td><td>8.75</td><td>1.34</td><td>2.14</td><td>19.17</td><td>0.17</td></tr>\n",
              "\t<tr><th scope=row>m13.2</th><td>200.40</td><td>7.36</td><td>1.60</td><td>5.68</td><td>21.21</td><td>0.15</td></tr>\n",
              "\t<tr><th scope=row>m13.2_size</th><td>201.54</td><td>7.31</td><td>2.75</td><td>5.45</td><td>21.60</td><td>0.09</td></tr>\n",
              "</tbody>\n",
              "</table>\n"
            ],
            "text/markdown": "\nA data.frame: 5 × 6\n\n| <!--/--> | WAIC &lt;dbl&gt; | SE &lt;dbl&gt; | dWAIC &lt;dbl&gt; | dSE &lt;dbl&gt; | pWAIC &lt;dbl&gt; | weight &lt;dbl&gt; |\n|---|---|---|---|---|---|---|\n| m13.2_pred | 198.80 | 8.86 | 0.00 |   NA | 19.08 | 0.34 |\n| m13.2_predXsize | 199.39 | 8.77 | 0.59 | 3.10 | 19.07 | 0.25 |\n| m13.2_predANDsize | 200.14 | 8.75 | 1.34 | 2.14 | 19.17 | 0.17 |\n| m13.2 | 200.40 | 7.36 | 1.60 | 5.68 | 21.21 | 0.15 |\n| m13.2_size | 201.54 | 7.31 | 2.75 | 5.45 | 21.60 | 0.09 |\n\n",
            "text/latex": "A data.frame: 5 × 6\n\\begin{tabular}{r|llllll}\n  & WAIC & SE & dWAIC & dSE & pWAIC & weight\\\\\n  & <dbl> & <dbl> & <dbl> & <dbl> & <dbl> & <dbl>\\\\\n\\hline\n\tm13.2\\_pred & 198.80 & 8.86 & 0.00 &   NA & 19.08 & 0.34\\\\\n\tm13.2\\_predXsize & 199.39 & 8.77 & 0.59 & 3.10 & 19.07 & 0.25\\\\\n\tm13.2\\_predANDsize & 200.14 & 8.75 & 1.34 & 2.14 & 19.17 & 0.17\\\\\n\tm13.2 & 200.40 & 7.36 & 1.60 & 5.68 & 21.21 & 0.15\\\\\n\tm13.2\\_size & 201.54 & 7.31 & 2.75 & 5.45 & 21.60 & 0.09\\\\\n\\end{tabular}\n",
            "text/plain": [
              "                  WAIC   SE   dWAIC dSE  pWAIC weight\n",
              "m13.2_pred        198.80 8.86 0.00    NA 19.08 0.34  \n",
              "m13.2_predXsize   199.39 8.77 0.59  3.10 19.07 0.25  \n",
              "m13.2_predANDsize 200.14 8.75 1.34  2.14 19.17 0.17  \n",
              "m13.2             200.40 7.36 1.60  5.68 21.21 0.15  \n",
              "m13.2_size        201.54 7.31 2.75  5.45 21.60 0.09  "
            ]
          },
          "metadata": {}
        }
      ]
    },
    {
      "cell_type": "markdown",
      "source": [
        "These models are really pretty similar in terms of WAIC.  But there is a general trend for those with `pred` in the model to have better scores than those without.  This matches the pattern we saw in 13M1 with the `sigma_tank` parameter.\n",
        "\n",
        "Now, I'm not sure what is meant by \"reconcile the differences in WAIC with the posterior distributions...\".  So let's look at the posteriors and try to get some traction."
      ],
      "metadata": {
        "id": "2XOz-uqozsRc"
      }
    },
    {
      "cell_type": "code",
      "source": [
        "round(precis(m13.2_pred, depth=2), 2)\n",
        "round(precis(m13.2_predXsize, depth=2), 2)\n",
        "round(precis(m13.2_predANDsize, depth=2), 2)\n",
        "round(precis(m13.2, depth=2), 2)\n",
        "round(precis(m13.2_size, depth=2), 2)"
      ],
      "metadata": {
        "colab": {
          "base_uri": "https://localhost:8080/",
          "height": 1000
        },
        "id": "f-zN_6fe0fJr",
        "outputId": "ac9e1696-f8be-40a9-b77c-c6e44672988a"
      },
      "execution_count": null,
      "outputs": [
        {
          "output_type": "display_data",
          "data": {
            "text/html": [
              "<table class=\"dataframe\">\n",
              "<caption>A data.frame: 51 × 6</caption>\n",
              "<thead>\n",
              "\t<tr><th></th><th scope=col>mean</th><th scope=col>sd</th><th scope=col>5.5%</th><th scope=col>94.5%</th><th scope=col>rhat</th><th scope=col>ess_bulk</th></tr>\n",
              "\t<tr><th></th><th scope=col>&lt;dbl&gt;</th><th scope=col>&lt;dbl&gt;</th><th scope=col>&lt;dbl&gt;</th><th scope=col>&lt;dbl&gt;</th><th scope=col>&lt;dbl&gt;</th><th scope=col>&lt;dbl&gt;</th></tr>\n",
              "</thead>\n",
              "<tbody>\n",
              "\t<tr><th scope=row>a_tank[1]</th><td> 2.43</td><td>0.69</td><td> 1.39</td><td> 3.56</td><td>1.00</td><td>1410.09</td></tr>\n",
              "\t<tr><th scope=row>a_tank[2]</th><td> 2.92</td><td>0.71</td><td> 1.82</td><td> 4.09</td><td>1.00</td><td>1639.99</td></tr>\n",
              "\t<tr><th scope=row>a_tank[3]</th><td> 1.66</td><td>0.58</td><td> 0.71</td><td> 2.59</td><td>1.00</td><td>1507.13</td></tr>\n",
              "\t<tr><th scope=row>a_tank[4]</th><td> 2.93</td><td>0.76</td><td> 1.76</td><td> 4.18</td><td>1.00</td><td>1787.51</td></tr>\n",
              "\t<tr><th scope=row>a_tank[5]</th><td> 2.46</td><td>0.67</td><td> 1.41</td><td> 3.57</td><td>1.00</td><td>2150.61</td></tr>\n",
              "\t<tr><th scope=row>a_tank[6]</th><td> 2.44</td><td>0.70</td><td> 1.37</td><td> 3.60</td><td>1.00</td><td>1450.04</td></tr>\n",
              "\t<tr><th scope=row>a_tank[7]</th><td> 2.89</td><td>0.72</td><td> 1.77</td><td> 4.07</td><td>1.01</td><td>1632.37</td></tr>\n",
              "\t<tr><th scope=row>a_tank[8]</th><td> 2.43</td><td>0.71</td><td> 1.34</td><td> 3.63</td><td>1.00</td><td>1932.47</td></tr>\n",
              "\t<tr><th scope=row>a_tank[9]</th><td> 2.12</td><td>0.56</td><td> 1.21</td><td> 2.97</td><td>1.01</td><td> 858.15</td></tr>\n",
              "\t<tr><th scope=row>a_tank[10]</th><td> 3.49</td><td>0.60</td><td> 2.56</td><td> 4.48</td><td>1.00</td><td>1034.44</td></tr>\n",
              "\t<tr><th scope=row>a_tank[11]</th><td> 2.92</td><td>0.57</td><td> 2.03</td><td> 3.82</td><td>1.00</td><td> 932.25</td></tr>\n",
              "\t<tr><th scope=row>a_tank[12]</th><td> 2.66</td><td>0.56</td><td> 1.74</td><td> 3.56</td><td>1.00</td><td>1031.38</td></tr>\n",
              "\t<tr><th scope=row>a_tank[13]</th><td> 2.92</td><td>0.58</td><td> 2.00</td><td> 3.83</td><td>1.00</td><td> 945.59</td></tr>\n",
              "\t<tr><th scope=row>a_tank[14]</th><td> 2.36</td><td>0.56</td><td> 1.48</td><td> 3.28</td><td>1.00</td><td> 973.47</td></tr>\n",
              "\t<tr><th scope=row>a_tank[15]</th><td> 3.50</td><td>0.63</td><td> 2.49</td><td> 4.57</td><td>1.00</td><td>1235.06</td></tr>\n",
              "\t<tr><th scope=row>a_tank[16]</th><td> 3.49</td><td>0.62</td><td> 2.54</td><td> 4.54</td><td>1.00</td><td>1274.25</td></tr>\n",
              "\t<tr><th scope=row>a_tank[17]</th><td> 2.86</td><td>0.60</td><td> 1.93</td><td> 3.85</td><td>1.00</td><td>1803.99</td></tr>\n",
              "\t<tr><th scope=row>a_tank[18]</th><td> 2.54</td><td>0.56</td><td> 1.67</td><td> 3.46</td><td>1.00</td><td>1523.40</td></tr>\n",
              "\t<tr><th scope=row>a_tank[19]</th><td> 2.25</td><td>0.54</td><td> 1.43</td><td> 3.14</td><td>1.00</td><td>2160.44</td></tr>\n",
              "\t<tr><th scope=row>a_tank[20]</th><td> 3.25</td><td>0.69</td><td> 2.22</td><td> 4.40</td><td>1.00</td><td>1738.35</td></tr>\n",
              "\t<tr><th scope=row>a_tank[21]</th><td> 2.53</td><td>0.56</td><td> 1.68</td><td> 3.46</td><td>1.01</td><td>1587.53</td></tr>\n",
              "\t<tr><th scope=row>a_tank[22]</th><td> 2.51</td><td>0.53</td><td> 1.70</td><td> 3.37</td><td>1.00</td><td>1466.69</td></tr>\n",
              "\t<tr><th scope=row>a_tank[23]</th><td> 2.52</td><td>0.56</td><td> 1.65</td><td> 3.43</td><td>1.00</td><td>1630.32</td></tr>\n",
              "\t<tr><th scope=row>a_tank[24]</th><td> 1.98</td><td>0.48</td><td> 1.21</td><td> 2.75</td><td>1.00</td><td>1664.16</td></tr>\n",
              "\t<tr><th scope=row>a_tank[25]</th><td> 1.45</td><td>0.48</td><td> 0.66</td><td> 2.19</td><td>1.00</td><td> 577.53</td></tr>\n",
              "\t<tr><th scope=row>a_tank[26]</th><td> 2.42</td><td>0.44</td><td> 1.71</td><td> 3.13</td><td>1.01</td><td> 638.86</td></tr>\n",
              "\t<tr><th scope=row>a_tank[27]</th><td> 1.12</td><td>0.51</td><td> 0.31</td><td> 1.90</td><td>1.00</td><td> 557.27</td></tr>\n",
              "\t<tr><th scope=row>a_tank[28]</th><td> 1.89</td><td>0.46</td><td> 1.15</td><td> 2.61</td><td>1.00</td><td> 593.48</td></tr>\n",
              "\t<tr><th scope=row>a_tank[29]</th><td> 2.42</td><td>0.45</td><td> 1.71</td><td> 3.13</td><td>1.00</td><td> 651.47</td></tr>\n",
              "\t<tr><th scope=row>a_tank[30]</th><td> 3.43</td><td>0.46</td><td> 2.70</td><td> 4.17</td><td>1.00</td><td> 830.04</td></tr>\n",
              "\t<tr><th scope=row>a_tank[31]</th><td> 1.76</td><td>0.47</td><td> 0.98</td><td> 2.53</td><td>1.00</td><td> 689.76</td></tr>\n",
              "\t<tr><th scope=row>a_tank[32]</th><td> 2.02</td><td>0.45</td><td> 1.31</td><td> 2.72</td><td>1.01</td><td> 664.63</td></tr>\n",
              "\t<tr><th scope=row>a_tank[33]</th><td> 3.04</td><td>0.58</td><td> 2.15</td><td> 4.02</td><td>1.00</td><td>1697.39</td></tr>\n",
              "\t<tr><th scope=row>a_tank[34]</th><td> 2.74</td><td>0.57</td><td> 1.91</td><td> 3.71</td><td>1.00</td><td>1604.97</td></tr>\n",
              "\t<tr><th scope=row>a_tank[35]</th><td> 2.73</td><td>0.53</td><td> 1.91</td><td> 3.62</td><td>1.00</td><td>2022.58</td></tr>\n",
              "\t<tr><th scope=row>a_tank[36]</th><td> 2.23</td><td>0.48</td><td> 1.50</td><td> 3.04</td><td>1.00</td><td>1627.28</td></tr>\n",
              "\t<tr><th scope=row>a_tank[37]</th><td> 2.23</td><td>0.49</td><td> 1.49</td><td> 3.03</td><td>1.00</td><td>1833.59</td></tr>\n",
              "\t<tr><th scope=row>a_tank[38]</th><td> 3.40</td><td>0.65</td><td> 2.46</td><td> 4.52</td><td>1.00</td><td>1579.02</td></tr>\n",
              "\t<tr><th scope=row>a_tank[39]</th><td> 2.74</td><td>0.56</td><td> 1.89</td><td> 3.66</td><td>1.00</td><td>2171.40</td></tr>\n",
              "\t<tr><th scope=row>a_tank[40]</th><td> 2.48</td><td>0.51</td><td> 1.70</td><td> 3.32</td><td>1.01</td><td>2169.89</td></tr>\n",
              "\t<tr><th scope=row>a_tank[41]</th><td> 0.81</td><td>0.50</td><td>-0.04</td><td> 1.60</td><td>1.01</td><td> 578.31</td></tr>\n",
              "\t<tr><th scope=row>a_tank[42]</th><td> 1.80</td><td>0.43</td><td> 1.10</td><td> 2.46</td><td>1.01</td><td> 590.25</td></tr>\n",
              "\t<tr><th scope=row>a_tank[43]</th><td> 1.89</td><td>0.41</td><td> 1.22</td><td> 2.54</td><td>1.00</td><td> 592.05</td></tr>\n",
              "\t<tr><th scope=row>a_tank[44]</th><td> 2.00</td><td>0.43</td><td> 1.31</td><td> 2.67</td><td>1.01</td><td> 541.35</td></tr>\n",
              "\t<tr><th scope=row>a_tank[45]</th><td> 2.81</td><td>0.42</td><td> 2.13</td><td> 3.48</td><td>1.00</td><td> 628.88</td></tr>\n",
              "\t<tr><th scope=row>a_tank[46]</th><td> 1.79</td><td>0.43</td><td> 1.11</td><td> 2.47</td><td>1.01</td><td> 544.62</td></tr>\n",
              "\t<tr><th scope=row>a_tank[47]</th><td> 3.91</td><td>0.49</td><td> 3.13</td><td> 4.69</td><td>1.00</td><td> 869.47</td></tr>\n",
              "\t<tr><th scope=row>a_tank[48]</th><td> 2.30</td><td>0.40</td><td> 1.66</td><td> 2.93</td><td>1.00</td><td> 544.16</td></tr>\n",
              "\t<tr><th scope=row>a_bar_tank</th><td> 2.47</td><td>0.22</td><td> 2.10</td><td> 2.82</td><td>1.01</td><td> 371.17</td></tr>\n",
              "\t<tr><th scope=row>sigma_tank</th><td> 0.83</td><td>0.14</td><td> 0.63</td><td> 1.08</td><td>1.01</td><td> 486.71</td></tr>\n",
              "\t<tr><th scope=row>b_pred</th><td>-2.33</td><td>0.28</td><td>-2.78</td><td>-1.88</td><td>1.01</td><td> 297.10</td></tr>\n",
              "</tbody>\n",
              "</table>\n"
            ],
            "text/markdown": "\nA data.frame: 51 × 6\n\n| <!--/--> | mean &lt;dbl&gt; | sd &lt;dbl&gt; | 5.5% &lt;dbl&gt; | 94.5% &lt;dbl&gt; | rhat &lt;dbl&gt; | ess_bulk &lt;dbl&gt; |\n|---|---|---|---|---|---|---|\n| a_tank[1] |  2.43 | 0.69 |  1.39 |  3.56 | 1.00 | 1410.09 |\n| a_tank[2] |  2.92 | 0.71 |  1.82 |  4.09 | 1.00 | 1639.99 |\n| a_tank[3] |  1.66 | 0.58 |  0.71 |  2.59 | 1.00 | 1507.13 |\n| a_tank[4] |  2.93 | 0.76 |  1.76 |  4.18 | 1.00 | 1787.51 |\n| a_tank[5] |  2.46 | 0.67 |  1.41 |  3.57 | 1.00 | 2150.61 |\n| a_tank[6] |  2.44 | 0.70 |  1.37 |  3.60 | 1.00 | 1450.04 |\n| a_tank[7] |  2.89 | 0.72 |  1.77 |  4.07 | 1.01 | 1632.37 |\n| a_tank[8] |  2.43 | 0.71 |  1.34 |  3.63 | 1.00 | 1932.47 |\n| a_tank[9] |  2.12 | 0.56 |  1.21 |  2.97 | 1.01 |  858.15 |\n| a_tank[10] |  3.49 | 0.60 |  2.56 |  4.48 | 1.00 | 1034.44 |\n| a_tank[11] |  2.92 | 0.57 |  2.03 |  3.82 | 1.00 |  932.25 |\n| a_tank[12] |  2.66 | 0.56 |  1.74 |  3.56 | 1.00 | 1031.38 |\n| a_tank[13] |  2.92 | 0.58 |  2.00 |  3.83 | 1.00 |  945.59 |\n| a_tank[14] |  2.36 | 0.56 |  1.48 |  3.28 | 1.00 |  973.47 |\n| a_tank[15] |  3.50 | 0.63 |  2.49 |  4.57 | 1.00 | 1235.06 |\n| a_tank[16] |  3.49 | 0.62 |  2.54 |  4.54 | 1.00 | 1274.25 |\n| a_tank[17] |  2.86 | 0.60 |  1.93 |  3.85 | 1.00 | 1803.99 |\n| a_tank[18] |  2.54 | 0.56 |  1.67 |  3.46 | 1.00 | 1523.40 |\n| a_tank[19] |  2.25 | 0.54 |  1.43 |  3.14 | 1.00 | 2160.44 |\n| a_tank[20] |  3.25 | 0.69 |  2.22 |  4.40 | 1.00 | 1738.35 |\n| a_tank[21] |  2.53 | 0.56 |  1.68 |  3.46 | 1.01 | 1587.53 |\n| a_tank[22] |  2.51 | 0.53 |  1.70 |  3.37 | 1.00 | 1466.69 |\n| a_tank[23] |  2.52 | 0.56 |  1.65 |  3.43 | 1.00 | 1630.32 |\n| a_tank[24] |  1.98 | 0.48 |  1.21 |  2.75 | 1.00 | 1664.16 |\n| a_tank[25] |  1.45 | 0.48 |  0.66 |  2.19 | 1.00 |  577.53 |\n| a_tank[26] |  2.42 | 0.44 |  1.71 |  3.13 | 1.01 |  638.86 |\n| a_tank[27] |  1.12 | 0.51 |  0.31 |  1.90 | 1.00 |  557.27 |\n| a_tank[28] |  1.89 | 0.46 |  1.15 |  2.61 | 1.00 |  593.48 |\n| a_tank[29] |  2.42 | 0.45 |  1.71 |  3.13 | 1.00 |  651.47 |\n| a_tank[30] |  3.43 | 0.46 |  2.70 |  4.17 | 1.00 |  830.04 |\n| a_tank[31] |  1.76 | 0.47 |  0.98 |  2.53 | 1.00 |  689.76 |\n| a_tank[32] |  2.02 | 0.45 |  1.31 |  2.72 | 1.01 |  664.63 |\n| a_tank[33] |  3.04 | 0.58 |  2.15 |  4.02 | 1.00 | 1697.39 |\n| a_tank[34] |  2.74 | 0.57 |  1.91 |  3.71 | 1.00 | 1604.97 |\n| a_tank[35] |  2.73 | 0.53 |  1.91 |  3.62 | 1.00 | 2022.58 |\n| a_tank[36] |  2.23 | 0.48 |  1.50 |  3.04 | 1.00 | 1627.28 |\n| a_tank[37] |  2.23 | 0.49 |  1.49 |  3.03 | 1.00 | 1833.59 |\n| a_tank[38] |  3.40 | 0.65 |  2.46 |  4.52 | 1.00 | 1579.02 |\n| a_tank[39] |  2.74 | 0.56 |  1.89 |  3.66 | 1.00 | 2171.40 |\n| a_tank[40] |  2.48 | 0.51 |  1.70 |  3.32 | 1.01 | 2169.89 |\n| a_tank[41] |  0.81 | 0.50 | -0.04 |  1.60 | 1.01 |  578.31 |\n| a_tank[42] |  1.80 | 0.43 |  1.10 |  2.46 | 1.01 |  590.25 |\n| a_tank[43] |  1.89 | 0.41 |  1.22 |  2.54 | 1.00 |  592.05 |\n| a_tank[44] |  2.00 | 0.43 |  1.31 |  2.67 | 1.01 |  541.35 |\n| a_tank[45] |  2.81 | 0.42 |  2.13 |  3.48 | 1.00 |  628.88 |\n| a_tank[46] |  1.79 | 0.43 |  1.11 |  2.47 | 1.01 |  544.62 |\n| a_tank[47] |  3.91 | 0.49 |  3.13 |  4.69 | 1.00 |  869.47 |\n| a_tank[48] |  2.30 | 0.40 |  1.66 |  2.93 | 1.00 |  544.16 |\n| a_bar_tank |  2.47 | 0.22 |  2.10 |  2.82 | 1.01 |  371.17 |\n| sigma_tank |  0.83 | 0.14 |  0.63 |  1.08 | 1.01 |  486.71 |\n| b_pred | -2.33 | 0.28 | -2.78 | -1.88 | 1.01 |  297.10 |\n\n",
            "text/latex": "A data.frame: 51 × 6\n\\begin{tabular}{r|llllll}\n  & mean & sd & 5.5\\% & 94.5\\% & rhat & ess\\_bulk\\\\\n  & <dbl> & <dbl> & <dbl> & <dbl> & <dbl> & <dbl>\\\\\n\\hline\n\ta\\_tank{[}1{]} &  2.43 & 0.69 &  1.39 &  3.56 & 1.00 & 1410.09\\\\\n\ta\\_tank{[}2{]} &  2.92 & 0.71 &  1.82 &  4.09 & 1.00 & 1639.99\\\\\n\ta\\_tank{[}3{]} &  1.66 & 0.58 &  0.71 &  2.59 & 1.00 & 1507.13\\\\\n\ta\\_tank{[}4{]} &  2.93 & 0.76 &  1.76 &  4.18 & 1.00 & 1787.51\\\\\n\ta\\_tank{[}5{]} &  2.46 & 0.67 &  1.41 &  3.57 & 1.00 & 2150.61\\\\\n\ta\\_tank{[}6{]} &  2.44 & 0.70 &  1.37 &  3.60 & 1.00 & 1450.04\\\\\n\ta\\_tank{[}7{]} &  2.89 & 0.72 &  1.77 &  4.07 & 1.01 & 1632.37\\\\\n\ta\\_tank{[}8{]} &  2.43 & 0.71 &  1.34 &  3.63 & 1.00 & 1932.47\\\\\n\ta\\_tank{[}9{]} &  2.12 & 0.56 &  1.21 &  2.97 & 1.01 &  858.15\\\\\n\ta\\_tank{[}10{]} &  3.49 & 0.60 &  2.56 &  4.48 & 1.00 & 1034.44\\\\\n\ta\\_tank{[}11{]} &  2.92 & 0.57 &  2.03 &  3.82 & 1.00 &  932.25\\\\\n\ta\\_tank{[}12{]} &  2.66 & 0.56 &  1.74 &  3.56 & 1.00 & 1031.38\\\\\n\ta\\_tank{[}13{]} &  2.92 & 0.58 &  2.00 &  3.83 & 1.00 &  945.59\\\\\n\ta\\_tank{[}14{]} &  2.36 & 0.56 &  1.48 &  3.28 & 1.00 &  973.47\\\\\n\ta\\_tank{[}15{]} &  3.50 & 0.63 &  2.49 &  4.57 & 1.00 & 1235.06\\\\\n\ta\\_tank{[}16{]} &  3.49 & 0.62 &  2.54 &  4.54 & 1.00 & 1274.25\\\\\n\ta\\_tank{[}17{]} &  2.86 & 0.60 &  1.93 &  3.85 & 1.00 & 1803.99\\\\\n\ta\\_tank{[}18{]} &  2.54 & 0.56 &  1.67 &  3.46 & 1.00 & 1523.40\\\\\n\ta\\_tank{[}19{]} &  2.25 & 0.54 &  1.43 &  3.14 & 1.00 & 2160.44\\\\\n\ta\\_tank{[}20{]} &  3.25 & 0.69 &  2.22 &  4.40 & 1.00 & 1738.35\\\\\n\ta\\_tank{[}21{]} &  2.53 & 0.56 &  1.68 &  3.46 & 1.01 & 1587.53\\\\\n\ta\\_tank{[}22{]} &  2.51 & 0.53 &  1.70 &  3.37 & 1.00 & 1466.69\\\\\n\ta\\_tank{[}23{]} &  2.52 & 0.56 &  1.65 &  3.43 & 1.00 & 1630.32\\\\\n\ta\\_tank{[}24{]} &  1.98 & 0.48 &  1.21 &  2.75 & 1.00 & 1664.16\\\\\n\ta\\_tank{[}25{]} &  1.45 & 0.48 &  0.66 &  2.19 & 1.00 &  577.53\\\\\n\ta\\_tank{[}26{]} &  2.42 & 0.44 &  1.71 &  3.13 & 1.01 &  638.86\\\\\n\ta\\_tank{[}27{]} &  1.12 & 0.51 &  0.31 &  1.90 & 1.00 &  557.27\\\\\n\ta\\_tank{[}28{]} &  1.89 & 0.46 &  1.15 &  2.61 & 1.00 &  593.48\\\\\n\ta\\_tank{[}29{]} &  2.42 & 0.45 &  1.71 &  3.13 & 1.00 &  651.47\\\\\n\ta\\_tank{[}30{]} &  3.43 & 0.46 &  2.70 &  4.17 & 1.00 &  830.04\\\\\n\ta\\_tank{[}31{]} &  1.76 & 0.47 &  0.98 &  2.53 & 1.00 &  689.76\\\\\n\ta\\_tank{[}32{]} &  2.02 & 0.45 &  1.31 &  2.72 & 1.01 &  664.63\\\\\n\ta\\_tank{[}33{]} &  3.04 & 0.58 &  2.15 &  4.02 & 1.00 & 1697.39\\\\\n\ta\\_tank{[}34{]} &  2.74 & 0.57 &  1.91 &  3.71 & 1.00 & 1604.97\\\\\n\ta\\_tank{[}35{]} &  2.73 & 0.53 &  1.91 &  3.62 & 1.00 & 2022.58\\\\\n\ta\\_tank{[}36{]} &  2.23 & 0.48 &  1.50 &  3.04 & 1.00 & 1627.28\\\\\n\ta\\_tank{[}37{]} &  2.23 & 0.49 &  1.49 &  3.03 & 1.00 & 1833.59\\\\\n\ta\\_tank{[}38{]} &  3.40 & 0.65 &  2.46 &  4.52 & 1.00 & 1579.02\\\\\n\ta\\_tank{[}39{]} &  2.74 & 0.56 &  1.89 &  3.66 & 1.00 & 2171.40\\\\\n\ta\\_tank{[}40{]} &  2.48 & 0.51 &  1.70 &  3.32 & 1.01 & 2169.89\\\\\n\ta\\_tank{[}41{]} &  0.81 & 0.50 & -0.04 &  1.60 & 1.01 &  578.31\\\\\n\ta\\_tank{[}42{]} &  1.80 & 0.43 &  1.10 &  2.46 & 1.01 &  590.25\\\\\n\ta\\_tank{[}43{]} &  1.89 & 0.41 &  1.22 &  2.54 & 1.00 &  592.05\\\\\n\ta\\_tank{[}44{]} &  2.00 & 0.43 &  1.31 &  2.67 & 1.01 &  541.35\\\\\n\ta\\_tank{[}45{]} &  2.81 & 0.42 &  2.13 &  3.48 & 1.00 &  628.88\\\\\n\ta\\_tank{[}46{]} &  1.79 & 0.43 &  1.11 &  2.47 & 1.01 &  544.62\\\\\n\ta\\_tank{[}47{]} &  3.91 & 0.49 &  3.13 &  4.69 & 1.00 &  869.47\\\\\n\ta\\_tank{[}48{]} &  2.30 & 0.40 &  1.66 &  2.93 & 1.00 &  544.16\\\\\n\ta\\_bar\\_tank &  2.47 & 0.22 &  2.10 &  2.82 & 1.01 &  371.17\\\\\n\tsigma\\_tank &  0.83 & 0.14 &  0.63 &  1.08 & 1.01 &  486.71\\\\\n\tb\\_pred & -2.33 & 0.28 & -2.78 & -1.88 & 1.01 &  297.10\\\\\n\\end{tabular}\n",
            "text/plain": [
              "           mean  sd   5.5%  94.5% rhat ess_bulk\n",
              "a_tank[1]   2.43 0.69  1.39  3.56 1.00 1410.09 \n",
              "a_tank[2]   2.92 0.71  1.82  4.09 1.00 1639.99 \n",
              "a_tank[3]   1.66 0.58  0.71  2.59 1.00 1507.13 \n",
              "a_tank[4]   2.93 0.76  1.76  4.18 1.00 1787.51 \n",
              "a_tank[5]   2.46 0.67  1.41  3.57 1.00 2150.61 \n",
              "a_tank[6]   2.44 0.70  1.37  3.60 1.00 1450.04 \n",
              "a_tank[7]   2.89 0.72  1.77  4.07 1.01 1632.37 \n",
              "a_tank[8]   2.43 0.71  1.34  3.63 1.00 1932.47 \n",
              "a_tank[9]   2.12 0.56  1.21  2.97 1.01  858.15 \n",
              "a_tank[10]  3.49 0.60  2.56  4.48 1.00 1034.44 \n",
              "a_tank[11]  2.92 0.57  2.03  3.82 1.00  932.25 \n",
              "a_tank[12]  2.66 0.56  1.74  3.56 1.00 1031.38 \n",
              "a_tank[13]  2.92 0.58  2.00  3.83 1.00  945.59 \n",
              "a_tank[14]  2.36 0.56  1.48  3.28 1.00  973.47 \n",
              "a_tank[15]  3.50 0.63  2.49  4.57 1.00 1235.06 \n",
              "a_tank[16]  3.49 0.62  2.54  4.54 1.00 1274.25 \n",
              "a_tank[17]  2.86 0.60  1.93  3.85 1.00 1803.99 \n",
              "a_tank[18]  2.54 0.56  1.67  3.46 1.00 1523.40 \n",
              "a_tank[19]  2.25 0.54  1.43  3.14 1.00 2160.44 \n",
              "a_tank[20]  3.25 0.69  2.22  4.40 1.00 1738.35 \n",
              "a_tank[21]  2.53 0.56  1.68  3.46 1.01 1587.53 \n",
              "a_tank[22]  2.51 0.53  1.70  3.37 1.00 1466.69 \n",
              "a_tank[23]  2.52 0.56  1.65  3.43 1.00 1630.32 \n",
              "a_tank[24]  1.98 0.48  1.21  2.75 1.00 1664.16 \n",
              "a_tank[25]  1.45 0.48  0.66  2.19 1.00  577.53 \n",
              "a_tank[26]  2.42 0.44  1.71  3.13 1.01  638.86 \n",
              "a_tank[27]  1.12 0.51  0.31  1.90 1.00  557.27 \n",
              "a_tank[28]  1.89 0.46  1.15  2.61 1.00  593.48 \n",
              "a_tank[29]  2.42 0.45  1.71  3.13 1.00  651.47 \n",
              "a_tank[30]  3.43 0.46  2.70  4.17 1.00  830.04 \n",
              "a_tank[31]  1.76 0.47  0.98  2.53 1.00  689.76 \n",
              "a_tank[32]  2.02 0.45  1.31  2.72 1.01  664.63 \n",
              "a_tank[33]  3.04 0.58  2.15  4.02 1.00 1697.39 \n",
              "a_tank[34]  2.74 0.57  1.91  3.71 1.00 1604.97 \n",
              "a_tank[35]  2.73 0.53  1.91  3.62 1.00 2022.58 \n",
              "a_tank[36]  2.23 0.48  1.50  3.04 1.00 1627.28 \n",
              "a_tank[37]  2.23 0.49  1.49  3.03 1.00 1833.59 \n",
              "a_tank[38]  3.40 0.65  2.46  4.52 1.00 1579.02 \n",
              "a_tank[39]  2.74 0.56  1.89  3.66 1.00 2171.40 \n",
              "a_tank[40]  2.48 0.51  1.70  3.32 1.01 2169.89 \n",
              "a_tank[41]  0.81 0.50 -0.04  1.60 1.01  578.31 \n",
              "a_tank[42]  1.80 0.43  1.10  2.46 1.01  590.25 \n",
              "a_tank[43]  1.89 0.41  1.22  2.54 1.00  592.05 \n",
              "a_tank[44]  2.00 0.43  1.31  2.67 1.01  541.35 \n",
              "a_tank[45]  2.81 0.42  2.13  3.48 1.00  628.88 \n",
              "a_tank[46]  1.79 0.43  1.11  2.47 1.01  544.62 \n",
              "a_tank[47]  3.91 0.49  3.13  4.69 1.00  869.47 \n",
              "a_tank[48]  2.30 0.40  1.66  2.93 1.00  544.16 \n",
              "a_bar_tank  2.47 0.22  2.10  2.82 1.01  371.17 \n",
              "sigma_tank  0.83 0.14  0.63  1.08 1.01  486.71 \n",
              "b_pred     -2.33 0.28 -2.78 -1.88 1.01  297.10 "
            ]
          },
          "metadata": {}
        },
        {
          "output_type": "display_data",
          "data": {
            "text/html": [
              "<table class=\"dataframe\">\n",
              "<caption>A data.frame: 54 × 6</caption>\n",
              "<thead>\n",
              "\t<tr><th></th><th scope=col>mean</th><th scope=col>sd</th><th scope=col>5.5%</th><th scope=col>94.5%</th><th scope=col>rhat</th><th scope=col>ess_bulk</th></tr>\n",
              "\t<tr><th></th><th scope=col>&lt;dbl&gt;</th><th scope=col>&lt;dbl&gt;</th><th scope=col>&lt;dbl&gt;</th><th scope=col>&lt;dbl&gt;</th><th scope=col>&lt;dbl&gt;</th><th scope=col>&lt;dbl&gt;</th></tr>\n",
              "</thead>\n",
              "<tbody>\n",
              "\t<tr><th scope=row>a_tank[1]</th><td> 1.96</td><td>0.91</td><td> 0.41</td><td> 3.39</td><td>1.02</td><td>102.30</td></tr>\n",
              "\t<tr><th scope=row>a_tank[2]</th><td> 2.35</td><td>0.95</td><td> 0.82</td><td> 3.82</td><td>1.02</td><td>108.19</td></tr>\n",
              "\t<tr><th scope=row>a_tank[3]</th><td> 1.22</td><td>0.90</td><td>-0.20</td><td> 2.62</td><td>1.03</td><td> 85.92</td></tr>\n",
              "\t<tr><th scope=row>a_tank[4]</th><td> 2.36</td><td>0.95</td><td> 0.83</td><td> 3.86</td><td>1.02</td><td>106.44</td></tr>\n",
              "\t<tr><th scope=row>a_tank[5]</th><td> 1.96</td><td>0.92</td><td> 0.45</td><td> 3.40</td><td>1.02</td><td>112.05</td></tr>\n",
              "\t<tr><th scope=row>a_tank[6]</th><td> 1.96</td><td>0.92</td><td> 0.51</td><td> 3.43</td><td>1.02</td><td>103.03</td></tr>\n",
              "\t<tr><th scope=row>a_tank[7]</th><td> 2.39</td><td>0.97</td><td> 0.81</td><td> 3.98</td><td>1.01</td><td>122.55</td></tr>\n",
              "\t<tr><th scope=row>a_tank[8]</th><td> 1.95</td><td>0.89</td><td> 0.48</td><td> 3.35</td><td>1.02</td><td>107.41</td></tr>\n",
              "\t<tr><th scope=row>a_tank[9]</th><td> 1.88</td><td>0.85</td><td> 0.46</td><td> 3.17</td><td>1.02</td><td> 84.24</td></tr>\n",
              "\t<tr><th scope=row>a_tank[10]</th><td> 3.13</td><td>0.86</td><td> 1.72</td><td> 4.46</td><td>1.02</td><td> 95.96</td></tr>\n",
              "\t<tr><th scope=row>a_tank[11]</th><td> 2.61</td><td>0.83</td><td> 1.21</td><td> 3.93</td><td>1.03</td><td> 82.24</td></tr>\n",
              "\t<tr><th scope=row>a_tank[12]</th><td> 2.35</td><td>0.84</td><td> 0.98</td><td> 3.65</td><td>1.02</td><td> 85.36</td></tr>\n",
              "\t<tr><th scope=row>a_tank[13]</th><td> 2.13</td><td>0.86</td><td> 0.71</td><td> 3.49</td><td>1.03</td><td> 80.22</td></tr>\n",
              "\t<tr><th scope=row>a_tank[14]</th><td> 1.61</td><td>0.87</td><td> 0.20</td><td> 3.00</td><td>1.03</td><td> 76.60</td></tr>\n",
              "\t<tr><th scope=row>a_tank[15]</th><td> 2.68</td><td>0.89</td><td> 1.24</td><td> 4.12</td><td>1.03</td><td> 84.56</td></tr>\n",
              "\t<tr><th scope=row>a_tank[16]</th><td> 2.68</td><td>0.88</td><td> 1.26</td><td> 4.07</td><td>1.02</td><td> 94.38</td></tr>\n",
              "\t<tr><th scope=row>a_tank[17]</th><td> 2.35</td><td>0.86</td><td> 0.95</td><td> 3.71</td><td>1.02</td><td> 96.35</td></tr>\n",
              "\t<tr><th scope=row>a_tank[18]</th><td> 2.03</td><td>0.85</td><td> 0.65</td><td> 3.34</td><td>1.03</td><td> 89.17</td></tr>\n",
              "\t<tr><th scope=row>a_tank[19]</th><td> 1.77</td><td>0.84</td><td> 0.37</td><td> 3.05</td><td>1.02</td><td> 88.29</td></tr>\n",
              "\t<tr><th scope=row>a_tank[20]</th><td> 2.70</td><td>0.90</td><td> 1.27</td><td> 4.20</td><td>1.02</td><td>106.62</td></tr>\n",
              "\t<tr><th scope=row>a_tank[21]</th><td> 2.05</td><td>0.84</td><td> 0.65</td><td> 3.37</td><td>1.02</td><td> 90.79</td></tr>\n",
              "\t<tr><th scope=row>a_tank[22]</th><td> 2.07</td><td>0.85</td><td> 0.78</td><td> 3.45</td><td>1.02</td><td>100.00</td></tr>\n",
              "\t<tr><th scope=row>a_tank[23]</th><td> 2.06</td><td>0.83</td><td> 0.70</td><td> 3.37</td><td>1.02</td><td> 87.31</td></tr>\n",
              "\t<tr><th scope=row>a_tank[24]</th><td> 1.57</td><td>0.81</td><td> 0.26</td><td> 2.89</td><td>1.02</td><td> 82.11</td></tr>\n",
              "\t<tr><th scope=row>a_tank[25]</th><td> 1.29</td><td>0.79</td><td> 0.01</td><td> 2.50</td><td>1.03</td><td> 67.64</td></tr>\n",
              "\t<tr><th scope=row>a_tank[26]</th><td> 2.23</td><td>0.77</td><td> 0.94</td><td> 3.45</td><td>1.03</td><td> 71.03</td></tr>\n",
              "\t<tr><th scope=row>a_tank[27]</th><td> 0.98</td><td>0.83</td><td>-0.40</td><td> 2.26</td><td>1.03</td><td> 73.65</td></tr>\n",
              "\t<tr><th scope=row>a_tank[28]</th><td> 1.71</td><td>0.78</td><td> 0.37</td><td> 2.91</td><td>1.03</td><td> 69.09</td></tr>\n",
              "\t<tr><th scope=row>a_tank[29]</th><td> 1.56</td><td>0.80</td><td> 0.24</td><td> 2.84</td><td>1.04</td><td> 61.50</td></tr>\n",
              "\t<tr><th scope=row>a_tank[30]</th><td> 2.56</td><td>0.82</td><td> 1.21</td><td> 3.85</td><td>1.03</td><td> 71.78</td></tr>\n",
              "\t<tr><th scope=row>a_tank[31]</th><td> 0.91</td><td>0.82</td><td>-0.43</td><td> 2.20</td><td>1.04</td><td> 65.46</td></tr>\n",
              "\t<tr><th scope=row>a_tank[32]</th><td> 1.18</td><td>0.81</td><td>-0.15</td><td> 2.41</td><td>1.03</td><td> 68.32</td></tr>\n",
              "\t<tr><th scope=row>a_tank[33]</th><td> 2.51</td><td>0.88</td><td> 1.13</td><td> 3.91</td><td>1.02</td><td> 94.90</td></tr>\n",
              "\t<tr><th scope=row>a_tank[34]</th><td> 2.23</td><td>0.82</td><td> 0.89</td><td> 3.53</td><td>1.03</td><td> 88.09</td></tr>\n",
              "\t<tr><th scope=row>a_tank[35]</th><td> 2.24</td><td>0.83</td><td> 0.91</td><td> 3.55</td><td>1.02</td><td> 91.70</td></tr>\n",
              "\t<tr><th scope=row>a_tank[36]</th><td> 1.78</td><td>0.81</td><td> 0.49</td><td> 3.05</td><td>1.03</td><td> 79.00</td></tr>\n",
              "\t<tr><th scope=row>a_tank[37]</th><td> 1.79</td><td>0.80</td><td> 0.49</td><td> 3.07</td><td>1.03</td><td> 79.91</td></tr>\n",
              "\t<tr><th scope=row>a_tank[38]</th><td> 2.85</td><td>0.88</td><td> 1.47</td><td> 4.31</td><td>1.01</td><td>111.39</td></tr>\n",
              "\t<tr><th scope=row>a_tank[39]</th><td> 2.26</td><td>0.82</td><td> 0.93</td><td> 3.58</td><td>1.02</td><td> 91.14</td></tr>\n",
              "\t<tr><th scope=row>a_tank[40]</th><td> 2.02</td><td>0.81</td><td> 0.72</td><td> 3.27</td><td>1.02</td><td> 91.59</td></tr>\n",
              "\t<tr><th scope=row>a_tank[41]</th><td> 0.66</td><td>0.81</td><td>-0.67</td><td> 1.95</td><td>1.03</td><td> 69.54</td></tr>\n",
              "\t<tr><th scope=row>a_tank[42]</th><td> 1.63</td><td>0.77</td><td> 0.36</td><td> 2.82</td><td>1.03</td><td> 67.87</td></tr>\n",
              "\t<tr><th scope=row>a_tank[43]</th><td> 1.74</td><td>0.77</td><td> 0.43</td><td> 2.90</td><td>1.03</td><td> 64.52</td></tr>\n",
              "\t<tr><th scope=row>a_tank[44]</th><td> 1.84</td><td>0.78</td><td> 0.52</td><td> 3.02</td><td>1.03</td><td> 65.49</td></tr>\n",
              "\t<tr><th scope=row>a_tank[45]</th><td> 1.90</td><td>0.78</td><td> 0.65</td><td> 3.11</td><td>1.04</td><td> 62.99</td></tr>\n",
              "\t<tr><th scope=row>a_tank[46]</th><td> 0.93</td><td>0.80</td><td>-0.39</td><td> 2.16</td><td>1.04</td><td> 64.37</td></tr>\n",
              "\t<tr><th scope=row>a_tank[47]</th><td> 3.02</td><td>0.80</td><td> 1.67</td><td> 4.23</td><td>1.03</td><td> 72.20</td></tr>\n",
              "\t<tr><th scope=row>a_tank[48]</th><td> 1.42</td><td>0.79</td><td> 0.15</td><td> 2.66</td><td>1.04</td><td> 62.23</td></tr>\n",
              "\t<tr><th scope=row>a_bar_tank</th><td> 1.97</td><td>0.67</td><td> 0.81</td><td> 2.95</td><td>1.04</td><td> 54.08</td></tr>\n",
              "\t<tr><th scope=row>sigma_tank</th><td> 0.77</td><td>0.15</td><td> 0.54</td><td> 1.03</td><td>1.01</td><td>504.73</td></tr>\n",
              "\t<tr><th scope=row>b_pred[1]</th><td>-1.78</td><td>0.40</td><td>-2.41</td><td>-1.15</td><td>1.01</td><td>645.95</td></tr>\n",
              "\t<tr><th scope=row>b_pred[2]</th><td>-2.70</td><td>0.39</td><td>-3.29</td><td>-2.05</td><td>1.00</td><td>957.81</td></tr>\n",
              "\t<tr><th scope=row>a_size[1]</th><td> 0.42</td><td>0.67</td><td>-0.62</td><td> 1.58</td><td>1.03</td><td> 66.36</td></tr>\n",
              "\t<tr><th scope=row>a_size[2]</th><td> 0.46</td><td>0.68</td><td>-0.56</td><td> 1.60</td><td>1.04</td><td> 63.01</td></tr>\n",
              "</tbody>\n",
              "</table>\n"
            ],
            "text/markdown": "\nA data.frame: 54 × 6\n\n| <!--/--> | mean &lt;dbl&gt; | sd &lt;dbl&gt; | 5.5% &lt;dbl&gt; | 94.5% &lt;dbl&gt; | rhat &lt;dbl&gt; | ess_bulk &lt;dbl&gt; |\n|---|---|---|---|---|---|---|\n| a_tank[1] |  1.96 | 0.91 |  0.41 |  3.39 | 1.02 | 102.30 |\n| a_tank[2] |  2.35 | 0.95 |  0.82 |  3.82 | 1.02 | 108.19 |\n| a_tank[3] |  1.22 | 0.90 | -0.20 |  2.62 | 1.03 |  85.92 |\n| a_tank[4] |  2.36 | 0.95 |  0.83 |  3.86 | 1.02 | 106.44 |\n| a_tank[5] |  1.96 | 0.92 |  0.45 |  3.40 | 1.02 | 112.05 |\n| a_tank[6] |  1.96 | 0.92 |  0.51 |  3.43 | 1.02 | 103.03 |\n| a_tank[7] |  2.39 | 0.97 |  0.81 |  3.98 | 1.01 | 122.55 |\n| a_tank[8] |  1.95 | 0.89 |  0.48 |  3.35 | 1.02 | 107.41 |\n| a_tank[9] |  1.88 | 0.85 |  0.46 |  3.17 | 1.02 |  84.24 |\n| a_tank[10] |  3.13 | 0.86 |  1.72 |  4.46 | 1.02 |  95.96 |\n| a_tank[11] |  2.61 | 0.83 |  1.21 |  3.93 | 1.03 |  82.24 |\n| a_tank[12] |  2.35 | 0.84 |  0.98 |  3.65 | 1.02 |  85.36 |\n| a_tank[13] |  2.13 | 0.86 |  0.71 |  3.49 | 1.03 |  80.22 |\n| a_tank[14] |  1.61 | 0.87 |  0.20 |  3.00 | 1.03 |  76.60 |\n| a_tank[15] |  2.68 | 0.89 |  1.24 |  4.12 | 1.03 |  84.56 |\n| a_tank[16] |  2.68 | 0.88 |  1.26 |  4.07 | 1.02 |  94.38 |\n| a_tank[17] |  2.35 | 0.86 |  0.95 |  3.71 | 1.02 |  96.35 |\n| a_tank[18] |  2.03 | 0.85 |  0.65 |  3.34 | 1.03 |  89.17 |\n| a_tank[19] |  1.77 | 0.84 |  0.37 |  3.05 | 1.02 |  88.29 |\n| a_tank[20] |  2.70 | 0.90 |  1.27 |  4.20 | 1.02 | 106.62 |\n| a_tank[21] |  2.05 | 0.84 |  0.65 |  3.37 | 1.02 |  90.79 |\n| a_tank[22] |  2.07 | 0.85 |  0.78 |  3.45 | 1.02 | 100.00 |\n| a_tank[23] |  2.06 | 0.83 |  0.70 |  3.37 | 1.02 |  87.31 |\n| a_tank[24] |  1.57 | 0.81 |  0.26 |  2.89 | 1.02 |  82.11 |\n| a_tank[25] |  1.29 | 0.79 |  0.01 |  2.50 | 1.03 |  67.64 |\n| a_tank[26] |  2.23 | 0.77 |  0.94 |  3.45 | 1.03 |  71.03 |\n| a_tank[27] |  0.98 | 0.83 | -0.40 |  2.26 | 1.03 |  73.65 |\n| a_tank[28] |  1.71 | 0.78 |  0.37 |  2.91 | 1.03 |  69.09 |\n| a_tank[29] |  1.56 | 0.80 |  0.24 |  2.84 | 1.04 |  61.50 |\n| a_tank[30] |  2.56 | 0.82 |  1.21 |  3.85 | 1.03 |  71.78 |\n| a_tank[31] |  0.91 | 0.82 | -0.43 |  2.20 | 1.04 |  65.46 |\n| a_tank[32] |  1.18 | 0.81 | -0.15 |  2.41 | 1.03 |  68.32 |\n| a_tank[33] |  2.51 | 0.88 |  1.13 |  3.91 | 1.02 |  94.90 |\n| a_tank[34] |  2.23 | 0.82 |  0.89 |  3.53 | 1.03 |  88.09 |\n| a_tank[35] |  2.24 | 0.83 |  0.91 |  3.55 | 1.02 |  91.70 |\n| a_tank[36] |  1.78 | 0.81 |  0.49 |  3.05 | 1.03 |  79.00 |\n| a_tank[37] |  1.79 | 0.80 |  0.49 |  3.07 | 1.03 |  79.91 |\n| a_tank[38] |  2.85 | 0.88 |  1.47 |  4.31 | 1.01 | 111.39 |\n| a_tank[39] |  2.26 | 0.82 |  0.93 |  3.58 | 1.02 |  91.14 |\n| a_tank[40] |  2.02 | 0.81 |  0.72 |  3.27 | 1.02 |  91.59 |\n| a_tank[41] |  0.66 | 0.81 | -0.67 |  1.95 | 1.03 |  69.54 |\n| a_tank[42] |  1.63 | 0.77 |  0.36 |  2.82 | 1.03 |  67.87 |\n| a_tank[43] |  1.74 | 0.77 |  0.43 |  2.90 | 1.03 |  64.52 |\n| a_tank[44] |  1.84 | 0.78 |  0.52 |  3.02 | 1.03 |  65.49 |\n| a_tank[45] |  1.90 | 0.78 |  0.65 |  3.11 | 1.04 |  62.99 |\n| a_tank[46] |  0.93 | 0.80 | -0.39 |  2.16 | 1.04 |  64.37 |\n| a_tank[47] |  3.02 | 0.80 |  1.67 |  4.23 | 1.03 |  72.20 |\n| a_tank[48] |  1.42 | 0.79 |  0.15 |  2.66 | 1.04 |  62.23 |\n| a_bar_tank |  1.97 | 0.67 |  0.81 |  2.95 | 1.04 |  54.08 |\n| sigma_tank |  0.77 | 0.15 |  0.54 |  1.03 | 1.01 | 504.73 |\n| b_pred[1] | -1.78 | 0.40 | -2.41 | -1.15 | 1.01 | 645.95 |\n| b_pred[2] | -2.70 | 0.39 | -3.29 | -2.05 | 1.00 | 957.81 |\n| a_size[1] |  0.42 | 0.67 | -0.62 |  1.58 | 1.03 |  66.36 |\n| a_size[2] |  0.46 | 0.68 | -0.56 |  1.60 | 1.04 |  63.01 |\n\n",
            "text/latex": "A data.frame: 54 × 6\n\\begin{tabular}{r|llllll}\n  & mean & sd & 5.5\\% & 94.5\\% & rhat & ess\\_bulk\\\\\n  & <dbl> & <dbl> & <dbl> & <dbl> & <dbl> & <dbl>\\\\\n\\hline\n\ta\\_tank{[}1{]} &  1.96 & 0.91 &  0.41 &  3.39 & 1.02 & 102.30\\\\\n\ta\\_tank{[}2{]} &  2.35 & 0.95 &  0.82 &  3.82 & 1.02 & 108.19\\\\\n\ta\\_tank{[}3{]} &  1.22 & 0.90 & -0.20 &  2.62 & 1.03 &  85.92\\\\\n\ta\\_tank{[}4{]} &  2.36 & 0.95 &  0.83 &  3.86 & 1.02 & 106.44\\\\\n\ta\\_tank{[}5{]} &  1.96 & 0.92 &  0.45 &  3.40 & 1.02 & 112.05\\\\\n\ta\\_tank{[}6{]} &  1.96 & 0.92 &  0.51 &  3.43 & 1.02 & 103.03\\\\\n\ta\\_tank{[}7{]} &  2.39 & 0.97 &  0.81 &  3.98 & 1.01 & 122.55\\\\\n\ta\\_tank{[}8{]} &  1.95 & 0.89 &  0.48 &  3.35 & 1.02 & 107.41\\\\\n\ta\\_tank{[}9{]} &  1.88 & 0.85 &  0.46 &  3.17 & 1.02 &  84.24\\\\\n\ta\\_tank{[}10{]} &  3.13 & 0.86 &  1.72 &  4.46 & 1.02 &  95.96\\\\\n\ta\\_tank{[}11{]} &  2.61 & 0.83 &  1.21 &  3.93 & 1.03 &  82.24\\\\\n\ta\\_tank{[}12{]} &  2.35 & 0.84 &  0.98 &  3.65 & 1.02 &  85.36\\\\\n\ta\\_tank{[}13{]} &  2.13 & 0.86 &  0.71 &  3.49 & 1.03 &  80.22\\\\\n\ta\\_tank{[}14{]} &  1.61 & 0.87 &  0.20 &  3.00 & 1.03 &  76.60\\\\\n\ta\\_tank{[}15{]} &  2.68 & 0.89 &  1.24 &  4.12 & 1.03 &  84.56\\\\\n\ta\\_tank{[}16{]} &  2.68 & 0.88 &  1.26 &  4.07 & 1.02 &  94.38\\\\\n\ta\\_tank{[}17{]} &  2.35 & 0.86 &  0.95 &  3.71 & 1.02 &  96.35\\\\\n\ta\\_tank{[}18{]} &  2.03 & 0.85 &  0.65 &  3.34 & 1.03 &  89.17\\\\\n\ta\\_tank{[}19{]} &  1.77 & 0.84 &  0.37 &  3.05 & 1.02 &  88.29\\\\\n\ta\\_tank{[}20{]} &  2.70 & 0.90 &  1.27 &  4.20 & 1.02 & 106.62\\\\\n\ta\\_tank{[}21{]} &  2.05 & 0.84 &  0.65 &  3.37 & 1.02 &  90.79\\\\\n\ta\\_tank{[}22{]} &  2.07 & 0.85 &  0.78 &  3.45 & 1.02 & 100.00\\\\\n\ta\\_tank{[}23{]} &  2.06 & 0.83 &  0.70 &  3.37 & 1.02 &  87.31\\\\\n\ta\\_tank{[}24{]} &  1.57 & 0.81 &  0.26 &  2.89 & 1.02 &  82.11\\\\\n\ta\\_tank{[}25{]} &  1.29 & 0.79 &  0.01 &  2.50 & 1.03 &  67.64\\\\\n\ta\\_tank{[}26{]} &  2.23 & 0.77 &  0.94 &  3.45 & 1.03 &  71.03\\\\\n\ta\\_tank{[}27{]} &  0.98 & 0.83 & -0.40 &  2.26 & 1.03 &  73.65\\\\\n\ta\\_tank{[}28{]} &  1.71 & 0.78 &  0.37 &  2.91 & 1.03 &  69.09\\\\\n\ta\\_tank{[}29{]} &  1.56 & 0.80 &  0.24 &  2.84 & 1.04 &  61.50\\\\\n\ta\\_tank{[}30{]} &  2.56 & 0.82 &  1.21 &  3.85 & 1.03 &  71.78\\\\\n\ta\\_tank{[}31{]} &  0.91 & 0.82 & -0.43 &  2.20 & 1.04 &  65.46\\\\\n\ta\\_tank{[}32{]} &  1.18 & 0.81 & -0.15 &  2.41 & 1.03 &  68.32\\\\\n\ta\\_tank{[}33{]} &  2.51 & 0.88 &  1.13 &  3.91 & 1.02 &  94.90\\\\\n\ta\\_tank{[}34{]} &  2.23 & 0.82 &  0.89 &  3.53 & 1.03 &  88.09\\\\\n\ta\\_tank{[}35{]} &  2.24 & 0.83 &  0.91 &  3.55 & 1.02 &  91.70\\\\\n\ta\\_tank{[}36{]} &  1.78 & 0.81 &  0.49 &  3.05 & 1.03 &  79.00\\\\\n\ta\\_tank{[}37{]} &  1.79 & 0.80 &  0.49 &  3.07 & 1.03 &  79.91\\\\\n\ta\\_tank{[}38{]} &  2.85 & 0.88 &  1.47 &  4.31 & 1.01 & 111.39\\\\\n\ta\\_tank{[}39{]} &  2.26 & 0.82 &  0.93 &  3.58 & 1.02 &  91.14\\\\\n\ta\\_tank{[}40{]} &  2.02 & 0.81 &  0.72 &  3.27 & 1.02 &  91.59\\\\\n\ta\\_tank{[}41{]} &  0.66 & 0.81 & -0.67 &  1.95 & 1.03 &  69.54\\\\\n\ta\\_tank{[}42{]} &  1.63 & 0.77 &  0.36 &  2.82 & 1.03 &  67.87\\\\\n\ta\\_tank{[}43{]} &  1.74 & 0.77 &  0.43 &  2.90 & 1.03 &  64.52\\\\\n\ta\\_tank{[}44{]} &  1.84 & 0.78 &  0.52 &  3.02 & 1.03 &  65.49\\\\\n\ta\\_tank{[}45{]} &  1.90 & 0.78 &  0.65 &  3.11 & 1.04 &  62.99\\\\\n\ta\\_tank{[}46{]} &  0.93 & 0.80 & -0.39 &  2.16 & 1.04 &  64.37\\\\\n\ta\\_tank{[}47{]} &  3.02 & 0.80 &  1.67 &  4.23 & 1.03 &  72.20\\\\\n\ta\\_tank{[}48{]} &  1.42 & 0.79 &  0.15 &  2.66 & 1.04 &  62.23\\\\\n\ta\\_bar\\_tank &  1.97 & 0.67 &  0.81 &  2.95 & 1.04 &  54.08\\\\\n\tsigma\\_tank &  0.77 & 0.15 &  0.54 &  1.03 & 1.01 & 504.73\\\\\n\tb\\_pred{[}1{]} & -1.78 & 0.40 & -2.41 & -1.15 & 1.01 & 645.95\\\\\n\tb\\_pred{[}2{]} & -2.70 & 0.39 & -3.29 & -2.05 & 1.00 & 957.81\\\\\n\ta\\_size{[}1{]} &  0.42 & 0.67 & -0.62 &  1.58 & 1.03 &  66.36\\\\\n\ta\\_size{[}2{]} &  0.46 & 0.68 & -0.56 &  1.60 & 1.04 &  63.01\\\\\n\\end{tabular}\n",
            "text/plain": [
              "           mean  sd   5.5%  94.5% rhat ess_bulk\n",
              "a_tank[1]   1.96 0.91  0.41  3.39 1.02 102.30  \n",
              "a_tank[2]   2.35 0.95  0.82  3.82 1.02 108.19  \n",
              "a_tank[3]   1.22 0.90 -0.20  2.62 1.03  85.92  \n",
              "a_tank[4]   2.36 0.95  0.83  3.86 1.02 106.44  \n",
              "a_tank[5]   1.96 0.92  0.45  3.40 1.02 112.05  \n",
              "a_tank[6]   1.96 0.92  0.51  3.43 1.02 103.03  \n",
              "a_tank[7]   2.39 0.97  0.81  3.98 1.01 122.55  \n",
              "a_tank[8]   1.95 0.89  0.48  3.35 1.02 107.41  \n",
              "a_tank[9]   1.88 0.85  0.46  3.17 1.02  84.24  \n",
              "a_tank[10]  3.13 0.86  1.72  4.46 1.02  95.96  \n",
              "a_tank[11]  2.61 0.83  1.21  3.93 1.03  82.24  \n",
              "a_tank[12]  2.35 0.84  0.98  3.65 1.02  85.36  \n",
              "a_tank[13]  2.13 0.86  0.71  3.49 1.03  80.22  \n",
              "a_tank[14]  1.61 0.87  0.20  3.00 1.03  76.60  \n",
              "a_tank[15]  2.68 0.89  1.24  4.12 1.03  84.56  \n",
              "a_tank[16]  2.68 0.88  1.26  4.07 1.02  94.38  \n",
              "a_tank[17]  2.35 0.86  0.95  3.71 1.02  96.35  \n",
              "a_tank[18]  2.03 0.85  0.65  3.34 1.03  89.17  \n",
              "a_tank[19]  1.77 0.84  0.37  3.05 1.02  88.29  \n",
              "a_tank[20]  2.70 0.90  1.27  4.20 1.02 106.62  \n",
              "a_tank[21]  2.05 0.84  0.65  3.37 1.02  90.79  \n",
              "a_tank[22]  2.07 0.85  0.78  3.45 1.02 100.00  \n",
              "a_tank[23]  2.06 0.83  0.70  3.37 1.02  87.31  \n",
              "a_tank[24]  1.57 0.81  0.26  2.89 1.02  82.11  \n",
              "a_tank[25]  1.29 0.79  0.01  2.50 1.03  67.64  \n",
              "a_tank[26]  2.23 0.77  0.94  3.45 1.03  71.03  \n",
              "a_tank[27]  0.98 0.83 -0.40  2.26 1.03  73.65  \n",
              "a_tank[28]  1.71 0.78  0.37  2.91 1.03  69.09  \n",
              "a_tank[29]  1.56 0.80  0.24  2.84 1.04  61.50  \n",
              "a_tank[30]  2.56 0.82  1.21  3.85 1.03  71.78  \n",
              "a_tank[31]  0.91 0.82 -0.43  2.20 1.04  65.46  \n",
              "a_tank[32]  1.18 0.81 -0.15  2.41 1.03  68.32  \n",
              "a_tank[33]  2.51 0.88  1.13  3.91 1.02  94.90  \n",
              "a_tank[34]  2.23 0.82  0.89  3.53 1.03  88.09  \n",
              "a_tank[35]  2.24 0.83  0.91  3.55 1.02  91.70  \n",
              "a_tank[36]  1.78 0.81  0.49  3.05 1.03  79.00  \n",
              "a_tank[37]  1.79 0.80  0.49  3.07 1.03  79.91  \n",
              "a_tank[38]  2.85 0.88  1.47  4.31 1.01 111.39  \n",
              "a_tank[39]  2.26 0.82  0.93  3.58 1.02  91.14  \n",
              "a_tank[40]  2.02 0.81  0.72  3.27 1.02  91.59  \n",
              "a_tank[41]  0.66 0.81 -0.67  1.95 1.03  69.54  \n",
              "a_tank[42]  1.63 0.77  0.36  2.82 1.03  67.87  \n",
              "a_tank[43]  1.74 0.77  0.43  2.90 1.03  64.52  \n",
              "a_tank[44]  1.84 0.78  0.52  3.02 1.03  65.49  \n",
              "a_tank[45]  1.90 0.78  0.65  3.11 1.04  62.99  \n",
              "a_tank[46]  0.93 0.80 -0.39  2.16 1.04  64.37  \n",
              "a_tank[47]  3.02 0.80  1.67  4.23 1.03  72.20  \n",
              "a_tank[48]  1.42 0.79  0.15  2.66 1.04  62.23  \n",
              "a_bar_tank  1.97 0.67  0.81  2.95 1.04  54.08  \n",
              "sigma_tank  0.77 0.15  0.54  1.03 1.01 504.73  \n",
              "b_pred[1]  -1.78 0.40 -2.41 -1.15 1.01 645.95  \n",
              "b_pred[2]  -2.70 0.39 -3.29 -2.05 1.00 957.81  \n",
              "a_size[1]   0.42 0.67 -0.62  1.58 1.03  66.36  \n",
              "a_size[2]   0.46 0.68 -0.56  1.60 1.04  63.01  "
            ]
          },
          "metadata": {}
        },
        {
          "output_type": "display_data",
          "data": {
            "text/html": [
              "<table class=\"dataframe\">\n",
              "<caption>A data.frame: 53 × 6</caption>\n",
              "<thead>\n",
              "\t<tr><th></th><th scope=col>mean</th><th scope=col>sd</th><th scope=col>5.5%</th><th scope=col>94.5%</th><th scope=col>rhat</th><th scope=col>ess_bulk</th></tr>\n",
              "\t<tr><th></th><th scope=col>&lt;dbl&gt;</th><th scope=col>&lt;dbl&gt;</th><th scope=col>&lt;dbl&gt;</th><th scope=col>&lt;dbl&gt;</th><th scope=col>&lt;dbl&gt;</th><th scope=col>&lt;dbl&gt;</th></tr>\n",
              "</thead>\n",
              "<tbody>\n",
              "\t<tr><th scope=row>a_tank[1]</th><td> 1.99</td><td>0.87</td><td> 0.58</td><td> 3.41</td><td>1.03</td><td>105.54</td></tr>\n",
              "\t<tr><th scope=row>a_tank[2]</th><td> 2.41</td><td>0.91</td><td> 0.99</td><td> 3.85</td><td>1.03</td><td>100.56</td></tr>\n",
              "\t<tr><th scope=row>a_tank[3]</th><td> 1.29</td><td>0.83</td><td> 0.03</td><td> 2.62</td><td>1.03</td><td>103.02</td></tr>\n",
              "\t<tr><th scope=row>a_tank[4]</th><td> 2.42</td><td>0.93</td><td> 0.95</td><td> 3.88</td><td>1.03</td><td>105.73</td></tr>\n",
              "\t<tr><th scope=row>a_tank[5]</th><td> 1.85</td><td>0.90</td><td> 0.44</td><td> 3.40</td><td>1.03</td><td>115.58</td></tr>\n",
              "\t<tr><th scope=row>a_tank[6]</th><td> 1.83</td><td>0.88</td><td> 0.45</td><td> 3.24</td><td>1.03</td><td>114.45</td></tr>\n",
              "\t<tr><th scope=row>a_tank[7]</th><td> 2.30</td><td>0.91</td><td> 0.87</td><td> 3.80</td><td>1.03</td><td>104.56</td></tr>\n",
              "\t<tr><th scope=row>a_tank[8]</th><td> 1.85</td><td>0.89</td><td> 0.41</td><td> 3.29</td><td>1.03</td><td>122.68</td></tr>\n",
              "\t<tr><th scope=row>a_tank[9]</th><td> 1.80</td><td>0.83</td><td> 0.48</td><td> 3.18</td><td>1.04</td><td> 83.97</td></tr>\n",
              "\t<tr><th scope=row>a_tank[10]</th><td> 3.06</td><td>0.87</td><td> 1.70</td><td> 4.43</td><td>1.03</td><td> 85.89</td></tr>\n",
              "\t<tr><th scope=row>a_tank[11]</th><td> 2.53</td><td>0.81</td><td> 1.25</td><td> 3.84</td><td>1.04</td><td> 78.69</td></tr>\n",
              "\t<tr><th scope=row>a_tank[12]</th><td> 2.28</td><td>0.82</td><td> 0.96</td><td> 3.60</td><td>1.04</td><td> 80.88</td></tr>\n",
              "\t<tr><th scope=row>a_tank[13]</th><td> 2.26</td><td>0.84</td><td> 0.96</td><td> 3.68</td><td>1.04</td><td> 87.11</td></tr>\n",
              "\t<tr><th scope=row>a_tank[14]</th><td> 1.76</td><td>0.83</td><td> 0.45</td><td> 3.05</td><td>1.04</td><td> 79.15</td></tr>\n",
              "\t<tr><th scope=row>a_tank[15]</th><td> 2.79</td><td>0.86</td><td> 1.50</td><td> 4.18</td><td>1.03</td><td>100.45</td></tr>\n",
              "\t<tr><th scope=row>a_tank[16]</th><td> 2.80</td><td>0.88</td><td> 1.44</td><td> 4.25</td><td>1.03</td><td> 89.02</td></tr>\n",
              "\t<tr><th scope=row>a_tank[17]</th><td> 2.41</td><td>0.83</td><td> 1.08</td><td> 3.81</td><td>1.03</td><td> 92.79</td></tr>\n",
              "\t<tr><th scope=row>a_tank[18]</th><td> 2.12</td><td>0.80</td><td> 0.80</td><td> 3.42</td><td>1.03</td><td> 98.41</td></tr>\n",
              "\t<tr><th scope=row>a_tank[19]</th><td> 1.87</td><td>0.79</td><td> 0.58</td><td> 3.17</td><td>1.03</td><td> 94.05</td></tr>\n",
              "\t<tr><th scope=row>a_tank[20]</th><td> 2.73</td><td>0.88</td><td> 1.41</td><td> 4.18</td><td>1.03</td><td>107.45</td></tr>\n",
              "\t<tr><th scope=row>a_tank[21]</th><td> 1.89</td><td>0.81</td><td> 0.62</td><td> 3.22</td><td>1.03</td><td>103.24</td></tr>\n",
              "\t<tr><th scope=row>a_tank[22]</th><td> 1.89</td><td>0.82</td><td> 0.59</td><td> 3.24</td><td>1.03</td><td> 94.97</td></tr>\n",
              "\t<tr><th scope=row>a_tank[23]</th><td> 1.89</td><td>0.84</td><td> 0.56</td><td> 3.23</td><td>1.03</td><td>120.71</td></tr>\n",
              "\t<tr><th scope=row>a_tank[24]</th><td> 1.34</td><td>0.78</td><td> 0.11</td><td> 2.60</td><td>1.03</td><td> 97.64</td></tr>\n",
              "\t<tr><th scope=row>a_tank[25]</th><td> 1.22</td><td>0.76</td><td> 0.02</td><td> 2.46</td><td>1.05</td><td> 62.90</td></tr>\n",
              "\t<tr><th scope=row>a_tank[26]</th><td> 2.13</td><td>0.77</td><td> 0.87</td><td> 3.35</td><td>1.05</td><td> 68.60</td></tr>\n",
              "\t<tr><th scope=row>a_tank[27]</th><td> 0.89</td><td>0.79</td><td>-0.35</td><td> 2.13</td><td>1.05</td><td> 73.74</td></tr>\n",
              "\t<tr><th scope=row>a_tank[28]</th><td> 1.61</td><td>0.76</td><td> 0.39</td><td> 2.87</td><td>1.05</td><td> 64.38</td></tr>\n",
              "\t<tr><th scope=row>a_tank[29]</th><td> 1.75</td><td>0.75</td><td> 0.54</td><td> 2.96</td><td>1.05</td><td> 63.96</td></tr>\n",
              "\t<tr><th scope=row>a_tank[30]</th><td> 2.72</td><td>0.77</td><td> 1.49</td><td> 3.98</td><td>1.04</td><td> 73.92</td></tr>\n",
              "\t<tr><th scope=row>a_tank[31]</th><td> 1.10</td><td>0.78</td><td>-0.11</td><td> 2.37</td><td>1.05</td><td> 64.57</td></tr>\n",
              "\t<tr><th scope=row>a_tank[32]</th><td> 1.36</td><td>0.75</td><td> 0.15</td><td> 2.56</td><td>1.05</td><td> 65.80</td></tr>\n",
              "\t<tr><th scope=row>a_tank[33]</th><td> 2.58</td><td>0.81</td><td> 1.31</td><td> 3.89</td><td>1.03</td><td>102.05</td></tr>\n",
              "\t<tr><th scope=row>a_tank[34]</th><td> 2.33</td><td>0.79</td><td> 1.06</td><td> 3.64</td><td>1.03</td><td> 86.32</td></tr>\n",
              "\t<tr><th scope=row>a_tank[35]</th><td> 2.33</td><td>0.80</td><td> 1.05</td><td> 3.63</td><td>1.03</td><td> 98.49</td></tr>\n",
              "\t<tr><th scope=row>a_tank[36]</th><td> 1.88</td><td>0.77</td><td> 0.63</td><td> 3.13</td><td>1.03</td><td> 89.37</td></tr>\n",
              "\t<tr><th scope=row>a_tank[37]</th><td> 1.56</td><td>0.76</td><td> 0.36</td><td> 2.79</td><td>1.03</td><td> 91.07</td></tr>\n",
              "\t<tr><th scope=row>a_tank[38]</th><td> 2.70</td><td>0.89</td><td> 1.34</td><td> 4.19</td><td>1.02</td><td>112.87</td></tr>\n",
              "\t<tr><th scope=row>a_tank[39]</th><td> 2.05</td><td>0.81</td><td> 0.82</td><td> 3.34</td><td>1.02</td><td>119.67</td></tr>\n",
              "\t<tr><th scope=row>a_tank[40]</th><td> 1.79</td><td>0.78</td><td> 0.54</td><td> 3.04</td><td>1.03</td><td> 92.55</td></tr>\n",
              "\t<tr><th scope=row>a_tank[41]</th><td> 0.57</td><td>0.78</td><td>-0.65</td><td> 1.82</td><td>1.05</td><td> 66.83</td></tr>\n",
              "\t<tr><th scope=row>a_tank[42]</th><td> 1.54</td><td>0.74</td><td> 0.40</td><td> 2.73</td><td>1.05</td><td> 60.36</td></tr>\n",
              "\t<tr><th scope=row>a_tank[43]</th><td> 1.63</td><td>0.74</td><td> 0.47</td><td> 2.84</td><td>1.05</td><td> 64.34</td></tr>\n",
              "\t<tr><th scope=row>a_tank[44]</th><td> 1.73</td><td>0.74</td><td> 0.54</td><td> 2.97</td><td>1.05</td><td> 62.95</td></tr>\n",
              "\t<tr><th scope=row>a_tank[45]</th><td> 2.12</td><td>0.73</td><td> 0.95</td><td> 3.31</td><td>1.05</td><td> 67.54</td></tr>\n",
              "\t<tr><th scope=row>a_tank[46]</th><td> 1.13</td><td>0.75</td><td>-0.08</td><td> 2.34</td><td>1.05</td><td> 68.89</td></tr>\n",
              "\t<tr><th scope=row>a_tank[47]</th><td> 3.19</td><td>0.77</td><td> 1.96</td><td> 4.46</td><td>1.04</td><td> 79.34</td></tr>\n",
              "\t<tr><th scope=row>a_tank[48]</th><td> 1.61</td><td>0.74</td><td> 0.45</td><td> 2.83</td><td>1.05</td><td> 63.70</td></tr>\n",
              "\t<tr><th scope=row>a_bar_tank</th><td> 1.97</td><td>0.64</td><td> 0.95</td><td> 3.02</td><td>1.06</td><td> 54.92</td></tr>\n",
              "\t<tr><th scope=row>sigma_tank</th><td> 0.77</td><td>0.15</td><td> 0.56</td><td> 1.03</td><td>1.01</td><td>618.69</td></tr>\n",
              "\t<tr><th scope=row>b_pred</th><td>-2.40</td><td>0.30</td><td>-2.88</td><td>-1.93</td><td>1.01</td><td>572.33</td></tr>\n",
              "\t<tr><th scope=row>a_size[1]</th><td> 0.79</td><td>0.63</td><td>-0.22</td><td> 1.78</td><td>1.05</td><td> 67.88</td></tr>\n",
              "\t<tr><th scope=row>a_size[2]</th><td> 0.29</td><td>0.62</td><td>-0.73</td><td> 1.28</td><td>1.05</td><td> 63.64</td></tr>\n",
              "</tbody>\n",
              "</table>\n"
            ],
            "text/markdown": "\nA data.frame: 53 × 6\n\n| <!--/--> | mean &lt;dbl&gt; | sd &lt;dbl&gt; | 5.5% &lt;dbl&gt; | 94.5% &lt;dbl&gt; | rhat &lt;dbl&gt; | ess_bulk &lt;dbl&gt; |\n|---|---|---|---|---|---|---|\n| a_tank[1] |  1.99 | 0.87 |  0.58 |  3.41 | 1.03 | 105.54 |\n| a_tank[2] |  2.41 | 0.91 |  0.99 |  3.85 | 1.03 | 100.56 |\n| a_tank[3] |  1.29 | 0.83 |  0.03 |  2.62 | 1.03 | 103.02 |\n| a_tank[4] |  2.42 | 0.93 |  0.95 |  3.88 | 1.03 | 105.73 |\n| a_tank[5] |  1.85 | 0.90 |  0.44 |  3.40 | 1.03 | 115.58 |\n| a_tank[6] |  1.83 | 0.88 |  0.45 |  3.24 | 1.03 | 114.45 |\n| a_tank[7] |  2.30 | 0.91 |  0.87 |  3.80 | 1.03 | 104.56 |\n| a_tank[8] |  1.85 | 0.89 |  0.41 |  3.29 | 1.03 | 122.68 |\n| a_tank[9] |  1.80 | 0.83 |  0.48 |  3.18 | 1.04 |  83.97 |\n| a_tank[10] |  3.06 | 0.87 |  1.70 |  4.43 | 1.03 |  85.89 |\n| a_tank[11] |  2.53 | 0.81 |  1.25 |  3.84 | 1.04 |  78.69 |\n| a_tank[12] |  2.28 | 0.82 |  0.96 |  3.60 | 1.04 |  80.88 |\n| a_tank[13] |  2.26 | 0.84 |  0.96 |  3.68 | 1.04 |  87.11 |\n| a_tank[14] |  1.76 | 0.83 |  0.45 |  3.05 | 1.04 |  79.15 |\n| a_tank[15] |  2.79 | 0.86 |  1.50 |  4.18 | 1.03 | 100.45 |\n| a_tank[16] |  2.80 | 0.88 |  1.44 |  4.25 | 1.03 |  89.02 |\n| a_tank[17] |  2.41 | 0.83 |  1.08 |  3.81 | 1.03 |  92.79 |\n| a_tank[18] |  2.12 | 0.80 |  0.80 |  3.42 | 1.03 |  98.41 |\n| a_tank[19] |  1.87 | 0.79 |  0.58 |  3.17 | 1.03 |  94.05 |\n| a_tank[20] |  2.73 | 0.88 |  1.41 |  4.18 | 1.03 | 107.45 |\n| a_tank[21] |  1.89 | 0.81 |  0.62 |  3.22 | 1.03 | 103.24 |\n| a_tank[22] |  1.89 | 0.82 |  0.59 |  3.24 | 1.03 |  94.97 |\n| a_tank[23] |  1.89 | 0.84 |  0.56 |  3.23 | 1.03 | 120.71 |\n| a_tank[24] |  1.34 | 0.78 |  0.11 |  2.60 | 1.03 |  97.64 |\n| a_tank[25] |  1.22 | 0.76 |  0.02 |  2.46 | 1.05 |  62.90 |\n| a_tank[26] |  2.13 | 0.77 |  0.87 |  3.35 | 1.05 |  68.60 |\n| a_tank[27] |  0.89 | 0.79 | -0.35 |  2.13 | 1.05 |  73.74 |\n| a_tank[28] |  1.61 | 0.76 |  0.39 |  2.87 | 1.05 |  64.38 |\n| a_tank[29] |  1.75 | 0.75 |  0.54 |  2.96 | 1.05 |  63.96 |\n| a_tank[30] |  2.72 | 0.77 |  1.49 |  3.98 | 1.04 |  73.92 |\n| a_tank[31] |  1.10 | 0.78 | -0.11 |  2.37 | 1.05 |  64.57 |\n| a_tank[32] |  1.36 | 0.75 |  0.15 |  2.56 | 1.05 |  65.80 |\n| a_tank[33] |  2.58 | 0.81 |  1.31 |  3.89 | 1.03 | 102.05 |\n| a_tank[34] |  2.33 | 0.79 |  1.06 |  3.64 | 1.03 |  86.32 |\n| a_tank[35] |  2.33 | 0.80 |  1.05 |  3.63 | 1.03 |  98.49 |\n| a_tank[36] |  1.88 | 0.77 |  0.63 |  3.13 | 1.03 |  89.37 |\n| a_tank[37] |  1.56 | 0.76 |  0.36 |  2.79 | 1.03 |  91.07 |\n| a_tank[38] |  2.70 | 0.89 |  1.34 |  4.19 | 1.02 | 112.87 |\n| a_tank[39] |  2.05 | 0.81 |  0.82 |  3.34 | 1.02 | 119.67 |\n| a_tank[40] |  1.79 | 0.78 |  0.54 |  3.04 | 1.03 |  92.55 |\n| a_tank[41] |  0.57 | 0.78 | -0.65 |  1.82 | 1.05 |  66.83 |\n| a_tank[42] |  1.54 | 0.74 |  0.40 |  2.73 | 1.05 |  60.36 |\n| a_tank[43] |  1.63 | 0.74 |  0.47 |  2.84 | 1.05 |  64.34 |\n| a_tank[44] |  1.73 | 0.74 |  0.54 |  2.97 | 1.05 |  62.95 |\n| a_tank[45] |  2.12 | 0.73 |  0.95 |  3.31 | 1.05 |  67.54 |\n| a_tank[46] |  1.13 | 0.75 | -0.08 |  2.34 | 1.05 |  68.89 |\n| a_tank[47] |  3.19 | 0.77 |  1.96 |  4.46 | 1.04 |  79.34 |\n| a_tank[48] |  1.61 | 0.74 |  0.45 |  2.83 | 1.05 |  63.70 |\n| a_bar_tank |  1.97 | 0.64 |  0.95 |  3.02 | 1.06 |  54.92 |\n| sigma_tank |  0.77 | 0.15 |  0.56 |  1.03 | 1.01 | 618.69 |\n| b_pred | -2.40 | 0.30 | -2.88 | -1.93 | 1.01 | 572.33 |\n| a_size[1] |  0.79 | 0.63 | -0.22 |  1.78 | 1.05 |  67.88 |\n| a_size[2] |  0.29 | 0.62 | -0.73 |  1.28 | 1.05 |  63.64 |\n\n",
            "text/latex": "A data.frame: 53 × 6\n\\begin{tabular}{r|llllll}\n  & mean & sd & 5.5\\% & 94.5\\% & rhat & ess\\_bulk\\\\\n  & <dbl> & <dbl> & <dbl> & <dbl> & <dbl> & <dbl>\\\\\n\\hline\n\ta\\_tank{[}1{]} &  1.99 & 0.87 &  0.58 &  3.41 & 1.03 & 105.54\\\\\n\ta\\_tank{[}2{]} &  2.41 & 0.91 &  0.99 &  3.85 & 1.03 & 100.56\\\\\n\ta\\_tank{[}3{]} &  1.29 & 0.83 &  0.03 &  2.62 & 1.03 & 103.02\\\\\n\ta\\_tank{[}4{]} &  2.42 & 0.93 &  0.95 &  3.88 & 1.03 & 105.73\\\\\n\ta\\_tank{[}5{]} &  1.85 & 0.90 &  0.44 &  3.40 & 1.03 & 115.58\\\\\n\ta\\_tank{[}6{]} &  1.83 & 0.88 &  0.45 &  3.24 & 1.03 & 114.45\\\\\n\ta\\_tank{[}7{]} &  2.30 & 0.91 &  0.87 &  3.80 & 1.03 & 104.56\\\\\n\ta\\_tank{[}8{]} &  1.85 & 0.89 &  0.41 &  3.29 & 1.03 & 122.68\\\\\n\ta\\_tank{[}9{]} &  1.80 & 0.83 &  0.48 &  3.18 & 1.04 &  83.97\\\\\n\ta\\_tank{[}10{]} &  3.06 & 0.87 &  1.70 &  4.43 & 1.03 &  85.89\\\\\n\ta\\_tank{[}11{]} &  2.53 & 0.81 &  1.25 &  3.84 & 1.04 &  78.69\\\\\n\ta\\_tank{[}12{]} &  2.28 & 0.82 &  0.96 &  3.60 & 1.04 &  80.88\\\\\n\ta\\_tank{[}13{]} &  2.26 & 0.84 &  0.96 &  3.68 & 1.04 &  87.11\\\\\n\ta\\_tank{[}14{]} &  1.76 & 0.83 &  0.45 &  3.05 & 1.04 &  79.15\\\\\n\ta\\_tank{[}15{]} &  2.79 & 0.86 &  1.50 &  4.18 & 1.03 & 100.45\\\\\n\ta\\_tank{[}16{]} &  2.80 & 0.88 &  1.44 &  4.25 & 1.03 &  89.02\\\\\n\ta\\_tank{[}17{]} &  2.41 & 0.83 &  1.08 &  3.81 & 1.03 &  92.79\\\\\n\ta\\_tank{[}18{]} &  2.12 & 0.80 &  0.80 &  3.42 & 1.03 &  98.41\\\\\n\ta\\_tank{[}19{]} &  1.87 & 0.79 &  0.58 &  3.17 & 1.03 &  94.05\\\\\n\ta\\_tank{[}20{]} &  2.73 & 0.88 &  1.41 &  4.18 & 1.03 & 107.45\\\\\n\ta\\_tank{[}21{]} &  1.89 & 0.81 &  0.62 &  3.22 & 1.03 & 103.24\\\\\n\ta\\_tank{[}22{]} &  1.89 & 0.82 &  0.59 &  3.24 & 1.03 &  94.97\\\\\n\ta\\_tank{[}23{]} &  1.89 & 0.84 &  0.56 &  3.23 & 1.03 & 120.71\\\\\n\ta\\_tank{[}24{]} &  1.34 & 0.78 &  0.11 &  2.60 & 1.03 &  97.64\\\\\n\ta\\_tank{[}25{]} &  1.22 & 0.76 &  0.02 &  2.46 & 1.05 &  62.90\\\\\n\ta\\_tank{[}26{]} &  2.13 & 0.77 &  0.87 &  3.35 & 1.05 &  68.60\\\\\n\ta\\_tank{[}27{]} &  0.89 & 0.79 & -0.35 &  2.13 & 1.05 &  73.74\\\\\n\ta\\_tank{[}28{]} &  1.61 & 0.76 &  0.39 &  2.87 & 1.05 &  64.38\\\\\n\ta\\_tank{[}29{]} &  1.75 & 0.75 &  0.54 &  2.96 & 1.05 &  63.96\\\\\n\ta\\_tank{[}30{]} &  2.72 & 0.77 &  1.49 &  3.98 & 1.04 &  73.92\\\\\n\ta\\_tank{[}31{]} &  1.10 & 0.78 & -0.11 &  2.37 & 1.05 &  64.57\\\\\n\ta\\_tank{[}32{]} &  1.36 & 0.75 &  0.15 &  2.56 & 1.05 &  65.80\\\\\n\ta\\_tank{[}33{]} &  2.58 & 0.81 &  1.31 &  3.89 & 1.03 & 102.05\\\\\n\ta\\_tank{[}34{]} &  2.33 & 0.79 &  1.06 &  3.64 & 1.03 &  86.32\\\\\n\ta\\_tank{[}35{]} &  2.33 & 0.80 &  1.05 &  3.63 & 1.03 &  98.49\\\\\n\ta\\_tank{[}36{]} &  1.88 & 0.77 &  0.63 &  3.13 & 1.03 &  89.37\\\\\n\ta\\_tank{[}37{]} &  1.56 & 0.76 &  0.36 &  2.79 & 1.03 &  91.07\\\\\n\ta\\_tank{[}38{]} &  2.70 & 0.89 &  1.34 &  4.19 & 1.02 & 112.87\\\\\n\ta\\_tank{[}39{]} &  2.05 & 0.81 &  0.82 &  3.34 & 1.02 & 119.67\\\\\n\ta\\_tank{[}40{]} &  1.79 & 0.78 &  0.54 &  3.04 & 1.03 &  92.55\\\\\n\ta\\_tank{[}41{]} &  0.57 & 0.78 & -0.65 &  1.82 & 1.05 &  66.83\\\\\n\ta\\_tank{[}42{]} &  1.54 & 0.74 &  0.40 &  2.73 & 1.05 &  60.36\\\\\n\ta\\_tank{[}43{]} &  1.63 & 0.74 &  0.47 &  2.84 & 1.05 &  64.34\\\\\n\ta\\_tank{[}44{]} &  1.73 & 0.74 &  0.54 &  2.97 & 1.05 &  62.95\\\\\n\ta\\_tank{[}45{]} &  2.12 & 0.73 &  0.95 &  3.31 & 1.05 &  67.54\\\\\n\ta\\_tank{[}46{]} &  1.13 & 0.75 & -0.08 &  2.34 & 1.05 &  68.89\\\\\n\ta\\_tank{[}47{]} &  3.19 & 0.77 &  1.96 &  4.46 & 1.04 &  79.34\\\\\n\ta\\_tank{[}48{]} &  1.61 & 0.74 &  0.45 &  2.83 & 1.05 &  63.70\\\\\n\ta\\_bar\\_tank &  1.97 & 0.64 &  0.95 &  3.02 & 1.06 &  54.92\\\\\n\tsigma\\_tank &  0.77 & 0.15 &  0.56 &  1.03 & 1.01 & 618.69\\\\\n\tb\\_pred & -2.40 & 0.30 & -2.88 & -1.93 & 1.01 & 572.33\\\\\n\ta\\_size{[}1{]} &  0.79 & 0.63 & -0.22 &  1.78 & 1.05 &  67.88\\\\\n\ta\\_size{[}2{]} &  0.29 & 0.62 & -0.73 &  1.28 & 1.05 &  63.64\\\\\n\\end{tabular}\n",
            "text/plain": [
              "           mean  sd   5.5%  94.5% rhat ess_bulk\n",
              "a_tank[1]   1.99 0.87  0.58  3.41 1.03 105.54  \n",
              "a_tank[2]   2.41 0.91  0.99  3.85 1.03 100.56  \n",
              "a_tank[3]   1.29 0.83  0.03  2.62 1.03 103.02  \n",
              "a_tank[4]   2.42 0.93  0.95  3.88 1.03 105.73  \n",
              "a_tank[5]   1.85 0.90  0.44  3.40 1.03 115.58  \n",
              "a_tank[6]   1.83 0.88  0.45  3.24 1.03 114.45  \n",
              "a_tank[7]   2.30 0.91  0.87  3.80 1.03 104.56  \n",
              "a_tank[8]   1.85 0.89  0.41  3.29 1.03 122.68  \n",
              "a_tank[9]   1.80 0.83  0.48  3.18 1.04  83.97  \n",
              "a_tank[10]  3.06 0.87  1.70  4.43 1.03  85.89  \n",
              "a_tank[11]  2.53 0.81  1.25  3.84 1.04  78.69  \n",
              "a_tank[12]  2.28 0.82  0.96  3.60 1.04  80.88  \n",
              "a_tank[13]  2.26 0.84  0.96  3.68 1.04  87.11  \n",
              "a_tank[14]  1.76 0.83  0.45  3.05 1.04  79.15  \n",
              "a_tank[15]  2.79 0.86  1.50  4.18 1.03 100.45  \n",
              "a_tank[16]  2.80 0.88  1.44  4.25 1.03  89.02  \n",
              "a_tank[17]  2.41 0.83  1.08  3.81 1.03  92.79  \n",
              "a_tank[18]  2.12 0.80  0.80  3.42 1.03  98.41  \n",
              "a_tank[19]  1.87 0.79  0.58  3.17 1.03  94.05  \n",
              "a_tank[20]  2.73 0.88  1.41  4.18 1.03 107.45  \n",
              "a_tank[21]  1.89 0.81  0.62  3.22 1.03 103.24  \n",
              "a_tank[22]  1.89 0.82  0.59  3.24 1.03  94.97  \n",
              "a_tank[23]  1.89 0.84  0.56  3.23 1.03 120.71  \n",
              "a_tank[24]  1.34 0.78  0.11  2.60 1.03  97.64  \n",
              "a_tank[25]  1.22 0.76  0.02  2.46 1.05  62.90  \n",
              "a_tank[26]  2.13 0.77  0.87  3.35 1.05  68.60  \n",
              "a_tank[27]  0.89 0.79 -0.35  2.13 1.05  73.74  \n",
              "a_tank[28]  1.61 0.76  0.39  2.87 1.05  64.38  \n",
              "a_tank[29]  1.75 0.75  0.54  2.96 1.05  63.96  \n",
              "a_tank[30]  2.72 0.77  1.49  3.98 1.04  73.92  \n",
              "a_tank[31]  1.10 0.78 -0.11  2.37 1.05  64.57  \n",
              "a_tank[32]  1.36 0.75  0.15  2.56 1.05  65.80  \n",
              "a_tank[33]  2.58 0.81  1.31  3.89 1.03 102.05  \n",
              "a_tank[34]  2.33 0.79  1.06  3.64 1.03  86.32  \n",
              "a_tank[35]  2.33 0.80  1.05  3.63 1.03  98.49  \n",
              "a_tank[36]  1.88 0.77  0.63  3.13 1.03  89.37  \n",
              "a_tank[37]  1.56 0.76  0.36  2.79 1.03  91.07  \n",
              "a_tank[38]  2.70 0.89  1.34  4.19 1.02 112.87  \n",
              "a_tank[39]  2.05 0.81  0.82  3.34 1.02 119.67  \n",
              "a_tank[40]  1.79 0.78  0.54  3.04 1.03  92.55  \n",
              "a_tank[41]  0.57 0.78 -0.65  1.82 1.05  66.83  \n",
              "a_tank[42]  1.54 0.74  0.40  2.73 1.05  60.36  \n",
              "a_tank[43]  1.63 0.74  0.47  2.84 1.05  64.34  \n",
              "a_tank[44]  1.73 0.74  0.54  2.97 1.05  62.95  \n",
              "a_tank[45]  2.12 0.73  0.95  3.31 1.05  67.54  \n",
              "a_tank[46]  1.13 0.75 -0.08  2.34 1.05  68.89  \n",
              "a_tank[47]  3.19 0.77  1.96  4.46 1.04  79.34  \n",
              "a_tank[48]  1.61 0.74  0.45  2.83 1.05  63.70  \n",
              "a_bar_tank  1.97 0.64  0.95  3.02 1.06  54.92  \n",
              "sigma_tank  0.77 0.15  0.56  1.03 1.01 618.69  \n",
              "b_pred     -2.40 0.30 -2.88 -1.93 1.01 572.33  \n",
              "a_size[1]   0.79 0.63 -0.22  1.78 1.05  67.88  \n",
              "a_size[2]   0.29 0.62 -0.73  1.28 1.05  63.64  "
            ]
          },
          "metadata": {}
        },
        {
          "output_type": "display_data",
          "data": {
            "text/html": [
              "<table class=\"dataframe\">\n",
              "<caption>A data.frame: 50 × 6</caption>\n",
              "<thead>\n",
              "\t<tr><th></th><th scope=col>mean</th><th scope=col>sd</th><th scope=col>5.5%</th><th scope=col>94.5%</th><th scope=col>rhat</th><th scope=col>ess_bulk</th></tr>\n",
              "\t<tr><th></th><th scope=col>&lt;dbl&gt;</th><th scope=col>&lt;dbl&gt;</th><th scope=col>&lt;dbl&gt;</th><th scope=col>&lt;dbl&gt;</th><th scope=col>&lt;dbl&gt;</th><th scope=col>&lt;dbl&gt;</th></tr>\n",
              "</thead>\n",
              "<tbody>\n",
              "\t<tr><th scope=row>a_tank[1]</th><td> 2.15</td><td>0.89</td><td> 0.86</td><td> 3.74</td><td>1.00</td><td>4046.10</td></tr>\n",
              "\t<tr><th scope=row>a_tank[2]</th><td> 3.02</td><td>1.11</td><td> 1.39</td><td> 4.99</td><td>1.00</td><td>3993.66</td></tr>\n",
              "\t<tr><th scope=row>a_tank[3]</th><td> 1.01</td><td>0.64</td><td> 0.04</td><td> 2.06</td><td>1.01</td><td>3361.63</td></tr>\n",
              "\t<tr><th scope=row>a_tank[4]</th><td> 3.08</td><td>1.12</td><td> 1.54</td><td> 5.06</td><td>1.00</td><td>2706.26</td></tr>\n",
              "\t<tr><th scope=row>a_tank[5]</th><td> 2.11</td><td>0.84</td><td> 0.84</td><td> 3.54</td><td>1.00</td><td>3022.82</td></tr>\n",
              "\t<tr><th scope=row>a_tank[6]</th><td> 2.14</td><td>0.86</td><td> 0.89</td><td> 3.61</td><td>1.00</td><td>3917.81</td></tr>\n",
              "\t<tr><th scope=row>a_tank[7]</th><td> 3.06</td><td>1.11</td><td> 1.50</td><td> 5.06</td><td>1.00</td><td>3358.19</td></tr>\n",
              "\t<tr><th scope=row>a_tank[8]</th><td> 2.13</td><td>0.86</td><td> 0.86</td><td> 3.63</td><td>1.01</td><td>4518.77</td></tr>\n",
              "\t<tr><th scope=row>a_tank[9]</th><td>-0.18</td><td>0.64</td><td>-1.21</td><td> 0.81</td><td>1.01</td><td>3868.13</td></tr>\n",
              "\t<tr><th scope=row>a_tank[10]</th><td> 2.15</td><td>0.89</td><td> 0.81</td><td> 3.65</td><td>1.00</td><td>3378.05</td></tr>\n",
              "\t<tr><th scope=row>a_tank[11]</th><td> 1.00</td><td>0.68</td><td>-0.02</td><td> 2.14</td><td>1.00</td><td>4563.20</td></tr>\n",
              "\t<tr><th scope=row>a_tank[12]</th><td> 0.59</td><td>0.60</td><td>-0.37</td><td> 1.58</td><td>1.00</td><td>4588.29</td></tr>\n",
              "\t<tr><th scope=row>a_tank[13]</th><td> 1.01</td><td>0.65</td><td> 0.02</td><td> 2.03</td><td>1.00</td><td>3883.20</td></tr>\n",
              "\t<tr><th scope=row>a_tank[14]</th><td> 0.20</td><td>0.61</td><td>-0.79</td><td> 1.15</td><td>1.00</td><td>3018.74</td></tr>\n",
              "\t<tr><th scope=row>a_tank[15]</th><td> 2.13</td><td>0.84</td><td> 0.89</td><td> 3.54</td><td>1.01</td><td>3500.39</td></tr>\n",
              "\t<tr><th scope=row>a_tank[16]</th><td> 2.12</td><td>0.85</td><td> 0.87</td><td> 3.61</td><td>1.00</td><td>3567.56</td></tr>\n",
              "\t<tr><th scope=row>a_tank[17]</th><td> 2.92</td><td>0.82</td><td> 1.77</td><td> 4.35</td><td>1.00</td><td>2756.26</td></tr>\n",
              "\t<tr><th scope=row>a_tank[18]</th><td> 2.40</td><td>0.67</td><td> 1.43</td><td> 3.56</td><td>1.00</td><td>3954.22</td></tr>\n",
              "\t<tr><th scope=row>a_tank[19]</th><td> 2.00</td><td>0.59</td><td> 1.11</td><td> 2.99</td><td>1.00</td><td>4730.33</td></tr>\n",
              "\t<tr><th scope=row>a_tank[20]</th><td> 3.67</td><td>1.00</td><td> 2.25</td><td> 5.37</td><td>1.00</td><td>3008.63</td></tr>\n",
              "\t<tr><th scope=row>a_tank[21]</th><td> 2.37</td><td>0.64</td><td> 1.42</td><td> 3.46</td><td>1.00</td><td>4967.38</td></tr>\n",
              "\t<tr><th scope=row>a_tank[22]</th><td> 2.41</td><td>0.63</td><td> 1.46</td><td> 3.50</td><td>1.00</td><td>3598.29</td></tr>\n",
              "\t<tr><th scope=row>a_tank[23]</th><td> 2.39</td><td>0.68</td><td> 1.40</td><td> 3.53</td><td>1.00</td><td>3459.18</td></tr>\n",
              "\t<tr><th scope=row>a_tank[24]</th><td> 1.70</td><td>0.53</td><td> 0.87</td><td> 2.59</td><td>1.00</td><td>4733.46</td></tr>\n",
              "\t<tr><th scope=row>a_tank[25]</th><td>-1.01</td><td>0.44</td><td>-1.73</td><td>-0.33</td><td>1.00</td><td>3517.43</td></tr>\n",
              "\t<tr><th scope=row>a_tank[26]</th><td> 0.18</td><td>0.39</td><td>-0.44</td><td> 0.79</td><td>1.00</td><td>3293.10</td></tr>\n",
              "\t<tr><th scope=row>a_tank[27]</th><td>-1.45</td><td>0.52</td><td>-2.29</td><td>-0.69</td><td>1.01</td><td>3324.38</td></tr>\n",
              "\t<tr><th scope=row>a_tank[28]</th><td>-0.46</td><td>0.43</td><td>-1.16</td><td> 0.19</td><td>1.00</td><td>4086.13</td></tr>\n",
              "\t<tr><th scope=row>a_tank[29]</th><td> 0.16</td><td>0.39</td><td>-0.44</td><td> 0.79</td><td>1.01</td><td>3556.99</td></tr>\n",
              "\t<tr><th scope=row>a_tank[30]</th><td> 1.45</td><td>0.48</td><td> 0.72</td><td> 2.23</td><td>1.00</td><td>4490.28</td></tr>\n",
              "\t<tr><th scope=row>a_tank[31]</th><td>-0.63</td><td>0.42</td><td>-1.31</td><td>-0.01</td><td>1.00</td><td>3526.48</td></tr>\n",
              "\t<tr><th scope=row>a_tank[32]</th><td>-0.31</td><td>0.39</td><td>-0.93</td><td> 0.31</td><td>1.00</td><td>4357.61</td></tr>\n",
              "\t<tr><th scope=row>a_tank[33]</th><td> 3.20</td><td>0.76</td><td> 2.09</td><td> 4.47</td><td>1.00</td><td>4215.85</td></tr>\n",
              "\t<tr><th scope=row>a_tank[34]</th><td> 2.72</td><td>0.66</td><td> 1.77</td><td> 3.80</td><td>1.00</td><td>3646.09</td></tr>\n",
              "\t<tr><th scope=row>a_tank[35]</th><td> 2.70</td><td>0.64</td><td> 1.76</td><td> 3.77</td><td>1.00</td><td>3999.29</td></tr>\n",
              "\t<tr><th scope=row>a_tank[36]</th><td> 2.06</td><td>0.51</td><td> 1.31</td><td> 2.88</td><td>1.01</td><td>3347.17</td></tr>\n",
              "\t<tr><th scope=row>a_tank[37]</th><td> 2.08</td><td>0.52</td><td> 1.28</td><td> 2.98</td><td>1.01</td><td>3277.79</td></tr>\n",
              "\t<tr><th scope=row>a_tank[38]</th><td> 3.89</td><td>0.95</td><td> 2.56</td><td> 5.56</td><td>1.00</td><td>3782.89</td></tr>\n",
              "\t<tr><th scope=row>a_tank[39]</th><td> 2.70</td><td>0.67</td><td> 1.70</td><td> 3.82</td><td>1.01</td><td>3954.03</td></tr>\n",
              "\t<tr><th scope=row>a_tank[40]</th><td> 2.33</td><td>0.53</td><td> 1.53</td><td> 3.21</td><td>1.01</td><td>4646.66</td></tr>\n",
              "\t<tr><th scope=row>a_tank[41]</th><td>-1.83</td><td>0.48</td><td>-2.64</td><td>-1.10</td><td>1.01</td><td>3277.82</td></tr>\n",
              "\t<tr><th scope=row>a_tank[42]</th><td>-0.57</td><td>0.35</td><td>-1.14</td><td>-0.03</td><td>1.01</td><td>3516.06</td></tr>\n",
              "\t<tr><th scope=row>a_tank[43]</th><td>-0.46</td><td>0.35</td><td>-1.01</td><td> 0.09</td><td>1.00</td><td>3819.20</td></tr>\n",
              "\t<tr><th scope=row>a_tank[44]</th><td>-0.34</td><td>0.34</td><td>-0.88</td><td> 0.19</td><td>1.00</td><td>3747.09</td></tr>\n",
              "\t<tr><th scope=row>a_tank[45]</th><td> 0.58</td><td>0.34</td><td> 0.04</td><td> 1.11</td><td>1.01</td><td>4002.72</td></tr>\n",
              "\t<tr><th scope=row>a_tank[46]</th><td>-0.57</td><td>0.35</td><td>-1.12</td><td>-0.03</td><td>1.00</td><td>4365.40</td></tr>\n",
              "\t<tr><th scope=row>a_tank[47]</th><td> 2.06</td><td>0.50</td><td> 1.27</td><td> 2.90</td><td>1.00</td><td>3843.72</td></tr>\n",
              "\t<tr><th scope=row>a_tank[48]</th><td> 0.00</td><td>0.35</td><td>-0.56</td><td> 0.57</td><td>1.00</td><td>4098.96</td></tr>\n",
              "\t<tr><th scope=row>a_bar</th><td> 1.34</td><td>0.26</td><td> 0.94</td><td> 1.75</td><td>1.00</td><td>2326.26</td></tr>\n",
              "\t<tr><th scope=row>sigma_tank</th><td> 1.62</td><td>0.21</td><td> 1.31</td><td> 1.98</td><td>1.00</td><td>1437.88</td></tr>\n",
              "</tbody>\n",
              "</table>\n"
            ],
            "text/markdown": "\nA data.frame: 50 × 6\n\n| <!--/--> | mean &lt;dbl&gt; | sd &lt;dbl&gt; | 5.5% &lt;dbl&gt; | 94.5% &lt;dbl&gt; | rhat &lt;dbl&gt; | ess_bulk &lt;dbl&gt; |\n|---|---|---|---|---|---|---|\n| a_tank[1] |  2.15 | 0.89 |  0.86 |  3.74 | 1.00 | 4046.10 |\n| a_tank[2] |  3.02 | 1.11 |  1.39 |  4.99 | 1.00 | 3993.66 |\n| a_tank[3] |  1.01 | 0.64 |  0.04 |  2.06 | 1.01 | 3361.63 |\n| a_tank[4] |  3.08 | 1.12 |  1.54 |  5.06 | 1.00 | 2706.26 |\n| a_tank[5] |  2.11 | 0.84 |  0.84 |  3.54 | 1.00 | 3022.82 |\n| a_tank[6] |  2.14 | 0.86 |  0.89 |  3.61 | 1.00 | 3917.81 |\n| a_tank[7] |  3.06 | 1.11 |  1.50 |  5.06 | 1.00 | 3358.19 |\n| a_tank[8] |  2.13 | 0.86 |  0.86 |  3.63 | 1.01 | 4518.77 |\n| a_tank[9] | -0.18 | 0.64 | -1.21 |  0.81 | 1.01 | 3868.13 |\n| a_tank[10] |  2.15 | 0.89 |  0.81 |  3.65 | 1.00 | 3378.05 |\n| a_tank[11] |  1.00 | 0.68 | -0.02 |  2.14 | 1.00 | 4563.20 |\n| a_tank[12] |  0.59 | 0.60 | -0.37 |  1.58 | 1.00 | 4588.29 |\n| a_tank[13] |  1.01 | 0.65 |  0.02 |  2.03 | 1.00 | 3883.20 |\n| a_tank[14] |  0.20 | 0.61 | -0.79 |  1.15 | 1.00 | 3018.74 |\n| a_tank[15] |  2.13 | 0.84 |  0.89 |  3.54 | 1.01 | 3500.39 |\n| a_tank[16] |  2.12 | 0.85 |  0.87 |  3.61 | 1.00 | 3567.56 |\n| a_tank[17] |  2.92 | 0.82 |  1.77 |  4.35 | 1.00 | 2756.26 |\n| a_tank[18] |  2.40 | 0.67 |  1.43 |  3.56 | 1.00 | 3954.22 |\n| a_tank[19] |  2.00 | 0.59 |  1.11 |  2.99 | 1.00 | 4730.33 |\n| a_tank[20] |  3.67 | 1.00 |  2.25 |  5.37 | 1.00 | 3008.63 |\n| a_tank[21] |  2.37 | 0.64 |  1.42 |  3.46 | 1.00 | 4967.38 |\n| a_tank[22] |  2.41 | 0.63 |  1.46 |  3.50 | 1.00 | 3598.29 |\n| a_tank[23] |  2.39 | 0.68 |  1.40 |  3.53 | 1.00 | 3459.18 |\n| a_tank[24] |  1.70 | 0.53 |  0.87 |  2.59 | 1.00 | 4733.46 |\n| a_tank[25] | -1.01 | 0.44 | -1.73 | -0.33 | 1.00 | 3517.43 |\n| a_tank[26] |  0.18 | 0.39 | -0.44 |  0.79 | 1.00 | 3293.10 |\n| a_tank[27] | -1.45 | 0.52 | -2.29 | -0.69 | 1.01 | 3324.38 |\n| a_tank[28] | -0.46 | 0.43 | -1.16 |  0.19 | 1.00 | 4086.13 |\n| a_tank[29] |  0.16 | 0.39 | -0.44 |  0.79 | 1.01 | 3556.99 |\n| a_tank[30] |  1.45 | 0.48 |  0.72 |  2.23 | 1.00 | 4490.28 |\n| a_tank[31] | -0.63 | 0.42 | -1.31 | -0.01 | 1.00 | 3526.48 |\n| a_tank[32] | -0.31 | 0.39 | -0.93 |  0.31 | 1.00 | 4357.61 |\n| a_tank[33] |  3.20 | 0.76 |  2.09 |  4.47 | 1.00 | 4215.85 |\n| a_tank[34] |  2.72 | 0.66 |  1.77 |  3.80 | 1.00 | 3646.09 |\n| a_tank[35] |  2.70 | 0.64 |  1.76 |  3.77 | 1.00 | 3999.29 |\n| a_tank[36] |  2.06 | 0.51 |  1.31 |  2.88 | 1.01 | 3347.17 |\n| a_tank[37] |  2.08 | 0.52 |  1.28 |  2.98 | 1.01 | 3277.79 |\n| a_tank[38] |  3.89 | 0.95 |  2.56 |  5.56 | 1.00 | 3782.89 |\n| a_tank[39] |  2.70 | 0.67 |  1.70 |  3.82 | 1.01 | 3954.03 |\n| a_tank[40] |  2.33 | 0.53 |  1.53 |  3.21 | 1.01 | 4646.66 |\n| a_tank[41] | -1.83 | 0.48 | -2.64 | -1.10 | 1.01 | 3277.82 |\n| a_tank[42] | -0.57 | 0.35 | -1.14 | -0.03 | 1.01 | 3516.06 |\n| a_tank[43] | -0.46 | 0.35 | -1.01 |  0.09 | 1.00 | 3819.20 |\n| a_tank[44] | -0.34 | 0.34 | -0.88 |  0.19 | 1.00 | 3747.09 |\n| a_tank[45] |  0.58 | 0.34 |  0.04 |  1.11 | 1.01 | 4002.72 |\n| a_tank[46] | -0.57 | 0.35 | -1.12 | -0.03 | 1.00 | 4365.40 |\n| a_tank[47] |  2.06 | 0.50 |  1.27 |  2.90 | 1.00 | 3843.72 |\n| a_tank[48] |  0.00 | 0.35 | -0.56 |  0.57 | 1.00 | 4098.96 |\n| a_bar |  1.34 | 0.26 |  0.94 |  1.75 | 1.00 | 2326.26 |\n| sigma_tank |  1.62 | 0.21 |  1.31 |  1.98 | 1.00 | 1437.88 |\n\n",
            "text/latex": "A data.frame: 50 × 6\n\\begin{tabular}{r|llllll}\n  & mean & sd & 5.5\\% & 94.5\\% & rhat & ess\\_bulk\\\\\n  & <dbl> & <dbl> & <dbl> & <dbl> & <dbl> & <dbl>\\\\\n\\hline\n\ta\\_tank{[}1{]} &  2.15 & 0.89 &  0.86 &  3.74 & 1.00 & 4046.10\\\\\n\ta\\_tank{[}2{]} &  3.02 & 1.11 &  1.39 &  4.99 & 1.00 & 3993.66\\\\\n\ta\\_tank{[}3{]} &  1.01 & 0.64 &  0.04 &  2.06 & 1.01 & 3361.63\\\\\n\ta\\_tank{[}4{]} &  3.08 & 1.12 &  1.54 &  5.06 & 1.00 & 2706.26\\\\\n\ta\\_tank{[}5{]} &  2.11 & 0.84 &  0.84 &  3.54 & 1.00 & 3022.82\\\\\n\ta\\_tank{[}6{]} &  2.14 & 0.86 &  0.89 &  3.61 & 1.00 & 3917.81\\\\\n\ta\\_tank{[}7{]} &  3.06 & 1.11 &  1.50 &  5.06 & 1.00 & 3358.19\\\\\n\ta\\_tank{[}8{]} &  2.13 & 0.86 &  0.86 &  3.63 & 1.01 & 4518.77\\\\\n\ta\\_tank{[}9{]} & -0.18 & 0.64 & -1.21 &  0.81 & 1.01 & 3868.13\\\\\n\ta\\_tank{[}10{]} &  2.15 & 0.89 &  0.81 &  3.65 & 1.00 & 3378.05\\\\\n\ta\\_tank{[}11{]} &  1.00 & 0.68 & -0.02 &  2.14 & 1.00 & 4563.20\\\\\n\ta\\_tank{[}12{]} &  0.59 & 0.60 & -0.37 &  1.58 & 1.00 & 4588.29\\\\\n\ta\\_tank{[}13{]} &  1.01 & 0.65 &  0.02 &  2.03 & 1.00 & 3883.20\\\\\n\ta\\_tank{[}14{]} &  0.20 & 0.61 & -0.79 &  1.15 & 1.00 & 3018.74\\\\\n\ta\\_tank{[}15{]} &  2.13 & 0.84 &  0.89 &  3.54 & 1.01 & 3500.39\\\\\n\ta\\_tank{[}16{]} &  2.12 & 0.85 &  0.87 &  3.61 & 1.00 & 3567.56\\\\\n\ta\\_tank{[}17{]} &  2.92 & 0.82 &  1.77 &  4.35 & 1.00 & 2756.26\\\\\n\ta\\_tank{[}18{]} &  2.40 & 0.67 &  1.43 &  3.56 & 1.00 & 3954.22\\\\\n\ta\\_tank{[}19{]} &  2.00 & 0.59 &  1.11 &  2.99 & 1.00 & 4730.33\\\\\n\ta\\_tank{[}20{]} &  3.67 & 1.00 &  2.25 &  5.37 & 1.00 & 3008.63\\\\\n\ta\\_tank{[}21{]} &  2.37 & 0.64 &  1.42 &  3.46 & 1.00 & 4967.38\\\\\n\ta\\_tank{[}22{]} &  2.41 & 0.63 &  1.46 &  3.50 & 1.00 & 3598.29\\\\\n\ta\\_tank{[}23{]} &  2.39 & 0.68 &  1.40 &  3.53 & 1.00 & 3459.18\\\\\n\ta\\_tank{[}24{]} &  1.70 & 0.53 &  0.87 &  2.59 & 1.00 & 4733.46\\\\\n\ta\\_tank{[}25{]} & -1.01 & 0.44 & -1.73 & -0.33 & 1.00 & 3517.43\\\\\n\ta\\_tank{[}26{]} &  0.18 & 0.39 & -0.44 &  0.79 & 1.00 & 3293.10\\\\\n\ta\\_tank{[}27{]} & -1.45 & 0.52 & -2.29 & -0.69 & 1.01 & 3324.38\\\\\n\ta\\_tank{[}28{]} & -0.46 & 0.43 & -1.16 &  0.19 & 1.00 & 4086.13\\\\\n\ta\\_tank{[}29{]} &  0.16 & 0.39 & -0.44 &  0.79 & 1.01 & 3556.99\\\\\n\ta\\_tank{[}30{]} &  1.45 & 0.48 &  0.72 &  2.23 & 1.00 & 4490.28\\\\\n\ta\\_tank{[}31{]} & -0.63 & 0.42 & -1.31 & -0.01 & 1.00 & 3526.48\\\\\n\ta\\_tank{[}32{]} & -0.31 & 0.39 & -0.93 &  0.31 & 1.00 & 4357.61\\\\\n\ta\\_tank{[}33{]} &  3.20 & 0.76 &  2.09 &  4.47 & 1.00 & 4215.85\\\\\n\ta\\_tank{[}34{]} &  2.72 & 0.66 &  1.77 &  3.80 & 1.00 & 3646.09\\\\\n\ta\\_tank{[}35{]} &  2.70 & 0.64 &  1.76 &  3.77 & 1.00 & 3999.29\\\\\n\ta\\_tank{[}36{]} &  2.06 & 0.51 &  1.31 &  2.88 & 1.01 & 3347.17\\\\\n\ta\\_tank{[}37{]} &  2.08 & 0.52 &  1.28 &  2.98 & 1.01 & 3277.79\\\\\n\ta\\_tank{[}38{]} &  3.89 & 0.95 &  2.56 &  5.56 & 1.00 & 3782.89\\\\\n\ta\\_tank{[}39{]} &  2.70 & 0.67 &  1.70 &  3.82 & 1.01 & 3954.03\\\\\n\ta\\_tank{[}40{]} &  2.33 & 0.53 &  1.53 &  3.21 & 1.01 & 4646.66\\\\\n\ta\\_tank{[}41{]} & -1.83 & 0.48 & -2.64 & -1.10 & 1.01 & 3277.82\\\\\n\ta\\_tank{[}42{]} & -0.57 & 0.35 & -1.14 & -0.03 & 1.01 & 3516.06\\\\\n\ta\\_tank{[}43{]} & -0.46 & 0.35 & -1.01 &  0.09 & 1.00 & 3819.20\\\\\n\ta\\_tank{[}44{]} & -0.34 & 0.34 & -0.88 &  0.19 & 1.00 & 3747.09\\\\\n\ta\\_tank{[}45{]} &  0.58 & 0.34 &  0.04 &  1.11 & 1.01 & 4002.72\\\\\n\ta\\_tank{[}46{]} & -0.57 & 0.35 & -1.12 & -0.03 & 1.00 & 4365.40\\\\\n\ta\\_tank{[}47{]} &  2.06 & 0.50 &  1.27 &  2.90 & 1.00 & 3843.72\\\\\n\ta\\_tank{[}48{]} &  0.00 & 0.35 & -0.56 &  0.57 & 1.00 & 4098.96\\\\\n\ta\\_bar &  1.34 & 0.26 &  0.94 &  1.75 & 1.00 & 2326.26\\\\\n\tsigma\\_tank &  1.62 & 0.21 &  1.31 &  1.98 & 1.00 & 1437.88\\\\\n\\end{tabular}\n",
            "text/plain": [
              "           mean  sd   5.5%  94.5% rhat ess_bulk\n",
              "a_tank[1]   2.15 0.89  0.86  3.74 1.00 4046.10 \n",
              "a_tank[2]   3.02 1.11  1.39  4.99 1.00 3993.66 \n",
              "a_tank[3]   1.01 0.64  0.04  2.06 1.01 3361.63 \n",
              "a_tank[4]   3.08 1.12  1.54  5.06 1.00 2706.26 \n",
              "a_tank[5]   2.11 0.84  0.84  3.54 1.00 3022.82 \n",
              "a_tank[6]   2.14 0.86  0.89  3.61 1.00 3917.81 \n",
              "a_tank[7]   3.06 1.11  1.50  5.06 1.00 3358.19 \n",
              "a_tank[8]   2.13 0.86  0.86  3.63 1.01 4518.77 \n",
              "a_tank[9]  -0.18 0.64 -1.21  0.81 1.01 3868.13 \n",
              "a_tank[10]  2.15 0.89  0.81  3.65 1.00 3378.05 \n",
              "a_tank[11]  1.00 0.68 -0.02  2.14 1.00 4563.20 \n",
              "a_tank[12]  0.59 0.60 -0.37  1.58 1.00 4588.29 \n",
              "a_tank[13]  1.01 0.65  0.02  2.03 1.00 3883.20 \n",
              "a_tank[14]  0.20 0.61 -0.79  1.15 1.00 3018.74 \n",
              "a_tank[15]  2.13 0.84  0.89  3.54 1.01 3500.39 \n",
              "a_tank[16]  2.12 0.85  0.87  3.61 1.00 3567.56 \n",
              "a_tank[17]  2.92 0.82  1.77  4.35 1.00 2756.26 \n",
              "a_tank[18]  2.40 0.67  1.43  3.56 1.00 3954.22 \n",
              "a_tank[19]  2.00 0.59  1.11  2.99 1.00 4730.33 \n",
              "a_tank[20]  3.67 1.00  2.25  5.37 1.00 3008.63 \n",
              "a_tank[21]  2.37 0.64  1.42  3.46 1.00 4967.38 \n",
              "a_tank[22]  2.41 0.63  1.46  3.50 1.00 3598.29 \n",
              "a_tank[23]  2.39 0.68  1.40  3.53 1.00 3459.18 \n",
              "a_tank[24]  1.70 0.53  0.87  2.59 1.00 4733.46 \n",
              "a_tank[25] -1.01 0.44 -1.73 -0.33 1.00 3517.43 \n",
              "a_tank[26]  0.18 0.39 -0.44  0.79 1.00 3293.10 \n",
              "a_tank[27] -1.45 0.52 -2.29 -0.69 1.01 3324.38 \n",
              "a_tank[28] -0.46 0.43 -1.16  0.19 1.00 4086.13 \n",
              "a_tank[29]  0.16 0.39 -0.44  0.79 1.01 3556.99 \n",
              "a_tank[30]  1.45 0.48  0.72  2.23 1.00 4490.28 \n",
              "a_tank[31] -0.63 0.42 -1.31 -0.01 1.00 3526.48 \n",
              "a_tank[32] -0.31 0.39 -0.93  0.31 1.00 4357.61 \n",
              "a_tank[33]  3.20 0.76  2.09  4.47 1.00 4215.85 \n",
              "a_tank[34]  2.72 0.66  1.77  3.80 1.00 3646.09 \n",
              "a_tank[35]  2.70 0.64  1.76  3.77 1.00 3999.29 \n",
              "a_tank[36]  2.06 0.51  1.31  2.88 1.01 3347.17 \n",
              "a_tank[37]  2.08 0.52  1.28  2.98 1.01 3277.79 \n",
              "a_tank[38]  3.89 0.95  2.56  5.56 1.00 3782.89 \n",
              "a_tank[39]  2.70 0.67  1.70  3.82 1.01 3954.03 \n",
              "a_tank[40]  2.33 0.53  1.53  3.21 1.01 4646.66 \n",
              "a_tank[41] -1.83 0.48 -2.64 -1.10 1.01 3277.82 \n",
              "a_tank[42] -0.57 0.35 -1.14 -0.03 1.01 3516.06 \n",
              "a_tank[43] -0.46 0.35 -1.01  0.09 1.00 3819.20 \n",
              "a_tank[44] -0.34 0.34 -0.88  0.19 1.00 3747.09 \n",
              "a_tank[45]  0.58 0.34  0.04  1.11 1.01 4002.72 \n",
              "a_tank[46] -0.57 0.35 -1.12 -0.03 1.00 4365.40 \n",
              "a_tank[47]  2.06 0.50  1.27  2.90 1.00 3843.72 \n",
              "a_tank[48]  0.00 0.35 -0.56  0.57 1.00 4098.96 \n",
              "a_bar       1.34 0.26  0.94  1.75 1.00 2326.26 \n",
              "sigma_tank  1.62 0.21  1.31  1.98 1.00 1437.88 "
            ]
          },
          "metadata": {}
        },
        {
          "output_type": "display_data",
          "data": {
            "text/html": [
              "<table class=\"dataframe\">\n",
              "<caption>A data.frame: 52 × 6</caption>\n",
              "<thead>\n",
              "\t<tr><th></th><th scope=col>mean</th><th scope=col>sd</th><th scope=col>5.5%</th><th scope=col>94.5%</th><th scope=col>rhat</th><th scope=col>ess_bulk</th></tr>\n",
              "\t<tr><th></th><th scope=col>&lt;dbl&gt;</th><th scope=col>&lt;dbl&gt;</th><th scope=col>&lt;dbl&gt;</th><th scope=col>&lt;dbl&gt;</th><th scope=col>&lt;dbl&gt;</th><th scope=col>&lt;dbl&gt;</th></tr>\n",
              "</thead>\n",
              "<tbody>\n",
              "\t<tr><th scope=row>a_tank[1]</th><td> 2.12</td><td>1.15</td><td> 0.36</td><td> 3.97</td><td>1.04</td><td>  84.61</td></tr>\n",
              "\t<tr><th scope=row>a_tank[2]</th><td> 3.05</td><td>1.31</td><td> 1.02</td><td> 5.19</td><td>1.03</td><td> 136.81</td></tr>\n",
              "\t<tr><th scope=row>a_tank[3]</th><td> 1.01</td><td>0.98</td><td>-0.49</td><td> 2.69</td><td>1.05</td><td>  77.77</td></tr>\n",
              "\t<tr><th scope=row>a_tank[4]</th><td> 3.07</td><td>1.30</td><td> 1.18</td><td> 5.21</td><td>1.03</td><td> 121.52</td></tr>\n",
              "\t<tr><th scope=row>a_tank[5]</th><td> 1.84</td><td>1.14</td><td> 0.09</td><td> 3.74</td><td>1.04</td><td> 113.99</td></tr>\n",
              "\t<tr><th scope=row>a_tank[6]</th><td> 1.84</td><td>1.13</td><td> 0.16</td><td> 3.71</td><td>1.04</td><td>  72.41</td></tr>\n",
              "\t<tr><th scope=row>a_tank[7]</th><td> 2.82</td><td>1.37</td><td> 0.77</td><td> 5.09</td><td>1.03</td><td> 153.84</td></tr>\n",
              "\t<tr><th scope=row>a_tank[8]</th><td> 1.83</td><td>1.15</td><td> 0.12</td><td> 3.72</td><td>1.04</td><td>  97.45</td></tr>\n",
              "\t<tr><th scope=row>a_tank[9]</th><td>-0.18</td><td>0.97</td><td>-1.65</td><td> 1.43</td><td>1.06</td><td>  54.11</td></tr>\n",
              "\t<tr><th scope=row>a_tank[10]</th><td> 2.13</td><td>1.10</td><td> 0.44</td><td> 3.97</td><td>1.04</td><td>  87.67</td></tr>\n",
              "\t<tr><th scope=row>a_tank[11]</th><td> 1.02</td><td>0.99</td><td>-0.50</td><td> 2.66</td><td>1.05</td><td>  67.38</td></tr>\n",
              "\t<tr><th scope=row>a_tank[12]</th><td> 0.58</td><td>0.98</td><td>-0.92</td><td> 2.17</td><td>1.05</td><td>  71.03</td></tr>\n",
              "\t<tr><th scope=row>a_tank[13]</th><td> 0.68</td><td>0.99</td><td>-0.85</td><td> 2.26</td><td>1.05</td><td>  66.96</td></tr>\n",
              "\t<tr><th scope=row>a_tank[14]</th><td>-0.15</td><td>0.94</td><td>-1.62</td><td> 1.34</td><td>1.05</td><td>  61.69</td></tr>\n",
              "\t<tr><th scope=row>a_tank[15]</th><td> 1.83</td><td>1.14</td><td> 0.09</td><td> 3.64</td><td>1.04</td><td>  97.45</td></tr>\n",
              "\t<tr><th scope=row>a_tank[16]</th><td> 1.86</td><td>1.19</td><td> 0.03</td><td> 3.84</td><td>1.04</td><td> 107.16</td></tr>\n",
              "\t<tr><th scope=row>a_tank[17]</th><td> 2.93</td><td>1.04</td><td> 1.39</td><td> 4.67</td><td>1.05</td><td>  64.52</td></tr>\n",
              "\t<tr><th scope=row>a_tank[18]</th><td> 2.39</td><td>0.97</td><td> 0.96</td><td> 4.00</td><td>1.05</td><td>  71.28</td></tr>\n",
              "\t<tr><th scope=row>a_tank[19]</th><td> 2.04</td><td>0.93</td><td> 0.64</td><td> 3.56</td><td>1.05</td><td>  70.07</td></tr>\n",
              "\t<tr><th scope=row>a_tank[20]</th><td> 3.63</td><td>1.19</td><td> 1.86</td><td> 5.60</td><td>1.04</td><td>  97.45</td></tr>\n",
              "\t<tr><th scope=row>a_tank[21]</th><td> 2.06</td><td>0.97</td><td> 0.54</td><td> 3.73</td><td>1.06</td><td>  50.80</td></tr>\n",
              "\t<tr><th scope=row>a_tank[22]</th><td> 2.05</td><td>0.99</td><td> 0.53</td><td> 3.70</td><td>1.05</td><td>  59.18</td></tr>\n",
              "\t<tr><th scope=row>a_tank[23]</th><td> 2.08</td><td>0.99</td><td> 0.59</td><td> 3.71</td><td>1.04</td><td>  79.28</td></tr>\n",
              "\t<tr><th scope=row>a_tank[24]</th><td> 1.35</td><td>0.92</td><td>-0.07</td><td> 2.85</td><td>1.06</td><td>  60.29</td></tr>\n",
              "\t<tr><th scope=row>a_tank[25]</th><td>-0.97</td><td>0.85</td><td>-2.31</td><td> 0.39</td><td>1.06</td><td>  56.49</td></tr>\n",
              "\t<tr><th scope=row>a_tank[26]</th><td> 0.18</td><td>0.84</td><td>-1.12</td><td> 1.57</td><td>1.07</td><td>  50.86</td></tr>\n",
              "\t<tr><th scope=row>a_tank[27]</th><td>-1.42</td><td>0.90</td><td>-2.83</td><td> 0.06</td><td>1.06</td><td>  54.27</td></tr>\n",
              "\t<tr><th scope=row>a_tank[28]</th><td>-0.44</td><td>0.83</td><td>-1.72</td><td> 0.93</td><td>1.06</td><td>  48.24</td></tr>\n",
              "\t<tr><th scope=row>a_tank[29]</th><td>-0.18</td><td>0.83</td><td>-1.46</td><td> 1.20</td><td>1.07</td><td>  54.08</td></tr>\n",
              "\t<tr><th scope=row>a_tank[30]</th><td> 1.10</td><td>0.89</td><td>-0.26</td><td> 2.55</td><td>1.06</td><td>  53.70</td></tr>\n",
              "\t<tr><th scope=row>a_tank[31]</th><td>-1.00</td><td>0.84</td><td>-2.29</td><td> 0.47</td><td>1.06</td><td>  62.62</td></tr>\n",
              "\t<tr><th scope=row>a_tank[32]</th><td>-0.67</td><td>0.85</td><td>-1.96</td><td> 0.74</td><td>1.07</td><td>  46.25</td></tr>\n",
              "\t<tr><th scope=row>a_tank[33]</th><td> 3.20</td><td>1.06</td><td> 1.55</td><td> 5.02</td><td>1.05</td><td>  72.88</td></tr>\n",
              "\t<tr><th scope=row>a_tank[34]</th><td> 2.73</td><td>0.97</td><td> 1.29</td><td> 4.41</td><td>1.05</td><td>  63.04</td></tr>\n",
              "\t<tr><th scope=row>a_tank[35]</th><td> 2.72</td><td>0.98</td><td> 1.22</td><td> 4.33</td><td>1.06</td><td>  57.85</td></tr>\n",
              "\t<tr><th scope=row>a_tank[36]</th><td> 2.08</td><td>0.89</td><td> 0.67</td><td> 3.55</td><td>1.07</td><td>  49.21</td></tr>\n",
              "\t<tr><th scope=row>a_tank[37]</th><td> 1.72</td><td>0.90</td><td> 0.36</td><td> 3.23</td><td>1.07</td><td>  46.40</td></tr>\n",
              "\t<tr><th scope=row>a_tank[38]</th><td> 3.60</td><td>1.22</td><td> 1.76</td><td> 5.70</td><td>1.03</td><td> 141.66</td></tr>\n",
              "\t<tr><th scope=row>a_tank[39]</th><td> 2.40</td><td>0.98</td><td> 0.92</td><td> 4.05</td><td>1.05</td><td>  86.26</td></tr>\n",
              "\t<tr><th scope=row>a_tank[40]</th><td> 2.01</td><td>0.92</td><td> 0.57</td><td> 3.59</td><td>1.06</td><td>  54.21</td></tr>\n",
              "\t<tr><th scope=row>a_tank[41]</th><td>-1.79</td><td>0.87</td><td>-3.15</td><td>-0.42</td><td>1.06</td><td>  63.66</td></tr>\n",
              "\t<tr><th scope=row>a_tank[42]</th><td>-0.55</td><td>0.83</td><td>-1.85</td><td> 0.83</td><td>1.07</td><td>  45.05</td></tr>\n",
              "\t<tr><th scope=row>a_tank[43]</th><td>-0.42</td><td>0.83</td><td>-1.69</td><td> 0.93</td><td>1.07</td><td>  44.88</td></tr>\n",
              "\t<tr><th scope=row>a_tank[44]</th><td>-0.31</td><td>0.82</td><td>-1.57</td><td> 1.06</td><td>1.08</td><td>  41.05</td></tr>\n",
              "\t<tr><th scope=row>a_tank[45]</th><td> 0.23</td><td>0.81</td><td>-1.07</td><td> 1.60</td><td>1.06</td><td>  57.64</td></tr>\n",
              "\t<tr><th scope=row>a_tank[46]</th><td>-0.93</td><td>0.81</td><td>-2.15</td><td> 0.40</td><td>1.07</td><td>  42.97</td></tr>\n",
              "\t<tr><th scope=row>a_tank[47]</th><td> 1.72</td><td>0.89</td><td> 0.33</td><td> 3.14</td><td>1.05</td><td>  65.80</td></tr>\n",
              "\t<tr><th scope=row>a_tank[48]</th><td>-0.36</td><td>0.81</td><td>-1.61</td><td> 0.98</td><td>1.08</td><td>  42.85</td></tr>\n",
              "\t<tr><th scope=row>a_bar_tank</th><td> 1.19</td><td>0.73</td><td> 0.08</td><td> 2.40</td><td>1.09</td><td>  35.70</td></tr>\n",
              "\t<tr><th scope=row>sigma_tank</th><td> 1.63</td><td>0.21</td><td> 1.32</td><td> 1.98</td><td>1.00</td><td>1139.41</td></tr>\n",
              "\t<tr><th scope=row>a_size[1]</th><td> 0.37</td><td>0.74</td><td>-0.92</td><td> 1.49</td><td>1.09</td><td>  34.61</td></tr>\n",
              "\t<tr><th scope=row>a_size[2]</th><td>-0.03</td><td>0.75</td><td>-1.29</td><td> 1.09</td><td>1.09</td><td>  34.71</td></tr>\n",
              "</tbody>\n",
              "</table>\n"
            ],
            "text/markdown": "\nA data.frame: 52 × 6\n\n| <!--/--> | mean &lt;dbl&gt; | sd &lt;dbl&gt; | 5.5% &lt;dbl&gt; | 94.5% &lt;dbl&gt; | rhat &lt;dbl&gt; | ess_bulk &lt;dbl&gt; |\n|---|---|---|---|---|---|---|\n| a_tank[1] |  2.12 | 1.15 |  0.36 |  3.97 | 1.04 |   84.61 |\n| a_tank[2] |  3.05 | 1.31 |  1.02 |  5.19 | 1.03 |  136.81 |\n| a_tank[3] |  1.01 | 0.98 | -0.49 |  2.69 | 1.05 |   77.77 |\n| a_tank[4] |  3.07 | 1.30 |  1.18 |  5.21 | 1.03 |  121.52 |\n| a_tank[5] |  1.84 | 1.14 |  0.09 |  3.74 | 1.04 |  113.99 |\n| a_tank[6] |  1.84 | 1.13 |  0.16 |  3.71 | 1.04 |   72.41 |\n| a_tank[7] |  2.82 | 1.37 |  0.77 |  5.09 | 1.03 |  153.84 |\n| a_tank[8] |  1.83 | 1.15 |  0.12 |  3.72 | 1.04 |   97.45 |\n| a_tank[9] | -0.18 | 0.97 | -1.65 |  1.43 | 1.06 |   54.11 |\n| a_tank[10] |  2.13 | 1.10 |  0.44 |  3.97 | 1.04 |   87.67 |\n| a_tank[11] |  1.02 | 0.99 | -0.50 |  2.66 | 1.05 |   67.38 |\n| a_tank[12] |  0.58 | 0.98 | -0.92 |  2.17 | 1.05 |   71.03 |\n| a_tank[13] |  0.68 | 0.99 | -0.85 |  2.26 | 1.05 |   66.96 |\n| a_tank[14] | -0.15 | 0.94 | -1.62 |  1.34 | 1.05 |   61.69 |\n| a_tank[15] |  1.83 | 1.14 |  0.09 |  3.64 | 1.04 |   97.45 |\n| a_tank[16] |  1.86 | 1.19 |  0.03 |  3.84 | 1.04 |  107.16 |\n| a_tank[17] |  2.93 | 1.04 |  1.39 |  4.67 | 1.05 |   64.52 |\n| a_tank[18] |  2.39 | 0.97 |  0.96 |  4.00 | 1.05 |   71.28 |\n| a_tank[19] |  2.04 | 0.93 |  0.64 |  3.56 | 1.05 |   70.07 |\n| a_tank[20] |  3.63 | 1.19 |  1.86 |  5.60 | 1.04 |   97.45 |\n| a_tank[21] |  2.06 | 0.97 |  0.54 |  3.73 | 1.06 |   50.80 |\n| a_tank[22] |  2.05 | 0.99 |  0.53 |  3.70 | 1.05 |   59.18 |\n| a_tank[23] |  2.08 | 0.99 |  0.59 |  3.71 | 1.04 |   79.28 |\n| a_tank[24] |  1.35 | 0.92 | -0.07 |  2.85 | 1.06 |   60.29 |\n| a_tank[25] | -0.97 | 0.85 | -2.31 |  0.39 | 1.06 |   56.49 |\n| a_tank[26] |  0.18 | 0.84 | -1.12 |  1.57 | 1.07 |   50.86 |\n| a_tank[27] | -1.42 | 0.90 | -2.83 |  0.06 | 1.06 |   54.27 |\n| a_tank[28] | -0.44 | 0.83 | -1.72 |  0.93 | 1.06 |   48.24 |\n| a_tank[29] | -0.18 | 0.83 | -1.46 |  1.20 | 1.07 |   54.08 |\n| a_tank[30] |  1.10 | 0.89 | -0.26 |  2.55 | 1.06 |   53.70 |\n| a_tank[31] | -1.00 | 0.84 | -2.29 |  0.47 | 1.06 |   62.62 |\n| a_tank[32] | -0.67 | 0.85 | -1.96 |  0.74 | 1.07 |   46.25 |\n| a_tank[33] |  3.20 | 1.06 |  1.55 |  5.02 | 1.05 |   72.88 |\n| a_tank[34] |  2.73 | 0.97 |  1.29 |  4.41 | 1.05 |   63.04 |\n| a_tank[35] |  2.72 | 0.98 |  1.22 |  4.33 | 1.06 |   57.85 |\n| a_tank[36] |  2.08 | 0.89 |  0.67 |  3.55 | 1.07 |   49.21 |\n| a_tank[37] |  1.72 | 0.90 |  0.36 |  3.23 | 1.07 |   46.40 |\n| a_tank[38] |  3.60 | 1.22 |  1.76 |  5.70 | 1.03 |  141.66 |\n| a_tank[39] |  2.40 | 0.98 |  0.92 |  4.05 | 1.05 |   86.26 |\n| a_tank[40] |  2.01 | 0.92 |  0.57 |  3.59 | 1.06 |   54.21 |\n| a_tank[41] | -1.79 | 0.87 | -3.15 | -0.42 | 1.06 |   63.66 |\n| a_tank[42] | -0.55 | 0.83 | -1.85 |  0.83 | 1.07 |   45.05 |\n| a_tank[43] | -0.42 | 0.83 | -1.69 |  0.93 | 1.07 |   44.88 |\n| a_tank[44] | -0.31 | 0.82 | -1.57 |  1.06 | 1.08 |   41.05 |\n| a_tank[45] |  0.23 | 0.81 | -1.07 |  1.60 | 1.06 |   57.64 |\n| a_tank[46] | -0.93 | 0.81 | -2.15 |  0.40 | 1.07 |   42.97 |\n| a_tank[47] |  1.72 | 0.89 |  0.33 |  3.14 | 1.05 |   65.80 |\n| a_tank[48] | -0.36 | 0.81 | -1.61 |  0.98 | 1.08 |   42.85 |\n| a_bar_tank |  1.19 | 0.73 |  0.08 |  2.40 | 1.09 |   35.70 |\n| sigma_tank |  1.63 | 0.21 |  1.32 |  1.98 | 1.00 | 1139.41 |\n| a_size[1] |  0.37 | 0.74 | -0.92 |  1.49 | 1.09 |   34.61 |\n| a_size[2] | -0.03 | 0.75 | -1.29 |  1.09 | 1.09 |   34.71 |\n\n",
            "text/latex": "A data.frame: 52 × 6\n\\begin{tabular}{r|llllll}\n  & mean & sd & 5.5\\% & 94.5\\% & rhat & ess\\_bulk\\\\\n  & <dbl> & <dbl> & <dbl> & <dbl> & <dbl> & <dbl>\\\\\n\\hline\n\ta\\_tank{[}1{]} &  2.12 & 1.15 &  0.36 &  3.97 & 1.04 &   84.61\\\\\n\ta\\_tank{[}2{]} &  3.05 & 1.31 &  1.02 &  5.19 & 1.03 &  136.81\\\\\n\ta\\_tank{[}3{]} &  1.01 & 0.98 & -0.49 &  2.69 & 1.05 &   77.77\\\\\n\ta\\_tank{[}4{]} &  3.07 & 1.30 &  1.18 &  5.21 & 1.03 &  121.52\\\\\n\ta\\_tank{[}5{]} &  1.84 & 1.14 &  0.09 &  3.74 & 1.04 &  113.99\\\\\n\ta\\_tank{[}6{]} &  1.84 & 1.13 &  0.16 &  3.71 & 1.04 &   72.41\\\\\n\ta\\_tank{[}7{]} &  2.82 & 1.37 &  0.77 &  5.09 & 1.03 &  153.84\\\\\n\ta\\_tank{[}8{]} &  1.83 & 1.15 &  0.12 &  3.72 & 1.04 &   97.45\\\\\n\ta\\_tank{[}9{]} & -0.18 & 0.97 & -1.65 &  1.43 & 1.06 &   54.11\\\\\n\ta\\_tank{[}10{]} &  2.13 & 1.10 &  0.44 &  3.97 & 1.04 &   87.67\\\\\n\ta\\_tank{[}11{]} &  1.02 & 0.99 & -0.50 &  2.66 & 1.05 &   67.38\\\\\n\ta\\_tank{[}12{]} &  0.58 & 0.98 & -0.92 &  2.17 & 1.05 &   71.03\\\\\n\ta\\_tank{[}13{]} &  0.68 & 0.99 & -0.85 &  2.26 & 1.05 &   66.96\\\\\n\ta\\_tank{[}14{]} & -0.15 & 0.94 & -1.62 &  1.34 & 1.05 &   61.69\\\\\n\ta\\_tank{[}15{]} &  1.83 & 1.14 &  0.09 &  3.64 & 1.04 &   97.45\\\\\n\ta\\_tank{[}16{]} &  1.86 & 1.19 &  0.03 &  3.84 & 1.04 &  107.16\\\\\n\ta\\_tank{[}17{]} &  2.93 & 1.04 &  1.39 &  4.67 & 1.05 &   64.52\\\\\n\ta\\_tank{[}18{]} &  2.39 & 0.97 &  0.96 &  4.00 & 1.05 &   71.28\\\\\n\ta\\_tank{[}19{]} &  2.04 & 0.93 &  0.64 &  3.56 & 1.05 &   70.07\\\\\n\ta\\_tank{[}20{]} &  3.63 & 1.19 &  1.86 &  5.60 & 1.04 &   97.45\\\\\n\ta\\_tank{[}21{]} &  2.06 & 0.97 &  0.54 &  3.73 & 1.06 &   50.80\\\\\n\ta\\_tank{[}22{]} &  2.05 & 0.99 &  0.53 &  3.70 & 1.05 &   59.18\\\\\n\ta\\_tank{[}23{]} &  2.08 & 0.99 &  0.59 &  3.71 & 1.04 &   79.28\\\\\n\ta\\_tank{[}24{]} &  1.35 & 0.92 & -0.07 &  2.85 & 1.06 &   60.29\\\\\n\ta\\_tank{[}25{]} & -0.97 & 0.85 & -2.31 &  0.39 & 1.06 &   56.49\\\\\n\ta\\_tank{[}26{]} &  0.18 & 0.84 & -1.12 &  1.57 & 1.07 &   50.86\\\\\n\ta\\_tank{[}27{]} & -1.42 & 0.90 & -2.83 &  0.06 & 1.06 &   54.27\\\\\n\ta\\_tank{[}28{]} & -0.44 & 0.83 & -1.72 &  0.93 & 1.06 &   48.24\\\\\n\ta\\_tank{[}29{]} & -0.18 & 0.83 & -1.46 &  1.20 & 1.07 &   54.08\\\\\n\ta\\_tank{[}30{]} &  1.10 & 0.89 & -0.26 &  2.55 & 1.06 &   53.70\\\\\n\ta\\_tank{[}31{]} & -1.00 & 0.84 & -2.29 &  0.47 & 1.06 &   62.62\\\\\n\ta\\_tank{[}32{]} & -0.67 & 0.85 & -1.96 &  0.74 & 1.07 &   46.25\\\\\n\ta\\_tank{[}33{]} &  3.20 & 1.06 &  1.55 &  5.02 & 1.05 &   72.88\\\\\n\ta\\_tank{[}34{]} &  2.73 & 0.97 &  1.29 &  4.41 & 1.05 &   63.04\\\\\n\ta\\_tank{[}35{]} &  2.72 & 0.98 &  1.22 &  4.33 & 1.06 &   57.85\\\\\n\ta\\_tank{[}36{]} &  2.08 & 0.89 &  0.67 &  3.55 & 1.07 &   49.21\\\\\n\ta\\_tank{[}37{]} &  1.72 & 0.90 &  0.36 &  3.23 & 1.07 &   46.40\\\\\n\ta\\_tank{[}38{]} &  3.60 & 1.22 &  1.76 &  5.70 & 1.03 &  141.66\\\\\n\ta\\_tank{[}39{]} &  2.40 & 0.98 &  0.92 &  4.05 & 1.05 &   86.26\\\\\n\ta\\_tank{[}40{]} &  2.01 & 0.92 &  0.57 &  3.59 & 1.06 &   54.21\\\\\n\ta\\_tank{[}41{]} & -1.79 & 0.87 & -3.15 & -0.42 & 1.06 &   63.66\\\\\n\ta\\_tank{[}42{]} & -0.55 & 0.83 & -1.85 &  0.83 & 1.07 &   45.05\\\\\n\ta\\_tank{[}43{]} & -0.42 & 0.83 & -1.69 &  0.93 & 1.07 &   44.88\\\\\n\ta\\_tank{[}44{]} & -0.31 & 0.82 & -1.57 &  1.06 & 1.08 &   41.05\\\\\n\ta\\_tank{[}45{]} &  0.23 & 0.81 & -1.07 &  1.60 & 1.06 &   57.64\\\\\n\ta\\_tank{[}46{]} & -0.93 & 0.81 & -2.15 &  0.40 & 1.07 &   42.97\\\\\n\ta\\_tank{[}47{]} &  1.72 & 0.89 &  0.33 &  3.14 & 1.05 &   65.80\\\\\n\ta\\_tank{[}48{]} & -0.36 & 0.81 & -1.61 &  0.98 & 1.08 &   42.85\\\\\n\ta\\_bar\\_tank &  1.19 & 0.73 &  0.08 &  2.40 & 1.09 &   35.70\\\\\n\tsigma\\_tank &  1.63 & 0.21 &  1.32 &  1.98 & 1.00 & 1139.41\\\\\n\ta\\_size{[}1{]} &  0.37 & 0.74 & -0.92 &  1.49 & 1.09 &   34.61\\\\\n\ta\\_size{[}2{]} & -0.03 & 0.75 & -1.29 &  1.09 & 1.09 &   34.71\\\\\n\\end{tabular}\n",
            "text/plain": [
              "           mean  sd   5.5%  94.5% rhat ess_bulk\n",
              "a_tank[1]   2.12 1.15  0.36  3.97 1.04   84.61 \n",
              "a_tank[2]   3.05 1.31  1.02  5.19 1.03  136.81 \n",
              "a_tank[3]   1.01 0.98 -0.49  2.69 1.05   77.77 \n",
              "a_tank[4]   3.07 1.30  1.18  5.21 1.03  121.52 \n",
              "a_tank[5]   1.84 1.14  0.09  3.74 1.04  113.99 \n",
              "a_tank[6]   1.84 1.13  0.16  3.71 1.04   72.41 \n",
              "a_tank[7]   2.82 1.37  0.77  5.09 1.03  153.84 \n",
              "a_tank[8]   1.83 1.15  0.12  3.72 1.04   97.45 \n",
              "a_tank[9]  -0.18 0.97 -1.65  1.43 1.06   54.11 \n",
              "a_tank[10]  2.13 1.10  0.44  3.97 1.04   87.67 \n",
              "a_tank[11]  1.02 0.99 -0.50  2.66 1.05   67.38 \n",
              "a_tank[12]  0.58 0.98 -0.92  2.17 1.05   71.03 \n",
              "a_tank[13]  0.68 0.99 -0.85  2.26 1.05   66.96 \n",
              "a_tank[14] -0.15 0.94 -1.62  1.34 1.05   61.69 \n",
              "a_tank[15]  1.83 1.14  0.09  3.64 1.04   97.45 \n",
              "a_tank[16]  1.86 1.19  0.03  3.84 1.04  107.16 \n",
              "a_tank[17]  2.93 1.04  1.39  4.67 1.05   64.52 \n",
              "a_tank[18]  2.39 0.97  0.96  4.00 1.05   71.28 \n",
              "a_tank[19]  2.04 0.93  0.64  3.56 1.05   70.07 \n",
              "a_tank[20]  3.63 1.19  1.86  5.60 1.04   97.45 \n",
              "a_tank[21]  2.06 0.97  0.54  3.73 1.06   50.80 \n",
              "a_tank[22]  2.05 0.99  0.53  3.70 1.05   59.18 \n",
              "a_tank[23]  2.08 0.99  0.59  3.71 1.04   79.28 \n",
              "a_tank[24]  1.35 0.92 -0.07  2.85 1.06   60.29 \n",
              "a_tank[25] -0.97 0.85 -2.31  0.39 1.06   56.49 \n",
              "a_tank[26]  0.18 0.84 -1.12  1.57 1.07   50.86 \n",
              "a_tank[27] -1.42 0.90 -2.83  0.06 1.06   54.27 \n",
              "a_tank[28] -0.44 0.83 -1.72  0.93 1.06   48.24 \n",
              "a_tank[29] -0.18 0.83 -1.46  1.20 1.07   54.08 \n",
              "a_tank[30]  1.10 0.89 -0.26  2.55 1.06   53.70 \n",
              "a_tank[31] -1.00 0.84 -2.29  0.47 1.06   62.62 \n",
              "a_tank[32] -0.67 0.85 -1.96  0.74 1.07   46.25 \n",
              "a_tank[33]  3.20 1.06  1.55  5.02 1.05   72.88 \n",
              "a_tank[34]  2.73 0.97  1.29  4.41 1.05   63.04 \n",
              "a_tank[35]  2.72 0.98  1.22  4.33 1.06   57.85 \n",
              "a_tank[36]  2.08 0.89  0.67  3.55 1.07   49.21 \n",
              "a_tank[37]  1.72 0.90  0.36  3.23 1.07   46.40 \n",
              "a_tank[38]  3.60 1.22  1.76  5.70 1.03  141.66 \n",
              "a_tank[39]  2.40 0.98  0.92  4.05 1.05   86.26 \n",
              "a_tank[40]  2.01 0.92  0.57  3.59 1.06   54.21 \n",
              "a_tank[41] -1.79 0.87 -3.15 -0.42 1.06   63.66 \n",
              "a_tank[42] -0.55 0.83 -1.85  0.83 1.07   45.05 \n",
              "a_tank[43] -0.42 0.83 -1.69  0.93 1.07   44.88 \n",
              "a_tank[44] -0.31 0.82 -1.57  1.06 1.08   41.05 \n",
              "a_tank[45]  0.23 0.81 -1.07  1.60 1.06   57.64 \n",
              "a_tank[46] -0.93 0.81 -2.15  0.40 1.07   42.97 \n",
              "a_tank[47]  1.72 0.89  0.33  3.14 1.05   65.80 \n",
              "a_tank[48] -0.36 0.81 -1.61  0.98 1.08   42.85 \n",
              "a_bar_tank  1.19 0.73  0.08  2.40 1.09   35.70 \n",
              "sigma_tank  1.63 0.21  1.32  1.98 1.00 1139.41 \n",
              "a_size[1]   0.37 0.74 -0.92  1.49 1.09   34.61 \n",
              "a_size[2]  -0.03 0.75 -1.29  1.09 1.09   34.71 "
            ]
          },
          "metadata": {}
        }
      ]
    },
    {
      "cell_type": "markdown",
      "source": [
        "There's quite a bit of scrolling, but the important parameters, I think, are the `b_pred`'s and `a_size`'s.  In general, the `b_pred`'s are reliably negative while `a_size`'s are very ambiguous (heavily straddling 0). This seems congruent with the observations from the WAIC comparison; `pred` is doing some explanatory work while `size` is not."
      ],
      "metadata": {
        "id": "r9xcgDMz1vLY"
      }
    },
    {
      "cell_type": "markdown",
      "source": [
        "### 13M3\n",
        "\n",
        "Re-estimate the basic Reed frog varying intercept model, but now using a Cauchy distribution in place of the Gaussian distribution for the varying intercepts. That is, fit this model:\n",
        "\n",
        "$$\n",
        "\\begin{aligned}\n",
        "s_i &\\sim \\text{Binomial}(n_i, p_i) \\\\\n",
        "\\text{logit}(p_i) &= \\alpha_{\\text{tank}[i]} \\\\\n",
        "\\alpha_{\\text{tank}} &\\sim \\text{Cauchy}(\\alpha, \\sigma) \\\\\n",
        "\\alpha &\\sim \\text{Normal}(0,1) \\\\\n",
        "\\sigma &\\sim \\text{Exponential}(1)\n",
        "\\end{aligned}\n",
        "$$\n",
        "\n",
        "(You are likely to see many divergent transitions for this model. Can you figure out why? Can you  fix them?) Compare the posterior means of the intercepts, αtank, to the posterior means produced  in the chapter, using the customary Gaussian prior. Can you explain the pattern of differences? Take  note of any change in the mean α as well."
      ],
      "metadata": {
        "id": "xRTD_nzT-8fK"
      }
    }
  ]
}
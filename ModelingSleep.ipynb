{
  "nbformat": 4,
  "nbformat_minor": 0,
  "metadata": {
    "colab": {
      "provenance": [],
      "toc_visible": true,
      "authorship_tag": "ABX9TyOszJuOpwA0QNq7buG4kJ2q",
      "include_colab_link": true
    },
    "kernelspec": {
      "name": "ir",
      "display_name": "R"
    },
    "language_info": {
      "name": "R"
    }
  },
  "cells": [
    {
      "cell_type": "markdown",
      "metadata": {
        "id": "view-in-github",
        "colab_type": "text"
      },
      "source": [
        "<a href=\"https://colab.research.google.com/github/nicklausmillican/StatisticalRethinkingIISolutions/blob/main/ModelingSleep.ipynb\" target=\"_parent\"><img src=\"https://colab.research.google.com/assets/colab-badge.svg\" alt=\"Open In Colab\"/></a>"
      ]
    },
    {
      "cell_type": "code",
      "source": [
        "# Checking versions of g++ and make\n",
        "system(\"g++ --version\", intern = TRUE)\n",
        "system(\"make --version\", intern = TRUE)\n",
        "\n",
        "# Install g++ and make if needed\n",
        "system(\"sudo apt install g++\", intern = TRUE)\n",
        "system(\"sudo apt install make\", intern = TRUE)\n"
      ],
      "metadata": {
        "colab": {
          "base_uri": "https://localhost:8080/",
          "height": 225
        },
        "id": "6nmEQndWT8cK",
        "outputId": "31722904-dd99-401b-893a-e0684c240667"
      },
      "execution_count": 1,
      "outputs": [
        {
          "output_type": "display_data",
          "data": {
            "text/html": [
              "<style>\n",
              ".list-inline {list-style: none; margin:0; padding: 0}\n",
              ".list-inline>li {display: inline-block}\n",
              ".list-inline>li:not(:last-child)::after {content: \"\\00b7\"; padding: 0 .5ex}\n",
              "</style>\n",
              "<ol class=list-inline><li>'g++ (Ubuntu 11.4.0-1ubuntu1~22.04) 11.4.0'</li><li>'Copyright (C) 2021 Free Software Foundation, Inc.'</li><li><span style=white-space:pre-wrap>'This is free software; see the source for copying conditions.  There is NO'</span></li><li>'warranty; not even for MERCHANTABILITY or FITNESS FOR A PARTICULAR PURPOSE.'</li><li>''</li></ol>\n"
            ],
            "text/markdown": "1. 'g++ (Ubuntu 11.4.0-1ubuntu1~22.04) 11.4.0'\n2. 'Copyright (C) 2021 Free Software Foundation, Inc.'\n3. <span style=white-space:pre-wrap>'This is free software; see the source for copying conditions.  There is NO'</span>\n4. 'warranty; not even for MERCHANTABILITY or FITNESS FOR A PARTICULAR PURPOSE.'\n5. ''\n\n\n",
            "text/latex": "\\begin{enumerate*}\n\\item 'g++ (Ubuntu 11.4.0-1ubuntu1\\textasciitilde{}22.04) 11.4.0'\n\\item 'Copyright (C) 2021 Free Software Foundation, Inc.'\n\\item 'This is free software; see the source for copying conditions.  There is NO'\n\\item 'warranty; not even for MERCHANTABILITY or FITNESS FOR A PARTICULAR PURPOSE.'\n\\item ''\n\\end{enumerate*}\n",
            "text/plain": [
              "[1] \"g++ (Ubuntu 11.4.0-1ubuntu1~22.04) 11.4.0\"                                  \n",
              "[2] \"Copyright (C) 2021 Free Software Foundation, Inc.\"                          \n",
              "[3] \"This is free software; see the source for copying conditions.  There is NO\" \n",
              "[4] \"warranty; not even for MERCHANTABILITY or FITNESS FOR A PARTICULAR PURPOSE.\"\n",
              "[5] \"\"                                                                           "
            ]
          },
          "metadata": {}
        },
        {
          "output_type": "display_data",
          "data": {
            "text/html": [
              "<style>\n",
              ".list-inline {list-style: none; margin:0; padding: 0}\n",
              ".list-inline>li {display: inline-block}\n",
              ".list-inline>li:not(:last-child)::after {content: \"\\00b7\"; padding: 0 .5ex}\n",
              "</style>\n",
              "<ol class=list-inline><li>'GNU Make 4.3'</li><li>'Built for x86_64-pc-linux-gnu'</li><li>'Copyright (C) 1988-2020 Free Software Foundation, Inc.'</li><li>'License GPLv3+: GNU GPL version 3 or later &lt;http://gnu.org/licenses/gpl.html&gt;'</li><li>'This is free software: you are free to change and redistribute it.'</li><li>'There is NO WARRANTY, to the extent permitted by law.'</li></ol>\n"
            ],
            "text/markdown": "1. 'GNU Make 4.3'\n2. 'Built for x86_64-pc-linux-gnu'\n3. 'Copyright (C) 1988-2020 Free Software Foundation, Inc.'\n4. 'License GPLv3+: GNU GPL version 3 or later &lt;http://gnu.org/licenses/gpl.html&gt;'\n5. 'This is free software: you are free to change and redistribute it.'\n6. 'There is NO WARRANTY, to the extent permitted by law.'\n\n\n",
            "text/latex": "\\begin{enumerate*}\n\\item 'GNU Make 4.3'\n\\item 'Built for x86\\_64-pc-linux-gnu'\n\\item 'Copyright (C) 1988-2020 Free Software Foundation, Inc.'\n\\item 'License GPLv3+: GNU GPL version 3 or later <http://gnu.org/licenses/gpl.html>'\n\\item 'This is free software: you are free to change and redistribute it.'\n\\item 'There is NO WARRANTY, to the extent permitted by law.'\n\\end{enumerate*}\n",
            "text/plain": [
              "[1] \"GNU Make 4.3\"                                                                 \n",
              "[2] \"Built for x86_64-pc-linux-gnu\"                                                \n",
              "[3] \"Copyright (C) 1988-2020 Free Software Foundation, Inc.\"                       \n",
              "[4] \"License GPLv3+: GNU GPL version 3 or later <http://gnu.org/licenses/gpl.html>\"\n",
              "[5] \"This is free software: you are free to change and redistribute it.\"           \n",
              "[6] \"There is NO WARRANTY, to the extent permitted by law.\"                        "
            ]
          },
          "metadata": {}
        },
        {
          "output_type": "display_data",
          "data": {
            "text/html": [
              "<style>\n",
              ".list-inline {list-style: none; margin:0; padding: 0}\n",
              ".list-inline>li {display: inline-block}\n",
              ".list-inline>li:not(:last-child)::after {content: \"\\00b7\"; padding: 0 .5ex}\n",
              "</style>\n",
              "<ol class=list-inline><li>'Reading package lists...'</li><li>'Building dependency tree...'</li><li>'Reading state information...'</li><li>'g++ is already the newest version (4:11.2.0-1ubuntu1).'</li><li>'g++ set to manually installed.'</li><li>'0 upgraded, 0 newly installed, 0 to remove and 20 not upgraded.'</li></ol>\n"
            ],
            "text/markdown": "1. 'Reading package lists...'\n2. 'Building dependency tree...'\n3. 'Reading state information...'\n4. 'g++ is already the newest version (4:11.2.0-1ubuntu1).'\n5. 'g++ set to manually installed.'\n6. '0 upgraded, 0 newly installed, 0 to remove and 20 not upgraded.'\n\n\n",
            "text/latex": "\\begin{enumerate*}\n\\item 'Reading package lists...'\n\\item 'Building dependency tree...'\n\\item 'Reading state information...'\n\\item 'g++ is already the newest version (4:11.2.0-1ubuntu1).'\n\\item 'g++ set to manually installed.'\n\\item '0 upgraded, 0 newly installed, 0 to remove and 20 not upgraded.'\n\\end{enumerate*}\n",
            "text/plain": [
              "[1] \"Reading package lists...\"                                       \n",
              "[2] \"Building dependency tree...\"                                    \n",
              "[3] \"Reading state information...\"                                   \n",
              "[4] \"g++ is already the newest version (4:11.2.0-1ubuntu1).\"         \n",
              "[5] \"g++ set to manually installed.\"                                 \n",
              "[6] \"0 upgraded, 0 newly installed, 0 to remove and 20 not upgraded.\""
            ]
          },
          "metadata": {}
        },
        {
          "output_type": "display_data",
          "data": {
            "text/html": [
              "<style>\n",
              ".list-inline {list-style: none; margin:0; padding: 0}\n",
              ".list-inline>li {display: inline-block}\n",
              ".list-inline>li:not(:last-child)::after {content: \"\\00b7\"; padding: 0 .5ex}\n",
              "</style>\n",
              "<ol class=list-inline><li>'Reading package lists...'</li><li>'Building dependency tree...'</li><li>'Reading state information...'</li><li>'make is already the newest version (4.3-4.1build1).'</li><li>'make set to manually installed.'</li><li>'0 upgraded, 0 newly installed, 0 to remove and 20 not upgraded.'</li></ol>\n"
            ],
            "text/markdown": "1. 'Reading package lists...'\n2. 'Building dependency tree...'\n3. 'Reading state information...'\n4. 'make is already the newest version (4.3-4.1build1).'\n5. 'make set to manually installed.'\n6. '0 upgraded, 0 newly installed, 0 to remove and 20 not upgraded.'\n\n\n",
            "text/latex": "\\begin{enumerate*}\n\\item 'Reading package lists...'\n\\item 'Building dependency tree...'\n\\item 'Reading state information...'\n\\item 'make is already the newest version (4.3-4.1build1).'\n\\item 'make set to manually installed.'\n\\item '0 upgraded, 0 newly installed, 0 to remove and 20 not upgraded.'\n\\end{enumerate*}\n",
            "text/plain": [
              "[1] \"Reading package lists...\"                                       \n",
              "[2] \"Building dependency tree...\"                                    \n",
              "[3] \"Reading state information...\"                                   \n",
              "[4] \"make is already the newest version (4.3-4.1build1).\"            \n",
              "[5] \"make set to manually installed.\"                                \n",
              "[6] \"0 upgraded, 0 newly installed, 0 to remove and 20 not upgraded.\""
            ]
          },
          "metadata": {}
        }
      ]
    },
    {
      "cell_type": "code",
      "source": [
        "# Install cmdstanr from GitHub\n",
        "if (!require(cmdstanr)) {\n",
        "  devtools::install_github(\"stan-dev/cmdstanr\")\n",
        "}\n",
        "\n",
        "# Set up CmdStan if it's not already set up\n",
        "library(cmdstanr)\n",
        "if (!cmdstanr::cmdstan_version()) {\n",
        "  cmdstanr::install_cmdstan()\n",
        "}\n",
        "\n",
        "# Verify installation\n",
        "cmdstanr::check_cmdstan_toolchain()\n"
      ],
      "metadata": {
        "colab": {
          "base_uri": "https://localhost:8080/",
          "height": 1000
        },
        "id": "xy8UnK1uUOmt",
        "outputId": "16e9c734-4007-454a-e653-c7e1b29e8056"
      },
      "execution_count": 2,
      "outputs": [
        {
          "output_type": "stream",
          "name": "stderr",
          "text": [
            "Loading required package: cmdstanr\n",
            "\n",
            "Warning message in library(package, lib.loc = lib.loc, character.only = TRUE, logical.return = TRUE, :\n",
            "“there is no package called ‘cmdstanr’”\n",
            "Downloading GitHub repo stan-dev/cmdstanr@HEAD\n",
            "\n"
          ]
        },
        {
          "output_type": "stream",
          "name": "stdout",
          "text": [
            "cli          (3.6.3 -> 3.6.4     ) [CRAN]\n",
            "numDeriv     (NA    -> 2016.8-1.1) [CRAN]\n",
            "R6           (2.5.1 -> 2.6.0     ) [CRAN]\n",
            "matrixStats  (NA    -> 1.5.0     ) [CRAN]\n",
            "distribut... (NA    -> 0.5.0     ) [CRAN]\n",
            "tensorA      (NA    -> 0.36.2.1  ) [CRAN]\n",
            "checkmate    (NA    -> 2.3.2     ) [CRAN]\n",
            "abind        (NA    -> 1.4-8     ) [CRAN]\n",
            "posterior    (NA    -> 1.6.0     ) [CRAN]\n"
          ]
        },
        {
          "output_type": "stream",
          "name": "stderr",
          "text": [
            "Installing 9 packages: cli, numDeriv, R6, matrixStats, distributional, tensorA, checkmate, abind, posterior\n",
            "\n",
            "Installing packages into ‘/usr/local/lib/R/site-library’\n",
            "(as ‘lib’ is unspecified)\n",
            "\n"
          ]
        },
        {
          "output_type": "stream",
          "name": "stdout",
          "text": [
            "\u001b[36m──\u001b[39m \u001b[36mR CMD build\u001b[39m \u001b[36m─────────────────────────────────────────────────────────────────\u001b[39m\n",
            "* checking for file ‘/tmp/RtmpdYT4HS/remotes1a8496cba7e/stan-dev-cmdstanr-e5086f7/DESCRIPTION’ ... OK\n",
            "* preparing ‘cmdstanr’:\n",
            "* checking DESCRIPTION meta-information ... OK\n",
            "* checking for LF line-endings in source and make files and shell scripts\n",
            "* checking for empty or unneeded directories\n",
            "Omitted ‘LazyData’ from DESCRIPTION\n",
            "* building ‘cmdstanr_0.8.1.9000.tar.gz’\n",
            "\n"
          ]
        },
        {
          "output_type": "stream",
          "name": "stderr",
          "text": [
            "Installing package into ‘/usr/local/lib/R/site-library’\n",
            "(as ‘lib’ is unspecified)\n",
            "\n",
            "This is cmdstanr version 0.8.1.9000\n",
            "\n",
            "- CmdStanR documentation and vignettes: mc-stan.org/cmdstanr\n",
            "\n",
            "- Use set_cmdstan_path() to set the path to CmdStan\n",
            "\n",
            "- Use install_cmdstan() to install CmdStan\n",
            "\n"
          ]
        },
        {
          "output_type": "error",
          "ename": "ERROR",
          "evalue": "Error: CmdStan path has not been set yet. See ?set_cmdstan_path.\n",
          "traceback": [
            "Error: CmdStan path has not been set yet. See ?set_cmdstan_path.\nTraceback:\n",
            "1. stop_no_path()",
            "2. stop(\"CmdStan path has not been set yet. See ?set_cmdstan_path.\", \n .     call. = FALSE)",
            "3. .handleSimpleError(function (cnd) \n . {\n .     watcher$capture_plot_and_output()\n .     cnd <- sanitize_call(cnd)\n .     watcher$push(cnd)\n .     switch(on_error, continue = invokeRestart(\"eval_continue\"), \n .         stop = invokeRestart(\"eval_stop\"), error = NULL)\n . }, \"CmdStan path has not been set yet. See ?set_cmdstan_path.\", \n .     base::quote(NULL))"
          ]
        }
      ]
    },
    {
      "cell_type": "markdown",
      "source": [
        "IF YOU ENCOUNTER AN ERROR, JUST KEEP RUNNING CODE BELOW."
      ],
      "metadata": {
        "id": "5PjVh-uhxvy3"
      }
    },
    {
      "cell_type": "code",
      "source": [
        "# Install CmdStan using cmdstanr\n",
        "library(cmdstanr)\n",
        "cmdstanr::install_cmdstan()\n",
        "\n",
        "# After installation, set the CmdStan path\n",
        "cmdstan_path <- cmdstanr::cmdstan_path()\n",
        "cmdstanr::set_cmdstan_path(cmdstan_path)\n",
        "\n",
        "# Verify the installation\n",
        "cmdstanr::cmdstan_version()\n"
      ],
      "metadata": {
        "colab": {
          "base_uri": "https://localhost:8080/",
          "height": 1000
        },
        "id": "QWIdvClbVP9g",
        "outputId": "f2bf8ae3-c10f-4074-f7b5-9ec6941931d9"
      },
      "execution_count": 3,
      "outputs": [
        {
          "output_type": "stream",
          "name": "stderr",
          "text": [
            "The C++ toolchain required for CmdStan is setup properly!\n",
            "\n",
            "* Latest CmdStan release is v2.36.0\n",
            "\n",
            "* Installing CmdStan v2.36.0 in /root/.cmdstan/cmdstan-2.36.0\n",
            "\n",
            "* Downloading cmdstan-2.36.0.tar.gz from GitHub...\n",
            "\n",
            "* Download complete\n",
            "\n",
            "* Unpacking archive...\n",
            "\n",
            "* Building CmdStan binaries...\n",
            "\n"
          ]
        },
        {
          "output_type": "stream",
          "name": "stdout",
          "text": [
            "g++ -Wno-deprecated-declarations -std=c++17 -pthread -D_REENTRANT -Wno-sign-compare -Wno-ignored-attributes -Wno-class-memaccess      -I stan/lib/stan_math/lib/tbb_2020.3/include    -O3 -I src -I stan/src -I stan/lib/rapidjson_1.1.0/ -I lib/CLI11-1.9.1/ -I stan/lib/stan_math/ -I stan/lib/stan_math/lib/eigen_3.4.0 -I stan/lib/stan_math/lib/boost_1.84.0 -I stan/lib/stan_math/lib/sundials_6.1.1/include -I stan/lib/stan_math/lib/sundials_6.1.1/src/sundials    -DBOOST_DISABLE_ASSERTS          -c -MT bin/cmdstan/stansummary.o -MM -E -MG -MP -MF src/cmdstan/stansummary.d src/cmdstan/stansummary.cpp\n",
            "cp bin/linux-stanc bin/stanc\n",
            "g++ -pipe   -pthread -D_REENTRANT  -O3 -I stan/lib/stan_math/lib/sundials_6.1.1/include -I stan/lib/stan_math/lib/sundials_6.1.1/src/sundials -DNO_FPRINTF_OUTPUT     -O3  -c -x c -include stan/lib/stan_math/lib/sundials_6.1.1/include/stan_sundials_printf_override.hpp stan/lib/stan_math/lib/sundials_6.1.1/src/nvector/serial/nvector_serial.c -o stan/lib/stan_math/lib/sundials_6.1.1/src/nvector/serial/nvector_serial.o\n",
            "chmod +x bin/stanc\n",
            "g++ -pipe   -pthread -D_REENTRANT  -O3 -I stan/lib/stan_math/lib/sundials_6.1.1/include -I stan/lib/stan_math/lib/sundials_6.1.1/src/sundials -DNO_FPRINTF_OUTPUT     -O3  -c -x c -include stan/lib/stan_math/lib/sundials_6.1.1/include/stan_sundials_printf_override.hpp stan/lib/stan_math/lib/sundials_6.1.1/src/sundials/sundials_math.c -o stan/lib/stan_math/lib/sundials_6.1.1/src/sundials/sundials_math.o\n",
            "g++ -pipe   -pthread -D_REENTRANT  -O3 -I stan/lib/stan_math/lib/sundials_6.1.1/include -I stan/lib/stan_math/lib/sundials_6.1.1/src/sundials -DNO_FPRINTF_OUTPUT     -O3  -c -x c -include stan/lib/stan_math/lib/sundials_6.1.1/include/stan_sundials_printf_override.hpp stan/lib/stan_math/lib/sundials_6.1.1/src/cvodes/cvodea.c -o stan/lib/stan_math/lib/sundials_6.1.1/src/cvodes/cvodea.o\n",
            "g++ -pipe   -pthread -D_REENTRANT  -O3 -I stan/lib/stan_math/lib/sundials_6.1.1/include -I stan/lib/stan_math/lib/sundials_6.1.1/src/sundials -DNO_FPRINTF_OUTPUT     -O3  -c -x c -include stan/lib/stan_math/lib/sundials_6.1.1/include/stan_sundials_printf_override.hpp stan/lib/stan_math/lib/sundials_6.1.1/src/cvodes/cvodea_io.c -o stan/lib/stan_math/lib/sundials_6.1.1/src/cvodes/cvodea_io.o\n",
            "g++ -pipe   -pthread -D_REENTRANT  -O3 -I stan/lib/stan_math/lib/sundials_6.1.1/include -I stan/lib/stan_math/lib/sundials_6.1.1/src/sundials -DNO_FPRINTF_OUTPUT     -O3  -c -x c -include stan/lib/stan_math/lib/sundials_6.1.1/include/stan_sundials_printf_override.hpp stan/lib/stan_math/lib/sundials_6.1.1/src/cvodes/cvodes_bandpre.c -o stan/lib/stan_math/lib/sundials_6.1.1/src/cvodes/cvodes_bandpre.o\n",
            "g++ -pipe   -pthread -D_REENTRANT  -O3 -I stan/lib/stan_math/lib/sundials_6.1.1/include -I stan/lib/stan_math/lib/sundials_6.1.1/src/sundials -DNO_FPRINTF_OUTPUT     -O3  -c -x c -include stan/lib/stan_math/lib/sundials_6.1.1/include/stan_sundials_printf_override.hpp stan/lib/stan_math/lib/sundials_6.1.1/src/cvodes/cvodes_bbdpre.c -o stan/lib/stan_math/lib/sundials_6.1.1/src/cvodes/cvodes_bbdpre.o\n",
            "g++ -pipe   -pthread -D_REENTRANT  -O3 -I stan/lib/stan_math/lib/sundials_6.1.1/include -I stan/lib/stan_math/lib/sundials_6.1.1/src/sundials -DNO_FPRINTF_OUTPUT     -O3  -c -x c -include stan/lib/stan_math/lib/sundials_6.1.1/include/stan_sundials_printf_override.hpp stan/lib/stan_math/lib/sundials_6.1.1/src/cvodes/cvodes.c -o stan/lib/stan_math/lib/sundials_6.1.1/src/cvodes/cvodes.o\n",
            "g++ -pipe   -pthread -D_REENTRANT  -O3 -I stan/lib/stan_math/lib/sundials_6.1.1/include -I stan/lib/stan_math/lib/sundials_6.1.1/src/sundials -DNO_FPRINTF_OUTPUT     -O3  -c -x c -include stan/lib/stan_math/lib/sundials_6.1.1/include/stan_sundials_printf_override.hpp stan/lib/stan_math/lib/sundials_6.1.1/src/cvodes/cvodes_diag.c -o stan/lib/stan_math/lib/sundials_6.1.1/src/cvodes/cvodes_diag.o\n",
            "g++ -pipe   -pthread -D_REENTRANT  -O3 -I stan/lib/stan_math/lib/sundials_6.1.1/include -I stan/lib/stan_math/lib/sundials_6.1.1/src/sundials -DNO_FPRINTF_OUTPUT     -O3  -c -x c -include stan/lib/stan_math/lib/sundials_6.1.1/include/stan_sundials_printf_override.hpp stan/lib/stan_math/lib/sundials_6.1.1/src/cvodes/cvodes_direct.c -o stan/lib/stan_math/lib/sundials_6.1.1/src/cvodes/cvodes_direct.o\n",
            "g++ -pipe   -pthread -D_REENTRANT  -O3 -I stan/lib/stan_math/lib/sundials_6.1.1/include -I stan/lib/stan_math/lib/sundials_6.1.1/src/sundials -DNO_FPRINTF_OUTPUT     -O3  -c -x c -include stan/lib/stan_math/lib/sundials_6.1.1/include/stan_sundials_printf_override.hpp stan/lib/stan_math/lib/sundials_6.1.1/src/cvodes/cvodes_io.c -o stan/lib/stan_math/lib/sundials_6.1.1/src/cvodes/cvodes_io.o\n",
            "g++ -pipe   -pthread -D_REENTRANT  -O3 -I stan/lib/stan_math/lib/sundials_6.1.1/include -I stan/lib/stan_math/lib/sundials_6.1.1/src/sundials -DNO_FPRINTF_OUTPUT     -O3  -c -x c -include stan/lib/stan_math/lib/sundials_6.1.1/include/stan_sundials_printf_override.hpp stan/lib/stan_math/lib/sundials_6.1.1/src/cvodes/cvodes_ls.c -o stan/lib/stan_math/lib/sundials_6.1.1/src/cvodes/cvodes_ls.o\n",
            "g++ -pipe   -pthread -D_REENTRANT  -O3 -I stan/lib/stan_math/lib/sundials_6.1.1/include -I stan/lib/stan_math/lib/sundials_6.1.1/src/sundials -DNO_FPRINTF_OUTPUT     -O3  -c -x c -include stan/lib/stan_math/lib/sundials_6.1.1/include/stan_sundials_printf_override.hpp stan/lib/stan_math/lib/sundials_6.1.1/src/cvodes/cvodes_nls.c -o stan/lib/stan_math/lib/sundials_6.1.1/src/cvodes/cvodes_nls.o\n",
            "g++ -pipe   -pthread -D_REENTRANT  -O3 -I stan/lib/stan_math/lib/sundials_6.1.1/include -I stan/lib/stan_math/lib/sundials_6.1.1/src/sundials -DNO_FPRINTF_OUTPUT     -O3  -c -x c -include stan/lib/stan_math/lib/sundials_6.1.1/include/stan_sundials_printf_override.hpp stan/lib/stan_math/lib/sundials_6.1.1/src/cvodes/cvodes_nls_sim.c -o stan/lib/stan_math/lib/sundials_6.1.1/src/cvodes/cvodes_nls_sim.o\n",
            "g++ -pipe   -pthread -D_REENTRANT  -O3 -I stan/lib/stan_math/lib/sundials_6.1.1/include -I stan/lib/stan_math/lib/sundials_6.1.1/src/sundials -DNO_FPRINTF_OUTPUT     -O3  -c -x c -include stan/lib/stan_math/lib/sundials_6.1.1/include/stan_sundials_printf_override.hpp stan/lib/stan_math/lib/sundials_6.1.1/src/cvodes/cvodes_nls_stg1.c -o stan/lib/stan_math/lib/sundials_6.1.1/src/cvodes/cvodes_nls_stg1.o\n",
            "g++ -pipe   -pthread -D_REENTRANT  -O3 -I stan/lib/stan_math/lib/sundials_6.1.1/include -I stan/lib/stan_math/lib/sundials_6.1.1/src/sundials -DNO_FPRINTF_OUTPUT     -O3  -c -x c -include stan/lib/stan_math/lib/sundials_6.1.1/include/stan_sundials_printf_override.hpp stan/lib/stan_math/lib/sundials_6.1.1/src/cvodes/cvodes_nls_stg.c -o stan/lib/stan_math/lib/sundials_6.1.1/src/cvodes/cvodes_nls_stg.o\n",
            "g++ -pipe   -pthread -D_REENTRANT  -O3 -I stan/lib/stan_math/lib/sundials_6.1.1/include -I stan/lib/stan_math/lib/sundials_6.1.1/src/sundials -DNO_FPRINTF_OUTPUT     -O3  -c -x c -include stan/lib/stan_math/lib/sundials_6.1.1/include/stan_sundials_printf_override.hpp stan/lib/stan_math/lib/sundials_6.1.1/src/cvodes/cvodes_spils.c -o stan/lib/stan_math/lib/sundials_6.1.1/src/cvodes/cvodes_spils.o\n",
            "g++ -pipe   -pthread -D_REENTRANT  -O3 -I stan/lib/stan_math/lib/sundials_6.1.1/include -I stan/lib/stan_math/lib/sundials_6.1.1/src/sundials -DNO_FPRINTF_OUTPUT     -O3  -c -x c -include stan/lib/stan_math/lib/sundials_6.1.1/include/stan_sundials_printf_override.hpp stan/lib/stan_math/lib/sundials_6.1.1/src/sundials/sundials_band.c -o stan/lib/stan_math/lib/sundials_6.1.1/src/sundials/sundials_band.o\n",
            "g++ -pipe   -pthread -D_REENTRANT  -O3 -I stan/lib/stan_math/lib/sundials_6.1.1/include -I stan/lib/stan_math/lib/sundials_6.1.1/src/sundials -DNO_FPRINTF_OUTPUT     -O3  -c -x c -include stan/lib/stan_math/lib/sundials_6.1.1/include/stan_sundials_printf_override.hpp stan/lib/stan_math/lib/sundials_6.1.1/src/sundials/sundials_context.c -o stan/lib/stan_math/lib/sundials_6.1.1/src/sundials/sundials_context.o\n",
            "g++ -pipe   -pthread -D_REENTRANT  -O3 -I stan/lib/stan_math/lib/sundials_6.1.1/include -I stan/lib/stan_math/lib/sundials_6.1.1/src/sundials -DNO_FPRINTF_OUTPUT     -O3  -c -x c -include stan/lib/stan_math/lib/sundials_6.1.1/include/stan_sundials_printf_override.hpp stan/lib/stan_math/lib/sundials_6.1.1/src/sundials/sundials_dense.c -o stan/lib/stan_math/lib/sundials_6.1.1/src/sundials/sundials_dense.o\n",
            "g++ -pipe   -pthread -D_REENTRANT  -O3 -I stan/lib/stan_math/lib/sundials_6.1.1/include -I stan/lib/stan_math/lib/sundials_6.1.1/src/sundials -DNO_FPRINTF_OUTPUT     -O3  -c -x c -include stan/lib/stan_math/lib/sundials_6.1.1/include/stan_sundials_printf_override.hpp stan/lib/stan_math/lib/sundials_6.1.1/src/sundials/sundials_direct.c -o stan/lib/stan_math/lib/sundials_6.1.1/src/sundials/sundials_direct.o\n",
            "g++ -pipe   -pthread -D_REENTRANT  -O3 -I stan/lib/stan_math/lib/sundials_6.1.1/include -I stan/lib/stan_math/lib/sundials_6.1.1/src/sundials -DNO_FPRINTF_OUTPUT     -O3  -c -x c -include stan/lib/stan_math/lib/sundials_6.1.1/include/stan_sundials_printf_override.hpp stan/lib/stan_math/lib/sundials_6.1.1/src/sundials/sundials_futils.c -o stan/lib/stan_math/lib/sundials_6.1.1/src/sundials/sundials_futils.o\n",
            "g++ -pipe   -pthread -D_REENTRANT  -O3 -I stan/lib/stan_math/lib/sundials_6.1.1/include -I stan/lib/stan_math/lib/sundials_6.1.1/src/sundials -DNO_FPRINTF_OUTPUT     -O3  -c -x c -include stan/lib/stan_math/lib/sundials_6.1.1/include/stan_sundials_printf_override.hpp stan/lib/stan_math/lib/sundials_6.1.1/src/sundials/sundials_iterative.c -o stan/lib/stan_math/lib/sundials_6.1.1/src/sundials/sundials_iterative.o\n",
            "g++ -pipe   -pthread -D_REENTRANT  -O3 -I stan/lib/stan_math/lib/sundials_6.1.1/include -I stan/lib/stan_math/lib/sundials_6.1.1/src/sundials -DNO_FPRINTF_OUTPUT     -O3  -c -x c -include stan/lib/stan_math/lib/sundials_6.1.1/include/stan_sundials_printf_override.hpp stan/lib/stan_math/lib/sundials_6.1.1/src/sundials/sundials_linearsolver.c -o stan/lib/stan_math/lib/sundials_6.1.1/src/sundials/sundials_linearsolver.o\n",
            "g++ -pipe   -pthread -D_REENTRANT  -O3 -I stan/lib/stan_math/lib/sundials_6.1.1/include -I stan/lib/stan_math/lib/sundials_6.1.1/src/sundials -DNO_FPRINTF_OUTPUT     -O3  -c -x c -include stan/lib/stan_math/lib/sundials_6.1.1/include/stan_sundials_printf_override.hpp stan/lib/stan_math/lib/sundials_6.1.1/src/sundials/sundials_matrix.c -o stan/lib/stan_math/lib/sundials_6.1.1/src/sundials/sundials_matrix.o\n",
            "g++ -pipe   -pthread -D_REENTRANT  -O3 -I stan/lib/stan_math/lib/sundials_6.1.1/include -I stan/lib/stan_math/lib/sundials_6.1.1/src/sundials -DNO_FPRINTF_OUTPUT     -O3  -c -x c -include stan/lib/stan_math/lib/sundials_6.1.1/include/stan_sundials_printf_override.hpp stan/lib/stan_math/lib/sundials_6.1.1/src/sundials/sundials_memory.c -o stan/lib/stan_math/lib/sundials_6.1.1/src/sundials/sundials_memory.o\n",
            "g++ -pipe   -pthread -D_REENTRANT  -O3 -I stan/lib/stan_math/lib/sundials_6.1.1/include -I stan/lib/stan_math/lib/sundials_6.1.1/src/sundials -DNO_FPRINTF_OUTPUT     -O3  -c -x c -include stan/lib/stan_math/lib/sundials_6.1.1/include/stan_sundials_printf_override.hpp stan/lib/stan_math/lib/sundials_6.1.1/src/sundials/sundials_nonlinearsolver.c -o stan/lib/stan_math/lib/sundials_6.1.1/src/sundials/sundials_nonlinearsolver.o\n",
            "g++ -pipe   -pthread -D_REENTRANT  -O3 -I stan/lib/stan_math/lib/sundials_6.1.1/include -I stan/lib/stan_math/lib/sundials_6.1.1/src/sundials -DNO_FPRINTF_OUTPUT     -O3  -c -x c -include stan/lib/stan_math/lib/sundials_6.1.1/include/stan_sundials_printf_override.hpp stan/lib/stan_math/lib/sundials_6.1.1/src/sundials/sundials_nvector.c -o stan/lib/stan_math/lib/sundials_6.1.1/src/sundials/sundials_nvector.o\n",
            "g++ -pipe   -pthread -D_REENTRANT  -O3 -I stan/lib/stan_math/lib/sundials_6.1.1/include -I stan/lib/stan_math/lib/sundials_6.1.1/src/sundials -DNO_FPRINTF_OUTPUT     -O3  -c -x c -include stan/lib/stan_math/lib/sundials_6.1.1/include/stan_sundials_printf_override.hpp stan/lib/stan_math/lib/sundials_6.1.1/src/sundials/sundials_nvector_senswrapper.c -o stan/lib/stan_math/lib/sundials_6.1.1/src/sundials/sundials_nvector_senswrapper.o\n",
            "g++ -pipe   -pthread -D_REENTRANT  -O3 -I stan/lib/stan_math/lib/sundials_6.1.1/include -I stan/lib/stan_math/lib/sundials_6.1.1/src/sundials -DNO_FPRINTF_OUTPUT     -O3  -c -x c -include stan/lib/stan_math/lib/sundials_6.1.1/include/stan_sundials_printf_override.hpp stan/lib/stan_math/lib/sundials_6.1.1/src/sundials/sundials_version.c -o stan/lib/stan_math/lib/sundials_6.1.1/src/sundials/sundials_version.o\n",
            "g++ -pipe   -pthread -D_REENTRANT  -O3 -I stan/lib/stan_math/lib/sundials_6.1.1/include -I stan/lib/stan_math/lib/sundials_6.1.1/src/sundials -DNO_FPRINTF_OUTPUT     -O3  -c -x c -include stan/lib/stan_math/lib/sundials_6.1.1/include/stan_sundials_printf_override.hpp stan/lib/stan_math/lib/sundials_6.1.1/src/sunmatrix/band/sunmatrix_band.c -o stan/lib/stan_math/lib/sundials_6.1.1/src/sunmatrix/band/sunmatrix_band.o\n",
            "g++ -pipe   -pthread -D_REENTRANT  -O3 -I stan/lib/stan_math/lib/sundials_6.1.1/include -I stan/lib/stan_math/lib/sundials_6.1.1/src/sundials -DNO_FPRINTF_OUTPUT     -O3  -c -x c -include stan/lib/stan_math/lib/sundials_6.1.1/include/stan_sundials_printf_override.hpp stan/lib/stan_math/lib/sundials_6.1.1/src/sunmatrix/dense/sunmatrix_dense.c -o stan/lib/stan_math/lib/sundials_6.1.1/src/sunmatrix/dense/sunmatrix_dense.o\n",
            "g++ -pipe   -pthread -D_REENTRANT  -O3 -I stan/lib/stan_math/lib/sundials_6.1.1/include -I stan/lib/stan_math/lib/sundials_6.1.1/src/sundials -DNO_FPRINTF_OUTPUT     -O3  -c -x c -include stan/lib/stan_math/lib/sundials_6.1.1/include/stan_sundials_printf_override.hpp stan/lib/stan_math/lib/sundials_6.1.1/src/sunlinsol/band/sunlinsol_band.c -o stan/lib/stan_math/lib/sundials_6.1.1/src/sunlinsol/band/sunlinsol_band.o\n",
            "g++ -pipe   -pthread -D_REENTRANT  -O3 -I stan/lib/stan_math/lib/sundials_6.1.1/include -I stan/lib/stan_math/lib/sundials_6.1.1/src/sundials -DNO_FPRINTF_OUTPUT     -O3  -c -x c -include stan/lib/stan_math/lib/sundials_6.1.1/include/stan_sundials_printf_override.hpp stan/lib/stan_math/lib/sundials_6.1.1/src/sunlinsol/dense/sunlinsol_dense.c -o stan/lib/stan_math/lib/sundials_6.1.1/src/sunlinsol/dense/sunlinsol_dense.o\n",
            "g++ -pipe   -pthread -D_REENTRANT  -O3 -I stan/lib/stan_math/lib/sundials_6.1.1/include -I stan/lib/stan_math/lib/sundials_6.1.1/src/sundials -DNO_FPRINTF_OUTPUT     -O3  -c -x c -include stan/lib/stan_math/lib/sundials_6.1.1/include/stan_sundials_printf_override.hpp stan/lib/stan_math/lib/sundials_6.1.1/src/sunnonlinsol/newton/sunnonlinsol_newton.c -o stan/lib/stan_math/lib/sundials_6.1.1/src/sunnonlinsol/newton/sunnonlinsol_newton.o\n",
            "g++ -pipe   -pthread -D_REENTRANT  -O3 -I stan/lib/stan_math/lib/sundials_6.1.1/include -I stan/lib/stan_math/lib/sundials_6.1.1/src/sundials -DNO_FPRINTF_OUTPUT     -O3  -c -x c -include stan/lib/stan_math/lib/sundials_6.1.1/include/stan_sundials_printf_override.hpp stan/lib/stan_math/lib/sundials_6.1.1/src/sunnonlinsol/fixedpoint/sunnonlinsol_fixedpoint.c -o stan/lib/stan_math/lib/sundials_6.1.1/src/sunnonlinsol/fixedpoint/sunnonlinsol_fixedpoint.o\n",
            "g++ -pipe   -pthread -D_REENTRANT  -O3 -I stan/lib/stan_math/lib/sundials_6.1.1/include -I stan/lib/stan_math/lib/sundials_6.1.1/src/sundials -DNO_FPRINTF_OUTPUT     -O3  -c -x c -include stan/lib/stan_math/lib/sundials_6.1.1/include/stan_sundials_printf_override.hpp stan/lib/stan_math/lib/sundials_6.1.1/src/idas/idaa.c -o stan/lib/stan_math/lib/sundials_6.1.1/src/idas/idaa.o\n",
            "g++ -pipe   -pthread -D_REENTRANT  -O3 -I stan/lib/stan_math/lib/sundials_6.1.1/include -I stan/lib/stan_math/lib/sundials_6.1.1/src/sundials -DNO_FPRINTF_OUTPUT     -O3  -c -x c -include stan/lib/stan_math/lib/sundials_6.1.1/include/stan_sundials_printf_override.hpp stan/lib/stan_math/lib/sundials_6.1.1/src/idas/idaa_io.c -o stan/lib/stan_math/lib/sundials_6.1.1/src/idas/idaa_io.o\n",
            "g++ -pipe   -pthread -D_REENTRANT  -O3 -I stan/lib/stan_math/lib/sundials_6.1.1/include -I stan/lib/stan_math/lib/sundials_6.1.1/src/sundials -DNO_FPRINTF_OUTPUT     -O3  -c -x c -include stan/lib/stan_math/lib/sundials_6.1.1/include/stan_sundials_printf_override.hpp stan/lib/stan_math/lib/sundials_6.1.1/src/idas/idas_bbdpre.c -o stan/lib/stan_math/lib/sundials_6.1.1/src/idas/idas_bbdpre.o\n",
            "g++ -pipe   -pthread -D_REENTRANT  -O3 -I stan/lib/stan_math/lib/sundials_6.1.1/include -I stan/lib/stan_math/lib/sundials_6.1.1/src/sundials -DNO_FPRINTF_OUTPUT     -O3  -c -x c -include stan/lib/stan_math/lib/sundials_6.1.1/include/stan_sundials_printf_override.hpp stan/lib/stan_math/lib/sundials_6.1.1/src/idas/idas.c -o stan/lib/stan_math/lib/sundials_6.1.1/src/idas/idas.o\n",
            "g++ -pipe   -pthread -D_REENTRANT  -O3 -I stan/lib/stan_math/lib/sundials_6.1.1/include -I stan/lib/stan_math/lib/sundials_6.1.1/src/sundials -DNO_FPRINTF_OUTPUT     -O3  -c -x c -include stan/lib/stan_math/lib/sundials_6.1.1/include/stan_sundials_printf_override.hpp stan/lib/stan_math/lib/sundials_6.1.1/src/idas/idas_direct.c -o stan/lib/stan_math/lib/sundials_6.1.1/src/idas/idas_direct.o\n",
            "g++ -pipe   -pthread -D_REENTRANT  -O3 -I stan/lib/stan_math/lib/sundials_6.1.1/include -I stan/lib/stan_math/lib/sundials_6.1.1/src/sundials -DNO_FPRINTF_OUTPUT     -O3  -c -x c -include stan/lib/stan_math/lib/sundials_6.1.1/include/stan_sundials_printf_override.hpp stan/lib/stan_math/lib/sundials_6.1.1/src/idas/idas_ic.c -o stan/lib/stan_math/lib/sundials_6.1.1/src/idas/idas_ic.o\n",
            "g++ -pipe   -pthread -D_REENTRANT  -O3 -I stan/lib/stan_math/lib/sundials_6.1.1/include -I stan/lib/stan_math/lib/sundials_6.1.1/src/sundials -DNO_FPRINTF_OUTPUT     -O3  -c -x c -include stan/lib/stan_math/lib/sundials_6.1.1/include/stan_sundials_printf_override.hpp stan/lib/stan_math/lib/sundials_6.1.1/src/idas/idas_io.c -o stan/lib/stan_math/lib/sundials_6.1.1/src/idas/idas_io.o\n",
            "g++ -pipe   -pthread -D_REENTRANT  -O3 -I stan/lib/stan_math/lib/sundials_6.1.1/include -I stan/lib/stan_math/lib/sundials_6.1.1/src/sundials -DNO_FPRINTF_OUTPUT     -O3  -c -x c -include stan/lib/stan_math/lib/sundials_6.1.1/include/stan_sundials_printf_override.hpp stan/lib/stan_math/lib/sundials_6.1.1/src/idas/idas_ls.c -o stan/lib/stan_math/lib/sundials_6.1.1/src/idas/idas_ls.o\n",
            "g++ -pipe   -pthread -D_REENTRANT  -O3 -I stan/lib/stan_math/lib/sundials_6.1.1/include -I stan/lib/stan_math/lib/sundials_6.1.1/src/sundials -DNO_FPRINTF_OUTPUT     -O3  -c -x c -include stan/lib/stan_math/lib/sundials_6.1.1/include/stan_sundials_printf_override.hpp stan/lib/stan_math/lib/sundials_6.1.1/src/idas/idas_nls.c -o stan/lib/stan_math/lib/sundials_6.1.1/src/idas/idas_nls.o\n",
            "g++ -pipe   -pthread -D_REENTRANT  -O3 -I stan/lib/stan_math/lib/sundials_6.1.1/include -I stan/lib/stan_math/lib/sundials_6.1.1/src/sundials -DNO_FPRINTF_OUTPUT     -O3  -c -x c -include stan/lib/stan_math/lib/sundials_6.1.1/include/stan_sundials_printf_override.hpp stan/lib/stan_math/lib/sundials_6.1.1/src/idas/idas_nls_sim.c -o stan/lib/stan_math/lib/sundials_6.1.1/src/idas/idas_nls_sim.o\n",
            "g++ -pipe   -pthread -D_REENTRANT  -O3 -I stan/lib/stan_math/lib/sundials_6.1.1/include -I stan/lib/stan_math/lib/sundials_6.1.1/src/sundials -DNO_FPRINTF_OUTPUT     -O3  -c -x c -include stan/lib/stan_math/lib/sundials_6.1.1/include/stan_sundials_printf_override.hpp stan/lib/stan_math/lib/sundials_6.1.1/src/idas/idas_nls_stg.c -o stan/lib/stan_math/lib/sundials_6.1.1/src/idas/idas_nls_stg.o\n",
            "g++ -pipe   -pthread -D_REENTRANT  -O3 -I stan/lib/stan_math/lib/sundials_6.1.1/include -I stan/lib/stan_math/lib/sundials_6.1.1/src/sundials -DNO_FPRINTF_OUTPUT     -O3  -c -x c -include stan/lib/stan_math/lib/sundials_6.1.1/include/stan_sundials_printf_override.hpp stan/lib/stan_math/lib/sundials_6.1.1/src/idas/idas_spils.c -o stan/lib/stan_math/lib/sundials_6.1.1/src/idas/idas_spils.o\n",
            "g++ -pipe   -pthread -D_REENTRANT  -O3 -I stan/lib/stan_math/lib/sundials_6.1.1/include -I stan/lib/stan_math/lib/sundials_6.1.1/src/sundials -DNO_FPRINTF_OUTPUT     -O3  -c -x c -include stan/lib/stan_math/lib/sundials_6.1.1/include/stan_sundials_printf_override.hpp stan/lib/stan_math/lib/sundials_6.1.1/src/kinsol/kinsol_bbdpre.c -o stan/lib/stan_math/lib/sundials_6.1.1/src/kinsol/kinsol_bbdpre.o\n",
            "g++ -pipe   -pthread -D_REENTRANT  -O3 -I stan/lib/stan_math/lib/sundials_6.1.1/include -I stan/lib/stan_math/lib/sundials_6.1.1/src/sundials -DNO_FPRINTF_OUTPUT     -O3  -c -x c -include stan/lib/stan_math/lib/sundials_6.1.1/include/stan_sundials_printf_override.hpp stan/lib/stan_math/lib/sundials_6.1.1/src/kinsol/kinsol.c -o stan/lib/stan_math/lib/sundials_6.1.1/src/kinsol/kinsol.o\n",
            "g++ -pipe   -pthread -D_REENTRANT  -O3 -I stan/lib/stan_math/lib/sundials_6.1.1/include -I stan/lib/stan_math/lib/sundials_6.1.1/src/sundials -DNO_FPRINTF_OUTPUT     -O3  -c -x c -include stan/lib/stan_math/lib/sundials_6.1.1/include/stan_sundials_printf_override.hpp stan/lib/stan_math/lib/sundials_6.1.1/src/kinsol/kinsol_direct.c -o stan/lib/stan_math/lib/sundials_6.1.1/src/kinsol/kinsol_direct.o\n",
            "g++ -pipe   -pthread -D_REENTRANT  -O3 -I stan/lib/stan_math/lib/sundials_6.1.1/include -I stan/lib/stan_math/lib/sundials_6.1.1/src/sundials -DNO_FPRINTF_OUTPUT     -O3  -c -x c -include stan/lib/stan_math/lib/sundials_6.1.1/include/stan_sundials_printf_override.hpp stan/lib/stan_math/lib/sundials_6.1.1/src/kinsol/kinsol_io.c -o stan/lib/stan_math/lib/sundials_6.1.1/src/kinsol/kinsol_io.o\n",
            "g++ -pipe   -pthread -D_REENTRANT  -O3 -I stan/lib/stan_math/lib/sundials_6.1.1/include -I stan/lib/stan_math/lib/sundials_6.1.1/src/sundials -DNO_FPRINTF_OUTPUT     -O3  -c -x c -include stan/lib/stan_math/lib/sundials_6.1.1/include/stan_sundials_printf_override.hpp stan/lib/stan_math/lib/sundials_6.1.1/src/kinsol/kinsol_ls.c -o stan/lib/stan_math/lib/sundials_6.1.1/src/kinsol/kinsol_ls.o\n",
            "g++ -pipe   -pthread -D_REENTRANT  -O3 -I stan/lib/stan_math/lib/sundials_6.1.1/include -I stan/lib/stan_math/lib/sundials_6.1.1/src/sundials -DNO_FPRINTF_OUTPUT     -O3  -c -x c -include stan/lib/stan_math/lib/sundials_6.1.1/include/stan_sundials_printf_override.hpp stan/lib/stan_math/lib/sundials_6.1.1/src/kinsol/kinsol_spils.c -o stan/lib/stan_math/lib/sundials_6.1.1/src/kinsol/kinsol_spils.o\n",
            "touch stan/lib/stan_math/lib/tbb/tbb-make-check\n",
            "\n",
            "--- Compiling the main object file. This might take up to a minute. ---\n",
            "g++ -Wno-deprecated-declarations -std=c++17 -pthread -D_REENTRANT -Wno-sign-compare -Wno-ignored-attributes -Wno-class-memaccess      -I stan/lib/stan_math/lib/tbb_2020.3/include    -O3 -I src -I stan/src -I stan/lib/rapidjson_1.1.0/ -I lib/CLI11-1.9.1/ -I stan/lib/stan_math/ -I stan/lib/stan_math/lib/eigen_3.4.0 -I stan/lib/stan_math/lib/boost_1.84.0 -I stan/lib/stan_math/lib/sundials_6.1.1/include -I stan/lib/stan_math/lib/sundials_6.1.1/src/sundials    -DBOOST_DISABLE_ASSERTS          -c -o src/cmdstan/main.o src/cmdstan/main.cpp\n",
            "\n",
            "--- Compiling pre-compiled header. This might take a few seconds. ---\n",
            "g++ -Wno-deprecated-declarations -std=c++17 -pthread -D_REENTRANT -Wno-sign-compare -Wno-ignored-attributes -Wno-class-memaccess      -I stan/lib/stan_math/lib/tbb_2020.3/include    -O3 -I src -I stan/src -I stan/lib/rapidjson_1.1.0/ -I lib/CLI11-1.9.1/ -I stan/lib/stan_math/ -I stan/lib/stan_math/lib/eigen_3.4.0 -I stan/lib/stan_math/lib/boost_1.84.0 -I stan/lib/stan_math/lib/sundials_6.1.1/include -I stan/lib/stan_math/lib/sundials_6.1.1/src/sundials    -DBOOST_DISABLE_ASSERTS          -c stan/src/stan/model/model_header.hpp -o stan/src/stan/model/model_header.hpp.gch/model_header_11_4.hpp.gch\n",
            "g++ -Wno-deprecated-declarations -std=c++17 -pthread -D_REENTRANT -Wno-sign-compare -Wno-ignored-attributes -Wno-class-memaccess      -I stan/lib/stan_math/lib/tbb_2020.3/include    -O3 -I src -I stan/src -I stan/lib/rapidjson_1.1.0/ -I lib/CLI11-1.9.1/ -I stan/lib/stan_math/ -I stan/lib/stan_math/lib/eigen_3.4.0 -I stan/lib/stan_math/lib/boost_1.84.0 -I stan/lib/stan_math/lib/sundials_6.1.1/include -I stan/lib/stan_math/lib/sundials_6.1.1/src/sundials    -DBOOST_DISABLE_ASSERTS          -c -fvisibility=hidden src/cmdstan/stansummary.cpp -o bin/cmdstan/stansummary.o\n",
            "g++ -Wno-deprecated-declarations -std=c++17 -pthread -D_REENTRANT -Wno-sign-compare -Wno-ignored-attributes -Wno-class-memaccess      -I stan/lib/stan_math/lib/tbb_2020.3/include    -O3 -I src -I stan/src -I stan/lib/rapidjson_1.1.0/ -I lib/CLI11-1.9.1/ -I stan/lib/stan_math/ -I stan/lib/stan_math/lib/eigen_3.4.0 -I stan/lib/stan_math/lib/boost_1.84.0 -I stan/lib/stan_math/lib/sundials_6.1.1/include -I stan/lib/stan_math/lib/sundials_6.1.1/src/sundials    -DBOOST_DISABLE_ASSERTS          -c -fvisibility=hidden src/cmdstan/print.cpp -o bin/cmdstan/print.o\n",
            "g++ -Wno-deprecated-declarations -std=c++17 -pthread -D_REENTRANT -Wno-sign-compare -Wno-ignored-attributes -Wno-class-memaccess      -I stan/lib/stan_math/lib/tbb_2020.3/include    -O3 -I src -I stan/src -I stan/lib/rapidjson_1.1.0/ -I lib/CLI11-1.9.1/ -I stan/lib/stan_math/ -I stan/lib/stan_math/lib/eigen_3.4.0 -I stan/lib/stan_math/lib/boost_1.84.0 -I stan/lib/stan_math/lib/sundials_6.1.1/include -I stan/lib/stan_math/lib/sundials_6.1.1/src/sundials    -DBOOST_DISABLE_ASSERTS          -c -fvisibility=hidden src/cmdstan/diagnose.cpp -o bin/cmdstan/diagnose.o\n",
            "ar -rs stan/lib/stan_math/lib/sundials_6.1.1/lib/libsundials_nvecserial.a stan/lib/stan_math/lib/sundials_6.1.1/src/nvector/serial/nvector_serial.o stan/lib/stan_math/lib/sundials_6.1.1/src/sundials/sundials_math.o\n",
            "\u001b[31mar: \u001b[39m\u001b[31mcreating stan/lib/stan_math/lib/sundials_6.1.1/lib/libsundials_nvecserial.a\u001b[39m\u001b[31m\n",
            "\u001b[39mar -rs stan/lib/stan_math/lib/sundials_6.1.1/lib/libsundials_cvodes.a stan/lib/stan_math/lib/sundials_6.1.1/src/cvodes/cvodea.o stan/lib/stan_math/lib/sundials_6.1.1/src/cvodes/cvodea_io.o stan/lib/stan_math/lib/sundials_6.1.1/src/cvodes/cvodes_bandpre.o stan/lib/stan_math/lib/sundials_6.1.1/src/cvodes/cvodes_bbdpre.o stan/lib/stan_math/lib/sundials_6.1.1/src/cvodes/cvodes.o stan/lib/stan_math/lib/sundials_6.1.1/src/cvodes/cvodes_diag.o stan/lib/stan_math/lib/sundials_6.1.1/src/cvodes/cvodes_direct.o stan/lib/stan_math/lib/sundials_6.1.1/src/cvodes/cvodes_io.o stan/lib/stan_math/lib/sundials_6.1.1/src/cvodes/cvodes_ls.o stan/lib/stan_math/lib/sundials_6.1.1/src/cvodes/cvodes_nls.o stan/lib/stan_math/lib/sundials_6.1.1/src/cvodes/cvodes_nls_sim.o stan/lib/stan_math/lib/sundials_6.1.1/src/cvodes/cvodes_nls_stg1.o stan/lib/stan_math/lib/sundials_6.1.1/src/cvodes/cvodes_nls_stg.o stan/lib/stan_math/lib/sundials_6.1.1/src/cvodes/cvodes_spils.o stan/lib/stan_math/lib/sundials_6.1.1/src/sundials/sundials_band.o stan/lib/stan_math/lib/sundials_6.1.1/src/sundials/sundials_context.o stan/lib/stan_math/lib/sundials_6.1.1/src/sundials/sundials_dense.o stan/lib/stan_math/lib/sundials_6.1.1/src/sundials/sundials_direct.o stan/lib/stan_math/lib/sundials_6.1.1/src/sundials/sundials_futils.o stan/lib/stan_math/lib/sundials_6.1.1/src/sundials/sundials_iterative.o stan/lib/stan_math/lib/sundials_6.1.1/src/sundials/sundials_linearsolver.o stan/lib/stan_math/lib/sundials_6.1.1/src/sundials/sundials_math.o stan/lib/stan_math/lib/sundials_6.1.1/src/sundials/sundials_matrix.o stan/lib/stan_math/lib/sundials_6.1.1/src/sundials/sundials_memory.o stan/lib/stan_math/lib/sundials_6.1.1/src/sundials/sundials_nonlinearsolver.o stan/lib/stan_math/lib/sundials_6.1.1/src/sundials/sundials_nvector.o stan/lib/stan_math/lib/sundials_6.1.1/src/sundials/sundials_nvector_senswrapper.o stan/lib/stan_math/lib/sundials_6.1.1/src/sundials/sundials_version.o stan/lib/stan_math/lib/sundials_6.1.1/src/sunmatrix/band/sunmatrix_band.o stan/lib/stan_math/lib/sundials_6.1.1/src/sunmatrix/dense/sunmatrix_dense.o stan/lib/stan_math/lib/sundials_6.1.1/src/sunlinsol/band/sunlinsol_band.o stan/lib/stan_math/lib/sundials_6.1.1/src/sunlinsol/dense/sunlinsol_dense.o stan/lib/stan_math/lib/sundials_6.1.1/src/sunnonlinsol/newton/sunnonlinsol_newton.o stan/lib/stan_math/lib/sundials_6.1.1/src/sunnonlinsol/fixedpoint/sunnonlinsol_fixedpoint.o\n",
            "\u001b[31mar: \u001b[39m\u001b[31mcreating stan/lib/stan_math/lib/sundials_6.1.1/lib/libsundials_cvodes.a\u001b[39m\u001b[31m\n",
            "\u001b[39mar -rs stan/lib/stan_math/lib/sundials_6.1.1/lib/libsundials_idas.a stan/lib/stan_math/lib/sundials_6.1.1/src/idas/idaa.o stan/lib/stan_math/lib/sundials_6.1.1/src/idas/idaa_io.o stan/lib/stan_math/lib/sundials_6.1.1/src/idas/idas_bbdpre.o stan/lib/stan_math/lib/sundials_6.1.1/src/idas/idas.o stan/lib/stan_math/lib/sundials_6.1.1/src/idas/idas_direct.o stan/lib/stan_math/lib/sundials_6.1.1/src/idas/idas_ic.o stan/lib/stan_math/lib/sundials_6.1.1/src/idas/idas_io.o stan/lib/stan_math/lib/sundials_6.1.1/src/idas/idas_ls.o stan/lib/stan_math/lib/sundials_6.1.1/src/idas/idas_nls.o stan/lib/stan_math/lib/sundials_6.1.1/src/idas/idas_nls_sim.o stan/lib/stan_math/lib/sundials_6.1.1/src/idas/idas_nls_stg.o stan/lib/stan_math/lib/sundials_6.1.1/src/idas/idas_spils.o stan/lib/stan_math/lib/sundials_6.1.1/src/sundials/sundials_band.o stan/lib/stan_math/lib/sundials_6.1.1/src/sundials/sundials_context.o stan/lib/stan_math/lib/sundials_6.1.1/src/sundials/sundials_dense.o stan/lib/stan_math/lib/sundials_6.1.1/src/sundials/sundials_direct.o stan/lib/stan_math/lib/sundials_6.1.1/src/sundials/sundials_futils.o stan/lib/stan_math/lib/sundials_6.1.1/src/sundials/sundials_iterative.o stan/lib/stan_math/lib/sundials_6.1.1/src/sundials/sundials_linearsolver.o stan/lib/stan_math/lib/sundials_6.1.1/src/sundials/sundials_math.o stan/lib/stan_math/lib/sundials_6.1.1/src/sundials/sundials_matrix.o stan/lib/stan_math/lib/sundials_6.1.1/src/sundials/sundials_memory.o stan/lib/stan_math/lib/sundials_6.1.1/src/sundials/sundials_nonlinearsolver.o stan/lib/stan_math/lib/sundials_6.1.1/src/sundials/sundials_nvector.o stan/lib/stan_math/lib/sundials_6.1.1/src/sundials/sundials_nvector_senswrapper.o stan/lib/stan_math/lib/sundials_6.1.1/src/sundials/sundials_version.o stan/lib/stan_math/lib/sundials_6.1.1/src/sunmatrix/band/sunmatrix_band.o stan/lib/stan_math/lib/sundials_6.1.1/src/sunmatrix/dense/sunmatrix_dense.o stan/lib/stan_math/lib/sundials_6.1.1/src/sunlinsol/band/sunlinsol_band.o stan/lib/stan_math/lib/sundials_6.1.1/src/sunlinsol/dense/sunlinsol_dense.o stan/lib/stan_math/lib/sundials_6.1.1/src/sunnonlinsol/newton/sunnonlinsol_newton.o stan/lib/stan_math/lib/sundials_6.1.1/src/sunnonlinsol/fixedpoint/sunnonlinsol_fixedpoint.o\n",
            "\u001b[31mar: \u001b[39m\u001b[31mcreating stan/lib/stan_math/lib/sundials_6.1.1/lib/libsundials_idas.a\u001b[39m\u001b[31m\n",
            "\u001b[39mar -rs stan/lib/stan_math/lib/sundials_6.1.1/lib/libsundials_kinsol.a stan/lib/stan_math/lib/sundials_6.1.1/src/kinsol/kinsol_bbdpre.o stan/lib/stan_math/lib/sundials_6.1.1/src/kinsol/kinsol.o stan/lib/stan_math/lib/sundials_6.1.1/src/kinsol/kinsol_direct.o stan/lib/stan_math/lib/sundials_6.1.1/src/kinsol/kinsol_io.o stan/lib/stan_math/lib/sundials_6.1.1/src/kinsol/kinsol_ls.o stan/lib/stan_math/lib/sundials_6.1.1/src/kinsol/kinsol_spils.o stan/lib/stan_math/lib/sundials_6.1.1/src/sundials/sundials_band.o stan/lib/stan_math/lib/sundials_6.1.1/src/sundials/sundials_context.o stan/lib/stan_math/lib/sundials_6.1.1/src/sundials/sundials_dense.o stan/lib/stan_math/lib/sundials_6.1.1/src/sundials/sundials_direct.o stan/lib/stan_math/lib/sundials_6.1.1/src/sundials/sundials_futils.o stan/lib/stan_math/lib/sundials_6.1.1/src/sundials/sundials_iterative.o stan/lib/stan_math/lib/sundials_6.1.1/src/sundials/sundials_linearsolver.o stan/lib/stan_math/lib/sundials_6.1.1/src/sundials/sundials_math.o stan/lib/stan_math/lib/sundials_6.1.1/src/sundials/sundials_matrix.o stan/lib/stan_math/lib/sundials_6.1.1/src/sundials/sundials_memory.o stan/lib/stan_math/lib/sundials_6.1.1/src/sundials/sundials_nonlinearsolver.o stan/lib/stan_math/lib/sundials_6.1.1/src/sundials/sundials_nvector.o stan/lib/stan_math/lib/sundials_6.1.1/src/sundials/sundials_nvector_senswrapper.o stan/lib/stan_math/lib/sundials_6.1.1/src/sundials/sundials_version.o stan/lib/stan_math/lib/sundials_6.1.1/src/sunmatrix/band/sunmatrix_band.o stan/lib/stan_math/lib/sundials_6.1.1/src/sunmatrix/dense/sunmatrix_dense.o stan/lib/stan_math/lib/sundials_6.1.1/src/sunlinsol/band/sunlinsol_band.o stan/lib/stan_math/lib/sundials_6.1.1/src/sunlinsol/dense/sunlinsol_dense.o stan/lib/stan_math/lib/sundials_6.1.1/src/sunnonlinsol/newton/sunnonlinsol_newton.o stan/lib/stan_math/lib/sundials_6.1.1/src/sunnonlinsol/fixedpoint/sunnonlinsol_fixedpoint.o\n",
            "\u001b[31mar: \u001b[39m\u001b[31mcreating stan/lib/stan_math/lib/sundials_6.1.1/lib/libsundials_kinsol.a\u001b[39m\u001b[31m\n",
            "\u001b[39mtouch stan/lib/stan_math/lib/tbb/version_tbb_2020.3\n",
            "tbb_root=\"../tbb_2020.3\" WINARM64=\"\" CXX=\"g++\" CC=\"gcc\" LDFLAGS='-Wl,-L,\"/root/.cmdstan/cmdstan-2.36.0/stan/lib/stan_math/lib/tbb\"   -Wl,-rpath,\"/root/.cmdstan/cmdstan-2.36.0/stan/lib/stan_math/lib/tbb\"' 'make' -C \"stan/lib/stan_math/lib/tbb\" -r -f \"/root/.cmdstan/cmdstan-2.36.0/stan/lib/stan_math/lib/tbb_2020.3/build/Makefile.tbb\" compiler=gcc cfg=release stdver=c++17  CXXFLAGS=\"-Wno-unknown-warning-option -Wno-deprecated-copy -Wno-missing-attributes -Wno-class-memaccess -Wno-sized-deallocation  \"\n",
            "make[1]: Entering directory '/root/.cmdstan/cmdstan-2.36.0/stan/lib/stan_math/lib/tbb'\n",
            "\u001b[31m/root/.cmdstan/cmdstan-2.36.0/stan/lib/stan_math/lib/tbb_2020.3/build/Makefile.tbb:28: CONFIG: cfg=release arch=intel64 compiler=gcc target=linux runtime=cc11.4.0_libc2.35_kernel6.1.85+\n",
            "\u001b[39mg++ -o concurrent_hash_map.o -c -MMD -O2 -g -DDO_ITT_NOTIFY -DUSE_PTHREAD -pthread -m64 -mrtm  -fPIC -flifetime-dse=1 -D__TBB_BUILD=1 -Wall -Wextra -Wno-parentheses -Wno-sized-deallocation -Wno-unknown-warning-option -Wno-deprecated-copy -Wno-missing-attributes -Wno-class-memaccess -Wno-sized-deallocation   -DTBB_SUPPRESS_DEPRECATED_MESSAGES=1 -std=c++17  -I../tbb_2020.3/src -I../tbb_2020.3/src/rml/include -I../tbb_2020.3/include ../tbb_2020.3/src/tbb/concurrent_hash_map.cpp\n",
            "g++ -o concurrent_queue.o -c -MMD -O2 -g -DDO_ITT_NOTIFY -DUSE_PTHREAD -pthread -m64 -mrtm  -fPIC -flifetime-dse=1 -D__TBB_BUILD=1 -Wall -Wextra -Wno-parentheses -Wno-sized-deallocation -Wno-unknown-warning-option -Wno-deprecated-copy -Wno-missing-attributes -Wno-class-memaccess -Wno-sized-deallocation   -DTBB_SUPPRESS_DEPRECATED_MESSAGES=1 -std=c++17  -I../tbb_2020.3/src -I../tbb_2020.3/src/rml/include -I../tbb_2020.3/include ../tbb_2020.3/src/tbb/concurrent_queue.cpp\n",
            "g++ -o concurrent_vector.o -c -MMD -O2 -g -DDO_ITT_NOTIFY -DUSE_PTHREAD -pthread -m64 -mrtm  -fPIC -flifetime-dse=1 -D__TBB_BUILD=1 -Wall -Wextra -Wno-parentheses -Wno-sized-deallocation -Wno-unknown-warning-option -Wno-deprecated-copy -Wno-missing-attributes -Wno-class-memaccess -Wno-sized-deallocation   -DTBB_SUPPRESS_DEPRECATED_MESSAGES=1 -std=c++17  -I../tbb_2020.3/src -I../tbb_2020.3/src/rml/include -I../tbb_2020.3/include ../tbb_2020.3/src/tbb/concurrent_vector.cpp\n",
            "g++ -o dynamic_link.o -c -MMD -O2 -g -DDO_ITT_NOTIFY -DUSE_PTHREAD -pthread -m64 -mrtm  -fPIC -flifetime-dse=1 -D__TBB_BUILD=1 -Wall -Wextra -Wno-parentheses -Wno-sized-deallocation -Wno-unknown-warning-option -Wno-deprecated-copy -Wno-missing-attributes -Wno-class-memaccess -Wno-sized-deallocation   -DTBB_SUPPRESS_DEPRECATED_MESSAGES=1 -std=c++17  -I../tbb_2020.3/src -I../tbb_2020.3/src/rml/include -I../tbb_2020.3/include ../tbb_2020.3/src/tbb/dynamic_link.cpp\n",
            "g++ -o itt_notify.o -c -MMD -O2 -g -DDO_ITT_NOTIFY -DUSE_PTHREAD -pthread -m64 -mrtm  -fPIC -flifetime-dse=1 -D__TBB_BUILD=1 -Wall -Wextra -Wno-parentheses -Wno-sized-deallocation -Wno-unknown-warning-option -Wno-deprecated-copy -Wno-missing-attributes -Wno-class-memaccess -Wno-sized-deallocation   -DTBB_SUPPRESS_DEPRECATED_MESSAGES=1 -std=c++17  -I../tbb_2020.3/src -I../tbb_2020.3/src/rml/include -I../tbb_2020.3/include ../tbb_2020.3/src/tbb/itt_notify.cpp\n",
            "g++ -o cache_aligned_allocator.o -c -MMD -O2 -g -DDO_ITT_NOTIFY -DUSE_PTHREAD -pthread -m64 -mrtm  -fPIC -flifetime-dse=1 -D__TBB_BUILD=1 -Wall -Wextra -Wno-parentheses -Wno-sized-deallocation -Wno-unknown-warning-option -Wno-deprecated-copy -Wno-missing-attributes -Wno-class-memaccess -Wno-sized-deallocation   -DTBB_SUPPRESS_DEPRECATED_MESSAGES=1 -std=c++17  -I../tbb_2020.3/src -I../tbb_2020.3/src/rml/include -I../tbb_2020.3/include ../tbb_2020.3/src/tbb/cache_aligned_allocator.cpp\n",
            "g++ -o pipeline.o -c -MMD -O2 -g -DDO_ITT_NOTIFY -DUSE_PTHREAD -pthread -m64 -mrtm  -fPIC -flifetime-dse=1 -D__TBB_BUILD=1 -Wall -Wextra -Wno-parentheses -Wno-sized-deallocation -Wno-unknown-warning-option -Wno-deprecated-copy -Wno-missing-attributes -Wno-class-memaccess -Wno-sized-deallocation   -DTBB_SUPPRESS_DEPRECATED_MESSAGES=1 -std=c++17  -I../tbb_2020.3/src -I../tbb_2020.3/src/rml/include -I../tbb_2020.3/include ../tbb_2020.3/src/tbb/pipeline.cpp\n",
            "g++ -o queuing_mutex.o -c -MMD -O2 -g -DDO_ITT_NOTIFY -DUSE_PTHREAD -pthread -m64 -mrtm  -fPIC -flifetime-dse=1 -D__TBB_BUILD=1 -Wall -Wextra -Wno-parentheses -Wno-sized-deallocation -Wno-unknown-warning-option -Wno-deprecated-copy -Wno-missing-attributes -Wno-class-memaccess -Wno-sized-deallocation   -DTBB_SUPPRESS_DEPRECATED_MESSAGES=1 -std=c++17  -I../tbb_2020.3/src -I../tbb_2020.3/src/rml/include -I../tbb_2020.3/include ../tbb_2020.3/src/tbb/queuing_mutex.cpp\n",
            "g++ -o queuing_rw_mutex.o -c -MMD -O2 -g -DDO_ITT_NOTIFY -DUSE_PTHREAD -pthread -m64 -mrtm  -fPIC -flifetime-dse=1 -D__TBB_BUILD=1 -Wall -Wextra -Wno-parentheses -Wno-sized-deallocation -Wno-unknown-warning-option -Wno-deprecated-copy -Wno-missing-attributes -Wno-class-memaccess -Wno-sized-deallocation   -DTBB_SUPPRESS_DEPRECATED_MESSAGES=1 -std=c++17  -I../tbb_2020.3/src -I../tbb_2020.3/src/rml/include -I../tbb_2020.3/include ../tbb_2020.3/src/tbb/queuing_rw_mutex.cpp\n",
            "g++ -o reader_writer_lock.o -c -MMD -O2 -g -DDO_ITT_NOTIFY -DUSE_PTHREAD -pthread -m64 -mrtm  -fPIC -flifetime-dse=1 -D__TBB_BUILD=1 -Wall -Wextra -Wno-parentheses -Wno-sized-deallocation -Wno-unknown-warning-option -Wno-deprecated-copy -Wno-missing-attributes -Wno-class-memaccess -Wno-sized-deallocation   -DTBB_SUPPRESS_DEPRECATED_MESSAGES=1 -std=c++17  -I../tbb_2020.3/src -I../tbb_2020.3/src/rml/include -I../tbb_2020.3/include ../tbb_2020.3/src/tbb/reader_writer_lock.cpp\n",
            "g++ -o spin_rw_mutex.o -c -MMD -O2 -g -DDO_ITT_NOTIFY -DUSE_PTHREAD -pthread -m64 -mrtm  -fPIC -flifetime-dse=1 -D__TBB_BUILD=1 -Wall -Wextra -Wno-parentheses -Wno-sized-deallocation -Wno-unknown-warning-option -Wno-deprecated-copy -Wno-missing-attributes -Wno-class-memaccess -Wno-sized-deallocation   -DTBB_SUPPRESS_DEPRECATED_MESSAGES=1 -std=c++17  -I../tbb_2020.3/src -I../tbb_2020.3/src/rml/include -I../tbb_2020.3/include ../tbb_2020.3/src/tbb/spin_rw_mutex.cpp\n",
            "g++ -o x86_rtm_rw_mutex.o -c -MMD -O2 -g -DDO_ITT_NOTIFY -DUSE_PTHREAD -pthread -m64 -mrtm  -fPIC -flifetime-dse=1 -D__TBB_BUILD=1 -Wall -Wextra -Wno-parentheses -Wno-sized-deallocation -Wno-unknown-warning-option -Wno-deprecated-copy -Wno-missing-attributes -Wno-class-memaccess -Wno-sized-deallocation   -DTBB_SUPPRESS_DEPRECATED_MESSAGES=1 -std=c++17  -I../tbb_2020.3/src -I../tbb_2020.3/src/rml/include -I../tbb_2020.3/include ../tbb_2020.3/src/tbb/x86_rtm_rw_mutex.cpp\n",
            "g++ -o spin_mutex.o -c -MMD -O2 -g -DDO_ITT_NOTIFY -DUSE_PTHREAD -pthread -m64 -mrtm  -fPIC -flifetime-dse=1 -D__TBB_BUILD=1 -Wall -Wextra -Wno-parentheses -Wno-sized-deallocation -Wno-unknown-warning-option -Wno-deprecated-copy -Wno-missing-attributes -Wno-class-memaccess -Wno-sized-deallocation   -DTBB_SUPPRESS_DEPRECATED_MESSAGES=1 -std=c++17  -I../tbb_2020.3/src -I../tbb_2020.3/src/rml/include -I../tbb_2020.3/include ../tbb_2020.3/src/tbb/spin_mutex.cpp\n",
            "g++ -o critical_section.o -c -MMD -O2 -g -DDO_ITT_NOTIFY -DUSE_PTHREAD -pthread -m64 -mrtm  -fPIC -flifetime-dse=1 -D__TBB_BUILD=1 -Wall -Wextra -Wno-parentheses -Wno-sized-deallocation -Wno-unknown-warning-option -Wno-deprecated-copy -Wno-missing-attributes -Wno-class-memaccess -Wno-sized-deallocation   -DTBB_SUPPRESS_DEPRECATED_MESSAGES=1 -std=c++17  -I../tbb_2020.3/src -I../tbb_2020.3/src/rml/include -I../tbb_2020.3/include ../tbb_2020.3/src/tbb/critical_section.cpp\n",
            "g++ -o mutex.o -c -MMD -O2 -g -DDO_ITT_NOTIFY -DUSE_PTHREAD -pthread -m64 -mrtm  -fPIC -flifetime-dse=1 -D__TBB_BUILD=1 -Wall -Wextra -Wno-parentheses -Wno-sized-deallocation -Wno-unknown-warning-option -Wno-deprecated-copy -Wno-missing-attributes -Wno-class-memaccess -Wno-sized-deallocation   -DTBB_SUPPRESS_DEPRECATED_MESSAGES=1 -std=c++17  -I../tbb_2020.3/src -I../tbb_2020.3/src/rml/include -I../tbb_2020.3/include ../tbb_2020.3/src/tbb/mutex.cpp\n",
            "g++ -o recursive_mutex.o -c -MMD -O2 -g -DDO_ITT_NOTIFY -DUSE_PTHREAD -pthread -m64 -mrtm  -fPIC -flifetime-dse=1 -D__TBB_BUILD=1 -Wall -Wextra -Wno-parentheses -Wno-sized-deallocation -Wno-unknown-warning-option -Wno-deprecated-copy -Wno-missing-attributes -Wno-class-memaccess -Wno-sized-deallocation   -DTBB_SUPPRESS_DEPRECATED_MESSAGES=1 -std=c++17  -I../tbb_2020.3/src -I../tbb_2020.3/src/rml/include -I../tbb_2020.3/include ../tbb_2020.3/src/tbb/recursive_mutex.cpp\n",
            "g++ -o condition_variable.o -c -MMD -O2 -g -DDO_ITT_NOTIFY -DUSE_PTHREAD -pthread -m64 -mrtm  -fPIC -flifetime-dse=1 -D__TBB_BUILD=1 -Wall -Wextra -Wno-parentheses -Wno-sized-deallocation -Wno-unknown-warning-option -Wno-deprecated-copy -Wno-missing-attributes -Wno-class-memaccess -Wno-sized-deallocation   -DTBB_SUPPRESS_DEPRECATED_MESSAGES=1 -std=c++17  -I../tbb_2020.3/src -I../tbb_2020.3/src/rml/include -I../tbb_2020.3/include ../tbb_2020.3/src/tbb/condition_variable.cpp\n",
            "g++ -o tbb_thread.o -c -MMD -O2 -g -DDO_ITT_NOTIFY -DUSE_PTHREAD -pthread -m64 -mrtm  -fPIC -flifetime-dse=1 -D__TBB_BUILD=1 -Wall -Wextra -Wno-parentheses -Wno-sized-deallocation -Wno-unknown-warning-option -Wno-deprecated-copy -Wno-missing-attributes -Wno-class-memaccess -Wno-sized-deallocation   -DTBB_SUPPRESS_DEPRECATED_MESSAGES=1 -std=c++17  -I../tbb_2020.3/src -I../tbb_2020.3/src/rml/include -I../tbb_2020.3/include ../tbb_2020.3/src/tbb/tbb_thread.cpp\n",
            "g++ -o concurrent_monitor.o -c -MMD -O2 -g -DDO_ITT_NOTIFY -DUSE_PTHREAD -pthread -m64 -mrtm  -fPIC -flifetime-dse=1 -D__TBB_BUILD=1 -Wall -Wextra -Wno-parentheses -Wno-sized-deallocation -Wno-unknown-warning-option -Wno-deprecated-copy -Wno-missing-attributes -Wno-class-memaccess -Wno-sized-deallocation   -DTBB_SUPPRESS_DEPRECATED_MESSAGES=1 -std=c++17  -I../tbb_2020.3/src -I../tbb_2020.3/src/rml/include -I../tbb_2020.3/include ../tbb_2020.3/src/tbb/concurrent_monitor.cpp\n",
            "g++ -o semaphore.o -c -MMD -O2 -g -DDO_ITT_NOTIFY -DUSE_PTHREAD -pthread -m64 -mrtm  -fPIC -flifetime-dse=1 -D__TBB_BUILD=1 -Wall -Wextra -Wno-parentheses -Wno-sized-deallocation -Wno-unknown-warning-option -Wno-deprecated-copy -Wno-missing-attributes -Wno-class-memaccess -Wno-sized-deallocation   -DTBB_SUPPRESS_DEPRECATED_MESSAGES=1 -std=c++17  -I../tbb_2020.3/src -I../tbb_2020.3/src/rml/include -I../tbb_2020.3/include ../tbb_2020.3/src/tbb/semaphore.cpp\n",
            "g++ -o private_server.o -c -MMD -O2 -g -DDO_ITT_NOTIFY -DUSE_PTHREAD -pthread -m64 -mrtm  -fPIC -flifetime-dse=1 -D__TBB_BUILD=1 -Wall -Wextra -Wno-parentheses -Wno-sized-deallocation -Wno-unknown-warning-option -Wno-deprecated-copy -Wno-missing-attributes -Wno-class-memaccess -Wno-sized-deallocation   -DTBB_SUPPRESS_DEPRECATED_MESSAGES=1 -std=c++17  -I../tbb_2020.3/src -I../tbb_2020.3/src/rml/include -I../tbb_2020.3/include ../tbb_2020.3/src/tbb/private_server.cpp\n",
            "g++ -o rml_tbb.o -c -MMD -O2 -g -DDO_ITT_NOTIFY -DUSE_PTHREAD -pthread -m64 -mrtm  -fPIC -flifetime-dse=1 -D__TBB_BUILD=1 -Wall -Wextra -Wno-parentheses -Wno-sized-deallocation -Wno-unknown-warning-option -Wno-deprecated-copy -Wno-missing-attributes -Wno-class-memaccess -Wno-sized-deallocation   -DTBB_SUPPRESS_DEPRECATED_MESSAGES=1 -std=c++17  -I../tbb_2020.3/src -I../tbb_2020.3/src/rml/include -I../tbb_2020.3/include ../tbb_2020.3/src/rml/client/rml_tbb.cpp\n",
            "sh ../tbb_2020.3/build/version_info_linux.sh g++ -O2 -g -DDO_ITT_NOTIFY -DUSE_PTHREAD -pthread -m64 -mrtm  -fPIC -flifetime-dse=1 -D__TBB_BUILD=1 -Wall -Wextra -Wno-parentheses -Wno-sized-deallocation -Wno-unknown-warning-option -Wno-deprecated-copy -Wno-missing-attributes -Wno-class-memaccess -Wno-sized-deallocation   -DTBB_SUPPRESS_DEPRECATED_MESSAGES=1 -std=c++17 -I../tbb_2020.3/src -I../tbb_2020.3/src/rml/include -I../tbb_2020.3/include -I. >version_string.ver\n",
            "g++ -o tbb_misc_ex.o -c -MMD -O2 -g -DDO_ITT_NOTIFY -DUSE_PTHREAD -pthread -m64 -mrtm  -fPIC -flifetime-dse=1 -D__TBB_BUILD=1 -Wall -Wextra -Wno-parentheses -Wno-sized-deallocation -Wno-unknown-warning-option -Wno-deprecated-copy -Wno-missing-attributes -Wno-class-memaccess -Wno-sized-deallocation   -DTBB_SUPPRESS_DEPRECATED_MESSAGES=1 -std=c++17  -I../tbb_2020.3/src -I../tbb_2020.3/src/rml/include -I../tbb_2020.3/include ../tbb_2020.3/src/tbb/tbb_misc_ex.cpp\n",
            "g++ -o task.o -c -MMD -O2 -g -DDO_ITT_NOTIFY -DUSE_PTHREAD -pthread -m64 -mrtm  -fPIC -flifetime-dse=1 -D__TBB_BUILD=1 -Wall -Wextra -Wno-parentheses -Wno-sized-deallocation -Wno-unknown-warning-option -Wno-deprecated-copy -Wno-missing-attributes -Wno-class-memaccess -Wno-sized-deallocation   -DTBB_SUPPRESS_DEPRECATED_MESSAGES=1 -std=c++17  -I../tbb_2020.3/src -I../tbb_2020.3/src/rml/include -I../tbb_2020.3/include ../tbb_2020.3/src/tbb/task.cpp\n",
            "g++ -o task_group_context.o -c -MMD -O2 -g -DDO_ITT_NOTIFY -DUSE_PTHREAD -pthread -m64 -mrtm  -fPIC -flifetime-dse=1 -D__TBB_BUILD=1 -Wall -Wextra -Wno-parentheses -Wno-sized-deallocation -Wno-unknown-warning-option -Wno-deprecated-copy -Wno-missing-attributes -Wno-class-memaccess -Wno-sized-deallocation   -DTBB_SUPPRESS_DEPRECATED_MESSAGES=1 -std=c++17  -I../tbb_2020.3/src -I../tbb_2020.3/src/rml/include -I../tbb_2020.3/include ../tbb_2020.3/src/tbb/task_group_context.cpp\n",
            "g++ -o governor.o -c -MMD -O2 -g -DDO_ITT_NOTIFY -DUSE_PTHREAD -pthread -m64 -mrtm  -fPIC -flifetime-dse=1 -D__TBB_BUILD=1 -Wall -Wextra -Wno-parentheses -Wno-sized-deallocation -Wno-unknown-warning-option -Wno-deprecated-copy -Wno-missing-attributes -Wno-class-memaccess -Wno-sized-deallocation   -DTBB_SUPPRESS_DEPRECATED_MESSAGES=1 -std=c++17  -I../tbb_2020.3/src -I../tbb_2020.3/src/rml/include -I../tbb_2020.3/include ../tbb_2020.3/src/tbb/governor.cpp\n",
            "g++ -o market.o -c -MMD -O2 -g -DDO_ITT_NOTIFY -DUSE_PTHREAD -pthread -m64 -mrtm  -fPIC -flifetime-dse=1 -D__TBB_BUILD=1 -Wall -Wextra -Wno-parentheses -Wno-sized-deallocation -Wno-unknown-warning-option -Wno-deprecated-copy -Wno-missing-attributes -Wno-class-memaccess -Wno-sized-deallocation   -DTBB_SUPPRESS_DEPRECATED_MESSAGES=1 -std=c++17  -I../tbb_2020.3/src -I../tbb_2020.3/src/rml/include -I../tbb_2020.3/include ../tbb_2020.3/src/tbb/market.cpp\n",
            "g++ -o arena.o -c -MMD -O2 -g -DDO_ITT_NOTIFY -DUSE_PTHREAD -pthread -m64 -mrtm  -fPIC -flifetime-dse=1 -D__TBB_BUILD=1 -Wall -Wextra -Wno-parentheses -Wno-sized-deallocation -Wno-unknown-warning-option -Wno-deprecated-copy -Wno-missing-attributes -Wno-class-memaccess -Wno-sized-deallocation   -DTBB_SUPPRESS_DEPRECATED_MESSAGES=1 -std=c++17  -I../tbb_2020.3/src -I../tbb_2020.3/src/rml/include -I../tbb_2020.3/include ../tbb_2020.3/src/tbb/arena.cpp\n",
            "g++ -o scheduler.o -c -MMD -O2 -g -DDO_ITT_NOTIFY -DUSE_PTHREAD -pthread -m64 -mrtm  -fPIC -flifetime-dse=1 -D__TBB_BUILD=1 -Wall -Wextra -Wno-parentheses -Wno-sized-deallocation -Wno-unknown-warning-option -Wno-deprecated-copy -Wno-missing-attributes -Wno-class-memaccess -Wno-sized-deallocation   -DTBB_SUPPRESS_DEPRECATED_MESSAGES=1 -std=c++17  -I../tbb_2020.3/src -I../tbb_2020.3/src/rml/include -I../tbb_2020.3/include ../tbb_2020.3/src/tbb/scheduler.cpp\n",
            "g++ -o observer_proxy.o -c -MMD -O2 -g -DDO_ITT_NOTIFY -DUSE_PTHREAD -pthread -m64 -mrtm  -fPIC -flifetime-dse=1 -D__TBB_BUILD=1 -Wall -Wextra -Wno-parentheses -Wno-sized-deallocation -Wno-unknown-warning-option -Wno-deprecated-copy -Wno-missing-attributes -Wno-class-memaccess -Wno-sized-deallocation   -DTBB_SUPPRESS_DEPRECATED_MESSAGES=1 -std=c++17  -I../tbb_2020.3/src -I../tbb_2020.3/src/rml/include -I../tbb_2020.3/include ../tbb_2020.3/src/tbb/observer_proxy.cpp\n",
            "g++ -o tbb_statistics.o -c -MMD -O2 -g -DDO_ITT_NOTIFY -DUSE_PTHREAD -pthread -m64 -mrtm  -fPIC -flifetime-dse=1 -D__TBB_BUILD=1 -Wall -Wextra -Wno-parentheses -Wno-sized-deallocation -Wno-unknown-warning-option -Wno-deprecated-copy -Wno-missing-attributes -Wno-class-memaccess -Wno-sized-deallocation   -DTBB_SUPPRESS_DEPRECATED_MESSAGES=1 -std=c++17  -I../tbb_2020.3/src -I../tbb_2020.3/src/rml/include -I../tbb_2020.3/include ../tbb_2020.3/src/tbb/tbb_statistics.cpp\n",
            "g++ -o tbb_main.o -c -MMD -O2 -g -DDO_ITT_NOTIFY -DUSE_PTHREAD -pthread -m64 -mrtm  -fPIC -flifetime-dse=1 -D__TBB_BUILD=1 -Wall -Wextra -Wno-parentheses -Wno-sized-deallocation -Wno-unknown-warning-option -Wno-deprecated-copy -Wno-missing-attributes -Wno-class-memaccess -Wno-sized-deallocation   -DTBB_SUPPRESS_DEPRECATED_MESSAGES=1 -std=c++17  -I../tbb_2020.3/src -I../tbb_2020.3/src/rml/include -I../tbb_2020.3/include ../tbb_2020.3/src/tbb/tbb_main.cpp\n",
            "g++ -o concurrent_vector_v2.o -c -MMD -O2 -g -DDO_ITT_NOTIFY -DUSE_PTHREAD -pthread -m64 -mrtm  -fPIC -flifetime-dse=1 -D__TBB_BUILD=1 -Wall -Wextra -Wno-parentheses -Wno-sized-deallocation -Wno-unknown-warning-option -Wno-deprecated-copy -Wno-missing-attributes -Wno-class-memaccess -Wno-sized-deallocation   -DTBB_SUPPRESS_DEPRECATED_MESSAGES=1 -std=c++17  -I../tbb_2020.3/src -I../tbb_2020.3/src/rml/include -I../tbb_2020.3/include ../tbb_2020.3/src/old/concurrent_vector_v2.cpp\n",
            "g++ -o concurrent_queue_v2.o -c -MMD -O2 -g -DDO_ITT_NOTIFY -DUSE_PTHREAD -pthread -m64 -mrtm  -fPIC -flifetime-dse=1 -D__TBB_BUILD=1 -Wall -Wextra -Wno-parentheses -Wno-sized-deallocation -Wno-unknown-warning-option -Wno-deprecated-copy -Wno-missing-attributes -Wno-class-memaccess -Wno-sized-deallocation   -DTBB_SUPPRESS_DEPRECATED_MESSAGES=1 -std=c++17  -I../tbb_2020.3/src -I../tbb_2020.3/src/rml/include -I../tbb_2020.3/include ../tbb_2020.3/src/old/concurrent_queue_v2.cpp\n",
            "g++ -o spin_rw_mutex_v2.o -c -MMD -O2 -g -DDO_ITT_NOTIFY -DUSE_PTHREAD -pthread -m64 -mrtm  -fPIC -flifetime-dse=1 -D__TBB_BUILD=1 -Wall -Wextra -Wno-parentheses -Wno-sized-deallocation -Wno-unknown-warning-option -Wno-deprecated-copy -Wno-missing-attributes -Wno-class-memaccess -Wno-sized-deallocation   -DTBB_SUPPRESS_DEPRECATED_MESSAGES=1 -std=c++17  -I../tbb_2020.3/src -I../tbb_2020.3/src/rml/include -I../tbb_2020.3/include ../tbb_2020.3/src/old/spin_rw_mutex_v2.cpp\n",
            "g++ -o task_v2.o -c -MMD -O2 -g -DDO_ITT_NOTIFY -DUSE_PTHREAD -pthread -m64 -mrtm  -fPIC -flifetime-dse=1 -D__TBB_BUILD=1 -Wall -Wextra -Wno-parentheses -Wno-sized-deallocation -Wno-unknown-warning-option -Wno-deprecated-copy -Wno-missing-attributes -Wno-class-memaccess -Wno-sized-deallocation   -DTBB_SUPPRESS_DEPRECATED_MESSAGES=1 -std=c++17  -I../tbb_2020.3/src -I../tbb_2020.3/src/rml/include -I../tbb_2020.3/include ../tbb_2020.3/src/old/task_v2.cpp\n",
            "sh ../tbb_2020.3/build/generate_tbbvars.sh\n",
            "echo \"INPUT (libtbb.so.2)\" > libtbb.so\n",
            "g++ -E -x c++ ../tbb_2020.3/src/tbb/lin64-tbb-export.def -O2 -g -DDO_ITT_NOTIFY -DUSE_PTHREAD -pthread -m64 -mrtm  -fPIC -flifetime-dse=1 -D__TBB_BUILD=1 -Wall -Wextra -Wno-parentheses -Wno-sized-deallocation -Wno-unknown-warning-option -Wno-deprecated-copy -Wno-missing-attributes -Wno-class-memaccess -Wno-sized-deallocation   -DTBB_SUPPRESS_DEPRECATED_MESSAGES=1 -I../tbb_2020.3/src -I../tbb_2020.3/src/rml/include -I../tbb_2020.3/include > tbb.def\n",
            "g++ -o tbb_misc.o -c -MMD -O2 -g -DDO_ITT_NOTIFY -DUSE_PTHREAD -pthread -m64 -mrtm  -fPIC -flifetime-dse=1 -D__TBB_BUILD=1 -Wall -Wextra -Wno-parentheses -Wno-sized-deallocation -Wno-unknown-warning-option -Wno-deprecated-copy -Wno-missing-attributes -Wno-class-memaccess -Wno-sized-deallocation   -DTBB_SUPPRESS_DEPRECATED_MESSAGES=1 -std=c++17  -I../tbb_2020.3/src -I../tbb_2020.3/src/rml/include -I../tbb_2020.3/include -I. ../tbb_2020.3/src/tbb/tbb_misc.cpp\n",
            "g++ -fPIC -o libtbb.so.2 concurrent_hash_map.o concurrent_queue.o concurrent_vector.o dynamic_link.o itt_notify.o cache_aligned_allocator.o pipeline.o queuing_mutex.o queuing_rw_mutex.o reader_writer_lock.o spin_rw_mutex.o x86_rtm_rw_mutex.o spin_mutex.o critical_section.o mutex.o recursive_mutex.o condition_variable.o tbb_thread.o concurrent_monitor.o semaphore.o private_server.o rml_tbb.o tbb_misc.o tbb_misc_ex.o task.o task_group_context.o governor.o market.o arena.o scheduler.o observer_proxy.o tbb_statistics.o tbb_main.o concurrent_vector_v2.o concurrent_queue_v2.o spin_rw_mutex_v2.o task_v2.o   -ldl -lrt -shared -Wl,-soname=libtbb.so.2 -pthread -m64 -Wl,-L,\"/root/.cmdstan/cmdstan-2.36.0/stan/lib/stan_math/lib/tbb\"   -Wl,-rpath,\"/root/.cmdstan/cmdstan-2.36.0/stan/lib/stan_math/lib/tbb\" -Wl,--version-script,tbb.def\n",
            "make[1]: Leaving directory '/root/.cmdstan/cmdstan-2.36.0/stan/lib/stan_math/lib/tbb'\n",
            "g++ -Wno-deprecated-declarations -std=c++17 -pthread -D_REENTRANT -Wno-sign-compare -Wno-ignored-attributes -Wno-class-memaccess      -I stan/lib/stan_math/lib/tbb_2020.3/include    -O3 -I src -I stan/src -I stan/lib/rapidjson_1.1.0/ -I lib/CLI11-1.9.1/ -I stan/lib/stan_math/ -I stan/lib/stan_math/lib/eigen_3.4.0 -I stan/lib/stan_math/lib/boost_1.84.0 -I stan/lib/stan_math/lib/sundials_6.1.1/include -I stan/lib/stan_math/lib/sundials_6.1.1/src/sundials    -DBOOST_DISABLE_ASSERTS               -Wl,-L,\"/root/.cmdstan/cmdstan-2.36.0/stan/lib/stan_math/lib/tbb\"   -Wl,-rpath,\"/root/.cmdstan/cmdstan-2.36.0/stan/lib/stan_math/lib/tbb\"      bin/cmdstan/stansummary.o stan/lib/stan_math/lib/tbb/libtbb.so.2       -ltbb   -o bin/stansummary\n",
            "g++ -Wno-deprecated-declarations -std=c++17 -pthread -D_REENTRANT -Wno-sign-compare -Wno-ignored-attributes -Wno-class-memaccess      -I stan/lib/stan_math/lib/tbb_2020.3/include    -O3 -I src -I stan/src -I stan/lib/rapidjson_1.1.0/ -I lib/CLI11-1.9.1/ -I stan/lib/stan_math/ -I stan/lib/stan_math/lib/eigen_3.4.0 -I stan/lib/stan_math/lib/boost_1.84.0 -I stan/lib/stan_math/lib/sundials_6.1.1/include -I stan/lib/stan_math/lib/sundials_6.1.1/src/sundials    -DBOOST_DISABLE_ASSERTS               -Wl,-L,\"/root/.cmdstan/cmdstan-2.36.0/stan/lib/stan_math/lib/tbb\"   -Wl,-rpath,\"/root/.cmdstan/cmdstan-2.36.0/stan/lib/stan_math/lib/tbb\"      bin/cmdstan/print.o stan/lib/stan_math/lib/tbb/libtbb.so.2       -ltbb   -o bin/print\n",
            "g++ -Wno-deprecated-declarations -std=c++17 -pthread -D_REENTRANT -Wno-sign-compare -Wno-ignored-attributes -Wno-class-memaccess      -I stan/lib/stan_math/lib/tbb_2020.3/include    -O3 -I src -I stan/src -I stan/lib/rapidjson_1.1.0/ -I lib/CLI11-1.9.1/ -I stan/lib/stan_math/ -I stan/lib/stan_math/lib/eigen_3.4.0 -I stan/lib/stan_math/lib/boost_1.84.0 -I stan/lib/stan_math/lib/sundials_6.1.1/include -I stan/lib/stan_math/lib/sundials_6.1.1/src/sundials    -DBOOST_DISABLE_ASSERTS               -Wl,-L,\"/root/.cmdstan/cmdstan-2.36.0/stan/lib/stan_math/lib/tbb\"   -Wl,-rpath,\"/root/.cmdstan/cmdstan-2.36.0/stan/lib/stan_math/lib/tbb\"      bin/cmdstan/diagnose.o stan/lib/stan_math/lib/tbb/libtbb.so.2       -ltbb   -o bin/diagnose\n",
            "\n",
            "--- CmdStan v2.36.0 built ---\n",
            "g++ -Wno-deprecated-declarations -std=c++17 -pthread -D_REENTRANT -Wno-sign-compare -Wno-ignored-attributes -Wno-class-memaccess      -I stan/lib/stan_math/lib/tbb_2020.3/include    -O3 -I src -I stan/src -I stan/lib/rapidjson_1.1.0/ -I lib/CLI11-1.9.1/ -I stan/lib/stan_math/ -I stan/lib/stan_math/lib/eigen_3.4.0 -I stan/lib/stan_math/lib/boost_1.84.0 -I stan/lib/stan_math/lib/sundials_6.1.1/include -I stan/lib/stan_math/lib/sundials_6.1.1/src/sundials    -DBOOST_DISABLE_ASSERTS          -c -MT src/cmdstan/main.o -MM -E -MG -MP -MF src/cmdstan/main.d src/cmdstan/main.cpp\n",
            "g++ -Wno-deprecated-declarations -std=c++17 -pthread -D_REENTRANT -Wno-sign-compare -Wno-ignored-attributes -Wno-class-memaccess      -I stan/lib/stan_math/lib/tbb_2020.3/include    -O3 -I src -I stan/src -I stan/lib/rapidjson_1.1.0/ -I lib/CLI11-1.9.1/ -I stan/lib/stan_math/ -I stan/lib/stan_math/lib/eigen_3.4.0 -I stan/lib/stan_math/lib/boost_1.84.0 -I stan/lib/stan_math/lib/sundials_6.1.1/include -I stan/lib/stan_math/lib/sundials_6.1.1/src/sundials    -DBOOST_DISABLE_ASSERTS          -c -MT stan/src/stan/model/model_header.hpp.gch/model_header_11_4.hpp.gch -M -E -MG -MP -MF stan/src/stan/model/model_header.hpp.gch/model_header_11_4.d stan/src/stan/model/model_header.hpp\n",
            "\n",
            "--- Translating Stan model to C++ code ---\n",
            "bin/stanc  --o=examples/bernoulli/bernoulli.hpp examples/bernoulli/bernoulli.stan\n",
            "\n",
            "--- Compiling C++ code ---\n",
            "g++ -Wno-deprecated-declarations -std=c++17 -pthread -D_REENTRANT -Wno-sign-compare -Wno-ignored-attributes -Wno-class-memaccess      -I stan/lib/stan_math/lib/tbb_2020.3/include    -O3 -I src -I stan/src -I stan/lib/rapidjson_1.1.0/ -I lib/CLI11-1.9.1/ -I stan/lib/stan_math/ -I stan/lib/stan_math/lib/eigen_3.4.0 -I stan/lib/stan_math/lib/boost_1.84.0 -I stan/lib/stan_math/lib/sundials_6.1.1/include -I stan/lib/stan_math/lib/sundials_6.1.1/src/sundials    -DBOOST_DISABLE_ASSERTS          -c -Wno-ignored-attributes   -x c++ -o examples/bernoulli/bernoulli.o examples/bernoulli/bernoulli.hpp\n",
            "\n",
            "--- Linking model ---\n",
            "g++ -Wno-deprecated-declarations -std=c++17 -pthread -D_REENTRANT -Wno-sign-compare -Wno-ignored-attributes -Wno-class-memaccess      -I stan/lib/stan_math/lib/tbb_2020.3/include    -O3 -I src -I stan/src -I stan/lib/rapidjson_1.1.0/ -I lib/CLI11-1.9.1/ -I stan/lib/stan_math/ -I stan/lib/stan_math/lib/eigen_3.4.0 -I stan/lib/stan_math/lib/boost_1.84.0 -I stan/lib/stan_math/lib/sundials_6.1.1/include -I stan/lib/stan_math/lib/sundials_6.1.1/src/sundials    -DBOOST_DISABLE_ASSERTS               -Wl,-L,\"/root/.cmdstan/cmdstan-2.36.0/stan/lib/stan_math/lib/tbb\"   -Wl,-rpath,\"/root/.cmdstan/cmdstan-2.36.0/stan/lib/stan_math/lib/tbb\"      examples/bernoulli/bernoulli.o src/cmdstan/main.o       -ltbb   stan/lib/stan_math/lib/sundials_6.1.1/lib/libsundials_nvecserial.a stan/lib/stan_math/lib/sundials_6.1.1/lib/libsundials_cvodes.a stan/lib/stan_math/lib/sundials_6.1.1/lib/libsundials_idas.a stan/lib/stan_math/lib/sundials_6.1.1/lib/libsundials_kinsol.a  stan/lib/stan_math/lib/tbb/libtbb.so.2 -o examples/bernoulli/bernoulli\n",
            "rm examples/bernoulli/bernoulli.o examples/bernoulli/bernoulli.hpp\n"
          ]
        },
        {
          "output_type": "stream",
          "name": "stderr",
          "text": [
            "* Finished installing CmdStan to /root/.cmdstan/cmdstan-2.36.0\n",
            "\n",
            "\n",
            "CmdStan path set to: /root/.cmdstan/cmdstan-2.36.0\n",
            "\n",
            "CmdStan path set to: /root/.cmdstan/cmdstan-2.36.0\n",
            "\n"
          ]
        },
        {
          "output_type": "display_data",
          "data": {
            "text/html": [
              "'2.36.0'"
            ],
            "text/markdown": "'2.36.0'",
            "text/latex": "'2.36.0'",
            "text/plain": [
              "[1] \"2.36.0\""
            ]
          },
          "metadata": {}
        }
      ]
    },
    {
      "cell_type": "code",
      "source": [
        "# Install necessary packages\n",
        "install.packages(c(\"coda\", \"mvtnorm\", \"devtools\", \"loo\", \"dagitty\", \"shape\"))\n",
        "\n",
        "# Load devtools for GitHub installation\n",
        "library(devtools)\n",
        "\n",
        "# Install rethinking from GitHub\n",
        "devtools::install_github(\"rmcelreath/rethinking\")\n"
      ],
      "metadata": {
        "colab": {
          "base_uri": "https://localhost:8080/"
        },
        "id": "rd9jkYG4WyyR",
        "outputId": "5edd7207-3711-4b04-b85d-59db92449cbf"
      },
      "execution_count": 4,
      "outputs": [
        {
          "output_type": "stream",
          "name": "stderr",
          "text": [
            "Installing packages into ‘/usr/local/lib/R/site-library’\n",
            "(as ‘lib’ is unspecified)\n",
            "\n",
            "also installing the dependency ‘V8’\n",
            "\n",
            "\n",
            "Loading required package: usethis\n",
            "\n",
            "Downloading GitHub repo rmcelreath/rethinking@HEAD\n",
            "\n"
          ]
        },
        {
          "output_type": "stream",
          "name": "stdout",
          "text": [
            "\n",
            "\u001b[36m──\u001b[39m \u001b[36mR CMD build\u001b[39m \u001b[36m─────────────────────────────────────────────────────────────────\u001b[39m\n",
            "* checking for file ‘/tmp/RtmpdYT4HS/remotes1a837a39ad1/rmcelreath-rethinking-ac1b3b2/DESCRIPTION’ ... OK\n",
            "* preparing ‘rethinking’:\n",
            "* checking DESCRIPTION meta-information ... OK\n",
            "* checking for LF line-endings in source and make files and shell scripts\n",
            "* checking for empty or unneeded directories\n",
            "* looking to see if a ‘data/datalist’ file should be added\n",
            "* building ‘rethinking_2.42.tar.gz’\n",
            "\n"
          ]
        },
        {
          "output_type": "stream",
          "name": "stderr",
          "text": [
            "Installing package into ‘/usr/local/lib/R/site-library’\n",
            "(as ‘lib’ is unspecified)\n",
            "\n"
          ]
        }
      ]
    },
    {
      "cell_type": "code",
      "source": [
        "library(rethinking)"
      ],
      "metadata": {
        "id": "76h8LgPcYq2E",
        "colab": {
          "base_uri": "https://localhost:8080/"
        },
        "outputId": "6a3af556-f142-431c-8f1a-16094640025e"
      },
      "execution_count": 5,
      "outputs": [
        {
          "output_type": "stream",
          "name": "stderr",
          "text": [
            "Loading required package: posterior\n",
            "\n",
            "This is posterior version 1.6.0\n",
            "\n",
            "\n",
            "Attaching package: ‘posterior’\n",
            "\n",
            "\n",
            "The following objects are masked from ‘package:stats’:\n",
            "\n",
            "    mad, sd, var\n",
            "\n",
            "\n",
            "The following objects are masked from ‘package:base’:\n",
            "\n",
            "    %in%, match\n",
            "\n",
            "\n",
            "Loading required package: parallel\n",
            "\n",
            "rethinking (Version 2.42)\n",
            "\n",
            "\n",
            "Attaching package: ‘rethinking’\n",
            "\n",
            "\n",
            "The following object is masked from ‘package:stats’:\n",
            "\n",
            "    rstudent\n",
            "\n",
            "\n"
          ]
        }
      ]
    },
    {
      "cell_type": "code",
      "source": [
        "# Test Installation\n",
        "\n",
        "## Simulate some data for a binary outcome based on a single predictor\n",
        "n <- 100\n",
        "x <- rnorm(n)\n",
        "prob <- 1 / (1 + exp(-x))\n",
        "y <- rbinom(n, 1, prob)\n",
        "\n",
        "## Fit a logistic regression using ulam\n",
        "fit <- ulam(\n",
        "  alist(\n",
        "    y ~ bernoulli( p ),\n",
        "    logit(p) <- a + b*x,\n",
        "    a ~ normal(0, 1),\n",
        "    b ~ normal(0, 1)\n",
        "  ), data = list(x = x, y = y)\n",
        ")\n",
        "\n",
        "precis(fit)"
      ],
      "metadata": {
        "colab": {
          "base_uri": "https://localhost:8080/",
          "height": 429
        },
        "id": "AK1-F_d0ZIFf",
        "outputId": "e98a22a6-1648-4b21-fe73-131612a395cc"
      },
      "execution_count": 6,
      "outputs": [
        {
          "output_type": "stream",
          "name": "stdout",
          "text": [
            "Running MCMC with 1 chain, with 1 thread(s) per chain...\n",
            "\n",
            "Chain 1 Iteration:   1 / 1000 [  0%]  (Warmup) \n",
            "Chain 1 Iteration: 100 / 1000 [ 10%]  (Warmup) \n",
            "Chain 1 Iteration: 200 / 1000 [ 20%]  (Warmup) \n",
            "Chain 1 Iteration: 300 / 1000 [ 30%]  (Warmup) \n",
            "Chain 1 Iteration: 400 / 1000 [ 40%]  (Warmup) \n",
            "Chain 1 Iteration: 500 / 1000 [ 50%]  (Warmup) \n",
            "Chain 1 Iteration: 501 / 1000 [ 50%]  (Sampling) \n",
            "Chain 1 Iteration: 600 / 1000 [ 60%]  (Sampling) \n",
            "Chain 1 Iteration: 700 / 1000 [ 70%]  (Sampling) \n",
            "Chain 1 Iteration: 800 / 1000 [ 80%]  (Sampling) \n",
            "Chain 1 Iteration: 900 / 1000 [ 90%]  (Sampling) \n",
            "Chain 1 Iteration: 1000 / 1000 [100%]  (Sampling) \n",
            "Chain 1 finished in 0.0 seconds.\n"
          ]
        },
        {
          "output_type": "display_data",
          "data": {
            "text/html": [
              "<table class=\"dataframe\">\n",
              "<caption>A precis: 2 × 6</caption>\n",
              "<thead>\n",
              "\t<tr><th></th><th scope=col>mean</th><th scope=col>sd</th><th scope=col>5.5%</th><th scope=col>94.5%</th><th scope=col>rhat</th><th scope=col>ess_bulk</th></tr>\n",
              "\t<tr><th></th><th scope=col>&lt;dbl&gt;</th><th scope=col>&lt;dbl&gt;</th><th scope=col>&lt;dbl&gt;</th><th scope=col>&lt;dbl&gt;</th><th scope=col>&lt;dbl&gt;</th><th scope=col>&lt;dbl&gt;</th></tr>\n",
              "</thead>\n",
              "<tbody>\n",
              "\t<tr><th scope=row>a</th><td>-0.1089547</td><td>0.2153253</td><td>-0.4344166</td><td>0.2237697</td><td>1.001092</td><td>281.6113</td></tr>\n",
              "\t<tr><th scope=row>b</th><td> 0.8520932</td><td>0.2481956</td><td> 0.4583229</td><td>1.2435820</td><td>1.000572</td><td>426.1925</td></tr>\n",
              "</tbody>\n",
              "</table>\n"
            ],
            "text/markdown": "\nA precis: 2 × 6\n\n| <!--/--> | mean &lt;dbl&gt; | sd &lt;dbl&gt; | 5.5% &lt;dbl&gt; | 94.5% &lt;dbl&gt; | rhat &lt;dbl&gt; | ess_bulk &lt;dbl&gt; |\n|---|---|---|---|---|---|---|\n| a | -0.1089547 | 0.2153253 | -0.4344166 | 0.2237697 | 1.001092 | 281.6113 |\n| b |  0.8520932 | 0.2481956 |  0.4583229 | 1.2435820 | 1.000572 | 426.1925 |\n\n",
            "text/latex": "A precis: 2 × 6\n\\begin{tabular}{r|llllll}\n  & mean & sd & 5.5\\% & 94.5\\% & rhat & ess\\_bulk\\\\\n  & <dbl> & <dbl> & <dbl> & <dbl> & <dbl> & <dbl>\\\\\n\\hline\n\ta & -0.1089547 & 0.2153253 & -0.4344166 & 0.2237697 & 1.001092 & 281.6113\\\\\n\tb &  0.8520932 & 0.2481956 &  0.4583229 & 1.2435820 & 1.000572 & 426.1925\\\\\n\\end{tabular}\n",
            "text/plain": [
              "  mean       sd        5.5%       94.5%     rhat     ess_bulk\n",
              "a -0.1089547 0.2153253 -0.4344166 0.2237697 1.001092 281.6113\n",
              "b  0.8520932 0.2481956  0.4583229 1.2435820 1.000572 426.1925"
            ]
          },
          "metadata": {}
        }
      ]
    },
    {
      "cell_type": "markdown",
      "source": [
        "# Introduction\n",
        "Here, we'll build a model of sleep in rodents.  We'll start with a basic model, that uses some assumptions that are less than ideal, then iterate on the model with some complexities that should make it a better model for sleep.  \n",
        "\n",
        "First, some important facts about sleep and sleep in rodents:\n",
        "*   In a lab envrionment, rodents usually live in a light-controlled environment; the lights on are for 12 consecutive hours and then off for 12 consecutive hours.  Thus, each 24-h day consists of a *Light* phase and a *Dark* phase.\n",
        "*   There are 2 basic vigilance states, WAKE and SLEEP.  Within SLEEP, there are 2 basic types, rapid-eye-movement sleep (REMS) and non-REMS (NREMS).  NREMS usually makes up about 80-90% of sleep, while REMS makes up the remainder.\n",
        "*   Sleep is a rhythmic behavior.  Over the course of a day, rodents exhibit both WAKE and SLEEP, including NREMS and REMS, throughout the entire day.  However, they are **nocturnal**, which means that most of their sleep occurs during the Light phase.  Within each 12-h phase, smaller rhythms are present.  For instance, the propensity for SLEEP may rise and fall over 3-h and 6-h periods.\n",
        "*  REMS is usually all but absent in the beginning of a 12-h phase, but becomes more prevalent towards the end."
      ],
      "metadata": {
        "id": "at4LgnpGFkMl"
      }
    },
    {
      "cell_type": "markdown",
      "source": [
        "# The Data\n",
        "Before we can model, we need to create some data.  We'll imagine 2 groups of rats: one group received an injection of a substance *S* that we think may affect sleep, and the other group only received a placebo injection  (Later, instead of groups, we'll imagine that each rat is treated with both placebo and substance S).\n",
        "\n",
        "DISCLAIMER: Sleep is a very complex and architectured process.  The data created here will only account for some basic features of that complex architecture.  "
      ],
      "metadata": {
        "id": "-5Nf2TZ_I23M"
      }
    },
    {
      "cell_type": "code",
      "source": [
        "n_A <- 10 # Number of rats in Group A\n",
        "n_B <- 10 # Number of rats in Group B\n",
        "\n",
        "NREMS_A <- data.frame(#\"Blk0\" = rep(0, n_A),\n",
        "                      \"Blk1\" = rgamma(n = n_A, shape=144, rate=2.4) * (1/21), # 1h NREMS in 0-6h\n",
        "                      \"Blk2\" = rgamma(n = n_A, shape=144, rate=2.4) * (2/21),\n",
        "                      \"Blk3\" = rgamma(n = n_A, shape=144, rate=2.4) * (3/21),\n",
        "                      \"Blk4\" = rgamma(n = n_A, shape=144, rate=2.4) * (4/21),\n",
        "                      \"Blk5\" = rgamma(n = n_A, shape=144, rate=2.4) * (5/21),\n",
        "                      \"Blk6\" = rgamma(n = n_A, shape=144, rate=2.4) * (6/21),\n",
        "\n",
        "                      \"Blk7\" = rgamma(n=n_A, shape=576, rate=4.8) * (1/21), # 2h NREMS in 6-12h\n",
        "                      \"Blk8\" = rgamma(n=n_A, shape=576, rate=4.8) * (2/21),\n",
        "                      \"Blk9\" = rgamma(n=n_A, shape=576, rate=4.8) * (3/21),\n",
        "                      \"Blk10\" = rgamma(n=n_A, shape=576, rate=4.8) * (4/21),\n",
        "                      \"Blk11\" = rgamma(n=n_A, shape=576, rate=4.8) * (5/21),\n",
        "                      \"Blk12\" = rgamma(n=n_A, shape=576, rate=4.8) * (6/21),\n",
        "\n",
        "                      \"Blk13\" = rgamma(n=n_A, shape=1296, rate=7.2) * 6/21, # 3h NREMS in 12-18h\n",
        "                      \"Blk14\" = rgamma(n=n_A, shape=1296, rate=7.2) * 5/21,\n",
        "                      \"Blk15\" = rgamma(n=n_A, shape=1296, rate=7.2) * 4/21,\n",
        "                      \"Blk16\" = rgamma(n=n_A, shape=1296, rate=7.2) * 3/21,\n",
        "                      \"Blk17\" = rgamma(n=n_A, shape=1296, rate=7.2) * 2/21,\n",
        "                      \"Blk18\" = rgamma(n=n_A, shape=1296, rate=7.2) * 1/21,\n",
        "\n",
        "                      \"Blk19\" = rgamma(n=n_A, shape=900, rate=6.0) * (6/21), # 2.5h NREMS in 18-24h\n",
        "                      \"Blk20\" = rgamma(n=n_A, shape=900, rate=6.0) * (5/21),\n",
        "                      \"Blk21\" = rgamma(n=n_A, shape=900, rate=6.0) * (4/21),\n",
        "                      \"Blk22\" = rgamma(n=n_A, shape=900, rate=6.0) * (3/21),\n",
        "                      \"Blk23\" = rgamma(n=n_A, shape=900, rate=6.0) * (2/21),\n",
        "                      \"Blk24\" = rgamma(n=n_A, shape=900, rate=6.0) * (1/21))\n",
        "\n",
        "REMS_A <- data.frame(\"Blk1\" = (60 - NREMS_A$Blk1)*.01,\n",
        "                     \"Blk2\" = (60 - NREMS_A$Blk1)*.01,\n",
        "                     \"Blk3\" = (60 - NREMS_A$Blk1)*.01,\n",
        "                     \"Blk4\" = (60 - NREMS_A$Blk1)*.01,\n",
        "                     \"Blk5\" = (60 - NREMS_A$Blk1)*.01,\n",
        "                     \"Blk6\" = (60 - NREMS_A$Blk1)*.01,\n",
        "\n",
        "                     \"Blk7\" = (60 - NREMS_A$Blk1)*.05,\n",
        "                     \"Blk8\" = (60 - NREMS_A$Blk1)*.05,\n",
        "                     \"Blk9\" = (60 - NREMS_A$Blk1)*.05,\n",
        "                     \"Blk10\" = (60 - NREMS_A$Blk1)*.05,\n",
        "                     \"Blk11\" = (60 - NREMS_A$Blk1)*.05,\n",
        "                     \"Blk12\" = (60 - NREMS_A$Blk1)*.05,\n",
        "\n",
        "                     \"Blk13\" = (60 - NREMS_A$Blk1)*.05,\n",
        "                     \"Blk14\" = (60 - NREMS_A$Blk1)*.05,\n",
        "                     \"Blk15\" = (60 - NREMS_A$Blk1)*.05,\n",
        "                     \"Blk16\" = (60 - NREMS_A$Blk1)*.05,\n",
        "                     \"Blk17\" = (60 - NREMS_A$Blk1)*.05,\n",
        "                     \"Blk18\" = (60 - NREMS_A$Blk1)*.05,\n",
        "\n",
        "                     \"Blk19\" = (60 - NREMS_A$Blk1)*.1,\n",
        "                     \"Blk20\" = (60 - NREMS_A$Blk1)*.1,\n",
        "                     \"Blk21\" = (60 - NREMS_A$Blk1)*.1,\n",
        "                     \"Blk22\" = (60 - NREMS_A$Blk1)*.1,\n",
        "                     \"Blk23\" = (60 - NREMS_A$Blk1)*.1,\n",
        "                     \"Blk24\" = (60 - NREMS_A$Blk1)*.1)\n",
        "\n",
        "\n",
        "NREMS_B <- data.frame(#\"Blk0\" = rep(0, n_B),\n",
        "                      \"Blk1\" = (rgamma(n = n_B, shape=144, rate=2.4) + rnorm(n=n_B, mean=30, sd=6)) * (1/21), # Similar to NREMS_A, but with the effect of S added\n",
        "                      \"Blk2\" = (rgamma(n = n_B, shape=144, rate=2.4) + rnorm(n=n_B, mean=30, sd=6)) * (2/21),\n",
        "                      \"Blk3\" = (rgamma(n = n_B, shape=144, rate=2.4) + rnorm(n=n_B, mean=30, sd=6)) * (3/21),\n",
        "                      \"Blk4\" = (rgamma(n = n_B, shape=144, rate=2.4) + rnorm(n=n_B, mean=30, sd=6)) * (4/21),\n",
        "                      \"Blk5\" = (rgamma(n = n_B, shape=144, rate=2.4) + rnorm(n=n_B, mean=30, sd=6)) * (5/21),\n",
        "                      \"Blk6\" = (rgamma(n = n_B, shape=144, rate=2.4) + rnorm(n=n_B, mean=30, sd=6)) * (6/21),\n",
        "\n",
        "                      \"Blk7\" = (rgamma(n=n_B, shape=576, rate=4.8) + rnorm(n=n_B, mean=20, sd=5)) * (1/21),\n",
        "                      \"Blk8\" = (rgamma(n=n_B, shape=576, rate=4.8) + rnorm(n=n_B, mean=20, sd=5)) * (2/21),\n",
        "                      \"Blk9\" = (rgamma(n=n_B, shape=576, rate=4.8) + rnorm(n=n_B, mean=20, sd=5)) * (3/21),\n",
        "                      \"Blk10\" = (rgamma(n=n_B, shape=576, rate=4.8) + rnorm(n=n_B, mean=20, sd=5)) * (4/21),\n",
        "                      \"Blk11\" = (rgamma(n=n_B, shape=576, rate=4.8) + rnorm(n=n_B, mean=20, sd=5)) * (5/21),\n",
        "                      \"Blk12\" = (rgamma(n=n_B, shape=576, rate=4.8) + rnorm(n=n_B, mean=20, sd=5)) * (6/21),\n",
        "\n",
        "                      \"Blk13\" = (rgamma(n=n_B, shape=1296, rate=7.2) + rnorm(n=n_B, mean=10, sd=4)) * (6/21),\n",
        "                      \"Blk14\" = (rgamma(n=n_B, shape=1296, rate=7.2) + rnorm(n=n_B, mean=10, sd=4)) * (5/21),\n",
        "                      \"Blk15\" = (rgamma(n=n_B, shape=1296, rate=7.2) + rnorm(n=n_B, mean=10, sd=4)) * (4/21),\n",
        "                      \"Blk16\" = (rgamma(n=n_B, shape=1296, rate=7.2) + rnorm(n=n_B, mean=10, sd=4)) * (3/21),\n",
        "                      \"Blk17\" = (rgamma(n=n_B, shape=1296, rate=7.2) + rnorm(n=n_B, mean=10, sd=4)) * (2/21),\n",
        "                      \"Blk18\" = (rgamma(n=n_B, shape=1296, rate=7.2) + rnorm(n=n_B, mean=10, sd=4)) * (1/21),\n",
        "\n",
        "                      \"Blk19\" = (rgamma(n=n_B, shape=900, rate=6.0) + rnorm(n=n_B, mean=5, sd=3)) * (6/21),\n",
        "                      \"Blk20\" = (rgamma(n=n_B, shape=900, rate=6.0) + rnorm(n=n_B, mean=5, sd=3)) * (5/21),\n",
        "                      \"Blk21\" = (rgamma(n=n_B, shape=900, rate=6.0) + rnorm(n=n_B, mean=5, sd=3)) * (4/21),\n",
        "                      \"Blk22\" = (rgamma(n=n_B, shape=900, rate=6.0) + rnorm(n=n_B, mean=5, sd=3)) * (3/21),\n",
        "                      \"Blk23\" = (rgamma(n=n_B, shape=900, rate=6.0) + rnorm(n=n_B, mean=5, sd=3)) * (2/21),\n",
        "                      \"Blk24\" = (rgamma(n=n_B, shape=900, rate=6.0) + rnorm(n=n_B, mean=5, sd=3)) * (1/21))\n",
        "\n",
        "REMS_B <- data.frame(\"Blk1\" = (60 - NREMS_B$Blk1)*.01,\n",
        "                     \"Blk2\" = (60 - NREMS_B$Blk1)*.01,\n",
        "                     \"Blk3\" = (60 - NREMS_B$Blk1)*.01,\n",
        "                     \"Blk4\" = (60 - NREMS_B$Blk1)*.01,\n",
        "                     \"Blk5\" = (60 - NREMS_B$Blk1)*.01,\n",
        "                     \"Blk6\" = (60 - NREMS_B$Blk1)*.01,\n",
        "\n",
        "                     \"Blk7\" = (60 - NREMS_B$Blk1)*.05,\n",
        "                     \"Blk8\" = (60 - NREMS_B$Blk1)*.05,\n",
        "                     \"Blk9\" = (60 - NREMS_B$Blk1)*.05,\n",
        "                     \"Blk10\" = (60 - NREMS_B$Blk1)*.05,\n",
        "                     \"Blk11\" = (60 - NREMS_B$Blk1)*.05,\n",
        "                     \"Blk12\" = (60 - NREMS_B$Blk1)*.05,\n",
        "\n",
        "                     \"Blk13\" = (60 - NREMS_B$Blk1)*.05,\n",
        "                     \"Blk14\" = (60 - NREMS_B$Blk1)*.05,\n",
        "                     \"Blk15\" = (60 - NREMS_B$Blk1)*.05,\n",
        "                     \"Blk16\" = (60 - NREMS_B$Blk1)*.05,\n",
        "                     \"Blk17\" = (60 - NREMS_B$Blk1)*.05,\n",
        "                     \"Blk18\" = (60 - NREMS_B$Blk1)*.05,\n",
        "\n",
        "                     \"Blk19\" = (60 - NREMS_B$Blk1)*.1,\n",
        "                     \"Blk20\" = (60 - NREMS_B$Blk1)*.1,\n",
        "                     \"Blk21\" = (60 - NREMS_B$Blk1)*.1,\n",
        "                     \"Blk22\" = (60 - NREMS_B$Blk1)*.1,\n",
        "                     \"Blk23\" = (60 - NREMS_B$Blk1)*.1,\n",
        "                     \"Blk24\" = (60 - NREMS_B$Blk1)*.1)\n",
        "\n",
        "m_NREMS <- length(NREMS_A) # number of measurements for NREMS.\n",
        "m_REMS <- length(REMS_A) # number of measurements for REMS."
      ],
      "metadata": {
        "id": "s5G7UMLaJSn8"
      },
      "execution_count": 7,
      "outputs": []
    },
    {
      "cell_type": "markdown",
      "source": [
        "So we have NREMS and REMS for both groups of rats for each of 24 consecutive hours.  In the first part of this project, we'll focus primarily on NREMS.\n",
        "\n",
        "There's something weird with this type of data.  For each time block, the amount of NREMS represented in that data point has been accumulated over the preceeding time block.  So even though the data is discrete like this:"
      ],
      "metadata": {
        "id": "K6KLFKzVYKEN"
      }
    },
    {
      "cell_type": "code",
      "source": [
        "plot(colMeans(NREMS_A), ylim=c(0,60), xlim=c(0,24), col=\"blue\", xlab=\"Time (hr)\", ylab=\"NREMS (min/hr)\")\n",
        "points(colMeans(NREMS_B), col=\"red\")"
      ],
      "metadata": {
        "id": "ikobVqF5e7ao",
        "colab": {
          "base_uri": "https://localhost:8080/",
          "height": 437
        },
        "outputId": "a2976478-d42c-4924-c8b3-7b432876f3b8"
      },
      "execution_count": 8,
      "outputs": [
        {
          "output_type": "display_data",
          "data": {
            "text/plain": [
              "plot without title"
            ],
            "image/png": "[encoded data removed]"
          },
          "metadata": {
            "image/png": {
              "width": 420,
              "height": 420
            }
          }
        }
      ]
    },
    {
      "cell_type": "markdown",
      "source": [
        "It's often thought about and presented as a continuous function like this:"
      ],
      "metadata": {
        "id": "RIuGhkAgfGCd"
      }
    },
    {
      "cell_type": "code",
      "source": [
        "plot(colMeans(NREMS_A), type=\"l\", ylim=c(0,60), xlim=c(0,24), col=\"blue\", xlab=\"Time (hr)\", ylab=\"NREMS (min/hr)\")\n",
        "lines(colMeans(NREMS_B), col=\"red\")"
      ],
      "metadata": {
        "id": "6UVTlmVJXZXR",
        "colab": {
          "base_uri": "https://localhost:8080/",
          "height": 437
        },
        "outputId": "f5dad82d-fb85-44f9-b818-24a5c69bc6b9"
      },
      "execution_count": 9,
      "outputs": [
        {
          "output_type": "display_data",
          "data": {
            "text/plain": [
              "plot without title"
            ],
            "image/png": "[encoded data removed]"
          },
          "metadata": {
            "image/png": {
              "width": 420,
              "height": 420
            }
          }
        }
      ]
    },
    {
      "cell_type": "markdown",
      "source": [
        "But in this case, we're forced to think about the y-axis value of a line as being something like \"NREMS *propensity*\".  Why? Take any 2 points along a curve, say 13 hr 0 min and 13 h 1 min; this representation would say that some 100 minutes of NREMS accumulated in 1 min...which is nonsensical.  So let's put this on a scale that fixes this, by working with accumulated NREMS."
      ],
      "metadata": {
        "id": "yqMdeV9TemTS"
      }
    },
    {
      "cell_type": "code",
      "source": [
        "NREMS_A_cuml <- NREMS_A\n",
        "for(i in 2:ncol(NREMS_A)) {\n",
        "  NREMS_A_cuml[,i] <- NREMS_A_cuml[,i] + NREMS_A_cuml[,i-1]\n",
        "}\n",
        "\n",
        "REMS_A_cuml <- REMS_A\n",
        "for(i in 2:ncol(REMS_A)) {\n",
        "  REMS_A_cuml[,i] <- REMS_A_cuml[,i] + REMS_A_cuml[,i-1]\n",
        "}\n",
        "\n",
        "NREMS_B_cuml <- NREMS_B\n",
        "for(i in 2:ncol(NREMS_B)) {\n",
        "  NREMS_B_cuml[,i] <- NREMS_B_cuml[,i] + NREMS_B_cuml[,i-1]\n",
        "}\n",
        "\n",
        "REMS_B_cuml <- REMS_B\n",
        "for(i in 2:ncol(REMS_B)) {\n",
        "  REMS_B_cuml[,i] <- REMS_B_cuml[,i] + REMS_B_cuml[,i-1]\n",
        "}"
      ],
      "metadata": {
        "id": "vWQM6ruvP7lI"
      },
      "execution_count": 10,
      "outputs": []
    },
    {
      "cell_type": "markdown",
      "source": [
        "Now it makes sense to treat NREMS as a continuous function."
      ],
      "metadata": {
        "id": "gqeiE0ZMhYSa"
      }
    },
    {
      "cell_type": "code",
      "source": [
        "plot(colMeans(NREMS_A_cuml), type=\"l\", ylim=c(0,1440), xlim=c(0,24), col=\"blue\", xlab=\"Time (hr)\", ylab=\"NREMS (min)\")\n",
        "lines(colMeans(NREMS_B_cuml), col=\"red\")\n",
        "abline(a=0, b=1440/24)"
      ],
      "metadata": {
        "id": "hO9x3uu5hkKm",
        "colab": {
          "base_uri": "https://localhost:8080/",
          "height": 437
        },
        "outputId": "845d0490-0f01-4dd6-8f91-228bd30e5373"
      },
      "execution_count": 11,
      "outputs": [
        {
          "output_type": "display_data",
          "data": {
            "text/plain": [
              "plot without title"
            ],
            "image/png": "[encoded data removed]"
          },
          "metadata": {
            "image/png": {
              "width": 420,
              "height": 420
            }
          }
        }
      ]
    },
    {
      "cell_type": "markdown",
      "source": [
        "(the black diagnol line represents the total time elapsed).\n",
        "\n",
        "Now, the difference between any two timepoints *does* represent accumualted NREMS."
      ],
      "metadata": {
        "id": "x4SKEn5khzBP"
      }
    },
    {
      "cell_type": "markdown",
      "source": [
        "Now I'm just going to repackage the data into a convenient-to-use dataframe."
      ],
      "metadata": {
        "id": "fbejo_4th9oX"
      }
    },
    {
      "cell_type": "code",
      "source": [
        "TotalPreviousSleep_A <- as.numeric(unlist(cbind(0, NREMS_A_cuml[,1:23])) + unlist(cbind(0, REMS_A_cuml[,1:23])))\n",
        "TotalPreviousSleep_B <- as.numeric(unlist(cbind(0, NREMS_B_cuml[,1:23])) + unlist(cbind(0, REMS_B_cuml[,1:23])))\n",
        "\n",
        "Sleep_All <- data.frame(\"Subject\" = rep(LETTERS[1:n_A], 2*m_NREMS),\n",
        "                        \"NREMS\" = c(as.numeric(unlist(NREMS_A_cuml)), as.numeric(unlist(NREMS_B_cuml))),\n",
        "                        \"REMS\" = c(as.numeric(unlist(REMS_A_cuml)), as.numeric(unlist(REMS_B_cuml))),\n",
        "                        \"TotalPreviousSleep\" = c(TotalPreviousSleep_A, TotalPreviousSleep_B),\n",
        "                        \"Group\" = c(rep(\"A\", (m_NREMS)*n_A), c(rep(\"B\", (m_NREMS)*n_B))),\n",
        "                        \"Block\" = c(rep(1:24, each=n_A), c(rep(1:24, each=n_B))))\n",
        "\n",
        "Sleep_All$treatment <- ifelse(test = Sleep_All$Group==\"A\",\n",
        "                              yes = FALSE,\n",
        "                              no = TRUE)\n",
        "Sleep_All$minute <- Sleep_All$Block*60\n",
        "\n",
        "head(Sleep_All)"
      ],
      "metadata": {
        "id": "qrORo7qRM-L2",
        "colab": {
          "base_uri": "https://localhost:8080/",
          "height": 286
        },
        "outputId": "9fa9867e-796b-49e1-e348-9b7fcef02b53"
      },
      "execution_count": 12,
      "outputs": [
        {
          "output_type": "display_data",
          "data": {
            "text/html": [
              "<table class=\"dataframe\">\n",
              "<caption>A data.frame: 6 × 8</caption>\n",
              "<thead>\n",
              "\t<tr><th></th><th scope=col>Subject</th><th scope=col>NREMS</th><th scope=col>REMS</th><th scope=col>TotalPreviousSleep</th><th scope=col>Group</th><th scope=col>Block</th><th scope=col>treatment</th><th scope=col>minute</th></tr>\n",
              "\t<tr><th></th><th scope=col>&lt;chr&gt;</th><th scope=col>&lt;dbl&gt;</th><th scope=col>&lt;dbl&gt;</th><th scope=col>&lt;dbl&gt;</th><th scope=col>&lt;chr&gt;</th><th scope=col>&lt;int&gt;</th><th scope=col>&lt;lgl&gt;</th><th scope=col>&lt;dbl&gt;</th></tr>\n",
              "</thead>\n",
              "<tbody>\n",
              "\t<tr><th scope=row>1</th><td>A</td><td>2.886033</td><td>0.5711397</td><td>0</td><td>A</td><td>1</td><td>FALSE</td><td>60</td></tr>\n",
              "\t<tr><th scope=row>2</th><td>B</td><td>2.783822</td><td>0.5721618</td><td>0</td><td>A</td><td>1</td><td>FALSE</td><td>60</td></tr>\n",
              "\t<tr><th scope=row>3</th><td>C</td><td>3.008518</td><td>0.5699148</td><td>0</td><td>A</td><td>1</td><td>FALSE</td><td>60</td></tr>\n",
              "\t<tr><th scope=row>4</th><td>D</td><td>2.644544</td><td>0.5735546</td><td>0</td><td>A</td><td>1</td><td>FALSE</td><td>60</td></tr>\n",
              "\t<tr><th scope=row>5</th><td>E</td><td>2.907779</td><td>0.5709222</td><td>0</td><td>A</td><td>1</td><td>FALSE</td><td>60</td></tr>\n",
              "\t<tr><th scope=row>6</th><td>F</td><td>2.408271</td><td>0.5759173</td><td>0</td><td>A</td><td>1</td><td>FALSE</td><td>60</td></tr>\n",
              "</tbody>\n",
              "</table>\n"
            ],
            "text/markdown": "\nA data.frame: 6 × 8\n\n| <!--/--> | Subject &lt;chr&gt; | NREMS &lt;dbl&gt; | REMS &lt;dbl&gt; | TotalPreviousSleep &lt;dbl&gt; | Group &lt;chr&gt; | Block &lt;int&gt; | treatment &lt;lgl&gt; | minute &lt;dbl&gt; |\n|---|---|---|---|---|---|---|---|---|\n| 1 | A | 2.886033 | 0.5711397 | 0 | A | 1 | FALSE | 60 |\n| 2 | B | 2.783822 | 0.5721618 | 0 | A | 1 | FALSE | 60 |\n| 3 | C | 3.008518 | 0.5699148 | 0 | A | 1 | FALSE | 60 |\n| 4 | D | 2.644544 | 0.5735546 | 0 | A | 1 | FALSE | 60 |\n| 5 | E | 2.907779 | 0.5709222 | 0 | A | 1 | FALSE | 60 |\n| 6 | F | 2.408271 | 0.5759173 | 0 | A | 1 | FALSE | 60 |\n\n",
            "text/latex": "A data.frame: 6 × 8\n\\begin{tabular}{r|llllllll}\n  & Subject & NREMS & REMS & TotalPreviousSleep & Group & Block & treatment & minute\\\\\n  & <chr> & <dbl> & <dbl> & <dbl> & <chr> & <int> & <lgl> & <dbl>\\\\\n\\hline\n\t1 & A & 2.886033 & 0.5711397 & 0 & A & 1 & FALSE & 60\\\\\n\t2 & B & 2.783822 & 0.5721618 & 0 & A & 1 & FALSE & 60\\\\\n\t3 & C & 3.008518 & 0.5699148 & 0 & A & 1 & FALSE & 60\\\\\n\t4 & D & 2.644544 & 0.5735546 & 0 & A & 1 & FALSE & 60\\\\\n\t5 & E & 2.907779 & 0.5709222 & 0 & A & 1 & FALSE & 60\\\\\n\t6 & F & 2.408271 & 0.5759173 & 0 & A & 1 & FALSE & 60\\\\\n\\end{tabular}\n",
            "text/plain": [
              "  Subject NREMS    REMS      TotalPreviousSleep Group Block treatment minute\n",
              "1 A       2.886033 0.5711397 0                  A     1     FALSE     60    \n",
              "2 B       2.783822 0.5721618 0                  A     1     FALSE     60    \n",
              "3 C       3.008518 0.5699148 0                  A     1     FALSE     60    \n",
              "4 D       2.644544 0.5735546 0                  A     1     FALSE     60    \n",
              "5 E       2.907779 0.5709222 0                  A     1     FALSE     60    \n",
              "6 F       2.408271 0.5759173 0                  A     1     FALSE     60    "
            ]
          },
          "metadata": {}
        }
      ]
    },
    {
      "cell_type": "markdown",
      "source": [
        "# The Models"
      ],
      "metadata": {
        "id": "CJ4Bd_L6UCq-"
      }
    },
    {
      "cell_type": "markdown",
      "source": [
        "## Model 1\n",
        "We'll start by modeling only NREMS.  We'll assume that NREMS is normally distributed.  This is not a great assumption, and we'll change it in later iterations, but it'll help get us started.\n",
        "\n",
        "Since NREMS follows a type of continuous rhythm throughout the day, we'll first use splines to model it."
      ],
      "metadata": {
        "id": "VqM3xWI-IOSY"
      }
    },
    {
      "cell_type": "code",
      "source": [
        "knot_list <- c(360, 720, 1080)\n",
        "num_knots <- length(knot_list)\n",
        "knot_degree <- 3"
      ],
      "metadata": {
        "id": "hEbTS-mmNLZ1"
      },
      "execution_count": 13,
      "outputs": []
    },
    {
      "cell_type": "code",
      "source": [
        "library(splines)\n",
        "\n",
        "B <- bs(unique(Sleep_All$minute),\n",
        "        knots=knot_list,\n",
        "        degree=knot_degree,\n",
        "        intercept=TRUE)\n",
        "\n",
        "str(B)\n",
        "head(B, 10)\n",
        "\n",
        "cols <- c(\"red\", \"yellow\", \"green\", \"blue\", \"purple\", \"orange\", \"black\")\n",
        "plot(NULL, xlim=c(0, 1440), ylim=c(0,1), xlab=\"Time\", ylab=\"basis\")\n",
        "for(i in 1:(ncol(B))){\n",
        " lines(unique(Sleep_All$minute), B[,i], col=cols[i])\n",
        "}"
      ],
      "metadata": {
        "id": "fdJ0x-nNNSzi",
        "colab": {
          "base_uri": "https://localhost:8080/",
          "height": 943
        },
        "outputId": "30e17e75-6c16-4c88-81a4-d6d5fbce2525"
      },
      "execution_count": 14,
      "outputs": [
        {
          "output_type": "stream",
          "name": "stdout",
          "text": [
            " 'bs' num [1:24, 1:7] 1 0.512 0.216 0.064 0.008 0 0 0 0 0 ...\n",
            " - attr(*, \"dimnames\")=List of 2\n",
            "  ..$ : NULL\n",
            "  ..$ : chr [1:7] \"1\" \"2\" \"3\" \"4\" ...\n",
            " - attr(*, \"degree\")= int 3\n",
            " - attr(*, \"knots\")= num [1:3] 360 720 1080\n",
            " - attr(*, \"Boundary.knots\")= num [1:2] 60 1440\n",
            " - attr(*, \"intercept\")= logi TRUE\n"
          ]
        },
        {
          "output_type": "display_data",
          "data": {
            "text/html": [
              "<table class=\"dataframe\">\n",
              "<caption>A matrix: 10 × 7 of type dbl</caption>\n",
              "<thead>\n",
              "\t<tr><th scope=col>1</th><th scope=col>2</th><th scope=col>3</th><th scope=col>4</th><th scope=col>5</th><th scope=col>6</th><th scope=col>7</th></tr>\n",
              "</thead>\n",
              "<tbody>\n",
              "\t<tr><td>1.000</td><td>0.00000000</td><td>0.00000000</td><td>0.000000000</td><td>0.0000000000</td><td>0</td><td>0</td></tr>\n",
              "\t<tr><td>0.512</td><td>0.43874380</td><td>0.04818668</td><td>0.001069519</td><td>0.0000000000</td><td>0</td><td>0</td></tr>\n",
              "\t<tr><td>0.216</td><td>0.60813223</td><td>0.16731162</td><td>0.008556150</td><td>0.0000000000</td><td>0</td><td>0</td></tr>\n",
              "\t<tr><td>0.064</td><td>0.58790083</td><td>0.31922217</td><td>0.028877005</td><td>0.0000000000</td><td>0</td><td>0</td></tr>\n",
              "\t<tr><td>0.008</td><td>0.45778512</td><td>0.46576568</td><td>0.068449198</td><td>0.0000000000</td><td>0</td><td>0</td></tr>\n",
              "\t<tr><td>0.000</td><td>0.29752066</td><td>0.56878950</td><td>0.133689840</td><td>0.0000000000</td><td>0</td><td>0</td></tr>\n",
              "\t<tr><td>0.000</td><td>0.17217631</td><td>0.59958543</td><td>0.227466660</td><td>0.0007716049</td><td>0</td><td>0</td></tr>\n",
              "\t<tr><td>0.000</td><td>0.08815427</td><td>0.56722303</td><td>0.338449858</td><td>0.0061728395</td><td>0</td><td>0</td></tr>\n",
              "\t<tr><td>0.000</td><td>0.03719008</td><td>0.49021633</td><td>0.451760250</td><td>0.0208333333</td><td>0</td><td>0</td></tr>\n",
              "\t<tr><td>0.000</td><td>0.01101928</td><td>0.38707935</td><td>0.552518651</td><td>0.0493827160</td><td>0</td><td>0</td></tr>\n",
              "</tbody>\n",
              "</table>\n"
            ],
            "text/markdown": "\nA matrix: 10 × 7 of type dbl\n\n| 1 | 2 | 3 | 4 | 5 | 6 | 7 |\n|---|---|---|---|---|---|---|\n| 1.000 | 0.00000000 | 0.00000000 | 0.000000000 | 0.0000000000 | 0 | 0 |\n| 0.512 | 0.43874380 | 0.04818668 | 0.001069519 | 0.0000000000 | 0 | 0 |\n| 0.216 | 0.60813223 | 0.16731162 | 0.008556150 | 0.0000000000 | 0 | 0 |\n| 0.064 | 0.58790083 | 0.31922217 | 0.028877005 | 0.0000000000 | 0 | 0 |\n| 0.008 | 0.45778512 | 0.46576568 | 0.068449198 | 0.0000000000 | 0 | 0 |\n| 0.000 | 0.29752066 | 0.56878950 | 0.133689840 | 0.0000000000 | 0 | 0 |\n| 0.000 | 0.17217631 | 0.59958543 | 0.227466660 | 0.0007716049 | 0 | 0 |\n| 0.000 | 0.08815427 | 0.56722303 | 0.338449858 | 0.0061728395 | 0 | 0 |\n| 0.000 | 0.03719008 | 0.49021633 | 0.451760250 | 0.0208333333 | 0 | 0 |\n| 0.000 | 0.01101928 | 0.38707935 | 0.552518651 | 0.0493827160 | 0 | 0 |\n\n",
            "text/latex": "A matrix: 10 × 7 of type dbl\n\\begin{tabular}{lllllll}\n 1 & 2 & 3 & 4 & 5 & 6 & 7\\\\\n\\hline\n\t 1.000 & 0.00000000 & 0.00000000 & 0.000000000 & 0.0000000000 & 0 & 0\\\\\n\t 0.512 & 0.43874380 & 0.04818668 & 0.001069519 & 0.0000000000 & 0 & 0\\\\\n\t 0.216 & 0.60813223 & 0.16731162 & 0.008556150 & 0.0000000000 & 0 & 0\\\\\n\t 0.064 & 0.58790083 & 0.31922217 & 0.028877005 & 0.0000000000 & 0 & 0\\\\\n\t 0.008 & 0.45778512 & 0.46576568 & 0.068449198 & 0.0000000000 & 0 & 0\\\\\n\t 0.000 & 0.29752066 & 0.56878950 & 0.133689840 & 0.0000000000 & 0 & 0\\\\\n\t 0.000 & 0.17217631 & 0.59958543 & 0.227466660 & 0.0007716049 & 0 & 0\\\\\n\t 0.000 & 0.08815427 & 0.56722303 & 0.338449858 & 0.0061728395 & 0 & 0\\\\\n\t 0.000 & 0.03719008 & 0.49021633 & 0.451760250 & 0.0208333333 & 0 & 0\\\\\n\t 0.000 & 0.01101928 & 0.38707935 & 0.552518651 & 0.0493827160 & 0 & 0\\\\\n\\end{tabular}\n",
            "text/plain": [
              "      1     2          3          4           5            6 7\n",
              " [1,] 1.000 0.00000000 0.00000000 0.000000000 0.0000000000 0 0\n",
              " [2,] 0.512 0.43874380 0.04818668 0.001069519 0.0000000000 0 0\n",
              " [3,] 0.216 0.60813223 0.16731162 0.008556150 0.0000000000 0 0\n",
              " [4,] 0.064 0.58790083 0.31922217 0.028877005 0.0000000000 0 0\n",
              " [5,] 0.008 0.45778512 0.46576568 0.068449198 0.0000000000 0 0\n",
              " [6,] 0.000 0.29752066 0.56878950 0.133689840 0.0000000000 0 0\n",
              " [7,] 0.000 0.17217631 0.59958543 0.227466660 0.0007716049 0 0\n",
              " [8,] 0.000 0.08815427 0.56722303 0.338449858 0.0061728395 0 0\n",
              " [9,] 0.000 0.03719008 0.49021633 0.451760250 0.0208333333 0 0\n",
              "[10,] 0.000 0.01101928 0.38707935 0.552518651 0.0493827160 0 0"
            ]
          },
          "metadata": {}
        },
        {
          "output_type": "display_data",
          "data": {
            "text/plain": [
              "plot without title"
            ],
            "image/png": "[encoded data removed]"
          },
          "metadata": {
            "image/png": {
              "width": 420,
              "height": 420
            }
          }
        }
      ]
    },
    {
      "cell_type": "code",
      "source": [
        "B1 <- B[,1]\n",
        "B2 <- B[,2]\n",
        "B3 <- B[,3]\n",
        "B4 <- B[,4]\n",
        "B5 <- B[,5]\n",
        "B6 <- B[,6]\n",
        "B7 <- B[,7]\n",
        "\n",
        "NREMS_model_1 <- quap(\n",
        "  alist(\n",
        "    NREMS ~ dnorm(mu, sigma),\n",
        "      mu <- #a[treatment] +\n",
        "            b_time[treatment]*time + # provides a time-dependent intercept\n",
        "            #B1*w1[treatment] +\n",
        "            #B2*w2[treatment] +\n",
        "            B3*w3[treatment] +\n",
        "            B4*w4[treatment] +\n",
        "            B5*w5[treatment] +\n",
        "            #B6*w6[treatment] +\n",
        "            B7*w7[treatment],\n",
        "        #a[treatment] <- b_time[treatment]*time,\n",
        "          b_time[treatment] ~ dnorm(30, 10),\n",
        "        #w1[treatment] ~ dnorm(30, 10),\n",
        "        #w2[treatment] ~ dnorm(30, 10),\n",
        "        w3[treatment] ~ dnorm(30, 10),\n",
        "        w4[treatment] ~ dnorm(30, 10),\n",
        "        w5[treatment] ~ dnorm(30, 10),\n",
        "        #w6[treatment] ~ dnorm(30, 10),\n",
        "        w7[treatment] ~ dnorm(30, 10),\n",
        "        #w8[treatment] ~ dnorm(30, 10),\n",
        "        #w9[treatment] ~ dnorm(30, 10),\n",
        "      sigma ~ dexp(1)\n",
        "  ), data=list(NREMS=Sleep_All$NREMS,\n",
        "               treatment=as.integer(Sleep_All$treatment)+1,\n",
        "               time=Sleep_All$Block,\n",
        "               B3=B3, B4=B4, B5=B5, B7=B7),\n",
        "     start=list(w3=1, w4=1, w5=1, w7=1)\n",
        ")\n",
        "\n",
        "precis(NREMS_model_1, depth=2)"
      ],
      "metadata": {
        "id": "PuSFMwzDjmJp",
        "colab": {
          "base_uri": "https://localhost:8080/",
          "height": 443
        },
        "outputId": "e65e7a92-1428-41da-d9c0-b5e545d71799"
      },
      "execution_count": 15,
      "outputs": [
        {
          "output_type": "display_data",
          "data": {
            "text/html": [
              "<table class=\"dataframe\">\n",
              "<caption>A precis: 11 × 4</caption>\n",
              "<thead>\n",
              "\t<tr><th></th><th scope=col>mean</th><th scope=col>sd</th><th scope=col>5.5%</th><th scope=col>94.5%</th></tr>\n",
              "\t<tr><th></th><th scope=col>&lt;dbl&gt;</th><th scope=col>&lt;dbl&gt;</th><th scope=col>&lt;dbl&gt;</th><th scope=col>&lt;dbl&gt;</th></tr>\n",
              "</thead>\n",
              "<tbody>\n",
              "\t<tr><th scope=row>w3[1]</th><td> -7.548860</td><td>8.1084109</td><td>-20.507667</td><td> 5.4099467</td></tr>\n",
              "\t<tr><th scope=row>w3[2]</th><td> -5.025796</td><td>8.0857886</td><td>-17.948448</td><td> 7.8968556</td></tr>\n",
              "\t<tr><th scope=row>w4[1]</th><td>-12.568195</td><td>7.6549633</td><td>-24.802305</td><td>-0.3340854</td></tr>\n",
              "\t<tr><th scope=row>w4[2]</th><td>-11.006979</td><td>7.6505505</td><td>-23.234036</td><td> 1.2200783</td></tr>\n",
              "\t<tr><th scope=row>w5[1]</th><td> -7.577740</td><td>8.1636457</td><td>-20.624823</td><td> 5.4693424</td></tr>\n",
              "\t<tr><th scope=row>w5[2]</th><td> -5.591870</td><td>8.1456210</td><td>-18.610146</td><td> 7.4264055</td></tr>\n",
              "\t<tr><th scope=row>w7[1]</th><td>  4.038119</td><td>7.9887654</td><td> -8.729471</td><td>16.8057090</td></tr>\n",
              "\t<tr><th scope=row>w7[2]</th><td>  4.608214</td><td>7.9807654</td><td> -8.146591</td><td>17.3630186</td></tr>\n",
              "\t<tr><th scope=row>b_time[1]</th><td> 20.193089</td><td>0.2682035</td><td> 19.764448</td><td>20.6217297</td></tr>\n",
              "\t<tr><th scope=row>b_time[2]</th><td> 23.657660</td><td>0.2675470</td><td> 23.230068</td><td>24.0852514</td></tr>\n",
              "\t<tr><th scope=row>sigma</th><td> 44.059317</td><td>1.5121374</td><td> 41.642629</td><td>46.4760045</td></tr>\n",
              "</tbody>\n",
              "</table>\n"
            ],
            "text/markdown": "\nA precis: 11 × 4\n\n| <!--/--> | mean &lt;dbl&gt; | sd &lt;dbl&gt; | 5.5% &lt;dbl&gt; | 94.5% &lt;dbl&gt; |\n|---|---|---|---|---|\n| w3[1] |  -7.548860 | 8.1084109 | -20.507667 |  5.4099467 |\n| w3[2] |  -5.025796 | 8.0857886 | -17.948448 |  7.8968556 |\n| w4[1] | -12.568195 | 7.6549633 | -24.802305 | -0.3340854 |\n| w4[2] | -11.006979 | 7.6505505 | -23.234036 |  1.2200783 |\n| w5[1] |  -7.577740 | 8.1636457 | -20.624823 |  5.4693424 |\n| w5[2] |  -5.591870 | 8.1456210 | -18.610146 |  7.4264055 |\n| w7[1] |   4.038119 | 7.9887654 |  -8.729471 | 16.8057090 |\n| w7[2] |   4.608214 | 7.9807654 |  -8.146591 | 17.3630186 |\n| b_time[1] |  20.193089 | 0.2682035 |  19.764448 | 20.6217297 |\n| b_time[2] |  23.657660 | 0.2675470 |  23.230068 | 24.0852514 |\n| sigma |  44.059317 | 1.5121374 |  41.642629 | 46.4760045 |\n\n",
            "text/latex": "A precis: 11 × 4\n\\begin{tabular}{r|llll}\n  & mean & sd & 5.5\\% & 94.5\\%\\\\\n  & <dbl> & <dbl> & <dbl> & <dbl>\\\\\n\\hline\n\tw3{[}1{]} &  -7.548860 & 8.1084109 & -20.507667 &  5.4099467\\\\\n\tw3{[}2{]} &  -5.025796 & 8.0857886 & -17.948448 &  7.8968556\\\\\n\tw4{[}1{]} & -12.568195 & 7.6549633 & -24.802305 & -0.3340854\\\\\n\tw4{[}2{]} & -11.006979 & 7.6505505 & -23.234036 &  1.2200783\\\\\n\tw5{[}1{]} &  -7.577740 & 8.1636457 & -20.624823 &  5.4693424\\\\\n\tw5{[}2{]} &  -5.591870 & 8.1456210 & -18.610146 &  7.4264055\\\\\n\tw7{[}1{]} &   4.038119 & 7.9887654 &  -8.729471 & 16.8057090\\\\\n\tw7{[}2{]} &   4.608214 & 7.9807654 &  -8.146591 & 17.3630186\\\\\n\tb\\_time{[}1{]} &  20.193089 & 0.2682035 &  19.764448 & 20.6217297\\\\\n\tb\\_time{[}2{]} &  23.657660 & 0.2675470 &  23.230068 & 24.0852514\\\\\n\tsigma &  44.059317 & 1.5121374 &  41.642629 & 46.4760045\\\\\n\\end{tabular}\n",
            "text/plain": [
              "          mean       sd        5.5%       94.5%     \n",
              "w3[1]      -7.548860 8.1084109 -20.507667  5.4099467\n",
              "w3[2]      -5.025796 8.0857886 -17.948448  7.8968556\n",
              "w4[1]     -12.568195 7.6549633 -24.802305 -0.3340854\n",
              "w4[2]     -11.006979 7.6505505 -23.234036  1.2200783\n",
              "w5[1]      -7.577740 8.1636457 -20.624823  5.4693424\n",
              "w5[2]      -5.591870 8.1456210 -18.610146  7.4264055\n",
              "w7[1]       4.038119 7.9887654  -8.729471 16.8057090\n",
              "w7[2]       4.608214 7.9807654  -8.146591 17.3630186\n",
              "b_time[1]  20.193089 0.2682035  19.764448 20.6217297\n",
              "b_time[2]  23.657660 0.2675470  23.230068 24.0852514\n",
              "sigma      44.059317 1.5121374  41.642629 46.4760045"
            ]
          },
          "metadata": {}
        }
      ]
    },
    {
      "cell_type": "code",
      "source": [
        "post <- extract.samples(NREMS_model_1)\n",
        "str(post)"
      ],
      "metadata": {
        "id": "lPIjSTR5YgDg",
        "colab": {
          "base_uri": "https://localhost:8080/"
        },
        "outputId": "ee4b9dd0-f267-48c7-8f0c-590f80eb33b3"
      },
      "execution_count": 16,
      "outputs": [
        {
          "output_type": "stream",
          "name": "stdout",
          "text": [
            "List of 6\n",
            " $ sigma : num [1:10000] 43.8 46.1 41.1 42.8 44.3 ...\n",
            " $ w3    : num [1:10000, 1:2] -2.84 4.61 -10.02 -6.93 -9.25 ...\n",
            " $ w4    : num [1:10000, 1:2] -7.34 -9.62 -7.2 -17.77 -7.37 ...\n",
            " $ w5    : num [1:10000, 1:2] 7.54 -8.76 -14.43 2.36 2.69 ...\n",
            " $ w7    : num [1:10000, 1:2] 2.242 8.107 6.302 9.622 0.637 ...\n",
            " $ b_time: num [1:10000, 1:2] 20.2 20 20.1 20 20 ...\n",
            " - attr(*, \"source\")= chr \"quap posterior: 10000 samples from NREMS_model_1\"\n"
          ]
        }
      ]
    },
    {
      "cell_type": "code",
      "source": [
        "post$a_ctrl <- matrix(data=NA,\n",
        "                      nrow=nrow(post$b_time),\n",
        "                      ncol=m_NREMS)\n",
        "post$a_trt <- matrix(data=NA,\n",
        "                     nrow=nrow(post$b_time),\n",
        "                     ncol=m_NREMS)\n",
        "for(block in 1:m_NREMS){\n",
        "  post$a_ctrl[,block] <- block * post$b_time[,1]\n",
        "  post$a_trt[,block] <- block * post$b_time[,2]\n",
        "}"
      ],
      "metadata": {
        "id": "-xzlQ8Zkd6my"
      },
      "execution_count": 17,
      "outputs": []
    },
    {
      "cell_type": "code",
      "source": [
        "cols <- c(\"red\", \"yellow\", \"green\", \"blue\", \"purple\", \"orange\", \"black\")\n",
        "Bs <- c(3,4,5,7)\n",
        "\n",
        "par(mfrow=c(1,2))\n",
        "plot(NULL, xlim=c(0, 1440), ylim=c(0,1), xlab=\"Time\", ylab=\"basis\")\n",
        "  for(i in Bs){\n",
        "    lines(unique(Sleep_All$minute), B[,i], col=cols[i])\n",
        "  }\n",
        "plot(NULL, xlim=c(0, 1440), ylim=c(0,1), xlab=\"Time\", ylab=\"basis\")\n",
        "  for(i in Bs){\n",
        "    lines(unique(Sleep_All$minute), B[,i], col=cols[i])\n",
        "  }\n",
        "\n",
        "par(mfrow=c(1,2))\n",
        "plot(B3*mean(post$w3[,1]), type=\"l\", col=cols[3], ylim=c(-10,10), xlab=\"Time\", ylab=\"basis * weight\")\n",
        "  lines(B4*mean(post$w4[,1]), col=cols[4])\n",
        "  lines(B5*mean(post$w5[,1]), col=cols[5])\n",
        "  lines(B7*mean(post$w7[,1]), col=cols[7])\n",
        "plot(B3*mean(post$w3[,2]), type=\"l\", col=cols[3], ylim=c(-10,10), xlab=\"Time\", ylab=\"basis * weight\")\n",
        "  lines(B4*mean(post$w4[,2]), col=cols[4])\n",
        "  lines(B5*mean(post$w5[,2]), col=cols[5])\n",
        "  lines(B7*mean(post$w7[,2]), col=cols[7])\n",
        "\n",
        "plot(colMeans(post$a_ctrl) +\n",
        "     B3*mean(post$w3[,1]) +\n",
        "     B4*mean(post$w4[,1]) +\n",
        "     B5*mean(post$w5[,1]) +\n",
        "     B7*mean(post$w7[,1]),\n",
        "     col=\"blue\", type=\"l\", ylim=c(0, 600), xlab=\"Time\", ylab=\"NREMS (min)\")\n",
        "lines(colMeans(post$a_trt) +\n",
        "      B3*mean(post$w3[,2]) +\n",
        "      B4*mean(post$w4[,2]) +\n",
        "      B5*mean(post$w5[,2]) +\n",
        "      B7*mean(post$w7[,2]), col=\"red\")\n",
        "points(colMeans(NREMS_A_cuml), col=\"blue\")\n",
        "points(colMeans(NREMS_B_cuml), col=\"red\")\n"
      ],
      "metadata": {
        "id": "s8E1QRySecRh",
        "colab": {
          "base_uri": "https://localhost:8080/",
          "height": 1000
        },
        "outputId": "0406e431-8806-42b4-c53f-144c09b5a2c9"
      },
      "execution_count": 18,
      "outputs": [
        {
          "output_type": "display_data",
          "data": {
            "text/plain": [
              "plot without title"
            ],
            "image/png": "[encoded data removed]"
          },
          "metadata": {
            "image/png": {
              "width": 420,
              "height": 420
            }
          }
        },
        {
          "output_type": "display_data",
          "data": {
            "text/plain": [
              "plot without title"
            ],
            "image/png": "[encoded data removed]"
          },
          "metadata": {
            "image/png": {
              "width": 420,
              "height": 420
            }
          }
        },
        {
          "output_type": "display_data",
          "data": {
            "text/plain": [
              "plot without title"
            ],
            "image/png": "[encoded data removed]"
          },
          "metadata": {
            "image/png": {
              "width": 420,
              "height": 420
            }
          }
        }
      ]
    },
    {
      "cell_type": "markdown",
      "source": [
        "These splines don't seem to fit the data very well.  Let's try something different."
      ],
      "metadata": {
        "id": "wUYmaqNIk_gg"
      }
    },
    {
      "cell_type": "markdown",
      "source": [
        "## Model 2"
      ],
      "metadata": {
        "id": "q-8PaVvgfQxN"
      }
    },
    {
      "cell_type": "markdown",
      "source": [
        "Recall that splines provide a set of *basis* values, and the model determines how to grow/shrink those value to best fit the data.  The problem with our last model was that these basis values were not great.  What if we used a similar method but used different basis values?\n",
        "\n",
        "Recall that sleep occurs in cycles.  We can represent cycles over time with sine (or cosine) waves.  So let's use sine waves of different frequencies as our basis this time."
      ],
      "metadata": {
        "id": "rIzG9YGzlNIk"
      }
    },
    {
      "cell_type": "code",
      "source": [
        "sine24 <- sin(2*pi/24*Sleep_All$Block)\n",
        "sine12 <- sin(2*pi/12*Sleep_All$Block)\n",
        "sine6 <- sin(2*pi/6*Sleep_All$Block)\n",
        "sine3 <- sin(2*pi/3*Sleep_All$Block)\n",
        "sine1_5 <- sin(2*pi/1.5*Sleep_All$Block)\n",
        "sine0_75 <- sin(2*pi/0.75*Sleep_All$Block)"
      ],
      "metadata": {
        "id": "-eqE9-m-fQcJ"
      },
      "execution_count": 19,
      "outputs": []
    },
    {
      "cell_type": "code",
      "source": [
        "NREMS_model_2 <- quap(\n",
        "  alist(\n",
        "    NREMS ~ dnorm(mu, sigma),\n",
        "      mu <- b_time[treatment]*time +\n",
        "            b24[treatment]*sine24 +\n",
        "            b12[treatment]*sine12 +\n",
        "            b6[treatment]*sine6 +\n",
        "            b3[treatment]*sine3 +\n",
        "            b1_5[treatment]*sine1_5 +\n",
        "            b0_75[treatment]*sine0_5,\n",
        "              b_time[treatment] ~ dnorm(30, 10),\n",
        "              b24[treatment] ~ dnorm(0, 20),\n",
        "              b12[treatment] ~ dnorm(0, 20),\n",
        "              b6[treatment] ~ dnorm(0, 20),\n",
        "              b3[treatment] ~ dnorm(0, 20),\n",
        "              b1_5[treatment] ~ dnorm(0, 20),\n",
        "              b0_75[treatment] ~ dnorm(0, 20),\n",
        "      sigma ~ dexp(1)\n",
        "  ), data=list(NREMS=Sleep_All$NREMS,\n",
        "               treatment=as.integer(Sleep_All$treatment)+1,\n",
        "               time=Sleep_All$Block,\n",
        "               TotalPreviousSleep=Sleep_All$TotalPreviousSleep,\n",
        "               sine24=sine24, sine12=sine12, sine6=sine6, sine3=sine3, sine1_5=sine1_5, sine0_5=sine0_75)\n",
        ")\n",
        "\n",
        "precis(NREMS_model_2, depth=2)"
      ],
      "metadata": {
        "id": "VxoeHerzoPaf",
        "colab": {
          "base_uri": "https://localhost:8080/",
          "height": 568
        },
        "outputId": "6bc99206-133f-4217-f1cc-9c83e35698f4"
      },
      "execution_count": 20,
      "outputs": [
        {
          "output_type": "display_data",
          "data": {
            "text/html": [
              "<table class=\"dataframe\">\n",
              "<caption>A precis: 15 × 4</caption>\n",
              "<thead>\n",
              "\t<tr><th></th><th scope=col>mean</th><th scope=col>sd</th><th scope=col>5.5%</th><th scope=col>94.5%</th></tr>\n",
              "\t<tr><th></th><th scope=col>&lt;dbl&gt;</th><th scope=col>&lt;dbl&gt;</th><th scope=col>&lt;dbl&gt;</th><th scope=col>&lt;dbl&gt;</th></tr>\n",
              "</thead>\n",
              "<tbody>\n",
              "\t<tr><th scope=row>b_time[1]</th><td> 18.6866815</td><td> 0.1328927</td><td> 18.474293</td><td> 18.8990697</td></tr>\n",
              "\t<tr><th scope=row>b_time[2]</th><td> 22.2878594</td><td> 0.1328916</td><td> 22.075473</td><td> 22.5002457</td></tr>\n",
              "\t<tr><th scope=row>b24[1]</th><td>-59.8443617</td><td> 2.6105069</td><td>-64.016456</td><td>-55.6722675</td></tr>\n",
              "\t<tr><th scope=row>b24[2]</th><td>-57.8845084</td><td> 2.6104435</td><td>-62.056501</td><td>-53.7125155</td></tr>\n",
              "\t<tr><th scope=row>b12[1]</th><td> -4.5077328</td><td> 2.4617315</td><td> -8.442055</td><td> -0.5734103</td></tr>\n",
              "\t<tr><th scope=row>b12[2]</th><td> -2.4920277</td><td> 2.4617231</td><td> -6.426337</td><td>  1.4422813</td></tr>\n",
              "\t<tr><th scope=row>b6[1]</th><td> -4.2690709</td><td> 2.4233595</td><td> -8.142067</td><td> -0.3960744</td></tr>\n",
              "\t<tr><th scope=row>b6[2]</th><td> -3.1470483</td><td> 2.4233567</td><td> -7.020040</td><td>  0.7259437</td></tr>\n",
              "\t<tr><th scope=row>b3[1]</th><td> -0.4880387</td><td>16.3501460</td><td>-26.618730</td><td> 25.6426525</td></tr>\n",
              "\t<tr><th scope=row>b3[2]</th><td> -0.3725968</td><td>16.3497789</td><td>-26.502701</td><td> 25.7575077</td></tr>\n",
              "\t<tr><th scope=row>b1_5[1]</th><td>  0.4871808</td><td>16.3497769</td><td>-25.642920</td><td> 26.6172820</td></tr>\n",
              "\t<tr><th scope=row>b1_5[2]</th><td>  0.3723039</td><td>16.3499605</td><td>-25.758091</td><td> 26.5026986</td></tr>\n",
              "\t<tr><th scope=row>b0_75[1]</th><td> -0.4868586</td><td>16.3497770</td><td>-26.616960</td><td> 25.6432429</td></tr>\n",
              "\t<tr><th scope=row>b0_75[2]</th><td> -0.3727593</td><td>16.3499605</td><td>-26.503154</td><td> 25.7576353</td></tr>\n",
              "\t<tr><th scope=row>sigma</th><td> 26.6243997</td><td> 0.8261289</td><td> 25.304086</td><td> 27.9447132</td></tr>\n",
              "</tbody>\n",
              "</table>\n"
            ],
            "text/markdown": "\nA precis: 15 × 4\n\n| <!--/--> | mean &lt;dbl&gt; | sd &lt;dbl&gt; | 5.5% &lt;dbl&gt; | 94.5% &lt;dbl&gt; |\n|---|---|---|---|---|\n| b_time[1] |  18.6866815 |  0.1328927 |  18.474293 |  18.8990697 |\n| b_time[2] |  22.2878594 |  0.1328916 |  22.075473 |  22.5002457 |\n| b24[1] | -59.8443617 |  2.6105069 | -64.016456 | -55.6722675 |\n| b24[2] | -57.8845084 |  2.6104435 | -62.056501 | -53.7125155 |\n| b12[1] |  -4.5077328 |  2.4617315 |  -8.442055 |  -0.5734103 |\n| b12[2] |  -2.4920277 |  2.4617231 |  -6.426337 |   1.4422813 |\n| b6[1] |  -4.2690709 |  2.4233595 |  -8.142067 |  -0.3960744 |\n| b6[2] |  -3.1470483 |  2.4233567 |  -7.020040 |   0.7259437 |\n| b3[1] |  -0.4880387 | 16.3501460 | -26.618730 |  25.6426525 |\n| b3[2] |  -0.3725968 | 16.3497789 | -26.502701 |  25.7575077 |\n| b1_5[1] |   0.4871808 | 16.3497769 | -25.642920 |  26.6172820 |\n| b1_5[2] |   0.3723039 | 16.3499605 | -25.758091 |  26.5026986 |\n| b0_75[1] |  -0.4868586 | 16.3497770 | -26.616960 |  25.6432429 |\n| b0_75[2] |  -0.3727593 | 16.3499605 | -26.503154 |  25.7576353 |\n| sigma |  26.6243997 |  0.8261289 |  25.304086 |  27.9447132 |\n\n",
            "text/latex": "A precis: 15 × 4\n\\begin{tabular}{r|llll}\n  & mean & sd & 5.5\\% & 94.5\\%\\\\\n  & <dbl> & <dbl> & <dbl> & <dbl>\\\\\n\\hline\n\tb\\_time{[}1{]} &  18.6866815 &  0.1328927 &  18.474293 &  18.8990697\\\\\n\tb\\_time{[}2{]} &  22.2878594 &  0.1328916 &  22.075473 &  22.5002457\\\\\n\tb24{[}1{]} & -59.8443617 &  2.6105069 & -64.016456 & -55.6722675\\\\\n\tb24{[}2{]} & -57.8845084 &  2.6104435 & -62.056501 & -53.7125155\\\\\n\tb12{[}1{]} &  -4.5077328 &  2.4617315 &  -8.442055 &  -0.5734103\\\\\n\tb12{[}2{]} &  -2.4920277 &  2.4617231 &  -6.426337 &   1.4422813\\\\\n\tb6{[}1{]} &  -4.2690709 &  2.4233595 &  -8.142067 &  -0.3960744\\\\\n\tb6{[}2{]} &  -3.1470483 &  2.4233567 &  -7.020040 &   0.7259437\\\\\n\tb3{[}1{]} &  -0.4880387 & 16.3501460 & -26.618730 &  25.6426525\\\\\n\tb3{[}2{]} &  -0.3725968 & 16.3497789 & -26.502701 &  25.7575077\\\\\n\tb1\\_5{[}1{]} &   0.4871808 & 16.3497769 & -25.642920 &  26.6172820\\\\\n\tb1\\_5{[}2{]} &   0.3723039 & 16.3499605 & -25.758091 &  26.5026986\\\\\n\tb0\\_75{[}1{]} &  -0.4868586 & 16.3497770 & -26.616960 &  25.6432429\\\\\n\tb0\\_75{[}2{]} &  -0.3727593 & 16.3499605 & -26.503154 &  25.7576353\\\\\n\tsigma &  26.6243997 &  0.8261289 &  25.304086 &  27.9447132\\\\\n\\end{tabular}\n",
            "text/plain": [
              "          mean        sd         5.5%       94.5%      \n",
              "b_time[1]  18.6866815  0.1328927  18.474293  18.8990697\n",
              "b_time[2]  22.2878594  0.1328916  22.075473  22.5002457\n",
              "b24[1]    -59.8443617  2.6105069 -64.016456 -55.6722675\n",
              "b24[2]    -57.8845084  2.6104435 -62.056501 -53.7125155\n",
              "b12[1]     -4.5077328  2.4617315  -8.442055  -0.5734103\n",
              "b12[2]     -2.4920277  2.4617231  -6.426337   1.4422813\n",
              "b6[1]      -4.2690709  2.4233595  -8.142067  -0.3960744\n",
              "b6[2]      -3.1470483  2.4233567  -7.020040   0.7259437\n",
              "b3[1]      -0.4880387 16.3501460 -26.618730  25.6426525\n",
              "b3[2]      -0.3725968 16.3497789 -26.502701  25.7575077\n",
              "b1_5[1]     0.4871808 16.3497769 -25.642920  26.6172820\n",
              "b1_5[2]     0.3723039 16.3499605 -25.758091  26.5026986\n",
              "b0_75[1]   -0.4868586 16.3497770 -26.616960  25.6432429\n",
              "b0_75[2]   -0.3727593 16.3499605 -26.503154  25.7576353\n",
              "sigma      26.6243997  0.8261289  25.304086  27.9447132"
            ]
          },
          "metadata": {}
        }
      ]
    },
    {
      "cell_type": "code",
      "source": [
        "post <- extract.samples(NREMS_model_2)\n",
        "str(post)"
      ],
      "metadata": {
        "colab": {
          "base_uri": "https://localhost:8080/"
        },
        "id": "HdINRFKqspcB",
        "outputId": "27277185-01ff-471c-8f22-251f5d9782b1"
      },
      "execution_count": 21,
      "outputs": [
        {
          "output_type": "stream",
          "name": "stdout",
          "text": [
            "List of 8\n",
            " $ sigma : num [1:10000] 28.4 26.8 26.8 26.2 27.8 ...\n",
            " $ b_time: num [1:10000, 1:2] 18.6 18.8 18.7 18.7 18.7 ...\n",
            " $ b24   : num [1:10000, 1:2] -61.3 -62.9 -57.5 -61 -57 ...\n",
            " $ b12   : num [1:10000, 1:2] -6.005 -3.185 -5.079 -2.389 -0.121 ...\n",
            " $ b6    : num [1:10000, 1:2] -3.978 -0.524 -4.339 -2.63 -4.685 ...\n",
            " $ b3    : num [1:10000, 1:2] -17.98 -21.55 -8.22 10.66 2.37 ...\n",
            " $ b1_5  : num [1:10000, 1:2] -18.98 -28.87 -5.89 -13.27 14.24 ...\n",
            " $ b0_75 : num [1:10000, 1:2] -2.49 -11.36 1.36 -26.81 15.7 ...\n",
            " - attr(*, \"source\")= chr \"quap posterior: 10000 samples from NREMS_model_2\"\n"
          ]
        }
      ]
    },
    {
      "cell_type": "code",
      "source": [
        "time_seq <- 1:24\n",
        "sine24_seq <- sin(2*pi/24*time_seq)\n",
        "sine12_seq <- sin(2*pi/12*time_seq)\n",
        "sine6_seq <- sin(2*pi/6*time_seq)\n",
        "sine3_seq <- sin(2*pi/3*time_seq)\n",
        "sine1.5_seq <- sin(2*pi/1.5*time_seq)\n",
        "sine0.75_seq <- sin(2*pi/0.75*time_seq)"
      ],
      "metadata": {
        "id": "aXOlg5jmswVI"
      },
      "execution_count": 22,
      "outputs": []
    },
    {
      "cell_type": "code",
      "source": [
        "post$a_ctrl <- matrix(data=NA,\n",
        "                      nrow=nrow(post$b_time),\n",
        "                      ncol=m_NREMS)\n",
        "post$a_trt <- matrix(data=NA,\n",
        "                     nrow=nrow(post$b_time),\n",
        "                     ncol=m_NREMS)\n",
        "for(block in 1:m_NREMS){\n",
        "  post$a_ctrl[,block] <- block * post$b_time[,1]\n",
        "  post$a_trt[,block] <- block * post$b_time[,2]\n",
        "}"
      ],
      "metadata": {
        "id": "ZtIUurJZtAko"
      },
      "execution_count": 23,
      "outputs": []
    },
    {
      "cell_type": "code",
      "source": [
        "post$NREMSA24 <- post$b24[,1] %*% t(sine24_seq)\n",
        "post$NREMSA12 <- post$b12[,1] %*% t(sine12_seq)\n",
        "post$NREMSA6 <- post$b6[,1] %*% t(sine6_seq)\n",
        "post$NREMSA3 <- post$b3[,1] %*% t(sine3_seq)\n",
        "post$NREMSA1.5 <- post$b1_5[,1] %*% t(sine1.5_seq)\n",
        "post$NREMSA0.75 <- post$b0_75[,1] %*% t(sine0.75_seq)\n",
        "\n",
        "post$NREMSB24 <- post$b24[,2] %*% t(sine24_seq)\n",
        "post$NREMSB12 <- post$b12[,2] %*% t(sine12_seq)\n",
        "post$NREMSB6 <- post$b6[,2] %*% t(sine6_seq)\n",
        "post$NREMSB3 <- post$b3[,2] %*% t(sine3_seq)\n",
        "post$NREMSB1.5 <- post$b1_5[,2] %*% t(sine1.5_seq)\n",
        "post$NREMSB0.75 <- post$b0_75[,2] %*% t(sine0.75_seq)"
      ],
      "metadata": {
        "id": "6RWYrirr1Y7e"
      },
      "execution_count": 24,
      "outputs": []
    },
    {
      "cell_type": "code",
      "source": [
        "post$NREMS_A <- with(post,\n",
        "                      a_ctrl +\n",
        "                      NREMSA24 +\n",
        "                      NREMSA12 +\n",
        "                      NREMSA6 +\n",
        "                      NREMSA3 +\n",
        "                      NREMSA1.5 +\n",
        "                      NREMSA0.75)\n",
        "post$NREMS_A_mean <- colMeans(post$NREMS_A)\n",
        "post$NREMS_A_CrI <- apply(post$NREMS_A, 2, HPDI, 0.95)\n",
        "\n",
        "post$NREMS_B <- with(post,\n",
        "                      a_trt +\n",
        "                      NREMSB24 +\n",
        "                      NREMSB12 +\n",
        "                      NREMSB6 +\n",
        "                      NREMSB3 +\n",
        "                      NREMSB1.5 +\n",
        "                      NREMSB0.75)\n",
        "post$NREMS_B_mean <- colMeans(post$NREMS_B)\n",
        "post$NREMS_B_CrI <- apply(post$NREMS_B, 2, HPDI, 0.95)\n",
        "\n",
        "str(post)"
      ],
      "metadata": {
        "id": "xddEzGLA3A_m",
        "colab": {
          "base_uri": "https://localhost:8080/"
        },
        "outputId": "ad0a352f-5d44-487a-9dd7-4bf6e12f2431"
      },
      "execution_count": 25,
      "outputs": [
        {
          "output_type": "stream",
          "name": "stdout",
          "text": [
            "List of 28\n",
            " $ sigma       : num [1:10000] 28.4 26.8 26.8 26.2 27.8 ...\n",
            " $ b_time      : num [1:10000, 1:2] 18.6 18.8 18.7 18.7 18.7 ...\n",
            " $ b24         : num [1:10000, 1:2] -61.3 -62.9 -57.5 -61 -57 ...\n",
            " $ b12         : num [1:10000, 1:2] -6.005 -3.185 -5.079 -2.389 -0.121 ...\n",
            " $ b6          : num [1:10000, 1:2] -3.978 -0.524 -4.339 -2.63 -4.685 ...\n",
            " $ b3          : num [1:10000, 1:2] -17.98 -21.55 -8.22 10.66 2.37 ...\n",
            " $ b1_5        : num [1:10000, 1:2] -18.98 -28.87 -5.89 -13.27 14.24 ...\n",
            " $ b0_75       : num [1:10000, 1:2] -2.49 -11.36 1.36 -26.81 15.7 ...\n",
            " $ a_ctrl      : num [1:10000, 1:24] 18.6 18.8 18.7 18.7 18.7 ...\n",
            " $ a_trt       : num [1:10000, 1:24] 22.2 22.3 22.2 22.2 22.4 ...\n",
            " $ NREMSA24    : num [1:10000, 1:24] -15.9 -16.3 -14.9 -15.8 -14.7 ...\n",
            " $ NREMSA12    : num [1:10000, 1:24] -3.0023 -1.5925 -2.5396 -1.1946 -0.0605 ...\n",
            " $ NREMSA6     : num [1:10000, 1:24] -3.445 -0.454 -3.758 -2.277 -4.058 ...\n",
            " $ NREMSA3     : num [1:10000, 1:24] -15.57 -18.67 -7.12 9.23 2.05 ...\n",
            " $ NREMSA1.5   : num [1:10000, 1:24] 16.4 25 5.1 11.5 -12.3 ...\n",
            " $ NREMSA0.75  : num [1:10000, 1:24] -2.16 -9.84 1.18 -23.22 13.6 ...\n",
            " $ NREMSB24    : num [1:10000, 1:24] -14.9 -15 -15.3 -14.3 -15.5 ...\n",
            " $ NREMSB12    : num [1:10000, 1:24] -1.139 -2.392 -1.87 -1.383 -0.931 ...\n",
            " $ NREMSB6     : num [1:10000, 1:24] -1.32 -3.58 -4.51 -3.09 -2.61 ...\n",
            " $ NREMSB3     : num [1:10000, 1:24] 6.977 14.816 0.592 37.885 -5.611 ...\n",
            " $ NREMSB1.5   : num [1:10000, 1:24] -18.617 -10.434 15.352 -0.786 33.047 ...\n",
            " $ NREMSB0.75  : num [1:10000, 1:24] 11.92 -4.75 -17.15 -37.29 -28.45 ...\n",
            " $ NREMS_A     : num [1:10000, 1:24] -4.96 -3.04 -3.31 -3.09 3.11 ...\n",
            " $ NREMS_A_mean: num [1:24] -4.07 1.07 9.19 21.42 38.32 ...\n",
            " $ NREMS_A_CrI : num [1:2, 1:24] -10.79 2.5 -6.61 9.03 2.81 ...\n",
            "  ..- attr(*, \"dimnames\")=List of 2\n",
            "  .. ..$ : chr [1:2] \"|0.95\" \"0.95|\"\n",
            "  .. ..$ : NULL\n",
            " $ NREMS_B     : num [1:10000, 1:24] 5.1 0.911 -0.628 3.233 2.41 ...\n",
            " $ NREMS_B_mean: num [1:24] 2.31 11.63 23.37 38.58 57.94 ...\n",
            " $ NREMS_B_CrI : num [1:2, 1:24] -4.5 8.76 3.98 19.71 16.61 ...\n",
            "  ..- attr(*, \"dimnames\")=List of 2\n",
            "  .. ..$ : chr [1:2] \"|0.95\" \"0.95|\"\n",
            "  .. ..$ : NULL\n",
            " - attr(*, \"source\")= chr \"quap posterior: 10000 samples from NREMS_model_2\"\n"
          ]
        }
      ]
    },
    {
      "cell_type": "code",
      "source": [
        "par(mfrow=c(1,2))\n",
        "plot(mean(post$b24[,1])*sine24_seq, type=\"l\", xlab=\"Time (h)\", ylab=\"b*sine(t)\", main = \"Baseline\", col=\"blue\")\n",
        "lines(mean(post$b12[,1])*sine12_seq, lty=2, col=\"blue\")\n",
        "lines(mean(post$b6[,1])*sine6_seq, lty=3, col=\"blue\")\n",
        "lines(mean(post$b3[,1])*sine3_seq, lty=4, col=\"blue\")\n",
        "lines(mean(post$b1_5[,1])*sine1.5_seq, lty=5, col=\"blue\")\n",
        "lines(mean(post$b0_75[,1])*sine0.75_seq, lty=5, col=\"blue\")\n",
        "\n",
        "plot(mean(post$b24[,2])*sine24_seq, type=\"l\", xlab=\"Time (h)\", ylab=\"b*sine(t)\", main = \"Treated\", col=\"red\")\n",
        "lines(mean(post$b12[,2])*sine12_seq, lty=2, col=\"red\")\n",
        "lines(mean(post$b6[,2])*sine6_seq, lty=3, col=\"red\")\n",
        "lines(mean(post$b3[,2])*sine3_seq, lty=4, col=\"red\")\n",
        "lines(mean(post$b1_5[,2])*sine1.5_seq, lty=5, col=\"red\")\n",
        "lines(mean(post$b0_75[,2])*sine0.75_seq, lty=5, col=\"red\")\n",
        "\n",
        "\n",
        "plot(colMeans(post$NREMS_B), type=\"l\", col=\"red\", xlab=\"Time (h)\", ylab=\"NREMS (m)\")\n",
        "  shade(post$NREMS_B_CrI, time_seq, col=col.alpha(\"red\", 0.2))\n",
        "  points(Sleep_All[Sleep_All$treatment==TRUE, \"NREMS\"] ~ Sleep_All[Sleep_All$treatment==TRUE, \"Block\"], col=col.alpha(\"red\", 0.25))\n",
        "lines(colMeans(post$NREMS_A), col=\"blue\")\n",
        "  shade(post$NREMS_A_CrI, time_seq, col=col.alpha(\"blue\", 0.2))\n",
        "  points(Sleep_All[Sleep_All$treatment==FALSE, \"NREMS\"] ~ Sleep_All[Sleep_All$treatment==FALSE, \"Block\"], col=col.alpha(\"blue\", 0.25))\n",
        "abline(a=0, b=1440/24)"
      ],
      "metadata": {
        "colab": {
          "base_uri": "https://localhost:8080/",
          "height": 857
        },
        "id": "3cyi50FHtq51",
        "outputId": "30c3a766-8d19-48ea-c4d0-a46003e70d32"
      },
      "execution_count": 26,
      "outputs": [
        {
          "output_type": "display_data",
          "data": {
            "text/plain": [
              "Plot with title “Treated”"
            ],
            "image/png": "[encoded data removed]"
          },
          "metadata": {
            "image/png": {
              "width": 420,
              "height": 420
            }
          }
        },
        {
          "output_type": "display_data",
          "data": {
            "text/plain": [
              "plot without title"
            ],
            "image/png": "[encoded data removed]"
          },
          "metadata": {
            "image/png": {
              "width": 420,
              "height": 420
            }
          }
        }
      ]
    },
    {
      "cell_type": "code",
      "source": [
        "t1 <- 2\n",
        "t2 <- 7\n",
        "\n",
        "mean(rowSums(with(post,\n",
        "             NREMS_B[,t1:t2] - NREMS_A[, t1:t2])))\n",
        "\n",
        "sd(rowSums(with(post,\n",
        "             NREMS_B[,t1:t2] - NREMS_A[, t1:t2])))"
      ],
      "metadata": {
        "colab": {
          "base_uri": "https://localhost:8080/",
          "height": 52
        },
        "id": "Rc57_qgYydwI",
        "outputId": "ac5f55c8-554b-4b0f-b366-37e05b1927b5"
      },
      "execution_count": 27,
      "outputs": [
        {
          "output_type": "display_data",
          "data": {
            "text/html": [
              "112.444918472358"
            ],
            "text/markdown": "112.444918472358",
            "text/latex": "112.444918472358",
            "text/plain": [
              "[1] 112.4449"
            ]
          },
          "metadata": {}
        },
        {
          "output_type": "display_data",
          "data": {
            "text/html": [
              "24.0746377808893"
            ],
            "text/markdown": "24.0746377808893",
            "text/latex": "24.0746377808893",
            "text/plain": [
              "[1] 24.07464"
            ]
          },
          "metadata": {}
        }
      ]
    },
    {
      "cell_type": "markdown",
      "source": [
        "### Model 1 vs Model 2 Comparison\n",
        "So we have 2 models here.  Neither is perfect, but we've seen that `NREMS_model_2` fits the data better, at least using the eyeball test.\n",
        "\n",
        "We can formalize this intuition.  It may not seem critical to do so in this case, since one model looks so much better than the other, but closer cases would merit this type of formal comparison.\n",
        "\n",
        "We can compare these models using WAIC or PSIS.  You can learn more about these measures in Ch 7. of [Statistical Rethinking](https://www.amazon.com/Statistical-Rethinking-Bayesian-Examples-Chapman/dp/036713991X/ref=pd_lpo_sccl_1/145-9439961-9588004?pd_rd_w=PYeSr&content-id=amzn1.sym.1ad2066f-97d2-4731-9356-36b3edf1ae04&pf_rd_p=1ad2066f-97d2-4731-9356-36b3edf1ae04&pf_rd_r=03APQFHXPVGQYH3P0MJX&pd_rd_wg=9RWdT&pd_rd_r=0cd1b958-ef4e-4987-a0cd-95ca786ce1b6&pd_rd_i=036713991X&psc=1), or you can check out [my solutions to the the end-of-chapter questions for it](https://colab.research.google.com/drive/1EcTeDcSudJX3BJhc3SYxc56NSJelqeyk?usp=sharing).  For now, just know that WAIC and PSIS are two ways of measuring the magnitude of error a model is expected to make on new data.  Models that are expected to make less error are probably doing a better job of extracting meaningful signal from the data.\n",
        "\n",
        "A few nuances here.  \n",
        "1.   WAIC and PSIS only address models' predictive capacity.  This means that they cannot tell you if the assumptions of your model are valid.\n",
        "2.   WAIC and PSIS are only scores.  There's no such thing as *high* or *low* scores in an absolute sense.  Instead, models can have higher or lower scores than one another.  If (and only if) those models were trained on the same data, we can use the scores to compare the predictive capcity of each model.\n",
        "\n"
      ],
      "metadata": {
        "id": "n7Wi8dGfTFLk"
      }
    },
    {
      "cell_type": "code",
      "source": [
        "round(compare(NREMS_model_1, NREMS_model_2, func=WAIC),2)\n",
        "round(compare(NREMS_model_1, NREMS_model_2, func=PSIS),2)"
      ],
      "metadata": {
        "colab": {
          "base_uri": "https://localhost:8080/",
          "height": 304
        },
        "id": "Py4H_39uUODj",
        "outputId": "da29569a-465d-4364-e551-13a48480b588"
      },
      "execution_count": 28,
      "outputs": [
        {
          "output_type": "display_data",
          "data": {
            "text/html": [
              "<table class=\"dataframe\">\n",
              "<caption>A data.frame: 2 × 6</caption>\n",
              "<thead>\n",
              "\t<tr><th></th><th scope=col>WAIC</th><th scope=col>SE</th><th scope=col>dWAIC</th><th scope=col>dSE</th><th scope=col>pWAIC</th><th scope=col>weight</th></tr>\n",
              "\t<tr><th></th><th scope=col>&lt;dbl&gt;</th><th scope=col>&lt;dbl&gt;</th><th scope=col>&lt;dbl&gt;</th><th scope=col>&lt;dbl&gt;</th><th scope=col>&lt;dbl&gt;</th><th scope=col>&lt;dbl&gt;</th></tr>\n",
              "</thead>\n",
              "<tbody>\n",
              "\t<tr><th scope=row>NREMS_model_2</th><td>4560.12</td><td>28.83</td><td>  0.00</td><td>   NA</td><td>9.74</td><td>1</td></tr>\n",
              "\t<tr><th scope=row>NREMS_model_1</th><td>5053.04</td><td>23.95</td><td>492.93</td><td>32.12</td><td>5.67</td><td>0</td></tr>\n",
              "</tbody>\n",
              "</table>\n"
            ],
            "text/markdown": "\nA data.frame: 2 × 6\n\n| <!--/--> | WAIC &lt;dbl&gt; | SE &lt;dbl&gt; | dWAIC &lt;dbl&gt; | dSE &lt;dbl&gt; | pWAIC &lt;dbl&gt; | weight &lt;dbl&gt; |\n|---|---|---|---|---|---|---|\n| NREMS_model_2 | 4560.12 | 28.83 |   0.00 |    NA | 9.74 | 1 |\n| NREMS_model_1 | 5053.04 | 23.95 | 492.93 | 32.12 | 5.67 | 0 |\n\n",
            "text/latex": "A data.frame: 2 × 6\n\\begin{tabular}{r|llllll}\n  & WAIC & SE & dWAIC & dSE & pWAIC & weight\\\\\n  & <dbl> & <dbl> & <dbl> & <dbl> & <dbl> & <dbl>\\\\\n\\hline\n\tNREMS\\_model\\_2 & 4560.12 & 28.83 &   0.00 &    NA & 9.74 & 1\\\\\n\tNREMS\\_model\\_1 & 5053.04 & 23.95 & 492.93 & 32.12 & 5.67 & 0\\\\\n\\end{tabular}\n",
            "text/plain": [
              "              WAIC    SE    dWAIC  dSE   pWAIC weight\n",
              "NREMS_model_2 4560.12 28.83   0.00    NA 9.74  1     \n",
              "NREMS_model_1 5053.04 23.95 492.93 32.12 5.67  0     "
            ]
          },
          "metadata": {}
        },
        {
          "output_type": "display_data",
          "data": {
            "text/html": [
              "<table class=\"dataframe\">\n",
              "<caption>A data.frame: 2 × 6</caption>\n",
              "<thead>\n",
              "\t<tr><th></th><th scope=col>PSIS</th><th scope=col>SE</th><th scope=col>dPSIS</th><th scope=col>dSE</th><th scope=col>pPSIS</th><th scope=col>weight</th></tr>\n",
              "\t<tr><th></th><th scope=col>&lt;dbl&gt;</th><th scope=col>&lt;dbl&gt;</th><th scope=col>&lt;dbl&gt;</th><th scope=col>&lt;dbl&gt;</th><th scope=col>&lt;dbl&gt;</th><th scope=col>&lt;dbl&gt;</th></tr>\n",
              "</thead>\n",
              "<tbody>\n",
              "\t<tr><th scope=row>NREMS_model_2</th><td>4559.98</td><td>28.73</td><td>  0.00</td><td>   NA</td><td>9.58</td><td>1</td></tr>\n",
              "\t<tr><th scope=row>NREMS_model_1</th><td>5053.31</td><td>24.00</td><td>493.33</td><td>32.11</td><td>5.76</td><td>0</td></tr>\n",
              "</tbody>\n",
              "</table>\n"
            ],
            "text/markdown": "\nA data.frame: 2 × 6\n\n| <!--/--> | PSIS &lt;dbl&gt; | SE &lt;dbl&gt; | dPSIS &lt;dbl&gt; | dSE &lt;dbl&gt; | pPSIS &lt;dbl&gt; | weight &lt;dbl&gt; |\n|---|---|---|---|---|---|---|\n| NREMS_model_2 | 4559.98 | 28.73 |   0.00 |    NA | 9.58 | 1 |\n| NREMS_model_1 | 5053.31 | 24.00 | 493.33 | 32.11 | 5.76 | 0 |\n\n",
            "text/latex": "A data.frame: 2 × 6\n\\begin{tabular}{r|llllll}\n  & PSIS & SE & dPSIS & dSE & pPSIS & weight\\\\\n  & <dbl> & <dbl> & <dbl> & <dbl> & <dbl> & <dbl>\\\\\n\\hline\n\tNREMS\\_model\\_2 & 4559.98 & 28.73 &   0.00 &    NA & 9.58 & 1\\\\\n\tNREMS\\_model\\_1 & 5053.31 & 24.00 & 493.33 & 32.11 & 5.76 & 0\\\\\n\\end{tabular}\n",
            "text/plain": [
              "              PSIS    SE    dPSIS  dSE   pPSIS weight\n",
              "NREMS_model_2 4559.98 28.73   0.00    NA 9.58  1     \n",
              "NREMS_model_1 5053.31 24.00 493.33 32.11 5.76  0     "
            ]
          },
          "metadata": {}
        }
      ]
    },
    {
      "cell_type": "markdown",
      "source": [
        "The message is clear using either message; as we suspected `NREMS_model_2` seems to fit the data better than `NREMS_model_1`.  We see this in several ways.  First, the WAIC and PSIS scores for `NREMS_model_2` are lower than those for `NREMS_model_1`.  Further, the `compare` functions assign 100% of the `weight` to `NREMS_model_2`.  Think of the `weight` like this.  If we were going to combine the predictions of both models to predict new data, we'd discard the predictions of `NREMS_model_1` completely and only rely on `NREMS_model_2`."
      ],
      "metadata": {
        "id": "D3OsQl4OWyLw"
      }
    },
    {
      "cell_type": "markdown",
      "source": [
        "### How many waveforms\n",
        "\n",
        "In our models so far, we've used 7 sine waves to capture the dynamics of NREMS.  Is this enough?  Too many?  How could we decide?\n",
        "\n",
        "Primarily, we should use background knowledge to guide us.  But even then, background knowledge can be imprecise, inaccurate, or uncertain.  In these cases, we can use the same model-comparison tools to determine which/how many waveforms are most appropriate.\n",
        "\n",
        "Here, let's rerun Model 2, but with fewer waveforms, then compare."
      ],
      "metadata": {
        "id": "2aBIZapB17m4"
      }
    },
    {
      "cell_type": "code",
      "source": [
        "NREMS_model_2b <- quap(\n",
        "  alist(\n",
        "    NREMS ~ dnorm(mu, sigma),\n",
        "      mu <- b_time[treatment]*time +\n",
        "            b24[treatment]*sine24 +\n",
        "            b12[treatment]*sine12 +\n",
        "            b6[treatment]*sine6,\n",
        "              b_time[treatment] ~ dnorm(30, 10),\n",
        "              b24[treatment] ~ dnorm(0, 20),\n",
        "              b12[treatment] ~ dnorm(0, 20),\n",
        "              b6[treatment] ~ dnorm(0, 20),\n",
        "      sigma ~ dexp(1)\n",
        "  ), data=list(NREMS=Sleep_All$NREMS,\n",
        "               treatment=as.integer(Sleep_All$treatment)+1,\n",
        "               time=Sleep_All$Block,\n",
        "               TotalPreviousSleep=Sleep_All$TotalPreviousSleep,\n",
        "               sine24=sine24, sine12=sine12, sine6=sine6, sine3=sine3, sine1_5=sine1_5, sine0_5=sine0_75)\n",
        ")"
      ],
      "metadata": {
        "id": "8gKeDRIn62Hi"
      },
      "execution_count": 37,
      "outputs": []
    },
    {
      "cell_type": "code",
      "source": [
        "round(compare(NREMS_model_2, NREMS_model_2b, func=WAIC),2)\n",
        "round(compare(NREMS_model_2, NREMS_model_2b, func=PSIS),2)"
      ],
      "metadata": {
        "colab": {
          "base_uri": "https://localhost:8080/",
          "height": 304
        },
        "id": "HgkGIDmO68_F",
        "outputId": "edb21001-6702-4a89-9331-ad22230fefa8"
      },
      "execution_count": 38,
      "outputs": [
        {
          "output_type": "display_data",
          "data": {
            "text/html": [
              "<table class=\"dataframe\">\n",
              "<caption>A data.frame: 2 × 6</caption>\n",
              "<thead>\n",
              "\t<tr><th></th><th scope=col>WAIC</th><th scope=col>SE</th><th scope=col>dWAIC</th><th scope=col>dSE</th><th scope=col>pWAIC</th><th scope=col>weight</th></tr>\n",
              "\t<tr><th></th><th scope=col>&lt;dbl&gt;</th><th scope=col>&lt;dbl&gt;</th><th scope=col>&lt;dbl&gt;</th><th scope=col>&lt;dbl&gt;</th><th scope=col>&lt;dbl&gt;</th><th scope=col>&lt;dbl&gt;</th></tr>\n",
              "</thead>\n",
              "<tbody>\n",
              "\t<tr><th scope=row>NREMS_model_2b</th><td>4557.37</td><td>28.75</td><td>0.00</td><td>  NA</td><td> 8.25</td><td>0.87</td></tr>\n",
              "\t<tr><th scope=row>NREMS_model_2</th><td>4561.12</td><td>28.91</td><td>3.75</td><td>1.48</td><td>10.33</td><td>0.13</td></tr>\n",
              "</tbody>\n",
              "</table>\n"
            ],
            "text/markdown": "\nA data.frame: 2 × 6\n\n| <!--/--> | WAIC &lt;dbl&gt; | SE &lt;dbl&gt; | dWAIC &lt;dbl&gt; | dSE &lt;dbl&gt; | pWAIC &lt;dbl&gt; | weight &lt;dbl&gt; |\n|---|---|---|---|---|---|---|\n| NREMS_model_2b | 4557.37 | 28.75 | 0.00 |   NA |  8.25 | 0.87 |\n| NREMS_model_2 | 4561.12 | 28.91 | 3.75 | 1.48 | 10.33 | 0.13 |\n\n",
            "text/latex": "A data.frame: 2 × 6\n\\begin{tabular}{r|llllll}\n  & WAIC & SE & dWAIC & dSE & pWAIC & weight\\\\\n  & <dbl> & <dbl> & <dbl> & <dbl> & <dbl> & <dbl>\\\\\n\\hline\n\tNREMS\\_model\\_2b & 4557.37 & 28.75 & 0.00 &   NA &  8.25 & 0.87\\\\\n\tNREMS\\_model\\_2 & 4561.12 & 28.91 & 3.75 & 1.48 & 10.33 & 0.13\\\\\n\\end{tabular}\n",
            "text/plain": [
              "               WAIC    SE    dWAIC dSE  pWAIC weight\n",
              "NREMS_model_2b 4557.37 28.75 0.00    NA  8.25 0.87  \n",
              "NREMS_model_2  4561.12 28.91 3.75  1.48 10.33 0.13  "
            ]
          },
          "metadata": {}
        },
        {
          "output_type": "display_data",
          "data": {
            "text/html": [
              "<table class=\"dataframe\">\n",
              "<caption>A data.frame: 2 × 6</caption>\n",
              "<thead>\n",
              "\t<tr><th></th><th scope=col>PSIS</th><th scope=col>SE</th><th scope=col>dPSIS</th><th scope=col>dSE</th><th scope=col>pPSIS</th><th scope=col>weight</th></tr>\n",
              "\t<tr><th></th><th scope=col>&lt;dbl&gt;</th><th scope=col>&lt;dbl&gt;</th><th scope=col>&lt;dbl&gt;</th><th scope=col>&lt;dbl&gt;</th><th scope=col>&lt;dbl&gt;</th><th scope=col>&lt;dbl&gt;</th></tr>\n",
              "</thead>\n",
              "<tbody>\n",
              "\t<tr><th scope=row>NREMS_model_2b</th><td>4556.91</td><td>28.63</td><td>0.00</td><td> NA</td><td>8.00</td><td>0.77</td></tr>\n",
              "\t<tr><th scope=row>NREMS_model_2</th><td>4559.35</td><td>28.59</td><td>2.44</td><td>1.5</td><td>9.35</td><td>0.23</td></tr>\n",
              "</tbody>\n",
              "</table>\n"
            ],
            "text/markdown": "\nA data.frame: 2 × 6\n\n| <!--/--> | PSIS &lt;dbl&gt; | SE &lt;dbl&gt; | dPSIS &lt;dbl&gt; | dSE &lt;dbl&gt; | pPSIS &lt;dbl&gt; | weight &lt;dbl&gt; |\n|---|---|---|---|---|---|---|\n| NREMS_model_2b | 4556.91 | 28.63 | 0.00 |  NA | 8.00 | 0.77 |\n| NREMS_model_2 | 4559.35 | 28.59 | 2.44 | 1.5 | 9.35 | 0.23 |\n\n",
            "text/latex": "A data.frame: 2 × 6\n\\begin{tabular}{r|llllll}\n  & PSIS & SE & dPSIS & dSE & pPSIS & weight\\\\\n  & <dbl> & <dbl> & <dbl> & <dbl> & <dbl> & <dbl>\\\\\n\\hline\n\tNREMS\\_model\\_2b & 4556.91 & 28.63 & 0.00 &  NA & 8.00 & 0.77\\\\\n\tNREMS\\_model\\_2 & 4559.35 & 28.59 & 2.44 & 1.5 & 9.35 & 0.23\\\\\n\\end{tabular}\n",
            "text/plain": [
              "               PSIS    SE    dPSIS dSE pPSIS weight\n",
              "NREMS_model_2b 4556.91 28.63 0.00   NA 8.00  0.77  \n",
              "NREMS_model_2  4559.35 28.59 2.44  1.5 9.35  0.23  "
            ]
          },
          "metadata": {}
        }
      ]
    },
    {
      "cell_type": "markdown",
      "source": [
        "Interestingly, fewer waveforms performed better.  We could repeat this for any number of waveforms.  I'm going to retain the waveforms from model 2B going forward."
      ],
      "metadata": {
        "id": "LznlPGaD7ISg"
      }
    },
    {
      "cell_type": "markdown",
      "source": [
        "## Ensuring positivity\n",
        "\n",
        "To this point, we've modeled NREMS as a normal distribution.  This is probably fine, but there is one concern: the normal distribution permits negative values, but there is no such thing as negative NREMS.  This probably doesn't make a big difference since we're using cumulative NREMS (hence, the mean value quickly becomes so great that there the implied probability of negative NREMS is basically 0), but it might be worth trying to fix this.\n",
        "\n",
        "One way to fix this is to model NREMS as a positive-continuous variable: either an exponential or gamma distribution.  We can do this with a small switch from `NREMS ~ dnorm(mu, sigma)` to `NREMS ~ dgamma2(mu, scale)` or `NREMS ~ dexp(lambda)'.  This will allow us to then interpret the posterior in terms of NREMS, but we'll have to do a bit more post-processing.  Alternatively, we can set a constrainst to ensure that the linear time component, `b_time`, is always positive.  That's the approach we'll take here; this will require we switch from the `quap()` function to the `ulam()` function."
      ],
      "metadata": {
        "id": "0ZVUN-uob5Zp"
      }
    },
    {
      "cell_type": "markdown",
      "source": [
        "### Model 3"
      ],
      "metadata": {
        "id": "DhAWeX5PfTUl"
      }
    },
    {
      "cell_type": "code",
      "source": [
        "sine24 <- sin(2*pi/24*Sleep_All$Block)\n",
        "sine12 <- sin(2*pi/12*Sleep_All$Block)\n",
        "sine6 <- sin(2*pi/6*Sleep_All$Block)\n",
        "sine3 <- sin(2*pi/3*Sleep_All$Block)\n",
        "sine1_5 <- sin(2*pi/1.5*Sleep_All$Block)\n",
        "sine0_75 <- sin(2*pi/0.75*Sleep_All$Block)"
      ],
      "metadata": {
        "id": "0dz94XVsciId"
      },
      "execution_count": 29,
      "outputs": []
    },
    {
      "cell_type": "code",
      "source": [
        "NREMS_model_3 <- ulam(\n",
        "  alist(\n",
        "    NREMS ~ dnorm(mu, sigma),\n",
        "      mu <- b_time[treatment]*time +\n",
        "            b24[treatment]*sine24 +\n",
        "            b12[treatment]*sine12 +\n",
        "            b6[treatment]*sine6,\n",
        "              b_time[treatment] ~ dnorm(30, 10),\n",
        "              b24[treatment] ~ dnorm(0, 20),\n",
        "              b12[treatment] ~ dnorm(0, 20),\n",
        "              b6[treatment] ~ dnorm(0, 20),\n",
        "      sigma ~ dexp(1)\n",
        "  ), data=list(NREMS=Sleep_All$NREMS,\n",
        "               treatment=as.integer(Sleep_All$treatment)+1,\n",
        "               time=Sleep_All$Block,\n",
        "               TotalPreviousSleep=Sleep_All$TotalPreviousSleep,\n",
        "               sine24=sine24, sine12=sine12, sine6=sine6, sine3=sine3, sine1_5=sine1_5, sine0_5=sine0_75),\n",
        "     constraints=list(b_time=\"lower=0\"),\n",
        "     chains=4,\n",
        "     cores=4,\n",
        "     iter=1000,\n",
        "     log_lik=TRUE\n",
        ")\n",
        "\n",
        "precis(NREMS_model_3, 2)"
      ],
      "metadata": {
        "colab": {
          "base_uri": "https://localhost:8080/",
          "height": 1000
        },
        "outputId": "66ee9bef-cabb-4101-e461-a91cedb8e0db",
        "id": "RMbBYS3ociIk"
      },
      "execution_count": 39,
      "outputs": [
        {
          "output_type": "stream",
          "name": "stdout",
          "text": [
            "Running MCMC with 4 parallel chains, with 1 thread(s) per chain...\n",
            "\n",
            "Chain 1 Iteration:   1 / 1000 [  0%]  (Warmup) \n"
          ]
        },
        {
          "output_type": "stream",
          "name": "stderr",
          "text": [
            "Chain 1 Informational Message: The current Metropolis proposal is about to be rejected because of the following issue:\n",
            "\n",
            "Chain 1 Exception: normal_lpdf: Location parameter[1] is inf, but must be finite! (in '/tmp/RtmpdYT4HS/model-1a8363e9d1c.stan', line 30, column 4 to column 33)\n",
            "\n",
            "Chain 1 If this warning occurs sporadically, such as for highly constrained variable types like covariance matrices, then the sampler is fine,\n",
            "\n",
            "Chain 1 but if this warning occurs often then your model may be either severely ill-conditioned or misspecified.\n",
            "\n",
            "Chain 1 \n",
            "\n",
            "Chain 1 Informational Message: The current Metropolis proposal is about to be rejected because of the following issue:\n",
            "\n",
            "Chain 1 Exception: normal_lpdf: Location parameter[1] is inf, but must be finite! (in '/tmp/RtmpdYT4HS/model-1a8363e9d1c.stan', line 30, column 4 to column 33)\n",
            "\n",
            "Chain 1 If this warning occurs sporadically, such as for highly constrained variable types like covariance matrices, then the sampler is fine,\n",
            "\n",
            "Chain 1 but if this warning occurs often then your model may be either severely ill-conditioned or misspecified.\n",
            "\n",
            "Chain 1 \n",
            "\n",
            "Chain 1 Informational Message: The current Metropolis proposal is about to be rejected because of the following issue:\n",
            "\n",
            "Chain 1 Exception: normal_lpdf: Location parameter[1] is inf, but must be finite! (in '/tmp/RtmpdYT4HS/model-1a8363e9d1c.stan', line 30, column 4 to column 33)\n",
            "\n",
            "Chain 1 If this warning occurs sporadically, such as for highly constrained variable types like covariance matrices, then the sampler is fine,\n",
            "\n",
            "Chain 1 but if this warning occurs often then your model may be either severely ill-conditioned or misspecified.\n",
            "\n",
            "Chain 1 \n",
            "\n",
            "Chain 1 Informational Message: The current Metropolis proposal is about to be rejected because of the following issue:\n",
            "\n",
            "Chain 1 Exception: normal_lpdf: Location parameter[1] is inf, but must be finite! (in '/tmp/RtmpdYT4HS/model-1a8363e9d1c.stan', line 30, column 4 to column 33)\n",
            "\n",
            "Chain 1 If this warning occurs sporadically, such as for highly constrained variable types like covariance matrices, then the sampler is fine,\n",
            "\n",
            "Chain 1 but if this warning occurs often then your model may be either severely ill-conditioned or misspecified.\n",
            "\n",
            "Chain 1 \n",
            "\n",
            "Chain 1 Informational Message: The current Metropolis proposal is about to be rejected because of the following issue:\n",
            "\n",
            "Chain 1 Exception: normal_lpdf: Location parameter[1] is inf, but must be finite! (in '/tmp/RtmpdYT4HS/model-1a8363e9d1c.stan', line 30, column 4 to column 33)\n",
            "\n",
            "Chain 1 If this warning occurs sporadically, such as for highly constrained variable types like covariance matrices, then the sampler is fine,\n",
            "\n",
            "Chain 1 but if this warning occurs often then your model may be either severely ill-conditioned or misspecified.\n",
            "\n",
            "Chain 1 \n",
            "\n",
            "Chain 1 Informational Message: The current Metropolis proposal is about to be rejected because of the following issue:\n",
            "\n",
            "Chain 1 Exception: normal_lpdf: Location parameter[1] is inf, but must be finite! (in '/tmp/RtmpdYT4HS/model-1a8363e9d1c.stan', line 30, column 4 to column 33)\n",
            "\n",
            "Chain 1 If this warning occurs sporadically, such as for highly constrained variable types like covariance matrices, then the sampler is fine,\n",
            "\n",
            "Chain 1 but if this warning occurs often then your model may be either severely ill-conditioned or misspecified.\n",
            "\n",
            "Chain 1 \n",
            "\n",
            "Chain 1 Informational Message: The current Metropolis proposal is about to be rejected because of the following issue:\n",
            "\n",
            "Chain 1 Exception: normal_lpdf: Location parameter[1] is inf, but must be finite! (in '/tmp/RtmpdYT4HS/model-1a8363e9d1c.stan', line 30, column 4 to column 33)\n",
            "\n",
            "Chain 1 If this warning occurs sporadically, such as for highly constrained variable types like covariance matrices, then the sampler is fine,\n",
            "\n",
            "Chain 1 but if this warning occurs often then your model may be either severely ill-conditioned or misspecified.\n",
            "\n",
            "Chain 1 \n",
            "\n",
            "Chain 1 Informational Message: The current Metropolis proposal is about to be rejected because of the following issue:\n",
            "\n",
            "Chain 1 Exception: normal_lpdf: Location parameter[1] is inf, but must be finite! (in '/tmp/RtmpdYT4HS/model-1a8363e9d1c.stan', line 30, column 4 to column 33)\n",
            "\n",
            "Chain 1 If this warning occurs sporadically, such as for highly constrained variable types like covariance matrices, then the sampler is fine,\n",
            "\n",
            "Chain 1 but if this warning occurs often then your model may be either severely ill-conditioned or misspecified.\n",
            "\n",
            "Chain 1 \n",
            "\n",
            "Chain 1 Informational Message: The current Metropolis proposal is about to be rejected because of the following issue:\n",
            "\n",
            "Chain 1 Exception: normal_lpdf: Location parameter[1] is inf, but must be finite! (in '/tmp/RtmpdYT4HS/model-1a8363e9d1c.stan', line 30, column 4 to column 33)\n",
            "\n",
            "Chain 1 If this warning occurs sporadically, such as for highly constrained variable types like covariance matrices, then the sampler is fine,\n",
            "\n",
            "Chain 1 but if this warning occurs often then your model may be either severely ill-conditioned or misspecified.\n",
            "\n",
            "Chain 1 \n",
            "\n",
            "Chain 1 Informational Message: The current Metropolis proposal is about to be rejected because of the following issue:\n",
            "\n",
            "Chain 1 Exception: normal_lpdf: Location parameter[1] is inf, but must be finite! (in '/tmp/RtmpdYT4HS/model-1a8363e9d1c.stan', line 30, column 4 to column 33)\n",
            "\n",
            "Chain 1 If this warning occurs sporadically, such as for highly constrained variable types like covariance matrices, then the sampler is fine,\n",
            "\n",
            "Chain 1 but if this warning occurs often then your model may be either severely ill-conditioned or misspecified.\n",
            "\n",
            "Chain 1 \n",
            "\n",
            "Chain 1 Informational Message: The current Metropolis proposal is about to be rejected because of the following issue:\n",
            "\n",
            "Chain 1 Exception: normal_lpdf: Location parameter[1] is inf, but must be finite! (in '/tmp/RtmpdYT4HS/model-1a8363e9d1c.stan', line 30, column 4 to column 33)\n",
            "\n",
            "Chain 1 If this warning occurs sporadically, such as for highly constrained variable types like covariance matrices, then the sampler is fine,\n",
            "\n",
            "Chain 1 but if this warning occurs often then your model may be either severely ill-conditioned or misspecified.\n",
            "\n",
            "Chain 1 \n",
            "\n"
          ]
        },
        {
          "output_type": "stream",
          "name": "stdout",
          "text": [
            "Chain 2 Iteration:   1 / 1000 [  0%]  (Warmup) \n"
          ]
        },
        {
          "output_type": "stream",
          "name": "stderr",
          "text": [
            "Chain 2 Informational Message: The current Metropolis proposal is about to be rejected because of the following issue:\n",
            "\n",
            "Chain 2 Exception: normal_lpdf: Location parameter[1] is inf, but must be finite! (in '/tmp/RtmpdYT4HS/model-1a8363e9d1c.stan', line 30, column 4 to column 33)\n",
            "\n",
            "Chain 2 If this warning occurs sporadically, such as for highly constrained variable types like covariance matrices, then the sampler is fine,\n",
            "\n",
            "Chain 2 but if this warning occurs often then your model may be either severely ill-conditioned or misspecified.\n",
            "\n",
            "Chain 2 \n",
            "\n",
            "Chain 2 Informational Message: The current Metropolis proposal is about to be rejected because of the following issue:\n",
            "\n",
            "Chain 2 Exception: normal_lpdf: Location parameter[1] is inf, but must be finite! (in '/tmp/RtmpdYT4HS/model-1a8363e9d1c.stan', line 30, column 4 to column 33)\n",
            "\n",
            "Chain 2 If this warning occurs sporadically, such as for highly constrained variable types like covariance matrices, then the sampler is fine,\n",
            "\n",
            "Chain 2 but if this warning occurs often then your model may be either severely ill-conditioned or misspecified.\n",
            "\n",
            "Chain 2 \n",
            "\n",
            "Chain 2 Informational Message: The current Metropolis proposal is about to be rejected because of the following issue:\n",
            "\n",
            "Chain 2 Exception: normal_lpdf: Location parameter[1] is inf, but must be finite! (in '/tmp/RtmpdYT4HS/model-1a8363e9d1c.stan', line 30, column 4 to column 33)\n",
            "\n",
            "Chain 2 If this warning occurs sporadically, such as for highly constrained variable types like covariance matrices, then the sampler is fine,\n",
            "\n",
            "Chain 2 but if this warning occurs often then your model may be either severely ill-conditioned or misspecified.\n",
            "\n",
            "Chain 2 \n",
            "\n",
            "Chain 2 Informational Message: The current Metropolis proposal is about to be rejected because of the following issue:\n",
            "\n",
            "Chain 2 Exception: normal_lpdf: Location parameter[1] is inf, but must be finite! (in '/tmp/RtmpdYT4HS/model-1a8363e9d1c.stan', line 30, column 4 to column 33)\n",
            "\n",
            "Chain 2 If this warning occurs sporadically, such as for highly constrained variable types like covariance matrices, then the sampler is fine,\n",
            "\n",
            "Chain 2 but if this warning occurs often then your model may be either severely ill-conditioned or misspecified.\n",
            "\n",
            "Chain 2 \n",
            "\n",
            "Chain 2 Informational Message: The current Metropolis proposal is about to be rejected because of the following issue:\n",
            "\n",
            "Chain 2 Exception: normal_lpdf: Location parameter[1] is inf, but must be finite! (in '/tmp/RtmpdYT4HS/model-1a8363e9d1c.stan', line 30, column 4 to column 33)\n",
            "\n",
            "Chain 2 If this warning occurs sporadically, such as for highly constrained variable types like covariance matrices, then the sampler is fine,\n",
            "\n",
            "Chain 2 but if this warning occurs often then your model may be either severely ill-conditioned or misspecified.\n",
            "\n",
            "Chain 2 \n",
            "\n",
            "Chain 2 Informational Message: The current Metropolis proposal is about to be rejected because of the following issue:\n",
            "\n",
            "Chain 2 Exception: normal_lpdf: Location parameter[1] is inf, but must be finite! (in '/tmp/RtmpdYT4HS/model-1a8363e9d1c.stan', line 30, column 4 to column 33)\n",
            "\n",
            "Chain 2 If this warning occurs sporadically, such as for highly constrained variable types like covariance matrices, then the sampler is fine,\n",
            "\n",
            "Chain 2 but if this warning occurs often then your model may be either severely ill-conditioned or misspecified.\n",
            "\n",
            "Chain 2 \n",
            "\n",
            "Chain 2 Informational Message: The current Metropolis proposal is about to be rejected because of the following issue:\n",
            "\n",
            "Chain 2 Exception: normal_lpdf: Location parameter[1] is inf, but must be finite! (in '/tmp/RtmpdYT4HS/model-1a8363e9d1c.stan', line 30, column 4 to column 33)\n",
            "\n",
            "Chain 2 If this warning occurs sporadically, such as for highly constrained variable types like covariance matrices, then the sampler is fine,\n",
            "\n",
            "Chain 2 but if this warning occurs often then your model may be either severely ill-conditioned or misspecified.\n",
            "\n",
            "Chain 2 \n",
            "\n",
            "Chain 2 Informational Message: The current Metropolis proposal is about to be rejected because of the following issue:\n",
            "\n",
            "Chain 2 Exception: normal_lpdf: Location parameter[1] is inf, but must be finite! (in '/tmp/RtmpdYT4HS/model-1a8363e9d1c.stan', line 30, column 4 to column 33)\n",
            "\n",
            "Chain 2 If this warning occurs sporadically, such as for highly constrained variable types like covariance matrices, then the sampler is fine,\n",
            "\n",
            "Chain 2 but if this warning occurs often then your model may be either severely ill-conditioned or misspecified.\n",
            "\n",
            "Chain 2 \n",
            "\n",
            "Chain 2 Informational Message: The current Metropolis proposal is about to be rejected because of the following issue:\n",
            "\n",
            "Chain 2 Exception: normal_lpdf: Location parameter[241] is inf, but must be finite! (in '/tmp/RtmpdYT4HS/model-1a8363e9d1c.stan', line 30, column 4 to column 33)\n",
            "\n",
            "Chain 2 If this warning occurs sporadically, such as for highly constrained variable types like covariance matrices, then the sampler is fine,\n",
            "\n",
            "Chain 2 but if this warning occurs often then your model may be either severely ill-conditioned or misspecified.\n",
            "\n",
            "Chain 2 \n",
            "\n",
            "Chain 2 Informational Message: The current Metropolis proposal is about to be rejected because of the following issue:\n",
            "\n",
            "Chain 2 Exception: normal_lpdf: Location parameter[1] is inf, but must be finite! (in '/tmp/RtmpdYT4HS/model-1a8363e9d1c.stan', line 30, column 4 to column 33)\n",
            "\n",
            "Chain 2 If this warning occurs sporadically, such as for highly constrained variable types like covariance matrices, then the sampler is fine,\n",
            "\n",
            "Chain 2 but if this warning occurs often then your model may be either severely ill-conditioned or misspecified.\n",
            "\n",
            "Chain 2 \n",
            "\n",
            "Chain 2 Informational Message: The current Metropolis proposal is about to be rejected because of the following issue:\n",
            "\n",
            "Chain 2 Exception: normal_lpdf: Location parameter[1] is inf, but must be finite! (in '/tmp/RtmpdYT4HS/model-1a8363e9d1c.stan', line 30, column 4 to column 33)\n",
            "\n",
            "Chain 2 If this warning occurs sporadically, such as for highly constrained variable types like covariance matrices, then the sampler is fine,\n",
            "\n",
            "Chain 2 but if this warning occurs often then your model may be either severely ill-conditioned or misspecified.\n",
            "\n",
            "Chain 2 \n",
            "\n",
            "Chain 2 Informational Message: The current Metropolis proposal is about to be rejected because of the following issue:\n",
            "\n",
            "Chain 2 Exception: normal_lpdf: Location parameter[1] is inf, but must be finite! (in '/tmp/RtmpdYT4HS/model-1a8363e9d1c.stan', line 30, column 4 to column 33)\n",
            "\n",
            "Chain 2 If this warning occurs sporadically, such as for highly constrained variable types like covariance matrices, then the sampler is fine,\n",
            "\n",
            "Chain 2 but if this warning occurs often then your model may be either severely ill-conditioned or misspecified.\n",
            "\n",
            "Chain 2 \n",
            "\n"
          ]
        },
        {
          "output_type": "stream",
          "name": "stdout",
          "text": [
            "Chain 3 Iteration:   1 / 1000 [  0%]  (Warmup) \n"
          ]
        },
        {
          "output_type": "stream",
          "name": "stderr",
          "text": [
            "Chain 3 Informational Message: The current Metropolis proposal is about to be rejected because of the following issue:\n",
            "\n",
            "Chain 3 Exception: normal_lpdf: Location parameter[1] is inf, but must be finite! (in '/tmp/RtmpdYT4HS/model-1a8363e9d1c.stan', line 30, column 4 to column 33)\n",
            "\n",
            "Chain 3 If this warning occurs sporadically, such as for highly constrained variable types like covariance matrices, then the sampler is fine,\n",
            "\n",
            "Chain 3 but if this warning occurs often then your model may be either severely ill-conditioned or misspecified.\n",
            "\n",
            "Chain 3 \n",
            "\n",
            "Chain 3 Informational Message: The current Metropolis proposal is about to be rejected because of the following issue:\n",
            "\n",
            "Chain 3 Exception: normal_lpdf: Location parameter[1] is inf, but must be finite! (in '/tmp/RtmpdYT4HS/model-1a8363e9d1c.stan', line 30, column 4 to column 33)\n",
            "\n",
            "Chain 3 If this warning occurs sporadically, such as for highly constrained variable types like covariance matrices, then the sampler is fine,\n",
            "\n",
            "Chain 3 but if this warning occurs often then your model may be either severely ill-conditioned or misspecified.\n",
            "\n",
            "Chain 3 \n",
            "\n",
            "Chain 3 Informational Message: The current Metropolis proposal is about to be rejected because of the following issue:\n",
            "\n",
            "Chain 3 Exception: normal_lpdf: Location parameter[1] is inf, but must be finite! (in '/tmp/RtmpdYT4HS/model-1a8363e9d1c.stan', line 30, column 4 to column 33)\n",
            "\n",
            "Chain 3 If this warning occurs sporadically, such as for highly constrained variable types like covariance matrices, then the sampler is fine,\n",
            "\n",
            "Chain 3 but if this warning occurs often then your model may be either severely ill-conditioned or misspecified.\n",
            "\n",
            "Chain 3 \n",
            "\n",
            "Chain 3 Informational Message: The current Metropolis proposal is about to be rejected because of the following issue:\n",
            "\n",
            "Chain 3 Exception: normal_lpdf: Location parameter[1] is inf, but must be finite! (in '/tmp/RtmpdYT4HS/model-1a8363e9d1c.stan', line 30, column 4 to column 33)\n",
            "\n",
            "Chain 3 If this warning occurs sporadically, such as for highly constrained variable types like covariance matrices, then the sampler is fine,\n",
            "\n",
            "Chain 3 but if this warning occurs often then your model may be either severely ill-conditioned or misspecified.\n",
            "\n",
            "Chain 3 \n",
            "\n",
            "Chain 3 Informational Message: The current Metropolis proposal is about to be rejected because of the following issue:\n",
            "\n",
            "Chain 3 Exception: normal_lpdf: Location parameter[1] is inf, but must be finite! (in '/tmp/RtmpdYT4HS/model-1a8363e9d1c.stan', line 30, column 4 to column 33)\n",
            "\n",
            "Chain 3 If this warning occurs sporadically, such as for highly constrained variable types like covariance matrices, then the sampler is fine,\n",
            "\n",
            "Chain 3 but if this warning occurs often then your model may be either severely ill-conditioned or misspecified.\n",
            "\n",
            "Chain 3 \n",
            "\n",
            "Chain 3 Informational Message: The current Metropolis proposal is about to be rejected because of the following issue:\n",
            "\n",
            "Chain 3 Exception: normal_lpdf: Location parameter[1] is inf, but must be finite! (in '/tmp/RtmpdYT4HS/model-1a8363e9d1c.stan', line 30, column 4 to column 33)\n",
            "\n",
            "Chain 3 If this warning occurs sporadically, such as for highly constrained variable types like covariance matrices, then the sampler is fine,\n",
            "\n",
            "Chain 3 but if this warning occurs often then your model may be either severely ill-conditioned or misspecified.\n",
            "\n",
            "Chain 3 \n",
            "\n"
          ]
        },
        {
          "output_type": "stream",
          "name": "stdout",
          "text": [
            "Chain 4 Iteration:   1 / 1000 [  0%]  (Warmup) \n"
          ]
        },
        {
          "output_type": "stream",
          "name": "stderr",
          "text": [
            "Chain 4 Informational Message: The current Metropolis proposal is about to be rejected because of the following issue:\n",
            "\n",
            "Chain 4 Exception: normal_lpdf: Location parameter[1] is inf, but must be finite! (in '/tmp/RtmpdYT4HS/model-1a8363e9d1c.stan', line 30, column 4 to column 33)\n",
            "\n",
            "Chain 4 If this warning occurs sporadically, such as for highly constrained variable types like covariance matrices, then the sampler is fine,\n",
            "\n",
            "Chain 4 but if this warning occurs often then your model may be either severely ill-conditioned or misspecified.\n",
            "\n",
            "Chain 4 \n",
            "\n",
            "Chain 4 Informational Message: The current Metropolis proposal is about to be rejected because of the following issue:\n",
            "\n",
            "Chain 4 Exception: normal_lpdf: Location parameter[1] is inf, but must be finite! (in '/tmp/RtmpdYT4HS/model-1a8363e9d1c.stan', line 30, column 4 to column 33)\n",
            "\n",
            "Chain 4 If this warning occurs sporadically, such as for highly constrained variable types like covariance matrices, then the sampler is fine,\n",
            "\n",
            "Chain 4 but if this warning occurs often then your model may be either severely ill-conditioned or misspecified.\n",
            "\n",
            "Chain 4 \n",
            "\n",
            "Chain 4 Informational Message: The current Metropolis proposal is about to be rejected because of the following issue:\n",
            "\n",
            "Chain 4 Exception: normal_lpdf: Location parameter[1] is inf, but must be finite! (in '/tmp/RtmpdYT4HS/model-1a8363e9d1c.stan', line 30, column 4 to column 33)\n",
            "\n",
            "Chain 4 If this warning occurs sporadically, such as for highly constrained variable types like covariance matrices, then the sampler is fine,\n",
            "\n",
            "Chain 4 but if this warning occurs often then your model may be either severely ill-conditioned or misspecified.\n",
            "\n",
            "Chain 4 \n",
            "\n",
            "Chain 4 Informational Message: The current Metropolis proposal is about to be rejected because of the following issue:\n",
            "\n",
            "Chain 4 Exception: normal_lpdf: Location parameter[1] is inf, but must be finite! (in '/tmp/RtmpdYT4HS/model-1a8363e9d1c.stan', line 30, column 4 to column 33)\n",
            "\n",
            "Chain 4 If this warning occurs sporadically, such as for highly constrained variable types like covariance matrices, then the sampler is fine,\n",
            "\n",
            "Chain 4 but if this warning occurs often then your model may be either severely ill-conditioned or misspecified.\n",
            "\n",
            "Chain 4 \n",
            "\n",
            "Chain 4 Informational Message: The current Metropolis proposal is about to be rejected because of the following issue:\n",
            "\n",
            "Chain 4 Exception: normal_lpdf: Location parameter[1] is inf, but must be finite! (in '/tmp/RtmpdYT4HS/model-1a8363e9d1c.stan', line 30, column 4 to column 33)\n",
            "\n",
            "Chain 4 If this warning occurs sporadically, such as for highly constrained variable types like covariance matrices, then the sampler is fine,\n",
            "\n",
            "Chain 4 but if this warning occurs often then your model may be either severely ill-conditioned or misspecified.\n",
            "\n",
            "Chain 4 \n",
            "\n",
            "Chain 4 Informational Message: The current Metropolis proposal is about to be rejected because of the following issue:\n",
            "\n",
            "Chain 4 Exception: normal_lpdf: Location parameter[1] is inf, but must be finite! (in '/tmp/RtmpdYT4HS/model-1a8363e9d1c.stan', line 30, column 4 to column 33)\n",
            "\n",
            "Chain 4 If this warning occurs sporadically, such as for highly constrained variable types like covariance matrices, then the sampler is fine,\n",
            "\n",
            "Chain 4 but if this warning occurs often then your model may be either severely ill-conditioned or misspecified.\n",
            "\n",
            "Chain 4 \n",
            "\n",
            "Chain 4 Informational Message: The current Metropolis proposal is about to be rejected because of the following issue:\n",
            "\n",
            "Chain 4 Exception: normal_lpdf: Location parameter[1] is inf, but must be finite! (in '/tmp/RtmpdYT4HS/model-1a8363e9d1c.stan', line 30, column 4 to column 33)\n",
            "\n",
            "Chain 4 If this warning occurs sporadically, such as for highly constrained variable types like covariance matrices, then the sampler is fine,\n",
            "\n",
            "Chain 4 but if this warning occurs often then your model may be either severely ill-conditioned or misspecified.\n",
            "\n",
            "Chain 4 \n",
            "\n",
            "Chain 4 Informational Message: The current Metropolis proposal is about to be rejected because of the following issue:\n",
            "\n",
            "Chain 4 Exception: normal_lpdf: Location parameter[1] is inf, but must be finite! (in '/tmp/RtmpdYT4HS/model-1a8363e9d1c.stan', line 30, column 4 to column 33)\n",
            "\n",
            "Chain 4 If this warning occurs sporadically, such as for highly constrained variable types like covariance matrices, then the sampler is fine,\n",
            "\n",
            "Chain 4 but if this warning occurs often then your model may be either severely ill-conditioned or misspecified.\n",
            "\n",
            "Chain 4 \n",
            "\n",
            "Chain 4 Informational Message: The current Metropolis proposal is about to be rejected because of the following issue:\n",
            "\n",
            "Chain 4 Exception: normal_lpdf: Location parameter[1] is inf, but must be finite! (in '/tmp/RtmpdYT4HS/model-1a8363e9d1c.stan', line 30, column 4 to column 33)\n",
            "\n",
            "Chain 4 If this warning occurs sporadically, such as for highly constrained variable types like covariance matrices, then the sampler is fine,\n",
            "\n",
            "Chain 4 but if this warning occurs often then your model may be either severely ill-conditioned or misspecified.\n",
            "\n",
            "Chain 4 \n",
            "\n",
            "Chain 4 Informational Message: The current Metropolis proposal is about to be rejected because of the following issue:\n",
            "\n",
            "Chain 4 Exception: normal_lpdf: Location parameter[1] is inf, but must be finite! (in '/tmp/RtmpdYT4HS/model-1a8363e9d1c.stan', line 30, column 4 to column 33)\n",
            "\n",
            "Chain 4 If this warning occurs sporadically, such as for highly constrained variable types like covariance matrices, then the sampler is fine,\n",
            "\n",
            "Chain 4 but if this warning occurs often then your model may be either severely ill-conditioned or misspecified.\n",
            "\n",
            "Chain 4 \n",
            "\n"
          ]
        },
        {
          "output_type": "stream",
          "name": "stdout",
          "text": [
            "Chain 2 Iteration: 100 / 1000 [ 10%]  (Warmup) \n",
            "Chain 2 Iteration: 200 / 1000 [ 20%]  (Warmup) \n",
            "Chain 2 Iteration: 300 / 1000 [ 30%]  (Warmup) \n",
            "Chain 2 Iteration: 400 / 1000 [ 40%]  (Warmup) \n",
            "Chain 3 Iteration: 100 / 1000 [ 10%]  (Warmup) \n",
            "Chain 2 Iteration: 500 / 1000 [ 50%]  (Warmup) \n",
            "Chain 2 Iteration: 501 / 1000 [ 50%]  (Sampling) \n",
            "Chain 1 Iteration: 100 / 1000 [ 10%]  (Warmup) \n",
            "Chain 4 Iteration: 100 / 1000 [ 10%]  (Warmup) \n",
            "Chain 3 Iteration: 200 / 1000 [ 20%]  (Warmup) \n",
            "Chain 2 Iteration: 600 / 1000 [ 60%]  (Sampling) \n",
            "Chain 4 Iteration: 200 / 1000 [ 20%]  (Warmup) \n",
            "Chain 2 Iteration: 700 / 1000 [ 70%]  (Sampling) \n",
            "Chain 3 Iteration: 300 / 1000 [ 30%]  (Warmup) \n",
            "Chain 1 Iteration: 200 / 1000 [ 20%]  (Warmup) \n",
            "Chain 2 Iteration: 800 / 1000 [ 80%]  (Sampling) \n",
            "Chain 3 Iteration: 400 / 1000 [ 40%]  (Warmup) \n",
            "Chain 4 Iteration: 300 / 1000 [ 30%]  (Warmup) \n",
            "Chain 1 Iteration: 300 / 1000 [ 30%]  (Warmup) \n",
            "Chain 2 Iteration: 900 / 1000 [ 90%]  (Sampling) \n",
            "Chain 3 Iteration: 500 / 1000 [ 50%]  (Warmup) \n",
            "Chain 3 Iteration: 501 / 1000 [ 50%]  (Sampling) \n",
            "Chain 4 Iteration: 400 / 1000 [ 40%]  (Warmup) \n",
            "Chain 1 Iteration: 400 / 1000 [ 40%]  (Warmup) \n",
            "Chain 2 Iteration: 1000 / 1000 [100%]  (Sampling) \n",
            "Chain 3 Iteration: 600 / 1000 [ 60%]  (Sampling) \n",
            "Chain 4 Iteration: 500 / 1000 [ 50%]  (Warmup) \n",
            "Chain 4 Iteration: 501 / 1000 [ 50%]  (Sampling) \n",
            "Chain 2 finished in 9.2 seconds.\n",
            "Chain 1 Iteration: 500 / 1000 [ 50%]  (Warmup) \n",
            "Chain 1 Iteration: 501 / 1000 [ 50%]  (Sampling) \n",
            "Chain 3 Iteration: 700 / 1000 [ 70%]  (Sampling) \n",
            "Chain 4 Iteration: 600 / 1000 [ 60%]  (Sampling) \n",
            "Chain 1 Iteration: 600 / 1000 [ 60%]  (Sampling) \n",
            "Chain 3 Iteration: 800 / 1000 [ 80%]  (Sampling) \n",
            "Chain 4 Iteration: 700 / 1000 [ 70%]  (Sampling) \n",
            "Chain 1 Iteration: 700 / 1000 [ 70%]  (Sampling) \n",
            "Chain 3 Iteration: 900 / 1000 [ 90%]  (Sampling) \n",
            "Chain 1 Iteration: 800 / 1000 [ 80%]  (Sampling) \n",
            "Chain 3 Iteration: 1000 / 1000 [100%]  (Sampling) \n",
            "Chain 4 Iteration: 800 / 1000 [ 80%]  (Sampling) \n",
            "Chain 3 finished in 9.9 seconds.\n",
            "Chain 4 Iteration: 900 / 1000 [ 90%]  (Sampling) \n",
            "Chain 1 Iteration: 900 / 1000 [ 90%]  (Sampling) \n",
            "Chain 1 Iteration: 1000 / 1000 [100%]  (Sampling) \n",
            "Chain 4 Iteration: 1000 / 1000 [100%]  (Sampling) \n",
            "Chain 1 finished in 10.4 seconds.\n",
            "Chain 4 finished in 10.1 seconds.\n",
            "\n",
            "All 4 chains finished successfully.\n",
            "Mean chain execution time: 9.9 seconds.\n",
            "Total execution time: 10.5 seconds.\n",
            "\n"
          ]
        },
        {
          "output_type": "display_data",
          "data": {
            "text/html": [
              "<table class=\"dataframe\">\n",
              "<caption>A precis: 9 × 6</caption>\n",
              "<thead>\n",
              "\t<tr><th></th><th scope=col>mean</th><th scope=col>sd</th><th scope=col>5.5%</th><th scope=col>94.5%</th><th scope=col>rhat</th><th scope=col>ess_bulk</th></tr>\n",
              "\t<tr><th></th><th scope=col>&lt;dbl&gt;</th><th scope=col>&lt;dbl&gt;</th><th scope=col>&lt;dbl&gt;</th><th scope=col>&lt;dbl&gt;</th><th scope=col>&lt;dbl&gt;</th><th scope=col>&lt;dbl&gt;</th></tr>\n",
              "</thead>\n",
              "<tbody>\n",
              "\t<tr><th scope=row>b_time[1]</th><td> 18.687777</td><td>0.1271628</td><td> 18.482789</td><td> 18.8876000</td><td>0.9995170</td><td>2549.161</td></tr>\n",
              "\t<tr><th scope=row>b_time[2]</th><td> 22.293685</td><td>0.1326513</td><td> 22.085800</td><td> 22.5149220</td><td>1.0022904</td><td>2280.878</td></tr>\n",
              "\t<tr><th scope=row>b24[1]</th><td>-59.846677</td><td>2.5680263</td><td>-63.916399</td><td>-55.7749450</td><td>1.0019240</td><td>1903.061</td></tr>\n",
              "\t<tr><th scope=row>b24[2]</th><td>-57.765088</td><td>2.6692499</td><td>-62.121172</td><td>-53.5365075</td><td>0.9997857</td><td>1734.766</td></tr>\n",
              "\t<tr><th scope=row>b12[1]</th><td> -4.510742</td><td>2.4804576</td><td> -8.290098</td><td> -0.4985688</td><td>1.0017500</td><td>2375.762</td></tr>\n",
              "\t<tr><th scope=row>b12[2]</th><td> -2.405866</td><td>2.4696885</td><td> -6.413484</td><td>  1.3619744</td><td>1.0008195</td><td>2161.211</td></tr>\n",
              "\t<tr><th scope=row>b6[1]</th><td> -4.264897</td><td>2.4420277</td><td> -8.237186</td><td> -0.2811537</td><td>1.0015021</td><td>1741.085</td></tr>\n",
              "\t<tr><th scope=row>b6[2]</th><td> -3.110151</td><td>2.5422956</td><td> -7.062474</td><td>  0.9022415</td><td>1.0004348</td><td>1878.855</td></tr>\n",
              "\t<tr><th scope=row>sigma</th><td> 26.880584</td><td>0.8506596</td><td> 25.563333</td><td> 28.2341235</td><td>0.9989069</td><td>2741.844</td></tr>\n",
              "</tbody>\n",
              "</table>\n"
            ],
            "text/markdown": "\nA precis: 9 × 6\n\n| <!--/--> | mean &lt;dbl&gt; | sd &lt;dbl&gt; | 5.5% &lt;dbl&gt; | 94.5% &lt;dbl&gt; | rhat &lt;dbl&gt; | ess_bulk &lt;dbl&gt; |\n|---|---|---|---|---|---|---|\n| b_time[1] |  18.687777 | 0.1271628 |  18.482789 |  18.8876000 | 0.9995170 | 2549.161 |\n| b_time[2] |  22.293685 | 0.1326513 |  22.085800 |  22.5149220 | 1.0022904 | 2280.878 |\n| b24[1] | -59.846677 | 2.5680263 | -63.916399 | -55.7749450 | 1.0019240 | 1903.061 |\n| b24[2] | -57.765088 | 2.6692499 | -62.121172 | -53.5365075 | 0.9997857 | 1734.766 |\n| b12[1] |  -4.510742 | 2.4804576 |  -8.290098 |  -0.4985688 | 1.0017500 | 2375.762 |\n| b12[2] |  -2.405866 | 2.4696885 |  -6.413484 |   1.3619744 | 1.0008195 | 2161.211 |\n| b6[1] |  -4.264897 | 2.4420277 |  -8.237186 |  -0.2811537 | 1.0015021 | 1741.085 |\n| b6[2] |  -3.110151 | 2.5422956 |  -7.062474 |   0.9022415 | 1.0004348 | 1878.855 |\n| sigma |  26.880584 | 0.8506596 |  25.563333 |  28.2341235 | 0.9989069 | 2741.844 |\n\n",
            "text/latex": "A precis: 9 × 6\n\\begin{tabular}{r|llllll}\n  & mean & sd & 5.5\\% & 94.5\\% & rhat & ess\\_bulk\\\\\n  & <dbl> & <dbl> & <dbl> & <dbl> & <dbl> & <dbl>\\\\\n\\hline\n\tb\\_time{[}1{]} &  18.687777 & 0.1271628 &  18.482789 &  18.8876000 & 0.9995170 & 2549.161\\\\\n\tb\\_time{[}2{]} &  22.293685 & 0.1326513 &  22.085800 &  22.5149220 & 1.0022904 & 2280.878\\\\\n\tb24{[}1{]} & -59.846677 & 2.5680263 & -63.916399 & -55.7749450 & 1.0019240 & 1903.061\\\\\n\tb24{[}2{]} & -57.765088 & 2.6692499 & -62.121172 & -53.5365075 & 0.9997857 & 1734.766\\\\\n\tb12{[}1{]} &  -4.510742 & 2.4804576 &  -8.290098 &  -0.4985688 & 1.0017500 & 2375.762\\\\\n\tb12{[}2{]} &  -2.405866 & 2.4696885 &  -6.413484 &   1.3619744 & 1.0008195 & 2161.211\\\\\n\tb6{[}1{]} &  -4.264897 & 2.4420277 &  -8.237186 &  -0.2811537 & 1.0015021 & 1741.085\\\\\n\tb6{[}2{]} &  -3.110151 & 2.5422956 &  -7.062474 &   0.9022415 & 1.0004348 & 1878.855\\\\\n\tsigma &  26.880584 & 0.8506596 &  25.563333 &  28.2341235 & 0.9989069 & 2741.844\\\\\n\\end{tabular}\n",
            "text/plain": [
              "          mean       sd        5.5%       94.5%       rhat      ess_bulk\n",
              "b_time[1]  18.687777 0.1271628  18.482789  18.8876000 0.9995170 2549.161\n",
              "b_time[2]  22.293685 0.1326513  22.085800  22.5149220 1.0022904 2280.878\n",
              "b24[1]    -59.846677 2.5680263 -63.916399 -55.7749450 1.0019240 1903.061\n",
              "b24[2]    -57.765088 2.6692499 -62.121172 -53.5365075 0.9997857 1734.766\n",
              "b12[1]     -4.510742 2.4804576  -8.290098  -0.4985688 1.0017500 2375.762\n",
              "b12[2]     -2.405866 2.4696885  -6.413484   1.3619744 1.0008195 2161.211\n",
              "b6[1]      -4.264897 2.4420277  -8.237186  -0.2811537 1.0015021 1741.085\n",
              "b6[2]      -3.110151 2.5422956  -7.062474   0.9022415 1.0004348 1878.855\n",
              "sigma      26.880584 0.8506596  25.563333  28.2341235 0.9989069 2741.844"
            ]
          },
          "metadata": {}
        }
      ]
    },
    {
      "cell_type": "markdown",
      "source": [
        "## Incorporating REMS\n",
        "\n",
        "To this point, we've only included NREMS.  But we also need REMS to fully capture sleep.  As a first approach, we might simply add an additional model for REMS that parallels the model for NREMS."
      ],
      "metadata": {
        "id": "XrjGyiiHkPC8"
      }
    },
    {
      "cell_type": "markdown",
      "source": [
        "### Model 4"
      ],
      "metadata": {
        "id": "y-ffe3P2kewD"
      }
    },
    {
      "cell_type": "code",
      "source": [
        "S_model_4 <- ulam(\n",
        "  alist(\n",
        "    NREMS ~ dnorm(muN, sigmaN),\n",
        "      muN <- N_time[treatment]*time +\n",
        "            N24[treatment]*sine24 +\n",
        "            N12[treatment]*sine12 +\n",
        "            N6[treatment]*sine6,\n",
        "              N_time[treatment] ~ dnorm(30, 10),\n",
        "              N24[treatment] ~ dnorm(0, 20),\n",
        "              N12[treatment] ~ dnorm(0, 20),\n",
        "              N6[treatment] ~ dnorm(0, 20),\n",
        "      sigmaN ~ dexp(1),\n",
        "\n",
        "    REMS ~ dnorm(muR, sigmaR),\n",
        "      muR <- R_time[treatment]*time +\n",
        "             R24[treatment]*sine24 +\n",
        "             R12[treatment]*sine12 +\n",
        "             R6[treatment]*sine6,\n",
        "               R_time[treatment] ~ dnorm(10, 5),\n",
        "               R24[treatment] ~ dnorm(0, 10),\n",
        "               R12[treatment] ~ dnorm(0, 10),\n",
        "               R6[treatment] ~ dnorm(0, 10),\n",
        "       sigmaR ~ dexp(1)\n",
        "  ), data=list(NREMS=Sleep_All$NREMS,\n",
        "               REMS=Sleep_All$REMS,\n",
        "               treatment=as.integer(Sleep_All$treatment)+1,\n",
        "               time=Sleep_All$Block,\n",
        "               TotalPreviousSleep=Sleep_All$TotalPreviousSleep,\n",
        "               sine24=sine24, sine12=sine12, sine6=sine6, sine3=sine3, sine1_5=sine1_5, sine0_5=sine0_75),\n",
        "     constraints=list(b_time=\"lower=0\"),\n",
        "     chains=4,\n",
        "     cores=4,\n",
        "     iter=1000,\n",
        "     log_lik=TRUE\n",
        ")\n",
        "\n",
        "precis(S_model_4, depth=2)"
      ],
      "metadata": {
        "colab": {
          "base_uri": "https://localhost:8080/",
          "height": 1000
        },
        "id": "Eeph4IZIkkmI",
        "outputId": "cc82c207-0873-468d-d6ba-34be2cb4595a"
      },
      "execution_count": 40,
      "outputs": [
        {
          "output_type": "stream",
          "name": "stdout",
          "text": [
            "Running MCMC with 4 parallel chains, with 1 thread(s) per chain...\n",
            "\n",
            "Chain 1 Iteration:   1 / 1000 [  0%]  (Warmup) \n",
            "Chain 2 Iteration:   1 / 1000 [  0%]  (Warmup) \n",
            "Chain 3 Iteration:   1 / 1000 [  0%]  (Warmup) \n",
            "Chain 4 Iteration:   1 / 1000 [  0%]  (Warmup) \n",
            "Chain 1 Iteration: 100 / 1000 [ 10%]  (Warmup) \n",
            "Chain 2 Iteration: 100 / 1000 [ 10%]  (Warmup) \n",
            "Chain 2 Iteration: 200 / 1000 [ 20%]  (Warmup) \n",
            "Chain 1 Iteration: 200 / 1000 [ 20%]  (Warmup) \n",
            "Chain 3 Iteration: 100 / 1000 [ 10%]  (Warmup) \n",
            "Chain 1 Iteration: 300 / 1000 [ 30%]  (Warmup) \n",
            "Chain 2 Iteration: 300 / 1000 [ 30%]  (Warmup) \n",
            "Chain 4 Iteration: 100 / 1000 [ 10%]  (Warmup) \n",
            "Chain 3 Iteration: 200 / 1000 [ 20%]  (Warmup) \n",
            "Chain 1 Iteration: 400 / 1000 [ 40%]  (Warmup) \n",
            "Chain 2 Iteration: 400 / 1000 [ 40%]  (Warmup) \n",
            "Chain 3 Iteration: 300 / 1000 [ 30%]  (Warmup) \n",
            "Chain 4 Iteration: 200 / 1000 [ 20%]  (Warmup) \n",
            "Chain 2 Iteration: 500 / 1000 [ 50%]  (Warmup) \n",
            "Chain 2 Iteration: 501 / 1000 [ 50%]  (Sampling) \n",
            "Chain 1 Iteration: 500 / 1000 [ 50%]  (Warmup) \n",
            "Chain 1 Iteration: 501 / 1000 [ 50%]  (Sampling) \n",
            "Chain 3 Iteration: 400 / 1000 [ 40%]  (Warmup) \n",
            "Chain 4 Iteration: 300 / 1000 [ 30%]  (Warmup) \n",
            "Chain 1 Iteration: 600 / 1000 [ 60%]  (Sampling) \n",
            "Chain 2 Iteration: 600 / 1000 [ 60%]  (Sampling) \n",
            "Chain 3 Iteration: 500 / 1000 [ 50%]  (Warmup) \n",
            "Chain 3 Iteration: 501 / 1000 [ 50%]  (Sampling) \n",
            "Chain 4 Iteration: 400 / 1000 [ 40%]  (Warmup) \n",
            "Chain 1 Iteration: 700 / 1000 [ 70%]  (Sampling) \n",
            "Chain 2 Iteration: 700 / 1000 [ 70%]  (Sampling) \n",
            "Chain 3 Iteration: 600 / 1000 [ 60%]  (Sampling) \n",
            "Chain 4 Iteration: 500 / 1000 [ 50%]  (Warmup) \n",
            "Chain 4 Iteration: 501 / 1000 [ 50%]  (Sampling) \n",
            "Chain 1 Iteration: 800 / 1000 [ 80%]  (Sampling) \n",
            "Chain 2 Iteration: 800 / 1000 [ 80%]  (Sampling) \n",
            "Chain 3 Iteration: 700 / 1000 [ 70%]  (Sampling) \n",
            "Chain 4 Iteration: 600 / 1000 [ 60%]  (Sampling) \n",
            "Chain 1 Iteration: 900 / 1000 [ 90%]  (Sampling) \n",
            "Chain 2 Iteration: 900 / 1000 [ 90%]  (Sampling) \n",
            "Chain 3 Iteration: 800 / 1000 [ 80%]  (Sampling) \n",
            "Chain 4 Iteration: 700 / 1000 [ 70%]  (Sampling) \n",
            "Chain 1 Iteration: 1000 / 1000 [100%]  (Sampling) \n",
            "Chain 2 Iteration: 1000 / 1000 [100%]  (Sampling) \n",
            "Chain 1 finished in 12.0 seconds.\n",
            "Chain 2 finished in 11.8 seconds.\n",
            "Chain 4 Iteration: 800 / 1000 [ 80%]  (Sampling) \n",
            "Chain 3 Iteration: 900 / 1000 [ 90%]  (Sampling) \n",
            "Chain 4 Iteration: 900 / 1000 [ 90%]  (Sampling) \n",
            "Chain 3 Iteration: 1000 / 1000 [100%]  (Sampling) \n",
            "Chain 3 finished in 12.4 seconds.\n",
            "Chain 4 Iteration: 1000 / 1000 [100%]  (Sampling) \n",
            "Chain 4 finished in 12.4 seconds.\n",
            "\n",
            "All 4 chains finished successfully.\n",
            "Mean chain execution time: 12.1 seconds.\n",
            "Total execution time: 12.8 seconds.\n",
            "\n"
          ]
        },
        {
          "output_type": "display_data",
          "data": {
            "text/html": [
              "<table class=\"dataframe\">\n",
              "<caption>A precis: 18 × 6</caption>\n",
              "<thead>\n",
              "\t<tr><th></th><th scope=col>mean</th><th scope=col>sd</th><th scope=col>5.5%</th><th scope=col>94.5%</th><th scope=col>rhat</th><th scope=col>ess_bulk</th></tr>\n",
              "\t<tr><th></th><th scope=col>&lt;dbl&gt;</th><th scope=col>&lt;dbl&gt;</th><th scope=col>&lt;dbl&gt;</th><th scope=col>&lt;dbl&gt;</th><th scope=col>&lt;dbl&gt;</th><th scope=col>&lt;dbl&gt;</th></tr>\n",
              "</thead>\n",
              "<tbody>\n",
              "\t<tr><th scope=row>N_time[1]</th><td> 18.686355</td><td>0.13363267</td><td> 18.473100</td><td> 18.8952760</td><td>1.0054821</td><td>2529.520</td></tr>\n",
              "\t<tr><th scope=row>N_time[2]</th><td> 22.289158</td><td>0.13416303</td><td> 22.065678</td><td> 22.5014110</td><td>1.0006047</td><td>2546.275</td></tr>\n",
              "\t<tr><th scope=row>N24[1]</th><td>-59.881264</td><td>2.60169568</td><td>-64.130528</td><td>-55.8938545</td><td>1.0001355</td><td>2874.918</td></tr>\n",
              "\t<tr><th scope=row>N24[2]</th><td>-57.837916</td><td>2.61577871</td><td>-62.119669</td><td>-53.7682900</td><td>0.9987761</td><td>2871.605</td></tr>\n",
              "\t<tr><th scope=row>N12[1]</th><td> -4.575603</td><td>2.50957739</td><td> -8.563599</td><td> -0.6380260</td><td>1.0053389</td><td>3157.218</td></tr>\n",
              "\t<tr><th scope=row>N12[2]</th><td> -2.459777</td><td>2.48305729</td><td> -6.486761</td><td>  1.4490850</td><td>1.0013783</td><td>3115.005</td></tr>\n",
              "\t<tr><th scope=row>N6[1]</th><td> -4.229703</td><td>2.38794536</td><td> -8.000588</td><td> -0.5295448</td><td>1.0065589</td><td>2882.004</td></tr>\n",
              "\t<tr><th scope=row>N6[2]</th><td> -3.181142</td><td>2.53503158</td><td> -7.176961</td><td>  0.8323668</td><td>1.0050521</td><td>2930.346</td></tr>\n",
              "\t<tr><th scope=row>sigmaN</th><td> 26.920686</td><td>0.85302787</td><td> 25.585692</td><td> 28.3069575</td><td>1.0139566</td><td>3096.653</td></tr>\n",
              "\t<tr><th scope=row>R_time[1]</th><td>  2.169871</td><td>0.03399970</td><td>  2.114869</td><td>  2.2249627</td><td>1.0037217</td><td>2570.337</td></tr>\n",
              "\t<tr><th scope=row>R_time[2]</th><td>  2.117263</td><td>0.03287694</td><td>  2.064597</td><td>  2.1698317</td><td>0.9996658</td><td>2853.660</td></tr>\n",
              "\t<tr><th scope=row>R24[1]</th><td> -5.590624</td><td>0.65739286</td><td> -6.644878</td><td> -4.5655743</td><td>1.0021191</td><td>2449.505</td></tr>\n",
              "\t<tr><th scope=row>R24[2]</th><td> -5.459577</td><td>0.64379337</td><td> -6.494170</td><td> -4.4194441</td><td>1.0018033</td><td>2462.804</td></tr>\n",
              "\t<tr><th scope=row>R12[1]</th><td> -3.088901</td><td>0.62747531</td><td> -4.092760</td><td> -2.0861714</td><td>1.0038873</td><td>2969.894</td></tr>\n",
              "\t<tr><th scope=row>R12[2]</th><td> -3.005269</td><td>0.61975326</td><td> -3.966698</td><td> -1.9565914</td><td>1.0038501</td><td>3229.359</td></tr>\n",
              "\t<tr><th scope=row>R6[1]</th><td> -1.425542</td><td>0.59354399</td><td> -2.376439</td><td> -0.4790030</td><td>1.0000518</td><td>2600.867</td></tr>\n",
              "\t<tr><th scope=row>R6[2]</th><td> -1.407241</td><td>0.61926919</td><td> -2.428671</td><td> -0.4170093</td><td>1.0014183</td><td>3379.175</td></tr>\n",
              "\t<tr><th scope=row>sigmaR</th><td>  6.569537</td><td>0.20569811</td><td>  6.253594</td><td>  6.9162508</td><td>1.0037094</td><td>2823.590</td></tr>\n",
              "</tbody>\n",
              "</table>\n"
            ],
            "text/markdown": "\nA precis: 18 × 6\n\n| <!--/--> | mean &lt;dbl&gt; | sd &lt;dbl&gt; | 5.5% &lt;dbl&gt; | 94.5% &lt;dbl&gt; | rhat &lt;dbl&gt; | ess_bulk &lt;dbl&gt; |\n|---|---|---|---|---|---|---|\n| N_time[1] |  18.686355 | 0.13363267 |  18.473100 |  18.8952760 | 1.0054821 | 2529.520 |\n| N_time[2] |  22.289158 | 0.13416303 |  22.065678 |  22.5014110 | 1.0006047 | 2546.275 |\n| N24[1] | -59.881264 | 2.60169568 | -64.130528 | -55.8938545 | 1.0001355 | 2874.918 |\n| N24[2] | -57.837916 | 2.61577871 | -62.119669 | -53.7682900 | 0.9987761 | 2871.605 |\n| N12[1] |  -4.575603 | 2.50957739 |  -8.563599 |  -0.6380260 | 1.0053389 | 3157.218 |\n| N12[2] |  -2.459777 | 2.48305729 |  -6.486761 |   1.4490850 | 1.0013783 | 3115.005 |\n| N6[1] |  -4.229703 | 2.38794536 |  -8.000588 |  -0.5295448 | 1.0065589 | 2882.004 |\n| N6[2] |  -3.181142 | 2.53503158 |  -7.176961 |   0.8323668 | 1.0050521 | 2930.346 |\n| sigmaN |  26.920686 | 0.85302787 |  25.585692 |  28.3069575 | 1.0139566 | 3096.653 |\n| R_time[1] |   2.169871 | 0.03399970 |   2.114869 |   2.2249627 | 1.0037217 | 2570.337 |\n| R_time[2] |   2.117263 | 0.03287694 |   2.064597 |   2.1698317 | 0.9996658 | 2853.660 |\n| R24[1] |  -5.590624 | 0.65739286 |  -6.644878 |  -4.5655743 | 1.0021191 | 2449.505 |\n| R24[2] |  -5.459577 | 0.64379337 |  -6.494170 |  -4.4194441 | 1.0018033 | 2462.804 |\n| R12[1] |  -3.088901 | 0.62747531 |  -4.092760 |  -2.0861714 | 1.0038873 | 2969.894 |\n| R12[2] |  -3.005269 | 0.61975326 |  -3.966698 |  -1.9565914 | 1.0038501 | 3229.359 |\n| R6[1] |  -1.425542 | 0.59354399 |  -2.376439 |  -0.4790030 | 1.0000518 | 2600.867 |\n| R6[2] |  -1.407241 | 0.61926919 |  -2.428671 |  -0.4170093 | 1.0014183 | 3379.175 |\n| sigmaR |   6.569537 | 0.20569811 |   6.253594 |   6.9162508 | 1.0037094 | 2823.590 |\n\n",
            "text/latex": "A precis: 18 × 6\n\\begin{tabular}{r|llllll}\n  & mean & sd & 5.5\\% & 94.5\\% & rhat & ess\\_bulk\\\\\n  & <dbl> & <dbl> & <dbl> & <dbl> & <dbl> & <dbl>\\\\\n\\hline\n\tN\\_time{[}1{]} &  18.686355 & 0.13363267 &  18.473100 &  18.8952760 & 1.0054821 & 2529.520\\\\\n\tN\\_time{[}2{]} &  22.289158 & 0.13416303 &  22.065678 &  22.5014110 & 1.0006047 & 2546.275\\\\\n\tN24{[}1{]} & -59.881264 & 2.60169568 & -64.130528 & -55.8938545 & 1.0001355 & 2874.918\\\\\n\tN24{[}2{]} & -57.837916 & 2.61577871 & -62.119669 & -53.7682900 & 0.9987761 & 2871.605\\\\\n\tN12{[}1{]} &  -4.575603 & 2.50957739 &  -8.563599 &  -0.6380260 & 1.0053389 & 3157.218\\\\\n\tN12{[}2{]} &  -2.459777 & 2.48305729 &  -6.486761 &   1.4490850 & 1.0013783 & 3115.005\\\\\n\tN6{[}1{]} &  -4.229703 & 2.38794536 &  -8.000588 &  -0.5295448 & 1.0065589 & 2882.004\\\\\n\tN6{[}2{]} &  -3.181142 & 2.53503158 &  -7.176961 &   0.8323668 & 1.0050521 & 2930.346\\\\\n\tsigmaN &  26.920686 & 0.85302787 &  25.585692 &  28.3069575 & 1.0139566 & 3096.653\\\\\n\tR\\_time{[}1{]} &   2.169871 & 0.03399970 &   2.114869 &   2.2249627 & 1.0037217 & 2570.337\\\\\n\tR\\_time{[}2{]} &   2.117263 & 0.03287694 &   2.064597 &   2.1698317 & 0.9996658 & 2853.660\\\\\n\tR24{[}1{]} &  -5.590624 & 0.65739286 &  -6.644878 &  -4.5655743 & 1.0021191 & 2449.505\\\\\n\tR24{[}2{]} &  -5.459577 & 0.64379337 &  -6.494170 &  -4.4194441 & 1.0018033 & 2462.804\\\\\n\tR12{[}1{]} &  -3.088901 & 0.62747531 &  -4.092760 &  -2.0861714 & 1.0038873 & 2969.894\\\\\n\tR12{[}2{]} &  -3.005269 & 0.61975326 &  -3.966698 &  -1.9565914 & 1.0038501 & 3229.359\\\\\n\tR6{[}1{]} &  -1.425542 & 0.59354399 &  -2.376439 &  -0.4790030 & 1.0000518 & 2600.867\\\\\n\tR6{[}2{]} &  -1.407241 & 0.61926919 &  -2.428671 &  -0.4170093 & 1.0014183 & 3379.175\\\\\n\tsigmaR &   6.569537 & 0.20569811 &   6.253594 &   6.9162508 & 1.0037094 & 2823.590\\\\\n\\end{tabular}\n",
            "text/plain": [
              "          mean       sd         5.5%       94.5%       rhat      ess_bulk\n",
              "N_time[1]  18.686355 0.13363267  18.473100  18.8952760 1.0054821 2529.520\n",
              "N_time[2]  22.289158 0.13416303  22.065678  22.5014110 1.0006047 2546.275\n",
              "N24[1]    -59.881264 2.60169568 -64.130528 -55.8938545 1.0001355 2874.918\n",
              "N24[2]    -57.837916 2.61577871 -62.119669 -53.7682900 0.9987761 2871.605\n",
              "N12[1]     -4.575603 2.50957739  -8.563599  -0.6380260 1.0053389 3157.218\n",
              "N12[2]     -2.459777 2.48305729  -6.486761   1.4490850 1.0013783 3115.005\n",
              "N6[1]      -4.229703 2.38794536  -8.000588  -0.5295448 1.0065589 2882.004\n",
              "N6[2]      -3.181142 2.53503158  -7.176961   0.8323668 1.0050521 2930.346\n",
              "sigmaN     26.920686 0.85302787  25.585692  28.3069575 1.0139566 3096.653\n",
              "R_time[1]   2.169871 0.03399970   2.114869   2.2249627 1.0037217 2570.337\n",
              "R_time[2]   2.117263 0.03287694   2.064597   2.1698317 0.9996658 2853.660\n",
              "R24[1]     -5.590624 0.65739286  -6.644878  -4.5655743 1.0021191 2449.505\n",
              "R24[2]     -5.459577 0.64379337  -6.494170  -4.4194441 1.0018033 2462.804\n",
              "R12[1]     -3.088901 0.62747531  -4.092760  -2.0861714 1.0038873 2969.894\n",
              "R12[2]     -3.005269 0.61975326  -3.966698  -1.9565914 1.0038501 3229.359\n",
              "R6[1]      -1.425542 0.59354399  -2.376439  -0.4790030 1.0000518 2600.867\n",
              "R6[2]      -1.407241 0.61926919  -2.428671  -0.4170093 1.0014183 3379.175\n",
              "sigmaR      6.569537 0.20569811   6.253594   6.9162508 1.0037094 2823.590"
            ]
          },
          "metadata": {}
        }
      ]
    },
    {
      "cell_type": "markdown",
      "source": [
        "But this is suboptimal because NREMS and REMS are related.  For one, time spent in one precludes time spent in the other.  For two, NREMS and REMS are aspects of a complex physiological phenomenon that, we should assume, causes relations between them.  It would be nice to capture, at least some of, this relatedness.\n",
        "\n",
        "One way we might try to do this is to wrap all of the parameters into a multivariate distribution.  "
      ],
      "metadata": {
        "id": "dplutjclcJFF"
      }
    },
    {
      "cell_type": "markdown",
      "source": [
        "### Model 5\n",
        "\n",
        "Here, we'll wrap \"*like*\" parameters together into several multi-variate distributions."
      ],
      "metadata": {
        "id": "ljlCZKtUegRK"
      }
    },
    {
      "cell_type": "code",
      "source": [
        "S_model_5 <- ulam(\n",
        "  alist(\n",
        "    NREMS ~ dnorm(muN, sigmaN),\n",
        "      muN <- N_time[treatment]*time +\n",
        "            N24[treatment]*sine24 +\n",
        "            N12[treatment]*sine12 +\n",
        "            N6[treatment]*sine6,\n",
        "    REMS ~ dnorm(muR, sigmaR),\n",
        "      muR <- R_time[treatment]*time +\n",
        "             R24[treatment]*sine24 +\n",
        "             R12[treatment]*sine12 +\n",
        "             R6[treatment]*sine6,\n",
        "\n",
        "        c(N_time, R_time)[treatment] ~ multi_normal(c(30,10), RHO_time, SIGMA_time),\n",
        "          RHO_time ~ lkj_corr(2),\n",
        "          SIGMA_time ~ dexp(0.25),\n",
        "        c(N24, R24)[treatment] ~ multi_normal(c(0,0), RHO_24, SIGMA_24),\n",
        "          RHO_24 ~ lkj_corr(2),\n",
        "          SIGMA_24 ~ dexp(1),\n",
        "        c(N12, R12)[treatment] ~ multi_normal(c(0,0), RHO_12, SIGMA_12),\n",
        "          RHO_12 ~ lkj_corr(2),\n",
        "          SIGMA_12 ~ dexp(1),\n",
        "        c(N6, R6)[treatment] ~ multi_normal(c(0,0), RHO_6, SIGMA_6),\n",
        "          RHO_6 ~ lkj_corr(2),\n",
        "          SIGMA_6 ~ dexp(1),\n",
        "      sigmaN ~ dexp(1),\n",
        "      sigmaR ~ dexp(1)\n",
        "  ), data=list(NREMS=Sleep_All$NREMS,\n",
        "               REMS=Sleep_All$REMS,\n",
        "               treatment=as.integer(Sleep_All$treatment)+1,\n",
        "               time=Sleep_All$Block,\n",
        "               TotalPreviousSleep=Sleep_All$TotalPreviousSleep,\n",
        "               sine24=sine24, sine12=sine12, sine6=sine6, sine3=sine3, sine1_5=sine1_5, sine0_5=sine0_75),\n",
        "     constraints=list(b_time=\"lower=0\"),\n",
        "     chains=4,\n",
        "     cores=4,\n",
        "     iter=2000,\n",
        "     log_lik=TRUE\n",
        ")\n",
        "\n",
        "precis(S_model_5, depth=3)"
      ],
      "metadata": {
        "colab": {
          "base_uri": "https://localhost:8080/",
          "height": 1000
        },
        "id": "CBFsRVzLgB8M",
        "outputId": "0e4e140e-0914-4270-8457-b7a10d792543"
      },
      "execution_count": 43,
      "outputs": [
        {
          "output_type": "stream",
          "name": "stdout",
          "text": [
            "Running MCMC with 4 parallel chains, with 1 thread(s) per chain...\n",
            "\n",
            "Chain 1 Iteration:    1 / 2000 [  0%]  (Warmup) \n"
          ]
        },
        {
          "output_type": "stream",
          "name": "stderr",
          "text": [
            "Chain 1 Informational Message: The current Metropolis proposal is about to be rejected because of the following issue:\n",
            "\n",
            "Chain 1 Exception: lkj_corr_lpdf: Correlation matrix is not positive definite. (in '/tmp/RtmpdYT4HS/model-1a87c8ceaa7.stan', line 49, column 4 to column 27)\n",
            "\n",
            "Chain 1 If this warning occurs sporadically, such as for highly constrained variable types like covariance matrices, then the sampler is fine,\n",
            "\n",
            "Chain 1 but if this warning occurs often then your model may be either severely ill-conditioned or misspecified.\n",
            "\n",
            "Chain 1 \n",
            "\n",
            "Chain 1 Informational Message: The current Metropolis proposal is about to be rejected because of the following issue:\n",
            "\n",
            "Chain 1 Exception: lkj_corr_lpdf: Correlation matrix is not positive definite. (in '/tmp/RtmpdYT4HS/model-1a87c8ceaa7.stan', line 49, column 4 to column 27)\n",
            "\n",
            "Chain 1 If this warning occurs sporadically, such as for highly constrained variable types like covariance matrices, then the sampler is fine,\n",
            "\n",
            "Chain 1 but if this warning occurs often then your model may be either severely ill-conditioned or misspecified.\n",
            "\n",
            "Chain 1 \n",
            "\n",
            "Chain 1 Informational Message: The current Metropolis proposal is about to be rejected because of the following issue:\n",
            "\n",
            "Chain 1 Exception: lkj_corr_lpdf: Correlation matrix is not positive definite. (in '/tmp/RtmpdYT4HS/model-1a87c8ceaa7.stan', line 49, column 4 to column 27)\n",
            "\n",
            "Chain 1 If this warning occurs sporadically, such as for highly constrained variable types like covariance matrices, then the sampler is fine,\n",
            "\n",
            "Chain 1 but if this warning occurs often then your model may be either severely ill-conditioned or misspecified.\n",
            "\n",
            "Chain 1 \n",
            "\n",
            "Chain 1 Informational Message: The current Metropolis proposal is about to be rejected because of the following issue:\n",
            "\n",
            "Chain 1 Exception: lkj_corr_lpdf: Correlation matrix is not positive definite. (in '/tmp/RtmpdYT4HS/model-1a87c8ceaa7.stan', line 67, column 4 to column 29)\n",
            "\n",
            "Chain 1 If this warning occurs sporadically, such as for highly constrained variable types like covariance matrices, then the sampler is fine,\n",
            "\n",
            "Chain 1 but if this warning occurs often then your model may be either severely ill-conditioned or misspecified.\n",
            "\n",
            "Chain 1 \n",
            "\n",
            "Chain 1 Informational Message: The current Metropolis proposal is about to be rejected because of the following issue:\n",
            "\n",
            "Chain 1 Exception: lkj_corr_lpdf: Correlation matrix is not positive definite. (in '/tmp/RtmpdYT4HS/model-1a87c8ceaa7.stan', line 67, column 4 to column 29)\n",
            "\n",
            "Chain 1 If this warning occurs sporadically, such as for highly constrained variable types like covariance matrices, then the sampler is fine,\n",
            "\n",
            "Chain 1 but if this warning occurs often then your model may be either severely ill-conditioned or misspecified.\n",
            "\n",
            "Chain 1 \n",
            "\n",
            "Chain 1 Informational Message: The current Metropolis proposal is about to be rejected because of the following issue:\n",
            "\n",
            "Chain 1 Exception: lkj_corr_lpdf: Correlation matrix is not positive definite. (in '/tmp/RtmpdYT4HS/model-1a87c8ceaa7.stan', line 67, column 4 to column 29)\n",
            "\n",
            "Chain 1 If this warning occurs sporadically, such as for highly constrained variable types like covariance matrices, then the sampler is fine,\n",
            "\n",
            "Chain 1 but if this warning occurs often then your model may be either severely ill-conditioned or misspecified.\n",
            "\n",
            "Chain 1 \n",
            "\n",
            "Chain 1 Informational Message: The current Metropolis proposal is about to be rejected because of the following issue:\n",
            "\n",
            "Chain 1 Exception: lkj_corr_lpdf: Correlation matrix is not positive definite. (in '/tmp/RtmpdYT4HS/model-1a87c8ceaa7.stan', line 40, column 4 to column 26)\n",
            "\n",
            "Chain 1 If this warning occurs sporadically, such as for highly constrained variable types like covariance matrices, then the sampler is fine,\n",
            "\n",
            "Chain 1 but if this warning occurs often then your model may be either severely ill-conditioned or misspecified.\n",
            "\n",
            "Chain 1 \n",
            "\n",
            "Chain 1 Informational Message: The current Metropolis proposal is about to be rejected because of the following issue:\n",
            "\n",
            "Chain 1 Exception: lkj_corr_lpdf: Correlation matrix is not positive definite. (in '/tmp/RtmpdYT4HS/model-1a87c8ceaa7.stan', line 40, column 4 to column 26)\n",
            "\n",
            "Chain 1 If this warning occurs sporadically, such as for highly constrained variable types like covariance matrices, then the sampler is fine,\n",
            "\n",
            "Chain 1 but if this warning occurs often then your model may be either severely ill-conditioned or misspecified.\n",
            "\n",
            "Chain 1 \n",
            "\n",
            "Chain 1 Informational Message: The current Metropolis proposal is about to be rejected because of the following issue:\n",
            "\n",
            "Chain 1 Exception: lkj_corr_lpdf: Correlation matrix is not positive definite. (in '/tmp/RtmpdYT4HS/model-1a87c8ceaa7.stan', line 67, column 4 to column 29)\n",
            "\n",
            "Chain 1 If this warning occurs sporadically, such as for highly constrained variable types like covariance matrices, then the sampler is fine,\n",
            "\n",
            "Chain 1 but if this warning occurs often then your model may be either severely ill-conditioned or misspecified.\n",
            "\n",
            "Chain 1 \n",
            "\n"
          ]
        },
        {
          "output_type": "stream",
          "name": "stdout",
          "text": [
            "Chain 2 Iteration:    1 / 2000 [  0%]  (Warmup) \n"
          ]
        },
        {
          "output_type": "stream",
          "name": "stderr",
          "text": [
            "Chain 2 Informational Message: The current Metropolis proposal is about to be rejected because of the following issue:\n",
            "\n",
            "Chain 2 Exception: lkj_corr_lpdf: Correlation matrix is not positive definite. (in '/tmp/RtmpdYT4HS/model-1a87c8ceaa7.stan', line 67, column 4 to column 29)\n",
            "\n",
            "Chain 2 If this warning occurs sporadically, such as for highly constrained variable types like covariance matrices, then the sampler is fine,\n",
            "\n",
            "Chain 2 but if this warning occurs often then your model may be either severely ill-conditioned or misspecified.\n",
            "\n",
            "Chain 2 \n",
            "\n",
            "Chain 2 Informational Message: The current Metropolis proposal is about to be rejected because of the following issue:\n",
            "\n",
            "Chain 2 Exception: multi_normal_lpdf: Covariance matrix is not symmetric. Covariance matrix[1,2] = -8.30509e+09, but Covariance matrix[2,1] = -8.30509e+09 (in '/tmp/RtmpdYT4HS/model-1a87c8ceaa7.stan', line 55, column 4 to column 64)\n",
            "\n",
            "Chain 2 If this warning occurs sporadically, such as for highly constrained variable types like covariance matrices, then the sampler is fine,\n",
            "\n",
            "Chain 2 but if this warning occurs often then your model may be either severely ill-conditioned or misspecified.\n",
            "\n",
            "Chain 2 \n",
            "\n",
            "Chain 2 Informational Message: The current Metropolis proposal is about to be rejected because of the following issue:\n",
            "\n",
            "Chain 2 Exception: lkj_corr_lpdf: Correlation matrix is not positive definite. (in '/tmp/RtmpdYT4HS/model-1a87c8ceaa7.stan', line 67, column 4 to column 29)\n",
            "\n",
            "Chain 2 If this warning occurs sporadically, such as for highly constrained variable types like covariance matrices, then the sampler is fine,\n",
            "\n",
            "Chain 2 but if this warning occurs often then your model may be either severely ill-conditioned or misspecified.\n",
            "\n",
            "Chain 2 \n",
            "\n",
            "Chain 2 Informational Message: The current Metropolis proposal is about to be rejected because of the following issue:\n",
            "\n",
            "Chain 2 Exception: lkj_corr_lpdf: Correlation matrix is not positive definite. (in '/tmp/RtmpdYT4HS/model-1a87c8ceaa7.stan', line 67, column 4 to column 29)\n",
            "\n",
            "Chain 2 If this warning occurs sporadically, such as for highly constrained variable types like covariance matrices, then the sampler is fine,\n",
            "\n",
            "Chain 2 but if this warning occurs often then your model may be either severely ill-conditioned or misspecified.\n",
            "\n",
            "Chain 2 \n",
            "\n",
            "Chain 2 Informational Message: The current Metropolis proposal is about to be rejected because of the following issue:\n",
            "\n",
            "Chain 2 Exception: lkj_corr_lpdf: Correlation matrix is not positive definite. (in '/tmp/RtmpdYT4HS/model-1a87c8ceaa7.stan', line 67, column 4 to column 29)\n",
            "\n",
            "Chain 2 If this warning occurs sporadically, such as for highly constrained variable types like covariance matrices, then the sampler is fine,\n",
            "\n",
            "Chain 2 but if this warning occurs often then your model may be either severely ill-conditioned or misspecified.\n",
            "\n",
            "Chain 2 \n",
            "\n",
            "Chain 2 Informational Message: The current Metropolis proposal is about to be rejected because of the following issue:\n",
            "\n",
            "Chain 2 Exception: lkj_corr_lpdf: Correlation matrix is not positive definite. (in '/tmp/RtmpdYT4HS/model-1a87c8ceaa7.stan', line 40, column 4 to column 26)\n",
            "\n",
            "Chain 2 If this warning occurs sporadically, such as for highly constrained variable types like covariance matrices, then the sampler is fine,\n",
            "\n",
            "Chain 2 but if this warning occurs often then your model may be either severely ill-conditioned or misspecified.\n",
            "\n",
            "Chain 2 \n",
            "\n",
            "Chain 2 Informational Message: The current Metropolis proposal is about to be rejected because of the following issue:\n",
            "\n",
            "Chain 2 Exception: lkj_corr_lpdf: Correlation matrix is not positive definite. (in '/tmp/RtmpdYT4HS/model-1a87c8ceaa7.stan', line 49, column 4 to column 27)\n",
            "\n",
            "Chain 2 If this warning occurs sporadically, such as for highly constrained variable types like covariance matrices, then the sampler is fine,\n",
            "\n",
            "Chain 2 but if this warning occurs often then your model may be either severely ill-conditioned or misspecified.\n",
            "\n",
            "Chain 2 \n",
            "\n",
            "Chain 2 Informational Message: The current Metropolis proposal is about to be rejected because of the following issue:\n",
            "\n",
            "Chain 2 Exception: lkj_corr_lpdf: Correlation matrix is not positive definite. (in '/tmp/RtmpdYT4HS/model-1a87c8ceaa7.stan', line 67, column 4 to column 29)\n",
            "\n",
            "Chain 2 If this warning occurs sporadically, such as for highly constrained variable types like covariance matrices, then the sampler is fine,\n",
            "\n",
            "Chain 2 but if this warning occurs often then your model may be either severely ill-conditioned or misspecified.\n",
            "\n",
            "Chain 2 \n",
            "\n"
          ]
        },
        {
          "output_type": "stream",
          "name": "stdout",
          "text": [
            "Chain 3 Iteration:    1 / 2000 [  0%]  (Warmup) \n"
          ]
        },
        {
          "output_type": "stream",
          "name": "stderr",
          "text": [
            "Chain 3 Informational Message: The current Metropolis proposal is about to be rejected because of the following issue:\n",
            "\n",
            "Chain 3 Exception: multi_normal_lpdf: Covariance matrix is not symmetric. Covariance matrix[1,2] = 2.11005e+15, but Covariance matrix[2,1] = 2.11005e+15 (in '/tmp/RtmpdYT4HS/model-1a87c8ceaa7.stan', line 73, column 4 to column 68)\n",
            "\n",
            "Chain 3 If this warning occurs sporadically, such as for highly constrained variable types like covariance matrices, then the sampler is fine,\n",
            "\n",
            "Chain 3 but if this warning occurs often then your model may be either severely ill-conditioned or misspecified.\n",
            "\n",
            "Chain 3 \n",
            "\n",
            "Chain 3 Informational Message: The current Metropolis proposal is about to be rejected because of the following issue:\n",
            "\n",
            "Chain 3 Exception: lkj_corr_lpdf: Correlation matrix is not positive definite. (in '/tmp/RtmpdYT4HS/model-1a87c8ceaa7.stan', line 40, column 4 to column 26)\n",
            "\n",
            "Chain 3 If this warning occurs sporadically, such as for highly constrained variable types like covariance matrices, then the sampler is fine,\n",
            "\n",
            "Chain 3 but if this warning occurs often then your model may be either severely ill-conditioned or misspecified.\n",
            "\n",
            "Chain 3 \n",
            "\n",
            "Chain 3 Informational Message: The current Metropolis proposal is about to be rejected because of the following issue:\n",
            "\n",
            "Chain 3 Exception: lkj_corr_lpdf: Correlation matrix is not positive definite. (in '/tmp/RtmpdYT4HS/model-1a87c8ceaa7.stan', line 49, column 4 to column 27)\n",
            "\n",
            "Chain 3 If this warning occurs sporadically, such as for highly constrained variable types like covariance matrices, then the sampler is fine,\n",
            "\n",
            "Chain 3 but if this warning occurs often then your model may be either severely ill-conditioned or misspecified.\n",
            "\n",
            "Chain 3 \n",
            "\n"
          ]
        },
        {
          "output_type": "stream",
          "name": "stdout",
          "text": [
            "Chain 4 Iteration:    1 / 2000 [  0%]  (Warmup) \n"
          ]
        },
        {
          "output_type": "stream",
          "name": "stderr",
          "text": [
            "Chain 4 Informational Message: The current Metropolis proposal is about to be rejected because of the following issue:\n",
            "\n",
            "Chain 4 Exception: multi_normal_lpdf: Covariance matrix is not symmetric. Covariance matrix[1,2] = 2.63618e+17, but Covariance matrix[2,1] = 2.63618e+17 (in '/tmp/RtmpdYT4HS/model-1a87c8ceaa7.stan', line 55, column 4 to column 64)\n",
            "\n",
            "Chain 4 If this warning occurs sporadically, such as for highly constrained variable types like covariance matrices, then the sampler is fine,\n",
            "\n",
            "Chain 4 but if this warning occurs often then your model may be either severely ill-conditioned or misspecified.\n",
            "\n",
            "Chain 4 \n",
            "\n",
            "Chain 4 Informational Message: The current Metropolis proposal is about to be rejected because of the following issue:\n",
            "\n",
            "Chain 4 Exception: lkj_corr_lpdf: Correlation matrix is not positive definite. (in '/tmp/RtmpdYT4HS/model-1a87c8ceaa7.stan', line 58, column 4 to column 27)\n",
            "\n",
            "Chain 4 If this warning occurs sporadically, such as for highly constrained variable types like covariance matrices, then the sampler is fine,\n",
            "\n",
            "Chain 4 but if this warning occurs often then your model may be either severely ill-conditioned or misspecified.\n",
            "\n",
            "Chain 4 \n",
            "\n",
            "Chain 4 Informational Message: The current Metropolis proposal is about to be rejected because of the following issue:\n",
            "\n",
            "Chain 4 Exception: multi_normal_lpdf: Covariance matrix is not symmetric. Covariance matrix[1,2] = -8.1356e+60, but Covariance matrix[2,1] = -8.1356e+60 (in '/tmp/RtmpdYT4HS/model-1a87c8ceaa7.stan', line 73, column 4 to column 68)\n",
            "\n",
            "Chain 4 If this warning occurs sporadically, such as for highly constrained variable types like covariance matrices, then the sampler is fine,\n",
            "\n",
            "Chain 4 but if this warning occurs often then your model may be either severely ill-conditioned or misspecified.\n",
            "\n",
            "Chain 4 \n",
            "\n",
            "Chain 4 Informational Message: The current Metropolis proposal is about to be rejected because of the following issue:\n",
            "\n",
            "Chain 4 Exception: lkj_corr_lpdf: Correlation matrix is not positive definite. (in '/tmp/RtmpdYT4HS/model-1a87c8ceaa7.stan', line 40, column 4 to column 26)\n",
            "\n",
            "Chain 4 If this warning occurs sporadically, such as for highly constrained variable types like covariance matrices, then the sampler is fine,\n",
            "\n",
            "Chain 4 but if this warning occurs often then your model may be either severely ill-conditioned or misspecified.\n",
            "\n",
            "Chain 4 \n",
            "\n",
            "Chain 4 Informational Message: The current Metropolis proposal is about to be rejected because of the following issue:\n",
            "\n",
            "Chain 4 Exception: lkj_corr_lpdf: Correlation matrix is not positive definite. (in '/tmp/RtmpdYT4HS/model-1a87c8ceaa7.stan', line 49, column 4 to column 27)\n",
            "\n",
            "Chain 4 If this warning occurs sporadically, such as for highly constrained variable types like covariance matrices, then the sampler is fine,\n",
            "\n",
            "Chain 4 but if this warning occurs often then your model may be either severely ill-conditioned or misspecified.\n",
            "\n",
            "Chain 4 \n",
            "\n"
          ]
        },
        {
          "output_type": "stream",
          "name": "stdout",
          "text": [
            "Chain 3 Iteration:  100 / 2000 [  5%]  (Warmup) \n",
            "Chain 4 Iteration:  100 / 2000 [  5%]  (Warmup) \n",
            "Chain 1 Iteration:  100 / 2000 [  5%]  (Warmup) \n",
            "Chain 2 Iteration:  100 / 2000 [  5%]  (Warmup) \n",
            "Chain 3 Iteration:  200 / 2000 [ 10%]  (Warmup) \n",
            "Chain 4 Iteration:  200 / 2000 [ 10%]  (Warmup) \n",
            "Chain 1 Iteration:  200 / 2000 [ 10%]  (Warmup) \n",
            "Chain 2 Iteration:  200 / 2000 [ 10%]  (Warmup) \n"
          ]
        },
        {
          "output_type": "stream",
          "name": "stderr",
          "text": [
            "Chain 1 Informational Message: The current Metropolis proposal is about to be rejected because of the following issue:\n",
            "\n",
            "Chain 1 Exception: multi_normal_lpdf: Covariance matrix is not symmetric. Covariance matrix[1,2] = -5.67932e+24, but Covariance matrix[2,1] = -5.67932e+24 (in '/tmp/RtmpdYT4HS/model-1a87c8ceaa7.stan', line 46, column 4 to column 62)\n",
            "\n",
            "Chain 1 If this warning occurs sporadically, such as for highly constrained variable types like covariance matrices, then the sampler is fine,\n",
            "\n",
            "Chain 1 but if this warning occurs often then your model may be either severely ill-conditioned or misspecified.\n",
            "\n",
            "Chain 1 \n",
            "\n"
          ]
        },
        {
          "output_type": "stream",
          "name": "stdout",
          "text": [
            "Chain 3 Iteration:  300 / 2000 [ 15%]  (Warmup) \n",
            "Chain 1 Iteration:  300 / 2000 [ 15%]  (Warmup) \n",
            "Chain 4 Iteration:  300 / 2000 [ 15%]  (Warmup) \n",
            "Chain 2 Iteration:  300 / 2000 [ 15%]  (Warmup) \n",
            "Chain 3 Iteration:  400 / 2000 [ 20%]  (Warmup) \n",
            "Chain 1 Iteration:  400 / 2000 [ 20%]  (Warmup) \n",
            "Chain 4 Iteration:  400 / 2000 [ 20%]  (Warmup) \n",
            "Chain 2 Iteration:  400 / 2000 [ 20%]  (Warmup) \n",
            "Chain 3 Iteration:  500 / 2000 [ 25%]  (Warmup) \n",
            "Chain 4 Iteration:  500 / 2000 [ 25%]  (Warmup) \n",
            "Chain 2 Iteration:  500 / 2000 [ 25%]  (Warmup) \n",
            "Chain 1 Iteration:  500 / 2000 [ 25%]  (Warmup) \n",
            "Chain 4 Iteration:  600 / 2000 [ 30%]  (Warmup) \n",
            "Chain 2 Iteration:  600 / 2000 [ 30%]  (Warmup) \n",
            "Chain 1 Iteration:  600 / 2000 [ 30%]  (Warmup) \n",
            "Chain 3 Iteration:  600 / 2000 [ 30%]  (Warmup) \n",
            "Chain 4 Iteration:  700 / 2000 [ 35%]  (Warmup) \n",
            "Chain 3 Iteration:  700 / 2000 [ 35%]  (Warmup) \n",
            "Chain 4 Iteration:  800 / 2000 [ 40%]  (Warmup) \n",
            "Chain 2 Iteration:  700 / 2000 [ 35%]  (Warmup) \n",
            "Chain 1 Iteration:  700 / 2000 [ 35%]  (Warmup) \n",
            "Chain 3 Iteration:  800 / 2000 [ 40%]  (Warmup) \n",
            "Chain 2 Iteration:  800 / 2000 [ 40%]  (Warmup) \n",
            "Chain 4 Iteration:  900 / 2000 [ 45%]  (Warmup) \n",
            "Chain 1 Iteration:  800 / 2000 [ 40%]  (Warmup) \n",
            "Chain 3 Iteration:  900 / 2000 [ 45%]  (Warmup) \n",
            "Chain 2 Iteration:  900 / 2000 [ 45%]  (Warmup) \n",
            "Chain 4 Iteration: 1000 / 2000 [ 50%]  (Warmup) \n",
            "Chain 4 Iteration: 1001 / 2000 [ 50%]  (Sampling) \n",
            "Chain 3 Iteration: 1000 / 2000 [ 50%]  (Warmup) \n",
            "Chain 3 Iteration: 1001 / 2000 [ 50%]  (Sampling) \n",
            "Chain 1 Iteration:  900 / 2000 [ 45%]  (Warmup) \n",
            "Chain 2 Iteration: 1000 / 2000 [ 50%]  (Warmup) \n",
            "Chain 2 Iteration: 1001 / 2000 [ 50%]  (Sampling) \n",
            "Chain 3 Iteration: 1100 / 2000 [ 55%]  (Sampling) \n",
            "Chain 1 Iteration: 1000 / 2000 [ 50%]  (Warmup) \n",
            "Chain 1 Iteration: 1001 / 2000 [ 50%]  (Sampling) \n",
            "Chain 4 Iteration: 1100 / 2000 [ 55%]  (Sampling) \n",
            "Chain 3 Iteration: 1200 / 2000 [ 60%]  (Sampling) \n",
            "Chain 2 Iteration: 1100 / 2000 [ 55%]  (Sampling) \n",
            "Chain 3 Iteration: 1300 / 2000 [ 65%]  (Sampling) \n",
            "Chain 1 Iteration: 1100 / 2000 [ 55%]  (Sampling) \n",
            "Chain 4 Iteration: 1200 / 2000 [ 60%]  (Sampling) \n",
            "Chain 3 Iteration: 1400 / 2000 [ 70%]  (Sampling) \n",
            "Chain 2 Iteration: 1200 / 2000 [ 60%]  (Sampling) \n",
            "Chain 1 Iteration: 1200 / 2000 [ 60%]  (Sampling) \n",
            "Chain 3 Iteration: 1500 / 2000 [ 75%]  (Sampling) \n",
            "Chain 4 Iteration: 1300 / 2000 [ 65%]  (Sampling) \n",
            "Chain 3 Iteration: 1600 / 2000 [ 80%]  (Sampling) \n",
            "Chain 1 Iteration: 1300 / 2000 [ 65%]  (Sampling) \n",
            "Chain 2 Iteration: 1300 / 2000 [ 65%]  (Sampling) \n",
            "Chain 3 Iteration: 1700 / 2000 [ 85%]  (Sampling) \n",
            "Chain 4 Iteration: 1400 / 2000 [ 70%]  (Sampling) \n",
            "Chain 3 Iteration: 1800 / 2000 [ 90%]  (Sampling) \n",
            "Chain 1 Iteration: 1400 / 2000 [ 70%]  (Sampling) \n",
            "Chain 2 Iteration: 1400 / 2000 [ 70%]  (Sampling) \n",
            "Chain 4 Iteration: 1500 / 2000 [ 75%]  (Sampling) \n",
            "Chain 3 Iteration: 1900 / 2000 [ 95%]  (Sampling) \n",
            "Chain 3 Iteration: 2000 / 2000 [100%]  (Sampling) \n",
            "Chain 3 finished in 64.8 seconds.\n",
            "Chain 1 Iteration: 1500 / 2000 [ 75%]  (Sampling) \n",
            "Chain 2 Iteration: 1500 / 2000 [ 75%]  (Sampling) \n",
            "Chain 4 Iteration: 1600 / 2000 [ 80%]  (Sampling) \n",
            "Chain 1 Iteration: 1600 / 2000 [ 80%]  (Sampling) \n",
            "Chain 4 Iteration: 1700 / 2000 [ 85%]  (Sampling) \n",
            "Chain 2 Iteration: 1600 / 2000 [ 80%]  (Sampling) \n",
            "Chain 1 Iteration: 1700 / 2000 [ 85%]  (Sampling) \n",
            "Chain 4 Iteration: 1800 / 2000 [ 90%]  (Sampling) \n",
            "Chain 2 Iteration: 1700 / 2000 [ 85%]  (Sampling) \n",
            "Chain 1 Iteration: 1800 / 2000 [ 90%]  (Sampling) \n",
            "Chain 4 Iteration: 1900 / 2000 [ 95%]  (Sampling) \n",
            "Chain 2 Iteration: 1800 / 2000 [ 90%]  (Sampling) \n",
            "Chain 1 Iteration: 1900 / 2000 [ 95%]  (Sampling) \n",
            "Chain 2 Iteration: 1900 / 2000 [ 95%]  (Sampling) \n",
            "Chain 4 Iteration: 2000 / 2000 [100%]  (Sampling) \n",
            "Chain 4 finished in 79.9 seconds.\n",
            "Chain 1 Iteration: 2000 / 2000 [100%]  (Sampling) \n",
            "Chain 1 finished in 80.7 seconds.\n",
            "Chain 2 Iteration: 2000 / 2000 [100%]  (Sampling) \n",
            "Chain 2 finished in 81.5 seconds.\n",
            "\n",
            "All 4 chains finished successfully.\n",
            "Mean chain execution time: 76.7 seconds.\n",
            "Total execution time: 81.7 seconds.\n",
            "\n"
          ]
        },
        {
          "output_type": "stream",
          "name": "stderr",
          "text": [
            "Warning: 73 of 4000 (2.0%) transitions ended with a divergence.\n",
            "See https://mc-stan.org/misc/warnings for details.\n",
            "\n",
            "\n"
          ]
        },
        {
          "output_type": "display_data",
          "data": {
            "text/html": [
              "<table class=\"dataframe\">\n",
              "<caption>A precis: 42 × 6</caption>\n",
              "<thead>\n",
              "\t<tr><th></th><th scope=col>mean</th><th scope=col>sd</th><th scope=col>5.5%</th><th scope=col>94.5%</th><th scope=col>rhat</th><th scope=col>ess_bulk</th></tr>\n",
              "\t<tr><th></th><th scope=col>&lt;dbl&gt;</th><th scope=col>&lt;dbl&gt;</th><th scope=col>&lt;dbl&gt;</th><th scope=col>&lt;dbl&gt;</th><th scope=col>&lt;dbl&gt;</th><th scope=col>&lt;dbl&gt;</th></tr>\n",
              "</thead>\n",
              "<tbody>\n",
              "\t<tr><th scope=row>R_time[1]</th><td>  2.1764791</td><td>0.03286110</td><td>  2.1226650</td><td>  2.22882055</td><td>0.9995126</td><td>4539.1785</td></tr>\n",
              "\t<tr><th scope=row>R_time[2]</th><td>  2.1227171</td><td>0.03334026</td><td>  2.0688334</td><td>  2.17582595</td><td>1.0003706</td><td>4265.6293</td></tr>\n",
              "\t<tr><th scope=row>N_time[1]</th><td> 18.7453037</td><td>0.13203607</td><td> 18.5363945</td><td> 18.95541100</td><td>1.0014154</td><td>4667.9830</td></tr>\n",
              "\t<tr><th scope=row>N_time[2]</th><td> 22.3241141</td><td>0.13058329</td><td> 22.1143450</td><td> 22.53023300</td><td>1.0000243</td><td>4351.4231</td></tr>\n",
              "\t<tr><th scope=row>RHO_time[1,1]</th><td>  1.0000000</td><td>0.00000000</td><td>  1.0000000</td><td>  1.00000000</td><td>       NA</td><td>       NA</td></tr>\n",
              "\t<tr><th scope=row>RHO_time[2,1]</th><td>  0.4454855</td><td>0.33075836</td><td> -0.1592943</td><td>  0.88121847</td><td>1.0011492</td><td>3714.7142</td></tr>\n",
              "\t<tr><th scope=row>RHO_time[1,2]</th><td>  0.4454855</td><td>0.33075836</td><td> -0.1592943</td><td>  0.88121847</td><td>1.0011492</td><td>3714.7142</td></tr>\n",
              "\t<tr><th scope=row>RHO_time[2,2]</th><td>  1.0000000</td><td>0.00000000</td><td>  1.0000000</td><td>  1.00000000</td><td>       NA</td><td>       NA</td></tr>\n",
              "\t<tr><th scope=row>SIGMA_time[1]</th><td>  8.2792839</td><td>3.12680661</td><td>  4.7220533</td><td> 14.00873200</td><td>1.0012612</td><td>4077.9809</td></tr>\n",
              "\t<tr><th scope=row>SIGMA_time[2]</th><td>  7.0685714</td><td>2.98229641</td><td>  3.8716012</td><td> 12.41367350</td><td>1.0006268</td><td>3856.2739</td></tr>\n",
              "\t<tr><th scope=row>R24[1]</th><td> -5.4690525</td><td>0.62802455</td><td> -6.4675470</td><td> -4.44408670</td><td>1.0020135</td><td>4074.6819</td></tr>\n",
              "\t<tr><th scope=row>R24[2]</th><td> -5.3301783</td><td>0.62331190</td><td> -6.3342396</td><td> -4.34569250</td><td>0.9999558</td><td>4873.4522</td></tr>\n",
              "\t<tr><th scope=row>N24[1]</th><td>-59.2383250</td><td>2.63087500</td><td>-63.3560635</td><td>-55.11564450</td><td>1.0011446</td><td>4433.2123</td></tr>\n",
              "\t<tr><th scope=row>N24[2]</th><td>-57.5056766</td><td>2.66119976</td><td>-61.7240335</td><td>-53.27394450</td><td>1.0009348</td><td>4578.6332</td></tr>\n",
              "\t<tr><th scope=row>RHO_24[1,1]</th><td>  1.0000000</td><td>0.00000000</td><td>  1.0000000</td><td>  1.00000000</td><td>       NA</td><td>       NA</td></tr>\n",
              "\t<tr><th scope=row>RHO_24[2,1]</th><td>  0.6480549</td><td>0.21247155</td><td>  0.2582634</td><td>  0.93159769</td><td>1.0011114</td><td>3026.4083</td></tr>\n",
              "\t<tr><th scope=row>RHO_24[1,2]</th><td>  0.6480549</td><td>0.21247155</td><td>  0.2582634</td><td>  0.93159769</td><td>1.0011114</td><td>3026.4083</td></tr>\n",
              "\t<tr><th scope=row>RHO_24[2,2]</th><td>  1.0000000</td><td>0.00000000</td><td>  1.0000000</td><td>  1.00000000</td><td>       NA</td><td>       NA</td></tr>\n",
              "\t<tr><th scope=row>SIGMA_24[1]</th><td> 18.3109078</td><td>2.38518188</td><td> 14.8964225</td><td> 22.41412200</td><td>0.9998851</td><td>4389.5851</td></tr>\n",
              "\t<tr><th scope=row>SIGMA_24[2]</th><td>  2.3834322</td><td>0.77413689</td><td>  1.5332607</td><td>  3.82183545</td><td>1.0010658</td><td>3004.8884</td></tr>\n",
              "\t<tr><th scope=row>R12[1]</th><td> -2.8532411</td><td>0.61176812</td><td> -3.8368320</td><td> -1.89118630</td><td>1.0013903</td><td>4614.5711</td></tr>\n",
              "\t<tr><th scope=row>R12[2]</th><td> -2.7770183</td><td>0.60309234</td><td> -3.7389143</td><td> -1.82121655</td><td>1.0009727</td><td>4635.6523</td></tr>\n",
              "\t<tr><th scope=row>N12[1]</th><td> -1.0163715</td><td>1.45524963</td><td> -3.7798538</td><td>  0.57546744</td><td>1.0018872</td><td>1735.4318</td></tr>\n",
              "\t<tr><th scope=row>N12[2]</th><td> -0.6770068</td><td>1.27593634</td><td> -3.0636376</td><td>  0.82461214</td><td>1.0011057</td><td>2321.0776</td></tr>\n",
              "\t<tr><th scope=row>RHO_12[1,1]</th><td>  1.0000000</td><td>0.00000000</td><td>  1.0000000</td><td>  1.00000000</td><td>       NA</td><td>       NA</td></tr>\n",
              "\t<tr><th scope=row>RHO_12[2,1]</th><td>  0.1973057</td><td>0.43069844</td><td> -0.5742157</td><td>  0.81061007</td><td>1.0007582</td><td>3436.8121</td></tr>\n",
              "\t<tr><th scope=row>RHO_12[1,2]</th><td>  0.1973057</td><td>0.43069844</td><td> -0.5742157</td><td>  0.81061007</td><td>1.0007582</td><td>3436.8121</td></tr>\n",
              "\t<tr><th scope=row>RHO_12[2,2]</th><td>  1.0000000</td><td>0.00000000</td><td>  1.0000000</td><td>  1.00000000</td><td>       NA</td><td>       NA</td></tr>\n",
              "\t<tr><th scope=row>SIGMA_12[1]</th><td>  1.1838234</td><td>0.99248837</td><td>  0.1224393</td><td>  2.97376500</td><td>1.0031833</td><td> 863.0489</td></tr>\n",
              "\t<tr><th scope=row>SIGMA_12[2]</th><td>  2.4634651</td><td>0.90415338</td><td>  1.3460279</td><td>  4.11007485</td><td>1.0000208</td><td>4031.1069</td></tr>\n",
              "\t<tr><th scope=row>R6[1]</th><td> -1.0382160</td><td>0.60396922</td><td> -2.0259601</td><td> -0.08272903</td><td>1.0009943</td><td>2966.7051</td></tr>\n",
              "\t<tr><th scope=row>R6[2]</th><td> -1.0078587</td><td>0.60071998</td><td> -1.9927218</td><td> -0.05567852</td><td>1.0006802</td><td>2770.0363</td></tr>\n",
              "\t<tr><th scope=row>N6[1]</th><td> -0.9151867</td><td>1.46907488</td><td> -3.8924581</td><td>  0.60233905</td><td>1.0025504</td><td>1837.8453</td></tr>\n",
              "\t<tr><th scope=row>N6[2]</th><td> -0.7086074</td><td>1.31785305</td><td> -3.2437407</td><td>  0.74066776</td><td>1.0042755</td><td>2002.6222</td></tr>\n",
              "\t<tr><th scope=row>RHO_6[1,1]</th><td>  1.0000000</td><td>0.00000000</td><td>  1.0000000</td><td>  1.00000000</td><td>       NA</td><td>       NA</td></tr>\n",
              "\t<tr><th scope=row>RHO_6[2,1]</th><td>  0.1563181</td><td>0.43501678</td><td> -0.5924765</td><td>  0.79746167</td><td>1.0004776</td><td>3208.7101</td></tr>\n",
              "\t<tr><th scope=row>RHO_6[1,2]</th><td>  0.1563181</td><td>0.43501678</td><td> -0.5924765</td><td>  0.79746167</td><td>1.0004776</td><td>3208.7101</td></tr>\n",
              "\t<tr><th scope=row>RHO_6[2,2]</th><td>  1.0000000</td><td>0.00000000</td><td>  1.0000000</td><td>  1.00000000</td><td>       NA</td><td>       NA</td></tr>\n",
              "\t<tr><th scope=row>SIGMA_6[1]</th><td>  1.1746821</td><td>1.02331792</td><td>  0.1106381</td><td>  3.13891935</td><td>1.0072210</td><td> 879.9664</td></tr>\n",
              "\t<tr><th scope=row>SIGMA_6[2]</th><td>  1.2618494</td><td>0.74149202</td><td>  0.3381762</td><td>  2.63543415</td><td>1.0014854</td><td>1906.9725</td></tr>\n",
              "\t<tr><th scope=row>sigmaN</th><td> 26.9946107</td><td>0.85970097</td><td> 25.6524350</td><td> 28.40436050</td><td>1.0009007</td><td>4852.1218</td></tr>\n",
              "\t<tr><th scope=row>sigmaR</th><td>  6.5746866</td><td>0.20710949</td><td>  6.2558827</td><td>  6.91637050</td><td>1.0030439</td><td>4925.3695</td></tr>\n",
              "</tbody>\n",
              "</table>\n"
            ],
            "text/markdown": "\nA precis: 42 × 6\n\n| <!--/--> | mean &lt;dbl&gt; | sd &lt;dbl&gt; | 5.5% &lt;dbl&gt; | 94.5% &lt;dbl&gt; | rhat &lt;dbl&gt; | ess_bulk &lt;dbl&gt; |\n|---|---|---|---|---|---|---|\n| R_time[1] |   2.1764791 | 0.03286110 |   2.1226650 |   2.22882055 | 0.9995126 | 4539.1785 |\n| R_time[2] |   2.1227171 | 0.03334026 |   2.0688334 |   2.17582595 | 1.0003706 | 4265.6293 |\n| N_time[1] |  18.7453037 | 0.13203607 |  18.5363945 |  18.95541100 | 1.0014154 | 4667.9830 |\n| N_time[2] |  22.3241141 | 0.13058329 |  22.1143450 |  22.53023300 | 1.0000243 | 4351.4231 |\n| RHO_time[1,1] |   1.0000000 | 0.00000000 |   1.0000000 |   1.00000000 |        NA |        NA |\n| RHO_time[2,1] |   0.4454855 | 0.33075836 |  -0.1592943 |   0.88121847 | 1.0011492 | 3714.7142 |\n| RHO_time[1,2] |   0.4454855 | 0.33075836 |  -0.1592943 |   0.88121847 | 1.0011492 | 3714.7142 |\n| RHO_time[2,2] |   1.0000000 | 0.00000000 |   1.0000000 |   1.00000000 |        NA |        NA |\n| SIGMA_time[1] |   8.2792839 | 3.12680661 |   4.7220533 |  14.00873200 | 1.0012612 | 4077.9809 |\n| SIGMA_time[2] |   7.0685714 | 2.98229641 |   3.8716012 |  12.41367350 | 1.0006268 | 3856.2739 |\n| R24[1] |  -5.4690525 | 0.62802455 |  -6.4675470 |  -4.44408670 | 1.0020135 | 4074.6819 |\n| R24[2] |  -5.3301783 | 0.62331190 |  -6.3342396 |  -4.34569250 | 0.9999558 | 4873.4522 |\n| N24[1] | -59.2383250 | 2.63087500 | -63.3560635 | -55.11564450 | 1.0011446 | 4433.2123 |\n| N24[2] | -57.5056766 | 2.66119976 | -61.7240335 | -53.27394450 | 1.0009348 | 4578.6332 |\n| RHO_24[1,1] |   1.0000000 | 0.00000000 |   1.0000000 |   1.00000000 |        NA |        NA |\n| RHO_24[2,1] |   0.6480549 | 0.21247155 |   0.2582634 |   0.93159769 | 1.0011114 | 3026.4083 |\n| RHO_24[1,2] |   0.6480549 | 0.21247155 |   0.2582634 |   0.93159769 | 1.0011114 | 3026.4083 |\n| RHO_24[2,2] |   1.0000000 | 0.00000000 |   1.0000000 |   1.00000000 |        NA |        NA |\n| SIGMA_24[1] |  18.3109078 | 2.38518188 |  14.8964225 |  22.41412200 | 0.9998851 | 4389.5851 |\n| SIGMA_24[2] |   2.3834322 | 0.77413689 |   1.5332607 |   3.82183545 | 1.0010658 | 3004.8884 |\n| R12[1] |  -2.8532411 | 0.61176812 |  -3.8368320 |  -1.89118630 | 1.0013903 | 4614.5711 |\n| R12[2] |  -2.7770183 | 0.60309234 |  -3.7389143 |  -1.82121655 | 1.0009727 | 4635.6523 |\n| N12[1] |  -1.0163715 | 1.45524963 |  -3.7798538 |   0.57546744 | 1.0018872 | 1735.4318 |\n| N12[2] |  -0.6770068 | 1.27593634 |  -3.0636376 |   0.82461214 | 1.0011057 | 2321.0776 |\n| RHO_12[1,1] |   1.0000000 | 0.00000000 |   1.0000000 |   1.00000000 |        NA |        NA |\n| RHO_12[2,1] |   0.1973057 | 0.43069844 |  -0.5742157 |   0.81061007 | 1.0007582 | 3436.8121 |\n| RHO_12[1,2] |   0.1973057 | 0.43069844 |  -0.5742157 |   0.81061007 | 1.0007582 | 3436.8121 |\n| RHO_12[2,2] |   1.0000000 | 0.00000000 |   1.0000000 |   1.00000000 |        NA |        NA |\n| SIGMA_12[1] |   1.1838234 | 0.99248837 |   0.1224393 |   2.97376500 | 1.0031833 |  863.0489 |\n| SIGMA_12[2] |   2.4634651 | 0.90415338 |   1.3460279 |   4.11007485 | 1.0000208 | 4031.1069 |\n| R6[1] |  -1.0382160 | 0.60396922 |  -2.0259601 |  -0.08272903 | 1.0009943 | 2966.7051 |\n| R6[2] |  -1.0078587 | 0.60071998 |  -1.9927218 |  -0.05567852 | 1.0006802 | 2770.0363 |\n| N6[1] |  -0.9151867 | 1.46907488 |  -3.8924581 |   0.60233905 | 1.0025504 | 1837.8453 |\n| N6[2] |  -0.7086074 | 1.31785305 |  -3.2437407 |   0.74066776 | 1.0042755 | 2002.6222 |\n| RHO_6[1,1] |   1.0000000 | 0.00000000 |   1.0000000 |   1.00000000 |        NA |        NA |\n| RHO_6[2,1] |   0.1563181 | 0.43501678 |  -0.5924765 |   0.79746167 | 1.0004776 | 3208.7101 |\n| RHO_6[1,2] |   0.1563181 | 0.43501678 |  -0.5924765 |   0.79746167 | 1.0004776 | 3208.7101 |\n| RHO_6[2,2] |   1.0000000 | 0.00000000 |   1.0000000 |   1.00000000 |        NA |        NA |\n| SIGMA_6[1] |   1.1746821 | 1.02331792 |   0.1106381 |   3.13891935 | 1.0072210 |  879.9664 |\n| SIGMA_6[2] |   1.2618494 | 0.74149202 |   0.3381762 |   2.63543415 | 1.0014854 | 1906.9725 |\n| sigmaN |  26.9946107 | 0.85970097 |  25.6524350 |  28.40436050 | 1.0009007 | 4852.1218 |\n| sigmaR |   6.5746866 | 0.20710949 |   6.2558827 |   6.91637050 | 1.0030439 | 4925.3695 |\n\n",
            "text/latex": "A precis: 42 × 6\n\\begin{tabular}{r|llllll}\n  & mean & sd & 5.5\\% & 94.5\\% & rhat & ess\\_bulk\\\\\n  & <dbl> & <dbl> & <dbl> & <dbl> & <dbl> & <dbl>\\\\\n\\hline\n\tR\\_time{[}1{]} &   2.1764791 & 0.03286110 &   2.1226650 &   2.22882055 & 0.9995126 & 4539.1785\\\\\n\tR\\_time{[}2{]} &   2.1227171 & 0.03334026 &   2.0688334 &   2.17582595 & 1.0003706 & 4265.6293\\\\\n\tN\\_time{[}1{]} &  18.7453037 & 0.13203607 &  18.5363945 &  18.95541100 & 1.0014154 & 4667.9830\\\\\n\tN\\_time{[}2{]} &  22.3241141 & 0.13058329 &  22.1143450 &  22.53023300 & 1.0000243 & 4351.4231\\\\\n\tRHO\\_time{[}1,1{]} &   1.0000000 & 0.00000000 &   1.0000000 &   1.00000000 &        NA &        NA\\\\\n\tRHO\\_time{[}2,1{]} &   0.4454855 & 0.33075836 &  -0.1592943 &   0.88121847 & 1.0011492 & 3714.7142\\\\\n\tRHO\\_time{[}1,2{]} &   0.4454855 & 0.33075836 &  -0.1592943 &   0.88121847 & 1.0011492 & 3714.7142\\\\\n\tRHO\\_time{[}2,2{]} &   1.0000000 & 0.00000000 &   1.0000000 &   1.00000000 &        NA &        NA\\\\\n\tSIGMA\\_time{[}1{]} &   8.2792839 & 3.12680661 &   4.7220533 &  14.00873200 & 1.0012612 & 4077.9809\\\\\n\tSIGMA\\_time{[}2{]} &   7.0685714 & 2.98229641 &   3.8716012 &  12.41367350 & 1.0006268 & 3856.2739\\\\\n\tR24{[}1{]} &  -5.4690525 & 0.62802455 &  -6.4675470 &  -4.44408670 & 1.0020135 & 4074.6819\\\\\n\tR24{[}2{]} &  -5.3301783 & 0.62331190 &  -6.3342396 &  -4.34569250 & 0.9999558 & 4873.4522\\\\\n\tN24{[}1{]} & -59.2383250 & 2.63087500 & -63.3560635 & -55.11564450 & 1.0011446 & 4433.2123\\\\\n\tN24{[}2{]} & -57.5056766 & 2.66119976 & -61.7240335 & -53.27394450 & 1.0009348 & 4578.6332\\\\\n\tRHO\\_24{[}1,1{]} &   1.0000000 & 0.00000000 &   1.0000000 &   1.00000000 &        NA &        NA\\\\\n\tRHO\\_24{[}2,1{]} &   0.6480549 & 0.21247155 &   0.2582634 &   0.93159769 & 1.0011114 & 3026.4083\\\\\n\tRHO\\_24{[}1,2{]} &   0.6480549 & 0.21247155 &   0.2582634 &   0.93159769 & 1.0011114 & 3026.4083\\\\\n\tRHO\\_24{[}2,2{]} &   1.0000000 & 0.00000000 &   1.0000000 &   1.00000000 &        NA &        NA\\\\\n\tSIGMA\\_24{[}1{]} &  18.3109078 & 2.38518188 &  14.8964225 &  22.41412200 & 0.9998851 & 4389.5851\\\\\n\tSIGMA\\_24{[}2{]} &   2.3834322 & 0.77413689 &   1.5332607 &   3.82183545 & 1.0010658 & 3004.8884\\\\\n\tR12{[}1{]} &  -2.8532411 & 0.61176812 &  -3.8368320 &  -1.89118630 & 1.0013903 & 4614.5711\\\\\n\tR12{[}2{]} &  -2.7770183 & 0.60309234 &  -3.7389143 &  -1.82121655 & 1.0009727 & 4635.6523\\\\\n\tN12{[}1{]} &  -1.0163715 & 1.45524963 &  -3.7798538 &   0.57546744 & 1.0018872 & 1735.4318\\\\\n\tN12{[}2{]} &  -0.6770068 & 1.27593634 &  -3.0636376 &   0.82461214 & 1.0011057 & 2321.0776\\\\\n\tRHO\\_12{[}1,1{]} &   1.0000000 & 0.00000000 &   1.0000000 &   1.00000000 &        NA &        NA\\\\\n\tRHO\\_12{[}2,1{]} &   0.1973057 & 0.43069844 &  -0.5742157 &   0.81061007 & 1.0007582 & 3436.8121\\\\\n\tRHO\\_12{[}1,2{]} &   0.1973057 & 0.43069844 &  -0.5742157 &   0.81061007 & 1.0007582 & 3436.8121\\\\\n\tRHO\\_12{[}2,2{]} &   1.0000000 & 0.00000000 &   1.0000000 &   1.00000000 &        NA &        NA\\\\\n\tSIGMA\\_12{[}1{]} &   1.1838234 & 0.99248837 &   0.1224393 &   2.97376500 & 1.0031833 &  863.0489\\\\\n\tSIGMA\\_12{[}2{]} &   2.4634651 & 0.90415338 &   1.3460279 &   4.11007485 & 1.0000208 & 4031.1069\\\\\n\tR6{[}1{]} &  -1.0382160 & 0.60396922 &  -2.0259601 &  -0.08272903 & 1.0009943 & 2966.7051\\\\\n\tR6{[}2{]} &  -1.0078587 & 0.60071998 &  -1.9927218 &  -0.05567852 & 1.0006802 & 2770.0363\\\\\n\tN6{[}1{]} &  -0.9151867 & 1.46907488 &  -3.8924581 &   0.60233905 & 1.0025504 & 1837.8453\\\\\n\tN6{[}2{]} &  -0.7086074 & 1.31785305 &  -3.2437407 &   0.74066776 & 1.0042755 & 2002.6222\\\\\n\tRHO\\_6{[}1,1{]} &   1.0000000 & 0.00000000 &   1.0000000 &   1.00000000 &        NA &        NA\\\\\n\tRHO\\_6{[}2,1{]} &   0.1563181 & 0.43501678 &  -0.5924765 &   0.79746167 & 1.0004776 & 3208.7101\\\\\n\tRHO\\_6{[}1,2{]} &   0.1563181 & 0.43501678 &  -0.5924765 &   0.79746167 & 1.0004776 & 3208.7101\\\\\n\tRHO\\_6{[}2,2{]} &   1.0000000 & 0.00000000 &   1.0000000 &   1.00000000 &        NA &        NA\\\\\n\tSIGMA\\_6{[}1{]} &   1.1746821 & 1.02331792 &   0.1106381 &   3.13891935 & 1.0072210 &  879.9664\\\\\n\tSIGMA\\_6{[}2{]} &   1.2618494 & 0.74149202 &   0.3381762 &   2.63543415 & 1.0014854 & 1906.9725\\\\\n\tsigmaN &  26.9946107 & 0.85970097 &  25.6524350 &  28.40436050 & 1.0009007 & 4852.1218\\\\\n\tsigmaR &   6.5746866 & 0.20710949 &   6.2558827 &   6.91637050 & 1.0030439 & 4925.3695\\\\\n\\end{tabular}\n",
            "text/plain": [
              "              mean        sd         5.5%        94.5%        rhat     \n",
              "R_time[1]       2.1764791 0.03286110   2.1226650   2.22882055 0.9995126\n",
              "R_time[2]       2.1227171 0.03334026   2.0688334   2.17582595 1.0003706\n",
              "N_time[1]      18.7453037 0.13203607  18.5363945  18.95541100 1.0014154\n",
              "N_time[2]      22.3241141 0.13058329  22.1143450  22.53023300 1.0000243\n",
              "RHO_time[1,1]   1.0000000 0.00000000   1.0000000   1.00000000        NA\n",
              "RHO_time[2,1]   0.4454855 0.33075836  -0.1592943   0.88121847 1.0011492\n",
              "RHO_time[1,2]   0.4454855 0.33075836  -0.1592943   0.88121847 1.0011492\n",
              "RHO_time[2,2]   1.0000000 0.00000000   1.0000000   1.00000000        NA\n",
              "SIGMA_time[1]   8.2792839 3.12680661   4.7220533  14.00873200 1.0012612\n",
              "SIGMA_time[2]   7.0685714 2.98229641   3.8716012  12.41367350 1.0006268\n",
              "R24[1]         -5.4690525 0.62802455  -6.4675470  -4.44408670 1.0020135\n",
              "R24[2]         -5.3301783 0.62331190  -6.3342396  -4.34569250 0.9999558\n",
              "N24[1]        -59.2383250 2.63087500 -63.3560635 -55.11564450 1.0011446\n",
              "N24[2]        -57.5056766 2.66119976 -61.7240335 -53.27394450 1.0009348\n",
              "RHO_24[1,1]     1.0000000 0.00000000   1.0000000   1.00000000        NA\n",
              "RHO_24[2,1]     0.6480549 0.21247155   0.2582634   0.93159769 1.0011114\n",
              "RHO_24[1,2]     0.6480549 0.21247155   0.2582634   0.93159769 1.0011114\n",
              "RHO_24[2,2]     1.0000000 0.00000000   1.0000000   1.00000000        NA\n",
              "SIGMA_24[1]    18.3109078 2.38518188  14.8964225  22.41412200 0.9998851\n",
              "SIGMA_24[2]     2.3834322 0.77413689   1.5332607   3.82183545 1.0010658\n",
              "R12[1]         -2.8532411 0.61176812  -3.8368320  -1.89118630 1.0013903\n",
              "R12[2]         -2.7770183 0.60309234  -3.7389143  -1.82121655 1.0009727\n",
              "N12[1]         -1.0163715 1.45524963  -3.7798538   0.57546744 1.0018872\n",
              "N12[2]         -0.6770068 1.27593634  -3.0636376   0.82461214 1.0011057\n",
              "RHO_12[1,1]     1.0000000 0.00000000   1.0000000   1.00000000        NA\n",
              "RHO_12[2,1]     0.1973057 0.43069844  -0.5742157   0.81061007 1.0007582\n",
              "RHO_12[1,2]     0.1973057 0.43069844  -0.5742157   0.81061007 1.0007582\n",
              "RHO_12[2,2]     1.0000000 0.00000000   1.0000000   1.00000000        NA\n",
              "SIGMA_12[1]     1.1838234 0.99248837   0.1224393   2.97376500 1.0031833\n",
              "SIGMA_12[2]     2.4634651 0.90415338   1.3460279   4.11007485 1.0000208\n",
              "R6[1]          -1.0382160 0.60396922  -2.0259601  -0.08272903 1.0009943\n",
              "R6[2]          -1.0078587 0.60071998  -1.9927218  -0.05567852 1.0006802\n",
              "N6[1]          -0.9151867 1.46907488  -3.8924581   0.60233905 1.0025504\n",
              "N6[2]          -0.7086074 1.31785305  -3.2437407   0.74066776 1.0042755\n",
              "RHO_6[1,1]      1.0000000 0.00000000   1.0000000   1.00000000        NA\n",
              "RHO_6[2,1]      0.1563181 0.43501678  -0.5924765   0.79746167 1.0004776\n",
              "RHO_6[1,2]      0.1563181 0.43501678  -0.5924765   0.79746167 1.0004776\n",
              "RHO_6[2,2]      1.0000000 0.00000000   1.0000000   1.00000000        NA\n",
              "SIGMA_6[1]      1.1746821 1.02331792   0.1106381   3.13891935 1.0072210\n",
              "SIGMA_6[2]      1.2618494 0.74149202   0.3381762   2.63543415 1.0014854\n",
              "sigmaN         26.9946107 0.85970097  25.6524350  28.40436050 1.0009007\n",
              "sigmaR          6.5746866 0.20710949   6.2558827   6.91637050 1.0030439\n",
              "              ess_bulk \n",
              "R_time[1]     4539.1785\n",
              "R_time[2]     4265.6293\n",
              "N_time[1]     4667.9830\n",
              "N_time[2]     4351.4231\n",
              "RHO_time[1,1]        NA\n",
              "RHO_time[2,1] 3714.7142\n",
              "RHO_time[1,2] 3714.7142\n",
              "RHO_time[2,2]        NA\n",
              "SIGMA_time[1] 4077.9809\n",
              "SIGMA_time[2] 3856.2739\n",
              "R24[1]        4074.6819\n",
              "R24[2]        4873.4522\n",
              "N24[1]        4433.2123\n",
              "N24[2]        4578.6332\n",
              "RHO_24[1,1]          NA\n",
              "RHO_24[2,1]   3026.4083\n",
              "RHO_24[1,2]   3026.4083\n",
              "RHO_24[2,2]          NA\n",
              "SIGMA_24[1]   4389.5851\n",
              "SIGMA_24[2]   3004.8884\n",
              "R12[1]        4614.5711\n",
              "R12[2]        4635.6523\n",
              "N12[1]        1735.4318\n",
              "N12[2]        2321.0776\n",
              "RHO_12[1,1]          NA\n",
              "RHO_12[2,1]   3436.8121\n",
              "RHO_12[1,2]   3436.8121\n",
              "RHO_12[2,2]          NA\n",
              "SIGMA_12[1]    863.0489\n",
              "SIGMA_12[2]   4031.1069\n",
              "R6[1]         2966.7051\n",
              "R6[2]         2770.0363\n",
              "N6[1]         1837.8453\n",
              "N6[2]         2002.6222\n",
              "RHO_6[1,1]           NA\n",
              "RHO_6[2,1]    3208.7101\n",
              "RHO_6[1,2]    3208.7101\n",
              "RHO_6[2,2]           NA\n",
              "SIGMA_6[1]     879.9664\n",
              "SIGMA_6[2]    1906.9725\n",
              "sigmaN        4852.1218\n",
              "sigmaR        4925.3695"
            ]
          },
          "metadata": {}
        }
      ]
    },
    {
      "cell_type": "markdown",
      "source": [
        "### Model 6\n",
        "\n",
        "Now, we'll put all waveforms into a single multivariate distribution."
      ],
      "metadata": {
        "id": "UtZoMzqcB5OE"
      }
    },
    {
      "cell_type": "code",
      "source": [
        "S_model_6 <- ulam(\n",
        "  alist(\n",
        "    NREMS ~ dnorm(muN, sigmaN),\n",
        "      muN <- N_time[treatment]*time +\n",
        "            N24[treatment]*sine24 +\n",
        "            N12[treatment]*sine12 +\n",
        "            N6[treatment]*sine6,\n",
        "    REMS ~ dnorm(muR, sigmaR),\n",
        "      muR <- R_time[treatment]*time +\n",
        "             R24[treatment]*sine24 +\n",
        "             R12[treatment]*sine12 +\n",
        "             R6[treatment]*sine6,\n",
        "\n",
        "        c(N_time, R_time,\n",
        "          N24, R24,\n",
        "          N12, R12,\n",
        "          N6, R6)[treatment] ~ multi_normal(c(30,10,0,0,0,0,0,0), RHO, SIGMA),\n",
        "          RHO ~ lkj_corr(2),\n",
        "          SIGMA ~ dexp(0.25),\n",
        "      sigmaN ~ dexp(1),\n",
        "      sigmaR ~ dexp(1)\n",
        "  ), data=list(NREMS=Sleep_All$NREMS,\n",
        "               REMS=Sleep_All$REMS,\n",
        "               treatment=as.integer(Sleep_All$treatment)+1,\n",
        "               time=Sleep_All$Block,\n",
        "               TotalPreviousSleep=Sleep_All$TotalPreviousSleep,\n",
        "               sine24=sine24, sine12=sine12, sine6=sine6, sine3=sine3, sine1_5=sine1_5, sine0_5=sine0_75),\n",
        "     constraints=list(b_time=\"lower=0\"),\n",
        "     chains=4,\n",
        "     cores=4,\n",
        "     iter=2000,\n",
        "     log_lik=TRUE\n",
        ")\n",
        "\n",
        "precis(S_model_5, depth=3)"
      ],
      "metadata": {
        "colab": {
          "base_uri": "https://localhost:8080/",
          "height": 1000
        },
        "id": "fbozAFNl-4_5",
        "outputId": "cc55132c-ebd0-42aa-8a16-00b3e3858af9"
      },
      "execution_count": 47,
      "outputs": [
        {
          "output_type": "stream",
          "name": "stdout",
          "text": [
            "Running MCMC with 4 parallel chains, with 1 thread(s) per chain...\n",
            "\n",
            "Chain 1 Iteration:    1 / 2000 [  0%]  (Warmup) \n"
          ]
        },
        {
          "output_type": "stream",
          "name": "stderr",
          "text": [
            "Chain 1 Informational Message: The current Metropolis proposal is about to be rejected because of the following issue:\n",
            "\n",
            "Chain 1 Exception: lkj_corr_lpdf: Correlation matrix is not positive definite. (in '/tmp/RtmpdYT4HS/model-1a81918b2f5.stan', line 34, column 4 to column 24)\n",
            "\n",
            "Chain 1 If this warning occurs sporadically, such as for highly constrained variable types like covariance matrices, then the sampler is fine,\n",
            "\n",
            "Chain 1 but if this warning occurs often then your model may be either severely ill-conditioned or misspecified.\n",
            "\n",
            "Chain 1 \n",
            "\n",
            "Chain 1 Informational Message: The current Metropolis proposal is about to be rejected because of the following issue:\n",
            "\n",
            "Chain 1 Exception: lkj_corr_lpdf: Correlation matrix is not positive definite. (in '/tmp/RtmpdYT4HS/model-1a81918b2f5.stan', line 34, column 4 to column 24)\n",
            "\n",
            "Chain 1 If this warning occurs sporadically, such as for highly constrained variable types like covariance matrices, then the sampler is fine,\n",
            "\n",
            "Chain 1 but if this warning occurs often then your model may be either severely ill-conditioned or misspecified.\n",
            "\n",
            "Chain 1 \n",
            "\n",
            "Chain 1 Informational Message: The current Metropolis proposal is about to be rejected because of the following issue:\n",
            "\n",
            "Chain 1 Exception: lkj_corr_lpdf: Correlation matrix is not positive definite. (in '/tmp/RtmpdYT4HS/model-1a81918b2f5.stan', line 34, column 4 to column 24)\n",
            "\n",
            "Chain 1 If this warning occurs sporadically, such as for highly constrained variable types like covariance matrices, then the sampler is fine,\n",
            "\n",
            "Chain 1 but if this warning occurs often then your model may be either severely ill-conditioned or misspecified.\n",
            "\n",
            "Chain 1 \n",
            "\n",
            "Chain 1 Informational Message: The current Metropolis proposal is about to be rejected because of the following issue:\n",
            "\n",
            "Chain 1 Exception: lkj_corr_lpdf: Correlation matrix is not positive definite. (in '/tmp/RtmpdYT4HS/model-1a81918b2f5.stan', line 34, column 4 to column 24)\n",
            "\n",
            "Chain 1 If this warning occurs sporadically, such as for highly constrained variable types like covariance matrices, then the sampler is fine,\n",
            "\n",
            "Chain 1 but if this warning occurs often then your model may be either severely ill-conditioned or misspecified.\n",
            "\n",
            "Chain 1 \n",
            "\n",
            "Chain 1 Informational Message: The current Metropolis proposal is about to be rejected because of the following issue:\n",
            "\n",
            "Chain 1 Exception: lkj_corr_lpdf: Correlation matrix is not positive definite. (in '/tmp/RtmpdYT4HS/model-1a81918b2f5.stan', line 34, column 4 to column 24)\n",
            "\n",
            "Chain 1 If this warning occurs sporadically, such as for highly constrained variable types like covariance matrices, then the sampler is fine,\n",
            "\n",
            "Chain 1 but if this warning occurs often then your model may be either severely ill-conditioned or misspecified.\n",
            "\n",
            "Chain 1 \n",
            "\n",
            "Chain 1 Informational Message: The current Metropolis proposal is about to be rejected because of the following issue:\n",
            "\n",
            "Chain 1 Exception: lkj_corr_lpdf: Correlation matrix is not positive definite. (in '/tmp/RtmpdYT4HS/model-1a81918b2f5.stan', line 34, column 4 to column 24)\n",
            "\n",
            "Chain 1 If this warning occurs sporadically, such as for highly constrained variable types like covariance matrices, then the sampler is fine,\n",
            "\n",
            "Chain 1 but if this warning occurs often then your model may be either severely ill-conditioned or misspecified.\n",
            "\n",
            "Chain 1 \n",
            "\n",
            "Chain 1 Informational Message: The current Metropolis proposal is about to be rejected because of the following issue:\n",
            "\n",
            "Chain 1 Exception: lkj_corr_lpdf: Correlation matrix is not positive definite. (in '/tmp/RtmpdYT4HS/model-1a81918b2f5.stan', line 34, column 4 to column 24)\n",
            "\n",
            "Chain 1 If this warning occurs sporadically, such as for highly constrained variable types like covariance matrices, then the sampler is fine,\n",
            "\n",
            "Chain 1 but if this warning occurs often then your model may be either severely ill-conditioned or misspecified.\n",
            "\n",
            "Chain 1 \n",
            "\n",
            "Chain 1 Informational Message: The current Metropolis proposal is about to be rejected because of the following issue:\n",
            "\n",
            "Chain 1 Exception: lkj_corr_lpdf: Correlation matrix is not positive definite. (in '/tmp/RtmpdYT4HS/model-1a81918b2f5.stan', line 34, column 4 to column 24)\n",
            "\n",
            "Chain 1 If this warning occurs sporadically, such as for highly constrained variable types like covariance matrices, then the sampler is fine,\n",
            "\n",
            "Chain 1 but if this warning occurs often then your model may be either severely ill-conditioned or misspecified.\n",
            "\n",
            "Chain 1 \n",
            "\n",
            "Chain 1 Informational Message: The current Metropolis proposal is about to be rejected because of the following issue:\n",
            "\n",
            "Chain 1 Exception: lkj_corr_lpdf: Correlation matrix is not positive definite. (in '/tmp/RtmpdYT4HS/model-1a81918b2f5.stan', line 34, column 4 to column 24)\n",
            "\n",
            "Chain 1 If this warning occurs sporadically, such as for highly constrained variable types like covariance matrices, then the sampler is fine,\n",
            "\n",
            "Chain 1 but if this warning occurs often then your model may be either severely ill-conditioned or misspecified.\n",
            "\n",
            "Chain 1 \n",
            "\n",
            "Chain 1 Informational Message: The current Metropolis proposal is about to be rejected because of the following issue:\n",
            "\n",
            "Chain 1 Exception: lkj_corr_lpdf: Correlation matrix is not positive definite. (in '/tmp/RtmpdYT4HS/model-1a81918b2f5.stan', line 34, column 4 to column 24)\n",
            "\n",
            "Chain 1 If this warning occurs sporadically, such as for highly constrained variable types like covariance matrices, then the sampler is fine,\n",
            "\n",
            "Chain 1 but if this warning occurs often then your model may be either severely ill-conditioned or misspecified.\n",
            "\n",
            "Chain 1 \n",
            "\n",
            "Chain 1 Informational Message: The current Metropolis proposal is about to be rejected because of the following issue:\n",
            "\n",
            "Chain 1 Exception: lkj_corr_lpdf: Correlation matrix is not positive definite. (in '/tmp/RtmpdYT4HS/model-1a81918b2f5.stan', line 34, column 4 to column 24)\n",
            "\n",
            "Chain 1 If this warning occurs sporadically, such as for highly constrained variable types like covariance matrices, then the sampler is fine,\n",
            "\n",
            "Chain 1 but if this warning occurs often then your model may be either severely ill-conditioned or misspecified.\n",
            "\n",
            "Chain 1 \n",
            "\n",
            "Chain 1 Informational Message: The current Metropolis proposal is about to be rejected because of the following issue:\n",
            "\n",
            "Chain 1 Exception: lkj_corr_lpdf: Correlation matrix is not positive definite. (in '/tmp/RtmpdYT4HS/model-1a81918b2f5.stan', line 34, column 4 to column 24)\n",
            "\n",
            "Chain 1 If this warning occurs sporadically, such as for highly constrained variable types like covariance matrices, then the sampler is fine,\n",
            "\n",
            "Chain 1 but if this warning occurs often then your model may be either severely ill-conditioned or misspecified.\n",
            "\n",
            "Chain 1 \n",
            "\n",
            "Chain 1 Informational Message: The current Metropolis proposal is about to be rejected because of the following issue:\n",
            "\n",
            "Chain 1 Exception: lkj_corr_lpdf: Correlation matrix is not positive definite. (in '/tmp/RtmpdYT4HS/model-1a81918b2f5.stan', line 34, column 4 to column 24)\n",
            "\n",
            "Chain 1 If this warning occurs sporadically, such as for highly constrained variable types like covariance matrices, then the sampler is fine,\n",
            "\n",
            "Chain 1 but if this warning occurs often then your model may be either severely ill-conditioned or misspecified.\n",
            "\n",
            "Chain 1 \n",
            "\n",
            "Chain 1 Informational Message: The current Metropolis proposal is about to be rejected because of the following issue:\n",
            "\n",
            "Chain 1 Exception: lkj_corr_lpdf: Correlation matrix is not positive definite. (in '/tmp/RtmpdYT4HS/model-1a81918b2f5.stan', line 34, column 4 to column 24)\n",
            "\n",
            "Chain 1 If this warning occurs sporadically, such as for highly constrained variable types like covariance matrices, then the sampler is fine,\n",
            "\n",
            "Chain 1 but if this warning occurs often then your model may be either severely ill-conditioned or misspecified.\n",
            "\n",
            "Chain 1 \n",
            "\n"
          ]
        },
        {
          "output_type": "stream",
          "name": "stdout",
          "text": [
            "Chain 2 Iteration:    1 / 2000 [  0%]  (Warmup) \n"
          ]
        },
        {
          "output_type": "stream",
          "name": "stderr",
          "text": [
            "Chain 2 Informational Message: The current Metropolis proposal is about to be rejected because of the following issue:\n",
            "\n",
            "Chain 2 Exception: lkj_corr_lpdf: Correlation matrix is not positive definite. (in '/tmp/RtmpdYT4HS/model-1a81918b2f5.stan', line 34, column 4 to column 24)\n",
            "\n",
            "Chain 2 If this warning occurs sporadically, such as for highly constrained variable types like covariance matrices, then the sampler is fine,\n",
            "\n",
            "Chain 2 but if this warning occurs often then your model may be either severely ill-conditioned or misspecified.\n",
            "\n",
            "Chain 2 \n",
            "\n",
            "Chain 2 Informational Message: The current Metropolis proposal is about to be rejected because of the following issue:\n",
            "\n",
            "Chain 2 Exception: lkj_corr_lpdf: Correlation matrix is not positive definite. (in '/tmp/RtmpdYT4HS/model-1a81918b2f5.stan', line 34, column 4 to column 24)\n",
            "\n",
            "Chain 2 If this warning occurs sporadically, such as for highly constrained variable types like covariance matrices, then the sampler is fine,\n",
            "\n",
            "Chain 2 but if this warning occurs often then your model may be either severely ill-conditioned or misspecified.\n",
            "\n",
            "Chain 2 \n",
            "\n",
            "Chain 2 Informational Message: The current Metropolis proposal is about to be rejected because of the following issue:\n",
            "\n",
            "Chain 2 Exception: lkj_corr_lpdf: Correlation matrix is not positive definite. (in '/tmp/RtmpdYT4HS/model-1a81918b2f5.stan', line 34, column 4 to column 24)\n",
            "\n",
            "Chain 2 If this warning occurs sporadically, such as for highly constrained variable types like covariance matrices, then the sampler is fine,\n",
            "\n",
            "Chain 2 but if this warning occurs often then your model may be either severely ill-conditioned or misspecified.\n",
            "\n",
            "Chain 2 \n",
            "\n",
            "Chain 2 Informational Message: The current Metropolis proposal is about to be rejected because of the following issue:\n",
            "\n",
            "Chain 2 Exception: lkj_corr_lpdf: Correlation matrix is not positive definite. (in '/tmp/RtmpdYT4HS/model-1a81918b2f5.stan', line 34, column 4 to column 24)\n",
            "\n",
            "Chain 2 If this warning occurs sporadically, such as for highly constrained variable types like covariance matrices, then the sampler is fine,\n",
            "\n",
            "Chain 2 but if this warning occurs often then your model may be either severely ill-conditioned or misspecified.\n",
            "\n",
            "Chain 2 \n",
            "\n",
            "Chain 2 Informational Message: The current Metropolis proposal is about to be rejected because of the following issue:\n",
            "\n",
            "Chain 2 Exception: lkj_corr_lpdf: Correlation matrix is not positive definite. (in '/tmp/RtmpdYT4HS/model-1a81918b2f5.stan', line 34, column 4 to column 24)\n",
            "\n",
            "Chain 2 If this warning occurs sporadically, such as for highly constrained variable types like covariance matrices, then the sampler is fine,\n",
            "\n",
            "Chain 2 but if this warning occurs often then your model may be either severely ill-conditioned or misspecified.\n",
            "\n",
            "Chain 2 \n",
            "\n",
            "Chain 2 Informational Message: The current Metropolis proposal is about to be rejected because of the following issue:\n",
            "\n",
            "Chain 2 Exception: lkj_corr_lpdf: Correlation matrix is not positive definite. (in '/tmp/RtmpdYT4HS/model-1a81918b2f5.stan', line 34, column 4 to column 24)\n",
            "\n",
            "Chain 2 If this warning occurs sporadically, such as for highly constrained variable types like covariance matrices, then the sampler is fine,\n",
            "\n",
            "Chain 2 but if this warning occurs often then your model may be either severely ill-conditioned or misspecified.\n",
            "\n",
            "Chain 2 \n",
            "\n",
            "Chain 2 Informational Message: The current Metropolis proposal is about to be rejected because of the following issue:\n",
            "\n",
            "Chain 2 Exception: lkj_corr_lpdf: Correlation matrix is not positive definite. (in '/tmp/RtmpdYT4HS/model-1a81918b2f5.stan', line 34, column 4 to column 24)\n",
            "\n",
            "Chain 2 If this warning occurs sporadically, such as for highly constrained variable types like covariance matrices, then the sampler is fine,\n",
            "\n",
            "Chain 2 but if this warning occurs often then your model may be either severely ill-conditioned or misspecified.\n",
            "\n",
            "Chain 2 \n",
            "\n",
            "Chain 2 Informational Message: The current Metropolis proposal is about to be rejected because of the following issue:\n",
            "\n",
            "Chain 2 Exception: lkj_corr_lpdf: Correlation matrix is not positive definite. (in '/tmp/RtmpdYT4HS/model-1a81918b2f5.stan', line 34, column 4 to column 24)\n",
            "\n",
            "Chain 2 If this warning occurs sporadically, such as for highly constrained variable types like covariance matrices, then the sampler is fine,\n",
            "\n",
            "Chain 2 but if this warning occurs often then your model may be either severely ill-conditioned or misspecified.\n",
            "\n",
            "Chain 2 \n",
            "\n",
            "Chain 2 Informational Message: The current Metropolis proposal is about to be rejected because of the following issue:\n",
            "\n",
            "Chain 2 Exception: lkj_corr_lpdf: Correlation matrix is not positive definite. (in '/tmp/RtmpdYT4HS/model-1a81918b2f5.stan', line 34, column 4 to column 24)\n",
            "\n",
            "Chain 2 If this warning occurs sporadically, such as for highly constrained variable types like covariance matrices, then the sampler is fine,\n",
            "\n",
            "Chain 2 but if this warning occurs often then your model may be either severely ill-conditioned or misspecified.\n",
            "\n",
            "Chain 2 \n",
            "\n",
            "Chain 2 Informational Message: The current Metropolis proposal is about to be rejected because of the following issue:\n",
            "\n",
            "Chain 2 Exception: lkj_corr_lpdf: Correlation matrix is not positive definite. (in '/tmp/RtmpdYT4HS/model-1a81918b2f5.stan', line 34, column 4 to column 24)\n",
            "\n",
            "Chain 2 If this warning occurs sporadically, such as for highly constrained variable types like covariance matrices, then the sampler is fine,\n",
            "\n",
            "Chain 2 but if this warning occurs often then your model may be either severely ill-conditioned or misspecified.\n",
            "\n",
            "Chain 2 \n",
            "\n",
            "Chain 2 Informational Message: The current Metropolis proposal is about to be rejected because of the following issue:\n",
            "\n",
            "Chain 2 Exception: lkj_corr_lpdf: Correlation matrix is not positive definite. (in '/tmp/RtmpdYT4HS/model-1a81918b2f5.stan', line 34, column 4 to column 24)\n",
            "\n",
            "Chain 2 If this warning occurs sporadically, such as for highly constrained variable types like covariance matrices, then the sampler is fine,\n",
            "\n",
            "Chain 2 but if this warning occurs often then your model may be either severely ill-conditioned or misspecified.\n",
            "\n",
            "Chain 2 \n",
            "\n",
            "Chain 2 Informational Message: The current Metropolis proposal is about to be rejected because of the following issue:\n",
            "\n",
            "Chain 2 Exception: lkj_corr_lpdf: Correlation matrix is not positive definite. (in '/tmp/RtmpdYT4HS/model-1a81918b2f5.stan', line 34, column 4 to column 24)\n",
            "\n",
            "Chain 2 If this warning occurs sporadically, such as for highly constrained variable types like covariance matrices, then the sampler is fine,\n",
            "\n",
            "Chain 2 but if this warning occurs often then your model may be either severely ill-conditioned or misspecified.\n",
            "\n",
            "Chain 2 \n",
            "\n",
            "Chain 2 Informational Message: The current Metropolis proposal is about to be rejected because of the following issue:\n",
            "\n",
            "Chain 2 Exception: lkj_corr_lpdf: Correlation matrix is not positive definite. (in '/tmp/RtmpdYT4HS/model-1a81918b2f5.stan', line 34, column 4 to column 24)\n",
            "\n",
            "Chain 2 If this warning occurs sporadically, such as for highly constrained variable types like covariance matrices, then the sampler is fine,\n",
            "\n",
            "Chain 2 but if this warning occurs often then your model may be either severely ill-conditioned or misspecified.\n",
            "\n",
            "Chain 2 \n",
            "\n",
            "Chain 2 Informational Message: The current Metropolis proposal is about to be rejected because of the following issue:\n",
            "\n",
            "Chain 2 Exception: lkj_corr_lpdf: Correlation matrix is not positive definite. (in '/tmp/RtmpdYT4HS/model-1a81918b2f5.stan', line 34, column 4 to column 24)\n",
            "\n",
            "Chain 2 If this warning occurs sporadically, such as for highly constrained variable types like covariance matrices, then the sampler is fine,\n",
            "\n",
            "Chain 2 but if this warning occurs often then your model may be either severely ill-conditioned or misspecified.\n",
            "\n",
            "Chain 2 \n",
            "\n",
            "Chain 2 Informational Message: The current Metropolis proposal is about to be rejected because of the following issue:\n",
            "\n",
            "Chain 2 Exception: lkj_corr_lpdf: Correlation matrix is not positive definite. (in '/tmp/RtmpdYT4HS/model-1a81918b2f5.stan', line 34, column 4 to column 24)\n",
            "\n",
            "Chain 2 If this warning occurs sporadically, such as for highly constrained variable types like covariance matrices, then the sampler is fine,\n",
            "\n",
            "Chain 2 but if this warning occurs often then your model may be either severely ill-conditioned or misspecified.\n",
            "\n",
            "Chain 2 \n",
            "\n"
          ]
        },
        {
          "output_type": "stream",
          "name": "stdout",
          "text": [
            "Chain 3 Iteration:    1 / 2000 [  0%]  (Warmup) \n"
          ]
        },
        {
          "output_type": "stream",
          "name": "stderr",
          "text": [
            "Chain 3 Informational Message: The current Metropolis proposal is about to be rejected because of the following issue:\n",
            "\n",
            "Chain 3 Exception: lkj_corr_lpdf: Correlation matrix is not positive definite. (in '/tmp/RtmpdYT4HS/model-1a81918b2f5.stan', line 34, column 4 to column 24)\n",
            "\n",
            "Chain 3 If this warning occurs sporadically, such as for highly constrained variable types like covariance matrices, then the sampler is fine,\n",
            "\n",
            "Chain 3 but if this warning occurs often then your model may be either severely ill-conditioned or misspecified.\n",
            "\n",
            "Chain 3 \n",
            "\n",
            "Chain 3 Informational Message: The current Metropolis proposal is about to be rejected because of the following issue:\n",
            "\n",
            "Chain 3 Exception: lkj_corr_lpdf: Correlation matrix is not positive definite. (in '/tmp/RtmpdYT4HS/model-1a81918b2f5.stan', line 34, column 4 to column 24)\n",
            "\n",
            "Chain 3 If this warning occurs sporadically, such as for highly constrained variable types like covariance matrices, then the sampler is fine,\n",
            "\n",
            "Chain 3 but if this warning occurs often then your model may be either severely ill-conditioned or misspecified.\n",
            "\n",
            "Chain 3 \n",
            "\n",
            "Chain 3 Informational Message: The current Metropolis proposal is about to be rejected because of the following issue:\n",
            "\n",
            "Chain 3 Exception: lkj_corr_lpdf: Correlation matrix is not positive definite. (in '/tmp/RtmpdYT4HS/model-1a81918b2f5.stan', line 34, column 4 to column 24)\n",
            "\n",
            "Chain 3 If this warning occurs sporadically, such as for highly constrained variable types like covariance matrices, then the sampler is fine,\n",
            "\n",
            "Chain 3 but if this warning occurs often then your model may be either severely ill-conditioned or misspecified.\n",
            "\n",
            "Chain 3 \n",
            "\n",
            "Chain 3 Informational Message: The current Metropolis proposal is about to be rejected because of the following issue:\n",
            "\n",
            "Chain 3 Exception: lkj_corr_lpdf: Correlation matrix is not positive definite. (in '/tmp/RtmpdYT4HS/model-1a81918b2f5.stan', line 34, column 4 to column 24)\n",
            "\n",
            "Chain 3 If this warning occurs sporadically, such as for highly constrained variable types like covariance matrices, then the sampler is fine,\n",
            "\n",
            "Chain 3 but if this warning occurs often then your model may be either severely ill-conditioned or misspecified.\n",
            "\n",
            "Chain 3 \n",
            "\n",
            "Chain 3 Informational Message: The current Metropolis proposal is about to be rejected because of the following issue:\n",
            "\n",
            "Chain 3 Exception: lkj_corr_lpdf: Correlation matrix is not positive definite. (in '/tmp/RtmpdYT4HS/model-1a81918b2f5.stan', line 34, column 4 to column 24)\n",
            "\n",
            "Chain 3 If this warning occurs sporadically, such as for highly constrained variable types like covariance matrices, then the sampler is fine,\n",
            "\n",
            "Chain 3 but if this warning occurs often then your model may be either severely ill-conditioned or misspecified.\n",
            "\n",
            "Chain 3 \n",
            "\n",
            "Chain 3 Informational Message: The current Metropolis proposal is about to be rejected because of the following issue:\n",
            "\n",
            "Chain 3 Exception: lkj_corr_lpdf: Correlation matrix is not positive definite. (in '/tmp/RtmpdYT4HS/model-1a81918b2f5.stan', line 34, column 4 to column 24)\n",
            "\n",
            "Chain 3 If this warning occurs sporadically, such as for highly constrained variable types like covariance matrices, then the sampler is fine,\n",
            "\n",
            "Chain 3 but if this warning occurs often then your model may be either severely ill-conditioned or misspecified.\n",
            "\n",
            "Chain 3 \n",
            "\n",
            "Chain 3 Informational Message: The current Metropolis proposal is about to be rejected because of the following issue:\n",
            "\n",
            "Chain 3 Exception: lkj_corr_lpdf: Correlation matrix is not positive definite. (in '/tmp/RtmpdYT4HS/model-1a81918b2f5.stan', line 34, column 4 to column 24)\n",
            "\n",
            "Chain 3 If this warning occurs sporadically, such as for highly constrained variable types like covariance matrices, then the sampler is fine,\n",
            "\n",
            "Chain 3 but if this warning occurs often then your model may be either severely ill-conditioned or misspecified.\n",
            "\n",
            "Chain 3 \n",
            "\n",
            "Chain 3 Informational Message: The current Metropolis proposal is about to be rejected because of the following issue:\n",
            "\n",
            "Chain 3 Exception: lkj_corr_lpdf: Correlation matrix is not positive definite. (in '/tmp/RtmpdYT4HS/model-1a81918b2f5.stan', line 34, column 4 to column 24)\n",
            "\n",
            "Chain 3 If this warning occurs sporadically, such as for highly constrained variable types like covariance matrices, then the sampler is fine,\n",
            "\n",
            "Chain 3 but if this warning occurs often then your model may be either severely ill-conditioned or misspecified.\n",
            "\n",
            "Chain 3 \n",
            "\n",
            "Chain 3 Informational Message: The current Metropolis proposal is about to be rejected because of the following issue:\n",
            "\n",
            "Chain 3 Exception: lkj_corr_lpdf: Correlation matrix is not positive definite. (in '/tmp/RtmpdYT4HS/model-1a81918b2f5.stan', line 34, column 4 to column 24)\n",
            "\n",
            "Chain 3 If this warning occurs sporadically, such as for highly constrained variable types like covariance matrices, then the sampler is fine,\n",
            "\n",
            "Chain 3 but if this warning occurs often then your model may be either severely ill-conditioned or misspecified.\n",
            "\n",
            "Chain 3 \n",
            "\n",
            "Chain 3 Informational Message: The current Metropolis proposal is about to be rejected because of the following issue:\n",
            "\n",
            "Chain 3 Exception: lkj_corr_lpdf: Correlation matrix is not positive definite. (in '/tmp/RtmpdYT4HS/model-1a81918b2f5.stan', line 34, column 4 to column 24)\n",
            "\n",
            "Chain 3 If this warning occurs sporadically, such as for highly constrained variable types like covariance matrices, then the sampler is fine,\n",
            "\n",
            "Chain 3 but if this warning occurs often then your model may be either severely ill-conditioned or misspecified.\n",
            "\n",
            "Chain 3 \n",
            "\n",
            "Chain 3 Informational Message: The current Metropolis proposal is about to be rejected because of the following issue:\n",
            "\n",
            "Chain 3 Exception: multi_normal_lpdf: Covariance matrix is not symmetric. Covariance matrix[1,8] = 1.2074e+08, but Covariance matrix[8,1] = 1.2074e+08 (in '/tmp/RtmpdYT4HS/model-1a81918b2f5.stan', line 40, column 4 to column 58)\n",
            "\n",
            "Chain 3 If this warning occurs sporadically, such as for highly constrained variable types like covariance matrices, then the sampler is fine,\n",
            "\n",
            "Chain 3 but if this warning occurs often then your model may be either severely ill-conditioned or misspecified.\n",
            "\n",
            "Chain 3 \n",
            "\n",
            "Chain 3 Informational Message: The current Metropolis proposal is about to be rejected because of the following issue:\n",
            "\n",
            "Chain 3 Exception: lkj_corr_lpdf: Correlation matrix is not positive definite. (in '/tmp/RtmpdYT4HS/model-1a81918b2f5.stan', line 34, column 4 to column 24)\n",
            "\n",
            "Chain 3 If this warning occurs sporadically, such as for highly constrained variable types like covariance matrices, then the sampler is fine,\n",
            "\n",
            "Chain 3 but if this warning occurs often then your model may be either severely ill-conditioned or misspecified.\n",
            "\n",
            "Chain 3 \n",
            "\n",
            "Chain 3 Informational Message: The current Metropolis proposal is about to be rejected because of the following issue:\n",
            "\n",
            "Chain 3 Exception: lkj_corr_lpdf: Correlation matrix is not positive definite. (in '/tmp/RtmpdYT4HS/model-1a81918b2f5.stan', line 34, column 4 to column 24)\n",
            "\n",
            "Chain 3 If this warning occurs sporadically, such as for highly constrained variable types like covariance matrices, then the sampler is fine,\n",
            "\n",
            "Chain 3 but if this warning occurs often then your model may be either severely ill-conditioned or misspecified.\n",
            "\n",
            "Chain 3 \n",
            "\n",
            "Chain 3 Informational Message: The current Metropolis proposal is about to be rejected because of the following issue:\n",
            "\n",
            "Chain 3 Exception: lkj_corr_lpdf: Correlation matrix is not positive definite. (in '/tmp/RtmpdYT4HS/model-1a81918b2f5.stan', line 34, column 4 to column 24)\n",
            "\n",
            "Chain 3 If this warning occurs sporadically, such as for highly constrained variable types like covariance matrices, then the sampler is fine,\n",
            "\n",
            "Chain 3 but if this warning occurs often then your model may be either severely ill-conditioned or misspecified.\n",
            "\n",
            "Chain 3 \n",
            "\n"
          ]
        },
        {
          "output_type": "stream",
          "name": "stdout",
          "text": [
            "Chain 4 Iteration:    1 / 2000 [  0%]  (Warmup) \n"
          ]
        },
        {
          "output_type": "stream",
          "name": "stderr",
          "text": [
            "Chain 4 Informational Message: The current Metropolis proposal is about to be rejected because of the following issue:\n",
            "\n",
            "Chain 4 Exception: lkj_corr_lpdf: Correlation matrix is not positive definite. (in '/tmp/RtmpdYT4HS/model-1a81918b2f5.stan', line 34, column 4 to column 24)\n",
            "\n",
            "Chain 4 If this warning occurs sporadically, such as for highly constrained variable types like covariance matrices, then the sampler is fine,\n",
            "\n",
            "Chain 4 but if this warning occurs often then your model may be either severely ill-conditioned or misspecified.\n",
            "\n",
            "Chain 4 \n",
            "\n",
            "Chain 4 Informational Message: The current Metropolis proposal is about to be rejected because of the following issue:\n",
            "\n",
            "Chain 4 Exception: lkj_corr_lpdf: Correlation matrix is not positive definite. (in '/tmp/RtmpdYT4HS/model-1a81918b2f5.stan', line 34, column 4 to column 24)\n",
            "\n",
            "Chain 4 If this warning occurs sporadically, such as for highly constrained variable types like covariance matrices, then the sampler is fine,\n",
            "\n",
            "Chain 4 but if this warning occurs often then your model may be either severely ill-conditioned or misspecified.\n",
            "\n",
            "Chain 4 \n",
            "\n",
            "Chain 4 Informational Message: The current Metropolis proposal is about to be rejected because of the following issue:\n",
            "\n",
            "Chain 4 Exception: lkj_corr_lpdf: Correlation matrix is not positive definite. (in '/tmp/RtmpdYT4HS/model-1a81918b2f5.stan', line 34, column 4 to column 24)\n",
            "\n",
            "Chain 4 If this warning occurs sporadically, such as for highly constrained variable types like covariance matrices, then the sampler is fine,\n",
            "\n",
            "Chain 4 but if this warning occurs often then your model may be either severely ill-conditioned or misspecified.\n",
            "\n",
            "Chain 4 \n",
            "\n",
            "Chain 4 Informational Message: The current Metropolis proposal is about to be rejected because of the following issue:\n",
            "\n",
            "Chain 4 Exception: lkj_corr_lpdf: Correlation matrix is not positive definite. (in '/tmp/RtmpdYT4HS/model-1a81918b2f5.stan', line 34, column 4 to column 24)\n",
            "\n",
            "Chain 4 If this warning occurs sporadically, such as for highly constrained variable types like covariance matrices, then the sampler is fine,\n",
            "\n",
            "Chain 4 but if this warning occurs often then your model may be either severely ill-conditioned or misspecified.\n",
            "\n",
            "Chain 4 \n",
            "\n",
            "Chain 4 Informational Message: The current Metropolis proposal is about to be rejected because of the following issue:\n",
            "\n",
            "Chain 4 Exception: lkj_corr_lpdf: Correlation matrix is not positive definite. (in '/tmp/RtmpdYT4HS/model-1a81918b2f5.stan', line 34, column 4 to column 24)\n",
            "\n",
            "Chain 4 If this warning occurs sporadically, such as for highly constrained variable types like covariance matrices, then the sampler is fine,\n",
            "\n",
            "Chain 4 but if this warning occurs often then your model may be either severely ill-conditioned or misspecified.\n",
            "\n",
            "Chain 4 \n",
            "\n",
            "Chain 4 Informational Message: The current Metropolis proposal is about to be rejected because of the following issue:\n",
            "\n",
            "Chain 4 Exception: lkj_corr_lpdf: Correlation matrix is not positive definite. (in '/tmp/RtmpdYT4HS/model-1a81918b2f5.stan', line 34, column 4 to column 24)\n",
            "\n",
            "Chain 4 If this warning occurs sporadically, such as for highly constrained variable types like covariance matrices, then the sampler is fine,\n",
            "\n",
            "Chain 4 but if this warning occurs often then your model may be either severely ill-conditioned or misspecified.\n",
            "\n",
            "Chain 4 \n",
            "\n",
            "Chain 4 Informational Message: The current Metropolis proposal is about to be rejected because of the following issue:\n",
            "\n",
            "Chain 4 Exception: lkj_corr_lpdf: Correlation matrix is not positive definite. (in '/tmp/RtmpdYT4HS/model-1a81918b2f5.stan', line 34, column 4 to column 24)\n",
            "\n",
            "Chain 4 If this warning occurs sporadically, such as for highly constrained variable types like covariance matrices, then the sampler is fine,\n",
            "\n",
            "Chain 4 but if this warning occurs often then your model may be either severely ill-conditioned or misspecified.\n",
            "\n",
            "Chain 4 \n",
            "\n",
            "Chain 4 Informational Message: The current Metropolis proposal is about to be rejected because of the following issue:\n",
            "\n",
            "Chain 4 Exception: lkj_corr_lpdf: Correlation matrix is not positive definite. (in '/tmp/RtmpdYT4HS/model-1a81918b2f5.stan', line 34, column 4 to column 24)\n",
            "\n",
            "Chain 4 If this warning occurs sporadically, such as for highly constrained variable types like covariance matrices, then the sampler is fine,\n",
            "\n",
            "Chain 4 but if this warning occurs often then your model may be either severely ill-conditioned or misspecified.\n",
            "\n",
            "Chain 4 \n",
            "\n",
            "Chain 4 Informational Message: The current Metropolis proposal is about to be rejected because of the following issue:\n",
            "\n",
            "Chain 4 Exception: lkj_corr_lpdf: Correlation matrix is not positive definite. (in '/tmp/RtmpdYT4HS/model-1a81918b2f5.stan', line 34, column 4 to column 24)\n",
            "\n",
            "Chain 4 If this warning occurs sporadically, such as for highly constrained variable types like covariance matrices, then the sampler is fine,\n",
            "\n",
            "Chain 4 but if this warning occurs often then your model may be either severely ill-conditioned or misspecified.\n",
            "\n",
            "Chain 4 \n",
            "\n",
            "Chain 4 Informational Message: The current Metropolis proposal is about to be rejected because of the following issue:\n",
            "\n",
            "Chain 4 Exception: lkj_corr_lpdf: Correlation matrix is not positive definite. (in '/tmp/RtmpdYT4HS/model-1a81918b2f5.stan', line 34, column 4 to column 24)\n",
            "\n",
            "Chain 4 If this warning occurs sporadically, such as for highly constrained variable types like covariance matrices, then the sampler is fine,\n",
            "\n",
            "Chain 4 but if this warning occurs often then your model may be either severely ill-conditioned or misspecified.\n",
            "\n",
            "Chain 4 \n",
            "\n",
            "Chain 4 Informational Message: The current Metropolis proposal is about to be rejected because of the following issue:\n",
            "\n",
            "Chain 4 Exception: lkj_corr_lpdf: Correlation matrix is not positive definite. (in '/tmp/RtmpdYT4HS/model-1a81918b2f5.stan', line 34, column 4 to column 24)\n",
            "\n",
            "Chain 4 If this warning occurs sporadically, such as for highly constrained variable types like covariance matrices, then the sampler is fine,\n",
            "\n",
            "Chain 4 but if this warning occurs often then your model may be either severely ill-conditioned or misspecified.\n",
            "\n",
            "Chain 4 \n",
            "\n",
            "Chain 4 Informational Message: The current Metropolis proposal is about to be rejected because of the following issue:\n",
            "\n",
            "Chain 4 Exception: lkj_corr_lpdf: Correlation matrix is not positive definite. (in '/tmp/RtmpdYT4HS/model-1a81918b2f5.stan', line 34, column 4 to column 24)\n",
            "\n",
            "Chain 4 If this warning occurs sporadically, such as for highly constrained variable types like covariance matrices, then the sampler is fine,\n",
            "\n",
            "Chain 4 but if this warning occurs often then your model may be either severely ill-conditioned or misspecified.\n",
            "\n",
            "Chain 4 \n",
            "\n",
            "Chain 4 Informational Message: The current Metropolis proposal is about to be rejected because of the following issue:\n",
            "\n",
            "Chain 4 Exception: lkj_corr_lpdf: Correlation matrix is not positive definite. (in '/tmp/RtmpdYT4HS/model-1a81918b2f5.stan', line 34, column 4 to column 24)\n",
            "\n",
            "Chain 4 If this warning occurs sporadically, such as for highly constrained variable types like covariance matrices, then the sampler is fine,\n",
            "\n",
            "Chain 4 but if this warning occurs often then your model may be either severely ill-conditioned or misspecified.\n",
            "\n",
            "Chain 4 \n",
            "\n",
            "Chain 4 Informational Message: The current Metropolis proposal is about to be rejected because of the following issue:\n",
            "\n",
            "Chain 4 Exception: lkj_corr_lpdf: Correlation matrix is not positive definite. (in '/tmp/RtmpdYT4HS/model-1a81918b2f5.stan', line 34, column 4 to column 24)\n",
            "\n",
            "Chain 4 If this warning occurs sporadically, such as for highly constrained variable types like covariance matrices, then the sampler is fine,\n",
            "\n",
            "Chain 4 but if this warning occurs often then your model may be either severely ill-conditioned or misspecified.\n",
            "\n",
            "Chain 4 \n",
            "\n"
          ]
        },
        {
          "output_type": "stream",
          "name": "stdout",
          "text": [
            "Chain 1 Iteration:  100 / 2000 [  5%]  (Warmup) \n",
            "Chain 4 Iteration:  100 / 2000 [  5%]  (Warmup) \n",
            "Chain 2 Iteration:  100 / 2000 [  5%]  (Warmup) \n",
            "Chain 4 Iteration:  200 / 2000 [ 10%]  (Warmup) \n",
            "Chain 3 Iteration:  100 / 2000 [  5%]  (Warmup) \n",
            "Chain 4 Iteration:  300 / 2000 [ 15%]  (Warmup) \n",
            "Chain 2 Iteration:  200 / 2000 [ 10%]  (Warmup) \n",
            "Chain 4 Iteration:  400 / 2000 [ 20%]  (Warmup) \n",
            "Chain 3 Iteration:  200 / 2000 [ 10%]  (Warmup) \n",
            "Chain 2 Iteration:  300 / 2000 [ 15%]  (Warmup) \n",
            "Chain 4 Iteration:  500 / 2000 [ 25%]  (Warmup) \n",
            "Chain 3 Iteration:  300 / 2000 [ 15%]  (Warmup) \n",
            "Chain 2 Iteration:  400 / 2000 [ 20%]  (Warmup) \n",
            "Chain 4 Iteration:  600 / 2000 [ 30%]  (Warmup) \n",
            "Chain 3 Iteration:  400 / 2000 [ 20%]  (Warmup) \n",
            "Chain 1 Iteration:  200 / 2000 [ 10%]  (Warmup) \n",
            "Chain 3 Iteration:  500 / 2000 [ 25%]  (Warmup) \n",
            "Chain 4 Iteration:  700 / 2000 [ 35%]  (Warmup) \n",
            "Chain 2 Iteration:  500 / 2000 [ 25%]  (Warmup) \n",
            "Chain 3 Iteration:  600 / 2000 [ 30%]  (Warmup) \n",
            "Chain 1 Iteration:  300 / 2000 [ 15%]  (Warmup) \n",
            "Chain 4 Iteration:  800 / 2000 [ 40%]  (Warmup) \n",
            "Chain 2 Iteration:  600 / 2000 [ 30%]  (Warmup) \n",
            "Chain 4 Iteration:  900 / 2000 [ 45%]  (Warmup) \n",
            "Chain 3 Iteration:  700 / 2000 [ 35%]  (Warmup) \n",
            "Chain 2 Iteration:  700 / 2000 [ 35%]  (Warmup) \n",
            "Chain 1 Iteration:  400 / 2000 [ 20%]  (Warmup) \n",
            "Chain 3 Iteration:  800 / 2000 [ 40%]  (Warmup) \n"
          ]
        },
        {
          "output_type": "stream",
          "name": "stderr",
          "text": [
            "Chain 1 Informational Message: The current Metropolis proposal is about to be rejected because of the following issue:\n",
            "\n",
            "Chain 1 Exception: multi_normal_lpdf: Covariance matrix is not symmetric. Covariance matrix[3,7] = 8.414e+08, but Covariance matrix[7,3] = 8.414e+08 (in '/tmp/RtmpdYT4HS/model-1a81918b2f5.stan', line 40, column 4 to column 58)\n",
            "\n",
            "Chain 1 If this warning occurs sporadically, such as for highly constrained variable types like covariance matrices, then the sampler is fine,\n",
            "\n",
            "Chain 1 but if this warning occurs often then your model may be either severely ill-conditioned or misspecified.\n",
            "\n",
            "Chain 1 \n",
            "\n"
          ]
        },
        {
          "output_type": "stream",
          "name": "stdout",
          "text": [
            "Chain 2 Iteration:  800 / 2000 [ 40%]  (Warmup) \n",
            "Chain 3 Iteration:  900 / 2000 [ 45%]  (Warmup) \n",
            "Chain 1 Iteration:  500 / 2000 [ 25%]  (Warmup) \n",
            "Chain 2 Iteration:  900 / 2000 [ 45%]  (Warmup) \n",
            "Chain 3 Iteration: 1000 / 2000 [ 50%]  (Warmup) \n",
            "Chain 3 Iteration: 1001 / 2000 [ 50%]  (Sampling) \n",
            "Chain 4 Iteration: 1000 / 2000 [ 50%]  (Warmup) \n",
            "Chain 4 Iteration: 1001 / 2000 [ 50%]  (Sampling) \n",
            "Chain 1 Iteration:  600 / 2000 [ 30%]  (Warmup) \n",
            "Chain 3 Iteration: 1100 / 2000 [ 55%]  (Sampling) \n",
            "Chain 2 Iteration: 1000 / 2000 [ 50%]  (Warmup) \n",
            "Chain 2 Iteration: 1001 / 2000 [ 50%]  (Sampling) \n",
            "Chain 3 Iteration: 1200 / 2000 [ 60%]  (Sampling) \n",
            "Chain 1 Iteration:  700 / 2000 [ 35%]  (Warmup) \n",
            "Chain 3 Iteration: 1300 / 2000 [ 65%]  (Sampling) \n",
            "Chain 2 Iteration: 1100 / 2000 [ 55%]  (Sampling) \n",
            "Chain 4 Iteration: 1100 / 2000 [ 55%]  (Sampling) \n",
            "Chain 3 Iteration: 1400 / 2000 [ 70%]  (Sampling) \n",
            "Chain 1 Iteration:  800 / 2000 [ 40%]  (Warmup) \n",
            "Chain 2 Iteration: 1200 / 2000 [ 60%]  (Sampling) \n",
            "Chain 3 Iteration: 1500 / 2000 [ 75%]  (Sampling) \n",
            "Chain 3 Iteration: 1600 / 2000 [ 80%]  (Sampling) \n",
            "Chain 1 Iteration:  900 / 2000 [ 45%]  (Warmup) \n",
            "Chain 2 Iteration: 1300 / 2000 [ 65%]  (Sampling) \n",
            "Chain 3 Iteration: 1700 / 2000 [ 85%]  (Sampling) \n",
            "Chain 4 Iteration: 1200 / 2000 [ 60%]  (Sampling) \n",
            "Chain 3 Iteration: 1800 / 2000 [ 90%]  (Sampling) \n",
            "Chain 2 Iteration: 1400 / 2000 [ 70%]  (Sampling) \n",
            "Chain 1 Iteration: 1000 / 2000 [ 50%]  (Warmup) \n",
            "Chain 1 Iteration: 1001 / 2000 [ 50%]  (Sampling) \n",
            "Chain 3 Iteration: 1900 / 2000 [ 95%]  (Sampling) \n",
            "Chain 3 Iteration: 2000 / 2000 [100%]  (Sampling) \n",
            "Chain 3 finished in 65.3 seconds.\n",
            "Chain 2 Iteration: 1500 / 2000 [ 75%]  (Sampling) \n",
            "Chain 1 Iteration: 1100 / 2000 [ 55%]  (Sampling) \n",
            "Chain 4 Iteration: 1300 / 2000 [ 65%]  (Sampling) \n",
            "Chain 1 Iteration: 1200 / 2000 [ 60%]  (Sampling) \n",
            "Chain 2 Iteration: 1600 / 2000 [ 80%]  (Sampling) \n",
            "Chain 1 Iteration: 1300 / 2000 [ 65%]  (Sampling) \n",
            "Chain 4 Iteration: 1400 / 2000 [ 70%]  (Sampling) \n",
            "Chain 2 Iteration: 1700 / 2000 [ 85%]  (Sampling) \n",
            "Chain 1 Iteration: 1400 / 2000 [ 70%]  (Sampling) \n",
            "Chain 2 Iteration: 1800 / 2000 [ 90%]  (Sampling) \n",
            "Chain 4 Iteration: 1500 / 2000 [ 75%]  (Sampling) \n",
            "Chain 1 Iteration: 1500 / 2000 [ 75%]  (Sampling) \n",
            "Chain 2 Iteration: 1900 / 2000 [ 95%]  (Sampling) \n",
            "Chain 2 Iteration: 2000 / 2000 [100%]  (Sampling) \n",
            "Chain 2 finished in 76.4 seconds.\n",
            "Chain 1 Iteration: 1600 / 2000 [ 80%]  (Sampling) \n",
            "Chain 4 Iteration: 1600 / 2000 [ 80%]  (Sampling) \n",
            "Chain 1 Iteration: 1700 / 2000 [ 85%]  (Sampling) \n",
            "Chain 1 Iteration: 1800 / 2000 [ 90%]  (Sampling) \n",
            "Chain 4 Iteration: 1700 / 2000 [ 85%]  (Sampling) \n",
            "Chain 1 Iteration: 1900 / 2000 [ 95%]  (Sampling) \n",
            "Chain 1 Iteration: 2000 / 2000 [100%]  (Sampling) \n",
            "Chain 1 finished in 81.7 seconds.\n",
            "Chain 4 Iteration: 1800 / 2000 [ 90%]  (Sampling) \n",
            "Chain 4 Iteration: 1900 / 2000 [ 95%]  (Sampling) \n",
            "Chain 4 Iteration: 2000 / 2000 [100%]  (Sampling) \n",
            "Chain 4 finished in 85.3 seconds.\n",
            "\n",
            "All 4 chains finished successfully.\n",
            "Mean chain execution time: 77.2 seconds.\n",
            "Total execution time: 85.8 seconds.\n",
            "\n"
          ]
        },
        {
          "output_type": "stream",
          "name": "stderr",
          "text": [
            "Warning: 75 of 4000 (2.0%) transitions ended with a divergence.\n",
            "See https://mc-stan.org/misc/warnings for details.\n",
            "\n",
            "\n"
          ]
        },
        {
          "output_type": "display_data",
          "data": {
            "text/html": [
              "<table class=\"dataframe\">\n",
              "<caption>A precis: 42 × 6</caption>\n",
              "<thead>\n",
              "\t<tr><th></th><th scope=col>mean</th><th scope=col>sd</th><th scope=col>5.5%</th><th scope=col>94.5%</th><th scope=col>rhat</th><th scope=col>ess_bulk</th></tr>\n",
              "\t<tr><th></th><th scope=col>&lt;dbl&gt;</th><th scope=col>&lt;dbl&gt;</th><th scope=col>&lt;dbl&gt;</th><th scope=col>&lt;dbl&gt;</th><th scope=col>&lt;dbl&gt;</th><th scope=col>&lt;dbl&gt;</th></tr>\n",
              "</thead>\n",
              "<tbody>\n",
              "\t<tr><th scope=row>R_time[1]</th><td>  2.1764791</td><td>0.03286110</td><td>  2.1226650</td><td>  2.22882055</td><td>0.9995126</td><td>4539.1785</td></tr>\n",
              "\t<tr><th scope=row>R_time[2]</th><td>  2.1227171</td><td>0.03334026</td><td>  2.0688334</td><td>  2.17582595</td><td>1.0003706</td><td>4265.6293</td></tr>\n",
              "\t<tr><th scope=row>N_time[1]</th><td> 18.7453037</td><td>0.13203607</td><td> 18.5363945</td><td> 18.95541100</td><td>1.0014154</td><td>4667.9830</td></tr>\n",
              "\t<tr><th scope=row>N_time[2]</th><td> 22.3241141</td><td>0.13058329</td><td> 22.1143450</td><td> 22.53023300</td><td>1.0000243</td><td>4351.4231</td></tr>\n",
              "\t<tr><th scope=row>RHO_time[1,1]</th><td>  1.0000000</td><td>0.00000000</td><td>  1.0000000</td><td>  1.00000000</td><td>       NA</td><td>       NA</td></tr>\n",
              "\t<tr><th scope=row>RHO_time[2,1]</th><td>  0.4454855</td><td>0.33075836</td><td> -0.1592943</td><td>  0.88121847</td><td>1.0011492</td><td>3714.7142</td></tr>\n",
              "\t<tr><th scope=row>RHO_time[1,2]</th><td>  0.4454855</td><td>0.33075836</td><td> -0.1592943</td><td>  0.88121847</td><td>1.0011492</td><td>3714.7142</td></tr>\n",
              "\t<tr><th scope=row>RHO_time[2,2]</th><td>  1.0000000</td><td>0.00000000</td><td>  1.0000000</td><td>  1.00000000</td><td>       NA</td><td>       NA</td></tr>\n",
              "\t<tr><th scope=row>SIGMA_time[1]</th><td>  8.2792839</td><td>3.12680661</td><td>  4.7220533</td><td> 14.00873200</td><td>1.0012612</td><td>4077.9809</td></tr>\n",
              "\t<tr><th scope=row>SIGMA_time[2]</th><td>  7.0685714</td><td>2.98229641</td><td>  3.8716012</td><td> 12.41367350</td><td>1.0006268</td><td>3856.2739</td></tr>\n",
              "\t<tr><th scope=row>R24[1]</th><td> -5.4690525</td><td>0.62802455</td><td> -6.4675470</td><td> -4.44408670</td><td>1.0020135</td><td>4074.6819</td></tr>\n",
              "\t<tr><th scope=row>R24[2]</th><td> -5.3301783</td><td>0.62331190</td><td> -6.3342396</td><td> -4.34569250</td><td>0.9999558</td><td>4873.4522</td></tr>\n",
              "\t<tr><th scope=row>N24[1]</th><td>-59.2383250</td><td>2.63087500</td><td>-63.3560635</td><td>-55.11564450</td><td>1.0011446</td><td>4433.2123</td></tr>\n",
              "\t<tr><th scope=row>N24[2]</th><td>-57.5056766</td><td>2.66119976</td><td>-61.7240335</td><td>-53.27394450</td><td>1.0009348</td><td>4578.6332</td></tr>\n",
              "\t<tr><th scope=row>RHO_24[1,1]</th><td>  1.0000000</td><td>0.00000000</td><td>  1.0000000</td><td>  1.00000000</td><td>       NA</td><td>       NA</td></tr>\n",
              "\t<tr><th scope=row>RHO_24[2,1]</th><td>  0.6480549</td><td>0.21247155</td><td>  0.2582634</td><td>  0.93159769</td><td>1.0011114</td><td>3026.4083</td></tr>\n",
              "\t<tr><th scope=row>RHO_24[1,2]</th><td>  0.6480549</td><td>0.21247155</td><td>  0.2582634</td><td>  0.93159769</td><td>1.0011114</td><td>3026.4083</td></tr>\n",
              "\t<tr><th scope=row>RHO_24[2,2]</th><td>  1.0000000</td><td>0.00000000</td><td>  1.0000000</td><td>  1.00000000</td><td>       NA</td><td>       NA</td></tr>\n",
              "\t<tr><th scope=row>SIGMA_24[1]</th><td> 18.3109078</td><td>2.38518188</td><td> 14.8964225</td><td> 22.41412200</td><td>0.9998851</td><td>4389.5851</td></tr>\n",
              "\t<tr><th scope=row>SIGMA_24[2]</th><td>  2.3834322</td><td>0.77413689</td><td>  1.5332607</td><td>  3.82183545</td><td>1.0010658</td><td>3004.8884</td></tr>\n",
              "\t<tr><th scope=row>R12[1]</th><td> -2.8532411</td><td>0.61176812</td><td> -3.8368320</td><td> -1.89118630</td><td>1.0013903</td><td>4614.5711</td></tr>\n",
              "\t<tr><th scope=row>R12[2]</th><td> -2.7770183</td><td>0.60309234</td><td> -3.7389143</td><td> -1.82121655</td><td>1.0009727</td><td>4635.6523</td></tr>\n",
              "\t<tr><th scope=row>N12[1]</th><td> -1.0163715</td><td>1.45524963</td><td> -3.7798538</td><td>  0.57546744</td><td>1.0018872</td><td>1735.4318</td></tr>\n",
              "\t<tr><th scope=row>N12[2]</th><td> -0.6770068</td><td>1.27593634</td><td> -3.0636376</td><td>  0.82461214</td><td>1.0011057</td><td>2321.0776</td></tr>\n",
              "\t<tr><th scope=row>RHO_12[1,1]</th><td>  1.0000000</td><td>0.00000000</td><td>  1.0000000</td><td>  1.00000000</td><td>       NA</td><td>       NA</td></tr>\n",
              "\t<tr><th scope=row>RHO_12[2,1]</th><td>  0.1973057</td><td>0.43069844</td><td> -0.5742157</td><td>  0.81061007</td><td>1.0007582</td><td>3436.8121</td></tr>\n",
              "\t<tr><th scope=row>RHO_12[1,2]</th><td>  0.1973057</td><td>0.43069844</td><td> -0.5742157</td><td>  0.81061007</td><td>1.0007582</td><td>3436.8121</td></tr>\n",
              "\t<tr><th scope=row>RHO_12[2,2]</th><td>  1.0000000</td><td>0.00000000</td><td>  1.0000000</td><td>  1.00000000</td><td>       NA</td><td>       NA</td></tr>\n",
              "\t<tr><th scope=row>SIGMA_12[1]</th><td>  1.1838234</td><td>0.99248837</td><td>  0.1224393</td><td>  2.97376500</td><td>1.0031833</td><td> 863.0489</td></tr>\n",
              "\t<tr><th scope=row>SIGMA_12[2]</th><td>  2.4634651</td><td>0.90415338</td><td>  1.3460279</td><td>  4.11007485</td><td>1.0000208</td><td>4031.1069</td></tr>\n",
              "\t<tr><th scope=row>R6[1]</th><td> -1.0382160</td><td>0.60396922</td><td> -2.0259601</td><td> -0.08272903</td><td>1.0009943</td><td>2966.7051</td></tr>\n",
              "\t<tr><th scope=row>R6[2]</th><td> -1.0078587</td><td>0.60071998</td><td> -1.9927218</td><td> -0.05567852</td><td>1.0006802</td><td>2770.0363</td></tr>\n",
              "\t<tr><th scope=row>N6[1]</th><td> -0.9151867</td><td>1.46907488</td><td> -3.8924581</td><td>  0.60233905</td><td>1.0025504</td><td>1837.8453</td></tr>\n",
              "\t<tr><th scope=row>N6[2]</th><td> -0.7086074</td><td>1.31785305</td><td> -3.2437407</td><td>  0.74066776</td><td>1.0042755</td><td>2002.6222</td></tr>\n",
              "\t<tr><th scope=row>RHO_6[1,1]</th><td>  1.0000000</td><td>0.00000000</td><td>  1.0000000</td><td>  1.00000000</td><td>       NA</td><td>       NA</td></tr>\n",
              "\t<tr><th scope=row>RHO_6[2,1]</th><td>  0.1563181</td><td>0.43501678</td><td> -0.5924765</td><td>  0.79746167</td><td>1.0004776</td><td>3208.7101</td></tr>\n",
              "\t<tr><th scope=row>RHO_6[1,2]</th><td>  0.1563181</td><td>0.43501678</td><td> -0.5924765</td><td>  0.79746167</td><td>1.0004776</td><td>3208.7101</td></tr>\n",
              "\t<tr><th scope=row>RHO_6[2,2]</th><td>  1.0000000</td><td>0.00000000</td><td>  1.0000000</td><td>  1.00000000</td><td>       NA</td><td>       NA</td></tr>\n",
              "\t<tr><th scope=row>SIGMA_6[1]</th><td>  1.1746821</td><td>1.02331792</td><td>  0.1106381</td><td>  3.13891935</td><td>1.0072210</td><td> 879.9664</td></tr>\n",
              "\t<tr><th scope=row>SIGMA_6[2]</th><td>  1.2618494</td><td>0.74149202</td><td>  0.3381762</td><td>  2.63543415</td><td>1.0014854</td><td>1906.9725</td></tr>\n",
              "\t<tr><th scope=row>sigmaN</th><td> 26.9946107</td><td>0.85970097</td><td> 25.6524350</td><td> 28.40436050</td><td>1.0009007</td><td>4852.1218</td></tr>\n",
              "\t<tr><th scope=row>sigmaR</th><td>  6.5746866</td><td>0.20710949</td><td>  6.2558827</td><td>  6.91637050</td><td>1.0030439</td><td>4925.3695</td></tr>\n",
              "</tbody>\n",
              "</table>\n"
            ],
            "text/markdown": "\nA precis: 42 × 6\n\n| <!--/--> | mean &lt;dbl&gt; | sd &lt;dbl&gt; | 5.5% &lt;dbl&gt; | 94.5% &lt;dbl&gt; | rhat &lt;dbl&gt; | ess_bulk &lt;dbl&gt; |\n|---|---|---|---|---|---|---|\n| R_time[1] |   2.1764791 | 0.03286110 |   2.1226650 |   2.22882055 | 0.9995126 | 4539.1785 |\n| R_time[2] |   2.1227171 | 0.03334026 |   2.0688334 |   2.17582595 | 1.0003706 | 4265.6293 |\n| N_time[1] |  18.7453037 | 0.13203607 |  18.5363945 |  18.95541100 | 1.0014154 | 4667.9830 |\n| N_time[2] |  22.3241141 | 0.13058329 |  22.1143450 |  22.53023300 | 1.0000243 | 4351.4231 |\n| RHO_time[1,1] |   1.0000000 | 0.00000000 |   1.0000000 |   1.00000000 |        NA |        NA |\n| RHO_time[2,1] |   0.4454855 | 0.33075836 |  -0.1592943 |   0.88121847 | 1.0011492 | 3714.7142 |\n| RHO_time[1,2] |   0.4454855 | 0.33075836 |  -0.1592943 |   0.88121847 | 1.0011492 | 3714.7142 |\n| RHO_time[2,2] |   1.0000000 | 0.00000000 |   1.0000000 |   1.00000000 |        NA |        NA |\n| SIGMA_time[1] |   8.2792839 | 3.12680661 |   4.7220533 |  14.00873200 | 1.0012612 | 4077.9809 |\n| SIGMA_time[2] |   7.0685714 | 2.98229641 |   3.8716012 |  12.41367350 | 1.0006268 | 3856.2739 |\n| R24[1] |  -5.4690525 | 0.62802455 |  -6.4675470 |  -4.44408670 | 1.0020135 | 4074.6819 |\n| R24[2] |  -5.3301783 | 0.62331190 |  -6.3342396 |  -4.34569250 | 0.9999558 | 4873.4522 |\n| N24[1] | -59.2383250 | 2.63087500 | -63.3560635 | -55.11564450 | 1.0011446 | 4433.2123 |\n| N24[2] | -57.5056766 | 2.66119976 | -61.7240335 | -53.27394450 | 1.0009348 | 4578.6332 |\n| RHO_24[1,1] |   1.0000000 | 0.00000000 |   1.0000000 |   1.00000000 |        NA |        NA |\n| RHO_24[2,1] |   0.6480549 | 0.21247155 |   0.2582634 |   0.93159769 | 1.0011114 | 3026.4083 |\n| RHO_24[1,2] |   0.6480549 | 0.21247155 |   0.2582634 |   0.93159769 | 1.0011114 | 3026.4083 |\n| RHO_24[2,2] |   1.0000000 | 0.00000000 |   1.0000000 |   1.00000000 |        NA |        NA |\n| SIGMA_24[1] |  18.3109078 | 2.38518188 |  14.8964225 |  22.41412200 | 0.9998851 | 4389.5851 |\n| SIGMA_24[2] |   2.3834322 | 0.77413689 |   1.5332607 |   3.82183545 | 1.0010658 | 3004.8884 |\n| R12[1] |  -2.8532411 | 0.61176812 |  -3.8368320 |  -1.89118630 | 1.0013903 | 4614.5711 |\n| R12[2] |  -2.7770183 | 0.60309234 |  -3.7389143 |  -1.82121655 | 1.0009727 | 4635.6523 |\n| N12[1] |  -1.0163715 | 1.45524963 |  -3.7798538 |   0.57546744 | 1.0018872 | 1735.4318 |\n| N12[2] |  -0.6770068 | 1.27593634 |  -3.0636376 |   0.82461214 | 1.0011057 | 2321.0776 |\n| RHO_12[1,1] |   1.0000000 | 0.00000000 |   1.0000000 |   1.00000000 |        NA |        NA |\n| RHO_12[2,1] |   0.1973057 | 0.43069844 |  -0.5742157 |   0.81061007 | 1.0007582 | 3436.8121 |\n| RHO_12[1,2] |   0.1973057 | 0.43069844 |  -0.5742157 |   0.81061007 | 1.0007582 | 3436.8121 |\n| RHO_12[2,2] |   1.0000000 | 0.00000000 |   1.0000000 |   1.00000000 |        NA |        NA |\n| SIGMA_12[1] |   1.1838234 | 0.99248837 |   0.1224393 |   2.97376500 | 1.0031833 |  863.0489 |\n| SIGMA_12[2] |   2.4634651 | 0.90415338 |   1.3460279 |   4.11007485 | 1.0000208 | 4031.1069 |\n| R6[1] |  -1.0382160 | 0.60396922 |  -2.0259601 |  -0.08272903 | 1.0009943 | 2966.7051 |\n| R6[2] |  -1.0078587 | 0.60071998 |  -1.9927218 |  -0.05567852 | 1.0006802 | 2770.0363 |\n| N6[1] |  -0.9151867 | 1.46907488 |  -3.8924581 |   0.60233905 | 1.0025504 | 1837.8453 |\n| N6[2] |  -0.7086074 | 1.31785305 |  -3.2437407 |   0.74066776 | 1.0042755 | 2002.6222 |\n| RHO_6[1,1] |   1.0000000 | 0.00000000 |   1.0000000 |   1.00000000 |        NA |        NA |\n| RHO_6[2,1] |   0.1563181 | 0.43501678 |  -0.5924765 |   0.79746167 | 1.0004776 | 3208.7101 |\n| RHO_6[1,2] |   0.1563181 | 0.43501678 |  -0.5924765 |   0.79746167 | 1.0004776 | 3208.7101 |\n| RHO_6[2,2] |   1.0000000 | 0.00000000 |   1.0000000 |   1.00000000 |        NA |        NA |\n| SIGMA_6[1] |   1.1746821 | 1.02331792 |   0.1106381 |   3.13891935 | 1.0072210 |  879.9664 |\n| SIGMA_6[2] |   1.2618494 | 0.74149202 |   0.3381762 |   2.63543415 | 1.0014854 | 1906.9725 |\n| sigmaN |  26.9946107 | 0.85970097 |  25.6524350 |  28.40436050 | 1.0009007 | 4852.1218 |\n| sigmaR |   6.5746866 | 0.20710949 |   6.2558827 |   6.91637050 | 1.0030439 | 4925.3695 |\n\n",
            "text/latex": "A precis: 42 × 6\n\\begin{tabular}{r|llllll}\n  & mean & sd & 5.5\\% & 94.5\\% & rhat & ess\\_bulk\\\\\n  & <dbl> & <dbl> & <dbl> & <dbl> & <dbl> & <dbl>\\\\\n\\hline\n\tR\\_time{[}1{]} &   2.1764791 & 0.03286110 &   2.1226650 &   2.22882055 & 0.9995126 & 4539.1785\\\\\n\tR\\_time{[}2{]} &   2.1227171 & 0.03334026 &   2.0688334 &   2.17582595 & 1.0003706 & 4265.6293\\\\\n\tN\\_time{[}1{]} &  18.7453037 & 0.13203607 &  18.5363945 &  18.95541100 & 1.0014154 & 4667.9830\\\\\n\tN\\_time{[}2{]} &  22.3241141 & 0.13058329 &  22.1143450 &  22.53023300 & 1.0000243 & 4351.4231\\\\\n\tRHO\\_time{[}1,1{]} &   1.0000000 & 0.00000000 &   1.0000000 &   1.00000000 &        NA &        NA\\\\\n\tRHO\\_time{[}2,1{]} &   0.4454855 & 0.33075836 &  -0.1592943 &   0.88121847 & 1.0011492 & 3714.7142\\\\\n\tRHO\\_time{[}1,2{]} &   0.4454855 & 0.33075836 &  -0.1592943 &   0.88121847 & 1.0011492 & 3714.7142\\\\\n\tRHO\\_time{[}2,2{]} &   1.0000000 & 0.00000000 &   1.0000000 &   1.00000000 &        NA &        NA\\\\\n\tSIGMA\\_time{[}1{]} &   8.2792839 & 3.12680661 &   4.7220533 &  14.00873200 & 1.0012612 & 4077.9809\\\\\n\tSIGMA\\_time{[}2{]} &   7.0685714 & 2.98229641 &   3.8716012 &  12.41367350 & 1.0006268 & 3856.2739\\\\\n\tR24{[}1{]} &  -5.4690525 & 0.62802455 &  -6.4675470 &  -4.44408670 & 1.0020135 & 4074.6819\\\\\n\tR24{[}2{]} &  -5.3301783 & 0.62331190 &  -6.3342396 &  -4.34569250 & 0.9999558 & 4873.4522\\\\\n\tN24{[}1{]} & -59.2383250 & 2.63087500 & -63.3560635 & -55.11564450 & 1.0011446 & 4433.2123\\\\\n\tN24{[}2{]} & -57.5056766 & 2.66119976 & -61.7240335 & -53.27394450 & 1.0009348 & 4578.6332\\\\\n\tRHO\\_24{[}1,1{]} &   1.0000000 & 0.00000000 &   1.0000000 &   1.00000000 &        NA &        NA\\\\\n\tRHO\\_24{[}2,1{]} &   0.6480549 & 0.21247155 &   0.2582634 &   0.93159769 & 1.0011114 & 3026.4083\\\\\n\tRHO\\_24{[}1,2{]} &   0.6480549 & 0.21247155 &   0.2582634 &   0.93159769 & 1.0011114 & 3026.4083\\\\\n\tRHO\\_24{[}2,2{]} &   1.0000000 & 0.00000000 &   1.0000000 &   1.00000000 &        NA &        NA\\\\\n\tSIGMA\\_24{[}1{]} &  18.3109078 & 2.38518188 &  14.8964225 &  22.41412200 & 0.9998851 & 4389.5851\\\\\n\tSIGMA\\_24{[}2{]} &   2.3834322 & 0.77413689 &   1.5332607 &   3.82183545 & 1.0010658 & 3004.8884\\\\\n\tR12{[}1{]} &  -2.8532411 & 0.61176812 &  -3.8368320 &  -1.89118630 & 1.0013903 & 4614.5711\\\\\n\tR12{[}2{]} &  -2.7770183 & 0.60309234 &  -3.7389143 &  -1.82121655 & 1.0009727 & 4635.6523\\\\\n\tN12{[}1{]} &  -1.0163715 & 1.45524963 &  -3.7798538 &   0.57546744 & 1.0018872 & 1735.4318\\\\\n\tN12{[}2{]} &  -0.6770068 & 1.27593634 &  -3.0636376 &   0.82461214 & 1.0011057 & 2321.0776\\\\\n\tRHO\\_12{[}1,1{]} &   1.0000000 & 0.00000000 &   1.0000000 &   1.00000000 &        NA &        NA\\\\\n\tRHO\\_12{[}2,1{]} &   0.1973057 & 0.43069844 &  -0.5742157 &   0.81061007 & 1.0007582 & 3436.8121\\\\\n\tRHO\\_12{[}1,2{]} &   0.1973057 & 0.43069844 &  -0.5742157 &   0.81061007 & 1.0007582 & 3436.8121\\\\\n\tRHO\\_12{[}2,2{]} &   1.0000000 & 0.00000000 &   1.0000000 &   1.00000000 &        NA &        NA\\\\\n\tSIGMA\\_12{[}1{]} &   1.1838234 & 0.99248837 &   0.1224393 &   2.97376500 & 1.0031833 &  863.0489\\\\\n\tSIGMA\\_12{[}2{]} &   2.4634651 & 0.90415338 &   1.3460279 &   4.11007485 & 1.0000208 & 4031.1069\\\\\n\tR6{[}1{]} &  -1.0382160 & 0.60396922 &  -2.0259601 &  -0.08272903 & 1.0009943 & 2966.7051\\\\\n\tR6{[}2{]} &  -1.0078587 & 0.60071998 &  -1.9927218 &  -0.05567852 & 1.0006802 & 2770.0363\\\\\n\tN6{[}1{]} &  -0.9151867 & 1.46907488 &  -3.8924581 &   0.60233905 & 1.0025504 & 1837.8453\\\\\n\tN6{[}2{]} &  -0.7086074 & 1.31785305 &  -3.2437407 &   0.74066776 & 1.0042755 & 2002.6222\\\\\n\tRHO\\_6{[}1,1{]} &   1.0000000 & 0.00000000 &   1.0000000 &   1.00000000 &        NA &        NA\\\\\n\tRHO\\_6{[}2,1{]} &   0.1563181 & 0.43501678 &  -0.5924765 &   0.79746167 & 1.0004776 & 3208.7101\\\\\n\tRHO\\_6{[}1,2{]} &   0.1563181 & 0.43501678 &  -0.5924765 &   0.79746167 & 1.0004776 & 3208.7101\\\\\n\tRHO\\_6{[}2,2{]} &   1.0000000 & 0.00000000 &   1.0000000 &   1.00000000 &        NA &        NA\\\\\n\tSIGMA\\_6{[}1{]} &   1.1746821 & 1.02331792 &   0.1106381 &   3.13891935 & 1.0072210 &  879.9664\\\\\n\tSIGMA\\_6{[}2{]} &   1.2618494 & 0.74149202 &   0.3381762 &   2.63543415 & 1.0014854 & 1906.9725\\\\\n\tsigmaN &  26.9946107 & 0.85970097 &  25.6524350 &  28.40436050 & 1.0009007 & 4852.1218\\\\\n\tsigmaR &   6.5746866 & 0.20710949 &   6.2558827 &   6.91637050 & 1.0030439 & 4925.3695\\\\\n\\end{tabular}\n",
            "text/plain": [
              "              mean        sd         5.5%        94.5%        rhat     \n",
              "R_time[1]       2.1764791 0.03286110   2.1226650   2.22882055 0.9995126\n",
              "R_time[2]       2.1227171 0.03334026   2.0688334   2.17582595 1.0003706\n",
              "N_time[1]      18.7453037 0.13203607  18.5363945  18.95541100 1.0014154\n",
              "N_time[2]      22.3241141 0.13058329  22.1143450  22.53023300 1.0000243\n",
              "RHO_time[1,1]   1.0000000 0.00000000   1.0000000   1.00000000        NA\n",
              "RHO_time[2,1]   0.4454855 0.33075836  -0.1592943   0.88121847 1.0011492\n",
              "RHO_time[1,2]   0.4454855 0.33075836  -0.1592943   0.88121847 1.0011492\n",
              "RHO_time[2,2]   1.0000000 0.00000000   1.0000000   1.00000000        NA\n",
              "SIGMA_time[1]   8.2792839 3.12680661   4.7220533  14.00873200 1.0012612\n",
              "SIGMA_time[2]   7.0685714 2.98229641   3.8716012  12.41367350 1.0006268\n",
              "R24[1]         -5.4690525 0.62802455  -6.4675470  -4.44408670 1.0020135\n",
              "R24[2]         -5.3301783 0.62331190  -6.3342396  -4.34569250 0.9999558\n",
              "N24[1]        -59.2383250 2.63087500 -63.3560635 -55.11564450 1.0011446\n",
              "N24[2]        -57.5056766 2.66119976 -61.7240335 -53.27394450 1.0009348\n",
              "RHO_24[1,1]     1.0000000 0.00000000   1.0000000   1.00000000        NA\n",
              "RHO_24[2,1]     0.6480549 0.21247155   0.2582634   0.93159769 1.0011114\n",
              "RHO_24[1,2]     0.6480549 0.21247155   0.2582634   0.93159769 1.0011114\n",
              "RHO_24[2,2]     1.0000000 0.00000000   1.0000000   1.00000000        NA\n",
              "SIGMA_24[1]    18.3109078 2.38518188  14.8964225  22.41412200 0.9998851\n",
              "SIGMA_24[2]     2.3834322 0.77413689   1.5332607   3.82183545 1.0010658\n",
              "R12[1]         -2.8532411 0.61176812  -3.8368320  -1.89118630 1.0013903\n",
              "R12[2]         -2.7770183 0.60309234  -3.7389143  -1.82121655 1.0009727\n",
              "N12[1]         -1.0163715 1.45524963  -3.7798538   0.57546744 1.0018872\n",
              "N12[2]         -0.6770068 1.27593634  -3.0636376   0.82461214 1.0011057\n",
              "RHO_12[1,1]     1.0000000 0.00000000   1.0000000   1.00000000        NA\n",
              "RHO_12[2,1]     0.1973057 0.43069844  -0.5742157   0.81061007 1.0007582\n",
              "RHO_12[1,2]     0.1973057 0.43069844  -0.5742157   0.81061007 1.0007582\n",
              "RHO_12[2,2]     1.0000000 0.00000000   1.0000000   1.00000000        NA\n",
              "SIGMA_12[1]     1.1838234 0.99248837   0.1224393   2.97376500 1.0031833\n",
              "SIGMA_12[2]     2.4634651 0.90415338   1.3460279   4.11007485 1.0000208\n",
              "R6[1]          -1.0382160 0.60396922  -2.0259601  -0.08272903 1.0009943\n",
              "R6[2]          -1.0078587 0.60071998  -1.9927218  -0.05567852 1.0006802\n",
              "N6[1]          -0.9151867 1.46907488  -3.8924581   0.60233905 1.0025504\n",
              "N6[2]          -0.7086074 1.31785305  -3.2437407   0.74066776 1.0042755\n",
              "RHO_6[1,1]      1.0000000 0.00000000   1.0000000   1.00000000        NA\n",
              "RHO_6[2,1]      0.1563181 0.43501678  -0.5924765   0.79746167 1.0004776\n",
              "RHO_6[1,2]      0.1563181 0.43501678  -0.5924765   0.79746167 1.0004776\n",
              "RHO_6[2,2]      1.0000000 0.00000000   1.0000000   1.00000000        NA\n",
              "SIGMA_6[1]      1.1746821 1.02331792   0.1106381   3.13891935 1.0072210\n",
              "SIGMA_6[2]      1.2618494 0.74149202   0.3381762   2.63543415 1.0014854\n",
              "sigmaN         26.9946107 0.85970097  25.6524350  28.40436050 1.0009007\n",
              "sigmaR          6.5746866 0.20710949   6.2558827   6.91637050 1.0030439\n",
              "              ess_bulk \n",
              "R_time[1]     4539.1785\n",
              "R_time[2]     4265.6293\n",
              "N_time[1]     4667.9830\n",
              "N_time[2]     4351.4231\n",
              "RHO_time[1,1]        NA\n",
              "RHO_time[2,1] 3714.7142\n",
              "RHO_time[1,2] 3714.7142\n",
              "RHO_time[2,2]        NA\n",
              "SIGMA_time[1] 4077.9809\n",
              "SIGMA_time[2] 3856.2739\n",
              "R24[1]        4074.6819\n",
              "R24[2]        4873.4522\n",
              "N24[1]        4433.2123\n",
              "N24[2]        4578.6332\n",
              "RHO_24[1,1]          NA\n",
              "RHO_24[2,1]   3026.4083\n",
              "RHO_24[1,2]   3026.4083\n",
              "RHO_24[2,2]          NA\n",
              "SIGMA_24[1]   4389.5851\n",
              "SIGMA_24[2]   3004.8884\n",
              "R12[1]        4614.5711\n",
              "R12[2]        4635.6523\n",
              "N12[1]        1735.4318\n",
              "N12[2]        2321.0776\n",
              "RHO_12[1,1]          NA\n",
              "RHO_12[2,1]   3436.8121\n",
              "RHO_12[1,2]   3436.8121\n",
              "RHO_12[2,2]          NA\n",
              "SIGMA_12[1]    863.0489\n",
              "SIGMA_12[2]   4031.1069\n",
              "R6[1]         2966.7051\n",
              "R6[2]         2770.0363\n",
              "N6[1]         1837.8453\n",
              "N6[2]         2002.6222\n",
              "RHO_6[1,1]           NA\n",
              "RHO_6[2,1]    3208.7101\n",
              "RHO_6[1,2]    3208.7101\n",
              "RHO_6[2,2]           NA\n",
              "SIGMA_6[1]     879.9664\n",
              "SIGMA_6[2]    1906.9725\n",
              "sigmaN        4852.1218\n",
              "sigmaR        4925.3695"
            ]
          },
          "metadata": {}
        }
      ]
    },
    {
      "cell_type": "markdown",
      "source": [
        "#### Comparing models"
      ],
      "metadata": {
        "id": "MsgY6I6wCO9q"
      }
    },
    {
      "cell_type": "code",
      "source": [
        "round(compare(S_model_4, S_model_5, S_model_6, func=WAIC),2)\n",
        "round(compare(S_model_4, S_model_5, S_model_6, func=PSIS),2)"
      ],
      "metadata": {
        "colab": {
          "base_uri": "https://localhost:8080/",
          "height": 366
        },
        "id": "UDbL2D2c7bnr",
        "outputId": "2a3f91d5-4e77-417a-aed7-405137e199f1"
      },
      "execution_count": 48,
      "outputs": [
        {
          "output_type": "display_data",
          "data": {
            "text/html": [
              "<table class=\"dataframe\">\n",
              "<caption>A data.frame: 3 × 6</caption>\n",
              "<thead>\n",
              "\t<tr><th></th><th scope=col>WAIC</th><th scope=col>SE</th><th scope=col>dWAIC</th><th scope=col>dSE</th><th scope=col>pWAIC</th><th scope=col>weight</th></tr>\n",
              "\t<tr><th></th><th scope=col>&lt;dbl&gt;</th><th scope=col>&lt;dbl&gt;</th><th scope=col>&lt;dbl&gt;</th><th scope=col>&lt;dbl&gt;</th><th scope=col>&lt;dbl&gt;</th><th scope=col>&lt;dbl&gt;</th></tr>\n",
              "</thead>\n",
              "<tbody>\n",
              "\t<tr><th scope=row>S_model_6</th><td>4555.80</td><td>27.54</td><td>0.00</td><td>  NA</td><td>7.14</td><td>0.44</td></tr>\n",
              "\t<tr><th scope=row>S_model_4</th><td>4556.13</td><td>28.08</td><td>0.34</td><td>2.55</td><td>7.72</td><td>0.37</td></tr>\n",
              "\t<tr><th scope=row>S_model_5</th><td>4557.47</td><td>27.22</td><td>1.67</td><td>2.27</td><td>6.12</td><td>0.19</td></tr>\n",
              "</tbody>\n",
              "</table>\n"
            ],
            "text/markdown": "\nA data.frame: 3 × 6\n\n| <!--/--> | WAIC &lt;dbl&gt; | SE &lt;dbl&gt; | dWAIC &lt;dbl&gt; | dSE &lt;dbl&gt; | pWAIC &lt;dbl&gt; | weight &lt;dbl&gt; |\n|---|---|---|---|---|---|---|\n| S_model_6 | 4555.80 | 27.54 | 0.00 |   NA | 7.14 | 0.44 |\n| S_model_4 | 4556.13 | 28.08 | 0.34 | 2.55 | 7.72 | 0.37 |\n| S_model_5 | 4557.47 | 27.22 | 1.67 | 2.27 | 6.12 | 0.19 |\n\n",
            "text/latex": "A data.frame: 3 × 6\n\\begin{tabular}{r|llllll}\n  & WAIC & SE & dWAIC & dSE & pWAIC & weight\\\\\n  & <dbl> & <dbl> & <dbl> & <dbl> & <dbl> & <dbl>\\\\\n\\hline\n\tS\\_model\\_6 & 4555.80 & 27.54 & 0.00 &   NA & 7.14 & 0.44\\\\\n\tS\\_model\\_4 & 4556.13 & 28.08 & 0.34 & 2.55 & 7.72 & 0.37\\\\\n\tS\\_model\\_5 & 4557.47 & 27.22 & 1.67 & 2.27 & 6.12 & 0.19\\\\\n\\end{tabular}\n",
            "text/plain": [
              "          WAIC    SE    dWAIC dSE  pWAIC weight\n",
              "S_model_6 4555.80 27.54 0.00    NA 7.14  0.44  \n",
              "S_model_4 4556.13 28.08 0.34  2.55 7.72  0.37  \n",
              "S_model_5 4557.47 27.22 1.67  2.27 6.12  0.19  "
            ]
          },
          "metadata": {}
        },
        {
          "output_type": "display_data",
          "data": {
            "text/html": [
              "<table class=\"dataframe\">\n",
              "<caption>A data.frame: 3 × 6</caption>\n",
              "<thead>\n",
              "\t<tr><th></th><th scope=col>PSIS</th><th scope=col>SE</th><th scope=col>dPSIS</th><th scope=col>dSE</th><th scope=col>pPSIS</th><th scope=col>weight</th></tr>\n",
              "\t<tr><th></th><th scope=col>&lt;dbl&gt;</th><th scope=col>&lt;dbl&gt;</th><th scope=col>&lt;dbl&gt;</th><th scope=col>&lt;dbl&gt;</th><th scope=col>&lt;dbl&gt;</th><th scope=col>&lt;dbl&gt;</th></tr>\n",
              "</thead>\n",
              "<tbody>\n",
              "\t<tr><th scope=row>S_model_6</th><td>4555.82</td><td>27.57</td><td>0.00</td><td>  NA</td><td>7.15</td><td>0.44</td></tr>\n",
              "\t<tr><th scope=row>S_model_4</th><td>4556.19</td><td>28.11</td><td>0.36</td><td>2.55</td><td>7.75</td><td>0.37</td></tr>\n",
              "\t<tr><th scope=row>S_model_5</th><td>4557.50</td><td>27.25</td><td>1.67</td><td>2.27</td><td>6.13</td><td>0.19</td></tr>\n",
              "</tbody>\n",
              "</table>\n"
            ],
            "text/markdown": "\nA data.frame: 3 × 6\n\n| <!--/--> | PSIS &lt;dbl&gt; | SE &lt;dbl&gt; | dPSIS &lt;dbl&gt; | dSE &lt;dbl&gt; | pPSIS &lt;dbl&gt; | weight &lt;dbl&gt; |\n|---|---|---|---|---|---|---|\n| S_model_6 | 4555.82 | 27.57 | 0.00 |   NA | 7.15 | 0.44 |\n| S_model_4 | 4556.19 | 28.11 | 0.36 | 2.55 | 7.75 | 0.37 |\n| S_model_5 | 4557.50 | 27.25 | 1.67 | 2.27 | 6.13 | 0.19 |\n\n",
            "text/latex": "A data.frame: 3 × 6\n\\begin{tabular}{r|llllll}\n  & PSIS & SE & dPSIS & dSE & pPSIS & weight\\\\\n  & <dbl> & <dbl> & <dbl> & <dbl> & <dbl> & <dbl>\\\\\n\\hline\n\tS\\_model\\_6 & 4555.82 & 27.57 & 0.00 &   NA & 7.15 & 0.44\\\\\n\tS\\_model\\_4 & 4556.19 & 28.11 & 0.36 & 2.55 & 7.75 & 0.37\\\\\n\tS\\_model\\_5 & 4557.50 & 27.25 & 1.67 & 2.27 & 6.13 & 0.19\\\\\n\\end{tabular}\n",
            "text/plain": [
              "          PSIS    SE    dPSIS dSE  pPSIS weight\n",
              "S_model_6 4555.82 27.57 0.00    NA 7.15  0.44  \n",
              "S_model_4 4556.19 28.11 0.36  2.55 7.75  0.37  \n",
              "S_model_5 4557.50 27.25 1.67  2.27 6.13  0.19  "
            ]
          },
          "metadata": {}
        }
      ]
    },
    {
      "cell_type": "markdown",
      "source": [
        "Somewhat expectedly, the all-in-one Model 6 does best."
      ],
      "metadata": {
        "id": "u8SmGGkG7_yn"
      }
    },
    {
      "cell_type": "markdown",
      "source": [
        "Now let's build out the posterior for Model 6."
      ],
      "metadata": {
        "id": "CQ6R3XvxCfhD"
      }
    },
    {
      "cell_type": "markdown",
      "source": [
        "### Model 6 Posterior"
      ],
      "metadata": {
        "id": "KAaMQchxCmqk"
      }
    },
    {
      "cell_type": "markdown",
      "source": [
        "(If you're reading this, know there is more to come here.  I am adding to this in conjuction with another project: [video solutions](https://youtube.com/playlist?list=PL4OalocKlC1R5dZCaD9AHP96Uwkl0Xv0R&si=lQ8bXiuT_iL-XbZC) to the Practice problems from the text book \"Statistical Rethinking\".  As relevant concepts arise there, I will incorporate them here.)"
      ],
      "metadata": {
        "id": "ErtAhuvNDOh1"
      }
    }
  ]
}
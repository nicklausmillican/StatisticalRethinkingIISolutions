{
  "nbformat": 4,
  "nbformat_minor": 0,
  "metadata": {
    "colab": {
      "provenance": [],
      "authorship_tag": "ABX9TyM5r4e66qg39k92fzQYZhO5",
      "include_colab_link": true
    },
    "kernelspec": {
      "name": "ir",
      "display_name": "R"
    },
    "language_info": {
      "name": "R"
    }
  },
  "cells": [
    {
      "cell_type": "markdown",
      "metadata": {
        "id": "view-in-github",
        "colab_type": "text"
      },
      "source": [
        "<a href=\"https://colab.research.google.com/github/nicklausmillican/StatisticalRethinkingIISolutions/blob/main/StatisticalRethinkingSolutions2_Ch9.ipynb\" target=\"_parent\"><img src=\"https://colab.research.google.com/assets/colab-badge.svg\" alt=\"Open In Colab\"/></a>"
      ]
    },
    {
      "cell_type": "code",
      "source": [
        "# Checking versions of g++ and make\n",
        "system(\"g++ --version\", intern = TRUE)\n",
        "system(\"make --version\", intern = TRUE)\n",
        "\n",
        "# Install g++ and make if needed\n",
        "system(\"sudo apt install g++\", intern = TRUE)\n",
        "system(\"sudo apt install make\", intern = TRUE)\n"
      ],
      "metadata": {
        "colab": {
          "base_uri": "https://localhost:8080/",
          "height": 104
        },
        "id": "6nmEQndWT8cK",
        "outputId": "78909d9b-566e-45fb-c269-4bfad154e219"
      },
      "execution_count": 1,
      "outputs": [
        {
          "output_type": "display_data",
          "data": {
            "text/html": [
              "<style>\n",
              ".list-inline {list-style: none; margin:0; padding: 0}\n",
              ".list-inline>li {display: inline-block}\n",
              ".list-inline>li:not(:last-child)::after {content: \"\\00b7\"; padding: 0 .5ex}\n",
              "</style>\n",
              "<ol class=list-inline><li>'g++ (Ubuntu 11.4.0-1ubuntu1~22.04) 11.4.0'</li><li>'Copyright (C) 2021 Free Software Foundation, Inc.'</li><li><span style=white-space:pre-wrap>'This is free software; see the source for copying conditions.  There is NO'</span></li><li>'warranty; not even for MERCHANTABILITY or FITNESS FOR A PARTICULAR PURPOSE.'</li><li>''</li></ol>\n"
            ],
            "text/markdown": "1. 'g++ (Ubuntu 11.4.0-1ubuntu1~22.04) 11.4.0'\n2. 'Copyright (C) 2021 Free Software Foundation, Inc.'\n3. <span style=white-space:pre-wrap>'This is free software; see the source for copying conditions.  There is NO'</span>\n4. 'warranty; not even for MERCHANTABILITY or FITNESS FOR A PARTICULAR PURPOSE.'\n5. ''\n\n\n",
            "text/latex": "\\begin{enumerate*}\n\\item 'g++ (Ubuntu 11.4.0-1ubuntu1\\textasciitilde{}22.04) 11.4.0'\n\\item 'Copyright (C) 2021 Free Software Foundation, Inc.'\n\\item 'This is free software; see the source for copying conditions.  There is NO'\n\\item 'warranty; not even for MERCHANTABILITY or FITNESS FOR A PARTICULAR PURPOSE.'\n\\item ''\n\\end{enumerate*}\n",
            "text/plain": [
              "[1] \"g++ (Ubuntu 11.4.0-1ubuntu1~22.04) 11.4.0\"                                  \n",
              "[2] \"Copyright (C) 2021 Free Software Foundation, Inc.\"                          \n",
              "[3] \"This is free software; see the source for copying conditions.  There is NO\" \n",
              "[4] \"warranty; not even for MERCHANTABILITY or FITNESS FOR A PARTICULAR PURPOSE.\"\n",
              "[5] \"\"                                                                           "
            ]
          },
          "metadata": {}
        },
        {
          "output_type": "display_data",
          "data": {
            "text/html": [
              "<style>\n",
              ".list-inline {list-style: none; margin:0; padding: 0}\n",
              ".list-inline>li {display: inline-block}\n",
              ".list-inline>li:not(:last-child)::after {content: \"\\00b7\"; padding: 0 .5ex}\n",
              "</style>\n",
              "<ol class=list-inline><li>'GNU Make 4.3'</li><li>'Built for x86_64-pc-linux-gnu'</li><li>'Copyright (C) 1988-2020 Free Software Foundation, Inc.'</li><li>'License GPLv3+: GNU GPL version 3 or later &lt;http://gnu.org/licenses/gpl.html&gt;'</li><li>'This is free software: you are free to change and redistribute it.'</li><li>'There is NO WARRANTY, to the extent permitted by law.'</li></ol>\n"
            ],
            "text/markdown": "1. 'GNU Make 4.3'\n2. 'Built for x86_64-pc-linux-gnu'\n3. 'Copyright (C) 1988-2020 Free Software Foundation, Inc.'\n4. 'License GPLv3+: GNU GPL version 3 or later &lt;http://gnu.org/licenses/gpl.html&gt;'\n5. 'This is free software: you are free to change and redistribute it.'\n6. 'There is NO WARRANTY, to the extent permitted by law.'\n\n\n",
            "text/latex": "\\begin{enumerate*}\n\\item 'GNU Make 4.3'\n\\item 'Built for x86\\_64-pc-linux-gnu'\n\\item 'Copyright (C) 1988-2020 Free Software Foundation, Inc.'\n\\item 'License GPLv3+: GNU GPL version 3 or later <http://gnu.org/licenses/gpl.html>'\n\\item 'This is free software: you are free to change and redistribute it.'\n\\item 'There is NO WARRANTY, to the extent permitted by law.'\n\\end{enumerate*}\n",
            "text/plain": [
              "[1] \"GNU Make 4.3\"                                                                 \n",
              "[2] \"Built for x86_64-pc-linux-gnu\"                                                \n",
              "[3] \"Copyright (C) 1988-2020 Free Software Foundation, Inc.\"                       \n",
              "[4] \"License GPLv3+: GNU GPL version 3 or later <http://gnu.org/licenses/gpl.html>\"\n",
              "[5] \"This is free software: you are free to change and redistribute it.\"           \n",
              "[6] \"There is NO WARRANTY, to the extent permitted by law.\"                        "
            ]
          },
          "metadata": {}
        },
        {
          "output_type": "display_data",
          "data": {
            "text/html": [
              "<style>\n",
              ".list-inline {list-style: none; margin:0; padding: 0}\n",
              ".list-inline>li {display: inline-block}\n",
              ".list-inline>li:not(:last-child)::after {content: \"\\00b7\"; padding: 0 .5ex}\n",
              "</style>\n",
              "<ol class=list-inline><li>'Reading package lists...'</li><li>'Building dependency tree...'</li><li>'Reading state information...'</li><li>'g++ is already the newest version (4:11.2.0-1ubuntu1).'</li><li>'g++ set to manually installed.'</li><li>'0 upgraded, 0 newly installed, 0 to remove and 45 not upgraded.'</li></ol>\n"
            ],
            "text/markdown": "1. 'Reading package lists...'\n2. 'Building dependency tree...'\n3. 'Reading state information...'\n4. 'g++ is already the newest version (4:11.2.0-1ubuntu1).'\n5. 'g++ set to manually installed.'\n6. '0 upgraded, 0 newly installed, 0 to remove and 45 not upgraded.'\n\n\n",
            "text/latex": "\\begin{enumerate*}\n\\item 'Reading package lists...'\n\\item 'Building dependency tree...'\n\\item 'Reading state information...'\n\\item 'g++ is already the newest version (4:11.2.0-1ubuntu1).'\n\\item 'g++ set to manually installed.'\n\\item '0 upgraded, 0 newly installed, 0 to remove and 45 not upgraded.'\n\\end{enumerate*}\n",
            "text/plain": [
              "[1] \"Reading package lists...\"                                       \n",
              "[2] \"Building dependency tree...\"                                    \n",
              "[3] \"Reading state information...\"                                   \n",
              "[4] \"g++ is already the newest version (4:11.2.0-1ubuntu1).\"         \n",
              "[5] \"g++ set to manually installed.\"                                 \n",
              "[6] \"0 upgraded, 0 newly installed, 0 to remove and 45 not upgraded.\""
            ]
          },
          "metadata": {}
        },
        {
          "output_type": "display_data",
          "data": {
            "text/html": [
              "<style>\n",
              ".list-inline {list-style: none; margin:0; padding: 0}\n",
              ".list-inline>li {display: inline-block}\n",
              ".list-inline>li:not(:last-child)::after {content: \"\\00b7\"; padding: 0 .5ex}\n",
              "</style>\n",
              "<ol class=list-inline><li>'Reading package lists...'</li><li>'Building dependency tree...'</li><li>'Reading state information...'</li><li>'make is already the newest version (4.3-4.1build1).'</li><li>'make set to manually installed.'</li><li>'0 upgraded, 0 newly installed, 0 to remove and 45 not upgraded.'</li></ol>\n"
            ],
            "text/markdown": "1. 'Reading package lists...'\n2. 'Building dependency tree...'\n3. 'Reading state information...'\n4. 'make is already the newest version (4.3-4.1build1).'\n5. 'make set to manually installed.'\n6. '0 upgraded, 0 newly installed, 0 to remove and 45 not upgraded.'\n\n\n",
            "text/latex": "\\begin{enumerate*}\n\\item 'Reading package lists...'\n\\item 'Building dependency tree...'\n\\item 'Reading state information...'\n\\item 'make is already the newest version (4.3-4.1build1).'\n\\item 'make set to manually installed.'\n\\item '0 upgraded, 0 newly installed, 0 to remove and 45 not upgraded.'\n\\end{enumerate*}\n",
            "text/plain": [
              "[1] \"Reading package lists...\"                                       \n",
              "[2] \"Building dependency tree...\"                                    \n",
              "[3] \"Reading state information...\"                                   \n",
              "[4] \"make is already the newest version (4.3-4.1build1).\"            \n",
              "[5] \"make set to manually installed.\"                                \n",
              "[6] \"0 upgraded, 0 newly installed, 0 to remove and 45 not upgraded.\""
            ]
          },
          "metadata": {}
        }
      ]
    },
    {
      "cell_type": "code",
      "source": [
        "# Install cmdstanr from GitHub\n",
        "if (!require(cmdstanr)) {\n",
        "  devtools::install_github(\"stan-dev/cmdstanr\")\n",
        "}\n",
        "\n",
        "# Set up CmdStan if it's not already set up\n",
        "library(cmdstanr)\n",
        "if (!cmdstanr::cmdstan_version()) {\n",
        "  cmdstanr::install_cmdstan()\n",
        "}\n",
        "\n",
        "# Verify installation\n",
        "cmdstanr::check_cmdstan_toolchain()\n"
      ],
      "metadata": {
        "colab": {
          "base_uri": "https://localhost:8080/",
          "height": 166
        },
        "id": "xy8UnK1uUOmt",
        "outputId": "01760b78-d1fa-4de4-d1d0-637ad6ca9574"
      },
      "execution_count": 3,
      "outputs": [
        {
          "output_type": "error",
          "ename": "ERROR",
          "evalue": "Error: CmdStan path has not been set yet. See ?set_cmdstan_path.\n",
          "traceback": [
            "Error: CmdStan path has not been set yet. See ?set_cmdstan_path.\nTraceback:\n",
            "1. cmdstanr::cmdstan_version()",
            "2. stop_no_path()",
            "3. stop(\"CmdStan path has not been set yet. See ?set_cmdstan_path.\", \n .     call. = FALSE)"
          ]
        }
      ]
    },
    {
      "cell_type": "code",
      "source": [
        "# Install CmdStan using cmdstanr\n",
        "library(cmdstanr)\n",
        "cmdstanr::install_cmdstan()\n",
        "\n",
        "# After installation, set the CmdStan path\n",
        "cmdstan_path <- cmdstanr::cmdstan_path()\n",
        "cmdstanr::set_cmdstan_path(cmdstan_path)\n",
        "\n",
        "# Verify the installation\n",
        "cmdstanr::cmdstan_version()\n"
      ],
      "metadata": {
        "colab": {
          "base_uri": "https://localhost:8080/",
          "height": 1000
        },
        "id": "QWIdvClbVP9g",
        "outputId": "99d9823b-4b2a-4ecd-dda9-2b413d5a2f57"
      },
      "execution_count": 4,
      "outputs": [
        {
          "output_type": "stream",
          "name": "stderr",
          "text": [
            "The C++ toolchain required for CmdStan is setup properly!\n",
            "\n",
            "* Latest CmdStan release is v2.34.1\n",
            "\n",
            "* Installing CmdStan v2.34.1 in /root/.cmdstan/cmdstan-2.34.1\n",
            "\n",
            "* Downloading cmdstan-2.34.1.tar.gz from GitHub...\n",
            "\n",
            "* Download complete\n",
            "\n",
            "* Unpacking archive...\n",
            "\n",
            "* Building CmdStan binaries...\n",
            "\n"
          ]
        },
        {
          "output_type": "stream",
          "name": "stdout",
          "text": [
            "cp bin/linux-stanc bin/stanc\n",
            "g++ -pipe   -pthread -D_REENTRANT  -O3 -I stan/lib/stan_math/lib/sundials_6.1.1/include -I stan/lib/stan_math/lib/sundials_6.1.1/src/sundials -DNO_FPRINTF_OUTPUT     -O3  -c -x c -include stan/lib/stan_math/lib/sundials_6.1.1/include/stan_sundials_printf_override.hpp stan/lib/stan_math/lib/sundials_6.1.1/src/nvector/serial/nvector_serial.c -o stan/lib/stan_math/lib/sundials_6.1.1/src/nvector/serial/nvector_serial.o\n",
            "chmod +x bin/stanc\n",
            "g++ -pipe   -pthread -D_REENTRANT  -O3 -I stan/lib/stan_math/lib/sundials_6.1.1/include -I stan/lib/stan_math/lib/sundials_6.1.1/src/sundials -DNO_FPRINTF_OUTPUT     -O3  -c -x c -include stan/lib/stan_math/lib/sundials_6.1.1/include/stan_sundials_printf_override.hpp stan/lib/stan_math/lib/sundials_6.1.1/src/sundials/sundials_math.c -o stan/lib/stan_math/lib/sundials_6.1.1/src/sundials/sundials_math.o\n",
            "g++ -pipe   -pthread -D_REENTRANT  -O3 -I stan/lib/stan_math/lib/sundials_6.1.1/include -I stan/lib/stan_math/lib/sundials_6.1.1/src/sundials -DNO_FPRINTF_OUTPUT     -O3  -c -x c -include stan/lib/stan_math/lib/sundials_6.1.1/include/stan_sundials_printf_override.hpp stan/lib/stan_math/lib/sundials_6.1.1/src/cvodes/cvodea.c -o stan/lib/stan_math/lib/sundials_6.1.1/src/cvodes/cvodea.o\n",
            "g++ -pipe   -pthread -D_REENTRANT  -O3 -I stan/lib/stan_math/lib/sundials_6.1.1/include -I stan/lib/stan_math/lib/sundials_6.1.1/src/sundials -DNO_FPRINTF_OUTPUT     -O3  -c -x c -include stan/lib/stan_math/lib/sundials_6.1.1/include/stan_sundials_printf_override.hpp stan/lib/stan_math/lib/sundials_6.1.1/src/cvodes/cvodea_io.c -o stan/lib/stan_math/lib/sundials_6.1.1/src/cvodes/cvodea_io.o\n",
            "g++ -pipe   -pthread -D_REENTRANT  -O3 -I stan/lib/stan_math/lib/sundials_6.1.1/include -I stan/lib/stan_math/lib/sundials_6.1.1/src/sundials -DNO_FPRINTF_OUTPUT     -O3  -c -x c -include stan/lib/stan_math/lib/sundials_6.1.1/include/stan_sundials_printf_override.hpp stan/lib/stan_math/lib/sundials_6.1.1/src/cvodes/cvodes_bandpre.c -o stan/lib/stan_math/lib/sundials_6.1.1/src/cvodes/cvodes_bandpre.o\n",
            "g++ -pipe   -pthread -D_REENTRANT  -O3 -I stan/lib/stan_math/lib/sundials_6.1.1/include -I stan/lib/stan_math/lib/sundials_6.1.1/src/sundials -DNO_FPRINTF_OUTPUT     -O3  -c -x c -include stan/lib/stan_math/lib/sundials_6.1.1/include/stan_sundials_printf_override.hpp stan/lib/stan_math/lib/sundials_6.1.1/src/cvodes/cvodes_bbdpre.c -o stan/lib/stan_math/lib/sundials_6.1.1/src/cvodes/cvodes_bbdpre.o\n",
            "g++ -pipe   -pthread -D_REENTRANT  -O3 -I stan/lib/stan_math/lib/sundials_6.1.1/include -I stan/lib/stan_math/lib/sundials_6.1.1/src/sundials -DNO_FPRINTF_OUTPUT     -O3  -c -x c -include stan/lib/stan_math/lib/sundials_6.1.1/include/stan_sundials_printf_override.hpp stan/lib/stan_math/lib/sundials_6.1.1/src/cvodes/cvodes.c -o stan/lib/stan_math/lib/sundials_6.1.1/src/cvodes/cvodes.o\n",
            "g++ -pipe   -pthread -D_REENTRANT  -O3 -I stan/lib/stan_math/lib/sundials_6.1.1/include -I stan/lib/stan_math/lib/sundials_6.1.1/src/sundials -DNO_FPRINTF_OUTPUT     -O3  -c -x c -include stan/lib/stan_math/lib/sundials_6.1.1/include/stan_sundials_printf_override.hpp stan/lib/stan_math/lib/sundials_6.1.1/src/cvodes/cvodes_diag.c -o stan/lib/stan_math/lib/sundials_6.1.1/src/cvodes/cvodes_diag.o\n",
            "g++ -pipe   -pthread -D_REENTRANT  -O3 -I stan/lib/stan_math/lib/sundials_6.1.1/include -I stan/lib/stan_math/lib/sundials_6.1.1/src/sundials -DNO_FPRINTF_OUTPUT     -O3  -c -x c -include stan/lib/stan_math/lib/sundials_6.1.1/include/stan_sundials_printf_override.hpp stan/lib/stan_math/lib/sundials_6.1.1/src/cvodes/cvodes_direct.c -o stan/lib/stan_math/lib/sundials_6.1.1/src/cvodes/cvodes_direct.o\n",
            "g++ -pipe   -pthread -D_REENTRANT  -O3 -I stan/lib/stan_math/lib/sundials_6.1.1/include -I stan/lib/stan_math/lib/sundials_6.1.1/src/sundials -DNO_FPRINTF_OUTPUT     -O3  -c -x c -include stan/lib/stan_math/lib/sundials_6.1.1/include/stan_sundials_printf_override.hpp stan/lib/stan_math/lib/sundials_6.1.1/src/cvodes/cvodes_io.c -o stan/lib/stan_math/lib/sundials_6.1.1/src/cvodes/cvodes_io.o\n",
            "g++ -pipe   -pthread -D_REENTRANT  -O3 -I stan/lib/stan_math/lib/sundials_6.1.1/include -I stan/lib/stan_math/lib/sundials_6.1.1/src/sundials -DNO_FPRINTF_OUTPUT     -O3  -c -x c -include stan/lib/stan_math/lib/sundials_6.1.1/include/stan_sundials_printf_override.hpp stan/lib/stan_math/lib/sundials_6.1.1/src/cvodes/cvodes_ls.c -o stan/lib/stan_math/lib/sundials_6.1.1/src/cvodes/cvodes_ls.o\n",
            "g++ -pipe   -pthread -D_REENTRANT  -O3 -I stan/lib/stan_math/lib/sundials_6.1.1/include -I stan/lib/stan_math/lib/sundials_6.1.1/src/sundials -DNO_FPRINTF_OUTPUT     -O3  -c -x c -include stan/lib/stan_math/lib/sundials_6.1.1/include/stan_sundials_printf_override.hpp stan/lib/stan_math/lib/sundials_6.1.1/src/cvodes/cvodes_nls.c -o stan/lib/stan_math/lib/sundials_6.1.1/src/cvodes/cvodes_nls.o\n",
            "g++ -pipe   -pthread -D_REENTRANT  -O3 -I stan/lib/stan_math/lib/sundials_6.1.1/include -I stan/lib/stan_math/lib/sundials_6.1.1/src/sundials -DNO_FPRINTF_OUTPUT     -O3  -c -x c -include stan/lib/stan_math/lib/sundials_6.1.1/include/stan_sundials_printf_override.hpp stan/lib/stan_math/lib/sundials_6.1.1/src/cvodes/cvodes_nls_sim.c -o stan/lib/stan_math/lib/sundials_6.1.1/src/cvodes/cvodes_nls_sim.o\n",
            "g++ -pipe   -pthread -D_REENTRANT  -O3 -I stan/lib/stan_math/lib/sundials_6.1.1/include -I stan/lib/stan_math/lib/sundials_6.1.1/src/sundials -DNO_FPRINTF_OUTPUT     -O3  -c -x c -include stan/lib/stan_math/lib/sundials_6.1.1/include/stan_sundials_printf_override.hpp stan/lib/stan_math/lib/sundials_6.1.1/src/cvodes/cvodes_nls_stg1.c -o stan/lib/stan_math/lib/sundials_6.1.1/src/cvodes/cvodes_nls_stg1.o\n",
            "g++ -pipe   -pthread -D_REENTRANT  -O3 -I stan/lib/stan_math/lib/sundials_6.1.1/include -I stan/lib/stan_math/lib/sundials_6.1.1/src/sundials -DNO_FPRINTF_OUTPUT     -O3  -c -x c -include stan/lib/stan_math/lib/sundials_6.1.1/include/stan_sundials_printf_override.hpp stan/lib/stan_math/lib/sundials_6.1.1/src/cvodes/cvodes_nls_stg.c -o stan/lib/stan_math/lib/sundials_6.1.1/src/cvodes/cvodes_nls_stg.o\n",
            "g++ -pipe   -pthread -D_REENTRANT  -O3 -I stan/lib/stan_math/lib/sundials_6.1.1/include -I stan/lib/stan_math/lib/sundials_6.1.1/src/sundials -DNO_FPRINTF_OUTPUT     -O3  -c -x c -include stan/lib/stan_math/lib/sundials_6.1.1/include/stan_sundials_printf_override.hpp stan/lib/stan_math/lib/sundials_6.1.1/src/cvodes/cvodes_spils.c -o stan/lib/stan_math/lib/sundials_6.1.1/src/cvodes/cvodes_spils.o\n",
            "g++ -pipe   -pthread -D_REENTRANT  -O3 -I stan/lib/stan_math/lib/sundials_6.1.1/include -I stan/lib/stan_math/lib/sundials_6.1.1/src/sundials -DNO_FPRINTF_OUTPUT     -O3  -c -x c -include stan/lib/stan_math/lib/sundials_6.1.1/include/stan_sundials_printf_override.hpp stan/lib/stan_math/lib/sundials_6.1.1/src/sundials/sundials_band.c -o stan/lib/stan_math/lib/sundials_6.1.1/src/sundials/sundials_band.o\n",
            "g++ -pipe   -pthread -D_REENTRANT  -O3 -I stan/lib/stan_math/lib/sundials_6.1.1/include -I stan/lib/stan_math/lib/sundials_6.1.1/src/sundials -DNO_FPRINTF_OUTPUT     -O3  -c -x c -include stan/lib/stan_math/lib/sundials_6.1.1/include/stan_sundials_printf_override.hpp stan/lib/stan_math/lib/sundials_6.1.1/src/sundials/sundials_context.c -o stan/lib/stan_math/lib/sundials_6.1.1/src/sundials/sundials_context.o\n",
            "g++ -pipe   -pthread -D_REENTRANT  -O3 -I stan/lib/stan_math/lib/sundials_6.1.1/include -I stan/lib/stan_math/lib/sundials_6.1.1/src/sundials -DNO_FPRINTF_OUTPUT     -O3  -c -x c -include stan/lib/stan_math/lib/sundials_6.1.1/include/stan_sundials_printf_override.hpp stan/lib/stan_math/lib/sundials_6.1.1/src/sundials/sundials_dense.c -o stan/lib/stan_math/lib/sundials_6.1.1/src/sundials/sundials_dense.o\n",
            "g++ -pipe   -pthread -D_REENTRANT  -O3 -I stan/lib/stan_math/lib/sundials_6.1.1/include -I stan/lib/stan_math/lib/sundials_6.1.1/src/sundials -DNO_FPRINTF_OUTPUT     -O3  -c -x c -include stan/lib/stan_math/lib/sundials_6.1.1/include/stan_sundials_printf_override.hpp stan/lib/stan_math/lib/sundials_6.1.1/src/sundials/sundials_direct.c -o stan/lib/stan_math/lib/sundials_6.1.1/src/sundials/sundials_direct.o\n",
            "g++ -pipe   -pthread -D_REENTRANT  -O3 -I stan/lib/stan_math/lib/sundials_6.1.1/include -I stan/lib/stan_math/lib/sundials_6.1.1/src/sundials -DNO_FPRINTF_OUTPUT     -O3  -c -x c -include stan/lib/stan_math/lib/sundials_6.1.1/include/stan_sundials_printf_override.hpp stan/lib/stan_math/lib/sundials_6.1.1/src/sundials/sundials_futils.c -o stan/lib/stan_math/lib/sundials_6.1.1/src/sundials/sundials_futils.o\n",
            "g++ -pipe   -pthread -D_REENTRANT  -O3 -I stan/lib/stan_math/lib/sundials_6.1.1/include -I stan/lib/stan_math/lib/sundials_6.1.1/src/sundials -DNO_FPRINTF_OUTPUT     -O3  -c -x c -include stan/lib/stan_math/lib/sundials_6.1.1/include/stan_sundials_printf_override.hpp stan/lib/stan_math/lib/sundials_6.1.1/src/sundials/sundials_iterative.c -o stan/lib/stan_math/lib/sundials_6.1.1/src/sundials/sundials_iterative.o\n",
            "g++ -pipe   -pthread -D_REENTRANT  -O3 -I stan/lib/stan_math/lib/sundials_6.1.1/include -I stan/lib/stan_math/lib/sundials_6.1.1/src/sundials -DNO_FPRINTF_OUTPUT     -O3  -c -x c -include stan/lib/stan_math/lib/sundials_6.1.1/include/stan_sundials_printf_override.hpp stan/lib/stan_math/lib/sundials_6.1.1/src/sundials/sundials_linearsolver.c -o stan/lib/stan_math/lib/sundials_6.1.1/src/sundials/sundials_linearsolver.o\n",
            "g++ -pipe   -pthread -D_REENTRANT  -O3 -I stan/lib/stan_math/lib/sundials_6.1.1/include -I stan/lib/stan_math/lib/sundials_6.1.1/src/sundials -DNO_FPRINTF_OUTPUT     -O3  -c -x c -include stan/lib/stan_math/lib/sundials_6.1.1/include/stan_sundials_printf_override.hpp stan/lib/stan_math/lib/sundials_6.1.1/src/sundials/sundials_matrix.c -o stan/lib/stan_math/lib/sundials_6.1.1/src/sundials/sundials_matrix.o\n",
            "g++ -pipe   -pthread -D_REENTRANT  -O3 -I stan/lib/stan_math/lib/sundials_6.1.1/include -I stan/lib/stan_math/lib/sundials_6.1.1/src/sundials -DNO_FPRINTF_OUTPUT     -O3  -c -x c -include stan/lib/stan_math/lib/sundials_6.1.1/include/stan_sundials_printf_override.hpp stan/lib/stan_math/lib/sundials_6.1.1/src/sundials/sundials_memory.c -o stan/lib/stan_math/lib/sundials_6.1.1/src/sundials/sundials_memory.o\n",
            "g++ -pipe   -pthread -D_REENTRANT  -O3 -I stan/lib/stan_math/lib/sundials_6.1.1/include -I stan/lib/stan_math/lib/sundials_6.1.1/src/sundials -DNO_FPRINTF_OUTPUT     -O3  -c -x c -include stan/lib/stan_math/lib/sundials_6.1.1/include/stan_sundials_printf_override.hpp stan/lib/stan_math/lib/sundials_6.1.1/src/sundials/sundials_nonlinearsolver.c -o stan/lib/stan_math/lib/sundials_6.1.1/src/sundials/sundials_nonlinearsolver.o\n",
            "g++ -pipe   -pthread -D_REENTRANT  -O3 -I stan/lib/stan_math/lib/sundials_6.1.1/include -I stan/lib/stan_math/lib/sundials_6.1.1/src/sundials -DNO_FPRINTF_OUTPUT     -O3  -c -x c -include stan/lib/stan_math/lib/sundials_6.1.1/include/stan_sundials_printf_override.hpp stan/lib/stan_math/lib/sundials_6.1.1/src/sundials/sundials_nvector.c -o stan/lib/stan_math/lib/sundials_6.1.1/src/sundials/sundials_nvector.o\n",
            "g++ -pipe   -pthread -D_REENTRANT  -O3 -I stan/lib/stan_math/lib/sundials_6.1.1/include -I stan/lib/stan_math/lib/sundials_6.1.1/src/sundials -DNO_FPRINTF_OUTPUT     -O3  -c -x c -include stan/lib/stan_math/lib/sundials_6.1.1/include/stan_sundials_printf_override.hpp stan/lib/stan_math/lib/sundials_6.1.1/src/sundials/sundials_nvector_senswrapper.c -o stan/lib/stan_math/lib/sundials_6.1.1/src/sundials/sundials_nvector_senswrapper.o\n",
            "g++ -pipe   -pthread -D_REENTRANT  -O3 -I stan/lib/stan_math/lib/sundials_6.1.1/include -I stan/lib/stan_math/lib/sundials_6.1.1/src/sundials -DNO_FPRINTF_OUTPUT     -O3  -c -x c -include stan/lib/stan_math/lib/sundials_6.1.1/include/stan_sundials_printf_override.hpp stan/lib/stan_math/lib/sundials_6.1.1/src/sundials/sundials_version.c -o stan/lib/stan_math/lib/sundials_6.1.1/src/sundials/sundials_version.o\n",
            "g++ -pipe   -pthread -D_REENTRANT  -O3 -I stan/lib/stan_math/lib/sundials_6.1.1/include -I stan/lib/stan_math/lib/sundials_6.1.1/src/sundials -DNO_FPRINTF_OUTPUT     -O3  -c -x c -include stan/lib/stan_math/lib/sundials_6.1.1/include/stan_sundials_printf_override.hpp stan/lib/stan_math/lib/sundials_6.1.1/src/sunmatrix/band/sunmatrix_band.c -o stan/lib/stan_math/lib/sundials_6.1.1/src/sunmatrix/band/sunmatrix_band.o\n",
            "g++ -pipe   -pthread -D_REENTRANT  -O3 -I stan/lib/stan_math/lib/sundials_6.1.1/include -I stan/lib/stan_math/lib/sundials_6.1.1/src/sundials -DNO_FPRINTF_OUTPUT     -O3  -c -x c -include stan/lib/stan_math/lib/sundials_6.1.1/include/stan_sundials_printf_override.hpp stan/lib/stan_math/lib/sundials_6.1.1/src/sunmatrix/dense/sunmatrix_dense.c -o stan/lib/stan_math/lib/sundials_6.1.1/src/sunmatrix/dense/sunmatrix_dense.o\n",
            "g++ -pipe   -pthread -D_REENTRANT  -O3 -I stan/lib/stan_math/lib/sundials_6.1.1/include -I stan/lib/stan_math/lib/sundials_6.1.1/src/sundials -DNO_FPRINTF_OUTPUT     -O3  -c -x c -include stan/lib/stan_math/lib/sundials_6.1.1/include/stan_sundials_printf_override.hpp stan/lib/stan_math/lib/sundials_6.1.1/src/sunlinsol/band/sunlinsol_band.c -o stan/lib/stan_math/lib/sundials_6.1.1/src/sunlinsol/band/sunlinsol_band.o\n",
            "g++ -pipe   -pthread -D_REENTRANT  -O3 -I stan/lib/stan_math/lib/sundials_6.1.1/include -I stan/lib/stan_math/lib/sundials_6.1.1/src/sundials -DNO_FPRINTF_OUTPUT     -O3  -c -x c -include stan/lib/stan_math/lib/sundials_6.1.1/include/stan_sundials_printf_override.hpp stan/lib/stan_math/lib/sundials_6.1.1/src/sunlinsol/dense/sunlinsol_dense.c -o stan/lib/stan_math/lib/sundials_6.1.1/src/sunlinsol/dense/sunlinsol_dense.o\n",
            "g++ -pipe   -pthread -D_REENTRANT  -O3 -I stan/lib/stan_math/lib/sundials_6.1.1/include -I stan/lib/stan_math/lib/sundials_6.1.1/src/sundials -DNO_FPRINTF_OUTPUT     -O3  -c -x c -include stan/lib/stan_math/lib/sundials_6.1.1/include/stan_sundials_printf_override.hpp stan/lib/stan_math/lib/sundials_6.1.1/src/sunnonlinsol/newton/sunnonlinsol_newton.c -o stan/lib/stan_math/lib/sundials_6.1.1/src/sunnonlinsol/newton/sunnonlinsol_newton.o\n",
            "g++ -pipe   -pthread -D_REENTRANT  -O3 -I stan/lib/stan_math/lib/sundials_6.1.1/include -I stan/lib/stan_math/lib/sundials_6.1.1/src/sundials -DNO_FPRINTF_OUTPUT     -O3  -c -x c -include stan/lib/stan_math/lib/sundials_6.1.1/include/stan_sundials_printf_override.hpp stan/lib/stan_math/lib/sundials_6.1.1/src/sunnonlinsol/fixedpoint/sunnonlinsol_fixedpoint.c -o stan/lib/stan_math/lib/sundials_6.1.1/src/sunnonlinsol/fixedpoint/sunnonlinsol_fixedpoint.o\n",
            "g++ -pipe   -pthread -D_REENTRANT  -O3 -I stan/lib/stan_math/lib/sundials_6.1.1/include -I stan/lib/stan_math/lib/sundials_6.1.1/src/sundials -DNO_FPRINTF_OUTPUT     -O3  -c -x c -include stan/lib/stan_math/lib/sundials_6.1.1/include/stan_sundials_printf_override.hpp stan/lib/stan_math/lib/sundials_6.1.1/src/idas/idaa.c -o stan/lib/stan_math/lib/sundials_6.1.1/src/idas/idaa.o\n",
            "g++ -pipe   -pthread -D_REENTRANT  -O3 -I stan/lib/stan_math/lib/sundials_6.1.1/include -I stan/lib/stan_math/lib/sundials_6.1.1/src/sundials -DNO_FPRINTF_OUTPUT     -O3  -c -x c -include stan/lib/stan_math/lib/sundials_6.1.1/include/stan_sundials_printf_override.hpp stan/lib/stan_math/lib/sundials_6.1.1/src/idas/idaa_io.c -o stan/lib/stan_math/lib/sundials_6.1.1/src/idas/idaa_io.o\n",
            "g++ -pipe   -pthread -D_REENTRANT  -O3 -I stan/lib/stan_math/lib/sundials_6.1.1/include -I stan/lib/stan_math/lib/sundials_6.1.1/src/sundials -DNO_FPRINTF_OUTPUT     -O3  -c -x c -include stan/lib/stan_math/lib/sundials_6.1.1/include/stan_sundials_printf_override.hpp stan/lib/stan_math/lib/sundials_6.1.1/src/idas/idas_bbdpre.c -o stan/lib/stan_math/lib/sundials_6.1.1/src/idas/idas_bbdpre.o\n",
            "g++ -pipe   -pthread -D_REENTRANT  -O3 -I stan/lib/stan_math/lib/sundials_6.1.1/include -I stan/lib/stan_math/lib/sundials_6.1.1/src/sundials -DNO_FPRINTF_OUTPUT     -O3  -c -x c -include stan/lib/stan_math/lib/sundials_6.1.1/include/stan_sundials_printf_override.hpp stan/lib/stan_math/lib/sundials_6.1.1/src/idas/idas.c -o stan/lib/stan_math/lib/sundials_6.1.1/src/idas/idas.o\n",
            "g++ -pipe   -pthread -D_REENTRANT  -O3 -I stan/lib/stan_math/lib/sundials_6.1.1/include -I stan/lib/stan_math/lib/sundials_6.1.1/src/sundials -DNO_FPRINTF_OUTPUT     -O3  -c -x c -include stan/lib/stan_math/lib/sundials_6.1.1/include/stan_sundials_printf_override.hpp stan/lib/stan_math/lib/sundials_6.1.1/src/idas/idas_direct.c -o stan/lib/stan_math/lib/sundials_6.1.1/src/idas/idas_direct.o\n",
            "g++ -pipe   -pthread -D_REENTRANT  -O3 -I stan/lib/stan_math/lib/sundials_6.1.1/include -I stan/lib/stan_math/lib/sundials_6.1.1/src/sundials -DNO_FPRINTF_OUTPUT     -O3  -c -x c -include stan/lib/stan_math/lib/sundials_6.1.1/include/stan_sundials_printf_override.hpp stan/lib/stan_math/lib/sundials_6.1.1/src/idas/idas_ic.c -o stan/lib/stan_math/lib/sundials_6.1.1/src/idas/idas_ic.o\n",
            "g++ -pipe   -pthread -D_REENTRANT  -O3 -I stan/lib/stan_math/lib/sundials_6.1.1/include -I stan/lib/stan_math/lib/sundials_6.1.1/src/sundials -DNO_FPRINTF_OUTPUT     -O3  -c -x c -include stan/lib/stan_math/lib/sundials_6.1.1/include/stan_sundials_printf_override.hpp stan/lib/stan_math/lib/sundials_6.1.1/src/idas/idas_io.c -o stan/lib/stan_math/lib/sundials_6.1.1/src/idas/idas_io.o\n",
            "g++ -pipe   -pthread -D_REENTRANT  -O3 -I stan/lib/stan_math/lib/sundials_6.1.1/include -I stan/lib/stan_math/lib/sundials_6.1.1/src/sundials -DNO_FPRINTF_OUTPUT     -O3  -c -x c -include stan/lib/stan_math/lib/sundials_6.1.1/include/stan_sundials_printf_override.hpp stan/lib/stan_math/lib/sundials_6.1.1/src/idas/idas_ls.c -o stan/lib/stan_math/lib/sundials_6.1.1/src/idas/idas_ls.o\n",
            "g++ -pipe   -pthread -D_REENTRANT  -O3 -I stan/lib/stan_math/lib/sundials_6.1.1/include -I stan/lib/stan_math/lib/sundials_6.1.1/src/sundials -DNO_FPRINTF_OUTPUT     -O3  -c -x c -include stan/lib/stan_math/lib/sundials_6.1.1/include/stan_sundials_printf_override.hpp stan/lib/stan_math/lib/sundials_6.1.1/src/idas/idas_nls.c -o stan/lib/stan_math/lib/sundials_6.1.1/src/idas/idas_nls.o\n",
            "g++ -pipe   -pthread -D_REENTRANT  -O3 -I stan/lib/stan_math/lib/sundials_6.1.1/include -I stan/lib/stan_math/lib/sundials_6.1.1/src/sundials -DNO_FPRINTF_OUTPUT     -O3  -c -x c -include stan/lib/stan_math/lib/sundials_6.1.1/include/stan_sundials_printf_override.hpp stan/lib/stan_math/lib/sundials_6.1.1/src/idas/idas_nls_sim.c -o stan/lib/stan_math/lib/sundials_6.1.1/src/idas/idas_nls_sim.o\n",
            "g++ -pipe   -pthread -D_REENTRANT  -O3 -I stan/lib/stan_math/lib/sundials_6.1.1/include -I stan/lib/stan_math/lib/sundials_6.1.1/src/sundials -DNO_FPRINTF_OUTPUT     -O3  -c -x c -include stan/lib/stan_math/lib/sundials_6.1.1/include/stan_sundials_printf_override.hpp stan/lib/stan_math/lib/sundials_6.1.1/src/idas/idas_nls_stg.c -o stan/lib/stan_math/lib/sundials_6.1.1/src/idas/idas_nls_stg.o\n",
            "g++ -pipe   -pthread -D_REENTRANT  -O3 -I stan/lib/stan_math/lib/sundials_6.1.1/include -I stan/lib/stan_math/lib/sundials_6.1.1/src/sundials -DNO_FPRINTF_OUTPUT     -O3  -c -x c -include stan/lib/stan_math/lib/sundials_6.1.1/include/stan_sundials_printf_override.hpp stan/lib/stan_math/lib/sundials_6.1.1/src/idas/idas_spils.c -o stan/lib/stan_math/lib/sundials_6.1.1/src/idas/idas_spils.o\n",
            "g++ -pipe   -pthread -D_REENTRANT  -O3 -I stan/lib/stan_math/lib/sundials_6.1.1/include -I stan/lib/stan_math/lib/sundials_6.1.1/src/sundials -DNO_FPRINTF_OUTPUT     -O3  -c -x c -include stan/lib/stan_math/lib/sundials_6.1.1/include/stan_sundials_printf_override.hpp stan/lib/stan_math/lib/sundials_6.1.1/src/kinsol/kinsol_bbdpre.c -o stan/lib/stan_math/lib/sundials_6.1.1/src/kinsol/kinsol_bbdpre.o\n",
            "g++ -pipe   -pthread -D_REENTRANT  -O3 -I stan/lib/stan_math/lib/sundials_6.1.1/include -I stan/lib/stan_math/lib/sundials_6.1.1/src/sundials -DNO_FPRINTF_OUTPUT     -O3  -c -x c -include stan/lib/stan_math/lib/sundials_6.1.1/include/stan_sundials_printf_override.hpp stan/lib/stan_math/lib/sundials_6.1.1/src/kinsol/kinsol.c -o stan/lib/stan_math/lib/sundials_6.1.1/src/kinsol/kinsol.o\n",
            "g++ -pipe   -pthread -D_REENTRANT  -O3 -I stan/lib/stan_math/lib/sundials_6.1.1/include -I stan/lib/stan_math/lib/sundials_6.1.1/src/sundials -DNO_FPRINTF_OUTPUT     -O3  -c -x c -include stan/lib/stan_math/lib/sundials_6.1.1/include/stan_sundials_printf_override.hpp stan/lib/stan_math/lib/sundials_6.1.1/src/kinsol/kinsol_direct.c -o stan/lib/stan_math/lib/sundials_6.1.1/src/kinsol/kinsol_direct.o\n",
            "g++ -pipe   -pthread -D_REENTRANT  -O3 -I stan/lib/stan_math/lib/sundials_6.1.1/include -I stan/lib/stan_math/lib/sundials_6.1.1/src/sundials -DNO_FPRINTF_OUTPUT     -O3  -c -x c -include stan/lib/stan_math/lib/sundials_6.1.1/include/stan_sundials_printf_override.hpp stan/lib/stan_math/lib/sundials_6.1.1/src/kinsol/kinsol_io.c -o stan/lib/stan_math/lib/sundials_6.1.1/src/kinsol/kinsol_io.o\n",
            "g++ -pipe   -pthread -D_REENTRANT  -O3 -I stan/lib/stan_math/lib/sundials_6.1.1/include -I stan/lib/stan_math/lib/sundials_6.1.1/src/sundials -DNO_FPRINTF_OUTPUT     -O3  -c -x c -include stan/lib/stan_math/lib/sundials_6.1.1/include/stan_sundials_printf_override.hpp stan/lib/stan_math/lib/sundials_6.1.1/src/kinsol/kinsol_ls.c -o stan/lib/stan_math/lib/sundials_6.1.1/src/kinsol/kinsol_ls.o\n",
            "g++ -pipe   -pthread -D_REENTRANT  -O3 -I stan/lib/stan_math/lib/sundials_6.1.1/include -I stan/lib/stan_math/lib/sundials_6.1.1/src/sundials -DNO_FPRINTF_OUTPUT     -O3  -c -x c -include stan/lib/stan_math/lib/sundials_6.1.1/include/stan_sundials_printf_override.hpp stan/lib/stan_math/lib/sundials_6.1.1/src/kinsol/kinsol_spils.c -o stan/lib/stan_math/lib/sundials_6.1.1/src/kinsol/kinsol_spils.o\n",
            "touch stan/lib/stan_math/lib/tbb/tbb-make-check\n",
            "\n",
            "--- Compiling the main object file. This might take up to a minute. ---\n",
            "g++ -Wno-deprecated-declarations -std=c++1y -pthread -D_REENTRANT -Wno-sign-compare -Wno-ignored-attributes      -I stan/lib/stan_math/lib/tbb_2020.3/include    -O3 -I src -I stan/src -I stan/lib/rapidjson_1.1.0/ -I lib/CLI11-1.9.1/ -I stan/lib/stan_math/ -I stan/lib/stan_math/lib/eigen_3.4.0 -I stan/lib/stan_math/lib/boost_1.81.0 -I stan/lib/stan_math/lib/sundials_6.1.1/include -I stan/lib/stan_math/lib/sundials_6.1.1/src/sundials    -DBOOST_DISABLE_ASSERTS          -c -o src/cmdstan/main.o src/cmdstan/main.cpp\n",
            "\n",
            "--- Compiling pre-compiled header. This might take a few seconds. ---\n",
            "g++ -Wno-deprecated-declarations -std=c++1y -pthread -D_REENTRANT -Wno-sign-compare -Wno-ignored-attributes      -I stan/lib/stan_math/lib/tbb_2020.3/include    -O3 -I src -I stan/src -I stan/lib/rapidjson_1.1.0/ -I lib/CLI11-1.9.1/ -I stan/lib/stan_math/ -I stan/lib/stan_math/lib/eigen_3.4.0 -I stan/lib/stan_math/lib/boost_1.81.0 -I stan/lib/stan_math/lib/sundials_6.1.1/include -I stan/lib/stan_math/lib/sundials_6.1.1/src/sundials    -DBOOST_DISABLE_ASSERTS          -c stan/src/stan/model/model_header.hpp -o stan/src/stan/model/model_header_11_4.hpp.gch\n",
            "g++ -Wno-deprecated-declarations -std=c++1y -pthread -D_REENTRANT -Wno-sign-compare -Wno-ignored-attributes      -I stan/lib/stan_math/lib/tbb_2020.3/include    -O3 -I src -I stan/src -I stan/lib/rapidjson_1.1.0/ -I lib/CLI11-1.9.1/ -I stan/lib/stan_math/ -I stan/lib/stan_math/lib/eigen_3.4.0 -I stan/lib/stan_math/lib/boost_1.81.0 -I stan/lib/stan_math/lib/sundials_6.1.1/include -I stan/lib/stan_math/lib/sundials_6.1.1/src/sundials    -DBOOST_DISABLE_ASSERTS          -c -fvisibility=hidden src/cmdstan/stansummary.cpp -o bin/cmdstan/stansummary.o\n",
            "g++ -Wno-deprecated-declarations -std=c++1y -pthread -D_REENTRANT -Wno-sign-compare -Wno-ignored-attributes      -I stan/lib/stan_math/lib/tbb_2020.3/include    -O3 -I src -I stan/src -I stan/lib/rapidjson_1.1.0/ -I lib/CLI11-1.9.1/ -I stan/lib/stan_math/ -I stan/lib/stan_math/lib/eigen_3.4.0 -I stan/lib/stan_math/lib/boost_1.81.0 -I stan/lib/stan_math/lib/sundials_6.1.1/include -I stan/lib/stan_math/lib/sundials_6.1.1/src/sundials    -DBOOST_DISABLE_ASSERTS          -c -fvisibility=hidden src/cmdstan/print.cpp -o bin/cmdstan/print.o\n",
            "g++ -Wno-deprecated-declarations -std=c++1y -pthread -D_REENTRANT -Wno-sign-compare -Wno-ignored-attributes      -I stan/lib/stan_math/lib/tbb_2020.3/include    -O3 -I src -I stan/src -I stan/lib/rapidjson_1.1.0/ -I lib/CLI11-1.9.1/ -I stan/lib/stan_math/ -I stan/lib/stan_math/lib/eigen_3.4.0 -I stan/lib/stan_math/lib/boost_1.81.0 -I stan/lib/stan_math/lib/sundials_6.1.1/include -I stan/lib/stan_math/lib/sundials_6.1.1/src/sundials    -DBOOST_DISABLE_ASSERTS          -c -fvisibility=hidden src/cmdstan/diagnose.cpp -o bin/cmdstan/diagnose.o\n",
            "ar -rs stan/lib/stan_math/lib/sundials_6.1.1/lib/libsundials_nvecserial.a stan/lib/stan_math/lib/sundials_6.1.1/src/nvector/serial/nvector_serial.o stan/lib/stan_math/lib/sundials_6.1.1/src/sundials/sundials_math.o\n",
            "\u001b[31mar: \u001b[39m\u001b[31mcreating stan/lib/stan_math/lib/sundials_6.1.1/lib/libsundials_nvecserial.a\n",
            "\u001b[39mar -rs stan/lib/stan_math/lib/sundials_6.1.1/lib/libsundials_cvodes.a stan/lib/stan_math/lib/sundials_6.1.1/src/cvodes/cvodea.o stan/lib/stan_math/lib/sundials_6.1.1/src/cvodes/cvodea_io.o stan/lib/stan_math/lib/sundials_6.1.1/src/cvodes/cvodes_bandpre.o stan/lib/stan_math/lib/sundials_6.1.1/src/cvodes/cvodes_bbdpre.o stan/lib/stan_math/lib/sundials_6.1.1/src/cvodes/cvodes.o stan/lib/stan_math/lib/sundials_6.1.1/src/cvodes/cvodes_diag.o stan/lib/stan_math/lib/sundials_6.1.1/src/cvodes/cvodes_direct.o stan/lib/stan_math/lib/sundials_6.1.1/src/cvodes/cvodes_io.o stan/lib/stan_math/lib/sundials_6.1.1/src/cvodes/cvodes_ls.o stan/lib/stan_math/lib/sundials_6.1.1/src/cvodes/cvodes_nls.o stan/lib/stan_math/lib/sundials_6.1.1/src/cvodes/cvodes_nls_sim.o stan/lib/stan_math/lib/sundials_6.1.1/src/cvodes/cvodes_nls_stg1.o stan/lib/stan_math/lib/sundials_6.1.1/src/cvodes/cvodes_nls_stg.o stan/lib/stan_math/lib/sundials_6.1.1/src/cvodes/cvodes_spils.o stan/lib/stan_math/lib/sundials_6.1.1/src/sundials/sundials_band.o stan/lib/stan_math/lib/sundials_6.1.1/src/sundials/sundials_context.o stan/lib/stan_math/lib/sundials_6.1.1/src/sundials/sundials_dense.o stan/lib/stan_math/lib/sundials_6.1.1/src/sundials/sundials_direct.o stan/lib/stan_math/lib/sundials_6.1.1/src/sundials/sundials_futils.o stan/lib/stan_math/lib/sundials_6.1.1/src/sundials/sundials_iterative.o stan/lib/stan_math/lib/sundials_6.1.1/src/sundials/sundials_linearsolver.o stan/lib/stan_math/lib/sundials_6.1.1/src/sundials/sundials_math.o stan/lib/stan_math/lib/sundials_6.1.1/src/sundials/sundials_matrix.o stan/lib/stan_math/lib/sundials_6.1.1/src/sundials/sundials_memory.o stan/lib/stan_math/lib/sundials_6.1.1/src/sundials/sundials_nonlinearsolver.o stan/lib/stan_math/lib/sundials_6.1.1/src/sundials/sundials_nvector.o stan/lib/stan_math/lib/sundials_6.1.1/src/sundials/sundials_nvector_senswrapper.o stan/lib/stan_math/lib/sundials_6.1.1/src/sundials/sundials_version.o stan/lib/stan_math/lib/sundials_6.1.1/src/sunmatrix/band/sunmatrix_band.o stan/lib/stan_math/lib/sundials_6.1.1/src/sunmatrix/dense/sunmatrix_dense.o stan/lib/stan_math/lib/sundials_6.1.1/src/sunlinsol/band/sunlinsol_band.o stan/lib/stan_math/lib/sundials_6.1.1/src/sunlinsol/dense/sunlinsol_dense.o stan/lib/stan_math/lib/sundials_6.1.1/src/sunnonlinsol/newton/sunnonlinsol_newton.o stan/lib/stan_math/lib/sundials_6.1.1/src/sunnonlinsol/fixedpoint/sunnonlinsol_fixedpoint.o\n",
            "\u001b[31mar: creating stan/lib/stan_math/lib/sundials_6.1.1/lib/libsundials_cvodes.a\n",
            "\u001b[39mar -rs stan/lib/stan_math/lib/sundials_6.1.1/lib/libsundials_idas.a stan/lib/stan_math/lib/sundials_6.1.1/src/idas/idaa.o stan/lib/stan_math/lib/sundials_6.1.1/src/idas/idaa_io.o stan/lib/stan_math/lib/sundials_6.1.1/src/idas/idas_bbdpre.o stan/lib/stan_math/lib/sundials_6.1.1/src/idas/idas.o stan/lib/stan_math/lib/sundials_6.1.1/src/idas/idas_direct.o stan/lib/stan_math/lib/sundials_6.1.1/src/idas/idas_ic.o stan/lib/stan_math/lib/sundials_6.1.1/src/idas/idas_io.o stan/lib/stan_math/lib/sundials_6.1.1/src/idas/idas_ls.o stan/lib/stan_math/lib/sundials_6.1.1/src/idas/idas_nls.o stan/lib/stan_math/lib/sundials_6.1.1/src/idas/idas_nls_sim.o stan/lib/stan_math/lib/sundials_6.1.1/src/idas/idas_nls_stg.o stan/lib/stan_math/lib/sundials_6.1.1/src/idas/idas_spils.o stan/lib/stan_math/lib/sundials_6.1.1/src/sundials/sundials_band.o stan/lib/stan_math/lib/sundials_6.1.1/src/sundials/sundials_context.o stan/lib/stan_math/lib/sundials_6.1.1/src/sundials/sundials_dense.o stan/lib/stan_math/lib/sundials_6.1.1/src/sundials/sundials_direct.o stan/lib/stan_math/lib/sundials_6.1.1/src/sundials/sundials_futils.o stan/lib/stan_math/lib/sundials_6.1.1/src/sundials/sundials_iterative.o stan/lib/stan_math/lib/sundials_6.1.1/src/sundials/sundials_linearsolver.o stan/lib/stan_math/lib/sundials_6.1.1/src/sundials/sundials_math.o stan/lib/stan_math/lib/sundials_6.1.1/src/sundials/sundials_matrix.o stan/lib/stan_math/lib/sundials_6.1.1/src/sundials/sundials_memory.o stan/lib/stan_math/lib/sundials_6.1.1/src/sundials/sundials_nonlinearsolver.o stan/lib/stan_math/lib/sundials_6.1.1/src/sundials/sundials_nvector.o stan/lib/stan_math/lib/sundials_6.1.1/src/sundials/sundials_nvector_senswrapper.o stan/lib/stan_math/lib/sundials_6.1.1/src/sundials/sundials_version.o stan/lib/stan_math/lib/sundials_6.1.1/src/sunmatrix/band/sunmatrix_band.o stan/lib/stan_math/lib/sundials_6.1.1/src/sunmatrix/dense/sunmatrix_dense.o stan/lib/stan_math/lib/sundials_6.1.1/src/sunlinsol/band/sunlinsol_band.o stan/lib/stan_math/lib/sundials_6.1.1/src/sunlinsol/dense/sunlinsol_dense.o stan/lib/stan_math/lib/sundials_6.1.1/src/sunnonlinsol/newton/sunnonlinsol_newton.o stan/lib/stan_math/lib/sundials_6.1.1/src/sunnonlinsol/fixedpoint/sunnonlinsol_fixedpoint.o\n",
            "\u001b[31mar: \u001b[39m\u001b[31mcreating stan/lib/stan_math/lib/sundials_6.1.1/lib/libsundials_idas.a\n",
            "\u001b[39mar -rs stan/lib/stan_math/lib/sundials_6.1.1/lib/libsundials_kinsol.a stan/lib/stan_math/lib/sundials_6.1.1/src/kinsol/kinsol_bbdpre.o stan/lib/stan_math/lib/sundials_6.1.1/src/kinsol/kinsol.o stan/lib/stan_math/lib/sundials_6.1.1/src/kinsol/kinsol_direct.o stan/lib/stan_math/lib/sundials_6.1.1/src/kinsol/kinsol_io.o stan/lib/stan_math/lib/sundials_6.1.1/src/kinsol/kinsol_ls.o stan/lib/stan_math/lib/sundials_6.1.1/src/kinsol/kinsol_spils.o stan/lib/stan_math/lib/sundials_6.1.1/src/sundials/sundials_band.o stan/lib/stan_math/lib/sundials_6.1.1/src/sundials/sundials_context.o stan/lib/stan_math/lib/sundials_6.1.1/src/sundials/sundials_dense.o stan/lib/stan_math/lib/sundials_6.1.1/src/sundials/sundials_direct.o stan/lib/stan_math/lib/sundials_6.1.1/src/sundials/sundials_futils.o stan/lib/stan_math/lib/sundials_6.1.1/src/sundials/sundials_iterative.o stan/lib/stan_math/lib/sundials_6.1.1/src/sundials/sundials_linearsolver.o stan/lib/stan_math/lib/sundials_6.1.1/src/sundials/sundials_math.o stan/lib/stan_math/lib/sundials_6.1.1/src/sundials/sundials_matrix.o stan/lib/stan_math/lib/sundials_6.1.1/src/sundials/sundials_memory.o stan/lib/stan_math/lib/sundials_6.1.1/src/sundials/sundials_nonlinearsolver.o stan/lib/stan_math/lib/sundials_6.1.1/src/sundials/sundials_nvector.o stan/lib/stan_math/lib/sundials_6.1.1/src/sundials/sundials_nvector_senswrapper.o stan/lib/stan_math/lib/sundials_6.1.1/src/sundials/sundials_version.o stan/lib/stan_math/lib/sundials_6.1.1/src/sunmatrix/band/sunmatrix_band.o stan/lib/stan_math/lib/sundials_6.1.1/src/sunmatrix/dense/sunmatrix_dense.o stan/lib/stan_math/lib/sundials_6.1.1/src/sunlinsol/band/sunlinsol_band.o stan/lib/stan_math/lib/sundials_6.1.1/src/sunlinsol/dense/sunlinsol_dense.o stan/lib/stan_math/lib/sundials_6.1.1/src/sunnonlinsol/newton/sunnonlinsol_newton.o stan/lib/stan_math/lib/sundials_6.1.1/src/sunnonlinsol/fixedpoint/sunnonlinsol_fixedpoint.o\n",
            "\u001b[31mar: \u001b[39m\u001b[31mcreating stan/lib/stan_math/lib/sundials_6.1.1/lib/libsundials_kinsol.a\u001b[39m\u001b[31m\n",
            "\u001b[39mtouch stan/lib/stan_math/lib/tbb/version_tbb_2020.3\n",
            "tbb_root=\"../tbb_2020.3\" CXX=\"g++\" CC=\"gcc\" LDFLAGS='-Wl,-L,\"/root/.cmdstan/cmdstan-2.34.1/stan/lib/stan_math/lib/tbb\" -Wl,-rpath,\"/root/.cmdstan/cmdstan-2.34.1/stan/lib/stan_math/lib/tbb\"  ' 'make' -C \"stan/lib/stan_math/lib/tbb\" -r -f \"/root/.cmdstan/cmdstan-2.34.1/stan/lib/stan_math/lib/tbb_2020.3/build/Makefile.tbb\" compiler=gcc cfg=release stdver=c++1y  CXXFLAGS=\"-Wno-unknown-warning-option -Wno-deprecated-copy -Wno-missing-attributes -Wno-class-memaccess -Wno-sized-deallocation  \"\n",
            "make[1]: Entering directory '/root/.cmdstan/cmdstan-2.34.1/stan/lib/stan_math/lib/tbb'\n",
            "\u001b[31m/root/.cmdstan/cmdstan-2.34.1/stan/lib/stan_math/lib/tbb_2020.3/build/Makefile.tbb:28: CONFIG: cfg=release arch=intel64 compiler=gcc target=linux runtime=cc11.4.0_libc2.35_kernel6.1.58+\n",
            "\u001b[39mg++ -o concurrent_hash_map.o -c -MMD -O2 -g -DDO_ITT_NOTIFY -DUSE_PTHREAD -pthread -m64 -mrtm  -fPIC -flifetime-dse=1 -D__TBB_BUILD=1 -Wall -Wextra -Wno-parentheses -Wno-sized-deallocation -Wno-unknown-warning-option -Wno-deprecated-copy -Wno-missing-attributes -Wno-class-memaccess -Wno-sized-deallocation   -DTBB_SUPPRESS_DEPRECATED_MESSAGES=1 -std=c++1y  -I../tbb_2020.3/src -I../tbb_2020.3/src/rml/include -I../tbb_2020.3/include ../tbb_2020.3/src/tbb/concurrent_hash_map.cpp\n",
            "g++ -o concurrent_queue.o -c -MMD -O2 -g -DDO_ITT_NOTIFY -DUSE_PTHREAD -pthread -m64 -mrtm  -fPIC -flifetime-dse=1 -D__TBB_BUILD=1 -Wall -Wextra -Wno-parentheses -Wno-sized-deallocation -Wno-unknown-warning-option -Wno-deprecated-copy -Wno-missing-attributes -Wno-class-memaccess -Wno-sized-deallocation   -DTBB_SUPPRESS_DEPRECATED_MESSAGES=1 -std=c++1y  -I../tbb_2020.3/src -I../tbb_2020.3/src/rml/include -I../tbb_2020.3/include ../tbb_2020.3/src/tbb/concurrent_queue.cpp\n",
            "g++ -o concurrent_vector.o -c -MMD -O2 -g -DDO_ITT_NOTIFY -DUSE_PTHREAD -pthread -m64 -mrtm  -fPIC -flifetime-dse=1 -D__TBB_BUILD=1 -Wall -Wextra -Wno-parentheses -Wno-sized-deallocation -Wno-unknown-warning-option -Wno-deprecated-copy -Wno-missing-attributes -Wno-class-memaccess -Wno-sized-deallocation   -DTBB_SUPPRESS_DEPRECATED_MESSAGES=1 -std=c++1y  -I../tbb_2020.3/src -I../tbb_2020.3/src/rml/include -I../tbb_2020.3/include ../tbb_2020.3/src/tbb/concurrent_vector.cpp\n",
            "g++ -o dynamic_link.o -c -MMD -O2 -g -DDO_ITT_NOTIFY -DUSE_PTHREAD -pthread -m64 -mrtm  -fPIC -flifetime-dse=1 -D__TBB_BUILD=1 -Wall -Wextra -Wno-parentheses -Wno-sized-deallocation -Wno-unknown-warning-option -Wno-deprecated-copy -Wno-missing-attributes -Wno-class-memaccess -Wno-sized-deallocation   -DTBB_SUPPRESS_DEPRECATED_MESSAGES=1 -std=c++1y  -I../tbb_2020.3/src -I../tbb_2020.3/src/rml/include -I../tbb_2020.3/include ../tbb_2020.3/src/tbb/dynamic_link.cpp\n",
            "g++ -o itt_notify.o -c -MMD -O2 -g -DDO_ITT_NOTIFY -DUSE_PTHREAD -pthread -m64 -mrtm  -fPIC -flifetime-dse=1 -D__TBB_BUILD=1 -Wall -Wextra -Wno-parentheses -Wno-sized-deallocation -Wno-unknown-warning-option -Wno-deprecated-copy -Wno-missing-attributes -Wno-class-memaccess -Wno-sized-deallocation   -DTBB_SUPPRESS_DEPRECATED_MESSAGES=1 -std=c++1y  -I../tbb_2020.3/src -I../tbb_2020.3/src/rml/include -I../tbb_2020.3/include ../tbb_2020.3/src/tbb/itt_notify.cpp\n",
            "g++ -o cache_aligned_allocator.o -c -MMD -O2 -g -DDO_ITT_NOTIFY -DUSE_PTHREAD -pthread -m64 -mrtm  -fPIC -flifetime-dse=1 -D__TBB_BUILD=1 -Wall -Wextra -Wno-parentheses -Wno-sized-deallocation -Wno-unknown-warning-option -Wno-deprecated-copy -Wno-missing-attributes -Wno-class-memaccess -Wno-sized-deallocation   -DTBB_SUPPRESS_DEPRECATED_MESSAGES=1 -std=c++1y  -I../tbb_2020.3/src -I../tbb_2020.3/src/rml/include -I../tbb_2020.3/include ../tbb_2020.3/src/tbb/cache_aligned_allocator.cpp\n",
            "g++ -o pipeline.o -c -MMD -O2 -g -DDO_ITT_NOTIFY -DUSE_PTHREAD -pthread -m64 -mrtm  -fPIC -flifetime-dse=1 -D__TBB_BUILD=1 -Wall -Wextra -Wno-parentheses -Wno-sized-deallocation -Wno-unknown-warning-option -Wno-deprecated-copy -Wno-missing-attributes -Wno-class-memaccess -Wno-sized-deallocation   -DTBB_SUPPRESS_DEPRECATED_MESSAGES=1 -std=c++1y  -I../tbb_2020.3/src -I../tbb_2020.3/src/rml/include -I../tbb_2020.3/include ../tbb_2020.3/src/tbb/pipeline.cpp\n",
            "g++ -o queuing_mutex.o -c -MMD -O2 -g -DDO_ITT_NOTIFY -DUSE_PTHREAD -pthread -m64 -mrtm  -fPIC -flifetime-dse=1 -D__TBB_BUILD=1 -Wall -Wextra -Wno-parentheses -Wno-sized-deallocation -Wno-unknown-warning-option -Wno-deprecated-copy -Wno-missing-attributes -Wno-class-memaccess -Wno-sized-deallocation   -DTBB_SUPPRESS_DEPRECATED_MESSAGES=1 -std=c++1y  -I../tbb_2020.3/src -I../tbb_2020.3/src/rml/include -I../tbb_2020.3/include ../tbb_2020.3/src/tbb/queuing_mutex.cpp\n",
            "g++ -o queuing_rw_mutex.o -c -MMD -O2 -g -DDO_ITT_NOTIFY -DUSE_PTHREAD -pthread -m64 -mrtm  -fPIC -flifetime-dse=1 -D__TBB_BUILD=1 -Wall -Wextra -Wno-parentheses -Wno-sized-deallocation -Wno-unknown-warning-option -Wno-deprecated-copy -Wno-missing-attributes -Wno-class-memaccess -Wno-sized-deallocation   -DTBB_SUPPRESS_DEPRECATED_MESSAGES=1 -std=c++1y  -I../tbb_2020.3/src -I../tbb_2020.3/src/rml/include -I../tbb_2020.3/include ../tbb_2020.3/src/tbb/queuing_rw_mutex.cpp\n",
            "g++ -o reader_writer_lock.o -c -MMD -O2 -g -DDO_ITT_NOTIFY -DUSE_PTHREAD -pthread -m64 -mrtm  -fPIC -flifetime-dse=1 -D__TBB_BUILD=1 -Wall -Wextra -Wno-parentheses -Wno-sized-deallocation -Wno-unknown-warning-option -Wno-deprecated-copy -Wno-missing-attributes -Wno-class-memaccess -Wno-sized-deallocation   -DTBB_SUPPRESS_DEPRECATED_MESSAGES=1 -std=c++1y  -I../tbb_2020.3/src -I../tbb_2020.3/src/rml/include -I../tbb_2020.3/include ../tbb_2020.3/src/tbb/reader_writer_lock.cpp\n",
            "g++ -o spin_rw_mutex.o -c -MMD -O2 -g -DDO_ITT_NOTIFY -DUSE_PTHREAD -pthread -m64 -mrtm  -fPIC -flifetime-dse=1 -D__TBB_BUILD=1 -Wall -Wextra -Wno-parentheses -Wno-sized-deallocation -Wno-unknown-warning-option -Wno-deprecated-copy -Wno-missing-attributes -Wno-class-memaccess -Wno-sized-deallocation   -DTBB_SUPPRESS_DEPRECATED_MESSAGES=1 -std=c++1y  -I../tbb_2020.3/src -I../tbb_2020.3/src/rml/include -I../tbb_2020.3/include ../tbb_2020.3/src/tbb/spin_rw_mutex.cpp\n",
            "g++ -o x86_rtm_rw_mutex.o -c -MMD -O2 -g -DDO_ITT_NOTIFY -DUSE_PTHREAD -pthread -m64 -mrtm  -fPIC -flifetime-dse=1 -D__TBB_BUILD=1 -Wall -Wextra -Wno-parentheses -Wno-sized-deallocation -Wno-unknown-warning-option -Wno-deprecated-copy -Wno-missing-attributes -Wno-class-memaccess -Wno-sized-deallocation   -DTBB_SUPPRESS_DEPRECATED_MESSAGES=1 -std=c++1y  -I../tbb_2020.3/src -I../tbb_2020.3/src/rml/include -I../tbb_2020.3/include ../tbb_2020.3/src/tbb/x86_rtm_rw_mutex.cpp\n",
            "g++ -o spin_mutex.o -c -MMD -O2 -g -DDO_ITT_NOTIFY -DUSE_PTHREAD -pthread -m64 -mrtm  -fPIC -flifetime-dse=1 -D__TBB_BUILD=1 -Wall -Wextra -Wno-parentheses -Wno-sized-deallocation -Wno-unknown-warning-option -Wno-deprecated-copy -Wno-missing-attributes -Wno-class-memaccess -Wno-sized-deallocation   -DTBB_SUPPRESS_DEPRECATED_MESSAGES=1 -std=c++1y  -I../tbb_2020.3/src -I../tbb_2020.3/src/rml/include -I../tbb_2020.3/include ../tbb_2020.3/src/tbb/spin_mutex.cpp\n",
            "g++ -o critical_section.o -c -MMD -O2 -g -DDO_ITT_NOTIFY -DUSE_PTHREAD -pthread -m64 -mrtm  -fPIC -flifetime-dse=1 -D__TBB_BUILD=1 -Wall -Wextra -Wno-parentheses -Wno-sized-deallocation -Wno-unknown-warning-option -Wno-deprecated-copy -Wno-missing-attributes -Wno-class-memaccess -Wno-sized-deallocation   -DTBB_SUPPRESS_DEPRECATED_MESSAGES=1 -std=c++1y  -I../tbb_2020.3/src -I../tbb_2020.3/src/rml/include -I../tbb_2020.3/include ../tbb_2020.3/src/tbb/critical_section.cpp\n",
            "g++ -o mutex.o -c -MMD -O2 -g -DDO_ITT_NOTIFY -DUSE_PTHREAD -pthread -m64 -mrtm  -fPIC -flifetime-dse=1 -D__TBB_BUILD=1 -Wall -Wextra -Wno-parentheses -Wno-sized-deallocation -Wno-unknown-warning-option -Wno-deprecated-copy -Wno-missing-attributes -Wno-class-memaccess -Wno-sized-deallocation   -DTBB_SUPPRESS_DEPRECATED_MESSAGES=1 -std=c++1y  -I../tbb_2020.3/src -I../tbb_2020.3/src/rml/include -I../tbb_2020.3/include ../tbb_2020.3/src/tbb/mutex.cpp\n",
            "g++ -o recursive_mutex.o -c -MMD -O2 -g -DDO_ITT_NOTIFY -DUSE_PTHREAD -pthread -m64 -mrtm  -fPIC -flifetime-dse=1 -D__TBB_BUILD=1 -Wall -Wextra -Wno-parentheses -Wno-sized-deallocation -Wno-unknown-warning-option -Wno-deprecated-copy -Wno-missing-attributes -Wno-class-memaccess -Wno-sized-deallocation   -DTBB_SUPPRESS_DEPRECATED_MESSAGES=1 -std=c++1y  -I../tbb_2020.3/src -I../tbb_2020.3/src/rml/include -I../tbb_2020.3/include ../tbb_2020.3/src/tbb/recursive_mutex.cpp\n",
            "g++ -o condition_variable.o -c -MMD -O2 -g -DDO_ITT_NOTIFY -DUSE_PTHREAD -pthread -m64 -mrtm  -fPIC -flifetime-dse=1 -D__TBB_BUILD=1 -Wall -Wextra -Wno-parentheses -Wno-sized-deallocation -Wno-unknown-warning-option -Wno-deprecated-copy -Wno-missing-attributes -Wno-class-memaccess -Wno-sized-deallocation   -DTBB_SUPPRESS_DEPRECATED_MESSAGES=1 -std=c++1y  -I../tbb_2020.3/src -I../tbb_2020.3/src/rml/include -I../tbb_2020.3/include ../tbb_2020.3/src/tbb/condition_variable.cpp\n",
            "g++ -o tbb_thread.o -c -MMD -O2 -g -DDO_ITT_NOTIFY -DUSE_PTHREAD -pthread -m64 -mrtm  -fPIC -flifetime-dse=1 -D__TBB_BUILD=1 -Wall -Wextra -Wno-parentheses -Wno-sized-deallocation -Wno-unknown-warning-option -Wno-deprecated-copy -Wno-missing-attributes -Wno-class-memaccess -Wno-sized-deallocation   -DTBB_SUPPRESS_DEPRECATED_MESSAGES=1 -std=c++1y  -I../tbb_2020.3/src -I../tbb_2020.3/src/rml/include -I../tbb_2020.3/include ../tbb_2020.3/src/tbb/tbb_thread.cpp\n",
            "g++ -o concurrent_monitor.o -c -MMD -O2 -g -DDO_ITT_NOTIFY -DUSE_PTHREAD -pthread -m64 -mrtm  -fPIC -flifetime-dse=1 -D__TBB_BUILD=1 -Wall -Wextra -Wno-parentheses -Wno-sized-deallocation -Wno-unknown-warning-option -Wno-deprecated-copy -Wno-missing-attributes -Wno-class-memaccess -Wno-sized-deallocation   -DTBB_SUPPRESS_DEPRECATED_MESSAGES=1 -std=c++1y  -I../tbb_2020.3/src -I../tbb_2020.3/src/rml/include -I../tbb_2020.3/include ../tbb_2020.3/src/tbb/concurrent_monitor.cpp\n",
            "g++ -o semaphore.o -c -MMD -O2 -g -DDO_ITT_NOTIFY -DUSE_PTHREAD -pthread -m64 -mrtm  -fPIC -flifetime-dse=1 -D__TBB_BUILD=1 -Wall -Wextra -Wno-parentheses -Wno-sized-deallocation -Wno-unknown-warning-option -Wno-deprecated-copy -Wno-missing-attributes -Wno-class-memaccess -Wno-sized-deallocation   -DTBB_SUPPRESS_DEPRECATED_MESSAGES=1 -std=c++1y  -I../tbb_2020.3/src -I../tbb_2020.3/src/rml/include -I../tbb_2020.3/include ../tbb_2020.3/src/tbb/semaphore.cpp\n",
            "g++ -o private_server.o -c -MMD -O2 -g -DDO_ITT_NOTIFY -DUSE_PTHREAD -pthread -m64 -mrtm  -fPIC -flifetime-dse=1 -D__TBB_BUILD=1 -Wall -Wextra -Wno-parentheses -Wno-sized-deallocation -Wno-unknown-warning-option -Wno-deprecated-copy -Wno-missing-attributes -Wno-class-memaccess -Wno-sized-deallocation   -DTBB_SUPPRESS_DEPRECATED_MESSAGES=1 -std=c++1y  -I../tbb_2020.3/src -I../tbb_2020.3/src/rml/include -I../tbb_2020.3/include ../tbb_2020.3/src/tbb/private_server.cpp\n",
            "g++ -o rml_tbb.o -c -MMD -O2 -g -DDO_ITT_NOTIFY -DUSE_PTHREAD -pthread -m64 -mrtm  -fPIC -flifetime-dse=1 -D__TBB_BUILD=1 -Wall -Wextra -Wno-parentheses -Wno-sized-deallocation -Wno-unknown-warning-option -Wno-deprecated-copy -Wno-missing-attributes -Wno-class-memaccess -Wno-sized-deallocation   -DTBB_SUPPRESS_DEPRECATED_MESSAGES=1 -std=c++1y  -I../tbb_2020.3/src -I../tbb_2020.3/src/rml/include -I../tbb_2020.3/include ../tbb_2020.3/src/rml/client/rml_tbb.cpp\n",
            "sh ../tbb_2020.3/build/version_info_linux.sh g++ -O2 -g -DDO_ITT_NOTIFY -DUSE_PTHREAD -pthread -m64 -mrtm  -fPIC -flifetime-dse=1 -D__TBB_BUILD=1 -Wall -Wextra -Wno-parentheses -Wno-sized-deallocation -Wno-unknown-warning-option -Wno-deprecated-copy -Wno-missing-attributes -Wno-class-memaccess -Wno-sized-deallocation   -DTBB_SUPPRESS_DEPRECATED_MESSAGES=1 -std=c++1y -I../tbb_2020.3/src -I../tbb_2020.3/src/rml/include -I../tbb_2020.3/include -I. >version_string.ver\n",
            "g++ -o tbb_misc_ex.o -c -MMD -O2 -g -DDO_ITT_NOTIFY -DUSE_PTHREAD -pthread -m64 -mrtm  -fPIC -flifetime-dse=1 -D__TBB_BUILD=1 -Wall -Wextra -Wno-parentheses -Wno-sized-deallocation -Wno-unknown-warning-option -Wno-deprecated-copy -Wno-missing-attributes -Wno-class-memaccess -Wno-sized-deallocation   -DTBB_SUPPRESS_DEPRECATED_MESSAGES=1 -std=c++1y  -I../tbb_2020.3/src -I../tbb_2020.3/src/rml/include -I../tbb_2020.3/include ../tbb_2020.3/src/tbb/tbb_misc_ex.cpp\n",
            "g++ -o task.o -c -MMD -O2 -g -DDO_ITT_NOTIFY -DUSE_PTHREAD -pthread -m64 -mrtm  -fPIC -flifetime-dse=1 -D__TBB_BUILD=1 -Wall -Wextra -Wno-parentheses -Wno-sized-deallocation -Wno-unknown-warning-option -Wno-deprecated-copy -Wno-missing-attributes -Wno-class-memaccess -Wno-sized-deallocation   -DTBB_SUPPRESS_DEPRECATED_MESSAGES=1 -std=c++1y  -I../tbb_2020.3/src -I../tbb_2020.3/src/rml/include -I../tbb_2020.3/include ../tbb_2020.3/src/tbb/task.cpp\n",
            "g++ -o task_group_context.o -c -MMD -O2 -g -DDO_ITT_NOTIFY -DUSE_PTHREAD -pthread -m64 -mrtm  -fPIC -flifetime-dse=1 -D__TBB_BUILD=1 -Wall -Wextra -Wno-parentheses -Wno-sized-deallocation -Wno-unknown-warning-option -Wno-deprecated-copy -Wno-missing-attributes -Wno-class-memaccess -Wno-sized-deallocation   -DTBB_SUPPRESS_DEPRECATED_MESSAGES=1 -std=c++1y  -I../tbb_2020.3/src -I../tbb_2020.3/src/rml/include -I../tbb_2020.3/include ../tbb_2020.3/src/tbb/task_group_context.cpp\n",
            "g++ -o governor.o -c -MMD -O2 -g -DDO_ITT_NOTIFY -DUSE_PTHREAD -pthread -m64 -mrtm  -fPIC -flifetime-dse=1 -D__TBB_BUILD=1 -Wall -Wextra -Wno-parentheses -Wno-sized-deallocation -Wno-unknown-warning-option -Wno-deprecated-copy -Wno-missing-attributes -Wno-class-memaccess -Wno-sized-deallocation   -DTBB_SUPPRESS_DEPRECATED_MESSAGES=1 -std=c++1y  -I../tbb_2020.3/src -I../tbb_2020.3/src/rml/include -I../tbb_2020.3/include ../tbb_2020.3/src/tbb/governor.cpp\n",
            "g++ -o market.o -c -MMD -O2 -g -DDO_ITT_NOTIFY -DUSE_PTHREAD -pthread -m64 -mrtm  -fPIC -flifetime-dse=1 -D__TBB_BUILD=1 -Wall -Wextra -Wno-parentheses -Wno-sized-deallocation -Wno-unknown-warning-option -Wno-deprecated-copy -Wno-missing-attributes -Wno-class-memaccess -Wno-sized-deallocation   -DTBB_SUPPRESS_DEPRECATED_MESSAGES=1 -std=c++1y  -I../tbb_2020.3/src -I../tbb_2020.3/src/rml/include -I../tbb_2020.3/include ../tbb_2020.3/src/tbb/market.cpp\n",
            "g++ -o arena.o -c -MMD -O2 -g -DDO_ITT_NOTIFY -DUSE_PTHREAD -pthread -m64 -mrtm  -fPIC -flifetime-dse=1 -D__TBB_BUILD=1 -Wall -Wextra -Wno-parentheses -Wno-sized-deallocation -Wno-unknown-warning-option -Wno-deprecated-copy -Wno-missing-attributes -Wno-class-memaccess -Wno-sized-deallocation   -DTBB_SUPPRESS_DEPRECATED_MESSAGES=1 -std=c++1y  -I../tbb_2020.3/src -I../tbb_2020.3/src/rml/include -I../tbb_2020.3/include ../tbb_2020.3/src/tbb/arena.cpp\n",
            "g++ -o scheduler.o -c -MMD -O2 -g -DDO_ITT_NOTIFY -DUSE_PTHREAD -pthread -m64 -mrtm  -fPIC -flifetime-dse=1 -D__TBB_BUILD=1 -Wall -Wextra -Wno-parentheses -Wno-sized-deallocation -Wno-unknown-warning-option -Wno-deprecated-copy -Wno-missing-attributes -Wno-class-memaccess -Wno-sized-deallocation   -DTBB_SUPPRESS_DEPRECATED_MESSAGES=1 -std=c++1y  -I../tbb_2020.3/src -I../tbb_2020.3/src/rml/include -I../tbb_2020.3/include ../tbb_2020.3/src/tbb/scheduler.cpp\n",
            "g++ -o observer_proxy.o -c -MMD -O2 -g -DDO_ITT_NOTIFY -DUSE_PTHREAD -pthread -m64 -mrtm  -fPIC -flifetime-dse=1 -D__TBB_BUILD=1 -Wall -Wextra -Wno-parentheses -Wno-sized-deallocation -Wno-unknown-warning-option -Wno-deprecated-copy -Wno-missing-attributes -Wno-class-memaccess -Wno-sized-deallocation   -DTBB_SUPPRESS_DEPRECATED_MESSAGES=1 -std=c++1y  -I../tbb_2020.3/src -I../tbb_2020.3/src/rml/include -I../tbb_2020.3/include ../tbb_2020.3/src/tbb/observer_proxy.cpp\n",
            "g++ -o tbb_statistics.o -c -MMD -O2 -g -DDO_ITT_NOTIFY -DUSE_PTHREAD -pthread -m64 -mrtm  -fPIC -flifetime-dse=1 -D__TBB_BUILD=1 -Wall -Wextra -Wno-parentheses -Wno-sized-deallocation -Wno-unknown-warning-option -Wno-deprecated-copy -Wno-missing-attributes -Wno-class-memaccess -Wno-sized-deallocation   -DTBB_SUPPRESS_DEPRECATED_MESSAGES=1 -std=c++1y  -I../tbb_2020.3/src -I../tbb_2020.3/src/rml/include -I../tbb_2020.3/include ../tbb_2020.3/src/tbb/tbb_statistics.cpp\n",
            "g++ -o tbb_main.o -c -MMD -O2 -g -DDO_ITT_NOTIFY -DUSE_PTHREAD -pthread -m64 -mrtm  -fPIC -flifetime-dse=1 -D__TBB_BUILD=1 -Wall -Wextra -Wno-parentheses -Wno-sized-deallocation -Wno-unknown-warning-option -Wno-deprecated-copy -Wno-missing-attributes -Wno-class-memaccess -Wno-sized-deallocation   -DTBB_SUPPRESS_DEPRECATED_MESSAGES=1 -std=c++1y  -I../tbb_2020.3/src -I../tbb_2020.3/src/rml/include -I../tbb_2020.3/include ../tbb_2020.3/src/tbb/tbb_main.cpp\n",
            "g++ -o concurrent_vector_v2.o -c -MMD -O2 -g -DDO_ITT_NOTIFY -DUSE_PTHREAD -pthread -m64 -mrtm  -fPIC -flifetime-dse=1 -D__TBB_BUILD=1 -Wall -Wextra -Wno-parentheses -Wno-sized-deallocation -Wno-unknown-warning-option -Wno-deprecated-copy -Wno-missing-attributes -Wno-class-memaccess -Wno-sized-deallocation   -DTBB_SUPPRESS_DEPRECATED_MESSAGES=1 -std=c++1y  -I../tbb_2020.3/src -I../tbb_2020.3/src/rml/include -I../tbb_2020.3/include ../tbb_2020.3/src/old/concurrent_vector_v2.cpp\n",
            "g++ -o concurrent_queue_v2.o -c -MMD -O2 -g -DDO_ITT_NOTIFY -DUSE_PTHREAD -pthread -m64 -mrtm  -fPIC -flifetime-dse=1 -D__TBB_BUILD=1 -Wall -Wextra -Wno-parentheses -Wno-sized-deallocation -Wno-unknown-warning-option -Wno-deprecated-copy -Wno-missing-attributes -Wno-class-memaccess -Wno-sized-deallocation   -DTBB_SUPPRESS_DEPRECATED_MESSAGES=1 -std=c++1y  -I../tbb_2020.3/src -I../tbb_2020.3/src/rml/include -I../tbb_2020.3/include ../tbb_2020.3/src/old/concurrent_queue_v2.cpp\n",
            "g++ -o spin_rw_mutex_v2.o -c -MMD -O2 -g -DDO_ITT_NOTIFY -DUSE_PTHREAD -pthread -m64 -mrtm  -fPIC -flifetime-dse=1 -D__TBB_BUILD=1 -Wall -Wextra -Wno-parentheses -Wno-sized-deallocation -Wno-unknown-warning-option -Wno-deprecated-copy -Wno-missing-attributes -Wno-class-memaccess -Wno-sized-deallocation   -DTBB_SUPPRESS_DEPRECATED_MESSAGES=1 -std=c++1y  -I../tbb_2020.3/src -I../tbb_2020.3/src/rml/include -I../tbb_2020.3/include ../tbb_2020.3/src/old/spin_rw_mutex_v2.cpp\n",
            "g++ -o task_v2.o -c -MMD -O2 -g -DDO_ITT_NOTIFY -DUSE_PTHREAD -pthread -m64 -mrtm  -fPIC -flifetime-dse=1 -D__TBB_BUILD=1 -Wall -Wextra -Wno-parentheses -Wno-sized-deallocation -Wno-unknown-warning-option -Wno-deprecated-copy -Wno-missing-attributes -Wno-class-memaccess -Wno-sized-deallocation   -DTBB_SUPPRESS_DEPRECATED_MESSAGES=1 -std=c++1y  -I../tbb_2020.3/src -I../tbb_2020.3/src/rml/include -I../tbb_2020.3/include ../tbb_2020.3/src/old/task_v2.cpp\n",
            "sh ../tbb_2020.3/build/generate_tbbvars.sh\n",
            "echo \"INPUT (libtbb.so.2)\" > libtbb.so\n",
            "g++ -E -x c++ ../tbb_2020.3/src/tbb/lin64-tbb-export.def -O2 -g -DDO_ITT_NOTIFY -DUSE_PTHREAD -pthread -m64 -mrtm  -fPIC -flifetime-dse=1 -D__TBB_BUILD=1 -Wall -Wextra -Wno-parentheses -Wno-sized-deallocation -Wno-unknown-warning-option -Wno-deprecated-copy -Wno-missing-attributes -Wno-class-memaccess -Wno-sized-deallocation   -DTBB_SUPPRESS_DEPRECATED_MESSAGES=1 -I../tbb_2020.3/src -I../tbb_2020.3/src/rml/include -I../tbb_2020.3/include > tbb.def\n",
            "g++ -o tbb_misc.o -c -MMD -O2 -g -DDO_ITT_NOTIFY -DUSE_PTHREAD -pthread -m64 -mrtm  -fPIC -flifetime-dse=1 -D__TBB_BUILD=1 -Wall -Wextra -Wno-parentheses -Wno-sized-deallocation -Wno-unknown-warning-option -Wno-deprecated-copy -Wno-missing-attributes -Wno-class-memaccess -Wno-sized-deallocation   -DTBB_SUPPRESS_DEPRECATED_MESSAGES=1 -std=c++1y  -I../tbb_2020.3/src -I../tbb_2020.3/src/rml/include -I../tbb_2020.3/include -I. ../tbb_2020.3/src/tbb/tbb_misc.cpp\n",
            "g++ -fPIC -o libtbb.so.2 concurrent_hash_map.o concurrent_queue.o concurrent_vector.o dynamic_link.o itt_notify.o cache_aligned_allocator.o pipeline.o queuing_mutex.o queuing_rw_mutex.o reader_writer_lock.o spin_rw_mutex.o x86_rtm_rw_mutex.o spin_mutex.o critical_section.o mutex.o recursive_mutex.o condition_variable.o tbb_thread.o concurrent_monitor.o semaphore.o private_server.o rml_tbb.o tbb_misc.o tbb_misc_ex.o task.o task_group_context.o governor.o market.o arena.o scheduler.o observer_proxy.o tbb_statistics.o tbb_main.o concurrent_vector_v2.o concurrent_queue_v2.o spin_rw_mutex_v2.o task_v2.o   -ldl -lrt -shared -Wl,-soname=libtbb.so.2 -pthread -m64 -Wl,-L,\"/root/.cmdstan/cmdstan-2.34.1/stan/lib/stan_math/lib/tbb\" -Wl,-rpath,\"/root/.cmdstan/cmdstan-2.34.1/stan/lib/stan_math/lib/tbb\"   -Wl,--version-script,tbb.def\n",
            "make[1]: Leaving directory '/root/.cmdstan/cmdstan-2.34.1/stan/lib/stan_math/lib/tbb'\n",
            "g++ -Wno-deprecated-declarations -std=c++1y -pthread -D_REENTRANT -Wno-sign-compare -Wno-ignored-attributes      -I stan/lib/stan_math/lib/tbb_2020.3/include    -O3 -I src -I stan/src -I stan/lib/rapidjson_1.1.0/ -I lib/CLI11-1.9.1/ -I stan/lib/stan_math/ -I stan/lib/stan_math/lib/eigen_3.4.0 -I stan/lib/stan_math/lib/boost_1.81.0 -I stan/lib/stan_math/lib/sundials_6.1.1/include -I stan/lib/stan_math/lib/sundials_6.1.1/src/sundials    -DBOOST_DISABLE_ASSERTS               -Wl,-L,\"/root/.cmdstan/cmdstan-2.34.1/stan/lib/stan_math/lib/tbb\" -Wl,-rpath,\"/root/.cmdstan/cmdstan-2.34.1/stan/lib/stan_math/lib/tbb\"        bin/cmdstan/stansummary.o stan/lib/stan_math/lib/tbb/libtbb.so.2       -ltbb   -o bin/stansummary\n",
            "g++ -Wno-deprecated-declarations -std=c++1y -pthread -D_REENTRANT -Wno-sign-compare -Wno-ignored-attributes      -I stan/lib/stan_math/lib/tbb_2020.3/include    -O3 -I src -I stan/src -I stan/lib/rapidjson_1.1.0/ -I lib/CLI11-1.9.1/ -I stan/lib/stan_math/ -I stan/lib/stan_math/lib/eigen_3.4.0 -I stan/lib/stan_math/lib/boost_1.81.0 -I stan/lib/stan_math/lib/sundials_6.1.1/include -I stan/lib/stan_math/lib/sundials_6.1.1/src/sundials    -DBOOST_DISABLE_ASSERTS               -Wl,-L,\"/root/.cmdstan/cmdstan-2.34.1/stan/lib/stan_math/lib/tbb\" -Wl,-rpath,\"/root/.cmdstan/cmdstan-2.34.1/stan/lib/stan_math/lib/tbb\"        bin/cmdstan/print.o stan/lib/stan_math/lib/tbb/libtbb.so.2       -ltbb   -o bin/print\n",
            "g++ -Wno-deprecated-declarations -std=c++1y -pthread -D_REENTRANT -Wno-sign-compare -Wno-ignored-attributes      -I stan/lib/stan_math/lib/tbb_2020.3/include    -O3 -I src -I stan/src -I stan/lib/rapidjson_1.1.0/ -I lib/CLI11-1.9.1/ -I stan/lib/stan_math/ -I stan/lib/stan_math/lib/eigen_3.4.0 -I stan/lib/stan_math/lib/boost_1.81.0 -I stan/lib/stan_math/lib/sundials_6.1.1/include -I stan/lib/stan_math/lib/sundials_6.1.1/src/sundials    -DBOOST_DISABLE_ASSERTS               -Wl,-L,\"/root/.cmdstan/cmdstan-2.34.1/stan/lib/stan_math/lib/tbb\" -Wl,-rpath,\"/root/.cmdstan/cmdstan-2.34.1/stan/lib/stan_math/lib/tbb\"        bin/cmdstan/diagnose.o stan/lib/stan_math/lib/tbb/libtbb.so.2       -ltbb   -o bin/diagnose\n",
            "\n",
            "--- CmdStan v2.34.1 built ---\n",
            "g++ -Wno-deprecated-declarations -std=c++1y -pthread -D_REENTRANT -Wno-sign-compare -Wno-ignored-attributes      -I stan/lib/stan_math/lib/tbb_2020.3/include    -O3 -I src -I stan/src -I stan/lib/rapidjson_1.1.0/ -I lib/CLI11-1.9.1/ -I stan/lib/stan_math/ -I stan/lib/stan_math/lib/eigen_3.4.0 -I stan/lib/stan_math/lib/boost_1.81.0 -I stan/lib/stan_math/lib/sundials_6.1.1/include -I stan/lib/stan_math/lib/sundials_6.1.1/src/sundials    -DBOOST_DISABLE_ASSERTS          -c -MT stan/src/stan/model/model_header_11_4.hpp.gch -MT stan/src/stan/model/model_header_11_4.d -MM -E -MG -MP -MF stan/src/stan/model/model_header_11_4.d stan/src/stan/model/model_header.hpp\n",
            "g++ -Wno-deprecated-declarations -std=c++1y -pthread -D_REENTRANT -Wno-sign-compare -Wno-ignored-attributes      -I stan/lib/stan_math/lib/tbb_2020.3/include    -O3 -I src -I stan/src -I stan/lib/rapidjson_1.1.0/ -I lib/CLI11-1.9.1/ -I stan/lib/stan_math/ -I stan/lib/stan_math/lib/eigen_3.4.0 -I stan/lib/stan_math/lib/boost_1.81.0 -I stan/lib/stan_math/lib/sundials_6.1.1/include -I stan/lib/stan_math/lib/sundials_6.1.1/src/sundials    -DBOOST_DISABLE_ASSERTS          -c -MT src/cmdstan/main.o -MM -E -MG -MP -MF src/cmdstan/main.d src/cmdstan/main.cpp\n",
            "\n",
            "--- Translating Stan model to C++ code ---\n",
            "bin/stanc  --o=examples/bernoulli/bernoulli.hpp examples/bernoulli/bernoulli.stan\n",
            "\n",
            "--- Compiling C++ code ---\n",
            "g++ -Wno-deprecated-declarations -std=c++1y -pthread -D_REENTRANT -Wno-sign-compare -Wno-ignored-attributes      -I stan/lib/stan_math/lib/tbb_2020.3/include    -O3 -I src -I stan/src -I stan/lib/rapidjson_1.1.0/ -I lib/CLI11-1.9.1/ -I stan/lib/stan_math/ -I stan/lib/stan_math/lib/eigen_3.4.0 -I stan/lib/stan_math/lib/boost_1.81.0 -I stan/lib/stan_math/lib/sundials_6.1.1/include -I stan/lib/stan_math/lib/sundials_6.1.1/src/sundials    -DBOOST_DISABLE_ASSERTS          -c -Wno-ignored-attributes   -x c++ -o examples/bernoulli/bernoulli.o examples/bernoulli/bernoulli.hpp\n",
            "\n",
            "--- Linking model ---\n",
            "g++ -Wno-deprecated-declarations -std=c++1y -pthread -D_REENTRANT -Wno-sign-compare -Wno-ignored-attributes      -I stan/lib/stan_math/lib/tbb_2020.3/include    -O3 -I src -I stan/src -I stan/lib/rapidjson_1.1.0/ -I lib/CLI11-1.9.1/ -I stan/lib/stan_math/ -I stan/lib/stan_math/lib/eigen_3.4.0 -I stan/lib/stan_math/lib/boost_1.81.0 -I stan/lib/stan_math/lib/sundials_6.1.1/include -I stan/lib/stan_math/lib/sundials_6.1.1/src/sundials    -DBOOST_DISABLE_ASSERTS               -Wl,-L,\"/root/.cmdstan/cmdstan-2.34.1/stan/lib/stan_math/lib/tbb\" -Wl,-rpath,\"/root/.cmdstan/cmdstan-2.34.1/stan/lib/stan_math/lib/tbb\"        examples/bernoulli/bernoulli.o src/cmdstan/main.o       -ltbb   stan/lib/stan_math/lib/sundials_6.1.1/lib/libsundials_nvecserial.a stan/lib/stan_math/lib/sundials_6.1.1/lib/libsundials_cvodes.a stan/lib/stan_math/lib/sundials_6.1.1/lib/libsundials_idas.a stan/lib/stan_math/lib/sundials_6.1.1/lib/libsundials_kinsol.a  stan/lib/stan_math/lib/tbb/libtbb.so.2 -o examples/bernoulli/bernoulli\n",
            "rm examples/bernoulli/bernoulli.o examples/bernoulli/bernoulli.hpp\n"
          ]
        },
        {
          "output_type": "stream",
          "name": "stderr",
          "text": [
            "* Finished installing CmdStan to /root/.cmdstan/cmdstan-2.34.1\n",
            "\n",
            "\n",
            "CmdStan path set to: /root/.cmdstan/cmdstan-2.34.1\n",
            "\n",
            "CmdStan path set to: /root/.cmdstan/cmdstan-2.34.1\n",
            "\n"
          ]
        },
        {
          "output_type": "display_data",
          "data": {
            "text/html": [
              "'2.34.1'"
            ],
            "text/markdown": "'2.34.1'",
            "text/latex": "'2.34.1'",
            "text/plain": [
              "[1] \"2.34.1\""
            ]
          },
          "metadata": {}
        }
      ]
    },
    {
      "cell_type": "code",
      "source": [
        "# Install necessary packages\n",
        "install.packages(c(\"coda\", \"mvtnorm\", \"devtools\", \"loo\", \"dagitty\", \"shape\"))\n",
        "\n",
        "# Load devtools for GitHub installation\n",
        "library(devtools)\n",
        "\n",
        "# Install rethinking from GitHub\n",
        "devtools::install_github(\"rmcelreath/rethinking\")\n"
      ],
      "metadata": {
        "colab": {
          "base_uri": "https://localhost:8080/"
        },
        "id": "rd9jkYG4WyyR",
        "outputId": "3638b557-5b17-4247-fc88-7ee560942307"
      },
      "execution_count": 5,
      "outputs": [
        {
          "output_type": "stream",
          "name": "stderr",
          "text": [
            "Installing packages into ‘/usr/local/lib/R/site-library’\n",
            "(as ‘lib’ is unspecified)\n",
            "\n",
            "also installing the dependencies ‘httpuv’, ‘xtable’, ‘sourcetools’, ‘later’, ‘promises’, ‘shiny’, ‘downlit’, ‘htmlwidgets’, ‘Rcpp’, ‘miniUI’, ‘pkgdown’, ‘profvis’, ‘urlchecker’, ‘V8’\n",
            "\n",
            "\n",
            "Loading required package: usethis\n",
            "\n",
            "Downloading GitHub repo rmcelreath/rethinking@HEAD\n",
            "\n"
          ]
        },
        {
          "output_type": "stream",
          "name": "stdout",
          "text": [
            "\n",
            "\u001b[36m──\u001b[39m \u001b[36mR CMD build\u001b[39m \u001b[36m─────────────────────────────────────────────────────────────────\u001b[39m\n",
            "* checking for file ‘/tmp/Rtmp4BRx2V/remotesbf207a5b86/rmcelreath-rethinking-f3ac8de/DESCRIPTION’ ... OK\n",
            "* preparing ‘rethinking’:\n",
            "* checking DESCRIPTION meta-information ... OK\n",
            "* checking for LF line-endings in source and make files and shell scripts\n",
            "* checking for empty or unneeded directories\n",
            "* looking to see if a ‘data/datalist’ file should be added\n",
            "* building ‘rethinking_2.40.tar.gz’\n",
            "\n"
          ]
        },
        {
          "output_type": "stream",
          "name": "stderr",
          "text": [
            "Installing package into ‘/usr/local/lib/R/site-library’\n",
            "(as ‘lib’ is unspecified)\n",
            "\n"
          ]
        }
      ]
    },
    {
      "cell_type": "code",
      "source": [
        "library(rethinking)"
      ],
      "metadata": {
        "colab": {
          "base_uri": "https://localhost:8080/"
        },
        "id": "76h8LgPcYq2E",
        "outputId": "cfe737ea-bfaf-4e3c-f222-bfc2ebb205ba"
      },
      "execution_count": 6,
      "outputs": [
        {
          "output_type": "stream",
          "name": "stderr",
          "text": [
            "Loading required package: posterior\n",
            "\n",
            "This is posterior version 1.5.0\n",
            "\n",
            "\n",
            "Attaching package: ‘posterior’\n",
            "\n",
            "\n",
            "The following objects are masked from ‘package:stats’:\n",
            "\n",
            "    mad, sd, var\n",
            "\n",
            "\n",
            "The following objects are masked from ‘package:base’:\n",
            "\n",
            "    %in%, match\n",
            "\n",
            "\n",
            "Loading required package: parallel\n",
            "\n",
            "rethinking (Version 2.40)\n",
            "\n",
            "\n",
            "Attaching package: ‘rethinking’\n",
            "\n",
            "\n",
            "The following object is masked from ‘package:stats’:\n",
            "\n",
            "    rstudent\n",
            "\n",
            "\n"
          ]
        }
      ]
    },
    {
      "cell_type": "code",
      "source": [
        "# Test Installation\n",
        "\n",
        "## Simulate some data for a binary outcome based on a single predictor\n",
        "n <- 100\n",
        "x <- rnorm(n)\n",
        "prob <- 1 / (1 + exp(-x))\n",
        "y <- rbinom(n, 1, prob)\n",
        "\n",
        "## Fit a logistic regression using ulam\n",
        "fit <- ulam(\n",
        "  alist(\n",
        "    y ~ bernoulli( p ),\n",
        "    logit(p) <- a + b*x,\n",
        "    a ~ normal(0, 1),\n",
        "    b ~ normal(0, 1)\n",
        "  ), data = list(x = x, y = y)\n",
        ")\n",
        "\n",
        "precis(fit)"
      ],
      "metadata": {
        "colab": {
          "base_uri": "https://localhost:8080/",
          "height": 438
        },
        "id": "AK1-F_d0ZIFf",
        "outputId": "81379891-8323-4d67-a4c7-f10589211c04"
      },
      "execution_count": 7,
      "outputs": [
        {
          "output_type": "stream",
          "name": "stdout",
          "text": [
            "Running MCMC with 1 chain, with 1 thread(s) per chain...\n",
            "\n",
            "Chain 1 Iteration:   1 / 1000 [  0%]  (Warmup) \n",
            "Chain 1 Iteration: 100 / 1000 [ 10%]  (Warmup) \n",
            "Chain 1 Iteration: 200 / 1000 [ 20%]  (Warmup) \n",
            "Chain 1 Iteration: 300 / 1000 [ 30%]  (Warmup) \n",
            "Chain 1 Iteration: 400 / 1000 [ 40%]  (Warmup) \n",
            "Chain 1 Iteration: 500 / 1000 [ 50%]  (Warmup) \n",
            "Chain 1 Iteration: 501 / 1000 [ 50%]  (Sampling) \n",
            "Chain 1 Iteration: 600 / 1000 [ 60%]  (Sampling) \n",
            "Chain 1 Iteration: 700 / 1000 [ 70%]  (Sampling) \n",
            "Chain 1 Iteration: 800 / 1000 [ 80%]  (Sampling) \n",
            "Chain 1 Iteration: 900 / 1000 [ 90%]  (Sampling) \n",
            "Chain 1 Iteration: 1000 / 1000 [100%]  (Sampling) \n",
            "Chain 1 finished in 0.0 seconds.\n"
          ]
        },
        {
          "output_type": "display_data",
          "data": {
            "text/html": [
              "<table class=\"dataframe\">\n",
              "<caption>A precis: 2 × 6</caption>\n",
              "<thead>\n",
              "\t<tr><th></th><th scope=col>mean</th><th scope=col>sd</th><th scope=col>5.5%</th><th scope=col>94.5%</th><th scope=col>rhat</th><th scope=col>ess_bulk</th></tr>\n",
              "\t<tr><th></th><th scope=col>&lt;dbl&gt;</th><th scope=col>&lt;dbl&gt;</th><th scope=col>&lt;dbl&gt;</th><th scope=col>&lt;dbl&gt;</th><th scope=col>&lt;dbl&gt;</th><th scope=col>&lt;dbl&gt;</th></tr>\n",
              "</thead>\n",
              "<tbody>\n",
              "\t<tr><th scope=row>a</th><td>0.2165228</td><td>0.2237186</td><td>-0.1560674</td><td>0.5628696</td><td>1.001793</td><td>274.1968</td></tr>\n",
              "\t<tr><th scope=row>b</th><td>1.3291642</td><td>0.2992551</td><td> 0.8560407</td><td>1.8222331</td><td>1.000893</td><td>310.4944</td></tr>\n",
              "</tbody>\n",
              "</table>\n"
            ],
            "text/markdown": "\nA precis: 2 × 6\n\n| <!--/--> | mean &lt;dbl&gt; | sd &lt;dbl&gt; | 5.5% &lt;dbl&gt; | 94.5% &lt;dbl&gt; | rhat &lt;dbl&gt; | ess_bulk &lt;dbl&gt; |\n|---|---|---|---|---|---|---|\n| a | 0.2165228 | 0.2237186 | -0.1560674 | 0.5628696 | 1.001793 | 274.1968 |\n| b | 1.3291642 | 0.2992551 |  0.8560407 | 1.8222331 | 1.000893 | 310.4944 |\n\n",
            "text/latex": "A precis: 2 × 6\n\\begin{tabular}{r|llllll}\n  & mean & sd & 5.5\\% & 94.5\\% & rhat & ess\\_bulk\\\\\n  & <dbl> & <dbl> & <dbl> & <dbl> & <dbl> & <dbl>\\\\\n\\hline\n\ta & 0.2165228 & 0.2237186 & -0.1560674 & 0.5628696 & 1.001793 & 274.1968\\\\\n\tb & 1.3291642 & 0.2992551 &  0.8560407 & 1.8222331 & 1.000893 & 310.4944\\\\\n\\end{tabular}\n",
            "text/plain": [
              "  mean      sd        5.5%       94.5%     rhat     ess_bulk\n",
              "a 0.2165228 0.2237186 -0.1560674 0.5628696 1.001793 274.1968\n",
              "b 1.3291642 0.2992551  0.8560407 1.8222331 1.000893 310.4944"
            ]
          },
          "metadata": {}
        }
      ]
    },
    {
      "cell_type": "markdown",
      "source": [
        "# Chapter 9\n",
        "\n",
        "This chapter delves into some of the algorithms used for Bayesian inference.  **Statistical Rethinking** gives enough information for a working understanding of these algorithms.  A more-thorough, but-still-approachable treatment of these algorithms is given in Ben Lambert's great book [**A Student's Guide to Bayesian Statistics**](https://www.amazon.com/Students-Guide-Bayesian-Statistics/dp/1473916364)."
      ],
      "metadata": {
        "id": "1ZlXL1B2XGQm"
      }
    },
    {
      "cell_type": "markdown",
      "source": [
        "## Easy"
      ],
      "metadata": {
        "id": "SAJAbOj8XKI4"
      }
    },
    {
      "cell_type": "markdown",
      "source": [
        "### 9E1\n",
        "Which of the following is a requirement of the simple Metropolis algorithm?\n",
        "1.   The parameters must be discrete.\n",
        "2.   The likelihood function must be Gaussian.\n",
        "3.   The proposal distribution must be symmetric.\n",
        "\n",
        "#### Answer\n",
        "I think it may be good to start with an overview of the simple Metropolis algorithm.\n",
        "\n",
        "Start by imagining a space of values for parameters $\\theta$.  We could define a space for as many parameters as we want, but let's now only imagine a single parameter.  This one-parameter space can be thought of as a sinlge line stretching from left (smaller values) to right (larger values); the probability that for any given value is given by the posterior probability density $p(\\theta|data)$ where more-probable values are higher than less-probable values.\n",
        "\n",
        "![image.png](data:image/png;base64,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)\n",
        "\n",
        "Of course, we don't know the posterior distribution (if we did, we wouldn't be trying to estimate it).  Instead, we can propose one value at a time for $\\theta$ and then calculate $p(data|\\theta)p(\\theta)$.  This needs a name; since its the likelihood $p(data|theta)$ *weighted* by its prior $p(\\theta)$, I'll refer to it as the \"weighted likelihood\".  Notice that the weighted likelihood is the numerator of Bayes' theorem $p(\\theta|data) = \\frac{p(data|\\theta)p(\\theta)}{p(data)}$, which means that the weighted likelihood is proportional to the posterior distribution $p(\\theta|data) \\propto p(data|\\theta)p(\\theta)$.\n",
        "\n",
        "So we start by accepting a random value $cT_0$ ($c$ for \"current\", as in *the current value of $T$*) for $\\theta$ and estimating its weighted likelihood, $wL_0$.  Next, we suggest another random value $sT_1$ ($s$ for \"suggested\", as in *a suggested value of $T$ that may replace $cT$*) for $\\theta$ and calculate its weighted likelihood $wL_1$.  If $wL_1 > wL_0$, then we make a tally mark for $sT_1$.   But if $wL_1 < wL_0$, then we must choose between $cT_0$ vs $sT_1$.  In this situation, we choose according to the ratio $\\frac{wL_1}{wL_0}$.  For example, if $\\frac{wL_1}{wL_0} = \\frac{1}{2}$, implying that $wL_1$ was half as large as $wL_0$, then we accept $wL_1$ half of the time and $wL_0$ the other half of the time.  Whichever we accept, we make a tally for that $T$.  Then we repeat this process.  Whichever $T$ was previously accepted becomes $cT$, so either $cT_0$ or $cT_1$, and it's compared against a new randomly suggested $sT_2$ in the same way.  When we repeat this process many times, we get a chain of accepted $T$ values--this chain is a \"Markov chain\".  We can plot the tally marks for the various $T$ values like a histogram; this histogram will approximate our posterior distribution.\n",
        "\n",
        "![image.png](data:image/png;base64,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)\n",
        "\n",
        "\\\n",
        "\n",
        "Now let's take the questions one at a time.\n",
        "\n",
        "***1. The parameters must be discrete.***\n",
        "\n",
        "Although the example given in the book uses discrete islands, discrete parameter values are **NOT required** of the Metropolis algorithm.  You simply need to be able to propose specific values for $\\theta$, but these proposed values can come from either discrete or continuous spaces.\n",
        "\n",
        "\\\n",
        "\n",
        "***2.The likelihood function must be Gaussian.***\n",
        "\n",
        "This, again, is **NOT required**.  The expression we must continually examine, the weighted likelihood $p(data|\\theta)p(\\theta)$, is indifferent to distribution of the the likelihood.\n",
        "\n",
        "\\\n",
        "\n",
        "***3. The proposal distribution must be symmetric.***\n",
        "\n",
        "This one **IS required**.  The reason as to *why* is not expliciit in my explanation of the Metropolis alogrithm, so let's rectify that now.\n",
        "\n",
        "Firstly, let's be clear about what we mean by a \"symmetric proposal distribution\".  Basically, we need to make sure that if we propose $T_b$ from $T_a$, we would be just as likely to propse $T_a$ from $T_b$.  Second, don't lose track of the difference between \"proposing\" and \"accepting\"; just because we need to be equally likely to *propose* $T_b$ from $T_a$ and $T_a$ from $T_b$, we will not be equally likely to *accept* $T_b$ from $T_a$ and $T_a$ from $T_b$; acceptance will depend on $\\frac{wL_a}{wL_b}$ and $\\frac{wL_b}{wL_a}$ as explained above.\n",
        "\n",
        "With that out of the way, a rough explanation for the necessity of symmetric proposals is that, since the accepted values that constitute the Markov chain are already being filtered by the acceptance rule, additional filtering by an asymmetric proposal distribution could bias the Markov chain away from the actual posterior distribution.  A more technical explanation involves some background.\n",
        "\n",
        "Imagine sampling $\\theta$ values from our actual posterior distribution; more probable $\\theta$ values would be sampled more frequently, and vice versa.  So after $n$ samples, we would have the set $\\{\\theta_1, ..., \\theta_n \\}$, and the probability of having drawn that sample would be the joint probability distribution $p(\\theta_1, ..., \\theta_n)$.  The idea behind using Markov chains to estimate the posterior distribution is to design the Markov chain such that it generates values $\\{T_1, ..., T_n \\}$ where $p(T_1, ..., T_n) \\rightarrow p(\\theta_1, ..., \\theta_n)$ as $n$ gets large enough.  The accept-reject rule pushes the Markov chain towards the posterior.\n",
        "\n",
        "Importantly, once $p(T_1, ..., T_n) \\approx p(\\theta_1, ..., \\theta_n)$--that is, once the joint probabitliy distribution from our Markov chain is close to that of the samples from the posterior distribution--it should remain there rather than drifting away from the true posterior.  In order to remain stationary, the proposal distribution must be symmetric.  This statement really demands a demonstration.\n",
        "\n",
        "Say we have two values from our Markov chain $T_a \\sim p(\\theta|data)$ and $T_b \\sim (p\\theta|data)$, where $p(T_b) > p(T_a)$.  If we are currently at $cT_a$, then we next propose $sT_b$ with probabilty $p(sT_b | cT_a)$.  Since $p(T_b) > p(T_a)$, we always accept this proposal.  So our Markov chain looks like $\\{T_a, T_b \\} \\sim p(T_a, T_b) = p(T_a) \\times p(sT_b | cT_a)$.\n",
        "\n",
        "Now instead, start at $cT_b$ and propose $sT_a$ with probability $p(sT_a | cT_b)$.   Since $p(T_b) > p(T_a)$, we do NOT automatically accept this proposal; instead, we accept it as $\\frac{wL_a}{wL_b}$.  So this version of our Markov looks like $\\{T_b, T_a \\} \\sim p(T_b, T_a) = p(T_b) \\times p(sT_a | cT_b) \\times \\frac{p(T_a)}{p(T_b)} = p(sT_a | cT_b) \\times p(T_a)$.\n",
        "\n",
        "Whether we start at $cT_a$ or $cT_b$, we need to settle on the same (actual posterior) distribution.  This means that $p(T_a, T_b) := p(T_b, T_a)$ and $p(T_a) \\times p(sT_b | cT_a) := p(sT_a | cT_b) \\times p(T_a)$, which means that $p(sT_b | cT_a) := p(sT_a | cT_b)$.  In other words, the proposal distribution for $cT_a \\rightarrow sT_b$ must be equal/symmetric to $cT_b \\rightarrow sT_a$"
      ],
      "metadata": {
        "id": "AtlUKh8Mvwsj"
      }
    },
    {
      "cell_type": "markdown",
      "source": [
        "### 9E2\n",
        "Gibbs sampling is more efficient than the Metropolis algorithm. How does it achieve this extra efficiency? Are there any limitations to the Gibbs sampling strategy?\n",
        "\n",
        "#### Answer"
      ],
      "metadata": {
        "id": "-bEXEqGuwGUT"
      }
    },
    {
      "cell_type": "markdown",
      "source": [
        "### 9E3\n",
        "Which sort of parameters can Hamiltonian Monte Carlo not handle? Can you explain why?\n",
        "\n",
        "#### Answer"
      ],
      "metadata": {
        "id": "6BKzZ4aowOGz"
      }
    },
    {
      "cell_type": "markdown",
      "source": [
        "### 9E4\n",
        "Explain the difference between the effective number of samples, n_eff as calculated by Stan, and the actual number of samples.\n",
        "\n",
        "#### Answer"
      ],
      "metadata": {
        "id": "HoPqzk2lwW9D"
      }
    },
    {
      "cell_type": "markdown",
      "source": [
        "### 9E5\n",
        "Explain the difference between the effective number of samples, `n_eff` as calculated by Stan, and the actual number of samples.\n",
        "\n",
        "#### Answer"
      ],
      "metadata": {
        "id": "mbU2jBx9weww"
      }
    },
    {
      "cell_type": "markdown",
      "source": [
        "### 9E6\n",
        "Sketch a good trace plot for a Markov chain, one that is effectively sampling from the posterior distribution. What is good about its shape? Then sketch a trace plot for a malfunctioning Markov chain. What about its shape indicates malfunction?\n",
        "\n",
        "#### Answer"
      ],
      "metadata": {
        "id": "MnHHxlIHwtcm"
      }
    },
    {
      "cell_type": "markdown",
      "source": [
        "### 9E7\n",
        "Repeat the problem above, but now for a trace rank plot.\n",
        "\n",
        "#### Answer"
      ],
      "metadata": {
        "id": "fvpAZGhQw36V"
      }
    }
  ]
}
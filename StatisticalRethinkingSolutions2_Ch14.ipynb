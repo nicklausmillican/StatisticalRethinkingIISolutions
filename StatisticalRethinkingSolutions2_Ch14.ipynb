{
  "nbformat": 4,
  "nbformat_minor": 0,
  "metadata": {
    "colab": {
      "provenance": [],
      "toc_visible": true,
      "authorship_tag": "ABX9TyOXQwZVLGLL6ogIigVTEHsT",
      "include_colab_link": true
    },
    "kernelspec": {
      "name": "ir",
      "display_name": "R"
    },
    "language_info": {
      "name": "R"
    }
  },
  "cells": [
    {
      "cell_type": "markdown",
      "metadata": {
        "id": "view-in-github",
        "colab_type": "text"
      },
      "source": [
        "<a href=\"https://colab.research.google.com/github/nicklausmillican/StatisticalRethinkingIISolutions/blob/main/StatisticalRethinkingSolutions2_Ch14.ipynb\" target=\"_parent\"><img src=\"https://colab.research.google.com/assets/colab-badge.svg\" alt=\"Open In Colab\"/></a>"
      ]
    },
    {
      "cell_type": "code",
      "execution_count": 1,
      "metadata": {
        "colab": {
          "base_uri": "https://localhost:8080/",
          "height": 191
        },
        "id": "6nmEQndWT8cK",
        "outputId": "26d7a12b-ef48-4ab7-9c90-e108f6d1a7d7"
      },
      "outputs": [
        {
          "output_type": "display_data",
          "data": {
            "text/html": [
              "<style>\n",
              ".list-inline {list-style: none; margin:0; padding: 0}\n",
              ".list-inline>li {display: inline-block}\n",
              ".list-inline>li:not(:last-child)::after {content: \"\\00b7\"; padding: 0 .5ex}\n",
              "</style>\n",
              "<ol class=list-inline><li>'g++ (Ubuntu 11.4.0-1ubuntu1~22.04) 11.4.0'</li><li>'Copyright (C) 2021 Free Software Foundation, Inc.'</li><li><span style=white-space:pre-wrap>'This is free software; see the source for copying conditions.  There is NO'</span></li><li>'warranty; not even for MERCHANTABILITY or FITNESS FOR A PARTICULAR PURPOSE.'</li><li>''</li></ol>\n"
            ],
            "text/markdown": "1. 'g++ (Ubuntu 11.4.0-1ubuntu1~22.04) 11.4.0'\n2. 'Copyright (C) 2021 Free Software Foundation, Inc.'\n3. <span style=white-space:pre-wrap>'This is free software; see the source for copying conditions.  There is NO'</span>\n4. 'warranty; not even for MERCHANTABILITY or FITNESS FOR A PARTICULAR PURPOSE.'\n5. ''\n\n\n",
            "text/latex": "\\begin{enumerate*}\n\\item 'g++ (Ubuntu 11.4.0-1ubuntu1\\textasciitilde{}22.04) 11.4.0'\n\\item 'Copyright (C) 2021 Free Software Foundation, Inc.'\n\\item 'This is free software; see the source for copying conditions.  There is NO'\n\\item 'warranty; not even for MERCHANTABILITY or FITNESS FOR A PARTICULAR PURPOSE.'\n\\item ''\n\\end{enumerate*}\n",
            "text/plain": [
              "[1] \"g++ (Ubuntu 11.4.0-1ubuntu1~22.04) 11.4.0\"                                  \n",
              "[2] \"Copyright (C) 2021 Free Software Foundation, Inc.\"                          \n",
              "[3] \"This is free software; see the source for copying conditions.  There is NO\" \n",
              "[4] \"warranty; not even for MERCHANTABILITY or FITNESS FOR A PARTICULAR PURPOSE.\"\n",
              "[5] \"\"                                                                           "
            ]
          },
          "metadata": {}
        },
        {
          "output_type": "display_data",
          "data": {
            "text/html": [
              "<style>\n",
              ".list-inline {list-style: none; margin:0; padding: 0}\n",
              ".list-inline>li {display: inline-block}\n",
              ".list-inline>li:not(:last-child)::after {content: \"\\00b7\"; padding: 0 .5ex}\n",
              "</style>\n",
              "<ol class=list-inline><li>'GNU Make 4.3'</li><li>'Built for x86_64-pc-linux-gnu'</li><li>'Copyright (C) 1988-2020 Free Software Foundation, Inc.'</li><li>'License GPLv3+: GNU GPL version 3 or later &lt;http://gnu.org/licenses/gpl.html&gt;'</li><li>'This is free software: you are free to change and redistribute it.'</li><li>'There is NO WARRANTY, to the extent permitted by law.'</li></ol>\n"
            ],
            "text/markdown": "1. 'GNU Make 4.3'\n2. 'Built for x86_64-pc-linux-gnu'\n3. 'Copyright (C) 1988-2020 Free Software Foundation, Inc.'\n4. 'License GPLv3+: GNU GPL version 3 or later &lt;http://gnu.org/licenses/gpl.html&gt;'\n5. 'This is free software: you are free to change and redistribute it.'\n6. 'There is NO WARRANTY, to the extent permitted by law.'\n\n\n",
            "text/latex": "\\begin{enumerate*}\n\\item 'GNU Make 4.3'\n\\item 'Built for x86\\_64-pc-linux-gnu'\n\\item 'Copyright (C) 1988-2020 Free Software Foundation, Inc.'\n\\item 'License GPLv3+: GNU GPL version 3 or later <http://gnu.org/licenses/gpl.html>'\n\\item 'This is free software: you are free to change and redistribute it.'\n\\item 'There is NO WARRANTY, to the extent permitted by law.'\n\\end{enumerate*}\n",
            "text/plain": [
              "[1] \"GNU Make 4.3\"                                                                 \n",
              "[2] \"Built for x86_64-pc-linux-gnu\"                                                \n",
              "[3] \"Copyright (C) 1988-2020 Free Software Foundation, Inc.\"                       \n",
              "[4] \"License GPLv3+: GNU GPL version 3 or later <http://gnu.org/licenses/gpl.html>\"\n",
              "[5] \"This is free software: you are free to change and redistribute it.\"           \n",
              "[6] \"There is NO WARRANTY, to the extent permitted by law.\"                        "
            ]
          },
          "metadata": {}
        },
        {
          "output_type": "display_data",
          "data": {
            "text/html": [
              "<style>\n",
              ".list-inline {list-style: none; margin:0; padding: 0}\n",
              ".list-inline>li {display: inline-block}\n",
              ".list-inline>li:not(:last-child)::after {content: \"\\00b7\"; padding: 0 .5ex}\n",
              "</style>\n",
              "<ol class=list-inline><li>'Reading package lists...'</li><li>'Building dependency tree...'</li><li>'Reading state information...'</li><li>'g++ is already the newest version (4:11.2.0-1ubuntu1).'</li><li>'g++ set to manually installed.'</li><li>'0 upgraded, 0 newly installed, 0 to remove and 49 not upgraded.'</li></ol>\n"
            ],
            "text/markdown": "1. 'Reading package lists...'\n2. 'Building dependency tree...'\n3. 'Reading state information...'\n4. 'g++ is already the newest version (4:11.2.0-1ubuntu1).'\n5. 'g++ set to manually installed.'\n6. '0 upgraded, 0 newly installed, 0 to remove and 49 not upgraded.'\n\n\n",
            "text/latex": "\\begin{enumerate*}\n\\item 'Reading package lists...'\n\\item 'Building dependency tree...'\n\\item 'Reading state information...'\n\\item 'g++ is already the newest version (4:11.2.0-1ubuntu1).'\n\\item 'g++ set to manually installed.'\n\\item '0 upgraded, 0 newly installed, 0 to remove and 49 not upgraded.'\n\\end{enumerate*}\n",
            "text/plain": [
              "[1] \"Reading package lists...\"                                       \n",
              "[2] \"Building dependency tree...\"                                    \n",
              "[3] \"Reading state information...\"                                   \n",
              "[4] \"g++ is already the newest version (4:11.2.0-1ubuntu1).\"         \n",
              "[5] \"g++ set to manually installed.\"                                 \n",
              "[6] \"0 upgraded, 0 newly installed, 0 to remove and 49 not upgraded.\""
            ]
          },
          "metadata": {}
        },
        {
          "output_type": "display_data",
          "data": {
            "text/html": [
              "<style>\n",
              ".list-inline {list-style: none; margin:0; padding: 0}\n",
              ".list-inline>li {display: inline-block}\n",
              ".list-inline>li:not(:last-child)::after {content: \"\\00b7\"; padding: 0 .5ex}\n",
              "</style>\n",
              "<ol class=list-inline><li>'Reading package lists...'</li><li>'Building dependency tree...'</li><li>'Reading state information...'</li><li>'make is already the newest version (4.3-4.1build1).'</li><li>'make set to manually installed.'</li><li>'0 upgraded, 0 newly installed, 0 to remove and 49 not upgraded.'</li></ol>\n"
            ],
            "text/markdown": "1. 'Reading package lists...'\n2. 'Building dependency tree...'\n3. 'Reading state information...'\n4. 'make is already the newest version (4.3-4.1build1).'\n5. 'make set to manually installed.'\n6. '0 upgraded, 0 newly installed, 0 to remove and 49 not upgraded.'\n\n\n",
            "text/latex": "\\begin{enumerate*}\n\\item 'Reading package lists...'\n\\item 'Building dependency tree...'\n\\item 'Reading state information...'\n\\item 'make is already the newest version (4.3-4.1build1).'\n\\item 'make set to manually installed.'\n\\item '0 upgraded, 0 newly installed, 0 to remove and 49 not upgraded.'\n\\end{enumerate*}\n",
            "text/plain": [
              "[1] \"Reading package lists...\"                                       \n",
              "[2] \"Building dependency tree...\"                                    \n",
              "[3] \"Reading state information...\"                                   \n",
              "[4] \"make is already the newest version (4.3-4.1build1).\"            \n",
              "[5] \"make set to manually installed.\"                                \n",
              "[6] \"0 upgraded, 0 newly installed, 0 to remove and 49 not upgraded.\""
            ]
          },
          "metadata": {}
        }
      ],
      "source": [
        "# Checking versions of g++ and make\n",
        "system(\"g++ --version\", intern = TRUE)\n",
        "system(\"make --version\", intern = TRUE)\n",
        "\n",
        "# Install g++ and make if needed\n",
        "system(\"sudo apt install g++\", intern = TRUE)\n",
        "system(\"sudo apt install make\", intern = TRUE)\n"
      ]
    },
    {
      "cell_type": "code",
      "execution_count": 2,
      "metadata": {
        "colab": {
          "base_uri": "https://localhost:8080/",
          "height": 957
        },
        "id": "xy8UnK1uUOmt",
        "outputId": "38d21734-7689-4806-bc35-7c4f3bebf02a"
      },
      "outputs": [
        {
          "output_type": "stream",
          "name": "stderr",
          "text": [
            "Loading required package: cmdstanr\n",
            "\n",
            "Warning message in library(package, lib.loc = lib.loc, character.only = TRUE, logical.return = TRUE, :\n",
            "“there is no package called ‘cmdstanr’”\n",
            "Downloading GitHub repo stan-dev/cmdstanr@HEAD\n",
            "\n"
          ]
        },
        {
          "output_type": "stream",
          "name": "stdout",
          "text": [
            "numDeriv     (NA -> 2016.8-1.1) [CRAN]\n",
            "matrixStats  (NA -> 1.5.0     ) [CRAN]\n",
            "distribut... (NA -> 0.5.0     ) [CRAN]\n",
            "tensorA      (NA -> 0.36.2.1  ) [CRAN]\n",
            "checkmate    (NA -> 2.3.2     ) [CRAN]\n",
            "abind        (NA -> 1.4-8     ) [CRAN]\n",
            "posterior    (NA -> 1.6.0     ) [CRAN]\n"
          ]
        },
        {
          "output_type": "stream",
          "name": "stderr",
          "text": [
            "Installing 7 packages: numDeriv, matrixStats, distributional, tensorA, checkmate, abind, posterior\n",
            "\n",
            "Installing packages into ‘/usr/local/lib/R/site-library’\n",
            "(as ‘lib’ is unspecified)\n",
            "\n"
          ]
        },
        {
          "output_type": "stream",
          "name": "stdout",
          "text": [
            "\u001b[36m──\u001b[39m \u001b[36mR CMD build\u001b[39m \u001b[36m─────────────────────────────────────────────────────────────────\u001b[39m\n",
            "* checking for file ‘/tmp/Rtmpa7RH04/remotes5361c83c0d7/stan-dev-cmdstanr-ce58981/DESCRIPTION’ ... OK\n",
            "* preparing ‘cmdstanr’:\n",
            "* checking DESCRIPTION meta-information ... OK\n",
            "* checking for LF line-endings in source and make files and shell scripts\n",
            "* checking for empty or unneeded directories\n",
            "Omitted ‘LazyData’ from DESCRIPTION\n",
            "* building ‘cmdstanr_0.8.1.9000.tar.gz’\n",
            "\n"
          ]
        },
        {
          "output_type": "stream",
          "name": "stderr",
          "text": [
            "Installing package into ‘/usr/local/lib/R/site-library’\n",
            "(as ‘lib’ is unspecified)\n",
            "\n",
            "This is cmdstanr version 0.8.1.9000\n",
            "\n",
            "- CmdStanR documentation and vignettes: mc-stan.org/cmdstanr\n",
            "\n",
            "- Use set_cmdstan_path() to set the path to CmdStan\n",
            "\n",
            "- Use install_cmdstan() to install CmdStan\n",
            "\n"
          ]
        },
        {
          "output_type": "error",
          "ename": "ERROR",
          "evalue": "Error: CmdStan path has not been set yet. See ?set_cmdstan_path.\n",
          "traceback": [
            "Error: CmdStan path has not been set yet. See ?set_cmdstan_path.\nTraceback:\n",
            "1. stop_no_path()",
            "2. stop(\"CmdStan path has not been set yet. See ?set_cmdstan_path.\", \n .     call. = FALSE)",
            "3. .handleSimpleError(function (cnd) \n . {\n .     watcher$capture_plot_and_output()\n .     cnd <- sanitize_call(cnd)\n .     watcher$push(cnd)\n .     switch(on_error, continue = invokeRestart(\"eval_continue\"), \n .         stop = invokeRestart(\"eval_stop\"), error = NULL)\n . }, \"CmdStan path has not been set yet. See ?set_cmdstan_path.\", \n .     base::quote(NULL))"
          ]
        }
      ],
      "source": [
        "# Install cmdstanr from GitHub\n",
        "if (!require(cmdstanr)) {\n",
        "  devtools::install_github(\"stan-dev/cmdstanr\")\n",
        "}\n",
        "\n",
        "# Set up CmdStan if it's not already set up\n",
        "library(cmdstanr)\n",
        "if (!cmdstanr::cmdstan_version()) {\n",
        "  cmdstanr::install_cmdstan()\n",
        "}\n",
        "\n",
        "# Verify installation\n",
        "cmdstanr::check_cmdstan_toolchain()\n"
      ]
    },
    {
      "cell_type": "markdown",
      "metadata": {
        "id": "5PjVh-uhxvy3"
      },
      "source": [
        "IF YOU ENCOUNTER AN ERROR, JUST KEEP RUNNING CODE BELOW."
      ]
    },
    {
      "cell_type": "code",
      "execution_count": 3,
      "metadata": {
        "colab": {
          "base_uri": "https://localhost:8080/",
          "height": 1000
        },
        "id": "QWIdvClbVP9g",
        "outputId": "7734ec4b-eab0-4161-8f79-d4e7a06a2277"
      },
      "outputs": [
        {
          "output_type": "stream",
          "name": "stderr",
          "text": [
            "The C++ toolchain required for CmdStan is setup properly!\n",
            "\n",
            "* Latest CmdStan release is v2.36.0\n",
            "\n",
            "* Installing CmdStan v2.36.0 in /root/.cmdstan/cmdstan-2.36.0\n",
            "\n",
            "* Downloading cmdstan-2.36.0.tar.gz from GitHub...\n",
            "\n",
            "* Download complete\n",
            "\n",
            "* Unpacking archive...\n",
            "\n",
            "* Building CmdStan binaries...\n",
            "\n"
          ]
        },
        {
          "output_type": "stream",
          "name": "stdout",
          "text": [
            "g++ -Wno-deprecated-declarations -std=c++17 -pthread -D_REENTRANT -Wno-sign-compare -Wno-ignored-attributes -Wno-class-memaccess      -I stan/lib/stan_math/lib/tbb_2020.3/include    -O3 -I src -I stan/src -I stan/lib/rapidjson_1.1.0/ -I lib/CLI11-1.9.1/ -I stan/lib/stan_math/ -I stan/lib/stan_math/lib/eigen_3.4.0 -I stan/lib/stan_math/lib/boost_1.84.0 -I stan/lib/stan_math/lib/sundials_6.1.1/include -I stan/lib/stan_math/lib/sundials_6.1.1/src/sundials    -DBOOST_DISABLE_ASSERTS          -c -MT bin/cmdstan/stansummary.o -MM -E -MG -MP -MF src/cmdstan/stansummary.d src/cmdstan/stansummary.cpp\n",
            "cp bin/linux-stanc bin/stanc\n",
            "g++ -pipe   -pthread -D_REENTRANT  -O3 -I stan/lib/stan_math/lib/sundials_6.1.1/include -I stan/lib/stan_math/lib/sundials_6.1.1/src/sundials -DNO_FPRINTF_OUTPUT     -O3  -c -x c -include stan/lib/stan_math/lib/sundials_6.1.1/include/stan_sundials_printf_override.hpp stan/lib/stan_math/lib/sundials_6.1.1/src/nvector/serial/nvector_serial.c -o stan/lib/stan_math/lib/sundials_6.1.1/src/nvector/serial/nvector_serial.o\n",
            "chmod +x bin/stanc\n",
            "g++ -pipe   -pthread -D_REENTRANT  -O3 -I stan/lib/stan_math/lib/sundials_6.1.1/include -I stan/lib/stan_math/lib/sundials_6.1.1/src/sundials -DNO_FPRINTF_OUTPUT     -O3  -c -x c -include stan/lib/stan_math/lib/sundials_6.1.1/include/stan_sundials_printf_override.hpp stan/lib/stan_math/lib/sundials_6.1.1/src/sundials/sundials_math.c -o stan/lib/stan_math/lib/sundials_6.1.1/src/sundials/sundials_math.o\n",
            "g++ -pipe   -pthread -D_REENTRANT  -O3 -I stan/lib/stan_math/lib/sundials_6.1.1/include -I stan/lib/stan_math/lib/sundials_6.1.1/src/sundials -DNO_FPRINTF_OUTPUT     -O3  -c -x c -include stan/lib/stan_math/lib/sundials_6.1.1/include/stan_sundials_printf_override.hpp stan/lib/stan_math/lib/sundials_6.1.1/src/cvodes/cvodea.c -o stan/lib/stan_math/lib/sundials_6.1.1/src/cvodes/cvodea.o\n",
            "g++ -pipe   -pthread -D_REENTRANT  -O3 -I stan/lib/stan_math/lib/sundials_6.1.1/include -I stan/lib/stan_math/lib/sundials_6.1.1/src/sundials -DNO_FPRINTF_OUTPUT     -O3  -c -x c -include stan/lib/stan_math/lib/sundials_6.1.1/include/stan_sundials_printf_override.hpp stan/lib/stan_math/lib/sundials_6.1.1/src/cvodes/cvodea_io.c -o stan/lib/stan_math/lib/sundials_6.1.1/src/cvodes/cvodea_io.o\n",
            "g++ -pipe   -pthread -D_REENTRANT  -O3 -I stan/lib/stan_math/lib/sundials_6.1.1/include -I stan/lib/stan_math/lib/sundials_6.1.1/src/sundials -DNO_FPRINTF_OUTPUT     -O3  -c -x c -include stan/lib/stan_math/lib/sundials_6.1.1/include/stan_sundials_printf_override.hpp stan/lib/stan_math/lib/sundials_6.1.1/src/cvodes/cvodes_bandpre.c -o stan/lib/stan_math/lib/sundials_6.1.1/src/cvodes/cvodes_bandpre.o\n",
            "g++ -pipe   -pthread -D_REENTRANT  -O3 -I stan/lib/stan_math/lib/sundials_6.1.1/include -I stan/lib/stan_math/lib/sundials_6.1.1/src/sundials -DNO_FPRINTF_OUTPUT     -O3  -c -x c -include stan/lib/stan_math/lib/sundials_6.1.1/include/stan_sundials_printf_override.hpp stan/lib/stan_math/lib/sundials_6.1.1/src/cvodes/cvodes_bbdpre.c -o stan/lib/stan_math/lib/sundials_6.1.1/src/cvodes/cvodes_bbdpre.o\n",
            "g++ -pipe   -pthread -D_REENTRANT  -O3 -I stan/lib/stan_math/lib/sundials_6.1.1/include -I stan/lib/stan_math/lib/sundials_6.1.1/src/sundials -DNO_FPRINTF_OUTPUT     -O3  -c -x c -include stan/lib/stan_math/lib/sundials_6.1.1/include/stan_sundials_printf_override.hpp stan/lib/stan_math/lib/sundials_6.1.1/src/cvodes/cvodes.c -o stan/lib/stan_math/lib/sundials_6.1.1/src/cvodes/cvodes.o\n",
            "g++ -pipe   -pthread -D_REENTRANT  -O3 -I stan/lib/stan_math/lib/sundials_6.1.1/include -I stan/lib/stan_math/lib/sundials_6.1.1/src/sundials -DNO_FPRINTF_OUTPUT     -O3  -c -x c -include stan/lib/stan_math/lib/sundials_6.1.1/include/stan_sundials_printf_override.hpp stan/lib/stan_math/lib/sundials_6.1.1/src/cvodes/cvodes_diag.c -o stan/lib/stan_math/lib/sundials_6.1.1/src/cvodes/cvodes_diag.o\n",
            "g++ -pipe   -pthread -D_REENTRANT  -O3 -I stan/lib/stan_math/lib/sundials_6.1.1/include -I stan/lib/stan_math/lib/sundials_6.1.1/src/sundials -DNO_FPRINTF_OUTPUT     -O3  -c -x c -include stan/lib/stan_math/lib/sundials_6.1.1/include/stan_sundials_printf_override.hpp stan/lib/stan_math/lib/sundials_6.1.1/src/cvodes/cvodes_direct.c -o stan/lib/stan_math/lib/sundials_6.1.1/src/cvodes/cvodes_direct.o\n",
            "g++ -pipe   -pthread -D_REENTRANT  -O3 -I stan/lib/stan_math/lib/sundials_6.1.1/include -I stan/lib/stan_math/lib/sundials_6.1.1/src/sundials -DNO_FPRINTF_OUTPUT     -O3  -c -x c -include stan/lib/stan_math/lib/sundials_6.1.1/include/stan_sundials_printf_override.hpp stan/lib/stan_math/lib/sundials_6.1.1/src/cvodes/cvodes_io.c -o stan/lib/stan_math/lib/sundials_6.1.1/src/cvodes/cvodes_io.o\n",
            "g++ -pipe   -pthread -D_REENTRANT  -O3 -I stan/lib/stan_math/lib/sundials_6.1.1/include -I stan/lib/stan_math/lib/sundials_6.1.1/src/sundials -DNO_FPRINTF_OUTPUT     -O3  -c -x c -include stan/lib/stan_math/lib/sundials_6.1.1/include/stan_sundials_printf_override.hpp stan/lib/stan_math/lib/sundials_6.1.1/src/cvodes/cvodes_ls.c -o stan/lib/stan_math/lib/sundials_6.1.1/src/cvodes/cvodes_ls.o\n",
            "g++ -pipe   -pthread -D_REENTRANT  -O3 -I stan/lib/stan_math/lib/sundials_6.1.1/include -I stan/lib/stan_math/lib/sundials_6.1.1/src/sundials -DNO_FPRINTF_OUTPUT     -O3  -c -x c -include stan/lib/stan_math/lib/sundials_6.1.1/include/stan_sundials_printf_override.hpp stan/lib/stan_math/lib/sundials_6.1.1/src/cvodes/cvodes_nls.c -o stan/lib/stan_math/lib/sundials_6.1.1/src/cvodes/cvodes_nls.o\n",
            "g++ -pipe   -pthread -D_REENTRANT  -O3 -I stan/lib/stan_math/lib/sundials_6.1.1/include -I stan/lib/stan_math/lib/sundials_6.1.1/src/sundials -DNO_FPRINTF_OUTPUT     -O3  -c -x c -include stan/lib/stan_math/lib/sundials_6.1.1/include/stan_sundials_printf_override.hpp stan/lib/stan_math/lib/sundials_6.1.1/src/cvodes/cvodes_nls_sim.c -o stan/lib/stan_math/lib/sundials_6.1.1/src/cvodes/cvodes_nls_sim.o\n",
            "g++ -pipe   -pthread -D_REENTRANT  -O3 -I stan/lib/stan_math/lib/sundials_6.1.1/include -I stan/lib/stan_math/lib/sundials_6.1.1/src/sundials -DNO_FPRINTF_OUTPUT     -O3  -c -x c -include stan/lib/stan_math/lib/sundials_6.1.1/include/stan_sundials_printf_override.hpp stan/lib/stan_math/lib/sundials_6.1.1/src/cvodes/cvodes_nls_stg1.c -o stan/lib/stan_math/lib/sundials_6.1.1/src/cvodes/cvodes_nls_stg1.o\n",
            "g++ -pipe   -pthread -D_REENTRANT  -O3 -I stan/lib/stan_math/lib/sundials_6.1.1/include -I stan/lib/stan_math/lib/sundials_6.1.1/src/sundials -DNO_FPRINTF_OUTPUT     -O3  -c -x c -include stan/lib/stan_math/lib/sundials_6.1.1/include/stan_sundials_printf_override.hpp stan/lib/stan_math/lib/sundials_6.1.1/src/cvodes/cvodes_nls_stg.c -o stan/lib/stan_math/lib/sundials_6.1.1/src/cvodes/cvodes_nls_stg.o\n",
            "g++ -pipe   -pthread -D_REENTRANT  -O3 -I stan/lib/stan_math/lib/sundials_6.1.1/include -I stan/lib/stan_math/lib/sundials_6.1.1/src/sundials -DNO_FPRINTF_OUTPUT     -O3  -c -x c -include stan/lib/stan_math/lib/sundials_6.1.1/include/stan_sundials_printf_override.hpp stan/lib/stan_math/lib/sundials_6.1.1/src/cvodes/cvodes_spils.c -o stan/lib/stan_math/lib/sundials_6.1.1/src/cvodes/cvodes_spils.o\n",
            "g++ -pipe   -pthread -D_REENTRANT  -O3 -I stan/lib/stan_math/lib/sundials_6.1.1/include -I stan/lib/stan_math/lib/sundials_6.1.1/src/sundials -DNO_FPRINTF_OUTPUT     -O3  -c -x c -include stan/lib/stan_math/lib/sundials_6.1.1/include/stan_sundials_printf_override.hpp stan/lib/stan_math/lib/sundials_6.1.1/src/sundials/sundials_band.c -o stan/lib/stan_math/lib/sundials_6.1.1/src/sundials/sundials_band.o\n",
            "g++ -pipe   -pthread -D_REENTRANT  -O3 -I stan/lib/stan_math/lib/sundials_6.1.1/include -I stan/lib/stan_math/lib/sundials_6.1.1/src/sundials -DNO_FPRINTF_OUTPUT     -O3  -c -x c -include stan/lib/stan_math/lib/sundials_6.1.1/include/stan_sundials_printf_override.hpp stan/lib/stan_math/lib/sundials_6.1.1/src/sundials/sundials_context.c -o stan/lib/stan_math/lib/sundials_6.1.1/src/sundials/sundials_context.o\n",
            "g++ -pipe   -pthread -D_REENTRANT  -O3 -I stan/lib/stan_math/lib/sundials_6.1.1/include -I stan/lib/stan_math/lib/sundials_6.1.1/src/sundials -DNO_FPRINTF_OUTPUT     -O3  -c -x c -include stan/lib/stan_math/lib/sundials_6.1.1/include/stan_sundials_printf_override.hpp stan/lib/stan_math/lib/sundials_6.1.1/src/sundials/sundials_dense.c -o stan/lib/stan_math/lib/sundials_6.1.1/src/sundials/sundials_dense.o\n",
            "g++ -pipe   -pthread -D_REENTRANT  -O3 -I stan/lib/stan_math/lib/sundials_6.1.1/include -I stan/lib/stan_math/lib/sundials_6.1.1/src/sundials -DNO_FPRINTF_OUTPUT     -O3  -c -x c -include stan/lib/stan_math/lib/sundials_6.1.1/include/stan_sundials_printf_override.hpp stan/lib/stan_math/lib/sundials_6.1.1/src/sundials/sundials_direct.c -o stan/lib/stan_math/lib/sundials_6.1.1/src/sundials/sundials_direct.o\n",
            "g++ -pipe   -pthread -D_REENTRANT  -O3 -I stan/lib/stan_math/lib/sundials_6.1.1/include -I stan/lib/stan_math/lib/sundials_6.1.1/src/sundials -DNO_FPRINTF_OUTPUT     -O3  -c -x c -include stan/lib/stan_math/lib/sundials_6.1.1/include/stan_sundials_printf_override.hpp stan/lib/stan_math/lib/sundials_6.1.1/src/sundials/sundials_futils.c -o stan/lib/stan_math/lib/sundials_6.1.1/src/sundials/sundials_futils.o\n",
            "g++ -pipe   -pthread -D_REENTRANT  -O3 -I stan/lib/stan_math/lib/sundials_6.1.1/include -I stan/lib/stan_math/lib/sundials_6.1.1/src/sundials -DNO_FPRINTF_OUTPUT     -O3  -c -x c -include stan/lib/stan_math/lib/sundials_6.1.1/include/stan_sundials_printf_override.hpp stan/lib/stan_math/lib/sundials_6.1.1/src/sundials/sundials_iterative.c -o stan/lib/stan_math/lib/sundials_6.1.1/src/sundials/sundials_iterative.o\n",
            "g++ -pipe   -pthread -D_REENTRANT  -O3 -I stan/lib/stan_math/lib/sundials_6.1.1/include -I stan/lib/stan_math/lib/sundials_6.1.1/src/sundials -DNO_FPRINTF_OUTPUT     -O3  -c -x c -include stan/lib/stan_math/lib/sundials_6.1.1/include/stan_sundials_printf_override.hpp stan/lib/stan_math/lib/sundials_6.1.1/src/sundials/sundials_linearsolver.c -o stan/lib/stan_math/lib/sundials_6.1.1/src/sundials/sundials_linearsolver.o\n",
            "g++ -pipe   -pthread -D_REENTRANT  -O3 -I stan/lib/stan_math/lib/sundials_6.1.1/include -I stan/lib/stan_math/lib/sundials_6.1.1/src/sundials -DNO_FPRINTF_OUTPUT     -O3  -c -x c -include stan/lib/stan_math/lib/sundials_6.1.1/include/stan_sundials_printf_override.hpp stan/lib/stan_math/lib/sundials_6.1.1/src/sundials/sundials_matrix.c -o stan/lib/stan_math/lib/sundials_6.1.1/src/sundials/sundials_matrix.o\n",
            "g++ -pipe   -pthread -D_REENTRANT  -O3 -I stan/lib/stan_math/lib/sundials_6.1.1/include -I stan/lib/stan_math/lib/sundials_6.1.1/src/sundials -DNO_FPRINTF_OUTPUT     -O3  -c -x c -include stan/lib/stan_math/lib/sundials_6.1.1/include/stan_sundials_printf_override.hpp stan/lib/stan_math/lib/sundials_6.1.1/src/sundials/sundials_memory.c -o stan/lib/stan_math/lib/sundials_6.1.1/src/sundials/sundials_memory.o\n",
            "g++ -pipe   -pthread -D_REENTRANT  -O3 -I stan/lib/stan_math/lib/sundials_6.1.1/include -I stan/lib/stan_math/lib/sundials_6.1.1/src/sundials -DNO_FPRINTF_OUTPUT     -O3  -c -x c -include stan/lib/stan_math/lib/sundials_6.1.1/include/stan_sundials_printf_override.hpp stan/lib/stan_math/lib/sundials_6.1.1/src/sundials/sundials_nonlinearsolver.c -o stan/lib/stan_math/lib/sundials_6.1.1/src/sundials/sundials_nonlinearsolver.o\n",
            "g++ -pipe   -pthread -D_REENTRANT  -O3 -I stan/lib/stan_math/lib/sundials_6.1.1/include -I stan/lib/stan_math/lib/sundials_6.1.1/src/sundials -DNO_FPRINTF_OUTPUT     -O3  -c -x c -include stan/lib/stan_math/lib/sundials_6.1.1/include/stan_sundials_printf_override.hpp stan/lib/stan_math/lib/sundials_6.1.1/src/sundials/sundials_nvector.c -o stan/lib/stan_math/lib/sundials_6.1.1/src/sundials/sundials_nvector.o\n",
            "g++ -pipe   -pthread -D_REENTRANT  -O3 -I stan/lib/stan_math/lib/sundials_6.1.1/include -I stan/lib/stan_math/lib/sundials_6.1.1/src/sundials -DNO_FPRINTF_OUTPUT     -O3  -c -x c -include stan/lib/stan_math/lib/sundials_6.1.1/include/stan_sundials_printf_override.hpp stan/lib/stan_math/lib/sundials_6.1.1/src/sundials/sundials_nvector_senswrapper.c -o stan/lib/stan_math/lib/sundials_6.1.1/src/sundials/sundials_nvector_senswrapper.o\n",
            "g++ -pipe   -pthread -D_REENTRANT  -O3 -I stan/lib/stan_math/lib/sundials_6.1.1/include -I stan/lib/stan_math/lib/sundials_6.1.1/src/sundials -DNO_FPRINTF_OUTPUT     -O3  -c -x c -include stan/lib/stan_math/lib/sundials_6.1.1/include/stan_sundials_printf_override.hpp stan/lib/stan_math/lib/sundials_6.1.1/src/sundials/sundials_version.c -o stan/lib/stan_math/lib/sundials_6.1.1/src/sundials/sundials_version.o\n",
            "g++ -pipe   -pthread -D_REENTRANT  -O3 -I stan/lib/stan_math/lib/sundials_6.1.1/include -I stan/lib/stan_math/lib/sundials_6.1.1/src/sundials -DNO_FPRINTF_OUTPUT     -O3  -c -x c -include stan/lib/stan_math/lib/sundials_6.1.1/include/stan_sundials_printf_override.hpp stan/lib/stan_math/lib/sundials_6.1.1/src/sunmatrix/band/sunmatrix_band.c -o stan/lib/stan_math/lib/sundials_6.1.1/src/sunmatrix/band/sunmatrix_band.o\n",
            "g++ -pipe   -pthread -D_REENTRANT  -O3 -I stan/lib/stan_math/lib/sundials_6.1.1/include -I stan/lib/stan_math/lib/sundials_6.1.1/src/sundials -DNO_FPRINTF_OUTPUT     -O3  -c -x c -include stan/lib/stan_math/lib/sundials_6.1.1/include/stan_sundials_printf_override.hpp stan/lib/stan_math/lib/sundials_6.1.1/src/sunmatrix/dense/sunmatrix_dense.c -o stan/lib/stan_math/lib/sundials_6.1.1/src/sunmatrix/dense/sunmatrix_dense.o\n",
            "g++ -pipe   -pthread -D_REENTRANT  -O3 -I stan/lib/stan_math/lib/sundials_6.1.1/include -I stan/lib/stan_math/lib/sundials_6.1.1/src/sundials -DNO_FPRINTF_OUTPUT     -O3  -c -x c -include stan/lib/stan_math/lib/sundials_6.1.1/include/stan_sundials_printf_override.hpp stan/lib/stan_math/lib/sundials_6.1.1/src/sunlinsol/band/sunlinsol_band.c -o stan/lib/stan_math/lib/sundials_6.1.1/src/sunlinsol/band/sunlinsol_band.o\n",
            "g++ -pipe   -pthread -D_REENTRANT  -O3 -I stan/lib/stan_math/lib/sundials_6.1.1/include -I stan/lib/stan_math/lib/sundials_6.1.1/src/sundials -DNO_FPRINTF_OUTPUT     -O3  -c -x c -include stan/lib/stan_math/lib/sundials_6.1.1/include/stan_sundials_printf_override.hpp stan/lib/stan_math/lib/sundials_6.1.1/src/sunlinsol/dense/sunlinsol_dense.c -o stan/lib/stan_math/lib/sundials_6.1.1/src/sunlinsol/dense/sunlinsol_dense.o\n",
            "g++ -pipe   -pthread -D_REENTRANT  -O3 -I stan/lib/stan_math/lib/sundials_6.1.1/include -I stan/lib/stan_math/lib/sundials_6.1.1/src/sundials -DNO_FPRINTF_OUTPUT     -O3  -c -x c -include stan/lib/stan_math/lib/sundials_6.1.1/include/stan_sundials_printf_override.hpp stan/lib/stan_math/lib/sundials_6.1.1/src/sunnonlinsol/newton/sunnonlinsol_newton.c -o stan/lib/stan_math/lib/sundials_6.1.1/src/sunnonlinsol/newton/sunnonlinsol_newton.o\n",
            "g++ -pipe   -pthread -D_REENTRANT  -O3 -I stan/lib/stan_math/lib/sundials_6.1.1/include -I stan/lib/stan_math/lib/sundials_6.1.1/src/sundials -DNO_FPRINTF_OUTPUT     -O3  -c -x c -include stan/lib/stan_math/lib/sundials_6.1.1/include/stan_sundials_printf_override.hpp stan/lib/stan_math/lib/sundials_6.1.1/src/sunnonlinsol/fixedpoint/sunnonlinsol_fixedpoint.c -o stan/lib/stan_math/lib/sundials_6.1.1/src/sunnonlinsol/fixedpoint/sunnonlinsol_fixedpoint.o\n",
            "g++ -pipe   -pthread -D_REENTRANT  -O3 -I stan/lib/stan_math/lib/sundials_6.1.1/include -I stan/lib/stan_math/lib/sundials_6.1.1/src/sundials -DNO_FPRINTF_OUTPUT     -O3  -c -x c -include stan/lib/stan_math/lib/sundials_6.1.1/include/stan_sundials_printf_override.hpp stan/lib/stan_math/lib/sundials_6.1.1/src/idas/idaa.c -o stan/lib/stan_math/lib/sundials_6.1.1/src/idas/idaa.o\n",
            "g++ -pipe   -pthread -D_REENTRANT  -O3 -I stan/lib/stan_math/lib/sundials_6.1.1/include -I stan/lib/stan_math/lib/sundials_6.1.1/src/sundials -DNO_FPRINTF_OUTPUT     -O3  -c -x c -include stan/lib/stan_math/lib/sundials_6.1.1/include/stan_sundials_printf_override.hpp stan/lib/stan_math/lib/sundials_6.1.1/src/idas/idaa_io.c -o stan/lib/stan_math/lib/sundials_6.1.1/src/idas/idaa_io.o\n",
            "g++ -pipe   -pthread -D_REENTRANT  -O3 -I stan/lib/stan_math/lib/sundials_6.1.1/include -I stan/lib/stan_math/lib/sundials_6.1.1/src/sundials -DNO_FPRINTF_OUTPUT     -O3  -c -x c -include stan/lib/stan_math/lib/sundials_6.1.1/include/stan_sundials_printf_override.hpp stan/lib/stan_math/lib/sundials_6.1.1/src/idas/idas_bbdpre.c -o stan/lib/stan_math/lib/sundials_6.1.1/src/idas/idas_bbdpre.o\n",
            "g++ -pipe   -pthread -D_REENTRANT  -O3 -I stan/lib/stan_math/lib/sundials_6.1.1/include -I stan/lib/stan_math/lib/sundials_6.1.1/src/sundials -DNO_FPRINTF_OUTPUT     -O3  -c -x c -include stan/lib/stan_math/lib/sundials_6.1.1/include/stan_sundials_printf_override.hpp stan/lib/stan_math/lib/sundials_6.1.1/src/idas/idas.c -o stan/lib/stan_math/lib/sundials_6.1.1/src/idas/idas.o\n",
            "g++ -pipe   -pthread -D_REENTRANT  -O3 -I stan/lib/stan_math/lib/sundials_6.1.1/include -I stan/lib/stan_math/lib/sundials_6.1.1/src/sundials -DNO_FPRINTF_OUTPUT     -O3  -c -x c -include stan/lib/stan_math/lib/sundials_6.1.1/include/stan_sundials_printf_override.hpp stan/lib/stan_math/lib/sundials_6.1.1/src/idas/idas_direct.c -o stan/lib/stan_math/lib/sundials_6.1.1/src/idas/idas_direct.o\n",
            "g++ -pipe   -pthread -D_REENTRANT  -O3 -I stan/lib/stan_math/lib/sundials_6.1.1/include -I stan/lib/stan_math/lib/sundials_6.1.1/src/sundials -DNO_FPRINTF_OUTPUT     -O3  -c -x c -include stan/lib/stan_math/lib/sundials_6.1.1/include/stan_sundials_printf_override.hpp stan/lib/stan_math/lib/sundials_6.1.1/src/idas/idas_ic.c -o stan/lib/stan_math/lib/sundials_6.1.1/src/idas/idas_ic.o\n",
            "g++ -pipe   -pthread -D_REENTRANT  -O3 -I stan/lib/stan_math/lib/sundials_6.1.1/include -I stan/lib/stan_math/lib/sundials_6.1.1/src/sundials -DNO_FPRINTF_OUTPUT     -O3  -c -x c -include stan/lib/stan_math/lib/sundials_6.1.1/include/stan_sundials_printf_override.hpp stan/lib/stan_math/lib/sundials_6.1.1/src/idas/idas_io.c -o stan/lib/stan_math/lib/sundials_6.1.1/src/idas/idas_io.o\n",
            "g++ -pipe   -pthread -D_REENTRANT  -O3 -I stan/lib/stan_math/lib/sundials_6.1.1/include -I stan/lib/stan_math/lib/sundials_6.1.1/src/sundials -DNO_FPRINTF_OUTPUT     -O3  -c -x c -include stan/lib/stan_math/lib/sundials_6.1.1/include/stan_sundials_printf_override.hpp stan/lib/stan_math/lib/sundials_6.1.1/src/idas/idas_ls.c -o stan/lib/stan_math/lib/sundials_6.1.1/src/idas/idas_ls.o\n",
            "g++ -pipe   -pthread -D_REENTRANT  -O3 -I stan/lib/stan_math/lib/sundials_6.1.1/include -I stan/lib/stan_math/lib/sundials_6.1.1/src/sundials -DNO_FPRINTF_OUTPUT     -O3  -c -x c -include stan/lib/stan_math/lib/sundials_6.1.1/include/stan_sundials_printf_override.hpp stan/lib/stan_math/lib/sundials_6.1.1/src/idas/idas_nls.c -o stan/lib/stan_math/lib/sundials_6.1.1/src/idas/idas_nls.o\n",
            "g++ -pipe   -pthread -D_REENTRANT  -O3 -I stan/lib/stan_math/lib/sundials_6.1.1/include -I stan/lib/stan_math/lib/sundials_6.1.1/src/sundials -DNO_FPRINTF_OUTPUT     -O3  -c -x c -include stan/lib/stan_math/lib/sundials_6.1.1/include/stan_sundials_printf_override.hpp stan/lib/stan_math/lib/sundials_6.1.1/src/idas/idas_nls_sim.c -o stan/lib/stan_math/lib/sundials_6.1.1/src/idas/idas_nls_sim.o\n",
            "g++ -pipe   -pthread -D_REENTRANT  -O3 -I stan/lib/stan_math/lib/sundials_6.1.1/include -I stan/lib/stan_math/lib/sundials_6.1.1/src/sundials -DNO_FPRINTF_OUTPUT     -O3  -c -x c -include stan/lib/stan_math/lib/sundials_6.1.1/include/stan_sundials_printf_override.hpp stan/lib/stan_math/lib/sundials_6.1.1/src/idas/idas_nls_stg.c -o stan/lib/stan_math/lib/sundials_6.1.1/src/idas/idas_nls_stg.o\n",
            "g++ -pipe   -pthread -D_REENTRANT  -O3 -I stan/lib/stan_math/lib/sundials_6.1.1/include -I stan/lib/stan_math/lib/sundials_6.1.1/src/sundials -DNO_FPRINTF_OUTPUT     -O3  -c -x c -include stan/lib/stan_math/lib/sundials_6.1.1/include/stan_sundials_printf_override.hpp stan/lib/stan_math/lib/sundials_6.1.1/src/idas/idas_spils.c -o stan/lib/stan_math/lib/sundials_6.1.1/src/idas/idas_spils.o\n",
            "g++ -pipe   -pthread -D_REENTRANT  -O3 -I stan/lib/stan_math/lib/sundials_6.1.1/include -I stan/lib/stan_math/lib/sundials_6.1.1/src/sundials -DNO_FPRINTF_OUTPUT     -O3  -c -x c -include stan/lib/stan_math/lib/sundials_6.1.1/include/stan_sundials_printf_override.hpp stan/lib/stan_math/lib/sundials_6.1.1/src/kinsol/kinsol_bbdpre.c -o stan/lib/stan_math/lib/sundials_6.1.1/src/kinsol/kinsol_bbdpre.o\n",
            "g++ -pipe   -pthread -D_REENTRANT  -O3 -I stan/lib/stan_math/lib/sundials_6.1.1/include -I stan/lib/stan_math/lib/sundials_6.1.1/src/sundials -DNO_FPRINTF_OUTPUT     -O3  -c -x c -include stan/lib/stan_math/lib/sundials_6.1.1/include/stan_sundials_printf_override.hpp stan/lib/stan_math/lib/sundials_6.1.1/src/kinsol/kinsol.c -o stan/lib/stan_math/lib/sundials_6.1.1/src/kinsol/kinsol.o\n",
            "g++ -pipe   -pthread -D_REENTRANT  -O3 -I stan/lib/stan_math/lib/sundials_6.1.1/include -I stan/lib/stan_math/lib/sundials_6.1.1/src/sundials -DNO_FPRINTF_OUTPUT     -O3  -c -x c -include stan/lib/stan_math/lib/sundials_6.1.1/include/stan_sundials_printf_override.hpp stan/lib/stan_math/lib/sundials_6.1.1/src/kinsol/kinsol_direct.c -o stan/lib/stan_math/lib/sundials_6.1.1/src/kinsol/kinsol_direct.o\n",
            "g++ -pipe   -pthread -D_REENTRANT  -O3 -I stan/lib/stan_math/lib/sundials_6.1.1/include -I stan/lib/stan_math/lib/sundials_6.1.1/src/sundials -DNO_FPRINTF_OUTPUT     -O3  -c -x c -include stan/lib/stan_math/lib/sundials_6.1.1/include/stan_sundials_printf_override.hpp stan/lib/stan_math/lib/sundials_6.1.1/src/kinsol/kinsol_io.c -o stan/lib/stan_math/lib/sundials_6.1.1/src/kinsol/kinsol_io.o\n",
            "g++ -pipe   -pthread -D_REENTRANT  -O3 -I stan/lib/stan_math/lib/sundials_6.1.1/include -I stan/lib/stan_math/lib/sundials_6.1.1/src/sundials -DNO_FPRINTF_OUTPUT     -O3  -c -x c -include stan/lib/stan_math/lib/sundials_6.1.1/include/stan_sundials_printf_override.hpp stan/lib/stan_math/lib/sundials_6.1.1/src/kinsol/kinsol_ls.c -o stan/lib/stan_math/lib/sundials_6.1.1/src/kinsol/kinsol_ls.o\n",
            "g++ -pipe   -pthread -D_REENTRANT  -O3 -I stan/lib/stan_math/lib/sundials_6.1.1/include -I stan/lib/stan_math/lib/sundials_6.1.1/src/sundials -DNO_FPRINTF_OUTPUT     -O3  -c -x c -include stan/lib/stan_math/lib/sundials_6.1.1/include/stan_sundials_printf_override.hpp stan/lib/stan_math/lib/sundials_6.1.1/src/kinsol/kinsol_spils.c -o stan/lib/stan_math/lib/sundials_6.1.1/src/kinsol/kinsol_spils.o\n",
            "touch stan/lib/stan_math/lib/tbb/tbb-make-check\n",
            "\n",
            "--- Compiling the main object file. This might take up to a minute. ---\n",
            "g++ -Wno-deprecated-declarations -std=c++17 -pthread -D_REENTRANT -Wno-sign-compare -Wno-ignored-attributes -Wno-class-memaccess      -I stan/lib/stan_math/lib/tbb_2020.3/include    -O3 -I src -I stan/src -I stan/lib/rapidjson_1.1.0/ -I lib/CLI11-1.9.1/ -I stan/lib/stan_math/ -I stan/lib/stan_math/lib/eigen_3.4.0 -I stan/lib/stan_math/lib/boost_1.84.0 -I stan/lib/stan_math/lib/sundials_6.1.1/include -I stan/lib/stan_math/lib/sundials_6.1.1/src/sundials    -DBOOST_DISABLE_ASSERTS          -c -o src/cmdstan/main.o src/cmdstan/main.cpp\n",
            "\n",
            "--- Compiling pre-compiled header. This might take a few seconds. ---\n",
            "g++ -Wno-deprecated-declarations -std=c++17 -pthread -D_REENTRANT -Wno-sign-compare -Wno-ignored-attributes -Wno-class-memaccess      -I stan/lib/stan_math/lib/tbb_2020.3/include    -O3 -I src -I stan/src -I stan/lib/rapidjson_1.1.0/ -I lib/CLI11-1.9.1/ -I stan/lib/stan_math/ -I stan/lib/stan_math/lib/eigen_3.4.0 -I stan/lib/stan_math/lib/boost_1.84.0 -I stan/lib/stan_math/lib/sundials_6.1.1/include -I stan/lib/stan_math/lib/sundials_6.1.1/src/sundials    -DBOOST_DISABLE_ASSERTS          -c stan/src/stan/model/model_header.hpp -o stan/src/stan/model/model_header.hpp.gch/model_header_11_4.hpp.gch\n",
            "g++ -Wno-deprecated-declarations -std=c++17 -pthread -D_REENTRANT -Wno-sign-compare -Wno-ignored-attributes -Wno-class-memaccess      -I stan/lib/stan_math/lib/tbb_2020.3/include    -O3 -I src -I stan/src -I stan/lib/rapidjson_1.1.0/ -I lib/CLI11-1.9.1/ -I stan/lib/stan_math/ -I stan/lib/stan_math/lib/eigen_3.4.0 -I stan/lib/stan_math/lib/boost_1.84.0 -I stan/lib/stan_math/lib/sundials_6.1.1/include -I stan/lib/stan_math/lib/sundials_6.1.1/src/sundials    -DBOOST_DISABLE_ASSERTS          -c -fvisibility=hidden src/cmdstan/stansummary.cpp -o bin/cmdstan/stansummary.o\n",
            "g++ -Wno-deprecated-declarations -std=c++17 -pthread -D_REENTRANT -Wno-sign-compare -Wno-ignored-attributes -Wno-class-memaccess      -I stan/lib/stan_math/lib/tbb_2020.3/include    -O3 -I src -I stan/src -I stan/lib/rapidjson_1.1.0/ -I lib/CLI11-1.9.1/ -I stan/lib/stan_math/ -I stan/lib/stan_math/lib/eigen_3.4.0 -I stan/lib/stan_math/lib/boost_1.84.0 -I stan/lib/stan_math/lib/sundials_6.1.1/include -I stan/lib/stan_math/lib/sundials_6.1.1/src/sundials    -DBOOST_DISABLE_ASSERTS          -c -fvisibility=hidden src/cmdstan/print.cpp -o bin/cmdstan/print.o\n",
            "g++ -Wno-deprecated-declarations -std=c++17 -pthread -D_REENTRANT -Wno-sign-compare -Wno-ignored-attributes -Wno-class-memaccess      -I stan/lib/stan_math/lib/tbb_2020.3/include    -O3 -I src -I stan/src -I stan/lib/rapidjson_1.1.0/ -I lib/CLI11-1.9.1/ -I stan/lib/stan_math/ -I stan/lib/stan_math/lib/eigen_3.4.0 -I stan/lib/stan_math/lib/boost_1.84.0 -I stan/lib/stan_math/lib/sundials_6.1.1/include -I stan/lib/stan_math/lib/sundials_6.1.1/src/sundials    -DBOOST_DISABLE_ASSERTS          -c -fvisibility=hidden src/cmdstan/diagnose.cpp -o bin/cmdstan/diagnose.o\n",
            "ar -rs stan/lib/stan_math/lib/sundials_6.1.1/lib/libsundials_nvecserial.a stan/lib/stan_math/lib/sundials_6.1.1/src/nvector/serial/nvector_serial.o stan/lib/stan_math/lib/sundials_6.1.1/src/sundials/sundials_math.o\n",
            "\u001b[31mar: \u001b[39m\u001b[31mcreating stan/lib/stan_math/lib/sundials_6.1.1/lib/libsundials_nvecserial.a\n",
            "\u001b[39mar -rs stan/lib/stan_math/lib/sundials_6.1.1/lib/libsundials_cvodes.a stan/lib/stan_math/lib/sundials_6.1.1/src/cvodes/cvodea.o stan/lib/stan_math/lib/sundials_6.1.1/src/cvodes/cvodea_io.o stan/lib/stan_math/lib/sundials_6.1.1/src/cvodes/cvodes_bandpre.o stan/lib/stan_math/lib/sundials_6.1.1/src/cvodes/cvodes_bbdpre.o stan/lib/stan_math/lib/sundials_6.1.1/src/cvodes/cvodes.o stan/lib/stan_math/lib/sundials_6.1.1/src/cvodes/cvodes_diag.o stan/lib/stan_math/lib/sundials_6.1.1/src/cvodes/cvodes_direct.o stan/lib/stan_math/lib/sundials_6.1.1/src/cvodes/cvodes_io.o stan/lib/stan_math/lib/sundials_6.1.1/src/cvodes/cvodes_ls.o stan/lib/stan_math/lib/sundials_6.1.1/src/cvodes/cvodes_nls.o stan/lib/stan_math/lib/sundials_6.1.1/src/cvodes/cvodes_nls_sim.o stan/lib/stan_math/lib/sundials_6.1.1/src/cvodes/cvodes_nls_stg1.o stan/lib/stan_math/lib/sundials_6.1.1/src/cvodes/cvodes_nls_stg.o stan/lib/stan_math/lib/sundials_6.1.1/src/cvodes/cvodes_spils.o stan/lib/stan_math/lib/sundials_6.1.1/src/sundials/sundials_band.o stan/lib/stan_math/lib/sundials_6.1.1/src/sundials/sundials_context.o stan/lib/stan_math/lib/sundials_6.1.1/src/sundials/sundials_dense.o stan/lib/stan_math/lib/sundials_6.1.1/src/sundials/sundials_direct.o stan/lib/stan_math/lib/sundials_6.1.1/src/sundials/sundials_futils.o stan/lib/stan_math/lib/sundials_6.1.1/src/sundials/sundials_iterative.o stan/lib/stan_math/lib/sundials_6.1.1/src/sundials/sundials_linearsolver.o stan/lib/stan_math/lib/sundials_6.1.1/src/sundials/sundials_math.o stan/lib/stan_math/lib/sundials_6.1.1/src/sundials/sundials_matrix.o stan/lib/stan_math/lib/sundials_6.1.1/src/sundials/sundials_memory.o stan/lib/stan_math/lib/sundials_6.1.1/src/sundials/sundials_nonlinearsolver.o stan/lib/stan_math/lib/sundials_6.1.1/src/sundials/sundials_nvector.o stan/lib/stan_math/lib/sundials_6.1.1/src/sundials/sundials_nvector_senswrapper.o stan/lib/stan_math/lib/sundials_6.1.1/src/sundials/sundials_version.o stan/lib/stan_math/lib/sundials_6.1.1/src/sunmatrix/band/sunmatrix_band.o stan/lib/stan_math/lib/sundials_6.1.1/src/sunmatrix/dense/sunmatrix_dense.o stan/lib/stan_math/lib/sundials_6.1.1/src/sunlinsol/band/sunlinsol_band.o stan/lib/stan_math/lib/sundials_6.1.1/src/sunlinsol/dense/sunlinsol_dense.o stan/lib/stan_math/lib/sundials_6.1.1/src/sunnonlinsol/newton/sunnonlinsol_newton.o stan/lib/stan_math/lib/sundials_6.1.1/src/sunnonlinsol/fixedpoint/sunnonlinsol_fixedpoint.o\n",
            "\u001b[31mar: creating stan/lib/stan_math/lib/sundials_6.1.1/lib/libsundials_cvodes.a\n",
            "\u001b[39mar -rs stan/lib/stan_math/lib/sundials_6.1.1/lib/libsundials_idas.a stan/lib/stan_math/lib/sundials_6.1.1/src/idas/idaa.o stan/lib/stan_math/lib/sundials_6.1.1/src/idas/idaa_io.o stan/lib/stan_math/lib/sundials_6.1.1/src/idas/idas_bbdpre.o stan/lib/stan_math/lib/sundials_6.1.1/src/idas/idas.o stan/lib/stan_math/lib/sundials_6.1.1/src/idas/idas_direct.o stan/lib/stan_math/lib/sundials_6.1.1/src/idas/idas_ic.o stan/lib/stan_math/lib/sundials_6.1.1/src/idas/idas_io.o stan/lib/stan_math/lib/sundials_6.1.1/src/idas/idas_ls.o stan/lib/stan_math/lib/sundials_6.1.1/src/idas/idas_nls.o stan/lib/stan_math/lib/sundials_6.1.1/src/idas/idas_nls_sim.o stan/lib/stan_math/lib/sundials_6.1.1/src/idas/idas_nls_stg.o stan/lib/stan_math/lib/sundials_6.1.1/src/idas/idas_spils.o stan/lib/stan_math/lib/sundials_6.1.1/src/sundials/sundials_band.o stan/lib/stan_math/lib/sundials_6.1.1/src/sundials/sundials_context.o stan/lib/stan_math/lib/sundials_6.1.1/src/sundials/sundials_dense.o stan/lib/stan_math/lib/sundials_6.1.1/src/sundials/sundials_direct.o stan/lib/stan_math/lib/sundials_6.1.1/src/sundials/sundials_futils.o stan/lib/stan_math/lib/sundials_6.1.1/src/sundials/sundials_iterative.o stan/lib/stan_math/lib/sundials_6.1.1/src/sundials/sundials_linearsolver.o stan/lib/stan_math/lib/sundials_6.1.1/src/sundials/sundials_math.o stan/lib/stan_math/lib/sundials_6.1.1/src/sundials/sundials_matrix.o stan/lib/stan_math/lib/sundials_6.1.1/src/sundials/sundials_memory.o stan/lib/stan_math/lib/sundials_6.1.1/src/sundials/sundials_nonlinearsolver.o stan/lib/stan_math/lib/sundials_6.1.1/src/sundials/sundials_nvector.o stan/lib/stan_math/lib/sundials_6.1.1/src/sundials/sundials_nvector_senswrapper.o stan/lib/stan_math/lib/sundials_6.1.1/src/sundials/sundials_version.o stan/lib/stan_math/lib/sundials_6.1.1/src/sunmatrix/band/sunmatrix_band.o stan/lib/stan_math/lib/sundials_6.1.1/src/sunmatrix/dense/sunmatrix_dense.o stan/lib/stan_math/lib/sundials_6.1.1/src/sunlinsol/band/sunlinsol_band.o stan/lib/stan_math/lib/sundials_6.1.1/src/sunlinsol/dense/sunlinsol_dense.o stan/lib/stan_math/lib/sundials_6.1.1/src/sunnonlinsol/newton/sunnonlinsol_newton.o stan/lib/stan_math/lib/sundials_6.1.1/src/sunnonlinsol/fixedpoint/sunnonlinsol_fixedpoint.o\n",
            "\u001b[31mar: creating stan/lib/stan_math/lib/sundials_6.1.1/lib/libsundials_idas.a\n",
            "\u001b[39mar -rs stan/lib/stan_math/lib/sundials_6.1.1/lib/libsundials_kinsol.a stan/lib/stan_math/lib/sundials_6.1.1/src/kinsol/kinsol_bbdpre.o stan/lib/stan_math/lib/sundials_6.1.1/src/kinsol/kinsol.o stan/lib/stan_math/lib/sundials_6.1.1/src/kinsol/kinsol_direct.o stan/lib/stan_math/lib/sundials_6.1.1/src/kinsol/kinsol_io.o stan/lib/stan_math/lib/sundials_6.1.1/src/kinsol/kinsol_ls.o stan/lib/stan_math/lib/sundials_6.1.1/src/kinsol/kinsol_spils.o stan/lib/stan_math/lib/sundials_6.1.1/src/sundials/sundials_band.o stan/lib/stan_math/lib/sundials_6.1.1/src/sundials/sundials_context.o stan/lib/stan_math/lib/sundials_6.1.1/src/sundials/sundials_dense.o stan/lib/stan_math/lib/sundials_6.1.1/src/sundials/sundials_direct.o stan/lib/stan_math/lib/sundials_6.1.1/src/sundials/sundials_futils.o stan/lib/stan_math/lib/sundials_6.1.1/src/sundials/sundials_iterative.o stan/lib/stan_math/lib/sundials_6.1.1/src/sundials/sundials_linearsolver.o stan/lib/stan_math/lib/sundials_6.1.1/src/sundials/sundials_math.o stan/lib/stan_math/lib/sundials_6.1.1/src/sundials/sundials_matrix.o stan/lib/stan_math/lib/sundials_6.1.1/src/sundials/sundials_memory.o stan/lib/stan_math/lib/sundials_6.1.1/src/sundials/sundials_nonlinearsolver.o stan/lib/stan_math/lib/sundials_6.1.1/src/sundials/sundials_nvector.o stan/lib/stan_math/lib/sundials_6.1.1/src/sundials/sundials_nvector_senswrapper.o stan/lib/stan_math/lib/sundials_6.1.1/src/sundials/sundials_version.o stan/lib/stan_math/lib/sundials_6.1.1/src/sunmatrix/band/sunmatrix_band.o stan/lib/stan_math/lib/sundials_6.1.1/src/sunmatrix/dense/sunmatrix_dense.o stan/lib/stan_math/lib/sundials_6.1.1/src/sunlinsol/band/sunlinsol_band.o stan/lib/stan_math/lib/sundials_6.1.1/src/sunlinsol/dense/sunlinsol_dense.o stan/lib/stan_math/lib/sundials_6.1.1/src/sunnonlinsol/newton/sunnonlinsol_newton.o stan/lib/stan_math/lib/sundials_6.1.1/src/sunnonlinsol/fixedpoint/sunnonlinsol_fixedpoint.o\n",
            "\u001b[31mar: \u001b[39m\u001b[31mcreating stan/lib/stan_math/lib/sundials_6.1.1/lib/libsundials_kinsol.a\u001b[39m\u001b[31m\n",
            "\u001b[39mtouch stan/lib/stan_math/lib/tbb/version_tbb_2020.3\n",
            "tbb_root=\"../tbb_2020.3\" WINARM64=\"\" CXX=\"g++\" CC=\"gcc\" LDFLAGS='-Wl,-L,\"/root/.cmdstan/cmdstan-2.36.0/stan/lib/stan_math/lib/tbb\"   -Wl,-rpath,\"/root/.cmdstan/cmdstan-2.36.0/stan/lib/stan_math/lib/tbb\"' 'make' -C \"stan/lib/stan_math/lib/tbb\" -r -f \"/root/.cmdstan/cmdstan-2.36.0/stan/lib/stan_math/lib/tbb_2020.3/build/Makefile.tbb\" compiler=gcc cfg=release stdver=c++17  CXXFLAGS=\"-Wno-unknown-warning-option -Wno-deprecated-copy -Wno-missing-attributes -Wno-class-memaccess -Wno-sized-deallocation  \"\n",
            "make[1]: Entering directory '/root/.cmdstan/cmdstan-2.36.0/stan/lib/stan_math/lib/tbb'\n",
            "\u001b[31m/root/.cmdstan/cmdstan-2.36.0/stan/lib/stan_math/lib/tbb_2020.3/build/Makefile.tbb:28: CONFIG: cfg=release arch=intel64 compiler=gcc target=linux runtime=cc11.4.0_libc2.35_kernel6.1.85+\n",
            "\u001b[39mg++ -o concurrent_hash_map.o -c -MMD -O2 -g -DDO_ITT_NOTIFY -DUSE_PTHREAD -pthread -m64 -mrtm  -fPIC -flifetime-dse=1 -D__TBB_BUILD=1 -Wall -Wextra -Wno-parentheses -Wno-sized-deallocation -Wno-unknown-warning-option -Wno-deprecated-copy -Wno-missing-attributes -Wno-class-memaccess -Wno-sized-deallocation   -DTBB_SUPPRESS_DEPRECATED_MESSAGES=1 -std=c++17  -I../tbb_2020.3/src -I../tbb_2020.3/src/rml/include -I../tbb_2020.3/include ../tbb_2020.3/src/tbb/concurrent_hash_map.cpp\n",
            "g++ -o concurrent_queue.o -c -MMD -O2 -g -DDO_ITT_NOTIFY -DUSE_PTHREAD -pthread -m64 -mrtm  -fPIC -flifetime-dse=1 -D__TBB_BUILD=1 -Wall -Wextra -Wno-parentheses -Wno-sized-deallocation -Wno-unknown-warning-option -Wno-deprecated-copy -Wno-missing-attributes -Wno-class-memaccess -Wno-sized-deallocation   -DTBB_SUPPRESS_DEPRECATED_MESSAGES=1 -std=c++17  -I../tbb_2020.3/src -I../tbb_2020.3/src/rml/include -I../tbb_2020.3/include ../tbb_2020.3/src/tbb/concurrent_queue.cpp\n",
            "g++ -o concurrent_vector.o -c -MMD -O2 -g -DDO_ITT_NOTIFY -DUSE_PTHREAD -pthread -m64 -mrtm  -fPIC -flifetime-dse=1 -D__TBB_BUILD=1 -Wall -Wextra -Wno-parentheses -Wno-sized-deallocation -Wno-unknown-warning-option -Wno-deprecated-copy -Wno-missing-attributes -Wno-class-memaccess -Wno-sized-deallocation   -DTBB_SUPPRESS_DEPRECATED_MESSAGES=1 -std=c++17  -I../tbb_2020.3/src -I../tbb_2020.3/src/rml/include -I../tbb_2020.3/include ../tbb_2020.3/src/tbb/concurrent_vector.cpp\n",
            "g++ -o dynamic_link.o -c -MMD -O2 -g -DDO_ITT_NOTIFY -DUSE_PTHREAD -pthread -m64 -mrtm  -fPIC -flifetime-dse=1 -D__TBB_BUILD=1 -Wall -Wextra -Wno-parentheses -Wno-sized-deallocation -Wno-unknown-warning-option -Wno-deprecated-copy -Wno-missing-attributes -Wno-class-memaccess -Wno-sized-deallocation   -DTBB_SUPPRESS_DEPRECATED_MESSAGES=1 -std=c++17  -I../tbb_2020.3/src -I../tbb_2020.3/src/rml/include -I../tbb_2020.3/include ../tbb_2020.3/src/tbb/dynamic_link.cpp\n",
            "g++ -o itt_notify.o -c -MMD -O2 -g -DDO_ITT_NOTIFY -DUSE_PTHREAD -pthread -m64 -mrtm  -fPIC -flifetime-dse=1 -D__TBB_BUILD=1 -Wall -Wextra -Wno-parentheses -Wno-sized-deallocation -Wno-unknown-warning-option -Wno-deprecated-copy -Wno-missing-attributes -Wno-class-memaccess -Wno-sized-deallocation   -DTBB_SUPPRESS_DEPRECATED_MESSAGES=1 -std=c++17  -I../tbb_2020.3/src -I../tbb_2020.3/src/rml/include -I../tbb_2020.3/include ../tbb_2020.3/src/tbb/itt_notify.cpp\n",
            "g++ -o cache_aligned_allocator.o -c -MMD -O2 -g -DDO_ITT_NOTIFY -DUSE_PTHREAD -pthread -m64 -mrtm  -fPIC -flifetime-dse=1 -D__TBB_BUILD=1 -Wall -Wextra -Wno-parentheses -Wno-sized-deallocation -Wno-unknown-warning-option -Wno-deprecated-copy -Wno-missing-attributes -Wno-class-memaccess -Wno-sized-deallocation   -DTBB_SUPPRESS_DEPRECATED_MESSAGES=1 -std=c++17  -I../tbb_2020.3/src -I../tbb_2020.3/src/rml/include -I../tbb_2020.3/include ../tbb_2020.3/src/tbb/cache_aligned_allocator.cpp\n",
            "g++ -o pipeline.o -c -MMD -O2 -g -DDO_ITT_NOTIFY -DUSE_PTHREAD -pthread -m64 -mrtm  -fPIC -flifetime-dse=1 -D__TBB_BUILD=1 -Wall -Wextra -Wno-parentheses -Wno-sized-deallocation -Wno-unknown-warning-option -Wno-deprecated-copy -Wno-missing-attributes -Wno-class-memaccess -Wno-sized-deallocation   -DTBB_SUPPRESS_DEPRECATED_MESSAGES=1 -std=c++17  -I../tbb_2020.3/src -I../tbb_2020.3/src/rml/include -I../tbb_2020.3/include ../tbb_2020.3/src/tbb/pipeline.cpp\n",
            "g++ -o queuing_mutex.o -c -MMD -O2 -g -DDO_ITT_NOTIFY -DUSE_PTHREAD -pthread -m64 -mrtm  -fPIC -flifetime-dse=1 -D__TBB_BUILD=1 -Wall -Wextra -Wno-parentheses -Wno-sized-deallocation -Wno-unknown-warning-option -Wno-deprecated-copy -Wno-missing-attributes -Wno-class-memaccess -Wno-sized-deallocation   -DTBB_SUPPRESS_DEPRECATED_MESSAGES=1 -std=c++17  -I../tbb_2020.3/src -I../tbb_2020.3/src/rml/include -I../tbb_2020.3/include ../tbb_2020.3/src/tbb/queuing_mutex.cpp\n",
            "g++ -o queuing_rw_mutex.o -c -MMD -O2 -g -DDO_ITT_NOTIFY -DUSE_PTHREAD -pthread -m64 -mrtm  -fPIC -flifetime-dse=1 -D__TBB_BUILD=1 -Wall -Wextra -Wno-parentheses -Wno-sized-deallocation -Wno-unknown-warning-option -Wno-deprecated-copy -Wno-missing-attributes -Wno-class-memaccess -Wno-sized-deallocation   -DTBB_SUPPRESS_DEPRECATED_MESSAGES=1 -std=c++17  -I../tbb_2020.3/src -I../tbb_2020.3/src/rml/include -I../tbb_2020.3/include ../tbb_2020.3/src/tbb/queuing_rw_mutex.cpp\n",
            "g++ -o reader_writer_lock.o -c -MMD -O2 -g -DDO_ITT_NOTIFY -DUSE_PTHREAD -pthread -m64 -mrtm  -fPIC -flifetime-dse=1 -D__TBB_BUILD=1 -Wall -Wextra -Wno-parentheses -Wno-sized-deallocation -Wno-unknown-warning-option -Wno-deprecated-copy -Wno-missing-attributes -Wno-class-memaccess -Wno-sized-deallocation   -DTBB_SUPPRESS_DEPRECATED_MESSAGES=1 -std=c++17  -I../tbb_2020.3/src -I../tbb_2020.3/src/rml/include -I../tbb_2020.3/include ../tbb_2020.3/src/tbb/reader_writer_lock.cpp\n",
            "g++ -o spin_rw_mutex.o -c -MMD -O2 -g -DDO_ITT_NOTIFY -DUSE_PTHREAD -pthread -m64 -mrtm  -fPIC -flifetime-dse=1 -D__TBB_BUILD=1 -Wall -Wextra -Wno-parentheses -Wno-sized-deallocation -Wno-unknown-warning-option -Wno-deprecated-copy -Wno-missing-attributes -Wno-class-memaccess -Wno-sized-deallocation   -DTBB_SUPPRESS_DEPRECATED_MESSAGES=1 -std=c++17  -I../tbb_2020.3/src -I../tbb_2020.3/src/rml/include -I../tbb_2020.3/include ../tbb_2020.3/src/tbb/spin_rw_mutex.cpp\n",
            "g++ -o x86_rtm_rw_mutex.o -c -MMD -O2 -g -DDO_ITT_NOTIFY -DUSE_PTHREAD -pthread -m64 -mrtm  -fPIC -flifetime-dse=1 -D__TBB_BUILD=1 -Wall -Wextra -Wno-parentheses -Wno-sized-deallocation -Wno-unknown-warning-option -Wno-deprecated-copy -Wno-missing-attributes -Wno-class-memaccess -Wno-sized-deallocation   -DTBB_SUPPRESS_DEPRECATED_MESSAGES=1 -std=c++17  -I../tbb_2020.3/src -I../tbb_2020.3/src/rml/include -I../tbb_2020.3/include ../tbb_2020.3/src/tbb/x86_rtm_rw_mutex.cpp\n",
            "g++ -o spin_mutex.o -c -MMD -O2 -g -DDO_ITT_NOTIFY -DUSE_PTHREAD -pthread -m64 -mrtm  -fPIC -flifetime-dse=1 -D__TBB_BUILD=1 -Wall -Wextra -Wno-parentheses -Wno-sized-deallocation -Wno-unknown-warning-option -Wno-deprecated-copy -Wno-missing-attributes -Wno-class-memaccess -Wno-sized-deallocation   -DTBB_SUPPRESS_DEPRECATED_MESSAGES=1 -std=c++17  -I../tbb_2020.3/src -I../tbb_2020.3/src/rml/include -I../tbb_2020.3/include ../tbb_2020.3/src/tbb/spin_mutex.cpp\n",
            "g++ -o critical_section.o -c -MMD -O2 -g -DDO_ITT_NOTIFY -DUSE_PTHREAD -pthread -m64 -mrtm  -fPIC -flifetime-dse=1 -D__TBB_BUILD=1 -Wall -Wextra -Wno-parentheses -Wno-sized-deallocation -Wno-unknown-warning-option -Wno-deprecated-copy -Wno-missing-attributes -Wno-class-memaccess -Wno-sized-deallocation   -DTBB_SUPPRESS_DEPRECATED_MESSAGES=1 -std=c++17  -I../tbb_2020.3/src -I../tbb_2020.3/src/rml/include -I../tbb_2020.3/include ../tbb_2020.3/src/tbb/critical_section.cpp\n",
            "g++ -o mutex.o -c -MMD -O2 -g -DDO_ITT_NOTIFY -DUSE_PTHREAD -pthread -m64 -mrtm  -fPIC -flifetime-dse=1 -D__TBB_BUILD=1 -Wall -Wextra -Wno-parentheses -Wno-sized-deallocation -Wno-unknown-warning-option -Wno-deprecated-copy -Wno-missing-attributes -Wno-class-memaccess -Wno-sized-deallocation   -DTBB_SUPPRESS_DEPRECATED_MESSAGES=1 -std=c++17  -I../tbb_2020.3/src -I../tbb_2020.3/src/rml/include -I../tbb_2020.3/include ../tbb_2020.3/src/tbb/mutex.cpp\n",
            "g++ -o recursive_mutex.o -c -MMD -O2 -g -DDO_ITT_NOTIFY -DUSE_PTHREAD -pthread -m64 -mrtm  -fPIC -flifetime-dse=1 -D__TBB_BUILD=1 -Wall -Wextra -Wno-parentheses -Wno-sized-deallocation -Wno-unknown-warning-option -Wno-deprecated-copy -Wno-missing-attributes -Wno-class-memaccess -Wno-sized-deallocation   -DTBB_SUPPRESS_DEPRECATED_MESSAGES=1 -std=c++17  -I../tbb_2020.3/src -I../tbb_2020.3/src/rml/include -I../tbb_2020.3/include ../tbb_2020.3/src/tbb/recursive_mutex.cpp\n",
            "g++ -o condition_variable.o -c -MMD -O2 -g -DDO_ITT_NOTIFY -DUSE_PTHREAD -pthread -m64 -mrtm  -fPIC -flifetime-dse=1 -D__TBB_BUILD=1 -Wall -Wextra -Wno-parentheses -Wno-sized-deallocation -Wno-unknown-warning-option -Wno-deprecated-copy -Wno-missing-attributes -Wno-class-memaccess -Wno-sized-deallocation   -DTBB_SUPPRESS_DEPRECATED_MESSAGES=1 -std=c++17  -I../tbb_2020.3/src -I../tbb_2020.3/src/rml/include -I../tbb_2020.3/include ../tbb_2020.3/src/tbb/condition_variable.cpp\n",
            "g++ -o tbb_thread.o -c -MMD -O2 -g -DDO_ITT_NOTIFY -DUSE_PTHREAD -pthread -m64 -mrtm  -fPIC -flifetime-dse=1 -D__TBB_BUILD=1 -Wall -Wextra -Wno-parentheses -Wno-sized-deallocation -Wno-unknown-warning-option -Wno-deprecated-copy -Wno-missing-attributes -Wno-class-memaccess -Wno-sized-deallocation   -DTBB_SUPPRESS_DEPRECATED_MESSAGES=1 -std=c++17  -I../tbb_2020.3/src -I../tbb_2020.3/src/rml/include -I../tbb_2020.3/include ../tbb_2020.3/src/tbb/tbb_thread.cpp\n",
            "g++ -o concurrent_monitor.o -c -MMD -O2 -g -DDO_ITT_NOTIFY -DUSE_PTHREAD -pthread -m64 -mrtm  -fPIC -flifetime-dse=1 -D__TBB_BUILD=1 -Wall -Wextra -Wno-parentheses -Wno-sized-deallocation -Wno-unknown-warning-option -Wno-deprecated-copy -Wno-missing-attributes -Wno-class-memaccess -Wno-sized-deallocation   -DTBB_SUPPRESS_DEPRECATED_MESSAGES=1 -std=c++17  -I../tbb_2020.3/src -I../tbb_2020.3/src/rml/include -I../tbb_2020.3/include ../tbb_2020.3/src/tbb/concurrent_monitor.cpp\n",
            "g++ -o semaphore.o -c -MMD -O2 -g -DDO_ITT_NOTIFY -DUSE_PTHREAD -pthread -m64 -mrtm  -fPIC -flifetime-dse=1 -D__TBB_BUILD=1 -Wall -Wextra -Wno-parentheses -Wno-sized-deallocation -Wno-unknown-warning-option -Wno-deprecated-copy -Wno-missing-attributes -Wno-class-memaccess -Wno-sized-deallocation   -DTBB_SUPPRESS_DEPRECATED_MESSAGES=1 -std=c++17  -I../tbb_2020.3/src -I../tbb_2020.3/src/rml/include -I../tbb_2020.3/include ../tbb_2020.3/src/tbb/semaphore.cpp\n",
            "g++ -o private_server.o -c -MMD -O2 -g -DDO_ITT_NOTIFY -DUSE_PTHREAD -pthread -m64 -mrtm  -fPIC -flifetime-dse=1 -D__TBB_BUILD=1 -Wall -Wextra -Wno-parentheses -Wno-sized-deallocation -Wno-unknown-warning-option -Wno-deprecated-copy -Wno-missing-attributes -Wno-class-memaccess -Wno-sized-deallocation   -DTBB_SUPPRESS_DEPRECATED_MESSAGES=1 -std=c++17  -I../tbb_2020.3/src -I../tbb_2020.3/src/rml/include -I../tbb_2020.3/include ../tbb_2020.3/src/tbb/private_server.cpp\n",
            "g++ -o rml_tbb.o -c -MMD -O2 -g -DDO_ITT_NOTIFY -DUSE_PTHREAD -pthread -m64 -mrtm  -fPIC -flifetime-dse=1 -D__TBB_BUILD=1 -Wall -Wextra -Wno-parentheses -Wno-sized-deallocation -Wno-unknown-warning-option -Wno-deprecated-copy -Wno-missing-attributes -Wno-class-memaccess -Wno-sized-deallocation   -DTBB_SUPPRESS_DEPRECATED_MESSAGES=1 -std=c++17  -I../tbb_2020.3/src -I../tbb_2020.3/src/rml/include -I../tbb_2020.3/include ../tbb_2020.3/src/rml/client/rml_tbb.cpp\n",
            "sh ../tbb_2020.3/build/version_info_linux.sh g++ -O2 -g -DDO_ITT_NOTIFY -DUSE_PTHREAD -pthread -m64 -mrtm  -fPIC -flifetime-dse=1 -D__TBB_BUILD=1 -Wall -Wextra -Wno-parentheses -Wno-sized-deallocation -Wno-unknown-warning-option -Wno-deprecated-copy -Wno-missing-attributes -Wno-class-memaccess -Wno-sized-deallocation   -DTBB_SUPPRESS_DEPRECATED_MESSAGES=1 -std=c++17 -I../tbb_2020.3/src -I../tbb_2020.3/src/rml/include -I../tbb_2020.3/include -I. >version_string.ver\n",
            "g++ -o tbb_misc_ex.o -c -MMD -O2 -g -DDO_ITT_NOTIFY -DUSE_PTHREAD -pthread -m64 -mrtm  -fPIC -flifetime-dse=1 -D__TBB_BUILD=1 -Wall -Wextra -Wno-parentheses -Wno-sized-deallocation -Wno-unknown-warning-option -Wno-deprecated-copy -Wno-missing-attributes -Wno-class-memaccess -Wno-sized-deallocation   -DTBB_SUPPRESS_DEPRECATED_MESSAGES=1 -std=c++17  -I../tbb_2020.3/src -I../tbb_2020.3/src/rml/include -I../tbb_2020.3/include ../tbb_2020.3/src/tbb/tbb_misc_ex.cpp\n",
            "g++ -o task.o -c -MMD -O2 -g -DDO_ITT_NOTIFY -DUSE_PTHREAD -pthread -m64 -mrtm  -fPIC -flifetime-dse=1 -D__TBB_BUILD=1 -Wall -Wextra -Wno-parentheses -Wno-sized-deallocation -Wno-unknown-warning-option -Wno-deprecated-copy -Wno-missing-attributes -Wno-class-memaccess -Wno-sized-deallocation   -DTBB_SUPPRESS_DEPRECATED_MESSAGES=1 -std=c++17  -I../tbb_2020.3/src -I../tbb_2020.3/src/rml/include -I../tbb_2020.3/include ../tbb_2020.3/src/tbb/task.cpp\n",
            "g++ -o task_group_context.o -c -MMD -O2 -g -DDO_ITT_NOTIFY -DUSE_PTHREAD -pthread -m64 -mrtm  -fPIC -flifetime-dse=1 -D__TBB_BUILD=1 -Wall -Wextra -Wno-parentheses -Wno-sized-deallocation -Wno-unknown-warning-option -Wno-deprecated-copy -Wno-missing-attributes -Wno-class-memaccess -Wno-sized-deallocation   -DTBB_SUPPRESS_DEPRECATED_MESSAGES=1 -std=c++17  -I../tbb_2020.3/src -I../tbb_2020.3/src/rml/include -I../tbb_2020.3/include ../tbb_2020.3/src/tbb/task_group_context.cpp\n",
            "g++ -o governor.o -c -MMD -O2 -g -DDO_ITT_NOTIFY -DUSE_PTHREAD -pthread -m64 -mrtm  -fPIC -flifetime-dse=1 -D__TBB_BUILD=1 -Wall -Wextra -Wno-parentheses -Wno-sized-deallocation -Wno-unknown-warning-option -Wno-deprecated-copy -Wno-missing-attributes -Wno-class-memaccess -Wno-sized-deallocation   -DTBB_SUPPRESS_DEPRECATED_MESSAGES=1 -std=c++17  -I../tbb_2020.3/src -I../tbb_2020.3/src/rml/include -I../tbb_2020.3/include ../tbb_2020.3/src/tbb/governor.cpp\n",
            "g++ -o market.o -c -MMD -O2 -g -DDO_ITT_NOTIFY -DUSE_PTHREAD -pthread -m64 -mrtm  -fPIC -flifetime-dse=1 -D__TBB_BUILD=1 -Wall -Wextra -Wno-parentheses -Wno-sized-deallocation -Wno-unknown-warning-option -Wno-deprecated-copy -Wno-missing-attributes -Wno-class-memaccess -Wno-sized-deallocation   -DTBB_SUPPRESS_DEPRECATED_MESSAGES=1 -std=c++17  -I../tbb_2020.3/src -I../tbb_2020.3/src/rml/include -I../tbb_2020.3/include ../tbb_2020.3/src/tbb/market.cpp\n",
            "g++ -o arena.o -c -MMD -O2 -g -DDO_ITT_NOTIFY -DUSE_PTHREAD -pthread -m64 -mrtm  -fPIC -flifetime-dse=1 -D__TBB_BUILD=1 -Wall -Wextra -Wno-parentheses -Wno-sized-deallocation -Wno-unknown-warning-option -Wno-deprecated-copy -Wno-missing-attributes -Wno-class-memaccess -Wno-sized-deallocation   -DTBB_SUPPRESS_DEPRECATED_MESSAGES=1 -std=c++17  -I../tbb_2020.3/src -I../tbb_2020.3/src/rml/include -I../tbb_2020.3/include ../tbb_2020.3/src/tbb/arena.cpp\n",
            "g++ -o scheduler.o -c -MMD -O2 -g -DDO_ITT_NOTIFY -DUSE_PTHREAD -pthread -m64 -mrtm  -fPIC -flifetime-dse=1 -D__TBB_BUILD=1 -Wall -Wextra -Wno-parentheses -Wno-sized-deallocation -Wno-unknown-warning-option -Wno-deprecated-copy -Wno-missing-attributes -Wno-class-memaccess -Wno-sized-deallocation   -DTBB_SUPPRESS_DEPRECATED_MESSAGES=1 -std=c++17  -I../tbb_2020.3/src -I../tbb_2020.3/src/rml/include -I../tbb_2020.3/include ../tbb_2020.3/src/tbb/scheduler.cpp\n",
            "g++ -o observer_proxy.o -c -MMD -O2 -g -DDO_ITT_NOTIFY -DUSE_PTHREAD -pthread -m64 -mrtm  -fPIC -flifetime-dse=1 -D__TBB_BUILD=1 -Wall -Wextra -Wno-parentheses -Wno-sized-deallocation -Wno-unknown-warning-option -Wno-deprecated-copy -Wno-missing-attributes -Wno-class-memaccess -Wno-sized-deallocation   -DTBB_SUPPRESS_DEPRECATED_MESSAGES=1 -std=c++17  -I../tbb_2020.3/src -I../tbb_2020.3/src/rml/include -I../tbb_2020.3/include ../tbb_2020.3/src/tbb/observer_proxy.cpp\n",
            "g++ -o tbb_statistics.o -c -MMD -O2 -g -DDO_ITT_NOTIFY -DUSE_PTHREAD -pthread -m64 -mrtm  -fPIC -flifetime-dse=1 -D__TBB_BUILD=1 -Wall -Wextra -Wno-parentheses -Wno-sized-deallocation -Wno-unknown-warning-option -Wno-deprecated-copy -Wno-missing-attributes -Wno-class-memaccess -Wno-sized-deallocation   -DTBB_SUPPRESS_DEPRECATED_MESSAGES=1 -std=c++17  -I../tbb_2020.3/src -I../tbb_2020.3/src/rml/include -I../tbb_2020.3/include ../tbb_2020.3/src/tbb/tbb_statistics.cpp\n",
            "g++ -o tbb_main.o -c -MMD -O2 -g -DDO_ITT_NOTIFY -DUSE_PTHREAD -pthread -m64 -mrtm  -fPIC -flifetime-dse=1 -D__TBB_BUILD=1 -Wall -Wextra -Wno-parentheses -Wno-sized-deallocation -Wno-unknown-warning-option -Wno-deprecated-copy -Wno-missing-attributes -Wno-class-memaccess -Wno-sized-deallocation   -DTBB_SUPPRESS_DEPRECATED_MESSAGES=1 -std=c++17  -I../tbb_2020.3/src -I../tbb_2020.3/src/rml/include -I../tbb_2020.3/include ../tbb_2020.3/src/tbb/tbb_main.cpp\n",
            "g++ -o concurrent_vector_v2.o -c -MMD -O2 -g -DDO_ITT_NOTIFY -DUSE_PTHREAD -pthread -m64 -mrtm  -fPIC -flifetime-dse=1 -D__TBB_BUILD=1 -Wall -Wextra -Wno-parentheses -Wno-sized-deallocation -Wno-unknown-warning-option -Wno-deprecated-copy -Wno-missing-attributes -Wno-class-memaccess -Wno-sized-deallocation   -DTBB_SUPPRESS_DEPRECATED_MESSAGES=1 -std=c++17  -I../tbb_2020.3/src -I../tbb_2020.3/src/rml/include -I../tbb_2020.3/include ../tbb_2020.3/src/old/concurrent_vector_v2.cpp\n",
            "g++ -o concurrent_queue_v2.o -c -MMD -O2 -g -DDO_ITT_NOTIFY -DUSE_PTHREAD -pthread -m64 -mrtm  -fPIC -flifetime-dse=1 -D__TBB_BUILD=1 -Wall -Wextra -Wno-parentheses -Wno-sized-deallocation -Wno-unknown-warning-option -Wno-deprecated-copy -Wno-missing-attributes -Wno-class-memaccess -Wno-sized-deallocation   -DTBB_SUPPRESS_DEPRECATED_MESSAGES=1 -std=c++17  -I../tbb_2020.3/src -I../tbb_2020.3/src/rml/include -I../tbb_2020.3/include ../tbb_2020.3/src/old/concurrent_queue_v2.cpp\n",
            "g++ -o spin_rw_mutex_v2.o -c -MMD -O2 -g -DDO_ITT_NOTIFY -DUSE_PTHREAD -pthread -m64 -mrtm  -fPIC -flifetime-dse=1 -D__TBB_BUILD=1 -Wall -Wextra -Wno-parentheses -Wno-sized-deallocation -Wno-unknown-warning-option -Wno-deprecated-copy -Wno-missing-attributes -Wno-class-memaccess -Wno-sized-deallocation   -DTBB_SUPPRESS_DEPRECATED_MESSAGES=1 -std=c++17  -I../tbb_2020.3/src -I../tbb_2020.3/src/rml/include -I../tbb_2020.3/include ../tbb_2020.3/src/old/spin_rw_mutex_v2.cpp\n",
            "g++ -o task_v2.o -c -MMD -O2 -g -DDO_ITT_NOTIFY -DUSE_PTHREAD -pthread -m64 -mrtm  -fPIC -flifetime-dse=1 -D__TBB_BUILD=1 -Wall -Wextra -Wno-parentheses -Wno-sized-deallocation -Wno-unknown-warning-option -Wno-deprecated-copy -Wno-missing-attributes -Wno-class-memaccess -Wno-sized-deallocation   -DTBB_SUPPRESS_DEPRECATED_MESSAGES=1 -std=c++17  -I../tbb_2020.3/src -I../tbb_2020.3/src/rml/include -I../tbb_2020.3/include ../tbb_2020.3/src/old/task_v2.cpp\n",
            "sh ../tbb_2020.3/build/generate_tbbvars.sh\n",
            "echo \"INPUT (libtbb.so.2)\" > libtbb.so\n",
            "g++ -E -x c++ ../tbb_2020.3/src/tbb/lin64-tbb-export.def -O2 -g -DDO_ITT_NOTIFY -DUSE_PTHREAD -pthread -m64 -mrtm  -fPIC -flifetime-dse=1 -D__TBB_BUILD=1 -Wall -Wextra -Wno-parentheses -Wno-sized-deallocation -Wno-unknown-warning-option -Wno-deprecated-copy -Wno-missing-attributes -Wno-class-memaccess -Wno-sized-deallocation   -DTBB_SUPPRESS_DEPRECATED_MESSAGES=1 -I../tbb_2020.3/src -I../tbb_2020.3/src/rml/include -I../tbb_2020.3/include > tbb.def\n",
            "g++ -o tbb_misc.o -c -MMD -O2 -g -DDO_ITT_NOTIFY -DUSE_PTHREAD -pthread -m64 -mrtm  -fPIC -flifetime-dse=1 -D__TBB_BUILD=1 -Wall -Wextra -Wno-parentheses -Wno-sized-deallocation -Wno-unknown-warning-option -Wno-deprecated-copy -Wno-missing-attributes -Wno-class-memaccess -Wno-sized-deallocation   -DTBB_SUPPRESS_DEPRECATED_MESSAGES=1 -std=c++17  -I../tbb_2020.3/src -I../tbb_2020.3/src/rml/include -I../tbb_2020.3/include -I. ../tbb_2020.3/src/tbb/tbb_misc.cpp\n",
            "g++ -fPIC -o libtbb.so.2 concurrent_hash_map.o concurrent_queue.o concurrent_vector.o dynamic_link.o itt_notify.o cache_aligned_allocator.o pipeline.o queuing_mutex.o queuing_rw_mutex.o reader_writer_lock.o spin_rw_mutex.o x86_rtm_rw_mutex.o spin_mutex.o critical_section.o mutex.o recursive_mutex.o condition_variable.o tbb_thread.o concurrent_monitor.o semaphore.o private_server.o rml_tbb.o tbb_misc.o tbb_misc_ex.o task.o task_group_context.o governor.o market.o arena.o scheduler.o observer_proxy.o tbb_statistics.o tbb_main.o concurrent_vector_v2.o concurrent_queue_v2.o spin_rw_mutex_v2.o task_v2.o   -ldl -lrt -shared -Wl,-soname=libtbb.so.2 -pthread -m64 -Wl,-L,\"/root/.cmdstan/cmdstan-2.36.0/stan/lib/stan_math/lib/tbb\"   -Wl,-rpath,\"/root/.cmdstan/cmdstan-2.36.0/stan/lib/stan_math/lib/tbb\" -Wl,--version-script,tbb.def\n",
            "make[1]: Leaving directory '/root/.cmdstan/cmdstan-2.36.0/stan/lib/stan_math/lib/tbb'\n",
            "g++ -Wno-deprecated-declarations -std=c++17 -pthread -D_REENTRANT -Wno-sign-compare -Wno-ignored-attributes -Wno-class-memaccess      -I stan/lib/stan_math/lib/tbb_2020.3/include    -O3 -I src -I stan/src -I stan/lib/rapidjson_1.1.0/ -I lib/CLI11-1.9.1/ -I stan/lib/stan_math/ -I stan/lib/stan_math/lib/eigen_3.4.0 -I stan/lib/stan_math/lib/boost_1.84.0 -I stan/lib/stan_math/lib/sundials_6.1.1/include -I stan/lib/stan_math/lib/sundials_6.1.1/src/sundials    -DBOOST_DISABLE_ASSERTS               -Wl,-L,\"/root/.cmdstan/cmdstan-2.36.0/stan/lib/stan_math/lib/tbb\"   -Wl,-rpath,\"/root/.cmdstan/cmdstan-2.36.0/stan/lib/stan_math/lib/tbb\"      bin/cmdstan/stansummary.o stan/lib/stan_math/lib/tbb/libtbb.so.2       -ltbb   -o bin/stansummary\n",
            "g++ -Wno-deprecated-declarations -std=c++17 -pthread -D_REENTRANT -Wno-sign-compare -Wno-ignored-attributes -Wno-class-memaccess      -I stan/lib/stan_math/lib/tbb_2020.3/include    -O3 -I src -I stan/src -I stan/lib/rapidjson_1.1.0/ -I lib/CLI11-1.9.1/ -I stan/lib/stan_math/ -I stan/lib/stan_math/lib/eigen_3.4.0 -I stan/lib/stan_math/lib/boost_1.84.0 -I stan/lib/stan_math/lib/sundials_6.1.1/include -I stan/lib/stan_math/lib/sundials_6.1.1/src/sundials    -DBOOST_DISABLE_ASSERTS               -Wl,-L,\"/root/.cmdstan/cmdstan-2.36.0/stan/lib/stan_math/lib/tbb\"   -Wl,-rpath,\"/root/.cmdstan/cmdstan-2.36.0/stan/lib/stan_math/lib/tbb\"      bin/cmdstan/print.o stan/lib/stan_math/lib/tbb/libtbb.so.2       -ltbb   -o bin/print\n",
            "g++ -Wno-deprecated-declarations -std=c++17 -pthread -D_REENTRANT -Wno-sign-compare -Wno-ignored-attributes -Wno-class-memaccess      -I stan/lib/stan_math/lib/tbb_2020.3/include    -O3 -I src -I stan/src -I stan/lib/rapidjson_1.1.0/ -I lib/CLI11-1.9.1/ -I stan/lib/stan_math/ -I stan/lib/stan_math/lib/eigen_3.4.0 -I stan/lib/stan_math/lib/boost_1.84.0 -I stan/lib/stan_math/lib/sundials_6.1.1/include -I stan/lib/stan_math/lib/sundials_6.1.1/src/sundials    -DBOOST_DISABLE_ASSERTS               -Wl,-L,\"/root/.cmdstan/cmdstan-2.36.0/stan/lib/stan_math/lib/tbb\"   -Wl,-rpath,\"/root/.cmdstan/cmdstan-2.36.0/stan/lib/stan_math/lib/tbb\"      bin/cmdstan/diagnose.o stan/lib/stan_math/lib/tbb/libtbb.so.2       -ltbb   -o bin/diagnose\n",
            "\n",
            "--- CmdStan v2.36.0 built ---\n",
            "g++ -Wno-deprecated-declarations -std=c++17 -pthread -D_REENTRANT -Wno-sign-compare -Wno-ignored-attributes -Wno-class-memaccess      -I stan/lib/stan_math/lib/tbb_2020.3/include    -O3 -I src -I stan/src -I stan/lib/rapidjson_1.1.0/ -I lib/CLI11-1.9.1/ -I stan/lib/stan_math/ -I stan/lib/stan_math/lib/eigen_3.4.0 -I stan/lib/stan_math/lib/boost_1.84.0 -I stan/lib/stan_math/lib/sundials_6.1.1/include -I stan/lib/stan_math/lib/sundials_6.1.1/src/sundials    -DBOOST_DISABLE_ASSERTS          -c -MT src/cmdstan/main.o -MM -E -MG -MP -MF src/cmdstan/main.d src/cmdstan/main.cpp\n",
            "g++ -Wno-deprecated-declarations -std=c++17 -pthread -D_REENTRANT -Wno-sign-compare -Wno-ignored-attributes -Wno-class-memaccess      -I stan/lib/stan_math/lib/tbb_2020.3/include    -O3 -I src -I stan/src -I stan/lib/rapidjson_1.1.0/ -I lib/CLI11-1.9.1/ -I stan/lib/stan_math/ -I stan/lib/stan_math/lib/eigen_3.4.0 -I stan/lib/stan_math/lib/boost_1.84.0 -I stan/lib/stan_math/lib/sundials_6.1.1/include -I stan/lib/stan_math/lib/sundials_6.1.1/src/sundials    -DBOOST_DISABLE_ASSERTS          -c -MT stan/src/stan/model/model_header.hpp.gch/model_header_11_4.hpp.gch -M -E -MG -MP -MF stan/src/stan/model/model_header.hpp.gch/model_header_11_4.d stan/src/stan/model/model_header.hpp\n",
            "\n",
            "--- Translating Stan model to C++ code ---\n",
            "bin/stanc  --o=examples/bernoulli/bernoulli.hpp examples/bernoulli/bernoulli.stan\n",
            "\n",
            "--- Compiling C++ code ---\n",
            "g++ -Wno-deprecated-declarations -std=c++17 -pthread -D_REENTRANT -Wno-sign-compare -Wno-ignored-attributes -Wno-class-memaccess      -I stan/lib/stan_math/lib/tbb_2020.3/include    -O3 -I src -I stan/src -I stan/lib/rapidjson_1.1.0/ -I lib/CLI11-1.9.1/ -I stan/lib/stan_math/ -I stan/lib/stan_math/lib/eigen_3.4.0 -I stan/lib/stan_math/lib/boost_1.84.0 -I stan/lib/stan_math/lib/sundials_6.1.1/include -I stan/lib/stan_math/lib/sundials_6.1.1/src/sundials    -DBOOST_DISABLE_ASSERTS          -c -Wno-ignored-attributes   -x c++ -o examples/bernoulli/bernoulli.o examples/bernoulli/bernoulli.hpp\n",
            "\n",
            "--- Linking model ---\n",
            "g++ -Wno-deprecated-declarations -std=c++17 -pthread -D_REENTRANT -Wno-sign-compare -Wno-ignored-attributes -Wno-class-memaccess      -I stan/lib/stan_math/lib/tbb_2020.3/include    -O3 -I src -I stan/src -I stan/lib/rapidjson_1.1.0/ -I lib/CLI11-1.9.1/ -I stan/lib/stan_math/ -I stan/lib/stan_math/lib/eigen_3.4.0 -I stan/lib/stan_math/lib/boost_1.84.0 -I stan/lib/stan_math/lib/sundials_6.1.1/include -I stan/lib/stan_math/lib/sundials_6.1.1/src/sundials    -DBOOST_DISABLE_ASSERTS               -Wl,-L,\"/root/.cmdstan/cmdstan-2.36.0/stan/lib/stan_math/lib/tbb\"   -Wl,-rpath,\"/root/.cmdstan/cmdstan-2.36.0/stan/lib/stan_math/lib/tbb\"      examples/bernoulli/bernoulli.o src/cmdstan/main.o       -ltbb   stan/lib/stan_math/lib/sundials_6.1.1/lib/libsundials_nvecserial.a stan/lib/stan_math/lib/sundials_6.1.1/lib/libsundials_cvodes.a stan/lib/stan_math/lib/sundials_6.1.1/lib/libsundials_idas.a stan/lib/stan_math/lib/sundials_6.1.1/lib/libsundials_kinsol.a  stan/lib/stan_math/lib/tbb/libtbb.so.2 -o examples/bernoulli/bernoulli\n",
            "rm examples/bernoulli/bernoulli.o examples/bernoulli/bernoulli.hpp\n"
          ]
        },
        {
          "output_type": "stream",
          "name": "stderr",
          "text": [
            "* Finished installing CmdStan to /root/.cmdstan/cmdstan-2.36.0\n",
            "\n",
            "\n",
            "CmdStan path set to: /root/.cmdstan/cmdstan-2.36.0\n",
            "\n",
            "CmdStan path set to: /root/.cmdstan/cmdstan-2.36.0\n",
            "\n"
          ]
        },
        {
          "output_type": "display_data",
          "data": {
            "text/html": [
              "'2.36.0'"
            ],
            "text/markdown": "'2.36.0'",
            "text/latex": "'2.36.0'",
            "text/plain": [
              "[1] \"2.36.0\""
            ]
          },
          "metadata": {}
        }
      ],
      "source": [
        "# Install CmdStan using cmdstanr\n",
        "library(cmdstanr)\n",
        "cmdstanr::install_cmdstan()\n",
        "\n",
        "# After installation, set the CmdStan path\n",
        "cmdstan_path <- cmdstanr::cmdstan_path()\n",
        "cmdstanr::set_cmdstan_path(cmdstan_path)\n",
        "\n",
        "# Verify the installation\n",
        "cmdstanr::cmdstan_version()\n"
      ]
    },
    {
      "cell_type": "code",
      "execution_count": 4,
      "metadata": {
        "colab": {
          "base_uri": "https://localhost:8080/"
        },
        "id": "rd9jkYG4WyyR",
        "outputId": "751c519f-a8da-427e-8fd3-dcefb31d409d"
      },
      "outputs": [
        {
          "output_type": "stream",
          "name": "stderr",
          "text": [
            "Installing packages into ‘/usr/local/lib/R/site-library’\n",
            "(as ‘lib’ is unspecified)\n",
            "\n",
            "also installing the dependency ‘V8’\n",
            "\n",
            "\n",
            "Loading required package: usethis\n",
            "\n",
            "Downloading GitHub repo rmcelreath/rethinking@HEAD\n",
            "\n"
          ]
        },
        {
          "output_type": "stream",
          "name": "stdout",
          "text": [
            "\n",
            "\u001b[36m──\u001b[39m \u001b[36mR CMD build\u001b[39m \u001b[36m─────────────────────────────────────────────────────────────────\u001b[39m\n",
            "* checking for file ‘/tmp/Rtmpa7RH04/remotes53636779e27/rmcelreath-rethinking-ac1b3b2/DESCRIPTION’ ... OK\n",
            "* preparing ‘rethinking’:\n",
            "* checking DESCRIPTION meta-information ... OK\n",
            "* checking for LF line-endings in source and make files and shell scripts\n",
            "* checking for empty or unneeded directories\n",
            "* looking to see if a ‘data/datalist’ file should be added\n",
            "* building ‘rethinking_2.42.tar.gz’\n",
            "\n"
          ]
        },
        {
          "output_type": "stream",
          "name": "stderr",
          "text": [
            "Installing package into ‘/usr/local/lib/R/site-library’\n",
            "(as ‘lib’ is unspecified)\n",
            "\n"
          ]
        }
      ],
      "source": [
        "# Install necessary packages\n",
        "install.packages(c(\"coda\", \"mvtnorm\", \"devtools\", \"loo\", \"dagitty\", \"shape\"))\n",
        "\n",
        "# Load devtools for GitHub installation\n",
        "library(devtools)\n",
        "\n",
        "# Install rethinking from GitHub\n",
        "devtools::install_github(\"rmcelreath/rethinking\")\n"
      ]
    },
    {
      "cell_type": "code",
      "execution_count": 5,
      "metadata": {
        "id": "76h8LgPcYq2E",
        "colab": {
          "base_uri": "https://localhost:8080/"
        },
        "outputId": "66267586-9cd7-466e-cb10-bd45b7438e73"
      },
      "outputs": [
        {
          "output_type": "stream",
          "name": "stderr",
          "text": [
            "Loading required package: posterior\n",
            "\n",
            "This is posterior version 1.6.0\n",
            "\n",
            "\n",
            "Attaching package: ‘posterior’\n",
            "\n",
            "\n",
            "The following objects are masked from ‘package:stats’:\n",
            "\n",
            "    mad, sd, var\n",
            "\n",
            "\n",
            "The following objects are masked from ‘package:base’:\n",
            "\n",
            "    %in%, match\n",
            "\n",
            "\n",
            "Loading required package: parallel\n",
            "\n",
            "rethinking (Version 2.42)\n",
            "\n",
            "\n",
            "Attaching package: ‘rethinking’\n",
            "\n",
            "\n",
            "The following object is masked from ‘package:stats’:\n",
            "\n",
            "    rstudent\n",
            "\n",
            "\n"
          ]
        }
      ],
      "source": [
        "library(rethinking)"
      ]
    },
    {
      "cell_type": "code",
      "execution_count": 6,
      "metadata": {
        "colab": {
          "base_uri": "https://localhost:8080/",
          "height": 421
        },
        "id": "AK1-F_d0ZIFf",
        "outputId": "9a9565d7-8fb7-4947-bf9c-5416dac01d03"
      },
      "outputs": [
        {
          "output_type": "stream",
          "name": "stdout",
          "text": [
            "Running MCMC with 1 chain, with 1 thread(s) per chain...\n",
            "\n",
            "Chain 1 Iteration:   1 / 1000 [  0%]  (Warmup) \n",
            "Chain 1 Iteration: 100 / 1000 [ 10%]  (Warmup) \n",
            "Chain 1 Iteration: 200 / 1000 [ 20%]  (Warmup) \n",
            "Chain 1 Iteration: 300 / 1000 [ 30%]  (Warmup) \n",
            "Chain 1 Iteration: 400 / 1000 [ 40%]  (Warmup) \n",
            "Chain 1 Iteration: 500 / 1000 [ 50%]  (Warmup) \n",
            "Chain 1 Iteration: 501 / 1000 [ 50%]  (Sampling) \n",
            "Chain 1 Iteration: 600 / 1000 [ 60%]  (Sampling) \n",
            "Chain 1 Iteration: 700 / 1000 [ 70%]  (Sampling) \n",
            "Chain 1 Iteration: 800 / 1000 [ 80%]  (Sampling) \n",
            "Chain 1 Iteration: 900 / 1000 [ 90%]  (Sampling) \n",
            "Chain 1 Iteration: 1000 / 1000 [100%]  (Sampling) \n",
            "Chain 1 finished in 0.1 seconds.\n"
          ]
        },
        {
          "output_type": "display_data",
          "data": {
            "text/html": [
              "<table class=\"dataframe\">\n",
              "<caption>A precis: 2 × 6</caption>\n",
              "<thead>\n",
              "\t<tr><th></th><th scope=col>mean</th><th scope=col>sd</th><th scope=col>5.5%</th><th scope=col>94.5%</th><th scope=col>rhat</th><th scope=col>ess_bulk</th></tr>\n",
              "\t<tr><th></th><th scope=col>&lt;dbl&gt;</th><th scope=col>&lt;dbl&gt;</th><th scope=col>&lt;dbl&gt;</th><th scope=col>&lt;dbl&gt;</th><th scope=col>&lt;dbl&gt;</th><th scope=col>&lt;dbl&gt;</th></tr>\n",
              "</thead>\n",
              "<tbody>\n",
              "\t<tr><th scope=row>a</th><td>0.1165243</td><td>0.2315951</td><td>-0.2268716</td><td>0.4950272</td><td>0.9995074</td><td>326.8885</td></tr>\n",
              "\t<tr><th scope=row>b</th><td>1.1920970</td><td>0.2714594</td><td> 0.7747448</td><td>1.6232727</td><td>1.0087132</td><td>343.0676</td></tr>\n",
              "</tbody>\n",
              "</table>\n"
            ],
            "text/markdown": "\nA precis: 2 × 6\n\n| <!--/--> | mean &lt;dbl&gt; | sd &lt;dbl&gt; | 5.5% &lt;dbl&gt; | 94.5% &lt;dbl&gt; | rhat &lt;dbl&gt; | ess_bulk &lt;dbl&gt; |\n|---|---|---|---|---|---|---|\n| a | 0.1165243 | 0.2315951 | -0.2268716 | 0.4950272 | 0.9995074 | 326.8885 |\n| b | 1.1920970 | 0.2714594 |  0.7747448 | 1.6232727 | 1.0087132 | 343.0676 |\n\n",
            "text/latex": "A precis: 2 × 6\n\\begin{tabular}{r|llllll}\n  & mean & sd & 5.5\\% & 94.5\\% & rhat & ess\\_bulk\\\\\n  & <dbl> & <dbl> & <dbl> & <dbl> & <dbl> & <dbl>\\\\\n\\hline\n\ta & 0.1165243 & 0.2315951 & -0.2268716 & 0.4950272 & 0.9995074 & 326.8885\\\\\n\tb & 1.1920970 & 0.2714594 &  0.7747448 & 1.6232727 & 1.0087132 & 343.0676\\\\\n\\end{tabular}\n",
            "text/plain": [
              "  mean      sd        5.5%       94.5%     rhat      ess_bulk\n",
              "a 0.1165243 0.2315951 -0.2268716 0.4950272 0.9995074 326.8885\n",
              "b 1.1920970 0.2714594  0.7747448 1.6232727 1.0087132 343.0676"
            ]
          },
          "metadata": {}
        }
      ],
      "source": [
        "# Test Installation\n",
        "\n",
        "## Simulate some data for a binary outcome based on a single predictor\n",
        "n <- 100\n",
        "x <- rnorm(n)\n",
        "prob <- 1 / (1 + exp(-x))\n",
        "y <- rbinom(n, 1, prob)\n",
        "\n",
        "## Fit a logistic regression using ulam\n",
        "fit <- ulam(\n",
        "  alist(\n",
        "    y ~ bernoulli( p ),\n",
        "    logit(p) <- a + b*x,\n",
        "    a ~ normal(0, 1),\n",
        "    b ~ normal(0, 1)\n",
        "  ), data = list(x = x, y = y)\n",
        ")\n",
        "\n",
        "precis(fit)"
      ]
    },
    {
      "cell_type": "markdown",
      "metadata": {
        "id": "1ZlXL1B2XGQm"
      },
      "source": [
        "# Chapter 14"
      ]
    },
    {
      "cell_type": "markdown",
      "metadata": {
        "id": "hLV6g37DADVa"
      },
      "source": [
        "## Easy"
      ]
    },
    {
      "cell_type": "markdown",
      "metadata": {
        "id": "d0CU5ffVAFPn"
      },
      "source": [
        "### 14E1\n",
        "Add to the following model varying slopes on the predictor $x$:  \n",
        "\n",
        "$$y_i ∼ Normal(µ_i, σ)$$\n",
        "\n",
        "$$µ_i = α_{group[i]} + βx_i$$\n",
        "\n",
        "$$α_{group} ∼ Normal(α, σ_α)$$\n",
        "\n",
        "$$α ∼ Normal(0, 10)$$\n",
        "\n",
        "$$β ∼ Normal(0, 1)$$\n",
        "\n",
        "$$σ ∼ Exponential(1)$$\n",
        "\n",
        "$$σ_α ∼ Exponential(1)$$\n",
        "\n",
        "\n",
        "#### Answer\n",
        "I think this can be done most basically like:\n",
        "\n",
        "$$\\vdots$$\n",
        "\n",
        "$$µ_i = α_{group[i]} + β_{group[i]}x_i$$\n",
        "\n",
        "$$\\vdots$$\n",
        "\n",
        "$$β_{group} ∼ Normal(0, 1)$$\n",
        "\n",
        "$$\\vdots$$\n",
        "\n",
        "\n",
        "We might even make this hierarchical like:\n",
        "\n",
        "$$\\vdots$$\n",
        "\n",
        "$$µ_i = α_{group[i]} + β_{group[i]}x_i$$\n",
        "\n",
        "$$\\vdots$$\n",
        "\n",
        "$$β_{group} ∼ Normal(\\beta, \\sigma_{\\beta})$$\n",
        "\n",
        "$$\\vdots$$\n",
        "\n",
        "$$\\beta \\sim Normal(0, 1)$$\n",
        "\n",
        "$$\\vdots$$\n",
        "\n",
        "$$\\sigma_\\beta \\sim Exponential(1)$$\n",
        "\n",
        "\n",
        "But this chapter deals with covariance among parameters.  We can incorporate that like:\n",
        "$$y_i ∼ Normal(µ_i, σ)$$\n",
        "\n",
        "$$µ_i = α_{group[i]} + β_{group[i]}x_i$$\n",
        "\n",
        "$$\\begin{bmatrix}\n",
        "\\alpha_{group} \\\\\n",
        "\\beta_{group} \\\\\n",
        "\\end{bmatrix}\n",
        "\\sim\n",
        "Normal_2 \\left( \\begin{bmatrix}\n",
        "\\alpha \\\\\n",
        "\\beta \\\\\n",
        "\\end{bmatrix},\n",
        "\\boldsymbol{S} \\right)$$\n",
        "\n",
        "$$\\boldsymbol{S} = \\begin{bmatrix}\n",
        "\\sigma_\\alpha & 0 \\\\\n",
        "0 & \\sigma_\\beta \\\\\n",
        "\\end{bmatrix} \\boldsymbol{R}\n",
        "\\begin{bmatrix}\n",
        "\\sigma_\\alpha & 0 \\\\\n",
        "0 & \\sigma_\\beta \\\\\n",
        "\\end{bmatrix}$$\n",
        "\n",
        "$$α ∼ Normal(0, 10)$$\n",
        "\n",
        "$$β ∼ Normal(0, 1)$$\n",
        "\n",
        "$$σ ∼ Exponential(1)$$\n",
        "\n",
        "$$σ_α ∼ Exponential(1)$$\n",
        "\n",
        "$$\\sigma_\\beta \\sim Exponential(1)$$\n",
        "\n",
        "$$\\boldsymbol{R} \\sim LKJcorr(2)$$\n"
      ]
    },
    {
      "cell_type": "markdown",
      "source": [
        "### 14E2\n",
        "\n",
        "Think up a context in which varying intercepts will be positively correlated with varying slopes.  Provide a mechanistic explanation for the correlation.\n",
        "\n",
        "\n",
        "#### Answer\n",
        "\n",
        "Of course, there are many possible answers, so I'll provide a weak one.  Take the height trajectories of 14 year olds.  By 14, many have hit their puberty growth spurt and many have not.  Hence, it may be that the tallest 14 year olds are closest to their adult height such that they tend to grow the least from that point on.  This would result in a negative correlation between intercepts (height at 14 years old) and slope (growth trajectory)."
      ],
      "metadata": {
        "id": "AwXCap_7Umzx"
      }
    },
    {
      "cell_type": "markdown",
      "source": [
        "### 14E3\n",
        "\n",
        "When is it possible for a varying slopes model to have fewer effective parameters (as estimated by WAIC or PSIS) than the corresponding model with fixed (unpooled) slopes?  Explain.\n",
        "\n",
        "#### Answer\n",
        "\n",
        "The \"effective number of parameters\" is the same as the \"penalty\" (in WAIC/PSIS/CV) for a model.  Roughly speaking, the more parameters used to fit a model, the larger penalty that model should incur because more parameters lend to a more flexible model.\n",
        "\n",
        "Another way to think about the penalty is as being proportional to the ratio\n",
        "\n",
        "$$\\text{penalty} \\propto \\frac{\\text{volume(prior space)}}{\\text{volume(posterior space)}}$$\n",
        "\n",
        "A highly-flexible model will have a large space of prior possibilities which can shrink tightly to a small space of posterior possibilities.\n",
        "\n",
        "The penalty refers to the predicted ability of the model to generalize to new data.  This should make sense because a highly-flexible model will tightly fit the data at hand, which is likely to mean it will struggle to fit other data.  This does not mean that a model with more effective parameters is automatically a worse model than one with fewer effective parameters: a model's penalty *eats* away at its \"log pointwise predictive density\" (lppd), which measures the model's fit to data; so a model with larger penalty may yet be preferred if the penalty incurred by increasing flexibility is sufficiently compensated by an increase in the lppd.\n",
        "\n",
        "\n",
        "Right away, we should assume that varying-slopes (or intercepts) should have more effective parameters than fixed slopes; whereas a fixed slope is 1 parameter, varying-slopes is possibly 1 parameter for every level/cluster/panel.  But we need a little more nuance.  The estimated number of parameters from a single fixed slope should really be cashed out in the flexibility it lends to the model; a more permissive prior will grant more flexibility and hence more effective parameters.  If the levels/clusters/panels are very similar, and constructed hierarchically such that their priors are *informed by the data*, then the prior volume of the varying intercepts can actually be more restrictive than the single fixed slope."
      ],
      "metadata": {
        "id": "FyY4rqy1VLXV"
      }
    },
    {
      "cell_type": "markdown",
      "source": [
        "## Medium"
      ],
      "metadata": {
        "id": "25frrzlcBqUD"
      }
    },
    {
      "cell_type": "markdown",
      "source": [
        "#### 14M1\n",
        "\n",
        "Repeat the café robot simulation from the beginning of the chapter. This time, set `rho` to zero,  so that there is no correlation between intercepts and slopes. How does the posterior distribution of the correlation reflect this change in the underlying simulation?\n",
        "\n",
        "### Answer\n",
        "Let's first get the old data together."
      ],
      "metadata": {
        "id": "g006x8WqVl6j"
      }
    },
    {
      "cell_type": "code",
      "source": [
        "a <- 3.5\n",
        "b <- (-1)\n",
        "sigma_a <- 1\n",
        "sigma_b <- 0.5\n",
        "rho <- (-0.7)\n",
        "\n",
        "Mu <- c(a,b)\n",
        "cov_ab <- sigma_a * sigma_b * rho\n",
        "Sigma <- matrix(c(sigma_a^2, cov_ab, cov_ab, sigma_b^2), ncol=2)\n",
        "\n",
        "N_cafes <- 20\n",
        "\n",
        "library(MASS)\n",
        "set.seed(5)\n",
        "\n",
        "vary_effects <- mvrnorm(N_cafes, Mu, Sigma)\n",
        "a_cafe <- vary_effects[,1]\n",
        "b_cafe <- vary_effects[,2]\n",
        "\n",
        "set.seed(22)\n",
        "N_visits <- 10\n",
        "afternoon <- rep(0:1, N_visits*N_cafes/2)\n",
        "cafe_id <- rep(1:N_cafes, each=N_visits)\n",
        "mu <- a_cafe[cafe_id] + b_cafe[cafe_id]*afternoon\n",
        "sigma <- 0.5\n",
        "wait <- rnorm(N_visits*N_cafes, mu, sigma)\n",
        "d <- data.frame(cafe=cafe_id, afternoon=afternoon, wait=wait)"
      ],
      "metadata": {
        "id": "3Vxl6aM95Nzu"
      },
      "execution_count": null,
      "outputs": []
    },
    {
      "cell_type": "markdown",
      "source": [
        "Now let's replicate the old analysis and get the posterior samples."
      ],
      "metadata": {
        "id": "vsOQemk7-CK3"
      }
    },
    {
      "cell_type": "code",
      "source": [
        "set.seed(867530)\n",
        "m14.1 <- ulam(\n",
        "  alist(\n",
        "    wait ~ normal(mu, sigma),\n",
        "      mu <- a_cafe[cafe] + b_cafe[cafe]*afternoon,\n",
        "        c(a_cafe, b_cafe)[cafe] ~ multi_normal(c(a,b), Rho, sigma_cafe),\n",
        "          a ~ normal(5,2),\n",
        "          b ~ normal(-1, 0.5),\n",
        "          sigma_cafe ~ exponential(1),\n",
        "          sigma ~ exponential(1),\n",
        "          Rho ~ lkj_corr(2)\n",
        "    ), data=d,\n",
        "       chains=4,\n",
        "       cores=4,\n",
        "       iter=1000\n",
        ")\n",
        "post <- extract.samples(m14.1)"
      ],
      "metadata": {
        "collapsed": true,
        "id": "JjGD3fMu64Lg"
      },
      "execution_count": null,
      "outputs": []
    },
    {
      "cell_type": "markdown",
      "source": [
        "Now we repeat, but `rho <- 0`"
      ],
      "metadata": {
        "id": "jXFsplZt_IeJ"
      }
    },
    {
      "cell_type": "code",
      "source": [
        "a <- 3.5\n",
        "b <- (-1)\n",
        "sigma_a <- 1\n",
        "sigma_b <- 0.5\n",
        "rho <- 0\n",
        "\n",
        "Mu <- c(a,b)\n",
        "cov_ab <- sigma_a * sigma_b * rho\n",
        "Sigma <- matrix(c(sigma_a^2, cov_ab, cov_ab, sigma_b^2), ncol=2)\n",
        "\n",
        "N_cafes <- 20\n",
        "\n",
        "library(MASS)\n",
        "set.seed(5)\n",
        "\n",
        "vary_effects <- mvrnorm(N_cafes, Mu, Sigma)\n",
        "a_cafe <- vary_effects[,1]\n",
        "b_cafe <- vary_effects[,2]\n",
        "\n",
        "set.seed(22)\n",
        "N_visits <- 10\n",
        "afternoon <- rep(0:1, N_visits*N_cafes/2)\n",
        "cafe_id <- rep(1:N_cafes, each=N_visits)\n",
        "mu <- a_cafe[cafe_id] + b_cafe[cafe_id]*afternoon\n",
        "sigma <- 0.5\n",
        "wait <- rnorm(N_visits*N_cafes, mu, sigma)\n",
        "d <- data.frame(cafe=cafe_id, afternoon=afternoon, wait=wait)"
      ],
      "metadata": {
        "id": "QhZDx_rK-5ui"
      },
      "execution_count": null,
      "outputs": []
    },
    {
      "cell_type": "code",
      "source": [
        "set.seed(867530)\n",
        "m14M1 <- ulam(\n",
        "  alist(\n",
        "    wait ~ normal(mu, sigma),\n",
        "      mu <- a_cafe[cafe] + b_cafe[cafe]*afternoon,\n",
        "        c(a_cafe, b_cafe)[cafe] ~ multi_normal(c(a,b), Rho, sigma_cafe),\n",
        "          a ~ normal(5,2),\n",
        "          b ~ normal(-1, 0.5),\n",
        "          sigma_cafe ~ exponential(1),\n",
        "          sigma ~ exponential(1),\n",
        "          Rho ~ lkj_corr(2)\n",
        "    ), data=d,\n",
        "       chains=4,\n",
        "       cores=4,\n",
        "       iter=1000\n",
        ")\n",
        "post2 <- extract.samples(m14M1)"
      ],
      "metadata": {
        "colab": {
          "base_uri": "https://localhost:8080/"
        },
        "collapsed": true,
        "id": "B0wdu8rJ_SKw",
        "outputId": "9bd7ce01-cd57-4a4f-b120-f3d57e434233"
      },
      "execution_count": null,
      "outputs": [
        {
          "output_type": "stream",
          "name": "stdout",
          "text": [
            "Running MCMC with 4 parallel chains, with 1 thread(s) per chain...\n",
            "\n",
            "Chain 1 Iteration:   1 / 1000 [  0%]  (Warmup) \n"
          ]
        },
        {
          "output_type": "stream",
          "name": "stderr",
          "text": [
            "Chain 1 Informational Message: The current Metropolis proposal is about to be rejected because of the following issue:\n",
            "\n",
            "Chain 1 Exception: lkj_corr_lpdf: Correlation matrix is not positive definite. (in '/tmp/RtmpJEQt81/model-1211aa0a407.stan', line 17, column 4 to column 24)\n",
            "\n",
            "Chain 1 If this warning occurs sporadically, such as for highly constrained variable types like covariance matrices, then the sampler is fine,\n",
            "\n",
            "Chain 1 but if this warning occurs often then your model may be either severely ill-conditioned or misspecified.\n",
            "\n",
            "Chain 1 \n",
            "\n"
          ]
        },
        {
          "output_type": "stream",
          "name": "stdout",
          "text": [
            "Chain 2 Iteration:   1 / 1000 [  0%]  (Warmup) \n"
          ]
        },
        {
          "output_type": "stream",
          "name": "stderr",
          "text": [
            "Chain 2 Informational Message: The current Metropolis proposal is about to be rejected because of the following issue:\n",
            "\n",
            "Chain 2 Exception: lkj_corr_lpdf: Correlation matrix is not positive definite. (in '/tmp/RtmpJEQt81/model-1211aa0a407.stan', line 17, column 4 to column 24)\n",
            "\n",
            "Chain 2 If this warning occurs sporadically, such as for highly constrained variable types like covariance matrices, then the sampler is fine,\n",
            "\n",
            "Chain 2 but if this warning occurs often then your model may be either severely ill-conditioned or misspecified.\n",
            "\n",
            "Chain 2 \n",
            "\n",
            "Chain 2 Informational Message: The current Metropolis proposal is about to be rejected because of the following issue:\n",
            "\n",
            "Chain 2 Exception: lkj_corr_lpdf: Correlation matrix is not positive definite. (in '/tmp/RtmpJEQt81/model-1211aa0a407.stan', line 17, column 4 to column 24)\n",
            "\n",
            "Chain 2 If this warning occurs sporadically, such as for highly constrained variable types like covariance matrices, then the sampler is fine,\n",
            "\n",
            "Chain 2 but if this warning occurs often then your model may be either severely ill-conditioned or misspecified.\n",
            "\n",
            "Chain 2 \n",
            "\n",
            "Chain 2 Informational Message: The current Metropolis proposal is about to be rejected because of the following issue:\n",
            "\n",
            "Chain 2 Exception: lkj_corr_lpdf: Correlation matrix is not positive definite. (in '/tmp/RtmpJEQt81/model-1211aa0a407.stan', line 17, column 4 to column 24)\n",
            "\n",
            "Chain 2 If this warning occurs sporadically, such as for highly constrained variable types like covariance matrices, then the sampler is fine,\n",
            "\n",
            "Chain 2 but if this warning occurs often then your model may be either severely ill-conditioned or misspecified.\n",
            "\n",
            "Chain 2 \n",
            "\n",
            "Chain 2 Informational Message: The current Metropolis proposal is about to be rejected because of the following issue:\n",
            "\n",
            "Chain 2 Exception: lkj_corr_lpdf: Correlation matrix is not positive definite. (in '/tmp/RtmpJEQt81/model-1211aa0a407.stan', line 17, column 4 to column 24)\n",
            "\n",
            "Chain 2 If this warning occurs sporadically, such as for highly constrained variable types like covariance matrices, then the sampler is fine,\n",
            "\n",
            "Chain 2 but if this warning occurs often then your model may be either severely ill-conditioned or misspecified.\n",
            "\n",
            "Chain 2 \n",
            "\n"
          ]
        },
        {
          "output_type": "stream",
          "name": "stdout",
          "text": [
            "Chain 3 Iteration:   1 / 1000 [  0%]  (Warmup) \n",
            "Chain 3 Iteration: 100 / 1000 [ 10%]  (Warmup) \n"
          ]
        },
        {
          "output_type": "stream",
          "name": "stderr",
          "text": [
            "Chain 3 Informational Message: The current Metropolis proposal is about to be rejected because of the following issue:\n",
            "\n",
            "Chain 3 Exception: lkj_corr_lpdf: Correlation matrix is not positive definite. (in '/tmp/RtmpJEQt81/model-1211aa0a407.stan', line 17, column 4 to column 24)\n",
            "\n",
            "Chain 3 If this warning occurs sporadically, such as for highly constrained variable types like covariance matrices, then the sampler is fine,\n",
            "\n",
            "Chain 3 but if this warning occurs often then your model may be either severely ill-conditioned or misspecified.\n",
            "\n",
            "Chain 3 \n",
            "\n"
          ]
        },
        {
          "output_type": "stream",
          "name": "stdout",
          "text": [
            "Chain 4 Iteration:   1 / 1000 [  0%]  (Warmup) \n",
            "Chain 4 Iteration: 100 / 1000 [ 10%]  (Warmup) \n",
            "Chain 4 Iteration: 200 / 1000 [ 20%]  (Warmup) \n"
          ]
        },
        {
          "output_type": "stream",
          "name": "stderr",
          "text": [
            "Chain 4 Informational Message: The current Metropolis proposal is about to be rejected because of the following issue:\n",
            "\n",
            "Chain 4 Exception: lkj_corr_lpdf: Correlation matrix is not positive definite. (in '/tmp/RtmpJEQt81/model-1211aa0a407.stan', line 17, column 4 to column 24)\n",
            "\n",
            "Chain 4 If this warning occurs sporadically, such as for highly constrained variable types like covariance matrices, then the sampler is fine,\n",
            "\n",
            "Chain 4 but if this warning occurs often then your model may be either severely ill-conditioned or misspecified.\n",
            "\n",
            "Chain 4 \n",
            "\n",
            "Chain 4 Informational Message: The current Metropolis proposal is about to be rejected because of the following issue:\n",
            "\n",
            "Chain 4 Exception: lkj_corr_lpdf: Correlation matrix is not positive definite. (in '/tmp/RtmpJEQt81/model-1211aa0a407.stan', line 17, column 4 to column 24)\n",
            "\n",
            "Chain 4 If this warning occurs sporadically, such as for highly constrained variable types like covariance matrices, then the sampler is fine,\n",
            "\n",
            "Chain 4 but if this warning occurs often then your model may be either severely ill-conditioned or misspecified.\n",
            "\n",
            "Chain 4 \n",
            "\n",
            "Chain 4 Informational Message: The current Metropolis proposal is about to be rejected because of the following issue:\n",
            "\n",
            "Chain 4 Exception: lkj_corr_lpdf: Correlation matrix is not positive definite. (in '/tmp/RtmpJEQt81/model-1211aa0a407.stan', line 17, column 4 to column 24)\n",
            "\n",
            "Chain 4 If this warning occurs sporadically, such as for highly constrained variable types like covariance matrices, then the sampler is fine,\n",
            "\n",
            "Chain 4 but if this warning occurs often then your model may be either severely ill-conditioned or misspecified.\n",
            "\n",
            "Chain 4 \n",
            "\n",
            "Chain 4 Informational Message: The current Metropolis proposal is about to be rejected because of the following issue:\n",
            "\n",
            "Chain 4 Exception: multi_normal_lpdf: Covariance matrix is not symmetric. Covariance matrix[1,2] = 4.5383e+18, but Covariance matrix[2,1] = 4.5383e+18 (in '/tmp/RtmpJEQt81/model-1211aa0a407.stan', line 27, column 4 to column 63)\n",
            "\n",
            "Chain 4 If this warning occurs sporadically, such as for highly constrained variable types like covariance matrices, then the sampler is fine,\n",
            "\n",
            "Chain 4 but if this warning occurs often then your model may be either severely ill-conditioned or misspecified.\n",
            "\n",
            "Chain 4 \n",
            "\n",
            "Chain 4 Informational Message: The current Metropolis proposal is about to be rejected because of the following issue:\n",
            "\n",
            "Chain 4 Exception: lkj_corr_lpdf: Correlation matrix is not positive definite. (in '/tmp/RtmpJEQt81/model-1211aa0a407.stan', line 17, column 4 to column 24)\n",
            "\n",
            "Chain 4 If this warning occurs sporadically, such as for highly constrained variable types like covariance matrices, then the sampler is fine,\n",
            "\n",
            "Chain 4 but if this warning occurs often then your model may be either severely ill-conditioned or misspecified.\n",
            "\n",
            "Chain 4 \n",
            "\n",
            "Chain 4 Informational Message: The current Metropolis proposal is about to be rejected because of the following issue:\n",
            "\n",
            "Chain 4 Exception: multi_normal_lpdf: Covariance matrix is not symmetric. Covariance matrix[1,2] = -8.81004e+114, but Covariance matrix[2,1] = -8.81004e+114 (in '/tmp/RtmpJEQt81/model-1211aa0a407.stan', line 27, column 4 to column 63)\n",
            "\n",
            "Chain 4 If this warning occurs sporadically, such as for highly constrained variable types like covariance matrices, then the sampler is fine,\n",
            "\n",
            "Chain 4 but if this warning occurs often then your model may be either severely ill-conditioned or misspecified.\n",
            "\n",
            "Chain 4 \n",
            "\n"
          ]
        },
        {
          "output_type": "stream",
          "name": "stdout",
          "text": [
            "Chain 1 Iteration: 100 / 1000 [ 10%]  (Warmup) \n",
            "Chain 1 Iteration: 200 / 1000 [ 20%]  (Warmup) \n",
            "Chain 1 Iteration: 300 / 1000 [ 30%]  (Warmup) \n",
            "Chain 1 Iteration: 400 / 1000 [ 40%]  (Warmup) \n",
            "Chain 2 Iteration: 100 / 1000 [ 10%]  (Warmup) \n",
            "Chain 2 Iteration: 200 / 1000 [ 20%]  (Warmup) \n",
            "Chain 2 Iteration: 300 / 1000 [ 30%]  (Warmup) \n",
            "Chain 2 Iteration: 400 / 1000 [ 40%]  (Warmup) \n",
            "Chain 3 Iteration: 200 / 1000 [ 20%]  (Warmup) \n",
            "Chain 3 Iteration: 300 / 1000 [ 30%]  (Warmup) \n",
            "Chain 4 Iteration: 300 / 1000 [ 30%]  (Warmup) \n",
            "Chain 4 Iteration: 400 / 1000 [ 40%]  (Warmup) \n",
            "Chain 2 Iteration: 500 / 1000 [ 50%]  (Warmup) \n",
            "Chain 2 Iteration: 501 / 1000 [ 50%]  (Sampling) \n",
            "Chain 1 Iteration: 500 / 1000 [ 50%]  (Warmup) \n",
            "Chain 1 Iteration: 501 / 1000 [ 50%]  (Sampling) \n",
            "Chain 3 Iteration: 400 / 1000 [ 40%]  (Warmup) \n",
            "Chain 4 Iteration: 500 / 1000 [ 50%]  (Warmup) \n",
            "Chain 4 Iteration: 501 / 1000 [ 50%]  (Sampling) \n",
            "Chain 2 Iteration: 600 / 1000 [ 60%]  (Sampling) \n",
            "Chain 1 Iteration: 600 / 1000 [ 60%]  (Sampling) \n",
            "Chain 3 Iteration: 500 / 1000 [ 50%]  (Warmup) \n",
            "Chain 3 Iteration: 501 / 1000 [ 50%]  (Sampling) \n",
            "Chain 4 Iteration: 600 / 1000 [ 60%]  (Sampling) \n",
            "Chain 2 Iteration: 700 / 1000 [ 70%]  (Sampling) \n",
            "Chain 2 Iteration: 800 / 1000 [ 80%]  (Sampling) \n",
            "Chain 3 Iteration: 600 / 1000 [ 60%]  (Sampling) \n",
            "Chain 4 Iteration: 700 / 1000 [ 70%]  (Sampling) \n",
            "Chain 1 Iteration: 700 / 1000 [ 70%]  (Sampling) \n",
            "Chain 2 Iteration: 900 / 1000 [ 90%]  (Sampling) \n",
            "Chain 3 Iteration: 700 / 1000 [ 70%]  (Sampling) \n",
            "Chain 1 Iteration: 800 / 1000 [ 80%]  (Sampling) \n",
            "Chain 4 Iteration: 800 / 1000 [ 80%]  (Sampling) \n",
            "Chain 2 Iteration: 1000 / 1000 [100%]  (Sampling) \n",
            "Chain 3 Iteration: 800 / 1000 [ 80%]  (Sampling) \n",
            "Chain 2 finished in 3.5 seconds.\n",
            "Chain 1 Iteration: 900 / 1000 [ 90%]  (Sampling) \n",
            "Chain 4 Iteration: 900 / 1000 [ 90%]  (Sampling) \n",
            "Chain 1 Iteration: 1000 / 1000 [100%]  (Sampling) \n",
            "Chain 3 Iteration: 900 / 1000 [ 90%]  (Sampling) \n",
            "Chain 4 Iteration: 1000 / 1000 [100%]  (Sampling) \n",
            "Chain 1 finished in 3.9 seconds.\n",
            "Chain 4 finished in 3.8 seconds.\n",
            "Chain 3 Iteration: 1000 / 1000 [100%]  (Sampling) \n",
            "Chain 3 finished in 3.9 seconds.\n",
            "\n",
            "All 4 chains finished successfully.\n",
            "Mean chain execution time: 3.8 seconds.\n",
            "Total execution time: 4.1 seconds.\n",
            "\n"
          ]
        }
      ]
    },
    {
      "cell_type": "markdown",
      "source": [
        "Now let's plot the posteriors for `Rho`."
      ],
      "metadata": {
        "id": "6igNJc4x_0xc"
      }
    },
    {
      "cell_type": "code",
      "source": [
        "dens(post$Rho[,1,2], xlab=\"Rho\", xlim=c(-1,1))\n",
        "  abline(v=-0.7)\n",
        "dens(post2$Rho[,1,2], add=TRUE, col=\"red\")\n",
        "  abline(v=0, col=\"red\")"
      ],
      "metadata": {
        "colab": {
          "base_uri": "https://localhost:8080/",
          "height": 437
        },
        "id": "kCNSF6Zb_0bV",
        "outputId": "3cd07fe5-cb4d-4397-e769-ce243b0723d7"
      },
      "execution_count": null,
      "outputs": [
        {
          "output_type": "display_data",
          "data": {
            "text/plain": [
              "Plot with title “”"
            ],
            "image/png": "[encoded data removed]"
          },
          "metadata": {
            "image/png": {
              "width": 420,
              "height": 420
            }
          }
        }
      ]
    },
    {
      "cell_type": "markdown",
      "source": [
        "So the `rho <- -0.7` model estimates `Rho` to be pulled towards `0`.  But the `rho <- 0` model does not seem to drag the esimate away from `0`.  What's going on?  This is the work of `lkj_corr(2)`, which makes the model skeptical of extreme correlations, so the `rho <- 0.7`, being somewhat extreme, is pulled towards 0; meanwhile, the `rho <- 0`, being as far from extreme as possible`, is not shifted."
      ],
      "metadata": {
        "id": "I_33-QMBDWF6"
      }
    },
    {
      "cell_type": "markdown",
      "source": [
        "#### 14M2\n",
        "\n",
        "Fit this multilevel model to the simulated café data:  \n",
        "$$W_i ∼ Normal(µ_i, σ)$$\n",
        "$$µ_i = α_{café[i]} + β_{café[i]} A_i$$\n",
        "$$α_{café} ∼ Normal(α, σ_α)$$\n",
        "$$β_{café} ∼ Normal(β, σ_β)$$\n",
        "$$α ∼ Normal(0, 10)$$\n",
        "$$β ∼ Normal(0, 10)$$\n",
        "$$σ, σ_α, σ_β ∼ Exponential(1)$$\n",
        "\n",
        "Use WAIC to compare this model to the model from the chapter, the one that uses a multi-variate  Gaussian prior. Explain the result.\n",
        "\n",
        "##### Answer"
      ],
      "metadata": {
        "id": "ReeFDvH1NSgw"
      }
    },
    {
      "cell_type": "code",
      "source": [
        "a <- 3.5\n",
        "b <- (-1)\n",
        "sigma_a <- 1\n",
        "sigma_b <- 0.5\n",
        "rho <- (-0.7)\n",
        "\n",
        "Mu <- c(a,b)\n",
        "cov_ab <- sigma_a * sigma_b * rho\n",
        "Sigma <- matrix(c(sigma_a^2, cov_ab, cov_ab, sigma_b^2), ncol=2)\n",
        "\n",
        "N_cafes <- 20\n",
        "\n",
        "library(MASS)\n",
        "set.seed(5)\n",
        "\n",
        "vary_effects <- mvrnorm(N_cafes, Mu, Sigma)\n",
        "a_cafe <- vary_effects[,1]\n",
        "b_cafe <- vary_effects[,2]\n",
        "\n",
        "set.seed(22)\n",
        "N_visits <- 10\n",
        "afternoon <- rep(0:1, N_visits*N_cafes/2)\n",
        "cafe_id <- rep(1:N_cafes, each=N_visits)\n",
        "mu <- a_cafe[cafe_id] + b_cafe[cafe_id]*afternoon\n",
        "sigma <- 0.5\n",
        "wait <- rnorm(N_visits*N_cafes, mu, sigma)\n",
        "d <- data.frame(cafe=cafe_id, afternoon=afternoon, wait=wait)"
      ],
      "metadata": {
        "id": "YQrxHpevONyV"
      },
      "execution_count": null,
      "outputs": []
    },
    {
      "cell_type": "code",
      "source": [
        "m14.1 <- ulam(\n",
        "  alist(\n",
        "    wait ~ normal(mu, sigma),\n",
        "      mu <- a_cafe[cafe] + b_cafe[cafe]*afternoon,\n",
        "        c(a_cafe, b_cafe)[cafe] ~ multi_normal(c(a,b), Rho, sigma_cafe),\n",
        "          a ~ normal(5,2),\n",
        "          b ~ normal(-1, 0.5),\n",
        "          sigma_cafe ~ exponential(1),\n",
        "          sigma ~ exponential(1),\n",
        "          Rho ~ lkj_corr(2)\n",
        "    ), data=d,\n",
        "       chains=4,\n",
        "       cores=4,\n",
        "       iter=1000,\n",
        "       log_lik=TRUE\n",
        ")\n",
        "\n",
        "m14M2 <- ulam(\n",
        "  alist(\n",
        "    wait ~ dnorm(mu, sigma),\n",
        "      mu <- a_cafe[cafe] + b_cafe[cafe]*afternoon,\n",
        "        a_cafe[cafe] ~ dnorm(a, sigma_a),\n",
        "          a ~ dnorm(0, 10),\n",
        "          sigma_a ~ dexp(1),\n",
        "        b_cafe[cafe] ~ dnorm(b, sigma_b),\n",
        "          b ~ dnorm(0, 10),\n",
        "          sigma_b ~ dexp(1),\n",
        "      sigma ~ dexp(1)\n",
        "  ), data=d,\n",
        "     chains=4,\n",
        "     cores=4,\n",
        "     iter=1000,\n",
        "     log_lik=TRUE\n",
        ")"
      ],
      "metadata": {
        "colab": {
          "base_uri": "https://localhost:8080/",
          "height": 1000
        },
        "collapsed": true,
        "id": "hTxPDqqHOFl7",
        "outputId": "5ecaba65-2bf2-4ea9-e12b-855b4fa57805"
      },
      "execution_count": null,
      "outputs": [
        {
          "output_type": "stream",
          "name": "stdout",
          "text": [
            "Running MCMC with 4 parallel chains, with 1 thread(s) per chain...\n",
            "\n",
            "Chain 1 Iteration:   1 / 1000 [  0%]  (Warmup) \n"
          ]
        },
        {
          "output_type": "stream",
          "name": "stderr",
          "text": [
            "Chain 1 Informational Message: The current Metropolis proposal is about to be rejected because of the following issue:\n",
            "\n",
            "Chain 1 Exception: lkj_corr_lpdf: Correlation matrix is not positive definite. (in '/tmp/Rtmpi3AvZt/model-257711568c6.stan', line 17, column 4 to column 24)\n",
            "\n",
            "Chain 1 If this warning occurs sporadically, such as for highly constrained variable types like covariance matrices, then the sampler is fine,\n",
            "\n",
            "Chain 1 but if this warning occurs often then your model may be either severely ill-conditioned or misspecified.\n",
            "\n",
            "Chain 1 \n",
            "\n",
            "Chain 1 Informational Message: The current Metropolis proposal is about to be rejected because of the following issue:\n",
            "\n",
            "Chain 1 Exception: lkj_corr_lpdf: Correlation matrix is not positive definite. (in '/tmp/Rtmpi3AvZt/model-257711568c6.stan', line 17, column 4 to column 24)\n",
            "\n",
            "Chain 1 If this warning occurs sporadically, such as for highly constrained variable types like covariance matrices, then the sampler is fine,\n",
            "\n",
            "Chain 1 but if this warning occurs often then your model may be either severely ill-conditioned or misspecified.\n",
            "\n",
            "Chain 1 \n",
            "\n",
            "Chain 1 Informational Message: The current Metropolis proposal is about to be rejected because of the following issue:\n",
            "\n",
            "Chain 1 Exception: lkj_corr_lpdf: Correlation matrix is not positive definite. (in '/tmp/Rtmpi3AvZt/model-257711568c6.stan', line 17, column 4 to column 24)\n",
            "\n",
            "Chain 1 If this warning occurs sporadically, such as for highly constrained variable types like covariance matrices, then the sampler is fine,\n",
            "\n",
            "Chain 1 but if this warning occurs often then your model may be either severely ill-conditioned or misspecified.\n",
            "\n",
            "Chain 1 \n",
            "\n",
            "Chain 1 Informational Message: The current Metropolis proposal is about to be rejected because of the following issue:\n",
            "\n",
            "Chain 1 Exception: lkj_corr_lpdf: Correlation matrix is not positive definite. (in '/tmp/Rtmpi3AvZt/model-257711568c6.stan', line 17, column 4 to column 24)\n",
            "\n",
            "Chain 1 If this warning occurs sporadically, such as for highly constrained variable types like covariance matrices, then the sampler is fine,\n",
            "\n",
            "Chain 1 but if this warning occurs often then your model may be either severely ill-conditioned or misspecified.\n",
            "\n",
            "Chain 1 \n",
            "\n",
            "Chain 1 Informational Message: The current Metropolis proposal is about to be rejected because of the following issue:\n",
            "\n",
            "Chain 1 Exception: lkj_corr_lpdf: Correlation matrix is not positive definite. (in '/tmp/Rtmpi3AvZt/model-257711568c6.stan', line 17, column 4 to column 24)\n",
            "\n",
            "Chain 1 If this warning occurs sporadically, such as for highly constrained variable types like covariance matrices, then the sampler is fine,\n",
            "\n",
            "Chain 1 but if this warning occurs often then your model may be either severely ill-conditioned or misspecified.\n",
            "\n",
            "Chain 1 \n",
            "\n",
            "Chain 1 Informational Message: The current Metropolis proposal is about to be rejected because of the following issue:\n",
            "\n",
            "Chain 1 Exception: lkj_corr_lpdf: Correlation matrix is not positive definite. (in '/tmp/Rtmpi3AvZt/model-257711568c6.stan', line 17, column 4 to column 24)\n",
            "\n",
            "Chain 1 If this warning occurs sporadically, such as for highly constrained variable types like covariance matrices, then the sampler is fine,\n",
            "\n",
            "Chain 1 but if this warning occurs often then your model may be either severely ill-conditioned or misspecified.\n",
            "\n",
            "Chain 1 \n",
            "\n"
          ]
        },
        {
          "output_type": "stream",
          "name": "stdout",
          "text": [
            "Chain 2 Iteration:   1 / 1000 [  0%]  (Warmup) \n",
            "Chain 2 Iteration: 100 / 1000 [ 10%]  (Warmup) \n"
          ]
        },
        {
          "output_type": "stream",
          "name": "stderr",
          "text": [
            "Chain 2 Informational Message: The current Metropolis proposal is about to be rejected because of the following issue:\n",
            "\n",
            "Chain 2 Exception: lkj_corr_lpdf: Correlation matrix is not positive definite. (in '/tmp/Rtmpi3AvZt/model-257711568c6.stan', line 17, column 4 to column 24)\n",
            "\n",
            "Chain 2 If this warning occurs sporadically, such as for highly constrained variable types like covariance matrices, then the sampler is fine,\n",
            "\n",
            "Chain 2 but if this warning occurs often then your model may be either severely ill-conditioned or misspecified.\n",
            "\n",
            "Chain 2 \n",
            "\n",
            "Chain 2 Informational Message: The current Metropolis proposal is about to be rejected because of the following issue:\n",
            "\n",
            "Chain 2 Exception: lkj_corr_lpdf: Correlation matrix is not positive definite. (in '/tmp/Rtmpi3AvZt/model-257711568c6.stan', line 17, column 4 to column 24)\n",
            "\n",
            "Chain 2 If this warning occurs sporadically, such as for highly constrained variable types like covariance matrices, then the sampler is fine,\n",
            "\n",
            "Chain 2 but if this warning occurs often then your model may be either severely ill-conditioned or misspecified.\n",
            "\n",
            "Chain 2 \n",
            "\n",
            "Chain 2 Informational Message: The current Metropolis proposal is about to be rejected because of the following issue:\n",
            "\n",
            "Chain 2 Exception: lkj_corr_lpdf: Correlation matrix is not positive definite. (in '/tmp/Rtmpi3AvZt/model-257711568c6.stan', line 17, column 4 to column 24)\n",
            "\n",
            "Chain 2 If this warning occurs sporadically, such as for highly constrained variable types like covariance matrices, then the sampler is fine,\n",
            "\n",
            "Chain 2 but if this warning occurs often then your model may be either severely ill-conditioned or misspecified.\n",
            "\n",
            "Chain 2 \n",
            "\n",
            "Chain 2 Informational Message: The current Metropolis proposal is about to be rejected because of the following issue:\n",
            "\n",
            "Chain 2 Exception: lkj_corr_lpdf: Correlation matrix is not positive definite. (in '/tmp/Rtmpi3AvZt/model-257711568c6.stan', line 17, column 4 to column 24)\n",
            "\n",
            "Chain 2 If this warning occurs sporadically, such as for highly constrained variable types like covariance matrices, then the sampler is fine,\n",
            "\n",
            "Chain 2 but if this warning occurs often then your model may be either severely ill-conditioned or misspecified.\n",
            "\n",
            "Chain 2 \n",
            "\n",
            "Chain 2 Informational Message: The current Metropolis proposal is about to be rejected because of the following issue:\n",
            "\n",
            "Chain 2 Exception: lkj_corr_lpdf: Correlation matrix is not positive definite. (in '/tmp/Rtmpi3AvZt/model-257711568c6.stan', line 17, column 4 to column 24)\n",
            "\n",
            "Chain 2 If this warning occurs sporadically, such as for highly constrained variable types like covariance matrices, then the sampler is fine,\n",
            "\n",
            "Chain 2 but if this warning occurs often then your model may be either severely ill-conditioned or misspecified.\n",
            "\n",
            "Chain 2 \n",
            "\n"
          ]
        },
        {
          "output_type": "stream",
          "name": "stdout",
          "text": [
            "Chain 3 Iteration:   1 / 1000 [  0%]  (Warmup) \n",
            "Chain 3 Iteration: 100 / 1000 [ 10%]  (Warmup) \n"
          ]
        },
        {
          "output_type": "stream",
          "name": "stderr",
          "text": [
            "Chain 3 Informational Message: The current Metropolis proposal is about to be rejected because of the following issue:\n",
            "\n",
            "Chain 3 Exception: lkj_corr_lpdf: Correlation matrix is not positive definite. (in '/tmp/Rtmpi3AvZt/model-257711568c6.stan', line 17, column 4 to column 24)\n",
            "\n",
            "Chain 3 If this warning occurs sporadically, such as for highly constrained variable types like covariance matrices, then the sampler is fine,\n",
            "\n",
            "Chain 3 but if this warning occurs often then your model may be either severely ill-conditioned or misspecified.\n",
            "\n",
            "Chain 3 \n",
            "\n",
            "Chain 3 Informational Message: The current Metropolis proposal is about to be rejected because of the following issue:\n",
            "\n",
            "Chain 3 Exception: lkj_corr_lpdf: Correlation matrix is not positive definite. (in '/tmp/Rtmpi3AvZt/model-257711568c6.stan', line 17, column 4 to column 24)\n",
            "\n",
            "Chain 3 If this warning occurs sporadically, such as for highly constrained variable types like covariance matrices, then the sampler is fine,\n",
            "\n",
            "Chain 3 but if this warning occurs often then your model may be either severely ill-conditioned or misspecified.\n",
            "\n",
            "Chain 3 \n",
            "\n",
            "Chain 3 Informational Message: The current Metropolis proposal is about to be rejected because of the following issue:\n",
            "\n",
            "Chain 3 Exception: lkj_corr_lpdf: Correlation matrix is not positive definite. (in '/tmp/Rtmpi3AvZt/model-257711568c6.stan', line 17, column 4 to column 24)\n",
            "\n",
            "Chain 3 If this warning occurs sporadically, such as for highly constrained variable types like covariance matrices, then the sampler is fine,\n",
            "\n",
            "Chain 3 but if this warning occurs often then your model may be either severely ill-conditioned or misspecified.\n",
            "\n",
            "Chain 3 \n",
            "\n",
            "Chain 3 Informational Message: The current Metropolis proposal is about to be rejected because of the following issue:\n",
            "\n",
            "Chain 3 Exception: lkj_corr_lpdf: Correlation matrix is not positive definite. (in '/tmp/Rtmpi3AvZt/model-257711568c6.stan', line 17, column 4 to column 24)\n",
            "\n",
            "Chain 3 If this warning occurs sporadically, such as for highly constrained variable types like covariance matrices, then the sampler is fine,\n",
            "\n",
            "Chain 3 but if this warning occurs often then your model may be either severely ill-conditioned or misspecified.\n",
            "\n",
            "Chain 3 \n",
            "\n",
            "Chain 3 Informational Message: The current Metropolis proposal is about to be rejected because of the following issue:\n",
            "\n",
            "Chain 3 Exception: lkj_corr_lpdf: Correlation matrix is not positive definite. (in '/tmp/Rtmpi3AvZt/model-257711568c6.stan', line 17, column 4 to column 24)\n",
            "\n",
            "Chain 3 If this warning occurs sporadically, such as for highly constrained variable types like covariance matrices, then the sampler is fine,\n",
            "\n",
            "Chain 3 but if this warning occurs often then your model may be either severely ill-conditioned or misspecified.\n",
            "\n",
            "Chain 3 \n",
            "\n"
          ]
        },
        {
          "output_type": "stream",
          "name": "stdout",
          "text": [
            "Chain 4 Iteration:   1 / 1000 [  0%]  (Warmup) \n",
            "Chain 4 Iteration: 100 / 1000 [ 10%]  (Warmup) \n"
          ]
        },
        {
          "output_type": "stream",
          "name": "stderr",
          "text": [
            "Chain 4 Informational Message: The current Metropolis proposal is about to be rejected because of the following issue:\n",
            "\n",
            "Chain 4 Exception: lkj_corr_lpdf: Correlation matrix is not positive definite. (in '/tmp/Rtmpi3AvZt/model-257711568c6.stan', line 17, column 4 to column 24)\n",
            "\n",
            "Chain 4 If this warning occurs sporadically, such as for highly constrained variable types like covariance matrices, then the sampler is fine,\n",
            "\n",
            "Chain 4 but if this warning occurs often then your model may be either severely ill-conditioned or misspecified.\n",
            "\n",
            "Chain 4 \n",
            "\n",
            "Chain 4 Informational Message: The current Metropolis proposal is about to be rejected because of the following issue:\n",
            "\n",
            "Chain 4 Exception: lkj_corr_lpdf: Correlation matrix is not positive definite. (in '/tmp/Rtmpi3AvZt/model-257711568c6.stan', line 17, column 4 to column 24)\n",
            "\n",
            "Chain 4 If this warning occurs sporadically, such as for highly constrained variable types like covariance matrices, then the sampler is fine,\n",
            "\n",
            "Chain 4 but if this warning occurs often then your model may be either severely ill-conditioned or misspecified.\n",
            "\n",
            "Chain 4 \n",
            "\n",
            "Chain 4 Informational Message: The current Metropolis proposal is about to be rejected because of the following issue:\n",
            "\n",
            "Chain 4 Exception: lkj_corr_lpdf: Correlation matrix is not positive definite. (in '/tmp/Rtmpi3AvZt/model-257711568c6.stan', line 17, column 4 to column 24)\n",
            "\n",
            "Chain 4 If this warning occurs sporadically, such as for highly constrained variable types like covariance matrices, then the sampler is fine,\n",
            "\n",
            "Chain 4 but if this warning occurs often then your model may be either severely ill-conditioned or misspecified.\n",
            "\n",
            "Chain 4 \n",
            "\n",
            "Chain 4 Informational Message: The current Metropolis proposal is about to be rejected because of the following issue:\n",
            "\n",
            "Chain 4 Exception: lkj_corr_lpdf: Correlation matrix is not positive definite. (in '/tmp/Rtmpi3AvZt/model-257711568c6.stan', line 17, column 4 to column 24)\n",
            "\n",
            "Chain 4 If this warning occurs sporadically, such as for highly constrained variable types like covariance matrices, then the sampler is fine,\n",
            "\n",
            "Chain 4 but if this warning occurs often then your model may be either severely ill-conditioned or misspecified.\n",
            "\n",
            "Chain 4 \n",
            "\n",
            "Chain 4 Informational Message: The current Metropolis proposal is about to be rejected because of the following issue:\n",
            "\n",
            "Chain 4 Exception: lkj_corr_lpdf: Correlation matrix is not positive definite. (in '/tmp/Rtmpi3AvZt/model-257711568c6.stan', line 17, column 4 to column 24)\n",
            "\n",
            "Chain 4 If this warning occurs sporadically, such as for highly constrained variable types like covariance matrices, then the sampler is fine,\n",
            "\n",
            "Chain 4 but if this warning occurs often then your model may be either severely ill-conditioned or misspecified.\n",
            "\n",
            "Chain 4 \n",
            "\n",
            "Chain 4 Informational Message: The current Metropolis proposal is about to be rejected because of the following issue:\n",
            "\n",
            "Chain 4 Exception: lkj_corr_lpdf: Correlation matrix is not positive definite. (in '/tmp/Rtmpi3AvZt/model-257711568c6.stan', line 17, column 4 to column 24)\n",
            "\n",
            "Chain 4 If this warning occurs sporadically, such as for highly constrained variable types like covariance matrices, then the sampler is fine,\n",
            "\n",
            "Chain 4 but if this warning occurs often then your model may be either severely ill-conditioned or misspecified.\n",
            "\n",
            "Chain 4 \n",
            "\n"
          ]
        },
        {
          "output_type": "stream",
          "name": "stdout",
          "text": [
            "Chain 1 Iteration: 100 / 1000 [ 10%]  (Warmup) \n",
            "Chain 1 Iteration: 200 / 1000 [ 20%]  (Warmup) \n",
            "Chain 1 Iteration: 300 / 1000 [ 30%]  (Warmup) \n",
            "Chain 1 Iteration: 400 / 1000 [ 40%]  (Warmup) \n",
            "Chain 2 Iteration: 200 / 1000 [ 20%]  (Warmup) \n",
            "Chain 2 Iteration: 300 / 1000 [ 30%]  (Warmup) \n",
            "Chain 2 Iteration: 400 / 1000 [ 40%]  (Warmup) \n",
            "Chain 2 Iteration: 500 / 1000 [ 50%]  (Warmup) \n",
            "Chain 2 Iteration: 501 / 1000 [ 50%]  (Sampling) \n",
            "Chain 3 Iteration: 200 / 1000 [ 20%]  (Warmup) \n",
            "Chain 3 Iteration: 300 / 1000 [ 30%]  (Warmup) \n",
            "Chain 4 Iteration: 200 / 1000 [ 20%]  (Warmup) \n",
            "Chain 2 Iteration: 600 / 1000 [ 60%]  (Sampling) \n",
            "Chain 3 Iteration: 400 / 1000 [ 40%]  (Warmup) \n",
            "Chain 4 Iteration: 300 / 1000 [ 30%]  (Warmup) \n",
            "Chain 1 Iteration: 500 / 1000 [ 50%]  (Warmup) \n",
            "Chain 1 Iteration: 501 / 1000 [ 50%]  (Sampling) \n",
            "Chain 4 Iteration: 400 / 1000 [ 40%]  (Warmup) \n",
            "Chain 2 Iteration: 700 / 1000 [ 70%]  (Sampling) \n",
            "Chain 1 Iteration: 600 / 1000 [ 60%]  (Sampling) \n",
            "Chain 3 Iteration: 500 / 1000 [ 50%]  (Warmup) \n",
            "Chain 3 Iteration: 501 / 1000 [ 50%]  (Sampling) \n",
            "Chain 4 Iteration: 500 / 1000 [ 50%]  (Warmup) \n",
            "Chain 4 Iteration: 501 / 1000 [ 50%]  (Sampling) \n",
            "Chain 2 Iteration: 800 / 1000 [ 80%]  (Sampling) \n",
            "Chain 3 Iteration: 600 / 1000 [ 60%]  (Sampling) \n",
            "Chain 1 Iteration: 700 / 1000 [ 70%]  (Sampling) \n",
            "Chain 2 Iteration: 900 / 1000 [ 90%]  (Sampling) \n",
            "Chain 3 Iteration: 700 / 1000 [ 70%]  (Sampling) \n",
            "Chain 4 Iteration: 600 / 1000 [ 60%]  (Sampling) \n",
            "Chain 1 Iteration: 800 / 1000 [ 80%]  (Sampling) \n",
            "Chain 1 Iteration: 900 / 1000 [ 90%]  (Sampling) \n",
            "Chain 3 Iteration: 800 / 1000 [ 80%]  (Sampling) \n",
            "Chain 4 Iteration: 700 / 1000 [ 70%]  (Sampling) \n",
            "Chain 2 Iteration: 1000 / 1000 [100%]  (Sampling) \n",
            "Chain 2 finished in 4.5 seconds.\n",
            "Chain 4 Iteration: 800 / 1000 [ 80%]  (Sampling) \n",
            "Chain 1 Iteration: 1000 / 1000 [100%]  (Sampling) \n",
            "Chain 3 Iteration: 900 / 1000 [ 90%]  (Sampling) \n",
            "Chain 1 finished in 4.8 seconds.\n",
            "Chain 4 Iteration: 900 / 1000 [ 90%]  (Sampling) \n",
            "Chain 3 Iteration: 1000 / 1000 [100%]  (Sampling) \n",
            "Chain 4 Iteration: 1000 / 1000 [100%]  (Sampling) \n",
            "Chain 3 finished in 5.0 seconds.\n",
            "Chain 4 finished in 4.9 seconds.\n",
            "\n",
            "All 4 chains finished successfully.\n",
            "Mean chain execution time: 4.8 seconds.\n",
            "Total execution time: 5.1 seconds.\n",
            "\n",
            "Running MCMC with 4 parallel chains, with 1 thread(s) per chain...\n",
            "\n",
            "Chain 1 Iteration:   1 / 1000 [  0%]  (Warmup) \n",
            "Chain 2 Iteration:   1 / 1000 [  0%]  (Warmup) \n"
          ]
        },
        {
          "output_type": "stream",
          "name": "stderr",
          "text": [
            "Chain 2 Informational Message: The current Metropolis proposal is about to be rejected because of the following issue:\n",
            "\n",
            "Chain 2 Exception: normal_lpdf: Scale parameter is 0, but must be positive! (in '/tmp/Rtmpi3AvZt/model-2577c57798c.stan', line 20, column 4 to column 35)\n",
            "\n",
            "Chain 2 If this warning occurs sporadically, such as for highly constrained variable types like covariance matrices, then the sampler is fine,\n",
            "\n",
            "Chain 2 but if this warning occurs often then your model may be either severely ill-conditioned or misspecified.\n",
            "\n",
            "Chain 2 \n",
            "\n"
          ]
        },
        {
          "output_type": "stream",
          "name": "stdout",
          "text": [
            "Chain 3 Iteration:   1 / 1000 [  0%]  (Warmup) \n"
          ]
        },
        {
          "output_type": "stream",
          "name": "stderr",
          "text": [
            "Chain 3 Informational Message: The current Metropolis proposal is about to be rejected because of the following issue:\n",
            "\n",
            "Chain 3 Exception: normal_lpdf: Scale parameter is 0, but must be positive! (in '/tmp/Rtmpi3AvZt/model-2577c57798c.stan', line 27, column 4 to column 32)\n",
            "\n",
            "Chain 3 If this warning occurs sporadically, such as for highly constrained variable types like covariance matrices, then the sampler is fine,\n",
            "\n",
            "Chain 3 but if this warning occurs often then your model may be either severely ill-conditioned or misspecified.\n",
            "\n",
            "Chain 3 \n",
            "\n"
          ]
        },
        {
          "output_type": "stream",
          "name": "stdout",
          "text": [
            "Chain 4 Iteration:   1 / 1000 [  0%]  (Warmup) \n",
            "Chain 1 Iteration: 100 / 1000 [ 10%]  (Warmup) \n",
            "Chain 1 Iteration: 200 / 1000 [ 20%]  (Warmup) \n",
            "Chain 2 Iteration: 100 / 1000 [ 10%]  (Warmup) \n",
            "Chain 2 Iteration: 200 / 1000 [ 20%]  (Warmup) \n",
            "Chain 3 Iteration: 100 / 1000 [ 10%]  (Warmup) \n",
            "Chain 1 Iteration: 300 / 1000 [ 30%]  (Warmup) \n",
            "Chain 4 Iteration: 100 / 1000 [ 10%]  (Warmup) \n",
            "Chain 3 Iteration: 200 / 1000 [ 20%]  (Warmup) \n",
            "Chain 2 Iteration: 300 / 1000 [ 30%]  (Warmup) \n",
            "Chain 4 Iteration: 200 / 1000 [ 20%]  (Warmup) \n",
            "Chain 1 Iteration: 400 / 1000 [ 40%]  (Warmup) \n",
            "Chain 3 Iteration: 300 / 1000 [ 30%]  (Warmup) \n",
            "Chain 1 Iteration: 500 / 1000 [ 50%]  (Warmup) \n",
            "Chain 1 Iteration: 501 / 1000 [ 50%]  (Sampling) \n",
            "Chain 2 Iteration: 400 / 1000 [ 40%]  (Warmup) \n",
            "Chain 4 Iteration: 300 / 1000 [ 30%]  (Warmup) \n",
            "Chain 3 Iteration: 400 / 1000 [ 40%]  (Warmup) \n",
            "Chain 1 Iteration: 600 / 1000 [ 60%]  (Sampling) \n",
            "Chain 2 Iteration: 500 / 1000 [ 50%]  (Warmup) \n",
            "Chain 2 Iteration: 501 / 1000 [ 50%]  (Sampling) \n",
            "Chain 4 Iteration: 400 / 1000 [ 40%]  (Warmup) \n",
            "Chain 1 Iteration: 700 / 1000 [ 70%]  (Sampling) \n",
            "Chain 3 Iteration: 500 / 1000 [ 50%]  (Warmup) \n",
            "Chain 3 Iteration: 501 / 1000 [ 50%]  (Sampling) \n",
            "Chain 2 Iteration: 600 / 1000 [ 60%]  (Sampling) \n",
            "Chain 4 Iteration: 500 / 1000 [ 50%]  (Warmup) \n",
            "Chain 4 Iteration: 501 / 1000 [ 50%]  (Sampling) \n",
            "Chain 1 Iteration: 800 / 1000 [ 80%]  (Sampling) \n",
            "Chain 3 Iteration: 600 / 1000 [ 60%]  (Sampling) \n",
            "Chain 4 Iteration: 600 / 1000 [ 60%]  (Sampling) \n",
            "Chain 2 Iteration: 700 / 1000 [ 70%]  (Sampling) \n",
            "Chain 1 Iteration: 900 / 1000 [ 90%]  (Sampling) \n",
            "Chain 3 Iteration: 700 / 1000 [ 70%]  (Sampling) \n",
            "Chain 4 Iteration: 700 / 1000 [ 70%]  (Sampling) \n",
            "Chain 2 Iteration: 800 / 1000 [ 80%]  (Sampling) \n",
            "Chain 1 Iteration: 1000 / 1000 [100%]  (Sampling) \n",
            "Chain 2 Iteration: 900 / 1000 [ 90%]  (Sampling) \n",
            "Chain 3 Iteration: 800 / 1000 [ 80%]  (Sampling) \n",
            "Chain 4 Iteration: 800 / 1000 [ 80%]  (Sampling) \n",
            "Chain 1 finished in 2.9 seconds.\n",
            "Chain 4 Iteration: 900 / 1000 [ 90%]  (Sampling) \n",
            "Chain 2 Iteration: 1000 / 1000 [100%]  (Sampling) \n",
            "Chain 3 Iteration: 900 / 1000 [ 90%]  (Sampling) \n",
            "Chain 3 Iteration: 1000 / 1000 [100%]  (Sampling) \n",
            "Chain 4 Iteration: 1000 / 1000 [100%]  (Sampling) \n",
            "Chain 2 finished in 3.1 seconds.\n",
            "Chain 3 finished in 3.0 seconds.\n",
            "Chain 4 finished in 2.9 seconds.\n",
            "\n",
            "All 4 chains finished successfully.\n",
            "Mean chain execution time: 3.0 seconds.\n",
            "Total execution time: 3.3 seconds.\n",
            "\n"
          ]
        },
        {
          "output_type": "display_data",
          "data": {
            "text/html": [
              "<table class=\"dataframe\">\n",
              "<caption>A compareIC: 2 × 6</caption>\n",
              "<thead>\n",
              "\t<tr><th></th><th scope=col>WAIC</th><th scope=col>SE</th><th scope=col>dWAIC</th><th scope=col>dSE</th><th scope=col>pWAIC</th><th scope=col>weight</th></tr>\n",
              "\t<tr><th></th><th scope=col>&lt;dbl&gt;</th><th scope=col>&lt;dbl&gt;</th><th scope=col>&lt;dbl&gt;</th><th scope=col>&lt;dbl&gt;</th><th scope=col>&lt;dbl&gt;</th><th scope=col>&lt;dbl&gt;</th></tr>\n",
              "</thead>\n",
              "<tbody>\n",
              "\t<tr><th scope=row>m14.1</th><td>304.9130</td><td>17.71993</td><td>0.000000</td><td>      NA</td><td>32.76303</td><td>0.6715823</td></tr>\n",
              "\t<tr><th scope=row>m14M2</th><td>306.3437</td><td>17.91722</td><td>1.430701</td><td>2.201485</td><td>32.42524</td><td>0.3284177</td></tr>\n",
              "</tbody>\n",
              "</table>\n"
            ],
            "text/markdown": "\nA compareIC: 2 × 6\n\n| <!--/--> | WAIC &lt;dbl&gt; | SE &lt;dbl&gt; | dWAIC &lt;dbl&gt; | dSE &lt;dbl&gt; | pWAIC &lt;dbl&gt; | weight &lt;dbl&gt; |\n|---|---|---|---|---|---|---|\n| m14.1 | 304.9130 | 17.71993 | 0.000000 |       NA | 32.76303 | 0.6715823 |\n| m14M2 | 306.3437 | 17.91722 | 1.430701 | 2.201485 | 32.42524 | 0.3284177 |\n\n",
            "text/latex": "A compareIC: 2 × 6\n\\begin{tabular}{r|llllll}\n  & WAIC & SE & dWAIC & dSE & pWAIC & weight\\\\\n  & <dbl> & <dbl> & <dbl> & <dbl> & <dbl> & <dbl>\\\\\n\\hline\n\tm14.1 & 304.9130 & 17.71993 & 0.000000 &       NA & 32.76303 & 0.6715823\\\\\n\tm14M2 & 306.3437 & 17.91722 & 1.430701 & 2.201485 & 32.42524 & 0.3284177\\\\\n\\end{tabular}\n",
            "text/plain": [
              "      WAIC     SE       dWAIC    dSE      pWAIC    weight   \n",
              "m14.1 304.9130 17.71993 0.000000       NA 32.76303 0.6715823\n",
              "m14M2 306.3437 17.91722 1.430701 2.201485 32.42524 0.3284177"
            ]
          },
          "metadata": {}
        }
      ]
    },
    {
      "cell_type": "code",
      "source": [
        "compare(m14.1, m14M2, func=WAIC)"
      ],
      "metadata": {
        "colab": {
          "base_uri": "https://localhost:8080/",
          "height": 161
        },
        "id": "cYooxipgWFLP",
        "outputId": "d7643e79-e184-49da-ad77-3da822440da2"
      },
      "execution_count": null,
      "outputs": [
        {
          "output_type": "display_data",
          "data": {
            "text/html": [
              "<table class=\"dataframe\">\n",
              "<caption>A compareIC: 2 × 6</caption>\n",
              "<thead>\n",
              "\t<tr><th></th><th scope=col>WAIC</th><th scope=col>SE</th><th scope=col>dWAIC</th><th scope=col>dSE</th><th scope=col>pWAIC</th><th scope=col>weight</th></tr>\n",
              "\t<tr><th></th><th scope=col>&lt;dbl&gt;</th><th scope=col>&lt;dbl&gt;</th><th scope=col>&lt;dbl&gt;</th><th scope=col>&lt;dbl&gt;</th><th scope=col>&lt;dbl&gt;</th><th scope=col>&lt;dbl&gt;</th></tr>\n",
              "</thead>\n",
              "<tbody>\n",
              "\t<tr><th scope=row>m14.1</th><td>304.9130</td><td>17.71993</td><td>0.000000</td><td>      NA</td><td>32.76303</td><td>0.6715823</td></tr>\n",
              "\t<tr><th scope=row>m14M2</th><td>306.3437</td><td>17.91722</td><td>1.430701</td><td>2.201485</td><td>32.42524</td><td>0.3284177</td></tr>\n",
              "</tbody>\n",
              "</table>\n"
            ],
            "text/markdown": "\nA compareIC: 2 × 6\n\n| <!--/--> | WAIC &lt;dbl&gt; | SE &lt;dbl&gt; | dWAIC &lt;dbl&gt; | dSE &lt;dbl&gt; | pWAIC &lt;dbl&gt; | weight &lt;dbl&gt; |\n|---|---|---|---|---|---|---|\n| m14.1 | 304.9130 | 17.71993 | 0.000000 |       NA | 32.76303 | 0.6715823 |\n| m14M2 | 306.3437 | 17.91722 | 1.430701 | 2.201485 | 32.42524 | 0.3284177 |\n\n",
            "text/latex": "A compareIC: 2 × 6\n\\begin{tabular}{r|llllll}\n  & WAIC & SE & dWAIC & dSE & pWAIC & weight\\\\\n  & <dbl> & <dbl> & <dbl> & <dbl> & <dbl> & <dbl>\\\\\n\\hline\n\tm14.1 & 304.9130 & 17.71993 & 0.000000 &       NA & 32.76303 & 0.6715823\\\\\n\tm14M2 & 306.3437 & 17.91722 & 1.430701 & 2.201485 & 32.42524 & 0.3284177\\\\\n\\end{tabular}\n",
            "text/plain": [
              "      WAIC     SE       dWAIC    dSE      pWAIC    weight   \n",
              "m14.1 304.9130 17.71993 0.000000       NA 32.76303 0.6715823\n",
              "m14M2 306.3437 17.91722 1.430701 2.201485 32.42524 0.3284177"
            ]
          },
          "metadata": {}
        }
      ]
    },
    {
      "cell_type": "markdown",
      "source": [
        "We see that `m14.1` is doing better.  Recall that the difference between these models is that `m14.1` assumed correlation among the parameters, whereas m14M2 did not.  Apparently, assuming the correlation creates a better fit."
      ],
      "metadata": {
        "id": "9JMD6XELWHDN"
      }
    },
    {
      "cell_type": "markdown",
      "source": [
        "### 14M3\n",
        "\n",
        "Re-estimate the varying slopes model for the `UCBadmit` data, now using a non-centered parameterization. Compare the efficiency of the forms of the model, using `n_eff`. Which is better?  Which chain sampled faster?\n",
        "\n",
        "#### Answer\n",
        "I think this question is a mistake.  There is no such model in the book, let alone the chapter."
      ],
      "metadata": {
        "id": "Ak80-f9xkhpZ"
      }
    },
    {
      "cell_type": "markdown",
      "source": [
        "### 14M4\n",
        "\n",
        "Use WAIC to compare the Gaussian process model of Oceanic tools to the models fit to the same data in Chapter 11.  Pay special attention to the effective numbers of parameters, as estimated by WAIC.\n",
        "\n",
        "#### Answer\n",
        "The first thing to do is get the models together."
      ],
      "metadata": {
        "id": "DJKeXuszrGrU"
      }
    },
    {
      "cell_type": "code",
      "source": [
        "data(Kline2)\n",
        "d <- Kline2\n",
        "d$contact_id <- ifelse( d$contact==\"high\", 2, 1)\n",
        "d$society <- 1:10\n",
        "\n",
        "data(islandsDistMatrix)\n",
        "\n",
        "dat_list <- list(T=d$total_tools,\n",
        "                 P=d$population,\n",
        "                 cid=d$contact_id,\n",
        "                 society=d$society,\n",
        "                 Dmat=islandsDistMatrix)\n",
        "\n",
        "m11.11 <- ulam(\n",
        "  alist(\n",
        "    T ~ dpois(lambda),\n",
        "      lambda <- exp(a[cid])*P^b[cid]/g,\n",
        "        a[cid] ~ dnorm(1,1),\n",
        "        b[cid] ~ dexp(1),\n",
        "        g ~ dexp(1)\n",
        "  ), data=dat_list,\n",
        "     chains=4,\n",
        "     cores=4,\n",
        "     iter=2000,\n",
        "     log_lik=TRUE)\n",
        "\n",
        "m14.8 <- ulam(\n",
        "  alist(\n",
        "    T ~ dpois(lambda),\n",
        "      lambda <- (a*P^b/g)*exp(k[society]),\n",
        "        vector[10]:k ~ multi_normal(0, SIGMA),\n",
        "          matrix[10,10]:SIGMA <- cov_GPL2(Dmat, etasq, rhosq, 0.01),\n",
        "            etasq ~ dexp(2),\n",
        "            rhosq ~ dexp(0.5),\n",
        "        c(a,b,g) ~ dexp(1)\n",
        "  ), data=dat_list,\n",
        "     chains=4,\n",
        "     cores=4,\n",
        "     iter=2000,\n",
        "     log_lik=TRUE)\n",
        "\n",
        "compare(m11.11, m14.8)"
      ],
      "metadata": {
        "colab": {
          "base_uri": "https://localhost:8080/",
          "height": 161
        },
        "collapsed": true,
        "id": "iqK7j2BvtyVN",
        "outputId": "41dfabbe-5877-4d27-b916-9cfae6470dec"
      },
      "execution_count": null,
      "outputs": [
        {
          "output_type": "display_data",
          "data": {
            "text/html": [
              "<table class=\"dataframe\">\n",
              "<caption>A compareIC: 2 × 6</caption>\n",
              "<thead>\n",
              "\t<tr><th></th><th scope=col>WAIC</th><th scope=col>SE</th><th scope=col>dWAIC</th><th scope=col>dSE</th><th scope=col>pWAIC</th><th scope=col>weight</th></tr>\n",
              "\t<tr><th></th><th scope=col>&lt;dbl&gt;</th><th scope=col>&lt;dbl&gt;</th><th scope=col>&lt;dbl&gt;</th><th scope=col>&lt;dbl&gt;</th><th scope=col>&lt;dbl&gt;</th><th scope=col>&lt;dbl&gt;</th></tr>\n",
              "</thead>\n",
              "<tbody>\n",
              "\t<tr><th scope=row>m14.8</th><td>67.54318</td><td> 2.323617</td><td> 0.00000</td><td>      NA</td><td>4.074928</td><td>0.998584449</td></tr>\n",
              "\t<tr><th scope=row>m11.11</th><td>80.66082</td><td>11.335308</td><td>13.11764</td><td>11.26337</td><td>5.136625</td><td>0.001415551</td></tr>\n",
              "</tbody>\n",
              "</table>\n"
            ],
            "text/markdown": "\nA compareIC: 2 × 6\n\n| <!--/--> | WAIC &lt;dbl&gt; | SE &lt;dbl&gt; | dWAIC &lt;dbl&gt; | dSE &lt;dbl&gt; | pWAIC &lt;dbl&gt; | weight &lt;dbl&gt; |\n|---|---|---|---|---|---|---|\n| m14.8 | 67.54318 |  2.323617 |  0.00000 |       NA | 4.074928 | 0.998584449 |\n| m11.11 | 80.66082 | 11.335308 | 13.11764 | 11.26337 | 5.136625 | 0.001415551 |\n\n",
            "text/latex": "A compareIC: 2 × 6\n\\begin{tabular}{r|llllll}\n  & WAIC & SE & dWAIC & dSE & pWAIC & weight\\\\\n  & <dbl> & <dbl> & <dbl> & <dbl> & <dbl> & <dbl>\\\\\n\\hline\n\tm14.8 & 67.54318 &  2.323617 &  0.00000 &       NA & 4.074928 & 0.998584449\\\\\n\tm11.11 & 80.66082 & 11.335308 & 13.11764 & 11.26337 & 5.136625 & 0.001415551\\\\\n\\end{tabular}\n",
            "text/plain": [
              "       WAIC     SE        dWAIC    dSE      pWAIC    weight     \n",
              "m14.8  67.54318  2.323617  0.00000       NA 4.074928 0.998584449\n",
              "m11.11 80.66082 11.335308 13.11764 11.26337 5.136625 0.001415551"
            ]
          },
          "metadata": {}
        }
      ]
    },
    {
      "cell_type": "markdown",
      "source": [
        "The Gaussian process model not only takes the bulk of the weight, but also has fewer *effective parameters* (\\~4 vs \\~5)--which is interesting since it actually has more *real* parameters (15 vs 5)."
      ],
      "metadata": {
        "id": "RMGhIC9kyinW"
      }
    },
    {
      "cell_type": "markdown",
      "source": [
        "### 14M5\n",
        "\n",
        "Modify the phylogenetic distance example to use group size as the outcome and brain size as a predictor. Assuming brain size influences group size, what is your estimate of the effect? How does  phylogeny influence the estimate?\n",
        "\n",
        "#### Answer"
      ],
      "metadata": {
        "id": "XXfxzQ5kQ3Pq"
      }
    },
    {
      "cell_type": "markdown",
      "source": [
        "#### Basic Models\n",
        "Here, we employ a kinda Gaussian process; but the correlation matrix is the identity matrix, which makes this basic regression.  The reason, I think, the book does it this way is to show that we can just change the correlation matrix to reflect a different relationship within the phylogeny."
      ],
      "metadata": {
        "id": "d97csmKFk4Gw"
      }
    },
    {
      "cell_type": "code",
      "source": [
        "data(Primates301)\n",
        "data(Primates301_nex)\n",
        "\n",
        "d <- Primates301\n",
        "d$name <- as.character(d$name)\n",
        "dstan <- d[complete.cases(d$group_size, d$body, d$brain),]\n",
        "spp_obs <- dstan$name\n",
        "\n",
        "dat_list <- list(N_spp = nrow(dstan),\n",
        "                 M = standardize(log(dstan$body)),\n",
        "                 B = standardize(log(dstan$brain)),\n",
        "                 G = standardize(log(dstan$group_size)),\n",
        "                 Imat = diag(nrow(dstan)))"
      ],
      "metadata": {
        "collapsed": true,
        "id": "JF8PPVq_iGBI"
      },
      "execution_count": null,
      "outputs": []
    },
    {
      "cell_type": "code",
      "source": [
        "m14.9 <- ulam(\n",
        "  alist(\n",
        "    B ~ multi_normal(mu, SIGMA),\n",
        "      mu <- a + bM*M + bG*G,\n",
        "        a ~ normal(0, 1),\n",
        "        c(bM,bG) ~ normal(0, 0.5),\n",
        "      matrix[N_spp,N_spp]: SIGMA <- Imat * sigma_sq,\n",
        "        sigma_sq ~ exponential( 1)\n",
        "  ), data=dat_list,\n",
        "     chains=4,\n",
        "     cores=4,\n",
        "     iter=1000)\n",
        "\n",
        "m14M5.9 <- ulam(\n",
        "  alist(\n",
        "    G ~ multi_normal(mu, SIGMA),\n",
        "      mu <- a + bM*M + bB*B,\n",
        "        a ~ normal(0, 1),\n",
        "        c(bM,bB) ~ normal(0, 0.5),\n",
        "      matrix[N_spp,N_spp]: SIGMA <- Imat * sigma_sq,\n",
        "        sigma_sq ~ exponential(1)\n",
        "  ), data=dat_list,\n",
        "     chains=4,\n",
        "     cores=4,\n",
        "     iter=1000)"
      ],
      "metadata": {
        "colab": {
          "base_uri": "https://localhost:8080/"
        },
        "collapsed": true,
        "id": "Qao-t4vtkpjM",
        "outputId": "49af19ca-bf6f-47aa-ac60-323d7cf31a4c"
      },
      "execution_count": null,
      "outputs": [
        {
          "output_type": "stream",
          "name": "stdout",
          "text": [
            "Running MCMC with 4 parallel chains, with 1 thread(s) per chain...\n",
            "\n",
            "Chain 1 Iteration:   1 / 1000 [  0%]  (Warmup) \n"
          ]
        },
        {
          "output_type": "stream",
          "name": "stderr",
          "text": [
            "Chain 1 Informational Message: The current Metropolis proposal is about to be rejected because of the following issue:\n",
            "\n",
            "Chain 1 Exception: multi_normal_lpdf: Covariance matrix is not symmetric. Covariance matrix[1,2] = -nan, but Covariance matrix[2,1] = -nan (in '/tmp/RtmpdLxWxS/model-118413275f6.stan', line 25, column 4 to column 35)\n",
            "\n",
            "Chain 1 If this warning occurs sporadically, such as for highly constrained variable types like covariance matrices, then the sampler is fine,\n",
            "\n",
            "Chain 1 but if this warning occurs often then your model may be either severely ill-conditioned or misspecified.\n",
            "\n",
            "Chain 1 \n",
            "\n"
          ]
        },
        {
          "output_type": "stream",
          "name": "stdout",
          "text": [
            "Chain 2 Iteration:   1 / 1000 [  0%]  (Warmup) \n",
            "Chain 3 Iteration:   1 / 1000 [  0%]  (Warmup) \n",
            "Chain 4 Iteration:   1 / 1000 [  0%]  (Warmup) \n"
          ]
        },
        {
          "output_type": "stream",
          "name": "stderr",
          "text": [
            "Chain 4 Informational Message: The current Metropolis proposal is about to be rejected because of the following issue:\n",
            "\n",
            "Chain 4 Exception: multi_normal_lpdf: Covariance matrix is not symmetric. Covariance matrix[1,2] = -nan, but Covariance matrix[2,1] = -nan (in '/tmp/RtmpdLxWxS/model-118413275f6.stan', line 25, column 4 to column 35)\n",
            "\n",
            "Chain 4 If this warning occurs sporadically, such as for highly constrained variable types like covariance matrices, then the sampler is fine,\n",
            "\n",
            "Chain 4 but if this warning occurs often then your model may be either severely ill-conditioned or misspecified.\n",
            "\n",
            "Chain 4 \n",
            "\n"
          ]
        },
        {
          "output_type": "stream",
          "name": "stdout",
          "text": [
            "Chain 3 Iteration: 100 / 1000 [ 10%]  (Warmup) \n",
            "Chain 4 Iteration: 100 / 1000 [ 10%]  (Warmup) \n",
            "Chain 1 Iteration: 100 / 1000 [ 10%]  (Warmup) \n",
            "Chain 2 Iteration: 100 / 1000 [ 10%]  (Warmup) \n",
            "Chain 4 Iteration: 200 / 1000 [ 20%]  (Warmup) \n",
            "Chain 3 Iteration: 200 / 1000 [ 20%]  (Warmup) \n",
            "Chain 1 Iteration: 200 / 1000 [ 20%]  (Warmup) \n",
            "Chain 2 Iteration: 200 / 1000 [ 20%]  (Warmup) \n",
            "Chain 4 Iteration: 300 / 1000 [ 30%]  (Warmup) \n",
            "Chain 3 Iteration: 300 / 1000 [ 30%]  (Warmup) \n",
            "Chain 1 Iteration: 300 / 1000 [ 30%]  (Warmup) \n",
            "Chain 4 Iteration: 400 / 1000 [ 40%]  (Warmup) \n",
            "Chain 2 Iteration: 300 / 1000 [ 30%]  (Warmup) \n",
            "Chain 1 Iteration: 400 / 1000 [ 40%]  (Warmup) \n",
            "Chain 3 Iteration: 400 / 1000 [ 40%]  (Warmup) \n",
            "Chain 2 Iteration: 400 / 1000 [ 40%]  (Warmup) \n",
            "Chain 4 Iteration: 500 / 1000 [ 50%]  (Warmup) \n",
            "Chain 4 Iteration: 501 / 1000 [ 50%]  (Sampling) \n",
            "Chain 3 Iteration: 500 / 1000 [ 50%]  (Warmup) \n",
            "Chain 3 Iteration: 501 / 1000 [ 50%]  (Sampling) \n",
            "Chain 1 Iteration: 500 / 1000 [ 50%]  (Warmup) \n",
            "Chain 1 Iteration: 501 / 1000 [ 50%]  (Sampling) \n",
            "Chain 4 Iteration: 600 / 1000 [ 60%]  (Sampling) \n",
            "Chain 2 Iteration: 500 / 1000 [ 50%]  (Warmup) \n",
            "Chain 2 Iteration: 501 / 1000 [ 50%]  (Sampling) \n",
            "Chain 3 Iteration: 600 / 1000 [ 60%]  (Sampling) \n",
            "Chain 1 Iteration: 600 / 1000 [ 60%]  (Sampling) \n",
            "Chain 4 Iteration: 700 / 1000 [ 70%]  (Sampling) \n",
            "Chain 2 Iteration: 600 / 1000 [ 60%]  (Sampling) \n",
            "Chain 3 Iteration: 700 / 1000 [ 70%]  (Sampling) \n",
            "Chain 4 Iteration: 800 / 1000 [ 80%]  (Sampling) \n",
            "Chain 1 Iteration: 700 / 1000 [ 70%]  (Sampling) \n",
            "Chain 2 Iteration: 700 / 1000 [ 70%]  (Sampling) \n",
            "Chain 3 Iteration: 800 / 1000 [ 80%]  (Sampling) \n",
            "Chain 4 Iteration: 900 / 1000 [ 90%]  (Sampling) \n",
            "Chain 1 Iteration: 800 / 1000 [ 80%]  (Sampling) \n",
            "Chain 2 Iteration: 800 / 1000 [ 80%]  (Sampling) \n",
            "Chain 3 Iteration: 900 / 1000 [ 90%]  (Sampling) \n",
            "Chain 4 Iteration: 1000 / 1000 [100%]  (Sampling) \n",
            "Chain 4 finished in 179.0 seconds.\n",
            "Chain 1 Iteration: 900 / 1000 [ 90%]  (Sampling) \n",
            "Chain 2 Iteration: 900 / 1000 [ 90%]  (Sampling) \n",
            "Chain 3 Iteration: 1000 / 1000 [100%]  (Sampling) \n",
            "Chain 3 finished in 188.7 seconds.\n",
            "Chain 2 Iteration: 1000 / 1000 [100%]  (Sampling) \n",
            "Chain 2 finished in 194.9 seconds.\n",
            "Chain 1 Iteration: 1000 / 1000 [100%]  (Sampling) \n",
            "Chain 1 finished in 197.5 seconds.\n",
            "\n",
            "All 4 chains finished successfully.\n",
            "Mean chain execution time: 190.1 seconds.\n",
            "Total execution time: 197.8 seconds.\n",
            "\n"
          ]
        }
      ]
    },
    {
      "cell_type": "markdown",
      "source": [
        "#### Brownian-motion models\n",
        "\n",
        "So now we replace the `Imat` matrix with the Brownian `R` matrix."
      ],
      "metadata": {
        "id": "wa5Ap0Xxk9Gq"
      }
    },
    {
      "cell_type": "code",
      "source": [
        "install.packages(\"ape\")\n",
        "library(ape)\n",
        "tree_trimmed <- keep.tip(Primates301_nex, spp_obs)\n",
        "Rbm <- corBrownian(phy=tree_trimmed)\n",
        "V <- vcv(Rbm)\n",
        "Dmat <- cophenetic(tree_trimmed)\n",
        "\n",
        "dat_list$V <- V[spp_obs, spp_obs]\n",
        "dat_list$R <- dat_list$V / max(V)\n",
        "\n",
        "head(dat_list$R)\n",
        "image(dat_list$R)"
      ],
      "metadata": {
        "colab": {
          "base_uri": "https://localhost:8080/",
          "height": 695
        },
        "id": "OTcrbMSXlBBI",
        "outputId": "59313349-985c-472a-df33-bc64b640ad46"
      },
      "execution_count": null,
      "outputs": [
        {
          "output_type": "display_data",
          "data": {
            "text/html": [
              "<table class=\"dataframe\">\n",
              "<caption>A matrix: 6 × 151 of type dbl</caption>\n",
              "<thead>\n",
              "\t<tr><th></th><th scope=col>Allenopithecus_nigroviridis</th><th scope=col>Alouatta_belzebul</th><th scope=col>Alouatta_caraya</th><th scope=col>Alouatta_guariba</th><th scope=col>Alouatta_palliata</th><th scope=col>Alouatta_pigra</th><th scope=col>Alouatta_seniculus</th><th scope=col>Aotus_azarai</th><th scope=col>Aotus_trivirgatus</th><th scope=col>Arctocebus_calabarensis</th><th scope=col>⋯</th><th scope=col>Tarsius_syrichta</th><th scope=col>Theropithecus_gelada</th><th scope=col>Trachypithecus_cristatus</th><th scope=col>Trachypithecus_geei</th><th scope=col>Trachypithecus_johnii</th><th scope=col>Trachypithecus_obscurus</th><th scope=col>Trachypithecus_phayrei</th><th scope=col>Trachypithecus_pileatus</th><th scope=col>Trachypithecus_vetulus</th><th scope=col>Varecia_variegata_variegata</th></tr>\n",
              "</thead>\n",
              "<tbody>\n",
              "\t<tr><th scope=row>Allenopithecus_nigroviridis</th><td>1.0000000</td><td>0.3587687</td><td>0.3587687</td><td>0.3587687</td><td>0.3587687</td><td>0.3587687</td><td>0.3587687</td><td>0.3587687</td><td>0.3587687</td><td>0</td><td>⋯</td><td>0.05702485</td><td>0.7962388</td><td>0.7067193</td><td>0.7067193</td><td>0.7067193</td><td>0.7067193</td><td>0.7067193</td><td>0.7067193</td><td>0.7067193</td><td>0</td></tr>\n",
              "\t<tr><th scope=row>Alouatta_belzebul</th><td>0.3587687</td><td>1.0000000</td><td>0.9467389</td><td>0.9374102</td><td>0.9531331</td><td>0.9531331</td><td>0.9467389</td><td>0.7079395</td><td>0.7079395</td><td>0</td><td>⋯</td><td>0.05702485</td><td>0.3587687</td><td>0.3587687</td><td>0.3587687</td><td>0.3587687</td><td>0.3587687</td><td>0.3587687</td><td>0.3587687</td><td>0.3587687</td><td>0</td></tr>\n",
              "\t<tr><th scope=row>Alouatta_caraya</th><td>0.3587687</td><td>0.9467389</td><td>1.0000000</td><td>0.9374102</td><td>0.9467389</td><td>0.9467389</td><td>0.9604609</td><td>0.7079395</td><td>0.7079395</td><td>0</td><td>⋯</td><td>0.05702485</td><td>0.3587687</td><td>0.3587687</td><td>0.3587687</td><td>0.3587687</td><td>0.3587687</td><td>0.3587687</td><td>0.3587687</td><td>0.3587687</td><td>0</td></tr>\n",
              "\t<tr><th scope=row>Alouatta_guariba</th><td>0.3587687</td><td>0.9374102</td><td>0.9374102</td><td>1.0000000</td><td>0.9374102</td><td>0.9374102</td><td>0.9374102</td><td>0.7079395</td><td>0.7079395</td><td>0</td><td>⋯</td><td>0.05702485</td><td>0.3587687</td><td>0.3587687</td><td>0.3587687</td><td>0.3587687</td><td>0.3587687</td><td>0.3587687</td><td>0.3587687</td><td>0.3587687</td><td>0</td></tr>\n",
              "\t<tr><th scope=row>Alouatta_palliata</th><td>0.3587687</td><td>0.9531331</td><td>0.9467389</td><td>0.9374102</td><td>1.0000000</td><td>0.9783273</td><td>0.9467389</td><td>0.7079395</td><td>0.7079395</td><td>0</td><td>⋯</td><td>0.05702485</td><td>0.3587687</td><td>0.3587687</td><td>0.3587687</td><td>0.3587687</td><td>0.3587687</td><td>0.3587687</td><td>0.3587687</td><td>0.3587687</td><td>0</td></tr>\n",
              "\t<tr><th scope=row>Alouatta_pigra</th><td>0.3587687</td><td>0.9531331</td><td>0.9467389</td><td>0.9374102</td><td>0.9783273</td><td>1.0000000</td><td>0.9467389</td><td>0.7079395</td><td>0.7079395</td><td>0</td><td>⋯</td><td>0.05702485</td><td>0.3587687</td><td>0.3587687</td><td>0.3587687</td><td>0.3587687</td><td>0.3587687</td><td>0.3587687</td><td>0.3587687</td><td>0.3587687</td><td>0</td></tr>\n",
              "</tbody>\n",
              "</table>\n"
            ],
            "text/markdown": "\nA matrix: 6 × 151 of type dbl\n\n| <!--/--> | Allenopithecus_nigroviridis | Alouatta_belzebul | Alouatta_caraya | Alouatta_guariba | Alouatta_palliata | Alouatta_pigra | Alouatta_seniculus | Aotus_azarai | Aotus_trivirgatus | Arctocebus_calabarensis | ⋯ | Tarsius_syrichta | Theropithecus_gelada | Trachypithecus_cristatus | Trachypithecus_geei | Trachypithecus_johnii | Trachypithecus_obscurus | Trachypithecus_phayrei | Trachypithecus_pileatus | Trachypithecus_vetulus | Varecia_variegata_variegata |\n|---|---|---|---|---|---|---|---|---|---|---|---|---|---|---|---|---|---|---|---|---|---|\n| Allenopithecus_nigroviridis | 1.0000000 | 0.3587687 | 0.3587687 | 0.3587687 | 0.3587687 | 0.3587687 | 0.3587687 | 0.3587687 | 0.3587687 | 0 | ⋯ | 0.05702485 | 0.7962388 | 0.7067193 | 0.7067193 | 0.7067193 | 0.7067193 | 0.7067193 | 0.7067193 | 0.7067193 | 0 |\n| Alouatta_belzebul | 0.3587687 | 1.0000000 | 0.9467389 | 0.9374102 | 0.9531331 | 0.9531331 | 0.9467389 | 0.7079395 | 0.7079395 | 0 | ⋯ | 0.05702485 | 0.3587687 | 0.3587687 | 0.3587687 | 0.3587687 | 0.3587687 | 0.3587687 | 0.3587687 | 0.3587687 | 0 |\n| Alouatta_caraya | 0.3587687 | 0.9467389 | 1.0000000 | 0.9374102 | 0.9467389 | 0.9467389 | 0.9604609 | 0.7079395 | 0.7079395 | 0 | ⋯ | 0.05702485 | 0.3587687 | 0.3587687 | 0.3587687 | 0.3587687 | 0.3587687 | 0.3587687 | 0.3587687 | 0.3587687 | 0 |\n| Alouatta_guariba | 0.3587687 | 0.9374102 | 0.9374102 | 1.0000000 | 0.9374102 | 0.9374102 | 0.9374102 | 0.7079395 | 0.7079395 | 0 | ⋯ | 0.05702485 | 0.3587687 | 0.3587687 | 0.3587687 | 0.3587687 | 0.3587687 | 0.3587687 | 0.3587687 | 0.3587687 | 0 |\n| Alouatta_palliata | 0.3587687 | 0.9531331 | 0.9467389 | 0.9374102 | 1.0000000 | 0.9783273 | 0.9467389 | 0.7079395 | 0.7079395 | 0 | ⋯ | 0.05702485 | 0.3587687 | 0.3587687 | 0.3587687 | 0.3587687 | 0.3587687 | 0.3587687 | 0.3587687 | 0.3587687 | 0 |\n| Alouatta_pigra | 0.3587687 | 0.9531331 | 0.9467389 | 0.9374102 | 0.9783273 | 1.0000000 | 0.9467389 | 0.7079395 | 0.7079395 | 0 | ⋯ | 0.05702485 | 0.3587687 | 0.3587687 | 0.3587687 | 0.3587687 | 0.3587687 | 0.3587687 | 0.3587687 | 0.3587687 | 0 |\n\n",
            "text/latex": "A matrix: 6 × 151 of type dbl\n\\begin{tabular}{r|lllllllllllllllllllll}\n  & Allenopithecus\\_nigroviridis & Alouatta\\_belzebul & Alouatta\\_caraya & Alouatta\\_guariba & Alouatta\\_palliata & Alouatta\\_pigra & Alouatta\\_seniculus & Aotus\\_azarai & Aotus\\_trivirgatus & Arctocebus\\_calabarensis & ⋯ & Tarsius\\_syrichta & Theropithecus\\_gelada & Trachypithecus\\_cristatus & Trachypithecus\\_geei & Trachypithecus\\_johnii & Trachypithecus\\_obscurus & Trachypithecus\\_phayrei & Trachypithecus\\_pileatus & Trachypithecus\\_vetulus & Varecia\\_variegata\\_variegata\\\\\n\\hline\n\tAllenopithecus\\_nigroviridis & 1.0000000 & 0.3587687 & 0.3587687 & 0.3587687 & 0.3587687 & 0.3587687 & 0.3587687 & 0.3587687 & 0.3587687 & 0 & ⋯ & 0.05702485 & 0.7962388 & 0.7067193 & 0.7067193 & 0.7067193 & 0.7067193 & 0.7067193 & 0.7067193 & 0.7067193 & 0\\\\\n\tAlouatta\\_belzebul & 0.3587687 & 1.0000000 & 0.9467389 & 0.9374102 & 0.9531331 & 0.9531331 & 0.9467389 & 0.7079395 & 0.7079395 & 0 & ⋯ & 0.05702485 & 0.3587687 & 0.3587687 & 0.3587687 & 0.3587687 & 0.3587687 & 0.3587687 & 0.3587687 & 0.3587687 & 0\\\\\n\tAlouatta\\_caraya & 0.3587687 & 0.9467389 & 1.0000000 & 0.9374102 & 0.9467389 & 0.9467389 & 0.9604609 & 0.7079395 & 0.7079395 & 0 & ⋯ & 0.05702485 & 0.3587687 & 0.3587687 & 0.3587687 & 0.3587687 & 0.3587687 & 0.3587687 & 0.3587687 & 0.3587687 & 0\\\\\n\tAlouatta\\_guariba & 0.3587687 & 0.9374102 & 0.9374102 & 1.0000000 & 0.9374102 & 0.9374102 & 0.9374102 & 0.7079395 & 0.7079395 & 0 & ⋯ & 0.05702485 & 0.3587687 & 0.3587687 & 0.3587687 & 0.3587687 & 0.3587687 & 0.3587687 & 0.3587687 & 0.3587687 & 0\\\\\n\tAlouatta\\_palliata & 0.3587687 & 0.9531331 & 0.9467389 & 0.9374102 & 1.0000000 & 0.9783273 & 0.9467389 & 0.7079395 & 0.7079395 & 0 & ⋯ & 0.05702485 & 0.3587687 & 0.3587687 & 0.3587687 & 0.3587687 & 0.3587687 & 0.3587687 & 0.3587687 & 0.3587687 & 0\\\\\n\tAlouatta\\_pigra & 0.3587687 & 0.9531331 & 0.9467389 & 0.9374102 & 0.9783273 & 1.0000000 & 0.9467389 & 0.7079395 & 0.7079395 & 0 & ⋯ & 0.05702485 & 0.3587687 & 0.3587687 & 0.3587687 & 0.3587687 & 0.3587687 & 0.3587687 & 0.3587687 & 0.3587687 & 0\\\\\n\\end{tabular}\n",
            "text/plain": [
              "                            Allenopithecus_nigroviridis Alouatta_belzebul\n",
              "Allenopithecus_nigroviridis 1.0000000                   0.3587687        \n",
              "Alouatta_belzebul           0.3587687                   1.0000000        \n",
              "Alouatta_caraya             0.3587687                   0.9467389        \n",
              "Alouatta_guariba            0.3587687                   0.9374102        \n",
              "Alouatta_palliata           0.3587687                   0.9531331        \n",
              "Alouatta_pigra              0.3587687                   0.9531331        \n",
              "                            Alouatta_caraya Alouatta_guariba Alouatta_palliata\n",
              "Allenopithecus_nigroviridis 0.3587687       0.3587687        0.3587687        \n",
              "Alouatta_belzebul           0.9467389       0.9374102        0.9531331        \n",
              "Alouatta_caraya             1.0000000       0.9374102        0.9467389        \n",
              "Alouatta_guariba            0.9374102       1.0000000        0.9374102        \n",
              "Alouatta_palliata           0.9467389       0.9374102        1.0000000        \n",
              "Alouatta_pigra              0.9467389       0.9374102        0.9783273        \n",
              "                            Alouatta_pigra Alouatta_seniculus Aotus_azarai\n",
              "Allenopithecus_nigroviridis 0.3587687      0.3587687          0.3587687   \n",
              "Alouatta_belzebul           0.9531331      0.9467389          0.7079395   \n",
              "Alouatta_caraya             0.9467389      0.9604609          0.7079395   \n",
              "Alouatta_guariba            0.9374102      0.9374102          0.7079395   \n",
              "Alouatta_palliata           0.9783273      0.9467389          0.7079395   \n",
              "Alouatta_pigra              1.0000000      0.9467389          0.7079395   \n",
              "                            Aotus_trivirgatus Arctocebus_calabarensis ⋯\n",
              "Allenopithecus_nigroviridis 0.3587687         0                       ⋯\n",
              "Alouatta_belzebul           0.7079395         0                       ⋯\n",
              "Alouatta_caraya             0.7079395         0                       ⋯\n",
              "Alouatta_guariba            0.7079395         0                       ⋯\n",
              "Alouatta_palliata           0.7079395         0                       ⋯\n",
              "Alouatta_pigra              0.7079395         0                       ⋯\n",
              "                            Tarsius_syrichta Theropithecus_gelada\n",
              "Allenopithecus_nigroviridis 0.05702485       0.7962388           \n",
              "Alouatta_belzebul           0.05702485       0.3587687           \n",
              "Alouatta_caraya             0.05702485       0.3587687           \n",
              "Alouatta_guariba            0.05702485       0.3587687           \n",
              "Alouatta_palliata           0.05702485       0.3587687           \n",
              "Alouatta_pigra              0.05702485       0.3587687           \n",
              "                            Trachypithecus_cristatus Trachypithecus_geei\n",
              "Allenopithecus_nigroviridis 0.7067193                0.7067193          \n",
              "Alouatta_belzebul           0.3587687                0.3587687          \n",
              "Alouatta_caraya             0.3587687                0.3587687          \n",
              "Alouatta_guariba            0.3587687                0.3587687          \n",
              "Alouatta_palliata           0.3587687                0.3587687          \n",
              "Alouatta_pigra              0.3587687                0.3587687          \n",
              "                            Trachypithecus_johnii Trachypithecus_obscurus\n",
              "Allenopithecus_nigroviridis 0.7067193             0.7067193              \n",
              "Alouatta_belzebul           0.3587687             0.3587687              \n",
              "Alouatta_caraya             0.3587687             0.3587687              \n",
              "Alouatta_guariba            0.3587687             0.3587687              \n",
              "Alouatta_palliata           0.3587687             0.3587687              \n",
              "Alouatta_pigra              0.3587687             0.3587687              \n",
              "                            Trachypithecus_phayrei Trachypithecus_pileatus\n",
              "Allenopithecus_nigroviridis 0.7067193              0.7067193              \n",
              "Alouatta_belzebul           0.3587687              0.3587687              \n",
              "Alouatta_caraya             0.3587687              0.3587687              \n",
              "Alouatta_guariba            0.3587687              0.3587687              \n",
              "Alouatta_palliata           0.3587687              0.3587687              \n",
              "Alouatta_pigra              0.3587687              0.3587687              \n",
              "                            Trachypithecus_vetulus Varecia_variegata_variegata\n",
              "Allenopithecus_nigroviridis 0.7067193              0                          \n",
              "Alouatta_belzebul           0.3587687              0                          \n",
              "Alouatta_caraya             0.3587687              0                          \n",
              "Alouatta_guariba            0.3587687              0                          \n",
              "Alouatta_palliata           0.3587687              0                          \n",
              "Alouatta_pigra              0.3587687              0                          "
            ]
          },
          "metadata": {}
        },
        {
          "output_type": "display_data",
          "data": {
            "text/plain": [
              "plot without title"
            ],
            "image/png": "[encoded data removed]"
          },
          "metadata": {
            "image/png": {
              "width": 420,
              "height": 420
            }
          }
        }
      ]
    },
    {
      "cell_type": "code",
      "source": [
        "m14.10 <- ulam(\n",
        "  alist(\n",
        "    B ~ multi_normal(mu, SIGMA),\n",
        "      mu <- a + bM*M + bG*G,\n",
        "        a ~ normal(0, 1),\n",
        "        c(bM,bG) ~ normal(0, 0.5),\n",
        "    matrix[N_spp,N_spp]: SIGMA <- R * sigma_sq,\n",
        "      sigma_sq ~ exponential(1)\n",
        "    ), data=dat_list,\n",
        "       chains=4,\n",
        "       cores=4)\n",
        "\n",
        "m14M5.10 <- ulam(\n",
        "  alist(\n",
        "    G ~ multi_normal(mu, SIGMA),\n",
        "      mu <- a + bM*M + bB*B,\n",
        "        a ~ normal(0, 1),\n",
        "        c(bM,bB) ~ normal(0, 0.5),\n",
        "    matrix[N_spp,N_spp]: SIGMA <- R * sigma_sq,\n",
        "      sigma_sq ~ exponential(1)\n",
        "    ), data=dat_list,\n",
        "       chains=4,\n",
        "       cores=4)"
      ],
      "metadata": {
        "colab": {
          "base_uri": "https://localhost:8080/"
        },
        "collapsed": true,
        "id": "2HOhIkKolb37",
        "outputId": "69a64ce2-d463-4edd-d3d4-7ce4766f01c0"
      },
      "execution_count": null,
      "outputs": [
        {
          "output_type": "stream",
          "name": "stdout",
          "text": [
            "Running MCMC with 4 parallel chains, with 1 thread(s) per chain...\n",
            "\n",
            "Chain 1 Iteration:   1 / 1000 [  0%]  (Warmup) \n",
            "Chain 2 Iteration:   1 / 1000 [  0%]  (Warmup) \n"
          ]
        },
        {
          "output_type": "stream",
          "name": "stderr",
          "text": [
            "Chain 3 Informational Message: The current Metropolis proposal is about to be rejected because of the following issue:\n",
            "\n",
            "Chain 3 Exception: multi_normal_lpdf: Covariance matrix is not symmetric. Covariance matrix[1,2] = inf, but Covariance matrix[2,1] = inf (in '/tmp/RtmpdLxWxS/model-11810b18077.stan', line 27, column 4 to column 35)\n",
            "\n",
            "Chain 3 If this warning occurs sporadically, such as for highly constrained variable types like covariance matrices, then the sampler is fine,\n",
            "\n",
            "Chain 3 but if this warning occurs often then your model may be either severely ill-conditioned or misspecified.\n",
            "\n",
            "Chain 3 \n",
            "\n"
          ]
        },
        {
          "output_type": "stream",
          "name": "stdout",
          "text": [
            "Chain 4 Iteration:   1 / 1000 [  0%]  (Warmup) \n"
          ]
        },
        {
          "output_type": "stream",
          "name": "stderr",
          "text": [
            "Chain 4 Informational Message: The current Metropolis proposal is about to be rejected because of the following issue:\n",
            "\n",
            "Chain 4 Exception: multi_normal_lpdf: Covariance matrix is not symmetric. Covariance matrix[1,2] = inf, but Covariance matrix[2,1] = inf (in '/tmp/RtmpdLxWxS/model-11810b18077.stan', line 27, column 4 to column 35)\n",
            "\n",
            "Chain 4 If this warning occurs sporadically, such as for highly constrained variable types like covariance matrices, then the sampler is fine,\n",
            "\n",
            "Chain 4 but if this warning occurs often then your model may be either severely ill-conditioned or misspecified.\n",
            "\n",
            "Chain 4 \n",
            "\n",
            "Chain 4 Informational Message: The current Metropolis proposal is about to be rejected because of the following issue:\n",
            "\n",
            "Chain 4 Exception: multi_normal_lpdf: Covariance matrix is not symmetric. Covariance matrix[1,2] = inf, but Covariance matrix[2,1] = inf (in '/tmp/RtmpdLxWxS/model-11810b18077.stan', line 27, column 4 to column 35)\n",
            "\n",
            "Chain 4 If this warning occurs sporadically, such as for highly constrained variable types like covariance matrices, then the sampler is fine,\n",
            "\n",
            "Chain 4 but if this warning occurs often then your model may be either severely ill-conditioned or misspecified.\n",
            "\n",
            "Chain 4 \n",
            "\n",
            "Chain 4 Informational Message: The current Metropolis proposal is about to be rejected because of the following issue:\n",
            "\n",
            "Chain 4 Exception: multi_normal_lpdf: Covariance matrix is not symmetric. Covariance matrix[1,2] = inf, but Covariance matrix[2,1] = inf (in '/tmp/RtmpdLxWxS/model-11810b18077.stan', line 27, column 4 to column 35)\n",
            "\n",
            "Chain 4 If this warning occurs sporadically, such as for highly constrained variable types like covariance matrices, then the sampler is fine,\n",
            "\n",
            "Chain 4 but if this warning occurs often then your model may be either severely ill-conditioned or misspecified.\n",
            "\n",
            "Chain 4 \n",
            "\n",
            "Chain 2 Informational Message: The current Metropolis proposal is about to be rejected because of the following issue:\n",
            "\n",
            "Chain 2 Exception: multi_normal_lpdf: Covariance matrix is not symmetric. Covariance matrix[1,2] = inf, but Covariance matrix[2,1] = inf (in '/tmp/RtmpdLxWxS/model-11810b18077.stan', line 27, column 4 to column 35)\n",
            "\n",
            "Chain 2 If this warning occurs sporadically, such as for highly constrained variable types like covariance matrices, then the sampler is fine,\n",
            "\n",
            "Chain 2 but if this warning occurs often then your model may be either severely ill-conditioned or misspecified.\n",
            "\n",
            "Chain 2 \n",
            "\n"
          ]
        },
        {
          "output_type": "stream",
          "name": "stdout",
          "text": [
            "Chain 3 Iteration:   1 / 1000 [  0%]  (Warmup) \n",
            "Chain 4 Iteration: 100 / 1000 [ 10%]  (Warmup) \n",
            "Chain 1 Iteration: 100 / 1000 [ 10%]  (Warmup) \n",
            "Chain 3 Iteration: 100 / 1000 [ 10%]  (Warmup) \n",
            "Chain 2 Iteration: 100 / 1000 [ 10%]  (Warmup) \n",
            "Chain 4 Iteration: 200 / 1000 [ 20%]  (Warmup) \n",
            "Chain 1 Iteration: 200 / 1000 [ 20%]  (Warmup) \n",
            "Chain 3 Iteration: 200 / 1000 [ 20%]  (Warmup) \n",
            "Chain 2 Iteration: 200 / 1000 [ 20%]  (Warmup) \n",
            "Chain 4 Iteration: 300 / 1000 [ 30%]  (Warmup) \n",
            "Chain 1 Iteration: 300 / 1000 [ 30%]  (Warmup) \n",
            "Chain 3 Iteration: 300 / 1000 [ 30%]  (Warmup) \n",
            "Chain 2 Iteration: 300 / 1000 [ 30%]  (Warmup) \n",
            "Chain 4 Iteration: 400 / 1000 [ 40%]  (Warmup) \n",
            "Chain 1 Iteration: 400 / 1000 [ 40%]  (Warmup) \n",
            "Chain 3 Iteration: 400 / 1000 [ 40%]  (Warmup) \n",
            "Chain 2 Iteration: 400 / 1000 [ 40%]  (Warmup) \n",
            "Chain 4 Iteration: 500 / 1000 [ 50%]  (Warmup) \n",
            "Chain 4 Iteration: 501 / 1000 [ 50%]  (Sampling) \n",
            "Chain 1 Iteration: 500 / 1000 [ 50%]  (Warmup) \n",
            "Chain 1 Iteration: 501 / 1000 [ 50%]  (Sampling) \n",
            "Chain 3 Iteration: 500 / 1000 [ 50%]  (Warmup) \n",
            "Chain 3 Iteration: 501 / 1000 [ 50%]  (Sampling) \n",
            "Chain 2 Iteration: 500 / 1000 [ 50%]  (Warmup) \n",
            "Chain 2 Iteration: 501 / 1000 [ 50%]  (Sampling) \n",
            "Chain 4 Iteration: 600 / 1000 [ 60%]  (Sampling) \n",
            "Chain 1 Iteration: 600 / 1000 [ 60%]  (Sampling) \n",
            "Chain 2 Iteration: 600 / 1000 [ 60%]  (Sampling) \n",
            "Chain 3 Iteration: 600 / 1000 [ 60%]  (Sampling) \n",
            "Chain 4 Iteration: 700 / 1000 [ 70%]  (Sampling) \n",
            "Chain 1 Iteration: 700 / 1000 [ 70%]  (Sampling) \n",
            "Chain 2 Iteration: 700 / 1000 [ 70%]  (Sampling) \n",
            "Chain 3 Iteration: 700 / 1000 [ 70%]  (Sampling) \n",
            "Chain 4 Iteration: 800 / 1000 [ 80%]  (Sampling) \n",
            "Chain 2 Iteration: 800 / 1000 [ 80%]  (Sampling) \n",
            "Chain 1 Iteration: 800 / 1000 [ 80%]  (Sampling) \n",
            "Chain 3 Iteration: 800 / 1000 [ 80%]  (Sampling) \n",
            "Chain 4 Iteration: 900 / 1000 [ 90%]  (Sampling) \n",
            "Chain 2 Iteration: 900 / 1000 [ 90%]  (Sampling) \n",
            "Chain 1 Iteration: 900 / 1000 [ 90%]  (Sampling) \n",
            "Chain 3 Iteration: 900 / 1000 [ 90%]  (Sampling) \n",
            "Chain 4 Iteration: 1000 / 1000 [100%]  (Sampling) \n",
            "Chain 4 finished in 95.5 seconds.\n",
            "Chain 2 Iteration: 1000 / 1000 [100%]  (Sampling) \n",
            "Chain 2 finished in 97.6 seconds.\n",
            "Chain 1 Iteration: 1000 / 1000 [100%]  (Sampling) \n",
            "Chain 1 finished in 99.5 seconds.\n",
            "Chain 3 Iteration: 1000 / 1000 [100%]  (Sampling) \n",
            "Chain 3 finished in 99.7 seconds.\n",
            "\n",
            "All 4 chains finished successfully.\n",
            "Mean chain execution time: 98.1 seconds.\n",
            "Total execution time: 100.1 seconds.\n",
            "\n"
          ]
        }
      ]
    },
    {
      "cell_type": "markdown",
      "source": [
        "#### OU Models\n",
        "\n",
        "Finally, we employ a \"proper\" Gaussian process.\n",
        "\n",
        "$$K(i,j) = \\eta^2 \\text{exp}(\\rho^2 D_{i,j})$$\n",
        "\n",
        "Let's look at this to see what's happening with our assume phylogenetic relationships as distance increases."
      ],
      "metadata": {
        "id": "-VOPNi3Lo6Y6"
      }
    },
    {
      "cell_type": "code",
      "source": [
        "eta_vals <- c(1, 2, 3)\n",
        "rho_vals <- c(0.5, 1, 2)\n",
        "D <- seq(0, 5, length.out=100)\n",
        "\n",
        "par(mfrow=c(3,3))\n",
        "for (eta in eta_vals){\n",
        "  for (rho in rho_vals){\n",
        "    y <- eta^2 * exp(-(rho^2) * D)\n",
        "\n",
        "    plot(D, y, type = \"l\",\n",
        "         main = bquote(eta == .(eta) ~ \",\" ~ rho == .(rho)),\n",
        "         xlab = \"D\",\n",
        "         ylab = expression(eta^2 * e^{-rho^2 * D}))\n",
        "\n",
        "    grid()\n",
        "  }\n",
        "}"
      ],
      "metadata": {
        "colab": {
          "base_uri": "https://localhost:8080/",
          "height": 437
        },
        "id": "vjpqBLMfrl1X",
        "outputId": "328101d8-474d-411e-fdf0-6e2155f3e11e"
      },
      "execution_count": null,
      "outputs": [
        {
          "output_type": "display_data",
          "data": {
            "text/plain": [
              "Plot with title “~”Plot with title “eta == 3 ~ \",\"”Plot with title “rho == 2”"
            ],
            "image/png": "[encoded data removed]"
          },
          "metadata": {
            "image/png": {
              "width": 420,
              "height": 420
            }
          }
        }
      ]
    },
    {
      "cell_type": "markdown",
      "source": [
        "Depending the parameters, the similarity decreases slower as the distance grows."
      ],
      "metadata": {
        "id": "CabM2FSwsd1z"
      }
    },
    {
      "cell_type": "code",
      "source": [
        "dat_list$Dmat <- Dmat[spp_obs, spp_obs]/ max(Dmat)\n",
        "\n",
        "head(dat_list$Dmat)\n",
        "image(dat_list$Dmat)"
      ],
      "metadata": {
        "colab": {
          "base_uri": "https://localhost:8080/",
          "height": 695
        },
        "id": "TNEdbKUOpBbt",
        "outputId": "199f92f2-a107-4b84-81b1-dac5de534e40"
      },
      "execution_count": null,
      "outputs": [
        {
          "output_type": "display_data",
          "data": {
            "text/html": [
              "<table class=\"dataframe\">\n",
              "<caption>A matrix: 6 × 151 of type dbl</caption>\n",
              "<thead>\n",
              "\t<tr><th></th><th scope=col>Allenopithecus_nigroviridis</th><th scope=col>Alouatta_belzebul</th><th scope=col>Alouatta_caraya</th><th scope=col>Alouatta_guariba</th><th scope=col>Alouatta_palliata</th><th scope=col>Alouatta_pigra</th><th scope=col>Alouatta_seniculus</th><th scope=col>Aotus_azarai</th><th scope=col>Aotus_trivirgatus</th><th scope=col>Arctocebus_calabarensis</th><th scope=col>⋯</th><th scope=col>Tarsius_syrichta</th><th scope=col>Theropithecus_gelada</th><th scope=col>Trachypithecus_cristatus</th><th scope=col>Trachypithecus_geei</th><th scope=col>Trachypithecus_johnii</th><th scope=col>Trachypithecus_obscurus</th><th scope=col>Trachypithecus_phayrei</th><th scope=col>Trachypithecus_pileatus</th><th scope=col>Trachypithecus_vetulus</th><th scope=col>Varecia_variegata_variegata</th></tr>\n",
              "</thead>\n",
              "<tbody>\n",
              "\t<tr><th scope=row>Allenopithecus_nigroviridis</th><td>0.0000000</td><td>0.64123131</td><td>0.64123130</td><td>0.64123130</td><td>0.64123131</td><td>0.64123131</td><td>0.64123130</td><td>0.6412313</td><td>0.6412313</td><td>1</td><td>⋯</td><td>0.9429751</td><td>0.2037611</td><td>0.2932807</td><td>0.2932807</td><td>0.2932807</td><td>0.2932807</td><td>0.2932807</td><td>0.2932807</td><td>0.2932807</td><td>1</td></tr>\n",
              "\t<tr><th scope=row>Alouatta_belzebul</th><td>0.6412313</td><td>0.00000000</td><td>0.05326104</td><td>0.06258983</td><td>0.04686686</td><td>0.04686686</td><td>0.05326104</td><td>0.2920605</td><td>0.2920605</td><td>1</td><td>⋯</td><td>0.9429751</td><td>0.6412313</td><td>0.6412313</td><td>0.6412313</td><td>0.6412313</td><td>0.6412313</td><td>0.6412313</td><td>0.6412313</td><td>0.6412313</td><td>1</td></tr>\n",
              "\t<tr><th scope=row>Alouatta_caraya</th><td>0.6412313</td><td>0.05326104</td><td>0.00000000</td><td>0.06258982</td><td>0.05326104</td><td>0.05326104</td><td>0.03953906</td><td>0.2920605</td><td>0.2920605</td><td>1</td><td>⋯</td><td>0.9429751</td><td>0.6412313</td><td>0.6412313</td><td>0.6412313</td><td>0.6412313</td><td>0.6412313</td><td>0.6412313</td><td>0.6412313</td><td>0.6412313</td><td>1</td></tr>\n",
              "\t<tr><th scope=row>Alouatta_guariba</th><td>0.6412313</td><td>0.06258983</td><td>0.06258982</td><td>0.00000000</td><td>0.06258983</td><td>0.06258983</td><td>0.06258982</td><td>0.2920605</td><td>0.2920605</td><td>1</td><td>⋯</td><td>0.9429751</td><td>0.6412313</td><td>0.6412313</td><td>0.6412313</td><td>0.6412313</td><td>0.6412313</td><td>0.6412313</td><td>0.6412313</td><td>0.6412313</td><td>1</td></tr>\n",
              "\t<tr><th scope=row>Alouatta_palliata</th><td>0.6412313</td><td>0.04686686</td><td>0.05326104</td><td>0.06258983</td><td>0.00000000</td><td>0.02167267</td><td>0.05326104</td><td>0.2920605</td><td>0.2920605</td><td>1</td><td>⋯</td><td>0.9429751</td><td>0.6412313</td><td>0.6412313</td><td>0.6412313</td><td>0.6412313</td><td>0.6412313</td><td>0.6412313</td><td>0.6412313</td><td>0.6412313</td><td>1</td></tr>\n",
              "\t<tr><th scope=row>Alouatta_pigra</th><td>0.6412313</td><td>0.04686686</td><td>0.05326104</td><td>0.06258983</td><td>0.02167267</td><td>0.00000000</td><td>0.05326104</td><td>0.2920605</td><td>0.2920605</td><td>1</td><td>⋯</td><td>0.9429751</td><td>0.6412313</td><td>0.6412313</td><td>0.6412313</td><td>0.6412313</td><td>0.6412313</td><td>0.6412313</td><td>0.6412313</td><td>0.6412313</td><td>1</td></tr>\n",
              "</tbody>\n",
              "</table>\n"
            ],
            "text/markdown": "\nA matrix: 6 × 151 of type dbl\n\n| <!--/--> | Allenopithecus_nigroviridis | Alouatta_belzebul | Alouatta_caraya | Alouatta_guariba | Alouatta_palliata | Alouatta_pigra | Alouatta_seniculus | Aotus_azarai | Aotus_trivirgatus | Arctocebus_calabarensis | ⋯ | Tarsius_syrichta | Theropithecus_gelada | Trachypithecus_cristatus | Trachypithecus_geei | Trachypithecus_johnii | Trachypithecus_obscurus | Trachypithecus_phayrei | Trachypithecus_pileatus | Trachypithecus_vetulus | Varecia_variegata_variegata |\n|---|---|---|---|---|---|---|---|---|---|---|---|---|---|---|---|---|---|---|---|---|---|\n| Allenopithecus_nigroviridis | 0.0000000 | 0.64123131 | 0.64123130 | 0.64123130 | 0.64123131 | 0.64123131 | 0.64123130 | 0.6412313 | 0.6412313 | 1 | ⋯ | 0.9429751 | 0.2037611 | 0.2932807 | 0.2932807 | 0.2932807 | 0.2932807 | 0.2932807 | 0.2932807 | 0.2932807 | 1 |\n| Alouatta_belzebul | 0.6412313 | 0.00000000 | 0.05326104 | 0.06258983 | 0.04686686 | 0.04686686 | 0.05326104 | 0.2920605 | 0.2920605 | 1 | ⋯ | 0.9429751 | 0.6412313 | 0.6412313 | 0.6412313 | 0.6412313 | 0.6412313 | 0.6412313 | 0.6412313 | 0.6412313 | 1 |\n| Alouatta_caraya | 0.6412313 | 0.05326104 | 0.00000000 | 0.06258982 | 0.05326104 | 0.05326104 | 0.03953906 | 0.2920605 | 0.2920605 | 1 | ⋯ | 0.9429751 | 0.6412313 | 0.6412313 | 0.6412313 | 0.6412313 | 0.6412313 | 0.6412313 | 0.6412313 | 0.6412313 | 1 |\n| Alouatta_guariba | 0.6412313 | 0.06258983 | 0.06258982 | 0.00000000 | 0.06258983 | 0.06258983 | 0.06258982 | 0.2920605 | 0.2920605 | 1 | ⋯ | 0.9429751 | 0.6412313 | 0.6412313 | 0.6412313 | 0.6412313 | 0.6412313 | 0.6412313 | 0.6412313 | 0.6412313 | 1 |\n| Alouatta_palliata | 0.6412313 | 0.04686686 | 0.05326104 | 0.06258983 | 0.00000000 | 0.02167267 | 0.05326104 | 0.2920605 | 0.2920605 | 1 | ⋯ | 0.9429751 | 0.6412313 | 0.6412313 | 0.6412313 | 0.6412313 | 0.6412313 | 0.6412313 | 0.6412313 | 0.6412313 | 1 |\n| Alouatta_pigra | 0.6412313 | 0.04686686 | 0.05326104 | 0.06258983 | 0.02167267 | 0.00000000 | 0.05326104 | 0.2920605 | 0.2920605 | 1 | ⋯ | 0.9429751 | 0.6412313 | 0.6412313 | 0.6412313 | 0.6412313 | 0.6412313 | 0.6412313 | 0.6412313 | 0.6412313 | 1 |\n\n",
            "text/latex": "A matrix: 6 × 151 of type dbl\n\\begin{tabular}{r|lllllllllllllllllllll}\n  & Allenopithecus\\_nigroviridis & Alouatta\\_belzebul & Alouatta\\_caraya & Alouatta\\_guariba & Alouatta\\_palliata & Alouatta\\_pigra & Alouatta\\_seniculus & Aotus\\_azarai & Aotus\\_trivirgatus & Arctocebus\\_calabarensis & ⋯ & Tarsius\\_syrichta & Theropithecus\\_gelada & Trachypithecus\\_cristatus & Trachypithecus\\_geei & Trachypithecus\\_johnii & Trachypithecus\\_obscurus & Trachypithecus\\_phayrei & Trachypithecus\\_pileatus & Trachypithecus\\_vetulus & Varecia\\_variegata\\_variegata\\\\\n\\hline\n\tAllenopithecus\\_nigroviridis & 0.0000000 & 0.64123131 & 0.64123130 & 0.64123130 & 0.64123131 & 0.64123131 & 0.64123130 & 0.6412313 & 0.6412313 & 1 & ⋯ & 0.9429751 & 0.2037611 & 0.2932807 & 0.2932807 & 0.2932807 & 0.2932807 & 0.2932807 & 0.2932807 & 0.2932807 & 1\\\\\n\tAlouatta\\_belzebul & 0.6412313 & 0.00000000 & 0.05326104 & 0.06258983 & 0.04686686 & 0.04686686 & 0.05326104 & 0.2920605 & 0.2920605 & 1 & ⋯ & 0.9429751 & 0.6412313 & 0.6412313 & 0.6412313 & 0.6412313 & 0.6412313 & 0.6412313 & 0.6412313 & 0.6412313 & 1\\\\\n\tAlouatta\\_caraya & 0.6412313 & 0.05326104 & 0.00000000 & 0.06258982 & 0.05326104 & 0.05326104 & 0.03953906 & 0.2920605 & 0.2920605 & 1 & ⋯ & 0.9429751 & 0.6412313 & 0.6412313 & 0.6412313 & 0.6412313 & 0.6412313 & 0.6412313 & 0.6412313 & 0.6412313 & 1\\\\\n\tAlouatta\\_guariba & 0.6412313 & 0.06258983 & 0.06258982 & 0.00000000 & 0.06258983 & 0.06258983 & 0.06258982 & 0.2920605 & 0.2920605 & 1 & ⋯ & 0.9429751 & 0.6412313 & 0.6412313 & 0.6412313 & 0.6412313 & 0.6412313 & 0.6412313 & 0.6412313 & 0.6412313 & 1\\\\\n\tAlouatta\\_palliata & 0.6412313 & 0.04686686 & 0.05326104 & 0.06258983 & 0.00000000 & 0.02167267 & 0.05326104 & 0.2920605 & 0.2920605 & 1 & ⋯ & 0.9429751 & 0.6412313 & 0.6412313 & 0.6412313 & 0.6412313 & 0.6412313 & 0.6412313 & 0.6412313 & 0.6412313 & 1\\\\\n\tAlouatta\\_pigra & 0.6412313 & 0.04686686 & 0.05326104 & 0.06258983 & 0.02167267 & 0.00000000 & 0.05326104 & 0.2920605 & 0.2920605 & 1 & ⋯ & 0.9429751 & 0.6412313 & 0.6412313 & 0.6412313 & 0.6412313 & 0.6412313 & 0.6412313 & 0.6412313 & 0.6412313 & 1\\\\\n\\end{tabular}\n",
            "text/plain": [
              "                            Allenopithecus_nigroviridis Alouatta_belzebul\n",
              "Allenopithecus_nigroviridis 0.0000000                   0.64123131       \n",
              "Alouatta_belzebul           0.6412313                   0.00000000       \n",
              "Alouatta_caraya             0.6412313                   0.05326104       \n",
              "Alouatta_guariba            0.6412313                   0.06258983       \n",
              "Alouatta_palliata           0.6412313                   0.04686686       \n",
              "Alouatta_pigra              0.6412313                   0.04686686       \n",
              "                            Alouatta_caraya Alouatta_guariba Alouatta_palliata\n",
              "Allenopithecus_nigroviridis 0.64123130      0.64123130       0.64123131       \n",
              "Alouatta_belzebul           0.05326104      0.06258983       0.04686686       \n",
              "Alouatta_caraya             0.00000000      0.06258982       0.05326104       \n",
              "Alouatta_guariba            0.06258982      0.00000000       0.06258983       \n",
              "Alouatta_palliata           0.05326104      0.06258983       0.00000000       \n",
              "Alouatta_pigra              0.05326104      0.06258983       0.02167267       \n",
              "                            Alouatta_pigra Alouatta_seniculus Aotus_azarai\n",
              "Allenopithecus_nigroviridis 0.64123131     0.64123130         0.6412313   \n",
              "Alouatta_belzebul           0.04686686     0.05326104         0.2920605   \n",
              "Alouatta_caraya             0.05326104     0.03953906         0.2920605   \n",
              "Alouatta_guariba            0.06258983     0.06258982         0.2920605   \n",
              "Alouatta_palliata           0.02167267     0.05326104         0.2920605   \n",
              "Alouatta_pigra              0.00000000     0.05326104         0.2920605   \n",
              "                            Aotus_trivirgatus Arctocebus_calabarensis ⋯\n",
              "Allenopithecus_nigroviridis 0.6412313         1                       ⋯\n",
              "Alouatta_belzebul           0.2920605         1                       ⋯\n",
              "Alouatta_caraya             0.2920605         1                       ⋯\n",
              "Alouatta_guariba            0.2920605         1                       ⋯\n",
              "Alouatta_palliata           0.2920605         1                       ⋯\n",
              "Alouatta_pigra              0.2920605         1                       ⋯\n",
              "                            Tarsius_syrichta Theropithecus_gelada\n",
              "Allenopithecus_nigroviridis 0.9429751        0.2037611           \n",
              "Alouatta_belzebul           0.9429751        0.6412313           \n",
              "Alouatta_caraya             0.9429751        0.6412313           \n",
              "Alouatta_guariba            0.9429751        0.6412313           \n",
              "Alouatta_palliata           0.9429751        0.6412313           \n",
              "Alouatta_pigra              0.9429751        0.6412313           \n",
              "                            Trachypithecus_cristatus Trachypithecus_geei\n",
              "Allenopithecus_nigroviridis 0.2932807                0.2932807          \n",
              "Alouatta_belzebul           0.6412313                0.6412313          \n",
              "Alouatta_caraya             0.6412313                0.6412313          \n",
              "Alouatta_guariba            0.6412313                0.6412313          \n",
              "Alouatta_palliata           0.6412313                0.6412313          \n",
              "Alouatta_pigra              0.6412313                0.6412313          \n",
              "                            Trachypithecus_johnii Trachypithecus_obscurus\n",
              "Allenopithecus_nigroviridis 0.2932807             0.2932807              \n",
              "Alouatta_belzebul           0.6412313             0.6412313              \n",
              "Alouatta_caraya             0.6412313             0.6412313              \n",
              "Alouatta_guariba            0.6412313             0.6412313              \n",
              "Alouatta_palliata           0.6412313             0.6412313              \n",
              "Alouatta_pigra              0.6412313             0.6412313              \n",
              "                            Trachypithecus_phayrei Trachypithecus_pileatus\n",
              "Allenopithecus_nigroviridis 0.2932807              0.2932807              \n",
              "Alouatta_belzebul           0.6412313              0.6412313              \n",
              "Alouatta_caraya             0.6412313              0.6412313              \n",
              "Alouatta_guariba            0.6412313              0.6412313              \n",
              "Alouatta_palliata           0.6412313              0.6412313              \n",
              "Alouatta_pigra              0.6412313              0.6412313              \n",
              "                            Trachypithecus_vetulus Varecia_variegata_variegata\n",
              "Allenopithecus_nigroviridis 0.2932807              1                          \n",
              "Alouatta_belzebul           0.6412313              1                          \n",
              "Alouatta_caraya             0.6412313              1                          \n",
              "Alouatta_guariba            0.6412313              1                          \n",
              "Alouatta_palliata           0.6412313              1                          \n",
              "Alouatta_pigra              0.6412313              1                          "
            ]
          },
          "metadata": {}
        },
        {
          "output_type": "display_data",
          "data": {
            "text/plain": [
              "plot without title"
            ],
            "image/png": "[encoded data removed]"
          },
          "metadata": {
            "image/png": {
              "width": 420,
              "height": 420
            }
          }
        }
      ]
    },
    {
      "cell_type": "code",
      "source": [
        "m14.11 <- ulam(\n",
        "  alist(\n",
        "    B ~ multi_normal(mu, SIGMA),\n",
        "      mu <- a + bM*M + bG*G,\n",
        "        a ~ normal(0,1),\n",
        "        c(bM,bG) ~ normal(0,0.5),\n",
        "      matrix[N_spp,N_spp]: SIGMA <- cov_GPL1(Dmat, etasq, rhosq, 0.01),\n",
        "        etasq ~ half_normal(1,0.25),\n",
        "        rhosq ~ half_normal(3,0.25)\n",
        "    ), data=dat_list,\n",
        "       chains=4,\n",
        "       cores=4)\n",
        "\n",
        "m14M5.11 <- ulam(\n",
        "  alist(\n",
        "    G ~ multi_normal(mu, SIGMA),\n",
        "      mu <- a + bM*M + bB*B,\n",
        "        a ~ normal(0,1),\n",
        "        c(bM,bB) ~ normal(0,0.5),\n",
        "      matrix[N_spp,N_spp]: SIGMA <- cov_GPL1(Dmat, etasq, rhosq, 0.01),\n",
        "        etasq ~ half_normal(1,0.25),\n",
        "        rhosq ~ half_normal(3,0.25)\n",
        "    ), data=dat_list,\n",
        "       chains=4,\n",
        "       cores=4)"
      ],
      "metadata": {
        "colab": {
          "base_uri": "https://localhost:8080/"
        },
        "id": "AVb478n-m1eB",
        "outputId": "a6484c66-554f-4e9f-f75b-a7e9865c6cd3",
        "collapsed": true
      },
      "execution_count": null,
      "outputs": [
        {
          "output_type": "stream",
          "name": "stdout",
          "text": [
            "Running MCMC with 4 parallel chains, with 1 thread(s) per chain...\n",
            "\n",
            "Chain 1 Iteration:   1 / 1000 [  0%]  (Warmup) \n"
          ]
        },
        {
          "output_type": "stream",
          "name": "stderr",
          "text": [
            "Chain 1 Informational Message: The current Metropolis proposal is about to be rejected because of the following issue:\n",
            "\n",
            "Chain 1 Exception: multi_normal_lpdf: LDLT_Factor of covariance parameter is not positive definite.  last conditional variance is 0. (in '/tmp/RtmpdLxWxS/model-1183bcb5a96.stan', line 47, column 4 to column 35)\n",
            "\n",
            "Chain 1 If this warning occurs sporadically, such as for highly constrained variable types like covariance matrices, then the sampler is fine,\n",
            "\n",
            "Chain 1 but if this warning occurs often then your model may be either severely ill-conditioned or misspecified.\n",
            "\n",
            "Chain 1 \n",
            "\n",
            "Chain 1 Informational Message: The current Metropolis proposal is about to be rejected because of the following issue:\n",
            "\n",
            "Chain 1 Exception: multi_normal_lpdf: LDLT_Factor of covariance parameter is not positive definite.  last conditional variance is 0. (in '/tmp/RtmpdLxWxS/model-1183bcb5a96.stan', line 47, column 4 to column 35)\n",
            "\n",
            "Chain 1 If this warning occurs sporadically, such as for highly constrained variable types like covariance matrices, then the sampler is fine,\n",
            "\n",
            "Chain 1 but if this warning occurs often then your model may be either severely ill-conditioned or misspecified.\n",
            "\n",
            "Chain 1 \n",
            "\n",
            "Chain 1 Informational Message: The current Metropolis proposal is about to be rejected because of the following issue:\n",
            "\n",
            "Chain 1 Exception: multi_normal_lpdf: Covariance matrix is not symmetric. Covariance matrix[1,2] = -nan, but Covariance matrix[2,1] = -nan (in '/tmp/RtmpdLxWxS/model-1183bcb5a96.stan', line 47, column 4 to column 35)\n",
            "\n",
            "Chain 1 If this warning occurs sporadically, such as for highly constrained variable types like covariance matrices, then the sampler is fine,\n",
            "\n",
            "Chain 1 but if this warning occurs often then your model may be either severely ill-conditioned or misspecified.\n",
            "\n",
            "Chain 1 \n",
            "\n"
          ]
        },
        {
          "output_type": "stream",
          "name": "stdout",
          "text": [
            "Chain 2 Iteration:   1 / 1000 [  0%]  (Warmup) \n",
            "Chain 3 Iteration:   1 / 1000 [  0%]  (Warmup) \n"
          ]
        },
        {
          "output_type": "stream",
          "name": "stderr",
          "text": [
            "Chain 3 Informational Message: The current Metropolis proposal is about to be rejected because of the following issue:\n",
            "\n",
            "Chain 3 Exception: multi_normal_lpdf: Covariance matrix is not symmetric. Covariance matrix[1,2] = -nan, but Covariance matrix[2,1] = -nan (in '/tmp/RtmpdLxWxS/model-1183bcb5a96.stan', line 47, column 4 to column 35)\n",
            "\n",
            "Chain 3 If this warning occurs sporadically, such as for highly constrained variable types like covariance matrices, then the sampler is fine,\n",
            "\n",
            "Chain 3 but if this warning occurs often then your model may be either severely ill-conditioned or misspecified.\n",
            "\n",
            "Chain 3 \n",
            "\n"
          ]
        },
        {
          "output_type": "stream",
          "name": "stdout",
          "text": [
            "Chain 4 Iteration:   1 / 1000 [  0%]  (Warmup) \n"
          ]
        },
        {
          "output_type": "stream",
          "name": "stderr",
          "text": [
            "Chain 4 Informational Message: The current Metropolis proposal is about to be rejected because of the following issue:\n",
            "\n",
            "Chain 4 Exception: multi_normal_lpdf: Covariance matrix is not symmetric. Covariance matrix[1,2] = -nan, but Covariance matrix[2,1] = -nan (in '/tmp/RtmpdLxWxS/model-1183bcb5a96.stan', line 47, column 4 to column 35)\n",
            "\n",
            "Chain 4 If this warning occurs sporadically, such as for highly constrained variable types like covariance matrices, then the sampler is fine,\n",
            "\n",
            "Chain 4 but if this warning occurs often then your model may be either severely ill-conditioned or misspecified.\n",
            "\n",
            "Chain 4 \n",
            "\n"
          ]
        },
        {
          "output_type": "stream",
          "name": "stdout",
          "text": [
            "Chain 1 Iteration: 100 / 1000 [ 10%]  (Warmup) \n",
            "Chain 4 Iteration: 100 / 1000 [ 10%]  (Warmup) \n",
            "Chain 2 Iteration: 100 / 1000 [ 10%]  (Warmup) \n",
            "Chain 3 Iteration: 100 / 1000 [ 10%]  (Warmup) \n",
            "Chain 2 Iteration: 200 / 1000 [ 20%]  (Warmup) \n",
            "Chain 1 Iteration: 200 / 1000 [ 20%]  (Warmup) \n",
            "Chain 3 Iteration: 200 / 1000 [ 20%]  (Warmup) \n",
            "Chain 4 Iteration: 200 / 1000 [ 20%]  (Warmup) \n",
            "Chain 3 Iteration: 300 / 1000 [ 30%]  (Warmup) \n",
            "Chain 2 Iteration: 300 / 1000 [ 30%]  (Warmup) \n",
            "Chain 1 Iteration: 300 / 1000 [ 30%]  (Warmup) \n",
            "Chain 4 Iteration: 300 / 1000 [ 30%]  (Warmup) \n",
            "Chain 2 Iteration: 400 / 1000 [ 40%]  (Warmup) \n",
            "Chain 1 Iteration: 400 / 1000 [ 40%]  (Warmup) \n",
            "Chain 3 Iteration: 400 / 1000 [ 40%]  (Warmup) \n",
            "Chain 4 Iteration: 400 / 1000 [ 40%]  (Warmup) \n",
            "Chain 2 Iteration: 500 / 1000 [ 50%]  (Warmup) \n",
            "Chain 2 Iteration: 501 / 1000 [ 50%]  (Sampling) \n",
            "Chain 1 Iteration: 500 / 1000 [ 50%]  (Warmup) \n",
            "Chain 1 Iteration: 501 / 1000 [ 50%]  (Sampling) \n",
            "Chain 3 Iteration: 500 / 1000 [ 50%]  (Warmup) \n",
            "Chain 3 Iteration: 501 / 1000 [ 50%]  (Sampling) \n",
            "Chain 4 Iteration: 500 / 1000 [ 50%]  (Warmup) \n",
            "Chain 4 Iteration: 501 / 1000 [ 50%]  (Sampling) \n",
            "Chain 2 Iteration: 600 / 1000 [ 60%]  (Sampling) \n",
            "Chain 1 Iteration: 600 / 1000 [ 60%]  (Sampling) \n",
            "Chain 3 Iteration: 600 / 1000 [ 60%]  (Sampling) \n",
            "Chain 2 Iteration: 700 / 1000 [ 70%]  (Sampling) \n",
            "Chain 4 Iteration: 600 / 1000 [ 60%]  (Sampling) \n",
            "Chain 1 Iteration: 700 / 1000 [ 70%]  (Sampling) \n",
            "Chain 3 Iteration: 700 / 1000 [ 70%]  (Sampling) \n",
            "Chain 2 Iteration: 800 / 1000 [ 80%]  (Sampling) \n",
            "Chain 4 Iteration: 700 / 1000 [ 70%]  (Sampling) \n",
            "Chain 1 Iteration: 800 / 1000 [ 80%]  (Sampling) \n",
            "Chain 3 Iteration: 800 / 1000 [ 80%]  (Sampling) \n",
            "Chain 2 Iteration: 900 / 1000 [ 90%]  (Sampling) \n",
            "Chain 4 Iteration: 800 / 1000 [ 80%]  (Sampling) \n",
            "Chain 1 Iteration: 900 / 1000 [ 90%]  (Sampling) \n",
            "Chain 3 Iteration: 900 / 1000 [ 90%]  (Sampling) \n",
            "Chain 2 Iteration: 1000 / 1000 [100%]  (Sampling) \n",
            "Chain 2 finished in 153.5 seconds.\n",
            "Chain 4 Iteration: 900 / 1000 [ 90%]  (Sampling) \n",
            "Chain 1 Iteration: 1000 / 1000 [100%]  (Sampling) \n",
            "Chain 1 finished in 158.3 seconds.\n",
            "Chain 3 Iteration: 1000 / 1000 [100%]  (Sampling) \n",
            "Chain 3 finished in 159.4 seconds.\n",
            "Chain 4 Iteration: 1000 / 1000 [100%]  (Sampling) \n",
            "Chain 4 finished in 161.7 seconds.\n",
            "\n",
            "All 4 chains finished successfully.\n",
            "Mean chain execution time: 158.2 seconds.\n",
            "Total execution time: 162.2 seconds.\n",
            "\n"
          ]
        }
      ]
    },
    {
      "cell_type": "code",
      "source": [
        "plot(coeftab(m14M5.9, m14M5.10, m14M5.11), pars=c(\"bB\"))"
      ],
      "metadata": {
        "colab": {
          "base_uri": "https://localhost:8080/",
          "height": 437
        },
        "id": "varFcRRcn9Fq",
        "outputId": "9c15072b-e91c-4456-a33e-8089756c68dc"
      },
      "execution_count": null,
      "outputs": [
        {
          "output_type": "display_data",
          "data": {
            "text/plain": [
              "plot without title"
            ],
            "image/png": "[encoded data removed]"
          },
          "metadata": {
            "image/png": {
              "width": 420,
              "height": 420
            }
          }
        }
      ]
    },
    {
      "cell_type": "markdown",
      "source": [
        "Probably as expected, after accounting for phylogeny, the associations between group size brain size (`bB`) is not as strong.  This should make sense because some of the information contained in these predictors from the non-phylogeny model is also contained in the phylogeny.  Hence, accounting for that information with phylogeny decreases the relevance of these predictors."
      ],
      "metadata": {
        "id": "9dz7yvw6oftl"
      }
    },
    {
      "cell_type": "markdown",
      "source": [
        "## Hard"
      ],
      "metadata": {
        "id": "EOReQ47zEIUJ"
      }
    },
    {
      "cell_type": "markdown",
      "source": [
        "### 14H1\n",
        "\n",
        "Let’s revisit the Bangladesh fertility data, data(`bangladesh`), from the practice problems for  Chapter 13. Fit a model with both varying intercepts by `district_id` and varying slopes of urban by `district_id`. You are still predicting `use.contraception`. Inspect the correlation between the  intercepts and slopes. Can you interpret this correlation, in terms of what it tells you about the pattern of contraceptive use in the sample? It might help to plot the mean (or median) varying effect estimates for both the intercepts and slopes, by district. Then you can visualize the correlation and maybe more  easily think through what it means to have a particular correlation. Plotting predicted proportion of  women using contraception, with urban women on one axis and rural on the other, might also help.\n",
        "\n",
        "#### Answer\n",
        "\n"
      ],
      "metadata": {
        "id": "ZwSKcMLyEO29"
      }
    },
    {
      "cell_type": "code",
      "source": [
        "data(bangladesh)\n",
        "d <- bangladesh\n",
        "head(d)"
      ],
      "metadata": {
        "colab": {
          "base_uri": "https://localhost:8080/",
          "height": 286
        },
        "id": "43rE5D5MFKYN",
        "outputId": "79b57a33-c6bd-4b8d-f22e-3ba1d3c5cfb8"
      },
      "execution_count": null,
      "outputs": [
        {
          "output_type": "display_data",
          "data": {
            "text/html": [
              "<table class=\"dataframe\">\n",
              "<caption>A data.frame: 6 × 6</caption>\n",
              "<thead>\n",
              "\t<tr><th></th><th scope=col>woman</th><th scope=col>district</th><th scope=col>use.contraception</th><th scope=col>living.children</th><th scope=col>age.centered</th><th scope=col>urban</th></tr>\n",
              "\t<tr><th></th><th scope=col>&lt;int&gt;</th><th scope=col>&lt;int&gt;</th><th scope=col>&lt;int&gt;</th><th scope=col>&lt;int&gt;</th><th scope=col>&lt;dbl&gt;</th><th scope=col>&lt;int&gt;</th></tr>\n",
              "</thead>\n",
              "<tbody>\n",
              "\t<tr><th scope=row>1</th><td>1</td><td>1</td><td>0</td><td>4</td><td> 18.4400</td><td>1</td></tr>\n",
              "\t<tr><th scope=row>2</th><td>2</td><td>1</td><td>0</td><td>1</td><td> -5.5599</td><td>1</td></tr>\n",
              "\t<tr><th scope=row>3</th><td>3</td><td>1</td><td>0</td><td>3</td><td>  1.4400</td><td>1</td></tr>\n",
              "\t<tr><th scope=row>4</th><td>4</td><td>1</td><td>0</td><td>4</td><td>  8.4400</td><td>1</td></tr>\n",
              "\t<tr><th scope=row>5</th><td>5</td><td>1</td><td>0</td><td>1</td><td>-13.5590</td><td>1</td></tr>\n",
              "\t<tr><th scope=row>6</th><td>6</td><td>1</td><td>0</td><td>1</td><td>-11.5600</td><td>1</td></tr>\n",
              "</tbody>\n",
              "</table>\n"
            ],
            "text/markdown": "\nA data.frame: 6 × 6\n\n| <!--/--> | woman &lt;int&gt; | district &lt;int&gt; | use.contraception &lt;int&gt; | living.children &lt;int&gt; | age.centered &lt;dbl&gt; | urban &lt;int&gt; |\n|---|---|---|---|---|---|---|\n| 1 | 1 | 1 | 0 | 4 |  18.4400 | 1 |\n| 2 | 2 | 1 | 0 | 1 |  -5.5599 | 1 |\n| 3 | 3 | 1 | 0 | 3 |   1.4400 | 1 |\n| 4 | 4 | 1 | 0 | 4 |   8.4400 | 1 |\n| 5 | 5 | 1 | 0 | 1 | -13.5590 | 1 |\n| 6 | 6 | 1 | 0 | 1 | -11.5600 | 1 |\n\n",
            "text/latex": "A data.frame: 6 × 6\n\\begin{tabular}{r|llllll}\n  & woman & district & use.contraception & living.children & age.centered & urban\\\\\n  & <int> & <int> & <int> & <int> & <dbl> & <int>\\\\\n\\hline\n\t1 & 1 & 1 & 0 & 4 &  18.4400 & 1\\\\\n\t2 & 2 & 1 & 0 & 1 &  -5.5599 & 1\\\\\n\t3 & 3 & 1 & 0 & 3 &   1.4400 & 1\\\\\n\t4 & 4 & 1 & 0 & 4 &   8.4400 & 1\\\\\n\t5 & 5 & 1 & 0 & 1 & -13.5590 & 1\\\\\n\t6 & 6 & 1 & 0 & 1 & -11.5600 & 1\\\\\n\\end{tabular}\n",
            "text/plain": [
              "  woman district use.contraception living.children age.centered urban\n",
              "1 1     1        0                 4                18.4400     1    \n",
              "2 2     1        0                 1                -5.5599     1    \n",
              "3 3     1        0                 3                 1.4400     1    \n",
              "4 4     1        0                 4                 8.4400     1    \n",
              "5 5     1        0                 1               -13.5590     1    \n",
              "6 6     1        0                 1               -11.5600     1    "
            ]
          },
          "metadata": {}
        }
      ]
    },
    {
      "cell_type": "code",
      "source": [
        "dlist <- list(\"district\"=as.integer(as.factor(d$district)),\n",
        "              \"contraception\"=d$use.contraception,\n",
        "              \"urban\"=d$urban)\n",
        "\n",
        "m <- ulam(\n",
        "  alist(\n",
        "    contraception ~ dbinom(1,p),\n",
        "      logit(p) <- a[district] + b[district]*urban,\n",
        "        c(a,b)[district] ~ multi_normal(c(mu_a, mu_b), Rho, Sigma),\n",
        "          mu_a ~ dnorm(0,1),\n",
        "          mu_b ~ dnorm(0,1),\n",
        "          Rho ~ lkj_corr(2),\n",
        "          Sigma ~ dexp(1)\n",
        "  ), data=dlist,\n",
        "     chains=4,\n",
        "     cores=4,\n",
        "     iter=1000\n",
        ")\n",
        "precis(m)"
      ],
      "metadata": {
        "colab": {
          "base_uri": "https://localhost:8080/",
          "height": 195
        },
        "id": "Dd42VzzuIVC7",
        "outputId": "207b6613-27d6-4b5e-973f-dceb774c461b"
      },
      "execution_count": null,
      "outputs": [
        {
          "output_type": "stream",
          "name": "stderr",
          "text": [
            "126 vector or matrix parameters hidden. Use depth=2 to show them.\n",
            "\n"
          ]
        },
        {
          "output_type": "display_data",
          "data": {
            "text/html": [
              "<table class=\"dataframe\">\n",
              "<caption>A precis: 2 × 6</caption>\n",
              "<thead>\n",
              "\t<tr><th></th><th scope=col>mean</th><th scope=col>sd</th><th scope=col>5.5%</th><th scope=col>94.5%</th><th scope=col>rhat</th><th scope=col>ess_bulk</th></tr>\n",
              "\t<tr><th></th><th scope=col>&lt;dbl&gt;</th><th scope=col>&lt;dbl&gt;</th><th scope=col>&lt;dbl&gt;</th><th scope=col>&lt;dbl&gt;</th><th scope=col>&lt;dbl&gt;</th><th scope=col>&lt;dbl&gt;</th></tr>\n",
              "</thead>\n",
              "<tbody>\n",
              "\t<tr><th scope=row>mu_a</th><td>-0.7047372</td><td>0.1024504</td><td>-0.8687415</td><td>-0.5482902</td><td>0.9997438</td><td>1337.0054</td></tr>\n",
              "\t<tr><th scope=row>mu_b</th><td> 0.6944290</td><td>0.1714211</td><td> 0.4199284</td><td> 0.9699932</td><td>1.0018954</td><td> 953.8892</td></tr>\n",
              "</tbody>\n",
              "</table>\n"
            ],
            "text/markdown": "\nA precis: 2 × 6\n\n| <!--/--> | mean &lt;dbl&gt; | sd &lt;dbl&gt; | 5.5% &lt;dbl&gt; | 94.5% &lt;dbl&gt; | rhat &lt;dbl&gt; | ess_bulk &lt;dbl&gt; |\n|---|---|---|---|---|---|---|\n| mu_a | -0.7047372 | 0.1024504 | -0.8687415 | -0.5482902 | 0.9997438 | 1337.0054 |\n| mu_b |  0.6944290 | 0.1714211 |  0.4199284 |  0.9699932 | 1.0018954 |  953.8892 |\n\n",
            "text/latex": "A precis: 2 × 6\n\\begin{tabular}{r|llllll}\n  & mean & sd & 5.5\\% & 94.5\\% & rhat & ess\\_bulk\\\\\n  & <dbl> & <dbl> & <dbl> & <dbl> & <dbl> & <dbl>\\\\\n\\hline\n\tmu\\_a & -0.7047372 & 0.1024504 & -0.8687415 & -0.5482902 & 0.9997438 & 1337.0054\\\\\n\tmu\\_b &  0.6944290 & 0.1714211 &  0.4199284 &  0.9699932 & 1.0018954 &  953.8892\\\\\n\\end{tabular}\n",
            "text/plain": [
              "     mean       sd        5.5%       94.5%      rhat      ess_bulk \n",
              "mu_a -0.7047372 0.1024504 -0.8687415 -0.5482902 0.9997438 1337.0054\n",
              "mu_b  0.6944290 0.1714211  0.4199284  0.9699932 1.0018954  953.8892"
            ]
          },
          "metadata": {}
        }
      ]
    },
    {
      "cell_type": "markdown",
      "source": [
        "I checked the convergnce of the model before proceeding.  Let's get the correlation between `a` and `b`."
      ],
      "metadata": {
        "id": "OVCZOSf-VRaV"
      }
    },
    {
      "cell_type": "code",
      "source": [
        "precis(m, depth=3, pars=\"Rho\")[2,1]"
      ],
      "metadata": {
        "colab": {
          "base_uri": "https://localhost:8080/",
          "height": 34
        },
        "id": "U5BKkNahUHs-",
        "outputId": "ca8574ef-0167-4101-b540-a935adb1aa73"
      },
      "execution_count": null,
      "outputs": [
        {
          "output_type": "display_data",
          "data": {
            "text/html": [
              "-0.66221191645"
            ],
            "text/markdown": "-0.66221191645",
            "text/latex": "-0.66221191645",
            "text/plain": [
              "[1] -0.6622119"
            ]
          },
          "metadata": {}
        }
      ]
    },
    {
      "cell_type": "markdown",
      "source": [
        "In other words, urban areas are more likely to use contraception.  But, the effect of `urban` decreases as the district-baseline contraception use goes up.\n",
        "\n",
        "How could it be any other way?  It couldn't."
      ],
      "metadata": {
        "id": "QTVKv5Z9Va7d"
      }
    },
    {
      "cell_type": "markdown",
      "source": [
        "### 14H2\n",
        "\n",
        "Now consider the predictor variables `age.centered` and `living.children`, also contained  in `data(bangladesh)`. Suppose that age influences contraceptive use (changing attitudes) and number of children (older people have had more time to have kids). Number of children may also directly influence contraceptive use. Draw a DAG that reflects these hypothetical relationships. Then build  models needed to evaluate the DAG. You will need at least two models. Retain district and urban, as in 14H1. What do you conclude about the causal influence of age and children?\n",
        "\n",
        "#### Answer\n",
        "\n",
        "Let's get our data in order."
      ],
      "metadata": {
        "id": "qOrFDWVOEFaw"
      }
    },
    {
      "cell_type": "code",
      "source": [
        "data(bangladesh)\n",
        "d <- bangladesh\n",
        "head(d)"
      ],
      "metadata": {
        "colab": {
          "base_uri": "https://localhost:8080/",
          "height": 286
        },
        "id": "Smp29jcnEdL9",
        "outputId": "bda9b4e2-5a69-4063-9f31-d9ae76ff82f8"
      },
      "execution_count": null,
      "outputs": [
        {
          "output_type": "display_data",
          "data": {
            "text/html": [
              "<table class=\"dataframe\">\n",
              "<caption>A data.frame: 6 × 6</caption>\n",
              "<thead>\n",
              "\t<tr><th></th><th scope=col>woman</th><th scope=col>district</th><th scope=col>use.contraception</th><th scope=col>living.children</th><th scope=col>age.centered</th><th scope=col>urban</th></tr>\n",
              "\t<tr><th></th><th scope=col>&lt;int&gt;</th><th scope=col>&lt;int&gt;</th><th scope=col>&lt;int&gt;</th><th scope=col>&lt;int&gt;</th><th scope=col>&lt;dbl&gt;</th><th scope=col>&lt;int&gt;</th></tr>\n",
              "</thead>\n",
              "<tbody>\n",
              "\t<tr><th scope=row>1</th><td>1</td><td>1</td><td>0</td><td>4</td><td> 18.4400</td><td>1</td></tr>\n",
              "\t<tr><th scope=row>2</th><td>2</td><td>1</td><td>0</td><td>1</td><td> -5.5599</td><td>1</td></tr>\n",
              "\t<tr><th scope=row>3</th><td>3</td><td>1</td><td>0</td><td>3</td><td>  1.4400</td><td>1</td></tr>\n",
              "\t<tr><th scope=row>4</th><td>4</td><td>1</td><td>0</td><td>4</td><td>  8.4400</td><td>1</td></tr>\n",
              "\t<tr><th scope=row>5</th><td>5</td><td>1</td><td>0</td><td>1</td><td>-13.5590</td><td>1</td></tr>\n",
              "\t<tr><th scope=row>6</th><td>6</td><td>1</td><td>0</td><td>1</td><td>-11.5600</td><td>1</td></tr>\n",
              "</tbody>\n",
              "</table>\n"
            ],
            "text/markdown": "\nA data.frame: 6 × 6\n\n| <!--/--> | woman &lt;int&gt; | district &lt;int&gt; | use.contraception &lt;int&gt; | living.children &lt;int&gt; | age.centered &lt;dbl&gt; | urban &lt;int&gt; |\n|---|---|---|---|---|---|---|\n| 1 | 1 | 1 | 0 | 4 |  18.4400 | 1 |\n| 2 | 2 | 1 | 0 | 1 |  -5.5599 | 1 |\n| 3 | 3 | 1 | 0 | 3 |   1.4400 | 1 |\n| 4 | 4 | 1 | 0 | 4 |   8.4400 | 1 |\n| 5 | 5 | 1 | 0 | 1 | -13.5590 | 1 |\n| 6 | 6 | 1 | 0 | 1 | -11.5600 | 1 |\n\n",
            "text/latex": "A data.frame: 6 × 6\n\\begin{tabular}{r|llllll}\n  & woman & district & use.contraception & living.children & age.centered & urban\\\\\n  & <int> & <int> & <int> & <int> & <dbl> & <int>\\\\\n\\hline\n\t1 & 1 & 1 & 0 & 4 &  18.4400 & 1\\\\\n\t2 & 2 & 1 & 0 & 1 &  -5.5599 & 1\\\\\n\t3 & 3 & 1 & 0 & 3 &   1.4400 & 1\\\\\n\t4 & 4 & 1 & 0 & 4 &   8.4400 & 1\\\\\n\t5 & 5 & 1 & 0 & 1 & -13.5590 & 1\\\\\n\t6 & 6 & 1 & 0 & 1 & -11.5600 & 1\\\\\n\\end{tabular}\n",
            "text/plain": [
              "  woman district use.contraception living.children age.centered urban\n",
              "1 1     1        0                 4                18.4400     1    \n",
              "2 2     1        0                 1                -5.5599     1    \n",
              "3 3     1        0                 3                 1.4400     1    \n",
              "4 4     1        0                 4                 8.4400     1    \n",
              "5 5     1        0                 1               -13.5590     1    \n",
              "6 6     1        0                 1               -11.5600     1    "
            ]
          },
          "metadata": {}
        }
      ]
    },
    {
      "cell_type": "markdown",
      "source": [
        "We need to add the new variables to our `dlist`.  Both age and children will require priors, and I don't know what they would be; so I'll standardize them."
      ],
      "metadata": {
        "id": "ZHiW8RnwG1y6"
      }
    },
    {
      "cell_type": "code",
      "source": [
        "dlist <- list(\"district\"=as.integer(as.factor(d$district)),\n",
        "              \"contraception\"=d$use.contraception,\n",
        "              \"urban\"=d$urban,\n",
        "              \"age\"=standardize(d$age.centered),\n",
        "              \"children\"=standardize(d$living.children))"
      ],
      "metadata": {
        "id": "oQEPHKcsEgmh"
      },
      "execution_count": null,
      "outputs": []
    },
    {
      "cell_type": "markdown",
      "source": [
        "Now let's make our DAG."
      ],
      "metadata": {
        "id": "nGKB8xj_HAJu"
      }
    },
    {
      "cell_type": "code",
      "source": [
        "library(dagitty)\n",
        "dag <- dagitty(\"dag{Children -> Contraception <- Age -> Children;\n",
        "                    Location -> Contraception}\")\n",
        "drawdag(dag)"
      ],
      "metadata": {
        "colab": {
          "base_uri": "https://localhost:8080/",
          "height": 437
        },
        "id": "u2fbCA1YIwxo",
        "outputId": "67229988-b5aa-4b3d-a2ed-4b20a36b3c20"
      },
      "execution_count": null,
      "outputs": [
        {
          "output_type": "display_data",
          "data": {
            "text/plain": [
              "plot without title"
            ],
            "image/png": "[encoded data removed]"
          },
          "metadata": {
            "image/png": {
              "width": 420,
              "height": 420
            }
          }
        }
      ]
    },
    {
      "cell_type": "markdown",
      "source": [
        "Let's build our model.  The question suggests that we need >= 2 models, but I'm not sure that's accuarate.  "
      ],
      "metadata": {
        "id": "Boq9e2BdKINC"
      }
    },
    {
      "cell_type": "code",
      "source": [
        "m <- ulam(\n",
        "  alist(\n",
        "    contraception ~ dbinom(1,p),\n",
        "      logit(p) <- a[district] +\n",
        "                  b_urban[district]*urban +\n",
        "                  b_age*age +\n",
        "                  b_children*children +\n",
        "                  b_ageXchildren*age*children,\n",
        "        c(a,b_urban)[district] ~ multi_normal(c(mu_a, mu_b), Rho, Sigma),\n",
        "          mu_a ~ dnorm(0,1),\n",
        "          mu_b ~ dnorm(0,1),\n",
        "          Rho ~ lkj_corr(2),\n",
        "          Sigma ~ dexp(1),\n",
        "        b_age ~ dnorm(0,1),\n",
        "        b_children ~ dnorm(0,1),\n",
        "        b_ageXchildren ~ dnorm(0,1)\n",
        "  ), data=dlist,\n",
        "     chains=4,\n",
        "     cores=4,\n",
        "     iter=1000\n",
        ")"
      ],
      "metadata": {
        "colab": {
          "base_uri": "https://localhost:8080/"
        },
        "collapsed": true,
        "id": "t3VMEtKEKKP0",
        "outputId": "3d307aa6-9a37-4048-e286-f9f1a51e93e4"
      },
      "execution_count": null,
      "outputs": [
        {
          "output_type": "stream",
          "name": "stdout",
          "text": [
            "Running MCMC with 4 parallel chains, with 1 thread(s) per chain...\n",
            "\n",
            "Chain 1 Iteration:   1 / 1000 [  0%]  (Warmup) \n"
          ]
        },
        {
          "output_type": "stream",
          "name": "stderr",
          "text": [
            "Chain 1 Informational Message: The current Metropolis proposal is about to be rejected because of the following issue:\n",
            "\n",
            "Chain 1 Exception: lkj_corr_lpdf: Correlation matrix is not positive definite. (in '/tmp/RtmpylxUX1/model-c2704969e9.stan', line 25, column 4 to column 24)\n",
            "\n",
            "Chain 1 If this warning occurs sporadically, such as for highly constrained variable types like covariance matrices, then the sampler is fine,\n",
            "\n",
            "Chain 1 but if this warning occurs often then your model may be either severely ill-conditioned or misspecified.\n",
            "\n",
            "Chain 1 \n",
            "\n",
            "Chain 1 Informational Message: The current Metropolis proposal is about to be rejected because of the following issue:\n",
            "\n",
            "Chain 1 Exception: lkj_corr_lpdf: Correlation matrix is not positive definite. (in '/tmp/RtmpylxUX1/model-c2704969e9.stan', line 25, column 4 to column 24)\n",
            "\n",
            "Chain 1 If this warning occurs sporadically, such as for highly constrained variable types like covariance matrices, then the sampler is fine,\n",
            "\n",
            "Chain 1 but if this warning occurs often then your model may be either severely ill-conditioned or misspecified.\n",
            "\n",
            "Chain 1 \n",
            "\n",
            "Chain 1 Informational Message: The current Metropolis proposal is about to be rejected because of the following issue:\n",
            "\n",
            "Chain 1 Exception: lkj_corr_lpdf: Correlation matrix is not positive definite. (in '/tmp/RtmpylxUX1/model-c2704969e9.stan', line 25, column 4 to column 24)\n",
            "\n",
            "Chain 1 If this warning occurs sporadically, such as for highly constrained variable types like covariance matrices, then the sampler is fine,\n",
            "\n",
            "Chain 1 but if this warning occurs often then your model may be either severely ill-conditioned or misspecified.\n",
            "\n",
            "Chain 1 \n",
            "\n",
            "Chain 1 Informational Message: The current Metropolis proposal is about to be rejected because of the following issue:\n",
            "\n",
            "Chain 1 Exception: lkj_corr_lpdf: Correlation matrix is not positive definite. (in '/tmp/RtmpylxUX1/model-c2704969e9.stan', line 25, column 4 to column 24)\n",
            "\n",
            "Chain 1 If this warning occurs sporadically, such as for highly constrained variable types like covariance matrices, then the sampler is fine,\n",
            "\n",
            "Chain 1 but if this warning occurs often then your model may be either severely ill-conditioned or misspecified.\n",
            "\n",
            "Chain 1 \n",
            "\n",
            "Chain 1 Informational Message: The current Metropolis proposal is about to be rejected because of the following issue:\n",
            "\n",
            "Chain 1 Exception: multi_normal_lpdf: Covariance matrix is not symmetric. Covariance matrix[1,2] = 6.0023e+09, but Covariance matrix[2,1] = 6.0023e+09 (in '/tmp/RtmpylxUX1/model-c2704969e9.stan', line 33, column 4 to column 58)\n",
            "\n",
            "Chain 1 If this warning occurs sporadically, such as for highly constrained variable types like covariance matrices, then the sampler is fine,\n",
            "\n",
            "Chain 1 but if this warning occurs often then your model may be either severely ill-conditioned or misspecified.\n",
            "\n",
            "Chain 1 \n",
            "\n",
            "Chain 1 Informational Message: The current Metropolis proposal is about to be rejected because of the following issue:\n",
            "\n",
            "Chain 1 Exception: lkj_corr_lpdf: Correlation matrix is not positive definite. (in '/tmp/RtmpylxUX1/model-c2704969e9.stan', line 25, column 4 to column 24)\n",
            "\n",
            "Chain 1 If this warning occurs sporadically, such as for highly constrained variable types like covariance matrices, then the sampler is fine,\n",
            "\n",
            "Chain 1 but if this warning occurs often then your model may be either severely ill-conditioned or misspecified.\n",
            "\n",
            "Chain 1 \n",
            "\n",
            "Chain 1 Informational Message: The current Metropolis proposal is about to be rejected because of the following issue:\n",
            "\n",
            "Chain 1 Exception: lkj_corr_lpdf: Correlation matrix is not positive definite. (in '/tmp/RtmpylxUX1/model-c2704969e9.stan', line 25, column 4 to column 24)\n",
            "\n",
            "Chain 1 If this warning occurs sporadically, such as for highly constrained variable types like covariance matrices, then the sampler is fine,\n",
            "\n",
            "Chain 1 but if this warning occurs often then your model may be either severely ill-conditioned or misspecified.\n",
            "\n",
            "Chain 1 \n",
            "\n"
          ]
        },
        {
          "output_type": "stream",
          "name": "stdout",
          "text": [
            "Chain 2 Iteration:   1 / 1000 [  0%]  (Warmup) \n"
          ]
        },
        {
          "output_type": "stream",
          "name": "stderr",
          "text": [
            "Chain 2 Informational Message: The current Metropolis proposal is about to be rejected because of the following issue:\n",
            "\n",
            "Chain 2 Exception: lkj_corr_lpdf: Correlation matrix is not positive definite. (in '/tmp/RtmpylxUX1/model-c2704969e9.stan', line 25, column 4 to column 24)\n",
            "\n",
            "Chain 2 If this warning occurs sporadically, such as for highly constrained variable types like covariance matrices, then the sampler is fine,\n",
            "\n",
            "Chain 2 but if this warning occurs often then your model may be either severely ill-conditioned or misspecified.\n",
            "\n",
            "Chain 2 \n",
            "\n",
            "Chain 2 Informational Message: The current Metropolis proposal is about to be rejected because of the following issue:\n",
            "\n",
            "Chain 2 Exception: lkj_corr_lpdf: Correlation matrix is not positive definite. (in '/tmp/RtmpylxUX1/model-c2704969e9.stan', line 25, column 4 to column 24)\n",
            "\n",
            "Chain 2 If this warning occurs sporadically, such as for highly constrained variable types like covariance matrices, then the sampler is fine,\n",
            "\n",
            "Chain 2 but if this warning occurs often then your model may be either severely ill-conditioned or misspecified.\n",
            "\n",
            "Chain 2 \n",
            "\n",
            "Chain 2 Informational Message: The current Metropolis proposal is about to be rejected because of the following issue:\n",
            "\n",
            "Chain 2 Exception: lkj_corr_lpdf: Correlation matrix is not positive definite. (in '/tmp/RtmpylxUX1/model-c2704969e9.stan', line 25, column 4 to column 24)\n",
            "\n",
            "Chain 2 If this warning occurs sporadically, such as for highly constrained variable types like covariance matrices, then the sampler is fine,\n",
            "\n",
            "Chain 2 but if this warning occurs often then your model may be either severely ill-conditioned or misspecified.\n",
            "\n",
            "Chain 2 \n",
            "\n",
            "Chain 2 Informational Message: The current Metropolis proposal is about to be rejected because of the following issue:\n",
            "\n",
            "Chain 2 Exception: lkj_corr_lpdf: Correlation matrix is not positive definite. (in '/tmp/RtmpylxUX1/model-c2704969e9.stan', line 25, column 4 to column 24)\n",
            "\n",
            "Chain 2 If this warning occurs sporadically, such as for highly constrained variable types like covariance matrices, then the sampler is fine,\n",
            "\n",
            "Chain 2 but if this warning occurs often then your model may be either severely ill-conditioned or misspecified.\n",
            "\n",
            "Chain 2 \n",
            "\n",
            "Chain 2 Informational Message: The current Metropolis proposal is about to be rejected because of the following issue:\n",
            "\n",
            "Chain 2 Exception: lkj_corr_lpdf: Correlation matrix is not positive definite. (in '/tmp/RtmpylxUX1/model-c2704969e9.stan', line 25, column 4 to column 24)\n",
            "\n",
            "Chain 2 If this warning occurs sporadically, such as for highly constrained variable types like covariance matrices, then the sampler is fine,\n",
            "\n",
            "Chain 2 but if this warning occurs often then your model may be either severely ill-conditioned or misspecified.\n",
            "\n",
            "Chain 2 \n",
            "\n",
            "Chain 2 Informational Message: The current Metropolis proposal is about to be rejected because of the following issue:\n",
            "\n",
            "Chain 2 Exception: lkj_corr_lpdf: Correlation matrix is not positive definite. (in '/tmp/RtmpylxUX1/model-c2704969e9.stan', line 25, column 4 to column 24)\n",
            "\n",
            "Chain 2 If this warning occurs sporadically, such as for highly constrained variable types like covariance matrices, then the sampler is fine,\n",
            "\n",
            "Chain 2 but if this warning occurs often then your model may be either severely ill-conditioned or misspecified.\n",
            "\n",
            "Chain 2 \n",
            "\n"
          ]
        },
        {
          "output_type": "stream",
          "name": "stdout",
          "text": [
            "Chain 3 Iteration:   1 / 1000 [  0%]  (Warmup) \n"
          ]
        },
        {
          "output_type": "stream",
          "name": "stderr",
          "text": [
            "Chain 3 Informational Message: The current Metropolis proposal is about to be rejected because of the following issue:\n",
            "\n",
            "Chain 3 Exception: lkj_corr_lpdf: Correlation matrix is not positive definite. (in '/tmp/RtmpylxUX1/model-c2704969e9.stan', line 25, column 4 to column 24)\n",
            "\n",
            "Chain 3 If this warning occurs sporadically, such as for highly constrained variable types like covariance matrices, then the sampler is fine,\n",
            "\n",
            "Chain 3 but if this warning occurs often then your model may be either severely ill-conditioned or misspecified.\n",
            "\n",
            "Chain 3 \n",
            "\n",
            "Chain 3 Informational Message: The current Metropolis proposal is about to be rejected because of the following issue:\n",
            "\n",
            "Chain 3 Exception: lkj_corr_lpdf: Correlation matrix is not positive definite. (in '/tmp/RtmpylxUX1/model-c2704969e9.stan', line 25, column 4 to column 24)\n",
            "\n",
            "Chain 3 If this warning occurs sporadically, such as for highly constrained variable types like covariance matrices, then the sampler is fine,\n",
            "\n",
            "Chain 3 but if this warning occurs often then your model may be either severely ill-conditioned or misspecified.\n",
            "\n",
            "Chain 3 \n",
            "\n",
            "Chain 3 Informational Message: The current Metropolis proposal is about to be rejected because of the following issue:\n",
            "\n",
            "Chain 3 Exception: lkj_corr_lpdf: Correlation matrix is not positive definite. (in '/tmp/RtmpylxUX1/model-c2704969e9.stan', line 25, column 4 to column 24)\n",
            "\n",
            "Chain 3 If this warning occurs sporadically, such as for highly constrained variable types like covariance matrices, then the sampler is fine,\n",
            "\n",
            "Chain 3 but if this warning occurs often then your model may be either severely ill-conditioned or misspecified.\n",
            "\n",
            "Chain 3 \n",
            "\n",
            "Chain 3 Informational Message: The current Metropolis proposal is about to be rejected because of the following issue:\n",
            "\n",
            "Chain 3 Exception: lkj_corr_lpdf: Correlation matrix is not positive definite. (in '/tmp/RtmpylxUX1/model-c2704969e9.stan', line 25, column 4 to column 24)\n",
            "\n",
            "Chain 3 If this warning occurs sporadically, such as for highly constrained variable types like covariance matrices, then the sampler is fine,\n",
            "\n",
            "Chain 3 but if this warning occurs often then your model may be either severely ill-conditioned or misspecified.\n",
            "\n",
            "Chain 3 \n",
            "\n",
            "Chain 3 Informational Message: The current Metropolis proposal is about to be rejected because of the following issue:\n",
            "\n",
            "Chain 3 Exception: lkj_corr_lpdf: Correlation matrix is not positive definite. (in '/tmp/RtmpylxUX1/model-c2704969e9.stan', line 25, column 4 to column 24)\n",
            "\n",
            "Chain 3 If this warning occurs sporadically, such as for highly constrained variable types like covariance matrices, then the sampler is fine,\n",
            "\n",
            "Chain 3 but if this warning occurs often then your model may be either severely ill-conditioned or misspecified.\n",
            "\n",
            "Chain 3 \n",
            "\n",
            "Chain 3 Informational Message: The current Metropolis proposal is about to be rejected because of the following issue:\n",
            "\n",
            "Chain 3 Exception: lkj_corr_lpdf: Correlation matrix is not positive definite. (in '/tmp/RtmpylxUX1/model-c2704969e9.stan', line 25, column 4 to column 24)\n",
            "\n",
            "Chain 3 If this warning occurs sporadically, such as for highly constrained variable types like covariance matrices, then the sampler is fine,\n",
            "\n",
            "Chain 3 but if this warning occurs often then your model may be either severely ill-conditioned or misspecified.\n",
            "\n",
            "Chain 3 \n",
            "\n",
            "Chain 3 Informational Message: The current Metropolis proposal is about to be rejected because of the following issue:\n",
            "\n",
            "Chain 3 Exception: lkj_corr_lpdf: Correlation matrix is not positive definite. (in '/tmp/RtmpylxUX1/model-c2704969e9.stan', line 25, column 4 to column 24)\n",
            "\n",
            "Chain 3 If this warning occurs sporadically, such as for highly constrained variable types like covariance matrices, then the sampler is fine,\n",
            "\n",
            "Chain 3 but if this warning occurs often then your model may be either severely ill-conditioned or misspecified.\n",
            "\n",
            "Chain 3 \n",
            "\n",
            "Chain 3 Informational Message: The current Metropolis proposal is about to be rejected because of the following issue:\n",
            "\n",
            "Chain 3 Exception: lkj_corr_lpdf: Correlation matrix is not positive definite. (in '/tmp/RtmpylxUX1/model-c2704969e9.stan', line 25, column 4 to column 24)\n",
            "\n",
            "Chain 3 If this warning occurs sporadically, such as for highly constrained variable types like covariance matrices, then the sampler is fine,\n",
            "\n",
            "Chain 3 but if this warning occurs often then your model may be either severely ill-conditioned or misspecified.\n",
            "\n",
            "Chain 3 \n",
            "\n",
            "Chain 3 Informational Message: The current Metropolis proposal is about to be rejected because of the following issue:\n",
            "\n",
            "Chain 3 Exception: lkj_corr_lpdf: Correlation matrix is not positive definite. (in '/tmp/RtmpylxUX1/model-c2704969e9.stan', line 25, column 4 to column 24)\n",
            "\n",
            "Chain 3 If this warning occurs sporadically, such as for highly constrained variable types like covariance matrices, then the sampler is fine,\n",
            "\n",
            "Chain 3 but if this warning occurs often then your model may be either severely ill-conditioned or misspecified.\n",
            "\n",
            "Chain 3 \n",
            "\n"
          ]
        },
        {
          "output_type": "stream",
          "name": "stdout",
          "text": [
            "Chain 4 Iteration:   1 / 1000 [  0%]  (Warmup) \n"
          ]
        },
        {
          "output_type": "stream",
          "name": "stderr",
          "text": [
            "Chain 4 Informational Message: The current Metropolis proposal is about to be rejected because of the following issue:\n",
            "\n",
            "Chain 4 Exception: lkj_corr_lpdf: Correlation matrix is not positive definite. (in '/tmp/RtmpylxUX1/model-c2704969e9.stan', line 25, column 4 to column 24)\n",
            "\n",
            "Chain 4 If this warning occurs sporadically, such as for highly constrained variable types like covariance matrices, then the sampler is fine,\n",
            "\n",
            "Chain 4 but if this warning occurs often then your model may be either severely ill-conditioned or misspecified.\n",
            "\n",
            "Chain 4 \n",
            "\n",
            "Chain 4 Informational Message: The current Metropolis proposal is about to be rejected because of the following issue:\n",
            "\n",
            "Chain 4 Exception: lkj_corr_lpdf: Correlation matrix is not positive definite. (in '/tmp/RtmpylxUX1/model-c2704969e9.stan', line 25, column 4 to column 24)\n",
            "\n",
            "Chain 4 If this warning occurs sporadically, such as for highly constrained variable types like covariance matrices, then the sampler is fine,\n",
            "\n",
            "Chain 4 but if this warning occurs often then your model may be either severely ill-conditioned or misspecified.\n",
            "\n",
            "Chain 4 \n",
            "\n",
            "Chain 4 Informational Message: The current Metropolis proposal is about to be rejected because of the following issue:\n",
            "\n",
            "Chain 4 Exception: lkj_corr_lpdf: Correlation matrix is not positive definite. (in '/tmp/RtmpylxUX1/model-c2704969e9.stan', line 25, column 4 to column 24)\n",
            "\n",
            "Chain 4 If this warning occurs sporadically, such as for highly constrained variable types like covariance matrices, then the sampler is fine,\n",
            "\n",
            "Chain 4 but if this warning occurs often then your model may be either severely ill-conditioned or misspecified.\n",
            "\n",
            "Chain 4 \n",
            "\n",
            "Chain 4 Informational Message: The current Metropolis proposal is about to be rejected because of the following issue:\n",
            "\n",
            "Chain 4 Exception: lkj_corr_lpdf: Correlation matrix is not positive definite. (in '/tmp/RtmpylxUX1/model-c2704969e9.stan', line 25, column 4 to column 24)\n",
            "\n",
            "Chain 4 If this warning occurs sporadically, such as for highly constrained variable types like covariance matrices, then the sampler is fine,\n",
            "\n",
            "Chain 4 but if this warning occurs often then your model may be either severely ill-conditioned or misspecified.\n",
            "\n",
            "Chain 4 \n",
            "\n",
            "Chain 4 Informational Message: The current Metropolis proposal is about to be rejected because of the following issue:\n",
            "\n",
            "Chain 4 Exception: lkj_corr_lpdf: Correlation matrix is not positive definite. (in '/tmp/RtmpylxUX1/model-c2704969e9.stan', line 25, column 4 to column 24)\n",
            "\n",
            "Chain 4 If this warning occurs sporadically, such as for highly constrained variable types like covariance matrices, then the sampler is fine,\n",
            "\n",
            "Chain 4 but if this warning occurs often then your model may be either severely ill-conditioned or misspecified.\n",
            "\n",
            "Chain 4 \n",
            "\n"
          ]
        },
        {
          "output_type": "stream",
          "name": "stdout",
          "text": [
            "Chain 4 Iteration: 100 / 1000 [ 10%]  (Warmup) \n",
            "Chain 1 Iteration: 100 / 1000 [ 10%]  (Warmup) \n",
            "Chain 2 Iteration: 100 / 1000 [ 10%]  (Warmup) \n",
            "Chain 3 Iteration: 100 / 1000 [ 10%]  (Warmup) \n",
            "Chain 4 Iteration: 200 / 1000 [ 20%]  (Warmup) \n",
            "Chain 1 Iteration: 200 / 1000 [ 20%]  (Warmup) \n",
            "Chain 2 Iteration: 200 / 1000 [ 20%]  (Warmup) \n",
            "Chain 4 Iteration: 300 / 1000 [ 30%]  (Warmup) \n",
            "Chain 3 Iteration: 200 / 1000 [ 20%]  (Warmup) \n",
            "Chain 1 Iteration: 300 / 1000 [ 30%]  (Warmup) \n",
            "Chain 2 Iteration: 300 / 1000 [ 30%]  (Warmup) \n",
            "Chain 3 Iteration: 300 / 1000 [ 30%]  (Warmup) \n",
            "Chain 4 Iteration: 400 / 1000 [ 40%]  (Warmup) \n",
            "Chain 1 Iteration: 400 / 1000 [ 40%]  (Warmup) \n",
            "Chain 3 Iteration: 400 / 1000 [ 40%]  (Warmup) \n",
            "Chain 2 Iteration: 400 / 1000 [ 40%]  (Warmup) \n",
            "Chain 4 Iteration: 500 / 1000 [ 50%]  (Warmup) \n",
            "Chain 4 Iteration: 501 / 1000 [ 50%]  (Sampling) \n",
            "Chain 1 Iteration: 500 / 1000 [ 50%]  (Warmup) \n",
            "Chain 2 Iteration: 500 / 1000 [ 50%]  (Warmup) \n",
            "Chain 2 Iteration: 501 / 1000 [ 50%]  (Sampling) \n",
            "Chain 3 Iteration: 500 / 1000 [ 50%]  (Warmup) \n",
            "Chain 3 Iteration: 501 / 1000 [ 50%]  (Sampling) \n",
            "Chain 1 Iteration: 501 / 1000 [ 50%]  (Sampling) \n",
            "Chain 4 Iteration: 600 / 1000 [ 60%]  (Sampling) \n",
            "Chain 3 Iteration: 600 / 1000 [ 60%]  (Sampling) \n",
            "Chain 2 Iteration: 600 / 1000 [ 60%]  (Sampling) \n",
            "Chain 1 Iteration: 600 / 1000 [ 60%]  (Sampling) \n",
            "Chain 4 Iteration: 700 / 1000 [ 70%]  (Sampling) \n",
            "Chain 3 Iteration: 700 / 1000 [ 70%]  (Sampling) \n",
            "Chain 2 Iteration: 700 / 1000 [ 70%]  (Sampling) \n",
            "Chain 3 Iteration: 800 / 1000 [ 80%]  (Sampling) \n",
            "Chain 4 Iteration: 800 / 1000 [ 80%]  (Sampling) \n",
            "Chain 2 Iteration: 800 / 1000 [ 80%]  (Sampling) \n",
            "Chain 1 Iteration: 700 / 1000 [ 70%]  (Sampling) \n",
            "Chain 3 Iteration: 900 / 1000 [ 90%]  (Sampling) \n",
            "Chain 4 Iteration: 900 / 1000 [ 90%]  (Sampling) \n",
            "Chain 2 Iteration: 900 / 1000 [ 90%]  (Sampling) \n",
            "Chain 3 Iteration: 1000 / 1000 [100%]  (Sampling) \n",
            "Chain 3 finished in 61.4 seconds.\n",
            "Chain 1 Iteration: 800 / 1000 [ 80%]  (Sampling) \n",
            "Chain 2 Iteration: 1000 / 1000 [100%]  (Sampling) \n",
            "Chain 2 finished in 63.4 seconds.\n",
            "Chain 4 Iteration: 1000 / 1000 [100%]  (Sampling) \n",
            "Chain 4 finished in 63.3 seconds.\n",
            "Chain 1 Iteration: 900 / 1000 [ 90%]  (Sampling) \n",
            "Chain 1 Iteration: 1000 / 1000 [100%]  (Sampling) \n",
            "Chain 1 finished in 66.2 seconds.\n",
            "\n",
            "All 4 chains finished successfully.\n",
            "Mean chain execution time: 63.6 seconds.\n",
            "Total execution time: 66.4 seconds.\n",
            "\n"
          ]
        }
      ]
    },
    {
      "cell_type": "code",
      "source": [
        "round(precis(m),2)"
      ],
      "metadata": {
        "colab": {
          "base_uri": "https://localhost:8080/",
          "height": 289
        },
        "id": "sbUbrSygMUoB",
        "outputId": "30680be1-f04e-4775-8183-39ae3fd89390"
      },
      "execution_count": null,
      "outputs": [
        {
          "output_type": "stream",
          "name": "stderr",
          "text": [
            "126 vector or matrix parameters hidden. Use depth=2 to show them.\n",
            "\n"
          ]
        },
        {
          "output_type": "display_data",
          "data": {
            "text/html": [
              "<table class=\"dataframe\">\n",
              "<caption>A data.frame: 5 × 6</caption>\n",
              "<thead>\n",
              "\t<tr><th></th><th scope=col>mean</th><th scope=col>sd</th><th scope=col>5.5%</th><th scope=col>94.5%</th><th scope=col>rhat</th><th scope=col>ess_bulk</th></tr>\n",
              "\t<tr><th></th><th scope=col>&lt;dbl&gt;</th><th scope=col>&lt;dbl&gt;</th><th scope=col>&lt;dbl&gt;</th><th scope=col>&lt;dbl&gt;</th><th scope=col>&lt;dbl&gt;</th><th scope=col>&lt;dbl&gt;</th></tr>\n",
              "</thead>\n",
              "<tbody>\n",
              "\t<tr><th scope=row>mu_a</th><td>-0.54</td><td>0.11</td><td>-0.72</td><td>-0.35</td><td>1</td><td>1082.85</td></tr>\n",
              "\t<tr><th scope=row>mu_b</th><td> 0.75</td><td>0.17</td><td> 0.48</td><td> 1.03</td><td>1</td><td> 956.34</td></tr>\n",
              "\t<tr><th scope=row>b_age</th><td>-0.21</td><td>0.07</td><td>-0.32</td><td>-0.10</td><td>1</td><td>2158.19</td></tr>\n",
              "\t<tr><th scope=row>b_children</th><td> 0.46</td><td>0.07</td><td> 0.35</td><td> 0.57</td><td>1</td><td>2175.10</td></tr>\n",
              "\t<tr><th scope=row>b_ageXchildren</th><td>-0.31</td><td>0.06</td><td>-0.41</td><td>-0.20</td><td>1</td><td>1779.53</td></tr>\n",
              "</tbody>\n",
              "</table>\n"
            ],
            "text/markdown": "\nA data.frame: 5 × 6\n\n| <!--/--> | mean &lt;dbl&gt; | sd &lt;dbl&gt; | 5.5% &lt;dbl&gt; | 94.5% &lt;dbl&gt; | rhat &lt;dbl&gt; | ess_bulk &lt;dbl&gt; |\n|---|---|---|---|---|---|---|\n| mu_a | -0.54 | 0.11 | -0.72 | -0.35 | 1 | 1082.85 |\n| mu_b |  0.75 | 0.17 |  0.48 |  1.03 | 1 |  956.34 |\n| b_age | -0.21 | 0.07 | -0.32 | -0.10 | 1 | 2158.19 |\n| b_children |  0.46 | 0.07 |  0.35 |  0.57 | 1 | 2175.10 |\n| b_ageXchildren | -0.31 | 0.06 | -0.41 | -0.20 | 1 | 1779.53 |\n\n",
            "text/latex": "A data.frame: 5 × 6\n\\begin{tabular}{r|llllll}\n  & mean & sd & 5.5\\% & 94.5\\% & rhat & ess\\_bulk\\\\\n  & <dbl> & <dbl> & <dbl> & <dbl> & <dbl> & <dbl>\\\\\n\\hline\n\tmu\\_a & -0.54 & 0.11 & -0.72 & -0.35 & 1 & 1082.85\\\\\n\tmu\\_b &  0.75 & 0.17 &  0.48 &  1.03 & 1 &  956.34\\\\\n\tb\\_age & -0.21 & 0.07 & -0.32 & -0.10 & 1 & 2158.19\\\\\n\tb\\_children &  0.46 & 0.07 &  0.35 &  0.57 & 1 & 2175.10\\\\\n\tb\\_ageXchildren & -0.31 & 0.06 & -0.41 & -0.20 & 1 & 1779.53\\\\\n\\end{tabular}\n",
            "text/plain": [
              "               mean  sd   5.5%  94.5% rhat ess_bulk\n",
              "mu_a           -0.54 0.11 -0.72 -0.35 1    1082.85 \n",
              "mu_b            0.75 0.17  0.48  1.03 1     956.34 \n",
              "b_age          -0.21 0.07 -0.32 -0.10 1    2158.19 \n",
              "b_children      0.46 0.07  0.35  0.57 1    2175.10 \n",
              "b_ageXchildren -0.31 0.06 -0.41 -0.20 1    1779.53 "
            ]
          },
          "metadata": {}
        }
      ]
    },
    {
      "cell_type": "markdown",
      "source": [
        "The `mu_a` and `mu_b` parameters haven't changed that much from problem 14H1.Let's focus on the effects of age and children.\n",
        "\n",
        "**Age:**\n",
        "After accounting for everything else in the model, older women are less likely to use contraception.  Perhaps this reflects a tendency to lose fertility or discover they are infertile, or an increasing desire to have children in their remaining fertile years.  \n",
        "\n",
        "The effect of age is enhanced with children, as evidenced by the negative interaction term; the more children, the less likely older women are to use contraception.  This may again reflect the same reasons mentioned for the effect of age, or it may just reflect a general disposition against contraception (since women with more kids should tend to be older and show a lack of contraception use).\n",
        "\n",
        "\\\n",
        "\n",
        "**Children:**\n",
        "More children lead to more contracptive use.  This may be simple family planning.\n",
        "\n",
        "Through the lens of children, the interaction term is interpretted like \"the effect of having children is diminished in older women\"."
      ],
      "metadata": {
        "id": "nH5xHNTpNL8y"
      }
    },
    {
      "cell_type": "markdown",
      "source": [
        "### 14H3\n",
        "\n",
        "Modify any models from 14H2 that contained that children variable and model the variable now as a monotonic ordered category, like education from the week we did ordered categories. Education in that example had 8 categories. Children here will have fewer (no one in the sample had 8 children). So modify the code appropriately. What do you conclude about the causal influence of each additional child on use of contraception?\n",
        "\n",
        "#### Answer\n",
        "Our model from 14H2 is\n",
        "\n",
        "```\n",
        "m <- ulam(\n",
        "  alist(\n",
        "    contraception ~ dbinom(1,p),\n",
        "      logit(p) <- a[district] +\n",
        "                  b_urban[district]*urban +\n",
        "                  b_age*age +\n",
        "                  b_children*children +\n",
        "                  b_ageXchildren*age*children,\n",
        "        c(a,b_urban)[district] ~ multi_normal(c(mu_a, mu_b), Rho, Sigma),\n",
        "          mu_a ~ dnorm(0,1),\n",
        "          mu_b ~ dnorm(0,1),\n",
        "          Rho ~ lkj_corr(2),\n",
        "          Sigma ~ dexp(1),\n",
        "        b_age ~ dnorm(0,1),\n",
        "        b_children ~ dnorm(0,1),\n",
        "        b_ageXchildren ~ dnorm(0,1)\n",
        "  ), data=dlist,\n",
        "     chains=4,\n",
        "     cores=4,\n",
        "     iter=1000\n",
        ")\n",
        "```"
      ],
      "metadata": {
        "id": "Wt6bqRKtvw8P"
      }
    },
    {
      "cell_type": "markdown",
      "source": [
        "Now we have the undertaking of changing the `children` variable from a numerical to an ordered categorical.  We need to start by adjusting our data."
      ],
      "metadata": {
        "id": "AfNn_L8nwHeH"
      }
    },
    {
      "cell_type": "code",
      "source": [
        "data(bangladesh)\n",
        "d <- bangladesh\n",
        "\n",
        "dlist <- list(\"district\"=as.integer(as.factor(d$district)),\n",
        "              \"contraception\"=d$use.contraception,\n",
        "              \"urban\"=d$urban,\n",
        "              \"age\"=standardize(d$age.centered),\n",
        "              \"children\"=d$living.children,\n",
        "              \"alpha\"=rep(2, times=max(d$living.children)-1),\n",
        "              \"maxChildren\" = max(d$living.children)) # one alpha parameter for each cutpoint"
      ],
      "metadata": {
        "id": "4paUTp-pwekX"
      },
      "execution_count": 10,
      "outputs": []
    },
    {
      "cell_type": "markdown",
      "source": [
        "Now we'll set up our model."
      ],
      "metadata": {
        "id": "EapLaG08xWDq"
      }
    },
    {
      "cell_type": "code",
      "source": [
        "m.ord <- ulam(\n",
        "  alist(\n",
        "    contraception ~ dbinom(1,p),\n",
        "      logit(p) <- a[district] +\n",
        "                  b_urban[district]*urban +\n",
        "                  b_age*age +\n",
        "                  b_children*sum(K[1:children]) +\n",
        "                  b_ageXchildren*age*sum(K[1:children]),\n",
        "        c(a,b_urban)[district] ~ multi_normal(c(mu_a, mu_b), Rho, Sigma),\n",
        "          mu_a ~ dnorm(0,1),\n",
        "          mu_b ~ dnorm(0,1),\n",
        "          Rho ~ lkj_corr(2),\n",
        "          Sigma ~ dexp(1),\n",
        "        b_age ~ dnorm(0,1),\n",
        "        b_children ~ dnorm(0,1),\n",
        "          vector[maxChildren]: K <<- append_row(0, delta),\n",
        "            simplex[maxChildren-1]: delta ~ dirichlet(alpha),\n",
        "        b_ageXchildren ~ dnorm(0,1)\n",
        "  ), data=dlist,\n",
        "     chains=4,\n",
        "     cores=4,\n",
        "     iter=1000\n",
        ")"
      ],
      "metadata": {
        "colab": {
          "base_uri": "https://localhost:8080/"
        },
        "collapsed": true,
        "id": "FWlIfg4NxY0v",
        "outputId": "e3aad520-4b2f-41e5-9682-5b209d70801b"
      },
      "execution_count": 11,
      "outputs": [
        {
          "output_type": "stream",
          "name": "stdout",
          "text": [
            "Running MCMC with 4 parallel chains, with 1 thread(s) per chain...\n",
            "\n",
            "Chain 1 Iteration:   1 / 1000 [  0%]  (Warmup) \n"
          ]
        },
        {
          "output_type": "stream",
          "name": "stderr",
          "text": [
            "Chain 1 Informational Message: The current Metropolis proposal is about to be rejected because of the following issue:\n",
            "\n",
            "Chain 1 Exception: lkj_corr_lpdf: Correlation matrix is not positive definite. (in '/tmp/Rtmpa7RH04/model-53624921293.stan', line 31, column 4 to column 24)\n",
            "\n",
            "Chain 1 If this warning occurs sporadically, such as for highly constrained variable types like covariance matrices, then the sampler is fine,\n",
            "\n",
            "Chain 1 but if this warning occurs often then your model may be either severely ill-conditioned or misspecified.\n",
            "\n",
            "Chain 1 \n",
            "\n"
          ]
        },
        {
          "output_type": "stream",
          "name": "stdout",
          "text": [
            "Chain 2 Iteration:   1 / 1000 [  0%]  (Warmup) \n"
          ]
        },
        {
          "output_type": "stream",
          "name": "stderr",
          "text": [
            "Chain 2 Informational Message: The current Metropolis proposal is about to be rejected because of the following issue:\n",
            "\n",
            "Chain 2 Exception: lkj_corr_lpdf: Correlation matrix is not positive definite. (in '/tmp/Rtmpa7RH04/model-53624921293.stan', line 31, column 4 to column 24)\n",
            "\n",
            "Chain 2 If this warning occurs sporadically, such as for highly constrained variable types like covariance matrices, then the sampler is fine,\n",
            "\n",
            "Chain 2 but if this warning occurs often then your model may be either severely ill-conditioned or misspecified.\n",
            "\n",
            "Chain 2 \n",
            "\n",
            "Chain 2 Informational Message: The current Metropolis proposal is about to be rejected because of the following issue:\n",
            "\n",
            "Chain 2 Exception: lkj_corr_lpdf: Correlation matrix is not positive definite. (in '/tmp/Rtmpa7RH04/model-53624921293.stan', line 31, column 4 to column 24)\n",
            "\n",
            "Chain 2 If this warning occurs sporadically, such as for highly constrained variable types like covariance matrices, then the sampler is fine,\n",
            "\n",
            "Chain 2 but if this warning occurs often then your model may be either severely ill-conditioned or misspecified.\n",
            "\n",
            "Chain 2 \n",
            "\n",
            "Chain 2 Informational Message: The current Metropolis proposal is about to be rejected because of the following issue:\n",
            "\n",
            "Chain 2 Exception: lkj_corr_lpdf: Correlation matrix is not positive definite. (in '/tmp/Rtmpa7RH04/model-53624921293.stan', line 31, column 4 to column 24)\n",
            "\n",
            "Chain 2 If this warning occurs sporadically, such as for highly constrained variable types like covariance matrices, then the sampler is fine,\n",
            "\n",
            "Chain 2 but if this warning occurs often then your model may be either severely ill-conditioned or misspecified.\n",
            "\n",
            "Chain 2 \n",
            "\n"
          ]
        },
        {
          "output_type": "stream",
          "name": "stdout",
          "text": [
            "Chain 3 Iteration:   1 / 1000 [  0%]  (Warmup) \n"
          ]
        },
        {
          "output_type": "stream",
          "name": "stderr",
          "text": [
            "Chain 3 Informational Message: The current Metropolis proposal is about to be rejected because of the following issue:\n",
            "\n",
            "Chain 3 Exception: lkj_corr_lpdf: Correlation matrix is not positive definite. (in '/tmp/Rtmpa7RH04/model-53624921293.stan', line 31, column 4 to column 24)\n",
            "\n",
            "Chain 3 If this warning occurs sporadically, such as for highly constrained variable types like covariance matrices, then the sampler is fine,\n",
            "\n",
            "Chain 3 but if this warning occurs often then your model may be either severely ill-conditioned or misspecified.\n",
            "\n",
            "Chain 3 \n",
            "\n",
            "Chain 3 Informational Message: The current Metropolis proposal is about to be rejected because of the following issue:\n",
            "\n",
            "Chain 3 Exception: lkj_corr_lpdf: Correlation matrix is not positive definite. (in '/tmp/Rtmpa7RH04/model-53624921293.stan', line 31, column 4 to column 24)\n",
            "\n",
            "Chain 3 If this warning occurs sporadically, such as for highly constrained variable types like covariance matrices, then the sampler is fine,\n",
            "\n",
            "Chain 3 but if this warning occurs often then your model may be either severely ill-conditioned or misspecified.\n",
            "\n",
            "Chain 3 \n",
            "\n",
            "Chain 3 Informational Message: The current Metropolis proposal is about to be rejected because of the following issue:\n",
            "\n",
            "Chain 3 Exception: lkj_corr_lpdf: Correlation matrix is not positive definite. (in '/tmp/Rtmpa7RH04/model-53624921293.stan', line 31, column 4 to column 24)\n",
            "\n",
            "Chain 3 If this warning occurs sporadically, such as for highly constrained variable types like covariance matrices, then the sampler is fine,\n",
            "\n",
            "Chain 3 but if this warning occurs often then your model may be either severely ill-conditioned or misspecified.\n",
            "\n",
            "Chain 3 \n",
            "\n",
            "Chain 3 Informational Message: The current Metropolis proposal is about to be rejected because of the following issue:\n",
            "\n",
            "Chain 3 Exception: lkj_corr_lpdf: Correlation matrix is not positive definite. (in '/tmp/Rtmpa7RH04/model-53624921293.stan', line 31, column 4 to column 24)\n",
            "\n",
            "Chain 3 If this warning occurs sporadically, such as for highly constrained variable types like covariance matrices, then the sampler is fine,\n",
            "\n",
            "Chain 3 but if this warning occurs often then your model may be either severely ill-conditioned or misspecified.\n",
            "\n",
            "Chain 3 \n",
            "\n",
            "Chain 3 Informational Message: The current Metropolis proposal is about to be rejected because of the following issue:\n",
            "\n",
            "Chain 3 Exception: lkj_corr_lpdf: Correlation matrix is not positive definite. (in '/tmp/Rtmpa7RH04/model-53624921293.stan', line 31, column 4 to column 24)\n",
            "\n",
            "Chain 3 If this warning occurs sporadically, such as for highly constrained variable types like covariance matrices, then the sampler is fine,\n",
            "\n",
            "Chain 3 but if this warning occurs often then your model may be either severely ill-conditioned or misspecified.\n",
            "\n",
            "Chain 3 \n",
            "\n",
            "Chain 3 Informational Message: The current Metropolis proposal is about to be rejected because of the following issue:\n",
            "\n",
            "Chain 3 Exception: lkj_corr_lpdf: Correlation matrix is not positive definite. (in '/tmp/Rtmpa7RH04/model-53624921293.stan', line 31, column 4 to column 24)\n",
            "\n",
            "Chain 3 If this warning occurs sporadically, such as for highly constrained variable types like covariance matrices, then the sampler is fine,\n",
            "\n",
            "Chain 3 but if this warning occurs often then your model may be either severely ill-conditioned or misspecified.\n",
            "\n",
            "Chain 3 \n",
            "\n",
            "Chain 3 Informational Message: The current Metropolis proposal is about to be rejected because of the following issue:\n",
            "\n",
            "Chain 3 Exception: lkj_corr_lpdf: Correlation matrix is not positive definite. (in '/tmp/Rtmpa7RH04/model-53624921293.stan', line 31, column 4 to column 24)\n",
            "\n",
            "Chain 3 If this warning occurs sporadically, such as for highly constrained variable types like covariance matrices, then the sampler is fine,\n",
            "\n",
            "Chain 3 but if this warning occurs often then your model may be either severely ill-conditioned or misspecified.\n",
            "\n",
            "Chain 3 \n",
            "\n"
          ]
        },
        {
          "output_type": "stream",
          "name": "stdout",
          "text": [
            "Chain 4 Iteration:   1 / 1000 [  0%]  (Warmup) \n"
          ]
        },
        {
          "output_type": "stream",
          "name": "stderr",
          "text": [
            "Chain 4 Informational Message: The current Metropolis proposal is about to be rejected because of the following issue:\n",
            "\n",
            "Chain 4 Exception: lkj_corr_lpdf: Correlation matrix is not positive definite. (in '/tmp/Rtmpa7RH04/model-53624921293.stan', line 31, column 4 to column 24)\n",
            "\n",
            "Chain 4 If this warning occurs sporadically, such as for highly constrained variable types like covariance matrices, then the sampler is fine,\n",
            "\n",
            "Chain 4 but if this warning occurs often then your model may be either severely ill-conditioned or misspecified.\n",
            "\n",
            "Chain 4 \n",
            "\n",
            "Chain 4 Informational Message: The current Metropolis proposal is about to be rejected because of the following issue:\n",
            "\n",
            "Chain 4 Exception: lkj_corr_lpdf: Correlation matrix is not positive definite. (in '/tmp/Rtmpa7RH04/model-53624921293.stan', line 31, column 4 to column 24)\n",
            "\n",
            "Chain 4 If this warning occurs sporadically, such as for highly constrained variable types like covariance matrices, then the sampler is fine,\n",
            "\n",
            "Chain 4 but if this warning occurs often then your model may be either severely ill-conditioned or misspecified.\n",
            "\n",
            "Chain 4 \n",
            "\n",
            "Chain 4 Informational Message: The current Metropolis proposal is about to be rejected because of the following issue:\n",
            "\n",
            "Chain 4 Exception: lkj_corr_lpdf: Correlation matrix is not positive definite. (in '/tmp/Rtmpa7RH04/model-53624921293.stan', line 31, column 4 to column 24)\n",
            "\n",
            "Chain 4 If this warning occurs sporadically, such as for highly constrained variable types like covariance matrices, then the sampler is fine,\n",
            "\n",
            "Chain 4 but if this warning occurs often then your model may be either severely ill-conditioned or misspecified.\n",
            "\n",
            "Chain 4 \n",
            "\n"
          ]
        },
        {
          "output_type": "stream",
          "name": "stdout",
          "text": [
            "Chain 1 Iteration: 100 / 1000 [ 10%]  (Warmup) \n",
            "Chain 4 Iteration: 100 / 1000 [ 10%]  (Warmup) \n",
            "Chain 2 Iteration: 100 / 1000 [ 10%]  (Warmup) \n",
            "Chain 3 Iteration: 100 / 1000 [ 10%]  (Warmup) \n",
            "Chain 4 Iteration: 200 / 1000 [ 20%]  (Warmup) \n",
            "Chain 2 Iteration: 200 / 1000 [ 20%]  (Warmup) \n",
            "Chain 1 Iteration: 200 / 1000 [ 20%]  (Warmup) \n",
            "Chain 3 Iteration: 200 / 1000 [ 20%]  (Warmup) \n",
            "Chain 2 Iteration: 300 / 1000 [ 30%]  (Warmup) \n",
            "Chain 1 Iteration: 300 / 1000 [ 30%]  (Warmup) \n",
            "Chain 3 Iteration: 300 / 1000 [ 30%]  (Warmup) \n",
            "Chain 4 Iteration: 300 / 1000 [ 30%]  (Warmup) \n",
            "Chain 2 Iteration: 400 / 1000 [ 40%]  (Warmup) \n",
            "Chain 1 Iteration: 400 / 1000 [ 40%]  (Warmup) \n",
            "Chain 3 Iteration: 400 / 1000 [ 40%]  (Warmup) \n",
            "Chain 4 Iteration: 400 / 1000 [ 40%]  (Warmup) \n",
            "Chain 2 Iteration: 500 / 1000 [ 50%]  (Warmup) \n",
            "Chain 2 Iteration: 501 / 1000 [ 50%]  (Sampling) \n",
            "Chain 1 Iteration: 500 / 1000 [ 50%]  (Warmup) \n",
            "Chain 1 Iteration: 501 / 1000 [ 50%]  (Sampling) \n",
            "Chain 3 Iteration: 500 / 1000 [ 50%]  (Warmup) \n",
            "Chain 3 Iteration: 501 / 1000 [ 50%]  (Sampling) \n",
            "Chain 4 Iteration: 500 / 1000 [ 50%]  (Warmup) \n",
            "Chain 4 Iteration: 501 / 1000 [ 50%]  (Sampling) \n",
            "Chain 2 Iteration: 600 / 1000 [ 60%]  (Sampling) \n",
            "Chain 1 Iteration: 600 / 1000 [ 60%]  (Sampling) \n",
            "Chain 3 Iteration: 600 / 1000 [ 60%]  (Sampling) \n",
            "Chain 4 Iteration: 600 / 1000 [ 60%]  (Sampling) \n",
            "Chain 1 Iteration: 700 / 1000 [ 70%]  (Sampling) \n",
            "Chain 2 Iteration: 700 / 1000 [ 70%]  (Sampling) \n",
            "Chain 1 Iteration: 800 / 1000 [ 80%]  (Sampling) \n",
            "Chain 4 Iteration: 700 / 1000 [ 70%]  (Sampling) \n",
            "Chain 3 Iteration: 700 / 1000 [ 70%]  (Sampling) \n",
            "Chain 1 Iteration: 900 / 1000 [ 90%]  (Sampling) \n",
            "Chain 2 Iteration: 800 / 1000 [ 80%]  (Sampling) \n",
            "Chain 4 Iteration: 800 / 1000 [ 80%]  (Sampling) \n",
            "Chain 3 Iteration: 800 / 1000 [ 80%]  (Sampling) \n",
            "Chain 1 Iteration: 1000 / 1000 [100%]  (Sampling) \n",
            "Chain 1 finished in 104.6 seconds.\n",
            "Chain 2 Iteration: 900 / 1000 [ 90%]  (Sampling) \n",
            "Chain 4 Iteration: 900 / 1000 [ 90%]  (Sampling) \n",
            "Chain 3 Iteration: 900 / 1000 [ 90%]  (Sampling) \n",
            "Chain 4 Iteration: 1000 / 1000 [100%]  (Sampling) \n",
            "Chain 4 finished in 114.6 seconds.\n",
            "Chain 2 Iteration: 1000 / 1000 [100%]  (Sampling) \n",
            "Chain 2 finished in 115.0 seconds.\n",
            "Chain 3 Iteration: 1000 / 1000 [100%]  (Sampling) \n",
            "Chain 3 finished in 117.1 seconds.\n",
            "\n",
            "All 4 chains finished successfully.\n",
            "Mean chain execution time: 112.8 seconds.\n",
            "Total execution time: 117.3 seconds.\n",
            "\n"
          ]
        },
        {
          "output_type": "stream",
          "name": "stderr",
          "text": [
            "Warning: 1 of 4 chains had an E-BFMI less than 0.3.\n",
            "See https://mc-stan.org/misc/warnings for details.\n",
            "\n",
            "\n"
          ]
        }
      ]
    },
    {
      "cell_type": "code",
      "source": [
        "round(precis(m.ord),2)\n",
        "round(precis(m.ord, depth=3, pars=\"delta\"),2)"
      ],
      "metadata": {
        "colab": {
          "base_uri": "https://localhost:8080/",
          "height": 464
        },
        "id": "B9iKwBttzX9b",
        "outputId": "f10d9ac3-f5d6-4662-965c-83c5272ce2e1"
      },
      "execution_count": 14,
      "outputs": [
        {
          "output_type": "stream",
          "name": "stderr",
          "text": [
            "129 vector or matrix parameters hidden. Use depth=2 to show them.\n",
            "\n"
          ]
        },
        {
          "output_type": "display_data",
          "data": {
            "text/html": [
              "<table class=\"dataframe\">\n",
              "<caption>A data.frame: 5 × 6</caption>\n",
              "<thead>\n",
              "\t<tr><th></th><th scope=col>mean</th><th scope=col>sd</th><th scope=col>5.5%</th><th scope=col>94.5%</th><th scope=col>rhat</th><th scope=col>ess_bulk</th></tr>\n",
              "\t<tr><th></th><th scope=col>&lt;dbl&gt;</th><th scope=col>&lt;dbl&gt;</th><th scope=col>&lt;dbl&gt;</th><th scope=col>&lt;dbl&gt;</th><th scope=col>&lt;dbl&gt;</th><th scope=col>&lt;dbl&gt;</th></tr>\n",
              "</thead>\n",
              "<tbody>\n",
              "\t<tr><th scope=row>mu_a</th><td>-1.31</td><td>0.18</td><td>-1.59</td><td>-1.04</td><td>1.01</td><td> 433.18</td></tr>\n",
              "\t<tr><th scope=row>mu_b</th><td> 0.73</td><td>0.17</td><td> 0.46</td><td> 1.00</td><td>1.01</td><td>1044.21</td></tr>\n",
              "\t<tr><th scope=row>b_age</th><td> 0.11</td><td>0.14</td><td>-0.12</td><td> 0.33</td><td>1.01</td><td> 575.74</td></tr>\n",
              "\t<tr><th scope=row>b_children</th><td> 1.15</td><td>0.17</td><td> 0.87</td><td> 1.42</td><td>1.01</td><td> 497.62</td></tr>\n",
              "\t<tr><th scope=row>b_ageXchildren</th><td>-0.51</td><td>0.19</td><td>-0.81</td><td>-0.21</td><td>1.00</td><td> 666.87</td></tr>\n",
              "</tbody>\n",
              "</table>\n"
            ],
            "text/markdown": "\nA data.frame: 5 × 6\n\n| <!--/--> | mean &lt;dbl&gt; | sd &lt;dbl&gt; | 5.5% &lt;dbl&gt; | 94.5% &lt;dbl&gt; | rhat &lt;dbl&gt; | ess_bulk &lt;dbl&gt; |\n|---|---|---|---|---|---|---|\n| mu_a | -1.31 | 0.18 | -1.59 | -1.04 | 1.01 |  433.18 |\n| mu_b |  0.73 | 0.17 |  0.46 |  1.00 | 1.01 | 1044.21 |\n| b_age |  0.11 | 0.14 | -0.12 |  0.33 | 1.01 |  575.74 |\n| b_children |  1.15 | 0.17 |  0.87 |  1.42 | 1.01 |  497.62 |\n| b_ageXchildren | -0.51 | 0.19 | -0.81 | -0.21 | 1.00 |  666.87 |\n\n",
            "text/latex": "A data.frame: 5 × 6\n\\begin{tabular}{r|llllll}\n  & mean & sd & 5.5\\% & 94.5\\% & rhat & ess\\_bulk\\\\\n  & <dbl> & <dbl> & <dbl> & <dbl> & <dbl> & <dbl>\\\\\n\\hline\n\tmu\\_a & -1.31 & 0.18 & -1.59 & -1.04 & 1.01 &  433.18\\\\\n\tmu\\_b &  0.73 & 0.17 &  0.46 &  1.00 & 1.01 & 1044.21\\\\\n\tb\\_age &  0.11 & 0.14 & -0.12 &  0.33 & 1.01 &  575.74\\\\\n\tb\\_children &  1.15 & 0.17 &  0.87 &  1.42 & 1.01 &  497.62\\\\\n\tb\\_ageXchildren & -0.51 & 0.19 & -0.81 & -0.21 & 1.00 &  666.87\\\\\n\\end{tabular}\n",
            "text/plain": [
              "               mean  sd   5.5%  94.5% rhat ess_bulk\n",
              "mu_a           -1.31 0.18 -1.59 -1.04 1.01  433.18 \n",
              "mu_b            0.73 0.17  0.46  1.00 1.01 1044.21 \n",
              "b_age           0.11 0.14 -0.12  0.33 1.01  575.74 \n",
              "b_children      1.15 0.17  0.87  1.42 1.01  497.62 \n",
              "b_ageXchildren -0.51 0.19 -0.81 -0.21 1.00  666.87 "
            ]
          },
          "metadata": {}
        },
        {
          "output_type": "display_data",
          "data": {
            "text/html": [
              "<table class=\"dataframe\">\n",
              "<caption>A data.frame: 3 × 6</caption>\n",
              "<thead>\n",
              "\t<tr><th></th><th scope=col>mean</th><th scope=col>sd</th><th scope=col>5.5%</th><th scope=col>94.5%</th><th scope=col>rhat</th><th scope=col>ess_bulk</th></tr>\n",
              "\t<tr><th></th><th scope=col>&lt;dbl&gt;</th><th scope=col>&lt;dbl&gt;</th><th scope=col>&lt;dbl&gt;</th><th scope=col>&lt;dbl&gt;</th><th scope=col>&lt;dbl&gt;</th><th scope=col>&lt;dbl&gt;</th></tr>\n",
              "</thead>\n",
              "<tbody>\n",
              "\t<tr><th scope=row>delta[1]</th><td>0.59</td><td>0.10</td><td>0.43</td><td>0.75</td><td>1.00</td><td>1025.30</td></tr>\n",
              "\t<tr><th scope=row>delta[2]</th><td>0.22</td><td>0.10</td><td>0.07</td><td>0.37</td><td>1.00</td><td>2307.17</td></tr>\n",
              "\t<tr><th scope=row>delta[3]</th><td>0.19</td><td>0.09</td><td>0.05</td><td>0.35</td><td>1.01</td><td>1503.54</td></tr>\n",
              "</tbody>\n",
              "</table>\n"
            ],
            "text/markdown": "\nA data.frame: 3 × 6\n\n| <!--/--> | mean &lt;dbl&gt; | sd &lt;dbl&gt; | 5.5% &lt;dbl&gt; | 94.5% &lt;dbl&gt; | rhat &lt;dbl&gt; | ess_bulk &lt;dbl&gt; |\n|---|---|---|---|---|---|---|\n| delta[1] | 0.59 | 0.10 | 0.43 | 0.75 | 1.00 | 1025.30 |\n| delta[2] | 0.22 | 0.10 | 0.07 | 0.37 | 1.00 | 2307.17 |\n| delta[3] | 0.19 | 0.09 | 0.05 | 0.35 | 1.01 | 1503.54 |\n\n",
            "text/latex": "A data.frame: 3 × 6\n\\begin{tabular}{r|llllll}\n  & mean & sd & 5.5\\% & 94.5\\% & rhat & ess\\_bulk\\\\\n  & <dbl> & <dbl> & <dbl> & <dbl> & <dbl> & <dbl>\\\\\n\\hline\n\tdelta{[}1{]} & 0.59 & 0.10 & 0.43 & 0.75 & 1.00 & 1025.30\\\\\n\tdelta{[}2{]} & 0.22 & 0.10 & 0.07 & 0.37 & 1.00 & 2307.17\\\\\n\tdelta{[}3{]} & 0.19 & 0.09 & 0.05 & 0.35 & 1.01 & 1503.54\\\\\n\\end{tabular}\n",
            "text/plain": [
              "         mean sd   5.5% 94.5% rhat ess_bulk\n",
              "delta[1] 0.59 0.10 0.43 0.75  1.00 1025.30 \n",
              "delta[2] 0.22 0.10 0.07 0.37  1.00 2307.17 \n",
              "delta[3] 0.19 0.09 0.05 0.35  1.01 1503.54 "
            ]
          },
          "metadata": {}
        }
      ]
    },
    {
      "cell_type": "markdown",
      "source": [
        "Compared to `m` in 14H2, the effect of age `b_age` has gone from negative to ambivalent; the other `depth=1` coefficients are directionally the same.\n",
        "\n",
        "Looking now at the `delta` parameters, the rank of effects is `delta[1] > delta[2] > delta[3]`--having a 2nd child versus a 3rd, having a 3rd versus a 4th.  In other words, having a 2nd child gives a larger boost to contraception use than having a 3rd, and having a 3rd has more impact than having a 4th.\n",
        "\n",
        "It would be interesting to know the effect of having 0 children, but this isn't in the dataset."
      ],
      "metadata": {
        "id": "lGWKqDjV0PDD"
      }
    }
  ]
}
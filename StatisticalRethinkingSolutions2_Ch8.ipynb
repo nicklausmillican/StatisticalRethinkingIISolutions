{
  "nbformat": 4,
  "nbformat_minor": 0,
  "metadata": {
    "colab": {
      "provenance": [],
      "authorship_tag": "ABX9TyObAgVBAmwwnzjj5Kh34NdN",
      "include_colab_link": true
    },
    "kernelspec": {
      "name": "ir",
      "display_name": "R"
    },
    "language_info": {
      "name": "R"
    }
  },
  "cells": [
    {
      "cell_type": "markdown",
      "metadata": {
        "id": "view-in-github",
        "colab_type": "text"
      },
      "source": [
        "<a href=\"https://colab.research.google.com/github/nicklausmillican/StatisticalRethinkingIISolutions/blob/main/StatisticalRethinkingSolutions2_Ch8.ipynb\" target=\"_parent\"><img src=\"https://colab.research.google.com/assets/colab-badge.svg\" alt=\"Open In Colab\"/></a>"
      ]
    },
    {
      "cell_type": "markdown",
      "source": [
        "# Chapter 8"
      ],
      "metadata": {
        "id": "TX44yv15HT9X"
      }
    },
    {
      "cell_type": "code",
      "execution_count": null,
      "metadata": {
        "id": "1JPYvU_ERsQ-",
        "colab": {
          "base_uri": "https://localhost:8080/"
        },
        "outputId": "0d2d77ac-205b-4cf6-f3bc-a45897b717fd"
      },
      "outputs": [
        {
          "output_type": "stream",
          "name": "stderr",
          "text": [
            "Installing packages into ‘/usr/local/lib/R/site-library’\n",
            "(as ‘lib’ is unspecified)\n",
            "\n",
            "also installing the dependencies ‘httpuv’, ‘xtable’, ‘sourcetools’, ‘later’, ‘promises’, ‘numDeriv’, ‘shiny’, ‘downlit’, ‘htmlwidgets’, ‘abind’, ‘tensorA’, ‘distributional’, ‘Rcpp’, ‘miniUI’, ‘pkgdown’, ‘profvis’, ‘urlchecker’, ‘checkmate’, ‘matrixStats’, ‘posterior’, ‘V8’\n",
            "\n",
            "\n",
            "Downloading GitHub repo rmcelreath/rethinking@slim\n",
            "\n"
          ]
        },
        {
          "output_type": "stream",
          "name": "stdout",
          "text": [
            "shape (NA -> 1.4.6.1) [CRAN]\n"
          ]
        },
        {
          "output_type": "stream",
          "name": "stderr",
          "text": [
            "Installing 1 packages: shape\n",
            "\n",
            "Installing package into ‘/usr/local/lib/R/site-library’\n",
            "(as ‘lib’ is unspecified)\n",
            "\n"
          ]
        },
        {
          "output_type": "stream",
          "name": "stdout",
          "text": [
            "\u001b[36m──\u001b[39m \u001b[36mR CMD build\u001b[39m \u001b[36m─────────────────────────────────────────────────────────────────\u001b[39m\n",
            "* checking for file ‘/tmp/RtmpAgTvmt/remotes1b55b214b8b/rmcelreath-rethinking-cbcb8ba/DESCRIPTION’ ... OK\n",
            "* preparing ‘rethinking’:\n",
            "* checking DESCRIPTION meta-information ... OK\n",
            "* checking for LF line-endings in source and make files and shell scripts\n",
            "* checking for empty or unneeded directories\n",
            "* looking to see if a ‘data/datalist’ file should be added\n",
            "* building ‘rethinking_2.13.2.tar.gz’\n",
            "\n"
          ]
        },
        {
          "output_type": "stream",
          "name": "stderr",
          "text": [
            "Installing package into ‘/usr/local/lib/R/site-library’\n",
            "(as ‘lib’ is unspecified)\n",
            "\n"
          ]
        }
      ],
      "source": [
        "install.packages(c(\"coda\",\"mvtnorm\",\"devtools\",\"loo\",\"dagitty\"))\n",
        "devtools::install_github(\"rmcelreath/rethinking@slim\")"
      ]
    },
    {
      "cell_type": "code",
      "source": [
        "library(rethinking)"
      ],
      "metadata": {
        "id": "FFONo5eeR7ir",
        "colab": {
          "base_uri": "https://localhost:8080/"
        },
        "outputId": "b55d1c47-5b47-4ce7-e30c-f804f076086a"
      },
      "execution_count": null,
      "outputs": [
        {
          "output_type": "stream",
          "name": "stderr",
          "text": [
            "Loading required package: parallel\n",
            "\n",
            "rethinking (Version 2.13.2)\n",
            "\n",
            "\n",
            "Attaching package: ‘rethinking’\n",
            "\n",
            "\n",
            "The following object is masked from ‘package:stats’:\n",
            "\n",
            "    rstudent\n",
            "\n",
            "\n"
          ]
        }
      ]
    },
    {
      "cell_type": "markdown",
      "source": [
        "## Easy"
      ],
      "metadata": {
        "id": "pJvvqpdCSIOj"
      }
    },
    {
      "cell_type": "markdown",
      "source": [
        "### 8E1\n",
        "#### Question\n",
        "For each of the causal relationships below, name a hypothetical third variable that would lead to an interaction effect.  \n",
        "> (1) Bread dough rises because of yeast.  \n",
        "\n",
        "> (2) Education leads to higher income.  \n",
        "\n",
        "> (3) Gasoline makes a car go.\n",
        "\n",
        "#### Answers\n",
        "> (1) (Had to google \"How does yeast make bread rise\")  Yeast gobbles up sugar in the dough, releasing gasses that are trapped in the matrix of the dough and causes rising.  This means that *sugar* is a third variable that would lead to an interaction; something like $rise = \\alpha + ... + \\beta_{y \\times s} \\times yeast \\times sugar$.\n",
        "\n",
        "> (2) Education may lead to higher income, depending on the area of specialization.  E.g., an investment banker will probably make more than a nurse.  So there is an interaction term like $income = \\alpha + ... + \\beta_{e \\times s} \\times education \\times specialization$\n",
        "\n",
        "> (3) Gas powers a car, contingent on the proper function of the rest of the car.  E.g., a car with no wheels will not move regardless of how much gas you give it.  $GO = \\alpha + ... + \\beta_{g \\times w} \\times gas \\times functioning$\n"
      ],
      "metadata": {
        "id": "nm9yt5lBSKk0"
      }
    },
    {
      "cell_type": "markdown",
      "source": [
        "### 8E2-8E3\n",
        "#### Question E2\n",
        "Which of the following explanations invokes an interaction?  \n",
        "\n",
        "> (1) Caramelizing onions requires cooking over low heat and making sure the onions do not dry out.  \n",
        "\n",
        "> (2) A car will go faster when it has more cylinders or when it has a better fuel injector.  \n",
        "\n",
        "> (3) Most people acquire their political beliefs from their parents, unless they get them instead from their friends.  \n",
        "\n",
        "> (4) Intelligent animal species tend to be either highly social or have manipulative appendages (hands, tentacles, etc.).\n",
        "\n",
        "#### Question E3\n",
        "For each of the explanations in 8E2, write a linear model that expresses the stated relationship.\n",
        "\n",
        "##### Answers\n",
        "> (1) I don't know how carmelizing works, either.  Google tells me that it involves the non-enzymatic breakdown of sugar and the removal of water (which seems to contradict the question).  I think there's an interaction here since (I imagine, heat will not carmelize an onion if it's submerged in a pot of boiling water--so the effect of heat depends on moisture.  $$C = \\beta_H H + \\beta_M M + \\beta_{HM} H M$$.  I don't have an intercept here because I imagine that no heat will produce no carmelizing.\n",
        "\n",
        "> (2) I'm going to imagine that this could be an interactive effect: a car with more cylinders will perform better-than-linearly with more better fuel injectors.  In this case, $$S = \\beta_C C + \\beta_F F + \\beta_{CF} C F$$.  But I could also imagine that any ole fuel injector will do the trick as long as it works, in which case, this is additive like $$S = \\beta_C C + \\beta_F F$$. Again, I don't have an intercept because a car with no cylinders probably won't go very fast...\n",
        "\n",
        "> (3) This one is tricky.  It's describing an either-or situation.  Either a person gets their political beliefs from their parents or from their friends.  But this is NOT an interaction, as we've learned so far, since the effect of parents does not depend on the effect of friends.  We will later learn that the one's political beliefs may not be a linear function, and that this will cause interaction between parents and friends...just not interaction in the way we've learned so far.  So I'm going to say a linear model is like $$P = \\alpha + \\beta_I I$$, where $I$ is an indicator variable representing the source of influence (parents or friends).\n",
        "\n",
        "> (4) No interaction here: the effect of sociality is not be described as being modulated by the effect of appendages (and vice versa).  $$I = \\alpha + \\beta_S S + \\beta_A A$$"
      ],
      "metadata": {
        "id": "7xTPcUjtaziT"
      }
    },
    {
      "cell_type": "markdown",
      "source": [
        "## Medium"
      ],
      "metadata": {
        "id": "L5Qe-9oexxyl"
      }
    },
    {
      "cell_type": "markdown",
      "source": [
        "### 8M1\n",
        "Recall the tulips example from the chapter. Suppose another set of treatments adjusted the temperature in the greenhouse over two levels: cold and hot. The data in the chapter were collected at the cold temperature. You find none of the plants grown under the hot temperature developed any blooms at all, regardless of the water and shade levels. Can you explain this result in terms of interactions between water, shade, and temperature?\n",
        "\n",
        "#### Answer\n",
        "In the chapter, the final model used was\n",
        "\n",
        "$$\\mu_i = \\alpha + \\beta_W w_i + \\beta_S s_i + \\beta_{WS} w_i s_i$$\n",
        "\n",
        "Now we're asked about another explanatory variable *heat*.  We find that *heat* has completely prevented any tulips in our sample to grow.  So apparently, there is an interaction of *water* and *shade* with *heat*: the effect of *water*, *shade*, and the interaction of *water and shade* depends on *heat*."
      ],
      "metadata": {
        "id": "RwSA-kFNx0CI"
      }
    },
    {
      "cell_type": "markdown",
      "source": [
        "### 8M2\n",
        "Can you invent a regression equation that would make the bloom size zero, whenever the temperature is hot?\n",
        "\n",
        "#### Answer\n",
        "We might think that a regression would look like\n",
        "\n",
        "$$\\mu_i = \\alpha + \\beta_W w_i + \\beta_S s_i + \\beta_H h_i +\n",
        "\\beta_{WS} w_i s_i + \\beta_{WH} w_i h_i + \\beta_{SH} s_i h_i +\n",
        "\\beta_{WSH} w_i s_i h_i$$\n",
        "\n",
        "but our results suggest something different.  In this formula, *heat* might zero-out any term that include $h$, but the means that terms $\\alpha + \\beta_W w_i + \\beta_S s_i + \\beta_{WS} w_i s_i$ could lead to non-zero blooms.  Apparently, *heat* interacts with these too.  So we might have the following regression instead:\n",
        "\n",
        "$$\\mu_i = (1 - h_i) (\\alpha + \\beta_W w_i + \\beta_S s_i + \\beta_{WS} w_i s_i)$$\n",
        "\n",
        "Now, when *heat* is applicable, $(1 - h_i) = 0$ such that $\\mu_i = 0$ too."
      ],
      "metadata": {
        "id": "L0Fqo5BPyOwq"
      }
    },
    {
      "cell_type": "markdown",
      "source": [
        "### 8M3\n",
        "In parts of North America, ravens depend upon wolves for their food. This is because ravens are carnivorous but cannot usually kill or open carcasses of prey. Wolves however can and do kill and tear open animals, and they tolerate ravens co-feeding at their kills. This species relationship is generally described as a “species interaction.” Can you invent a hypothetical set of data on raven population size in which this relationship would manifest as a statistical interaction? Do you think the biological interaction could be linear? Why or why not?\n",
        "\n",
        "#### Answer\n",
        "The way \"species interaction\" is described, it is NOT a *statistical* interaction.  The description of a species interaction is really describing a *statistical dependency*, where $P_{wolf}$ is an explanatory variable in a regression representing the outcome $P_{raven}$.  For example, the question could be describing a regression like:\n",
        "\n",
        "$$P_{raven} = \\alpha + \\beta_W P_{wolf} + ...$$\n",
        "\n",
        "In order for there to be a statistical interaction between $P_{raven}$ and $P_{wolf}$, $P_{raven}$ would have to enter the right-hand side of the regression--$P_{raven}$ would depend on itself (this can be modeled with differential equations, which the book will go with later chapters).\n",
        "\n",
        "Nevertheless, there may be (statistical) interaction terms in the regression for $P_{raven}$ that do not include $P_{raven}$ as an explanatory variable.  For example, the populations of small prey (which the ravens may be able to hunt themselves, without relying on the prowess of wolves) and the large prey (which the ravens can take advantage of via the efforts of wolves).  Now we might have several interaction terms.\n",
        "\n",
        "$$P_{raven} = \\alpha +\n",
        "\\beta_W P_{wolf} + \\beta_S P_{sm.prey} + \\beta_L P_{lg.prey} +\n",
        "\\beta_{WS} P_{wolf} P_{sm.prey} + \\beta_{WL} P_{wolf} P_{lg.prey} + \\beta_{SL} P_{sm.prey} P_{lg.prey} +\n",
        "\\beta_{WSL} P_{wolf} P_{sm.prey} P_{lg.prey}$$\n",
        "\n",
        "Some of these terms may not make sense in ecological reality.  For example, $\\beta_{WS} P_{wolf} P_{sm.prey} = \\beta_{SL} P_{sm.prey} P_{lg.prey} = 0$ if wolves don't hunt small prey and prey of different sizes don't affect the availability of either sized prey.  So we might have:\n",
        "\n",
        "$$P_{raven} = \\alpha +\n",
        "\\beta_W P_{wolf} + \\beta_S P_{sm.prey} + \\beta_L P_{lg.prey}\n",
        "+ \\beta_{WL} P_{wolf} P_{lg.prey} +\n",
        "\\beta_{WSL} P_{wolf} P_{sm.prey} P_{lg.prey}$$\n",
        "\n",
        "So let's simulate some data here."
      ],
      "metadata": {
        "id": "SA4rB4ppFnJ0"
      }
    },
    {
      "cell_type": "code",
      "source": [
        "n <- 1000\n",
        "pWolf <- round(runif(n=n, min=0, max=100), 0)\n",
        "pSm <- round(runif(n=n, min=0, max=100), 0)\n",
        "pLg <- round(pmax(runif(n=n, min=0, max=100) - 0.1*pWolf, 0), 0)\n",
        "pRaven <- round(50 + 0*pWolf + 0.0001*pSm + 0.0002*pWolf*pLg + 0.0003*pWolf*pSm*pLg, 0)\n",
        "\n",
        "d <- data.frame(pWolf=pWolf, pSm=pSm, pLg=pLg, pRaven=pRaven)\n",
        "head(d)"
      ],
      "metadata": {
        "colab": {
          "base_uri": "https://localhost:8080/",
          "height": 286
        },
        "id": "1Otx-fd7MbgY",
        "outputId": "a9fbc5b9-9db4-43d3-af89-1eaec37e69f2"
      },
      "execution_count": 34,
      "outputs": [
        {
          "output_type": "display_data",
          "data": {
            "text/html": [
              "<table class=\"dataframe\">\n",
              "<caption>A data.frame: 6 × 4</caption>\n",
              "<thead>\n",
              "\t<tr><th></th><th scope=col>pWolf</th><th scope=col>pSm</th><th scope=col>pLg</th><th scope=col>pRaven</th></tr>\n",
              "\t<tr><th></th><th scope=col>&lt;dbl&gt;</th><th scope=col>&lt;dbl&gt;</th><th scope=col>&lt;dbl&gt;</th><th scope=col>&lt;dbl&gt;</th></tr>\n",
              "</thead>\n",
              "<tbody>\n",
              "\t<tr><th scope=row>1</th><td> 6</td><td>10</td><td>38</td><td> 51</td></tr>\n",
              "\t<tr><th scope=row>2</th><td>33</td><td>56</td><td>82</td><td> 96</td></tr>\n",
              "\t<tr><th scope=row>3</th><td>52</td><td>14</td><td>80</td><td> 68</td></tr>\n",
              "\t<tr><th scope=row>4</th><td>85</td><td>93</td><td>43</td><td>153</td></tr>\n",
              "\t<tr><th scope=row>5</th><td>23</td><td> 1</td><td>87</td><td> 51</td></tr>\n",
              "\t<tr><th scope=row>6</th><td>13</td><td>28</td><td>12</td><td> 51</td></tr>\n",
              "</tbody>\n",
              "</table>\n"
            ],
            "text/markdown": "\nA data.frame: 6 × 4\n\n| <!--/--> | pWolf &lt;dbl&gt; | pSm &lt;dbl&gt; | pLg &lt;dbl&gt; | pRaven &lt;dbl&gt; |\n|---|---|---|---|---|\n| 1 |  6 | 10 | 38 |  51 |\n| 2 | 33 | 56 | 82 |  96 |\n| 3 | 52 | 14 | 80 |  68 |\n| 4 | 85 | 93 | 43 | 153 |\n| 5 | 23 |  1 | 87 |  51 |\n| 6 | 13 | 28 | 12 |  51 |\n\n",
            "text/latex": "A data.frame: 6 × 4\n\\begin{tabular}{r|llll}\n  & pWolf & pSm & pLg & pRaven\\\\\n  & <dbl> & <dbl> & <dbl> & <dbl>\\\\\n\\hline\n\t1 &  6 & 10 & 38 &  51\\\\\n\t2 & 33 & 56 & 82 &  96\\\\\n\t3 & 52 & 14 & 80 &  68\\\\\n\t4 & 85 & 93 & 43 & 153\\\\\n\t5 & 23 &  1 & 87 &  51\\\\\n\t6 & 13 & 28 & 12 &  51\\\\\n\\end{tabular}\n",
            "text/plain": [
              "  pWolf pSm pLg pRaven\n",
              "1  6    10  38   51   \n",
              "2 33    56  82   96   \n",
              "3 52    14  80   68   \n",
              "4 85    93  43  153   \n",
              "5 23     1  87   51   \n",
              "6 13    28  12   51   "
            ]
          },
          "metadata": {}
        }
      ]
    }
  ]
}
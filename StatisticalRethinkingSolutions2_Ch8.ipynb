{
  "nbformat": 4,
  "nbformat_minor": 0,
  "metadata": {
    "colab": {
      "provenance": [],
      "authorship_tag": "ABX9TyML5+A/g4vQglgVYnGL/uQL",
      "include_colab_link": true
    },
    "kernelspec": {
      "name": "ir",
      "display_name": "R"
    },
    "language_info": {
      "name": "R"
    }
  },
  "cells": [
    {
      "cell_type": "markdown",
      "metadata": {
        "id": "view-in-github",
        "colab_type": "text"
      },
      "source": [
        "<a href=\"https://colab.research.google.com/github/nicklausmillican/StatisticalRethinkingIISolutions/blob/main/StatisticalRethinkingSolutions2_Ch8.ipynb\" target=\"_parent\"><img src=\"https://colab.research.google.com/assets/colab-badge.svg\" alt=\"Open In Colab\"/></a>"
      ]
    },
    {
      "cell_type": "markdown",
      "source": [
        "# Chapter 8"
      ],
      "metadata": {
        "id": "TX44yv15HT9X"
      }
    },
    {
      "cell_type": "code",
      "execution_count": null,
      "metadata": {
        "id": "1JPYvU_ERsQ-",
        "colab": {
          "base_uri": "https://localhost:8080/"
        },
        "outputId": "b52fceae-0907-49b4-edca-15bf5d619ec2"
      },
      "outputs": [
        {
          "output_type": "stream",
          "name": "stderr",
          "text": [
            "Installing packages into ‘/usr/local/lib/R/site-library’\n",
            "(as ‘lib’ is unspecified)\n",
            "\n",
            "also installing the dependencies ‘httpuv’, ‘xtable’, ‘sourcetools’, ‘later’, ‘promises’, ‘numDeriv’, ‘shiny’, ‘downlit’, ‘htmlwidgets’, ‘abind’, ‘tensorA’, ‘distributional’, ‘Rcpp’, ‘miniUI’, ‘pkgdown’, ‘profvis’, ‘urlchecker’, ‘checkmate’, ‘matrixStats’, ‘posterior’, ‘V8’\n",
            "\n",
            "\n",
            "Downloading GitHub repo rmcelreath/rethinking@slim\n",
            "\n"
          ]
        },
        {
          "output_type": "stream",
          "name": "stdout",
          "text": [
            "shape (NA -> 1.4.6.1) [CRAN]\n"
          ]
        },
        {
          "output_type": "stream",
          "name": "stderr",
          "text": [
            "Installing 1 packages: shape\n",
            "\n",
            "Installing package into ‘/usr/local/lib/R/site-library’\n",
            "(as ‘lib’ is unspecified)\n",
            "\n"
          ]
        },
        {
          "output_type": "stream",
          "name": "stdout",
          "text": [
            "\u001b[36m──\u001b[39m \u001b[36mR CMD build\u001b[39m \u001b[36m─────────────────────────────────────────────────────────────────\u001b[39m\n",
            "* checking for file ‘/tmp/RtmpZrn38E/remotes18c4c02219c/rmcelreath-rethinking-cbcb8ba/DESCRIPTION’ ... OK\n",
            "* preparing ‘rethinking’:\n",
            "* checking DESCRIPTION meta-information ... OK\n",
            "* checking for LF line-endings in source and make files and shell scripts\n",
            "* checking for empty or unneeded directories\n",
            "* looking to see if a ‘data/datalist’ file should be added\n",
            "* building ‘rethinking_2.13.2.tar.gz’\n",
            "\n"
          ]
        },
        {
          "output_type": "stream",
          "name": "stderr",
          "text": [
            "Installing package into ‘/usr/local/lib/R/site-library’\n",
            "(as ‘lib’ is unspecified)\n",
            "\n"
          ]
        }
      ],
      "source": [
        "install.packages(c(\"coda\",\"mvtnorm\",\"devtools\",\"loo\",\"dagitty\"))\n",
        "devtools::install_github(\"rmcelreath/rethinking@slim\")"
      ]
    },
    {
      "cell_type": "code",
      "source": [
        "library(rethinking)"
      ],
      "metadata": {
        "id": "FFONo5eeR7ir",
        "colab": {
          "base_uri": "https://localhost:8080/"
        },
        "outputId": "b24fa2b8-f1f8-4812-9bda-ee2c6a5ac107"
      },
      "execution_count": null,
      "outputs": [
        {
          "output_type": "stream",
          "name": "stderr",
          "text": [
            "Loading required package: parallel\n",
            "\n",
            "rethinking (Version 2.13.2)\n",
            "\n",
            "\n",
            "Attaching package: ‘rethinking’\n",
            "\n",
            "\n",
            "The following object is masked from ‘package:stats’:\n",
            "\n",
            "    rstudent\n",
            "\n",
            "\n"
          ]
        }
      ]
    },
    {
      "cell_type": "markdown",
      "source": [
        "## Easy"
      ],
      "metadata": {
        "id": "pJvvqpdCSIOj"
      }
    },
    {
      "cell_type": "markdown",
      "source": [
        "### 8E1\n",
        "#### Question\n",
        "For each of the causal relationships below, name a hypothetical third variable that would lead to an interaction effect.  \n",
        "> (1) Bread dough rises because of yeast.  \n",
        "\n",
        "> (2) Education leads to higher income.  \n",
        "\n",
        "> (3) Gasoline makes a car go.\n",
        "\n",
        "#### Answers\n",
        "> (1) (Had to google \"How does yeast make bread rise\")  Yeast gobbles up sugar in the dough, releasing gasses that are trapped in the matrix of the dough and causes rising.  This means that *sugar* is a third variable that would lead to an interaction; something like $rise = \\alpha + ... + \\beta_{y \\times s} \\times yeast \\times sugar$.\n",
        "\n",
        "> (2) Education may lead to higher income, depending on the area of specialization.  E.g., an investment banker will probably make more than a nurse.  So there is an interaction term like $income = \\alpha + ... + \\beta_{e \\times s} \\times education \\times specialization$\n",
        "\n",
        "> (3) Gas powers a car, contingent on the proper function of the rest of the car.  E.g., a car with no wheels will not move regardless of how much gas you give it.  $GO = \\alpha + ... + \\beta_{g \\times w} \\times gas \\times functioning$\n"
      ],
      "metadata": {
        "id": "nm9yt5lBSKk0"
      }
    },
    {
      "cell_type": "markdown",
      "source": [
        "### 8E2-8E3\n",
        "#### Question E2\n",
        "Which of the following explanations invokes an interaction?  \n",
        "\n",
        "> (1) Caramelizing onions requires cooking over low heat and making sure the onions do not dry out.  \n",
        "\n",
        "> (2) A car will go faster when it has more cylinders or when it has a better fuel injector.  \n",
        "\n",
        "> (3) Most people acquire their political beliefs from their parents, unless they get them instead from their friends.  \n",
        "\n",
        "> (4) Intelligent animal species tend to be either highly social or have manipulative appendages (hands, tentacles, etc.).\n",
        "\n",
        "#### Question E3\n",
        "For each of the explanations in 8E2, write a linear model that expresses the stated relationship.\n",
        "\n",
        "##### Answers\n",
        "> (1) I don't know how carmelizing works, either.  Google tells me that it involves the non-enzymatic breakdown of sugar and the removal of water (which seems to contradict the question).  I think there's an interaction here since (I imagine, heat will not carmelize an onion if it's submerged in a pot of boiling water--so the effect of heat depends on moisture.  $$C = \\beta_H H + \\beta_M M + \\beta_{HM} H M$$.  I don't have an intercept here because I imagine that no heat will produce no carmelizing.\n",
        "\n",
        "> (2) I'm going to imagine that this could be an interactive effect: a car with more cylinders will perform better-than-linearly with more better fuel injectors.  In this case, $$S = \\beta_C C + \\beta_F F + \\beta_{CF} C F$$.  But I could also imagine that any ole fuel injector will do the trick as long as it works, in which case, this is additive like $$S = \\beta_C C + \\beta_F F$$. Again, I don't have an intercept because a car with no cylinders probably won't go very fast...\n",
        "\n",
        "> (3) This one is tricky.  It's describing an either-or situation.  Either a person gets their political beliefs from their parents or from their friends.  But this is NOT an interaction, as we've learned so far, since the effect of parents does not depend on the effect of friends.  We will later learn that the one's political beliefs may not be a linear function, and that this will cause interaction between parents and friends...just not interaction in the way we've learned so far.  So I'm going to say a linear model is like $$P = \\alpha + \\beta_I I$$, where $I$ is an indicator variable representing the source of influence (parents or friends).\n",
        "\n",
        "> (4) No interaction here: the effect of sociality is not be described as being modulated by the effect of appendages (and vice versa).  $$I = \\alpha + \\beta_S S + \\beta_A A$$"
      ],
      "metadata": {
        "id": "7xTPcUjtaziT"
      }
    }
  ]
}
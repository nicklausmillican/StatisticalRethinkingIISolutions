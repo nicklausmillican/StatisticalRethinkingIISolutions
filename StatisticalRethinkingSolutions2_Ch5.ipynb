{
  "nbformat": 4,
  "nbformat_minor": 0,
  "metadata": {
    "colab": {
      "provenance": [],
      "toc_visible": true,
      "authorship_tag": "ABX9TyMFoMJQj9Ye9GkpI/U7wLS6",
      "include_colab_link": true
    },
    "kernelspec": {
      "name": "ir",
      "display_name": "R"
    },
    "language_info": {
      "name": "R"
    }
  },
  "cells": [
    {
      "cell_type": "markdown",
      "metadata": {
        "id": "view-in-github",
        "colab_type": "text"
      },
      "source": [
        "<a href=\"https://colab.research.google.com/github/nicklausmillican/StatisticalRethinkingIISolutions/blob/main/StatisticalRethinkingSolutions2_Ch5.ipynb\" target=\"_parent\"><img src=\"https://colab.research.google.com/assets/colab-badge.svg\" alt=\"Open In Colab\"/></a>"
      ]
    },
    {
      "cell_type": "code",
      "execution_count": null,
      "metadata": {
        "id": "fQaSPdhWhvC0",
        "colab": {
          "base_uri": "https://localhost:8080/"
        },
        "outputId": "7538dce4-206d-401c-9d2e-50b7b8e45085"
      },
      "outputs": [
        {
          "output_type": "stream",
          "name": "stderr",
          "text": [
            "Installing packages into ‘/usr/local/lib/R/site-library’\n",
            "(as ‘lib’ is unspecified)\n",
            "\n",
            "also installing the dependencies ‘httpuv’, ‘xtable’, ‘sourcetools’, ‘later’, ‘promises’, ‘shiny’, ‘downlit’, ‘htmlwidgets’, ‘Rcpp’, ‘miniUI’, ‘pkgdown’, ‘profvis’, ‘urlchecker’, ‘checkmate’, ‘matrixStats’, ‘V8’\n",
            "\n",
            "\n",
            "Downloading GitHub repo rmcelreath/rethinking@slim\n",
            "\n"
          ]
        },
        {
          "output_type": "stream",
          "name": "stdout",
          "text": [
            "shape (NA -> 1.4.6) [CRAN]\n"
          ]
        },
        {
          "output_type": "stream",
          "name": "stderr",
          "text": [
            "Installing 1 packages: shape\n",
            "\n",
            "Installing package into ‘/usr/local/lib/R/site-library’\n",
            "(as ‘lib’ is unspecified)\n",
            "\n"
          ]
        },
        {
          "output_type": "stream",
          "name": "stdout",
          "text": [
            "\u001b[36m──\u001b[39m \u001b[36mR CMD build\u001b[39m \u001b[36m─────────────────────────────────────────────────────────────────\u001b[39m\n",
            "* checking for file ‘/tmp/RtmpN0r1ky/remotes23e75b71ccf/rmcelreath-rethinking-cbcb8ba/DESCRIPTION’ ... OK\n",
            "* preparing ‘rethinking’:\n",
            "* checking DESCRIPTION meta-information ... OK\n",
            "* checking for LF line-endings in source and make files and shell scripts\n",
            "* checking for empty or unneeded directories\n",
            "* looking to see if a ‘data/datalist’ file should be added\n",
            "* building ‘rethinking_2.13.2.tar.gz’\n",
            "\n"
          ]
        },
        {
          "output_type": "stream",
          "name": "stderr",
          "text": [
            "Installing package into ‘/usr/local/lib/R/site-library’\n",
            "(as ‘lib’ is unspecified)\n",
            "\n"
          ]
        }
      ],
      "source": [
        "install.packages(c(\"coda\",\"mvtnorm\",\"devtools\",\"loo\",\"dagitty\"))\n",
        "devtools::install_github(\"rmcelreath/rethinking@slim\")"
      ]
    },
    {
      "cell_type": "code",
      "source": [
        "library(rethinking)"
      ],
      "metadata": {
        "id": "OibDbbjVh5TT",
        "colab": {
          "base_uri": "https://localhost:8080/"
        },
        "outputId": "c8440091-30bc-4e32-f7e3-00391ad43ce4"
      },
      "execution_count": null,
      "outputs": [
        {
          "output_type": "stream",
          "name": "stderr",
          "text": [
            "Loading required package: parallel\n",
            "\n",
            "rethinking (Version 2.13.2)\n",
            "\n",
            "\n",
            "Attaching package: ‘rethinking’\n",
            "\n",
            "\n",
            "The following object is masked from ‘package:stats’:\n",
            "\n",
            "    rstudent\n",
            "\n",
            "\n"
          ]
        }
      ]
    },
    {
      "cell_type": "markdown",
      "source": [
        "# Chapter 5"
      ],
      "metadata": {
        "id": "qGMmLzTdjknz"
      }
    },
    {
      "cell_type": "markdown",
      "source": [
        "## Easy"
      ],
      "metadata": {
        "id": "33uSmkNejma5"
      }
    },
    {
      "cell_type": "markdown",
      "source": [
        "### 5E1\n",
        "#### Question\n",
        "Which of the linear models below are multiple linear regressions?\n",
        "1.   $\\mu_i = \\alpha + \\beta x_i$\n",
        "2.   $\\mu_i = \\beta_x x_i + \\beta_z z_i$\n",
        "3.   $\\mu_i = \\alpha + \\beta (x_i - z_i)$\n",
        "4.   $\\mu_i = \\alpha + \\beta_x x_i + \\beta_z z_i$\n",
        "\n",
        "#### Answer\n",
        "In order to be a *multiple linear regression*, an equation needs to regress an outcome, e.g., $\\mu$, onto two or more coefficient-predictor pairs, e.g., $\\beta x$.\n",
        "\n",
        "Looking at our equations, all four regress an outcome $\\mu$ onto predictor variables, but only (2) and (4) regress $\\mu$ onto two or more coefficient-predictor pairs ($\\beta_x x_i$ and $\\beta_z z_i$).  \n",
        "\n",
        "The $\\alpha$ terms do not count as coefficient-predictor pairs since they don't have a predictor variable (like $x$) associated with them--so (1) is out.  \n",
        "\n",
        "In (3), there *are* two predictor variables ($x$ and $z$), but they are combined as a difference that can be rewritten as a single variable like $x_i - z_i = w_i$ such that the entire equation could be $\\mu_i = \\alpha + \\beta w_i$."
      ],
      "metadata": {
        "id": "T4bd_xVIjpHn"
      }
    },
    {
      "cell_type": "markdown",
      "source": [
        "### 5E2\n",
        "#### Question\n",
        "Write down a multiple regression to evaluate the claim: *Animal diversity is linearly related to latitude, but only after controlling for plant diversity.* You just need to write down the model definition.\n",
        "\n",
        "#### Answer\n",
        "First, we need an outcome.  Call it $A_i$ for *animal diversity*.  Maybe this is the number of species in a given area of land.\n",
        "\n",
        "Since we're dealing with normal linear regression, which assumes that the outcome is normally distributed, we presume $A_i \\sim Normal(\\mu_i, \\sigma)$.\n",
        "\n",
        "Now we need to regress $A_i$ on *lattitude* $L_i$, and also controlling for *plant diversity* $P_i$.  This could look like $\\beta_L L + \\beta_P P$.\n",
        "\n",
        "The question does not ask us to consider the possibility that $A$ is affected by $L$ differently for different values of $P$--e.g., perhaps animal diversity is less affected by lattitude at greater levels of plant diversity.  This type of relationship is described by an **interaction**, which is covered later.  But just for fun, I'll add this term $\\beta_{LP}(L*P)$\n",
        "\n",
        "Finally, we should consider including an intercept $\\alpha$.  In this example, we can think of $\\alpha$ as the value of $A_i$ when both lattitude is 0 (at the equator) and there are no plants in an area.\n",
        "\n",
        "So altogether, our linear model could look like:\n",
        "\n",
        "*   $A_i \\sim Normal(\\mu_i, \\sigma)$\n",
        "*   $\\mu_i = \\alpha + \\beta_L L + \\beta_P P + \\beta_{LP}(L*P)$\n",
        "\n",
        "We'd need some priors to make a fully-fledged Bayesian model, but we're ignoring that here.\n",
        "\n",
        "Before ending this question, I can't help but point out an assumption in our model that seems possibly inappropriate.  That is this: $A_i$ may not be distributed as a normal distribution.  More correctly: after accounting for $L_i$ and $P_i$, the residual of $A_i$ may not be distributed as a normal distribution.  Why not?  Because a normal distribution permits negative values; a normally-distributed $A_i$ implies that less-than-zero animals may inhabit an area.\n",
        "\n",
        "![Normal Dist.png](data:image/png;base64,iVBORw0KGgoAAAANSUhEUgAAA94AAAHZCAYAAABw9+O6AAAAAXNSR0IArs4c6QAAAARnQU1BAACxjwv8YQUAAAAJcEhZcwAADsMAAA7DAcdvqGQAAABhaVRYdFNuaXBNZXRhZGF0YQAAAAAAeyJjbGlwUG9pbnRzIjpbeyJ4IjowLCJ5IjowfSx7IngiOjk5MCwieSI6MH0seyJ4Ijo5OTAsInkiOjQ3M30seyJ4IjowLCJ5Ijo0NzN9XX0T6hOXAAB4g0lEQVR4Xu3dCXxU1fXA8TMzWUgIYclCFjYRBMUFt1RFFHEBd+uCLdbWfzVo1aqVqrWuRW1txVprbYW2dlFi3esKuCDuVhNXUBbFsASykgSyEJLJ+889eRMD84QQksybmd/383//d+6bSbydd3l5Z+5994plKywstMrKyqzq6mqrvr7eampqslpaWiy/32+1trba7+odxcXFdhR+1CXUnDlz7Cj8OD/O3FKX7Oxsa/bs2XYpvDg/ztxUF7dcWzg/zmgroTg/zmgrztzyudBWnNFWQtFWnHW1rXgFQNSrqqqSqVOnisfj0W3evHn2K87M68H3jh8/XpYvX26/ItLY2CiXXHJJ++tmM7/b/DcAAAAAhCLxBqKcSZRvuOEGOf/8880IF6msrJSHHnpI3n77bfsd2zJJt3ndvM+8//7775crr7yyPbFes2aNpKamSkNDg75utgULFkhaWpq+DgAAAGBbJN5AlPvwww+luLhYe6UNkyCbJHzRokVa7sgk6W+++aa+HkykDzroIBkxYoQsW7ZMyyYh79evnyQlJWkZAAAAwI6ReANRziTdJnFOTk62j4iWTY/39sPDTTL9wAMPyHnnnWcfEe3ZNr8jyMRLly5lmDkAAADQSSTeQAzIzc3dpoc6PT1dBg4caJd2zAwjN4m66fk2Vq1aJQMGDGgfam56x02iTvINAAAAOPMEbpwtExQVFcnixYvF5/NJXFyceL1e3UyPlr7R3vcGcwPvludFqUuoN954Q4466ii7FF6cH2emLieffLKMGzdO/vOf/2iyfP3118vq1as1CTf7W2+9Ve677z6pra2Vd955R4eZGyNHjpRDDjlEk2vzvPddd90ljz76qIwePVqvCdszP/ezn/1MJk6cKGeccYa8++67+t8zrr32Wjn++ON1CzfaijM31cUt1xbOjzPaSijOjzPaijO3fC60FWe0lVC0FWddbSvbJN5Dhw6VhIQE3UzybZLw4HDS3ky8TVIwfPhwuxRe1CXU3LlzZcaMGXYpvDg/zjrWxSTP5rnte+65p73X2wwzv+222/S1b7uIdUy6x4wZYx91Zn6XSdg7DlE3cnJyZObMmbqFG23FmZvq4pZrS29/Jk0V5dLw5ZfSsOorqf/qK9377S/C/H6//i32Bv4u+/r2lbiUFEnMypaB3zlMkkbsIUmBv9u9hbYSin/LzmgrztzyudBWnNFWQtFWnHW1rTDUHIhyZpi4eS7bDA0PMuUJEyZ8a9JtEmkzs/mrr766TdJtvm00z3R3nBHd9HiXlJTofwdA5zQUfy0bHn9UPr/u57Lk8ktl1R9+L6XPPiObly5pT7o7at26VZqrq6Vx7Vqp+eB9+fpPf5TPf/4z+eiH58nyW26UsueflebaWvvdAADAbUi8gSgXnJXcPKttmOTZJNWTJ0/W8vZMT7dJrJ16w03ZJOzm54ND05966indB58BB+CsuaZa1j/xuHx6Sb58cd01Gjd2mLjQSBoyRAYdOVFyzpmmW8qUqZJz9jmSeeLJknb0JOl/8MGSNOybb/xbm5qkbtkyWffQv+XTGRfKV7+7UzZ9+on9KgAAcAsSbyDKmeHld9xxhybL5pERM7GamRDNJNCGSbKDM5MHk/KFCxfq+zo+amISceOmm27S58TNLOnmuHm/+f0sLwY4a/h6lfZof3pxvvZym55rwxf4NzPo8CNkjyuukrG33SEH/nue7HP3H2SPn14p2WdP063vCVMl+5xzZegF/ycjLr1cRl17vexz192y/9y/B37uSkk76mgdhh5UU1QoK++4Tb6+715pKi+3jwIAgHAj8QZigOmpNj3eZkoHs3V8Ftsk4OY1857t39dx6/gzJvkOHg/+LIBtmSHjJf8pkC9+ca1Uv/uOfVSkT06u7HH5FTL+nw/JHlddLYMmHCl99xoj3sRE+x07F9+/f+DnJsqIy34q+//1QRlxyaWSMnZv+1WRjW+9KUt+eqms+dtc7WkHAADhReINAEA3K1+4QJZccZmUPt32KIbRd89RsufPr5Vx99wrgyZ238y5vj59JO2YyTLmV7fJvn+4b5vfXfHyS/LZ5ZfKuoKHxWputo8CAIDeRuINAEA32VKyTpZc9VNZ++DfpGXTJj024OBDZOwdv5Gxv75TBhyap8d6SmJ2tvam7/unP0vmlKl6zCTcZc/8V5b+/GqpW7FCjwEAgN5F4g0AQDeoLSqUZTfeIE0bNmg5IT1de7j3vPYX0nfUaD3WWxIzMmXojy+S/ef8VVL321+PNZVukOU3/VJKHn6I3m8AAHoZiTcAALtp7T8flC9/d6f4G+q1PPiU03TYd0/3cO9M/ICBMvrGm2X4JZeKLzlZj5U+94wsnXmVLmkGAAB6B4k3AABdZGYO/+KX10n5/Be17Evuq73cQ87/oXji4/WYG6QfM1nG3f0HST1gvJabyspk+c03Ss37/9MyAADoWd7ly5eL2QAAQOeZmcrNetwNX32l5eQ995S9f3dX2Hu5v038oEEy+pc3Ss60c7Vs1gD/6u67pPS/T2sZAAD0HO+YMWPEbAAAoHMqX31F1+YODi3PPOkU2fvXv9Vnq90u+6xzZOSVP7NLIiWPzJPi+++zSwAAoCcw1BwAgF1Q9vyzsnruA3ZJZORVV8vQH11glyLDwCMm6EzrvpQULVe98bosu/F68de3fZEAAAC6F4k3AACdtP7xx2TdQ//W2JuYKKN+cYMMPPwILUcaM9P6uLvulqRhw7Vcv3KlLJ91C8k3AAA9gMQbAIBOWPfQv2TDE49pbCZR2+umW6X/gQdqOVLFD0qTMbfdIWlHT9JyY3ExyTcAAD2AxBsAgJ1Y87e5Uvb8cxqbZHXsHb+WvqN7d23unuLr00dGXHr5tsn3rTeTfAMA0I1IvAEA2IHVf50jFS+/pHGfnFzZO5B0m3202Sb5XrOa5BsAgG7ksQJMUFRUJB6PR+Lj43WLi4sTr9erx4JbbykpKZHcXHfc1FCXUAUFBTJ9+nS7FF6cH2duqUteXp7k5+frFm6cH2duqotbri0dP5P6V1+Ruhef19iXkSFpV14tnqQkLfeGcJyfTf8pkMYP3tc4fugwGXTV1RrTVkLxb9kZbcWZWz4X2ooz2koo2oqzrraVbRLvoUOHSkJCgm4m8fb5fGFJvFevXi3Dh7dN9hJu1CXU3LlzZcaMGXYpvDg/ztxSl5ycHJk5c6Zu4cb5ceamurjl2hL8TDa+9aZ8fd+9eiwuNVXG3v4bSRw8WMu9JVznxywvZmY6NzKOP0GGXTSDtuKAf8vOaCvO3PK50Fac0VZC0VacdbWtMNQcAIDtbP7s0/ak28xePvr6G3s96Q6nEZf9VFIPGK+xGWZfPv8FjQEAQNeQeAMA0EHLhvXy5V2/1djj9cqoa66T5JEjtRxLzPrkfXKHaLzu3/+SrStXaAwAAHYdiTcAALbmjRul+oG/SGtTk5aHX3Kp9Ntvf41jjS85Wfa68SaJ69dPrNZWqXnwbzrpGgAA2HUk3gAABPgbGnQN69a6zVrOOWda+yzfscosnTbq+hs0trZulZW/+bU011RrGQAAdB6JNwAAAcV/+qM0bdigcdoxkyX77Gkax7q+e46SkT9rmyCxeWOVfBlIvoMjAgAAQOeQeAMAYt6Gp56UmqJCjfscMF5GXHKpxmgz8LDDJeXEkzVuKP5aVv3h9xoDAIDOIfEGAMS0zUs+k/WPPqKxmUws9XvuWMfVbfoed3z70PvaD4tkwxOPaQwAAHaOxBsAELPMZGqr7mnrvTXLho267hfiSUjQMkINuzBfEgdnabzhySdk89IlGgMAgB0j8QYAxCSrpUW+vOtOabEnUxtx6eXtSSWcmS8n9rz2F+KJj9eZzr++9w/SXFtjvwoAAL4NiTcAICaZtakbVq3SOPOkU/Q5Zuxc0pAhMvyiGRqbpNsk3yYJBwAA347EGwAQc6rfe1fKF87XuO/ovWTID87XGJ2TNukYGXT4ERqb4ealTz2hMQAAcEbiDQCIKWbJsK//9EeN41JTZc+fXyMen0/L6LzhP7lMErOzNV7/+GOyaclnGgMAgFAk3gCAmGKSbqu5WeORV1wl8QMGaoxdo897//w6uyRS/Md7pbmm2i4BAICOSLwBADGj9L9PS/2XKzVOP/Y46bff/hqja/R5759cprF53js4QzwAANgWiTcAICZsKVknJY/M0zghPV2G/PACjbF70icdI2lHHa1x3bIvpOz55zQGAADfIPEGAEQ9y++XVffeY5dE9rjiKvH16WOXsLuG/t+PJb5/f43XP/qINJWVagwAANp4rAATFBUVicfjkfj4eN3i4uLE6/XqseDWW0pKSiQ3N9cuhRd1CVVQUCDTp0+3S+HF+XHmlrrk5eVJfn6+buHG+XHmprr05LWl/qUFUrdwgcbJEyZKvzPP0tgJ58fZzurS9PlSqfn7XzWOHzZcBl1xVeAuo2fuHdzyd4i24sxNdeGeJRRtxRltJRRtxVlX28o2iffQoUMlISFBN5N4+3y+sCTeq1evluHDh9ul8KIuoebOnSszZrSt4RpunB9nbqlLTk6OzJw5U7dw4/w4c1Ndeura0hj43/jF9ddqr3dCRobse88fxRMfb78aivPjrDN1+fqPf5CNb7+l8bAfXyQZU6Zq3N3c8neItuLMTXXhniUUbcUZbSUUbcVZV9sKQ80BAFHLamnRIeYm6Ta9r3v89ModJt3YPSbZ9qWkaLzu4X/L1ooKjQEAiHUk3gCAqLX+sUd1UjVj8MmnSMqYsRqjZ5ike9hFbb0ArVu3ytd/uldjAABiHYk3ACAq1a1YIaXPPK1xYna25H7PHc/uRbtBhx8hA/K+o3HdsmVSuehVjQEAiGUk3gCAqLTWnujL2OPyKxhi3ouGXZQvvr59NV73739K88aNGgMAEKtIvAEAUad84XxpKP5a4/TJx0rfUaM1Ru+I7z9Ahv3fhRr7Gxvl6/vv0xgAgFhF4g0AiCotmzfL+v88onFcv34y5Ac/1Bi9a9DEo6T/QQdrvHnJZ1K3fJnGAADEIhJvAEBUWTfvIfE3NGg85PwftQ95Ru8bPuMS8SYkaLymw9B/AABiDYk3ACBq1H/1pVS9tkjjvnuNkbSjJ2mM8IgfOFCyzzxbY7OeesXCBRoDABBrSLwBANHBsmT1A3/R0OP1yoifXKYxwmvwqadJ4uDBGpc8Mk8fBQAAINaQeAMAokL5Swukcc1qjTNPOVX65ORojPDyxMXpkHPDTLRW8vC/NQYAIJaQeAMAIp5OqPZIgcYJaWmSc865GsMd+u27X/va3pWLX9NHAgAAiCUk3gCAiLfu4X9rb6ox9McXtU/oBfcYesGPxZuYqLE+EmBZGgMAEAtIvAEAEU0nVFv8msb9DzxQBhxyqMZwFzMSIfu7Z2lsHgmoeGmhxgAAxAISbwBARGufUC0+XoZddLHGcKes754piVlZGpcUPCzNtbUaAwAQ7Ui8AQARq3LRq+0TquWcPU0S0tM1hnsNuzBf9/4tWzT5BgAgFpB4AwAiktXcLOv/0zahmlkvevDJp2gMd0vd/4D2idbMIwJMtAYAiAUeK8AERUVF4vF4JD4+Xre4uDjxer16LLj1lpKSEsnNzbVL4UVdQhUUFMj06dPtUnhxfpy5pS55eXmSn5+vW7hxfpy5qS67em2pe/klqV/wosap35suSYfmaby7OD/OurMu/poaqbrzDv3yJC4rW9Kuuc5+pXPc8neItuLMTXXhniUUbcUZbSUUbcVZl9uKSbyNwsJCq6yszKqurrbq6+utpqYmq6WlxfL7/VZra6v9rt5RXFxsR+FHXULNmTPHjsKP8+PMLXXJzs62Zs+ebZfCi/PjzE112ZVrS/OmTdZHP/qBVTjtLOvz666xj3YPzo+z7q7L+ief0PNntorXFtlHO8ctf4doK87cVBfuWULRVpzRVkLRVpx1ta0w1BwAEHHWP/5o+/JhQ87/ke4RWbJOPU3i+w/QeP2jj2jvNwAA0YrEGwAQUZoqyqXy5Zc07n/QwdJv3DiNEVnMLPTZZ5+jcfPGjVI2v+2xAQAAohGJNwAgopTMe1is1lbxeL0y9EcX2EcRidKPO14SMzM1Ln36SfE3NGgMAEC0IfEGAESMhq9XSfW772icPvk4SczK1hiRyXx5kjP9BxqbpHvDf5/SGACAaEPiDQCIGGse/LvuvYmJkj3tXI0R2QYdfoQkDRuucfmLL0hzbY3GAABEExJvAEBEqC0qkvoVyzXOOuNMie/fX2NEviH2IwNta7M/ojEAANGExBsA4Hrmme61D/1T4/iBA3VGbESP1H33k9T99te4avFr0rRhg8YAAEQLEm8AgOt1TMZyv3+ezoiN6DLkh23LwpkvWdYVPKwxAADRgsQbAOBqbcOPCzROGjpUBk08SmNEF/Oc98AjJmhc8/7/pGHVKo0BAIgGJN4AAFcrfe5Zaa6t1Xjo/12oM2EjOuV+b7odiaz9d9ujBQAARAPuXgAArmWWmCoLJN5Gv/32l37j9tUY0Slx8GDJmHqixnVffC61H32kMQAAkY7EGwDgWmXPPxdIvus1zj33+7pHdMs951xdLs4oKXhYn/kGACDSkXgDAFzJX1cXSLzt3u5995O+o0drjOjmS0mRrNNO17hxzWrZ+NabGgMAEMlIvAEArlQaSLpbm5o0zj33e7pHbMg85TTxJSdrvOHJJ3QPAEAkI/EGALhOS91mqZj/osZmjee+e43RGLHB16ePZJ50isZNpRuk6vXFGgMAEKlIvAEArlP2zH/Fv2WLxjkdZrpG7Bh86ra93jzrDQCIZB4rwARFRUXi8XgkPj5et7i4OPF6vXosuPWWkpISyc3NtUvhRV1CFRQUyPTp7rgR5vw4c0td8vLyJD8/X7dw4/w4c1NdgteW1oZ6qfjVLSItLZI4ei8ZcMml9jt6B+fHWTjqUrdwgdS/tEDj1O9Nl6RD8zR2y98h2oozN9WFe5ZQtBVntJVQtBVnXW4rJvE2CgsLrbKyMqu6utqqr6+3mpqarJaWFsvv91utra32u3pHcXGxHYUfdQk1Z84cOwo/zo8zt9QlOzvbmj17tl0KL86PMzfVJXhtWfuvf1iF087SrW7FCj3Wmzg/zsJRl5bGRuujC87XtvDZTy+zWgP3JIZb/g7RVpy5qS7cs4SirTijrYSirTjralthqDkAwDWaa6ql/KWFGuuz3cxkHtO2eda7rFQ2vvmGxgAARBoSbwCAa2x4+imxmps15tluGDzrDQCIBiTeAABXiGvaIpWvvKwxvd0IotcbABANSLwBAK6QvmK5WC0tGtPbjY627/WWtnlhAQCIGCTeAICw21pVJQPWrNaY3m5sb/te7/7r1moMAECkIPEGAITdhicfF4/97C693XDSsddbR0fwrDcAIIKQeAMAwsr0dle9tkhjervxbTr2eic01POsNwAgopB4AwDCav3jj7b3Xuac+z3dA05CnvUGACBCkHgDAMKmeeM3vd0N6RnSd68xGgNOTK+3Sb4NZjgHAEQSEm8AQNiUPvecHYlUjmKIOXbODDf3x8VpvP7xx3jWGwAQEUi8Acjbb78tHo9Ht/Hjx8vy5cvtV5zddttt7e+fOnWqVFVV2a8AnedvaJDKV9vW7U4esYfUZ2RqDOyI6fXeuOcojU2v9+bPl2oMAICbkXgDMc4k2bNmzZJly5aJZVly//33y5VXXvmtybRJuktKSqQhkDSZ959//vlyww03SGNjo/0OoHPKF7worU1NGmed8V3dA51RPXKUeOLjNS5//lndAwDgZiTeQIx77LHH5Mgjj5QxY9qerT3ooINkxIgRmohvzyTjpnfcJNtJSUl6zPR419bWypo1a7QMdIbV0iLl81/UODEjUwZ85zCNgc4wQ80zp0zVuPajj6RxLdcfAIC7kXgDMcz0Upve65EjR9pHRBPq3NxcWbSobcKrjtLS0mTBggUyYcIE+4hIZWWlbNy40S4BnVO56FVp2bRJY9Pb7fHy5wi7ZvApp4nH59O49OmndA8AgFtxpwNAe7g76piI78z2PebAzpjJsMqefUbjuNRUSZt0jMbArogfOFAGTTxK4+p335GminKNAQBwI695vnNnEykBgBPzvLcZen7ppZfaR4Cdq/nfe+1JUtapp4vHnqEa2FXZZ5wp4vFs82UOAABu5LHM7EgBRUVFsnjxYvH5fBIXuAnyer26mVmL9Y32vjeY50jNkFY3oC6h3njjDTnqqLZehnDj/DjbWV3McPIjjjhCsrOz5eqrr5aJEyfK2WefLeXl5TrM/I477tD3XXfddfLRRx/JJ598In379pUDDzxQRo0aJQkJCe1J97x58yQ+Pl7ft/2XeNdee60cf/zxuoUbbcVZOOoy8vXXJHFTrbQG/tasPH6q7g23XFtoK87cVJeObWVI4fvSb8N6sQL3LF8G2lNL4PrUWzg/ztzaVsLNLZ8LbcUZbSUUbcVZl9uKSbyNwsJCq6yszKqurrbq6+utpqYmq6WlxfL7/VZra6v9rt5RXFxsR+FHXULNmTPHjsKP8+NsV+oya9Ys3YIaGhqsiy++2HrrrbfsI9sKvm42E+9IILG3Zs+ebZfCi7birLfrsunTT6zCaWfptq7gYftoG7dcW2grztxUl45tpf7LL79pU4/Ms4/2Ds6PM7e2lXBzy+dCW3FGWwlFW3HW1bbCM95AjJs2bZoEkuz23uoPP/xQAhc3GTt2rJa3F0ikdX/PPfe0z2wOdFbpM//VvRlePvjkUzUGdkfynntKv3HjNK5YMF/8LG0IAHAhEm8gxplJ0W6++WZNtM0jJZdddpnce++97cN5zFDySy65RGdAN8n5k08+KXPmzJHk5GR9f3Azw86BHWlcs1o2ffapxhnHHqcTqwHdIev0tnXgTdJd8fJLGgMA4CYk3gB0eTDLsnT7+OOPt5mh/LzzzpMHHnhAe7fNcfN68L0dt45LjAFONjz1pO7N0mGZp56mMdAdUg8YL0lDh2lc9twzuk48AABuQuINAOhxZhZzM5u5MfDwCZKYkakx0F2yzzxL92Z9+Ko3XtcYAAC3IPEGAPS48uee1SWfjKzvtg0LBrrTgMMOb/9Cp/SpJ9vbGwAAbkDiDQDoUf76eql49RWN+x94UPuQYKA7mUcYBp9+hsY6wuKD9zUGAMANSLwBAD2q7IXn25+5zTqD3m70nPRjJrdP2lf6zNO6BwDADUi8AQA9pnXrVilf8KLGZtmnlLF7awz0hI7L1DV89ZVsXvKZxgAAhBuJNwCgx1S+8pIONTdyzpqme6AnZUyZKr6kJI1L/0uvNwDAHUi8AQA9wvL7pfTZZzROzM6W/gcdpDHQk0zSnXH8CRqbdeMb167RGACAcCLxBgD0iI1vvyXN1dUa55x1jojHozHQ0zJPOsWORDY8+YQdAQAQPiTeAIAeUbFwge7j+/eXQROP0hjoDfEDB0r6scdpXP3uO9JUWqoxAADhQuINAOh2DV+vkvovV2qcfuzxugd6U5a9tJhRNv8FOwIAIDxIvAEA3a58fttM5mZt5YypUzUGelPi4Czpf/DBGle9tkj8jY0aAwAQDiTeAIBu5a+r0+e7jQF535H4/gM0Bnpb8Fnv1qYmqXz1FY0BAAgHjxVggqKiIvF4PBIfH69bXFyceL1ePRbcektJSYnk5ubapfCiLqEKCgpk+vTpdim8OD/O3FKXvLw8yc/P1y3cOD/OeqIu9a+8LHX20N6Bl14uCXuO0nhn3HJtoa04c1NddqWtVP72N+IvLxNv/wGSfuPNOgqju3B+nEVqW+lpbvlcaCvOaCuhaCvOutxWTOJtFBYWWmVlZVZ1dbVVX19vNTU1WS0tLZbf77daW1vtd/WO4uJiOwo/6hJqzpw5dhR+nB9nbqlLdna2NXv2bLsUXpwfZ91dl9bA34xP8i+0CqedZS29+kr7aOe45dpCW3HmprrsSlupXPSqtkezbXzvXfto9+D8OIvUttLT3PK50Fac0VZC0VacdbWtMNQcANBtags/kObaGo0zTzxZ90A4mRn1fSkpGpe/+LzuAQDobSTeAIBuU75gvu59ycksIQZX8MTFSeaUEzWuW7ZMGlev1hgAgN5E4g0A6BaN69bJ5qVLNE4/ZrJ4ExM1BsItY8oU8fh8Gpc++1/dAwDQm0i8AQDdomJB2xJi4vFIxgksIQb3MDPrDzpyosbV774jzbW1GgMA0FtIvAEAu83f0CBVb7yucf/xB0piVpbGgFsMtpcWs/x+Kbdn3QcAoLeQeAMAdlvV66/pWslGhv08LeAmSSNGSMre+2hc8fJLYrW0aAwAQG8g8QYA7B7Lap9UzfR09x8/XmPAbQaf1DbTvr+uTqpeX6wxAAC9gcQbALBbNn36iTSVlmqsz3Z7PBoDbtP/kEMlflCaxmXPP6d7AAB6A4k3AGC3VCxcoHszi7mZzRxwK4/XK1mnnqrxlvUl+qURAAC9gcQbANBlW6uqpObDIo3Nut1m/W7AzdKOObZ9qbvyF5/XPQAAPY3EGwDQZeUvvqDPeBuZJ7Y9Pwu4mS8pSdInH6dx7ccfS1NZmcYAAPQkEm8AQJeYWaErF72icb99xknSkCEaA26XeeJJbXMRWJaUPfeMfRQAgJ5D4g0A6BKzbrdZv9vImDJV90AkSBw8WAYcfIjG2o4bGzUGAKCnkHgDALqk/IW2WaHj+w+QAXnf0RiIFJknnaJ7s/58xUttEwQCANBTSLwBALusbtkX0rhuncYZU6fqbNFAJOk3bpwkjRihcfkLz4vl92sMAEBP4E4JALDLKhbM173H55NMs3Y3EIEG273ezbW1UvO/9zQGAKAneKwAExQVFYnH45H4+Hjd4uLixOv16rHg1ltKSkokNzfXLoUXdQlVUFAg06dPt0vhxflx5pa65OXlSX5+vm7hxvlx1pW6tNZtlopf3RIIWqXPwYdI/+k/sF/ZPW65ttBWnLmpLt3VVkwvd+WsW7VNx+XkSNrMa+1XOofz4ywa20p3cMvnQltxRlsJRVtx1uW2YhJvo7Cw0CorK7Oqq6ut+vp6q6mpyWppaQn8TfJbra2t9rt6R3FxsR2FH3UJNWfOHDsKP86PM7fUJTs725o9e7ZdCi/Oj7Ou1GX9Y/+xCqedpVvdihX20d3nlmsLbcWZm+rSnW2l5LFHO7Tn5fbRzuH8OIvWtrK73PK50Fac0VZC0VacdbWtMNQcANBppoew4uWXNU4esYf0HT1aYyBSDT7xJPHExWlsnvUGAKAnkHgDADqt+r13pLm2RuPMk07WPRDJfCkpknbkRI2r//eebK2q0hgAgO5E4g0A6LTy+W2TqplkZdCEIzUGIl3mqafr3mptZWkxAECPIPEGAHRKQ/HXUr9yhcYZxx3fPjwXiHRJQ4ZI373GaFz5yissLQYA6HYk3gCATimf/6LuzZrdGSwhhiiTOfVE3bfUbZbqd97WGACA7kLiDQDYKX9dnWx8602N+x9yqCSkpWkMRIuBhx0ucSn9NC5f2PZIBQAA3YXEGwCwU5WvviJWS4vGGVPo7Ub08fh8knHCFI3rV66Uhq9XaQwAQHcg8QYA7JCZcCrYA2iehU3ddz+NgWiTMWWKPkphVCyg1xsA0H1IvAEAO1T7YVH7EksZU9qegwWiUfyAgTLg0DyNq956U5/3BgCgO5B4AwB2qNzu+fMlJ0va0ZM0BqJV8FEK82hF5aJFGgMAsLtIvAEA36qptFQ2f/apxibp9iYmagxEq37j9pXErCyNKxa8GMjALY0BANgdJN4AgG9V9uLzbYHHI5lTT2qLgSiXedIpujePWNR8WKQxAAC7g8QbAOCotalJqha/pnHqfvu39wIC0S590jHtozsqFi7QPQAAu4PEGwDgyCTdJvk2MqYyqRpih0m60ydN1njTp5/oIxcAAOwOEm8AgKPgMPOEtDQZcNDBGgOxIvOkk9sCy5Jyer0BALuJxBsAEMJMqBbs5cs48SR9xhuIJebRiuCa9VWLF7WP/gAAoCs8VoAJioqKAvdVHomPj9ctLi5OvF6vHgtuvaWkpERyc3PtUnhRl1AFBQUyffp0uxRenB9nbqlLXl6e5Ofn6xZunB9n31aXmgf/Jk1Ll4j4fJI56w7x9Oljv9Jz3HJtoa04c1NdequtNH32qdT880GNU885V5IOO1zjIM6Ps1hsK53hls+FtuKMthKKtuKsy23FJN5GYWGhVVZWZlVXV1v19fVWU1OT1dLSYvn9fqu1tdV+V+8oLi62o/CjLqHmzJljR+HH+XHmlrpkZ2dbs2fPtkvhxflx5lSXpspKq+h751iF086yiv9yv32057nl2kJbceamuvRWW2kN3AN9MuMi/bew9Oor7aPf4Pw4i8W20hlu+VxoK85oK6FoK8662lYYag4A2Eb5ghfFam3VOPOU03QPxCKP1ysZU6Zq3LhundQtW6YxAAC7isQbANDOammRykWvapwydqwkDRmiMRCrMk44QTw+n8bmSykAALqCxBsA0G7jW2+Kv65O48ypJ+keiGVxKf1k4GFHaFzz/v+kuaZaYwAAdgWJNwCgXfn8th69+P4DZEDedzQGYl3miW3r2Ft+v1S88orGAADsChJvAICqX7FcGoq/1jj9+G+G1wKxru/ovdofu6h8+SVNwAEA2BUk3gAAVb5gvu5Nwm2eawXwjeBEg2aouRlyDgDAriDxBgBIc22NVL/3rsYDDztch5oD+EbaxKPEl5yscfnCBboHAKCzSLwBAFLx8svtw2czp7Y9zwrgG564OEmffJzGdV98rsuLAQDQWSTeABDjTMJd+dJCjc1zrH33GqMxgG1lnnRyIAP3aFzB0mIAgF1A4g0AMU6XSKqt0Xiw/RwrgFAJaWnSf/yBGle98bpYW7ZoDADAzpB4A0CMK7d77nwpKTJo4lEaA3CWMWWq7lubmqTxg/c1BgBgZ0i8ASCGtZSVSd2yZRqnTz5Wn2MF8O1Mj7fp+TYa3npD9wAA7AyJNwDEsIbXX9O9x+uVzKknaQxgBzweyTix7d+Kv7JSNn32qcYAAOwIiTcAxCh/Q4M0Fn6gceqBB7X34gHYsYxjj28fHVI+n0nWAAA7R+INADGq4tWXA9m3vYSY3YMHYOfMet7B+RA2ffShbK2q0hgAgG9D4g0AsciypMLuqUvMypLU/fbXGEDnBFcAsFpbpWLhAo0BAPg2HivABEVFReLxeCQ+Pl63uLg48Xq9eiy49ZaSkhLJzc21S+FFXUIVFBTI9OnT7VJ4cX6cuaUueXl5kp+fr1u4cX62tWXpEql98G/i9/tl4DnnStKEI+1Xwsct1xbaijM31cUtbWX97+4UX1mpeJP7Ssats0R8PvuV3kdbccY9SyjaijPaSijairOutpVtEu+hQ4dKQkKCbibx9gX+gIQj8V69erUMHz7cLoUXdQk1d+5cmTFjhl0KL86PM7fUJScnR2bOnKlbuHF+trXy17fLpk8+ltbAdf7gf/xbvImJ9ivh45ZrC23FmZvq4pa2svzpp6TuPwUaj7j0ckk7epLG4UBbccY9SyjaijPaSijairOuthWGmgNAjGkq3aBJt9Hn0DxXJN1AJOpz0MES16+fxuUL5+seAAAnJN4AEGPKF3zzPGrykRPtCEBXZBw/RfcNX30l9V99qTEAANsj8QaAGNLa1CRV9trd/fbdT+IyB2sMoGsypkzRdfANJlkDAHwbEm8AiCFVry/W9bsNlhADdl/8gIHS/5BDNd749lvSUrdZYwAAOiLxBoAYUmE/h5qQlib9DzpYYwC7J2PKVN1bLS1S9eqrGgMA0BGJNwDEiM1Ll0jjunUaZ045sX14LIDdk7rvfroevqGTrLUtGAMAQDvuugAgRpQvaOvt9sTFSfqxx2kMoHsMPukU3W+tqpLaDz/UGACAIBJvAIgBmgwUfqBx2pETxZeSojGA7pE26Zj2pflYWgwAsD0SbwCIARUvLRCrtVXjDCZVA7qdSbrTjp6k8aZPP5Gm0lKNAQAwSLwBIMqZCZ8qXnlZ476j95LkEXtoDKB7ZUw5sS2wLKl4eWFbDABAAIk3EAOqqqpk6tSp4vF4dJs3b579yo69/fbbcskll0hjY6N9RDQ2x4K/y2zmd5v/BtzJLHHkr6vTOPNEOzEA0O2ShgyRlL330bhy0av6pRcAAAaJNxDlTKJ8ww03yPnnny+WZUllZaU89NBDmlTviHn9yCOPtEvfWLNmjaSmpkpDQ4P+PrMtWLBA0tLS7HfAbcpffEH35rnugYcdoTGAnhFcWsysl1/15hsaAwBA4g1EuQ8//FCKi4u1V9owCbJJwhctWqTl7QV7xy+77DK55ppr7KPfMIl7v379JCkpyT4CN6tfuVIair/WWJcQ8/k0BtAzBuZ9R+IHDNS4/PlndQ8AAIk3EOVM0j1ixAhJTk62j4iWTY/2tw0Pnzlzpnz88cdywAEH2Ee+YX7f0qVLGWYeIYKzK5uEO2PKFI0B9Bz9t3b88RqbdfPrVqzQGAAQ20i8gRiQm5u7TQ91enq6DBzY1iOzPdMjfrx90+hk1apVMmDAgPah5qb3/LzzziP5diHzXHf1O22PFGgvXP8BGgPoWenHHS8eb9stlllRAAAAEm8Au+Smm26SBx54oD2RP/PMM7UH3TznDXcpf2mhWH6/xhlTmVQN6C1mqPmAvO9obL78aqnbrDEAIHZ5LNNlFVBUVCSLFy8Wn88ncXFx4vV6dTNDSfWN9r43mJ4zt0zURF1CvfHGG3LUUUfZpfDi/DgzdTnhhBN0qPijjz4qb775ptx99916PCsrSz744AO57bbbdJK1jRs3yjvvvCPNzc32T4v+3IEHHiiPP/54+8+2tLTos93mumBs2LBBtm7dKsOGDZPbb79dRo4cKWeffbb+7s8//1zfc+2112rv+Y560HtLzLWVwKV9r5cXiq9pi2wNnLevJh1rv7AtN30ubrm2xFxb6STaSqgdfSbJlZUy/N23NK7Ye5xUjhqtcU+hrTjjniUUbcUZbSUUbcVZl9uKSbyNwsJCq6yszKqurrbq6+utpqYmK3Cjbfn9fqu1tdV+V+8oLi62o/CjLqHmzJljR+HH+XHWsS5vvfWWNWXKFKuystI+YlkPP/ywNWvWLLv07cz7Lr74YquhoUHL5neY32V+Z5B5zbyn47Gg7Oxsa/bs2XYpvGKtrWx89x2rcNpZulW88rJ9NJSbPhe3XFtira10Fm0l1M4+k8+uuEz/DX76kxlWa+B+qifRVpxxzxKKtuKMthKKtuKsq22FoeZAlDvooIO2GQpuvjE0Pd2TJ0/W8q4w3zROmDBBfz64tvdTTz2le/PfgXtULGw7377kZEk7epLGAHpX5kmn6H5r4Lq76aMPNQYAxCYSbyDKmWex77jjDk2WzSMjZmI1MyGaSaANM7v5rsxMbp7xNpO1mVnSze8zv9f8fpYXcw8zk/Lmz5dqnD75OPHExWkMoHelTzpGvImJGpcvaFthAAAQm0i8gRhgeqpNj7dlWbqZWciDTAJuXnN6bsa8r+NEakEm+Q7+rm/7WYRPxfwX2wKPRzJPOrktBtDrTNJtkm9j02efSlNpqcYAgNhD4g0AUcTf0CBVb76ucf8DD5IEvhQBwio43FwsS8rtR0AAALGHxBsAokjla4uktalJ48wpU3UPIHwSs7Kk37hxGlctXiRWS4vGAIDYQuINANHCsqTipbYeNXOzn3rAeI0BhFfGCW1fgumIlNcXawwAiC0k3gAQJWo//rj9GdLMqSfqM94Awm9A3nckfsBAjctffF73AIDYQuINAFGiYmHbrMlmQqe0o9smdAIQfh6vV9KPO15js+pA/YrlGgMAYgeJNwBEAbNOcO3HH2mcdtTRun43APfIOP548fh8GpcvYJI1AIg1JN4AEAV0+KplaZwx9STdA3APM9R8YN53NK5+7x1pqdusMQAgNpB4A0CEM7OYVy56VWMze3LSkCEaA3CXDHulAcvvl4qXXtIYABAbSLwBIMJtfPMNnS3ZyKS3G3CtlL33af9irGLhArFaWzUGAEQ/Em8AiHDl81/QfXz/AdL/kEM1BuBOGVNO1H1zTbXUFhVqDACIfiTeABDB6r74XGdJNjJPPElnTwbgXmlHT9KVB4zyhUyyBgCxgjs0AIhgwRt3M1tyxvEnaAzAvXS5v0lty/1t/uzT9rX3AQDRzWMFmKCoqEg8Ho/Ex8frFhcXJ16vV48Ft95SUlIiubm5dim8qEuogoICmT59ul0KL86PM7fUJS8vT/Lz83ULt2g8P611m6XyV7foc6JJhxwqqd8/z36l89z0ubjl2sK/ZWe0lVBd/Uz8lZVS+ZvbNU6eeJT0O+NMjXcHbcUZ9yyhaCvOaCuhaCvOutxWTOJtFBYWWmVlZVZ1dbVVX19vNTU1WS0tLZbf7w/c07Xa7+odxcXFdhR+1CXUnDlz7Cj8OD/O3FKX7Oxsa/bs2XYpvKLx/JT85xGrcNpZutV/vco+umvc9Lm45drCv2VntJVQu/OZrJh1q/7b/eiC8y3/li320a6jrTjjniUUbcUZbSUUbcVZV9sKQ80BIAKZ5YjKX2obZt531GhJHrGHxgAiQ3BpMbMigVmZAAAQ3Ui8ASACVb/7jvjr6jQO3sADiBxmBYL4AQM1Dq5MAACIXiTeABCBKhbO170vJUUGTThSYwCRw6xAkHFC24SIZmWCumXLNAYARCcSbwCIMA3FX0vdihUam5nMzYzmACKPGa0S/Pdbbn+ZBgCITiTeABBhyl9sG5ZqeszM2t0AIlNcSj8Z8J3DNK7533vSUrdZYwBA9CHxBoAIYp7r3vj2WxoPODRP4vsP0BhAZMqccqLuzYSJFS8t1BgAEH1IvAEgglS8+rJYLS0aZ9g37AAiV8rYsZI0ZIjGFQsX6rr8AIDoQ+INABHC3JBXLGxbQszcqPcbN05jAJEtw35kpLmmWmoLP9AYABBdSLwBIEKYG/KtVVUaZ0zl2W4gWqRNPFp8yckaB79cAwBEFxJvAIgQwRtyc4OedtTRGgOIfN7EREk7epLGm5Z8Jk2lpRoDAKIHiTcARABzI25uyI20SZP1Rh1A9MjsMIql7MXn7QgAEC1IvAEgApQHb8Q9HsmcMrUtBhA1ErOypN9++2tctfg1aW1q0hgAEB1IvAHA5fwNDVIZuBE3+o8frzfoAKJP8Es1k3RXvfm6xgCA6EDiDQAuV/X64vber4wpTKoGRCtdm39QmsYVC+brHgAQHUi8AcDNLEvK57+gYeLgwdrjDSB6ZRx/gu4b166Vui8+1xgAEPlIvAHAxWo//kiayso0zjRr/Xo8GgOIThknnCAen09jlhYDgOjhsQJMUFRUFLif80h8fLxucXFx4vV69Vhw6y0lJSWSm5trl8KLuoQqKCiQ6dOn26Xw4vw4c0td8vLyJD8/X7dwi9TzUz33Adm6fJl4EhIk45ZZ4unTx36le7jpc3HLtYV/y85oK6F66jOpffgh2fJRkQRuxCTj5lvF2y/VfuXb0Vaccc8SirbijLYSirbirMttxSTeRmFhoVVWVmZVV1db9fX1VlNTk9XS0mL5/X6rtbXVflfvKC4utqPwoy6h5syZY0fhx/lx5pa6ZGdnW7Nnz7ZL4RWJ52dLaalVeO7ZVuG0s6w1f/+bfbR7uelzccu1hX/LzmgroXrqM9m87Av9d2+2kscfs4/uGG3FGfcsoWgrzmgroWgrzrraVhhqDgAupWv5tg1KksyTT9E9gOiXMmasJA0ZonHlyy+J1dqqMQAgcpF4A4AL6XJCry3SOHX/A3RiNQCxI/Okti/bmmuqpeb9/2kMAIhcJN4A4EIm6Q4uIaaTqgGIKYOOnCi+5GSNK15ikjUAiHQk3gDgNpbVNsw8QJcQO/AgjQHEDm9ioqRNmqzx5qVLpam0VGMAQGQi8QYAl9n0ycffLCE29USWEANiVOaUqe3//stfbFvPHwAQmUi8AcBlyhfM133HHi8AsScxK0tS991P48rF3zx+AgCIPCTeAOAipqe79uOPNE6fdEz7M54AYlOGGfUSYJLuysWvaQwAiDwk3gDgIuXzX+ywhNipugcQu/ofdLAkpKVpXMkkawAQsUi8AcAldAmx19t6tFL3258lxACIx+uVjBOmaty4bp1OtAYAiDwk3gDgEuYZTn9Dg8YZLCEGwJZ+3HHi8fk0rnh5oe4BAJGFxBsAXKL8hbYlxOIHpcmAgw7WGADiUvrJwMOP0Ljmf+9Jc021xgCAyEHiDQAusOnTT9qXEBt8yqksIQZgG7q0YIDV2iqVr7ysMQAgcpB4A4ALVHRYQiz9GJYQA7CtvqP3kqQhQzSuePllsfx+jQEAkYHEGwDCzPR013xYpHHa0ZNYQgyAo8xTTtO9GWpe/f7/NAYARAYSbwAIs4qF89uXEBts31gDwPbSJh7V/sVc5UtMsgYAkYTEGwDCyCwhVvnaIo37sYQYgB3wxMW1P4qy+fOlurwYACAyeKwAExQVFYnH45H4+Hjd4gIXd6/Xq8eCW28pKSmR3NxcuxRe1CVUQUGBTJ8+3S6FF+fHmVvqkpeXJ/n5+bqFm1vPT+M7b8umJx/XeOCF+ZKwzziNe4ubPhe3XFv4t+yMthIqHJ+Jv7JSKu+8Q0fJJB0xQVLPOkeP01accc8SirbijLYSirbirKttZZvEe+jQoZKQkKCbSbx9Pl9YEu/Vq1fL8OHD7VJ4UZdQc+fOlRkzZtil8OL8OHNLXXJycmTmzJm6hZtbz8/Sq6+SLSXrtKd73z/er8d6k5s+F7dcW/i37Iy2Eipcn8nK39whmz7+SCdj3P+BueJL7ktb+Rbcs4SirTijrYSirTjralthqDkAhMmmJZ9p0m1knDBV9wCwM8GlxfRRlUWvagwAcDcSbwAIk/IXX9C9LiE2+ViNAWBn+o8/UBIzMzUue+F5lhYDgAhA4g0AYdC8sUpqg0uIHXU0S4gB6DyPRwaffoaGzRs3SvV772oMAHAvEm8ACIOyF15oX0Is88STdA8AnZU+abL4+vbVuPS/T+seAOBeJN4A0MusrVulctErGvfbdz/pkztEYwDoLLO0WOaUtme9G9esluavv9YYAOBOJN4A0Msaiz4Qf0ODxvR2A+iqjKknisfn07j+9dd0DwBwJxJvAOhlDW+8ofv4QWnS/6CDNQaAXRXfv7+kTTxK461Ll0hTebnGAAD3IfEGgF60OXBz7C8v03jwySeLx8tlGEDXZZ56uu6t1lYpf/F5jQEA7sMdHwD0ovIX2m6MPfHxkj75OI0BoKuShgyR1P3219is6R18jAUA4C4k3gDQS7asXy819hJiGYGkmyXEAHSHzJNP1X1rU5NUvvKyxgAAdyHxBoBeUvb8s7qEmBlennlK240yAOyu/uPHS1xmpsZl818Qy+/XGADgHiTeANAL/PX1UvX6Yo0Txu0rifZNMgDsNo9Hko8+RsPmjRul+r13NAYAuAeJNwD0gnLTC9XSonHfSW03yADQXZIOzRNf374al/73v7oHALgHiTcA9DCTcJe9+ILGfUeNlvgRe2gMAN3G55PBJ56kYeOa1VK37AuNAQDuQOINAD2savFrOtTcGHzqaboHgO6WfsJU8cTFaVz2/HO6BwC4A4k3APQky5KyF9pugM1z3QPyvqMxAHS3+P79JW3iURrXFH4gTeXlGgMAws9jBZigqKhIPB6PxMfH6xYXFyder1ePBbfeUlJSIrm5uXYpvKhLqIKCApk+fbpdCi/OjzO31CUvL0/y8/N1C7dwfSZbli6R2gf/pnG/M86U5MBNMW3FmVuuLZwfZ7SVUG48Py2BZLvqt7/WY0kTjpTUM8/WuDfRVpy55XNxY7t1A9pKKNqKs662lW0S76FDh0pCQoJuJvH2+XxhSbxXr14tw4cPt0vhRV1CzZ07V2bMmGGXwovz48wtdcnJyZGZM2fqFm7h+kxWzLpFNi9dKr6kJNl/7t/FG7i+0lacueXawvlxRlsJ5dbzs/LXt8umTz7W64257pjrT2+irThzy+fi1nYbbrSVULQVZ11tKww1B4AeYiY4Mkm3kX7CFL0JBoCeNviUU3XfunWrVL60UGMAQHiReANADyl9pm1JH4+ZbfjkththAOhpqfsfIH1ycjQ2c0xYfr/GAIDwIfEGgB7QvHGjVL/7jsaDJhypkx4BQG/JOu0M3TfX1rZfiwAA4UPiDQA9oHz+C+29TCwhBqC3DZp4VPsXfsHRNwCA8CHxBoBuZp6rrHj5JY377be/JA1zx2QgAGKHWc/brOttmPkm6r74XGMAQHiQeANAN6t85SXxNzZqnGVPcgQAvW3wiSdpAm6UPf+c7gEA4UHiDQDdyGptldLnntXYTG6UOv5AjQGgt/n69pW0oydpXFNUKE3l5RoDAHofiTcAdKPq/72nE6sZwcmNACBcBp9ymojHI2JZUk6vNwCEDYk3AHSj4I1tXL9+knbMZI0BIFzMyJv+9sibysWLxN/QoDEAoHeReANAN6lbvkzqv1ypceZJp+geAMIt055rorWpScoXvKgxAKB3kXgDkLfffls8Ho9u48ePl+XLl9uv7Ni8efPktttus0sos5/t9iYkSOaUttmEASDcUvfdT5L33FNjM8maWXkBANC7SLyBGGeS7FmzZsmyZcvEsiy5//775corr5Sqqir7Hc5M0v2DH/zALsFMWlRT+IHGaZOO0UmNAMAtsk7/ru799fVS9doijQEAvYfEG4hxjz32mBx55JEyZswYLR900EEyYsQITcSdmETd9Io/9NBDcvHFF9tHUf78szp5kZnEaPCpp9tHAcAdBhyaJ4kZmRqb0TlmBQYAQO8h8QZiWGNjo5SUlMjIkSPtIyJJSUmSm5srixZ9e4/IP//5T1mwYIG+D6KTFVXaPUh6c5vZdnMLAG7h8Xol68yzNG6qKJfqd9/RGADQO0i8AWgPd0cdE/HtmZ5x0+ONb5QvmN/+zORgexIjAHCb9MnHSvyAgRqXPvO07gEAvYPEGwB2g0m4y557RuPkkSMlZcxYjQHAjQaf3LbiQuPq1VL70UcaAwB6nscysykFFBUVyeLFi8Xn80lcXJx4vV7dzCzH+kZ73xvMpE5paWl2KbyoS6g33nhDjjrqKLsUXpwfZzurixlOfsQRR0h2drZcffXVMnHiRDn77LOlvLxch4/fcccd+r7rrrtOPgrcmH3yySdaNuLj4/VnR48e3f6+a6+9Vq8hS5Ys0XKQOX788cfrFm49dX4GrfpKBi/9TON1eYfJ5sFZGu8I7daZW64tnB9ntJVQkXh+vC0tMvrlBbpvSEuX1Uccab/SfWgrztzyuURiu+0NtJVQtBVnXW4rJvE2CgsLrbKyMqu6utqqr6+3mpqarJaWFsvv91utra32u3pHcXGxHYUfdQk1Z84cOwo/zo+zXanLrFmzdAtqaGiwLr74Yuutt96yj3y77X92e4HE3po9e7ZdCq+eOD+tzc3WJxdfZBVOO8v67IrLAwc6d62k3Tpzy7WF8+OMthIqUs/PunkP63XLbPVffmkf7T60FWdu+Vwitd32NNpKKNqKs662FYaaAzFu2rRpEkiy29fu/vDDDyVwcZOxYxkyvTNVry+W5upqjbPPOltnNAcAtzNzUXji4jTe8PSTugcA9CwSbyDGmcnSbr75Zk20zSMll112mdx7773tw3nMet2XXHKJzoCOb5ileII3rPEDB8qgCd0/XBMAekJcaqqkT5qscU3hB9K0YYPGAICeQ+INQCZMmGAeO9Ht448/bl/T2zjvvPPkgQce0OfCt3fTTTfpFotq3ntXtlZUaJz93bPE4/NpDACRYPAZZ+gSY4ELv2xghnMA6HEk3gDQBRueauvtNj1Hace09RwBQKRIzMiUgd85TOONb7ze/tgMAKBnkHgDwC6qKSqUxrVrNM488WTxJiRoDACRJMvMTRFg+f1S9vxzGgMAegaJNwDsog1PPKZ7X58+knnSyRoDQKRJGjpMUvfbX+PKV18WP3N5AECPIfEGgF2weelSaVi1SuOME6Zo8g0AkWrwGd/VvUm6KxbM1xgA0P1IvAFgF5TaM5mbpXgGn3q6xgAQqVL33U+S99xT47IXnxerpUVjAED3IvEGgE4yPd2bPvtU47RJx+jEagAQ6bJOb+v1btm0SSoXvaoxAKB7kXgDQCcF1+02S/Bkn3GmxgAQ6QYcmqeznBtlzz4jVmurxgCA7kPiDQCd0FS6QWo+eF/jAd85TBIyMjQGgEhnvkzM+m7bl4lNFeVS87/3NAYAdB8SbwDoBF2327I0zraX4AGAaJF29KT2x2c2PPmE7gEA3YfEGwB2YmtFhWx8602NU8cfqEvwAEA0MRNGZtkTRjauXSObPv1EYwBA9yDxBoCdKHvuWbH8fo2z7aV3ACDapJslEpOTNWaSNQDoXiTeALADzbU1Ur6wbW3blL32kpS999EYAKKNr08fyTzpFI2r331H6pYt0xgAsPs8VoAJioqKxOPxSHx8vG5xcXHi9Xr1WHDrLSUlJZKbm2uXwou6hCooKJDp06fbpfDi/DhzS13y8vIkPz9ft3Dr6mey+flnpeG1RRoPvDBfEvYZp/HuoK04c8u1hfPjjLYSKhrPT2tTk1TOulWsLY2SMGq0DPzJZfYrnUdbceaWzyUa2213oK2Eoq0463JbMYm3UVhYaJWVlVnV1dVWfX291dTUZLW0tFh+v99qbW2139U7iouL7Sj8qEuoOXPm2FH4cX6cuaUu2dnZ1uzZs+1SeHX1M/nogvOtwmlnWUtnXmUf2X20FWduubZwfpzRVkJF6/lZ/8Rjet0z2+YvvrCPdh5txZlbPpdobbe7i7YSirbirKtthaHmAPAtNjz5uPgbGjTOOp1nuwHEBjPcPPis94bHH9U9AGD3kHgDgAP/li1S9vzzGidmZcnACUdqDADRzpeU1P6s96Yln0n9ypUaAwC6jsQbAByUPf+c+BvqNc6Zdq54vFwuAcSOwaeeJr7kvhqXPDJP9wCAruNOEgC2Y3q7y19o6+3ukztEBh4+QWMAiBVtM5yfrPHmpUvo9QaA3UTiDQDb6djbnX3ONHq7AcQker0BoPtwNwkAHWzf2z3o8CM0BoBYQ683AHQfEm8A6GCbZ7vP/Z7uASBW0esNAN2DxBsAbCHPdn/nMI0BIFbR6w0A3YPEGwBsHXu7c6efp3sAiHX0egPA7iPxBoCAjr3dSSNGyIBDDtUYAGIdvd4AsPtIvAEgYNt1u3m2GwA6otcbAHYPiTeAmBfS233wIRoDANrQ6w0Au4fEG0DM69jbPeT7PNsNAE7o9QaAriPxBhDTOvZ29x09WlLHH6gxAGBb9HoDQNeReAOIaduu2/193QMAnNHrDQBdQ+INIGb5Gxul/MW23u6UsXtL6n77awwAcGZ6vQefeqrG9StXSGNxscYAgB3zWAEmKCoqEo/HI/Hx8brFxcWJ1+vVY8Gtt5SUlEhubq5dCi/qEqqgoECmT59ul8KL8+PMLXXJy8uT/Px83cLN6TOpf3mh1C2Yr/HAn1wuCaNGadzTaCvO3HJt4fw4o62EitXz01pfLxU336Bx/PARMuiKqzQOoq04c8vnEqvtdmdoK6FoK8663FZM4m0UFhZaZWVlVnV1tVVfX281NTVZLS0tlt/vt1pbW+139Y7i4mI7Cj/qEmrOnDl2FH6cH2duqUt2drY1e/ZsuxRe238mLY2N1kcX/NAqnHaWtfzWm+2jvYO24swt1xbOjzPaSqhYPj9r/vF3vX6arfqD9+2jbWgrztzyucRyu90R2koo2oqzrrYVhpoDiEmrH/gzz3YDQBdln32ODjs31vOsNwDsFIk3gJjTuG6dVL/7jsb9DzxQUsaO1RgA0DlxKf1k8OlnaGyuqVWLX9MYAOCMxBtAzCkpeEj3Hq9Xcqf/QGMAwK4ZfPKp4ktJ0bjk0UfEam7WGAAQisQbQEypW75MaouKNB505ERJGjZcYwDArvEmJkrOtHM1bt64Ucrmv6gxACAUiTeAmLL2nw/q3hMXJ7nfP09jAEDXZBw/RRIzMzUuffpJ8Tc0aAwA2BaJN4CYUfPB+9KwapXGGSdMlfhBgzQGAHSNPrJjf4lpku4N/31KYwDAtki8AcQEq7VV1s1re7Zbh0eedbbGAIDdM/CICe2P7ZS/+IK01m3WGADwDRJvADFhS+EH0rRhg8ZZZ5zZPiEQAGD3Dfnhj3RvJlirCyTfAIBtkXgDiHp6I/jC8xrH9x8gWaeepjEAoHuk7re/pO67n8ZbPni//YtOAEAbEm8AUa/j0MfsadPEEx+vMQCg+wz50QW610d7Ch7WGADQhsQbQFTrONmPmXk3ffJxGgMAupd5znvg4UdoXPP+/9onswQAkHgDiHKlT32zvE3ueefrDLwAgJ6RO/0H7dfZ4PKNAAASbwBRrHnjRimb3zbJT9yQITLwsMM1BgD0DDOyKMnu9a5bvkxqPyzSGABiHYk3gKhV8ugjYrW0aNzvjDN1DwDoWX1PmKLLNhpr//1PfeYbAGIdiTeAqNS4bp1ULX5N4/4HHiQJe4zUGADQs7wp/STrtNM1bq6q0ue9ASDWkXgDiEolHWbUzT3vB3YEAOgNg089XeIHDpTWrVv1We/Wpib7FQCITR4rwARFRUXi8XgkPj5et7i4OPF6vXosuPWWkpISyc3NtUvhRV1CFRQUyPTp0+1SeHF+nLmlLnl5eZKfn69bb2ouWSfV992r63cnHZonqd+bzvn5Fm6qi1uuLZwfZ7SVUJwfZ8G6NBZ+IJsemafH+h4/RVKmnqhxb+KeJRTt1hltJRRtxVlX28o2iffQoUMlISFBN5N4+3y+sCTeq1evluHDh9ul8KIuoebOnSszZsywS+HF+XHmlrrk5OTIzJkzdetNn187UxoDn4Gx35/nSEJaGufnW7ipLm65tnB+nNFWQnF+nHWsyxfXX9u+rFjwetybuGcJRbt1RlsJRVtx1tW2wlBzAFGl8pWX25PunGnn9vpNHgDgG8N+/M2Ip5KH/mVHABB7SLwBRA1/Y6Oss5/tTkhPl6zTv6sxACA8+o4eLYMmTNR447vvSP3KlRoDQKwh8QYQNUr+UyD++nqNh/7o/8QTF6cxACB8hpz/w/br8eq/zRFpe8oRAGIKiTeAqLClZJ1UvrRQ45SxY2VA3nc0BgCEl5ndPPu7Z2rcWFzcvtQjAMQSEm8AUWH13AfEam0Vj9crw2dcYh8FALhB1hlnagJumEeCWF4MQKwh8QYQ8arfe1fqli3TOGPqSdInd4jGAAB3MEPNzZBzo2XTJln/5OMaA0CsIPEGENGslhZZZ8+UG5eaqjOZAwDcx0yyZiZbM8pfeF62VlZqDACxgMQbQEQr/e9T7TdvudN/IL6kJI0BAO4z/KKLdW++NF37r39oDACxgMQbQMQyCfeGp5/SOGn4cEmfdIzGAAB3ShoxQtKOnqRxzfv/k7ovPtcYAKIdiTeAiGV6S0yviaETqnk8GgMA3Cv3++eJNzFR4zV/m8vyYgBiAok3gIhkJlMzvSWG6T3pO6rtuUEAgLuZ2c2zzviuxo3r1knlq69oDADRjMQbQETSXpIAX58+knveDzQGAESGrFNPl4T0dI1X/3WONJWWagwA0YrEG0DEqXrjdWlcu0bjrLPPkfj+AzQGAEQGT3y8DPvxRXZJZE0g+QaAaEbiDSCiNNdUy9p//F3jxOxs7TUBAESe/gcfIgPyvqPxpiWfyca339IYAKIRiTeAiLL2Hw+Kv6FB4z0u+6nuAQCRadhF+frIkLH2wb+Lf8sWjQEg2pB4A4gYmz79RKrfe1fjtEnHSN/Re2kMAIhM5lGh3Olt83S01G2Wkof/rTEARBuPFWCCoqIi8Xg8Eh8fr1tcXJx4vV49Ftx6S0lJieTm5tql8KIuoQoKCmT69Ol2Kbw4P87cUpe8vDzJz8/XbXe1NjVJ1W9/I621NeJN7ivpN9wkHruXpDM4P87cVBe3XFs4P85oK6E4P852uS6BW9Gqe+6WlpJ1uixk2lUzJW7IEPvF3cM9SyjarTPaSijairMutxWTeBuFhYVWWVmZVV1dbdXX11tNTU1WS0uL5ff7rdbWVvtdvaO4uNiOwo+6hJozZ44dhR/nx5lb6pKdnW3Nnj3bLu2e1Q/+zSqcdpZuFa8tso92HufHmZvq4pZrC+fHGW0lFOfHWVfq0rBmjVX0vXP0Gr905s+s1sD9Z3fgniUU7dYZbSUUbcVZV9sKQ80BuF7D16ukYuECjc3w8vRJx2gMAIgOSUOHSuYpp2psVq0on/+ixgAQLUi8Abia5fdL8f336VBEj88nIy693H4FABBNcs45VxIzMzVe/58CXcUCAKIFiTcAVyt79hlpXLtW4+zvnil9cnI0BgBEF29Cggz/yWUat27dKmv+/jeNASAakHgDcK2m8nJZ/8RjGptekKzvnqUxACA69dtnnAyaMFHjmvf/J5s++VhjAIh0JN4AXGv1X+4Xq6VF4+GXXCaeuDiNAQDRa+iPfyy+5L4aFz/wF+39BoBIR+INwJWqFr8mmz9fqvGgiUdJv3HjNAYARLe4lH4y5Ic/0rh5Y5Wsf/xRjQEgkpF4A3Cd5tpaWfuvf2jsS06WIee33YABAGJD+jGTJWXsWI3NXB+bP/tUYwCIVCTeAFyn9MnHxd/QoLFJuuP799cYABA7RlzSNtGa8fX997X/XQCASETiDcBVaj/6SMqDa3bvNUbSJx+rMQAgtiRmZ8vQH12gcXN1tayzR0IBQCQi8QbgGv76eln9wJ/tksgel7FmNwDEssyTTmmf46Ny8WtS+2GRxgAQaUi8gRhQVVUlU6dOFY/Ho9u8efPsV5y9/fbb7e8dP368LF++3H5FpLGxUS655JL2181mfrf5b+yu4j//SZprqjUe+uMLJTErW2MAQOwacelPxZuYqLH5cpYh5wAiEYk3EOVMonzDDTfI+eefL5ZlSWVlpTz00EOaXDsxSfasWbNk2bJl+v77779frrzyyvbEes2aNZKamioNgRsf87rZFixYIGlpafp6V218602pKfxAY9O7kTnlRI0BALEtIT1dhv34Io3N5Jtr/vZXjQEgkpB4A1Huww8/lOLiYu2VNkyCbJLwRYsWaXl7jz32mBx55JEyZswYLR900EEyYsQITcQNk7j369dPkpKStNwdzLN7a/7ediNlZjHf46dXaQwAgJE26RhJPWC8xhvfflNqPnhfYwCIFCTeQJQzSbdJnJMDCW2QKZse7+2Hh5ve8ZKSEhk5cqR9RDTBzs3NbU/Uze9bunRptw4z//q+P7QPHRx2Yb7EDxyoMQAAQXtcfoX4+vbVuNgMOa+r0xgAIgGJNxADTOLcsYc6PT1dBu4guTWJeUcdE/FVq1bJgAED2oeam97z8847r8vJd/nC+bI5kMgbAw45VAYdOVFjAAA6iktNlRGXtk26aZJuk3wDQKQg8QawS2666SZ54IEH2hP5M888UxN185z3rmoqLZV1D/1b4443VAAAODFf0KYdPUljM9y8+t13NAYAt/NYpssqoKioSBYvXiw+n0/i4uLE6/XqZoaS6hvtfW8wPWe7O1FTd6Euod544w056qij7FJ4cX6cmbqccMIJcsABB8ijjz4qb775ptx99916PCsrSz744AO57bbbdJK1jRs36nPgeXl5kp2dLVdffbVMnDhRzj77bCkvL9fe8jvuuEN/r0m6gzZs2CBbt26VYcOGye2336694uZnzO/+/PPP9T3XXnutHH/88bqFCFx69njrdelTU6PFtYcdIXUZmRr3BNqKMzfVxS3XFs6PM9pKKM6Ps56ui7e5WfZc/KrEbdki/oQE+WrSseK3Zz3fHvcsoWi3zmgroWgrzrrcVkzibRQWFlplZWVWdXW1VV9fbzU1NVktLS2W3++3Wltb7Xf1juLiYjsKP+oSas6cOXYUfpwfZx3r8tZbb1lTpkyxKisr7SOW9fDDD1uzZs2yS9syxzu+1tDQYF188cX6e8zvML/LxEEdX99eIJG3Zs+ebZe2tf7JJ6zCaWfpVvzAn+2jPYe24sxNdXHLtYXz44y2Eorz46w36rJpyZL2vyErf3O7fTQU9yyhaLfOaCuhaCvOutpWGGoORLngrOTBoeDmG0PT0z158mQtb2/atGkSSKLb1+4Ozoo+duxY/aZxwoQJ+vNmIjbjqaee0r3573RW49o1sv7RRzROzMiUoRf8WGMAADpDl5086RSNaz/6SGo/LNIYANyKxBuIcuZZbDNU3CTL5pERM7GamRDNJNCGmd2848zkZhmxm2++WRNt8/7LLrtM7r333vbhPWa4uRl+bmZJN6+b32t+/64sL1b8p/vsSGTE5VeI91uGCAIA8G2GTD9P+uTkaPz1ffdKU3m5xgDgRiTeQAwwSbPp8bYsSzczC3mQScDNax2fmzHHgu/9+OOP29f0DjLJd/D17X92Z9b+80FpKP5a46zTTpeUQIIPAMCu8sTHy9D/u1BjsyTlqrvv0hgA3IjEG0CvqX7vXSmf/6LGKXvtJbnnna8xAABdkbr/ATL4tNM1Nl/qrp77gMYA4DYk3gB6RVNZqay211z1JSfLyJ/9XGMAAHZH7vemS9/Re2lc+eorsvHNNzQGADch8QbQ46zmZvnqd3eK30zI5vHIyCt/JvGDBtmvAgDQdR6fT/a85lqJ7z9Ay8UP/Fm2lKzTGADcgsQbQI9b/be50riu7SYo64zvSur4AzUGAKA7mKTbJN8er1eslhb58rd3in/LFvtVAAg/Em8APSptw3qpWvyaxiljxkrOtO9pDABAdzLDzXO+932NzeNNX//xHo0BwA1IvAH0mOyEBBmxYpnGpjdi5Myfa28EAAA9Iev07+qEa0ZtUZEMWvWVxgAQbtwBA+gR5nnuK3Kzxdvaqsm2SbqDz98BANBTRv5spiRkZGic+fkSqV+5QmMACCcSbwA9ovhPf5SM+DiNc879vg4zBwCgp5mVM0Zd+wvxxMWJx7Lkq7t+Jy11m+1XASA8SLwBdLuKhQukpvADjWvT0nVCNQAAekvSsOEy7McXadxcWyNr/jpXYwAIFxJvAN2qsbhYSh59ROOqlhZZtc++GgMA0JvSjz1OaocM1bj6vXelpGCexgAQDiTeALpN88YqWfmbO8RfXy/ehAT5y/pSaYlrG24OAEBvKxu3n8QPHKhx6TNPy8a339QYAHobiTeAbtHa1CQrbr9NmmuqtTzi0suleEuTxgAAhIM/IUFG//JG/TLYKP7z/VL/1ZcaA0Bv8lgBJigqKhKPxyPx8fG6xcXFidfr1WPBrbeUlJRIbm6uXQov6hKqoKBApk+fbpfCi/PjrLfrYrW2Ss3cB2SrPXNs3+NOkJQTT5K8vDzJz8/XLdxoK87cVBe3XFs4P85oK6E4P87c2Fa2LF0itf/4e+APliXelBRJm3mteFNT7Xf1Drd8LrQVZ9zfhqKtOOtqW9km8R46dKgkJCToZhJvn88XlsR79erVMnz4cLsUXtQl1Ny5c2XGjBl2Kbw4P856uy7r/v1PKXvheY37H3yIjLrmusDVxSM5OTkyc+ZM3cKNtuLMTXVxy7WF8+OMthKK8+PMrW2l7Jn/yrqChzVOGjFC9r7jTp35vLe45XOhrTjj/jYUbcVZV9sKQ80B7Jaqxa+1J91JQ4bIyKuu1qQbAAA3GXz6GTJowkSNzUSgX//pjxoDQG8g8QbQZZs/Xyqr5/xFY1/fvjLqlze1P0cHAIDbjLj0Muk7ei+Nq999RzY89YTGANDTSLwBdElT6Qb56q7f6vPdZqjeqOuul4S0NPtVAADcx/y9Gn39DZKYkanl9Y89KrVFhRoDQE8i8Qawy8xyYStvv038DQ1aHnHJpZIyZqzGAAC4mRmhNfrGm8SXnKyTra36w++lcd06+1UA6Bkk3gB22Ze/u1OaKso1zjzpFBk08SiNAQCIBIlZ2bLnz6/VuHXrVvk6kHybL5UBoKeQeAPYJWv/+aDULftC49QDxsvQH12gMQAAkaTfuH1lxE8u07hx7RpZcduvxN/YqGUA6G4k3gA6reThh6R8/osa98k1M5j/TGMAACJR2qRjZODhR2jc8PUq+fLXt2kPOAB0NxJvAJ1S+uwzUvrcMxonZmbKmFtniS+5r5YBAIhUe/z0Sum33/4a161YoY9TWX6/lgGgu5B4A9ipjW+/JSXzHtI4fuBA2evW2yQuNVXLAABEMo/PJ6Ovu15S9mpbZmzzZ5/Kqnvu1lU7AKC7kHgD2KGaokIp/tMfNfalpGhPN8uGAQCiiSc+XkbdcLMkDRuu5ZoP3pev//gHnfUcALoDiTeAb1W/Yrms+v1s/dbf16ePjLnlVzoTLAAA0Wb7v3PV774jq/86R2MA2F0k3gAcNa5dKyt/fbtYLS3iTUzcpicAAIBoFBzZZeYyMSpffUXWP/ofjQFgd5B4AwjRVFYmK2+7VZdV8cTFyejrb2h/9g0AgGgWnMvE7I0NTz0hFQsXaAwAXUXiDWAbTRs2yMo7Zklzba2W97z655Ky9z4aAwAQC8xcJnvd/CuJS+mn5TUP/k2HngNAV5F4A2jXsGqVfPHL67TH2zBLrPQ/+BCNAQCIJX1ycmT0TTeLLzlZy6v+8Hsdeg4AXUHiDUDVr1whK2bdIv6GBi3nfv88GXTkRI0BAIhFySP2kDFmCU2753v13AekfOF8jQFgV3isABMUFRWJx+OR+Ph43eLi4sTr9eqx4NZbSkpKJDc31y6FF3UJVVBQINOnT7dL4cX5cbarddn65ZdS++BfpbWpSctJR0yQ1DPPDlwhdu/ffV5enuTn5+sWbrQVZ26qi1uuLZwfZ7SVUJwfZ9HYVlrKy6X6/vuktW6zllNOPU36TpqscWe55XOhrTjj/jYUbcVZV9vKNon30KFDJSEhQTeTePt8vrAk3qtXr5bhw90xezJ1CTV37lyZMWOGXQovzo+zXanLps8+la9+d6e0bt2q5Zxzpkn22dM03l05OTkyc+ZM3cKNtuLMTXVxy7WF8+OMthKK8+MsWtuKeQxr+a03SfPGjVrOmXauZJ91jsad4ZbPhbbijPvbULQVZ11tKww1B2JY7YdF8uWdv25Luj0eGXZhfrcl3QAARJPEwYNl7Kw7JCEjQ8vrH3tUSh5+SGMA2BkSbyBG1bz/P/nq7rt0nW6P1yt7XH6FZJwwxX4VAABszyTdJvk2SbhR+twzOuM5AOwMiTcQg6rfeVtnZ9WkOy5ORs68honUAADohPhBg2TMbXforOeGWePbTLombU9vAoAjEm8gxtQWFcmqe+8Ry+8Xb2KijLruehlwyKH2qwAAYGfi+w+QMbPukKShQ7Vslhlbx7BzADtA4g3EEDMk7svf/UZjsy7pXjfdIqn7H6BlAADQeXH9+ulSY0kjRmi57PlnA39j72xfIQQAOiLxBmLE6r/c3z4JjA6TC9ws9B29l5YBAMCu86WkyJhbfiWp4w/Ucm1RoSy7+Yb2mc8BIIjEG4hy/vp6WX7LjVK5+DUtm2Fxe//mt5LkkiUZAACIZL7kvvrYVvqxx2m5sbhYvvjFtdK4ZrWWAcAg8QaiWNOGDfLF9ddK3bJlWu633/4y5rZfS/yAgVoGAAC7z6wOMnzGJTLsxxdp3FxbI8tu/KXUFBXa7wAQ60i8gSi1eekS+eKXv5CmsjItpx0zWUb/8kbxJSVpGQAAdK+MKVNl1C9+Kb4+ffRZ71Wzfyelzz5jvwoglpF4A1Go8b13ZeXts8TfUK/lnGnnyohLLtVv4QEAQM9JPWC8jLnjTklITxertVVK5j0kxX/+k4jfb78DQCziLhyIMqX/fVo2Pf6o/rE39rj8Csk+6xyNAQBAz0saMkT2vvMu6TtqtJarXl8sNQ/9S/wNDVoGEHtIvIEo0bJpk6y87VdS8sg8LZthbnvdfKsMmniUlgEAQO9pW25slgw6/AgtN332qXz+859J3fK2eVcAxBYSbyAKmOe5P//51bJpyWdajsvKkjG3/0b6jdtXywAAoPd54uNlj6uulkFHTtTy1qoqWX7zjbL+ice1DCB2kHgDEcwMJ1//+GP6PLeZQdVIn3SMDLpqpi4bBgAAwm+Pn14p/c46R7wJCVre8PijutRnc3W1lgFEPxJvIEIFh5ZveOIxTcDNH/M9rrhShv/kMv2GHQAAuEfyERNk7K9/K31ycrRslvpcOvMqqf2wSMsAohuJNxCBNn++VD6/ZqbujT65ZhKX38mgCW1D2QAAgPuY0Wj7/O5uyTj+BC376+vly9/+Rtb8/a9itbToMQDRyWMFmKCoqEg8Ho/Ex8frFhcXJ16vV48Ft95SUlIiubm5dim8qEuogoICmT59ul0Kr1g8P41vvSmbnn7SLgX+iB+ap8PXOvZyu+VzycvLk/z8fN3CjX/LztxUF7dcWzg/zmgroTg/zmgrzrb/XMxka7X/KRBryxYtxw0ZIgN+9GPxDRqk5Z5CW3HG/W0o2oqzrraVbRLvoUOHSkJCgm4m8fb5fGFJvFevXi3Dhw+3S+FFXULNnTtXZsyYYZfCK5bOT+PatbL6gT9L/ZcrtWwS7eEzLpG0o47Wckdu+VxycnJk5syZuoUb/5aduakubrm2cH6c0VZCcX6c0VacOX0uZrK1r++9Z5uZznPPO1+yTjvdLnU/2ooz7m9D0VacdbWtMNQciAAbnnpClyAJJt19R+8l+/z2LsekGwAARIaEtDQZM+t2ST/uePuISMm8h2T5Tb+UptIN9hEA0YDEG3CxxtWr5fNrZ8r6R/+jZW9iogz90QX6R9o81w0AACLf8PyLZeSVP5P4/v21XLdihSz9+dVS+twzOoEqgMhH4g24kJlgpeQ/BfLF9ddq8m30GzdO9rn7Hsk86RTxePmnCwBANBl4xAQZd88fJW3SMVq2mpul5OGHZPnNN0hTWakeAxC5uHsHXKbq9cWy9Oc/k9KnnxLL7xdfUpIMuzBf9rr5V5KYkWm/CwAARBtf374y4ieXBf7m3yqJWVl6rH7lSllyxeVS9vxzWgYQmUi8AZeoW/aFfP7zq6X4z3+Spg1tz3WlHjBe9pl9j2ScMEXLAAAg+vUbt6/se++fJOuM79pHRNY99C9Zcfssqfvic/sIgEhC4g2EWXNNtay69x5ZfstN0rh2jR4zz3iZb7xH//JGSUhP12MAACC25H7/PNnnrrslec89tbz5s09l+a03y5d33iFbStbpMQCRgcQbCBMzjNxMmrL0qiuk+p239ZhZIizru2fKvvf9uf0ZLwAAELuShg2XvX/9W9njp1dKvL3Gd+1HH+koudVz/iLNtTV6DIC7kXgDYbBpyWe6PJiZNMXf2BjIuD0yaMJE2e+Pf5Lc703X2csBAACCBh05Ufb9w32SfdY54k1I0NnOKxe9Kkt+epmsf/SRtvsJAK5F4g30osa1a2X13Adk5W2/ki3r1+uxlDFjZe877pQ9rjDfZKfpMQAAgO2ZL+Zzpp0r4wIJ+MDDj9BjrU1NsuGpJwMJ+KWy8e239BgA9yHxBnpBw9er5KvZv9Ne7spXX9FjZobykVddrWtyB5/dAgAA2JmEtLS2e4hf3S5JI0bosZbNm+XrP/5BPv3JDCmf/6IuRwbAPUi8gR5Uv3KFfHnnr+WLX1wrNR+8bx8VSZ98rOz7pz+3f1sNAACwq1LGjpV9fjtbRlxyaftkrM0bN8rafz4on112ic4lY3rEAYQfiTfQAzYv+UxWzLpFlt34S6n96EM95omL0wnTzMRpwy/+iR4DAADYXWnHTJZ9/3i/roiSmJWtx5pra3UumU8vvVjWP/G4+Bvq9TiA8CDxBrpR9bvvyFe/u1NW3PYr2bx0qX1UJOP4E3RCFP2DmJlpHwUAAOgeHp+v7Qv+e+/TeWOShgzR4/66Otnw+KPy2U8ulrIXnpfWQBlA7yPxBnZT88YqWf/Yo1Jx682y6g+/l5qiQj1ulgbLPOkU2f+Bv8qwi2ZIQkaGHgcAAOhJZqWUfe7+g+w58xpJHrGHHvNv2SLr/v1PqbjlRl2GzEz4CqD3kHgDXbTp44/kq7vvkk9/crFsePJxad28SY/H9x8gOWefIwcEEu6hP7pA4gcO1OMAAAC9aUDed2Tv394le15znaTsvY99VHQZMjPh64rbZ7U/EgegZ5F4A7uoYuECWXLl5bLyN3dIzfv/s4+KxGXn6FDy/ef+TbLPOVd8KSn2KwAAAOEz4JBDZcyts2Sfu+6WpEPz7KMimz/7VCeBXfqzK6XilZekdetW+xUA3c1jBZigqKhIPB6PxMfH6xYXFyder1ePBbfeUlJSIrm5uXYpvKhLqIKCApk+fbpdCq/e+ky2fPqJbCkqlKYln9lHvpGwzzhJPupoqUzuS1vZTl5enuTn5+sWbvxbduamurjl2sL5cUZbCcX5cUZbceaWz8XUI7t/qjS89ZY0vvv2Ns98exISJC4rW5ICiXqfAw8ST3Ky/UrPoK04c1Nb4boSqqttZZvEe+jQoZIQ+AdnNpN4+3y+sCTeq1evluHDh9ul8KIuoebOnSszZsywS+HVk59J3bIvpOrNN6T6nbfF39BgH23jDfwbMROYDD75lPbZQ2kroXJycmTmzJm6hRvnx5mb6uKWawvnxxltJRTnxxltxZlbPpft62GGnZc9/5xsKVlnH/lG6vgDJe3IiTLwsMN17pruRltx5ta2Ek7R0FYYag500FRWKusffUQ+u/wnsvyWm6TylZe3SbpTxoyV4fkXy/5z/irDLsxvT7oBAAAiUfrkY2Xc7/8go2+8WQYFkuyOzHw2X//pj/LxhRdI8V/u1+VSAXQNiTdiXt2yZVLyyDxZMetWWXLF5bLhqSdla0WF/apIYna25Jz7PdnvT3+RMbNul/Tjjhdfcl/7VQAAgMiXut/+ssdPr5Tx/3pYRlx6ufTbdz/7FZHWpiapWvyaLpdq7pXMuuCbPv3EfhVAZ5B4I+a0bN6sfzy+/sPv5eP/+6Esv+VGKf3v07J56RL7HSJxKf0k88STZOztv9H1t7PPPJvlwAAAQNTz9ekjaUdPkr1uukWXRB0y/QeSNOybIb5mdKBZF3zlHbfJR+dPly9/d6dUvLRQmjdutN8BwAmJN2JCc021fju77Je/kE8u+j8dLrXx3Xe2GUYePyhNe7NHXXe9HPD3f8jQC34sfUePtl8FAACILWZJ1MGnn6GzoZvh6INPO11HAgaZWdBriwplzd//Kp/+ZIYuUVZSME/qvvjcfgeAIBJvRKX6Fcu1F1u/jf3hefLpxfn67Wz9V1/a72hjntnO/f55ss9vZ8v+f5mjz2/3P+hg+1UAAAAYfXKHyJDzzteRgPve+ycZ+qMLJHX/A+xX2zSuXSulzzwty2+9OZCEXy1f/e5OKX32mZD7LyAWkXgjKmxeulR7tM1z2kXnni3LbrpBn9s2zx+Z55KCzBDy9EnHyMifzZTx//iXPrOddcZ3JWnECPsdAAAA2JHErCzJPOkUGX3DTXLgv+fJntf+QjKnnKijB4Ma166RmqJCKZn3kI44/PhHP9A1w80M6g2rVtnvAmIHiTciTlNpqVT/7z1Z//hjUvPvf2qivWLWLdqj3fE5bcOXnCz9Dz5Yhpz/Q9n717/VIeTDf3KZLovBBGkAAAC7x5uYKAMOPkSG/vhCHT24z+zfS+4PzpcBed+RuNRU+10i/i1bpPajD2XdQ/+SL66/VhPxmr/NlZr3/6dD0/0d1hMHohGJN1xta1WV1BR+ICX/KZAVt8/SydCWXHm5rPr9bNnwxGPS9MnH9jvbxPXrpxd683z2Pr+7W8b/498y6trrZfApp0nynnva7wIAAEBPSBo6TLJOPV32nHmNHPDXB2Xf+/4sI6/8mWRMmSrJe4y039WWiDcFEu6v7r5Lh6abJcs+nXGR3u+tm/eQVL3xujQUf22/G4h8JN5wBX9jo9R/uVKHjFe9tki+/O1vAhffC+WzSy+Wr+76rZQ+/ZRs/uzTbSZDM+Kyc2Tg4UfI8BmXyLh7/igH/O0feqE3M5InuWSRfQAAgFiVmJkpA4+YIMN+fJHsfefvdGj6XjffqnPsJO4zbpte8ebaGr3fK3v2GSm+/z754rprdGTj59fM1PXEa4uK9F6xcd06+yeAyEHijV4TTK43vv2mbHjycb2AmmexP7nw/+TjC86XZTdcr0PGix/4s9R+WBS4+NbaP9k2ZLzfuHEy+ORTZPgll8rYX98pBz/6hKT9/FoZedXVkn7scdInJ8d+NwAAANzIDE3vN25fnWNnwIX52iu+/1/m6gjF7DPP0gnbfH23fRywcc1q2fjmG/Ll736j94qfz7xKE/Ill1+qE+muffDv+uz4pk8+1uXOADci8Ua3aSork7ply6T6nbcDF79ndSi42UyPdcfk+us/3ivrH3tUL6Bm9vGWus32b2hjeqoHHX6E5Jz7fRn1ixtkvz/P0SHje938Kxnywwsk/ZjJ0nfPUfa7AQAAEMniBw3SOXnMvZ+ZsG38g//SIepmFKNZzswk6mZ98e01VZTrRLrlC+frs+Mrf327LLni8rak/Mqf6sRuej/61JNStfg12bzkM9myvkSXQQN6m8cKMEFRUZEMHTpUEhISdIuLixOfzycej6d96y2rV6+W4S4ZJkxdvmGG9jRtWC9vLpgvB40apWtjb63aKM0bN4YkzzvjDbSxPkOG6NIUSUOGSlKg7fXJyd1mbcjO4Pw4c0tdcnJyZObMmbqFG+fHmZvqMnfuXJkxY4ZdCh/OjzPaSijOjzPaijO3fC6R3Faaq6ulqXRDIHleL1vKSmXLurWytaysS0PPzWjKhPQMSUgbpLOxF61cKUeffIok7zlK70vDibYSyk116ep1hcR7J6KpLuZi1bJ5UyBJrtOZI1s2b9aE2b+5Tpp1b8ptx/2Bcseh3h01NDRIcuBi1RmJGZkSn5amy06YRDtpyLBAsh1IsDMz7XfsHtqKM7fUhcTbGXVxRjIViro4o62Eoi7OSLxDRWtb2VpRocPMG0tKZGt5uWwpCSTlpnOodpN2Fu3Mju5vTZJuhr+bfVxKiviS2vbe5OAxs++rx/qO3mub59a7grYSyk11IfHuIb1dF5MIN3z5pQ6BaW3eKtbWZvFvbdLyxrIy6R/4R98aOGbZr5vjJvabtapbW+3fEqr+q8Dv7LCe9e4wF6bUzME6LEi/JRwwUBLS03Ufn5YuCQMD+8Bru3vR6QwuCM7cUhcSb2fUxRnJVCjq4oy2Eoq6OCPxDhWrbcVM3NZSW6ubSchNB1NL4FhzdWDbVCtrPl8qGYGEeldHcXaWJu5JSW1bIPYmJGrsDR4zSXyfPuINbBvr6mTwsGF63OOLC2yBnCze3gfLgVzN4/O27b0+8cbHB94Tb//XugfXFWfdkngPDCRU8XE+SQycNJ/XK15zUgMvm5TbbG3vDPy/QGB+LJCOt5XN/zcvBrftyuaIpu0m1tfN8Q5lPWZ2bf+tyooKSQ8kcno0+Hpg099kDprYHAsUtA4dym2x/XPmJ8w+8H/63zfM6/o+O7bf1xa3HTPfMVh+v1gtLVJdWSWpKYFktzmQ7AbKEthaA5vV0hw4FigHkl1NgAOv62uBY5Y/sAX2rYH3mJ/proTXH6iT+TKkJ5ikOa5fSmBLFV9KYB+4IMT17x/Yp4ivXz/9Bs8k0uZ9/3rmGf6IOaAuoUi8nVEXZyRToaiLM9pKKOrijMQ7FG3FWbCtbClZF9hKpKW+Xvz1dYGtIRCbfaAcyJXa9vVtI0gD5e66z++oO+75zSR23yTogcQ8LpCU6z7we4PHgwl7IO8zCZAn8Jo5JoGyObY58L81tf8APa6vm58z79XXA3GgLN62497A79PMLPCaySGtwHHNJTv8Pv3v2rH+bPB3mnib46HTkJWWlkpWVpZdCq9nArnQ6aefbpc6b5vEe/kVl0l84AOIC/yP9gX25n9ysKe7PXFF2G0NnLKmQMLfHNibzZS3+tvKJm4/br8n+P76wD/i+sD76sw+UK5r8UtdYG9e2xW7MtS8p/XklxG7irqEKisrkxQz7KrvtrOThgPnx5mb6uKWawvnxxltJRTnxxltxZlbPhfairPdaSv9Av8b+ga2pECymRjIo0zcJ7DvE8ijzN7kV/q6L3AsUE4MlJPM62azj5n3IjKY9Lkro8G3SbzXXX/tNom32fRNgX1vNoXWQCLoDdQh3FoDdWgJfDzmGxwTW4HPwQrsWz2BOPCPpNV8KvbelC1zXF8Pvq9t33bcxD7xmw8ysG9/TV/32L8/8DN6LFAO/ONsiwM/Y/9s5ebNMnDgwLbKhdF7770nhx12mF0Kr+rqald8JgZ1CTVr1iw5+uijdQs3zo8zN9XFLdcWzo8z2koozo8z2oozt3wutBVnbmgrXvNFREuL1G3cKIPMcPRWv3hMXmTSNXsfyApE/B2OmbK+FvgFwfdareJr/5nA8UC54+8I/pynNbAFymYz79F8L/CaJ1A0x1qat0q86RnXnwnkROZ18z7zM4HQ7E2de4Nb8kNj69at+mj2rgp8XuaT/GaoeUJC/DfPeAeSPY8ZJhD4H2m6/s07NbvXsxIQiDUlDx7bvmyY2D7WFraV23+P2Zsa6PG2fcn6EhmSO6TtWGBre6ktVmancfD3mE1LdhzY2n5pYDO7tmPt30zYcWeeg2A4TiiGbTmjLqEYau6Mujhj+HAo6uKMthKKujjjniUUbcUZbSVUV+thht9bgUTZJPFmbx7DNYm7PsrbfjwQm6S94/FAUt8Wa3q6jWgYam66ylVhYaFVVlZmVVdXW/X19VZTU5PV0tIS+N/uD3wOrfa7ekdxcbEdhR91CTVnzhw7Cj/OjzO31CU7O9uaPXu2XQovzo8zN9XFLdcWzo8z2koozo8z2oozt3wutBVntJVQtBVnXW0r7uivBwAAAAAgSpF4Y5dNnTrVjgCg+3BtQWcdeeSRdgTs2AknnGBHwI7xNwg9jcQbu2zYsGF2BADdh2sLOmufffaxI2DHRowYYUfAjvE3CJ2155572tGuIfFGp1VVVem3gToxXWC77bbb7FcQa+bNm9feDkybMG0D6CpzLaE9YVcE/x69/fbb9hFgW6ZtBK8rZjN/twAnHe9pxo8fL8uXL7dfAdqYvznf//7329tG8MvfjteZzrQdEm90imlw5513npx//vm6dp1Z67CkpIQ/ZDHIXGQeeughqays1LZg2sQNN9wgjY2N9juAzjNJt7mWmGsK7Qmd9ec//1kWLlxol4BtmZvfyy67TN566y29rpi/V+bvFl/UYHumTdx1112ybNkybSv333+/XHnllXwBjHbBHOiLL76wj4gugWeuM2bZ3F1pOyTe6BTTqAzTw2BuiJOSkvQG+c033+QGOYaYc21uXsy5T0tL02OmTdTW1sqaNWu0DHSW+eNkbnpMezLXlC1bttCesFOmzZgva6ZMmWIfAbb12GOPyVlnnSUTJkzQsvl7tWDBgvYyEFRcXKxrdweHmY8dO1aTKvNlDWA6B9LT02X//feXwYMH20dF4uPj9Tpj5hsZM2aMHjvooIP00ZZgzuSExBudYv5YmT9a5o9Xc3OzHjMXK8QW0ytpznvHZ+aSk5Olf//+UlhYaB8BOmf7m2Gfz6c3Oxs3btQysD3zZY358u/qq6+2jwDbCn6hN3nyZPsI8O3M/cx7773X/mWvSZqqq6s12QJMwm3ufS+88EL7SJumpib9AnjkyJH2EdEOhNzcXFm0aJF9JBSJN3ZZSkpK+81PsKcKscN8E9zxD1LwQgPsLqdvkIGOzBc1EydObB9xAzgxf6cMM4Im+Pwlw8zhxHzx++ijj8q5556r7cTc2z799NNcY6BOP/30HeY520/e2DERd0LijV1mvgk0zzqYixXDtgB0FzOky9wcX3rppfYR4BvmebpPPvlEzjzzTPsI4Mzcp5jriZmHxjx7aXoxzTPfJN/Ynmkj5rncV199tX2ekcMPP3ynk2QBXUHijRDmYmNm5gt+S2z+eAWZnu5g0n3TTTfZRxFLzA1Nx2efzHPfZrgNsDuCSbe5CaKnAdsz15m///3vOtyPUVbYGdPjfe+99+q1ZMOGDTqCxjzzvaMhoIg95rpi5ioKzltj5hkx97emrZjRV8DObP/Y7apVq+zIGYk3Qpg/UB9//LF+82e2YIJtEvJjjz1WL1Ak3bHJPM9thtV0vNCYZ1/MZFiHHHKIfQToPHPjc8kll+iXNwzvw7cxz1++9NJLOvGR+ULYPO5iZjU3jyWwugY6Cs47EvyC2DweB3RGfX29HQE71qdPH33MsmOiHeyI2tH8EiTe6BTT022G4lxzzTXa443YZHqazBcv5hko0yYM88yluckJzggK7IrZs2fr/p577qEnE99q+y+ETVJlZjU3y0XxNwkdBf9OmVE05u9Uv379tOPgySefZMI1bMO0FTNnRPCexnzxa0ZembYybdo0+11AqK1bt2obMX+Dgo8lfPjhh9oxZb4g/jYk3ugUk1yZ3oUf/OAH7UPQzWYmLgkmYIgNZhiWuakxPU6mDZg/WHfccQdJE3ZZ8GZ4zpw52kvV8drCs5gAuir4OFzw75S5ETZr7DIvDbZnvrjreE9jRtGYtsIEn9gRk/uYNnLzzTe3j8Qy80gEH3H5NiTe6BRzYQr2NHTcgkuMIbZ0bA+0AXTV9r2YHTdukLEj5ppjrj20E3wb0za4pqAztr/Hpa1ge+Z+xXRABr+QCa7V3fE6Y+5ndvaFjSfwRssERUVFmq2b5VzMFhcXJ16vV48Ft95ixse7ZXmiWK+LaQN9+/bV3sxgG6ioqJCMjAyNDbOud11dnQ676G20FWc9WRfzXItpEwkJCdo+zPk3z0U5PRuVl5cn+fn5uoUbbcVZuOpierhNOzJtKKjjtcXv92ubMs9M9TbOjzO31MVcg0xbGTVqlF5/Nm/erPtw4Pw4C3ddzD2sebbbtBVzHTHXGnMtMfcq5toSLm45R7SVb3RsK2bOGtNWzP2sua6E4742iLYSKlx1MTmQaRc+n0/bhLmO/Otf/5If/ehH2nYSExP1NXNtMdcZ03ZaW1vtn96OSbyNwsJCq6yszKqurrYCFymrqanJamlpsQK/xAr8sP2u3lFcXGxH4UddQs2ZM8eOwo/z48wtdcnOzrZmz55tl8KL8+PMTXVxy7WF8+OMthKK8+OMtuLMLZ8LbcUZbSUUbcVZV9sKQ80BAAAAAOhBJN4AAAAAAPQYkf8HKuahOwDonOMAAAAASUVORK5CYII=)\n",
        "\n",
        "(Image made in desmos)\n",
        "\n",
        "We could get around this by modeling $log(A_i) \\sim Normal(\\mu_i, \\sigma)$ instead.  Alternatively, and preferrably, we might model $A$ as a non-normal distribution that cannot be negative.  We'll get to that later under the topic of **generalized linear models**."
      ],
      "metadata": {
        "id": "gATJq9I5n8_h"
      }
    },
    {
      "cell_type": "markdown",
      "source": [
        "### 5E3\n",
        "#### Question\n",
        "Write down a multiple regression to evaluate the claim: Neither amount of funding nor size of laboratory is by itself a good predictor of time to PhD degree; but together these variables are both positively associated with time to degree. Write down the model definition and indicate which side of zero each slope parameter should be on.\n",
        "\n",
        "#### Answer\n",
        "##### Model Definition\n",
        "Following the same approach in 5E2, let's first define our outcome.  Here, it is *time to PhD* $T$.  Again, we're working with normal linear regression, so we'll assume that $T \\sim Normal(\\mu_i, \\sigma)$.  But also like 5E2, assuming a normal distribution may not be ideal since it permits negative time to PhD; we'll ignore that and charge ahead until we learn about generalized linear models.\n",
        "\n",
        "We are regressing (the expected value of) $T$ on both *funding* $F$ and *size of lab* $S$: $\\mu = \\alpha + \\beta_F F_i + \\beta_S S_i$.  We might additionally consider an interaction $\\beta_{FS} (F_i * S_i)$.\n",
        "\n",
        "So our overall model, without priors, looks like:\n",
        "*   $T \\sim Normal(\\mu_i, \\sigma)$\n",
        "*   $\\mu_i = \\alpha + \\beta_F F_i + \\beta_S S_i$\n",
        "\n",
        "or\n",
        "*   $T \\sim Normal(\\mu_i, \\sigma)$\n",
        "*   $\\mu_i = \\alpha + \\beta_F F_i + \\beta_S S_i + \\beta_{FS} (F_i * S_i)$\n",
        "\n",
        "\n",
        "##### $\\beta$ values\n",
        "Next, the question stipulates that *neither $F$ nor $S$ alone are good predictors of $T$, but that their combined relationship is positively associated with $T$*.  With that information, we are to determine which of $\\beta_F$ and $\\beta_S$ (and possibly $\\beta_{FS})$ are positive values.\n",
        "\n",
        "I think the wording here is a bit unclear.  Firstly, my intuitions are violated by the question.  The problem asserts that funding and lab size predict more time to complete a PhD...which makes thinking about the problem confusing.  So to make it simpler, I'm going to assume that $T$ actually represents something like *time less than 10 years to complete a PhD*, so that $F$ and $S$ increase the time saved (i.e., decrease total time to PhD).\n",
        "\n",
        "Next, what does it mean for a predictor to be a *poor* predictor?  And what does it mean to consider the variables *together*?  I think that a poor predictor is a predictor, either $F$ or $S$, that has a $\\beta$ coefficient (that is, the association between the predictor and the outcome) with crediibility intervals that semi-evenly straddle 0 **in a single-explanatory-variable regression** --$\\mu_i = \\alpha + \\beta_F F_i$  or $\\mu_i = \\alpha + \\beta_S S_i$.  These univariate regressions are what \"considered alone\" means; thus, \"considered together\" means combining them in a multivariate regression $\\mu = \\alpha + \\beta_F F_i + \\beta_S S_i$ (ignoring the interaction term for now).\n",
        "\n",
        "In this case, it raises the question \"How can neither $F$ nor $S$ have no association with $T$ in univariate regression, but both have positive associations in multivariate regression?\".\n",
        "\n",
        "The answer could be that $F$ and $S$ are negatively associated: if larger labs tended be less funded, or well-funded labs had less students.  This also violates my intuitions, so let's take $F$ to be *funding per student*.  Now a negative relationship between $F$ and $S$ makes sense; more students in a lab results in less funding per student.\n",
        "\n",
        "Then, a univariate regression, say $\\mu_i = \\alpha + \\beta_F F_i$, the unacknowledged variable, $S$ would be hiding in the data--labs with more funding would have fewer students, thus decreasing $T$ (possibly due to an impoverished learning environment) even though we didn't account for it in the regression.  Similarly for $\\mu_i = \\alpha + \\beta_S S_i$, $F$ would hide in the data and covertly decrease $T$.  (This might be called the **missing-variable bias**)\n",
        "\n",
        "Things get squirrelly if I allow an interaction term $\\mu_i = \\alpha + \\beta_F F_i + \\beta_S S_i + \\beta_{FS} (F_i * S_i)$.  If I take \"consider variables together\" to refer to the interaction $\\beta_{FS} (F_i * S_i)$, then $\\beta_F$ and $\\beta_S$ can be either positive or negative because only the interaction is the consideration of their combination."
      ],
      "metadata": {
        "id": "2loBlQOJs0wY"
      }
    },
    {
      "cell_type": "markdown",
      "source": [
        "### 5E4\n",
        "#### Question\n",
        "Suppose you have a single categorical predictor with 4 levels (unique values), labeled $A$, $B$, $C$,  and $D$. Let $A_i$ be an indicator variable that is 1 where case $i$ is in category $A$. Also suppose $B_i$, $C_i$,  and $D_i$ for the other categories. Now which of the following linear models are inferentially equivalent  ways to include the categorical variable in a regression? Models are inferentially equivalent when it’s  possible to compute one posterior distribution from the posterior distribution of another model.\n",
        "1.   $\\mu_i = \\alpha + \\beta_A A_i + \\beta_B B_i + \\beta_D D_i$\n",
        "2.   $\\mu_i = \\alpha + \\beta_A A_i + \\beta_B B_i + \\beta_C C_i + \\beta_D D_i$\n",
        "3.   $\\mu_i = \\alpha + \\beta_B B_i + \\beta_C C_i + \\beta_D D_i$\n",
        "4.   $\\mu_i = \\alpha_A A_i + \\alpha_B B_i + \\alpha_C C_i + \\alpha_D D_i$\n",
        "5.   $\\mu_i = \\alpha_A(1-B_i-C_i-D_i) + \\alpha_B B_i + \\alpha_C C_i + \\alpha_D D_i$\n",
        "\n",
        "#### Answer\n",
        "It's important to keep in mind that $A$, $B$, $C$, and $D$ are different categories of the same thing--like color of shirts: red, yellow, blue, green.  Two tacit assumptions in this question are that the a) every datapoint is one of the 4 categories (there is no category $E$ or purple shirt, for instance) and b) no datapoint is more than 1 category (e.g., all shirts are solid colors--no stripes or polka dots).  In regression, it is common (though not necessary, as we'll see in later chapters) to *binarize* (if that's a word) categorical variables.  \"Is the shirt red? yes=1, no=0.  Is the shirt yellow? yes=1, no=0.  etc.\"\n",
        "\n",
        "Starting from regression (1).  Does this regression capture all 4 categories?  You might initially think not since $C$ is missing.  However, it *does* contain an intercept $\\alpha$.  This intercept is the value when all other variables are 0.  So here, $\\alpha$ represents the value of $\\mu$ when all but $C$ are 0.\n",
        "\n",
        "Is (2) the same as (1)?  Regression (2) contains terms for each category, plus an additional $\\alpha$.  So while this data can model the 4 categories in our data, it is estimating an additional parameter.  Thus (1) and (2) are not equal.\n",
        "\n",
        "Now to (3).  Is (3) equivalent to either (1) or (2).  Whereas regression (1) omitted $C$, regression (3) included $C$ but omits $A$; both (1) and (3) also contain an intercept $\\alpha$; the only difference is that, whereas $\\alpha$ represents $C$ in (1), $\\alpha$ represents $A$ in (3).  By the same logic used for (1), (3) can handle all 4 categories.  (1) and (3) also have the same number of parameters.  We will get the same posterior values for (1) and (3), so (1) and (3) are equivalent.\n",
        "\n",
        "Regression (4) contains all $\\alpha$'s as coefficients.  Even though $\\alpha$ is generally used as an intercept and and $\\beta$ as a slope (coefficient for predictor-variable data), these are just labels.  So don't be put off by the change in symbolism.  We see that (4) has a term for each category, this time omitting an intercept.  Assuming that every datapoint will be either $A$, $B$, $C$, or $D$, (4) is equivalent to both (1) and (3).\n",
        "\n",
        "Finally, regression (5) has terms for each category.  But the term for $A$ is weird: $\\alpha_A(1-B_i-C_i-D_i)$.  But let's think it through.  This term is only non-zero when $B$, $C$, and $D$ are 0; in other words, when the datapoint category is $A$.  Again, we have terms for each category and the same number of parameters as (1), (3), and (4).\n",
        "\n",
        "So all but (2) are equivalent."
      ],
      "metadata": {
        "id": "wG3eJemyapGI"
      }
    },
    {
      "cell_type": "markdown",
      "source": [
        "## Medium"
      ],
      "metadata": {
        "id": "xtg81xjLVdZv"
      }
    },
    {
      "cell_type": "markdown",
      "source": [
        "### 5M1 - 5M2\n",
        "#### Questions\n",
        "1.   Invent your own example of a spurious correlation. An outcome variable should be correlated with both predictor variables. But when both predictors are entered in the same model, the correlation between the outcome and one of the predictors should mostly vanish (or at least be greatly reduced).\n",
        "\n",
        "2.   Invent your own example of a masked relationship. An outcome variable should be correlated with both predictor variables, but in opposite directions. And the two predictor variables should be correlated with one another.\n",
        "\n",
        "#### Answers\n",
        "I'm tackling 5M1 and 5M2 together since they describe similar phenomena with regression.  The overall lesson that spurious associations and masked relationship teach us is that, when we are concerned with inference (how certain variable affect an outcome), **we must be thoughtful about our regression**; we should not blindly include predictor variables into the regression because their relationships with one another can have erroneous effects on the results of the regression.  *Spurious associations* and *masked relations* are two examples of this.\n",
        "\n",
        "Directed Acyclic Graphs (DAGs) are a tool we can use to think through our regressions, and hopefully avoid erroneous inference.  Besides Statistical Rethinking, a great book to learn more about DAGs is Judea Pearl's [Causal Inference in Statistics - A Primer](https://www.amazon.com/Causal-Inference-Statistics-Judea-Pearl/dp/1119186846/ref=sr_1_3?crid=2KWU5AD11OOY0&keywords=judea+pearl&qid=1707491168&sprefix=judea+pea%2Caps%2C438&sr=8-3)  We can build DAGs in R; we can also go to [dagitty.net](https://www.dagitty.net/) and build a DAG in our internet browswer.\n",
        "\n",
        "Let's look at spurious correlations and masked relationships, starting with **spurious correlations**."
      ],
      "metadata": {
        "id": "OB23UpgfVgxt"
      }
    },
    {
      "cell_type": "code",
      "source": [
        "library(dagitty)\n",
        "\n",
        "# Spurious Correlation\n",
        "SprCor_DAG <- dagitty(\"dag {F -> X; F -> Y}\")\n",
        "coordinates(SprCor_DAG) <- list(x=c(X=1, F=2, Y=3), y=c(X=2, F=1, Y=2))\n",
        "drawdag(SprCor_DAG)"
      ],
      "metadata": {
        "colab": {
          "base_uri": "https://localhost:8080/",
          "height": 437
        },
        "id": "DcDx3SruaX-X",
        "outputId": "2b2deba9-7ffd-486c-89ff-92d2f845b015"
      },
      "execution_count": null,
      "outputs": [
        {
          "output_type": "display_data",
          "data": {
            "text/plain": [
              "plot without title"
            ],
            "image/png": "[encoded data removed]"
          },
          "metadata": {
            "image/png": {
              "width": 420,
              "height": 420
            }
          }
        }
      ]
    },
    {
      "cell_type": "markdown",
      "source": [
        "In a spurious correlation, both X and Y share a common cause F (for \"fork\").  If F is not included in the regression, then an association between X and Y will be revealed by our regression due to their common cause F even though X does not cause Y; without something like a DAG, we might falsely conclude that X affects Y.\n",
        "\n",
        "Here, we might think of F as *how hot the temperature is*, X as *icecream sales*, and Y as *number of heat-related medical emergencies*.  Obviously, icecream sales do not cause heat-related medical emergencies--they are both a consequence of hot weather--but if we only include icecream sales and number of heat-related medical emergencies in a regression, then it could seem as though a causal relationship exists.\n",
        "\n",
        "Let's test this by generating some data and running a model with that data."
      ],
      "metadata": {
        "id": "CzdAMGP8c1fY"
      }
    },
    {
      "cell_type": "code",
      "source": [
        "F <- rnorm(n=1000, mean=60, sd=15) # A vector of temperatures, with a mean of 60 deg (Farenheit) and standard deviation of 15\n",
        "X <- 1*F + rnorm(1000) # X, icecream sales, is a function of temperature\n",
        "Y <- 2*F + rnorm(1000) # Y, heat-related medical emergencies, also a function of temperature\n",
        "\n",
        "SprCor_Reg <- lm(Y ~ X)\n",
        "summary(SprCor_Reg)"
      ],
      "metadata": {
        "colab": {
          "base_uri": "https://localhost:8080/",
          "height": 349
        },
        "id": "hRnVr0uZctQH",
        "outputId": "711fcdb4-e31a-4d64-96f5-f864893a270c"
      },
      "execution_count": null,
      "outputs": [
        {
          "output_type": "display_data",
          "data": {
            "text/plain": [
              "\n",
              "Call:\n",
              "lm(formula = Y ~ X)\n",
              "\n",
              "Residuals:\n",
              "    Min      1Q  Median      3Q     Max \n",
              "-6.8242 -1.4683  0.0448  1.4495  7.1816 \n",
              "\n",
              "Coefficients:\n",
              "            Estimate Std. Error t value Pr(>|t|)    \n",
              "(Intercept) 0.433579   0.293189   1.479    0.139    \n",
              "X           1.994405   0.004755 419.431   <2e-16 ***\n",
              "---\n",
              "Signif. codes:  0 ‘***’ 0.001 ‘**’ 0.01 ‘*’ 0.05 ‘.’ 0.1 ‘ ’ 1\n",
              "\n",
              "Residual standard error: 2.247 on 998 degrees of freedom\n",
              "Multiple R-squared:  0.9944,\tAdjusted R-squared:  0.9944 \n",
              "F-statistic: 1.759e+05 on 1 and 998 DF,  p-value: < 2.2e-16\n"
            ]
          },
          "metadata": {}
        }
      ]
    },
    {
      "cell_type": "markdown",
      "source": [
        "Here I'm useing the R's inbuilt `lm()` function to run the regression; I apologize for using a Frequentist model, but it's fine for our purposes here.\n",
        "\n",
        "You see that the relationship between X and Y is highly significant, which could lead one to conclude that icecream sales increase heat-related medical emergencies. But we know this wrong because **we made the data**.\n",
        "\n",
        "Now let's put temperature (F) into the regression; notice what happens to the estimates for X -> Y."
      ],
      "metadata": {
        "id": "QqSUH43gfxK8"
      }
    },
    {
      "cell_type": "code",
      "source": [
        "SprCor_Reg_fixed <- lm(Y ~ X + F)\n",
        "summary(SprCor_Reg_fixed)"
      ],
      "metadata": {
        "colab": {
          "base_uri": "https://localhost:8080/",
          "height": 368
        },
        "id": "Qy70l68CgM7W",
        "outputId": "a3b3859b-691d-4122-b8b6-9bb562cdaf20"
      },
      "execution_count": null,
      "outputs": [
        {
          "output_type": "display_data",
          "data": {
            "text/plain": [
              "\n",
              "Call:\n",
              "lm(formula = Y ~ X + F)\n",
              "\n",
              "Residuals:\n",
              "    Min      1Q  Median      3Q     Max \n",
              "-3.2354 -0.6850 -0.0327  0.7057  3.3815 \n",
              "\n",
              "Coefficients:\n",
              "             Estimate Std. Error t value Pr(>|t|)    \n",
              "(Intercept) -0.071984   0.134581  -0.535    0.593    \n",
              "X            0.002726   0.032565   0.084    0.933    \n",
              "F            1.998302   0.032600  61.298   <2e-16 ***\n",
              "---\n",
              "Signif. codes:  0 ‘***’ 0.001 ‘**’ 0.01 ‘*’ 0.05 ‘.’ 0.1 ‘ ’ 1\n",
              "\n",
              "Residual standard error: 1.03 on 997 degrees of freedom\n",
              "Multiple R-squared:  0.9988,\tAdjusted R-squared:  0.9988 \n",
              "F-statistic: 4.209e+05 on 2 and 997 DF,  p-value: < 2.2e-16\n"
            ]
          },
          "metadata": {}
        }
      ]
    },
    {
      "cell_type": "markdown",
      "source": [
        "Now the relationship between F and Y is strong while the relationship between X and Y is weak--as they should be.\n",
        "\n",
        "Now let's tackle **masked relationships**."
      ],
      "metadata": {
        "id": "H-ozsALIgUYG"
      }
    },
    {
      "cell_type": "code",
      "source": [
        "library(dagitty)\n",
        "\n",
        "# Masked Relationship\n",
        "MskRel_DAG <- dagitty(\"dag {X -> M -> Y}\")\n",
        "coordinates(MskRel_DAG) <- list(x=c(X=1, M=2, Y=3), y=c(X=1, M=1, Y=1))\n",
        "drawdag(MskRel_DAG)"
      ],
      "metadata": {
        "id": "igccZ9BfhDVE",
        "colab": {
          "base_uri": "https://localhost:8080/",
          "height": 437
        },
        "outputId": "dc5a3dfa-45aa-4bec-ec9c-a96ce4a60439"
      },
      "execution_count": null,
      "outputs": [
        {
          "output_type": "display_data",
          "data": {
            "text/plain": [
              "plot without title"
            ],
            "image/png": "[encoded data removed]"
          },
          "metadata": {
            "image/png": {
              "width": 420,
              "height": 420
            }
          }
        }
      ]
    },
    {
      "cell_type": "markdown",
      "source": [
        "In a masked relationship, X affects Y through M (for mediator)--X affects M, then M goes on to affect Y.  If M is included in the regression, the effect of X on Y is *masked*; without something like the DAG, we may conclude that X does not affect Y.  Excluding M from the regression, however, preserves the effect of X on Y.\n",
        "\n",
        "Here, we might think of Y as a blood pressure, X as a drug to reduce blood pressure, and M as the mechanism by which the drug X prevents heart attack Y (let's say it reduces blood volume by increasing urination).  If our regression considtions on both drug and urinary output, the effect of drug on blood pressure will be masked since it works via urinary output.  Let's see this in some code."
      ],
      "metadata": {
        "id": "EW7JOS8HDf_T"
      }
    },
    {
      "cell_type": "code",
      "source": [
        "x <- rlnorm(1000) # dose of drug\n",
        "m <- 120 - x*10 + rnorm(1000, mean=5, sd= 2) # urinary output as a function of drug dose\n",
        "y <- m - rnorm(1000, mean=10, sd=5)\n",
        "\n",
        "MskRel_Reg <- lm(y ~ x + m)\n",
        "summary(MskRel_Reg)\n",
        "\n",
        "MskRel_Reg_fixed <- lm(y ~ x)\n",
        "summary(MskRel_Reg_fixed)"
      ],
      "metadata": {
        "colab": {
          "base_uri": "https://localhost:8080/",
          "height": 700
        },
        "id": "V2buneqYIZmS",
        "outputId": "93881154-07e0-44f1-c4f4-6d95719cbebf"
      },
      "execution_count": null,
      "outputs": [
        {
          "output_type": "display_data",
          "data": {
            "text/plain": [
              "\n",
              "Call:\n",
              "lm(formula = y ~ x + m)\n",
              "\n",
              "Residuals:\n",
              "     Min       1Q   Median       3Q      Max \n",
              "-18.7375  -3.0248  -0.0395   3.1548  19.3748 \n",
              "\n",
              "Coefficients:\n",
              "            Estimate Std. Error t value Pr(>|t|)    \n",
              "(Intercept) -8.74998    9.37721  -0.933    0.351    \n",
              "x           -0.02849    0.75453  -0.038    0.970    \n",
              "m            0.98931    0.07494  13.201   <2e-16 ***\n",
              "---\n",
              "Signif. codes:  0 ‘***’ 0.001 ‘**’ 0.01 ‘*’ 0.05 ‘.’ 0.1 ‘ ’ 1\n",
              "\n",
              "Residual standard error: 4.798 on 997 degrees of freedom\n",
              "Multiple R-squared:  0.9526,\tAdjusted R-squared:  0.9525 \n",
              "F-statistic: 1.001e+04 on 2 and 997 DF,  p-value: < 2.2e-16\n"
            ]
          },
          "metadata": {}
        },
        {
          "output_type": "display_data",
          "data": {
            "text/plain": [
              "\n",
              "Call:\n",
              "lm(formula = y ~ x)\n",
              "\n",
              "Residuals:\n",
              "     Min       1Q   Median       3Q      Max \n",
              "-18.9617  -3.1273   0.0922   3.3179  21.3317 \n",
              "\n",
              "Coefficients:\n",
              "             Estimate Std. Error t value Pr(>|t|)    \n",
              "(Intercept) 115.01342    0.20467     562   <2e-16 ***\n",
              "x            -9.94529    0.07648    -130   <2e-16 ***\n",
              "---\n",
              "Signif. codes:  0 ‘***’ 0.001 ‘**’ 0.01 ‘*’ 0.05 ‘.’ 0.1 ‘ ’ 1\n",
              "\n",
              "Residual standard error: 5.197 on 998 degrees of freedom\n",
              "Multiple R-squared:  0.9443,\tAdjusted R-squared:  0.9442 \n",
              "F-statistic: 1.691e+04 on 1 and 998 DF,  p-value: < 2.2e-16\n"
            ]
          },
          "metadata": {}
        }
      ]
    },
    {
      "cell_type": "markdown",
      "source": [
        "As promised, including M in the `MskRel_Reg` regression maskes the effect of the drug X on blood pressure Y.  Excluding M in the `MskRel_Reg_fixed` regression reveals the effect of drug on blood pressure."
      ],
      "metadata": {
        "id": "BUKHj_m4KTfM"
      }
    },
    {
      "cell_type": "markdown",
      "source": [
        "For both the *fork* structure in the spurious relationship and the *mediator* structure in the masked relationship, conditioning on the \"middle\" variable between X and Y (F or M, respectively), by including it the regression, disassociates X and Y.  In the first case, forks and spurious relationships, this is what we want; but in the second case, mediators and masked relationships, we don't want this.\n",
        "\n",
        "Thus, our decision to include a variable in the regression is contingent on knowledge/conjecture about the subject matter."
      ],
      "metadata": {
        "id": "__3nekg-KvYS"
      }
    },
    {
      "cell_type": "markdown",
      "source": [
        "### 5M3\n",
        "#### Question\n",
        "It is sometimes observed that the best predictor of fire risk is the presence of firefighters—-States and localities with many firefighters also have more fires. Presumably firefighters do not cause fires. Nevertheless, this is not a spurious correlation. Instead fires cause firefighters. Consider the same reversal of causal inference in the context of the divorce and marriage data. How might a high divorce rate cause a higher marriage rate? Can you think of a way to evaluate this relationship, using  multiple regression?\n",
        "\n",
        "#### Answer\n",
        "I guess I need to decide on a definition of \"rate\".  It could be the number of events (marriages or divorces) in a given period of time, but I think it could be refer to the proportion of people currently married/divorced.  In the first case, as long as divorce didn't dissuade people from the idea of being remarried, divorce increases the pool of people that may get married--thus, increasing the number of marriages in a given period of time.  In the second case, divorce can still be a cause of marriage rate but I don't think divorce can cause marriage rate to increase since every divorce would be reducing the rate of marriage.\n",
        "\n",
        "The second scenario is basically a tautology, and so doesn't require any further analysis; it is true by definition.  But the first scenario could bear analysis.  The first thought is to regress marriage rate on divorce rate like:\n",
        "> $R_m = \\beta_d R_d + \\epsilon$\n",
        "\n",
        "where $\\epsilon$ represents other factors of marriage rate.  This assumes a causal relation like"
      ],
      "metadata": {
        "id": "_kBkP0a3orGf"
      }
    },
    {
      "cell_type": "code",
      "source": [
        "library(dagitty)\n",
        "\n",
        "Div_Mar_DAG <- dagitty(\"dag{D -> M <- e}\")\n",
        "coordinates(Div_Mar_DAG) <- list(x=c(D=1, M=2, e=2), y=c(D=1, M=1, e=2))\n",
        "drawdag(Div_Mar_DAG)"
      ],
      "metadata": {
        "colab": {
          "base_uri": "https://localhost:8080/",
          "height": 437
        },
        "id": "Atidaus7sRoe",
        "outputId": "7db80fac-a70f-432a-d2f9-1300568ed6e1"
      },
      "execution_count": null,
      "outputs": [
        {
          "output_type": "display_data",
          "data": {
            "text/plain": [
              "plot without title"
            ],
            "image/png": "[encoded data removed]"
          },
          "metadata": {
            "image/png": {
              "width": 420,
              "height": 420
            }
          }
        }
      ]
    },
    {
      "cell_type": "markdown",
      "source": [
        "If that is DAG is okay, then fine.  But it's probably more complicated than that.  For one marriage rate is probably a cause of divorce rate (by the same reasoning as divorce rate is a cause of marriage rate).  Now we have *cyclic* causation...and our DAG is no longer a DAG since it's not acyclic."
      ],
      "metadata": {
        "id": "51Oju-GNtIgx"
      }
    },
    {
      "cell_type": "code",
      "source": [
        "library(dagitty)\n",
        "\n",
        "Div_Mar_DAG2 <- dagitty(\"dag{D -> M <- e; M -> D}\")\n",
        "coordinates(Div_Mar_DAG2) <- list(x=c(D=1, M=2, e=2), y=c(D=1, M=1, e=2))\n",
        "drawdag(Div_Mar_DAG2) # notice the arrow between D and M is two-headed.  It would be better to have two 1-headed arrows, but I'm not sure dagitty allows this."
      ],
      "metadata": {
        "colab": {
          "base_uri": "https://localhost:8080/",
          "height": 437
        },
        "id": "j52Nyf_Jtnv3",
        "outputId": "9d434127-4175-4fb1-d9f7-05e10d0f567a"
      },
      "execution_count": null,
      "outputs": [
        {
          "output_type": "display_data",
          "data": {
            "text/plain": [
              "plot without title"
            ],
            "image/png": "[encoded data removed]"
          },
          "metadata": {
            "image/png": {
              "width": 420,
              "height": 420
            }
          }
        }
      ]
    },
    {
      "cell_type": "markdown",
      "source": [
        "For reasons we won't get into here, simple regression doesn't handle cyclic relations between an outcome and predictor (marriage and divorce, in this case).\n",
        "\n",
        "(Here's two links to [part 1](https://youtu.be/yBipwlHXxJc?si=HCbnlzZj3vAXNvtg) and [part 2](https://youtu.be/1VWevzuw4TI?si=Y-7wQo4sPY1gx8oB) of Ben Lambert's discussion on reverse causation.  If you're interested in regression and Bayesian stats, you should check out his contents.  Along with Statistical Rethinking, Lambert's **[A Student's Guide to Bayesian Statistics](https://www.amazon.com/Students-Guide-Bayesian-Statistics/dp/1473916364/ref=sr_1_1?crid=2HS0PSRNZ2W3Q&keywords=Ben+Lambert&qid=1707664619&sprefix=ben+lam%2Caps%2C449&sr=8-1)** are the best books I've encountered for learning Bayesian stats.)\n",
        "\n",
        "Instead, we would need to institute something like a *time-series* analysis, where marriage and divorce would be assessed at discrete timepoints."
      ],
      "metadata": {
        "id": "_VI2-qeUuNVT"
      }
    },
    {
      "cell_type": "code",
      "source": [
        "library(dagitty)\n",
        "\n",
        "Div_Mar_TimeSeries_DAG <- dagitty(\"dag{D1 -> M2;\n",
        "                                       M1 -> D2;\n",
        "                                       D2 -> M3;\n",
        "                                       M2 -> D3}\")\n",
        "coordinates(Div_Mar_TimeSeries_DAG) <- list(x=c(D1=1, D2=2, D3=3,\n",
        "                                                M1=1, M2=2, M3=3),\n",
        "                                            y=c(D1=1, D2=1, D3=1,\n",
        "                                                M1=2, M2=2, M3=2))\n",
        "drawdag(Div_Mar_TimeSeries_DAG) # I'm ignoring the epsilon terms for clarity"
      ],
      "metadata": {
        "colab": {
          "base_uri": "https://localhost:8080/",
          "height": 437
        },
        "id": "FvYBqmYPwLIm",
        "outputId": "48b005a1-433d-498a-b255-ebf3c5598c04"
      },
      "execution_count": null,
      "outputs": [
        {
          "output_type": "display_data",
          "data": {
            "text/plain": [
              "plot without title"
            ],
            "image/png": "[encoded data removed]"
          },
          "metadata": {
            "image/png": {
              "width": 420,
              "height": 420
            }
          }
        }
      ]
    },
    {
      "cell_type": "markdown",
      "source": [
        "### 5M4\n",
        "#### Question\n",
        "In the divorce data, States with high numbers of members of the Church of Jesus Christ of Latter-day Saints (LDS) have much lower divorce rates than the regression models expected. Find a list of LDS population by State and use those numbers as a predictor variable, predicting divorce rate using marriage rate, median age at marriage, and percent LDS population (possibly standardized). You may want to consider transformations of the raw percent LDS variable.\n",
        "\n",
        "#### Answer\n",
        "First, we need to find some data.  I scrubbed mine from [here](https://www.worldatlas.com/articles/mormon-population-by-state.html).  If you do this for yourself, note that Nevada is missing from the `WaffleDivorce` dataset."
      ],
      "metadata": {
        "id": "Agei2LBHv7ve"
      }
    },
    {
      "cell_type": "code",
      "source": [
        "data(WaffleDivorce)\n",
        "d <- WaffleDivorce\n",
        "d$LDS_perc <- c(0.77, 4.56, 6.10, 1.03, 1.97, 2.74, 0.44, 0.57, 0.40, 0.75, 0.82, 5.17, 26.42, 0.45, 0.67, 0.90, 1.29, 0.79, 0.64, 0.82, 0.72, 0.40, 0.45, 0.59, 0.73, 1.16, 4.81, 1.30, 0.65, 0.37, 3.35, 0.41, 0.84, 1.49, 0.53, 1.21, 3.76, 0.40, 0.39, 0.81, 1.21, 0.75, 1.25, 67.70, 0.73, 1.13, 3.94, 0.93, 0.46, 11.53)"
      ],
      "metadata": {
        "id": "FnZH29pe4mCW"
      },
      "execution_count": null,
      "outputs": []
    },
    {
      "cell_type": "markdown",
      "source": [
        "The question suggests standardizing the variables we'll use, so who am I to disagree?  I'm also going to put these into a different `data.frame()`."
      ],
      "metadata": {
        "id": "XDiflpVg8VR8"
      }
    },
    {
      "cell_type": "code",
      "source": [
        "d2 <- data.frame(DivRate = standardize(d$Divorce),\n",
        "                 MarRate = standardize(d$Marriage),\n",
        "                 Age = standardize(d$MedianAgeMarriage),\n",
        "                 LDS = standardize(d$LDS_perc))"
      ],
      "metadata": {
        "id": "5m-r0AmX8FhS"
      },
      "execution_count": null,
      "outputs": []
    },
    {
      "cell_type": "markdown",
      "source": [
        "Now let's build a model."
      ],
      "metadata": {
        "id": "6lvRg43T9t27"
      }
    },
    {
      "cell_type": "code",
      "source": [
        "m <- quap(\n",
        "  alist(\n",
        "    DivRate ~ dnorm(mu, sigma),\n",
        "      mu <- a + b_M*MarRate + b_A*Age + b_L*LDS,\n",
        "        a ~ dnorm(0, 0.2),\n",
        "        b_M ~ dnorm(0, 0.5),\n",
        "        b_A ~ dnorm(0, 0.5),\n",
        "        b_L ~ dnorm(0, 0.5),\n",
        "      sigma ~ dexp(1)\n",
        "  ), data=d2\n",
        ")\n",
        "\n",
        "round(precis(m),2)"
      ],
      "metadata": {
        "colab": {
          "base_uri": "https://localhost:8080/",
          "height": 255
        },
        "id": "UHsSdf5g9wVI",
        "outputId": "c98ad275-0e05-4921-938e-1402b1289f9c"
      },
      "execution_count": null,
      "outputs": [
        {
          "output_type": "display_data",
          "data": {
            "text/html": [
              "<table class=\"dataframe\">\n",
              "<caption>A data.frame: 5 × 4</caption>\n",
              "<thead>\n",
              "\t<tr><th></th><th scope=col>mean</th><th scope=col>sd</th><th scope=col>5.5%</th><th scope=col>94.5%</th></tr>\n",
              "\t<tr><th></th><th scope=col>&lt;dbl&gt;</th><th scope=col>&lt;dbl&gt;</th><th scope=col>&lt;dbl&gt;</th><th scope=col>&lt;dbl&gt;</th></tr>\n",
              "</thead>\n",
              "<tbody>\n",
              "\t<tr><th scope=row>a</th><td> 0.00</td><td>0.09</td><td>-0.15</td><td> 0.15</td></tr>\n",
              "\t<tr><th scope=row>b_M</th><td> 0.04</td><td>0.15</td><td>-0.20</td><td> 0.27</td></tr>\n",
              "\t<tr><th scope=row>b_A</th><td>-0.69</td><td>0.14</td><td>-0.92</td><td>-0.46</td></tr>\n",
              "\t<tr><th scope=row>b_L</th><td>-0.31</td><td>0.12</td><td>-0.51</td><td>-0.12</td></tr>\n",
              "\t<tr><th scope=row>sigma</th><td> 0.73</td><td>0.07</td><td> 0.62</td><td> 0.85</td></tr>\n",
              "</tbody>\n",
              "</table>\n"
            ],
            "text/markdown": "\nA data.frame: 5 × 4\n\n| <!--/--> | mean &lt;dbl&gt; | sd &lt;dbl&gt; | 5.5% &lt;dbl&gt; | 94.5% &lt;dbl&gt; |\n|---|---|---|---|---|\n| a |  0.00 | 0.09 | -0.15 |  0.15 |\n| b_M |  0.04 | 0.15 | -0.20 |  0.27 |\n| b_A | -0.69 | 0.14 | -0.92 | -0.46 |\n| b_L | -0.31 | 0.12 | -0.51 | -0.12 |\n| sigma |  0.73 | 0.07 |  0.62 |  0.85 |\n\n",
            "text/latex": "A data.frame: 5 × 4\n\\begin{tabular}{r|llll}\n  & mean & sd & 5.5\\% & 94.5\\%\\\\\n  & <dbl> & <dbl> & <dbl> & <dbl>\\\\\n\\hline\n\ta &  0.00 & 0.09 & -0.15 &  0.15\\\\\n\tb\\_M &  0.04 & 0.15 & -0.20 &  0.27\\\\\n\tb\\_A & -0.69 & 0.14 & -0.92 & -0.46\\\\\n\tb\\_L & -0.31 & 0.12 & -0.51 & -0.12\\\\\n\tsigma &  0.73 & 0.07 &  0.62 &  0.85\\\\\n\\end{tabular}\n",
            "text/plain": [
              "      mean  sd   5.5%  94.5%\n",
              "a      0.00 0.09 -0.15  0.15\n",
              "b_M    0.04 0.15 -0.20  0.27\n",
              "b_A   -0.69 0.14 -0.92 -0.46\n",
              "b_L   -0.31 0.12 -0.51 -0.12\n",
              "sigma  0.73 0.07  0.62  0.85"
            ]
          },
          "metadata": {}
        }
      ]
    },
    {
      "cell_type": "markdown",
      "source": [
        "It looks like, as hypothesized, LDS is negativelya associated with a state's divorce rate.  "
      ],
      "metadata": {
        "id": "ZcWjCtfC-rg6"
      }
    },
    {
      "cell_type": "markdown",
      "source": [
        "### 5M5\n",
        "#### Question\n",
        "One way to reason through multiple causation hypotheses is to imagine detailed mechanisms through which predictor variables may influence outcomes. For example, it is sometimes argued that the price of gasoline (predictor variable) is positively associated with lower obesity rates (outcome variable). However, there are at least two important mechanisms by which the price of gas could  reduce obesity. First, it could lead to less driving and therefore more exercise. Second, it could lead to less driving, which leads to less eating out, which leads to less consumption of huge restaurant meals.  Can you outline one or more multiple regressions that address these two mechanisms? Assume you  can have any predictor data you need.\n",
        "\n",
        "#### Answer\n",
        "This question is pretty open-ended.  I'm not sure what it means to \"outline\" some regressions, but I'll give it a go.\n",
        "\n",
        "First things first.  The question emphasizes that regression can be used/thought of as describing a causal network.  This is what DAGs are great for.  So let's create a DAG detailing the mechanisms in the question."
      ],
      "metadata": {
        "id": "xx3pOB5qxpmH"
      }
    },
    {
      "cell_type": "code",
      "source": [
        "library(dagitty)\n",
        "\n",
        "Gas_Obesity_DAG <- dagitty(\"dag{GasPrice -> Driving -> Exercise -> Obesity;\n",
        "                                GasPrice -> Driving -> Restaurant -> Obesity;\n",
        "                                GasPrice -> ExpendableMoney -> Restaurant}\")\n",
        "coordinates(Gas_Obesity_DAG) <- list(x=c(GasPrice=1, Driving=2, ExpendableMoney=2, Exercise=3, Restaurant=3, Obesity=4),\n",
        "                                     y=c(GasPrice=0, Driving=-1, ExpendableMoney=1, Exercise=-1, Restaurant=0, Obesity=0))\n",
        "drawdag(Gas_Obesity_DAG)"
      ],
      "metadata": {
        "colab": {
          "base_uri": "https://localhost:8080/",
          "height": 437
        },
        "id": "xGQAZuYU39_9",
        "outputId": "5280ae05-e15e-4cee-8d50-a491169692b5"
      },
      "execution_count": null,
      "outputs": [
        {
          "output_type": "display_data",
          "data": {
            "text/plain": [
              "plot without title"
            ],
            "image/png": "[encoded data removed]"
          },
          "metadata": {
            "image/png": {
              "width": 420,
              "height": 420
            }
          }
        }
      ]
    },
    {
      "cell_type": "markdown",
      "source": [
        "The DAG implies several possible regressions; which regressions we use depends on which questions we're interested in.  For example, if the question of interest is \"How do gas prices affect obesity?\", then an appropriate regression may be as simple as\n",
        "\n",
        "$Obesity = \\alpha + \\beta_{gas} GasPrice$\n",
        "\n",
        "If we added any of the mediators ($Driving$, $ExpendableMoney$, $Restaurant$, $Exercise$), we would be blocking the causal path from $GasPrice$ to $Obesity$.\n",
        "\n",
        "But if we were interested in the mediation of $Driving$ on the effect of $GasPrice$ on $Obesity$, we might add an additional regression like\n",
        "\n",
        "$Obesity = \\alpha + \\beta_{gas} GasPrice + \\beta_{drive} Driving$\n",
        "\n",
        "Now, $\\beta_{gas}$ represents the effect of $GasPrice$ on $Obesity$ *after controlling for* $Driving$.  Since we hypothesize that the effect of $GasPrice$ on $Obesity$ is partially mediated by $Driving$, the portion of the effect of $GasPrice$ on $Obesity$ mediated by $Driving$ would be estimated by the difference between the $\\beta_{gas}$ estimates from the two regressions.\n",
        "\n",
        "We could keep going, posing different questions and devising appropriate sets of regressions.  But I think you see the idea and this topic will be covered in more depth as the book goes on."
      ],
      "metadata": {
        "id": "BGKCQkqd7jua"
      }
    },
    {
      "cell_type": "markdown",
      "source": [
        "## Hard"
      ],
      "metadata": {
        "id": "sW7SYNmr5gKM"
      }
    },
    {
      "cell_type": "markdown",
      "source": [
        "### 5H1\n",
        "#### Questions\n",
        "In the divorce example, suppose the DAG is: M → A → D. What are the implied conditional independencies of the graph? Are the data consistent with it?\n",
        "\n",
        "#### Answers\n",
        "Let's start by loading the `dagitty` package and building the DAG in R."
      ],
      "metadata": {
        "id": "CljXIrFz3_XF"
      }
    },
    {
      "cell_type": "code",
      "source": [
        "library(dagitty)\n",
        "\n",
        "Div_DAG <- dagitty(\"dag{M -> A -> D}\")\n",
        "coordinates(Div_DAG) <- list(x=c(M=1, A=2, D=3),\n",
        "                             y=c(M=1, A=1, D=1))\n",
        "drawdag(Div_DAG)"
      ],
      "metadata": {
        "colab": {
          "base_uri": "https://localhost:8080/",
          "height": 437
        },
        "id": "b1l5j7Zs6D96",
        "outputId": "ff0a1999-835b-4588-ce61-984c580d3940"
      },
      "execution_count": null,
      "outputs": [
        {
          "output_type": "display_data",
          "data": {
            "text/plain": [
              "plot without title"
            ],
            "image/png": "[encoded data removed]"
          },
          "metadata": {
            "image/png": {
              "width": 420,
              "height": 420
            }
          }
        }
      ]
    },
    {
      "cell_type": "markdown",
      "source": [
        "Let's first think our way through the question, then we'll check it with some functions of the `dagitty` package.\n",
        "\n",
        "We are asked to find the conditional independencies of `Div_DAG`.  Technically, two variables, $X$ and $Y$, are independent $X \\perp Y$ if their joint probability equals the product of their individual probabilities, $P(X \\cap Y) = P(X) \\cdot P(Y)$.  In other words, two variables are independent if knowing about one does not affect your estimation of the other.  It might also help to think about it as \"$X$ and $Y$ don't share any information.\n",
        "\n",
        "Two variables are *conditionally independent* is they become independent after conditioning on a third variable $Z$.  When we say \"condition on\", we mean \"also consider\".  So to say that \"$X$ and $Y$ are conditionally independent given $Z$\", we mean that our estimation of $X$ (or $Y$) is not affected by our estimation of $Y$ (or $X$) as long as we know $Z$.  More technically, $X$ and $Y$, are conditionally independent given $Z$, $X \\perp Y | Z$, if the joint conditional probability of $X$ and $Y$ equals the product of their individual conditional probabilities, $P(X \\cap Y |Z) = P(X|Z) \\cdot P(Y|Z)$.\n",
        "\n",
        "(Here's a [link](https://www.probabilitycourse.com/chapter1/1_4_4_conditional_independence.php) to a section on conditional independence in an excellent online book on probability called \"Introduction to Probability, Statistics and Random Processes\" by H. Pishro-Nik.)\n",
        "\n",
        "In DAGs, arrows represents paths of information flow.  \"Pipe/mediator\" structures, like our `Div_DAG`, share information between two variables via a third variable.  In `Div_DAG`, $M$ and $D$ share information through $A$.  Conditioning on $A$, the *mediator*, stops this flow of information.  Thus, according to the DAG, $M$ and $D$ are conditionally independent given $A$, $M \\perp D | A$.\n",
        "\n",
        "We can check this in R."
      ],
      "metadata": {
        "id": "9_0ApqMm9Bmw"
      }
    },
    {
      "cell_type": "code",
      "source": [
        "impliedConditionalIndependencies(Div_DAG)"
      ],
      "metadata": {
        "colab": {
          "base_uri": "https://localhost:8080/",
          "height": 35
        },
        "id": "hulEnJayENhF",
        "outputId": "9c454d0d-7983-4d41-8c14-e1d3f8c30d87"
      },
      "execution_count": null,
      "outputs": [
        {
          "output_type": "display_data",
          "data": {
            "text/plain": [
              "D _||_ M | A"
            ]
          },
          "metadata": {}
        }
      ]
    },
    {
      "cell_type": "markdown",
      "source": [
        "We asked the `dagitty` package to find the `impliedConditionalIndependencies()` of `Div_DAG`.  It told us `D _||_ M | A`, which means $M$ and $D$ are conditionally independent given $A$, $M \\perp D | A$, just as we determined."
      ],
      "metadata": {
        "id": "AUQX7_7zETYN"
      }
    },
    {
      "cell_type": "markdown",
      "source": [
        "A useful thing about (implied) conditional independcies is that they represent features of our model if our our model is an accurate representation of whatever we're trying to model; if our data does not demonstrate the implied conditional independcies of the DAG, then our model should be revised.  \n",
        "\n",
        "> (NOTE: this is a bit trickier to pull off in practice.  \n",
        "*   Firstly, just because the implied conditional independencies of a DAG are present in the data, it does not mean that that DAG is necessarily *correct*.  This is because other DAGs/models may fit the data equally well--even models that we can exclude based on subject-matter knowledge.  \n",
        "*   Second, tests on your data will not typically give a clear-cut answer regarding conditional independence.  You generally get estimations of association that encompass a range of values.  For instance, the $\\beta$ coefficients are a estimates between a predictor variable $X$ and the outcome variable $Y$.  Technically, $\\beta=0$ is the value that mean \"no association\"; but your estimates of $\\beta$ will cover a range of values that may include 0.  If the estimate of $\\beta$ puts a lot of weight around zero, or the posterior of $\\beta$ is heavily centered on 0, these are good indicators of independence.  But the answer will not be binary; as always, you must make judgement called based on subject-matter knowledge, and communicate your decisions to others.)\n",
        "\n",
        "Now we must determine if our DAG seems to represent our data well.  Or at least, are $M$ and $D$ conditionally independent given $A$.  To find out, let's run models `m5.2` and `m5.3` from the chapter."
      ],
      "metadata": {
        "id": "29rCxsJFE-um"
      }
    },
    {
      "cell_type": "code",
      "source": [
        "data(WaffleDivorce)\n",
        "d <- WaffleDivorce\n",
        "d$D <- standardize(d$Divorce)\n",
        "d$M <- standardize(d$Marriage)\n",
        "d$A <- standardize(d$MedianAgeMarriage)\n",
        "\n",
        "m5.2 <- quap(\n",
        "  alist(\n",
        "    D ~ dnorm(mu, sigma),\n",
        "      mu <- a + bM * M,\n",
        "        a ~ dnorm(0, 0.2),\n",
        "        bM ~ dnorm(0, 0.5),\n",
        "    sigma ~ dexp( 1)\n",
        "  ), data = d\n",
        ")\n",
        "round(precis(m5.2), 2)\n",
        "\n",
        "m5.3 <- quap(\n",
        "  alist(\n",
        "    D ~ dnorm( mu, sigma),\n",
        "      mu <- a + bM*M + bA*A,\n",
        "        a ~ dnorm(0, 0.2),\n",
        "        bM ~ dnorm(0, 0.5),\n",
        "        bA ~ dnorm( 0, 0.5),\n",
        "      sigma ~ dexp( 1)\n",
        "  ), data = d\n",
        ")\n",
        "round(precis( m5.3), 2)"
      ],
      "metadata": {
        "colab": {
          "base_uri": "https://localhost:8080/",
          "height": 399
        },
        "id": "kD-OxK6qIDZX",
        "outputId": "f1774ffa-499a-45f2-c095-b675a05defc5"
      },
      "execution_count": null,
      "outputs": [
        {
          "output_type": "display_data",
          "data": {
            "text/html": [
              "<table class=\"dataframe\">\n",
              "<caption>A data.frame: 3 × 4</caption>\n",
              "<thead>\n",
              "\t<tr><th></th><th scope=col>mean</th><th scope=col>sd</th><th scope=col>5.5%</th><th scope=col>94.5%</th></tr>\n",
              "\t<tr><th></th><th scope=col>&lt;dbl&gt;</th><th scope=col>&lt;dbl&gt;</th><th scope=col>&lt;dbl&gt;</th><th scope=col>&lt;dbl&gt;</th></tr>\n",
              "</thead>\n",
              "<tbody>\n",
              "\t<tr><th scope=row>a</th><td>0.00</td><td>0.11</td><td>-0.17</td><td>0.17</td></tr>\n",
              "\t<tr><th scope=row>bM</th><td>0.35</td><td>0.13</td><td> 0.15</td><td>0.55</td></tr>\n",
              "\t<tr><th scope=row>sigma</th><td>0.91</td><td>0.09</td><td> 0.77</td><td>1.05</td></tr>\n",
              "</tbody>\n",
              "</table>\n"
            ],
            "text/markdown": "\nA data.frame: 3 × 4\n\n| <!--/--> | mean &lt;dbl&gt; | sd &lt;dbl&gt; | 5.5% &lt;dbl&gt; | 94.5% &lt;dbl&gt; |\n|---|---|---|---|---|\n| a | 0.00 | 0.11 | -0.17 | 0.17 |\n| bM | 0.35 | 0.13 |  0.15 | 0.55 |\n| sigma | 0.91 | 0.09 |  0.77 | 1.05 |\n\n",
            "text/latex": "A data.frame: 3 × 4\n\\begin{tabular}{r|llll}\n  & mean & sd & 5.5\\% & 94.5\\%\\\\\n  & <dbl> & <dbl> & <dbl> & <dbl>\\\\\n\\hline\n\ta & 0.00 & 0.11 & -0.17 & 0.17\\\\\n\tbM & 0.35 & 0.13 &  0.15 & 0.55\\\\\n\tsigma & 0.91 & 0.09 &  0.77 & 1.05\\\\\n\\end{tabular}\n",
            "text/plain": [
              "      mean sd   5.5%  94.5%\n",
              "a     0.00 0.11 -0.17 0.17 \n",
              "bM    0.35 0.13  0.15 0.55 \n",
              "sigma 0.91 0.09  0.77 1.05 "
            ]
          },
          "metadata": {}
        },
        {
          "output_type": "display_data",
          "data": {
            "text/html": [
              "<table class=\"dataframe\">\n",
              "<caption>A data.frame: 4 × 4</caption>\n",
              "<thead>\n",
              "\t<tr><th></th><th scope=col>mean</th><th scope=col>sd</th><th scope=col>5.5%</th><th scope=col>94.5%</th></tr>\n",
              "\t<tr><th></th><th scope=col>&lt;dbl&gt;</th><th scope=col>&lt;dbl&gt;</th><th scope=col>&lt;dbl&gt;</th><th scope=col>&lt;dbl&gt;</th></tr>\n",
              "</thead>\n",
              "<tbody>\n",
              "\t<tr><th scope=row>a</th><td> 0.00</td><td>0.10</td><td>-0.16</td><td> 0.16</td></tr>\n",
              "\t<tr><th scope=row>bM</th><td>-0.07</td><td>0.15</td><td>-0.31</td><td> 0.18</td></tr>\n",
              "\t<tr><th scope=row>bA</th><td>-0.61</td><td>0.15</td><td>-0.85</td><td>-0.37</td></tr>\n",
              "\t<tr><th scope=row>sigma</th><td> 0.79</td><td>0.08</td><td> 0.66</td><td> 0.91</td></tr>\n",
              "</tbody>\n",
              "</table>\n"
            ],
            "text/markdown": "\nA data.frame: 4 × 4\n\n| <!--/--> | mean &lt;dbl&gt; | sd &lt;dbl&gt; | 5.5% &lt;dbl&gt; | 94.5% &lt;dbl&gt; |\n|---|---|---|---|---|\n| a |  0.00 | 0.10 | -0.16 |  0.16 |\n| bM | -0.07 | 0.15 | -0.31 |  0.18 |\n| bA | -0.61 | 0.15 | -0.85 | -0.37 |\n| sigma |  0.79 | 0.08 |  0.66 |  0.91 |\n\n",
            "text/latex": "A data.frame: 4 × 4\n\\begin{tabular}{r|llll}\n  & mean & sd & 5.5\\% & 94.5\\%\\\\\n  & <dbl> & <dbl> & <dbl> & <dbl>\\\\\n\\hline\n\ta &  0.00 & 0.10 & -0.16 &  0.16\\\\\n\tbM & -0.07 & 0.15 & -0.31 &  0.18\\\\\n\tbA & -0.61 & 0.15 & -0.85 & -0.37\\\\\n\tsigma &  0.79 & 0.08 &  0.66 &  0.91\\\\\n\\end{tabular}\n",
            "text/plain": [
              "      mean  sd   5.5%  94.5%\n",
              "a      0.00 0.10 -0.16  0.16\n",
              "bM    -0.07 0.15 -0.31  0.18\n",
              "bA    -0.61 0.15 -0.85 -0.37\n",
              "sigma  0.79 0.08  0.66  0.91"
            ]
          },
          "metadata": {}
        }
      ]
    },
    {
      "cell_type": "markdown",
      "source": [
        "In `m5.2`, where $A$ is not conditioned on, the $\\beta$ coefficient for $M$, `bM`, is not 0 and the 89% credibilty interval is safely above 0.  There seems to be a real association between $M$ and $D$ here.\n",
        "\n",
        "Once we condition on $A$ in `m5.3`, the value for `bM` drops towards 0 and the credibilty intervals spreads somewhat evenly around 0.  This looks like decent evidence that our DAG is consistent with the data."
      ],
      "metadata": {
        "id": "fFChxHW0ItrB"
      }
    },
    {
      "cell_type": "markdown",
      "source": [
        "### 5H2\n",
        "#### Question\n",
        "Assuming that the DAG for the divorce example is indeed M → A → D, fit a new model and use it to estimate the counterfactual effect of halving a State’s marriage rate M. Use the counterfactual example from the chapter (starting on page 140) as a template.\n",
        "\n",
        "#### Answer\n",
        "Counterfactuals are an interesting idea.  They take the parameter estimates we found in our analysis, then ask how our model to predict the outcome given different predictor-variable data.  \n",
        "\n",
        "> (NOTE: You could be a little skeptical about calling these \"counterfactuals\" when they're really making predictions on data (that we make up) on which the model was not trained.  *Counterfactuals* bring to my mind \"What if the world gave us *different* data--what would the model predict?\"  But of course, a world that gave us different data would've produced different parameter values and maybe a different model altogether).\n",
        "\n",
        "In order to execute counterfactuals, we usually need a more elaborate model than what we've been using so far.  For example, given the DAG M → A → D and depending on the particular application, we've regressed `D` on `M`, `A`, or `M` and `A`.  But now we need to represent each relationship embedded in the DAG: M → A  and A → D."
      ],
      "metadata": {
        "id": "gHKhY0CuFZBN"
      }
    },
    {
      "cell_type": "code",
      "source": [
        "data(WaffleDivorce)\n",
        "d <- WaffleDivorce\n",
        "d$D <- standardize(d$Divorce)\n",
        "d$M <- standardize(d$Marriage)\n",
        "d$A <- standardize(d$MedianAgeMarriage)\n",
        "\n",
        "m <- quap(\n",
        "  alist(\n",
        "    # M -> A\n",
        "    A ~ dnorm(muA, sigmaA),\n",
        "      muA <- aA + bMA*M,\n",
        "        aA ~ dnorm(0, 0.2),\n",
        "        bMA ~ dnorm(0, 0.5),\n",
        "      sigmaA ~ dexp(1),\n",
        "\n",
        "    # A -> D\n",
        "    D ~ dnorm(muD, sigmaD),\n",
        "      muD <- aD + bAD*A,\n",
        "        aD ~ dnorm(0, 0.2),\n",
        "        bAD ~ dnorm(0, 0.5),\n",
        "      sigmaD ~ dexp(1)\n",
        "  ), data=d\n",
        ")\n",
        "\n",
        "round(precis(m),2)"
      ],
      "metadata": {
        "colab": {
          "base_uri": "https://localhost:8080/",
          "height": 286
        },
        "id": "kP9NCwUrQrk0",
        "outputId": "ca2fa982-b8b1-4e3c-b111-ba32cffb7f76"
      },
      "execution_count": null,
      "outputs": [
        {
          "output_type": "display_data",
          "data": {
            "text/html": [
              "<table class=\"dataframe\">\n",
              "<caption>A data.frame: 6 × 4</caption>\n",
              "<thead>\n",
              "\t<tr><th></th><th scope=col>mean</th><th scope=col>sd</th><th scope=col>5.5%</th><th scope=col>94.5%</th></tr>\n",
              "\t<tr><th></th><th scope=col>&lt;dbl&gt;</th><th scope=col>&lt;dbl&gt;</th><th scope=col>&lt;dbl&gt;</th><th scope=col>&lt;dbl&gt;</th></tr>\n",
              "</thead>\n",
              "<tbody>\n",
              "\t<tr><th scope=row>aA</th><td> 0.00</td><td>0.09</td><td>-0.14</td><td> 0.14</td></tr>\n",
              "\t<tr><th scope=row>bMA</th><td>-0.69</td><td>0.10</td><td>-0.85</td><td>-0.54</td></tr>\n",
              "\t<tr><th scope=row>sigmaA</th><td> 0.68</td><td>0.07</td><td> 0.57</td><td> 0.79</td></tr>\n",
              "\t<tr><th scope=row>aD</th><td> 0.00</td><td>0.10</td><td>-0.16</td><td> 0.16</td></tr>\n",
              "\t<tr><th scope=row>bAD</th><td>-0.57</td><td>0.11</td><td>-0.74</td><td>-0.39</td></tr>\n",
              "\t<tr><th scope=row>sigmaD</th><td> 0.79</td><td>0.08</td><td> 0.66</td><td> 0.91</td></tr>\n",
              "</tbody>\n",
              "</table>\n"
            ],
            "text/markdown": "\nA data.frame: 6 × 4\n\n| <!--/--> | mean &lt;dbl&gt; | sd &lt;dbl&gt; | 5.5% &lt;dbl&gt; | 94.5% &lt;dbl&gt; |\n|---|---|---|---|---|\n| aA |  0.00 | 0.09 | -0.14 |  0.14 |\n| bMA | -0.69 | 0.10 | -0.85 | -0.54 |\n| sigmaA |  0.68 | 0.07 |  0.57 |  0.79 |\n| aD |  0.00 | 0.10 | -0.16 |  0.16 |\n| bAD | -0.57 | 0.11 | -0.74 | -0.39 |\n| sigmaD |  0.79 | 0.08 |  0.66 |  0.91 |\n\n",
            "text/latex": "A data.frame: 6 × 4\n\\begin{tabular}{r|llll}\n  & mean & sd & 5.5\\% & 94.5\\%\\\\\n  & <dbl> & <dbl> & <dbl> & <dbl>\\\\\n\\hline\n\taA &  0.00 & 0.09 & -0.14 &  0.14\\\\\n\tbMA & -0.69 & 0.10 & -0.85 & -0.54\\\\\n\tsigmaA &  0.68 & 0.07 &  0.57 &  0.79\\\\\n\taD &  0.00 & 0.10 & -0.16 &  0.16\\\\\n\tbAD & -0.57 & 0.11 & -0.74 & -0.39\\\\\n\tsigmaD &  0.79 & 0.08 &  0.66 &  0.91\\\\\n\\end{tabular}\n",
            "text/plain": [
              "       mean  sd   5.5%  94.5%\n",
              "aA      0.00 0.09 -0.14  0.14\n",
              "bMA    -0.69 0.10 -0.85 -0.54\n",
              "sigmaA  0.68 0.07  0.57  0.79\n",
              "aD      0.00 0.10 -0.16  0.16\n",
              "bAD    -0.57 0.11 -0.74 -0.39\n",
              "sigmaD  0.79 0.08  0.66  0.91"
            ]
          },
          "metadata": {}
        }
      ]
    },
    {
      "cell_type": "markdown",
      "source": [
        "If you check this against the other `WaffleDivorce` models, you'll see that this posterior gives us compatible results.  Namely, M is negatively associated with A, A is negatively associated with D, and these two negative associations leaves M positively associated with D.\n",
        "\n",
        "From here, building our counter factuals follows a few steps roughly defined on p. 140:\n",
        "1.   Pick a variable to manipulate, the intervention variable.\n",
        "2.   Define the range of values to set the intervention variable to.\n",
        "3.   For each value of the intervention variable, and for each sample in posterior, use the causal model to simulate the values of other variables, including the outcome.\n",
        "\n",
        "So let's get to work."
      ],
      "metadata": {
        "id": "DvdsVtCBSHqE"
      }
    },
    {
      "cell_type": "code",
      "source": [
        "# 1. Pick a variable to manipulate, the \"intervention variable\".\n",
        "## The question specifies that we manipulate M\n",
        "\n",
        "# 2. Define the range of values to set the intervention variable to.\n",
        "M_seq <- seq(from=-3, to=3, length.out=100)\n",
        "\n",
        "# 3. Simulate the new outcomes for each value of the intervention variable and each posterior sample of the parameters.\n",
        "mC <- sim(m, data.frame(M=M_seq), vars=c(\"A\", \"D\"))\n",
        "\n",
        "str(mC)"
      ],
      "metadata": {
        "colab": {
          "base_uri": "https://localhost:8080/"
        },
        "id": "F-pPZuxDQ4Vq",
        "outputId": "e2c70920-6f6a-4df4-e23e-708f9296a016"
      },
      "execution_count": null,
      "outputs": [
        {
          "output_type": "stream",
          "name": "stdout",
          "text": [
            "List of 2\n",
            " $ A: num [1:1000, 1:100] 2.77 1.75 2.58 2.46 2.21 ...\n",
            " $ D: num [1:1000, 1:100] -2.3898 -2.1355 -1.8407 -0.0569 -1.3763 ...\n"
          ]
        }
      ]
    },
    {
      "cell_type": "code",
      "source": [
        "# Now plotting the new outcomes for both M -> A and A -> D\n",
        "par(mfrow=c(1,2))\n",
        "\n",
        "## M -> A\n",
        "means_A <- colMeans(mC$A)\n",
        "HPDIs_A <- apply(mC$A, 2, HPDI)\n",
        "\n",
        "plot(means_A ~ M_seq, type=\"l\", main=\"M -> A Counterfactual\", ylab=\"A\", xlab=\"M\")\n",
        "shade(HPDIs_A, M_seq)\n",
        "\n",
        "## M -> A -> D\n",
        "means_D <- colMeans(mC$D)\n",
        "HPDIs_D <- apply(mC$D, 2, HPDI)\n",
        "\n",
        "plot(means_D ~ M_seq, type=\"l\", main=\"M -> A -> D Counterfactual\", ylab=\"D\", xlab=\"M\")\n",
        "shade(HPDIs_D, M_seq)"
      ],
      "metadata": {
        "colab": {
          "base_uri": "https://localhost:8080/",
          "height": 437
        },
        "id": "IYq56KroU0ib",
        "outputId": "7253e65c-1d7e-4740-d27c-f16ed551c2ac"
      },
      "execution_count": null,
      "outputs": [
        {
          "output_type": "display_data",
          "data": {
            "text/plain": [
              "Plot with title “M -> A -> D Counterfactual”"
            ],
            "image/png": "[encoded data removed]"
          },
          "metadata": {
            "image/png": {
              "width": 420,
              "height": 420
            }
          }
        }
      ]
    },
    {
      "cell_type": "markdown",
      "source": [
        "So we've built our counterfactuals, but now we need to answer the question \"What happens if we cut the marriage rate in half?\"\n",
        "\n",
        "Let's find the average marriage rate in our data, then find what half of that is in our standardized units."
      ],
      "metadata": {
        "id": "F7mF_TedX0pY"
      }
    },
    {
      "cell_type": "code",
      "source": [
        "mean_MarRate <- mean(d$Marriage)\n",
        "half_MarRate <- mean_MarRate/2\n",
        "half_std <- (half_MarRate - mean_MarRate) / sd(d$Marriage)\n",
        "\n",
        "half_std"
      ],
      "metadata": {
        "colab": {
          "base_uri": "https://localhost:8080/",
          "height": 34
        },
        "id": "xwWZ8WTeVTB9",
        "outputId": "3dae1661-c24f-4b03-c892-9e3f7d102648"
      },
      "execution_count": null,
      "outputs": [
        {
          "output_type": "display_data",
          "data": {
            "text/html": [
              "-2.64803854776601"
            ],
            "text/markdown": "-2.64803854776601",
            "text/latex": "-2.64803854776601",
            "text/plain": [
              "[1] -2.648039"
            ]
          },
          "metadata": {}
        }
      ]
    },
    {
      "cell_type": "markdown",
      "source": [
        "So in our standardized units half of the average marriage rate = `half_std = -2.7`.  What does that mean for our counterfactual D?"
      ],
      "metadata": {
        "id": "676m6wzvYtBy"
      }
    },
    {
      "cell_type": "code",
      "source": [
        "M_half <- c(0, half_std)\n",
        "mC2 <- sim(m, data=data.frame(M=M_half), vars=c(\"A\", \"D\"))\n",
        "dif <- mC2$D[,2] - mC2$D[,1]\n",
        "(meanDif <- mean(dif))\n",
        "\n",
        "plot(means_D ~ M_seq, type=\"l\", main=\"M -> A -> D Counterfactual\", ylab=\"D\", xlab=\"M\")\n",
        "shade(HPDIs_D, M_seq)\n",
        "abline(v=half_std, col=\"red\")\n",
        "abline(h=meanDif, col=\"red\")"
      ],
      "metadata": {
        "colab": {
          "base_uri": "https://localhost:8080/",
          "height": 454
        },
        "id": "XTeSZI4GYMXX",
        "outputId": "c02e6ad5-beae-4008-97e6-2fc409c7c1f0"
      },
      "execution_count": null,
      "outputs": [
        {
          "output_type": "display_data",
          "data": {
            "text/html": [
              "-1.02739773001148"
            ],
            "text/markdown": "-1.02739773001148",
            "text/latex": "-1.02739773001148",
            "text/plain": [
              "[1] -1.027398"
            ]
          },
          "metadata": {}
        },
        {
          "output_type": "display_data",
          "data": {
            "text/plain": [
              "Plot with title “M -> A -> D Counterfactual”"
            ],
            "image/png": "[encoded data removed]"
          },
          "metadata": {
            "image/png": {
              "width": 420,
              "height": 420
            }
          }
        }
      ]
    },
    {
      "cell_type": "markdown",
      "source": [
        "So cutting the marriage rate in half is predicted to reduce the divorce rate by about 1 standard deviation...or ~1.85%."
      ],
      "metadata": {
        "id": "dXaC6DHNahHq"
      }
    },
    {
      "cell_type": "code",
      "source": [
        "sd(d$Divorce)*(meanDif <- mean(dif))"
      ],
      "metadata": {
        "colab": {
          "base_uri": "https://localhost:8080/",
          "height": 34
        },
        "id": "ytVdC-xob4RC",
        "outputId": "58bc8802-bc80-4ca6-906b-ef589d38cd75"
      },
      "execution_count": null,
      "outputs": [
        {
          "output_type": "display_data",
          "data": {
            "text/html": [
              "-1.87070006957238"
            ],
            "text/markdown": "-1.87070006957238",
            "text/latex": "-1.87070006957238",
            "text/plain": [
              "[1] -1.8707"
            ]
          },
          "metadata": {}
        }
      ]
    },
    {
      "cell_type": "markdown",
      "source": [
        "### 5H3\n",
        "#### Question\n",
        "Return to the milk energy model, m5.7. Suppose that the true causal relationship among the  variables is:\n",
        "\n",
        "![image.png](data:image/png;base64,iVBORw0KGgoAAAANSUhEUgAAANoAAACCCAYAAAAgwNZBAAAAAXNSR0IArs4c6QAAAARnQU1BAACxjwv8YQUAAAAJcEhZcwAADsMAAA7DAcdvqGQAAABhaVRYdFNuaXBNZXRhZGF0YQAAAAAAeyJjbGlwUG9pbnRzIjpbeyJ4IjowLCJ5IjowfSx7IngiOjIxOCwieSI6MH0seyJ4IjoyMTgsInkiOjEzMH0seyJ4IjowLCJ5IjoxMzB9XX3TTcuxAAARoElEQVR4Xu2dC1BV1ffHd5aYCgLxkHyE2QstLV9lmgbjI83IQMwkQMUcLNM0dTQz/JdDhdoQQolUaAmGFJWDmqGoQT7GrExM8xEYOSnKWy3Fcv/vd7Vv+tNKDnDPPefe9Zm5cy97g14u53v22nt/91rXSAuCYRib0kQ9MwxjQ1hoDKMDLDSG0QEWGsPoAAuNYXSAhcYwOsBCYxgdYKExjA6w0BhGB1hoDKMDLDSG0QHNXsfvv/9e7Nu3T3h7e4v+/fuLZs2aqZ6/qK2tFfn5+aK8vFz07t1b+Pv7qx6GMQdlZWXiyy+/FB07dhTdunVTrRf56quvxLlz58SAAQNUSx2A0OrKn3/+KefNmyfd3NzkHXfcIX/44QfVc5H9+/fLTp06SU9PT/nRRx+pVoaxLbg2T548qb5qGFu3bpXt2rWT3bt3lwcPHlStf/HHH3/I8PBwOXToUNVSNzSHjhixrrnmGlFRUUHKvpyCggJRVVUlLL+4sLwp1cowtmX16tXitttuE08++aRqqT+4dn/77TexZ88e8cYbb4jff/9d9fzF2bNn6aGFes3RfHx8xN133y1yc3P/503g9caNG0Xfvn3F9ddfr1oZxvYEBQXRDd4SRYkpU6bQ64Zw3XXXiXvuuUd88skn4rPPPlOt9adeQrv22mvFoEGDxN69e0VRUZFqFeLw4cOiuLiYhIZRj2H0wt3dXYwaNUqcP39epKamiq5du4rExERRWVmpvkMbuH4tIaLo0qWLWLBggTh06JDqqR+aFkMuXLgg5s6dSypfsmSJmDx5Mj1iYmKo/6233hLr1q0TTz/9tHjqqafEm2++KZ544gnq+zdKSkrowTANZenSpSIjIwPrDiSU5s2bU2TVqVMncdddd1Gbq6urmDNnjvD09FQ/dSWY/owcOVIsWrRI3HjjjWLs2LFi2LBhIiEhQbi4uIjHH3+cBLxp0yb1E1en3kLLyckRr7zyCoWLK1asoD7ExxjNevbsKUaPHl0noSGuLi0tVV8xTP3BSiDWEC4HERge1igLosnOzqbX/4RVaJif4TkuLo4GFoyQEJmuQvviiy9oGR9vAm8av+SECRNESkqKOHPmDAmsLkIrLCwUR48eVV8xTP15//33RVZWFo1oVpo0aUKjGULJpk2bihYtWoh58+bROsO/canQMHgcO3ZMRERE0ALghx9+KF588UV9hQZxhYSEUPiIVZoNGzaIzMxM8d1339VZaPg38WCYhhIdHU3RFWjVqpWYMWOGiIyMFDfccAONaMAaUlpHt3/icqFBIhAVQsiHHnqIIjAMJlqEpnkf7YUXXqA9tCNHjkiL0P7eUxg4cKCMj4+XFtHIzZs3y9atW0uL+tVPMoxtOX36tGzWrBkGDWkRhPz555+lZVpD16NWLJEaXb/p6emqRdK1HhsbKy2ild7e3jIoKEj11I0GWbAwMRw8eLDYsWOHOHjwoHjwwQf/807BMLZiy5YtFGENHz5cJCcni/bt29NCSGNdj7jWJ06cSEv+CCG10mCv4/333y+8vLyEZZQTAQEBqpVh9AXbTfv37xeWUUi0bNnSJjd8Pz8/WrG0jHaqpe5o9jpilRErO25ubjTRxPzq1KlT9BpLp/gFsZeBGBYTT9wJGEYPcC3iOmwocDRZQtF/vH6tfZjzQQN1RbPQGIbRTsPlzzDMVWGhMYwOsNAYRgdYaAyjAyw0htEBFhrD6IBdhYZ9D5xmZRi9wMHkI0eOqK/0w65Ce++998hVfenhUYaxFStXrhShoaFi7dq1qkU/7Cq0wMBAOm4Af9rx48dVK8M0Pp9//jkdSO7Tp48YM2aMatUPuzpDEDrCkBwcHCxuv/12+jA8PDxUL8M0DkgiheNcOGSMJD7/dRbNVtjdgoU5GuLmsLAwMigjEQo8ZgzTGCCT1dChQ+lMGm7kbdu2tcsJE7uvOsKciUSUaWlpdOeJiooiUzLDNJSffvqJRjIcl/n000/tJjJgiOV9pPZ67LHHKCcDcpEglkZYyTD1BekHcE3htAlEhqzD9hIZgdDRKOAU6+uvvy5dXFzk9OnTVSvDaKOiokL27t2bsmUj6zAyA9iba//PgtKc3UEYiQxauAslJSXR1/369VO9DHN1kLsG8/1vv/1WrFq1iupDWPOF2BUlOENh+bDk+PHjZfPmzWVqaqpqZZj/BhFRaGgoXTdZWVnSMtdXPfbHkEIDSLYyYsQI2bJlSy6WwVwVhIfR0dE07cDNuba2VvUYA8MKDVRWVsoBAwZIDw8PmZubq1oZ5kqef/55Ehnm+BjZjIahhQZKS0tlr169pI+Pj9yxY4dqZZiLvPrqq5RqbubMmZRizogYXmgXLlygHH2dO3eW7du3/8eabIzzsnTpUpqTYU6Pub1RMUVyHrxF5I1EllhUGEWW5A4dOqhexllBiaZx48bRdfHBBx9QmjmjYposWNjARlnfIUOGiDZt2pDYfH19VS/jbCD9PNJ29+jRg2o/GN0ja6p0c/BFbtu2TTz66KNUuADHHZBjnXEuYETHNYCoZs2aNaa44ZpKaABiW79+PRWdQwpy3M24uqjzYJmjk0kYyUthEkbqb7taq+qIIbyOWsAuP2JyVHXMy8ujGJ1rZTsHOBkNkzCyEaOikVlEBkwnNAATsrWsDj5wlI0y2cDMaOTEiRNkEq6uriaTMM6WmUVkwFBeRy1gZEPBeohu8eLF5I/EcRvG8YC4cAofK884rwg/rCH8i1rAHM3MYINy6tSp0jJPk4sWLVKtjKOAvy/q78GKl5OTIy3TBNVjLkwvNICNyqioKNq4TEtLU62M2YEpeNSoUeT6yMjIMJRJWCsOITRQU1Mjg4ODpaurq7SEF6qVMStwBMXExJB/MTk52XAmYa04jNBAeXm57N+/P5U/RXlfxrzMnj2bRDZ//nx59uxZ1WpeHEpo4NixY7J79+5Ug3jXrl2qlTETmGtjzo25t1FNwlox3Yb11cCvg/0WWLVQmRSb2yj7y5iDZcuWiUmTJtH2TUpKirDMu1WPuXE4oQH8SqhnjI1tlPvNzc2lzU3G2GDpPjIyUgQFBYmMjAxNpWuNjkMKDcCE/M0334iHH35Y+Pv708jm7e2tehmjYZlTixEjRoguXbqQCcHLy0v1OAYOKzQAX2R+fj45Crp160YGVIxwjLHADXHYsGGUdxFGcT8/P9XjODi00AB8kPjjhYeHk3MEZ5hwpo0xBgcOHPj7nCGiDjjyzWStqium9DpqARYthI9vv/02nWGbMGECl4oyCL/88gtFG/h7wL/oqCIDDi800LRpUzF69GgRHx9Puf6mTZumehh7UVZWRiLDM+ZkAQEBDisyYFpTsVZgQsU8DYskMCEjpETZKEZ/Tp8+TSLbt2+f+Pjjj6m4ielMwlrBHM2ZgC9y0qRJtCGamJioWhm9gMsDVjn4UmGVM7N/UQtOJzSA5KyWUFK2aNFCrlixQrUytgbO+4iICLJWLV++3PT+RS04pdBAdXU1Hb9o1aqVXLNmjWplbMmzzz5LIktISDBkklNb4rRCAydPnpR9+/aVXl5esqCgQLUytiA2NpaOu7z00ksOYRLWilMLDUcxjh49Krt27SrbtGkjd+/erXqYxgRzYcyJMTc2cpJTW+LwG9ZXA79+UVERbZriNXyRt9xyi+plGkp6erqIiYmhVATvvPOOoZOc2hKnFxrAkj/SmMHx7+npSWJDklamYVgdOZbwXGRmZjp1Dk4WmgJi27lzJ3nubr31VsoZiALjTP1APXLsleGI0urVq53e0M1CuwRYgTZt2kQu8nvvvZcuEGcNdRoCUrcjySnEhRsWogNHdn3UBRbaZcAxAoFFRETQxYKQx8XFRfUyV+Pw4cM034Ww4C21e5F2g+AUXkctwISMvO7Jycli3bp1YuLEiRRWMlfn119/pXDx7NmzZBK++eabWWRWMKIxV4IN1YULF9IGK6pJMv8NEiNZwm1KjLR9+3YqdctcxGlMxVqByRUlgXB3TkpKojszKvwzV3LmzBma1+7evVtkZWWJBx54wPFNwlpRgmP+BWywTpgwgUywS5YsUa2MFYz8ISEhtCGNov7OYhLWCgutDsCEHBYWRmmpV61apVoZhIfjxo0ja9W7777rVCZhrbDQ6khlZaUcNGiQdHd3l+vXr1etzg3mrpjDLliwwOlMwlphoWngxIkT8r777pM+Pj5y27ZtqtU5QQZhjGSzZs1ymCSntoSFpgGYkEtKSmTnzp1lu3btZGFhoepxLjBXxZwVc1dnNQlrhTesNYKP69ChQ7Qpi1wk2JTFfpGzgFXF6Oho2sxfvnw5O2fqCAutHmADe8+ePWRCbt26NZmQ8ezo4KaC2uG9evWitH0eHh6qh7kaLLR6ArFZ5mkiODhYWEJJcpG4u7urXsdj+/btdNQFo3dOTo7w9fVVPUxdYKE1AJiQrXd5bNIibZqjFGW4lL1791KoiGMuMAmbqUi7UWCvYwOA+2Hw4MF0oHHLli1izJgx4vz586rXMSguLhYhISHkAYV/kUVWP1hoDQQXIOxHCQkJ5PpHySFHCRJKS0vJJHzq1CkSGc7pscjqB3sdGwGMbKiCguM0iYmJ5P0bOHCg6jUn1dXVdIoBx15QTqlnz56iSRO+L9cbzNGYxgEbt9OmTSPfH9wSZgV7Y0OGDKF64GvXrqV8jEzDYKE1MrhIx44dSxu68P+ZDfgVR44cSTeLlStXskm4kWCh2YCamho5fPhwGhGys7NV60WKiorUK/tRVVVFlrJLgfMFbg/4F+H+YJNw48FCsxE4CBkYGCg9PDxkXl6eapXy0KFDZEyOi4tTLfYBBzTx3i4FvkWIDO/NGZOc2hIWmg05fvy47NGjh/T19ZU7d+6kNqTFxtQYz/YE7wGPr7/+mr6Oj4+ncBFzTDYJNz4sNBuCUKy4uFgGBATIm266SSYlJZHjHRc4Lmx7AmM03kfHjh1p4QZzSswt2SRsG9gZYmPw8f7444/kHEFaBMtoQXtR48ePF6mpqeq79AXvCcXYKysrackeZW1RowzL+G5ubuq7mMaEN0ZsDIruwTmCi9oyWtBFDp/khg0b1HfoT2FhoaiqqqLXeC8Q/65du6iYPt93bQMLzYbAMeLv70/1sy+/gEtKSqjipT2AAfry9wP3B+p7I+lpWlqaamUaCxaaDfHz86ORDP5HuEaA1V2BkWThwoX0Wk8wesEuZsX6flxdXcnRUlFRIe68805qYxoPnqPZEISKmJcBXMQYSTIyMkRBQQG1QXw414b89Hrx8ssv0wN/dmsR/bCwMNGnT5+/fYxw6cPDyTQeLDSdwMeMke3cuXN0tCYqKopGF5xhg3kXCxK2Ji8vTzzyyCMk/n79+lG+ShiFIXiIjrEdLDQ7AMGVlZWJDh06iNraWjpECbHZEszB2rZtS89Y8UT4iDQEbBTWB/6U7QBGD8zfkKsey+l6ZPXF/wWRIUxcvHgx/b8sMv3gEc3OYLEEcyNb59/AaXAcfUGYiIUPRl9YaAyjAxw7MIwOsNAYRgdYaAyjAyw0htEBFhrD6ACvOpoAuEmQNxIbzDhucylwl2zevJncHqhIClMwYzx4RDMBNTU1Ii4uTqSkpNB+mBUcwZk9ezYVnThw4IBDpyQ3Oyw0E4CgAyOX1aAMIL5Zs2aJ9PR08cwzz4jJkyezX9HAsNBMCA5tzpgxQ6xatYqep0+fzm4Pg8NCMxnl5eVi6tSpVFADYeOUKVO4RpkJYKGZCIxkzz33nMjMzKRSUZGRkSwyk8BCMxH5+fmUayQwMJAOjKLi5qWLI4xxYaGZCBxtee2110hgKKKB4y4bN25UvYyRYaGZCOyhRUREUBnfuXPnkvBiY2OphhljbFhoJgLL9zhPhvNrKBM1Z84ccfDgQTF//nzKScIYFxaaScGp7NDQUBEeHi6ys7PFsmXLKLMWY0xYaCYGe2czZ86kFUikrtu6davqYYwGex1NAEYq2K2Q4+PyjWlrH56x1M/uEGPCQmMYHeDQkWF0gIXGMDrAQmMYHWChMYzNEeL/ARwy4PnjbVzXAAAAAElFTkSuQmCC)\n",
        "\n",
        "Now compute the counterfactual effect on K of doubling M. You will need to account for both the  direct and indirect paths of causation. Use the counterfactual example from the chapter (starting on  page 140) as a template.\n",
        "\n",
        "#### Answer\n",
        "We can use 5H2 as a template here; only, this will be a little harder because we now have 2 paths (M -> K and M -> N -> K) by which M affects K.  As we did then, let's start by building a model of our DAG."
      ],
      "metadata": {
        "id": "9-kaA3Rfn6FE"
      }
    },
    {
      "cell_type": "code",
      "source": [
        "data(milk)\n",
        "d <- milk\n",
        "d$K <- standardize(d$kcal.per.g)\n",
        "d$N <- standardize( d$neocortex.perc )\n",
        "d$M <- standardize( log(d$mass) )\n",
        "d2 <- d[complete.cases( d$K , d$N , d$M ),]\n",
        "\n",
        "m <- quap(\n",
        "  alist(\n",
        "    # M -> N\n",
        "    N ~ dnorm(muN, sigmaN),\n",
        "      muN <- aN + bMN*M,\n",
        "        aN ~ dnorm(0, 0.2),\n",
        "        bMN ~ dnorm(0, 0.5),\n",
        "      sigmaN ~ dexp(1),\n",
        "\n",
        "    # M -> K <- N\n",
        "    K ~ dnorm(muK, sigmaK),\n",
        "      muK <- aK + bMK*M + bNK*N,\n",
        "        aK ~ dnorm(0, 0.2),\n",
        "        bMK ~ dnorm(0, 0.5),\n",
        "        bNK ~ dnorm(0, 0.5),\n",
        "      sigmaK ~ dexp(1)\n",
        "  ), data=d2\n",
        ")\n",
        "\n",
        "round(precis(m), 2)"
      ],
      "metadata": {
        "colab": {
          "base_uri": "https://localhost:8080/",
          "height": 317
        },
        "id": "EHCGKBdXo0t2",
        "outputId": "0cea6fb9-6f3f-43de-a8af-9b34807b70da"
      },
      "execution_count": null,
      "outputs": [
        {
          "output_type": "display_data",
          "data": {
            "text/html": [
              "<table class=\"dataframe\">\n",
              "<caption>A data.frame: 7 × 4</caption>\n",
              "<thead>\n",
              "\t<tr><th></th><th scope=col>mean</th><th scope=col>sd</th><th scope=col>5.5%</th><th scope=col>94.5%</th></tr>\n",
              "\t<tr><th></th><th scope=col>&lt;dbl&gt;</th><th scope=col>&lt;dbl&gt;</th><th scope=col>&lt;dbl&gt;</th><th scope=col>&lt;dbl&gt;</th></tr>\n",
              "</thead>\n",
              "<tbody>\n",
              "\t<tr><th scope=row>aN</th><td>-0.01</td><td>0.12</td><td>-0.21</td><td> 0.18</td></tr>\n",
              "\t<tr><th scope=row>bMN</th><td> 0.61</td><td>0.13</td><td> 0.40</td><td> 0.83</td></tr>\n",
              "\t<tr><th scope=row>sigmaN</th><td> 0.63</td><td>0.11</td><td> 0.46</td><td> 0.80</td></tr>\n",
              "\t<tr><th scope=row>aK</th><td> 0.07</td><td>0.13</td><td>-0.15</td><td> 0.28</td></tr>\n",
              "\t<tr><th scope=row>bMK</th><td>-0.70</td><td>0.22</td><td>-1.06</td><td>-0.35</td></tr>\n",
              "\t<tr><th scope=row>bNK</th><td> 0.68</td><td>0.25</td><td> 0.28</td><td> 1.07</td></tr>\n",
              "\t<tr><th scope=row>sigmaK</th><td> 0.74</td><td>0.13</td><td> 0.53</td><td> 0.95</td></tr>\n",
              "</tbody>\n",
              "</table>\n"
            ],
            "text/markdown": "\nA data.frame: 7 × 4\n\n| <!--/--> | mean &lt;dbl&gt; | sd &lt;dbl&gt; | 5.5% &lt;dbl&gt; | 94.5% &lt;dbl&gt; |\n|---|---|---|---|---|\n| aN | -0.01 | 0.12 | -0.21 |  0.18 |\n| bMN |  0.61 | 0.13 |  0.40 |  0.83 |\n| sigmaN |  0.63 | 0.11 |  0.46 |  0.80 |\n| aK |  0.07 | 0.13 | -0.15 |  0.28 |\n| bMK | -0.70 | 0.22 | -1.06 | -0.35 |\n| bNK |  0.68 | 0.25 |  0.28 |  1.07 |\n| sigmaK |  0.74 | 0.13 |  0.53 |  0.95 |\n\n",
            "text/latex": "A data.frame: 7 × 4\n\\begin{tabular}{r|llll}\n  & mean & sd & 5.5\\% & 94.5\\%\\\\\n  & <dbl> & <dbl> & <dbl> & <dbl>\\\\\n\\hline\n\taN & -0.01 & 0.12 & -0.21 &  0.18\\\\\n\tbMN &  0.61 & 0.13 &  0.40 &  0.83\\\\\n\tsigmaN &  0.63 & 0.11 &  0.46 &  0.80\\\\\n\taK &  0.07 & 0.13 & -0.15 &  0.28\\\\\n\tbMK & -0.70 & 0.22 & -1.06 & -0.35\\\\\n\tbNK &  0.68 & 0.25 &  0.28 &  1.07\\\\\n\tsigmaK &  0.74 & 0.13 &  0.53 &  0.95\\\\\n\\end{tabular}\n",
            "text/plain": [
              "       mean  sd   5.5%  94.5%\n",
              "aN     -0.01 0.12 -0.21  0.18\n",
              "bMN     0.61 0.13  0.40  0.83\n",
              "sigmaN  0.63 0.11  0.46  0.80\n",
              "aK      0.07 0.13 -0.15  0.28\n",
              "bMK    -0.70 0.22 -1.06 -0.35\n",
              "bNK     0.68 0.25  0.28  1.07\n",
              "sigmaK  0.74 0.13  0.53  0.95"
            ]
          },
          "metadata": {}
        }
      ]
    },
    {
      "cell_type": "markdown",
      "source": [
        "We're asked to estimate the counterfactual for K after doubling M.  So let's plot our counterfactuals for adjusting M"
      ],
      "metadata": {
        "id": "vi8NVG-LqDjI"
      }
    },
    {
      "cell_type": "code",
      "source": [
        "# 1. Pick a variable to manipulate, the \"intervention variable\".\n",
        "## The question specifies that we manipulate M\n",
        "\n",
        "# 2. Define the range of values to set the intervention variable to.\n",
        "M_seq <- seq(from=-3, to=3, length.out=100)\n",
        "\n",
        "# 3. Simulate the new outcomes for each value of the intervention variable and each posterior sample of the parameters.\n",
        "mC <- sim(m, data.frame(M=M_seq), vars=c(\"N\", \"K\"))\n",
        "\n",
        "str(mC)"
      ],
      "metadata": {
        "colab": {
          "base_uri": "https://localhost:8080/"
        },
        "id": "CIm-e3Ukp4mM",
        "outputId": "c442b30e-ae01-4ed5-9ada-278ad498e3ae"
      },
      "execution_count": null,
      "outputs": [
        {
          "output_type": "stream",
          "name": "stdout",
          "text": [
            "List of 2\n",
            " $ N: num [1:1000, 1:100] -1.09 -1.416 -1.779 0.439 -2.359 ...\n",
            " $ K: num [1:1000, 1:100] 1.091 2.863 0.744 2.864 -0.197 ...\n"
          ]
        }
      ]
    },
    {
      "cell_type": "code",
      "source": [
        "# Now plotting the new outcomes for both M -> A and A -> D\n",
        "par(mfrow=c(1,2))\n",
        "\n",
        "## M -> N\n",
        "means_N <- colMeans(mC$N)\n",
        "HPDIs_N <- apply(mC$N, 2, HPDI)\n",
        "\n",
        "plot(means_N ~ M_seq, type=\"l\", main=\"M -> N Counterfactual\", ylab=\"N\", xlab=\"M\")\n",
        "shade(HPDIs_N, M_seq)\n",
        "\n",
        "## M -> K <- N\n",
        "means_K <- colMeans(mC$K)\n",
        "HPDIs_K <- apply(mC$K, 2, HPDI)\n",
        "\n",
        "plot(means_K ~ M_seq, type=\"l\", main=\"M -> N <- K Counterfactual\", ylab=\"K\", xlab=\"M\")\n",
        "shade(HPDIs_K, M_seq)"
      ],
      "metadata": {
        "colab": {
          "base_uri": "https://localhost:8080/",
          "height": 437
        },
        "id": "d46DeAxlqyn8",
        "outputId": "0d7e7fdb-ad5f-4c52-85b7-ebc6d85c5004"
      },
      "execution_count": null,
      "outputs": [
        {
          "output_type": "display_data",
          "data": {
            "text/plain": [
              "Plot with title “M -> N <- K Counterfactual”"
            ],
            "image/png": "[encoded data removed]"
          },
          "metadata": {
            "image/png": {
              "width": 420,
              "height": 420
            }
          }
        }
      ]
    },
    {
      "cell_type": "markdown",
      "source": [
        "Now we need to pick a M (mass) value to double.  Let's arbitrarily pick the mean for mass (and then standardize it)."
      ],
      "metadata": {
        "id": "G1sHBsGTrlHm"
      }
    },
    {
      "cell_type": "code",
      "source": [
        "mean_Mass <- mean(log(d2$mass))\n",
        "twice_Mass <- mean_Mass * 2\n",
        "twice_std <- (twice_Mass - mean_Mass) / sd(log(d2$mass))\n",
        "\n",
        "mean_Mass\n",
        "twice_std"
      ],
      "metadata": {
        "colab": {
          "base_uri": "https://localhost:8080/",
          "height": 52
        },
        "id": "g3GhgHZarKOs",
        "outputId": "a9e77601-d8d6-4a62-bec6-a3fa6b94ba85"
      },
      "execution_count": null,
      "outputs": [
        {
          "output_type": "display_data",
          "data": {
            "text/html": [
              "16.6376470588235"
            ],
            "text/markdown": "16.6376470588235",
            "text/latex": "16.6376470588235",
            "text/plain": [
              "[1] 16.63765"
            ]
          },
          "metadata": {}
        },
        {
          "output_type": "display_data",
          "data": {
            "text/html": [
              "0.705513525048805"
            ],
            "text/markdown": "0.705513525048805",
            "text/latex": "0.705513525048805",
            "text/plain": [
              "[1] 0.7055135"
            ]
          },
          "metadata": {}
        }
      ]
    },
    {
      "cell_type": "markdown",
      "source": [
        "So the mean mass in our data is ~ 16.6 kg, and this translates to ~0.71 in standardized units.  Let's plug this into our counterfactual scenario."
      ],
      "metadata": {
        "id": "wpH1aTImsSuX"
      }
    },
    {
      "cell_type": "code",
      "source": [
        "M_twice <- c(0, twice_std)\n",
        "mC2 <- sim(m, data=data.frame(M=M_twice), vars=c(\"N\", \"K\"))\n",
        "dif <- mC2$K[,2] - mC2$K[,1]\n",
        "(meanDif <- mean(dif))\n",
        "\n",
        "plot(means_K ~ M_seq, type=\"l\", main=\"M -> N <- K Counterfactual\", ylab=\"K\", xlab=\"M\")\n",
        "shade(HPDIs_K, M_seq)\n",
        "abline(v=twice_std, col=\"red\")\n",
        "abline(h=meanDif, col=\"red\")"
      ],
      "metadata": {
        "colab": {
          "base_uri": "https://localhost:8080/",
          "height": 454
        },
        "id": "ihM3JPN6sJRp",
        "outputId": "ccbee7ab-d6dd-4c6b-cf6f-e21d4bbec04f"
      },
      "execution_count": null,
      "outputs": [
        {
          "output_type": "display_data",
          "data": {
            "text/html": [
              "-0.188024524609947"
            ],
            "text/markdown": "-0.188024524609947",
            "text/latex": "-0.188024524609947",
            "text/plain": [
              "[1] -0.1880245"
            ]
          },
          "metadata": {}
        },
        {
          "output_type": "display_data",
          "data": {
            "text/plain": [
              "Plot with title “M -> N <- K Counterfactual”"
            ],
            "image/png": "[encoded data removed]"
          },
          "metadata": {
            "image/png": {
              "width": 420,
              "height": 420
            }
          }
        }
      ]
    },
    {
      "cell_type": "markdown",
      "source": [
        "So doubling mean mass (M) is expected to decrease milk kilocalories (K) by ~0.2 standard deviations, or ~0.03 kcal (but notice the width of the credibility intervals; this is an uncertain prediction at best)."
      ],
      "metadata": {
        "id": "VT_AIV38tG5w"
      }
    },
    {
      "cell_type": "code",
      "source": [
        "sd(d2$kcal.per.g)*(meanDif <- mean(dif))"
      ],
      "metadata": {
        "colab": {
          "base_uri": "https://localhost:8080/",
          "height": 34
        },
        "id": "fu40U2VvtHfP",
        "outputId": "41149f90-d9e5-4b23-fba4-463d9b8c664c"
      },
      "execution_count": null,
      "outputs": [
        {
          "output_type": "display_data",
          "data": {
            "text/html": [
              "-0.0325092813413317"
            ],
            "text/markdown": "-0.0325092813413317",
            "text/latex": "-0.0325092813413317",
            "text/plain": [
              "[1] -0.03250928"
            ]
          },
          "metadata": {}
        }
      ]
    },
    {
      "cell_type": "markdown",
      "source": [
        "### 5H4\n",
        "#### Question\n",
        "Here is an open practice problem to engage your imagination. In the divorce date, States in the southern United States have many of the highest divorce rates. Add the South indicator variable  to the analysis. First, draw one or more DAGs that represent your ideas for how Southern American culture might influence any of the other three variables (D, M or A). Then list the testable implications of your DAGs, if there are any, and fit one or more models to evaluate the implications. What do you  think the influence of “Southerness” is?\n",
        "\n",
        "#### Answer\n",
        "There's going to be different answers here, depending on how you think *South-ness* (S) affects Divorce Rate (D), Marriage Rate (M), and Median Age of Marriage (A).  I think the purpose of this question is 1) translating the casual relations implied by your DAG into a regression and 2) identifying and checking (some of) those causal assumptions in order to assess the possible validity of your causal model.\n",
        "\n",
        "We start by drawing a DAG and then finding *implied conditional independencies*, which we can then check to assess the validity of our DAG.  I am going to modify the DAG presented in the chapter (p. 128)."
      ],
      "metadata": {
        "id": "Kt_KSPd_ai90"
      }
    },
    {
      "cell_type": "code",
      "source": [
        "library(dagitty)\n",
        "\n",
        "DivDag <- dagitty(\"dag{D <- A -> M;\n",
        "                       M -> D;\n",
        "                       D <- S -> A;\n",
        "                       S -> M}\")\n",
        "coordinates(DivDag) <- list(x=c(A=1, D=2, M=3, S=2),\n",
        "                            y=c(A=1, D=3, M=1, S=2))\n",
        "drawdag(DivDag)"
      ],
      "metadata": {
        "colab": {
          "base_uri": "https://localhost:8080/",
          "height": 437
        },
        "id": "61qM1iFCd3nd",
        "outputId": "1a48a5a2-4bad-4e77-b9e7-5bb553b213a5"
      },
      "execution_count": null,
      "outputs": [
        {
          "output_type": "display_data",
          "data": {
            "text/plain": [
              "plot without title"
            ],
            "image/png": "[encoded data removed]"
          },
          "metadata": {
            "image/png": {
              "width": 420,
              "height": 420
            }
          }
        }
      ]
    },
    {
      "cell_type": "markdown",
      "source": [
        "In my mind, it makes sense that unspecified cultural features of the South may affect all three other variables.  So that's what I've used.  You may disagree and try a different DAG.  \n",
        "\n",
        "Nevertheless, let's find the implied conditional independencies.  It's a little tricky here because the central S provides an additional path between variables than would otherwise exist.  Luckily, `daggity` plugs right along."
      ],
      "metadata": {
        "id": "o-RFXQxlgrae"
      }
    },
    {
      "cell_type": "code",
      "source": [
        "impliedConditionalIndependencies(DivDag)"
      ],
      "metadata": {
        "id": "Jtu5CrKmgUl0"
      },
      "execution_count": null,
      "outputs": []
    },
    {
      "cell_type": "markdown",
      "source": [
        "Interesting...no `impliedConditionalIndependencies` are returned?  Is something broken?  No.  Everything is directly connected, by a single arrow, to everything else; `impliedConditionalIndependencies` require a third variable in the mix.\n",
        "\n",
        "So now what?  Does the fact that there are no `impliedConditionalIndependencies` disqualify our DAG?  No; the DAG may or may not be reasonable, but we just don't have a great way of testing it here.  If we had data on some other variables, we could potentially generate a DAG with some `impliedConditionalIndependencies`.  For example, if there was a mediating variable X between A and M..."
      ],
      "metadata": {
        "id": "njDxGrrEiOS9"
      }
    },
    {
      "cell_type": "code",
      "source": [
        "library(dagitty)\n",
        "\n",
        "DivDag2 <- dagitty(\"dag{D <- A -> X -> M;\n",
        "                       M -> D;\n",
        "                       D <- S -> A;\n",
        "                       S -> M}\")\n",
        "coordinates(DivDag2) <- list(x=c(A=1, D=2, M=3, S=2, X=2),\n",
        "                             y=c(A=1, D=3, M=1, S=2, X=1))\n",
        "drawdag(DivDag2)\n",
        "\n",
        "impliedConditionalIndependencies(DivDag2)"
      ],
      "metadata": {
        "colab": {
          "base_uri": "https://localhost:8080/",
          "height": 492
        },
        "id": "goOerqI7k5Hx",
        "outputId": "92f02f66-b7b9-4561-df76-24f925b859dc"
      },
      "execution_count": null,
      "outputs": [
        {
          "output_type": "display_data",
          "data": {
            "text/plain": [
              "A _||_ M | S, X\n",
              "D _||_ X | A, M, S\n",
              "S _||_ X | A"
            ]
          },
          "metadata": {}
        },
        {
          "output_type": "display_data",
          "data": {
            "text/plain": [
              "plot without title"
            ],
            "image/png": "[encoded data removed]"
          },
          "metadata": {
            "image/png": {
              "width": 420,
              "height": 420
            }
          }
        }
      ]
    },
    {
      "cell_type": "markdown",
      "source": [
        "...all sorts of possibilities open up.\n",
        "\n",
        "But I don't see any other variables in the `WaffleDivorce` dataset to plug into our DAG.\n",
        "\n",
        "Let's bravely push on."
      ],
      "metadata": {
        "id": "kCXHNxAtldKP"
      }
    },
    {
      "cell_type": "code",
      "source": [
        "data(WaffleDivorce)\n",
        "d <- WaffleDivorce\n",
        "d$D <- standardize( d$Divorce )\n",
        "d$M <- standardize( d$Marriage )\n",
        "d$A <- standardize( d$MedianAgeMarriage )\n",
        "d$S <- d$South\n",
        "\n",
        "m <- quap(\n",
        "  alist(\n",
        "    D ~ dnorm(mu, sigma),\n",
        "      mu <- a + bA*A + bS*S + bM*M,\n",
        "        a ~ dnorm(0, 0.2),\n",
        "        c(bA, bS, bM) ~ dnorm(0, 0.5),\n",
        "      sigma ~ dexp(1)\n",
        "  ), data=d\n",
        ")\n",
        "\n",
        "round(precis(m),2)"
      ],
      "metadata": {
        "colab": {
          "base_uri": "https://localhost:8080/",
          "height": 255
        },
        "id": "eRE-_i2ohdMr",
        "outputId": "b36e54cb-26c3-4762-dd2a-a054fd32b231"
      },
      "execution_count": null,
      "outputs": [
        {
          "output_type": "display_data",
          "data": {
            "text/html": [
              "<table class=\"dataframe\">\n",
              "<caption>A data.frame: 5 × 4</caption>\n",
              "<thead>\n",
              "\t<tr><th></th><th scope=col>mean</th><th scope=col>sd</th><th scope=col>5.5%</th><th scope=col>94.5%</th></tr>\n",
              "\t<tr><th></th><th scope=col>&lt;dbl&gt;</th><th scope=col>&lt;dbl&gt;</th><th scope=col>&lt;dbl&gt;</th><th scope=col>&lt;dbl&gt;</th></tr>\n",
              "</thead>\n",
              "<tbody>\n",
              "\t<tr><th scope=row>a</th><td>-0.08</td><td>0.11</td><td>-0.25</td><td> 0.09</td></tr>\n",
              "\t<tr><th scope=row>bA</th><td>-0.56</td><td>0.15</td><td>-0.80</td><td>-0.32</td></tr>\n",
              "\t<tr><th scope=row>bS</th><td> 0.35</td><td>0.22</td><td> 0.01</td><td> 0.69</td></tr>\n",
              "\t<tr><th scope=row>bM</th><td>-0.04</td><td>0.15</td><td>-0.28</td><td> 0.19</td></tr>\n",
              "\t<tr><th scope=row>sigma</th><td> 0.76</td><td>0.08</td><td> 0.64</td><td> 0.88</td></tr>\n",
              "</tbody>\n",
              "</table>\n"
            ],
            "text/markdown": "\nA data.frame: 5 × 4\n\n| <!--/--> | mean &lt;dbl&gt; | sd &lt;dbl&gt; | 5.5% &lt;dbl&gt; | 94.5% &lt;dbl&gt; |\n|---|---|---|---|---|\n| a | -0.08 | 0.11 | -0.25 |  0.09 |\n| bA | -0.56 | 0.15 | -0.80 | -0.32 |\n| bS |  0.35 | 0.22 |  0.01 |  0.69 |\n| bM | -0.04 | 0.15 | -0.28 |  0.19 |\n| sigma |  0.76 | 0.08 |  0.64 |  0.88 |\n\n",
            "text/latex": "A data.frame: 5 × 4\n\\begin{tabular}{r|llll}\n  & mean & sd & 5.5\\% & 94.5\\%\\\\\n  & <dbl> & <dbl> & <dbl> & <dbl>\\\\\n\\hline\n\ta & -0.08 & 0.11 & -0.25 &  0.09\\\\\n\tbA & -0.56 & 0.15 & -0.80 & -0.32\\\\\n\tbS &  0.35 & 0.22 &  0.01 &  0.69\\\\\n\tbM & -0.04 & 0.15 & -0.28 &  0.19\\\\\n\tsigma &  0.76 & 0.08 &  0.64 &  0.88\\\\\n\\end{tabular}\n",
            "text/plain": [
              "      mean  sd   5.5%  94.5%\n",
              "a     -0.08 0.11 -0.25  0.09\n",
              "bA    -0.56 0.15 -0.80 -0.32\n",
              "bS     0.35 0.22  0.01  0.69\n",
              "bM    -0.04 0.15 -0.28  0.19\n",
              "sigma  0.76 0.08  0.64  0.88"
            ]
          },
          "metadata": {}
        }
      ]
    },
    {
      "cell_type": "markdown",
      "source": [
        "More interesting things: A and S seem to be related to D, but M does not seem to be.  One possible interpretation here is that M is not a cause of D.  This is speculative, and merely looking for non-zero coeffecients is NOT a good way to make inference with DAGs and regression, but this is not a crazy possibility.  In the end, we would report both models so that our peers could evaluate for themselves.\n",
        "\n",
        "Let's explore this possibility"
      ],
      "metadata": {
        "id": "xzFaBijXmm6d"
      }
    },
    {
      "cell_type": "code",
      "source": [
        "library(dagitty)\n",
        "\n",
        "DivDag3 <- dagitty(\"dag{D <- A -> M;\n",
        "                        D <- S -> A;\n",
        "                        S -> M}\")\n",
        "coordinates(DivDag3) <- list(x=c(A=1, D=2, M=3, S=2),\n",
        "                             y=c(A=1, D=3, M=1, S=2))\n",
        "drawdag(DivDag3)\n",
        "\n",
        "impliedConditionalIndependencies(DivDag3)"
      ],
      "metadata": {
        "colab": {
          "base_uri": "https://localhost:8080/",
          "height": 455
        },
        "id": "8QaWYdF0jJB3",
        "outputId": "5c93d081-08de-41c9-d827-69b8a0bfda50"
      },
      "execution_count": null,
      "outputs": [
        {
          "output_type": "display_data",
          "data": {
            "text/plain": [
              "D _||_ M | A, S"
            ]
          },
          "metadata": {}
        },
        {
          "output_type": "display_data",
          "data": {
            "text/plain": [
              "plot without title"
            ],
            "image/png": "[encoded data removed]"
          },
          "metadata": {
            "image/png": {
              "width": 420,
              "height": 420
            }
          }
        }
      ]
    },
    {
      "cell_type": "markdown",
      "source": [
        "Now we have an `impliedConditionalIndependcies`: D $\\perp$ M | A, S.  This is exactly what we found in our regression model (which it had to be since we designed the new DAG to reflect that finding from the previous regression).  Let's build out another regression, but this time explicating the entire DAG."
      ],
      "metadata": {
        "id": "jZp9SfxQogSE"
      }
    },
    {
      "cell_type": "code",
      "source": [
        "m2 <- quap(\n",
        "  alist(\n",
        "    # A -> D <- S\n",
        "    D ~ dnorm(muD, sigmaD),\n",
        "      muD <- aD + bAD*A + bSD*S,\n",
        "        aD ~ dnorm(0, 0.2),\n",
        "        bAD ~ dnorm(0, 0.5),\n",
        "        bSD ~ dnorm(0, 0.5),\n",
        "      sigmaD ~ dexp(1),\n",
        "\n",
        "    # S -> A\n",
        "    A ~ dnorm(muA, sigmaA),\n",
        "      muA <- aA + bSA*S,\n",
        "        aA ~ dnorm(0, 0.2),\n",
        "        bSA ~ dnorm(0, 0.5),\n",
        "      sigmaA ~ dexp(1),\n",
        "\n",
        "    # A -> M <- S\n",
        "    M ~ dnorm(muM, sigmaM),\n",
        "      muM <- aM + bSM*S,#bAM*A + bSM*M,\n",
        "        aM ~ dnorm(0, 0.2),\n",
        "        bAM ~ dnorm(0, 0.5),\n",
        "        bSM ~ dnorm(0, 0.5),\n",
        "      sigmaM ~ dexp(1)\n",
        "  ), data=d,\n",
        ")\n",
        "\n",
        "round(precis(m2), 2)"
      ],
      "metadata": {
        "id": "s7tguMJNnnii"
      },
      "execution_count": null,
      "outputs": []
    },
    {
      "cell_type": "markdown",
      "source": [
        "The rest of the model *does* work, the A -> D <- part is just our original model `m`, and the S -> A part is"
      ],
      "metadata": {
        "id": "2MzBO1zVDPo3"
      }
    },
    {
      "cell_type": "code",
      "source": [
        "mSA.seq <- quap(\n",
        "  alist(\n",
        "    A ~ dnorm(muA, sigmaA),\n",
        "      muA <- aA + bSA*S,\n",
        "        aA ~ dnorm(0, 0.2),\n",
        "        bSA ~ dnorm(0, 0.5),\n",
        "      sigmaA ~ dexp(1)\n",
        "  ), data=d\n",
        ")\n",
        "\n",
        "round(precis(mSA.seq), 2)"
      ],
      "metadata": {
        "colab": {
          "base_uri": "https://localhost:8080/",
          "height": 192
        },
        "id": "MuMX6ZIdDddv",
        "outputId": "9b976c1b-51d3-4ed9-dd7f-54d77ba174f0"
      },
      "execution_count": null,
      "outputs": [
        {
          "output_type": "display_data",
          "data": {
            "text/html": [
              "<table class=\"dataframe\">\n",
              "<caption>A data.frame: 3 × 4</caption>\n",
              "<thead>\n",
              "\t<tr><th></th><th scope=col>mean</th><th scope=col>sd</th><th scope=col>5.5%</th><th scope=col>94.5%</th></tr>\n",
              "\t<tr><th></th><th scope=col>&lt;dbl&gt;</th><th scope=col>&lt;dbl&gt;</th><th scope=col>&lt;dbl&gt;</th><th scope=col>&lt;dbl&gt;</th></tr>\n",
              "</thead>\n",
              "<tbody>\n",
              "\t<tr><th scope=row>aA</th><td> 0.07</td><td>0.12</td><td>-0.12</td><td>0.27</td></tr>\n",
              "\t<tr><th scope=row>bSA</th><td>-0.37</td><td>0.25</td><td>-0.76</td><td>0.03</td></tr>\n",
              "\t<tr><th scope=row>sigmaA</th><td> 0.95</td><td>0.09</td><td> 0.80</td><td>1.10</td></tr>\n",
              "</tbody>\n",
              "</table>\n"
            ],
            "text/markdown": "\nA data.frame: 3 × 4\n\n| <!--/--> | mean &lt;dbl&gt; | sd &lt;dbl&gt; | 5.5% &lt;dbl&gt; | 94.5% &lt;dbl&gt; |\n|---|---|---|---|---|\n| aA |  0.07 | 0.12 | -0.12 | 0.27 |\n| bSA | -0.37 | 0.25 | -0.76 | 0.03 |\n| sigmaA |  0.95 | 0.09 |  0.80 | 1.10 |\n\n",
            "text/latex": "A data.frame: 3 × 4\n\\begin{tabular}{r|llll}\n  & mean & sd & 5.5\\% & 94.5\\%\\\\\n  & <dbl> & <dbl> & <dbl> & <dbl>\\\\\n\\hline\n\taA &  0.07 & 0.12 & -0.12 & 0.27\\\\\n\tbSA & -0.37 & 0.25 & -0.76 & 0.03\\\\\n\tsigmaA &  0.95 & 0.09 &  0.80 & 1.10\\\\\n\\end{tabular}\n",
            "text/plain": [
              "       mean  sd   5.5%  94.5%\n",
              "aA      0.07 0.12 -0.12 0.27 \n",
              "bSA    -0.37 0.25 -0.76 0.03 \n",
              "sigmaA  0.95 0.09  0.80 1.10 "
            ]
          },
          "metadata": {}
        }
      ]
    },
    {
      "cell_type": "markdown",
      "source": [
        "The failure of the `mSA.seg` model is not great support for our DAG.  But the `mSA.seg` model suggests that Southerness (S) reduces median age of marriage (A).\n",
        "\n",
        "Let's look the posited S -> M relation a few more ways to see if we can clarify its possible existence.  If S -> M is a true relationship as we've hypothesized it, we should see it in a plot, as a correlation between the two variables, and in a non-Bayesian linear model."
      ],
      "metadata": {
        "id": "A-10zoXk6NfH"
      }
    },
    {
      "cell_type": "code",
      "source": [
        "d$South_ind <- d$South + 1\n",
        "\n",
        "plot(d$M ~ d$A, col = d$South_ind)"
      ],
      "metadata": {
        "id": "tJ-5StiE6zFt"
      },
      "execution_count": null,
      "outputs": []
    },
    {
      "cell_type": "code",
      "source": [
        "cor(d$S, d$M, method=\"spearman\")"
      ],
      "metadata": {
        "colab": {
          "base_uri": "https://localhost:8080/",
          "height": 34
        },
        "id": "--6sHQGKxgc6",
        "outputId": "586d14f7-15e4-42cb-9732-506ef9465ac5"
      },
      "execution_count": null,
      "outputs": [
        {
          "output_type": "display_data",
          "data": {
            "text/html": [
              "0.18984932417271"
            ],
            "text/markdown": "0.18984932417271",
            "text/latex": "0.18984932417271",
            "text/plain": [
              "[1] 0.1898493"
            ]
          },
          "metadata": {}
        }
      ]
    },
    {
      "cell_type": "code",
      "source": [
        "summary(lm(d$M ~ d$A + d$S))"
      ],
      "metadata": {
        "colab": {
          "base_uri": "https://localhost:8080/",
          "height": 368
        },
        "id": "ozkZYLdc65NH",
        "outputId": "4e508dca-a168-45c4-d306-e280bdab2299"
      },
      "execution_count": null,
      "outputs": [
        {
          "output_type": "display_data",
          "data": {
            "text/plain": [
              "\n",
              "Call:\n",
              "lm(formula = d$M ~ d$A + d$S)\n",
              "\n",
              "Residuals:\n",
              "    Min      1Q  Median      3Q     Max \n",
              "-1.5976 -0.4680 -0.1067  0.2534  1.7043 \n",
              "\n",
              "Coefficients:\n",
              "            Estimate Std. Error t value Pr(>|t|)    \n",
              "(Intercept)  0.06386    0.11773   0.542    0.590    \n",
              "d$A         -0.74676    0.10322  -7.234 3.61e-09 ***\n",
              "d$S         -0.22807    0.22759  -1.002    0.321    \n",
              "---\n",
              "Signif. codes:  0 ‘***’ 0.001 ‘**’ 0.01 ‘*’ 0.05 ‘.’ 0.1 ‘ ’ 1\n",
              "\n",
              "Residual standard error: 0.7 on 47 degrees of freedom\n",
              "Multiple R-squared:   0.53,\tAdjusted R-squared:   0.51 \n",
              "F-statistic:  26.5 on 2 and 47 DF,  p-value: 1.967e-08\n"
            ]
          },
          "metadata": {}
        }
      ]
    },
    {
      "cell_type": "code",
      "source": [
        "summary(lm(d$M ~ d$S))"
      ],
      "metadata": {
        "colab": {
          "base_uri": "https://localhost:8080/",
          "height": 312
        },
        "id": "MXB05u7V5Uzz",
        "outputId": "ad653c87-1340-47f7-f797-f3f03d91ae35"
      },
      "execution_count": null,
      "outputs": [
        {
          "output_type": "display_data",
          "data": {
            "text/plain": [
              "\n",
              "Call:\n",
              "lm(formula = d$M ~ d$S)\n",
              "\n",
              "Residuals:\n",
              "     Min       1Q   Median       3Q      Max \n",
              "-1.69099 -0.73652 -0.09602  0.41841  2.83782 \n",
              "\n",
              "Coefficients:\n",
              "            Estimate Std. Error t value Pr(>|t|)\n",
              "(Intercept)  -0.0505     0.1678  -0.301    0.765\n",
              "d$S           0.1803     0.3172   0.569    0.572\n",
              "\n",
              "Residual standard error: 1.007 on 48 degrees of freedom\n",
              "Multiple R-squared:  0.00669,\tAdjusted R-squared:  -0.014 \n",
              "F-statistic: 0.3233 on 1 and 48 DF,  p-value: 0.5723\n"
            ]
          },
          "metadata": {}
        }
      ]
    },
    {
      "cell_type": "markdown",
      "source": [
        "All indications is that there a A -> M relationship but no S -> M relationship.  "
      ],
      "metadata": {
        "id": "gLgDUzJJ7GaR"
      }
    },
    {
      "cell_type": "code",
      "source": [
        "library(dagitty)\n",
        "\n",
        "DivDag4 <- dagitty(\"dag{D <- A -> M;\n",
        "                        D <- S -> A}\")\n",
        "coordinates(DivDag4) <- list(x=c(A=1, D=2, M=3, S=2),\n",
        "                             y=c(A=1, D=3, M=1, S=2))\n",
        "drawdag(DivDag4)\n",
        "\n",
        "impliedConditionalIndependencies(DivDag4)"
      ],
      "metadata": {
        "colab": {
          "base_uri": "https://localhost:8080/",
          "height": 474
        },
        "id": "na32Mx_u9GDI",
        "outputId": "0742901d-7eb0-48be-d5f0-16ec7a819122"
      },
      "execution_count": null,
      "outputs": [
        {
          "output_type": "display_data",
          "data": {
            "text/plain": [
              "D _||_ M | A\n",
              "M _||_ S | A"
            ]
          },
          "metadata": {}
        },
        {
          "output_type": "display_data",
          "data": {
            "text/plain": [
              "plot without title"
            ],
            "image/png": "[encoded data removed]"
          },
          "metadata": {
            "image/png": {
              "width": 420,
              "height": 420
            }
          }
        }
      ]
    }
  ]
}
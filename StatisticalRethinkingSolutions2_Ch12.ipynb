{
  "nbformat": 4,
  "nbformat_minor": 0,
  "metadata": {
    "colab": {
      "provenance": [],
      "authorship_tag": "ABX9TyNGKfWR6U4X+33GBVBF07sM",
      "include_colab_link": true
    },
    "kernelspec": {
      "name": "ir",
      "display_name": "R"
    },
    "language_info": {
      "name": "R"
    }
  },
  "cells": [
    {
      "cell_type": "markdown",
      "metadata": {
        "id": "view-in-github",
        "colab_type": "text"
      },
      "source": [
        "<a href=\"https://colab.research.google.com/github/nicklausmillican/StatisticalRethinkingIISolutions/blob/main/StatisticalRethinkingSolutions2_Ch12.ipynb\" target=\"_parent\"><img src=\"https://colab.research.google.com/assets/colab-badge.svg\" alt=\"Open In Colab\"/></a>"
      ]
    },
    {
      "cell_type": "code",
      "source": [
        "# Checking versions of g++ and make\n",
        "system(\"g++ --version\", intern = TRUE)\n",
        "system(\"make --version\", intern = TRUE)\n",
        "\n",
        "# Install g++ and make if needed\n",
        "system(\"sudo apt install g++\", intern = TRUE)\n",
        "system(\"sudo apt install make\", intern = TRUE)\n"
      ],
      "metadata": {
        "colab": {
          "base_uri": "https://localhost:8080/",
          "height": 156
        },
        "id": "6nmEQndWT8cK",
        "outputId": "b93c67b1-e0c4-4bd7-f779-db731083581e"
      },
      "execution_count": 1,
      "outputs": [
        {
          "output_type": "display_data",
          "data": {
            "text/html": [
              "<style>\n",
              ".list-inline {list-style: none; margin:0; padding: 0}\n",
              ".list-inline>li {display: inline-block}\n",
              ".list-inline>li:not(:last-child)::after {content: \"\\00b7\"; padding: 0 .5ex}\n",
              "</style>\n",
              "<ol class=list-inline><li>'g++ (Ubuntu 11.4.0-1ubuntu1~22.04) 11.4.0'</li><li>'Copyright (C) 2021 Free Software Foundation, Inc.'</li><li><span style=white-space:pre-wrap>'This is free software; see the source for copying conditions.  There is NO'</span></li><li>'warranty; not even for MERCHANTABILITY or FITNESS FOR A PARTICULAR PURPOSE.'</li><li>''</li></ol>\n"
            ],
            "text/markdown": "1. 'g++ (Ubuntu 11.4.0-1ubuntu1~22.04) 11.4.0'\n2. 'Copyright (C) 2021 Free Software Foundation, Inc.'\n3. <span style=white-space:pre-wrap>'This is free software; see the source for copying conditions.  There is NO'</span>\n4. 'warranty; not even for MERCHANTABILITY or FITNESS FOR A PARTICULAR PURPOSE.'\n5. ''\n\n\n",
            "text/latex": "\\begin{enumerate*}\n\\item 'g++ (Ubuntu 11.4.0-1ubuntu1\\textasciitilde{}22.04) 11.4.0'\n\\item 'Copyright (C) 2021 Free Software Foundation, Inc.'\n\\item 'This is free software; see the source for copying conditions.  There is NO'\n\\item 'warranty; not even for MERCHANTABILITY or FITNESS FOR A PARTICULAR PURPOSE.'\n\\item ''\n\\end{enumerate*}\n",
            "text/plain": [
              "[1] \"g++ (Ubuntu 11.4.0-1ubuntu1~22.04) 11.4.0\"                                  \n",
              "[2] \"Copyright (C) 2021 Free Software Foundation, Inc.\"                          \n",
              "[3] \"This is free software; see the source for copying conditions.  There is NO\" \n",
              "[4] \"warranty; not even for MERCHANTABILITY or FITNESS FOR A PARTICULAR PURPOSE.\"\n",
              "[5] \"\"                                                                           "
            ]
          },
          "metadata": {}
        },
        {
          "output_type": "display_data",
          "data": {
            "text/html": [
              "<style>\n",
              ".list-inline {list-style: none; margin:0; padding: 0}\n",
              ".list-inline>li {display: inline-block}\n",
              ".list-inline>li:not(:last-child)::after {content: \"\\00b7\"; padding: 0 .5ex}\n",
              "</style>\n",
              "<ol class=list-inline><li>'GNU Make 4.3'</li><li>'Built for x86_64-pc-linux-gnu'</li><li>'Copyright (C) 1988-2020 Free Software Foundation, Inc.'</li><li>'License GPLv3+: GNU GPL version 3 or later &lt;http://gnu.org/licenses/gpl.html&gt;'</li><li>'This is free software: you are free to change and redistribute it.'</li><li>'There is NO WARRANTY, to the extent permitted by law.'</li></ol>\n"
            ],
            "text/markdown": "1. 'GNU Make 4.3'\n2. 'Built for x86_64-pc-linux-gnu'\n3. 'Copyright (C) 1988-2020 Free Software Foundation, Inc.'\n4. 'License GPLv3+: GNU GPL version 3 or later &lt;http://gnu.org/licenses/gpl.html&gt;'\n5. 'This is free software: you are free to change and redistribute it.'\n6. 'There is NO WARRANTY, to the extent permitted by law.'\n\n\n",
            "text/latex": "\\begin{enumerate*}\n\\item 'GNU Make 4.3'\n\\item 'Built for x86\\_64-pc-linux-gnu'\n\\item 'Copyright (C) 1988-2020 Free Software Foundation, Inc.'\n\\item 'License GPLv3+: GNU GPL version 3 or later <http://gnu.org/licenses/gpl.html>'\n\\item 'This is free software: you are free to change and redistribute it.'\n\\item 'There is NO WARRANTY, to the extent permitted by law.'\n\\end{enumerate*}\n",
            "text/plain": [
              "[1] \"GNU Make 4.3\"                                                                 \n",
              "[2] \"Built for x86_64-pc-linux-gnu\"                                                \n",
              "[3] \"Copyright (C) 1988-2020 Free Software Foundation, Inc.\"                       \n",
              "[4] \"License GPLv3+: GNU GPL version 3 or later <http://gnu.org/licenses/gpl.html>\"\n",
              "[5] \"This is free software: you are free to change and redistribute it.\"           \n",
              "[6] \"There is NO WARRANTY, to the extent permitted by law.\"                        "
            ]
          },
          "metadata": {}
        },
        {
          "output_type": "display_data",
          "data": {
            "text/html": [
              "<style>\n",
              ".list-inline {list-style: none; margin:0; padding: 0}\n",
              ".list-inline>li {display: inline-block}\n",
              ".list-inline>li:not(:last-child)::after {content: \"\\00b7\"; padding: 0 .5ex}\n",
              "</style>\n",
              "<ol class=list-inline><li>'Reading package lists...'</li><li>'Building dependency tree...'</li><li>'Reading state information...'</li><li>'g++ is already the newest version (4:11.2.0-1ubuntu1).'</li><li>'g++ set to manually installed.'</li><li>'0 upgraded, 0 newly installed, 0 to remove and 49 not upgraded.'</li></ol>\n"
            ],
            "text/markdown": "1. 'Reading package lists...'\n2. 'Building dependency tree...'\n3. 'Reading state information...'\n4. 'g++ is already the newest version (4:11.2.0-1ubuntu1).'\n5. 'g++ set to manually installed.'\n6. '0 upgraded, 0 newly installed, 0 to remove and 49 not upgraded.'\n\n\n",
            "text/latex": "\\begin{enumerate*}\n\\item 'Reading package lists...'\n\\item 'Building dependency tree...'\n\\item 'Reading state information...'\n\\item 'g++ is already the newest version (4:11.2.0-1ubuntu1).'\n\\item 'g++ set to manually installed.'\n\\item '0 upgraded, 0 newly installed, 0 to remove and 49 not upgraded.'\n\\end{enumerate*}\n",
            "text/plain": [
              "[1] \"Reading package lists...\"                                       \n",
              "[2] \"Building dependency tree...\"                                    \n",
              "[3] \"Reading state information...\"                                   \n",
              "[4] \"g++ is already the newest version (4:11.2.0-1ubuntu1).\"         \n",
              "[5] \"g++ set to manually installed.\"                                 \n",
              "[6] \"0 upgraded, 0 newly installed, 0 to remove and 49 not upgraded.\""
            ]
          },
          "metadata": {}
        },
        {
          "output_type": "display_data",
          "data": {
            "text/html": [
              "<style>\n",
              ".list-inline {list-style: none; margin:0; padding: 0}\n",
              ".list-inline>li {display: inline-block}\n",
              ".list-inline>li:not(:last-child)::after {content: \"\\00b7\"; padding: 0 .5ex}\n",
              "</style>\n",
              "<ol class=list-inline><li>'Reading package lists...'</li><li>'Building dependency tree...'</li><li>'Reading state information...'</li><li>'make is already the newest version (4.3-4.1build1).'</li><li>'make set to manually installed.'</li><li>'0 upgraded, 0 newly installed, 0 to remove and 49 not upgraded.'</li></ol>\n"
            ],
            "text/markdown": "1. 'Reading package lists...'\n2. 'Building dependency tree...'\n3. 'Reading state information...'\n4. 'make is already the newest version (4.3-4.1build1).'\n5. 'make set to manually installed.'\n6. '0 upgraded, 0 newly installed, 0 to remove and 49 not upgraded.'\n\n\n",
            "text/latex": "\\begin{enumerate*}\n\\item 'Reading package lists...'\n\\item 'Building dependency tree...'\n\\item 'Reading state information...'\n\\item 'make is already the newest version (4.3-4.1build1).'\n\\item 'make set to manually installed.'\n\\item '0 upgraded, 0 newly installed, 0 to remove and 49 not upgraded.'\n\\end{enumerate*}\n",
            "text/plain": [
              "[1] \"Reading package lists...\"                                       \n",
              "[2] \"Building dependency tree...\"                                    \n",
              "[3] \"Reading state information...\"                                   \n",
              "[4] \"make is already the newest version (4.3-4.1build1).\"            \n",
              "[5] \"make set to manually installed.\"                                \n",
              "[6] \"0 upgraded, 0 newly installed, 0 to remove and 49 not upgraded.\""
            ]
          },
          "metadata": {}
        }
      ]
    },
    {
      "cell_type": "code",
      "source": [
        "# Install cmdstanr from GitHub\n",
        "if (!require(cmdstanr)) {\n",
        "  devtools::install_github(\"stan-dev/cmdstanr\")\n",
        "}\n",
        "\n",
        "# Set up CmdStan if it's not already set up\n",
        "library(cmdstanr)\n",
        "if (!cmdstanr::cmdstan_version()) {\n",
        "  cmdstanr::install_cmdstan()\n",
        "}\n",
        "\n",
        "# Verify installation\n",
        "cmdstanr::check_cmdstan_toolchain()\n"
      ],
      "metadata": {
        "colab": {
          "base_uri": "https://localhost:8080/",
          "height": 974
        },
        "id": "xy8UnK1uUOmt",
        "outputId": "621055b0-2b16-4a83-fd2b-e24d24e8ea8e"
      },
      "execution_count": 2,
      "outputs": [
        {
          "output_type": "stream",
          "name": "stderr",
          "text": [
            "Loading required package: cmdstanr\n",
            "\n",
            "Warning message in library(package, lib.loc = lib.loc, character.only = TRUE, logical.return = TRUE, :\n",
            "“there is no package called ‘cmdstanr’”\n",
            "Downloading GitHub repo stan-dev/cmdstanr@HEAD\n",
            "\n"
          ]
        },
        {
          "output_type": "stream",
          "name": "stdout",
          "text": [
            "numDeriv     (NA -> 2016.8-1.1) [CRAN]\n",
            "matrixStats  (NA -> 1.4.1     ) [CRAN]\n",
            "distribut... (NA -> 0.5.0     ) [CRAN]\n",
            "tensorA      (NA -> 0.36.2.1  ) [CRAN]\n",
            "checkmate    (NA -> 2.3.2     ) [CRAN]\n",
            "abind        (NA -> 1.4-8     ) [CRAN]\n",
            "posterior    (NA -> 1.6.0     ) [CRAN]\n"
          ]
        },
        {
          "output_type": "stream",
          "name": "stderr",
          "text": [
            "Installing 7 packages: numDeriv, matrixStats, distributional, tensorA, checkmate, abind, posterior\n",
            "\n",
            "Installing packages into ‘/usr/local/lib/R/site-library’\n",
            "(as ‘lib’ is unspecified)\n",
            "\n"
          ]
        },
        {
          "output_type": "stream",
          "name": "stdout",
          "text": [
            "\u001b[36m──\u001b[39m \u001b[36mR CMD build\u001b[39m \u001b[36m─────────────────────────────────────────────────────────────────\u001b[39m\n",
            "* checking for file ‘/tmp/Rtmpun9kAA/remotes1e2401fbfc9/stan-dev-cmdstanr-f2e152b/DESCRIPTION’ ... OK\n",
            "* preparing ‘cmdstanr’:\n",
            "* checking DESCRIPTION meta-information ... OK\n",
            "* checking for LF line-endings in source and make files and shell scripts\n",
            "* checking for empty or unneeded directories\n",
            "Omitted ‘LazyData’ from DESCRIPTION\n",
            "* building ‘cmdstanr_0.8.1.9000.tar.gz’\n",
            "\n"
          ]
        },
        {
          "output_type": "stream",
          "name": "stderr",
          "text": [
            "Installing package into ‘/usr/local/lib/R/site-library’\n",
            "(as ‘lib’ is unspecified)\n",
            "\n",
            "This is cmdstanr version 0.8.1.9000\n",
            "\n",
            "- CmdStanR documentation and vignettes: mc-stan.org/cmdstanr\n",
            "\n",
            "- Use set_cmdstan_path() to set the path to CmdStan\n",
            "\n",
            "- Use install_cmdstan() to install CmdStan\n",
            "\n"
          ]
        },
        {
          "output_type": "error",
          "ename": "ERROR",
          "evalue": "Error: CmdStan path has not been set yet. See ?set_cmdstan_path.\n",
          "traceback": [
            "Error: CmdStan path has not been set yet. See ?set_cmdstan_path.\nTraceback:\n",
            "1. stop_no_path()",
            "2. stop(\"CmdStan path has not been set yet. See ?set_cmdstan_path.\", \n .     call. = FALSE)",
            "3. .handleSimpleError(function (cnd) \n . {\n .     watcher$capture_plot_and_output()\n .     cnd <- sanitize_call(cnd)\n .     watcher$push(cnd)\n .     switch(on_error, continue = invokeRestart(\"eval_continue\"), \n .         stop = invokeRestart(\"eval_stop\"), error = invokeRestart(\"eval_error\", \n .             cnd))\n . }, \"CmdStan path has not been set yet. See ?set_cmdstan_path.\", \n .     base::quote(NULL))"
          ]
        }
      ]
    },
    {
      "cell_type": "markdown",
      "source": [
        "IF YOU ENCOUNTER AN ERROR, JUST KEEP RUNNING CODE BELOW."
      ],
      "metadata": {
        "id": "5PjVh-uhxvy3"
      }
    },
    {
      "cell_type": "code",
      "source": [
        "# Install CmdStan using cmdstanr\n",
        "library(cmdstanr)\n",
        "cmdstanr::install_cmdstan()\n",
        "\n",
        "# After installation, set the CmdStan path\n",
        "cmdstan_path <- cmdstanr::cmdstan_path()\n",
        "cmdstanr::set_cmdstan_path(cmdstan_path)\n",
        "\n",
        "# Verify the installation\n",
        "cmdstanr::cmdstan_version()\n"
      ],
      "metadata": {
        "colab": {
          "base_uri": "https://localhost:8080/",
          "height": 1000
        },
        "id": "QWIdvClbVP9g",
        "outputId": "942f7867-e1d1-4445-fa3a-3e5b935ea902"
      },
      "execution_count": 3,
      "outputs": [
        {
          "output_type": "stream",
          "name": "stderr",
          "text": [
            "The C++ toolchain required for CmdStan is setup properly!\n",
            "\n",
            "* Latest CmdStan release is v2.35.0\n",
            "\n",
            "* Installing CmdStan v2.35.0 in /root/.cmdstan/cmdstan-2.35.0\n",
            "\n",
            "* Downloading cmdstan-2.35.0.tar.gz from GitHub...\n",
            "\n",
            "* Download complete\n",
            "\n",
            "* Unpacking archive...\n",
            "\n",
            "* Building CmdStan binaries...\n",
            "\n"
          ]
        },
        {
          "output_type": "stream",
          "name": "stdout",
          "text": [
            "cp bin/linux-stanc bin/stanc\n",
            "g++ -pipe   -pthread -D_REENTRANT  -O3 -I stan/lib/stan_math/lib/sundials_6.1.1/include -I stan/lib/stan_math/lib/sundials_6.1.1/src/sundials -DNO_FPRINTF_OUTPUT     -O3  -c -x c -include stan/lib/stan_math/lib/sundials_6.1.1/include/stan_sundials_printf_override.hpp stan/lib/stan_math/lib/sundials_6.1.1/src/nvector/serial/nvector_serial.c -o stan/lib/stan_math/lib/sundials_6.1.1/src/nvector/serial/nvector_serial.o\n",
            "chmod +x bin/stanc\n",
            "g++ -pipe   -pthread -D_REENTRANT  -O3 -I stan/lib/stan_math/lib/sundials_6.1.1/include -I stan/lib/stan_math/lib/sundials_6.1.1/src/sundials -DNO_FPRINTF_OUTPUT     -O3  -c -x c -include stan/lib/stan_math/lib/sundials_6.1.1/include/stan_sundials_printf_override.hpp stan/lib/stan_math/lib/sundials_6.1.1/src/sundials/sundials_math.c -o stan/lib/stan_math/lib/sundials_6.1.1/src/sundials/sundials_math.o\n",
            "g++ -pipe   -pthread -D_REENTRANT  -O3 -I stan/lib/stan_math/lib/sundials_6.1.1/include -I stan/lib/stan_math/lib/sundials_6.1.1/src/sundials -DNO_FPRINTF_OUTPUT     -O3  -c -x c -include stan/lib/stan_math/lib/sundials_6.1.1/include/stan_sundials_printf_override.hpp stan/lib/stan_math/lib/sundials_6.1.1/src/cvodes/cvodea.c -o stan/lib/stan_math/lib/sundials_6.1.1/src/cvodes/cvodea.o\n",
            "g++ -pipe   -pthread -D_REENTRANT  -O3 -I stan/lib/stan_math/lib/sundials_6.1.1/include -I stan/lib/stan_math/lib/sundials_6.1.1/src/sundials -DNO_FPRINTF_OUTPUT     -O3  -c -x c -include stan/lib/stan_math/lib/sundials_6.1.1/include/stan_sundials_printf_override.hpp stan/lib/stan_math/lib/sundials_6.1.1/src/cvodes/cvodea_io.c -o stan/lib/stan_math/lib/sundials_6.1.1/src/cvodes/cvodea_io.o\n",
            "g++ -pipe   -pthread -D_REENTRANT  -O3 -I stan/lib/stan_math/lib/sundials_6.1.1/include -I stan/lib/stan_math/lib/sundials_6.1.1/src/sundials -DNO_FPRINTF_OUTPUT     -O3  -c -x c -include stan/lib/stan_math/lib/sundials_6.1.1/include/stan_sundials_printf_override.hpp stan/lib/stan_math/lib/sundials_6.1.1/src/cvodes/cvodes_bandpre.c -o stan/lib/stan_math/lib/sundials_6.1.1/src/cvodes/cvodes_bandpre.o\n",
            "g++ -pipe   -pthread -D_REENTRANT  -O3 -I stan/lib/stan_math/lib/sundials_6.1.1/include -I stan/lib/stan_math/lib/sundials_6.1.1/src/sundials -DNO_FPRINTF_OUTPUT     -O3  -c -x c -include stan/lib/stan_math/lib/sundials_6.1.1/include/stan_sundials_printf_override.hpp stan/lib/stan_math/lib/sundials_6.1.1/src/cvodes/cvodes_bbdpre.c -o stan/lib/stan_math/lib/sundials_6.1.1/src/cvodes/cvodes_bbdpre.o\n",
            "g++ -pipe   -pthread -D_REENTRANT  -O3 -I stan/lib/stan_math/lib/sundials_6.1.1/include -I stan/lib/stan_math/lib/sundials_6.1.1/src/sundials -DNO_FPRINTF_OUTPUT     -O3  -c -x c -include stan/lib/stan_math/lib/sundials_6.1.1/include/stan_sundials_printf_override.hpp stan/lib/stan_math/lib/sundials_6.1.1/src/cvodes/cvodes.c -o stan/lib/stan_math/lib/sundials_6.1.1/src/cvodes/cvodes.o\n",
            "g++ -pipe   -pthread -D_REENTRANT  -O3 -I stan/lib/stan_math/lib/sundials_6.1.1/include -I stan/lib/stan_math/lib/sundials_6.1.1/src/sundials -DNO_FPRINTF_OUTPUT     -O3  -c -x c -include stan/lib/stan_math/lib/sundials_6.1.1/include/stan_sundials_printf_override.hpp stan/lib/stan_math/lib/sundials_6.1.1/src/cvodes/cvodes_diag.c -o stan/lib/stan_math/lib/sundials_6.1.1/src/cvodes/cvodes_diag.o\n",
            "g++ -pipe   -pthread -D_REENTRANT  -O3 -I stan/lib/stan_math/lib/sundials_6.1.1/include -I stan/lib/stan_math/lib/sundials_6.1.1/src/sundials -DNO_FPRINTF_OUTPUT     -O3  -c -x c -include stan/lib/stan_math/lib/sundials_6.1.1/include/stan_sundials_printf_override.hpp stan/lib/stan_math/lib/sundials_6.1.1/src/cvodes/cvodes_direct.c -o stan/lib/stan_math/lib/sundials_6.1.1/src/cvodes/cvodes_direct.o\n",
            "g++ -pipe   -pthread -D_REENTRANT  -O3 -I stan/lib/stan_math/lib/sundials_6.1.1/include -I stan/lib/stan_math/lib/sundials_6.1.1/src/sundials -DNO_FPRINTF_OUTPUT     -O3  -c -x c -include stan/lib/stan_math/lib/sundials_6.1.1/include/stan_sundials_printf_override.hpp stan/lib/stan_math/lib/sundials_6.1.1/src/cvodes/cvodes_io.c -o stan/lib/stan_math/lib/sundials_6.1.1/src/cvodes/cvodes_io.o\n",
            "g++ -pipe   -pthread -D_REENTRANT  -O3 -I stan/lib/stan_math/lib/sundials_6.1.1/include -I stan/lib/stan_math/lib/sundials_6.1.1/src/sundials -DNO_FPRINTF_OUTPUT     -O3  -c -x c -include stan/lib/stan_math/lib/sundials_6.1.1/include/stan_sundials_printf_override.hpp stan/lib/stan_math/lib/sundials_6.1.1/src/cvodes/cvodes_ls.c -o stan/lib/stan_math/lib/sundials_6.1.1/src/cvodes/cvodes_ls.o\n",
            "g++ -pipe   -pthread -D_REENTRANT  -O3 -I stan/lib/stan_math/lib/sundials_6.1.1/include -I stan/lib/stan_math/lib/sundials_6.1.1/src/sundials -DNO_FPRINTF_OUTPUT     -O3  -c -x c -include stan/lib/stan_math/lib/sundials_6.1.1/include/stan_sundials_printf_override.hpp stan/lib/stan_math/lib/sundials_6.1.1/src/cvodes/cvodes_nls.c -o stan/lib/stan_math/lib/sundials_6.1.1/src/cvodes/cvodes_nls.o\n",
            "g++ -pipe   -pthread -D_REENTRANT  -O3 -I stan/lib/stan_math/lib/sundials_6.1.1/include -I stan/lib/stan_math/lib/sundials_6.1.1/src/sundials -DNO_FPRINTF_OUTPUT     -O3  -c -x c -include stan/lib/stan_math/lib/sundials_6.1.1/include/stan_sundials_printf_override.hpp stan/lib/stan_math/lib/sundials_6.1.1/src/cvodes/cvodes_nls_sim.c -o stan/lib/stan_math/lib/sundials_6.1.1/src/cvodes/cvodes_nls_sim.o\n",
            "g++ -pipe   -pthread -D_REENTRANT  -O3 -I stan/lib/stan_math/lib/sundials_6.1.1/include -I stan/lib/stan_math/lib/sundials_6.1.1/src/sundials -DNO_FPRINTF_OUTPUT     -O3  -c -x c -include stan/lib/stan_math/lib/sundials_6.1.1/include/stan_sundials_printf_override.hpp stan/lib/stan_math/lib/sundials_6.1.1/src/cvodes/cvodes_nls_stg1.c -o stan/lib/stan_math/lib/sundials_6.1.1/src/cvodes/cvodes_nls_stg1.o\n",
            "g++ -pipe   -pthread -D_REENTRANT  -O3 -I stan/lib/stan_math/lib/sundials_6.1.1/include -I stan/lib/stan_math/lib/sundials_6.1.1/src/sundials -DNO_FPRINTF_OUTPUT     -O3  -c -x c -include stan/lib/stan_math/lib/sundials_6.1.1/include/stan_sundials_printf_override.hpp stan/lib/stan_math/lib/sundials_6.1.1/src/cvodes/cvodes_nls_stg.c -o stan/lib/stan_math/lib/sundials_6.1.1/src/cvodes/cvodes_nls_stg.o\n",
            "g++ -pipe   -pthread -D_REENTRANT  -O3 -I stan/lib/stan_math/lib/sundials_6.1.1/include -I stan/lib/stan_math/lib/sundials_6.1.1/src/sundials -DNO_FPRINTF_OUTPUT     -O3  -c -x c -include stan/lib/stan_math/lib/sundials_6.1.1/include/stan_sundials_printf_override.hpp stan/lib/stan_math/lib/sundials_6.1.1/src/cvodes/cvodes_spils.c -o stan/lib/stan_math/lib/sundials_6.1.1/src/cvodes/cvodes_spils.o\n",
            "g++ -pipe   -pthread -D_REENTRANT  -O3 -I stan/lib/stan_math/lib/sundials_6.1.1/include -I stan/lib/stan_math/lib/sundials_6.1.1/src/sundials -DNO_FPRINTF_OUTPUT     -O3  -c -x c -include stan/lib/stan_math/lib/sundials_6.1.1/include/stan_sundials_printf_override.hpp stan/lib/stan_math/lib/sundials_6.1.1/src/sundials/sundials_band.c -o stan/lib/stan_math/lib/sundials_6.1.1/src/sundials/sundials_band.o\n",
            "g++ -pipe   -pthread -D_REENTRANT  -O3 -I stan/lib/stan_math/lib/sundials_6.1.1/include -I stan/lib/stan_math/lib/sundials_6.1.1/src/sundials -DNO_FPRINTF_OUTPUT     -O3  -c -x c -include stan/lib/stan_math/lib/sundials_6.1.1/include/stan_sundials_printf_override.hpp stan/lib/stan_math/lib/sundials_6.1.1/src/sundials/sundials_context.c -o stan/lib/stan_math/lib/sundials_6.1.1/src/sundials/sundials_context.o\n",
            "g++ -pipe   -pthread -D_REENTRANT  -O3 -I stan/lib/stan_math/lib/sundials_6.1.1/include -I stan/lib/stan_math/lib/sundials_6.1.1/src/sundials -DNO_FPRINTF_OUTPUT     -O3  -c -x c -include stan/lib/stan_math/lib/sundials_6.1.1/include/stan_sundials_printf_override.hpp stan/lib/stan_math/lib/sundials_6.1.1/src/sundials/sundials_dense.c -o stan/lib/stan_math/lib/sundials_6.1.1/src/sundials/sundials_dense.o\n",
            "g++ -pipe   -pthread -D_REENTRANT  -O3 -I stan/lib/stan_math/lib/sundials_6.1.1/include -I stan/lib/stan_math/lib/sundials_6.1.1/src/sundials -DNO_FPRINTF_OUTPUT     -O3  -c -x c -include stan/lib/stan_math/lib/sundials_6.1.1/include/stan_sundials_printf_override.hpp stan/lib/stan_math/lib/sundials_6.1.1/src/sundials/sundials_direct.c -o stan/lib/stan_math/lib/sundials_6.1.1/src/sundials/sundials_direct.o\n",
            "g++ -pipe   -pthread -D_REENTRANT  -O3 -I stan/lib/stan_math/lib/sundials_6.1.1/include -I stan/lib/stan_math/lib/sundials_6.1.1/src/sundials -DNO_FPRINTF_OUTPUT     -O3  -c -x c -include stan/lib/stan_math/lib/sundials_6.1.1/include/stan_sundials_printf_override.hpp stan/lib/stan_math/lib/sundials_6.1.1/src/sundials/sundials_futils.c -o stan/lib/stan_math/lib/sundials_6.1.1/src/sundials/sundials_futils.o\n",
            "g++ -pipe   -pthread -D_REENTRANT  -O3 -I stan/lib/stan_math/lib/sundials_6.1.1/include -I stan/lib/stan_math/lib/sundials_6.1.1/src/sundials -DNO_FPRINTF_OUTPUT     -O3  -c -x c -include stan/lib/stan_math/lib/sundials_6.1.1/include/stan_sundials_printf_override.hpp stan/lib/stan_math/lib/sundials_6.1.1/src/sundials/sundials_iterative.c -o stan/lib/stan_math/lib/sundials_6.1.1/src/sundials/sundials_iterative.o\n",
            "g++ -pipe   -pthread -D_REENTRANT  -O3 -I stan/lib/stan_math/lib/sundials_6.1.1/include -I stan/lib/stan_math/lib/sundials_6.1.1/src/sundials -DNO_FPRINTF_OUTPUT     -O3  -c -x c -include stan/lib/stan_math/lib/sundials_6.1.1/include/stan_sundials_printf_override.hpp stan/lib/stan_math/lib/sundials_6.1.1/src/sundials/sundials_linearsolver.c -o stan/lib/stan_math/lib/sundials_6.1.1/src/sundials/sundials_linearsolver.o\n",
            "g++ -pipe   -pthread -D_REENTRANT  -O3 -I stan/lib/stan_math/lib/sundials_6.1.1/include -I stan/lib/stan_math/lib/sundials_6.1.1/src/sundials -DNO_FPRINTF_OUTPUT     -O3  -c -x c -include stan/lib/stan_math/lib/sundials_6.1.1/include/stan_sundials_printf_override.hpp stan/lib/stan_math/lib/sundials_6.1.1/src/sundials/sundials_matrix.c -o stan/lib/stan_math/lib/sundials_6.1.1/src/sundials/sundials_matrix.o\n",
            "g++ -pipe   -pthread -D_REENTRANT  -O3 -I stan/lib/stan_math/lib/sundials_6.1.1/include -I stan/lib/stan_math/lib/sundials_6.1.1/src/sundials -DNO_FPRINTF_OUTPUT     -O3  -c -x c -include stan/lib/stan_math/lib/sundials_6.1.1/include/stan_sundials_printf_override.hpp stan/lib/stan_math/lib/sundials_6.1.1/src/sundials/sundials_memory.c -o stan/lib/stan_math/lib/sundials_6.1.1/src/sundials/sundials_memory.o\n",
            "g++ -pipe   -pthread -D_REENTRANT  -O3 -I stan/lib/stan_math/lib/sundials_6.1.1/include -I stan/lib/stan_math/lib/sundials_6.1.1/src/sundials -DNO_FPRINTF_OUTPUT     -O3  -c -x c -include stan/lib/stan_math/lib/sundials_6.1.1/include/stan_sundials_printf_override.hpp stan/lib/stan_math/lib/sundials_6.1.1/src/sundials/sundials_nonlinearsolver.c -o stan/lib/stan_math/lib/sundials_6.1.1/src/sundials/sundials_nonlinearsolver.o\n",
            "g++ -pipe   -pthread -D_REENTRANT  -O3 -I stan/lib/stan_math/lib/sundials_6.1.1/include -I stan/lib/stan_math/lib/sundials_6.1.1/src/sundials -DNO_FPRINTF_OUTPUT     -O3  -c -x c -include stan/lib/stan_math/lib/sundials_6.1.1/include/stan_sundials_printf_override.hpp stan/lib/stan_math/lib/sundials_6.1.1/src/sundials/sundials_nvector.c -o stan/lib/stan_math/lib/sundials_6.1.1/src/sundials/sundials_nvector.o\n",
            "g++ -pipe   -pthread -D_REENTRANT  -O3 -I stan/lib/stan_math/lib/sundials_6.1.1/include -I stan/lib/stan_math/lib/sundials_6.1.1/src/sundials -DNO_FPRINTF_OUTPUT     -O3  -c -x c -include stan/lib/stan_math/lib/sundials_6.1.1/include/stan_sundials_printf_override.hpp stan/lib/stan_math/lib/sundials_6.1.1/src/sundials/sundials_nvector_senswrapper.c -o stan/lib/stan_math/lib/sundials_6.1.1/src/sundials/sundials_nvector_senswrapper.o\n",
            "g++ -pipe   -pthread -D_REENTRANT  -O3 -I stan/lib/stan_math/lib/sundials_6.1.1/include -I stan/lib/stan_math/lib/sundials_6.1.1/src/sundials -DNO_FPRINTF_OUTPUT     -O3  -c -x c -include stan/lib/stan_math/lib/sundials_6.1.1/include/stan_sundials_printf_override.hpp stan/lib/stan_math/lib/sundials_6.1.1/src/sundials/sundials_version.c -o stan/lib/stan_math/lib/sundials_6.1.1/src/sundials/sundials_version.o\n",
            "g++ -pipe   -pthread -D_REENTRANT  -O3 -I stan/lib/stan_math/lib/sundials_6.1.1/include -I stan/lib/stan_math/lib/sundials_6.1.1/src/sundials -DNO_FPRINTF_OUTPUT     -O3  -c -x c -include stan/lib/stan_math/lib/sundials_6.1.1/include/stan_sundials_printf_override.hpp stan/lib/stan_math/lib/sundials_6.1.1/src/sunmatrix/band/sunmatrix_band.c -o stan/lib/stan_math/lib/sundials_6.1.1/src/sunmatrix/band/sunmatrix_band.o\n",
            "g++ -pipe   -pthread -D_REENTRANT  -O3 -I stan/lib/stan_math/lib/sundials_6.1.1/include -I stan/lib/stan_math/lib/sundials_6.1.1/src/sundials -DNO_FPRINTF_OUTPUT     -O3  -c -x c -include stan/lib/stan_math/lib/sundials_6.1.1/include/stan_sundials_printf_override.hpp stan/lib/stan_math/lib/sundials_6.1.1/src/sunmatrix/dense/sunmatrix_dense.c -o stan/lib/stan_math/lib/sundials_6.1.1/src/sunmatrix/dense/sunmatrix_dense.o\n",
            "g++ -pipe   -pthread -D_REENTRANT  -O3 -I stan/lib/stan_math/lib/sundials_6.1.1/include -I stan/lib/stan_math/lib/sundials_6.1.1/src/sundials -DNO_FPRINTF_OUTPUT     -O3  -c -x c -include stan/lib/stan_math/lib/sundials_6.1.1/include/stan_sundials_printf_override.hpp stan/lib/stan_math/lib/sundials_6.1.1/src/sunlinsol/band/sunlinsol_band.c -o stan/lib/stan_math/lib/sundials_6.1.1/src/sunlinsol/band/sunlinsol_band.o\n",
            "g++ -pipe   -pthread -D_REENTRANT  -O3 -I stan/lib/stan_math/lib/sundials_6.1.1/include -I stan/lib/stan_math/lib/sundials_6.1.1/src/sundials -DNO_FPRINTF_OUTPUT     -O3  -c -x c -include stan/lib/stan_math/lib/sundials_6.1.1/include/stan_sundials_printf_override.hpp stan/lib/stan_math/lib/sundials_6.1.1/src/sunlinsol/dense/sunlinsol_dense.c -o stan/lib/stan_math/lib/sundials_6.1.1/src/sunlinsol/dense/sunlinsol_dense.o\n",
            "g++ -pipe   -pthread -D_REENTRANT  -O3 -I stan/lib/stan_math/lib/sundials_6.1.1/include -I stan/lib/stan_math/lib/sundials_6.1.1/src/sundials -DNO_FPRINTF_OUTPUT     -O3  -c -x c -include stan/lib/stan_math/lib/sundials_6.1.1/include/stan_sundials_printf_override.hpp stan/lib/stan_math/lib/sundials_6.1.1/src/sunnonlinsol/newton/sunnonlinsol_newton.c -o stan/lib/stan_math/lib/sundials_6.1.1/src/sunnonlinsol/newton/sunnonlinsol_newton.o\n",
            "g++ -pipe   -pthread -D_REENTRANT  -O3 -I stan/lib/stan_math/lib/sundials_6.1.1/include -I stan/lib/stan_math/lib/sundials_6.1.1/src/sundials -DNO_FPRINTF_OUTPUT     -O3  -c -x c -include stan/lib/stan_math/lib/sundials_6.1.1/include/stan_sundials_printf_override.hpp stan/lib/stan_math/lib/sundials_6.1.1/src/sunnonlinsol/fixedpoint/sunnonlinsol_fixedpoint.c -o stan/lib/stan_math/lib/sundials_6.1.1/src/sunnonlinsol/fixedpoint/sunnonlinsol_fixedpoint.o\n",
            "g++ -pipe   -pthread -D_REENTRANT  -O3 -I stan/lib/stan_math/lib/sundials_6.1.1/include -I stan/lib/stan_math/lib/sundials_6.1.1/src/sundials -DNO_FPRINTF_OUTPUT     -O3  -c -x c -include stan/lib/stan_math/lib/sundials_6.1.1/include/stan_sundials_printf_override.hpp stan/lib/stan_math/lib/sundials_6.1.1/src/idas/idaa.c -o stan/lib/stan_math/lib/sundials_6.1.1/src/idas/idaa.o\n",
            "g++ -pipe   -pthread -D_REENTRANT  -O3 -I stan/lib/stan_math/lib/sundials_6.1.1/include -I stan/lib/stan_math/lib/sundials_6.1.1/src/sundials -DNO_FPRINTF_OUTPUT     -O3  -c -x c -include stan/lib/stan_math/lib/sundials_6.1.1/include/stan_sundials_printf_override.hpp stan/lib/stan_math/lib/sundials_6.1.1/src/idas/idaa_io.c -o stan/lib/stan_math/lib/sundials_6.1.1/src/idas/idaa_io.o\n",
            "g++ -pipe   -pthread -D_REENTRANT  -O3 -I stan/lib/stan_math/lib/sundials_6.1.1/include -I stan/lib/stan_math/lib/sundials_6.1.1/src/sundials -DNO_FPRINTF_OUTPUT     -O3  -c -x c -include stan/lib/stan_math/lib/sundials_6.1.1/include/stan_sundials_printf_override.hpp stan/lib/stan_math/lib/sundials_6.1.1/src/idas/idas_bbdpre.c -o stan/lib/stan_math/lib/sundials_6.1.1/src/idas/idas_bbdpre.o\n",
            "g++ -pipe   -pthread -D_REENTRANT  -O3 -I stan/lib/stan_math/lib/sundials_6.1.1/include -I stan/lib/stan_math/lib/sundials_6.1.1/src/sundials -DNO_FPRINTF_OUTPUT     -O3  -c -x c -include stan/lib/stan_math/lib/sundials_6.1.1/include/stan_sundials_printf_override.hpp stan/lib/stan_math/lib/sundials_6.1.1/src/idas/idas.c -o stan/lib/stan_math/lib/sundials_6.1.1/src/idas/idas.o\n",
            "g++ -pipe   -pthread -D_REENTRANT  -O3 -I stan/lib/stan_math/lib/sundials_6.1.1/include -I stan/lib/stan_math/lib/sundials_6.1.1/src/sundials -DNO_FPRINTF_OUTPUT     -O3  -c -x c -include stan/lib/stan_math/lib/sundials_6.1.1/include/stan_sundials_printf_override.hpp stan/lib/stan_math/lib/sundials_6.1.1/src/idas/idas_direct.c -o stan/lib/stan_math/lib/sundials_6.1.1/src/idas/idas_direct.o\n",
            "g++ -pipe   -pthread -D_REENTRANT  -O3 -I stan/lib/stan_math/lib/sundials_6.1.1/include -I stan/lib/stan_math/lib/sundials_6.1.1/src/sundials -DNO_FPRINTF_OUTPUT     -O3  -c -x c -include stan/lib/stan_math/lib/sundials_6.1.1/include/stan_sundials_printf_override.hpp stan/lib/stan_math/lib/sundials_6.1.1/src/idas/idas_ic.c -o stan/lib/stan_math/lib/sundials_6.1.1/src/idas/idas_ic.o\n",
            "g++ -pipe   -pthread -D_REENTRANT  -O3 -I stan/lib/stan_math/lib/sundials_6.1.1/include -I stan/lib/stan_math/lib/sundials_6.1.1/src/sundials -DNO_FPRINTF_OUTPUT     -O3  -c -x c -include stan/lib/stan_math/lib/sundials_6.1.1/include/stan_sundials_printf_override.hpp stan/lib/stan_math/lib/sundials_6.1.1/src/idas/idas_io.c -o stan/lib/stan_math/lib/sundials_6.1.1/src/idas/idas_io.o\n",
            "g++ -pipe   -pthread -D_REENTRANT  -O3 -I stan/lib/stan_math/lib/sundials_6.1.1/include -I stan/lib/stan_math/lib/sundials_6.1.1/src/sundials -DNO_FPRINTF_OUTPUT     -O3  -c -x c -include stan/lib/stan_math/lib/sundials_6.1.1/include/stan_sundials_printf_override.hpp stan/lib/stan_math/lib/sundials_6.1.1/src/idas/idas_ls.c -o stan/lib/stan_math/lib/sundials_6.1.1/src/idas/idas_ls.o\n",
            "g++ -pipe   -pthread -D_REENTRANT  -O3 -I stan/lib/stan_math/lib/sundials_6.1.1/include -I stan/lib/stan_math/lib/sundials_6.1.1/src/sundials -DNO_FPRINTF_OUTPUT     -O3  -c -x c -include stan/lib/stan_math/lib/sundials_6.1.1/include/stan_sundials_printf_override.hpp stan/lib/stan_math/lib/sundials_6.1.1/src/idas/idas_nls.c -o stan/lib/stan_math/lib/sundials_6.1.1/src/idas/idas_nls.o\n",
            "g++ -pipe   -pthread -D_REENTRANT  -O3 -I stan/lib/stan_math/lib/sundials_6.1.1/include -I stan/lib/stan_math/lib/sundials_6.1.1/src/sundials -DNO_FPRINTF_OUTPUT     -O3  -c -x c -include stan/lib/stan_math/lib/sundials_6.1.1/include/stan_sundials_printf_override.hpp stan/lib/stan_math/lib/sundials_6.1.1/src/idas/idas_nls_sim.c -o stan/lib/stan_math/lib/sundials_6.1.1/src/idas/idas_nls_sim.o\n",
            "g++ -pipe   -pthread -D_REENTRANT  -O3 -I stan/lib/stan_math/lib/sundials_6.1.1/include -I stan/lib/stan_math/lib/sundials_6.1.1/src/sundials -DNO_FPRINTF_OUTPUT     -O3  -c -x c -include stan/lib/stan_math/lib/sundials_6.1.1/include/stan_sundials_printf_override.hpp stan/lib/stan_math/lib/sundials_6.1.1/src/idas/idas_nls_stg.c -o stan/lib/stan_math/lib/sundials_6.1.1/src/idas/idas_nls_stg.o\n",
            "g++ -pipe   -pthread -D_REENTRANT  -O3 -I stan/lib/stan_math/lib/sundials_6.1.1/include -I stan/lib/stan_math/lib/sundials_6.1.1/src/sundials -DNO_FPRINTF_OUTPUT     -O3  -c -x c -include stan/lib/stan_math/lib/sundials_6.1.1/include/stan_sundials_printf_override.hpp stan/lib/stan_math/lib/sundials_6.1.1/src/idas/idas_spils.c -o stan/lib/stan_math/lib/sundials_6.1.1/src/idas/idas_spils.o\n",
            "g++ -pipe   -pthread -D_REENTRANT  -O3 -I stan/lib/stan_math/lib/sundials_6.1.1/include -I stan/lib/stan_math/lib/sundials_6.1.1/src/sundials -DNO_FPRINTF_OUTPUT     -O3  -c -x c -include stan/lib/stan_math/lib/sundials_6.1.1/include/stan_sundials_printf_override.hpp stan/lib/stan_math/lib/sundials_6.1.1/src/kinsol/kinsol_bbdpre.c -o stan/lib/stan_math/lib/sundials_6.1.1/src/kinsol/kinsol_bbdpre.o\n",
            "g++ -pipe   -pthread -D_REENTRANT  -O3 -I stan/lib/stan_math/lib/sundials_6.1.1/include -I stan/lib/stan_math/lib/sundials_6.1.1/src/sundials -DNO_FPRINTF_OUTPUT     -O3  -c -x c -include stan/lib/stan_math/lib/sundials_6.1.1/include/stan_sundials_printf_override.hpp stan/lib/stan_math/lib/sundials_6.1.1/src/kinsol/kinsol.c -o stan/lib/stan_math/lib/sundials_6.1.1/src/kinsol/kinsol.o\n",
            "g++ -pipe   -pthread -D_REENTRANT  -O3 -I stan/lib/stan_math/lib/sundials_6.1.1/include -I stan/lib/stan_math/lib/sundials_6.1.1/src/sundials -DNO_FPRINTF_OUTPUT     -O3  -c -x c -include stan/lib/stan_math/lib/sundials_6.1.1/include/stan_sundials_printf_override.hpp stan/lib/stan_math/lib/sundials_6.1.1/src/kinsol/kinsol_direct.c -o stan/lib/stan_math/lib/sundials_6.1.1/src/kinsol/kinsol_direct.o\n",
            "g++ -pipe   -pthread -D_REENTRANT  -O3 -I stan/lib/stan_math/lib/sundials_6.1.1/include -I stan/lib/stan_math/lib/sundials_6.1.1/src/sundials -DNO_FPRINTF_OUTPUT     -O3  -c -x c -include stan/lib/stan_math/lib/sundials_6.1.1/include/stan_sundials_printf_override.hpp stan/lib/stan_math/lib/sundials_6.1.1/src/kinsol/kinsol_io.c -o stan/lib/stan_math/lib/sundials_6.1.1/src/kinsol/kinsol_io.o\n",
            "g++ -pipe   -pthread -D_REENTRANT  -O3 -I stan/lib/stan_math/lib/sundials_6.1.1/include -I stan/lib/stan_math/lib/sundials_6.1.1/src/sundials -DNO_FPRINTF_OUTPUT     -O3  -c -x c -include stan/lib/stan_math/lib/sundials_6.1.1/include/stan_sundials_printf_override.hpp stan/lib/stan_math/lib/sundials_6.1.1/src/kinsol/kinsol_ls.c -o stan/lib/stan_math/lib/sundials_6.1.1/src/kinsol/kinsol_ls.o\n",
            "g++ -pipe   -pthread -D_REENTRANT  -O3 -I stan/lib/stan_math/lib/sundials_6.1.1/include -I stan/lib/stan_math/lib/sundials_6.1.1/src/sundials -DNO_FPRINTF_OUTPUT     -O3  -c -x c -include stan/lib/stan_math/lib/sundials_6.1.1/include/stan_sundials_printf_override.hpp stan/lib/stan_math/lib/sundials_6.1.1/src/kinsol/kinsol_spils.c -o stan/lib/stan_math/lib/sundials_6.1.1/src/kinsol/kinsol_spils.o\n",
            "touch stan/lib/stan_math/lib/tbb/tbb-make-check\n",
            "\n",
            "--- Compiling the main object file. This might take up to a minute. ---\n",
            "g++ -Wno-deprecated-declarations -std=c++17 -pthread -D_REENTRANT -Wno-sign-compare -Wno-ignored-attributes -Wno-class-memaccess      -I stan/lib/stan_math/lib/tbb_2020.3/include    -O3 -I src -I stan/src -I stan/lib/rapidjson_1.1.0/ -I lib/CLI11-1.9.1/ -I stan/lib/stan_math/ -I stan/lib/stan_math/lib/eigen_3.4.0 -I stan/lib/stan_math/lib/boost_1.84.0 -I stan/lib/stan_math/lib/sundials_6.1.1/include -I stan/lib/stan_math/lib/sundials_6.1.1/src/sundials    -DBOOST_DISABLE_ASSERTS          -c -o src/cmdstan/main.o src/cmdstan/main.cpp\n",
            "\n",
            "--- Compiling pre-compiled header. This might take a few seconds. ---\n",
            "g++ -Wno-deprecated-declarations -std=c++17 -pthread -D_REENTRANT -Wno-sign-compare -Wno-ignored-attributes -Wno-class-memaccess      -I stan/lib/stan_math/lib/tbb_2020.3/include    -O3 -I src -I stan/src -I stan/lib/rapidjson_1.1.0/ -I lib/CLI11-1.9.1/ -I stan/lib/stan_math/ -I stan/lib/stan_math/lib/eigen_3.4.0 -I stan/lib/stan_math/lib/boost_1.84.0 -I stan/lib/stan_math/lib/sundials_6.1.1/include -I stan/lib/stan_math/lib/sundials_6.1.1/src/sundials    -DBOOST_DISABLE_ASSERTS          -c stan/src/stan/model/model_header.hpp -o stan/src/stan/model/model_header.hpp.gch/model_header_11_4.hpp.gch\n",
            "g++ -Wno-deprecated-declarations -std=c++17 -pthread -D_REENTRANT -Wno-sign-compare -Wno-ignored-attributes -Wno-class-memaccess      -I stan/lib/stan_math/lib/tbb_2020.3/include    -O3 -I src -I stan/src -I stan/lib/rapidjson_1.1.0/ -I lib/CLI11-1.9.1/ -I stan/lib/stan_math/ -I stan/lib/stan_math/lib/eigen_3.4.0 -I stan/lib/stan_math/lib/boost_1.84.0 -I stan/lib/stan_math/lib/sundials_6.1.1/include -I stan/lib/stan_math/lib/sundials_6.1.1/src/sundials    -DBOOST_DISABLE_ASSERTS          -c -fvisibility=hidden src/cmdstan/stansummary.cpp -o bin/cmdstan/stansummary.o\n",
            "g++ -Wno-deprecated-declarations -std=c++17 -pthread -D_REENTRANT -Wno-sign-compare -Wno-ignored-attributes -Wno-class-memaccess      -I stan/lib/stan_math/lib/tbb_2020.3/include    -O3 -I src -I stan/src -I stan/lib/rapidjson_1.1.0/ -I lib/CLI11-1.9.1/ -I stan/lib/stan_math/ -I stan/lib/stan_math/lib/eigen_3.4.0 -I stan/lib/stan_math/lib/boost_1.84.0 -I stan/lib/stan_math/lib/sundials_6.1.1/include -I stan/lib/stan_math/lib/sundials_6.1.1/src/sundials    -DBOOST_DISABLE_ASSERTS          -c -fvisibility=hidden src/cmdstan/print.cpp -o bin/cmdstan/print.o\n",
            "g++ -Wno-deprecated-declarations -std=c++17 -pthread -D_REENTRANT -Wno-sign-compare -Wno-ignored-attributes -Wno-class-memaccess      -I stan/lib/stan_math/lib/tbb_2020.3/include    -O3 -I src -I stan/src -I stan/lib/rapidjson_1.1.0/ -I lib/CLI11-1.9.1/ -I stan/lib/stan_math/ -I stan/lib/stan_math/lib/eigen_3.4.0 -I stan/lib/stan_math/lib/boost_1.84.0 -I stan/lib/stan_math/lib/sundials_6.1.1/include -I stan/lib/stan_math/lib/sundials_6.1.1/src/sundials    -DBOOST_DISABLE_ASSERTS          -c -fvisibility=hidden src/cmdstan/diagnose.cpp -o bin/cmdstan/diagnose.o\n",
            "ar -rs stan/lib/stan_math/lib/sundials_6.1.1/lib/libsundials_nvecserial.a stan/lib/stan_math/lib/sundials_6.1.1/src/nvector/serial/nvector_serial.o stan/lib/stan_math/lib/sundials_6.1.1/src/sundials/sundials_math.o\n",
            "\u001b[31mar: \u001b[39m\u001b[31mcreating stan/lib/stan_math/lib/sundials_6.1.1/lib/libsundials_nvecserial.a\u001b[39m\u001b[31m\n",
            "\u001b[39mar -rs stan/lib/stan_math/lib/sundials_6.1.1/lib/libsundials_cvodes.a stan/lib/stan_math/lib/sundials_6.1.1/src/cvodes/cvodea.o stan/lib/stan_math/lib/sundials_6.1.1/src/cvodes/cvodea_io.o stan/lib/stan_math/lib/sundials_6.1.1/src/cvodes/cvodes_bandpre.o stan/lib/stan_math/lib/sundials_6.1.1/src/cvodes/cvodes_bbdpre.o stan/lib/stan_math/lib/sundials_6.1.1/src/cvodes/cvodes.o stan/lib/stan_math/lib/sundials_6.1.1/src/cvodes/cvodes_diag.o stan/lib/stan_math/lib/sundials_6.1.1/src/cvodes/cvodes_direct.o stan/lib/stan_math/lib/sundials_6.1.1/src/cvodes/cvodes_io.o stan/lib/stan_math/lib/sundials_6.1.1/src/cvodes/cvodes_ls.o stan/lib/stan_math/lib/sundials_6.1.1/src/cvodes/cvodes_nls.o stan/lib/stan_math/lib/sundials_6.1.1/src/cvodes/cvodes_nls_sim.o stan/lib/stan_math/lib/sundials_6.1.1/src/cvodes/cvodes_nls_stg1.o stan/lib/stan_math/lib/sundials_6.1.1/src/cvodes/cvodes_nls_stg.o stan/lib/stan_math/lib/sundials_6.1.1/src/cvodes/cvodes_spils.o stan/lib/stan_math/lib/sundials_6.1.1/src/sundials/sundials_band.o stan/lib/stan_math/lib/sundials_6.1.1/src/sundials/sundials_context.o stan/lib/stan_math/lib/sundials_6.1.1/src/sundials/sundials_dense.o stan/lib/stan_math/lib/sundials_6.1.1/src/sundials/sundials_direct.o stan/lib/stan_math/lib/sundials_6.1.1/src/sundials/sundials_futils.o stan/lib/stan_math/lib/sundials_6.1.1/src/sundials/sundials_iterative.o stan/lib/stan_math/lib/sundials_6.1.1/src/sundials/sundials_linearsolver.o stan/lib/stan_math/lib/sundials_6.1.1/src/sundials/sundials_math.o stan/lib/stan_math/lib/sundials_6.1.1/src/sundials/sundials_matrix.o stan/lib/stan_math/lib/sundials_6.1.1/src/sundials/sundials_memory.o stan/lib/stan_math/lib/sundials_6.1.1/src/sundials/sundials_nonlinearsolver.o stan/lib/stan_math/lib/sundials_6.1.1/src/sundials/sundials_nvector.o stan/lib/stan_math/lib/sundials_6.1.1/src/sundials/sundials_nvector_senswrapper.o stan/lib/stan_math/lib/sundials_6.1.1/src/sundials/sundials_version.o stan/lib/stan_math/lib/sundials_6.1.1/src/sunmatrix/band/sunmatrix_band.o stan/lib/stan_math/lib/sundials_6.1.1/src/sunmatrix/dense/sunmatrix_dense.o stan/lib/stan_math/lib/sundials_6.1.1/src/sunlinsol/band/sunlinsol_band.o stan/lib/stan_math/lib/sundials_6.1.1/src/sunlinsol/dense/sunlinsol_dense.o stan/lib/stan_math/lib/sundials_6.1.1/src/sunnonlinsol/newton/sunnonlinsol_newton.o stan/lib/stan_math/lib/sundials_6.1.1/src/sunnonlinsol/fixedpoint/sunnonlinsol_fixedpoint.o\n",
            "\u001b[31mar: \u001b[39m\u001b[31mcreating stan/lib/stan_math/lib/sundials_6.1.1/lib/libsundials_cvodes.a\u001b[39m\u001b[31m\n",
            "\u001b[39mar -rs stan/lib/stan_math/lib/sundials_6.1.1/lib/libsundials_idas.a stan/lib/stan_math/lib/sundials_6.1.1/src/idas/idaa.o stan/lib/stan_math/lib/sundials_6.1.1/src/idas/idaa_io.o stan/lib/stan_math/lib/sundials_6.1.1/src/idas/idas_bbdpre.o stan/lib/stan_math/lib/sundials_6.1.1/src/idas/idas.o stan/lib/stan_math/lib/sundials_6.1.1/src/idas/idas_direct.o stan/lib/stan_math/lib/sundials_6.1.1/src/idas/idas_ic.o stan/lib/stan_math/lib/sundials_6.1.1/src/idas/idas_io.o stan/lib/stan_math/lib/sundials_6.1.1/src/idas/idas_ls.o stan/lib/stan_math/lib/sundials_6.1.1/src/idas/idas_nls.o stan/lib/stan_math/lib/sundials_6.1.1/src/idas/idas_nls_sim.o stan/lib/stan_math/lib/sundials_6.1.1/src/idas/idas_nls_stg.o stan/lib/stan_math/lib/sundials_6.1.1/src/idas/idas_spils.o stan/lib/stan_math/lib/sundials_6.1.1/src/sundials/sundials_band.o stan/lib/stan_math/lib/sundials_6.1.1/src/sundials/sundials_context.o stan/lib/stan_math/lib/sundials_6.1.1/src/sundials/sundials_dense.o stan/lib/stan_math/lib/sundials_6.1.1/src/sundials/sundials_direct.o stan/lib/stan_math/lib/sundials_6.1.1/src/sundials/sundials_futils.o stan/lib/stan_math/lib/sundials_6.1.1/src/sundials/sundials_iterative.o stan/lib/stan_math/lib/sundials_6.1.1/src/sundials/sundials_linearsolver.o stan/lib/stan_math/lib/sundials_6.1.1/src/sundials/sundials_math.o stan/lib/stan_math/lib/sundials_6.1.1/src/sundials/sundials_matrix.o stan/lib/stan_math/lib/sundials_6.1.1/src/sundials/sundials_memory.o stan/lib/stan_math/lib/sundials_6.1.1/src/sundials/sundials_nonlinearsolver.o stan/lib/stan_math/lib/sundials_6.1.1/src/sundials/sundials_nvector.o stan/lib/stan_math/lib/sundials_6.1.1/src/sundials/sundials_nvector_senswrapper.o stan/lib/stan_math/lib/sundials_6.1.1/src/sundials/sundials_version.o stan/lib/stan_math/lib/sundials_6.1.1/src/sunmatrix/band/sunmatrix_band.o stan/lib/stan_math/lib/sundials_6.1.1/src/sunmatrix/dense/sunmatrix_dense.o stan/lib/stan_math/lib/sundials_6.1.1/src/sunlinsol/band/sunlinsol_band.o stan/lib/stan_math/lib/sundials_6.1.1/src/sunlinsol/dense/sunlinsol_dense.o stan/lib/stan_math/lib/sundials_6.1.1/src/sunnonlinsol/newton/sunnonlinsol_newton.o stan/lib/stan_math/lib/sundials_6.1.1/src/sunnonlinsol/fixedpoint/sunnonlinsol_fixedpoint.o\n",
            "\u001b[31mar: \u001b[39m\u001b[31mcreating stan/lib/stan_math/lib/sundials_6.1.1/lib/libsundials_idas.a\u001b[39m\u001b[31m\n",
            "\u001b[39mar -rs stan/lib/stan_math/lib/sundials_6.1.1/lib/libsundials_kinsol.a stan/lib/stan_math/lib/sundials_6.1.1/src/kinsol/kinsol_bbdpre.o stan/lib/stan_math/lib/sundials_6.1.1/src/kinsol/kinsol.o stan/lib/stan_math/lib/sundials_6.1.1/src/kinsol/kinsol_direct.o stan/lib/stan_math/lib/sundials_6.1.1/src/kinsol/kinsol_io.o stan/lib/stan_math/lib/sundials_6.1.1/src/kinsol/kinsol_ls.o stan/lib/stan_math/lib/sundials_6.1.1/src/kinsol/kinsol_spils.o stan/lib/stan_math/lib/sundials_6.1.1/src/sundials/sundials_band.o stan/lib/stan_math/lib/sundials_6.1.1/src/sundials/sundials_context.o stan/lib/stan_math/lib/sundials_6.1.1/src/sundials/sundials_dense.o stan/lib/stan_math/lib/sundials_6.1.1/src/sundials/sundials_direct.o stan/lib/stan_math/lib/sundials_6.1.1/src/sundials/sundials_futils.o stan/lib/stan_math/lib/sundials_6.1.1/src/sundials/sundials_iterative.o stan/lib/stan_math/lib/sundials_6.1.1/src/sundials/sundials_linearsolver.o stan/lib/stan_math/lib/sundials_6.1.1/src/sundials/sundials_math.o stan/lib/stan_math/lib/sundials_6.1.1/src/sundials/sundials_matrix.o stan/lib/stan_math/lib/sundials_6.1.1/src/sundials/sundials_memory.o stan/lib/stan_math/lib/sundials_6.1.1/src/sundials/sundials_nonlinearsolver.o stan/lib/stan_math/lib/sundials_6.1.1/src/sundials/sundials_nvector.o stan/lib/stan_math/lib/sundials_6.1.1/src/sundials/sundials_nvector_senswrapper.o stan/lib/stan_math/lib/sundials_6.1.1/src/sundials/sundials_version.o stan/lib/stan_math/lib/sundials_6.1.1/src/sunmatrix/band/sunmatrix_band.o stan/lib/stan_math/lib/sundials_6.1.1/src/sunmatrix/dense/sunmatrix_dense.o stan/lib/stan_math/lib/sundials_6.1.1/src/sunlinsol/band/sunlinsol_band.o stan/lib/stan_math/lib/sundials_6.1.1/src/sunlinsol/dense/sunlinsol_dense.o stan/lib/stan_math/lib/sundials_6.1.1/src/sunnonlinsol/newton/sunnonlinsol_newton.o stan/lib/stan_math/lib/sundials_6.1.1/src/sunnonlinsol/fixedpoint/sunnonlinsol_fixedpoint.o\n",
            "\u001b[31mar: \u001b[39m\u001b[31mcreating stan/lib/stan_math/lib/sundials_6.1.1/lib/libsundials_kinsol.a\u001b[39m\u001b[31m\n",
            "\u001b[39mtouch stan/lib/stan_math/lib/tbb/version_tbb_2020.3\n",
            "tbb_root=\"../tbb_2020.3\" WINARM64=\"\" CXX=\"g++\" CC=\"gcc\" LDFLAGS='-Wl,-L,\"/root/.cmdstan/cmdstan-2.35.0/stan/lib/stan_math/lib/tbb\"   -Wl,-rpath,\"/root/.cmdstan/cmdstan-2.35.0/stan/lib/stan_math/lib/tbb\"' 'make' -C \"stan/lib/stan_math/lib/tbb\" -r -f \"/root/.cmdstan/cmdstan-2.35.0/stan/lib/stan_math/lib/tbb_2020.3/build/Makefile.tbb\" compiler=gcc cfg=release stdver=c++17  CXXFLAGS=\"-Wno-unknown-warning-option -Wno-deprecated-copy -Wno-missing-attributes -Wno-class-memaccess -Wno-sized-deallocation  \"\n",
            "make[1]: Entering directory '/root/.cmdstan/cmdstan-2.35.0/stan/lib/stan_math/lib/tbb'\n",
            "\u001b[31m/root/.cmdstan/cmdstan-2.35.0/stan/lib/stan_math/lib/tbb_2020.3/build/Makefile.tbb:28: CONFIG: cfg=release arch=intel64 compiler=gcc target=linux runtime=cc11.4.0_libc2.35_kernel6.1.85+\n",
            "\u001b[39mg++ -o concurrent_hash_map.o -c -MMD -O2 -g -DDO_ITT_NOTIFY -DUSE_PTHREAD -pthread -m64 -mrtm  -fPIC -flifetime-dse=1 -D__TBB_BUILD=1 -Wall -Wextra -Wno-parentheses -Wno-sized-deallocation -Wno-unknown-warning-option -Wno-deprecated-copy -Wno-missing-attributes -Wno-class-memaccess -Wno-sized-deallocation   -DTBB_SUPPRESS_DEPRECATED_MESSAGES=1 -std=c++17  -I../tbb_2020.3/src -I../tbb_2020.3/src/rml/include -I../tbb_2020.3/include ../tbb_2020.3/src/tbb/concurrent_hash_map.cpp\n",
            "g++ -o concurrent_queue.o -c -MMD -O2 -g -DDO_ITT_NOTIFY -DUSE_PTHREAD -pthread -m64 -mrtm  -fPIC -flifetime-dse=1 -D__TBB_BUILD=1 -Wall -Wextra -Wno-parentheses -Wno-sized-deallocation -Wno-unknown-warning-option -Wno-deprecated-copy -Wno-missing-attributes -Wno-class-memaccess -Wno-sized-deallocation   -DTBB_SUPPRESS_DEPRECATED_MESSAGES=1 -std=c++17  -I../tbb_2020.3/src -I../tbb_2020.3/src/rml/include -I../tbb_2020.3/include ../tbb_2020.3/src/tbb/concurrent_queue.cpp\n",
            "g++ -o concurrent_vector.o -c -MMD -O2 -g -DDO_ITT_NOTIFY -DUSE_PTHREAD -pthread -m64 -mrtm  -fPIC -flifetime-dse=1 -D__TBB_BUILD=1 -Wall -Wextra -Wno-parentheses -Wno-sized-deallocation -Wno-unknown-warning-option -Wno-deprecated-copy -Wno-missing-attributes -Wno-class-memaccess -Wno-sized-deallocation   -DTBB_SUPPRESS_DEPRECATED_MESSAGES=1 -std=c++17  -I../tbb_2020.3/src -I../tbb_2020.3/src/rml/include -I../tbb_2020.3/include ../tbb_2020.3/src/tbb/concurrent_vector.cpp\n",
            "g++ -o dynamic_link.o -c -MMD -O2 -g -DDO_ITT_NOTIFY -DUSE_PTHREAD -pthread -m64 -mrtm  -fPIC -flifetime-dse=1 -D__TBB_BUILD=1 -Wall -Wextra -Wno-parentheses -Wno-sized-deallocation -Wno-unknown-warning-option -Wno-deprecated-copy -Wno-missing-attributes -Wno-class-memaccess -Wno-sized-deallocation   -DTBB_SUPPRESS_DEPRECATED_MESSAGES=1 -std=c++17  -I../tbb_2020.3/src -I../tbb_2020.3/src/rml/include -I../tbb_2020.3/include ../tbb_2020.3/src/tbb/dynamic_link.cpp\n",
            "g++ -o itt_notify.o -c -MMD -O2 -g -DDO_ITT_NOTIFY -DUSE_PTHREAD -pthread -m64 -mrtm  -fPIC -flifetime-dse=1 -D__TBB_BUILD=1 -Wall -Wextra -Wno-parentheses -Wno-sized-deallocation -Wno-unknown-warning-option -Wno-deprecated-copy -Wno-missing-attributes -Wno-class-memaccess -Wno-sized-deallocation   -DTBB_SUPPRESS_DEPRECATED_MESSAGES=1 -std=c++17  -I../tbb_2020.3/src -I../tbb_2020.3/src/rml/include -I../tbb_2020.3/include ../tbb_2020.3/src/tbb/itt_notify.cpp\n",
            "g++ -o cache_aligned_allocator.o -c -MMD -O2 -g -DDO_ITT_NOTIFY -DUSE_PTHREAD -pthread -m64 -mrtm  -fPIC -flifetime-dse=1 -D__TBB_BUILD=1 -Wall -Wextra -Wno-parentheses -Wno-sized-deallocation -Wno-unknown-warning-option -Wno-deprecated-copy -Wno-missing-attributes -Wno-class-memaccess -Wno-sized-deallocation   -DTBB_SUPPRESS_DEPRECATED_MESSAGES=1 -std=c++17  -I../tbb_2020.3/src -I../tbb_2020.3/src/rml/include -I../tbb_2020.3/include ../tbb_2020.3/src/tbb/cache_aligned_allocator.cpp\n",
            "g++ -o pipeline.o -c -MMD -O2 -g -DDO_ITT_NOTIFY -DUSE_PTHREAD -pthread -m64 -mrtm  -fPIC -flifetime-dse=1 -D__TBB_BUILD=1 -Wall -Wextra -Wno-parentheses -Wno-sized-deallocation -Wno-unknown-warning-option -Wno-deprecated-copy -Wno-missing-attributes -Wno-class-memaccess -Wno-sized-deallocation   -DTBB_SUPPRESS_DEPRECATED_MESSAGES=1 -std=c++17  -I../tbb_2020.3/src -I../tbb_2020.3/src/rml/include -I../tbb_2020.3/include ../tbb_2020.3/src/tbb/pipeline.cpp\n",
            "g++ -o queuing_mutex.o -c -MMD -O2 -g -DDO_ITT_NOTIFY -DUSE_PTHREAD -pthread -m64 -mrtm  -fPIC -flifetime-dse=1 -D__TBB_BUILD=1 -Wall -Wextra -Wno-parentheses -Wno-sized-deallocation -Wno-unknown-warning-option -Wno-deprecated-copy -Wno-missing-attributes -Wno-class-memaccess -Wno-sized-deallocation   -DTBB_SUPPRESS_DEPRECATED_MESSAGES=1 -std=c++17  -I../tbb_2020.3/src -I../tbb_2020.3/src/rml/include -I../tbb_2020.3/include ../tbb_2020.3/src/tbb/queuing_mutex.cpp\n",
            "g++ -o queuing_rw_mutex.o -c -MMD -O2 -g -DDO_ITT_NOTIFY -DUSE_PTHREAD -pthread -m64 -mrtm  -fPIC -flifetime-dse=1 -D__TBB_BUILD=1 -Wall -Wextra -Wno-parentheses -Wno-sized-deallocation -Wno-unknown-warning-option -Wno-deprecated-copy -Wno-missing-attributes -Wno-class-memaccess -Wno-sized-deallocation   -DTBB_SUPPRESS_DEPRECATED_MESSAGES=1 -std=c++17  -I../tbb_2020.3/src -I../tbb_2020.3/src/rml/include -I../tbb_2020.3/include ../tbb_2020.3/src/tbb/queuing_rw_mutex.cpp\n",
            "g++ -o reader_writer_lock.o -c -MMD -O2 -g -DDO_ITT_NOTIFY -DUSE_PTHREAD -pthread -m64 -mrtm  -fPIC -flifetime-dse=1 -D__TBB_BUILD=1 -Wall -Wextra -Wno-parentheses -Wno-sized-deallocation -Wno-unknown-warning-option -Wno-deprecated-copy -Wno-missing-attributes -Wno-class-memaccess -Wno-sized-deallocation   -DTBB_SUPPRESS_DEPRECATED_MESSAGES=1 -std=c++17  -I../tbb_2020.3/src -I../tbb_2020.3/src/rml/include -I../tbb_2020.3/include ../tbb_2020.3/src/tbb/reader_writer_lock.cpp\n",
            "g++ -o spin_rw_mutex.o -c -MMD -O2 -g -DDO_ITT_NOTIFY -DUSE_PTHREAD -pthread -m64 -mrtm  -fPIC -flifetime-dse=1 -D__TBB_BUILD=1 -Wall -Wextra -Wno-parentheses -Wno-sized-deallocation -Wno-unknown-warning-option -Wno-deprecated-copy -Wno-missing-attributes -Wno-class-memaccess -Wno-sized-deallocation   -DTBB_SUPPRESS_DEPRECATED_MESSAGES=1 -std=c++17  -I../tbb_2020.3/src -I../tbb_2020.3/src/rml/include -I../tbb_2020.3/include ../tbb_2020.3/src/tbb/spin_rw_mutex.cpp\n",
            "g++ -o x86_rtm_rw_mutex.o -c -MMD -O2 -g -DDO_ITT_NOTIFY -DUSE_PTHREAD -pthread -m64 -mrtm  -fPIC -flifetime-dse=1 -D__TBB_BUILD=1 -Wall -Wextra -Wno-parentheses -Wno-sized-deallocation -Wno-unknown-warning-option -Wno-deprecated-copy -Wno-missing-attributes -Wno-class-memaccess -Wno-sized-deallocation   -DTBB_SUPPRESS_DEPRECATED_MESSAGES=1 -std=c++17  -I../tbb_2020.3/src -I../tbb_2020.3/src/rml/include -I../tbb_2020.3/include ../tbb_2020.3/src/tbb/x86_rtm_rw_mutex.cpp\n",
            "g++ -o spin_mutex.o -c -MMD -O2 -g -DDO_ITT_NOTIFY -DUSE_PTHREAD -pthread -m64 -mrtm  -fPIC -flifetime-dse=1 -D__TBB_BUILD=1 -Wall -Wextra -Wno-parentheses -Wno-sized-deallocation -Wno-unknown-warning-option -Wno-deprecated-copy -Wno-missing-attributes -Wno-class-memaccess -Wno-sized-deallocation   -DTBB_SUPPRESS_DEPRECATED_MESSAGES=1 -std=c++17  -I../tbb_2020.3/src -I../tbb_2020.3/src/rml/include -I../tbb_2020.3/include ../tbb_2020.3/src/tbb/spin_mutex.cpp\n",
            "g++ -o critical_section.o -c -MMD -O2 -g -DDO_ITT_NOTIFY -DUSE_PTHREAD -pthread -m64 -mrtm  -fPIC -flifetime-dse=1 -D__TBB_BUILD=1 -Wall -Wextra -Wno-parentheses -Wno-sized-deallocation -Wno-unknown-warning-option -Wno-deprecated-copy -Wno-missing-attributes -Wno-class-memaccess -Wno-sized-deallocation   -DTBB_SUPPRESS_DEPRECATED_MESSAGES=1 -std=c++17  -I../tbb_2020.3/src -I../tbb_2020.3/src/rml/include -I../tbb_2020.3/include ../tbb_2020.3/src/tbb/critical_section.cpp\n",
            "g++ -o mutex.o -c -MMD -O2 -g -DDO_ITT_NOTIFY -DUSE_PTHREAD -pthread -m64 -mrtm  -fPIC -flifetime-dse=1 -D__TBB_BUILD=1 -Wall -Wextra -Wno-parentheses -Wno-sized-deallocation -Wno-unknown-warning-option -Wno-deprecated-copy -Wno-missing-attributes -Wno-class-memaccess -Wno-sized-deallocation   -DTBB_SUPPRESS_DEPRECATED_MESSAGES=1 -std=c++17  -I../tbb_2020.3/src -I../tbb_2020.3/src/rml/include -I../tbb_2020.3/include ../tbb_2020.3/src/tbb/mutex.cpp\n",
            "g++ -o recursive_mutex.o -c -MMD -O2 -g -DDO_ITT_NOTIFY -DUSE_PTHREAD -pthread -m64 -mrtm  -fPIC -flifetime-dse=1 -D__TBB_BUILD=1 -Wall -Wextra -Wno-parentheses -Wno-sized-deallocation -Wno-unknown-warning-option -Wno-deprecated-copy -Wno-missing-attributes -Wno-class-memaccess -Wno-sized-deallocation   -DTBB_SUPPRESS_DEPRECATED_MESSAGES=1 -std=c++17  -I../tbb_2020.3/src -I../tbb_2020.3/src/rml/include -I../tbb_2020.3/include ../tbb_2020.3/src/tbb/recursive_mutex.cpp\n",
            "g++ -o condition_variable.o -c -MMD -O2 -g -DDO_ITT_NOTIFY -DUSE_PTHREAD -pthread -m64 -mrtm  -fPIC -flifetime-dse=1 -D__TBB_BUILD=1 -Wall -Wextra -Wno-parentheses -Wno-sized-deallocation -Wno-unknown-warning-option -Wno-deprecated-copy -Wno-missing-attributes -Wno-class-memaccess -Wno-sized-deallocation   -DTBB_SUPPRESS_DEPRECATED_MESSAGES=1 -std=c++17  -I../tbb_2020.3/src -I../tbb_2020.3/src/rml/include -I../tbb_2020.3/include ../tbb_2020.3/src/tbb/condition_variable.cpp\n",
            "g++ -o tbb_thread.o -c -MMD -O2 -g -DDO_ITT_NOTIFY -DUSE_PTHREAD -pthread -m64 -mrtm  -fPIC -flifetime-dse=1 -D__TBB_BUILD=1 -Wall -Wextra -Wno-parentheses -Wno-sized-deallocation -Wno-unknown-warning-option -Wno-deprecated-copy -Wno-missing-attributes -Wno-class-memaccess -Wno-sized-deallocation   -DTBB_SUPPRESS_DEPRECATED_MESSAGES=1 -std=c++17  -I../tbb_2020.3/src -I../tbb_2020.3/src/rml/include -I../tbb_2020.3/include ../tbb_2020.3/src/tbb/tbb_thread.cpp\n",
            "g++ -o concurrent_monitor.o -c -MMD -O2 -g -DDO_ITT_NOTIFY -DUSE_PTHREAD -pthread -m64 -mrtm  -fPIC -flifetime-dse=1 -D__TBB_BUILD=1 -Wall -Wextra -Wno-parentheses -Wno-sized-deallocation -Wno-unknown-warning-option -Wno-deprecated-copy -Wno-missing-attributes -Wno-class-memaccess -Wno-sized-deallocation   -DTBB_SUPPRESS_DEPRECATED_MESSAGES=1 -std=c++17  -I../tbb_2020.3/src -I../tbb_2020.3/src/rml/include -I../tbb_2020.3/include ../tbb_2020.3/src/tbb/concurrent_monitor.cpp\n",
            "g++ -o semaphore.o -c -MMD -O2 -g -DDO_ITT_NOTIFY -DUSE_PTHREAD -pthread -m64 -mrtm  -fPIC -flifetime-dse=1 -D__TBB_BUILD=1 -Wall -Wextra -Wno-parentheses -Wno-sized-deallocation -Wno-unknown-warning-option -Wno-deprecated-copy -Wno-missing-attributes -Wno-class-memaccess -Wno-sized-deallocation   -DTBB_SUPPRESS_DEPRECATED_MESSAGES=1 -std=c++17  -I../tbb_2020.3/src -I../tbb_2020.3/src/rml/include -I../tbb_2020.3/include ../tbb_2020.3/src/tbb/semaphore.cpp\n",
            "g++ -o private_server.o -c -MMD -O2 -g -DDO_ITT_NOTIFY -DUSE_PTHREAD -pthread -m64 -mrtm  -fPIC -flifetime-dse=1 -D__TBB_BUILD=1 -Wall -Wextra -Wno-parentheses -Wno-sized-deallocation -Wno-unknown-warning-option -Wno-deprecated-copy -Wno-missing-attributes -Wno-class-memaccess -Wno-sized-deallocation   -DTBB_SUPPRESS_DEPRECATED_MESSAGES=1 -std=c++17  -I../tbb_2020.3/src -I../tbb_2020.3/src/rml/include -I../tbb_2020.3/include ../tbb_2020.3/src/tbb/private_server.cpp\n",
            "g++ -o rml_tbb.o -c -MMD -O2 -g -DDO_ITT_NOTIFY -DUSE_PTHREAD -pthread -m64 -mrtm  -fPIC -flifetime-dse=1 -D__TBB_BUILD=1 -Wall -Wextra -Wno-parentheses -Wno-sized-deallocation -Wno-unknown-warning-option -Wno-deprecated-copy -Wno-missing-attributes -Wno-class-memaccess -Wno-sized-deallocation   -DTBB_SUPPRESS_DEPRECATED_MESSAGES=1 -std=c++17  -I../tbb_2020.3/src -I../tbb_2020.3/src/rml/include -I../tbb_2020.3/include ../tbb_2020.3/src/rml/client/rml_tbb.cpp\n",
            "sh ../tbb_2020.3/build/version_info_linux.sh g++ -O2 -g -DDO_ITT_NOTIFY -DUSE_PTHREAD -pthread -m64 -mrtm  -fPIC -flifetime-dse=1 -D__TBB_BUILD=1 -Wall -Wextra -Wno-parentheses -Wno-sized-deallocation -Wno-unknown-warning-option -Wno-deprecated-copy -Wno-missing-attributes -Wno-class-memaccess -Wno-sized-deallocation   -DTBB_SUPPRESS_DEPRECATED_MESSAGES=1 -std=c++17 -I../tbb_2020.3/src -I../tbb_2020.3/src/rml/include -I../tbb_2020.3/include -I. >version_string.ver\n",
            "g++ -o tbb_misc_ex.o -c -MMD -O2 -g -DDO_ITT_NOTIFY -DUSE_PTHREAD -pthread -m64 -mrtm  -fPIC -flifetime-dse=1 -D__TBB_BUILD=1 -Wall -Wextra -Wno-parentheses -Wno-sized-deallocation -Wno-unknown-warning-option -Wno-deprecated-copy -Wno-missing-attributes -Wno-class-memaccess -Wno-sized-deallocation   -DTBB_SUPPRESS_DEPRECATED_MESSAGES=1 -std=c++17  -I../tbb_2020.3/src -I../tbb_2020.3/src/rml/include -I../tbb_2020.3/include ../tbb_2020.3/src/tbb/tbb_misc_ex.cpp\n",
            "g++ -o task.o -c -MMD -O2 -g -DDO_ITT_NOTIFY -DUSE_PTHREAD -pthread -m64 -mrtm  -fPIC -flifetime-dse=1 -D__TBB_BUILD=1 -Wall -Wextra -Wno-parentheses -Wno-sized-deallocation -Wno-unknown-warning-option -Wno-deprecated-copy -Wno-missing-attributes -Wno-class-memaccess -Wno-sized-deallocation   -DTBB_SUPPRESS_DEPRECATED_MESSAGES=1 -std=c++17  -I../tbb_2020.3/src -I../tbb_2020.3/src/rml/include -I../tbb_2020.3/include ../tbb_2020.3/src/tbb/task.cpp\n",
            "g++ -o task_group_context.o -c -MMD -O2 -g -DDO_ITT_NOTIFY -DUSE_PTHREAD -pthread -m64 -mrtm  -fPIC -flifetime-dse=1 -D__TBB_BUILD=1 -Wall -Wextra -Wno-parentheses -Wno-sized-deallocation -Wno-unknown-warning-option -Wno-deprecated-copy -Wno-missing-attributes -Wno-class-memaccess -Wno-sized-deallocation   -DTBB_SUPPRESS_DEPRECATED_MESSAGES=1 -std=c++17  -I../tbb_2020.3/src -I../tbb_2020.3/src/rml/include -I../tbb_2020.3/include ../tbb_2020.3/src/tbb/task_group_context.cpp\n",
            "g++ -o governor.o -c -MMD -O2 -g -DDO_ITT_NOTIFY -DUSE_PTHREAD -pthread -m64 -mrtm  -fPIC -flifetime-dse=1 -D__TBB_BUILD=1 -Wall -Wextra -Wno-parentheses -Wno-sized-deallocation -Wno-unknown-warning-option -Wno-deprecated-copy -Wno-missing-attributes -Wno-class-memaccess -Wno-sized-deallocation   -DTBB_SUPPRESS_DEPRECATED_MESSAGES=1 -std=c++17  -I../tbb_2020.3/src -I../tbb_2020.3/src/rml/include -I../tbb_2020.3/include ../tbb_2020.3/src/tbb/governor.cpp\n",
            "g++ -o market.o -c -MMD -O2 -g -DDO_ITT_NOTIFY -DUSE_PTHREAD -pthread -m64 -mrtm  -fPIC -flifetime-dse=1 -D__TBB_BUILD=1 -Wall -Wextra -Wno-parentheses -Wno-sized-deallocation -Wno-unknown-warning-option -Wno-deprecated-copy -Wno-missing-attributes -Wno-class-memaccess -Wno-sized-deallocation   -DTBB_SUPPRESS_DEPRECATED_MESSAGES=1 -std=c++17  -I../tbb_2020.3/src -I../tbb_2020.3/src/rml/include -I../tbb_2020.3/include ../tbb_2020.3/src/tbb/market.cpp\n",
            "g++ -o arena.o -c -MMD -O2 -g -DDO_ITT_NOTIFY -DUSE_PTHREAD -pthread -m64 -mrtm  -fPIC -flifetime-dse=1 -D__TBB_BUILD=1 -Wall -Wextra -Wno-parentheses -Wno-sized-deallocation -Wno-unknown-warning-option -Wno-deprecated-copy -Wno-missing-attributes -Wno-class-memaccess -Wno-sized-deallocation   -DTBB_SUPPRESS_DEPRECATED_MESSAGES=1 -std=c++17  -I../tbb_2020.3/src -I../tbb_2020.3/src/rml/include -I../tbb_2020.3/include ../tbb_2020.3/src/tbb/arena.cpp\n",
            "g++ -o scheduler.o -c -MMD -O2 -g -DDO_ITT_NOTIFY -DUSE_PTHREAD -pthread -m64 -mrtm  -fPIC -flifetime-dse=1 -D__TBB_BUILD=1 -Wall -Wextra -Wno-parentheses -Wno-sized-deallocation -Wno-unknown-warning-option -Wno-deprecated-copy -Wno-missing-attributes -Wno-class-memaccess -Wno-sized-deallocation   -DTBB_SUPPRESS_DEPRECATED_MESSAGES=1 -std=c++17  -I../tbb_2020.3/src -I../tbb_2020.3/src/rml/include -I../tbb_2020.3/include ../tbb_2020.3/src/tbb/scheduler.cpp\n",
            "g++ -o observer_proxy.o -c -MMD -O2 -g -DDO_ITT_NOTIFY -DUSE_PTHREAD -pthread -m64 -mrtm  -fPIC -flifetime-dse=1 -D__TBB_BUILD=1 -Wall -Wextra -Wno-parentheses -Wno-sized-deallocation -Wno-unknown-warning-option -Wno-deprecated-copy -Wno-missing-attributes -Wno-class-memaccess -Wno-sized-deallocation   -DTBB_SUPPRESS_DEPRECATED_MESSAGES=1 -std=c++17  -I../tbb_2020.3/src -I../tbb_2020.3/src/rml/include -I../tbb_2020.3/include ../tbb_2020.3/src/tbb/observer_proxy.cpp\n",
            "g++ -o tbb_statistics.o -c -MMD -O2 -g -DDO_ITT_NOTIFY -DUSE_PTHREAD -pthread -m64 -mrtm  -fPIC -flifetime-dse=1 -D__TBB_BUILD=1 -Wall -Wextra -Wno-parentheses -Wno-sized-deallocation -Wno-unknown-warning-option -Wno-deprecated-copy -Wno-missing-attributes -Wno-class-memaccess -Wno-sized-deallocation   -DTBB_SUPPRESS_DEPRECATED_MESSAGES=1 -std=c++17  -I../tbb_2020.3/src -I../tbb_2020.3/src/rml/include -I../tbb_2020.3/include ../tbb_2020.3/src/tbb/tbb_statistics.cpp\n",
            "g++ -o tbb_main.o -c -MMD -O2 -g -DDO_ITT_NOTIFY -DUSE_PTHREAD -pthread -m64 -mrtm  -fPIC -flifetime-dse=1 -D__TBB_BUILD=1 -Wall -Wextra -Wno-parentheses -Wno-sized-deallocation -Wno-unknown-warning-option -Wno-deprecated-copy -Wno-missing-attributes -Wno-class-memaccess -Wno-sized-deallocation   -DTBB_SUPPRESS_DEPRECATED_MESSAGES=1 -std=c++17  -I../tbb_2020.3/src -I../tbb_2020.3/src/rml/include -I../tbb_2020.3/include ../tbb_2020.3/src/tbb/tbb_main.cpp\n",
            "g++ -o concurrent_vector_v2.o -c -MMD -O2 -g -DDO_ITT_NOTIFY -DUSE_PTHREAD -pthread -m64 -mrtm  -fPIC -flifetime-dse=1 -D__TBB_BUILD=1 -Wall -Wextra -Wno-parentheses -Wno-sized-deallocation -Wno-unknown-warning-option -Wno-deprecated-copy -Wno-missing-attributes -Wno-class-memaccess -Wno-sized-deallocation   -DTBB_SUPPRESS_DEPRECATED_MESSAGES=1 -std=c++17  -I../tbb_2020.3/src -I../tbb_2020.3/src/rml/include -I../tbb_2020.3/include ../tbb_2020.3/src/old/concurrent_vector_v2.cpp\n",
            "g++ -o concurrent_queue_v2.o -c -MMD -O2 -g -DDO_ITT_NOTIFY -DUSE_PTHREAD -pthread -m64 -mrtm  -fPIC -flifetime-dse=1 -D__TBB_BUILD=1 -Wall -Wextra -Wno-parentheses -Wno-sized-deallocation -Wno-unknown-warning-option -Wno-deprecated-copy -Wno-missing-attributes -Wno-class-memaccess -Wno-sized-deallocation   -DTBB_SUPPRESS_DEPRECATED_MESSAGES=1 -std=c++17  -I../tbb_2020.3/src -I../tbb_2020.3/src/rml/include -I../tbb_2020.3/include ../tbb_2020.3/src/old/concurrent_queue_v2.cpp\n",
            "g++ -o spin_rw_mutex_v2.o -c -MMD -O2 -g -DDO_ITT_NOTIFY -DUSE_PTHREAD -pthread -m64 -mrtm  -fPIC -flifetime-dse=1 -D__TBB_BUILD=1 -Wall -Wextra -Wno-parentheses -Wno-sized-deallocation -Wno-unknown-warning-option -Wno-deprecated-copy -Wno-missing-attributes -Wno-class-memaccess -Wno-sized-deallocation   -DTBB_SUPPRESS_DEPRECATED_MESSAGES=1 -std=c++17  -I../tbb_2020.3/src -I../tbb_2020.3/src/rml/include -I../tbb_2020.3/include ../tbb_2020.3/src/old/spin_rw_mutex_v2.cpp\n",
            "g++ -o task_v2.o -c -MMD -O2 -g -DDO_ITT_NOTIFY -DUSE_PTHREAD -pthread -m64 -mrtm  -fPIC -flifetime-dse=1 -D__TBB_BUILD=1 -Wall -Wextra -Wno-parentheses -Wno-sized-deallocation -Wno-unknown-warning-option -Wno-deprecated-copy -Wno-missing-attributes -Wno-class-memaccess -Wno-sized-deallocation   -DTBB_SUPPRESS_DEPRECATED_MESSAGES=1 -std=c++17  -I../tbb_2020.3/src -I../tbb_2020.3/src/rml/include -I../tbb_2020.3/include ../tbb_2020.3/src/old/task_v2.cpp\n",
            "sh ../tbb_2020.3/build/generate_tbbvars.sh\n",
            "echo \"INPUT (libtbb.so.2)\" > libtbb.so\n",
            "g++ -E -x c++ ../tbb_2020.3/src/tbb/lin64-tbb-export.def -O2 -g -DDO_ITT_NOTIFY -DUSE_PTHREAD -pthread -m64 -mrtm  -fPIC -flifetime-dse=1 -D__TBB_BUILD=1 -Wall -Wextra -Wno-parentheses -Wno-sized-deallocation -Wno-unknown-warning-option -Wno-deprecated-copy -Wno-missing-attributes -Wno-class-memaccess -Wno-sized-deallocation   -DTBB_SUPPRESS_DEPRECATED_MESSAGES=1 -I../tbb_2020.3/src -I../tbb_2020.3/src/rml/include -I../tbb_2020.3/include > tbb.def\n",
            "g++ -o tbb_misc.o -c -MMD -O2 -g -DDO_ITT_NOTIFY -DUSE_PTHREAD -pthread -m64 -mrtm  -fPIC -flifetime-dse=1 -D__TBB_BUILD=1 -Wall -Wextra -Wno-parentheses -Wno-sized-deallocation -Wno-unknown-warning-option -Wno-deprecated-copy -Wno-missing-attributes -Wno-class-memaccess -Wno-sized-deallocation   -DTBB_SUPPRESS_DEPRECATED_MESSAGES=1 -std=c++17  -I../tbb_2020.3/src -I../tbb_2020.3/src/rml/include -I../tbb_2020.3/include -I. ../tbb_2020.3/src/tbb/tbb_misc.cpp\n",
            "g++ -fPIC -o libtbb.so.2 concurrent_hash_map.o concurrent_queue.o concurrent_vector.o dynamic_link.o itt_notify.o cache_aligned_allocator.o pipeline.o queuing_mutex.o queuing_rw_mutex.o reader_writer_lock.o spin_rw_mutex.o x86_rtm_rw_mutex.o spin_mutex.o critical_section.o mutex.o recursive_mutex.o condition_variable.o tbb_thread.o concurrent_monitor.o semaphore.o private_server.o rml_tbb.o tbb_misc.o tbb_misc_ex.o task.o task_group_context.o governor.o market.o arena.o scheduler.o observer_proxy.o tbb_statistics.o tbb_main.o concurrent_vector_v2.o concurrent_queue_v2.o spin_rw_mutex_v2.o task_v2.o   -ldl -lrt -shared -Wl,-soname=libtbb.so.2 -pthread -m64 -Wl,-L,\"/root/.cmdstan/cmdstan-2.35.0/stan/lib/stan_math/lib/tbb\"   -Wl,-rpath,\"/root/.cmdstan/cmdstan-2.35.0/stan/lib/stan_math/lib/tbb\" -Wl,--version-script,tbb.def\n",
            "make[1]: Leaving directory '/root/.cmdstan/cmdstan-2.35.0/stan/lib/stan_math/lib/tbb'\n",
            "g++ -Wno-deprecated-declarations -std=c++17 -pthread -D_REENTRANT -Wno-sign-compare -Wno-ignored-attributes -Wno-class-memaccess      -I stan/lib/stan_math/lib/tbb_2020.3/include    -O3 -I src -I stan/src -I stan/lib/rapidjson_1.1.0/ -I lib/CLI11-1.9.1/ -I stan/lib/stan_math/ -I stan/lib/stan_math/lib/eigen_3.4.0 -I stan/lib/stan_math/lib/boost_1.84.0 -I stan/lib/stan_math/lib/sundials_6.1.1/include -I stan/lib/stan_math/lib/sundials_6.1.1/src/sundials    -DBOOST_DISABLE_ASSERTS               -Wl,-L,\"/root/.cmdstan/cmdstan-2.35.0/stan/lib/stan_math/lib/tbb\"   -Wl,-rpath,\"/root/.cmdstan/cmdstan-2.35.0/stan/lib/stan_math/lib/tbb\"      bin/cmdstan/stansummary.o stan/lib/stan_math/lib/tbb/libtbb.so.2       -ltbb   -o bin/stansummary\n",
            "g++ -Wno-deprecated-declarations -std=c++17 -pthread -D_REENTRANT -Wno-sign-compare -Wno-ignored-attributes -Wno-class-memaccess      -I stan/lib/stan_math/lib/tbb_2020.3/include    -O3 -I src -I stan/src -I stan/lib/rapidjson_1.1.0/ -I lib/CLI11-1.9.1/ -I stan/lib/stan_math/ -I stan/lib/stan_math/lib/eigen_3.4.0 -I stan/lib/stan_math/lib/boost_1.84.0 -I stan/lib/stan_math/lib/sundials_6.1.1/include -I stan/lib/stan_math/lib/sundials_6.1.1/src/sundials    -DBOOST_DISABLE_ASSERTS               -Wl,-L,\"/root/.cmdstan/cmdstan-2.35.0/stan/lib/stan_math/lib/tbb\"   -Wl,-rpath,\"/root/.cmdstan/cmdstan-2.35.0/stan/lib/stan_math/lib/tbb\"      bin/cmdstan/print.o stan/lib/stan_math/lib/tbb/libtbb.so.2       -ltbb   -o bin/print\n",
            "g++ -Wno-deprecated-declarations -std=c++17 -pthread -D_REENTRANT -Wno-sign-compare -Wno-ignored-attributes -Wno-class-memaccess      -I stan/lib/stan_math/lib/tbb_2020.3/include    -O3 -I src -I stan/src -I stan/lib/rapidjson_1.1.0/ -I lib/CLI11-1.9.1/ -I stan/lib/stan_math/ -I stan/lib/stan_math/lib/eigen_3.4.0 -I stan/lib/stan_math/lib/boost_1.84.0 -I stan/lib/stan_math/lib/sundials_6.1.1/include -I stan/lib/stan_math/lib/sundials_6.1.1/src/sundials    -DBOOST_DISABLE_ASSERTS               -Wl,-L,\"/root/.cmdstan/cmdstan-2.35.0/stan/lib/stan_math/lib/tbb\"   -Wl,-rpath,\"/root/.cmdstan/cmdstan-2.35.0/stan/lib/stan_math/lib/tbb\"      bin/cmdstan/diagnose.o stan/lib/stan_math/lib/tbb/libtbb.so.2       -ltbb   -o bin/diagnose\n",
            "\n",
            "--- CmdStan v2.35.0 built ---\n",
            "g++ -Wno-deprecated-declarations -std=c++17 -pthread -D_REENTRANT -Wno-sign-compare -Wno-ignored-attributes -Wno-class-memaccess      -I stan/lib/stan_math/lib/tbb_2020.3/include    -O3 -I src -I stan/src -I stan/lib/rapidjson_1.1.0/ -I lib/CLI11-1.9.1/ -I stan/lib/stan_math/ -I stan/lib/stan_math/lib/eigen_3.4.0 -I stan/lib/stan_math/lib/boost_1.84.0 -I stan/lib/stan_math/lib/sundials_6.1.1/include -I stan/lib/stan_math/lib/sundials_6.1.1/src/sundials    -DBOOST_DISABLE_ASSERTS          -c -MT src/cmdstan/main.o -MM -E -MG -MP -MF src/cmdstan/main.d src/cmdstan/main.cpp\n",
            "\n",
            "--- Translating Stan model to C++ code ---\n",
            "bin/stanc  --o=examples/bernoulli/bernoulli.hpp examples/bernoulli/bernoulli.stan\n",
            "\n",
            "--- Compiling C++ code ---\n",
            "g++ -Wno-deprecated-declarations -std=c++17 -pthread -D_REENTRANT -Wno-sign-compare -Wno-ignored-attributes -Wno-class-memaccess      -I stan/lib/stan_math/lib/tbb_2020.3/include    -O3 -I src -I stan/src -I stan/lib/rapidjson_1.1.0/ -I lib/CLI11-1.9.1/ -I stan/lib/stan_math/ -I stan/lib/stan_math/lib/eigen_3.4.0 -I stan/lib/stan_math/lib/boost_1.84.0 -I stan/lib/stan_math/lib/sundials_6.1.1/include -I stan/lib/stan_math/lib/sundials_6.1.1/src/sundials    -DBOOST_DISABLE_ASSERTS          -c -Wno-ignored-attributes   -x c++ -o examples/bernoulli/bernoulli.o examples/bernoulli/bernoulli.hpp\n",
            "\n",
            "--- Linking model ---\n",
            "g++ -Wno-deprecated-declarations -std=c++17 -pthread -D_REENTRANT -Wno-sign-compare -Wno-ignored-attributes -Wno-class-memaccess      -I stan/lib/stan_math/lib/tbb_2020.3/include    -O3 -I src -I stan/src -I stan/lib/rapidjson_1.1.0/ -I lib/CLI11-1.9.1/ -I stan/lib/stan_math/ -I stan/lib/stan_math/lib/eigen_3.4.0 -I stan/lib/stan_math/lib/boost_1.84.0 -I stan/lib/stan_math/lib/sundials_6.1.1/include -I stan/lib/stan_math/lib/sundials_6.1.1/src/sundials    -DBOOST_DISABLE_ASSERTS               -Wl,-L,\"/root/.cmdstan/cmdstan-2.35.0/stan/lib/stan_math/lib/tbb\"   -Wl,-rpath,\"/root/.cmdstan/cmdstan-2.35.0/stan/lib/stan_math/lib/tbb\"      examples/bernoulli/bernoulli.o src/cmdstan/main.o       -ltbb   stan/lib/stan_math/lib/sundials_6.1.1/lib/libsundials_nvecserial.a stan/lib/stan_math/lib/sundials_6.1.1/lib/libsundials_cvodes.a stan/lib/stan_math/lib/sundials_6.1.1/lib/libsundials_idas.a stan/lib/stan_math/lib/sundials_6.1.1/lib/libsundials_kinsol.a  stan/lib/stan_math/lib/tbb/libtbb.so.2 -o examples/bernoulli/bernoulli\n",
            "rm examples/bernoulli/bernoulli.o examples/bernoulli/bernoulli.hpp\n"
          ]
        },
        {
          "output_type": "stream",
          "name": "stderr",
          "text": [
            "* Finished installing CmdStan to /root/.cmdstan/cmdstan-2.35.0\n",
            "\n",
            "\n",
            "CmdStan path set to: /root/.cmdstan/cmdstan-2.35.0\n",
            "\n",
            "CmdStan path set to: /root/.cmdstan/cmdstan-2.35.0\n",
            "\n"
          ]
        },
        {
          "output_type": "display_data",
          "data": {
            "text/html": [
              "'2.35.0'"
            ],
            "text/markdown": "'2.35.0'",
            "text/latex": "'2.35.0'",
            "text/plain": [
              "[1] \"2.35.0\""
            ]
          },
          "metadata": {}
        }
      ]
    },
    {
      "cell_type": "code",
      "source": [
        "# Install necessary packages\n",
        "install.packages(c(\"coda\", \"mvtnorm\", \"devtools\", \"loo\", \"dagitty\", \"shape\"))\n",
        "\n",
        "# Load devtools for GitHub installation\n",
        "library(devtools)\n",
        "\n",
        "# Install rethinking from GitHub\n",
        "devtools::install_github(\"rmcelreath/rethinking\")\n"
      ],
      "metadata": {
        "colab": {
          "base_uri": "https://localhost:8080/"
        },
        "id": "rd9jkYG4WyyR",
        "outputId": "a94adb22-4204-468f-9b09-0bd617a22cdd"
      },
      "execution_count": 4,
      "outputs": [
        {
          "output_type": "stream",
          "name": "stderr",
          "text": [
            "Installing packages into ‘/usr/local/lib/R/site-library’\n",
            "(as ‘lib’ is unspecified)\n",
            "\n",
            "also installing the dependency ‘V8’\n",
            "\n",
            "\n",
            "Loading required package: usethis\n",
            "\n",
            "Downloading GitHub repo rmcelreath/rethinking@HEAD\n",
            "\n"
          ]
        },
        {
          "output_type": "stream",
          "name": "stdout",
          "text": [
            "\n",
            "\u001b[36m──\u001b[39m \u001b[36mR CMD build\u001b[39m \u001b[36m─────────────────────────────────────────────────────────────────\u001b[39m\n",
            "* checking for file ‘/tmp/Rtmpun9kAA/remotes1e2547b16e3/rmcelreath-rethinking-ac1b3b2/DESCRIPTION’ ... OK\n",
            "* preparing ‘rethinking’:\n",
            "* checking DESCRIPTION meta-information ... OK\n",
            "* checking for LF line-endings in source and make files and shell scripts\n",
            "* checking for empty or unneeded directories\n",
            "* looking to see if a ‘data/datalist’ file should be added\n",
            "* building ‘rethinking_2.42.tar.gz’\n",
            "\n"
          ]
        },
        {
          "output_type": "stream",
          "name": "stderr",
          "text": [
            "Installing package into ‘/usr/local/lib/R/site-library’\n",
            "(as ‘lib’ is unspecified)\n",
            "\n"
          ]
        }
      ]
    },
    {
      "cell_type": "code",
      "source": [
        "library(rethinking)"
      ],
      "metadata": {
        "colab": {
          "base_uri": "https://localhost:8080/"
        },
        "id": "76h8LgPcYq2E",
        "outputId": "15807223-6af8-45d6-e955-185ea19cbf65"
      },
      "execution_count": 5,
      "outputs": [
        {
          "output_type": "stream",
          "name": "stderr",
          "text": [
            "Loading required package: posterior\n",
            "\n",
            "This is posterior version 1.6.0\n",
            "\n",
            "\n",
            "Attaching package: ‘posterior’\n",
            "\n",
            "\n",
            "The following objects are masked from ‘package:stats’:\n",
            "\n",
            "    mad, sd, var\n",
            "\n",
            "\n",
            "The following objects are masked from ‘package:base’:\n",
            "\n",
            "    %in%, match\n",
            "\n",
            "\n",
            "Loading required package: parallel\n",
            "\n",
            "rethinking (Version 2.42)\n",
            "\n",
            "\n",
            "Attaching package: ‘rethinking’\n",
            "\n",
            "\n",
            "The following object is masked from ‘package:stats’:\n",
            "\n",
            "    rstudent\n",
            "\n",
            "\n"
          ]
        }
      ]
    },
    {
      "cell_type": "code",
      "source": [
        "# Test Installation\n",
        "\n",
        "## Simulate some data for a binary outcome based on a single predictor\n",
        "n <- 100\n",
        "x <- rnorm(n)\n",
        "prob <- 1 / (1 + exp(-x))\n",
        "y <- rbinom(n, 1, prob)\n",
        "\n",
        "## Fit a logistic regression using ulam\n",
        "fit <- ulam(\n",
        "  alist(\n",
        "    y ~ bernoulli( p ),\n",
        "    logit(p) <- a + b*x,\n",
        "    a ~ normal(0, 1),\n",
        "    b ~ normal(0, 1)\n",
        "  ), data = list(x = x, y = y)\n",
        ")\n",
        "\n",
        "precis(fit)"
      ],
      "metadata": {
        "colab": {
          "base_uri": "https://localhost:8080/",
          "height": 421
        },
        "id": "AK1-F_d0ZIFf",
        "outputId": "bab75e53-ec0e-4e83-f4b7-4dd1b2de81a7"
      },
      "execution_count": 6,
      "outputs": [
        {
          "output_type": "stream",
          "name": "stdout",
          "text": [
            "Running MCMC with 1 chain, with 1 thread(s) per chain...\n",
            "\n",
            "Chain 1 Iteration:   1 / 1000 [  0%]  (Warmup) \n",
            "Chain 1 Iteration: 100 / 1000 [ 10%]  (Warmup) \n",
            "Chain 1 Iteration: 200 / 1000 [ 20%]  (Warmup) \n",
            "Chain 1 Iteration: 300 / 1000 [ 30%]  (Warmup) \n",
            "Chain 1 Iteration: 400 / 1000 [ 40%]  (Warmup) \n",
            "Chain 1 Iteration: 500 / 1000 [ 50%]  (Warmup) \n",
            "Chain 1 Iteration: 501 / 1000 [ 50%]  (Sampling) \n",
            "Chain 1 Iteration: 600 / 1000 [ 60%]  (Sampling) \n",
            "Chain 1 Iteration: 700 / 1000 [ 70%]  (Sampling) \n",
            "Chain 1 Iteration: 800 / 1000 [ 80%]  (Sampling) \n",
            "Chain 1 Iteration: 900 / 1000 [ 90%]  (Sampling) \n",
            "Chain 1 Iteration: 1000 / 1000 [100%]  (Sampling) \n",
            "Chain 1 finished in 0.0 seconds.\n"
          ]
        },
        {
          "output_type": "display_data",
          "data": {
            "text/html": [
              "<table class=\"dataframe\">\n",
              "<caption>A precis: 2 × 6</caption>\n",
              "<thead>\n",
              "\t<tr><th></th><th scope=col>mean</th><th scope=col>sd</th><th scope=col>5.5%</th><th scope=col>94.5%</th><th scope=col>rhat</th><th scope=col>ess_bulk</th></tr>\n",
              "\t<tr><th></th><th scope=col>&lt;dbl&gt;</th><th scope=col>&lt;dbl&gt;</th><th scope=col>&lt;dbl&gt;</th><th scope=col>&lt;dbl&gt;</th><th scope=col>&lt;dbl&gt;</th><th scope=col>&lt;dbl&gt;</th></tr>\n",
              "</thead>\n",
              "<tbody>\n",
              "\t<tr><th scope=row>a</th><td>-0.1414645</td><td>0.2356440</td><td>-0.5038296</td><td>0.2384282</td><td>1.004578</td><td>277.1128</td></tr>\n",
              "\t<tr><th scope=row>b</th><td> 1.0365058</td><td>0.2890763</td><td> 0.5959262</td><td>1.4911342</td><td>1.004130</td><td>331.0919</td></tr>\n",
              "</tbody>\n",
              "</table>\n"
            ],
            "text/markdown": "\nA precis: 2 × 6\n\n| <!--/--> | mean &lt;dbl&gt; | sd &lt;dbl&gt; | 5.5% &lt;dbl&gt; | 94.5% &lt;dbl&gt; | rhat &lt;dbl&gt; | ess_bulk &lt;dbl&gt; |\n|---|---|---|---|---|---|---|\n| a | -0.1414645 | 0.2356440 | -0.5038296 | 0.2384282 | 1.004578 | 277.1128 |\n| b |  1.0365058 | 0.2890763 |  0.5959262 | 1.4911342 | 1.004130 | 331.0919 |\n\n",
            "text/latex": "A precis: 2 × 6\n\\begin{tabular}{r|llllll}\n  & mean & sd & 5.5\\% & 94.5\\% & rhat & ess\\_bulk\\\\\n  & <dbl> & <dbl> & <dbl> & <dbl> & <dbl> & <dbl>\\\\\n\\hline\n\ta & -0.1414645 & 0.2356440 & -0.5038296 & 0.2384282 & 1.004578 & 277.1128\\\\\n\tb &  1.0365058 & 0.2890763 &  0.5959262 & 1.4911342 & 1.004130 & 331.0919\\\\\n\\end{tabular}\n",
            "text/plain": [
              "  mean       sd        5.5%       94.5%     rhat     ess_bulk\n",
              "a -0.1414645 0.2356440 -0.5038296 0.2384282 1.004578 277.1128\n",
              "b  1.0365058 0.2890763  0.5959262 1.4911342 1.004130 331.0919"
            ]
          },
          "metadata": {}
        }
      ]
    },
    {
      "cell_type": "markdown",
      "source": [
        "# Chapter 12"
      ],
      "metadata": {
        "id": "1ZlXL1B2XGQm"
      }
    },
    {
      "cell_type": "markdown",
      "source": [
        "## Easy"
      ],
      "metadata": {
        "id": "hLV6g37DADVa"
      }
    },
    {
      "cell_type": "markdown",
      "source": [
        "### 12E1\n",
        "What is the difference between an ordered categorical variable and an unordered one? Define and then give an example of each.\n",
        "\n",
        "#### Answer\n",
        "Both *ordered-* and *unordered-* categorical models have, well, categories (rather than quantities) as the outcome.  Note, though, that the categories may be encoded as numbers; but these are just labels and do not behave like numbers.\n",
        "\n",
        "The difference is that the categories for ordered categorical are, well, ordered--like \"small\", \"medium\", and \"large\"--while categories for unordered categorical are, well, unordered--like \"red\", \"blue\", \"yellow\".\n",
        "\n",
        "Notice that although ordered categorical variables do have an order like numbers, the intervals between the categories are not quantitative: large is *greater* than medium is *greater* than small, but the interval separating large from medium and medium from small is not defined to be equal (like it would be for the integers 1, 2, 3).\n",
        "\n",
        "Unordered categories are even more disparate from integers.  Now, the categories are not even structured in a hierarchy."
      ],
      "metadata": {
        "id": "d0CU5ffVAFPn"
      }
    },
    {
      "cell_type": "markdown",
      "source": [
        "### 12E2\n",
        "What kind of link function does an ordered logistic regression employ? How does it differ from an ordinary logit link?\n",
        "\n",
        "#### Answer\n",
        "These typically use a *cumulative* logit function as the link function.  The cumulative logit function looks like:\n",
        "\n",
        "$$\\text{ln}\\left[\\frac{p(y_i \\le k)}{1 - p(y_i \\le k)}\\right]$$\n",
        "\n",
        "This differs from the logit link because a) it can imply >2 outcomes and b) by implying >2 outcomes, it also implies an ordering to the categories."
      ],
      "metadata": {
        "id": "Ow42k4s0FctW"
      }
    },
    {
      "cell_type": "markdown",
      "source": [
        "### 12E3\n",
        "\n",
        "When count data are zero-inflated, using a model that ignores zero-inflation will tend to induce which kind of inferential error?\n",
        "\n",
        "#### Answer\n",
        "\n",
        "I suppose there's a few ways to answer this.  Firstly, of course, it will underpredict the number of 0's and overpredic the number of non-0's in the data.  This will tend to overestimate the mean and underestimate the variance (which will imply more confidence about an incorrect estimate!).\n",
        "\n",
        "For example, the code below has two random variables; the first in Poisson(3) and the second is also Poisson(3) but with 10% more zeros."
      ],
      "metadata": {
        "id": "XnGmgg6-Ro5W"
      }
    },
    {
      "cell_type": "code",
      "source": [
        "x1 <- rpois(1000, lambda=3)\n",
        "x2 <- numeric(1000)\n",
        "\n",
        "for(i in 1:1000){\n",
        "  rv <- rbinom(1, 1, 0.1)\n",
        "  if(rv==0){\n",
        "    x2[i] <- rpois(1, lambda=3)\n",
        "  } else{\n",
        "    x2[i] <- 0\n",
        "  }\n",
        "}\n",
        "\n",
        "mean(x1)\n",
        "mean(x2)\n",
        "var(x1)\n",
        "var(x2)\n",
        "\n",
        "hist(x2, density=FALSE, col=\"red\"); abline(v=mean(x2), col=\"red\")\n",
        "hist(x1, density=FALSE, col=\"blue\", add=TRUE); abline(v=mean(x1), col=\"blue\")"
      ],
      "metadata": {
        "colab": {
          "base_uri": "https://localhost:8080/",
          "height": 506
        },
        "id": "eERm2l38TVdd",
        "outputId": "a3e35c92-23be-4533-e819-b738ea1b10da"
      },
      "execution_count": null,
      "outputs": [
        {
          "output_type": "display_data",
          "data": {
            "text/html": [
              "2.976"
            ],
            "text/markdown": "2.976",
            "text/latex": "2.976",
            "text/plain": [
              "[1] 2.976"
            ]
          },
          "metadata": {}
        },
        {
          "output_type": "display_data",
          "data": {
            "text/html": [
              "2.645"
            ],
            "text/markdown": "2.645",
            "text/latex": "2.645",
            "text/plain": [
              "[1] 2.645"
            ]
          },
          "metadata": {}
        },
        {
          "output_type": "display_data",
          "data": {
            "text/html": [
              "2.91634034034034"
            ],
            "text/markdown": "2.91634034034034",
            "text/latex": "2.91634034034034",
            "text/plain": [
              "[1] 2.91634"
            ]
          },
          "metadata": {}
        },
        {
          "output_type": "display_data",
          "data": {
            "text/html": [
              "3.75873373373373"
            ],
            "text/markdown": "3.75873373373373",
            "text/latex": "3.75873373373373",
            "text/plain": [
              "[1] 3.758734"
            ]
          },
          "metadata": {}
        },
        {
          "output_type": "display_data",
          "data": {
            "text/plain": [
              "Plot with title “Histogram of x2”"
            ],
            "image/png": "[encoded data removed]"
          },
          "metadata": {
            "image/png": {
              "width": 420,
              "height": 420
            }
          }
        }
      ]
    },
    {
      "cell_type": "markdown",
      "source": [
        "The second (zero-inflated) has more variance and a lower mean."
      ],
      "metadata": {
        "id": "dU1xPnlOUsuq"
      }
    },
    {
      "cell_type": "markdown",
      "source": [
        "### 12E4\n",
        "\n",
        "Over-dispersion is common in count data. Give an example of a natural process that might produce over-dispersed counts. Can you also give an example of a process that might produce underdispersed counts?  "
      ],
      "metadata": {
        "id": "usShFqublTu6"
      }
    },
    {
      "cell_type": "markdown",
      "source": [
        "I can think of two ways to produce **over-dispersed** data.  The first is when the underlying process producing the outcome is a combination of processes. This is similar to what we saw in 12E3."
      ],
      "metadata": {
        "id": "DJvyGTX7njtk"
      }
    },
    {
      "cell_type": "code",
      "source": [
        "over_dual <- numeric(length=1000)\n",
        "for(i in 1:1000){\n",
        "  rv <- rbinom(1, 1, 0.5)\n",
        "  if(rv==0){\n",
        "    over_dual[i] <- rpois(1, lambda=8)\n",
        "  } else{\n",
        "    over_dual[i] <- rpois(1, lambda=4)\n",
        "  }\n",
        "}\n",
        "\n",
        "# For comparison\n",
        "#normal_poisson <- rpois(n=1000, lambda=mean(over_dual))\n",
        "\n",
        "#hist(over_dual, density=FALSE, col=\"red\")\n",
        "#hist(normal_poisson, density=FALSE, col=\"black\", add=TRUE)\n",
        "mean(over_dual); var(over_dual)"
      ],
      "metadata": {
        "colab": {
          "base_uri": "https://localhost:8080/",
          "height": 52
        },
        "id": "_DtkX1RTntq2",
        "outputId": "c1cb4890-ec02-4560-c51b-dec8c1574a2c"
      },
      "execution_count": null,
      "outputs": [
        {
          "output_type": "display_data",
          "data": {
            "text/html": [
              "5.983"
            ],
            "text/markdown": "5.983",
            "text/latex": "5.983",
            "text/plain": [
              "[1] 5.983"
            ]
          },
          "metadata": {}
        },
        {
          "output_type": "display_data",
          "data": {
            "text/html": [
              "9.62633733733734"
            ],
            "text/markdown": "9.62633733733734",
            "text/latex": "9.62633733733734",
            "text/plain": [
              "[1] 9.626337"
            ]
          },
          "metadata": {}
        }
      ]
    },
    {
      "cell_type": "markdown",
      "source": [
        "For a Poisson distribution, the mean should equal the variance.  But here, we see that the variance is quite a bit larger."
      ],
      "metadata": {
        "id": "hEFsg5uvoeow"
      }
    },
    {
      "cell_type": "markdown",
      "source": [
        "The second way I can think of **over-dispersion** arising is with (positive or negative) autocorrelation between observations."
      ],
      "metadata": {
        "id": "PTAz6fEAolum"
      }
    },
    {
      "cell_type": "code",
      "source": [
        "dev <- 2\n",
        "mu <- 6\n",
        "\n",
        "over_posCor <- numeric(1000)\n",
        "over_negCor <- numeric(1000)\n",
        "over_posCor[1] <- rpois(1, mu)\n",
        "over_negCor[1] <- rpois(1, mu)\n",
        "for(i in 2:1000){\n",
        "  over_posCor[i] <- ifelse(test = over_posCor[i-1] >= mu,\n",
        "                        yes = rpois(1, mu+dev),\n",
        "                        no = rpois(1, mu-dev))\n",
        "\n",
        "  over_negCor[i] <- ifelse(test = over_negCor[i-1] >= mu,\n",
        "                           yes = rpois(1, mu-dev),\n",
        "                           no = rpois(1, mu+dev))\n",
        "}\n",
        "\n",
        "# For comparison\n",
        "#normal_posPoisson <- rpois(n=1000, lambda=mean(over_posCor))\n",
        "#normal_negPoisson <- rpois(n=1000, lambda=mean(over_negCor))\n",
        "\n",
        "#hist(over_posCor, density=FALSE, col=\"red\")\n",
        "#hist(normal_posPoisson, density=FALSE, add=TRUE, col=\"black\")\n",
        "mean(over_posCor); var(over_posCor)\n",
        "\n",
        "#hist(over_negCor, density=FALSE, col=\"red\")\n",
        "#hist(normal_negPoisson, density=FALSE, add=TRUE, col=\"black\")\n",
        "mean(over_negCor); var(over_negCor)"
      ],
      "metadata": {
        "id": "BQpQ2jehntoZ",
        "colab": {
          "base_uri": "https://localhost:8080/",
          "height": 86
        },
        "outputId": "9908b665-96e9-468b-ded0-90203334be44"
      },
      "execution_count": null,
      "outputs": [
        {
          "output_type": "display_data",
          "data": {
            "text/html": [
              "5.648"
            ],
            "text/markdown": "5.648",
            "text/latex": "5.648",
            "text/plain": [
              "[1] 5.648"
            ]
          },
          "metadata": {}
        },
        {
          "output_type": "display_data",
          "data": {
            "text/html": [
              "9.8038998998999"
            ],
            "text/markdown": "9.8038998998999",
            "text/latex": "9.8038998998999",
            "text/plain": [
              "[1] 9.8039"
            ]
          },
          "metadata": {}
        },
        {
          "output_type": "display_data",
          "data": {
            "text/html": [
              "6.049"
            ],
            "text/markdown": "6.049",
            "text/latex": "6.049",
            "text/plain": [
              "[1] 6.049"
            ]
          },
          "metadata": {}
        },
        {
          "output_type": "display_data",
          "data": {
            "text/html": [
              "9.97257157157157"
            ],
            "text/markdown": "9.97257157157157",
            "text/latex": "9.97257157157157",
            "text/plain": [
              "[1] 9.972572"
            ]
          },
          "metadata": {}
        }
      ]
    },
    {
      "cell_type": "markdown",
      "source": [
        "Conversely, if there is a process that drags successive observations closer to some anchor value (e.g., the mean), then we can get **under-dispersion**."
      ],
      "metadata": {
        "id": "LjnPYeY8plbm"
      }
    },
    {
      "cell_type": "code",
      "source": [
        "under_cor <- numeric(1000)\n",
        "under_cor[1] <- rpois(1, mu)\n",
        "for(i in 2:1000){\n",
        "  if (under_cor[i-1] > mu) {\n",
        "    under_cor[i] <- max(rpois(1, mu-dev), rpois(1, mu))\n",
        "  } else {\n",
        "    under_cor[i] <- min(rpois(1, mu+dev), rpois(1, mu))\n",
        "  }\n",
        "}\n",
        "\n",
        "# For comparison\n",
        "#normal_poisson <- rpois(n=1000, lambda=mean(under_cor))\n",
        "\n",
        "# Plotting the distributions\n",
        "#hist(under_cor, density=FALSE, col=\"red\")\n",
        "#hist(normal_poisson, density=FALSE, add=TRUE, col=\"black\")\n",
        "mean(under_cor); var(under_cor)"
      ],
      "metadata": {
        "id": "ZNxXJ0jPv4N9",
        "colab": {
          "base_uri": "https://localhost:8080/",
          "height": 52
        },
        "outputId": "f4560446-99d8-4169-a19b-209f4c93b108"
      },
      "execution_count": null,
      "outputs": [
        {
          "output_type": "display_data",
          "data": {
            "text/html": [
              "5.599"
            ],
            "text/markdown": "5.599",
            "text/latex": "5.599",
            "text/plain": [
              "[1] 5.599"
            ]
          },
          "metadata": {}
        },
        {
          "output_type": "display_data",
          "data": {
            "text/html": [
              "4.75295195195195"
            ],
            "text/markdown": "4.75295195195195",
            "text/latex": "4.75295195195195",
            "text/plain": [
              "[1] 4.752952"
            ]
          },
          "metadata": {}
        }
      ]
    },
    {
      "cell_type": "markdown",
      "source": [
        "## Medium"
      ],
      "metadata": {
        "id": "ThfYhCH24VaB"
      }
    },
    {
      "cell_type": "markdown",
      "source": [
        "### 12M1\n",
        "\n",
        "At a certain university, employees are annually rated from 1 to 4 on their productivity, with 1 being least productive and 4 most productive. In a certain department at this certain university in a certain year, the numbers of employees receiving each rating were (from 1 to 4): 12, 36, 7, 41.  Compute the log cumulative odds of each rating.\n",
        "\n",
        "#### Answer\n",
        "Remember that $\\text{log(odds)} = \\text{log}\\left(\\frac{p}{1-p}\\right)$.  The *cumulative* log odds extends this for $m$ ordered categories:\n",
        "$$\\text{log(cumlulative odds)} = \\text{log}\\left(\\frac{p_{k}^{(cumulative)}}{1-p_{k}^{(cumulative)}}\\right)$$\n",
        "where $p_{k}^{cumulative} = \\sum_{i=1}^k p_i$ and $i \\in \\{1 \\le 2 \\le ... \\le k \\le ... m\\}$"
      ],
      "metadata": {
        "id": "bwcrwqUZ4YLU"
      }
    },
    {
      "cell_type": "code",
      "source": [
        "ones <- 12\n",
        "twos <- 36\n",
        "threes <- 7\n",
        "fours <- 41\n",
        "\n",
        "scores <- 1:4\n",
        "(score_counts <- c(ones, twos, threes, fours))\n",
        "(probs <- score_counts / sum(score_counts))\n",
        "(cumulative_probs <- cumsum(probs))\n",
        "(odds <- cumulative_probs / (1-cumulative_probs))\n",
        "(log_odds <- log(odds))"
      ],
      "metadata": {
        "colab": {
          "base_uri": "https://localhost:8080/",
          "height": 104
        },
        "id": "90w4wlwA4jzW",
        "outputId": "78eb2dc8-b0cd-416a-cd49-ae79738999c8"
      },
      "execution_count": null,
      "outputs": [
        {
          "output_type": "display_data",
          "data": {
            "text/html": [
              "<style>\n",
              ".list-inline {list-style: none; margin:0; padding: 0}\n",
              ".list-inline>li {display: inline-block}\n",
              ".list-inline>li:not(:last-child)::after {content: \"\\00b7\"; padding: 0 .5ex}\n",
              "</style>\n",
              "<ol class=list-inline><li>12</li><li>36</li><li>7</li><li>41</li></ol>\n"
            ],
            "text/markdown": "1. 12\n2. 36\n3. 7\n4. 41\n\n\n",
            "text/latex": "\\begin{enumerate*}\n\\item 12\n\\item 36\n\\item 7\n\\item 41\n\\end{enumerate*}\n",
            "text/plain": [
              "[1] 12 36  7 41"
            ]
          },
          "metadata": {}
        },
        {
          "output_type": "display_data",
          "data": {
            "text/html": [
              "<style>\n",
              ".list-inline {list-style: none; margin:0; padding: 0}\n",
              ".list-inline>li {display: inline-block}\n",
              ".list-inline>li:not(:last-child)::after {content: \"\\00b7\"; padding: 0 .5ex}\n",
              "</style>\n",
              "<ol class=list-inline><li>0.125</li><li>0.375</li><li>0.0729166666666667</li><li>0.427083333333333</li></ol>\n"
            ],
            "text/markdown": "1. 0.125\n2. 0.375\n3. 0.0729166666666667\n4. 0.427083333333333\n\n\n",
            "text/latex": "\\begin{enumerate*}\n\\item 0.125\n\\item 0.375\n\\item 0.0729166666666667\n\\item 0.427083333333333\n\\end{enumerate*}\n",
            "text/plain": [
              "[1] 0.12500000 0.37500000 0.07291667 0.42708333"
            ]
          },
          "metadata": {}
        },
        {
          "output_type": "display_data",
          "data": {
            "text/html": [
              "<style>\n",
              ".list-inline {list-style: none; margin:0; padding: 0}\n",
              ".list-inline>li {display: inline-block}\n",
              ".list-inline>li:not(:last-child)::after {content: \"\\00b7\"; padding: 0 .5ex}\n",
              "</style>\n",
              "<ol class=list-inline><li>0.125</li><li>0.5</li><li>0.572916666666667</li><li>1</li></ol>\n"
            ],
            "text/markdown": "1. 0.125\n2. 0.5\n3. 0.572916666666667\n4. 1\n\n\n",
            "text/latex": "\\begin{enumerate*}\n\\item 0.125\n\\item 0.5\n\\item 0.572916666666667\n\\item 1\n\\end{enumerate*}\n",
            "text/plain": [
              "[1] 0.1250000 0.5000000 0.5729167 1.0000000"
            ]
          },
          "metadata": {}
        },
        {
          "output_type": "display_data",
          "data": {
            "text/html": [
              "<style>\n",
              ".list-inline {list-style: none; margin:0; padding: 0}\n",
              ".list-inline>li {display: inline-block}\n",
              ".list-inline>li:not(:last-child)::after {content: \"\\00b7\"; padding: 0 .5ex}\n",
              "</style>\n",
              "<ol class=list-inline><li>0.142857142857143</li><li>1</li><li>1.34146341463415</li><li>Inf</li></ol>\n"
            ],
            "text/markdown": "1. 0.142857142857143\n2. 1\n3. 1.34146341463415\n4. Inf\n\n\n",
            "text/latex": "\\begin{enumerate*}\n\\item 0.142857142857143\n\\item 1\n\\item 1.34146341463415\n\\item Inf\n\\end{enumerate*}\n",
            "text/plain": [
              "[1] 0.1428571 1.0000000 1.3414634       Inf"
            ]
          },
          "metadata": {}
        },
        {
          "output_type": "display_data",
          "data": {
            "text/html": [
              "<style>\n",
              ".list-inline {list-style: none; margin:0; padding: 0}\n",
              ".list-inline>li {display: inline-block}\n",
              ".list-inline>li:not(:last-child)::after {content: \"\\00b7\"; padding: 0 .5ex}\n",
              "</style>\n",
              "<ol class=list-inline><li>-1.94591014905531</li><li>0</li><li>0.293761118528163</li><li>Inf</li></ol>\n"
            ],
            "text/markdown": "1. -1.94591014905531\n2. 0\n3. 0.293761118528163\n4. Inf\n\n\n",
            "text/latex": "\\begin{enumerate*}\n\\item -1.94591014905531\n\\item 0\n\\item 0.293761118528163\n\\item Inf\n\\end{enumerate*}\n",
            "text/plain": [
              "[1] -1.9459101  0.0000000  0.2937611        Inf"
            ]
          },
          "metadata": {}
        }
      ]
    },
    {
      "cell_type": "markdown",
      "source": [
        "### 12M2\n",
        "\n",
        "Make a version of Figure 12.5 for the employee ratings data given just above.\n",
        "\n",
        "#### Answer"
      ],
      "metadata": {
        "id": "bRCF5eRd8gPw"
      }
    },
    {
      "cell_type": "code",
      "source": [
        "plot(cumulative_probs ~ scores, xaxt=\"n\"); axis(1, at=scores, labels=scores)\n",
        "lines(c(1,1), c(0,cumulative_probs[1])); lines(c(1.05,1.05), c(cumulative_probs[1]-probs[1], cumulative_probs[1]), col=\"blue\")\n",
        "lines(c(2,2), c(0,cumulative_probs[2])); lines(c(2.05,2.05), c(cumulative_probs[2]-probs[2], cumulative_probs[2]), col=\"blue\")\n",
        "lines(c(3,3), c(0,cumulative_probs[3])); lines(c(3.05,3.05), c(cumulative_probs[3]-probs[3], cumulative_probs[3]), col=\"blue\")\n",
        "lines(c(4,4), c(0,cumulative_probs[4])); lines(c(4.05,4.05), c(cumulative_probs[4]-probs[4], cumulative_probs[4]), col=\"blue\")"
      ],
      "metadata": {
        "colab": {
          "base_uri": "https://localhost:8080/",
          "height": 437
        },
        "id": "WymP8mur814L",
        "outputId": "14f6d914-9bab-4408-aa79-c276dabd5690"
      },
      "execution_count": null,
      "outputs": [
        {
          "output_type": "display_data",
          "data": {
            "text/plain": [
              "plot without title"
            ],
            "image/png": "[encoded data removed]"
          },
          "metadata": {
            "image/png": {
              "width": 420,
              "height": 420
            }
          }
        }
      ]
    },
    {
      "cell_type": "markdown",
      "source": [
        "I think we can do this a little more skilfully."
      ],
      "metadata": {
        "id": "5TltGIWFDPU1"
      }
    },
    {
      "cell_type": "code",
      "source": [
        "plot(cumulative_probs ~ scores, xaxt=\"n\"); axis(1, at=scores, labels=scores)\n",
        "for(i in 1:4){\n",
        "  lines(c(i,i), c(0, cumulative_probs[i]))\n",
        "  lines(c(i+0.05, i+0.05), c(cumulative_probs[i] - probs[i], cumulative_probs[i]), col=\"blue\")\n",
        "}"
      ],
      "metadata": {
        "colab": {
          "base_uri": "https://localhost:8080/",
          "height": 437
        },
        "id": "1RtQiRKGBfp9",
        "outputId": "767e59a4-8efa-47b9-b602-0fbffeec38af"
      },
      "execution_count": null,
      "outputs": [
        {
          "output_type": "display_data",
          "data": {
            "text/plain": [
              "plot without title"
            ],
            "image/png": "[encoded data removed]"
          },
          "metadata": {
            "image/png": {
              "width": 420,
              "height": 420
            }
          }
        }
      ]
    },
    {
      "cell_type": "markdown",
      "source": [
        "### 12M3\n",
        "\n",
        "Can you modify the derivation of the zero-inflated Poisson distribution (ZIPoisson) from the chapter to construct a zero-inflated binomial distribution?\n",
        "\n",
        "#### Answer\n",
        "If you recall from the chapter, the ZIP distribution was conceptualized a dual process wherein $y=0$ could happen in two ways: deterministically (if monks took the day off to drink) and probabilistically (the monks work but produce no manuscripts); which process actually happened was the result of a Bernoulli random variable.  Since there were more ways for $y=0$ to happen than any other value, the distribution tends to have more 0's than we'd expect from the probabilistic process.\n",
        "\n",
        "![image.png](data:image/png;base64,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)\n",
        "\n",
        "We could formalize this into a proper probability distribution like:\n",
        "\n",
        "$$Pr(y=0|p, \\lambda) = p + (1-p)e^{-\\lambda} \\ \\text{(where } e^{-\\lambda} \\ \\text{is the probability of a Poisson distribution yielding } 0)$$\n",
        "$$Pr(y|y>0, p, \\lambda) = (1-p) \\frac{e^{-\\lambda} \\lambda^y}{y!} \\ \\text{(where } \\frac{e^{-\\lambda} \\lambda^y}{y!} \\ \\text{is the probability of a Poisson distribution yielding } y)$$\n",
        "\n",
        "So to convert this to a zero-inflated binomial distribution, we need to replace the Poisson parts above with binomial parts.\n",
        "\n",
        "> (Recall that the binomial distribution looks like $\\frac{n!}{y!(n-y)!}q^y(1-q)^{n-y}$, where $q$ is the probability of success in the binomial process, and $n$ is the number of trials.)\n",
        "\n",
        "$$Pr(y=0|p, n, q) = p + (1-p)(1-q)^n$$\n",
        "$$Pr(y|y>0, p, n, q) = (1-p) \\frac{n!}{y!(n-y)!} q^y (1-q)^{n-y}$$\n",
        "\n"
      ],
      "metadata": {
        "id": "ov63PKwafe8F"
      }
    },
    {
      "cell_type": "markdown",
      "source": [
        "## Hard"
      ],
      "metadata": {
        "id": "dwZImQnEwkQe"
      }
    },
    {
      "cell_type": "markdown",
      "source": [
        "### 12H1\n",
        "\n",
        "In 2014, a paper was published that was entitled “Female hurricanes are deadlier than male  hurricanes.” As the title suggests, the paper claimed that hurricanes with female names have caused  greater loss of life, and the explanation given is that people unconsciously rate female hurricanes as less dangerous and so are less likely to evacuate. Statisticians severely criticized the paper after  publication. Here, you’ll explore the complete data used in the paper and consider the hypothesis  that hurricanes with female names are deadlier. Load the data with:\n",
        "\n",
        "```\n",
        "library(rethinking)\n",
        "data(Hurricanes)\n",
        "```\n",
        "\n",
        "Acquaint yourself with the columns by inspecting the help `?Hurricanes`. In this problem, you’ll focus on predicting deaths using `femininity` of each hurricane’s name. Fit and interpret the simplest possible model, a Poisson model of `deaths` using `femininity` as a predictor. You can use `quap` or `ulam`. Compare the model to an intercept-only Poisson model of deaths. How strong is the association between `femininity` of name and `deaths`? Which storms does the model fit (retrodict) well?  Which storms does it fit poorly?\n",
        "\n",
        "#### Answer\n",
        "Let's, as the question suggests, get familiar with the dataset `Hurricanes`."
      ],
      "metadata": {
        "id": "ggzUd430wqhl"
      }
    },
    {
      "cell_type": "code",
      "source": [
        "data(Hurricanes)\n",
        "?Hurricanes\n",
        "\n",
        "d <- Hurricanes\n",
        "head(d)"
      ],
      "metadata": {
        "colab": {
          "base_uri": "https://localhost:8080/",
          "height": 286
        },
        "id": "g9l2z9kIxhbQ",
        "outputId": "aaa857dc-ddc9-4695-dd44-42f34eb351ce"
      },
      "execution_count": null,
      "outputs": [
        {
          "output_type": "display_data",
          "data": {
            "text/html": [
              "<table class=\"dataframe\">\n",
              "<caption>A data.frame: 6 × 8</caption>\n",
              "<thead>\n",
              "\t<tr><th></th><th scope=col>name</th><th scope=col>year</th><th scope=col>deaths</th><th scope=col>category</th><th scope=col>min_pressure</th><th scope=col>damage_norm</th><th scope=col>female</th><th scope=col>femininity</th></tr>\n",
              "\t<tr><th></th><th scope=col>&lt;fct&gt;</th><th scope=col>&lt;int&gt;</th><th scope=col>&lt;int&gt;</th><th scope=col>&lt;int&gt;</th><th scope=col>&lt;int&gt;</th><th scope=col>&lt;int&gt;</th><th scope=col>&lt;int&gt;</th><th scope=col>&lt;dbl&gt;</th></tr>\n",
              "</thead>\n",
              "<tbody>\n",
              "\t<tr><th scope=row>1</th><td>Easy    </td><td>1950</td><td> 2</td><td>3</td><td>960</td><td> 1590</td><td>1</td><td>6.77778</td></tr>\n",
              "\t<tr><th scope=row>2</th><td>King    </td><td>1950</td><td> 4</td><td>3</td><td>955</td><td> 5350</td><td>0</td><td>1.38889</td></tr>\n",
              "\t<tr><th scope=row>3</th><td>Able    </td><td>1952</td><td> 3</td><td>1</td><td>985</td><td>  150</td><td>0</td><td>3.83333</td></tr>\n",
              "\t<tr><th scope=row>4</th><td>Barbara </td><td>1953</td><td> 1</td><td>1</td><td>987</td><td>   58</td><td>1</td><td>9.83333</td></tr>\n",
              "\t<tr><th scope=row>5</th><td>Florence</td><td>1953</td><td> 0</td><td>1</td><td>985</td><td>   15</td><td>1</td><td>8.33333</td></tr>\n",
              "\t<tr><th scope=row>6</th><td>Carol   </td><td>1954</td><td>60</td><td>3</td><td>960</td><td>19321</td><td>1</td><td>8.11111</td></tr>\n",
              "</tbody>\n",
              "</table>\n"
            ],
            "text/markdown": "\nA data.frame: 6 × 8\n\n| <!--/--> | name &lt;fct&gt; | year &lt;int&gt; | deaths &lt;int&gt; | category &lt;int&gt; | min_pressure &lt;int&gt; | damage_norm &lt;int&gt; | female &lt;int&gt; | femininity &lt;dbl&gt; |\n|---|---|---|---|---|---|---|---|---|\n| 1 | Easy     | 1950 |  2 | 3 | 960 |  1590 | 1 | 6.77778 |\n| 2 | King     | 1950 |  4 | 3 | 955 |  5350 | 0 | 1.38889 |\n| 3 | Able     | 1952 |  3 | 1 | 985 |   150 | 0 | 3.83333 |\n| 4 | Barbara  | 1953 |  1 | 1 | 987 |    58 | 1 | 9.83333 |\n| 5 | Florence | 1953 |  0 | 1 | 985 |    15 | 1 | 8.33333 |\n| 6 | Carol    | 1954 | 60 | 3 | 960 | 19321 | 1 | 8.11111 |\n\n",
            "text/latex": "A data.frame: 6 × 8\n\\begin{tabular}{r|llllllll}\n  & name & year & deaths & category & min\\_pressure & damage\\_norm & female & femininity\\\\\n  & <fct> & <int> & <int> & <int> & <int> & <int> & <int> & <dbl>\\\\\n\\hline\n\t1 & Easy     & 1950 &  2 & 3 & 960 &  1590 & 1 & 6.77778\\\\\n\t2 & King     & 1950 &  4 & 3 & 955 &  5350 & 0 & 1.38889\\\\\n\t3 & Able     & 1952 &  3 & 1 & 985 &   150 & 0 & 3.83333\\\\\n\t4 & Barbara  & 1953 &  1 & 1 & 987 &    58 & 1 & 9.83333\\\\\n\t5 & Florence & 1953 &  0 & 1 & 985 &    15 & 1 & 8.33333\\\\\n\t6 & Carol    & 1954 & 60 & 3 & 960 & 19321 & 1 & 8.11111\\\\\n\\end{tabular}\n",
            "text/plain": [
              "  name     year deaths category min_pressure damage_norm female femininity\n",
              "1 Easy     1950  2     3        960           1590       1      6.77778   \n",
              "2 King     1950  4     3        955           5350       0      1.38889   \n",
              "3 Able     1952  3     1        985            150       0      3.83333   \n",
              "4 Barbara  1953  1     1        987             58       1      9.83333   \n",
              "5 Florence 1953  0     1        985             15       1      8.33333   \n",
              "6 Carol    1954 60     3        960          19321       1      8.11111   "
            ]
          },
          "metadata": {}
        }
      ]
    },
    {
      "cell_type": "markdown",
      "source": [
        "I'm a little lost about `femininity`: I'm not sure that it is *really* a numerical variable; is the difference between `femininity==2` and `feminity==1` the same as the difference between `femininity==11` and `feminity==10`? On the other hand, `femininity` is actually the average of scores; by the law of large numbers, this should approach a normal distribution.  So I'm going to assume we can treat it as a proper numerical variable.\n",
        "\n",
        "Next, let's fit our models.  I'll start with the *intercept-only* model and then the *femininity* model."
      ],
      "metadata": {
        "id": "W9i23qYC0MOr"
      }
    },
    {
      "cell_type": "code",
      "source": [
        "dlist <- list(D = d$deaths,\n",
        "              F = d$femininity)\n",
        "\n",
        "m0 <- ulam(\n",
        "  alist(\n",
        "    D ~ dpois(lambda),\n",
        "      log(lambda) <- a,\n",
        "        a ~ dnorm(0,1)\n",
        "), data=dlist,\n",
        "   chains=4,\n",
        "   cores=4,\n",
        "   iter=1000,\n",
        "   log_lik=TRUE)\n",
        "\n",
        "mF <- ulam(\n",
        "  alist(\n",
        "    D ~ dpois(lambda),\n",
        "      log(lambda) <- a + bF*F,\n",
        "        a ~ dnorm(0,1),\n",
        "        bF ~ dnorm(0,1)\n",
        "), data=dlist,\n",
        "   chains=4,\n",
        "   cores=4,\n",
        "   iter=1000,\n",
        "   log_lik=TRUE)"
      ],
      "metadata": {
        "colab": {
          "base_uri": "https://localhost:8080/"
        },
        "id": "-c23p_2P3YU2",
        "outputId": "3e7f7a2d-131f-4f47-d76d-472524822a00"
      },
      "execution_count": null,
      "outputs": [
        {
          "output_type": "stream",
          "name": "stdout",
          "text": [
            "Running MCMC with 4 parallel chains, with 1 thread(s) per chain...\n",
            "\n",
            "Chain 1 Iteration:   1 / 1000 [  0%]  (Warmup) \n",
            "Chain 1 Iteration: 100 / 1000 [ 10%]  (Warmup) \n",
            "Chain 1 Iteration: 200 / 1000 [ 20%]  (Warmup) \n",
            "Chain 1 Iteration: 300 / 1000 [ 30%]  (Warmup) \n",
            "Chain 1 Iteration: 400 / 1000 [ 40%]  (Warmup) \n",
            "Chain 1 Iteration: 500 / 1000 [ 50%]  (Warmup) \n",
            "Chain 1 Iteration: 501 / 1000 [ 50%]  (Sampling) \n",
            "Chain 1 Iteration: 600 / 1000 [ 60%]  (Sampling) \n",
            "Chain 1 Iteration: 700 / 1000 [ 70%]  (Sampling) \n",
            "Chain 2 Iteration:   1 / 1000 [  0%]  (Warmup) \n",
            "Chain 2 Iteration: 100 / 1000 [ 10%]  (Warmup) \n",
            "Chain 2 Iteration: 200 / 1000 [ 20%]  (Warmup) \n",
            "Chain 2 Iteration: 300 / 1000 [ 30%]  (Warmup) \n",
            "Chain 2 Iteration: 400 / 1000 [ 40%]  (Warmup) \n",
            "Chain 2 Iteration: 500 / 1000 [ 50%]  (Warmup) \n",
            "Chain 2 Iteration: 501 / 1000 [ 50%]  (Sampling) \n",
            "Chain 2 Iteration: 600 / 1000 [ 60%]  (Sampling) \n",
            "Chain 3 Iteration:   1 / 1000 [  0%]  (Warmup) \n",
            "Chain 3 Iteration: 100 / 1000 [ 10%]  (Warmup) \n",
            "Chain 3 Iteration: 200 / 1000 [ 20%]  (Warmup) \n",
            "Chain 3 Iteration: 300 / 1000 [ 30%]  (Warmup) \n",
            "Chain 3 Iteration: 400 / 1000 [ 40%]  (Warmup) \n",
            "Chain 3 Iteration: 500 / 1000 [ 50%]  (Warmup) \n",
            "Chain 3 Iteration: 501 / 1000 [ 50%]  (Sampling) \n",
            "Chain 4 Iteration:   1 / 1000 [  0%]  (Warmup) \n",
            "Chain 4 Iteration: 100 / 1000 [ 10%]  (Warmup) \n",
            "Chain 4 Iteration: 200 / 1000 [ 20%]  (Warmup) \n",
            "Chain 4 Iteration: 300 / 1000 [ 30%]  (Warmup) \n",
            "Chain 1 Iteration: 800 / 1000 [ 80%]  (Sampling) \n",
            "Chain 1 Iteration: 900 / 1000 [ 90%]  (Sampling) \n",
            "Chain 1 Iteration: 1000 / 1000 [100%]  (Sampling) \n",
            "Chain 1 finished in 0.4 seconds.\n",
            "Chain 2 Iteration: 700 / 1000 [ 70%]  (Sampling) \n",
            "Chain 2 Iteration: 800 / 1000 [ 80%]  (Sampling) \n",
            "Chain 2 Iteration: 900 / 1000 [ 90%]  (Sampling) \n",
            "Chain 2 Iteration: 1000 / 1000 [100%]  (Sampling) \n",
            "Chain 3 Iteration: 600 / 1000 [ 60%]  (Sampling) \n",
            "Chain 3 Iteration: 700 / 1000 [ 70%]  (Sampling) \n",
            "Chain 3 Iteration: 800 / 1000 [ 80%]  (Sampling) \n",
            "Chain 3 Iteration: 900 / 1000 [ 90%]  (Sampling) \n",
            "Chain 4 Iteration: 400 / 1000 [ 40%]  (Warmup) \n",
            "Chain 4 Iteration: 500 / 1000 [ 50%]  (Warmup) \n",
            "Chain 4 Iteration: 501 / 1000 [ 50%]  (Sampling) \n",
            "Chain 4 Iteration: 600 / 1000 [ 60%]  (Sampling) \n",
            "Chain 4 Iteration: 700 / 1000 [ 70%]  (Sampling) \n",
            "Chain 4 Iteration: 800 / 1000 [ 80%]  (Sampling) \n",
            "Chain 4 Iteration: 900 / 1000 [ 90%]  (Sampling) \n",
            "Chain 2 finished in 0.4 seconds.\n",
            "Chain 4 Iteration: 1000 / 1000 [100%]  (Sampling) \n",
            "Chain 4 finished in 0.4 seconds.\n",
            "Chain 3 Iteration: 1000 / 1000 [100%]  (Sampling) \n",
            "Chain 3 finished in 0.5 seconds.\n",
            "\n",
            "All 4 chains finished successfully.\n",
            "Mean chain execution time: 0.4 seconds.\n",
            "Total execution time: 0.8 seconds.\n",
            "\n",
            "Running MCMC with 4 parallel chains, with 1 thread(s) per chain...\n",
            "\n",
            "Chain 1 Iteration:   1 / 1000 [  0%]  (Warmup) \n",
            "Chain 1 Iteration: 100 / 1000 [ 10%]  (Warmup) \n",
            "Chain 1 Iteration: 200 / 1000 [ 20%]  (Warmup) \n",
            "Chain 1 Iteration: 300 / 1000 [ 30%]  (Warmup) \n",
            "Chain 1 Iteration: 400 / 1000 [ 40%]  (Warmup) \n",
            "Chain 2 Iteration:   1 / 1000 [  0%]  (Warmup) \n",
            "Chain 2 Iteration: 100 / 1000 [ 10%]  (Warmup) \n",
            "Chain 2 Iteration: 200 / 1000 [ 20%]  (Warmup) \n",
            "Chain 2 Iteration: 300 / 1000 [ 30%]  (Warmup) \n",
            "Chain 3 Iteration:   1 / 1000 [  0%]  (Warmup) \n",
            "Chain 3 Iteration: 100 / 1000 [ 10%]  (Warmup) \n",
            "Chain 3 Iteration: 200 / 1000 [ 20%]  (Warmup) \n",
            "Chain 3 Iteration: 300 / 1000 [ 30%]  (Warmup) \n",
            "Chain 4 Iteration:   1 / 1000 [  0%]  (Warmup) \n",
            "Chain 4 Iteration: 100 / 1000 [ 10%]  (Warmup) \n",
            "Chain 4 Iteration: 200 / 1000 [ 20%]  (Warmup) \n",
            "Chain 1 Iteration: 500 / 1000 [ 50%]  (Warmup) \n",
            "Chain 1 Iteration: 501 / 1000 [ 50%]  (Sampling) \n",
            "Chain 1 Iteration: 600 / 1000 [ 60%]  (Sampling) \n",
            "Chain 1 Iteration: 700 / 1000 [ 70%]  (Sampling) \n",
            "Chain 1 Iteration: 800 / 1000 [ 80%]  (Sampling) \n",
            "Chain 2 Iteration: 400 / 1000 [ 40%]  (Warmup) \n",
            "Chain 2 Iteration: 500 / 1000 [ 50%]  (Warmup) \n",
            "Chain 2 Iteration: 501 / 1000 [ 50%]  (Sampling) \n",
            "Chain 2 Iteration: 600 / 1000 [ 60%]  (Sampling) \n",
            "Chain 3 Iteration: 400 / 1000 [ 40%]  (Warmup) \n",
            "Chain 3 Iteration: 500 / 1000 [ 50%]  (Warmup) \n",
            "Chain 3 Iteration: 501 / 1000 [ 50%]  (Sampling) \n",
            "Chain 4 Iteration: 300 / 1000 [ 30%]  (Warmup) \n",
            "Chain 4 Iteration: 400 / 1000 [ 40%]  (Warmup) \n",
            "Chain 1 Iteration: 900 / 1000 [ 90%]  (Sampling) \n",
            "Chain 2 Iteration: 700 / 1000 [ 70%]  (Sampling) \n",
            "Chain 2 Iteration: 800 / 1000 [ 80%]  (Sampling) \n",
            "Chain 3 Iteration: 600 / 1000 [ 60%]  (Sampling) \n",
            "Chain 4 Iteration: 500 / 1000 [ 50%]  (Warmup) \n",
            "Chain 4 Iteration: 501 / 1000 [ 50%]  (Sampling) \n",
            "Chain 4 Iteration: 600 / 1000 [ 60%]  (Sampling) \n",
            "Chain 1 Iteration: 1000 / 1000 [100%]  (Sampling) \n",
            "Chain 2 Iteration: 900 / 1000 [ 90%]  (Sampling) \n",
            "Chain 2 Iteration: 1000 / 1000 [100%]  (Sampling) \n",
            "Chain 3 Iteration: 700 / 1000 [ 70%]  (Sampling) \n",
            "Chain 3 Iteration: 800 / 1000 [ 80%]  (Sampling) \n",
            "Chain 3 Iteration: 900 / 1000 [ 90%]  (Sampling) \n",
            "Chain 4 Iteration: 700 / 1000 [ 70%]  (Sampling) \n",
            "Chain 1 finished in 0.6 seconds.\n",
            "Chain 2 finished in 0.7 seconds.\n",
            "Chain 3 Iteration: 1000 / 1000 [100%]  (Sampling) \n",
            "Chain 4 Iteration: 800 / 1000 [ 80%]  (Sampling) \n",
            "Chain 4 Iteration: 900 / 1000 [ 90%]  (Sampling) \n",
            "Chain 4 Iteration: 1000 / 1000 [100%]  (Sampling) \n",
            "Chain 3 finished in 0.7 seconds.\n",
            "Chain 4 finished in 0.6 seconds.\n",
            "\n",
            "All 4 chains finished successfully.\n",
            "Mean chain execution time: 0.7 seconds.\n",
            "Total execution time: 0.9 seconds.\n",
            "\n"
          ]
        }
      ]
    },
    {
      "cell_type": "markdown",
      "source": [
        "So what is the apparent relationship between `femininity` and `deaths`?  We find this in the `precis` output from `mF`."
      ],
      "metadata": {
        "id": "v1F0C6Ah4dxl"
      }
    },
    {
      "cell_type": "code",
      "source": [
        "precis(m0)\n",
        "precis(mF)"
      ],
      "metadata": {
        "colab": {
          "base_uri": "https://localhost:8080/",
          "height": 273
        },
        "id": "r_YhCFyo4b2J",
        "outputId": "49e2fcd6-a296-47f1-ede0-45f589b02a03"
      },
      "execution_count": null,
      "outputs": [
        {
          "output_type": "display_data",
          "data": {
            "text/html": [
              "<table class=\"dataframe\">\n",
              "<caption>A precis: 1 × 6</caption>\n",
              "<thead>\n",
              "\t<tr><th></th><th scope=col>mean</th><th scope=col>sd</th><th scope=col>5.5%</th><th scope=col>94.5%</th><th scope=col>rhat</th><th scope=col>ess_bulk</th></tr>\n",
              "\t<tr><th></th><th scope=col>&lt;dbl&gt;</th><th scope=col>&lt;dbl&gt;</th><th scope=col>&lt;dbl&gt;</th><th scope=col>&lt;dbl&gt;</th><th scope=col>&lt;dbl&gt;</th><th scope=col>&lt;dbl&gt;</th></tr>\n",
              "</thead>\n",
              "<tbody>\n",
              "\t<tr><th scope=row>a</th><td>3.025786</td><td>0.02301712</td><td>2.987991</td><td>3.061685</td><td>1.00861</td><td>625.6575</td></tr>\n",
              "</tbody>\n",
              "</table>\n"
            ],
            "text/markdown": "\nA precis: 1 × 6\n\n| <!--/--> | mean &lt;dbl&gt; | sd &lt;dbl&gt; | 5.5% &lt;dbl&gt; | 94.5% &lt;dbl&gt; | rhat &lt;dbl&gt; | ess_bulk &lt;dbl&gt; |\n|---|---|---|---|---|---|---|\n| a | 3.025786 | 0.02301712 | 2.987991 | 3.061685 | 1.00861 | 625.6575 |\n\n",
            "text/latex": "A precis: 1 × 6\n\\begin{tabular}{r|llllll}\n  & mean & sd & 5.5\\% & 94.5\\% & rhat & ess\\_bulk\\\\\n  & <dbl> & <dbl> & <dbl> & <dbl> & <dbl> & <dbl>\\\\\n\\hline\n\ta & 3.025786 & 0.02301712 & 2.987991 & 3.061685 & 1.00861 & 625.6575\\\\\n\\end{tabular}\n",
            "text/plain": [
              "  mean     sd         5.5%     94.5%    rhat    ess_bulk\n",
              "a 3.025786 0.02301712 2.987991 3.061685 1.00861 625.6575"
            ]
          },
          "metadata": {}
        },
        {
          "output_type": "display_data",
          "data": {
            "text/html": [
              "<table class=\"dataframe\">\n",
              "<caption>A precis: 2 × 6</caption>\n",
              "<thead>\n",
              "\t<tr><th></th><th scope=col>mean</th><th scope=col>sd</th><th scope=col>5.5%</th><th scope=col>94.5%</th><th scope=col>rhat</th><th scope=col>ess_bulk</th></tr>\n",
              "\t<tr><th></th><th scope=col>&lt;dbl&gt;</th><th scope=col>&lt;dbl&gt;</th><th scope=col>&lt;dbl&gt;</th><th scope=col>&lt;dbl&gt;</th><th scope=col>&lt;dbl&gt;</th><th scope=col>&lt;dbl&gt;</th></tr>\n",
              "</thead>\n",
              "<tbody>\n",
              "\t<tr><th scope=row>a</th><td>2.4901390</td><td>0.062272053</td><td>2.38255855</td><td>2.58652245</td><td>1.004927</td><td>427.9940</td></tr>\n",
              "\t<tr><th scope=row>bF</th><td>0.0748849</td><td>0.007732773</td><td>0.06258252</td><td>0.08730912</td><td>1.004293</td><td>463.4211</td></tr>\n",
              "</tbody>\n",
              "</table>\n"
            ],
            "text/markdown": "\nA precis: 2 × 6\n\n| <!--/--> | mean &lt;dbl&gt; | sd &lt;dbl&gt; | 5.5% &lt;dbl&gt; | 94.5% &lt;dbl&gt; | rhat &lt;dbl&gt; | ess_bulk &lt;dbl&gt; |\n|---|---|---|---|---|---|---|\n| a | 2.4901390 | 0.062272053 | 2.38255855 | 2.58652245 | 1.004927 | 427.9940 |\n| bF | 0.0748849 | 0.007732773 | 0.06258252 | 0.08730912 | 1.004293 | 463.4211 |\n\n",
            "text/latex": "A precis: 2 × 6\n\\begin{tabular}{r|llllll}\n  & mean & sd & 5.5\\% & 94.5\\% & rhat & ess\\_bulk\\\\\n  & <dbl> & <dbl> & <dbl> & <dbl> & <dbl> & <dbl>\\\\\n\\hline\n\ta & 2.4901390 & 0.062272053 & 2.38255855 & 2.58652245 & 1.004927 & 427.9940\\\\\n\tbF & 0.0748849 & 0.007732773 & 0.06258252 & 0.08730912 & 1.004293 & 463.4211\\\\\n\\end{tabular}\n",
            "text/plain": [
              "   mean      sd          5.5%       94.5%      rhat     ess_bulk\n",
              "a  2.4901390 0.062272053 2.38255855 2.58652245 1.004927 427.9940\n",
              "bF 0.0748849 0.007732773 0.06258252 0.08730912 1.004293 463.4211"
            ]
          },
          "metadata": {}
        }
      ]
    },
    {
      "cell_type": "markdown",
      "source": [
        "There is, apparently, so weak-but-positive relationship.\n",
        "\n",
        "Now we're supposed to say which hurricanes are well-/poorly- fit by the models.  As a first pass, let's use `postcheck`."
      ],
      "metadata": {
        "id": "KdFT1CAX4tqU"
      }
    },
    {
      "cell_type": "code",
      "source": [
        "postcheck(mF, window=nrow(d))"
      ],
      "metadata": {
        "colab": {
          "base_uri": "https://localhost:8080/",
          "height": 437
        },
        "id": "fjimQNTW7Tqp",
        "outputId": "439a7c77-af7f-4547-c60e-3a1262078806"
      },
      "execution_count": null,
      "outputs": [
        {
          "output_type": "display_data",
          "data": {
            "text/plain": [
              "plot without title"
            ],
            "image/png": "[encoded data removed]"
          },
          "metadata": {
            "image/png": {
              "width": 420,
              "height": 420
            }
          }
        }
      ]
    },
    {
      "cell_type": "markdown",
      "source": [
        "That's pretty abysmal.  But let's see how these fit map to `femininity`."
      ],
      "metadata": {
        "id": "YsK82Zqv-Frk"
      }
    },
    {
      "cell_type": "code",
      "source": [
        "post <- extract.samples(mF)\n",
        "\n",
        "F_seq <- seq(from=1, to=11, by=1)\n",
        "\n",
        "post$mean_deaths <- matrix(data=NA,\n",
        "                           nrow=length(post$bF),\n",
        "                           ncol=length(F_seq))\n",
        "                           for(c in 1:ncol(post$mean_deaths)){\n",
        "                             post$mean_deaths[,c] <- exp(post$a + post$bF*F_seq[c])\n",
        "                           }\n",
        "mean_deaths.mu <- apply(post$mean_deaths, 2, mean)\n",
        "mean_deaths.PI <- apply(post$mean_deaths, 2, PI)\n",
        "\n",
        "post$sim_deaths <- matrix(data=NA,\n",
        "                          nrow=1000,\n",
        "                          ncol=length(F_seq))\n",
        "                          for(c in 1:ncol(post$sim_deaths)){\n",
        "                            post$sim_deaths[,c] <- rpois(n=nrow(post$sim_deaths),\n",
        "                                                         exp(lambda=post$a + post$bF*F_seq[c]))\n",
        "                          }\n",
        "sim_deaths.mu <- apply(post$sim_deaths, 2, mean)\n",
        "sim_deaths.PI <- apply(post$sim_deaths, 2, PI)\n",
        "\n",
        "plot(d$deaths ~ d$femininity)\n",
        "lines(mean_deaths.mu ~ F_seq)\n",
        "lines(mean_deaths.PI[1,] ~ F_seq, lty=2)\n",
        "lines(mean_deaths.PI[2,] ~ F_seq, lty=2)\n",
        "lines(sim_deaths.PI[1,] ~ F_seq, lty=3)\n",
        "lines(sim_deaths.PI[2,] ~ F_seq, lty=3)"
      ],
      "metadata": {
        "colab": {
          "base_uri": "https://localhost:8080/",
          "height": 437
        },
        "id": "9jL_TAsy-TEb",
        "outputId": "5e6a381d-a3d9-4a3b-ee24-098816cc9e2d"
      },
      "execution_count": null,
      "outputs": [
        {
          "output_type": "display_data",
          "data": {
            "text/plain": [
              "plot without title"
            ],
            "image/png": "[encoded data removed]"
          },
          "metadata": {
            "image/png": {
              "width": 420,
              "height": 420
            }
          }
        }
      ]
    },
    {
      "cell_type": "markdown",
      "source": [
        "More evidence of a terrible fit.  Finally, let's plot the PSIS k-values; remember that k > 1 is bad."
      ],
      "metadata": {
        "id": "NC_crcScFzF7"
      }
    },
    {
      "cell_type": "code",
      "source": [
        "mF_PSIS <- PSIS(mF, pointwise=TRUE)\n",
        "plot(mF_PSIS$k)\n",
        "abline(h=0.5, col=\"pink\", lty=3, lwd=1)\n",
        "abline(h=1, col=\"red\", lty=2, lwd=2)\n",
        "abline(h=2, col=\"darkred\", lty=1, lwd=3)"
      ],
      "metadata": {
        "colab": {
          "base_uri": "https://localhost:8080/",
          "height": 472
        },
        "id": "_892Mp_kF66k",
        "outputId": "5ce28152-42c5-48bc-869f-e8229a8e6c57"
      },
      "execution_count": null,
      "outputs": [
        {
          "output_type": "stream",
          "name": "stderr",
          "text": [
            "Some Pareto k values are very high (>1). Set pointwise=TRUE to inspect individual points.\n",
            "\n"
          ]
        },
        {
          "output_type": "display_data",
          "data": {
            "text/plain": [
              "plot without title"
            ],
            "image/png": "[encoded data removed]"
          },
          "metadata": {
            "image/png": {
              "width": 420,
              "height": 420
            }
          }
        }
      ]
    },
    {
      "cell_type": "markdown",
      "source": [
        "A great many have terrible k-values."
      ],
      "metadata": {
        "id": "p63hhS2BGvru"
      }
    },
    {
      "cell_type": "markdown",
      "source": [
        "### 12H2\n",
        "\n",
        "Counts are nearly always over-dispersed relative to Poisson. So fit a gamma-Poisson (aka negative-binomial) model to predict deaths using femininity. Show that the over-dispersed model no longer shows as precise a positive association between femininity and deaths, with an 89% interval that overlaps zero. Can you explain why the association diminished in strength?\n",
        "\n",
        "#### Answer"
      ],
      "metadata": {
        "id": "h2c_P0LyU37I"
      }
    },
    {
      "cell_type": "code",
      "source": [
        "data(Hurricanes)\n",
        "d <- Hurricanes\n",
        "\n",
        "dlist <- list(D = d$deaths,\n",
        "              F = d$femininity)\n",
        "\n",
        "mF2 <- ulam(\n",
        "  alist(\n",
        "    D ~ dgampois(lambda, scale),\n",
        "      log(lambda) <- a + bF*F,\n",
        "        a ~ dnorm(0,1),\n",
        "        bF ~ dnorm(0,1),\n",
        "      scale ~ dexp(1)\n",
        "), data=dlist,\n",
        "   chains=4,\n",
        "   cores=4,\n",
        "   iter=1000,\n",
        "   log_lik=TRUE)"
      ],
      "metadata": {
        "colab": {
          "base_uri": "https://localhost:8080/"
        },
        "id": "dg04lUrrguwp",
        "outputId": "0f61d395-4743-4d5e-8bdf-7e96d56e3e74"
      },
      "execution_count": null,
      "outputs": [
        {
          "output_type": "stream",
          "name": "stdout",
          "text": [
            "Running MCMC with 4 parallel chains, with 1 thread(s) per chain...\n",
            "\n",
            "Chain 1 Iteration:   1 / 1000 [  0%]  (Warmup) \n",
            "Chain 1 Iteration: 100 / 1000 [ 10%]  (Warmup) \n",
            "Chain 1 Iteration: 200 / 1000 [ 20%]  (Warmup) \n"
          ]
        },
        {
          "output_type": "stream",
          "name": "stderr",
          "text": [
            "Chain 1 Informational Message: The current Metropolis proposal is about to be rejected because of the following issue:\n",
            "\n",
            "Chain 1 Exception: neg_binomial_2_lpmf: Location parameter[1] is inf, but must be positive finite! (in '/tmp/RtmpfgqXMd/model-1446508fcc5.stan', line 19, column 4 to column 41)\n",
            "\n",
            "Chain 1 If this warning occurs sporadically, such as for highly constrained variable types like covariance matrices, then the sampler is fine,\n",
            "\n",
            "Chain 1 but if this warning occurs often then your model may be either severely ill-conditioned or misspecified.\n",
            "\n",
            "Chain 1 \n",
            "\n",
            "Chain 1 Informational Message: The current Metropolis proposal is about to be rejected because of the following issue:\n",
            "\n",
            "Chain 1 Exception: neg_binomial_2_lpmf: Location parameter[1] is inf, but must be positive finite! (in '/tmp/RtmpfgqXMd/model-1446508fcc5.stan', line 19, column 4 to column 41)\n",
            "\n",
            "Chain 1 If this warning occurs sporadically, such as for highly constrained variable types like covariance matrices, then the sampler is fine,\n",
            "\n",
            "Chain 1 but if this warning occurs often then your model may be either severely ill-conditioned or misspecified.\n",
            "\n",
            "Chain 1 \n",
            "\n",
            "Chain 1 Informational Message: The current Metropolis proposal is about to be rejected because of the following issue:\n",
            "\n",
            "Chain 1 Exception: neg_binomial_2_lpmf: Location parameter[1] is inf, but must be positive finite! (in '/tmp/RtmpfgqXMd/model-1446508fcc5.stan', line 19, column 4 to column 41)\n",
            "\n",
            "Chain 1 If this warning occurs sporadically, such as for highly constrained variable types like covariance matrices, then the sampler is fine,\n",
            "\n",
            "Chain 1 but if this warning occurs often then your model may be either severely ill-conditioned or misspecified.\n",
            "\n",
            "Chain 1 \n",
            "\n",
            "Chain 1 Informational Message: The current Metropolis proposal is about to be rejected because of the following issue:\n",
            "\n",
            "Chain 1 Exception: neg_binomial_2_lpmf: Location parameter[1] is inf, but must be positive finite! (in '/tmp/RtmpfgqXMd/model-1446508fcc5.stan', line 19, column 4 to column 41)\n",
            "\n",
            "Chain 1 If this warning occurs sporadically, such as for highly constrained variable types like covariance matrices, then the sampler is fine,\n",
            "\n",
            "Chain 1 but if this warning occurs often then your model may be either severely ill-conditioned or misspecified.\n",
            "\n",
            "Chain 1 \n",
            "\n",
            "Chain 1 Informational Message: The current Metropolis proposal is about to be rejected because of the following issue:\n",
            "\n",
            "Chain 1 Exception: neg_binomial_2_lpmf: Location parameter[4] is inf, but must be positive finite! (in '/tmp/RtmpfgqXMd/model-1446508fcc5.stan', line 19, column 4 to column 41)\n",
            "\n",
            "Chain 1 If this warning occurs sporadically, such as for highly constrained variable types like covariance matrices, then the sampler is fine,\n",
            "\n",
            "Chain 1 but if this warning occurs often then your model may be either severely ill-conditioned or misspecified.\n",
            "\n",
            "Chain 1 \n",
            "\n",
            "Chain 1 Informational Message: The current Metropolis proposal is about to be rejected because of the following issue:\n",
            "\n",
            "Chain 1 Exception: neg_binomial_2_lpmf: Location parameter[1] is inf, but must be positive finite! (in '/tmp/RtmpfgqXMd/model-1446508fcc5.stan', line 19, column 4 to column 41)\n",
            "\n",
            "Chain 1 If this warning occurs sporadically, such as for highly constrained variable types like covariance matrices, then the sampler is fine,\n",
            "\n",
            "Chain 1 but if this warning occurs often then your model may be either severely ill-conditioned or misspecified.\n",
            "\n",
            "Chain 1 \n",
            "\n",
            "Chain 1 Informational Message: The current Metropolis proposal is about to be rejected because of the following issue:\n",
            "\n",
            "Chain 1 Exception: neg_binomial_2_lpmf: Location parameter[1] is inf, but must be positive finite! (in '/tmp/RtmpfgqXMd/model-1446508fcc5.stan', line 19, column 4 to column 41)\n",
            "\n",
            "Chain 1 If this warning occurs sporadically, such as for highly constrained variable types like covariance matrices, then the sampler is fine,\n",
            "\n",
            "Chain 1 but if this warning occurs often then your model may be either severely ill-conditioned or misspecified.\n",
            "\n",
            "Chain 1 \n",
            "\n"
          ]
        },
        {
          "output_type": "stream",
          "name": "stdout",
          "text": [
            "Chain 2 Iteration:   1 / 1000 [  0%]  (Warmup) \n",
            "Chain 2 Iteration: 100 / 1000 [ 10%]  (Warmup) \n",
            "Chain 2 Iteration: 200 / 1000 [ 20%]  (Warmup) \n",
            "Chain 2 Iteration: 300 / 1000 [ 30%]  (Warmup) \n"
          ]
        },
        {
          "output_type": "stream",
          "name": "stderr",
          "text": [
            "Chain 2 Informational Message: The current Metropolis proposal is about to be rejected because of the following issue:\n",
            "\n",
            "Chain 2 Exception: neg_binomial_2_lpmf: Location parameter[1] is inf, but must be positive finite! (in '/tmp/RtmpfgqXMd/model-1446508fcc5.stan', line 19, column 4 to column 41)\n",
            "\n",
            "Chain 2 If this warning occurs sporadically, such as for highly constrained variable types like covariance matrices, then the sampler is fine,\n",
            "\n",
            "Chain 2 but if this warning occurs often then your model may be either severely ill-conditioned or misspecified.\n",
            "\n",
            "Chain 2 \n",
            "\n",
            "Chain 2 Informational Message: The current Metropolis proposal is about to be rejected because of the following issue:\n",
            "\n",
            "Chain 2 Exception: neg_binomial_2_lpmf: Location parameter[1] is inf, but must be positive finite! (in '/tmp/RtmpfgqXMd/model-1446508fcc5.stan', line 19, column 4 to column 41)\n",
            "\n",
            "Chain 2 If this warning occurs sporadically, such as for highly constrained variable types like covariance matrices, then the sampler is fine,\n",
            "\n",
            "Chain 2 but if this warning occurs often then your model may be either severely ill-conditioned or misspecified.\n",
            "\n",
            "Chain 2 \n",
            "\n",
            "Chain 2 Informational Message: The current Metropolis proposal is about to be rejected because of the following issue:\n",
            "\n",
            "Chain 2 Exception: neg_binomial_2_lpmf: Location parameter[1] is inf, but must be positive finite! (in '/tmp/RtmpfgqXMd/model-1446508fcc5.stan', line 19, column 4 to column 41)\n",
            "\n",
            "Chain 2 If this warning occurs sporadically, such as for highly constrained variable types like covariance matrices, then the sampler is fine,\n",
            "\n",
            "Chain 2 but if this warning occurs often then your model may be either severely ill-conditioned or misspecified.\n",
            "\n",
            "Chain 2 \n",
            "\n",
            "Chain 2 Informational Message: The current Metropolis proposal is about to be rejected because of the following issue:\n",
            "\n",
            "Chain 2 Exception: neg_binomial_2_lpmf: Location parameter[1] is inf, but must be positive finite! (in '/tmp/RtmpfgqXMd/model-1446508fcc5.stan', line 19, column 4 to column 41)\n",
            "\n",
            "Chain 2 If this warning occurs sporadically, such as for highly constrained variable types like covariance matrices, then the sampler is fine,\n",
            "\n",
            "Chain 2 but if this warning occurs often then your model may be either severely ill-conditioned or misspecified.\n",
            "\n",
            "Chain 2 \n",
            "\n",
            "Chain 2 Informational Message: The current Metropolis proposal is about to be rejected because of the following issue:\n",
            "\n",
            "Chain 2 Exception: neg_binomial_2_lpmf: Location parameter[1] is inf, but must be positive finite! (in '/tmp/RtmpfgqXMd/model-1446508fcc5.stan', line 19, column 4 to column 41)\n",
            "\n",
            "Chain 2 If this warning occurs sporadically, such as for highly constrained variable types like covariance matrices, then the sampler is fine,\n",
            "\n",
            "Chain 2 but if this warning occurs often then your model may be either severely ill-conditioned or misspecified.\n",
            "\n",
            "Chain 2 \n",
            "\n",
            "Chain 2 Informational Message: The current Metropolis proposal is about to be rejected because of the following issue:\n",
            "\n",
            "Chain 2 Exception: neg_binomial_2_lpmf: Location parameter[1] is 0, but must be positive finite! (in '/tmp/RtmpfgqXMd/model-1446508fcc5.stan', line 19, column 4 to column 41)\n",
            "\n",
            "Chain 2 If this warning occurs sporadically, such as for highly constrained variable types like covariance matrices, then the sampler is fine,\n",
            "\n",
            "Chain 2 but if this warning occurs often then your model may be either severely ill-conditioned or misspecified.\n",
            "\n",
            "Chain 2 \n",
            "\n",
            "Chain 2 Informational Message: The current Metropolis proposal is about to be rejected because of the following issue:\n",
            "\n",
            "Chain 2 Exception: neg_binomial_2_lpmf: Location parameter[1] is 0, but must be positive finite! (in '/tmp/RtmpfgqXMd/model-1446508fcc5.stan', line 19, column 4 to column 41)\n",
            "\n",
            "Chain 2 If this warning occurs sporadically, such as for highly constrained variable types like covariance matrices, then the sampler is fine,\n",
            "\n",
            "Chain 2 but if this warning occurs often then your model may be either severely ill-conditioned or misspecified.\n",
            "\n",
            "Chain 2 \n",
            "\n"
          ]
        },
        {
          "output_type": "stream",
          "name": "stdout",
          "text": [
            "Chain 3 Iteration:   1 / 1000 [  0%]  (Warmup) \n",
            "Chain 3 Iteration: 100 / 1000 [ 10%]  (Warmup) \n",
            "Chain 3 Iteration: 200 / 1000 [ 20%]  (Warmup) \n",
            "Chain 3 Iteration: 300 / 1000 [ 30%]  (Warmup) \n",
            "Chain 3 Iteration: 400 / 1000 [ 40%]  (Warmup) \n",
            "Chain 3 Iteration: 500 / 1000 [ 50%]  (Warmup) \n",
            "Chain 3 Iteration: 501 / 1000 [ 50%]  (Sampling) \n",
            "Chain 3 Iteration: 600 / 1000 [ 60%]  (Sampling) \n",
            "Chain 3 Iteration: 700 / 1000 [ 70%]  (Sampling) \n",
            "Chain 3 Iteration: 800 / 1000 [ 80%]  (Sampling) \n",
            "Chain 3 Iteration: 900 / 1000 [ 90%]  (Sampling) \n"
          ]
        },
        {
          "output_type": "stream",
          "name": "stderr",
          "text": [
            "Chain 3 Informational Message: The current Metropolis proposal is about to be rejected because of the following issue:\n",
            "\n",
            "Chain 3 Exception: neg_binomial_2_lpmf: Location parameter[1] is inf, but must be positive finite! (in '/tmp/RtmpfgqXMd/model-1446508fcc5.stan', line 19, column 4 to column 41)\n",
            "\n",
            "Chain 3 If this warning occurs sporadically, such as for highly constrained variable types like covariance matrices, then the sampler is fine,\n",
            "\n",
            "Chain 3 but if this warning occurs often then your model may be either severely ill-conditioned or misspecified.\n",
            "\n",
            "Chain 3 \n",
            "\n",
            "Chain 3 Informational Message: The current Metropolis proposal is about to be rejected because of the following issue:\n",
            "\n",
            "Chain 3 Exception: neg_binomial_2_lpmf: Location parameter[1] is inf, but must be positive finite! (in '/tmp/RtmpfgqXMd/model-1446508fcc5.stan', line 19, column 4 to column 41)\n",
            "\n",
            "Chain 3 If this warning occurs sporadically, such as for highly constrained variable types like covariance matrices, then the sampler is fine,\n",
            "\n",
            "Chain 3 but if this warning occurs often then your model may be either severely ill-conditioned or misspecified.\n",
            "\n",
            "Chain 3 \n",
            "\n",
            "Chain 3 Informational Message: The current Metropolis proposal is about to be rejected because of the following issue:\n",
            "\n",
            "Chain 3 Exception: neg_binomial_2_lpmf: Location parameter[1] is inf, but must be positive finite! (in '/tmp/RtmpfgqXMd/model-1446508fcc5.stan', line 19, column 4 to column 41)\n",
            "\n",
            "Chain 3 If this warning occurs sporadically, such as for highly constrained variable types like covariance matrices, then the sampler is fine,\n",
            "\n",
            "Chain 3 but if this warning occurs often then your model may be either severely ill-conditioned or misspecified.\n",
            "\n",
            "Chain 3 \n",
            "\n",
            "Chain 3 Informational Message: The current Metropolis proposal is about to be rejected because of the following issue:\n",
            "\n",
            "Chain 3 Exception: neg_binomial_2_lpmf: Location parameter[1] is inf, but must be positive finite! (in '/tmp/RtmpfgqXMd/model-1446508fcc5.stan', line 19, column 4 to column 41)\n",
            "\n",
            "Chain 3 If this warning occurs sporadically, such as for highly constrained variable types like covariance matrices, then the sampler is fine,\n",
            "\n",
            "Chain 3 but if this warning occurs often then your model may be either severely ill-conditioned or misspecified.\n",
            "\n",
            "Chain 3 \n",
            "\n",
            "Chain 3 Informational Message: The current Metropolis proposal is about to be rejected because of the following issue:\n",
            "\n",
            "Chain 3 Exception: neg_binomial_2_lpmf: Location parameter[1] is inf, but must be positive finite! (in '/tmp/RtmpfgqXMd/model-1446508fcc5.stan', line 19, column 4 to column 41)\n",
            "\n",
            "Chain 3 If this warning occurs sporadically, such as for highly constrained variable types like covariance matrices, then the sampler is fine,\n",
            "\n",
            "Chain 3 but if this warning occurs often then your model may be either severely ill-conditioned or misspecified.\n",
            "\n",
            "Chain 3 \n",
            "\n",
            "Chain 3 Informational Message: The current Metropolis proposal is about to be rejected because of the following issue:\n",
            "\n",
            "Chain 3 Exception: neg_binomial_2_lpmf: Location parameter[1] is 0, but must be positive finite! (in '/tmp/RtmpfgqXMd/model-1446508fcc5.stan', line 19, column 4 to column 41)\n",
            "\n",
            "Chain 3 If this warning occurs sporadically, such as for highly constrained variable types like covariance matrices, then the sampler is fine,\n",
            "\n",
            "Chain 3 but if this warning occurs often then your model may be either severely ill-conditioned or misspecified.\n",
            "\n",
            "Chain 3 \n",
            "\n",
            "Chain 3 Informational Message: The current Metropolis proposal is about to be rejected because of the following issue:\n",
            "\n",
            "Chain 3 Exception: neg_binomial_2_lpmf: Location parameter[1] is 0, but must be positive finite! (in '/tmp/RtmpfgqXMd/model-1446508fcc5.stan', line 19, column 4 to column 41)\n",
            "\n",
            "Chain 3 If this warning occurs sporadically, such as for highly constrained variable types like covariance matrices, then the sampler is fine,\n",
            "\n",
            "Chain 3 but if this warning occurs often then your model may be either severely ill-conditioned or misspecified.\n",
            "\n",
            "Chain 3 \n",
            "\n"
          ]
        },
        {
          "output_type": "stream",
          "name": "stdout",
          "text": [
            "Chain 4 Iteration:   1 / 1000 [  0%]  (Warmup) \n",
            "Chain 4 Iteration: 100 / 1000 [ 10%]  (Warmup) \n",
            "Chain 4 Iteration: 200 / 1000 [ 20%]  (Warmup) \n",
            "Chain 4 Iteration: 300 / 1000 [ 30%]  (Warmup) \n",
            "Chain 4 Iteration: 400 / 1000 [ 40%]  (Warmup) \n",
            "Chain 4 Iteration: 500 / 1000 [ 50%]  (Warmup) \n",
            "Chain 4 Iteration: 501 / 1000 [ 50%]  (Sampling) \n",
            "Chain 4 Iteration: 600 / 1000 [ 60%]  (Sampling) \n",
            "Chain 4 Iteration: 700 / 1000 [ 70%]  (Sampling) \n",
            "Chain 4 Iteration: 800 / 1000 [ 80%]  (Sampling) \n",
            "Chain 4 Iteration: 900 / 1000 [ 90%]  (Sampling) \n",
            "Chain 4 Iteration: 1000 / 1000 [100%]  (Sampling) \n"
          ]
        },
        {
          "output_type": "stream",
          "name": "stderr",
          "text": [
            "Chain 4 Informational Message: The current Metropolis proposal is about to be rejected because of the following issue:\n",
            "\n",
            "Chain 4 Exception: neg_binomial_2_lpmf: Location parameter[1] is 0, but must be positive finite! (in '/tmp/RtmpfgqXMd/model-1446508fcc5.stan', line 19, column 4 to column 41)\n",
            "\n",
            "Chain 4 If this warning occurs sporadically, such as for highly constrained variable types like covariance matrices, then the sampler is fine,\n",
            "\n",
            "Chain 4 but if this warning occurs often then your model may be either severely ill-conditioned or misspecified.\n",
            "\n",
            "Chain 4 \n",
            "\n",
            "Chain 4 Informational Message: The current Metropolis proposal is about to be rejected because of the following issue:\n",
            "\n",
            "Chain 4 Exception: neg_binomial_2_lpmf: Location parameter[1] is 0, but must be positive finite! (in '/tmp/RtmpfgqXMd/model-1446508fcc5.stan', line 19, column 4 to column 41)\n",
            "\n",
            "Chain 4 If this warning occurs sporadically, such as for highly constrained variable types like covariance matrices, then the sampler is fine,\n",
            "\n",
            "Chain 4 but if this warning occurs often then your model may be either severely ill-conditioned or misspecified.\n",
            "\n",
            "Chain 4 \n",
            "\n",
            "Chain 4 Informational Message: The current Metropolis proposal is about to be rejected because of the following issue:\n",
            "\n",
            "Chain 4 Exception: neg_binomial_2_lpmf: Location parameter[1] is 0, but must be positive finite! (in '/tmp/RtmpfgqXMd/model-1446508fcc5.stan', line 19, column 4 to column 41)\n",
            "\n",
            "Chain 4 If this warning occurs sporadically, such as for highly constrained variable types like covariance matrices, then the sampler is fine,\n",
            "\n",
            "Chain 4 but if this warning occurs often then your model may be either severely ill-conditioned or misspecified.\n",
            "\n",
            "Chain 4 \n",
            "\n",
            "Chain 4 Informational Message: The current Metropolis proposal is about to be rejected because of the following issue:\n",
            "\n",
            "Chain 4 Exception: neg_binomial_2_lpmf: Location parameter[1] is 0, but must be positive finite! (in '/tmp/RtmpfgqXMd/model-1446508fcc5.stan', line 19, column 4 to column 41)\n",
            "\n",
            "Chain 4 If this warning occurs sporadically, such as for highly constrained variable types like covariance matrices, then the sampler is fine,\n",
            "\n",
            "Chain 4 but if this warning occurs often then your model may be either severely ill-conditioned or misspecified.\n",
            "\n",
            "Chain 4 \n",
            "\n",
            "Chain 4 Informational Message: The current Metropolis proposal is about to be rejected because of the following issue:\n",
            "\n",
            "Chain 4 Exception: neg_binomial_2_lpmf: Location parameter[37] is 0, but must be positive finite! (in '/tmp/RtmpfgqXMd/model-1446508fcc5.stan', line 19, column 4 to column 41)\n",
            "\n",
            "Chain 4 If this warning occurs sporadically, such as for highly constrained variable types like covariance matrices, then the sampler is fine,\n",
            "\n",
            "Chain 4 but if this warning occurs often then your model may be either severely ill-conditioned or misspecified.\n",
            "\n",
            "Chain 4 \n",
            "\n"
          ]
        },
        {
          "output_type": "stream",
          "name": "stdout",
          "text": [
            "Chain 1 Iteration: 300 / 1000 [ 30%]  (Warmup) \n",
            "Chain 1 Iteration: 400 / 1000 [ 40%]  (Warmup) \n",
            "Chain 1 Iteration: 500 / 1000 [ 50%]  (Warmup) \n",
            "Chain 1 Iteration: 501 / 1000 [ 50%]  (Sampling) \n",
            "Chain 1 Iteration: 600 / 1000 [ 60%]  (Sampling) \n",
            "Chain 1 Iteration: 700 / 1000 [ 70%]  (Sampling) \n",
            "Chain 1 Iteration: 800 / 1000 [ 80%]  (Sampling) \n",
            "Chain 1 Iteration: 900 / 1000 [ 90%]  (Sampling) \n",
            "Chain 1 Iteration: 1000 / 1000 [100%]  (Sampling) \n",
            "Chain 1 finished in 1.5 seconds.\n",
            "Chain 2 Iteration: 400 / 1000 [ 40%]  (Warmup) \n",
            "Chain 2 Iteration: 500 / 1000 [ 50%]  (Warmup) \n",
            "Chain 2 Iteration: 501 / 1000 [ 50%]  (Sampling) \n",
            "Chain 2 Iteration: 600 / 1000 [ 60%]  (Sampling) \n",
            "Chain 2 Iteration: 700 / 1000 [ 70%]  (Sampling) \n",
            "Chain 2 Iteration: 800 / 1000 [ 80%]  (Sampling) \n",
            "Chain 2 Iteration: 900 / 1000 [ 90%]  (Sampling) \n",
            "Chain 2 Iteration: 1000 / 1000 [100%]  (Sampling) \n",
            "Chain 2 finished in 1.8 seconds.\n",
            "Chain 3 Iteration: 1000 / 1000 [100%]  (Sampling) \n",
            "Chain 3 finished in 2.0 seconds.\n",
            "Chain 4 finished in 1.9 seconds.\n",
            "\n",
            "All 4 chains finished successfully.\n",
            "Mean chain execution time: 1.8 seconds.\n",
            "Total execution time: 2.3 seconds.\n",
            "\n"
          ]
        }
      ]
    },
    {
      "cell_type": "markdown",
      "source": [
        "Lets us compare the (especially uncertainties) of our parameters between this model and that of 12H1."
      ],
      "metadata": {
        "id": "9hg1Im06iTnk"
      }
    },
    {
      "cell_type": "code",
      "source": [
        "round(precis(mF),2)\n",
        "round(precis(mF2),2)"
      ],
      "metadata": {
        "colab": {
          "base_uri": "https://localhost:8080/",
          "height": 335
        },
        "id": "jPaUL0pwhdyi",
        "outputId": "b5e45445-d502-497c-e93f-859c422a7af9"
      },
      "execution_count": null,
      "outputs": [
        {
          "output_type": "display_data",
          "data": {
            "text/html": [
              "<table class=\"dataframe\">\n",
              "<caption>A data.frame: 2 × 6</caption>\n",
              "<thead>\n",
              "\t<tr><th></th><th scope=col>mean</th><th scope=col>sd</th><th scope=col>5.5%</th><th scope=col>94.5%</th><th scope=col>rhat</th><th scope=col>ess_bulk</th></tr>\n",
              "\t<tr><th></th><th scope=col>&lt;dbl&gt;</th><th scope=col>&lt;dbl&gt;</th><th scope=col>&lt;dbl&gt;</th><th scope=col>&lt;dbl&gt;</th><th scope=col>&lt;dbl&gt;</th><th scope=col>&lt;dbl&gt;</th></tr>\n",
              "</thead>\n",
              "<tbody>\n",
              "\t<tr><th scope=row>a</th><td>2.49</td><td>0.06</td><td>2.38</td><td>2.59</td><td>1</td><td>427.99</td></tr>\n",
              "\t<tr><th scope=row>bF</th><td>0.07</td><td>0.01</td><td>0.06</td><td>0.09</td><td>1</td><td>463.42</td></tr>\n",
              "</tbody>\n",
              "</table>\n"
            ],
            "text/markdown": "\nA data.frame: 2 × 6\n\n| <!--/--> | mean &lt;dbl&gt; | sd &lt;dbl&gt; | 5.5% &lt;dbl&gt; | 94.5% &lt;dbl&gt; | rhat &lt;dbl&gt; | ess_bulk &lt;dbl&gt; |\n|---|---|---|---|---|---|---|\n| a | 2.49 | 0.06 | 2.38 | 2.59 | 1 | 427.99 |\n| bF | 0.07 | 0.01 | 0.06 | 0.09 | 1 | 463.42 |\n\n",
            "text/latex": "A data.frame: 2 × 6\n\\begin{tabular}{r|llllll}\n  & mean & sd & 5.5\\% & 94.5\\% & rhat & ess\\_bulk\\\\\n  & <dbl> & <dbl> & <dbl> & <dbl> & <dbl> & <dbl>\\\\\n\\hline\n\ta & 2.49 & 0.06 & 2.38 & 2.59 & 1 & 427.99\\\\\n\tbF & 0.07 & 0.01 & 0.06 & 0.09 & 1 & 463.42\\\\\n\\end{tabular}\n",
            "text/plain": [
              "   mean sd   5.5% 94.5% rhat ess_bulk\n",
              "a  2.49 0.06 2.38 2.59  1    427.99  \n",
              "bF 0.07 0.01 0.06 0.09  1    463.42  "
            ]
          },
          "metadata": {}
        },
        {
          "output_type": "display_data",
          "data": {
            "text/html": [
              "<table class=\"dataframe\">\n",
              "<caption>A data.frame: 3 × 6</caption>\n",
              "<thead>\n",
              "\t<tr><th></th><th scope=col>mean</th><th scope=col>sd</th><th scope=col>5.5%</th><th scope=col>94.5%</th><th scope=col>rhat</th><th scope=col>ess_bulk</th></tr>\n",
              "\t<tr><th></th><th scope=col>&lt;dbl&gt;</th><th scope=col>&lt;dbl&gt;</th><th scope=col>&lt;dbl&gt;</th><th scope=col>&lt;dbl&gt;</th><th scope=col>&lt;dbl&gt;</th><th scope=col>&lt;dbl&gt;</th></tr>\n",
              "</thead>\n",
              "<tbody>\n",
              "\t<tr><th scope=row>a</th><td>2.28</td><td>0.32</td><td>1.79</td><td>2.81</td><td>1</td><td> 711.52</td></tr>\n",
              "\t<tr><th scope=row>bF</th><td>0.10</td><td>0.04</td><td>0.03</td><td>0.17</td><td>1</td><td> 717.32</td></tr>\n",
              "\t<tr><th scope=row>scale</th><td>0.45</td><td>0.06</td><td>0.36</td><td>0.56</td><td>1</td><td>1055.46</td></tr>\n",
              "</tbody>\n",
              "</table>\n"
            ],
            "text/markdown": "\nA data.frame: 3 × 6\n\n| <!--/--> | mean &lt;dbl&gt; | sd &lt;dbl&gt; | 5.5% &lt;dbl&gt; | 94.5% &lt;dbl&gt; | rhat &lt;dbl&gt; | ess_bulk &lt;dbl&gt; |\n|---|---|---|---|---|---|---|\n| a | 2.28 | 0.32 | 1.79 | 2.81 | 1 |  711.52 |\n| bF | 0.10 | 0.04 | 0.03 | 0.17 | 1 |  717.32 |\n| scale | 0.45 | 0.06 | 0.36 | 0.56 | 1 | 1055.46 |\n\n",
            "text/latex": "A data.frame: 3 × 6\n\\begin{tabular}{r|llllll}\n  & mean & sd & 5.5\\% & 94.5\\% & rhat & ess\\_bulk\\\\\n  & <dbl> & <dbl> & <dbl> & <dbl> & <dbl> & <dbl>\\\\\n\\hline\n\ta & 2.28 & 0.32 & 1.79 & 2.81 & 1 &  711.52\\\\\n\tbF & 0.10 & 0.04 & 0.03 & 0.17 & 1 &  717.32\\\\\n\tscale & 0.45 & 0.06 & 0.36 & 0.56 & 1 & 1055.46\\\\\n\\end{tabular}\n",
            "text/plain": [
              "      mean sd   5.5% 94.5% rhat ess_bulk\n",
              "a     2.28 0.32 1.79 2.81  1     711.52 \n",
              "bF    0.10 0.04 0.03 0.17  1     717.32 \n",
              "scale 0.45 0.06 0.36 0.56  1    1055.46 "
            ]
          },
          "metadata": {}
        }
      ]
    },
    {
      "cell_type": "markdown",
      "source": [
        "For the parameters in common (`a` and `bF`) the gamma-Poisson model has far more (around 4-5X) uncertainty (see the `sd` column).  Addressing the question, why is the certainty of `bF` so diminished in `mF2`?\n",
        "\n",
        "The answer, at least what I think is the answer, is a bit nuanced.  The Poisson model is confined such that the mean and variance (of the error) must be equal to one another.  However, the gamma-Poisson allows the mean and variance to vary independent of one another.  The count data in our problem really did have variance > mean, and the gamma-Poisson was better able to capture this given its ability to estimate the mean and variance separately."
      ],
      "metadata": {
        "id": "ztF_D3_kimZU"
      }
    },
    {
      "cell_type": "markdown",
      "source": [
        "### 12H3\n",
        "\n",
        "In the data, there are two measures of a hurricane’s potential to cause death: `damage_norm`  and `min_pressure`. Consult `?Hurricanes` for their meanings. It makes some sense to imagine that `femininity` of a name matters more when the hurricane is itself deadly. This implies an interaction between `femininity` and either or both of `damage_norm` and `min_pressure`.  Fit a series of models evaluating these interactions. Interpret and compare the models. In interpreting the estimates, it may help to generate counterfactual predictions contrasting hurricanes with masculine and feminine names. Are the effect sizes plausible?\n",
        "\n",
        "#### Answer\n",
        "Let us once again bring up the `Hurricanes` data.  We'll also look up `damage_norm` and `min_pressure`."
      ],
      "metadata": {
        "id": "2yDxLW3BAE3X"
      }
    },
    {
      "cell_type": "code",
      "source": [
        "data(Hurricanes)\n",
        "?Hurricanes\n",
        "\n",
        "d <- Hurricanes\n",
        "head(d)"
      ],
      "metadata": {
        "id": "xRCFxuOKBJla",
        "colab": {
          "base_uri": "https://localhost:8080/",
          "height": 286
        },
        "outputId": "7fdb7ef8-79c1-4f16-f030-8e73c7b0ee1c"
      },
      "execution_count": null,
      "outputs": [
        {
          "output_type": "display_data",
          "data": {
            "text/html": [
              "<table class=\"dataframe\">\n",
              "<caption>A data.frame: 6 × 8</caption>\n",
              "<thead>\n",
              "\t<tr><th></th><th scope=col>name</th><th scope=col>year</th><th scope=col>deaths</th><th scope=col>category</th><th scope=col>min_pressure</th><th scope=col>damage_norm</th><th scope=col>female</th><th scope=col>femininity</th></tr>\n",
              "\t<tr><th></th><th scope=col>&lt;fct&gt;</th><th scope=col>&lt;int&gt;</th><th scope=col>&lt;int&gt;</th><th scope=col>&lt;int&gt;</th><th scope=col>&lt;int&gt;</th><th scope=col>&lt;int&gt;</th><th scope=col>&lt;int&gt;</th><th scope=col>&lt;dbl&gt;</th></tr>\n",
              "</thead>\n",
              "<tbody>\n",
              "\t<tr><th scope=row>1</th><td>Easy    </td><td>1950</td><td> 2</td><td>3</td><td>960</td><td> 1590</td><td>1</td><td>6.77778</td></tr>\n",
              "\t<tr><th scope=row>2</th><td>King    </td><td>1950</td><td> 4</td><td>3</td><td>955</td><td> 5350</td><td>0</td><td>1.38889</td></tr>\n",
              "\t<tr><th scope=row>3</th><td>Able    </td><td>1952</td><td> 3</td><td>1</td><td>985</td><td>  150</td><td>0</td><td>3.83333</td></tr>\n",
              "\t<tr><th scope=row>4</th><td>Barbara </td><td>1953</td><td> 1</td><td>1</td><td>987</td><td>   58</td><td>1</td><td>9.83333</td></tr>\n",
              "\t<tr><th scope=row>5</th><td>Florence</td><td>1953</td><td> 0</td><td>1</td><td>985</td><td>   15</td><td>1</td><td>8.33333</td></tr>\n",
              "\t<tr><th scope=row>6</th><td>Carol   </td><td>1954</td><td>60</td><td>3</td><td>960</td><td>19321</td><td>1</td><td>8.11111</td></tr>\n",
              "</tbody>\n",
              "</table>\n"
            ],
            "text/markdown": "\nA data.frame: 6 × 8\n\n| <!--/--> | name &lt;fct&gt; | year &lt;int&gt; | deaths &lt;int&gt; | category &lt;int&gt; | min_pressure &lt;int&gt; | damage_norm &lt;int&gt; | female &lt;int&gt; | femininity &lt;dbl&gt; |\n|---|---|---|---|---|---|---|---|---|\n| 1 | Easy     | 1950 |  2 | 3 | 960 |  1590 | 1 | 6.77778 |\n| 2 | King     | 1950 |  4 | 3 | 955 |  5350 | 0 | 1.38889 |\n| 3 | Able     | 1952 |  3 | 1 | 985 |   150 | 0 | 3.83333 |\n| 4 | Barbara  | 1953 |  1 | 1 | 987 |    58 | 1 | 9.83333 |\n| 5 | Florence | 1953 |  0 | 1 | 985 |    15 | 1 | 8.33333 |\n| 6 | Carol    | 1954 | 60 | 3 | 960 | 19321 | 1 | 8.11111 |\n\n",
            "text/latex": "A data.frame: 6 × 8\n\\begin{tabular}{r|llllllll}\n  & name & year & deaths & category & min\\_pressure & damage\\_norm & female & femininity\\\\\n  & <fct> & <int> & <int> & <int> & <int> & <int> & <int> & <dbl>\\\\\n\\hline\n\t1 & Easy     & 1950 &  2 & 3 & 960 &  1590 & 1 & 6.77778\\\\\n\t2 & King     & 1950 &  4 & 3 & 955 &  5350 & 0 & 1.38889\\\\\n\t3 & Able     & 1952 &  3 & 1 & 985 &   150 & 0 & 3.83333\\\\\n\t4 & Barbara  & 1953 &  1 & 1 & 987 &    58 & 1 & 9.83333\\\\\n\t5 & Florence & 1953 &  0 & 1 & 985 &    15 & 1 & 8.33333\\\\\n\t6 & Carol    & 1954 & 60 & 3 & 960 & 19321 & 1 & 8.11111\\\\\n\\end{tabular}\n",
            "text/plain": [
              "  name     year deaths category min_pressure damage_norm female femininity\n",
              "1 Easy     1950  2     3        960           1590       1      6.77778   \n",
              "2 King     1950  4     3        955           5350       0      1.38889   \n",
              "3 Able     1952  3     1        985            150       0      3.83333   \n",
              "4 Barbara  1953  1     1        987             58       1      9.83333   \n",
              "5 Florence 1953  0     1        985             15       1      8.33333   \n",
              "6 Carol    1954 60     3        960          19321       1      8.11111   "
            ]
          },
          "metadata": {}
        }
      ]
    },
    {
      "cell_type": "markdown",
      "source": [
        "So `damage_norm` is a normalized estimate of damage and `min_pressure` in a measure of a storms strength with lower-pressures implying stronger storms.\n",
        "\n"
      ],
      "metadata": {
        "id": "qaEfR7nSBbe7"
      }
    },
    {
      "cell_type": "markdown",
      "source": [
        "The hypothesis here is that maybe `femininity` *does* matter when the storm is bad enough.  For instance, maybe people are less likely to take precautions when the storm has a feminine name--perhaps thinking the storm is smaller and physically weaker.  If so, there should be an interaction between `femininity` and `damage_norm` and/or `min_pressure`."
      ],
      "metadata": {
        "id": "d9jdUWjuBtl8"
      }
    },
    {
      "cell_type": "markdown",
      "source": [
        "We need to run some models to test this.  Since I don't know anything about what to expect about either `damage_norm` or `min_pressure`, I'm going to start by standardizing these variables; I'm also going to take the logarithm of `damage_norm` since I'm guessing this variable will make most sense in terms of orders of magnitude."
      ],
      "metadata": {
        "id": "z6znl8QxCrEj"
      }
    },
    {
      "cell_type": "code",
      "source": [
        "dlist <- list(D = d$deaths,\n",
        "              F = d$femininity,\n",
        "              P = standardize(d$min_pressure),\n",
        "              B = standardize(log(d$damage_norm)))"
      ],
      "metadata": {
        "id": "shpGQgk8DHup"
      },
      "execution_count": null,
      "outputs": []
    },
    {
      "cell_type": "markdown",
      "source": [
        "Now I'll adapt the gamma-Poisson model from 12H2."
      ],
      "metadata": {
        "id": "pi7W8ebjDtG2"
      }
    },
    {
      "cell_type": "code",
      "source": [
        "m_P <- ulam(\n",
        "  alist(\n",
        "    D ~ dgampois(lambda, scale),\n",
        "      log(lambda) <- a + bF*F + bP*P + bFP*F*P,\n",
        "        a ~ dnorm(0,1),\n",
        "        bF ~ dnorm(0,1),\n",
        "        bP ~ dnorm(0,1),\n",
        "        bFP ~ dnorm(0,1),\n",
        "      scale ~ dexp(1)\n",
        "), data=dlist,\n",
        "   chains=4,\n",
        "   cores=4,\n",
        "   iter=1000,\n",
        "   log_lik=TRUE)\n",
        "\n",
        "m_B <- ulam(\n",
        "  alist(\n",
        "  D ~ dgampois(lambda, scale),\n",
        "   log(lambda) <- a + bF*F + bB*B + bFB*F*B,\n",
        "      a ~ dnorm(0,1),\n",
        "      bF ~ dnorm(0,1),\n",
        "      bB ~ dnorm(0,1),\n",
        "      bFB ~ dnorm(0,1),\n",
        "  scale ~ dexp(1)\n",
        "), data=dlist,\n",
        "   chains=4,\n",
        "   cores=4,\n",
        "   iter=1000,\n",
        "   log_lik=TRUE)"
      ],
      "metadata": {
        "colab": {
          "base_uri": "https://localhost:8080/"
        },
        "collapsed": true,
        "id": "o4ujcL7iEQZH",
        "outputId": "6375d856-7a70-4bf8-e461-3fd71dd54735"
      },
      "execution_count": null,
      "outputs": [
        {
          "output_type": "stream",
          "name": "stdout",
          "text": [
            "Running MCMC with 4 parallel chains, with 1 thread(s) per chain...\n",
            "\n",
            "Chain 1 Iteration:   1 / 1000 [  0%]  (Warmup) \n"
          ]
        },
        {
          "output_type": "stream",
          "name": "stderr",
          "text": [
            "Chain 1 Informational Message: The current Metropolis proposal is about to be rejected because of the following issue:\n",
            "\n",
            "Chain 1 Exception: neg_binomial_2_lpmf: Location parameter[1] is inf, but must be positive finite! (in '/tmp/Rtmp3kKPhr/model-259176664fd.stan', line 25, column 4 to column 41)\n",
            "\n",
            "Chain 1 If this warning occurs sporadically, such as for highly constrained variable types like covariance matrices, then the sampler is fine,\n",
            "\n",
            "Chain 1 but if this warning occurs often then your model may be either severely ill-conditioned or misspecified.\n",
            "\n",
            "Chain 1 \n",
            "\n",
            "Chain 1 Informational Message: The current Metropolis proposal is about to be rejected because of the following issue:\n",
            "\n",
            "Chain 1 Exception: neg_binomial_2_lpmf: Location parameter[1] is inf, but must be positive finite! (in '/tmp/Rtmp3kKPhr/model-259176664fd.stan', line 25, column 4 to column 41)\n",
            "\n",
            "Chain 1 If this warning occurs sporadically, such as for highly constrained variable types like covariance matrices, then the sampler is fine,\n",
            "\n",
            "Chain 1 but if this warning occurs often then your model may be either severely ill-conditioned or misspecified.\n",
            "\n",
            "Chain 1 \n",
            "\n",
            "Chain 1 Informational Message: The current Metropolis proposal is about to be rejected because of the following issue:\n",
            "\n",
            "Chain 1 Exception: neg_binomial_2_lpmf: Location parameter[1] is inf, but must be positive finite! (in '/tmp/Rtmp3kKPhr/model-259176664fd.stan', line 25, column 4 to column 41)\n",
            "\n",
            "Chain 1 If this warning occurs sporadically, such as for highly constrained variable types like covariance matrices, then the sampler is fine,\n",
            "\n",
            "Chain 1 but if this warning occurs often then your model may be either severely ill-conditioned or misspecified.\n",
            "\n",
            "Chain 1 \n",
            "\n",
            "Chain 1 Informational Message: The current Metropolis proposal is about to be rejected because of the following issue:\n",
            "\n",
            "Chain 1 Exception: neg_binomial_2_lpmf: Location parameter[1] is inf, but must be positive finite! (in '/tmp/Rtmp3kKPhr/model-259176664fd.stan', line 25, column 4 to column 41)\n",
            "\n",
            "Chain 1 If this warning occurs sporadically, such as for highly constrained variable types like covariance matrices, then the sampler is fine,\n",
            "\n",
            "Chain 1 but if this warning occurs often then your model may be either severely ill-conditioned or misspecified.\n",
            "\n",
            "Chain 1 \n",
            "\n",
            "Chain 1 Informational Message: The current Metropolis proposal is about to be rejected because of the following issue:\n",
            "\n",
            "Chain 1 Exception: neg_binomial_2_lpmf: Location parameter[6] is inf, but must be positive finite! (in '/tmp/Rtmp3kKPhr/model-259176664fd.stan', line 25, column 4 to column 41)\n",
            "\n",
            "Chain 1 If this warning occurs sporadically, such as for highly constrained variable types like covariance matrices, then the sampler is fine,\n",
            "\n",
            "Chain 1 but if this warning occurs often then your model may be either severely ill-conditioned or misspecified.\n",
            "\n",
            "Chain 1 \n",
            "\n",
            "Chain 1 Informational Message: The current Metropolis proposal is about to be rejected because of the following issue:\n",
            "\n",
            "Chain 1 Exception: neg_binomial_2_lpmf: Location parameter[29] is inf, but must be positive finite! (in '/tmp/Rtmp3kKPhr/model-259176664fd.stan', line 25, column 4 to column 41)\n",
            "\n",
            "Chain 1 If this warning occurs sporadically, such as for highly constrained variable types like covariance matrices, then the sampler is fine,\n",
            "\n",
            "Chain 1 but if this warning occurs often then your model may be either severely ill-conditioned or misspecified.\n",
            "\n",
            "Chain 1 \n",
            "\n",
            "Chain 1 Informational Message: The current Metropolis proposal is about to be rejected because of the following issue:\n",
            "\n",
            "Chain 1 Exception: neg_binomial_2_lpmf: Location parameter[1] is 0, but must be positive finite! (in '/tmp/Rtmp3kKPhr/model-259176664fd.stan', line 25, column 4 to column 41)\n",
            "\n",
            "Chain 1 If this warning occurs sporadically, such as for highly constrained variable types like covariance matrices, then the sampler is fine,\n",
            "\n",
            "Chain 1 but if this warning occurs often then your model may be either severely ill-conditioned or misspecified.\n",
            "\n",
            "Chain 1 \n",
            "\n",
            "Chain 1 Informational Message: The current Metropolis proposal is about to be rejected because of the following issue:\n",
            "\n",
            "Chain 1 Exception: neg_binomial_2_lpmf: Location parameter[1] is 0, but must be positive finite! (in '/tmp/Rtmp3kKPhr/model-259176664fd.stan', line 25, column 4 to column 41)\n",
            "\n",
            "Chain 1 If this warning occurs sporadically, such as for highly constrained variable types like covariance matrices, then the sampler is fine,\n",
            "\n",
            "Chain 1 but if this warning occurs often then your model may be either severely ill-conditioned or misspecified.\n",
            "\n",
            "Chain 1 \n",
            "\n"
          ]
        },
        {
          "output_type": "stream",
          "name": "stdout",
          "text": [
            "Chain 2 Iteration:   1 / 1000 [  0%]  (Warmup) \n",
            "Chain 2 Iteration: 100 / 1000 [ 10%]  (Warmup) \n"
          ]
        },
        {
          "output_type": "stream",
          "name": "stderr",
          "text": [
            "Chain 2 Informational Message: The current Metropolis proposal is about to be rejected because of the following issue:\n",
            "\n",
            "Chain 2 Exception: neg_binomial_2_lpmf: Location parameter[1] is inf, but must be positive finite! (in '/tmp/Rtmp3kKPhr/model-259176664fd.stan', line 25, column 4 to column 41)\n",
            "\n",
            "Chain 2 If this warning occurs sporadically, such as for highly constrained variable types like covariance matrices, then the sampler is fine,\n",
            "\n",
            "Chain 2 but if this warning occurs often then your model may be either severely ill-conditioned or misspecified.\n",
            "\n",
            "Chain 2 \n",
            "\n",
            "Chain 2 Informational Message: The current Metropolis proposal is about to be rejected because of the following issue:\n",
            "\n",
            "Chain 2 Exception: neg_binomial_2_lpmf: Location parameter[1] is inf, but must be positive finite! (in '/tmp/Rtmp3kKPhr/model-259176664fd.stan', line 25, column 4 to column 41)\n",
            "\n",
            "Chain 2 If this warning occurs sporadically, such as for highly constrained variable types like covariance matrices, then the sampler is fine,\n",
            "\n",
            "Chain 2 but if this warning occurs often then your model may be either severely ill-conditioned or misspecified.\n",
            "\n",
            "Chain 2 \n",
            "\n",
            "Chain 2 Informational Message: The current Metropolis proposal is about to be rejected because of the following issue:\n",
            "\n",
            "Chain 2 Exception: neg_binomial_2_lpmf: Location parameter[1] is inf, but must be positive finite! (in '/tmp/Rtmp3kKPhr/model-259176664fd.stan', line 25, column 4 to column 41)\n",
            "\n",
            "Chain 2 If this warning occurs sporadically, such as for highly constrained variable types like covariance matrices, then the sampler is fine,\n",
            "\n",
            "Chain 2 but if this warning occurs often then your model may be either severely ill-conditioned or misspecified.\n",
            "\n",
            "Chain 2 \n",
            "\n",
            "Chain 2 Informational Message: The current Metropolis proposal is about to be rejected because of the following issue:\n",
            "\n",
            "Chain 2 Exception: neg_binomial_2_lpmf: Location parameter[1] is inf, but must be positive finite! (in '/tmp/Rtmp3kKPhr/model-259176664fd.stan', line 25, column 4 to column 41)\n",
            "\n",
            "Chain 2 If this warning occurs sporadically, such as for highly constrained variable types like covariance matrices, then the sampler is fine,\n",
            "\n",
            "Chain 2 but if this warning occurs often then your model may be either severely ill-conditioned or misspecified.\n",
            "\n",
            "Chain 2 \n",
            "\n",
            "Chain 2 Informational Message: The current Metropolis proposal is about to be rejected because of the following issue:\n",
            "\n",
            "Chain 2 Exception: neg_binomial_2_lpmf: Location parameter[8] is inf, but must be positive finite! (in '/tmp/Rtmp3kKPhr/model-259176664fd.stan', line 25, column 4 to column 41)\n",
            "\n",
            "Chain 2 If this warning occurs sporadically, such as for highly constrained variable types like covariance matrices, then the sampler is fine,\n",
            "\n",
            "Chain 2 but if this warning occurs often then your model may be either severely ill-conditioned or misspecified.\n",
            "\n",
            "Chain 2 \n",
            "\n",
            "Chain 2 Informational Message: The current Metropolis proposal is about to be rejected because of the following issue:\n",
            "\n",
            "Chain 2 Exception: neg_binomial_2_lpmf: Location parameter[1] is inf, but must be positive finite! (in '/tmp/Rtmp3kKPhr/model-259176664fd.stan', line 25, column 4 to column 41)\n",
            "\n",
            "Chain 2 If this warning occurs sporadically, such as for highly constrained variable types like covariance matrices, then the sampler is fine,\n",
            "\n",
            "Chain 2 but if this warning occurs often then your model may be either severely ill-conditioned or misspecified.\n",
            "\n",
            "Chain 2 \n",
            "\n",
            "Chain 2 Informational Message: The current Metropolis proposal is about to be rejected because of the following issue:\n",
            "\n",
            "Chain 2 Exception: neg_binomial_2_lpmf: Location parameter[1] is inf, but must be positive finite! (in '/tmp/Rtmp3kKPhr/model-259176664fd.stan', line 25, column 4 to column 41)\n",
            "\n",
            "Chain 2 If this warning occurs sporadically, such as for highly constrained variable types like covariance matrices, then the sampler is fine,\n",
            "\n",
            "Chain 2 but if this warning occurs often then your model may be either severely ill-conditioned or misspecified.\n",
            "\n",
            "Chain 2 \n",
            "\n"
          ]
        },
        {
          "output_type": "stream",
          "name": "stdout",
          "text": [
            "Chain 3 Iteration:   1 / 1000 [  0%]  (Warmup) \n",
            "Chain 3 Iteration: 100 / 1000 [ 10%]  (Warmup) \n",
            "Chain 3 Iteration: 200 / 1000 [ 20%]  (Warmup) \n"
          ]
        },
        {
          "output_type": "stream",
          "name": "stderr",
          "text": [
            "Chain 3 Informational Message: The current Metropolis proposal is about to be rejected because of the following issue:\n",
            "\n",
            "Chain 3 Exception: neg_binomial_2_lpmf: Location parameter[1] is inf, but must be positive finite! (in '/tmp/Rtmp3kKPhr/model-259176664fd.stan', line 25, column 4 to column 41)\n",
            "\n",
            "Chain 3 If this warning occurs sporadically, such as for highly constrained variable types like covariance matrices, then the sampler is fine,\n",
            "\n",
            "Chain 3 but if this warning occurs often then your model may be either severely ill-conditioned or misspecified.\n",
            "\n",
            "Chain 3 \n",
            "\n",
            "Chain 3 Informational Message: The current Metropolis proposal is about to be rejected because of the following issue:\n",
            "\n",
            "Chain 3 Exception: neg_binomial_2_lpmf: Location parameter[1] is inf, but must be positive finite! (in '/tmp/Rtmp3kKPhr/model-259176664fd.stan', line 25, column 4 to column 41)\n",
            "\n",
            "Chain 3 If this warning occurs sporadically, such as for highly constrained variable types like covariance matrices, then the sampler is fine,\n",
            "\n",
            "Chain 3 but if this warning occurs often then your model may be either severely ill-conditioned or misspecified.\n",
            "\n",
            "Chain 3 \n",
            "\n",
            "Chain 3 Informational Message: The current Metropolis proposal is about to be rejected because of the following issue:\n",
            "\n",
            "Chain 3 Exception: neg_binomial_2_lpmf: Location parameter[1] is inf, but must be positive finite! (in '/tmp/Rtmp3kKPhr/model-259176664fd.stan', line 25, column 4 to column 41)\n",
            "\n",
            "Chain 3 If this warning occurs sporadically, such as for highly constrained variable types like covariance matrices, then the sampler is fine,\n",
            "\n",
            "Chain 3 but if this warning occurs often then your model may be either severely ill-conditioned or misspecified.\n",
            "\n",
            "Chain 3 \n",
            "\n",
            "Chain 3 Informational Message: The current Metropolis proposal is about to be rejected because of the following issue:\n",
            "\n",
            "Chain 3 Exception: neg_binomial_2_lpmf: Location parameter[1] is inf, but must be positive finite! (in '/tmp/Rtmp3kKPhr/model-259176664fd.stan', line 25, column 4 to column 41)\n",
            "\n",
            "Chain 3 If this warning occurs sporadically, such as for highly constrained variable types like covariance matrices, then the sampler is fine,\n",
            "\n",
            "Chain 3 but if this warning occurs often then your model may be either severely ill-conditioned or misspecified.\n",
            "\n",
            "Chain 3 \n",
            "\n",
            "Chain 3 Informational Message: The current Metropolis proposal is about to be rejected because of the following issue:\n",
            "\n",
            "Chain 3 Exception: neg_binomial_2_lpmf: Location parameter[1] is inf, but must be positive finite! (in '/tmp/Rtmp3kKPhr/model-259176664fd.stan', line 25, column 4 to column 41)\n",
            "\n",
            "Chain 3 If this warning occurs sporadically, such as for highly constrained variable types like covariance matrices, then the sampler is fine,\n",
            "\n",
            "Chain 3 but if this warning occurs often then your model may be either severely ill-conditioned or misspecified.\n",
            "\n",
            "Chain 3 \n",
            "\n",
            "Chain 3 Informational Message: The current Metropolis proposal is about to be rejected because of the following issue:\n",
            "\n",
            "Chain 3 Exception: neg_binomial_2_lpmf: Location parameter[29] is inf, but must be positive finite! (in '/tmp/Rtmp3kKPhr/model-259176664fd.stan', line 25, column 4 to column 41)\n",
            "\n",
            "Chain 3 If this warning occurs sporadically, such as for highly constrained variable types like covariance matrices, then the sampler is fine,\n",
            "\n",
            "Chain 3 but if this warning occurs often then your model may be either severely ill-conditioned or misspecified.\n",
            "\n",
            "Chain 3 \n",
            "\n",
            "Chain 3 Informational Message: The current Metropolis proposal is about to be rejected because of the following issue:\n",
            "\n",
            "Chain 3 Exception: neg_binomial_2_lpmf: Location parameter[1] is 0, but must be positive finite! (in '/tmp/Rtmp3kKPhr/model-259176664fd.stan', line 25, column 4 to column 41)\n",
            "\n",
            "Chain 3 If this warning occurs sporadically, such as for highly constrained variable types like covariance matrices, then the sampler is fine,\n",
            "\n",
            "Chain 3 but if this warning occurs often then your model may be either severely ill-conditioned or misspecified.\n",
            "\n",
            "Chain 3 \n",
            "\n",
            "Chain 3 Informational Message: The current Metropolis proposal is about to be rejected because of the following issue:\n",
            "\n",
            "Chain 3 Exception: neg_binomial_2_lpmf: Location parameter[3] is 0, but must be positive finite! (in '/tmp/Rtmp3kKPhr/model-259176664fd.stan', line 25, column 4 to column 41)\n",
            "\n",
            "Chain 3 If this warning occurs sporadically, such as for highly constrained variable types like covariance matrices, then the sampler is fine,\n",
            "\n",
            "Chain 3 but if this warning occurs often then your model may be either severely ill-conditioned or misspecified.\n",
            "\n",
            "Chain 3 \n",
            "\n"
          ]
        },
        {
          "output_type": "stream",
          "name": "stdout",
          "text": [
            "Chain 4 Iteration:   1 / 1000 [  0%]  (Warmup) \n",
            "Chain 4 Iteration: 100 / 1000 [ 10%]  (Warmup) \n",
            "Chain 4 Iteration: 200 / 1000 [ 20%]  (Warmup) \n",
            "Chain 4 Iteration: 300 / 1000 [ 30%]  (Warmup) \n"
          ]
        },
        {
          "output_type": "stream",
          "name": "stderr",
          "text": [
            "Chain 4 Informational Message: The current Metropolis proposal is about to be rejected because of the following issue:\n",
            "\n",
            "Chain 4 Exception: neg_binomial_2_lpmf: Location parameter[1] is inf, but must be positive finite! (in '/tmp/Rtmp3kKPhr/model-259176664fd.stan', line 25, column 4 to column 41)\n",
            "\n",
            "Chain 4 If this warning occurs sporadically, such as for highly constrained variable types like covariance matrices, then the sampler is fine,\n",
            "\n",
            "Chain 4 but if this warning occurs often then your model may be either severely ill-conditioned or misspecified.\n",
            "\n",
            "Chain 4 \n",
            "\n",
            "Chain 4 Informational Message: The current Metropolis proposal is about to be rejected because of the following issue:\n",
            "\n",
            "Chain 4 Exception: neg_binomial_2_lpmf: Location parameter[1] is inf, but must be positive finite! (in '/tmp/Rtmp3kKPhr/model-259176664fd.stan', line 25, column 4 to column 41)\n",
            "\n",
            "Chain 4 If this warning occurs sporadically, such as for highly constrained variable types like covariance matrices, then the sampler is fine,\n",
            "\n",
            "Chain 4 but if this warning occurs often then your model may be either severely ill-conditioned or misspecified.\n",
            "\n",
            "Chain 4 \n",
            "\n",
            "Chain 4 Informational Message: The current Metropolis proposal is about to be rejected because of the following issue:\n",
            "\n",
            "Chain 4 Exception: neg_binomial_2_lpmf: Location parameter[1] is inf, but must be positive finite! (in '/tmp/Rtmp3kKPhr/model-259176664fd.stan', line 25, column 4 to column 41)\n",
            "\n",
            "Chain 4 If this warning occurs sporadically, such as for highly constrained variable types like covariance matrices, then the sampler is fine,\n",
            "\n",
            "Chain 4 but if this warning occurs often then your model may be either severely ill-conditioned or misspecified.\n",
            "\n",
            "Chain 4 \n",
            "\n",
            "Chain 4 Informational Message: The current Metropolis proposal is about to be rejected because of the following issue:\n",
            "\n",
            "Chain 4 Exception: neg_binomial_2_lpmf: Location parameter[1] is inf, but must be positive finite! (in '/tmp/Rtmp3kKPhr/model-259176664fd.stan', line 25, column 4 to column 41)\n",
            "\n",
            "Chain 4 If this warning occurs sporadically, such as for highly constrained variable types like covariance matrices, then the sampler is fine,\n",
            "\n",
            "Chain 4 but if this warning occurs often then your model may be either severely ill-conditioned or misspecified.\n",
            "\n",
            "Chain 4 \n",
            "\n",
            "Chain 4 Informational Message: The current Metropolis proposal is about to be rejected because of the following issue:\n",
            "\n",
            "Chain 4 Exception: neg_binomial_2_lpmf: Location parameter[1] is inf, but must be positive finite! (in '/tmp/Rtmp3kKPhr/model-259176664fd.stan', line 25, column 4 to column 41)\n",
            "\n",
            "Chain 4 If this warning occurs sporadically, such as for highly constrained variable types like covariance matrices, then the sampler is fine,\n",
            "\n",
            "Chain 4 but if this warning occurs often then your model may be either severely ill-conditioned or misspecified.\n",
            "\n",
            "Chain 4 \n",
            "\n",
            "Chain 4 Informational Message: The current Metropolis proposal is about to be rejected because of the following issue:\n",
            "\n",
            "Chain 4 Exception: neg_binomial_2_lpmf: Location parameter[29] is inf, but must be positive finite! (in '/tmp/Rtmp3kKPhr/model-259176664fd.stan', line 25, column 4 to column 41)\n",
            "\n",
            "Chain 4 If this warning occurs sporadically, such as for highly constrained variable types like covariance matrices, then the sampler is fine,\n",
            "\n",
            "Chain 4 but if this warning occurs often then your model may be either severely ill-conditioned or misspecified.\n",
            "\n",
            "Chain 4 \n",
            "\n",
            "Chain 4 Informational Message: The current Metropolis proposal is about to be rejected because of the following issue:\n",
            "\n",
            "Chain 4 Exception: neg_binomial_2_lpmf: Location parameter[1] is inf, but must be positive finite! (in '/tmp/Rtmp3kKPhr/model-259176664fd.stan', line 25, column 4 to column 41)\n",
            "\n",
            "Chain 4 If this warning occurs sporadically, such as for highly constrained variable types like covariance matrices, then the sampler is fine,\n",
            "\n",
            "Chain 4 but if this warning occurs often then your model may be either severely ill-conditioned or misspecified.\n",
            "\n",
            "Chain 4 \n",
            "\n",
            "Chain 4 Informational Message: The current Metropolis proposal is about to be rejected because of the following issue:\n",
            "\n",
            "Chain 4 Exception: neg_binomial_2_lpmf: Location parameter[1] is inf, but must be positive finite! (in '/tmp/Rtmp3kKPhr/model-259176664fd.stan', line 25, column 4 to column 41)\n",
            "\n",
            "Chain 4 If this warning occurs sporadically, such as for highly constrained variable types like covariance matrices, then the sampler is fine,\n",
            "\n",
            "Chain 4 but if this warning occurs often then your model may be either severely ill-conditioned or misspecified.\n",
            "\n",
            "Chain 4 \n",
            "\n"
          ]
        },
        {
          "output_type": "stream",
          "name": "stdout",
          "text": [
            "Chain 1 Iteration: 100 / 1000 [ 10%]  (Warmup) \n",
            "Chain 1 Iteration: 200 / 1000 [ 20%]  (Warmup) \n",
            "Chain 1 Iteration: 300 / 1000 [ 30%]  (Warmup) \n",
            "Chain 1 Iteration: 400 / 1000 [ 40%]  (Warmup) \n",
            "Chain 1 Iteration: 500 / 1000 [ 50%]  (Warmup) \n",
            "Chain 1 Iteration: 501 / 1000 [ 50%]  (Sampling) \n",
            "Chain 1 Iteration: 600 / 1000 [ 60%]  (Sampling) \n",
            "Chain 2 Iteration: 200 / 1000 [ 20%]  (Warmup) \n",
            "Chain 2 Iteration: 300 / 1000 [ 30%]  (Warmup) \n",
            "Chain 2 Iteration: 400 / 1000 [ 40%]  (Warmup) \n",
            "Chain 2 Iteration: 500 / 1000 [ 50%]  (Warmup) \n",
            "Chain 2 Iteration: 501 / 1000 [ 50%]  (Sampling) \n",
            "Chain 2 Iteration: 600 / 1000 [ 60%]  (Sampling) \n",
            "Chain 2 Iteration: 700 / 1000 [ 70%]  (Sampling) \n",
            "Chain 3 Iteration: 300 / 1000 [ 30%]  (Warmup) \n",
            "Chain 3 Iteration: 400 / 1000 [ 40%]  (Warmup) \n",
            "Chain 3 Iteration: 500 / 1000 [ 50%]  (Warmup) \n",
            "Chain 3 Iteration: 501 / 1000 [ 50%]  (Sampling) \n",
            "Chain 3 Iteration: 600 / 1000 [ 60%]  (Sampling) \n",
            "Chain 3 Iteration: 700 / 1000 [ 70%]  (Sampling) \n",
            "Chain 4 Iteration: 400 / 1000 [ 40%]  (Warmup) \n",
            "Chain 4 Iteration: 500 / 1000 [ 50%]  (Warmup) \n",
            "Chain 4 Iteration: 501 / 1000 [ 50%]  (Sampling) \n",
            "Chain 4 Iteration: 600 / 1000 [ 60%]  (Sampling) \n",
            "Chain 1 Iteration: 700 / 1000 [ 70%]  (Sampling) \n",
            "Chain 3 Iteration: 800 / 1000 [ 80%]  (Sampling) \n",
            "Chain 1 Iteration: 800 / 1000 [ 80%]  (Sampling) \n",
            "Chain 2 Iteration: 800 / 1000 [ 80%]  (Sampling) \n",
            "Chain 4 Iteration: 700 / 1000 [ 70%]  (Sampling) \n",
            "Chain 1 Iteration: 900 / 1000 [ 90%]  (Sampling) \n",
            "Chain 2 Iteration: 900 / 1000 [ 90%]  (Sampling) \n",
            "Chain 3 Iteration: 900 / 1000 [ 90%]  (Sampling) \n",
            "Chain 2 Iteration: 1000 / 1000 [100%]  (Sampling) \n",
            "Chain 4 Iteration: 800 / 1000 [ 80%]  (Sampling) \n",
            "Chain 2 finished in 3.2 seconds.\n",
            "Chain 1 Iteration: 1000 / 1000 [100%]  (Sampling) \n",
            "Chain 3 Iteration: 1000 / 1000 [100%]  (Sampling) \n",
            "Chain 4 Iteration: 900 / 1000 [ 90%]  (Sampling) \n",
            "Chain 1 finished in 3.3 seconds.\n",
            "Chain 3 finished in 3.2 seconds.\n",
            "Chain 4 Iteration: 1000 / 1000 [100%]  (Sampling) \n",
            "Chain 4 finished in 3.3 seconds.\n",
            "\n",
            "All 4 chains finished successfully.\n",
            "Mean chain execution time: 3.3 seconds.\n",
            "Total execution time: 3.5 seconds.\n",
            "\n",
            "Running MCMC with 4 parallel chains, with 1 thread(s) per chain...\n",
            "\n",
            "Chain 1 Iteration:   1 / 1000 [  0%]  (Warmup) \n"
          ]
        },
        {
          "output_type": "stream",
          "name": "stderr",
          "text": [
            "Chain 1 Informational Message: The current Metropolis proposal is about to be rejected because of the following issue:\n",
            "\n",
            "Chain 1 Exception: neg_binomial_2_lpmf: Location parameter[1] is 0, but must be positive finite! (in '/tmp/Rtmp3kKPhr/model-2594a9ca442.stan', line 25, column 4 to column 41)\n",
            "\n",
            "Chain 1 If this warning occurs sporadically, such as for highly constrained variable types like covariance matrices, then the sampler is fine,\n",
            "\n",
            "Chain 1 but if this warning occurs often then your model may be either severely ill-conditioned or misspecified.\n",
            "\n",
            "Chain 1 \n",
            "\n",
            "Chain 1 Informational Message: The current Metropolis proposal is about to be rejected because of the following issue:\n",
            "\n",
            "Chain 1 Exception: neg_binomial_2_lpmf: Location parameter[1] is 0, but must be positive finite! (in '/tmp/Rtmp3kKPhr/model-2594a9ca442.stan', line 25, column 4 to column 41)\n",
            "\n",
            "Chain 1 If this warning occurs sporadically, such as for highly constrained variable types like covariance matrices, then the sampler is fine,\n",
            "\n",
            "Chain 1 but if this warning occurs often then your model may be either severely ill-conditioned or misspecified.\n",
            "\n",
            "Chain 1 \n",
            "\n",
            "Chain 1 Informational Message: The current Metropolis proposal is about to be rejected because of the following issue:\n",
            "\n",
            "Chain 1 Exception: neg_binomial_2_lpmf: Location parameter[1] is 0, but must be positive finite! (in '/tmp/Rtmp3kKPhr/model-2594a9ca442.stan', line 25, column 4 to column 41)\n",
            "\n",
            "Chain 1 If this warning occurs sporadically, such as for highly constrained variable types like covariance matrices, then the sampler is fine,\n",
            "\n",
            "Chain 1 but if this warning occurs often then your model may be either severely ill-conditioned or misspecified.\n",
            "\n",
            "Chain 1 \n",
            "\n",
            "Chain 1 Informational Message: The current Metropolis proposal is about to be rejected because of the following issue:\n",
            "\n",
            "Chain 1 Exception: neg_binomial_2_lpmf: Location parameter[4] is 0, but must be positive finite! (in '/tmp/Rtmp3kKPhr/model-2594a9ca442.stan', line 25, column 4 to column 41)\n",
            "\n",
            "Chain 1 If this warning occurs sporadically, such as for highly constrained variable types like covariance matrices, then the sampler is fine,\n",
            "\n",
            "Chain 1 but if this warning occurs often then your model may be either severely ill-conditioned or misspecified.\n",
            "\n",
            "Chain 1 \n",
            "\n",
            "Chain 1 Informational Message: The current Metropolis proposal is about to be rejected because of the following issue:\n",
            "\n",
            "Chain 1 Exception: neg_binomial_2_lpmf: Location parameter[1] is 0, but must be positive finite! (in '/tmp/Rtmp3kKPhr/model-2594a9ca442.stan', line 25, column 4 to column 41)\n",
            "\n",
            "Chain 1 If this warning occurs sporadically, such as for highly constrained variable types like covariance matrices, then the sampler is fine,\n",
            "\n",
            "Chain 1 but if this warning occurs often then your model may be either severely ill-conditioned or misspecified.\n",
            "\n",
            "Chain 1 \n",
            "\n",
            "Chain 1 Informational Message: The current Metropolis proposal is about to be rejected because of the following issue:\n",
            "\n",
            "Chain 1 Exception: neg_binomial_2_lpmf: Location parameter[1] is 0, but must be positive finite! (in '/tmp/Rtmp3kKPhr/model-2594a9ca442.stan', line 25, column 4 to column 41)\n",
            "\n",
            "Chain 1 If this warning occurs sporadically, such as for highly constrained variable types like covariance matrices, then the sampler is fine,\n",
            "\n",
            "Chain 1 but if this warning occurs often then your model may be either severely ill-conditioned or misspecified.\n",
            "\n",
            "Chain 1 \n",
            "\n"
          ]
        },
        {
          "output_type": "stream",
          "name": "stdout",
          "text": [
            "Chain 2 Iteration:   1 / 1000 [  0%]  (Warmup) \n",
            "Chain 2 Iteration: 100 / 1000 [ 10%]  (Warmup) \n"
          ]
        },
        {
          "output_type": "stream",
          "name": "stderr",
          "text": [
            "Chain 2 Informational Message: The current Metropolis proposal is about to be rejected because of the following issue:\n",
            "\n",
            "Chain 2 Exception: neg_binomial_2_lpmf: Location parameter[1] is inf, but must be positive finite! (in '/tmp/Rtmp3kKPhr/model-2594a9ca442.stan', line 25, column 4 to column 41)\n",
            "\n",
            "Chain 2 If this warning occurs sporadically, such as for highly constrained variable types like covariance matrices, then the sampler is fine,\n",
            "\n",
            "Chain 2 but if this warning occurs often then your model may be either severely ill-conditioned or misspecified.\n",
            "\n",
            "Chain 2 \n",
            "\n",
            "Chain 2 Informational Message: The current Metropolis proposal is about to be rejected because of the following issue:\n",
            "\n",
            "Chain 2 Exception: neg_binomial_2_lpmf: Location parameter[1] is inf, but must be positive finite! (in '/tmp/Rtmp3kKPhr/model-2594a9ca442.stan', line 25, column 4 to column 41)\n",
            "\n",
            "Chain 2 If this warning occurs sporadically, such as for highly constrained variable types like covariance matrices, then the sampler is fine,\n",
            "\n",
            "Chain 2 but if this warning occurs often then your model may be either severely ill-conditioned or misspecified.\n",
            "\n",
            "Chain 2 \n",
            "\n",
            "Chain 2 Informational Message: The current Metropolis proposal is about to be rejected because of the following issue:\n",
            "\n",
            "Chain 2 Exception: neg_binomial_2_lpmf: Location parameter[1] is inf, but must be positive finite! (in '/tmp/Rtmp3kKPhr/model-2594a9ca442.stan', line 25, column 4 to column 41)\n",
            "\n",
            "Chain 2 If this warning occurs sporadically, such as for highly constrained variable types like covariance matrices, then the sampler is fine,\n",
            "\n",
            "Chain 2 but if this warning occurs often then your model may be either severely ill-conditioned or misspecified.\n",
            "\n",
            "Chain 2 \n",
            "\n",
            "Chain 2 Informational Message: The current Metropolis proposal is about to be rejected because of the following issue:\n",
            "\n",
            "Chain 2 Exception: neg_binomial_2_lpmf: Location parameter[51] is inf, but must be positive finite! (in '/tmp/Rtmp3kKPhr/model-2594a9ca442.stan', line 25, column 4 to column 41)\n",
            "\n",
            "Chain 2 If this warning occurs sporadically, such as for highly constrained variable types like covariance matrices, then the sampler is fine,\n",
            "\n",
            "Chain 2 but if this warning occurs often then your model may be either severely ill-conditioned or misspecified.\n",
            "\n",
            "Chain 2 \n",
            "\n",
            "Chain 2 Informational Message: The current Metropolis proposal is about to be rejected because of the following issue:\n",
            "\n",
            "Chain 2 Exception: neg_binomial_2_lpmf: Location parameter[1] is 0, but must be positive finite! (in '/tmp/Rtmp3kKPhr/model-2594a9ca442.stan', line 25, column 4 to column 41)\n",
            "\n",
            "Chain 2 If this warning occurs sporadically, such as for highly constrained variable types like covariance matrices, then the sampler is fine,\n",
            "\n",
            "Chain 2 but if this warning occurs often then your model may be either severely ill-conditioned or misspecified.\n",
            "\n",
            "Chain 2 \n",
            "\n"
          ]
        },
        {
          "output_type": "stream",
          "name": "stdout",
          "text": [
            "Chain 3 Iteration:   1 / 1000 [  0%]  (Warmup) \n",
            "Chain 3 Iteration: 100 / 1000 [ 10%]  (Warmup) \n",
            "Chain 3 Iteration: 200 / 1000 [ 20%]  (Warmup) \n"
          ]
        },
        {
          "output_type": "stream",
          "name": "stderr",
          "text": [
            "Chain 3 Informational Message: The current Metropolis proposal is about to be rejected because of the following issue:\n",
            "\n",
            "Chain 3 Exception: neg_binomial_2_lpmf: Location parameter[1] is inf, but must be positive finite! (in '/tmp/Rtmp3kKPhr/model-2594a9ca442.stan', line 25, column 4 to column 41)\n",
            "\n",
            "Chain 3 If this warning occurs sporadically, such as for highly constrained variable types like covariance matrices, then the sampler is fine,\n",
            "\n",
            "Chain 3 but if this warning occurs often then your model may be either severely ill-conditioned or misspecified.\n",
            "\n",
            "Chain 3 \n",
            "\n",
            "Chain 3 Informational Message: The current Metropolis proposal is about to be rejected because of the following issue:\n",
            "\n",
            "Chain 3 Exception: neg_binomial_2_lpmf: Location parameter[1] is inf, but must be positive finite! (in '/tmp/Rtmp3kKPhr/model-2594a9ca442.stan', line 25, column 4 to column 41)\n",
            "\n",
            "Chain 3 If this warning occurs sporadically, such as for highly constrained variable types like covariance matrices, then the sampler is fine,\n",
            "\n",
            "Chain 3 but if this warning occurs often then your model may be either severely ill-conditioned or misspecified.\n",
            "\n",
            "Chain 3 \n",
            "\n",
            "Chain 3 Informational Message: The current Metropolis proposal is about to be rejected because of the following issue:\n",
            "\n",
            "Chain 3 Exception: neg_binomial_2_lpmf: Location parameter[1] is inf, but must be positive finite! (in '/tmp/Rtmp3kKPhr/model-2594a9ca442.stan', line 25, column 4 to column 41)\n",
            "\n",
            "Chain 3 If this warning occurs sporadically, such as for highly constrained variable types like covariance matrices, then the sampler is fine,\n",
            "\n",
            "Chain 3 but if this warning occurs often then your model may be either severely ill-conditioned or misspecified.\n",
            "\n",
            "Chain 3 \n",
            "\n",
            "Chain 3 Informational Message: The current Metropolis proposal is about to be rejected because of the following issue:\n",
            "\n",
            "Chain 3 Exception: neg_binomial_2_lpmf: Location parameter[1] is inf, but must be positive finite! (in '/tmp/Rtmp3kKPhr/model-2594a9ca442.stan', line 25, column 4 to column 41)\n",
            "\n",
            "Chain 3 If this warning occurs sporadically, such as for highly constrained variable types like covariance matrices, then the sampler is fine,\n",
            "\n",
            "Chain 3 but if this warning occurs often then your model may be either severely ill-conditioned or misspecified.\n",
            "\n",
            "Chain 3 \n",
            "\n",
            "Chain 3 Informational Message: The current Metropolis proposal is about to be rejected because of the following issue:\n",
            "\n",
            "Chain 3 Exception: neg_binomial_2_lpmf: Location parameter[5] is 0, but must be positive finite! (in '/tmp/Rtmp3kKPhr/model-2594a9ca442.stan', line 25, column 4 to column 41)\n",
            "\n",
            "Chain 3 If this warning occurs sporadically, such as for highly constrained variable types like covariance matrices, then the sampler is fine,\n",
            "\n",
            "Chain 3 but if this warning occurs often then your model may be either severely ill-conditioned or misspecified.\n",
            "\n",
            "Chain 3 \n",
            "\n",
            "Chain 3 Informational Message: The current Metropolis proposal is about to be rejected because of the following issue:\n",
            "\n",
            "Chain 3 Exception: neg_binomial_2_lpmf: Location parameter[1] is inf, but must be positive finite! (in '/tmp/Rtmp3kKPhr/model-2594a9ca442.stan', line 25, column 4 to column 41)\n",
            "\n",
            "Chain 3 If this warning occurs sporadically, such as for highly constrained variable types like covariance matrices, then the sampler is fine,\n",
            "\n",
            "Chain 3 but if this warning occurs often then your model may be either severely ill-conditioned or misspecified.\n",
            "\n",
            "Chain 3 \n",
            "\n",
            "Chain 3 Informational Message: The current Metropolis proposal is about to be rejected because of the following issue:\n",
            "\n",
            "Chain 3 Exception: neg_binomial_2_lpmf: Location parameter[1] is inf, but must be positive finite! (in '/tmp/Rtmp3kKPhr/model-2594a9ca442.stan', line 25, column 4 to column 41)\n",
            "\n",
            "Chain 3 If this warning occurs sporadically, such as for highly constrained variable types like covariance matrices, then the sampler is fine,\n",
            "\n",
            "Chain 3 but if this warning occurs often then your model may be either severely ill-conditioned or misspecified.\n",
            "\n",
            "Chain 3 \n",
            "\n"
          ]
        },
        {
          "output_type": "stream",
          "name": "stdout",
          "text": [
            "Chain 4 Iteration:   1 / 1000 [  0%]  (Warmup) \n",
            "Chain 4 Iteration: 100 / 1000 [ 10%]  (Warmup) \n",
            "Chain 4 Iteration: 200 / 1000 [ 20%]  (Warmup) \n"
          ]
        },
        {
          "output_type": "stream",
          "name": "stderr",
          "text": [
            "Chain 4 Informational Message: The current Metropolis proposal is about to be rejected because of the following issue:\n",
            "\n",
            "Chain 4 Exception: neg_binomial_2_lpmf: Location parameter[1] is inf, but must be positive finite! (in '/tmp/Rtmp3kKPhr/model-2594a9ca442.stan', line 25, column 4 to column 41)\n",
            "\n",
            "Chain 4 If this warning occurs sporadically, such as for highly constrained variable types like covariance matrices, then the sampler is fine,\n",
            "\n",
            "Chain 4 but if this warning occurs often then your model may be either severely ill-conditioned or misspecified.\n",
            "\n",
            "Chain 4 \n",
            "\n",
            "Chain 4 Informational Message: The current Metropolis proposal is about to be rejected because of the following issue:\n",
            "\n",
            "Chain 4 Exception: neg_binomial_2_lpmf: Location parameter[3] is inf, but must be positive finite! (in '/tmp/Rtmp3kKPhr/model-2594a9ca442.stan', line 25, column 4 to column 41)\n",
            "\n",
            "Chain 4 If this warning occurs sporadically, such as for highly constrained variable types like covariance matrices, then the sampler is fine,\n",
            "\n",
            "Chain 4 but if this warning occurs often then your model may be either severely ill-conditioned or misspecified.\n",
            "\n",
            "Chain 4 \n",
            "\n",
            "Chain 4 Informational Message: The current Metropolis proposal is about to be rejected because of the following issue:\n",
            "\n",
            "Chain 4 Exception: neg_binomial_2_lpmf: Location parameter[51] is inf, but must be positive finite! (in '/tmp/Rtmp3kKPhr/model-2594a9ca442.stan', line 25, column 4 to column 41)\n",
            "\n",
            "Chain 4 If this warning occurs sporadically, such as for highly constrained variable types like covariance matrices, then the sampler is fine,\n",
            "\n",
            "Chain 4 but if this warning occurs often then your model may be either severely ill-conditioned or misspecified.\n",
            "\n",
            "Chain 4 \n",
            "\n",
            "Chain 4 Informational Message: The current Metropolis proposal is about to be rejected because of the following issue:\n",
            "\n",
            "Chain 4 Exception: neg_binomial_2_lpmf: Location parameter[1] is 0, but must be positive finite! (in '/tmp/Rtmp3kKPhr/model-2594a9ca442.stan', line 25, column 4 to column 41)\n",
            "\n",
            "Chain 4 If this warning occurs sporadically, such as for highly constrained variable types like covariance matrices, then the sampler is fine,\n",
            "\n",
            "Chain 4 but if this warning occurs often then your model may be either severely ill-conditioned or misspecified.\n",
            "\n",
            "Chain 4 \n",
            "\n",
            "Chain 4 Informational Message: The current Metropolis proposal is about to be rejected because of the following issue:\n",
            "\n",
            "Chain 4 Exception: neg_binomial_2_lpmf: Location parameter[4] is 0, but must be positive finite! (in '/tmp/Rtmp3kKPhr/model-2594a9ca442.stan', line 25, column 4 to column 41)\n",
            "\n",
            "Chain 4 If this warning occurs sporadically, such as for highly constrained variable types like covariance matrices, then the sampler is fine,\n",
            "\n",
            "Chain 4 but if this warning occurs often then your model may be either severely ill-conditioned or misspecified.\n",
            "\n",
            "Chain 4 \n",
            "\n"
          ]
        },
        {
          "output_type": "stream",
          "name": "stdout",
          "text": [
            "Chain 1 Iteration: 100 / 1000 [ 10%]  (Warmup) \n",
            "Chain 1 Iteration: 200 / 1000 [ 20%]  (Warmup) \n",
            "Chain 1 Iteration: 300 / 1000 [ 30%]  (Warmup) \n",
            "Chain 1 Iteration: 400 / 1000 [ 40%]  (Warmup) \n",
            "Chain 1 Iteration: 500 / 1000 [ 50%]  (Warmup) \n",
            "Chain 1 Iteration: 501 / 1000 [ 50%]  (Sampling) \n",
            "Chain 1 Iteration: 600 / 1000 [ 60%]  (Sampling) \n",
            "Chain 1 Iteration: 700 / 1000 [ 70%]  (Sampling) \n",
            "Chain 1 Iteration: 800 / 1000 [ 80%]  (Sampling) \n",
            "Chain 2 Iteration: 200 / 1000 [ 20%]  (Warmup) \n",
            "Chain 2 Iteration: 300 / 1000 [ 30%]  (Warmup) \n",
            "Chain 2 Iteration: 400 / 1000 [ 40%]  (Warmup) \n",
            "Chain 3 Iteration: 300 / 1000 [ 30%]  (Warmup) \n",
            "Chain 3 Iteration: 400 / 1000 [ 40%]  (Warmup) \n",
            "Chain 3 Iteration: 500 / 1000 [ 50%]  (Warmup) \n",
            "Chain 3 Iteration: 501 / 1000 [ 50%]  (Sampling) \n",
            "Chain 4 Iteration: 300 / 1000 [ 30%]  (Warmup) \n",
            "Chain 4 Iteration: 400 / 1000 [ 40%]  (Warmup) \n",
            "Chain 4 Iteration: 500 / 1000 [ 50%]  (Warmup) \n",
            "Chain 4 Iteration: 501 / 1000 [ 50%]  (Sampling) \n",
            "Chain 4 Iteration: 600 / 1000 [ 60%]  (Sampling) \n",
            "Chain 1 Iteration: 900 / 1000 [ 90%]  (Sampling) \n",
            "Chain 2 Iteration: 500 / 1000 [ 50%]  (Warmup) \n",
            "Chain 2 Iteration: 501 / 1000 [ 50%]  (Sampling) \n",
            "Chain 2 Iteration: 600 / 1000 [ 60%]  (Sampling) \n",
            "Chain 3 Iteration: 600 / 1000 [ 60%]  (Sampling) \n",
            "Chain 4 Iteration: 700 / 1000 [ 70%]  (Sampling) \n",
            "Chain 1 Iteration: 1000 / 1000 [100%]  (Sampling) \n",
            "Chain 1 finished in 2.6 seconds.\n",
            "Chain 2 Iteration: 700 / 1000 [ 70%]  (Sampling) \n",
            "Chain 3 Iteration: 700 / 1000 [ 70%]  (Sampling) \n",
            "Chain 4 Iteration: 800 / 1000 [ 80%]  (Sampling) \n",
            "Chain 2 Iteration: 800 / 1000 [ 80%]  (Sampling) \n",
            "Chain 2 Iteration: 900 / 1000 [ 90%]  (Sampling) \n",
            "Chain 3 Iteration: 800 / 1000 [ 80%]  (Sampling) \n",
            "Chain 4 Iteration: 900 / 1000 [ 90%]  (Sampling) \n",
            "Chain 2 Iteration: 1000 / 1000 [100%]  (Sampling) \n",
            "Chain 3 Iteration: 900 / 1000 [ 90%]  (Sampling) \n",
            "Chain 4 Iteration: 1000 / 1000 [100%]  (Sampling) \n",
            "Chain 2 finished in 2.9 seconds.\n",
            "Chain 4 finished in 2.8 seconds.\n",
            "Chain 3 Iteration: 1000 / 1000 [100%]  (Sampling) \n",
            "Chain 3 finished in 2.9 seconds.\n",
            "\n",
            "All 4 chains finished successfully.\n",
            "Mean chain execution time: 2.8 seconds.\n",
            "Total execution time: 3.1 seconds.\n",
            "\n"
          ]
        }
      ]
    },
    {
      "cell_type": "code",
      "source": [
        "round(precis(m_P), 2)\n",
        "round(precis(m_B), 2)"
      ],
      "metadata": {
        "colab": {
          "base_uri": "https://localhost:8080/",
          "height": 492
        },
        "id": "JNXK2EHbE_Oa",
        "outputId": "791429e6-b037-4309-f273-07d723376bfe"
      },
      "execution_count": null,
      "outputs": [
        {
          "output_type": "display_data",
          "data": {
            "text/html": [
              "<table class=\"dataframe\">\n",
              "<caption>A data.frame: 5 × 6</caption>\n",
              "<thead>\n",
              "\t<tr><th></th><th scope=col>mean</th><th scope=col>sd</th><th scope=col>5.5%</th><th scope=col>94.5%</th><th scope=col>rhat</th><th scope=col>ess_bulk</th></tr>\n",
              "\t<tr><th></th><th scope=col>&lt;dbl&gt;</th><th scope=col>&lt;dbl&gt;</th><th scope=col>&lt;dbl&gt;</th><th scope=col>&lt;dbl&gt;</th><th scope=col>&lt;dbl&gt;</th><th scope=col>&lt;dbl&gt;</th></tr>\n",
              "</thead>\n",
              "<tbody>\n",
              "\t<tr><th scope=row>a</th><td> 1.93</td><td>0.31</td><td> 1.45</td><td> 2.44</td><td>1.00</td><td> 846.46</td></tr>\n",
              "\t<tr><th scope=row>bF</th><td> 0.12</td><td>0.04</td><td> 0.05</td><td> 0.19</td><td>1.00</td><td> 841.20</td></tr>\n",
              "\t<tr><th scope=row>bP</th><td>-1.17</td><td>0.33</td><td>-1.71</td><td>-0.68</td><td>1.01</td><td>1066.68</td></tr>\n",
              "\t<tr><th scope=row>bFP</th><td> 0.08</td><td>0.04</td><td> 0.02</td><td> 0.14</td><td>1.01</td><td>1137.61</td></tr>\n",
              "\t<tr><th scope=row>scale</th><td> 0.55</td><td>0.08</td><td> 0.43</td><td> 0.68</td><td>1.00</td><td>1459.99</td></tr>\n",
              "</tbody>\n",
              "</table>\n"
            ],
            "text/markdown": "\nA data.frame: 5 × 6\n\n| <!--/--> | mean &lt;dbl&gt; | sd &lt;dbl&gt; | 5.5% &lt;dbl&gt; | 94.5% &lt;dbl&gt; | rhat &lt;dbl&gt; | ess_bulk &lt;dbl&gt; |\n|---|---|---|---|---|---|---|\n| a |  1.93 | 0.31 |  1.45 |  2.44 | 1.00 |  846.46 |\n| bF |  0.12 | 0.04 |  0.05 |  0.19 | 1.00 |  841.20 |\n| bP | -1.17 | 0.33 | -1.71 | -0.68 | 1.01 | 1066.68 |\n| bFP |  0.08 | 0.04 |  0.02 |  0.14 | 1.01 | 1137.61 |\n| scale |  0.55 | 0.08 |  0.43 |  0.68 | 1.00 | 1459.99 |\n\n",
            "text/latex": "A data.frame: 5 × 6\n\\begin{tabular}{r|llllll}\n  & mean & sd & 5.5\\% & 94.5\\% & rhat & ess\\_bulk\\\\\n  & <dbl> & <dbl> & <dbl> & <dbl> & <dbl> & <dbl>\\\\\n\\hline\n\ta &  1.93 & 0.31 &  1.45 &  2.44 & 1.00 &  846.46\\\\\n\tbF &  0.12 & 0.04 &  0.05 &  0.19 & 1.00 &  841.20\\\\\n\tbP & -1.17 & 0.33 & -1.71 & -0.68 & 1.01 & 1066.68\\\\\n\tbFP &  0.08 & 0.04 &  0.02 &  0.14 & 1.01 & 1137.61\\\\\n\tscale &  0.55 & 0.08 &  0.43 &  0.68 & 1.00 & 1459.99\\\\\n\\end{tabular}\n",
            "text/plain": [
              "      mean  sd   5.5%  94.5% rhat ess_bulk\n",
              "a      1.93 0.31  1.45  2.44 1.00  846.46 \n",
              "bF     0.12 0.04  0.05  0.19 1.00  841.20 \n",
              "bP    -1.17 0.33 -1.71 -0.68 1.01 1066.68 \n",
              "bFP    0.08 0.04  0.02  0.14 1.01 1137.61 \n",
              "scale  0.55 0.08  0.43  0.68 1.00 1459.99 "
            ]
          },
          "metadata": {}
        },
        {
          "output_type": "display_data",
          "data": {
            "text/html": [
              "<table class=\"dataframe\">\n",
              "<caption>A data.frame: 5 × 6</caption>\n",
              "<thead>\n",
              "\t<tr><th></th><th scope=col>mean</th><th scope=col>sd</th><th scope=col>5.5%</th><th scope=col>94.5%</th><th scope=col>rhat</th><th scope=col>ess_bulk</th></tr>\n",
              "\t<tr><th></th><th scope=col>&lt;dbl&gt;</th><th scope=col>&lt;dbl&gt;</th><th scope=col>&lt;dbl&gt;</th><th scope=col>&lt;dbl&gt;</th><th scope=col>&lt;dbl&gt;</th><th scope=col>&lt;dbl&gt;</th></tr>\n",
              "</thead>\n",
              "<tbody>\n",
              "\t<tr><th scope=row>a</th><td>2.05</td><td>0.26</td><td> 1.65</td><td>2.46</td><td>1</td><td> 893.19</td></tr>\n",
              "\t<tr><th scope=row>bF</th><td>0.03</td><td>0.03</td><td>-0.03</td><td>0.08</td><td>1</td><td> 911.26</td></tr>\n",
              "\t<tr><th scope=row>bB</th><td>0.98</td><td>0.26</td><td> 0.57</td><td>1.39</td><td>1</td><td> 899.95</td></tr>\n",
              "\t<tr><th scope=row>bFB</th><td>0.06</td><td>0.04</td><td> 0.00</td><td>0.12</td><td>1</td><td> 869.29</td></tr>\n",
              "\t<tr><th scope=row>scale</th><td>1.06</td><td>0.18</td><td> 0.80</td><td>1.38</td><td>1</td><td>1051.97</td></tr>\n",
              "</tbody>\n",
              "</table>\n"
            ],
            "text/markdown": "\nA data.frame: 5 × 6\n\n| <!--/--> | mean &lt;dbl&gt; | sd &lt;dbl&gt; | 5.5% &lt;dbl&gt; | 94.5% &lt;dbl&gt; | rhat &lt;dbl&gt; | ess_bulk &lt;dbl&gt; |\n|---|---|---|---|---|---|---|\n| a | 2.05 | 0.26 |  1.65 | 2.46 | 1 |  893.19 |\n| bF | 0.03 | 0.03 | -0.03 | 0.08 | 1 |  911.26 |\n| bB | 0.98 | 0.26 |  0.57 | 1.39 | 1 |  899.95 |\n| bFB | 0.06 | 0.04 |  0.00 | 0.12 | 1 |  869.29 |\n| scale | 1.06 | 0.18 |  0.80 | 1.38 | 1 | 1051.97 |\n\n",
            "text/latex": "A data.frame: 5 × 6\n\\begin{tabular}{r|llllll}\n  & mean & sd & 5.5\\% & 94.5\\% & rhat & ess\\_bulk\\\\\n  & <dbl> & <dbl> & <dbl> & <dbl> & <dbl> & <dbl>\\\\\n\\hline\n\ta & 2.05 & 0.26 &  1.65 & 2.46 & 1 &  893.19\\\\\n\tbF & 0.03 & 0.03 & -0.03 & 0.08 & 1 &  911.26\\\\\n\tbB & 0.98 & 0.26 &  0.57 & 1.39 & 1 &  899.95\\\\\n\tbFB & 0.06 & 0.04 &  0.00 & 0.12 & 1 &  869.29\\\\\n\tscale & 1.06 & 0.18 &  0.80 & 1.38 & 1 & 1051.97\\\\\n\\end{tabular}\n",
            "text/plain": [
              "      mean sd   5.5%  94.5% rhat ess_bulk\n",
              "a     2.05 0.26  1.65 2.46  1     893.19 \n",
              "bF    0.03 0.03 -0.03 0.08  1     911.26 \n",
              "bB    0.98 0.26  0.57 1.39  1     899.95 \n",
              "bFB   0.06 0.04  0.00 0.12  1     869.29 \n",
              "scale 1.06 0.18  0.80 1.38  1    1051.97 "
            ]
          },
          "metadata": {}
        }
      ]
    },
    {
      "cell_type": "markdown",
      "source": [
        "In both models, the interaction coefficients are positive.  I'm not sure, but I think this is giving us conflicting conclusions: In the case of `damage_norm`, a positive coefficient means that feminine-named storms cause more deaths in accord with damage done by the storm, compared to masculine-named storms.  But in the case of `min_pressure`, remember that lower pressure means stronger storm, a positive coefficient means that feminine-named storms cause less deaths in accord with strength of the storm.  But I'm not sure if I'm interpretting this correctly, so let's build a few plots."
      ],
      "metadata": {
        "id": "7hZ-EI9RFzCD"
      }
    },
    {
      "cell_type": "code",
      "source": [
        "post_mP <- extract.samples(m_P)\n",
        "post_mB <- extract.samples(m_B)"
      ],
      "metadata": {
        "id": "EuWrGlowH7nZ"
      },
      "execution_count": null,
      "outputs": []
    },
    {
      "cell_type": "code",
      "source": [
        "F_cat1 <- 11*(1/3)\n",
        "F_cat2 <- 11*(2/3)\n",
        "F_cat3 <- 11*(3/3)\n",
        "\n",
        "P_seq <- seq(from=-3, to=3, length.out=100)\n",
        "B_seq <- seq(from=min(dlist$B), to=max(dlist$B), length.out=100)\n",
        "\n",
        "P_dat1 <- data.frame(F=F_cat1, P=P_seq)\n",
        "P_dat2 <- data.frame(F=F_cat2, P=P_seq)\n",
        "P_dat3 <- data.frame(F=F_cat3, P=P_seq)\n",
        "lambda_P1 <- link(m_P, data=P_dat1)\n",
        "lambda_P2 <- link(m_P, data=P_dat2)\n",
        "lambda_P3 <- link(m_P, data=P_dat3)\n",
        "mean_P1 <- apply(lambda_P1, 2, mean)\n",
        "mean_P2 <- apply(lambda_P2, 2, mean)\n",
        "mean_P3 <- apply(lambda_P3, 2, mean)\n",
        "PI_P1 <- apply(lambda_P1, 2, PI)\n",
        "PI_P2 <- apply(lambda_P2, 2, PI)\n",
        "PI_P3 <- apply(lambda_P3, 2, PI)\n",
        "\n",
        "B_dat1 <- data.frame(F=F_cat1, B=B_seq)\n",
        "B_dat2 <- data.frame(F=F_cat2, B=B_seq)\n",
        "B_dat3 <- data.frame(F=F_cat3, B=B_seq)\n",
        "lambda_B1 <- link(m_B, data=B_dat1)\n",
        "lambda_B2 <- link(m_B, data=B_dat2)\n",
        "lambda_B3 <- link(m_B, data=B_dat3)\n",
        "mean_B1 <- apply(lambda_B1, 2, mean)\n",
        "mean_B2 <- apply(lambda_B2, 2, mean)\n",
        "mean_B3 <- apply(lambda_B3, 2, mean)\n",
        "PI_B1 <- apply(lambda_B1, 2, PI)\n",
        "PI_B2 <- apply(lambda_B2, 2, PI)\n",
        "PI_B3 <- apply(lambda_B3, 2, PI)"
      ],
      "metadata": {
        "id": "s5aVZxQyIMup"
      },
      "execution_count": null,
      "outputs": []
    },
    {
      "cell_type": "code",
      "source": [
        "color_gradient <- colorRampPalette(c(\"blue\", \"deeppink\"))\n",
        "colors <- color_gradient(length(dlist$F))[as.numeric(cut(dlist$F, breaks=length(dlist$F)))]\n",
        "\n",
        "plot(dlist$D ~ dlist$P, col=colors, pch=19, main=\"Min Pressure\")\n",
        "lines(mean_P1 ~ P_seq, lty=1, col=\"blue\", lwd=1)\n",
        "shade(PI_P1, P_seq, col=col.alpha(\"blue\", 0.1))\n",
        "lines(mean_P2 ~ P_seq, lty=2, col=\"purple\", lwd=2)\n",
        "shade(PI_P2, P_seq, col=col.alpha(\"purple\", 0.1))\n",
        "lines(mean_P3 ~ P_seq, lty=3, col=\"deeppink\", lwd=3)\n",
        "shade(PI_P3, P_seq, col=col.alpha(\"deeppink\", 0.1))\n",
        "\n",
        "plot(dlist$D ~ dlist$B, col=colors, pch=19, main=\"Damage\")\n",
        "lines(mean_B1 ~ B_seq, lty=1, col=\"blue\", lwd=1)\n",
        "shade(PI_B1, B_seq, col=col.alpha(\"blue\", 0.1))\n",
        "lines(mean_B2 ~ B_seq, lty=2, col=\"purple\", lwd=2)\n",
        "shade(PI_B2, B_seq, col=col.alpha(\"purple\", 0.1))\n",
        "lines(mean_B3 ~ B_seq, lty=3, col=\"deeppink\", lwd=3)\n",
        "shade(PI_B3, B_seq, col=col.alpha(\"deeppink\", 0.1))"
      ],
      "metadata": {
        "colab": {
          "base_uri": "https://localhost:8080/",
          "height": 857
        },
        "id": "NkF9x-GvdhIY",
        "outputId": "2d6fc290-c669-4674-a143-8dc7f0833124"
      },
      "execution_count": null,
      "outputs": [
        {
          "output_type": "display_data",
          "data": {
            "text/plain": [
              "Plot with title “Min Pressure”"
            ],
            "image/png": "[encoded data removed]"
          },
          "metadata": {
            "image/png": {
              "width": 420,
              "height": 420
            }
          }
        },
        {
          "output_type": "display_data",
          "data": {
            "text/plain": [
              "Plot with title “Damage”"
            ],
            "image/png": "[encoded data removed]"
          },
          "metadata": {
            "image/png": {
              "width": 420,
              "height": 420
            }
          }
        }
      ]
    },
    {
      "cell_type": "markdown",
      "source": [
        "Our interpretations of the posteriors were correct.  But upon looking at the plots, it's clear that `damage_norm` does a better job of predicting `deaths` than `min_pressure`, maybe do to association between population density and infrastructure that could be damaged.  It further seems that there is *some* sort of interaction taking place (since the lines of different levels of `femininity` diverge as damage increases), but the evidence seems pretty weak: at least with 3 levels of `femininity`, the predictions are hevily overlapping and apparently driven by 3 storms with strongly feminine names."
      ],
      "metadata": {
        "id": "fTROLfTIiEC4"
      }
    },
    {
      "cell_type": "markdown",
      "source": [
        "Just out of interest, let's compare the fit of our models.  This could be important to further examine the hypothesis put forward in this question."
      ],
      "metadata": {
        "id": "agFoQsQKjTEz"
      }
    },
    {
      "cell_type": "code",
      "source": [
        "compare(m0, mF, mF2, m_P, m_B, func=WAIC)\n",
        "compare(m0, mF, mF2, m_P, m_B, func=PSIS)"
      ],
      "metadata": {
        "colab": {
          "base_uri": "https://localhost:8080/",
          "height": 709
        },
        "id": "yTDnXzABjktA",
        "outputId": "0420b2a1-c47b-42a7-e92a-20c3b5a665fc"
      },
      "execution_count": null,
      "outputs": [
        {
          "output_type": "display_data",
          "data": {
            "text/html": [
              "<table class=\"dataframe\">\n",
              "<caption>A compareIC: 5 × 6</caption>\n",
              "<thead>\n",
              "\t<tr><th></th><th scope=col>WAIC</th><th scope=col>SE</th><th scope=col>dWAIC</th><th scope=col>dSE</th><th scope=col>pWAIC</th><th scope=col>weight</th></tr>\n",
              "\t<tr><th></th><th scope=col>&lt;dbl&gt;</th><th scope=col>&lt;dbl&gt;</th><th scope=col>&lt;dbl&gt;</th><th scope=col>&lt;dbl&gt;</th><th scope=col>&lt;dbl&gt;</th><th scope=col>&lt;dbl&gt;</th></tr>\n",
              "</thead>\n",
              "<tbody>\n",
              "\t<tr><th scope=row>m_B</th><td> 630.9242</td><td>  30.98288</td><td>   0.00000</td><td>        NA</td><td>  5.436855</td><td>1.000000e+00</td></tr>\n",
              "\t<tr><th scope=row>m_P</th><td> 694.3140</td><td>  37.67515</td><td>  63.38988</td><td>  18.47197</td><td>  8.143315</td><td>1.718158e-14</td></tr>\n",
              "\t<tr><th scope=row>mF2</th><td> 709.9666</td><td>  32.40112</td><td>  79.04248</td><td>  12.10009</td><td>  3.623667</td><td>6.857151e-18</td></tr>\n",
              "\t<tr><th scope=row>mF</th><td>4396.3111</td><td> 990.78726</td><td>3765.38689</td><td> 979.84254</td><td>127.745096</td><td>0.000000e+00</td></tr>\n",
              "\t<tr><th scope=row>m0</th><td>4449.8553</td><td>1076.87841</td><td>3818.93117</td><td>1066.85545</td><td> 80.629001</td><td>0.000000e+00</td></tr>\n",
              "</tbody>\n",
              "</table>\n"
            ],
            "text/markdown": "\nA compareIC: 5 × 6\n\n| <!--/--> | WAIC &lt;dbl&gt; | SE &lt;dbl&gt; | dWAIC &lt;dbl&gt; | dSE &lt;dbl&gt; | pWAIC &lt;dbl&gt; | weight &lt;dbl&gt; |\n|---|---|---|---|---|---|---|\n| m_B |  630.9242 |   30.98288 |    0.00000 |         NA |   5.436855 | 1.000000e+00 |\n| m_P |  694.3140 |   37.67515 |   63.38988 |   18.47197 |   8.143315 | 1.718158e-14 |\n| mF2 |  709.9666 |   32.40112 |   79.04248 |   12.10009 |   3.623667 | 6.857151e-18 |\n| mF | 4396.3111 |  990.78726 | 3765.38689 |  979.84254 | 127.745096 | 0.000000e+00 |\n| m0 | 4449.8553 | 1076.87841 | 3818.93117 | 1066.85545 |  80.629001 | 0.000000e+00 |\n\n",
            "text/latex": "A compareIC: 5 × 6\n\\begin{tabular}{r|llllll}\n  & WAIC & SE & dWAIC & dSE & pWAIC & weight\\\\\n  & <dbl> & <dbl> & <dbl> & <dbl> & <dbl> & <dbl>\\\\\n\\hline\n\tm\\_B &  630.9242 &   30.98288 &    0.00000 &         NA &   5.436855 & 1.000000e+00\\\\\n\tm\\_P &  694.3140 &   37.67515 &   63.38988 &   18.47197 &   8.143315 & 1.718158e-14\\\\\n\tmF2 &  709.9666 &   32.40112 &   79.04248 &   12.10009 &   3.623667 & 6.857151e-18\\\\\n\tmF & 4396.3111 &  990.78726 & 3765.38689 &  979.84254 & 127.745096 & 0.000000e+00\\\\\n\tm0 & 4449.8553 & 1076.87841 & 3818.93117 & 1066.85545 &  80.629001 & 0.000000e+00\\\\\n\\end{tabular}\n",
            "text/plain": [
              "    WAIC      SE         dWAIC      dSE        pWAIC      weight      \n",
              "m_B  630.9242   30.98288    0.00000         NA   5.436855 1.000000e+00\n",
              "m_P  694.3140   37.67515   63.38988   18.47197   8.143315 1.718158e-14\n",
              "mF2  709.9666   32.40112   79.04248   12.10009   3.623667 6.857151e-18\n",
              "mF  4396.3111  990.78726 3765.38689  979.84254 127.745096 0.000000e+00\n",
              "m0  4449.8553 1076.87841 3818.93117 1066.85545  80.629001 0.000000e+00"
            ]
          },
          "metadata": {}
        },
        {
          "output_type": "stream",
          "name": "stderr",
          "text": [
            "Some Pareto k values are very high (>1). Set pointwise=TRUE to inspect individual points.\n",
            "\n",
            "Some Pareto k values are very high (>1). Set pointwise=TRUE to inspect individual points.\n",
            "\n",
            "Some Pareto k values are very high (>1). Set pointwise=TRUE to inspect individual points.\n",
            "\n"
          ]
        },
        {
          "output_type": "display_data",
          "data": {
            "text/html": [
              "<table class=\"dataframe\">\n",
              "<caption>A compareIC: 5 × 6</caption>\n",
              "<thead>\n",
              "\t<tr><th></th><th scope=col>PSIS</th><th scope=col>SE</th><th scope=col>dPSIS</th><th scope=col>dSE</th><th scope=col>pPSIS</th><th scope=col>weight</th></tr>\n",
              "\t<tr><th></th><th scope=col>&lt;dbl&gt;</th><th scope=col>&lt;dbl&gt;</th><th scope=col>&lt;dbl&gt;</th><th scope=col>&lt;dbl&gt;</th><th scope=col>&lt;dbl&gt;</th><th scope=col>&lt;dbl&gt;</th></tr>\n",
              "</thead>\n",
              "<tbody>\n",
              "\t<tr><th scope=row>m_B</th><td> 631.0153</td><td>  31.16873</td><td>   0.00000</td><td>        NA</td><td>  5.482409</td><td>1.000000e+00</td></tr>\n",
              "\t<tr><th scope=row>m_P</th><td> 696.0664</td><td>  38.87568</td><td>  65.05115</td><td>  19.57231</td><td>  9.019506</td><td>7.487248e-15</td></tr>\n",
              "\t<tr><th scope=row>mF2</th><td> 710.0029</td><td>  32.58687</td><td>  78.98767</td><td>  12.09810</td><td>  3.641816</td><td>7.047673e-18</td></tr>\n",
              "\t<tr><th scope=row>mF</th><td>4380.0677</td><td> 986.44575</td><td>3749.05240</td><td> 970.05922</td><td>119.623404</td><td>0.000000e+00</td></tr>\n",
              "\t<tr><th scope=row>m0</th><td>4436.0362</td><td>1073.16252</td><td>3805.02095</td><td>1057.21379</td><td> 73.719450</td><td>0.000000e+00</td></tr>\n",
              "</tbody>\n",
              "</table>\n"
            ],
            "text/markdown": "\nA compareIC: 5 × 6\n\n| <!--/--> | PSIS &lt;dbl&gt; | SE &lt;dbl&gt; | dPSIS &lt;dbl&gt; | dSE &lt;dbl&gt; | pPSIS &lt;dbl&gt; | weight &lt;dbl&gt; |\n|---|---|---|---|---|---|---|\n| m_B |  631.0153 |   31.16873 |    0.00000 |         NA |   5.482409 | 1.000000e+00 |\n| m_P |  696.0664 |   38.87568 |   65.05115 |   19.57231 |   9.019506 | 7.487248e-15 |\n| mF2 |  710.0029 |   32.58687 |   78.98767 |   12.09810 |   3.641816 | 7.047673e-18 |\n| mF | 4380.0677 |  986.44575 | 3749.05240 |  970.05922 | 119.623404 | 0.000000e+00 |\n| m0 | 4436.0362 | 1073.16252 | 3805.02095 | 1057.21379 |  73.719450 | 0.000000e+00 |\n\n",
            "text/latex": "A compareIC: 5 × 6\n\\begin{tabular}{r|llllll}\n  & PSIS & SE & dPSIS & dSE & pPSIS & weight\\\\\n  & <dbl> & <dbl> & <dbl> & <dbl> & <dbl> & <dbl>\\\\\n\\hline\n\tm\\_B &  631.0153 &   31.16873 &    0.00000 &         NA &   5.482409 & 1.000000e+00\\\\\n\tm\\_P &  696.0664 &   38.87568 &   65.05115 &   19.57231 &   9.019506 & 7.487248e-15\\\\\n\tmF2 &  710.0029 &   32.58687 &   78.98767 &   12.09810 &   3.641816 & 7.047673e-18\\\\\n\tmF & 4380.0677 &  986.44575 & 3749.05240 &  970.05922 & 119.623404 & 0.000000e+00\\\\\n\tm0 & 4436.0362 & 1073.16252 & 3805.02095 & 1057.21379 &  73.719450 & 0.000000e+00\\\\\n\\end{tabular}\n",
            "text/plain": [
              "    PSIS      SE         dPSIS      dSE        pPSIS      weight      \n",
              "m_B  631.0153   31.16873    0.00000         NA   5.482409 1.000000e+00\n",
              "m_P  696.0664   38.87568   65.05115   19.57231   9.019506 7.487248e-15\n",
              "mF2  710.0029   32.58687   78.98767   12.09810   3.641816 7.047673e-18\n",
              "mF  4380.0677  986.44575 3749.05240  970.05922 119.623404 0.000000e+00\n",
              "m0  4436.0362 1073.16252 3805.02095 1057.21379  73.719450 0.000000e+00"
            ]
          },
          "metadata": {}
        },
        {
          "output_type": "display_data",
          "data": {
            "text/html": [
              "<table class=\"dataframe\">\n",
              "<caption>A data.frame: 1 × 4</caption>\n",
              "<thead>\n",
              "\t<tr><th scope=col>PSIS</th><th scope=col>lppd</th><th scope=col>penalty</th><th scope=col>std_err</th></tr>\n",
              "\t<tr><th scope=col>&lt;dbl&gt;</th><th scope=col>&lt;dbl&gt;</th><th scope=col>&lt;dbl&gt;</th><th scope=col>&lt;dbl&gt;</th></tr>\n",
              "</thead>\n",
              "<tbody>\n",
              "\t<tr><td>631.0153</td><td>-315.5076</td><td>5.482409</td><td>31.16873</td></tr>\n",
              "</tbody>\n",
              "</table>\n"
            ],
            "text/markdown": "\nA data.frame: 1 × 4\n\n| PSIS &lt;dbl&gt; | lppd &lt;dbl&gt; | penalty &lt;dbl&gt; | std_err &lt;dbl&gt; |\n|---|---|---|---|\n| 631.0153 | -315.5076 | 5.482409 | 31.16873 |\n\n",
            "text/latex": "A data.frame: 1 × 4\n\\begin{tabular}{llll}\n PSIS & lppd & penalty & std\\_err\\\\\n <dbl> & <dbl> & <dbl> & <dbl>\\\\\n\\hline\n\t 631.0153 & -315.5076 & 5.482409 & 31.16873\\\\\n\\end{tabular}\n",
            "text/plain": [
              "  PSIS     lppd      penalty  std_err \n",
              "1 631.0153 -315.5076 5.482409 31.16873"
            ]
          },
          "metadata": {}
        }
      ]
    },
    {
      "cell_type": "markdown",
      "source": [
        "As expected, `m_B` performs best of our models."
      ],
      "metadata": {
        "id": "fbwOaFSpkWEq"
      }
    },
    {
      "cell_type": "markdown",
      "source": [
        "### 12H4\n",
        "\n",
        "In the original hurricanes paper, storm damage (`damage_norm`) was used directly. This assumption implies that mortality increases exponentially with a linear increase in storm strength, because a Poisson regression uses a log link. So it’s worth exploring an alternative hypothesis: that *the logarithm of storm strength is what matters*. Explore this by using the logarithm of `damage_norm` as a predictor. Using the best model structure from the previous problem, compare a model that uses `log(damage_norm)` to a model that uses `damage_norm` directly. Compare their PSIS/WAIC values as well as their implied predictions. What do you conclude?\n",
        "\n",
        "#### Answer\n",
        "I really should start reading all questions ahead of time; we already used `log(damage_norm)` in the previous question.  So I guess we should here use `damage_norm` directly."
      ],
      "metadata": {
        "id": "xSxJCzhwS8MP"
      }
    },
    {
      "cell_type": "code",
      "source": [
        "data(Hurricanes)\n",
        "?Hurricanes\n",
        "\n",
        "d <- Hurricanes\n",
        "head(d)"
      ],
      "metadata": {
        "colab": {
          "base_uri": "https://localhost:8080/",
          "height": 286
        },
        "outputId": "72571dce-c235-4062-cd17-69632220a032",
        "id": "yZD3_y0WUTEp"
      },
      "execution_count": null,
      "outputs": [
        {
          "output_type": "display_data",
          "data": {
            "text/html": [
              "<table class=\"dataframe\">\n",
              "<caption>A data.frame: 6 × 8</caption>\n",
              "<thead>\n",
              "\t<tr><th></th><th scope=col>name</th><th scope=col>year</th><th scope=col>deaths</th><th scope=col>category</th><th scope=col>min_pressure</th><th scope=col>damage_norm</th><th scope=col>female</th><th scope=col>femininity</th></tr>\n",
              "\t<tr><th></th><th scope=col>&lt;fct&gt;</th><th scope=col>&lt;int&gt;</th><th scope=col>&lt;int&gt;</th><th scope=col>&lt;int&gt;</th><th scope=col>&lt;int&gt;</th><th scope=col>&lt;int&gt;</th><th scope=col>&lt;int&gt;</th><th scope=col>&lt;dbl&gt;</th></tr>\n",
              "</thead>\n",
              "<tbody>\n",
              "\t<tr><th scope=row>1</th><td>Easy    </td><td>1950</td><td> 2</td><td>3</td><td>960</td><td> 1590</td><td>1</td><td>6.77778</td></tr>\n",
              "\t<tr><th scope=row>2</th><td>King    </td><td>1950</td><td> 4</td><td>3</td><td>955</td><td> 5350</td><td>0</td><td>1.38889</td></tr>\n",
              "\t<tr><th scope=row>3</th><td>Able    </td><td>1952</td><td> 3</td><td>1</td><td>985</td><td>  150</td><td>0</td><td>3.83333</td></tr>\n",
              "\t<tr><th scope=row>4</th><td>Barbara </td><td>1953</td><td> 1</td><td>1</td><td>987</td><td>   58</td><td>1</td><td>9.83333</td></tr>\n",
              "\t<tr><th scope=row>5</th><td>Florence</td><td>1953</td><td> 0</td><td>1</td><td>985</td><td>   15</td><td>1</td><td>8.33333</td></tr>\n",
              "\t<tr><th scope=row>6</th><td>Carol   </td><td>1954</td><td>60</td><td>3</td><td>960</td><td>19321</td><td>1</td><td>8.11111</td></tr>\n",
              "</tbody>\n",
              "</table>\n"
            ],
            "text/markdown": "\nA data.frame: 6 × 8\n\n| <!--/--> | name &lt;fct&gt; | year &lt;int&gt; | deaths &lt;int&gt; | category &lt;int&gt; | min_pressure &lt;int&gt; | damage_norm &lt;int&gt; | female &lt;int&gt; | femininity &lt;dbl&gt; |\n|---|---|---|---|---|---|---|---|---|\n| 1 | Easy     | 1950 |  2 | 3 | 960 |  1590 | 1 | 6.77778 |\n| 2 | King     | 1950 |  4 | 3 | 955 |  5350 | 0 | 1.38889 |\n| 3 | Able     | 1952 |  3 | 1 | 985 |   150 | 0 | 3.83333 |\n| 4 | Barbara  | 1953 |  1 | 1 | 987 |    58 | 1 | 9.83333 |\n| 5 | Florence | 1953 |  0 | 1 | 985 |    15 | 1 | 8.33333 |\n| 6 | Carol    | 1954 | 60 | 3 | 960 | 19321 | 1 | 8.11111 |\n\n",
            "text/latex": "A data.frame: 6 × 8\n\\begin{tabular}{r|llllllll}\n  & name & year & deaths & category & min\\_pressure & damage\\_norm & female & femininity\\\\\n  & <fct> & <int> & <int> & <int> & <int> & <int> & <int> & <dbl>\\\\\n\\hline\n\t1 & Easy     & 1950 &  2 & 3 & 960 &  1590 & 1 & 6.77778\\\\\n\t2 & King     & 1950 &  4 & 3 & 955 &  5350 & 0 & 1.38889\\\\\n\t3 & Able     & 1952 &  3 & 1 & 985 &   150 & 0 & 3.83333\\\\\n\t4 & Barbara  & 1953 &  1 & 1 & 987 &    58 & 1 & 9.83333\\\\\n\t5 & Florence & 1953 &  0 & 1 & 985 &    15 & 1 & 8.33333\\\\\n\t6 & Carol    & 1954 & 60 & 3 & 960 & 19321 & 1 & 8.11111\\\\\n\\end{tabular}\n",
            "text/plain": [
              "  name     year deaths category min_pressure damage_norm female femininity\n",
              "1 Easy     1950  2     3        960           1590       1      6.77778   \n",
              "2 King     1950  4     3        955           5350       0      1.38889   \n",
              "3 Able     1952  3     1        985            150       0      3.83333   \n",
              "4 Barbara  1953  1     1        987             58       1      9.83333   \n",
              "5 Florence 1953  0     1        985             15       1      8.33333   \n",
              "6 Carol    1954 60     3        960          19321       1      8.11111   "
            ]
          },
          "metadata": {}
        }
      ]
    },
    {
      "cell_type": "code",
      "source": [
        "dlist <- list(D = d$deaths,\n",
        "              F = d$femininity,\n",
        "              P = standardize(d$min_pressure),\n",
        "              B = standardize((d$damage_norm)))"
      ],
      "metadata": {
        "id": "2fDc486kUTEv"
      },
      "execution_count": null,
      "outputs": []
    },
    {
      "cell_type": "code",
      "source": [
        "m_B2 <- ulam(\n",
        "  alist(\n",
        "  D ~ dgampois(lambda, scale),\n",
        "   log(lambda) <- a + bF*F + bB*B + bFB*F*B,\n",
        "      a ~ dnorm(0,1),\n",
        "      bF ~ dnorm(0,1),\n",
        "      bB ~ dnorm(0,1),\n",
        "      bFB ~ dnorm(0,1),\n",
        "  scale ~ dexp(1)\n",
        "), data=dlist,\n",
        "   chains=4,\n",
        "   cores=4,\n",
        "   iter=1000,\n",
        "   log_lik=TRUE)"
      ],
      "metadata": {
        "colab": {
          "base_uri": "https://localhost:8080/"
        },
        "collapsed": true,
        "outputId": "840453a7-9f75-4fe2-993c-c66121cf4da7",
        "id": "a9oAw8_DUTEv"
      },
      "execution_count": null,
      "outputs": [
        {
          "output_type": "stream",
          "name": "stdout",
          "text": [
            "Running MCMC with 4 parallel chains, with 1 thread(s) per chain...\n",
            "\n",
            "Chain 1 Iteration:   1 / 1000 [  0%]  (Warmup) \n"
          ]
        },
        {
          "output_type": "stream",
          "name": "stderr",
          "text": [
            "Chain 1 Informational Message: The current Metropolis proposal is about to be rejected because of the following issue:\n",
            "\n",
            "Chain 1 Exception: neg_binomial_2_lpmf: Location parameter[1] is inf, but must be positive finite! (in '/tmp/Rtmp3kKPhr/model-259611c0013.stan', line 25, column 4 to column 41)\n",
            "\n",
            "Chain 1 If this warning occurs sporadically, such as for highly constrained variable types like covariance matrices, then the sampler is fine,\n",
            "\n",
            "Chain 1 but if this warning occurs often then your model may be either severely ill-conditioned or misspecified.\n",
            "\n",
            "Chain 1 \n",
            "\n",
            "Chain 1 Informational Message: The current Metropolis proposal is about to be rejected because of the following issue:\n",
            "\n",
            "Chain 1 Exception: neg_binomial_2_lpmf: Location parameter[1] is inf, but must be positive finite! (in '/tmp/Rtmp3kKPhr/model-259611c0013.stan', line 25, column 4 to column 41)\n",
            "\n",
            "Chain 1 If this warning occurs sporadically, such as for highly constrained variable types like covariance matrices, then the sampler is fine,\n",
            "\n",
            "Chain 1 but if this warning occurs often then your model may be either severely ill-conditioned or misspecified.\n",
            "\n",
            "Chain 1 \n",
            "\n",
            "Chain 1 Informational Message: The current Metropolis proposal is about to be rejected because of the following issue:\n",
            "\n",
            "Chain 1 Exception: neg_binomial_2_lpmf: Location parameter[1] is inf, but must be positive finite! (in '/tmp/Rtmp3kKPhr/model-259611c0013.stan', line 25, column 4 to column 41)\n",
            "\n",
            "Chain 1 If this warning occurs sporadically, such as for highly constrained variable types like covariance matrices, then the sampler is fine,\n",
            "\n",
            "Chain 1 but if this warning occurs often then your model may be either severely ill-conditioned or misspecified.\n",
            "\n",
            "Chain 1 \n",
            "\n",
            "Chain 1 Informational Message: The current Metropolis proposal is about to be rejected because of the following issue:\n",
            "\n",
            "Chain 1 Exception: neg_binomial_2_lpmf: Location parameter[1] is inf, but must be positive finite! (in '/tmp/Rtmp3kKPhr/model-259611c0013.stan', line 25, column 4 to column 41)\n",
            "\n",
            "Chain 1 If this warning occurs sporadically, such as for highly constrained variable types like covariance matrices, then the sampler is fine,\n",
            "\n",
            "Chain 1 but if this warning occurs often then your model may be either severely ill-conditioned or misspecified.\n",
            "\n",
            "Chain 1 \n",
            "\n",
            "Chain 1 Informational Message: The current Metropolis proposal is about to be rejected because of the following issue:\n",
            "\n",
            "Chain 1 Exception: neg_binomial_2_lpmf: Location parameter[6] is inf, but must be positive finite! (in '/tmp/Rtmp3kKPhr/model-259611c0013.stan', line 25, column 4 to column 41)\n",
            "\n",
            "Chain 1 If this warning occurs sporadically, such as for highly constrained variable types like covariance matrices, then the sampler is fine,\n",
            "\n",
            "Chain 1 but if this warning occurs often then your model may be either severely ill-conditioned or misspecified.\n",
            "\n",
            "Chain 1 \n",
            "\n",
            "Chain 1 Informational Message: The current Metropolis proposal is about to be rejected because of the following issue:\n",
            "\n",
            "Chain 1 Exception: neg_binomial_2_lpmf: Location parameter[92] is inf, but must be positive finite! (in '/tmp/Rtmp3kKPhr/model-259611c0013.stan', line 25, column 4 to column 41)\n",
            "\n",
            "Chain 1 If this warning occurs sporadically, such as for highly constrained variable types like covariance matrices, then the sampler is fine,\n",
            "\n",
            "Chain 1 but if this warning occurs often then your model may be either severely ill-conditioned or misspecified.\n",
            "\n",
            "Chain 1 \n",
            "\n",
            "Chain 1 Informational Message: The current Metropolis proposal is about to be rejected because of the following issue:\n",
            "\n",
            "Chain 1 Exception: neg_binomial_2_lpmf: Location parameter[1] is inf, but must be positive finite! (in '/tmp/Rtmp3kKPhr/model-259611c0013.stan', line 25, column 4 to column 41)\n",
            "\n",
            "Chain 1 If this warning occurs sporadically, such as for highly constrained variable types like covariance matrices, then the sampler is fine,\n",
            "\n",
            "Chain 1 but if this warning occurs often then your model may be either severely ill-conditioned or misspecified.\n",
            "\n",
            "Chain 1 \n",
            "\n",
            "Chain 1 Informational Message: The current Metropolis proposal is about to be rejected because of the following issue:\n",
            "\n",
            "Chain 1 Exception: neg_binomial_2_lpmf: Location parameter[1] is inf, but must be positive finite! (in '/tmp/Rtmp3kKPhr/model-259611c0013.stan', line 25, column 4 to column 41)\n",
            "\n",
            "Chain 1 If this warning occurs sporadically, such as for highly constrained variable types like covariance matrices, then the sampler is fine,\n",
            "\n",
            "Chain 1 but if this warning occurs often then your model may be either severely ill-conditioned or misspecified.\n",
            "\n",
            "Chain 1 \n",
            "\n"
          ]
        },
        {
          "output_type": "stream",
          "name": "stdout",
          "text": [
            "Chain 2 Iteration:   1 / 1000 [  0%]  (Warmup) \n",
            "Chain 2 Iteration: 100 / 1000 [ 10%]  (Warmup) \n"
          ]
        },
        {
          "output_type": "stream",
          "name": "stderr",
          "text": [
            "Chain 2 Informational Message: The current Metropolis proposal is about to be rejected because of the following issue:\n",
            "\n",
            "Chain 2 Exception: neg_binomial_2_lpmf: Location parameter[1] is inf, but must be positive finite! (in '/tmp/Rtmp3kKPhr/model-259611c0013.stan', line 25, column 4 to column 41)\n",
            "\n",
            "Chain 2 If this warning occurs sporadically, such as for highly constrained variable types like covariance matrices, then the sampler is fine,\n",
            "\n",
            "Chain 2 but if this warning occurs often then your model may be either severely ill-conditioned or misspecified.\n",
            "\n",
            "Chain 2 \n",
            "\n",
            "Chain 2 Informational Message: The current Metropolis proposal is about to be rejected because of the following issue:\n",
            "\n",
            "Chain 2 Exception: neg_binomial_2_lpmf: Location parameter[1] is inf, but must be positive finite! (in '/tmp/Rtmp3kKPhr/model-259611c0013.stan', line 25, column 4 to column 41)\n",
            "\n",
            "Chain 2 If this warning occurs sporadically, such as for highly constrained variable types like covariance matrices, then the sampler is fine,\n",
            "\n",
            "Chain 2 but if this warning occurs often then your model may be either severely ill-conditioned or misspecified.\n",
            "\n",
            "Chain 2 \n",
            "\n",
            "Chain 2 Informational Message: The current Metropolis proposal is about to be rejected because of the following issue:\n",
            "\n",
            "Chain 2 Exception: neg_binomial_2_lpmf: Location parameter[1] is inf, but must be positive finite! (in '/tmp/Rtmp3kKPhr/model-259611c0013.stan', line 25, column 4 to column 41)\n",
            "\n",
            "Chain 2 If this warning occurs sporadically, such as for highly constrained variable types like covariance matrices, then the sampler is fine,\n",
            "\n",
            "Chain 2 but if this warning occurs often then your model may be either severely ill-conditioned or misspecified.\n",
            "\n",
            "Chain 2 \n",
            "\n",
            "Chain 2 Informational Message: The current Metropolis proposal is about to be rejected because of the following issue:\n",
            "\n",
            "Chain 2 Exception: neg_binomial_2_lpmf: Location parameter[1] is inf, but must be positive finite! (in '/tmp/Rtmp3kKPhr/model-259611c0013.stan', line 25, column 4 to column 41)\n",
            "\n",
            "Chain 2 If this warning occurs sporadically, such as for highly constrained variable types like covariance matrices, then the sampler is fine,\n",
            "\n",
            "Chain 2 but if this warning occurs often then your model may be either severely ill-conditioned or misspecified.\n",
            "\n",
            "Chain 2 \n",
            "\n",
            "Chain 2 Informational Message: The current Metropolis proposal is about to be rejected because of the following issue:\n",
            "\n",
            "Chain 2 Exception: neg_binomial_2_lpmf: Location parameter[6] is inf, but must be positive finite! (in '/tmp/Rtmp3kKPhr/model-259611c0013.stan', line 25, column 4 to column 41)\n",
            "\n",
            "Chain 2 If this warning occurs sporadically, such as for highly constrained variable types like covariance matrices, then the sampler is fine,\n",
            "\n",
            "Chain 2 but if this warning occurs often then your model may be either severely ill-conditioned or misspecified.\n",
            "\n",
            "Chain 2 \n",
            "\n",
            "Chain 2 Informational Message: The current Metropolis proposal is about to be rejected because of the following issue:\n",
            "\n",
            "Chain 2 Exception: neg_binomial_2_lpmf: Location parameter[92] is inf, but must be positive finite! (in '/tmp/Rtmp3kKPhr/model-259611c0013.stan', line 25, column 4 to column 41)\n",
            "\n",
            "Chain 2 If this warning occurs sporadically, such as for highly constrained variable types like covariance matrices, then the sampler is fine,\n",
            "\n",
            "Chain 2 but if this warning occurs often then your model may be either severely ill-conditioned or misspecified.\n",
            "\n",
            "Chain 2 \n",
            "\n",
            "Chain 2 Informational Message: The current Metropolis proposal is about to be rejected because of the following issue:\n",
            "\n",
            "Chain 2 Exception: neg_binomial_2_lpmf: Location parameter[1] is inf, but must be positive finite! (in '/tmp/Rtmp3kKPhr/model-259611c0013.stan', line 25, column 4 to column 41)\n",
            "\n",
            "Chain 2 If this warning occurs sporadically, such as for highly constrained variable types like covariance matrices, then the sampler is fine,\n",
            "\n",
            "Chain 2 but if this warning occurs often then your model may be either severely ill-conditioned or misspecified.\n",
            "\n",
            "Chain 2 \n",
            "\n",
            "Chain 2 Informational Message: The current Metropolis proposal is about to be rejected because of the following issue:\n",
            "\n",
            "Chain 2 Exception: neg_binomial_2_lpmf: Location parameter[1] is inf, but must be positive finite! (in '/tmp/Rtmp3kKPhr/model-259611c0013.stan', line 25, column 4 to column 41)\n",
            "\n",
            "Chain 2 If this warning occurs sporadically, such as for highly constrained variable types like covariance matrices, then the sampler is fine,\n",
            "\n",
            "Chain 2 but if this warning occurs often then your model may be either severely ill-conditioned or misspecified.\n",
            "\n",
            "Chain 2 \n",
            "\n"
          ]
        },
        {
          "output_type": "stream",
          "name": "stdout",
          "text": [
            "Chain 3 Iteration:   1 / 1000 [  0%]  (Warmup) \n",
            "Chain 3 Iteration: 100 / 1000 [ 10%]  (Warmup) \n",
            "Chain 3 Iteration: 200 / 1000 [ 20%]  (Warmup) \n",
            "Chain 3 Iteration: 300 / 1000 [ 30%]  (Warmup) \n"
          ]
        },
        {
          "output_type": "stream",
          "name": "stderr",
          "text": [
            "Chain 3 Informational Message: The current Metropolis proposal is about to be rejected because of the following issue:\n",
            "\n",
            "Chain 3 Exception: neg_binomial_2_lpmf: Location parameter[1] is inf, but must be positive finite! (in '/tmp/Rtmp3kKPhr/model-259611c0013.stan', line 25, column 4 to column 41)\n",
            "\n",
            "Chain 3 If this warning occurs sporadically, such as for highly constrained variable types like covariance matrices, then the sampler is fine,\n",
            "\n",
            "Chain 3 but if this warning occurs often then your model may be either severely ill-conditioned or misspecified.\n",
            "\n",
            "Chain 3 \n",
            "\n",
            "Chain 3 Informational Message: The current Metropolis proposal is about to be rejected because of the following issue:\n",
            "\n",
            "Chain 3 Exception: neg_binomial_2_lpmf: Location parameter[1] is inf, but must be positive finite! (in '/tmp/Rtmp3kKPhr/model-259611c0013.stan', line 25, column 4 to column 41)\n",
            "\n",
            "Chain 3 If this warning occurs sporadically, such as for highly constrained variable types like covariance matrices, then the sampler is fine,\n",
            "\n",
            "Chain 3 but if this warning occurs often then your model may be either severely ill-conditioned or misspecified.\n",
            "\n",
            "Chain 3 \n",
            "\n",
            "Chain 3 Informational Message: The current Metropolis proposal is about to be rejected because of the following issue:\n",
            "\n",
            "Chain 3 Exception: neg_binomial_2_lpmf: Location parameter[1] is inf, but must be positive finite! (in '/tmp/Rtmp3kKPhr/model-259611c0013.stan', line 25, column 4 to column 41)\n",
            "\n",
            "Chain 3 If this warning occurs sporadically, such as for highly constrained variable types like covariance matrices, then the sampler is fine,\n",
            "\n",
            "Chain 3 but if this warning occurs often then your model may be either severely ill-conditioned or misspecified.\n",
            "\n",
            "Chain 3 \n",
            "\n",
            "Chain 3 Informational Message: The current Metropolis proposal is about to be rejected because of the following issue:\n",
            "\n",
            "Chain 3 Exception: neg_binomial_2_lpmf: Location parameter[4] is inf, but must be positive finite! (in '/tmp/Rtmp3kKPhr/model-259611c0013.stan', line 25, column 4 to column 41)\n",
            "\n",
            "Chain 3 If this warning occurs sporadically, such as for highly constrained variable types like covariance matrices, then the sampler is fine,\n",
            "\n",
            "Chain 3 but if this warning occurs often then your model may be either severely ill-conditioned or misspecified.\n",
            "\n",
            "Chain 3 \n",
            "\n",
            "Chain 3 Informational Message: The current Metropolis proposal is about to be rejected because of the following issue:\n",
            "\n",
            "Chain 3 Exception: neg_binomial_2_lpmf: Location parameter[1] is inf, but must be positive finite! (in '/tmp/Rtmp3kKPhr/model-259611c0013.stan', line 25, column 4 to column 41)\n",
            "\n",
            "Chain 3 If this warning occurs sporadically, such as for highly constrained variable types like covariance matrices, then the sampler is fine,\n",
            "\n",
            "Chain 3 but if this warning occurs often then your model may be either severely ill-conditioned or misspecified.\n",
            "\n",
            "Chain 3 \n",
            "\n"
          ]
        },
        {
          "output_type": "stream",
          "name": "stdout",
          "text": [
            "Chain 4 Iteration:   1 / 1000 [  0%]  (Warmup) \n",
            "Chain 4 Iteration: 100 / 1000 [ 10%]  (Warmup) \n",
            "Chain 4 Iteration: 200 / 1000 [ 20%]  (Warmup) \n",
            "Chain 4 Iteration: 300 / 1000 [ 30%]  (Warmup) \n",
            "Chain 4 Iteration: 400 / 1000 [ 40%]  (Warmup) \n"
          ]
        },
        {
          "output_type": "stream",
          "name": "stderr",
          "text": [
            "Chain 4 Informational Message: The current Metropolis proposal is about to be rejected because of the following issue:\n",
            "\n",
            "Chain 4 Exception: neg_binomial_2_lpmf: Location parameter[1] is inf, but must be positive finite! (in '/tmp/Rtmp3kKPhr/model-259611c0013.stan', line 25, column 4 to column 41)\n",
            "\n",
            "Chain 4 If this warning occurs sporadically, such as for highly constrained variable types like covariance matrices, then the sampler is fine,\n",
            "\n",
            "Chain 4 but if this warning occurs often then your model may be either severely ill-conditioned or misspecified.\n",
            "\n",
            "Chain 4 \n",
            "\n",
            "Chain 4 Informational Message: The current Metropolis proposal is about to be rejected because of the following issue:\n",
            "\n",
            "Chain 4 Exception: neg_binomial_2_lpmf: Location parameter[1] is inf, but must be positive finite! (in '/tmp/Rtmp3kKPhr/model-259611c0013.stan', line 25, column 4 to column 41)\n",
            "\n",
            "Chain 4 If this warning occurs sporadically, such as for highly constrained variable types like covariance matrices, then the sampler is fine,\n",
            "\n",
            "Chain 4 but if this warning occurs often then your model may be either severely ill-conditioned or misspecified.\n",
            "\n",
            "Chain 4 \n",
            "\n",
            "Chain 4 Informational Message: The current Metropolis proposal is about to be rejected because of the following issue:\n",
            "\n",
            "Chain 4 Exception: neg_binomial_2_lpmf: Location parameter[1] is inf, but must be positive finite! (in '/tmp/Rtmp3kKPhr/model-259611c0013.stan', line 25, column 4 to column 41)\n",
            "\n",
            "Chain 4 If this warning occurs sporadically, such as for highly constrained variable types like covariance matrices, then the sampler is fine,\n",
            "\n",
            "Chain 4 but if this warning occurs often then your model may be either severely ill-conditioned or misspecified.\n",
            "\n",
            "Chain 4 \n",
            "\n",
            "Chain 4 Informational Message: The current Metropolis proposal is about to be rejected because of the following issue:\n",
            "\n",
            "Chain 4 Exception: neg_binomial_2_lpmf: Location parameter[1] is inf, but must be positive finite! (in '/tmp/Rtmp3kKPhr/model-259611c0013.stan', line 25, column 4 to column 41)\n",
            "\n",
            "Chain 4 If this warning occurs sporadically, such as for highly constrained variable types like covariance matrices, then the sampler is fine,\n",
            "\n",
            "Chain 4 but if this warning occurs often then your model may be either severely ill-conditioned or misspecified.\n",
            "\n",
            "Chain 4 \n",
            "\n",
            "Chain 4 Informational Message: The current Metropolis proposal is about to be rejected because of the following issue:\n",
            "\n",
            "Chain 4 Exception: neg_binomial_2_lpmf: Location parameter[6] is inf, but must be positive finite! (in '/tmp/Rtmp3kKPhr/model-259611c0013.stan', line 25, column 4 to column 41)\n",
            "\n",
            "Chain 4 If this warning occurs sporadically, such as for highly constrained variable types like covariance matrices, then the sampler is fine,\n",
            "\n",
            "Chain 4 but if this warning occurs often then your model may be either severely ill-conditioned or misspecified.\n",
            "\n",
            "Chain 4 \n",
            "\n",
            "Chain 4 Informational Message: The current Metropolis proposal is about to be rejected because of the following issue:\n",
            "\n",
            "Chain 4 Exception: neg_binomial_2_lpmf: Location parameter[16] is inf, but must be positive finite! (in '/tmp/Rtmp3kKPhr/model-259611c0013.stan', line 25, column 4 to column 41)\n",
            "\n",
            "Chain 4 If this warning occurs sporadically, such as for highly constrained variable types like covariance matrices, then the sampler is fine,\n",
            "\n",
            "Chain 4 but if this warning occurs often then your model may be either severely ill-conditioned or misspecified.\n",
            "\n",
            "Chain 4 \n",
            "\n",
            "Chain 4 Informational Message: The current Metropolis proposal is about to be rejected because of the following issue:\n",
            "\n",
            "Chain 4 Exception: neg_binomial_2_lpmf: Location parameter[1] is inf, but must be positive finite! (in '/tmp/Rtmp3kKPhr/model-259611c0013.stan', line 25, column 4 to column 41)\n",
            "\n",
            "Chain 4 If this warning occurs sporadically, such as for highly constrained variable types like covariance matrices, then the sampler is fine,\n",
            "\n",
            "Chain 4 but if this warning occurs often then your model may be either severely ill-conditioned or misspecified.\n",
            "\n",
            "Chain 4 \n",
            "\n",
            "Chain 4 Informational Message: The current Metropolis proposal is about to be rejected because of the following issue:\n",
            "\n",
            "Chain 4 Exception: neg_binomial_2_lpmf: Location parameter[1] is inf, but must be positive finite! (in '/tmp/Rtmp3kKPhr/model-259611c0013.stan', line 25, column 4 to column 41)\n",
            "\n",
            "Chain 4 If this warning occurs sporadically, such as for highly constrained variable types like covariance matrices, then the sampler is fine,\n",
            "\n",
            "Chain 4 but if this warning occurs often then your model may be either severely ill-conditioned or misspecified.\n",
            "\n",
            "Chain 4 \n",
            "\n"
          ]
        },
        {
          "output_type": "stream",
          "name": "stdout",
          "text": [
            "Chain 1 Iteration: 100 / 1000 [ 10%]  (Warmup) \n",
            "Chain 1 Iteration: 200 / 1000 [ 20%]  (Warmup) \n",
            "Chain 1 Iteration: 300 / 1000 [ 30%]  (Warmup) \n",
            "Chain 1 Iteration: 400 / 1000 [ 40%]  (Warmup) \n",
            "Chain 1 Iteration: 500 / 1000 [ 50%]  (Warmup) \n",
            "Chain 1 Iteration: 501 / 1000 [ 50%]  (Sampling) \n",
            "Chain 1 Iteration: 600 / 1000 [ 60%]  (Sampling) \n",
            "Chain 1 Iteration: 700 / 1000 [ 70%]  (Sampling) \n",
            "Chain 1 Iteration: 800 / 1000 [ 80%]  (Sampling) \n",
            "Chain 1 Iteration: 900 / 1000 [ 90%]  (Sampling) \n",
            "Chain 2 Iteration: 200 / 1000 [ 20%]  (Warmup) \n",
            "Chain 2 Iteration: 300 / 1000 [ 30%]  (Warmup) \n",
            "Chain 2 Iteration: 400 / 1000 [ 40%]  (Warmup) \n",
            "Chain 2 Iteration: 500 / 1000 [ 50%]  (Warmup) \n",
            "Chain 2 Iteration: 501 / 1000 [ 50%]  (Sampling) \n",
            "Chain 2 Iteration: 600 / 1000 [ 60%]  (Sampling) \n",
            "Chain 2 Iteration: 700 / 1000 [ 70%]  (Sampling) \n",
            "Chain 3 Iteration: 400 / 1000 [ 40%]  (Warmup) \n",
            "Chain 3 Iteration: 500 / 1000 [ 50%]  (Warmup) \n",
            "Chain 3 Iteration: 501 / 1000 [ 50%]  (Sampling) \n",
            "Chain 3 Iteration: 600 / 1000 [ 60%]  (Sampling) \n",
            "Chain 3 Iteration: 700 / 1000 [ 70%]  (Sampling) \n",
            "Chain 4 Iteration: 500 / 1000 [ 50%]  (Warmup) \n",
            "Chain 4 Iteration: 501 / 1000 [ 50%]  (Sampling) \n",
            "Chain 4 Iteration: 600 / 1000 [ 60%]  (Sampling) \n",
            "Chain 4 Iteration: 700 / 1000 [ 70%]  (Sampling) \n",
            "Chain 1 Iteration: 1000 / 1000 [100%]  (Sampling) \n",
            "Chain 3 Iteration: 800 / 1000 [ 80%]  (Sampling) \n",
            "Chain 1 finished in 2.8 seconds.\n",
            "Chain 2 Iteration: 800 / 1000 [ 80%]  (Sampling) \n",
            "Chain 3 Iteration: 900 / 1000 [ 90%]  (Sampling) \n",
            "Chain 4 Iteration: 800 / 1000 [ 80%]  (Sampling) \n",
            "Chain 2 Iteration: 900 / 1000 [ 90%]  (Sampling) \n",
            "Chain 2 Iteration: 1000 / 1000 [100%]  (Sampling) \n",
            "Chain 4 Iteration: 900 / 1000 [ 90%]  (Sampling) \n",
            "Chain 2 finished in 3.0 seconds.\n",
            "Chain 3 Iteration: 1000 / 1000 [100%]  (Sampling) \n",
            "Chain 4 Iteration: 1000 / 1000 [100%]  (Sampling) \n",
            "Chain 3 finished in 3.1 seconds.\n",
            "Chain 4 finished in 3.1 seconds.\n",
            "\n",
            "All 4 chains finished successfully.\n",
            "Mean chain execution time: 3.0 seconds.\n",
            "Total execution time: 3.3 seconds.\n",
            "\n"
          ]
        }
      ]
    },
    {
      "cell_type": "code",
      "source": [
        "compare(m_B, m_B2, func=WAIC)\n",
        "compare(m_B, m_B2, func=PSIS)"
      ],
      "metadata": {
        "colab": {
          "base_uri": "https://localhost:8080/",
          "height": 339
        },
        "id": "Gc_KhefZVbPn",
        "outputId": "f0dbf05b-bd35-4d11-cc50-5587373ab834"
      },
      "execution_count": null,
      "outputs": [
        {
          "output_type": "display_data",
          "data": {
            "text/html": [
              "<table class=\"dataframe\">\n",
              "<caption>A compareIC: 2 × 6</caption>\n",
              "<thead>\n",
              "\t<tr><th></th><th scope=col>WAIC</th><th scope=col>SE</th><th scope=col>dWAIC</th><th scope=col>dSE</th><th scope=col>pWAIC</th><th scope=col>weight</th></tr>\n",
              "\t<tr><th></th><th scope=col>&lt;dbl&gt;</th><th scope=col>&lt;dbl&gt;</th><th scope=col>&lt;dbl&gt;</th><th scope=col>&lt;dbl&gt;</th><th scope=col>&lt;dbl&gt;</th><th scope=col>&lt;dbl&gt;</th></tr>\n",
              "</thead>\n",
              "<tbody>\n",
              "\t<tr><th scope=row>m_B</th><td>630.7275</td><td>30.91080</td><td> 0.00000</td><td>      NA</td><td>5.312542</td><td>1.000000e+00</td></tr>\n",
              "\t<tr><th scope=row>m_B2</th><td>671.3032</td><td>34.53705</td><td>40.57568</td><td>14.31314</td><td>7.103996</td><td>1.545622e-09</td></tr>\n",
              "</tbody>\n",
              "</table>\n"
            ],
            "text/markdown": "\nA compareIC: 2 × 6\n\n| <!--/--> | WAIC &lt;dbl&gt; | SE &lt;dbl&gt; | dWAIC &lt;dbl&gt; | dSE &lt;dbl&gt; | pWAIC &lt;dbl&gt; | weight &lt;dbl&gt; |\n|---|---|---|---|---|---|---|\n| m_B | 630.7275 | 30.91080 |  0.00000 |       NA | 5.312542 | 1.000000e+00 |\n| m_B2 | 671.3032 | 34.53705 | 40.57568 | 14.31314 | 7.103996 | 1.545622e-09 |\n\n",
            "text/latex": "A compareIC: 2 × 6\n\\begin{tabular}{r|llllll}\n  & WAIC & SE & dWAIC & dSE & pWAIC & weight\\\\\n  & <dbl> & <dbl> & <dbl> & <dbl> & <dbl> & <dbl>\\\\\n\\hline\n\tm\\_B & 630.7275 & 30.91080 &  0.00000 &       NA & 5.312542 & 1.000000e+00\\\\\n\tm\\_B2 & 671.3032 & 34.53705 & 40.57568 & 14.31314 & 7.103996 & 1.545622e-09\\\\\n\\end{tabular}\n",
            "text/plain": [
              "     WAIC     SE       dWAIC    dSE      pWAIC    weight      \n",
              "m_B  630.7275 30.91080  0.00000       NA 5.312542 1.000000e+00\n",
              "m_B2 671.3032 34.53705 40.57568 14.31314 7.103996 1.545622e-09"
            ]
          },
          "metadata": {}
        },
        {
          "output_type": "stream",
          "name": "stderr",
          "text": [
            "Some Pareto k values are high (>0.5). Set pointwise=TRUE to inspect individual points.\n",
            "\n"
          ]
        },
        {
          "output_type": "display_data",
          "data": {
            "text/html": [
              "<table class=\"dataframe\">\n",
              "<caption>A compareIC: 2 × 6</caption>\n",
              "<thead>\n",
              "\t<tr><th></th><th scope=col>PSIS</th><th scope=col>SE</th><th scope=col>dPSIS</th><th scope=col>dSE</th><th scope=col>pPSIS</th><th scope=col>weight</th></tr>\n",
              "\t<tr><th></th><th scope=col>&lt;dbl&gt;</th><th scope=col>&lt;dbl&gt;</th><th scope=col>&lt;dbl&gt;</th><th scope=col>&lt;dbl&gt;</th><th scope=col>&lt;dbl&gt;</th><th scope=col>&lt;dbl&gt;</th></tr>\n",
              "</thead>\n",
              "<tbody>\n",
              "\t<tr><th scope=row>m_B</th><td>630.9026</td><td>31.11814</td><td> 0.00000</td><td>      NA</td><td>5.400079</td><td>1.00000e+00</td></tr>\n",
              "\t<tr><th scope=row>m_B2</th><td>671.5767</td><td>34.78163</td><td>40.67414</td><td>14.34012</td><td>7.240766</td><td>1.47137e-09</td></tr>\n",
              "</tbody>\n",
              "</table>\n"
            ],
            "text/markdown": "\nA compareIC: 2 × 6\n\n| <!--/--> | PSIS &lt;dbl&gt; | SE &lt;dbl&gt; | dPSIS &lt;dbl&gt; | dSE &lt;dbl&gt; | pPSIS &lt;dbl&gt; | weight &lt;dbl&gt; |\n|---|---|---|---|---|---|---|\n| m_B | 630.9026 | 31.11814 |  0.00000 |       NA | 5.400079 | 1.00000e+00 |\n| m_B2 | 671.5767 | 34.78163 | 40.67414 | 14.34012 | 7.240766 | 1.47137e-09 |\n\n",
            "text/latex": "A compareIC: 2 × 6\n\\begin{tabular}{r|llllll}\n  & PSIS & SE & dPSIS & dSE & pPSIS & weight\\\\\n  & <dbl> & <dbl> & <dbl> & <dbl> & <dbl> & <dbl>\\\\\n\\hline\n\tm\\_B & 630.9026 & 31.11814 &  0.00000 &       NA & 5.400079 & 1.00000e+00\\\\\n\tm\\_B2 & 671.5767 & 34.78163 & 40.67414 & 14.34012 & 7.240766 & 1.47137e-09\\\\\n\\end{tabular}\n",
            "text/plain": [
              "     PSIS     SE       dPSIS    dSE      pPSIS    weight     \n",
              "m_B  630.9026 31.11814  0.00000       NA 5.400079 1.00000e+00\n",
              "m_B2 671.5767 34.78163 40.67414 14.34012 7.240766 1.47137e-09"
            ]
          },
          "metadata": {}
        }
      ]
    },
    {
      "cell_type": "markdown",
      "source": [
        "The `log(damage_norm)` model does better than the `damage_norm` model.  Let's look at the posterior predictions."
      ],
      "metadata": {
        "id": "9LkdcT4zV7AW"
      }
    },
    {
      "cell_type": "code",
      "source": [
        "F_cat1 <- 11*(1/3)\n",
        "F_cat2 <- 11*(2/3)\n",
        "F_cat3 <- 11*(3/3)\n",
        "\n",
        "B_seq <- seq(from=min(dlist$B), to=max(dlist$B), length.out=100)\n",
        "\n",
        "B_dat1 <- data.frame(F=F_cat1, B=B_seq)\n",
        "B_dat2 <- data.frame(F=F_cat2, B=B_seq)\n",
        "B_dat3 <- data.frame(F=F_cat3, B=B_seq)\n",
        "lambda_B1 <- link(m_B2, data=B_dat1)\n",
        "lambda_B2 <- link(m_B2, data=B_dat2)\n",
        "lambda_B3 <- link(m_B2, data=B_dat3)\n",
        "mean_B1 <- apply(lambda_B1, 2, mean)\n",
        "mean_B2 <- apply(lambda_B2, 2, mean)\n",
        "mean_B3 <- apply(lambda_B3, 2, mean)\n",
        "PI_B1 <- apply(lambda_B1, 2, PI)\n",
        "PI_B2 <- apply(lambda_B2, 2, PI)\n",
        "PI_B3 <- apply(lambda_B3, 2, PI)"
      ],
      "metadata": {
        "id": "ECDQ3osyWkL3"
      },
      "execution_count": null,
      "outputs": []
    },
    {
      "cell_type": "code",
      "source": [
        "color_gradient <- colorRampPalette(c(\"blue\", \"deeppink\"))\n",
        "colors <- color_gradient(length(dlist$F))[as.numeric(cut(dlist$F, breaks=length(dlist$F)))]\n",
        "\n",
        "plot(dlist$D ~ dlist$B, col=colors, pch=19, main=\"Damage\")\n",
        "lines(mean_B1 ~ B_seq, lty=1, col=\"blue\", lwd=1)\n",
        "shade(PI_B1, B_seq, col=col.alpha(\"blue\", 0.1))\n",
        "lines(mean_B2 ~ B_seq, lty=2, col=\"purple\", lwd=2)\n",
        "shade(PI_B2, B_seq, col=col.alpha(\"purple\", 0.1))\n",
        "lines(mean_B3 ~ B_seq, lty=3, col=\"deeppink\", lwd=3)\n",
        "shade(PI_B3, B_seq, col=col.alpha(\"deeppink\", 0.1))"
      ],
      "metadata": {
        "colab": {
          "base_uri": "https://localhost:8080/",
          "height": 437
        },
        "outputId": "56ac1ec8-f2f0-41a6-ae40-853e1192f8ac",
        "id": "KxxMhiPGWkL9"
      },
      "execution_count": null,
      "outputs": [
        {
          "output_type": "display_data",
          "data": {
            "text/plain": [
              "Plot with title “Damage”"
            ],
            "image/png": "[encoded data removed]"
          },
          "metadata": {
            "image/png": {
              "width": 420,
              "height": 420
            }
          }
        }
      ]
    },
    {
      "cell_type": "markdown",
      "source": [
        "Comparing this to the analagous `log(damage_norm)` model above, we can agree that the `log(damage_norm)` model does better."
      ],
      "metadata": {
        "id": "ZBxEJZ7JW5rs"
      }
    },
    {
      "cell_type": "markdown",
      "source": [
        "### 12H5\n",
        "\n",
        "One hypothesis from developmental psychology, usually attributed to Carol Gilligan, proposes that women and men have different average tendencies in moral reasoning. Like most hypotheses in social psychology, it is descriptive, not causal. The notion is that women are more concerned with care (avoiding harm), while men are more concerned with justice and rights. Evaluate this hypothesis, using the `Trolley` data, supposing that `contact` provides a proxy for physical harm. Are women more or less bothered by contact than are men, in these data? Figure out the model(s) that is needed to address this question.\n",
        "\n",
        "#### Answer\n",
        "Let's load up the data."
      ],
      "metadata": {
        "id": "522_Ql73zdzy"
      }
    },
    {
      "cell_type": "code",
      "source": [
        "data(Trolley)\n",
        "d <- Trolley\n",
        "\n",
        "str(d)"
      ],
      "metadata": {
        "colab": {
          "base_uri": "https://localhost:8080/"
        },
        "id": "9vEfspn-3BOq",
        "outputId": "ea0653db-a2d7-4d36-a5ee-5f5f6383a56b"
      },
      "execution_count": 10,
      "outputs": [
        {
          "output_type": "stream",
          "name": "stdout",
          "text": [
            "'data.frame':\t9930 obs. of  12 variables:\n",
            " $ case     : Factor w/ 30 levels \"cfaqu\",\"cfbur\",..: 1 2 3 4 5 6 7 8 9 10 ...\n",
            " $ response : int  4 3 4 3 3 3 5 4 4 4 ...\n",
            " $ order    : int  2 31 16 32 4 9 29 12 23 22 ...\n",
            " $ id       : Factor w/ 331 levels \"96;434\",\"96;445\",..: 1 1 1 1 1 1 1 1 1 1 ...\n",
            " $ age      : int  14 14 14 14 14 14 14 14 14 14 ...\n",
            " $ male     : int  0 0 0 0 0 0 0 0 0 0 ...\n",
            " $ edu      : Factor w/ 8 levels \"Bachelor's Degree\",..: 6 6 6 6 6 6 6 6 6 6 ...\n",
            " $ action   : int  0 0 0 0 0 0 1 1 1 1 ...\n",
            " $ intention: int  0 0 0 1 1 1 0 0 0 0 ...\n",
            " $ contact  : int  1 1 1 1 1 1 0 0 0 0 ...\n",
            " $ story    : Factor w/ 12 levels \"aqu\",\"boa\",\"box\",..: 1 4 8 3 4 11 1 2 3 4 ...\n",
            " $ action2  : int  1 1 1 1 1 1 1 1 1 1 ...\n"
          ]
        }
      ]
    },
    {
      "cell_type": "markdown",
      "source": [
        "Roughly speaking, we're going to make a model like $\\text{Response} = \\alpha_{\\text{Sex}} + \\alpha_{\\text{Contact}} + \\alpha_{Sex, Contact}$, where the interaction term is the estimate that will address our question: *Do males and females differ in regards to avoiding harm (contact) when assessing ethics?*\n",
        "\n",
        "In our data, `male` and `contact` are binary variables.  I want to be able to use partially-pooled estimates, so I'm going to recode these.  We can actually do this by creating a single variable."
      ],
      "metadata": {
        "id": "gWj5nSJq4fjN"
      }
    },
    {
      "cell_type": "code",
      "source": [
        "d_list <- list(R = d$response,\n",
        "               SC = d$male*2 + (d$contact + 1)) # 1 = Female, No contact; 2 = Female, Contact; 3 = Male, No contact; 4 = Male, Contact"
      ],
      "metadata": {
        "id": "aYIfDBpK_PvT"
      },
      "execution_count": 14,
      "outputs": []
    },
    {
      "cell_type": "markdown",
      "source": [
        "Our actual regression may have additional explanatory terms, depending on how we think ethical intuition/reasoning works.\n",
        "\n",
        "Since `response` is an ordered categorical variable, we need to reflect this in our"
      ],
      "metadata": {
        "id": "xqzHR0dB_QVn"
      }
    }
  ]
}